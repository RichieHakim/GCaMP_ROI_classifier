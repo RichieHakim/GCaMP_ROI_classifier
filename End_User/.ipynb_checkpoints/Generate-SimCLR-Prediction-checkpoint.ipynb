{
 "cells": [
  {
   "cell_type": "code",
   "execution_count": 1,
   "metadata": {},
   "outputs": [
    {
     "name": "stderr",
     "output_type": "stream",
     "text": [
      "C:\\Users\\Rich Hakim\\AppData\\Local\\Temp\\ipykernel_13988\\1423498497.py:1: DeprecationWarning: Importing display from IPython.core.display is deprecated since IPython 7.14, please import from IPython display\n",
      "  from IPython.core.display import display, HTML\n"
     ]
    },
    {
     "data": {
      "text/html": [
       "<style>.container { width:95% !important; }</style>"
      ],
      "text/plain": [
       "<IPython.core.display.HTML object>"
      ]
     },
     "metadata": {},
     "output_type": "display_data"
    }
   ],
   "source": [
    "from IPython.core.display import display, HTML\n",
    "display(HTML(\"<style>.container { width:95% !important; }</style>\"))\n"
   ]
  },
  {
   "cell_type": "code",
   "execution_count": 5,
   "metadata": {},
   "outputs": [
    {
     "name": "stdout",
     "output_type": "stream",
     "text": [
      "The autoreload extension is already loaded. To reload it, use:\n",
      "  %reload_ext autoreload\n"
     ]
    }
   ],
   "source": [
    "import sys\n",
    "import importlib\n",
    "from tqdm.notebook import tqdm\n",
    "import copy\n",
    "from pathlib import Path\n",
    "\n",
    "%load_ext autoreload\n",
    "%autoreload 2"
   ]
  },
  {
   "cell_type": "code",
   "execution_count": 6,
   "metadata": {},
   "outputs": [],
   "source": [
    "## TODO: avoid putting . in file names in future\n",
    "## TODO: Include GPU Option\n",
    "\n",
    "# Load modules\n",
    "# path_to_basic_neural_processing_modules = '/Users/josh/Documents/github_repos'\n",
    "# path_to_GCAMP_ROI = '/Users/josh/Documents/github_repos'\n",
    "path_to_basic_neural_processing_modules = 'D:\\RH_local\\github'\n",
    "path_to_GCAMP_ROI = 'D:\\RH_local\\github'\n",
    "sys.path.append(path_to_basic_neural_processing_modules)\n",
    "sys.path.append(path_to_GCAMP_ROI)\n",
    "sys.path.append(path_to_GCAMP_ROI+'/GCaMP_ROI_classifier/new_stuff')\n",
    "sys.path.append(path_to_GCAMP_ROI+'/GCaMP_ROI_classifier/End_User')\n",
    "sys.path.append(path_to_GCAMP_ROI+'/GCaMP_ROI_classifier/End_User/simclr-models')\n",
    "\n",
    "from basic_neural_processing_modules import *\n",
    "from simclr_helpers import *\n",
    "from util import *"
   ]
  },
  {
   "cell_type": "code",
   "execution_count": 9,
   "metadata": {},
   "outputs": [
    {
     "name": "stdout",
     "output_type": "stream",
     "text": [
      "4869 examples loaded.\n"
     ]
    },
    {
     "data": {
      "image/png": "[encoded data removed]",
      "text/plain": [
       "<Figure size 432x288 with 1 Axes>"
      ]
     },
     "metadata": {
      "needs_background": "light"
     },
     "output_type": "display_data"
    }
   ],
   "source": [
    "# Load Data\n",
    "# path_to_raw = f'./data/masks_20211202_balanced.h5' # raw data h5\n",
    "\n",
    "path_to_stat = Path(r'D:\\RH_local\\data\\scanimage data\\round 5 experiments\\mouse 2_6\\20210416\\exp\\suite2p\\plane0\\stat.npy').resolve() # raw data npy\n",
    "# path_to_y = f'./data/priya_all_rounds.npy' # raw data npy\n",
    "\n",
    "# path_to_raw = f'./data/AEG_20210913_stat.npy' # raw data npy\n",
    "# path_to_y = f'./data/ally_all_rounds.npy' # raw data npy\n",
    "\n",
    "model_name = 'ResNet18_simCLR_model_202112078_EOD_transfmod=norm' # path to pth file\n",
    "path_to_classifier = './classifier-models/logreg_model_0.01.pkl' # path to logististic classifier pickle file\n",
    "# path_to_classifier = './classifier-models/logreg_model-model=ResNet18_simCLR_model_202112078_EOD_transfmod=norm-raw_filename=AEG9_20210914_stat-c=0.1.pkl' # path to logististic classifier pickle file\n",
    "path_to_output_file = './latent-outputs/test-run-latents.pkl' # output results file\n",
    "path_to_model = './simclr-models/' + model_name + '.pth'\n",
    "# h5_keys = ['RHmasks', 'SYTmasks', 'NPmasks'] # list of keys within h5 to concatenate\n",
    "\n",
    "path_to_architecture = copy.copy(model_name) # path to .py file with architecture\n",
    "\n",
    "# if path_to_raw[-3:] == '.h5':\n",
    "#     data = load_h5(path_to_raw, h5_keys)\n",
    "# elif path_to_raw[-4:] == '.npy':\n",
    "#     data = torch.as_tensor(statFile_to_spatialFootprints(path_to_raw, out_height_width=[36,36], max_footprint_width=539))\n",
    "data = torch.as_tensor(statFile_to_spatialFootprints(path_to_stat, out_height_width=[36,36], max_footprint_width=455))\n",
    "# else:\n",
    "#     raise ValueError('Data type not supported!')\n",
    "\n",
    "# if path_to_raw[-4:] == '.npy':\n",
    "#     labels = np.load(path_to_y).astype(int)\n",
    "#     labels = np.where(labels==42, np.ones_like(labels)*2, labels) - 1\n",
    "#     labels = labels[:, -2] # Use the second to last labeling column as the one to match\n",
    "# else:\n",
    "#     raise ValueError('Response y type not supported!')\n",
    "\n",
    "data = drop_nan_imgs(data)\n",
    "print(data.shape[0], 'examples loaded.')\n"
   ]
  },
  {
   "cell_type": "code",
   "execution_count": 10,
   "metadata": {},
   "outputs": [],
   "source": [
    "# data = data[:2048]\n",
    "# data = data[:data.shape[0]//100]\n"
   ]
  },
  {
   "cell_type": "code",
   "execution_count": 11,
   "metadata": {},
   "outputs": [
    {
     "name": "stderr",
     "output_type": "stream",
     "text": [
      "Downloading: \"https://download.pytorch.org/models/resnet18-f37072fd.pth\" to C:\\Users\\Rich Hakim/.cache\\torch\\hub\\checkpoints\\resnet18-f37072fd.pth\n"
     ]
    },
    {
     "data": {
      "application/vnd.jupyter.widget-view+json": {
       "model_id": "1bbdea2fb71b4671b55a088e0befa05c",
       "version_major": 2,
       "version_minor": 0
      },
      "text/plain": [
       "  0%|          | 0.00/44.7M [00:00<?, ?B/s]"
      ]
     },
     "metadata": {},
     "output_type": "display_data"
    }
   ],
   "source": [
    "# Instantiate Model\n",
    "model_file = importlib.import_module(path_to_architecture)\n",
    "model = model_file.get_model(path_to_model)\n",
    "model.eval();\n"
   ]
  },
  {
   "cell_type": "code",
   "execution_count": 12,
   "metadata": {},
   "outputs": [],
   "source": [
    "# Create Data Sets / Data Loaders\n",
    "dataset, dataloader = model_file.get_dataset_dataloader(data) ## TODO: Troubleshoot the runtime on this"
   ]
  },
  {
   "cell_type": "code",
   "execution_count": 13,
   "metadata": {},
   "outputs": [
    {
     "data": {
      "application/vnd.jupyter.widget-view+json": {
       "model_id": "eb7753d4ba2c48b3ab4977c30ef94061",
       "version_major": 2,
       "version_minor": 0
      },
      "text/plain": [
       "  0%|          | 0/39 [00:00<?, ?it/s]"
      ]
     },
     "metadata": {},
     "output_type": "display_data"
    }
   ],
   "source": [
    "# Get Model Latents\n",
    "latents = dataloader_to_latents(dataloader, model).numpy()"
   ]
  },
  {
   "cell_type": "code",
   "execution_count": 8,
   "metadata": {},
   "outputs": [],
   "source": [
    "latents2 = latents.copy()"
   ]
  },
  {
   "cell_type": "code",
   "execution_count": 14,
   "metadata": {},
   "outputs": [
    {
     "name": "stderr",
     "output_type": "stream",
     "text": [
      "C:\\Users\\Rich Hakim\\.conda\\envs\\BMI_IDAP\\lib\\site-packages\\sklearn\\base.py:329: UserWarning: Trying to unpickle estimator LogisticRegression from version 0.23.2 when using version 1.0.2. This might lead to breaking code or invalid results. Use at your own risk. For more info please refer to:\n",
      "https://scikit-learn.org/stable/modules/model_persistence.html#security-maintainability-limitations\n",
      "  warnings.warn(\n"
     ]
    }
   ],
   "source": [
    "# Load Logistic Model\n",
    "classifier_model = load_classifier_model(path_to_classifier)"
   ]
  },
  {
   "cell_type": "code",
   "execution_count": 15,
   "metadata": {},
   "outputs": [],
   "source": [
    "# Predict ROIs — Save to File\n",
    "preds = classifier_model.predict_proba(latents)\n",
    "ret = get_returns(latents, classifier_model, path_to_model, path_to_classifier)\n",
    "# pickle_helpers.simple_save(ret, path_to_output_file)"
   ]
  },
  {
   "cell_type": "code",
   "execution_count": 19,
   "metadata": {},
   "outputs": [
    {
     "data": {
      "text/plain": [
       "(4869,)"
      ]
     },
     "execution_count": 19,
     "metadata": {},
     "output_type": "execute_result"
    }
   ],
   "source": [
    "ret['preds'].shape"
   ]
  }
 ],
 "metadata": {
  "kernelspec": {
   "display_name": "Python 3 (ipykernel)",
   "language": "python",
   "name": "python3"
  },
  "language_info": {
   "codemirror_mode": {
    "name": "ipython",
    "version": 3
   },
   "file_extension": ".py",
   "mimetype": "text/x-python",
   "name": "python",
   "nbconvert_exporter": "python",
   "pygments_lexer": "ipython3",
   "version": "3.8.12"
  }
 },
 "nbformat": 4,
 "nbformat_minor": 4
}
