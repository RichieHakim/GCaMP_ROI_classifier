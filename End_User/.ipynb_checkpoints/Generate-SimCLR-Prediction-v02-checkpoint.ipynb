{
 "cells": [
  {
   "cell_type": "code",
   "execution_count": 29,
   "metadata": {},
   "outputs": [
    {
     "data": {
      "text/html": [
       "<style>.container { width:95% !important; }</style>"
      ],
      "text/plain": [
       "<IPython.core.display.HTML object>"
      ]
     },
     "metadata": {},
     "output_type": "display_data"
    }
   ],
   "source": [
    "from IPython.core.display import display, HTML\n",
    "display(HTML(\"<style>.container { width:95% !important; }</style>\"))\n"
   ]
  },
  {
   "cell_type": "code",
   "execution_count": 30,
   "metadata": {},
   "outputs": [
    {
     "name": "stdout",
     "output_type": "stream",
     "text": [
      "The autoreload extension is already loaded. To reload it, use:\n",
      "  %reload_ext autoreload\n"
     ]
    }
   ],
   "source": [
    "import importlib\n",
    "from tqdm.notebook import tqdm\n",
    "from simclr_helpers import *\n",
    "import copy\n",
    "\n",
    "%load_ext autoreload\n",
    "%autoreload 2\n"
   ]
  },
  {
   "cell_type": "code",
   "execution_count": 31,
   "metadata": {},
   "outputs": [
    {
     "name": "stdout",
     "output_type": "stream",
     "text": [
      "494005 examples loaded.\n"
     ]
    }
   ],
   "source": [
    "## TODO: avoid putting . in file names in future\n",
    "## TODO: Include GPU Option\n",
    "\n",
    "# Load Data\n",
    "path_to_h5 = f'./masks_20211202_balanced.h5' # raw data h5\n",
    "model_name = 'ResNet18_simCLR_model_202112078_EOD_transfmod=norm' # path to pth file\n",
    "path_to_classifier = './logreg_model_0.01.pkl' # path to logististic classifier pickle file\n",
    "path_to_output_file = './output_file_2.pkl' # output results file\n",
    "path_to_model = model_name + '.pth'\n",
    "path_to_architecture = copy.copy(model_name) # path to .py file with architecture\n",
    "\n",
    "# h5_keys = ['RHmasks'] # list of keys within h5 to concatenate\n",
    "h5_keys = ['SYTmasks', 'NPmasks']\n",
    "\n",
    "data = load_h5(path_to_h5, h5_keys)\n",
    "data = drop_nan_imgs(data)\n",
    "print(data.shape[0], 'examples loaded.')\n"
   ]
  },
  {
   "cell_type": "code",
   "execution_count": 32,
   "metadata": {},
   "outputs": [],
   "source": [
    "# data = data[:2048]\n",
    "# data = data[:data.shape[0]//100]\n"
   ]
  },
  {
   "cell_type": "code",
   "execution_count": 33,
   "metadata": {},
   "outputs": [],
   "source": [
    "# Instantiate Model\n",
    "model_file = importlib.import_module(path_to_architecture)\n",
    "model = model_file.get_model(path_to_model)\n",
    "model.eval();\n"
   ]
  },
  {
   "cell_type": "code",
   "execution_count": 34,
   "metadata": {},
   "outputs": [],
   "source": [
    "# Create Data Sets / Data Loaders\n",
    "dataset, dataloader = model_file.get_dataset_dataloader(data) ## TODO: Troubleshoot the runtime on this\n"
   ]
  },
  {
   "cell_type": "code",
   "execution_count": null,
   "metadata": {},
   "outputs": [
    {
     "data": {
      "application/vnd.jupyter.widget-view+json": {
       "model_id": "6b16e323f73847e9a7eed6e59170e98f",
       "version_major": 2,
       "version_minor": 0
      },
      "text/plain": [
       "HBox(children=(HTML(value=''), FloatProgress(value=0.0, max=3860.0), HTML(value='')))"
      ]
     },
     "metadata": {},
     "output_type": "display_data"
    }
   ],
   "source": [
    "# Get Model Latents\n",
    "latents = dataloader_to_latents(dataloader, model).numpy()\n"
   ]
  },
  {
   "cell_type": "code",
   "execution_count": null,
   "metadata": {},
   "outputs": [],
   "source": [
    "latents2 = latents.copy()"
   ]
  },
  {
   "cell_type": "code",
   "execution_count": null,
   "metadata": {},
   "outputs": [],
   "source": [
    "# Load Logistic Model\n",
    "classifier_model = load_classifier_model(path_to_classifier)\n"
   ]
  },
  {
   "cell_type": "code",
   "execution_count": null,
   "metadata": {},
   "outputs": [],
   "source": [
    "# Predict ROIs — Save to File\n",
    "preds = classifier_model.predict_proba(latents)\n",
    "ret = get_returns(latents, classifier_model, path_to_model, path_to_classifier)\n",
    "pickle_helpers.simple_save(ret, path_to_output_file)\n"
   ]
  },
  {
   "cell_type": "code",
   "execution_count": null,
   "metadata": {},
   "outputs": [],
   "source": [
    "latents1\n",
    "latents2\n",
    "latents3"
   ]
  },
  {
   "cell_type": "code",
   "execution_count": 27,
   "metadata": {},
   "outputs": [],
   "source": [
    "ret1 = pickle_helpers.simple_load('./output_file_1.pkl')\n",
    "ret2 = pickle_helpers.simple_load('./output_file_2.pkl')\n",
    "ret3 = pickle_helpers.simple_load('./output_file_3.pkl')"
   ]
  },
  {
   "cell_type": "code",
   "execution_count": null,
   "metadata": {},
   "outputs": [],
   "source": []
  },
  {
   "cell_type": "code",
   "execution_count": null,
   "metadata": {},
   "outputs": [],
   "source": []
  }
 ],
 "metadata": {
  "kernelspec": {
   "display_name": "Python 3",
   "language": "python",
   "name": "python3"
  },
  "language_info": {
   "codemirror_mode": {
    "name": "ipython",
    "version": 3
   },
   "file_extension": ".py",
   "mimetype": "text/x-python",
   "name": "python",
   "nbconvert_exporter": "python",
   "pygments_lexer": "ipython3",
   "version": "3.8.5"
  }
 },
 "nbformat": 4,
 "nbformat_minor": 4
}
