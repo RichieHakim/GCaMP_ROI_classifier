{
 "cells": [
  {
   "cell_type": "code",
   "execution_count": 1,
   "metadata": {},
   "outputs": [
    {
     "data": {
      "text/html": [
       "<style>.container { width:95% !important; }</style>"
      ],
      "text/plain": [
       "<IPython.core.display.HTML object>"
      ]
     },
     "metadata": {},
     "output_type": "display_data"
    }
   ],
   "source": [
    "from IPython.core.display import display, HTML\n",
    "display(HTML(\"<style>.container { width:95% !important; }</style>\"))\n"
   ]
  },
  {
   "cell_type": "code",
   "execution_count": 2,
   "metadata": {},
   "outputs": [],
   "source": [
    "import sys\n",
    "import importlib\n",
    "from tqdm.notebook import tqdm\n",
    "import copy\n",
    "\n",
    "%load_ext autoreload\n",
    "%autoreload 2"
   ]
  },
  {
   "cell_type": "code",
   "execution_count": 3,
   "metadata": {},
   "outputs": [
    {
     "name": "stdout",
     "output_type": "stream",
     "text": [
      "40353 examples loaded.\n"
     ]
    }
   ],
   "source": [
    "## TODO: avoid putting . in file names in future\n",
    "## TODO: Include GPU Option\n",
    "\n",
    "# Load modules\n",
    "path_to_basic_neural_processing_modules = '/Users/josh/Documents/github_repos'\n",
    "path_to_GCAMP_ROI = '/Users/josh/Documents/github_repos'\n",
    "sys.path.append(path_to_basic_neural_processing_modules)\n",
    "sys.path.append(path_to_GCAMP_ROI)\n",
    "\n",
    "from simclr_helpers import *\n",
    "\n",
    "# Load Data\n",
    "path_to_h5 = f'./data/masks_20211202_balanced.h5' # raw data h5\n",
    "model_name = 'ResNet18_simCLR_model_202112078_EOD_transfmod=norm' # path to pth file\n",
    "path_to_classifier = './classifier-models/logreg_model_0.01.pkl' # path to logististic classifier pickle file\n",
    "path_to_output_file = './latent-outputs/test-run-latents.pkl' # output results file\n",
    "path_to_model = './simclr-models/' + model_name + '.pth'\n",
    "h5_keys = ['RHmasks', 'SYTmasks', 'NPmasks'] # list of keys within h5 to concatenate\n",
    "\n",
    "path_to_architecture = copy.copy(model_name) # path to .py file with architecture\n",
    "\n",
    "data = load_h5(path_to_h5, h5_keys)\n",
    "data = drop_nan_imgs(data)\n",
    "print(data.shape[0], 'examples loaded.')\n"
   ]
  },
  {
   "cell_type": "code",
   "execution_count": 4,
   "metadata": {},
   "outputs": [],
   "source": [
    "# data = data[:2048]\n",
    "# data = data[:data.shape[0]//100]\n"
   ]
  },
  {
   "cell_type": "code",
   "execution_count": 5,
   "metadata": {},
   "outputs": [],
   "source": [
    "# Instantiate Model\n",
    "model_file = importlib.import_module(path_to_architecture)\n",
    "model = model_file.get_model(path_to_model)\n",
    "model.eval();\n"
   ]
  },
  {
   "cell_type": "code",
   "execution_count": 8,
   "metadata": {},
   "outputs": [],
   "source": [
    "# Create Data Sets / Data Loaders\n",
    "dataset, dataloader = model_file.get_dataset_dataloader(data) ## TODO: Troubleshoot the runtime on this"
   ]
  },
  {
   "cell_type": "code",
   "execution_count": 9,
   "metadata": {},
   "outputs": [
    {
     "data": {
      "application/vnd.jupyter.widget-view+json": {
       "model_id": "3cc96f3245f74e81bf7329cabdebf91d",
       "version_major": 2,
       "version_minor": 0
      },
      "text/plain": [
       "HBox(children=(HTML(value=''), FloatProgress(value=0.0, max=2.0), HTML(value='')))"
      ]
     },
     "metadata": {},
     "output_type": "display_data"
    },
    {
     "name": "stdout",
     "output_type": "stream",
     "text": [
      "\n"
     ]
    }
   ],
   "source": [
    "# Get Model Latents\n",
    "latents = dataloader_to_latents(dataloader, model).numpy()"
   ]
  },
  {
   "cell_type": "code",
   "execution_count": 10,
   "metadata": {},
   "outputs": [],
   "source": [
    "latents2 = latents.copy()"
   ]
  },
  {
   "cell_type": "code",
   "execution_count": 11,
   "metadata": {},
   "outputs": [],
   "source": [
    "# Load Logistic Model\n",
    "classifier_model = load_classifier_model(path_to_classifier)"
   ]
  },
  {
   "cell_type": "code",
   "execution_count": 12,
   "metadata": {},
   "outputs": [],
   "source": [
    "# Predict ROIs — Save to File\n",
    "preds = classifier_model.predict_proba(latents)\n",
    "ret = get_returns(latents, classifier_model, path_to_model, path_to_classifier)\n",
    "pickle_helpers.simple_save(ret, path_to_output_file)\n"
   ]
  }
 ],
 "metadata": {
  "kernelspec": {
   "display_name": "Python 3",
   "language": "python",
   "name": "python3"
  },
  "language_info": {
   "codemirror_mode": {
    "name": "ipython",
    "version": 3
   },
   "file_extension": ".py",
   "mimetype": "text/x-python",
   "name": "python",
   "nbconvert_exporter": "python",
   "pygments_lexer": "ipython3",
   "version": "3.8.5"
  }
 },
 "nbformat": 4,
 "nbformat_minor": 4
}
