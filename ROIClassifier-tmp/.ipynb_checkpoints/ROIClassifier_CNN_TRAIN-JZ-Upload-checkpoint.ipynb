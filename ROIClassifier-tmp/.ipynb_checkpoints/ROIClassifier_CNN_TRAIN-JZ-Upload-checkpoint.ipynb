{
 "cells": [
  {
   "cell_type": "code",
   "execution_count": 1,
   "metadata": {
    "scrolled": true
   },
   "outputs": [],
   "source": [
    "from IPython.core.display import display, HTML\n",
    "display(HTML(\"<style>.container { width:90% !important; }</style>\"))"
   ]
  },
  {
   "cell_type": "code",
   "execution_count": 2,
   "metadata": {},
   "outputs": [],
   "source": [
    "import sys\n",
    "import copy\n",
    "\n",
    "import numpy as np\n",
    "import matplotlib.pyplot as plt\n",
    "import scipy\n",
    "from scipy.io import savemat\n",
    "import scipy.signal\n",
    "\n",
    "import torch\n",
    "import torchvision\n",
    "import torchvision.transforms as transforms\n",
    "\n",
    "import os\n",
    "\n",
    "# for reading and displaying images\n",
    "from skimage.io import imread\n",
    "# for creating validation set\n",
    "from sklearn.model_selection import train_test_split\n",
    "# for evaluating the model\n",
    "from sklearn.metrics import accuracy_score\n",
    "\n",
    "import pathlib\n",
    "from imgaug import augmenters as iaa\n",
    "\n",
    "\n",
    "%matplotlib notebook\n",
    "%matplotlib notebook\n",
    "%matplotlib inline\n",
    "# %matplotlib qt"
   ]
  },
  {
   "cell_type": "code",
   "execution_count": null,
   "metadata": {},
   "outputs": [],
   "source": []
  },
  {
   "cell_type": "code",
   "execution_count": 3,
   "metadata": {},
   "outputs": [],
   "source": [
    "# torch.cuda.current_device()"
   ]
  },
  {
   "cell_type": "code",
   "execution_count": 4,
   "metadata": {
    "scrolled": true
   },
   "outputs": [],
   "source": [
    "# torch.cuda.get_device_name(0)"
   ]
  },
  {
   "cell_type": "code",
   "execution_count": 5,
   "metadata": {},
   "outputs": [],
   "source": [
    "dup_num = 1"
   ]
  },
  {
   "cell_type": "markdown",
   "metadata": {},
   "source": [
    "Load and preprocess stat file and labels  \n",
    "Labels must be made in the 'ROI_labeling_and_augmentation' script and the relabeling script  \n",
    "## outputs: 'images' and 'labels' (both input into CNN)\n"
   ]
  },
  {
   "cell_type": "code",
   "execution_count": 6,
   "metadata": {},
   "outputs": [],
   "source": [
    "def load_npy(base_dir='label_data', subpath='mouse 6_28 _ day 20200903', lbl=''):\n",
    "    \n",
    "    # dir_load = '\\\\\\\\research.files.med.harvard.edu\\\\Neurobio\\\\MICROSCOPE\\\\Rich\\\\data\\\\res2p\\\\scanimage data\\\\round 4 experiments\\\\mouse 6.28\\\\20200815\\\\suite2p\\\\plane0\\\\'\n",
    "    fileName_load = 'stat.npy'\n",
    "\n",
    "    PATH_absolute = pathlib.Path('.').absolute()\n",
    "    \n",
    "    PATH_load_dir_statFile = f'{PATH_absolute}/{base_dir}/{subpath}/'\n",
    "    # PATH_load_dir_statFile = '/media/rich/Home_Linux_partition/GoogleDrive_ocaml_cache/Research/Sabatini Lab Stuff - working/Code/PYTHON/ROI_Classifiers/test data_mouse6_28 _ 20200815/'\n",
    "    print(f'PATH:   {PATH_load_dir_statFile}{fileName_load}')\n",
    "    print('')\n",
    "\n",
    "    stat = np.load(f'{PATH_load_dir_statFile}{fileName_load}', allow_pickle=True)\n",
    "    print('stat file loaded')\n",
    "    print('')\n",
    "\n",
    "    num_ROI = stat.shape[0]\n",
    "    print(f'Number of ROIs: {num_ROI}')\n",
    "\n",
    "    height = 512\n",
    "    width = 1024\n",
    "    spatial_footprints_centered = np.zeros((num_ROI, 241,241))\n",
    "    for i in range(num_ROI):\n",
    "        spatial_footprints_centered[i , stat[i]['ypix'] - np.int16(stat[i]['med'][0]) + 120, stat[i]['xpix'] - np.int16(stat[i]['med'][1]) + 120] = stat[i]['lam'] # this is formatted for coding ease (dim1: y pix) (dim2: x pix) (dim3: ROI#)\n",
    "    spatial_footprints_centered_crop = spatial_footprints_centered[:, 102:138 , 102:138]\n",
    "\n",
    "    # %matplotlib inline\n",
    "    plt.figure()\n",
    "    plt.imshow(np.max(spatial_footprints_centered_crop , axis=0) ** 0.2);\n",
    "    plt.title(f'spatial_footprints_centered_crop{lbl} MIP^0.2');\n",
    "\n",
    "    images = spatial_footprints_centered_crop\n",
    "    return spatial_footprints_centered_crop"
   ]
  },
  {
   "cell_type": "code",
   "execution_count": null,
   "metadata": {},
   "outputs": [],
   "source": []
  },
  {
   "cell_type": "code",
   "execution_count": 7,
   "metadata": {},
   "outputs": [
    {
     "name": "stdout",
     "output_type": "stream",
     "text": [
      "PATH:   /Users/josh/Documents/Harvard/GCaMP_ROI_classifier/ROIClassifier-tmp/../../label_data/mouse 6_28 _ day 20200903/stat.npy\n",
      "\n",
      "stat file loaded\n",
      "\n",
      "Number of ROIs: 4868\n"
     ]
    },
    {
     "data": {
      "image/png": "[encoded data removed]",
      "text/plain": [
       "<Figure size 432x288 with 1 Axes>"
      ]
     },
     "metadata": {
      "needs_background": "light"
     },
     "output_type": "display_data"
    }
   ],
   "source": [
    "# LOAD stat.npy file 1\n",
    "#___________________\n",
    "\n",
    "\n",
    "spatial_footprints_centered_crop = load_npy(base_dir='../../label_data', subpath='mouse 6_28 _ day 20200903')\n",
    "images = spatial_footprints_centered_crop\n"
   ]
  },
  {
   "cell_type": "code",
   "execution_count": 8,
   "metadata": {},
   "outputs": [
    {
     "name": "stdout",
     "output_type": "stream",
     "text": [
      "PATH:   /Users/josh/Documents/Harvard/GCaMP_ROI_classifier/ROIClassifier-tmp/../../label_data/mouse6_28 _ day20200815/stat.npy\n",
      "\n",
      "stat file loaded\n",
      "\n",
      "Number of ROIs: 4847\n"
     ]
    },
    {
     "data": {
      "image/png": "[encoded data removed]",
      "text/plain": [
       "<Figure size 432x288 with 1 Axes>"
      ]
     },
     "metadata": {
      "needs_background": "light"
     },
     "output_type": "display_data"
    }
   ],
   "source": [
    "# # LOAD stat.npy file 2\n",
    "# #___________________\n",
    "\n",
    "\n",
    "spatial_footprints_centered_crop2 = load_npy(base_dir='../../label_data',\n",
    "                                             subpath='mouse6_28 _ day20200815',\n",
    "                                             lbl='2'\n",
    "                                            )\n",
    "images2 = spatial_footprints_centered_crop2\n"
   ]
  },
  {
   "cell_type": "code",
   "execution_count": 9,
   "metadata": {},
   "outputs": [
    {
     "name": "stdout",
     "output_type": "stream",
     "text": [
      "PATH:   /Users/josh/Documents/Harvard/GCaMP_ROI_classifier/ROIClassifier-tmp/../../label_data/mouseUnknownAi148__20210325/stat.npy\n",
      "\n",
      "stat file loaded\n",
      "\n",
      "Number of ROIs: 4893\n"
     ]
    },
    {
     "data": {
      "image/png": "[encoded data removed]",
      "text/plain": [
       "<Figure size 432x288 with 1 Axes>"
      ]
     },
     "metadata": {
      "needs_background": "light"
     },
     "output_type": "display_data"
    }
   ],
   "source": [
    "spatial_footprints_centered_crop3 = load_npy(base_dir='../../label_data',\n",
    "                                             subpath='mouseUnknownAi148__20210325',\n",
    "                                             lbl='3')\n",
    "images3 = spatial_footprints_centered_crop3\n"
   ]
  },
  {
   "cell_type": "code",
   "execution_count": 10,
   "metadata": {},
   "outputs": [
    {
     "name": "stdout",
     "output_type": "stream",
     "text": [
      "PATH:   /Users/josh/Documents/Harvard/GCaMP_ROI_classifier/ROIClassifier-tmp/../../label_data/mouse2_6__20210409/stat.npy\n",
      "\n",
      "stat file loaded\n",
      "\n",
      "Number of ROIs: 4898\n"
     ]
    },
    {
     "data": {
      "image/png": "[encoded data removed]",
      "text/plain": [
       "<Figure size 432x288 with 1 Axes>"
      ]
     },
     "metadata": {
      "needs_background": "light"
     },
     "output_type": "display_data"
    }
   ],
   "source": [
    "spatial_footprints_centered_crop4 = load_npy(base_dir='../../label_data',\n",
    "                                             subpath='mouse2_6__20210409',\n",
    "                                             lbl='4')\n",
    "images4 = spatial_footprints_centered_crop4\n"
   ]
  },
  {
   "cell_type": "code",
   "execution_count": 11,
   "metadata": {},
   "outputs": [],
   "source": [
    "images1 = spatial_footprints_centered_crop\n",
    "images2 = spatial_footprints_centered_crop2\n"
   ]
  },
  {
   "cell_type": "code",
   "execution_count": null,
   "metadata": {},
   "outputs": [],
   "source": []
  },
  {
   "cell_type": "code",
   "execution_count": 12,
   "metadata": {},
   "outputs": [],
   "source": [
    "def load_labels(base_dir='../../label_data',\n",
    "                 subpath='mouse 6_28 _ day 20200903',\n",
    "                 fileName_load='labels_posthoc_filledIn_allCells.npy',\n",
    "                 num_labels=6):\n",
    "    \n",
    "    PATH_absolute = pathlib.Path('.').absolute()\n",
    "    \n",
    "    PATH_load_dir_statFile = f'{PATH_absolute}/{base_dir}/{subpath}/'\n",
    "    \n",
    "    print(f'PATH:   {PATH_load_dir_statFile}{fileName_load}')\n",
    "    print('')\n",
    "\n",
    "    labels1 = np.load(f'{PATH_load_dir_statFile}{fileName_load}')\n",
    "    print('labels file loaded')\n",
    "    print('')\n",
    "\n",
    "\n",
    "    plt.figure()\n",
    "    # plt.hist(labels,20);\n",
    "    plt.hist(labels1,20);\n",
    "\n",
    "\n",
    "    #check in number of labels matches number of images\n",
    "    if images.shape[0] == len(labels1):\n",
    "        print('number of labels and images match')\n",
    "    else:\n",
    "        print('WARNING: number of labels and images DO NOT match')\n",
    "    \n",
    "    return labels1"
   ]
  },
  {
   "cell_type": "code",
   "execution_count": 13,
   "metadata": {},
   "outputs": [
    {
     "name": "stdout",
     "output_type": "stream",
     "text": [
      "PATH:   /Users/josh/Documents/Harvard/GCaMP_ROI_classifier/ROIClassifier-tmp/../../label_data/mouse 6_28 _ day 20200903/labels_posthoc_filledIn_allCells.npy\n",
      "\n",
      "labels file loaded\n",
      "\n",
      "number of labels and images match\n"
     ]
    },
    {
     "data": {
      "image/png": "[encoded data removed]",
      "text/plain": [
       "<Figure size 432x288 with 1 Axes>"
      ]
     },
     "metadata": {
      "needs_background": "light"
     },
     "output_type": "display_data"
    }
   ],
   "source": [
    "# # LOAD labels file 1\n",
    "# #___________________\n",
    "\n",
    "# num_labels = 6\n",
    "\n",
    "# PATH_absolute = pathlib.Path('.').absolute()\n",
    "# PATH_load_dir_statFile = f'{PATH_absolute}/label data/mouse 6_28 _ day 20200903/'\n",
    "# fileName_load = 'labels_posthoc_filledIn_allCells.npy'\n",
    "# print(f'PATH:   {PATH_load_dir_statFile}{fileName_load}')\n",
    "# print('')\n",
    "\n",
    "# labels1 = np.load(f'{PATH_load_dir_statFile}{fileName_load}')\n",
    "# print('labels file loaded')\n",
    "# print('')\n",
    "\n",
    "\n",
    "# plt.figure()\n",
    "# # plt.hist(labels,20);\n",
    "# plt.hist(labels1,20);\n",
    "\n",
    "\n",
    "# #check in number of labels matches number of images\n",
    "# if images.shape[0] == len(labels1):\n",
    "#     print('number of labels and images match')\n",
    "# else:\n",
    "#     print('WARNING: number of labels and images DO NOT match')\n",
    "\n",
    "\n",
    "labels1 = load_labels(base_dir='../../label_data',\n",
    "            subpath='mouse 6_28 _ day 20200903',\n",
    "            fileName_load='labels_posthoc_filledIn_allCells.npy',\n",
    "            num_labels=6)"
   ]
  },
  {
   "cell_type": "code",
   "execution_count": 14,
   "metadata": {},
   "outputs": [
    {
     "data": {
      "text/plain": [
       "((4868, 36, 36), (4868,))"
      ]
     },
     "execution_count": 14,
     "metadata": {},
     "output_type": "execute_result"
    }
   ],
   "source": [
    "images.shape, labels1.shape"
   ]
  },
  {
   "cell_type": "code",
   "execution_count": 15,
   "metadata": {},
   "outputs": [
    {
     "name": "stdout",
     "output_type": "stream",
     "text": [
      "PATH:   /Users/josh/Documents/Harvard/GCaMP_ROI_classifier/ROIClassifier-tmp/../../label_data/mouse6_28 _ day20200815/labels_posthoc_all.npy\n",
      "\n",
      "labels file loaded\n",
      "\n",
      "WARNING: number of labels and images DO NOT match\n"
     ]
    },
    {
     "data": {
      "image/png": "[encoded data removed]",
      "text/plain": [
       "<Figure size 432x288 with 1 Axes>"
      ]
     },
     "metadata": {
      "needs_background": "light"
     },
     "output_type": "display_data"
    }
   ],
   "source": [
    "# # LOAD labels file 2\n",
    "# #___________________\n",
    "\n",
    "# num_labels = 6\n",
    "\n",
    "# PATH_absolute = pathlib.Path('.').absolute()\n",
    "# PATH_load_dir_statFile = f'{PATH_absolute}/label data/mouse6_28 _ day20200815/'\n",
    "# fileName_load = 'labels_posthoc_all.npy'\n",
    "# print(f'PATH:   {PATH_load_dir_statFile}{fileName_load}')\n",
    "# print('')\n",
    "\n",
    "# labels2 = np.load(f'{PATH_load_dir_statFile}{fileName_load}')\n",
    "# print('labels file loaded')\n",
    "# print('')\n",
    "\n",
    "\n",
    "# plt.figure()\n",
    "# # plt.hist(labels,20);\n",
    "# plt.hist(labels2,20);\n",
    "\n",
    "\n",
    "# #check in number of labels matches number of images\n",
    "# if images.shape[0] == len(labels2):\n",
    "#     print('number of labels and images match')\n",
    "# else:\n",
    "#     print('WARNING: number of labels and images DO NOT match')\n",
    "    \n",
    "    \n",
    "    \n",
    "labels2 = load_labels(base_dir='../../label_data',\n",
    "            subpath='mouse6_28 _ day20200815',\n",
    "            fileName_load='labels_posthoc_all.npy',\n",
    "            num_labels=6)"
   ]
  },
  {
   "cell_type": "code",
   "execution_count": 16,
   "metadata": {},
   "outputs": [
    {
     "name": "stdout",
     "output_type": "stream",
     "text": [
      "PATH:   /Users/josh/Documents/Harvard/GCaMP_ROI_classifier/ROIClassifier-tmp/../../label_data/mouseUnknownAi148__20210325/labels_posthoc_mouseUnknownAi148__20210325.npy\n",
      "\n",
      "labels file loaded\n",
      "\n",
      "WARNING: number of labels and images DO NOT match\n"
     ]
    },
    {
     "data": {
      "image/png": "[encoded data removed]",
      "text/plain": [
       "<Figure size 432x288 with 1 Axes>"
      ]
     },
     "metadata": {
      "needs_background": "light"
     },
     "output_type": "display_data"
    }
   ],
   "source": [
    "labels3 = load_labels(base_dir='../../label_data',\n",
    "            subpath='mouseUnknownAi148__20210325',\n",
    "            fileName_load='labels_posthoc_mouseUnknownAi148__20210325.npy',\n",
    "            num_labels=6)"
   ]
  },
  {
   "cell_type": "code",
   "execution_count": 17,
   "metadata": {},
   "outputs": [
    {
     "name": "stdout",
     "output_type": "stream",
     "text": [
      "PATH:   /Users/josh/Documents/Harvard/GCaMP_ROI_classifier/ROIClassifier-tmp/../../label_data/mouse2_6__20210409/labels_posthoc_mouse2_6__20210409.npy\n",
      "\n",
      "labels file loaded\n",
      "\n",
      "WARNING: number of labels and images DO NOT match\n"
     ]
    },
    {
     "data": {
      "image/png": "[encoded data removed]",
      "text/plain": [
       "<Figure size 432x288 with 1 Axes>"
      ]
     },
     "metadata": {
      "needs_background": "light"
     },
     "output_type": "display_data"
    }
   ],
   "source": [
    "labels4 = load_labels(base_dir='../../label_data',\n",
    "            subpath='mouse2_6__20210409',\n",
    "            fileName_load='labels_posthoc_mouse2_6__20210409.npy',\n",
    "            num_labels=6)"
   ]
  },
  {
   "cell_type": "code",
   "execution_count": null,
   "metadata": {},
   "outputs": [],
   "source": []
  },
  {
   "cell_type": "code",
   "execution_count": null,
   "metadata": {},
   "outputs": [],
   "source": []
  },
  {
   "cell_type": "code",
   "execution_count": null,
   "metadata": {},
   "outputs": [],
   "source": []
  },
  {
   "cell_type": "code",
   "execution_count": null,
   "metadata": {},
   "outputs": [],
   "source": []
  },
  {
   "cell_type": "code",
   "execution_count": 21,
   "metadata": {},
   "outputs": [
    {
     "name": "stdout",
     "output_type": "stream",
     "text": [
      "(16578, 36, 36)\n",
      "(16578,)\n"
     ]
    }
   ],
   "source": [
    "seed = 465\n",
    "np.random.seed(seed)\n",
    "\n",
    "\n",
    "# create validation set\n",
    "train_x_i1, val_x_i1, train_y_i1, val_y_i1 = train_test_split(images1[:], labels1[:], test_size = 0.15)\n",
    "train_x_i2, val_x_i2, train_y_i2, val_y_i2 = train_test_split(images2[:], labels2[:], test_size = 0.15)\n",
    "train_x_i3, val_x_i3, train_y_i3, val_y_i3 = train_test_split(images3[:], labels3[:], test_size = 0.15)\n",
    "train_x_i4, val_x_i4, train_y_i4, val_y_i4 = train_test_split(images4[:], labels4[:], test_size = 0.15)\n",
    "\n",
    "# train_x, train_y = images, labels\n",
    "# tea_x, tea_y = images3, labels3\n",
    "# teb_x, teb_y = images4, labels4\n",
    "# (train_x.shape, train_y.shape), (val_x.shape, val_y.shape), (tea_x.shape, tea_y.shape), (teb_x.shape, teb_y.shape)\n",
    "\n",
    "\n",
    "\n",
    "images = np.concatenate((train_x_i1, train_x_i2, train_x_i3, train_x_i4) , axis = 0)\n",
    "print(images.shape)\n",
    "\n",
    "train_x = images\n",
    "\n",
    "labels = np.concatenate((train_y_i1, train_y_i2, train_y_i3, train_y_i4))\n",
    "print(labels.shape)\n",
    "\n",
    "train_y = labels\n",
    "\n",
    "val_x = np.concatenate((val_x_i1, val_x_i2, val_x_i3, val_x_i4) , axis = 0)\n",
    "val_y = np.concatenate((val_y_i1, val_y_i2, val_y_i3, val_y_i4))\n",
    "\n",
    "np.save('../../trash/temp_images.npy', images)\n",
    "np.save('../../trash/temp_labels.npy', labels)\n"
   ]
  },
  {
   "cell_type": "code",
   "execution_count": null,
   "metadata": {},
   "outputs": [],
   "source": []
  },
  {
   "cell_type": "code",
   "execution_count": null,
   "metadata": {},
   "outputs": [],
   "source": []
  },
  {
   "cell_type": "code",
   "execution_count": 22,
   "metadata": {},
   "outputs": [],
   "source": [
    "# importing the libraries\n",
    "import pandas as pd\n",
    "\n",
    "# PyTorch libraries and modules\n",
    "import torch\n",
    "from torch.autograd import Variable\n",
    "from torch.nn import Linear, ReLU, CrossEntropyLoss, Sequential, Conv2d, MaxPool2d, Module, Softmax, BatchNorm2d, Dropout, Sigmoid, SELU, GELU, ELU, PReLU, Softplus, Softmax2d, AvgPool2d, Tanh\n",
    "from torch.optim import Adam, SGD"
   ]
  },
  {
   "cell_type": "markdown",
   "metadata": {},
   "source": [
    "counts = np.histogram(labels,np.arange(7))\n",
    "\n",
    "weightings_groups_forSampling = np.zeros(6)\n",
    "for ii in np.array([0,1,4,5]):\n",
    "    weightings_groups_forSampling[ii] = np.max(counts[0]) / counts[0][ii]\n",
    "\n",
    "plt.figure()\n",
    "plt.bar(range(6), weightings_groups_forSampling)"
   ]
  },
  {
   "cell_type": "code",
   "execution_count": null,
   "metadata": {},
   "outputs": [],
   "source": []
  },
  {
   "cell_type": "markdown",
   "metadata": {},
   "source": [
    "# %matplotlib qt\n",
    "weightings_forSampling = np.zeros(len(labels)) + 1e-9\n",
    "for ii in range(len(weightings_forSampling)):\n",
    "    weightings_forSampling[ii] = weightings_groups_forSampling[labels[ii]]\n",
    "\n",
    "weightings_forSampling = weightings_forSampling / np.sum(weightings_forSampling)\n",
    "plt.figure()\n",
    "plt.plot(weightings_forSampling)\n",
    "plt.plot(scipy.signal.savgol_filter(weightings_forSampling,11,2))"
   ]
  },
  {
   "cell_type": "markdown",
   "metadata": {},
   "source": [
    "# light data augmentation\n",
    "duplicates = 10\n",
    "\n",
    "# duplication to equalize the probability of encountering each case\n",
    "\n",
    "images_dup = train_x[0][None,:,:]\n",
    "labels_aug = np.array([val_y[0]])\n",
    "\n",
    "for ii in range(6):\n",
    "    images_dup = np.concatenate( ( images_dup , np.tile(images[labels==ii] ,( np.int16(weightings_groups_forSampling[ii]) , 1 , 1 ) )), axis=0)\n",
    "    labels_aug = np.concatenate( ( labels_aug , np.ones( np.int16(weightings_groups_forSampling[ii]) * np.sum(labels==ii) ) * ii) )\n",
    "images_dup = np.tile(images_dup , (duplicates,1,1))\n",
    "# images_dup = images_dup / np.tile(np.max(images_dup , axis=(1,2)) , (images_dup.shape[1], images_dup.shape[2], 1)).transpose(2,0,1) # noramlized all the images' max values to 1\n",
    "labels_aug = np.tile(labels_aug , duplicates)\n",
    "\n",
    "test = np.ones(images_dup.shape[0]) * np.nan\n",
    "images_dup_int8 = np.int8(np.zeros_like(images_dup))\n",
    "images_dup_uint8 = np.uint8(np.zeros_like(images_dup))\n",
    "for ii , val in enumerate(images_dup):\n",
    "    images_dup_int8[ii] = np.int8(np.round((( images_dup[ii] / np.max(images_dup[ii], axis=(0,1)) ) -0.5) * 122))\n",
    "    images_dup_uint8[ii] = np.uint8(np.round((( images_dup[ii] / np.max(images_dup[ii], axis=(0,1)) )) * 122))\n",
    "    test[ii] = np.mean(images_dup_uint8[ii], axis=(0,1))"
   ]
  },
  {
   "cell_type": "code",
   "execution_count": 23,
   "metadata": {},
   "outputs": [
    {
     "name": "stdout",
     "output_type": "stream",
     "text": [
      "(16578, 36, 36)\n",
      "(16578,)\n",
      "913\n",
      "913\n",
      "913\n",
      "913\n",
      "456\n",
      "(3196, 36, 36)\n",
      "(3196,)\n"
     ]
    }
   ],
   "source": [
    "duplicates = dup_num\n",
    "\n",
    "images_dup = np.tile(train_x , (duplicates , 1 , 1))\n",
    "labels_aug = np.tile(train_y , (duplicates))\n",
    "\n",
    "print(images_dup.shape)\n",
    "print(labels_aug.shape)\n",
    "\n",
    "numToGetTo = np.sum(labels_aug==0)\n",
    "print(numToGetTo)\n",
    "for ii in np.array([1,4,5]):\n",
    "#     idxToDelete = np.cumsum(labels_aug==ii) <= (np.sum(labels_aug==ii) - numToGetTo)\n",
    "    if ii==5:\n",
    "        numToGetTo = np.sum(labels_aug==0)/2\n",
    "    else:\n",
    "        numToGetTo = np.sum(labels_aug==0)\n",
    "\n",
    "    idxToDelete = (np.cumsum(labels_aug==ii) * (labels_aug==ii)) > numToGetTo\n",
    "    images_dup = images_dup[idxToDelete==0,:,:]\n",
    "    labels_aug = labels_aug[idxToDelete==0]\n",
    "\n",
    "\n",
    "print(np.sum(labels_aug==0))\n",
    "print(np.sum(labels_aug==1))\n",
    "print(np.sum(labels_aug==4))\n",
    "print(np.sum(labels_aug==5))\n",
    "print(images_dup.shape)\n",
    "print(labels_aug.shape)"
   ]
  },
  {
   "cell_type": "code",
   "execution_count": 24,
   "metadata": {},
   "outputs": [
    {
     "data": {
      "text/plain": [
       "[<matplotlib.lines.Line2D at 0x7fd861e9f430>]"
      ]
     },
     "execution_count": 24,
     "metadata": {},
     "output_type": "execute_result"
    },
    {
     "data": {
      "image/png": "[encoded data removed]",
      "text/plain": [
       "<Figure size 432x288 with 1 Axes>"
      ]
     },
     "metadata": {
      "needs_background": "light"
     },
     "output_type": "display_data"
    }
   ],
   "source": [
    "# %matplotlib inline\n",
    "# %matplotlib inline\n",
    "\n",
    "plt.figure()\n",
    "plt.plot(labels_aug[:20])\n",
    "plt.plot(train_y[:20])\n",
    "# plt.plot(scipy.signal.savgol_filter(labels_aug , 11 , 3))\n",
    "\n",
    "# plt.figure()\n",
    "# plt.imshow(images_dup[5]);\n",
    "# print(images_dup.dtype)"
   ]
  },
  {
   "cell_type": "code",
   "execution_count": 25,
   "metadata": {},
   "outputs": [],
   "source": [
    "aug_seq = iaa.Sequential([], random_order=True) # apply augmenters in random order"
   ]
  },
  {
   "cell_type": "markdown",
   "metadata": {},
   "source": [
    "np.save('images_aug.npy' , images_aug)"
   ]
  },
  {
   "cell_type": "markdown",
   "metadata": {},
   "source": [
    "images_aug = np.load('images_aug.npy')"
   ]
  },
  {
   "cell_type": "code",
   "execution_count": 26,
   "metadata": {},
   "outputs": [
    {
     "name": "stdout",
     "output_type": "stream",
     "text": [
      "(3196, 36, 36)\n",
      "float64\n",
      "float64\n"
     ]
    },
    {
     "data": {
      "image/png": "[encoded data removed]",
      "text/plain": [
       "<Figure size 432x288 with 1 Axes>"
      ]
     },
     "metadata": {
      "needs_background": "light"
     },
     "output_type": "display_data"
    },
    {
     "data": {
      "image/png": "[encoded data removed]",
      "text/plain": [
       "<Figure size 432x288 with 1 Axes>"
      ]
     },
     "metadata": {
      "needs_background": "light"
     },
     "output_type": "display_data"
    }
   ],
   "source": [
    "# images_aug = aug_seq(images=images_dup_uint8)\n",
    "images_aug = aug_seq(images=images_dup)\n",
    "# images_aug = images_dup\n",
    "# images_aug = images_aug\n",
    "\n",
    "# images_aug = images_aug / np.tile(np.max(images_aug , axis=(1,2)) , (images_aug.shape[1], images_aug.shape[2], 1)).transpose(2,0,1) # noramlized all the images' max values to 1\n",
    "\n",
    "print(images_aug.shape)\n",
    "\n",
    "# plt.figure()\n",
    "# plt.imshow(images_dup_uint8[6])\n",
    "plt.figure()\n",
    "plt.plot(labels_aug)\n",
    "plt.figure()\n",
    "plt.hist(labels_aug);\n",
    "\n",
    "print(images_dup.dtype)\n",
    "print(images_aug.dtype)\n",
    "\n",
    "# print(images_aug.shape)\n",
    "# print(labels_aug.shape)"
   ]
  },
  {
   "cell_type": "code",
   "execution_count": 27,
   "metadata": {},
   "outputs": [
    {
     "data": {
      "text/plain": [
       "<matplotlib.image.AxesImage at 0x7fd821cbb940>"
      ]
     },
     "execution_count": 27,
     "metadata": {},
     "output_type": "execute_result"
    },
    {
     "data": {
      "image/png": "[encoded data removed]",
      "text/plain": [
       "<Figure size 432x288 with 1 Axes>"
      ]
     },
     "metadata": {
      "needs_background": "light"
     },
     "output_type": "display_data"
    },
    {
     "data": {
      "image/png": "[encoded data removed]",
      "text/plain": [
       "<Figure size 432x288 with 1 Axes>"
      ]
     },
     "metadata": {
      "needs_background": "light"
     },
     "output_type": "display_data"
    },
    {
     "data": {
      "image/png": "[encoded data removed]",
      "text/plain": [
       "<Figure size 432x288 with 1 Axes>"
      ]
     },
     "metadata": {
      "needs_background": "light"
     },
     "output_type": "display_data"
    }
   ],
   "source": [
    "# noiseGain_inverse = np.random.rand(1)**2 * 100 + 10\n",
    "# plt.figure()\n",
    "# test = (100 * ( np.random.rand(10000) + 0.1 )**2)+12\n",
    "# plt.hist(test[test < 1000],100);\n",
    "noiseGain_inverse = lambda x: (100 * ( np.random.rand(x) + 0.1 )**2)+50\n",
    "# noiseGain_inverse = lambda x: x\n",
    "\n",
    "plt.figure()\n",
    "plt.hist(noiseGain_inverse(10000),100)\n",
    "\n",
    "images_toUse = images_aug\n",
    "\n",
    "images_aug_noisy = np.zeros_like(images_toUse)\n",
    "for ii in range(images_toUse.shape[0]):\n",
    "    if np.random.rand(1) < 0.8:\n",
    "        noise = noiseGain_inverse(1)\n",
    "#         images_aug_noisy[ii] = np.random.poisson(images_toUse[ii] / np.max(images_toUse[ii]) ) * noise / noise * np.max(images_toUse[ii])   # noisy image\n",
    "        images_aug_noisy[ii] = np.random.poisson(images_toUse[ii] / np.max(images_toUse[ii]) * noise) / noise * np.max(images_toUse[ii])   # noisy image\n",
    "    else:\n",
    "        images_aug_noisy[ii] = images_toUse[ii]\n",
    "plt.figure()\n",
    "plt.imshow(images_aug_noisy[0])\n",
    "plt.figure()\n",
    "plt.imshow(images_aug_noisy[1])"
   ]
  },
  {
   "cell_type": "markdown",
   "metadata": {},
   "source": [
    "np.save('images_aug.npy' , images_aug)"
   ]
  },
  {
   "cell_type": "code",
   "execution_count": 28,
   "metadata": {},
   "outputs": [
    {
     "data": {
      "application/javascript": [
       "/* Put everything inside the global mpl namespace */\n",
       "/* global mpl */\n",
       "window.mpl = {};\n",
       "\n",
       "mpl.get_websocket_type = function () {\n",
       "    if (typeof WebSocket !== 'undefined') {\n",
       "        return WebSocket;\n",
       "    } else if (typeof MozWebSocket !== 'undefined') {\n",
       "        return MozWebSocket;\n",
       "    } else {\n",
       "        alert(\n",
       "            'Your browser does not have WebSocket support. ' +\n",
       "                'Please try Chrome, Safari or Firefox ≥ 6. ' +\n",
       "                'Firefox 4 and 5 are also supported but you ' +\n",
       "                'have to enable WebSockets in about:config.'\n",
       "        );\n",
       "    }\n",
       "};\n",
       "\n",
       "mpl.figure = function (figure_id, websocket, ondownload, parent_element) {\n",
       "    this.id = figure_id;\n",
       "\n",
       "    this.ws = websocket;\n",
       "\n",
       "    this.supports_binary = this.ws.binaryType !== undefined;\n",
       "\n",
       "    if (!this.supports_binary) {\n",
       "        var warnings = document.getElementById('mpl-warnings');\n",
       "        if (warnings) {\n",
       "            warnings.style.display = 'block';\n",
       "            warnings.textContent =\n",
       "                'This browser does not support binary websocket messages. ' +\n",
       "                'Performance may be slow.';\n",
       "        }\n",
       "    }\n",
       "\n",
       "    this.imageObj = new Image();\n",
       "\n",
       "    this.context = undefined;\n",
       "    this.message = undefined;\n",
       "    this.canvas = undefined;\n",
       "    this.rubberband_canvas = undefined;\n",
       "    this.rubberband_context = undefined;\n",
       "    this.format_dropdown = undefined;\n",
       "\n",
       "    this.image_mode = 'full';\n",
       "\n",
       "    this.root = document.createElement('div');\n",
       "    this.root.setAttribute('style', 'display: inline-block');\n",
       "    this._root_extra_style(this.root);\n",
       "\n",
       "    parent_element.appendChild(this.root);\n",
       "\n",
       "    this._init_header(this);\n",
       "    this._init_canvas(this);\n",
       "    this._init_toolbar(this);\n",
       "\n",
       "    var fig = this;\n",
       "\n",
       "    this.waiting = false;\n",
       "\n",
       "    this.ws.onopen = function () {\n",
       "        fig.send_message('supports_binary', { value: fig.supports_binary });\n",
       "        fig.send_message('send_image_mode', {});\n",
       "        if (fig.ratio !== 1) {\n",
       "            fig.send_message('set_dpi_ratio', { dpi_ratio: fig.ratio });\n",
       "        }\n",
       "        fig.send_message('refresh', {});\n",
       "    };\n",
       "\n",
       "    this.imageObj.onload = function () {\n",
       "        if (fig.image_mode === 'full') {\n",
       "            // Full images could contain transparency (where diff images\n",
       "            // almost always do), so we need to clear the canvas so that\n",
       "            // there is no ghosting.\n",
       "            fig.context.clearRect(0, 0, fig.canvas.width, fig.canvas.height);\n",
       "        }\n",
       "        fig.context.drawImage(fig.imageObj, 0, 0);\n",
       "    };\n",
       "\n",
       "    this.imageObj.onunload = function () {\n",
       "        fig.ws.close();\n",
       "    };\n",
       "\n",
       "    this.ws.onmessage = this._make_on_message_function(this);\n",
       "\n",
       "    this.ondownload = ondownload;\n",
       "};\n",
       "\n",
       "mpl.figure.prototype._init_header = function () {\n",
       "    var titlebar = document.createElement('div');\n",
       "    titlebar.classList =\n",
       "        'ui-dialog-titlebar ui-widget-header ui-corner-all ui-helper-clearfix';\n",
       "    var titletext = document.createElement('div');\n",
       "    titletext.classList = 'ui-dialog-title';\n",
       "    titletext.setAttribute(\n",
       "        'style',\n",
       "        'width: 100%; text-align: center; padding: 3px;'\n",
       "    );\n",
       "    titlebar.appendChild(titletext);\n",
       "    this.root.appendChild(titlebar);\n",
       "    this.header = titletext;\n",
       "};\n",
       "\n",
       "mpl.figure.prototype._canvas_extra_style = function (_canvas_div) {};\n",
       "\n",
       "mpl.figure.prototype._root_extra_style = function (_canvas_div) {};\n",
       "\n",
       "mpl.figure.prototype._init_canvas = function () {\n",
       "    var fig = this;\n",
       "\n",
       "    var canvas_div = (this.canvas_div = document.createElement('div'));\n",
       "    canvas_div.setAttribute(\n",
       "        'style',\n",
       "        'border: 1px solid #ddd;' +\n",
       "            'box-sizing: content-box;' +\n",
       "            'clear: both;' +\n",
       "            'min-height: 1px;' +\n",
       "            'min-width: 1px;' +\n",
       "            'outline: 0;' +\n",
       "            'overflow: hidden;' +\n",
       "            'position: relative;' +\n",
       "            'resize: both;'\n",
       "    );\n",
       "\n",
       "    function on_keyboard_event_closure(name) {\n",
       "        return function (event) {\n",
       "            return fig.key_event(event, name);\n",
       "        };\n",
       "    }\n",
       "\n",
       "    canvas_div.addEventListener(\n",
       "        'keydown',\n",
       "        on_keyboard_event_closure('key_press')\n",
       "    );\n",
       "    canvas_div.addEventListener(\n",
       "        'keyup',\n",
       "        on_keyboard_event_closure('key_release')\n",
       "    );\n",
       "\n",
       "    this._canvas_extra_style(canvas_div);\n",
       "    this.root.appendChild(canvas_div);\n",
       "\n",
       "    var canvas = (this.canvas = document.createElement('canvas'));\n",
       "    canvas.classList.add('mpl-canvas');\n",
       "    canvas.setAttribute('style', 'box-sizing: content-box;');\n",
       "\n",
       "    this.context = canvas.getContext('2d');\n",
       "\n",
       "    var backingStore =\n",
       "        this.context.backingStorePixelRatio ||\n",
       "        this.context.webkitBackingStorePixelRatio ||\n",
       "        this.context.mozBackingStorePixelRatio ||\n",
       "        this.context.msBackingStorePixelRatio ||\n",
       "        this.context.oBackingStorePixelRatio ||\n",
       "        this.context.backingStorePixelRatio ||\n",
       "        1;\n",
       "\n",
       "    this.ratio = (window.devicePixelRatio || 1) / backingStore;\n",
       "    if (this.ratio !== 1) {\n",
       "        fig.send_message('set_dpi_ratio', { dpi_ratio: this.ratio });\n",
       "    }\n",
       "\n",
       "    var rubberband_canvas = (this.rubberband_canvas = document.createElement(\n",
       "        'canvas'\n",
       "    ));\n",
       "    rubberband_canvas.setAttribute(\n",
       "        'style',\n",
       "        'box-sizing: content-box; position: absolute; left: 0; top: 0; z-index: 1;'\n",
       "    );\n",
       "\n",
       "    var resizeObserver = new ResizeObserver(function (entries) {\n",
       "        var nentries = entries.length;\n",
       "        for (var i = 0; i < nentries; i++) {\n",
       "            var entry = entries[i];\n",
       "            var width, height;\n",
       "            if (entry.contentBoxSize) {\n",
       "                if (entry.contentBoxSize instanceof Array) {\n",
       "                    // Chrome 84 implements new version of spec.\n",
       "                    width = entry.contentBoxSize[0].inlineSize;\n",
       "                    height = entry.contentBoxSize[0].blockSize;\n",
       "                } else {\n",
       "                    // Firefox implements old version of spec.\n",
       "                    width = entry.contentBoxSize.inlineSize;\n",
       "                    height = entry.contentBoxSize.blockSize;\n",
       "                }\n",
       "            } else {\n",
       "                // Chrome <84 implements even older version of spec.\n",
       "                width = entry.contentRect.width;\n",
       "                height = entry.contentRect.height;\n",
       "            }\n",
       "\n",
       "            // Keep the size of the canvas and rubber band canvas in sync with\n",
       "            // the canvas container.\n",
       "            if (entry.devicePixelContentBoxSize) {\n",
       "                // Chrome 84 implements new version of spec.\n",
       "                canvas.setAttribute(\n",
       "                    'width',\n",
       "                    entry.devicePixelContentBoxSize[0].inlineSize\n",
       "                );\n",
       "                canvas.setAttribute(\n",
       "                    'height',\n",
       "                    entry.devicePixelContentBoxSize[0].blockSize\n",
       "                );\n",
       "            } else {\n",
       "                canvas.setAttribute('width', width * fig.ratio);\n",
       "                canvas.setAttribute('height', height * fig.ratio);\n",
       "            }\n",
       "            canvas.setAttribute(\n",
       "                'style',\n",
       "                'width: ' + width + 'px; height: ' + height + 'px;'\n",
       "            );\n",
       "\n",
       "            rubberband_canvas.setAttribute('width', width);\n",
       "            rubberband_canvas.setAttribute('height', height);\n",
       "\n",
       "            // And update the size in Python. We ignore the initial 0/0 size\n",
       "            // that occurs as the element is placed into the DOM, which should\n",
       "            // otherwise not happen due to the minimum size styling.\n",
       "            if (width != 0 && height != 0) {\n",
       "                fig.request_resize(width, height);\n",
       "            }\n",
       "        }\n",
       "    });\n",
       "    resizeObserver.observe(canvas_div);\n",
       "\n",
       "    function on_mouse_event_closure(name) {\n",
       "        return function (event) {\n",
       "            return fig.mouse_event(event, name);\n",
       "        };\n",
       "    }\n",
       "\n",
       "    rubberband_canvas.addEventListener(\n",
       "        'mousedown',\n",
       "        on_mouse_event_closure('button_press')\n",
       "    );\n",
       "    rubberband_canvas.addEventListener(\n",
       "        'mouseup',\n",
       "        on_mouse_event_closure('button_release')\n",
       "    );\n",
       "    // Throttle sequential mouse events to 1 every 20ms.\n",
       "    rubberband_canvas.addEventListener(\n",
       "        'mousemove',\n",
       "        on_mouse_event_closure('motion_notify')\n",
       "    );\n",
       "\n",
       "    rubberband_canvas.addEventListener(\n",
       "        'mouseenter',\n",
       "        on_mouse_event_closure('figure_enter')\n",
       "    );\n",
       "    rubberband_canvas.addEventListener(\n",
       "        'mouseleave',\n",
       "        on_mouse_event_closure('figure_leave')\n",
       "    );\n",
       "\n",
       "    canvas_div.addEventListener('wheel', function (event) {\n",
       "        if (event.deltaY < 0) {\n",
       "            event.step = 1;\n",
       "        } else {\n",
       "            event.step = -1;\n",
       "        }\n",
       "        on_mouse_event_closure('scroll')(event);\n",
       "    });\n",
       "\n",
       "    canvas_div.appendChild(canvas);\n",
       "    canvas_div.appendChild(rubberband_canvas);\n",
       "\n",
       "    this.rubberband_context = rubberband_canvas.getContext('2d');\n",
       "    this.rubberband_context.strokeStyle = '#000000';\n",
       "\n",
       "    this._resize_canvas = function (width, height, forward) {\n",
       "        if (forward) {\n",
       "            canvas_div.style.width = width + 'px';\n",
       "            canvas_div.style.height = height + 'px';\n",
       "        }\n",
       "    };\n",
       "\n",
       "    // Disable right mouse context menu.\n",
       "    this.rubberband_canvas.addEventListener('contextmenu', function (_e) {\n",
       "        event.preventDefault();\n",
       "        return false;\n",
       "    });\n",
       "\n",
       "    function set_focus() {\n",
       "        canvas.focus();\n",
       "        canvas_div.focus();\n",
       "    }\n",
       "\n",
       "    window.setTimeout(set_focus, 100);\n",
       "};\n",
       "\n",
       "mpl.figure.prototype._init_toolbar = function () {\n",
       "    var fig = this;\n",
       "\n",
       "    var toolbar = document.createElement('div');\n",
       "    toolbar.classList = 'mpl-toolbar';\n",
       "    this.root.appendChild(toolbar);\n",
       "\n",
       "    function on_click_closure(name) {\n",
       "        return function (_event) {\n",
       "            return fig.toolbar_button_onclick(name);\n",
       "        };\n",
       "    }\n",
       "\n",
       "    function on_mouseover_closure(tooltip) {\n",
       "        return function (event) {\n",
       "            if (!event.currentTarget.disabled) {\n",
       "                return fig.toolbar_button_onmouseover(tooltip);\n",
       "            }\n",
       "        };\n",
       "    }\n",
       "\n",
       "    fig.buttons = {};\n",
       "    var buttonGroup = document.createElement('div');\n",
       "    buttonGroup.classList = 'mpl-button-group';\n",
       "    for (var toolbar_ind in mpl.toolbar_items) {\n",
       "        var name = mpl.toolbar_items[toolbar_ind][0];\n",
       "        var tooltip = mpl.toolbar_items[toolbar_ind][1];\n",
       "        var image = mpl.toolbar_items[toolbar_ind][2];\n",
       "        var method_name = mpl.toolbar_items[toolbar_ind][3];\n",
       "\n",
       "        if (!name) {\n",
       "            /* Instead of a spacer, we start a new button group. */\n",
       "            if (buttonGroup.hasChildNodes()) {\n",
       "                toolbar.appendChild(buttonGroup);\n",
       "            }\n",
       "            buttonGroup = document.createElement('div');\n",
       "            buttonGroup.classList = 'mpl-button-group';\n",
       "            continue;\n",
       "        }\n",
       "\n",
       "        var button = (fig.buttons[name] = document.createElement('button'));\n",
       "        button.classList = 'mpl-widget';\n",
       "        button.setAttribute('role', 'button');\n",
       "        button.setAttribute('aria-disabled', 'false');\n",
       "        button.addEventListener('click', on_click_closure(method_name));\n",
       "        button.addEventListener('mouseover', on_mouseover_closure(tooltip));\n",
       "\n",
       "        var icon_img = document.createElement('img');\n",
       "        icon_img.src = '_images/' + image + '.png';\n",
       "        icon_img.srcset = '_images/' + image + '_large.png 2x';\n",
       "        icon_img.alt = tooltip;\n",
       "        button.appendChild(icon_img);\n",
       "\n",
       "        buttonGroup.appendChild(button);\n",
       "    }\n",
       "\n",
       "    if (buttonGroup.hasChildNodes()) {\n",
       "        toolbar.appendChild(buttonGroup);\n",
       "    }\n",
       "\n",
       "    var fmt_picker = document.createElement('select');\n",
       "    fmt_picker.classList = 'mpl-widget';\n",
       "    toolbar.appendChild(fmt_picker);\n",
       "    this.format_dropdown = fmt_picker;\n",
       "\n",
       "    for (var ind in mpl.extensions) {\n",
       "        var fmt = mpl.extensions[ind];\n",
       "        var option = document.createElement('option');\n",
       "        option.selected = fmt === mpl.default_extension;\n",
       "        option.innerHTML = fmt;\n",
       "        fmt_picker.appendChild(option);\n",
       "    }\n",
       "\n",
       "    var status_bar = document.createElement('span');\n",
       "    status_bar.classList = 'mpl-message';\n",
       "    toolbar.appendChild(status_bar);\n",
       "    this.message = status_bar;\n",
       "};\n",
       "\n",
       "mpl.figure.prototype.request_resize = function (x_pixels, y_pixels) {\n",
       "    // Request matplotlib to resize the figure. Matplotlib will then trigger a resize in the client,\n",
       "    // which will in turn request a refresh of the image.\n",
       "    this.send_message('resize', { width: x_pixels, height: y_pixels });\n",
       "};\n",
       "\n",
       "mpl.figure.prototype.send_message = function (type, properties) {\n",
       "    properties['type'] = type;\n",
       "    properties['figure_id'] = this.id;\n",
       "    this.ws.send(JSON.stringify(properties));\n",
       "};\n",
       "\n",
       "mpl.figure.prototype.send_draw_message = function () {\n",
       "    if (!this.waiting) {\n",
       "        this.waiting = true;\n",
       "        this.ws.send(JSON.stringify({ type: 'draw', figure_id: this.id }));\n",
       "    }\n",
       "};\n",
       "\n",
       "mpl.figure.prototype.handle_save = function (fig, _msg) {\n",
       "    var format_dropdown = fig.format_dropdown;\n",
       "    var format = format_dropdown.options[format_dropdown.selectedIndex].value;\n",
       "    fig.ondownload(fig, format);\n",
       "};\n",
       "\n",
       "mpl.figure.prototype.handle_resize = function (fig, msg) {\n",
       "    var size = msg['size'];\n",
       "    if (size[0] !== fig.canvas.width || size[1] !== fig.canvas.height) {\n",
       "        fig._resize_canvas(size[0], size[1], msg['forward']);\n",
       "        fig.send_message('refresh', {});\n",
       "    }\n",
       "};\n",
       "\n",
       "mpl.figure.prototype.handle_rubberband = function (fig, msg) {\n",
       "    var x0 = msg['x0'] / fig.ratio;\n",
       "    var y0 = (fig.canvas.height - msg['y0']) / fig.ratio;\n",
       "    var x1 = msg['x1'] / fig.ratio;\n",
       "    var y1 = (fig.canvas.height - msg['y1']) / fig.ratio;\n",
       "    x0 = Math.floor(x0) + 0.5;\n",
       "    y0 = Math.floor(y0) + 0.5;\n",
       "    x1 = Math.floor(x1) + 0.5;\n",
       "    y1 = Math.floor(y1) + 0.5;\n",
       "    var min_x = Math.min(x0, x1);\n",
       "    var min_y = Math.min(y0, y1);\n",
       "    var width = Math.abs(x1 - x0);\n",
       "    var height = Math.abs(y1 - y0);\n",
       "\n",
       "    fig.rubberband_context.clearRect(\n",
       "        0,\n",
       "        0,\n",
       "        fig.canvas.width / fig.ratio,\n",
       "        fig.canvas.height / fig.ratio\n",
       "    );\n",
       "\n",
       "    fig.rubberband_context.strokeRect(min_x, min_y, width, height);\n",
       "};\n",
       "\n",
       "mpl.figure.prototype.handle_figure_label = function (fig, msg) {\n",
       "    // Updates the figure title.\n",
       "    fig.header.textContent = msg['label'];\n",
       "};\n",
       "\n",
       "mpl.figure.prototype.handle_cursor = function (fig, msg) {\n",
       "    var cursor = msg['cursor'];\n",
       "    switch (cursor) {\n",
       "        case 0:\n",
       "            cursor = 'pointer';\n",
       "            break;\n",
       "        case 1:\n",
       "            cursor = 'default';\n",
       "            break;\n",
       "        case 2:\n",
       "            cursor = 'crosshair';\n",
       "            break;\n",
       "        case 3:\n",
       "            cursor = 'move';\n",
       "            break;\n",
       "    }\n",
       "    fig.rubberband_canvas.style.cursor = cursor;\n",
       "};\n",
       "\n",
       "mpl.figure.prototype.handle_message = function (fig, msg) {\n",
       "    fig.message.textContent = msg['message'];\n",
       "};\n",
       "\n",
       "mpl.figure.prototype.handle_draw = function (fig, _msg) {\n",
       "    // Request the server to send over a new figure.\n",
       "    fig.send_draw_message();\n",
       "};\n",
       "\n",
       "mpl.figure.prototype.handle_image_mode = function (fig, msg) {\n",
       "    fig.image_mode = msg['mode'];\n",
       "};\n",
       "\n",
       "mpl.figure.prototype.handle_history_buttons = function (fig, msg) {\n",
       "    for (var key in msg) {\n",
       "        if (!(key in fig.buttons)) {\n",
       "            continue;\n",
       "        }\n",
       "        fig.buttons[key].disabled = !msg[key];\n",
       "        fig.buttons[key].setAttribute('aria-disabled', !msg[key]);\n",
       "    }\n",
       "};\n",
       "\n",
       "mpl.figure.prototype.handle_navigate_mode = function (fig, msg) {\n",
       "    if (msg['mode'] === 'PAN') {\n",
       "        fig.buttons['Pan'].classList.add('active');\n",
       "        fig.buttons['Zoom'].classList.remove('active');\n",
       "    } else if (msg['mode'] === 'ZOOM') {\n",
       "        fig.buttons['Pan'].classList.remove('active');\n",
       "        fig.buttons['Zoom'].classList.add('active');\n",
       "    } else {\n",
       "        fig.buttons['Pan'].classList.remove('active');\n",
       "        fig.buttons['Zoom'].classList.remove('active');\n",
       "    }\n",
       "};\n",
       "\n",
       "mpl.figure.prototype.updated_canvas_event = function () {\n",
       "    // Called whenever the canvas gets updated.\n",
       "    this.send_message('ack', {});\n",
       "};\n",
       "\n",
       "// A function to construct a web socket function for onmessage handling.\n",
       "// Called in the figure constructor.\n",
       "mpl.figure.prototype._make_on_message_function = function (fig) {\n",
       "    return function socket_on_message(evt) {\n",
       "        if (evt.data instanceof Blob) {\n",
       "            /* FIXME: We get \"Resource interpreted as Image but\n",
       "             * transferred with MIME type text/plain:\" errors on\n",
       "             * Chrome.  But how to set the MIME type?  It doesn't seem\n",
       "             * to be part of the websocket stream */\n",
       "            evt.data.type = 'image/png';\n",
       "\n",
       "            /* Free the memory for the previous frames */\n",
       "            if (fig.imageObj.src) {\n",
       "                (window.URL || window.webkitURL).revokeObjectURL(\n",
       "                    fig.imageObj.src\n",
       "                );\n",
       "            }\n",
       "\n",
       "            fig.imageObj.src = (window.URL || window.webkitURL).createObjectURL(\n",
       "                evt.data\n",
       "            );\n",
       "            fig.updated_canvas_event();\n",
       "            fig.waiting = false;\n",
       "            return;\n",
       "        } else if (\n",
       "            typeof evt.data === 'string' &&\n",
       "            evt.data.slice(0, 21) === 'data:image/png;base64'\n",
       "        ) {\n",
       "            fig.imageObj.src = evt.data;\n",
       "            fig.updated_canvas_event();\n",
       "            fig.waiting = false;\n",
       "            return;\n",
       "        }\n",
       "\n",
       "        var msg = JSON.parse(evt.data);\n",
       "        var msg_type = msg['type'];\n",
       "\n",
       "        // Call the  \"handle_{type}\" callback, which takes\n",
       "        // the figure and JSON message as its only arguments.\n",
       "        try {\n",
       "            var callback = fig['handle_' + msg_type];\n",
       "        } catch (e) {\n",
       "            console.log(\n",
       "                \"No handler for the '\" + msg_type + \"' message type: \",\n",
       "                msg\n",
       "            );\n",
       "            return;\n",
       "        }\n",
       "\n",
       "        if (callback) {\n",
       "            try {\n",
       "                // console.log(\"Handling '\" + msg_type + \"' message: \", msg);\n",
       "                callback(fig, msg);\n",
       "            } catch (e) {\n",
       "                console.log(\n",
       "                    \"Exception inside the 'handler_\" + msg_type + \"' callback:\",\n",
       "                    e,\n",
       "                    e.stack,\n",
       "                    msg\n",
       "                );\n",
       "            }\n",
       "        }\n",
       "    };\n",
       "};\n",
       "\n",
       "// from http://stackoverflow.com/questions/1114465/getting-mouse-location-in-canvas\n",
       "mpl.findpos = function (e) {\n",
       "    //this section is from http://www.quirksmode.org/js/events_properties.html\n",
       "    var targ;\n",
       "    if (!e) {\n",
       "        e = window.event;\n",
       "    }\n",
       "    if (e.target) {\n",
       "        targ = e.target;\n",
       "    } else if (e.srcElement) {\n",
       "        targ = e.srcElement;\n",
       "    }\n",
       "    if (targ.nodeType === 3) {\n",
       "        // defeat Safari bug\n",
       "        targ = targ.parentNode;\n",
       "    }\n",
       "\n",
       "    // pageX,Y are the mouse positions relative to the document\n",
       "    var boundingRect = targ.getBoundingClientRect();\n",
       "    var x = e.pageX - (boundingRect.left + document.body.scrollLeft);\n",
       "    var y = e.pageY - (boundingRect.top + document.body.scrollTop);\n",
       "\n",
       "    return { x: x, y: y };\n",
       "};\n",
       "\n",
       "/*\n",
       " * return a copy of an object with only non-object keys\n",
       " * we need this to avoid circular references\n",
       " * http://stackoverflow.com/a/24161582/3208463\n",
       " */\n",
       "function simpleKeys(original) {\n",
       "    return Object.keys(original).reduce(function (obj, key) {\n",
       "        if (typeof original[key] !== 'object') {\n",
       "            obj[key] = original[key];\n",
       "        }\n",
       "        return obj;\n",
       "    }, {});\n",
       "}\n",
       "\n",
       "mpl.figure.prototype.mouse_event = function (event, name) {\n",
       "    var canvas_pos = mpl.findpos(event);\n",
       "\n",
       "    if (name === 'button_press') {\n",
       "        this.canvas.focus();\n",
       "        this.canvas_div.focus();\n",
       "    }\n",
       "\n",
       "    var x = canvas_pos.x * this.ratio;\n",
       "    var y = canvas_pos.y * this.ratio;\n",
       "\n",
       "    this.send_message(name, {\n",
       "        x: x,\n",
       "        y: y,\n",
       "        button: event.button,\n",
       "        step: event.step,\n",
       "        guiEvent: simpleKeys(event),\n",
       "    });\n",
       "\n",
       "    /* This prevents the web browser from automatically changing to\n",
       "     * the text insertion cursor when the button is pressed.  We want\n",
       "     * to control all of the cursor setting manually through the\n",
       "     * 'cursor' event from matplotlib */\n",
       "    event.preventDefault();\n",
       "    return false;\n",
       "};\n",
       "\n",
       "mpl.figure.prototype._key_event_extra = function (_event, _name) {\n",
       "    // Handle any extra behaviour associated with a key event\n",
       "};\n",
       "\n",
       "mpl.figure.prototype.key_event = function (event, name) {\n",
       "    // Prevent repeat events\n",
       "    if (name === 'key_press') {\n",
       "        if (event.which === this._key) {\n",
       "            return;\n",
       "        } else {\n",
       "            this._key = event.which;\n",
       "        }\n",
       "    }\n",
       "    if (name === 'key_release') {\n",
       "        this._key = null;\n",
       "    }\n",
       "\n",
       "    var value = '';\n",
       "    if (event.ctrlKey && event.which !== 17) {\n",
       "        value += 'ctrl+';\n",
       "    }\n",
       "    if (event.altKey && event.which !== 18) {\n",
       "        value += 'alt+';\n",
       "    }\n",
       "    if (event.shiftKey && event.which !== 16) {\n",
       "        value += 'shift+';\n",
       "    }\n",
       "\n",
       "    value += 'k';\n",
       "    value += event.which.toString();\n",
       "\n",
       "    this._key_event_extra(event, name);\n",
       "\n",
       "    this.send_message(name, { key: value, guiEvent: simpleKeys(event) });\n",
       "    return false;\n",
       "};\n",
       "\n",
       "mpl.figure.prototype.toolbar_button_onclick = function (name) {\n",
       "    if (name === 'download') {\n",
       "        this.handle_save(this, null);\n",
       "    } else {\n",
       "        this.send_message('toolbar_button', { name: name });\n",
       "    }\n",
       "};\n",
       "\n",
       "mpl.figure.prototype.toolbar_button_onmouseover = function (tooltip) {\n",
       "    this.message.textContent = tooltip;\n",
       "};\n",
       "mpl.toolbar_items = [[\"Home\", \"Reset original view\", \"fa fa-home icon-home\", \"home\"], [\"Back\", \"Back to previous view\", \"fa fa-arrow-left icon-arrow-left\", \"back\"], [\"Forward\", \"Forward to next view\", \"fa fa-arrow-right icon-arrow-right\", \"forward\"], [\"\", \"\", \"\", \"\"], [\"Pan\", \"Left button pans, Right button zooms\\nx/y fixes axis, CTRL fixes aspect\", \"fa fa-arrows icon-move\", \"pan\"], [\"Zoom\", \"Zoom to rectangle\\nx/y fixes axis, CTRL fixes aspect\", \"fa fa-square-o icon-check-empty\", \"zoom\"], [\"\", \"\", \"\", \"\"], [\"Download\", \"Download plot\", \"fa fa-floppy-o icon-save\", \"download\"]];\n",
       "\n",
       "mpl.extensions = [\"eps\", \"jpeg\", \"pdf\", \"png\", \"ps\", \"raw\", \"svg\", \"tif\"];\n",
       "\n",
       "mpl.default_extension = \"png\";/* global mpl */\n",
       "\n",
       "var comm_websocket_adapter = function (comm) {\n",
       "    // Create a \"websocket\"-like object which calls the given IPython comm\n",
       "    // object with the appropriate methods. Currently this is a non binary\n",
       "    // socket, so there is still some room for performance tuning.\n",
       "    var ws = {};\n",
       "\n",
       "    ws.close = function () {\n",
       "        comm.close();\n",
       "    };\n",
       "    ws.send = function (m) {\n",
       "        //console.log('sending', m);\n",
       "        comm.send(m);\n",
       "    };\n",
       "    // Register the callback with on_msg.\n",
       "    comm.on_msg(function (msg) {\n",
       "        //console.log('receiving', msg['content']['data'], msg);\n",
       "        // Pass the mpl event to the overridden (by mpl) onmessage function.\n",
       "        ws.onmessage(msg['content']['data']);\n",
       "    });\n",
       "    return ws;\n",
       "};\n",
       "\n",
       "mpl.mpl_figure_comm = function (comm, msg) {\n",
       "    // This is the function which gets called when the mpl process\n",
       "    // starts-up an IPython Comm through the \"matplotlib\" channel.\n",
       "\n",
       "    var id = msg.content.data.id;\n",
       "    // Get hold of the div created by the display call when the Comm\n",
       "    // socket was opened in Python.\n",
       "    var element = document.getElementById(id);\n",
       "    var ws_proxy = comm_websocket_adapter(comm);\n",
       "\n",
       "    function ondownload(figure, _format) {\n",
       "        window.open(figure.canvas.toDataURL());\n",
       "    }\n",
       "\n",
       "    var fig = new mpl.figure(id, ws_proxy, ondownload, element);\n",
       "\n",
       "    // Call onopen now - mpl needs it, as it is assuming we've passed it a real\n",
       "    // web socket which is closed, not our websocket->open comm proxy.\n",
       "    ws_proxy.onopen();\n",
       "\n",
       "    fig.parent_element = element;\n",
       "    fig.cell_info = mpl.find_output_cell(\"<div id='\" + id + \"'></div>\");\n",
       "    if (!fig.cell_info) {\n",
       "        console.error('Failed to find cell for figure', id, fig);\n",
       "        return;\n",
       "    }\n",
       "    fig.cell_info[0].output_area.element.one(\n",
       "        'cleared',\n",
       "        { fig: fig },\n",
       "        fig._remove_fig_handler\n",
       "    );\n",
       "};\n",
       "\n",
       "mpl.figure.prototype.handle_close = function (fig, msg) {\n",
       "    var width = fig.canvas.width / fig.ratio;\n",
       "    fig.cell_info[0].output_area.element.off(\n",
       "        'cleared',\n",
       "        fig._remove_fig_handler\n",
       "    );\n",
       "\n",
       "    // Update the output cell to use the data from the current canvas.\n",
       "    fig.push_to_output();\n",
       "    var dataURL = fig.canvas.toDataURL();\n",
       "    // Re-enable the keyboard manager in IPython - without this line, in FF,\n",
       "    // the notebook keyboard shortcuts fail.\n",
       "    IPython.keyboard_manager.enable();\n",
       "    fig.parent_element.innerHTML =\n",
       "        '<img src=\"' + dataURL + '\" width=\"' + width + '\">';\n",
       "    fig.close_ws(fig, msg);\n",
       "};\n",
       "\n",
       "mpl.figure.prototype.close_ws = function (fig, msg) {\n",
       "    fig.send_message('closing', msg);\n",
       "    // fig.ws.close()\n",
       "};\n",
       "\n",
       "mpl.figure.prototype.push_to_output = function (_remove_interactive) {\n",
       "    // Turn the data on the canvas into data in the output cell.\n",
       "    var width = this.canvas.width / this.ratio;\n",
       "    var dataURL = this.canvas.toDataURL();\n",
       "    this.cell_info[1]['text/html'] =\n",
       "        '<img src=\"' + dataURL + '\" width=\"' + width + '\">';\n",
       "};\n",
       "\n",
       "mpl.figure.prototype.updated_canvas_event = function () {\n",
       "    // Tell IPython that the notebook contents must change.\n",
       "    IPython.notebook.set_dirty(true);\n",
       "    this.send_message('ack', {});\n",
       "    var fig = this;\n",
       "    // Wait a second, then push the new image to the DOM so\n",
       "    // that it is saved nicely (might be nice to debounce this).\n",
       "    setTimeout(function () {\n",
       "        fig.push_to_output();\n",
       "    }, 1000);\n",
       "};\n",
       "\n",
       "mpl.figure.prototype._init_toolbar = function () {\n",
       "    var fig = this;\n",
       "\n",
       "    var toolbar = document.createElement('div');\n",
       "    toolbar.classList = 'btn-toolbar';\n",
       "    this.root.appendChild(toolbar);\n",
       "\n",
       "    function on_click_closure(name) {\n",
       "        return function (_event) {\n",
       "            return fig.toolbar_button_onclick(name);\n",
       "        };\n",
       "    }\n",
       "\n",
       "    function on_mouseover_closure(tooltip) {\n",
       "        return function (event) {\n",
       "            if (!event.currentTarget.disabled) {\n",
       "                return fig.toolbar_button_onmouseover(tooltip);\n",
       "            }\n",
       "        };\n",
       "    }\n",
       "\n",
       "    fig.buttons = {};\n",
       "    var buttonGroup = document.createElement('div');\n",
       "    buttonGroup.classList = 'btn-group';\n",
       "    var button;\n",
       "    for (var toolbar_ind in mpl.toolbar_items) {\n",
       "        var name = mpl.toolbar_items[toolbar_ind][0];\n",
       "        var tooltip = mpl.toolbar_items[toolbar_ind][1];\n",
       "        var image = mpl.toolbar_items[toolbar_ind][2];\n",
       "        var method_name = mpl.toolbar_items[toolbar_ind][3];\n",
       "\n",
       "        if (!name) {\n",
       "            /* Instead of a spacer, we start a new button group. */\n",
       "            if (buttonGroup.hasChildNodes()) {\n",
       "                toolbar.appendChild(buttonGroup);\n",
       "            }\n",
       "            buttonGroup = document.createElement('div');\n",
       "            buttonGroup.classList = 'btn-group';\n",
       "            continue;\n",
       "        }\n",
       "\n",
       "        button = fig.buttons[name] = document.createElement('button');\n",
       "        button.classList = 'btn btn-default';\n",
       "        button.href = '#';\n",
       "        button.title = name;\n",
       "        button.innerHTML = '<i class=\"fa ' + image + ' fa-lg\"></i>';\n",
       "        button.addEventListener('click', on_click_closure(method_name));\n",
       "        button.addEventListener('mouseover', on_mouseover_closure(tooltip));\n",
       "        buttonGroup.appendChild(button);\n",
       "    }\n",
       "\n",
       "    if (buttonGroup.hasChildNodes()) {\n",
       "        toolbar.appendChild(buttonGroup);\n",
       "    }\n",
       "\n",
       "    // Add the status bar.\n",
       "    var status_bar = document.createElement('span');\n",
       "    status_bar.classList = 'mpl-message pull-right';\n",
       "    toolbar.appendChild(status_bar);\n",
       "    this.message = status_bar;\n",
       "\n",
       "    // Add the close button to the window.\n",
       "    var buttongrp = document.createElement('div');\n",
       "    buttongrp.classList = 'btn-group inline pull-right';\n",
       "    button = document.createElement('button');\n",
       "    button.classList = 'btn btn-mini btn-primary';\n",
       "    button.href = '#';\n",
       "    button.title = 'Stop Interaction';\n",
       "    button.innerHTML = '<i class=\"fa fa-power-off icon-remove icon-large\"></i>';\n",
       "    button.addEventListener('click', function (_evt) {\n",
       "        fig.handle_close(fig, {});\n",
       "    });\n",
       "    button.addEventListener(\n",
       "        'mouseover',\n",
       "        on_mouseover_closure('Stop Interaction')\n",
       "    );\n",
       "    buttongrp.appendChild(button);\n",
       "    var titlebar = this.root.querySelector('.ui-dialog-titlebar');\n",
       "    titlebar.insertBefore(buttongrp, titlebar.firstChild);\n",
       "};\n",
       "\n",
       "mpl.figure.prototype._remove_fig_handler = function (event) {\n",
       "    var fig = event.data.fig;\n",
       "    fig.close_ws(fig, {});\n",
       "};\n",
       "\n",
       "mpl.figure.prototype._root_extra_style = function (el) {\n",
       "    el.style.boxSizing = 'content-box'; // override notebook setting of border-box.\n",
       "};\n",
       "\n",
       "mpl.figure.prototype._canvas_extra_style = function (el) {\n",
       "    // this is important to make the div 'focusable\n",
       "    el.setAttribute('tabindex', 0);\n",
       "    // reach out to IPython and tell the keyboard manager to turn it's self\n",
       "    // off when our div gets focus\n",
       "\n",
       "    // location in version 3\n",
       "    if (IPython.notebook.keyboard_manager) {\n",
       "        IPython.notebook.keyboard_manager.register_events(el);\n",
       "    } else {\n",
       "        // location in version 2\n",
       "        IPython.keyboard_manager.register_events(el);\n",
       "    }\n",
       "};\n",
       "\n",
       "mpl.figure.prototype._key_event_extra = function (event, _name) {\n",
       "    var manager = IPython.notebook.keyboard_manager;\n",
       "    if (!manager) {\n",
       "        manager = IPython.keyboard_manager;\n",
       "    }\n",
       "\n",
       "    // Check for shift+enter\n",
       "    if (event.shiftKey && event.which === 13) {\n",
       "        this.canvas_div.blur();\n",
       "        // select the cell after this one\n",
       "        var index = IPython.notebook.find_cell_index(this.cell_info[0]);\n",
       "        IPython.notebook.select(index + 1);\n",
       "    }\n",
       "};\n",
       "\n",
       "mpl.figure.prototype.handle_save = function (fig, _msg) {\n",
       "    fig.ondownload(fig, null);\n",
       "};\n",
       "\n",
       "mpl.find_output_cell = function (html_output) {\n",
       "    // Return the cell and output element which can be found *uniquely* in the notebook.\n",
       "    // Note - this is a bit hacky, but it is done because the \"notebook_saving.Notebook\"\n",
       "    // IPython event is triggered only after the cells have been serialised, which for\n",
       "    // our purposes (turning an active figure into a static one), is too late.\n",
       "    var cells = IPython.notebook.get_cells();\n",
       "    var ncells = cells.length;\n",
       "    for (var i = 0; i < ncells; i++) {\n",
       "        var cell = cells[i];\n",
       "        if (cell.cell_type === 'code') {\n",
       "            for (var j = 0; j < cell.output_area.outputs.length; j++) {\n",
       "                var data = cell.output_area.outputs[j];\n",
       "                if (data.data) {\n",
       "                    // IPython >= 3 moved mimebundle to data attribute of output\n",
       "                    data = data.data;\n",
       "                }\n",
       "                if (data['text/html'] === html_output) {\n",
       "                    return [cell, data, j];\n",
       "                }\n",
       "            }\n",
       "        }\n",
       "    }\n",
       "};\n",
       "\n",
       "// Register the function which deals with the matplotlib target/channel.\n",
       "// The kernel may be null if the page has been refreshed.\n",
       "if (IPython.notebook.kernel !== null) {\n",
       "    IPython.notebook.kernel.comm_manager.register_target(\n",
       "        'matplotlib',\n",
       "        mpl.mpl_figure_comm\n",
       "    );\n",
       "}\n"
      ],
      "text/plain": [
       "<IPython.core.display.Javascript object>"
      ]
     },
     "metadata": {},
     "output_type": "display_data"
    },
    {
     "data": {
      "text/html": [
       "<img src=\"data:image/png;base64,iVBORw0KGgoAAAANSUhEUgAAASwAAACWCAYAAABkW7XSAAAEYklEQVR4Xu3UAQkAAAwCwdm/9HI83BLIOdw5AgQIRAQWySkmAQIEzmB5AgIEMgIGK1OVoAQIGCw/QIBARsBgZaoSlAABg+UHCBDICBisTFWCEiBgsPwAAQIZAYOVqUpQAgQMlh8gQCAjYLAyVQlKgIDB8gMECGQEDFamKkEJEDBYfoAAgYyAwcpUJSgBAgbLDxAgkBEwWJmqBCVAwGD5AQIEMgIGK1OVoAQIGCw/QIBARsBgZaoSlAABg+UHCBDICBisTFWCEiBgsPwAAQIZAYOVqUpQAgQMlh8gQCAjYLAyVQlKgIDB8gMECGQEDFamKkEJEDBYfoAAgYyAwcpUJSgBAgbLDxAgkBEwWJmqBCVAwGD5AQIEMgIGK1OVoAQIGCw/QIBARsBgZaoSlAABg+UHCBDICBisTFWCEiBgsPwAAQIZAYOVqUpQAgQMlh8gQCAjYLAyVQlKgIDB8gMECGQEDFamKkEJEDBYfoAAgYyAwcpUJSgBAgbLDxAgkBEwWJmqBCVAwGD5AQIEMgIGK1OVoAQIGCw/QIBARsBgZaoSlAABg+UHCBDICBisTFWCEiBgsPwAAQIZAYOVqUpQAgQMlh8gQCAjYLAyVQlKgIDB8gMECGQEDFamKkEJEDBYfoAAgYyAwcpUJSgBAgbLDxAgkBEwWJmqBCVAwGD5AQIEMgIGK1OVoAQIGCw/QIBARsBgZaoSlAABg+UHCBDICBisTFWCEiBgsPwAAQIZAYOVqUpQAgQMlh8gQCAjYLAyVQlKgIDB8gMECGQEDFamKkEJEDBYfoAAgYyAwcpUJSgBAgbLDxAgkBEwWJmqBCVAwGD5AQIEMgIGK1OVoAQIGCw/QIBARsBgZaoSlAABg+UHCBDICBisTFWCEiBgsPwAAQIZAYOVqUpQAgQMlh8gQCAjYLAyVQlKgIDB8gMECGQEDFamKkEJEDBYfoAAgYyAwcpUJSgBAgbLDxAgkBEwWJmqBCVAwGD5AQIEMgIGK1OVoAQIGCw/QIBARsBgZaoSlAABg+UHCBDICBisTFWCEiBgsPwAAQIZAYOVqUpQAgQMlh8gQCAjYLAyVQlKgIDB8gMECGQEDFamKkEJEDBYfoAAgYyAwcpUJSgBAgbLDxAgkBEwWJmqBCVAwGD5AQIEMgIGK1OVoAQIGCw/QIBARsBgZaoSlAABg+UHCBDICBisTFWCEiBgsPwAAQIZAYOVqUpQAgQMlh8gQCAjYLAyVQlKgIDB8gMECGQEDFamKkEJEDBYfoAAgYyAwcpUJSgBAgbLDxAgkBEwWJmqBCVAwGD5AQIEMgIGK1OVoAQIGCw/QIBARsBgZaoSlAABg+UHCBDICBisTFWCEiBgsPwAAQIZAYOVqUpQAgQMlh8gQCAjYLAyVQlKgIDB8gMECGQEDFamKkEJEDBYfoAAgYyAwcpUJSgBAgbLDxAgkBEwWJmqBCVAwGD5AQIEMgIGK1OVoAQIGCw/QIBARsBgZaoSlACBB1YxAJfjJb2jAAAAAElFTkSuQmCC\" width=\"300\">"
      ],
      "text/plain": [
       "<IPython.core.display.HTML object>"
      ]
     },
     "metadata": {},
     "output_type": "display_data"
    },
    {
     "name": "stdout",
     "output_type": "stream",
     "text": [
      "1.0196331659848277\n"
     ]
    }
   ],
   "source": [
    "%matplotlib notebook\n",
    "plt.figure()\n",
    "plt.imshow(images_aug_noisy[8])\n",
    "print(np.sum(images_aug_noisy[8]))"
   ]
  },
  {
   "cell_type": "code",
   "execution_count": 29,
   "metadata": {
    "scrolled": false
   },
   "outputs": [
    {
     "data": {
      "text/plain": [
       "<matplotlib.image.AxesImage at 0x7fd81070a490>"
      ]
     },
     "execution_count": 29,
     "metadata": {},
     "output_type": "execute_result"
    },
    {
     "data": {
      "image/png": "[encoded data removed]",
      "text/plain": [
       "<Figure size 432x288 with 1 Axes>"
      ]
     },
     "metadata": {
      "needs_background": "light"
     },
     "output_type": "display_data"
    },
    {
     "data": {
      "image/png": "[encoded data removed]",
      "text/plain": [
       "<Figure size 432x288 with 1 Axes>"
      ]
     },
     "metadata": {
      "needs_background": "light"
     },
     "output_type": "display_data"
    },
    {
     "data": {
      "image/png": "[encoded data removed]",
      "text/plain": [
       "<Figure size 432x288 with 1 Axes>"
      ]
     },
     "metadata": {
      "needs_background": "light"
     },
     "output_type": "display_data"
    },
    {
     "data": {
      "image/png": "[encoded data removed]",
      "text/plain": [
       "<Figure size 432x288 with 1 Axes>"
      ]
     },
     "metadata": {
      "needs_background": "light"
     },
     "output_type": "display_data"
    },
    {
     "data": {
      "image/png": "[encoded data removed]",
      "text/plain": [
       "<Figure size 432x288 with 1 Axes>"
      ]
     },
     "metadata": {
      "needs_background": "light"
     },
     "output_type": "display_data"
    },
    {
     "data": {
      "image/png": "[encoded data removed]",
      "text/plain": [
       "<Figure size 432x288 with 1 Axes>"
      ]
     },
     "metadata": {
      "needs_background": "light"
     },
     "output_type": "display_data"
    },
    {
     "data": {
      "image/png": "[encoded data removed]",
      "text/plain": [
       "<Figure size 432x288 with 1 Axes>"
      ]
     },
     "metadata": {
      "needs_background": "light"
     },
     "output_type": "display_data"
    },
    {
     "data": {
      "image/png": "[encoded data removed]",
      "text/plain": [
       "<Figure size 432x288 with 1 Axes>"
      ]
     },
     "metadata": {
      "needs_background": "light"
     },
     "output_type": "display_data"
    },
    {
     "data": {
      "image/png": "[encoded data removed]",
      "text/plain": [
       "<Figure size 432x288 with 1 Axes>"
      ]
     },
     "metadata": {
      "needs_background": "light"
     },
     "output_type": "display_data"
    },
    {
     "data": {
      "image/png": "[encoded data removed]",
      "text/plain": [
       "<Figure size 432x288 with 1 Axes>"
      ]
     },
     "metadata": {
      "needs_background": "light"
     },
     "output_type": "display_data"
    },
    {
     "data": {
      "image/png": "[encoded data removed]",
      "text/plain": [
       "<Figure size 432x288 with 1 Axes>"
      ]
     },
     "metadata": {
      "needs_background": "light"
     },
     "output_type": "display_data"
    },
    {
     "data": {
      "image/png": "[encoded data removed]",
      "text/plain": [
       "<Figure size 432x288 with 1 Axes>"
      ]
     },
     "metadata": {
      "needs_background": "light"
     },
     "output_type": "display_data"
    },
    {
     "data": {
      "image/png": "[encoded data removed]",
      "text/plain": [
       "<Figure size 432x288 with 1 Axes>"
      ]
     },
     "metadata": {
      "needs_background": "light"
     },
     "output_type": "display_data"
    },
    {
     "data": {
      "image/png": "[encoded data removed]",
      "text/plain": [
       "<Figure size 432x288 with 1 Axes>"
      ]
     },
     "metadata": {
      "needs_background": "light"
     },
     "output_type": "display_data"
    }
   ],
   "source": [
    "%matplotlib inline\n",
    "plt.figure()\n",
    "plt.imshow(images_dup[1])\n",
    "plt.figure()\n",
    "plt.imshow(images_aug_noisy[1])\n",
    "plt.figure()\n",
    "plt.imshow(images_dup[5])\n",
    "plt.figure()\n",
    "plt.imshow(images_aug_noisy[5])\n",
    "plt.figure()\n",
    "plt.imshow(images_dup[6])\n",
    "plt.figure()\n",
    "plt.imshow(images_aug_noisy[6])\n",
    "plt.figure()\n",
    "plt.imshow(images_dup[7])\n",
    "plt.figure()\n",
    "plt.imshow(images_aug_noisy[7])\n",
    "plt.figure()\n",
    "plt.imshow(images_dup[8])\n",
    "plt.figure()\n",
    "plt.imshow(images_aug_noisy[8])\n",
    "plt.figure()\n",
    "plt.imshow(images_dup[9])\n",
    "plt.figure()\n",
    "plt.imshow(images_aug_noisy[9])\n",
    "plt.figure()\n",
    "plt.imshow(images_dup[10])\n",
    "plt.figure()\n",
    "plt.imshow(images_aug_noisy[10])"
   ]
  },
  {
   "cell_type": "code",
   "execution_count": 30,
   "metadata": {},
   "outputs": [
    {
     "name": "stdout",
     "output_type": "stream",
     "text": [
      "0.3671784589535457\n",
      "0.0\n",
      "5.0\n",
      "0.0\n",
      "(3196, 1, 36, 36)\n",
      "(3196,)\n"
     ]
    },
    {
     "data": {
      "image/png": "[encoded data removed]",
      "text/plain": [
       "<Figure size 432x288 with 1 Axes>"
      ]
     },
     "metadata": {
      "needs_background": "light"
     },
     "output_type": "display_data"
    }
   ],
   "source": [
    "images_toUse = copy.deepcopy(images_aug)\n",
    "\n",
    "# normalize\n",
    "for ii in range(images_toUse.shape[0]):\n",
    "    images_toUse[ii] = images_toUse[ii] / np.sum(images_toUse[ii]) \n",
    "\n",
    "# %matplotlib inline\n",
    "# data_y = copy.deepcopy(labels[:643])\n",
    "# data_y = np.int16(data_y - 1)\n",
    "\n",
    "# data_y = train_y\n",
    "# data_y = copy.deepcopy(labels_posthoc_filledIn)\n",
    "data_y = copy.deepcopy(labels_aug)\n",
    "# data_y = labels\n",
    "# data_y = copy.deepcopy(train_y)\n",
    "\n",
    "# data_x = images[:643,:,:]\n",
    "# data_x = images\n",
    "# data_x = train_x\n",
    "# data_x = images_aug\n",
    "# data_x = images_aug_noisy\n",
    "data_x = images_toUse\n",
    "# data_x = images_dup\n",
    "# data_x = data_x / np.max(np.max(data_x, axis=2) , axis=1)[:,None,None]\n",
    "\n",
    "\n",
    "# sample_submission = pd.read_csv('sample_submission_I5njJSF.csv')\n",
    "\n",
    "# train.head()\n",
    "\n",
    "print(np.max(data_x))\n",
    "print(np.min(data_x))\n",
    "print(np.max(data_y))\n",
    "print(np.min(data_y))\n",
    "# plt.figure()\n",
    "# plt.imshow(np.squeeze(data_y[3,:,:,:]))\n",
    "# data_y\n",
    "plt.figure()\n",
    "plt.hist(data_y,20);\n",
    "\n",
    "# converting training images into torch format\n",
    "data_x = data_x[:,None,:,:]\n",
    "# train_x  = torch.from_numpy(train_x)\n",
    "#data_x = torch.as_tensor(data_x)#.type('torch.cuda.FloatTensor')\n",
    "\n",
    "# converting the target into torch format\n",
    "data_y = data_y.astype(int);\n",
    "# train_y = torch.from_numpy(train_y)\n",
    "#data_y = torch.as_tensor(data_y)#.type('torch.cuda.LongTensor')\n",
    "\n",
    "# shape of training data\n",
    "print(data_x.shape)\n",
    "print(data_y.shape)"
   ]
  },
  {
   "cell_type": "code",
   "execution_count": 31,
   "metadata": {},
   "outputs": [
    {
     "data": {
      "text/plain": [
       "(3196, 1, 36, 36)"
      ]
     },
     "execution_count": 31,
     "metadata": {},
     "output_type": "execute_result"
    }
   ],
   "source": [
    "data_x.shape"
   ]
  },
  {
   "cell_type": "code",
   "execution_count": 32,
   "metadata": {},
   "outputs": [
    {
     "name": "stdout",
     "output_type": "stream",
     "text": [
      "(2928, 1, 36, 36)\n",
      "(2928,)\n"
     ]
    }
   ],
   "source": [
    "heldOut_x = val_x[: , None , : , :] #torch.as_tensor(val_x[: , None , : , :])#.type('torch.cuda.FloatTensor')\n",
    "heldOut_y = val_y.astype(int) #torch.as_tensor(val_y.astype(int))#.type('torch.cuda.LongTensor')\n",
    "\n",
    "# hO_tea_x = tea_x[: , None , : , :]\n",
    "# hO_tea_y = tea_y.astype(int)\n",
    "# hO_teb_x = teb_x[: , None , : , :]\n",
    "# hO_teb_y = teb_y.astype(int)\n",
    "print(heldOut_x.shape)\n",
    "print(heldOut_y.shape)"
   ]
  },
  {
   "cell_type": "code",
   "execution_count": null,
   "metadata": {},
   "outputs": [],
   "source": []
  },
  {
   "cell_type": "code",
   "execution_count": 33,
   "metadata": {},
   "outputs": [],
   "source": [
    "from sklearn.metrics import accuracy_score\n",
    "import tensorflow as tf\n",
    "keras = tf.keras\n",
    "layers = keras.layers\n",
    "regularizers = keras.regularizers\n",
    "\n",
    "# Reorganize \"x\" Data to Have Channels as Last Dimension\n",
    "reorg_x = lambda x: np.transpose(x,(0,2,3,1))"
   ]
  },
  {
   "cell_type": "code",
   "execution_count": 34,
   "metadata": {},
   "outputs": [],
   "source": [
    "# Define LeNet Architecture (with L1 / L2 regularization in place of DropOut)\n",
    "\n",
    "l1_reg = 1e-5\n",
    "l2_reg = 1e-4\n",
    "\n",
    "rich_model_l12 = keras.Sequential([\n",
    "    layers.Conv2D(16, 5, (1,1),\n",
    "                        kernel_regularizer=regularizers.l1_l2(l1=l1_reg, l2=l2_reg)\n",
    "                       ),\n",
    "    layers.Activation(keras.activations.relu),\n",
    "    layers.Conv2D(16, 5, (1,1),\n",
    "                        kernel_regularizer=regularizers.l1_l2(l1=l1_reg, l2=l2_reg)\n",
    "                       ),\n",
    "    layers.MaxPool2D((2,2), 2),\n",
    "    layers.Activation(keras.activations.relu),\n",
    "    layers.Conv2D(32, 5, (1,1), padding='same',\n",
    "                        kernel_regularizer=regularizers.l1_l2(l1=l1_reg, l2=l2_reg)\n",
    "                       ),\n",
    "    layers.MaxPool2D((2,2), 2),\n",
    "    layers.Activation(keras.activations.relu),\n",
    "    layers.Conv2D(64, 5, (1,1),\n",
    "                        kernel_regularizer=regularizers.l1_l2(l1=l1_reg, l2=l2_reg)\n",
    "                       ),\n",
    "    layers.MaxPool2D((2,2), 2),\n",
    "    layers.Activation(keras.activations.relu),\n",
    "    \n",
    "    layers.Flatten(),\n",
    "    \n",
    "    layers.Dense(256),\n",
    "    layers.Activation(keras.activations.relu),\n",
    "    layers.Dense(6)\n",
    "    \n",
    "])\n",
    "\n",
    "dropout_prob = 0.4\n",
    "\n",
    "rich_model = keras.Sequential([\n",
    "    layers.Conv2D(16, 5, (1,1)),\n",
    "    layers.Activation(keras.activations.relu),\n",
    "    layers.Conv2D(16, 5, (1,1)),\n",
    "    layers.MaxPool2D((2,2), 2),\n",
    "    layers.Activation(keras.activations.relu),\n",
    "    \n",
    "    layers.Dropout(dropout_prob*1),\n",
    "    \n",
    "    \n",
    "    \n",
    "    \n",
    "    \n",
    "    \n",
    "    layers.Conv2D(32, 5, (1,1), padding='same'),\n",
    "    layers.MaxPool2D((2,2), 2),\n",
    "    layers.Activation(keras.activations.relu),\n",
    "    \n",
    "    layers.Dropout(dropout_prob*1),\n",
    "    \n",
    "    \n",
    "    \n",
    "    \n",
    "    \n",
    "    \n",
    "    \n",
    "    layers.Conv2D(64, 5, (1,1)),\n",
    "    layers.MaxPool2D((2,2), 2),\n",
    "    layers.Activation(keras.activations.relu),\n",
    "    \n",
    "    layers.Dropout(dropout_prob*1),   \n",
    "    \n",
    "    \n",
    "    \n",
    "    \n",
    "    \n",
    "    \n",
    "    \n",
    "    layers.Flatten(),\n",
    "    \n",
    "    layers.Dense(256),\n",
    "    layers.Activation(keras.activations.relu),\n",
    "    \n",
    "    layers.Dropout(dropout_prob*1),\n",
    "    \n",
    "    layers.Dense(6)\n",
    "    \n",
    "])\n",
    "\n"
   ]
  },
  {
   "cell_type": "code",
   "execution_count": 35,
   "metadata": {},
   "outputs": [],
   "source": [
    "# Define an identity block for ResNet\n",
    "# Adapted From: https://github.com/keras-team/keras-applications/blob/master/keras_applications/resnet50.py\n",
    "def make_ResNet_conv_block(inp,\n",
    "                           kernel_size=5,\n",
    "                           filt=(16,32,64),\n",
    "                           strides=(2,2),\n",
    "                           l1_reg=1e-5,\n",
    "                           l2_reg=1e-4):\n",
    "    \n",
    "    filt1, filt2, filt3 = filt[0], filt[1], filt[2]\n",
    "\n",
    "    prv = layers.Conv2D(filt1, (1, 1), strides,\n",
    "                        kernel_initializer='he_normal',\n",
    "                        kernel_regularizer=regularizers.l1_l2(l1=l1_reg, l2=l2_reg)\n",
    "                       )(inp)\n",
    "    prv = layers.BatchNormalization(axis=3)(prv)\n",
    "    prv = layers.Activation('relu')(prv)\n",
    "\n",
    "    prv = layers.Conv2D(filt2, (kernel_size, kernel_size), (1,1),\n",
    "                        kernel_initializer='he_normal', padding='same',\n",
    "                        kernel_regularizer=regularizers.l1_l2(l1=l1_reg, l2=l2_reg)\n",
    "                       )(prv)\n",
    "    prv = layers.BatchNormalization(axis=3)(prv)\n",
    "    prv = layers.Activation('relu')(prv)\n",
    "\n",
    "    prv = layers.Conv2D(filt3, (1, 1), (1,1),\n",
    "                        kernel_initializer='he_normal',\n",
    "                        kernel_regularizer=regularizers.l1_l2(l1=l1_reg, l2=l2_reg)\n",
    "                       )(prv)\n",
    "    prv = layers.BatchNormalization(axis=3)(prv)\n",
    "\n",
    "    shrt = layers.Conv2D(filt3, (1,1), strides,\n",
    "                        kernel_initializer='he_normal',\n",
    "                        kernel_regularizer=regularizers.l1_l2(l1=l1_reg, l2=l2_reg)\n",
    "                       )(inp)\n",
    "    shrt = layers.BatchNormalization(axis=3)(shrt)\n",
    "\n",
    "    prv = layers.Lambda(lambda x: x[0] + x[1])([prv, shrt])\n",
    "\n",
    "    return prv\n",
    "    "
   ]
  },
  {
   "cell_type": "code",
   "execution_count": 36,
   "metadata": {},
   "outputs": [],
   "source": [
    "# Define an identity block for ResNet\n",
    "# Adapted From: https://github.com/keras-team/keras-applications/blob/master/keras_applications/resnet50.py\n",
    "def make_ResNet_id_block(inp,\n",
    "                           kernel_size=5,\n",
    "                           filt=(16,32,64),\n",
    "                           l1_reg=1e-5,\n",
    "                           l2_reg=1e-4):\n",
    "    \n",
    "    filt1, filt2, filt3 = filt[0], filt[1], filt[2]\n",
    "\n",
    "    prv = layers.Conv2D(filt1, (1, 1), (1,1),\n",
    "                        kernel_initializer='he_normal',\n",
    "                        kernel_regularizer=regularizers.l1_l2(l1=l1_reg, l2=l2_reg)\n",
    "                       )(inp)\n",
    "    prv = layers.BatchNormalization(axis=3)(prv)\n",
    "    prv = layers.Activation('relu')(prv)\n",
    "\n",
    "    prv = layers.Conv2D(filt2, (kernel_size, kernel_size), (1,1),\n",
    "                        kernel_initializer='he_normal', padding='same',\n",
    "                        kernel_regularizer=regularizers.l1_l2(l1=l1_reg, l2=l2_reg)\n",
    "                       )(prv)\n",
    "    prv = layers.BatchNormalization(axis=3)(prv)\n",
    "    prv = layers.Activation('relu')(prv)\n",
    "\n",
    "    prv = layers.Conv2D(filt3, (1, 1), (1,1),\n",
    "                        kernel_initializer='he_normal',\n",
    "                        kernel_regularizer=regularizers.l1_l2(l1=l1_reg, l2=l2_reg)\n",
    "                       )(prv)\n",
    "    prv = layers.BatchNormalization(axis=3)(prv)\n",
    "\n",
    "    prv = layers.Lambda(lambda x: x[0] + x[1])([prv, inp])\n",
    "\n",
    "    return prv\n",
    "    "
   ]
  },
  {
   "cell_type": "code",
   "execution_count": null,
   "metadata": {},
   "outputs": [],
   "source": []
  },
  {
   "cell_type": "code",
   "execution_count": 37,
   "metadata": {},
   "outputs": [],
   "source": [
    "tf.random.set_seed(seed)\n",
    "\n",
    "# Create ResNet Architecture\n",
    "\n",
    "inp = layers.Input(shape=reorg_x(data_x).shape[1:])\n",
    "\n",
    "prv = inp\n",
    "\n",
    "# prv = layers.ZeroPadding2D(padding=(3, 3))(prv)\n",
    "# prv = layers.Conv2D(64, (7, 7),\n",
    "#                   strides=(2, 2),\n",
    "#                   padding='valid',\n",
    "#                   kernel_initializer='he_normal')(prv)\n",
    "# prv = layers.BatchNormalization(axis=3)(prv)\n",
    "# prv = layers.Activation('relu')(prv)\n",
    "# prv = layers.ZeroPadding2D(padding=(1, 1))(prv)\n",
    "# prv = layers.MaxPooling2D((3, 3), strides=(2, 2))(prv)\n",
    "\n",
    "\n",
    "prv = make_ResNet_conv_block(prv, 5, [64, 64, 128], strides=(1,1))\n",
    "prv = make_ResNet_id_block(prv, 5, [64, 64, 128])\n",
    "prv = make_ResNet_id_block(prv, 5, [64, 64, 128])\n",
    "\n",
    "\n",
    "# prv = make_ResNet_conv_block(prv, 5, [16, 32, 64], strides=(1,1))\n",
    "# prv = make_ResNet_id_block(prv, 5, [16, 32, 64],\n",
    "#                            l1_reg=1e-8,\n",
    "#                            l2_reg=1e-7)\n",
    "# prv = make_ResNet_id_block(prv, 5, [16, 32, 64],\n",
    "#                            l1_reg=1e-8,\n",
    "#                            l2_reg=1e-7)\n",
    "\n",
    "# prv = make_ResNet_conv_block(prv, 3, [128, 128, 512])\n",
    "# prv = make_ResNet_id_block(prv, 3, [128, 128, 512])\n",
    "# prv = make_ResNet_id_block(prv, 3, [128, 128, 512])\n",
    "# prv = make_ResNet_id_block(prv, 3, [128, 128, 512])\n",
    "\n",
    "# prv = make_ResNet_conv_block(prv, 3, [256, 256, 1024])\n",
    "# prv = make_ResNet_id_block(prv, 3, [256, 256, 1024])\n",
    "# prv = make_ResNet_id_block(prv, 3, [256, 256, 1024])\n",
    "# prv = make_ResNet_id_block(prv, 3, [256, 256, 1024])\n",
    "# prv = make_ResNet_id_block(prv, 3, [256, 256, 1024])\n",
    "# prv = make_ResNet_id_block(prv, 3, [256, 256, 1024])\n",
    "\n",
    "# prv = make_ResNet_conv_block(prv, 3, [512, 512, 2048])\n",
    "# prv = make_ResNet_id_block(prv, 3, [512, 512, 2048])\n",
    "# prv = make_ResNet_id_block(prv, 3, [512, 512, 2048])\n",
    "\n",
    "prv = layers.Flatten()(prv)\n",
    "prv = layers.Dense(256)(prv)\n",
    "prv = layers.Activation(keras.activations.relu)(prv)\n",
    "\n",
    "# prv = layers.GlobalMaxPooling2D()(prv)\n",
    "\n",
    "# out = layers.Dense(6, activation='softmax')(prv)\n",
    "out = layers.Dense(6)(prv)\n",
    "\n",
    "# out = prv\n",
    "\n",
    "jz_model = keras.Model(inputs=[inp], outputs=[out])"
   ]
  },
  {
   "cell_type": "code",
   "execution_count": 38,
   "metadata": {},
   "outputs": [
    {
     "data": {
      "text/plain": [
       "TensorShape([None, 256])"
      ]
     },
     "execution_count": 38,
     "metadata": {},
     "output_type": "execute_result"
    }
   ],
   "source": [
    "prv.shape"
   ]
  },
  {
   "cell_type": "code",
   "execution_count": 39,
   "metadata": {},
   "outputs": [],
   "source": [
    "# Select Model Architecture to Train\n",
    "\n",
    "# model = rich_model\n",
    "model = jz_model"
   ]
  },
  {
   "cell_type": "code",
   "execution_count": 40,
   "metadata": {},
   "outputs": [],
   "source": [
    "# Data Augmentation Generator\n",
    "# Adapted from: https://machinelearningmastery.com/how-to-configure-image-data-augmentation-when-training-deep-learning-neural-networks/\n",
    "from keras.preprocessing.image import ImageDataGenerator\n",
    "datagen = ImageDataGenerator(\n",
    "    rotation_range=180,\n",
    "    horizontal_flip=True,\n",
    "    vertical_flip=True,\n",
    "    shear_range=30,\n",
    "    width_shift_range=(-0.05,0.05),\n",
    "    height_shift_range=(-0.05,0.05),\n",
    "#     brightness_range=(-0.1, 0.1),\n",
    "    zoom_range=(0.6, 1.7),\n",
    "#     preprocessing_function=lambda x: x / np.sum(x) \n",
    ")"
   ]
  },
  {
   "cell_type": "code",
   "execution_count": 41,
   "metadata": {
    "scrolled": false
   },
   "outputs": [
    {
     "name": "stdout",
     "output_type": "stream",
     "text": [
      "Epoch 1/200\n",
      "100/100 [==============================] - 73s 728ms/step - loss: 1.5778 - accuracy: 0.4540 - val_loss: 3.6793 - val_accuracy: 0.0867\n",
      "Epoch 2/200\n",
      "100/100 [==============================] - 72s 716ms/step - loss: 1.3582 - accuracy: 0.5016 - val_loss: 4.0961 - val_accuracy: 0.0786\n",
      "Epoch 3/200\n",
      "100/100 [==============================] - 72s 722ms/step - loss: 1.3027 - accuracy: 0.5263 - val_loss: 4.5624 - val_accuracy: 0.0939\n",
      "Epoch 4/200\n",
      "100/100 [==============================] - 71s 710ms/step - loss: 1.2519 - accuracy: 0.5435 - val_loss: 3.4403 - val_accuracy: 0.1042\n",
      "Epoch 5/200\n",
      "100/100 [==============================] - 68s 683ms/step - loss: 1.2211 - accuracy: 0.5616 - val_loss: 1.7505 - val_accuracy: 0.5895\n",
      "Epoch 6/200\n",
      "100/100 [==============================] - 67s 672ms/step - loss: 1.2113 - accuracy: 0.5701 - val_loss: 1.3460 - val_accuracy: 0.6636\n",
      "Epoch 7/200\n",
      "100/100 [==============================] - 67s 673ms/step - loss: 1.1741 - accuracy: 0.5954 - val_loss: 1.0314 - val_accuracy: 0.7295\n",
      "Epoch 8/200\n",
      "100/100 [==============================] - 68s 675ms/step - loss: 1.1767 - accuracy: 0.5982 - val_loss: 0.9144 - val_accuracy: 0.7678\n",
      "Epoch 9/200\n",
      "100/100 [==============================] - 70s 696ms/step - loss: 1.1540 - accuracy: 0.6180 - val_loss: 1.0343 - val_accuracy: 0.7585\n",
      "Epoch 10/200\n",
      "100/100 [==============================] - 72s 716ms/step - loss: 1.1386 - accuracy: 0.6220 - val_loss: 1.0783 - val_accuracy: 0.7339\n",
      "Epoch 11/200\n",
      "100/100 [==============================] - 71s 712ms/step - loss: 1.1435 - accuracy: 0.6189 - val_loss: 1.0234 - val_accuracy: 0.7606\n",
      "Epoch 12/200\n",
      "100/100 [==============================] - 71s 715ms/step - loss: 1.1374 - accuracy: 0.6173 - val_loss: 0.8888 - val_accuracy: 0.7848\n",
      "Epoch 13/200\n",
      "100/100 [==============================] - 71s 712ms/step - loss: 1.0955 - accuracy: 0.6361 - val_loss: 1.0278 - val_accuracy: 0.7801\n",
      "Epoch 14/200\n",
      "100/100 [==============================] - 71s 714ms/step - loss: 1.0756 - accuracy: 0.6464 - val_loss: 0.9526 - val_accuracy: 0.7783\n",
      "Epoch 15/200\n",
      "100/100 [==============================] - 71s 714ms/step - loss: 1.0866 - accuracy: 0.6439 - val_loss: 0.8684 - val_accuracy: 0.7889\n",
      "Epoch 16/200\n",
      "100/100 [==============================] - 71s 714ms/step - loss: 1.0666 - accuracy: 0.6577 - val_loss: 0.8143 - val_accuracy: 0.8077\n",
      "Epoch 17/200\n",
      "100/100 [==============================] - 73s 731ms/step - loss: 1.0616 - accuracy: 0.6483 - val_loss: 0.8666 - val_accuracy: 0.7859\n",
      "Epoch 18/200\n",
      "100/100 [==============================] - 72s 718ms/step - loss: 1.0547 - accuracy: 0.6702 - val_loss: 0.8731 - val_accuracy: 0.7889\n",
      "Epoch 19/200\n",
      "100/100 [==============================] - 72s 720ms/step - loss: 1.0456 - accuracy: 0.6568 - val_loss: 0.8240 - val_accuracy: 0.8070\n",
      "Epoch 20/200\n",
      "100/100 [==============================] - 72s 717ms/step - loss: 1.0399 - accuracy: 0.6671 - val_loss: 0.8523 - val_accuracy: 0.8012\n",
      "Epoch 21/200\n",
      "100/100 [==============================] - 72s 716ms/step - loss: 1.0501 - accuracy: 0.6586 - val_loss: 0.7832 - val_accuracy: 0.8145\n",
      "Epoch 22/200\n",
      "100/100 [==============================] - 72s 717ms/step - loss: 1.0275 - accuracy: 0.6693 - val_loss: 0.8626 - val_accuracy: 0.8098\n",
      "Epoch 23/200\n",
      "100/100 [==============================] - 71s 715ms/step - loss: 1.0391 - accuracy: 0.6596 - val_loss: 0.7903 - val_accuracy: 0.8169\n",
      "Epoch 24/200\n",
      "100/100 [==============================] - 72s 718ms/step - loss: 1.0281 - accuracy: 0.6796 - val_loss: 1.0034 - val_accuracy: 0.7797\n",
      "Epoch 25/200\n",
      "100/100 [==============================] - 72s 716ms/step - loss: 1.0186 - accuracy: 0.6715 - val_loss: 0.8943 - val_accuracy: 0.7910\n",
      "Epoch 26/200\n",
      "100/100 [==============================] - 72s 715ms/step - loss: 1.0285 - accuracy: 0.6671 - val_loss: 0.8236 - val_accuracy: 0.8084\n",
      "Epoch 27/200\n",
      "100/100 [==============================] - 72s 716ms/step - loss: 1.0010 - accuracy: 0.6962 - val_loss: 0.7944 - val_accuracy: 0.8135\n",
      "Epoch 28/200\n",
      "100/100 [==============================] - 72s 717ms/step - loss: 0.9990 - accuracy: 0.6909 - val_loss: 0.8115 - val_accuracy: 0.8251\n",
      "Epoch 29/200\n",
      "100/100 [==============================] - 72s 717ms/step - loss: 0.9950 - accuracy: 0.6880 - val_loss: 0.9930 - val_accuracy: 0.7889\n",
      "Epoch 30/200\n",
      "100/100 [==============================] - 72s 718ms/step - loss: 0.9884 - accuracy: 0.7034 - val_loss: 0.9138 - val_accuracy: 0.7872\n",
      "Epoch 31/200\n",
      "100/100 [==============================] - 72s 720ms/step - loss: 0.9996 - accuracy: 0.6877 - val_loss: 0.7293 - val_accuracy: 0.8286\n",
      "Epoch 32/200\n",
      "100/100 [==============================] - 73s 729ms/step - loss: 0.9804 - accuracy: 0.7040 - val_loss: 0.6940 - val_accuracy: 0.8395\n",
      "Epoch 33/200\n",
      "100/100 [==============================] - 70s 705ms/step - loss: 0.9864 - accuracy: 0.6962 - val_loss: 0.8124 - val_accuracy: 0.8180\n",
      "Epoch 34/200\n",
      "100/100 [==============================] - 70s 700ms/step - loss: 0.9833 - accuracy: 0.6987 - val_loss: 0.7575 - val_accuracy: 0.8292\n",
      "Epoch 35/200\n",
      "100/100 [==============================] - 71s 705ms/step - loss: 0.9814 - accuracy: 0.6993 - val_loss: 0.8929 - val_accuracy: 0.7910\n",
      "Epoch 36/200\n",
      "100/100 [==============================] - 72s 717ms/step - loss: 0.9703 - accuracy: 0.7037 - val_loss: 0.7127 - val_accuracy: 0.8344\n",
      "Epoch 37/200\n",
      "100/100 [==============================] - 71s 711ms/step - loss: 0.9660 - accuracy: 0.7237 - val_loss: 0.7837 - val_accuracy: 0.8190\n",
      "Epoch 38/200\n",
      "100/100 [==============================] - 70s 700ms/step - loss: 0.9709 - accuracy: 0.7034 - val_loss: 0.6856 - val_accuracy: 0.8501\n",
      "Epoch 39/200\n",
      "100/100 [==============================] - 70s 702ms/step - loss: 0.9490 - accuracy: 0.7128 - val_loss: 0.7023 - val_accuracy: 0.8381\n",
      "Epoch 40/200\n",
      "100/100 [==============================] - 70s 702ms/step - loss: 0.9505 - accuracy: 0.7049 - val_loss: 0.7159 - val_accuracy: 0.8426\n",
      "Epoch 41/200\n",
      "100/100 [==============================] - 70s 699ms/step - loss: 0.9523 - accuracy: 0.7140 - val_loss: 0.7147 - val_accuracy: 0.8412\n",
      "Epoch 42/200\n",
      "100/100 [==============================] - 70s 700ms/step - loss: 0.9413 - accuracy: 0.7084 - val_loss: 0.7557 - val_accuracy: 0.8207\n",
      "Epoch 43/200\n",
      "100/100 [==============================] - 70s 701ms/step - loss: 0.9614 - accuracy: 0.7065 - val_loss: 0.6757 - val_accuracy: 0.8385\n",
      "Epoch 44/200\n",
      "100/100 [==============================] - 72s 715ms/step - loss: 0.9451 - accuracy: 0.7222 - val_loss: 0.7613 - val_accuracy: 0.8289\n",
      "Epoch 45/200\n",
      "100/100 [==============================] - 71s 708ms/step - loss: 0.9339 - accuracy: 0.7128 - val_loss: 0.7015 - val_accuracy: 0.8388\n",
      "Epoch 46/200\n",
      "100/100 [==============================] - 205s 2s/step - loss: 0.9300 - accuracy: 0.7240 - val_loss: 0.6942 - val_accuracy: 0.8470\n",
      "Epoch 47/200\n",
      "100/100 [==============================] - 68s 684ms/step - loss: 0.9325 - accuracy: 0.7237 - val_loss: 0.7584 - val_accuracy: 0.8408\n",
      "Epoch 48/200\n",
      "100/100 [==============================] - 67s 671ms/step - loss: 0.9418 - accuracy: 0.7112 - val_loss: 0.7407 - val_accuracy: 0.8412\n",
      "Epoch 49/200\n",
      "100/100 [==============================] - 68s 683ms/step - loss: 0.9424 - accuracy: 0.7171 - val_loss: 0.7305 - val_accuracy: 0.8412\n",
      "Epoch 50/200\n",
      "100/100 [==============================] - 68s 681ms/step - loss: 0.9339 - accuracy: 0.7253 - val_loss: 0.7062 - val_accuracy: 0.8439\n",
      "Epoch 51/200\n",
      "100/100 [==============================] - 67s 672ms/step - loss: 0.9304 - accuracy: 0.7240 - val_loss: 0.7203 - val_accuracy: 0.8415\n",
      "Epoch 52/200\n",
      "100/100 [==============================] - 67s 672ms/step - loss: 0.9050 - accuracy: 0.7356 - val_loss: 0.6682 - val_accuracy: 0.8562\n",
      "Epoch 53/200\n",
      "100/100 [==============================] - 67s 667ms/step - loss: 0.9206 - accuracy: 0.7268 - val_loss: 0.6789 - val_accuracy: 0.8494\n",
      "Epoch 54/200\n",
      "100/100 [==============================] - 67s 671ms/step - loss: 0.9248 - accuracy: 0.7200 - val_loss: 0.6777 - val_accuracy: 0.8518\n",
      "Epoch 55/200\n",
      "100/100 [==============================] - 72s 725ms/step - loss: 0.9369 - accuracy: 0.7178 - val_loss: 0.6865 - val_accuracy: 0.8456\n",
      "Epoch 56/200\n",
      "100/100 [==============================] - 72s 717ms/step - loss: 0.9242 - accuracy: 0.7240 - val_loss: 0.6612 - val_accuracy: 0.8552\n"
     ]
    },
    {
     "name": "stdout",
     "output_type": "stream",
     "text": [
      "Epoch 57/200\n",
      "100/100 [==============================] - 72s 719ms/step - loss: 0.9010 - accuracy: 0.7356 - val_loss: 0.6956 - val_accuracy: 0.8405\n",
      "Epoch 58/200\n",
      "100/100 [==============================] - 70s 701ms/step - loss: 0.9084 - accuracy: 0.7334 - val_loss: 0.7022 - val_accuracy: 0.8402\n",
      "Epoch 59/200\n",
      "100/100 [==============================] - 70s 702ms/step - loss: 0.9311 - accuracy: 0.7200 - val_loss: 0.7370 - val_accuracy: 0.8258\n",
      "Epoch 60/200\n",
      "100/100 [==============================] - 81s 809ms/step - loss: 0.9171 - accuracy: 0.7225 - val_loss: 0.6582 - val_accuracy: 0.8487\n",
      "Epoch 61/200\n",
      "100/100 [==============================] - 80s 797ms/step - loss: 0.9128 - accuracy: 0.7247 - val_loss: 0.6893 - val_accuracy: 0.8467\n",
      "Epoch 62/200\n",
      "100/100 [==============================] - 81s 810ms/step - loss: 0.9310 - accuracy: 0.7153 - val_loss: 0.6451 - val_accuracy: 0.8576\n",
      "Epoch 63/200\n",
      "100/100 [==============================] - 76s 763ms/step - loss: 0.8970 - accuracy: 0.7400 - val_loss: 0.7089 - val_accuracy: 0.8419\n",
      "Epoch 64/200\n",
      "100/100 [==============================] - 75s 750ms/step - loss: 0.8983 - accuracy: 0.7409 - val_loss: 0.7663 - val_accuracy: 0.8142\n",
      "Epoch 65/200\n",
      "100/100 [==============================] - 73s 734ms/step - loss: 0.9096 - accuracy: 0.7212 - val_loss: 0.6579 - val_accuracy: 0.8654\n",
      "Epoch 66/200\n",
      "100/100 [==============================] - 72s 722ms/step - loss: 0.9034 - accuracy: 0.7297 - val_loss: 0.6728 - val_accuracy: 0.8576\n",
      "Epoch 67/200\n",
      "100/100 [==============================] - 73s 728ms/step - loss: 0.8917 - accuracy: 0.7428 - val_loss: 0.6671 - val_accuracy: 0.8620\n",
      "Epoch 68/200\n",
      "100/100 [==============================] - 71s 712ms/step - loss: 0.8873 - accuracy: 0.7378 - val_loss: 0.6995 - val_accuracy: 0.8504\n",
      "Epoch 69/200\n",
      "100/100 [==============================] - 71s 708ms/step - loss: 0.8905 - accuracy: 0.7406 - val_loss: 0.6833 - val_accuracy: 0.8497\n",
      "Epoch 70/200\n",
      "100/100 [==============================] - 71s 707ms/step - loss: 0.8892 - accuracy: 0.7412 - val_loss: 0.7573 - val_accuracy: 0.8255\n",
      "Epoch 71/200\n",
      "100/100 [==============================] - 71s 713ms/step - loss: 0.8964 - accuracy: 0.7356 - val_loss: 0.6856 - val_accuracy: 0.8480\n",
      "Epoch 72/200\n",
      "100/100 [==============================] - 71s 708ms/step - loss: 0.9011 - accuracy: 0.7347 - val_loss: 0.6568 - val_accuracy: 0.8460\n",
      "Epoch 73/200\n",
      "100/100 [==============================] - 69s 694ms/step - loss: 0.8915 - accuracy: 0.7387 - val_loss: 0.6873 - val_accuracy: 0.8511\n",
      "Epoch 74/200\n",
      "100/100 [==============================] - 71s 709ms/step - loss: 0.8767 - accuracy: 0.7434 - val_loss: 0.6529 - val_accuracy: 0.8579\n",
      "Epoch 75/200\n",
      "100/100 [==============================] - 72s 725ms/step - loss: 0.8927 - accuracy: 0.7303 - val_loss: 0.6807 - val_accuracy: 0.8473\n",
      "Epoch 76/200\n",
      "100/100 [==============================] - 68s 678ms/step - loss: 0.8923 - accuracy: 0.7406 - val_loss: 0.7894 - val_accuracy: 0.8180\n",
      "Epoch 77/200\n",
      "100/100 [==============================] - 69s 689ms/step - loss: 0.8985 - accuracy: 0.7322 - val_loss: 0.6904 - val_accuracy: 0.8521\n",
      "Epoch 78/200\n",
      "100/100 [==============================] - 67s 674ms/step - loss: 0.8703 - accuracy: 0.7478 - val_loss: 0.7004 - val_accuracy: 0.8429\n",
      "Epoch 79/200\n",
      "100/100 [==============================] - 73s 731ms/step - loss: 0.8728 - accuracy: 0.7497 - val_loss: 0.7662 - val_accuracy: 0.8166\n",
      "Epoch 80/200\n",
      "100/100 [==============================] - 71s 712ms/step - loss: 0.8809 - accuracy: 0.7494 - val_loss: 0.6936 - val_accuracy: 0.8548\n",
      "Epoch 81/200\n",
      "100/100 [==============================] - 73s 732ms/step - loss: 0.8768 - accuracy: 0.7462 - val_loss: 0.7197 - val_accuracy: 0.8350\n",
      "Epoch 82/200\n",
      "100/100 [==============================] - 71s 712ms/step - loss: 0.8818 - accuracy: 0.7462 - val_loss: 0.6771 - val_accuracy: 0.8480\n"
     ]
    },
    {
     "data": {
      "text/plain": [
       "'../../models/resnet_2i'"
      ]
     },
     "execution_count": 41,
     "metadata": {},
     "output_type": "execute_result"
    }
   ],
   "source": [
    "# Compile Model\n",
    "model.compile(optimizer=keras.optimizers.Adam(learning_rate=1e-5),\n",
    "              loss=keras.losses.SparseCategoricalCrossentropy(from_logits=True),\n",
    "              metrics=['accuracy']\n",
    "             )\n",
    "\n",
    "\n",
    "# Save Training Curve Data\n",
    "history = model.fit(datagen.flow(reorg_x(data_x), data_y, batch_size=32),\n",
    "                    validation_data=(reorg_x(heldOut_x), heldOut_y),\n",
    "                    callbacks=keras.callbacks.EarlyStopping(monitor=\"val_loss\",\n",
    "                                                            patience=20,\n",
    "                                                            restore_best_weights=True),\n",
    "\n",
    "                    epochs=200)\n",
    "\n",
    "res_name = 'resnet_2i'\n",
    "\n",
    "f'../../models/{res_name}'"
   ]
  },
  {
   "cell_type": "code",
   "execution_count": 42,
   "metadata": {},
   "outputs": [
    {
     "name": "stdout",
     "output_type": "stream",
     "text": [
      "WARNING:tensorflow:From /Users/josh/opt/anaconda3/lib/python3.8/site-packages/tensorflow/python/training/tracking/tracking.py:111: Model.state_updates (from tensorflow.python.keras.engine.training) is deprecated and will be removed in a future version.\n",
      "Instructions for updating:\n",
      "This property should not be used in TensorFlow 2.0, as updates are applied automatically.\n",
      "WARNING:tensorflow:From /Users/josh/opt/anaconda3/lib/python3.8/site-packages/tensorflow/python/training/tracking/tracking.py:111: Layer.updates (from tensorflow.python.keras.engine.base_layer) is deprecated and will be removed in a future version.\n",
      "Instructions for updating:\n",
      "This property should not be used in TensorFlow 2.0, as updates are applied automatically.\n",
      "INFO:tensorflow:Assets written to: ../../resnet_2i/assets\n"
     ]
    }
   ],
   "source": [
    "model.save(f'../../{res_name}')"
   ]
  },
  {
   "cell_type": "code",
   "execution_count": 44,
   "metadata": {},
   "outputs": [
    {
     "name": "stdout",
     "output_type": "stream",
     "text": [
      "Val Accuracy CV Overall: 0.857582\n",
      "Val Accuracy CV1: 0.8878249\n",
      "Val Accuracy CV2: 0.91346157\n",
      "Val Accuracy CV3: 0.8978202\n",
      "Val Accuracy CV4: 0.7319728\n"
     ]
    }
   ],
   "source": [
    "acc = keras.metrics.Accuracy()\n",
    "acc.update_state(np.argmax(model.predict(reorg_x(val_x[:, None, :, :])),-1),val_y)\n",
    "print('Val Accuracy CV Overall:',acc.result().numpy())\n",
    "\n",
    "acc = keras.metrics.Accuracy()\n",
    "acc.update_state(np.argmax(model.predict(reorg_x(val_x_i1[:, None, :, :])),-1),val_y_i1)\n",
    "print('Val Accuracy CV1:',acc.result().numpy())\n",
    "\n",
    "acc = keras.metrics.Accuracy()\n",
    "acc.update_state(np.argmax(model.predict(reorg_x(val_x_i2[:, None, :, :])),-1),val_y_i2)\n",
    "print('Val Accuracy CV2:',acc.result().numpy())\n",
    "\n",
    "acc = keras.metrics.Accuracy()\n",
    "acc.update_state(np.argmax(model.predict(reorg_x(val_x_i3[:, None, :, :])),-1),val_y_i3)\n",
    "print('Val Accuracy CV3:',acc.result().numpy())\n",
    "\n",
    "acc = keras.metrics.Accuracy()\n",
    "acc.update_state(np.argmax(model.predict(reorg_x(val_x_i4[:, None, :, :])),-1),val_y_i4)\n",
    "print('Val Accuracy CV4:',acc.result().numpy())\n",
    "\n",
    "# acc_tea = keras.metrics.Accuracy()\n",
    "# acc_tea.update_state(np.argmax(model.predict(reorg_x(hO_tea_x)),-1),hO_tea_y)\n",
    "# print('Val Accuracy Test:',acc_tea.result().numpy())\n",
    "\n",
    "# acc_teb = keras.metrics.Accuracy()\n",
    "# acc_teb.update_state(np.argmax(model.predict(reorg_x(hO_teb_x)),-1),hO_teb_y)\n",
    "# print('Val Accuracy Test:',acc_teb.result().numpy())"
   ]
  },
  {
   "cell_type": "code",
   "execution_count": null,
   "metadata": {},
   "outputs": [],
   "source": []
  },
  {
   "cell_type": "code",
   "execution_count": 45,
   "metadata": {},
   "outputs": [
    {
     "name": "stdout",
     "output_type": "stream",
     "text": [
      "Val Loss CV Overall: 0.32248634\n",
      "Val Loss CV1: 0.27298817\n",
      "Val Loss CV2: 0.18669628\n",
      "Val Loss CV3: 0.22035982\n",
      "Val Loss CV4: 0.6081995\n"
     ]
    }
   ],
   "source": [
    "from_logits = True\n",
    "\n",
    "scc = keras.losses.SparseCategoricalCrossentropy(from_logits=from_logits)\n",
    "sccpred = scc(val_y, model.predict(reorg_x(val_x[:, None, :, :]))).numpy()\n",
    "# sccpred = scc(labels3.astype(int), model.predict(reorg_x(images3[: , None , : , :]))).numpy()\n",
    "print('Val Loss CV Overall:',sccpred)\n",
    "\n",
    "scc = keras.losses.SparseCategoricalCrossentropy(from_logits=from_logits)\n",
    "sccpred = scc(val_y_i1, model.predict(reorg_x(val_x_i1[:, None, :, :]))).numpy()\n",
    "print('Val Loss CV1:',sccpred)\n",
    "\n",
    "scc = keras.losses.SparseCategoricalCrossentropy(from_logits=from_logits)\n",
    "sccpred = scc(val_y_i2, model.predict(reorg_x(val_x_i2[:, None, :, :]))).numpy()\n",
    "print('Val Loss CV2:',sccpred)\n",
    "\n",
    "scc = keras.losses.SparseCategoricalCrossentropy(from_logits=from_logits)\n",
    "sccpred = scc(val_y_i3, model.predict(reorg_x(val_x_i3[:, None, :, :]))).numpy()\n",
    "print('Val Loss CV3:',sccpred)\n",
    "\n",
    "scc = keras.losses.SparseCategoricalCrossentropy(from_logits=from_logits)\n",
    "sccpred = scc(val_y_i4, model.predict(reorg_x(val_x_i4[:, None, :, :]))).numpy()\n",
    "print('Val Loss CV4:',sccpred)\n",
    "\n",
    "\n",
    "# scc_tea = keras.losses.SparseCategoricalCrossentropy(from_logits=from_logits)\n",
    "# sccpred_tea = scc_tea(hO_tea_y, model.predict(reorg_x(hO_tea_x))).numpy()\n",
    "# print('Val Loss Test:',sccpred_tea)\n",
    "\n",
    "# scc_teb = keras.losses.SparseCategoricalCrossentropy(from_logits=from_logits)\n",
    "# sccpred_teb = scc_teb(hO_teb_y, model.predict(reorg_x(hO_teb_x))).numpy()\n",
    "# print('Val Loss Test:', sccpred_teb)"
   ]
  },
  {
   "cell_type": "code",
   "execution_count": null,
   "metadata": {},
   "outputs": [],
   "source": []
  },
  {
   "cell_type": "code",
   "execution_count": null,
   "metadata": {},
   "outputs": [],
   "source": []
  },
  {
   "cell_type": "code",
   "execution_count": null,
   "metadata": {},
   "outputs": [],
   "source": []
  },
  {
   "cell_type": "code",
   "execution_count": 46,
   "metadata": {},
   "outputs": [
    {
     "data": {
      "image/png": "[encoded data removed]",
      "text/plain": [
       "<Figure size 432x288 with 1 Axes>"
      ]
     },
     "metadata": {
      "needs_background": "light"
     },
     "output_type": "display_data"
    }
   ],
   "source": [
    "# Generate Training Curves\n",
    "\n",
    "train_losses = history.history['loss']\n",
    "val_losses = history.history['val_loss']\n",
    "accuracy_running = history.history['val_accuracy']\n",
    "\n",
    "%matplotlib inline\n",
    "# plotting the training and validation loss\n",
    "plt.plot(train_losses, label='Training loss')\n",
    "plt.plot(val_losses, label='Validation loss') \n",
    "plt.plot(accuracy_running, label='Accuracy')\n",
    "plt.legend()\n",
    "plt.show()\n"
   ]
  },
  {
   "cell_type": "code",
   "execution_count": null,
   "metadata": {},
   "outputs": [],
   "source": []
  },
  {
   "cell_type": "code",
   "execution_count": null,
   "metadata": {},
   "outputs": [],
   "source": []
  },
  {
   "cell_type": "code",
   "execution_count": 47,
   "metadata": {
    "scrolled": false
   },
   "outputs": [
    {
     "name": "stderr",
     "output_type": "stream",
     "text": [
      "<ipython-input-47-e3109354e9fc>:26: RuntimeWarning: invalid value encountered in true_divide\n",
      "  matrix_probability = (predictions_bool.T @ heldOut_y_bool) / matlib.repmat(np.sum(heldOut_y_bool,axis=0) , 6,1)\n"
     ]
    },
    {
     "data": {
      "image/png": "[encoded data removed]",
      "text/plain": [
       "<Figure size 432x288 with 1 Axes>"
      ]
     },
     "metadata": {
      "needs_background": "light"
     },
     "output_type": "display_data"
    },
    {
     "data": {
      "text/html": [
       "<div>\n",
       "<style scoped>\n",
       "    .dataframe tbody tr th:only-of-type {\n",
       "        vertical-align: middle;\n",
       "    }\n",
       "\n",
       "    .dataframe tbody tr th {\n",
       "        vertical-align: top;\n",
       "    }\n",
       "\n",
       "    .dataframe thead th {\n",
       "        text-align: right;\n",
       "    }\n",
       "</style>\n",
       "<table border=\"1\" class=\"dataframe\">\n",
       "  <thead>\n",
       "    <tr style=\"text-align: right;\">\n",
       "      <th></th>\n",
       "      <th>0</th>\n",
       "      <th>1</th>\n",
       "      <th>2</th>\n",
       "      <th>3</th>\n",
       "      <th>4</th>\n",
       "      <th>5</th>\n",
       "    </tr>\n",
       "  </thead>\n",
       "  <tbody>\n",
       "    <tr>\n",
       "      <th>0</th>\n",
       "      <td>0.527273</td>\n",
       "      <td>0.047244</td>\n",
       "      <td>NaN</td>\n",
       "      <td>NaN</td>\n",
       "      <td>0.000000</td>\n",
       "      <td>0.000000</td>\n",
       "    </tr>\n",
       "    <tr>\n",
       "      <th>1</th>\n",
       "      <td>0.442424</td>\n",
       "      <td>0.582677</td>\n",
       "      <td>NaN</td>\n",
       "      <td>NaN</td>\n",
       "      <td>0.057692</td>\n",
       "      <td>0.000455</td>\n",
       "    </tr>\n",
       "    <tr>\n",
       "      <th>2</th>\n",
       "      <td>0.000000</td>\n",
       "      <td>0.000000</td>\n",
       "      <td>NaN</td>\n",
       "      <td>NaN</td>\n",
       "      <td>0.000000</td>\n",
       "      <td>0.000000</td>\n",
       "    </tr>\n",
       "    <tr>\n",
       "      <th>3</th>\n",
       "      <td>0.000000</td>\n",
       "      <td>0.000000</td>\n",
       "      <td>NaN</td>\n",
       "      <td>NaN</td>\n",
       "      <td>0.000000</td>\n",
       "      <td>0.000000</td>\n",
       "    </tr>\n",
       "    <tr>\n",
       "      <th>4</th>\n",
       "      <td>0.030303</td>\n",
       "      <td>0.370079</td>\n",
       "      <td>NaN</td>\n",
       "      <td>NaN</td>\n",
       "      <td>0.916667</td>\n",
       "      <td>0.093764</td>\n",
       "    </tr>\n",
       "    <tr>\n",
       "      <th>5</th>\n",
       "      <td>0.000000</td>\n",
       "      <td>0.000000</td>\n",
       "      <td>NaN</td>\n",
       "      <td>NaN</td>\n",
       "      <td>0.025641</td>\n",
       "      <td>0.905781</td>\n",
       "    </tr>\n",
       "  </tbody>\n",
       "</table>\n",
       "</div>"
      ],
      "text/plain": [
       "          0         1   2   3         4         5\n",
       "0  0.527273  0.047244 NaN NaN  0.000000  0.000000\n",
       "1  0.442424  0.582677 NaN NaN  0.057692  0.000455\n",
       "2  0.000000  0.000000 NaN NaN  0.000000  0.000000\n",
       "3  0.000000  0.000000 NaN NaN  0.000000  0.000000\n",
       "4  0.030303  0.370079 NaN NaN  0.916667  0.093764\n",
       "5  0.000000  0.000000 NaN NaN  0.025641  0.905781"
      ]
     },
     "metadata": {},
     "output_type": "display_data"
    }
   ],
   "source": [
    "xbasis = val_x[:, None, :, :]\n",
    "ybasis = val_y\n",
    "\n",
    "# Generate Confusion Matrix\n",
    "\n",
    "%matplotlib inline\n",
    "\n",
    "# chk_model = keras.models.load_model('resnet_1')\n",
    "chk_model = model\n",
    "\n",
    "output = chk_model.predict(reorg_x(xbasis))\n",
    "\n",
    "prob = output\n",
    "predictions = np.argmax(prob, axis=1)\n",
    "\n",
    "# val_y_bool = np.zeros((len(val_y) , np.max(val_y.numpy())-1))\n",
    "heldOut_y_bool = np.zeros((len(ybasis) , 6))\n",
    "predictions_bool = np.zeros((len(ybasis) , 6))\n",
    "for ii in range(6):\n",
    "    heldOut_y_bool[:,ii] = (ybasis == ii)\n",
    "    predictions_bool[:,ii] = (predictions==ii)\n",
    "# plt.figure()\n",
    "# plt.imshow(predictions_bool)\n",
    "\n",
    "from numpy import matlib\n",
    "matrix_probability = (predictions_bool.T @ heldOut_y_bool) / matlib.repmat(np.sum(heldOut_y_bool,axis=0) , 6,1)\n",
    "plt.ion()\n",
    "plt.figure()\n",
    "plt.imshow(matrix_probability);\n",
    "plt.show()\n",
    "\n",
    "# Print Numerical Confusion Matrix\n",
    "display(pd.DataFrame(matrix_probability))"
   ]
  },
  {
   "cell_type": "code",
   "execution_count": null,
   "metadata": {},
   "outputs": [],
   "source": []
  },
  {
   "cell_type": "code",
   "execution_count": null,
   "metadata": {},
   "outputs": [],
   "source": []
  },
  {
   "cell_type": "code",
   "execution_count": 48,
   "metadata": {},
   "outputs": [
    {
     "name": "stderr",
     "output_type": "stream",
     "text": [
      "<ipython-input-48-ec0909b170f8>:26: RuntimeWarning: invalid value encountered in true_divide\n",
      "  matrix_probability = (predictions_bool.T @ heldOut_y_bool) / matlib.repmat(np.sum(heldOut_y_bool,axis=0) , 6,1)\n"
     ]
    },
    {
     "data": {
      "image/png": "[encoded data removed]",
      "text/plain": [
       "<Figure size 432x288 with 1 Axes>"
      ]
     },
     "metadata": {
      "needs_background": "light"
     },
     "output_type": "display_data"
    },
    {
     "data": {
      "text/html": [
       "<div>\n",
       "<style scoped>\n",
       "    .dataframe tbody tr th:only-of-type {\n",
       "        vertical-align: middle;\n",
       "    }\n",
       "\n",
       "    .dataframe tbody tr th {\n",
       "        vertical-align: top;\n",
       "    }\n",
       "\n",
       "    .dataframe thead th {\n",
       "        text-align: right;\n",
       "    }\n",
       "</style>\n",
       "<table border=\"1\" class=\"dataframe\">\n",
       "  <thead>\n",
       "    <tr style=\"text-align: right;\">\n",
       "      <th></th>\n",
       "      <th>0</th>\n",
       "      <th>1</th>\n",
       "      <th>2</th>\n",
       "      <th>3</th>\n",
       "      <th>4</th>\n",
       "      <th>5</th>\n",
       "    </tr>\n",
       "  </thead>\n",
       "  <tbody>\n",
       "    <tr>\n",
       "      <th>0</th>\n",
       "      <td>0.485714</td>\n",
       "      <td>0.000000</td>\n",
       "      <td>NaN</td>\n",
       "      <td>NaN</td>\n",
       "      <td>0.000000</td>\n",
       "      <td>0.000000</td>\n",
       "    </tr>\n",
       "    <tr>\n",
       "      <th>1</th>\n",
       "      <td>0.457143</td>\n",
       "      <td>0.564103</td>\n",
       "      <td>NaN</td>\n",
       "      <td>NaN</td>\n",
       "      <td>0.047619</td>\n",
       "      <td>0.000000</td>\n",
       "    </tr>\n",
       "    <tr>\n",
       "      <th>2</th>\n",
       "      <td>0.000000</td>\n",
       "      <td>0.000000</td>\n",
       "      <td>NaN</td>\n",
       "      <td>NaN</td>\n",
       "      <td>0.000000</td>\n",
       "      <td>0.000000</td>\n",
       "    </tr>\n",
       "    <tr>\n",
       "      <th>3</th>\n",
       "      <td>0.000000</td>\n",
       "      <td>0.000000</td>\n",
       "      <td>NaN</td>\n",
       "      <td>NaN</td>\n",
       "      <td>0.000000</td>\n",
       "      <td>0.000000</td>\n",
       "    </tr>\n",
       "    <tr>\n",
       "      <th>4</th>\n",
       "      <td>0.057143</td>\n",
       "      <td>0.435897</td>\n",
       "      <td>NaN</td>\n",
       "      <td>NaN</td>\n",
       "      <td>0.952381</td>\n",
       "      <td>0.073171</td>\n",
       "    </tr>\n",
       "    <tr>\n",
       "      <th>5</th>\n",
       "      <td>0.000000</td>\n",
       "      <td>0.000000</td>\n",
       "      <td>NaN</td>\n",
       "      <td>NaN</td>\n",
       "      <td>0.000000</td>\n",
       "      <td>0.926829</td>\n",
       "    </tr>\n",
       "  </tbody>\n",
       "</table>\n",
       "</div>"
      ],
      "text/plain": [
       "          0         1   2   3         4         5\n",
       "0  0.485714  0.000000 NaN NaN  0.000000  0.000000\n",
       "1  0.457143  0.564103 NaN NaN  0.047619  0.000000\n",
       "2  0.000000  0.000000 NaN NaN  0.000000  0.000000\n",
       "3  0.000000  0.000000 NaN NaN  0.000000  0.000000\n",
       "4  0.057143  0.435897 NaN NaN  0.952381  0.073171\n",
       "5  0.000000  0.000000 NaN NaN  0.000000  0.926829"
      ]
     },
     "metadata": {},
     "output_type": "display_data"
    }
   ],
   "source": [
    "xbasis = val_x_i1[:, None, :, :]\n",
    "ybasis = val_y_i1\n",
    "\n",
    "# Generate Confusion Matrix\n",
    "\n",
    "%matplotlib inline\n",
    "\n",
    "# chk_model = keras.models.load_model('resnet_1')\n",
    "chk_model = model\n",
    "\n",
    "output = chk_model.predict(reorg_x(xbasis))\n",
    "\n",
    "prob = output\n",
    "predictions = np.argmax(prob, axis=1)\n",
    "\n",
    "# val_y_bool = np.zeros((len(val_y) , np.max(val_y.numpy())-1))\n",
    "heldOut_y_bool = np.zeros((len(ybasis) , 6))\n",
    "predictions_bool = np.zeros((len(ybasis) , 6))\n",
    "for ii in range(6):\n",
    "    heldOut_y_bool[:,ii] = (ybasis == ii)\n",
    "    predictions_bool[:,ii] = (predictions==ii)\n",
    "# plt.figure()\n",
    "# plt.imshow(predictions_bool)\n",
    "\n",
    "from numpy import matlib\n",
    "matrix_probability = (predictions_bool.T @ heldOut_y_bool) / matlib.repmat(np.sum(heldOut_y_bool,axis=0) , 6,1)\n",
    "plt.ion()\n",
    "plt.figure()\n",
    "plt.imshow(matrix_probability);\n",
    "plt.show()\n",
    "\n",
    "# Print Numerical Confusion Matrix\n",
    "display(pd.DataFrame(matrix_probability))"
   ]
  },
  {
   "cell_type": "code",
   "execution_count": null,
   "metadata": {},
   "outputs": [],
   "source": []
  },
  {
   "cell_type": "code",
   "execution_count": 49,
   "metadata": {},
   "outputs": [
    {
     "name": "stderr",
     "output_type": "stream",
     "text": [
      "<ipython-input-49-615062d7f9e6>:26: RuntimeWarning: invalid value encountered in true_divide\n",
      "  matrix_probability = (predictions_bool.T @ heldOut_y_bool) / matlib.repmat(np.sum(heldOut_y_bool,axis=0) , 6,1)\n"
     ]
    },
    {
     "data": {
      "image/png": "[encoded data removed]",
      "text/plain": [
       "<Figure size 432x288 with 1 Axes>"
      ]
     },
     "metadata": {
      "needs_background": "light"
     },
     "output_type": "display_data"
    },
    {
     "data": {
      "text/html": [
       "<div>\n",
       "<style scoped>\n",
       "    .dataframe tbody tr th:only-of-type {\n",
       "        vertical-align: middle;\n",
       "    }\n",
       "\n",
       "    .dataframe tbody tr th {\n",
       "        vertical-align: top;\n",
       "    }\n",
       "\n",
       "    .dataframe thead th {\n",
       "        text-align: right;\n",
       "    }\n",
       "</style>\n",
       "<table border=\"1\" class=\"dataframe\">\n",
       "  <thead>\n",
       "    <tr style=\"text-align: right;\">\n",
       "      <th></th>\n",
       "      <th>0</th>\n",
       "      <th>1</th>\n",
       "      <th>2</th>\n",
       "      <th>3</th>\n",
       "      <th>4</th>\n",
       "      <th>5</th>\n",
       "    </tr>\n",
       "  </thead>\n",
       "  <tbody>\n",
       "    <tr>\n",
       "      <th>0</th>\n",
       "      <td>0.666667</td>\n",
       "      <td>0.017857</td>\n",
       "      <td>NaN</td>\n",
       "      <td>NaN</td>\n",
       "      <td>0.000000</td>\n",
       "      <td>0.000000</td>\n",
       "    </tr>\n",
       "    <tr>\n",
       "      <th>1</th>\n",
       "      <td>0.311111</td>\n",
       "      <td>0.482143</td>\n",
       "      <td>NaN</td>\n",
       "      <td>NaN</td>\n",
       "      <td>0.017544</td>\n",
       "      <td>0.000000</td>\n",
       "    </tr>\n",
       "    <tr>\n",
       "      <th>2</th>\n",
       "      <td>0.000000</td>\n",
       "      <td>0.000000</td>\n",
       "      <td>NaN</td>\n",
       "      <td>NaN</td>\n",
       "      <td>0.000000</td>\n",
       "      <td>0.000000</td>\n",
       "    </tr>\n",
       "    <tr>\n",
       "      <th>3</th>\n",
       "      <td>0.000000</td>\n",
       "      <td>0.000000</td>\n",
       "      <td>NaN</td>\n",
       "      <td>NaN</td>\n",
       "      <td>0.000000</td>\n",
       "      <td>0.000000</td>\n",
       "    </tr>\n",
       "    <tr>\n",
       "      <th>4</th>\n",
       "      <td>0.022222</td>\n",
       "      <td>0.500000</td>\n",
       "      <td>NaN</td>\n",
       "      <td>NaN</td>\n",
       "      <td>0.982456</td>\n",
       "      <td>0.031579</td>\n",
       "    </tr>\n",
       "    <tr>\n",
       "      <th>5</th>\n",
       "      <td>0.000000</td>\n",
       "      <td>0.000000</td>\n",
       "      <td>NaN</td>\n",
       "      <td>NaN</td>\n",
       "      <td>0.000000</td>\n",
       "      <td>0.968421</td>\n",
       "    </tr>\n",
       "  </tbody>\n",
       "</table>\n",
       "</div>"
      ],
      "text/plain": [
       "          0         1   2   3         4         5\n",
       "0  0.666667  0.017857 NaN NaN  0.000000  0.000000\n",
       "1  0.311111  0.482143 NaN NaN  0.017544  0.000000\n",
       "2  0.000000  0.000000 NaN NaN  0.000000  0.000000\n",
       "3  0.000000  0.000000 NaN NaN  0.000000  0.000000\n",
       "4  0.022222  0.500000 NaN NaN  0.982456  0.031579\n",
       "5  0.000000  0.000000 NaN NaN  0.000000  0.968421"
      ]
     },
     "metadata": {},
     "output_type": "display_data"
    }
   ],
   "source": [
    "xbasis = val_x_i2[:, None, :, :]\n",
    "ybasis = val_y_i2\n",
    "\n",
    "# Generate Confusion Matrix\n",
    "\n",
    "%matplotlib inline\n",
    "\n",
    "# chk_model = keras.models.load_model('resnet_1')\n",
    "chk_model = model\n",
    "\n",
    "output = chk_model.predict(reorg_x(xbasis))\n",
    "\n",
    "prob = output\n",
    "predictions = np.argmax(prob, axis=1)\n",
    "\n",
    "# val_y_bool = np.zeros((len(val_y) , np.max(val_y.numpy())-1))\n",
    "heldOut_y_bool = np.zeros((len(ybasis) , 6))\n",
    "predictions_bool = np.zeros((len(ybasis) , 6))\n",
    "for ii in range(6):\n",
    "    heldOut_y_bool[:,ii] = (ybasis == ii)\n",
    "    predictions_bool[:,ii] = (predictions==ii)\n",
    "# plt.figure()\n",
    "# plt.imshow(predictions_bool)\n",
    "\n",
    "from numpy import matlib\n",
    "matrix_probability = (predictions_bool.T @ heldOut_y_bool) / matlib.repmat(np.sum(heldOut_y_bool,axis=0) , 6,1)\n",
    "plt.ion()\n",
    "plt.figure()\n",
    "plt.imshow(matrix_probability);\n",
    "plt.show()\n",
    "\n",
    "# Print Numerical Confusion Matrix\n",
    "display(pd.DataFrame(matrix_probability))"
   ]
  },
  {
   "cell_type": "code",
   "execution_count": 50,
   "metadata": {},
   "outputs": [
    {
     "name": "stderr",
     "output_type": "stream",
     "text": [
      "<ipython-input-50-c25834128929>:26: RuntimeWarning: invalid value encountered in true_divide\n",
      "  matrix_probability = (predictions_bool.T @ heldOut_y_bool) / matlib.repmat(np.sum(heldOut_y_bool,axis=0) , 6,1)\n"
     ]
    },
    {
     "data": {
      "image/png": "[encoded data removed]",
      "text/plain": [
       "<Figure size 432x288 with 1 Axes>"
      ]
     },
     "metadata": {
      "needs_background": "light"
     },
     "output_type": "display_data"
    },
    {
     "data": {
      "text/html": [
       "<div>\n",
       "<style scoped>\n",
       "    .dataframe tbody tr th:only-of-type {\n",
       "        vertical-align: middle;\n",
       "    }\n",
       "\n",
       "    .dataframe tbody tr th {\n",
       "        vertical-align: top;\n",
       "    }\n",
       "\n",
       "    .dataframe thead th {\n",
       "        text-align: right;\n",
       "    }\n",
       "</style>\n",
       "<table border=\"1\" class=\"dataframe\">\n",
       "  <thead>\n",
       "    <tr style=\"text-align: right;\">\n",
       "      <th></th>\n",
       "      <th>0</th>\n",
       "      <th>1</th>\n",
       "      <th>2</th>\n",
       "      <th>3</th>\n",
       "      <th>4</th>\n",
       "      <th>5</th>\n",
       "    </tr>\n",
       "  </thead>\n",
       "  <tbody>\n",
       "    <tr>\n",
       "      <th>0</th>\n",
       "      <td>0.8</td>\n",
       "      <td>0.111111</td>\n",
       "      <td>NaN</td>\n",
       "      <td>NaN</td>\n",
       "      <td>0.000000</td>\n",
       "      <td>0.000000</td>\n",
       "    </tr>\n",
       "    <tr>\n",
       "      <th>1</th>\n",
       "      <td>0.2</td>\n",
       "      <td>0.666667</td>\n",
       "      <td>NaN</td>\n",
       "      <td>NaN</td>\n",
       "      <td>0.089888</td>\n",
       "      <td>0.000000</td>\n",
       "    </tr>\n",
       "    <tr>\n",
       "      <th>2</th>\n",
       "      <td>0.0</td>\n",
       "      <td>0.000000</td>\n",
       "      <td>NaN</td>\n",
       "      <td>NaN</td>\n",
       "      <td>0.000000</td>\n",
       "      <td>0.000000</td>\n",
       "    </tr>\n",
       "    <tr>\n",
       "      <th>3</th>\n",
       "      <td>0.0</td>\n",
       "      <td>0.000000</td>\n",
       "      <td>NaN</td>\n",
       "      <td>NaN</td>\n",
       "      <td>0.000000</td>\n",
       "      <td>0.000000</td>\n",
       "    </tr>\n",
       "    <tr>\n",
       "      <th>4</th>\n",
       "      <td>0.0</td>\n",
       "      <td>0.222222</td>\n",
       "      <td>NaN</td>\n",
       "      <td>NaN</td>\n",
       "      <td>0.865169</td>\n",
       "      <td>0.058824</td>\n",
       "    </tr>\n",
       "    <tr>\n",
       "      <th>5</th>\n",
       "      <td>0.0</td>\n",
       "      <td>0.000000</td>\n",
       "      <td>NaN</td>\n",
       "      <td>NaN</td>\n",
       "      <td>0.044944</td>\n",
       "      <td>0.941176</td>\n",
       "    </tr>\n",
       "  </tbody>\n",
       "</table>\n",
       "</div>"
      ],
      "text/plain": [
       "     0         1   2   3         4         5\n",
       "0  0.8  0.111111 NaN NaN  0.000000  0.000000\n",
       "1  0.2  0.666667 NaN NaN  0.089888  0.000000\n",
       "2  0.0  0.000000 NaN NaN  0.000000  0.000000\n",
       "3  0.0  0.000000 NaN NaN  0.000000  0.000000\n",
       "4  0.0  0.222222 NaN NaN  0.865169  0.058824\n",
       "5  0.0  0.000000 NaN NaN  0.044944  0.941176"
      ]
     },
     "metadata": {},
     "output_type": "display_data"
    }
   ],
   "source": [
    "xbasis = val_x_i3[:, None, :, :]\n",
    "ybasis = val_y_i3\n",
    "\n",
    "# Generate Confusion Matrix\n",
    "\n",
    "%matplotlib inline\n",
    "\n",
    "# chk_model = keras.models.load_model('resnet_1')\n",
    "chk_model = model\n",
    "\n",
    "output = chk_model.predict(reorg_x(xbasis))\n",
    "\n",
    "prob = output\n",
    "predictions = np.argmax(prob, axis=1)\n",
    "\n",
    "# val_y_bool = np.zeros((len(val_y) , np.max(val_y.numpy())-1))\n",
    "heldOut_y_bool = np.zeros((len(ybasis) , 6))\n",
    "predictions_bool = np.zeros((len(ybasis) , 6))\n",
    "for ii in range(6):\n",
    "    heldOut_y_bool[:,ii] = (ybasis == ii)\n",
    "    predictions_bool[:,ii] = (predictions==ii)\n",
    "# plt.figure()\n",
    "# plt.imshow(predictions_bool)\n",
    "\n",
    "from numpy import matlib\n",
    "matrix_probability = (predictions_bool.T @ heldOut_y_bool) / matlib.repmat(np.sum(heldOut_y_bool,axis=0) , 6,1)\n",
    "plt.ion()\n",
    "plt.figure()\n",
    "plt.imshow(matrix_probability);\n",
    "plt.show()\n",
    "\n",
    "# Print Numerical Confusion Matrix\n",
    "display(pd.DataFrame(matrix_probability))"
   ]
  },
  {
   "cell_type": "code",
   "execution_count": 51,
   "metadata": {},
   "outputs": [
    {
     "name": "stderr",
     "output_type": "stream",
     "text": [
      "<ipython-input-51-9b5dd8dd01fd>:26: RuntimeWarning: invalid value encountered in true_divide\n",
      "  matrix_probability = (predictions_bool.T @ heldOut_y_bool) / matlib.repmat(np.sum(heldOut_y_bool,axis=0) , 6,1)\n"
     ]
    },
    {
     "data": {
      "image/png": "[encoded data removed]",
      "text/plain": [
       "<Figure size 432x288 with 1 Axes>"
      ]
     },
     "metadata": {
      "needs_background": "light"
     },
     "output_type": "display_data"
    },
    {
     "data": {
      "text/html": [
       "<div>\n",
       "<style scoped>\n",
       "    .dataframe tbody tr th:only-of-type {\n",
       "        vertical-align: middle;\n",
       "    }\n",
       "\n",
       "    .dataframe tbody tr th {\n",
       "        vertical-align: top;\n",
       "    }\n",
       "\n",
       "    .dataframe thead th {\n",
       "        text-align: right;\n",
       "    }\n",
       "</style>\n",
       "<table border=\"1\" class=\"dataframe\">\n",
       "  <thead>\n",
       "    <tr style=\"text-align: right;\">\n",
       "      <th></th>\n",
       "      <th>0</th>\n",
       "      <th>1</th>\n",
       "      <th>2</th>\n",
       "      <th>3</th>\n",
       "      <th>4</th>\n",
       "      <th>5</th>\n",
       "    </tr>\n",
       "  </thead>\n",
       "  <tbody>\n",
       "    <tr>\n",
       "      <th>0</th>\n",
       "      <td>0.369231</td>\n",
       "      <td>0.025641</td>\n",
       "      <td>NaN</td>\n",
       "      <td>NaN</td>\n",
       "      <td>0.000000</td>\n",
       "      <td>0.000000</td>\n",
       "    </tr>\n",
       "    <tr>\n",
       "      <th>1</th>\n",
       "      <td>0.600000</td>\n",
       "      <td>0.576923</td>\n",
       "      <td>NaN</td>\n",
       "      <td>NaN</td>\n",
       "      <td>0.056452</td>\n",
       "      <td>0.002137</td>\n",
       "    </tr>\n",
       "    <tr>\n",
       "      <th>2</th>\n",
       "      <td>0.000000</td>\n",
       "      <td>0.000000</td>\n",
       "      <td>NaN</td>\n",
       "      <td>NaN</td>\n",
       "      <td>0.000000</td>\n",
       "      <td>0.000000</td>\n",
       "    </tr>\n",
       "    <tr>\n",
       "      <th>3</th>\n",
       "      <td>0.000000</td>\n",
       "      <td>0.000000</td>\n",
       "      <td>NaN</td>\n",
       "      <td>NaN</td>\n",
       "      <td>0.000000</td>\n",
       "      <td>0.000000</td>\n",
       "    </tr>\n",
       "    <tr>\n",
       "      <th>4</th>\n",
       "      <td>0.030769</td>\n",
       "      <td>0.397436</td>\n",
       "      <td>NaN</td>\n",
       "      <td>NaN</td>\n",
       "      <td>0.911290</td>\n",
       "      <td>0.237179</td>\n",
       "    </tr>\n",
       "    <tr>\n",
       "      <th>5</th>\n",
       "      <td>0.000000</td>\n",
       "      <td>0.000000</td>\n",
       "      <td>NaN</td>\n",
       "      <td>NaN</td>\n",
       "      <td>0.032258</td>\n",
       "      <td>0.760684</td>\n",
       "    </tr>\n",
       "  </tbody>\n",
       "</table>\n",
       "</div>"
      ],
      "text/plain": [
       "          0         1   2   3         4         5\n",
       "0  0.369231  0.025641 NaN NaN  0.000000  0.000000\n",
       "1  0.600000  0.576923 NaN NaN  0.056452  0.002137\n",
       "2  0.000000  0.000000 NaN NaN  0.000000  0.000000\n",
       "3  0.000000  0.000000 NaN NaN  0.000000  0.000000\n",
       "4  0.030769  0.397436 NaN NaN  0.911290  0.237179\n",
       "5  0.000000  0.000000 NaN NaN  0.032258  0.760684"
      ]
     },
     "metadata": {},
     "output_type": "display_data"
    }
   ],
   "source": [
    "xbasis = val_x_i4[:, None, :, :]\n",
    "ybasis = val_y_i4\n",
    "\n",
    "# Generate Confusion Matrix\n",
    "\n",
    "%matplotlib inline\n",
    "\n",
    "# chk_model = keras.models.load_model('resnet_1')\n",
    "chk_model = model\n",
    "\n",
    "output = chk_model.predict(reorg_x(xbasis))\n",
    "\n",
    "prob = output\n",
    "predictions = np.argmax(prob, axis=1)\n",
    "\n",
    "# val_y_bool = np.zeros((len(val_y) , np.max(val_y.numpy())-1))\n",
    "heldOut_y_bool = np.zeros((len(ybasis) , 6))\n",
    "predictions_bool = np.zeros((len(ybasis) , 6))\n",
    "for ii in range(6):\n",
    "    heldOut_y_bool[:,ii] = (ybasis == ii)\n",
    "    predictions_bool[:,ii] = (predictions==ii)\n",
    "# plt.figure()\n",
    "# plt.imshow(predictions_bool)\n",
    "\n",
    "from numpy import matlib\n",
    "matrix_probability = (predictions_bool.T @ heldOut_y_bool) / matlib.repmat(np.sum(heldOut_y_bool,axis=0) , 6,1)\n",
    "plt.ion()\n",
    "plt.figure()\n",
    "plt.imshow(matrix_probability);\n",
    "plt.show()\n",
    "\n",
    "# Print Numerical Confusion Matrix\n",
    "display(pd.DataFrame(matrix_probability))"
   ]
  },
  {
   "cell_type": "code",
   "execution_count": null,
   "metadata": {},
   "outputs": [],
   "source": []
  }
 ],
 "metadata": {
  "kernelspec": {
   "display_name": "Python 3",
   "language": "python",
   "name": "python3"
  },
  "varInspector": {
   "cols": {
    "lenName": 16,
    "lenType": 16,
    "lenVar": 40
   },
   "kernels_config": {
    "python": {
     "delete_cmd_postfix": "",
     "delete_cmd_prefix": "del ",
     "library": "var_list.py",
     "varRefreshCmd": "print(var_dic_list())"
    },
    "r": {
     "delete_cmd_postfix": ") ",
     "delete_cmd_prefix": "rm(",
     "library": "var_list.r",
     "varRefreshCmd": "cat(var_dic_list()) "
    }
   },
   "position": {
    "height": "943px",
    "left": "1381px",
    "right": "20px",
    "top": "106px",
    "width": "501px"
   },
   "types_to_exclude": [
    "module",
    "function",
    "builtin_function_or_method",
    "instance",
    "_Feature"
   ],
   "window_display": true
  }
 },
 "nbformat": 4,
 "nbformat_minor": 4
}
