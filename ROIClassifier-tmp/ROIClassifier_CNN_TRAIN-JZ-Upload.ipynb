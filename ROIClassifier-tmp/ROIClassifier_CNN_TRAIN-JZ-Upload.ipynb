{
 "cells": [
  {
   "cell_type": "code",
   "execution_count": 1,
   "metadata": {
    "scrolled": true
   },
   "outputs": [
    {
     "data": {
      "text/html": [
       "<style>.container { width:90% !important; }</style>"
      ],
      "text/plain": [
       "<IPython.core.display.HTML object>"
      ]
     },
     "metadata": {},
     "output_type": "display_data"
    }
   ],
   "source": [
    "from IPython.core.display import display, HTML\n",
    "display(HTML(\"<style>.container { width:90% !important; }</style>\"))"
   ]
  },
  {
   "cell_type": "code",
   "execution_count": 2,
   "metadata": {},
   "outputs": [],
   "source": [
    "import sys\n",
    "import copy\n",
    "\n",
    "import numpy as np\n",
    "import matplotlib.pyplot as plt\n",
    "import scipy\n",
    "from scipy.io import savemat\n",
    "import scipy.signal\n",
    "\n",
    "import torch\n",
    "import torchvision\n",
    "import torchvision.transforms as transforms\n",
    "\n",
    "import os\n",
    "\n",
    "# for reading and displaying images\n",
    "from skimage.io import imread\n",
    "# for creating validation set\n",
    "from sklearn.model_selection import train_test_split\n",
    "# for evaluating the model\n",
    "from sklearn.metrics import accuracy_score\n",
    "\n",
    "import pathlib\n",
    "from imgaug import augmenters as iaa\n",
    "\n",
    "\n",
    "%matplotlib notebook\n",
    "%matplotlib notebook\n",
    "%matplotlib inline\n",
    "# %matplotlib qt"
   ]
  },
  {
   "cell_type": "code",
   "execution_count": null,
   "metadata": {},
   "outputs": [],
   "source": []
  },
  {
   "cell_type": "code",
   "execution_count": 3,
   "metadata": {},
   "outputs": [],
   "source": [
    "# torch.cuda.current_device()"
   ]
  },
  {
   "cell_type": "code",
   "execution_count": 4,
   "metadata": {
    "scrolled": true
   },
   "outputs": [],
   "source": [
    "# torch.cuda.get_device_name(0)"
   ]
  },
  {
   "cell_type": "code",
   "execution_count": 5,
   "metadata": {},
   "outputs": [],
   "source": [
    "dup_num = 1"
   ]
  },
  {
   "cell_type": "markdown",
   "metadata": {},
   "source": [
    "Load and preprocess stat file and labels  \n",
    "Labels must be made in the 'ROI_labeling_and_augmentation' script and the relabeling script  \n",
    "## outputs: 'images' and 'labels' (both input into CNN)\n"
   ]
  },
  {
   "cell_type": "code",
   "execution_count": 6,
   "metadata": {},
   "outputs": [],
   "source": [
    "def load_npy(base_dir='label_data', subpath='mouse 6_28 _ day 20200903', lbl=''):\n",
    "    \n",
    "    # dir_load = '\\\\\\\\research.files.med.harvard.edu\\\\Neurobio\\\\MICROSCOPE\\\\Rich\\\\data\\\\res2p\\\\scanimage data\\\\round 4 experiments\\\\mouse 6.28\\\\20200815\\\\suite2p\\\\plane0\\\\'\n",
    "    fileName_load = 'stat.npy'\n",
    "\n",
    "    PATH_absolute = pathlib.Path('.').absolute()\n",
    "    \n",
    "    PATH_load_dir_statFile = f'{PATH_absolute}/{base_dir}/{subpath}/'\n",
    "    # PATH_load_dir_statFile = '/media/rich/Home_Linux_partition/GoogleDrive_ocaml_cache/Research/Sabatini Lab Stuff - working/Code/PYTHON/ROI_Classifiers/test data_mouse6_28 _ 20200815/'\n",
    "    print(f'PATH:   {PATH_load_dir_statFile}{fileName_load}')\n",
    "    print('')\n",
    "\n",
    "    stat = np.load(f'{PATH_load_dir_statFile}{fileName_load}', allow_pickle=True)\n",
    "    print('stat file loaded')\n",
    "    print('')\n",
    "\n",
    "    num_ROI = stat.shape[0]\n",
    "    print(f'Number of ROIs: {num_ROI}')\n",
    "\n",
    "    height = 512\n",
    "    width = 1024\n",
    "    spatial_footprints_centered = np.zeros((num_ROI, 241,241))\n",
    "    for i in range(num_ROI):\n",
    "        spatial_footprints_centered[i , stat[i]['ypix'] - np.int16(stat[i]['med'][0]) + 120, stat[i]['xpix'] - np.int16(stat[i]['med'][1]) + 120] = stat[i]['lam'] # this is formatted for coding ease (dim1: y pix) (dim2: x pix) (dim3: ROI#)\n",
    "    spatial_footprints_centered_crop = spatial_footprints_centered[:, 102:138 , 102:138]\n",
    "\n",
    "    # %matplotlib inline\n",
    "    plt.figure()\n",
    "    plt.imshow(np.max(spatial_footprints_centered_crop , axis=0) ** 0.2);\n",
    "    plt.title(f'spatial_footprints_centered_crop{lbl} MIP^0.2');\n",
    "\n",
    "    images = spatial_footprints_centered_crop\n",
    "    return spatial_footprints_centered_crop"
   ]
  },
  {
   "cell_type": "code",
   "execution_count": null,
   "metadata": {},
   "outputs": [],
   "source": []
  },
  {
   "cell_type": "code",
   "execution_count": 7,
   "metadata": {},
   "outputs": [
    {
     "name": "stdout",
     "output_type": "stream",
     "text": [
      "PATH:   /Users/josh/Documents/Harvard/GCaMP_ROI_classifier/ROIClassifier-tmp/../../label_data/mouse 6_28 _ day 20200903/stat.npy\n",
      "\n",
      "stat file loaded\n",
      "\n",
      "Number of ROIs: 4868\n"
     ]
    },
    {
     "data": {
      "image/png": "[encoded data removed]",
      "text/plain": [
       "<Figure size 432x288 with 1 Axes>"
      ]
     },
     "metadata": {
      "needs_background": "light"
     },
     "output_type": "display_data"
    }
   ],
   "source": [
    "# LOAD stat.npy file 1\n",
    "#___________________\n",
    "\n",
    "\n",
    "spatial_footprints_centered_crop = load_npy(base_dir='../../label_data', subpath='mouse 6_28 _ day 20200903')\n",
    "images = spatial_footprints_centered_crop\n"
   ]
  },
  {
   "cell_type": "code",
   "execution_count": 8,
   "metadata": {},
   "outputs": [
    {
     "name": "stdout",
     "output_type": "stream",
     "text": [
      "PATH:   /Users/josh/Documents/Harvard/GCaMP_ROI_classifier/ROIClassifier-tmp/../../label_data/mouse6_28 _ day20200815/stat.npy\n",
      "\n",
      "stat file loaded\n",
      "\n",
      "Number of ROIs: 4847\n"
     ]
    },
    {
     "data": {
      "image/png": "[encoded data removed]",
      "text/plain": [
       "<Figure size 432x288 with 1 Axes>"
      ]
     },
     "metadata": {
      "needs_background": "light"
     },
     "output_type": "display_data"
    }
   ],
   "source": [
    "# # LOAD stat.npy file 2\n",
    "# #___________________\n",
    "\n",
    "\n",
    "spatial_footprints_centered_crop2 = load_npy(base_dir='../../label_data',\n",
    "                                             subpath='mouse6_28 _ day20200815',\n",
    "                                             lbl='2'\n",
    "                                            )\n",
    "images2 = spatial_footprints_centered_crop2\n"
   ]
  },
  {
   "cell_type": "code",
   "execution_count": 9,
   "metadata": {},
   "outputs": [
    {
     "name": "stdout",
     "output_type": "stream",
     "text": [
      "PATH:   /Users/josh/Documents/Harvard/GCaMP_ROI_classifier/ROIClassifier-tmp/../../label_data/mouseUnknownAi148__20210325/stat.npy\n",
      "\n",
      "stat file loaded\n",
      "\n",
      "Number of ROIs: 4893\n"
     ]
    },
    {
     "data": {
      "image/png": "[encoded data removed]",
      "text/plain": [
       "<Figure size 432x288 with 1 Axes>"
      ]
     },
     "metadata": {
      "needs_background": "light"
     },
     "output_type": "display_data"
    }
   ],
   "source": [
    "spatial_footprints_centered_crop3 = load_npy(base_dir='../../label_data',\n",
    "                                             subpath='mouseUnknownAi148__20210325',\n",
    "                                             lbl='3')\n",
    "images3 = spatial_footprints_centered_crop3\n"
   ]
  },
  {
   "cell_type": "code",
   "execution_count": 10,
   "metadata": {},
   "outputs": [
    {
     "name": "stdout",
     "output_type": "stream",
     "text": [
      "PATH:   /Users/josh/Documents/Harvard/GCaMP_ROI_classifier/ROIClassifier-tmp/../../label_data/mouse2_6__20210409/stat.npy\n",
      "\n",
      "stat file loaded\n",
      "\n",
      "Number of ROIs: 4898\n"
     ]
    },
    {
     "data": {
      "image/png": "[encoded data removed]",
      "text/plain": [
       "<Figure size 432x288 with 1 Axes>"
      ]
     },
     "metadata": {
      "needs_background": "light"
     },
     "output_type": "display_data"
    }
   ],
   "source": [
    "spatial_footprints_centered_crop4 = load_npy(base_dir='../../label_data',\n",
    "                                             subpath='mouse2_6__20210409',\n",
    "                                             lbl='4')\n",
    "images4 = spatial_footprints_centered_crop4\n"
   ]
  },
  {
   "cell_type": "code",
   "execution_count": 11,
   "metadata": {},
   "outputs": [
    {
     "name": "stdout",
     "output_type": "stream",
     "text": [
      "(9715, 36, 36)\n"
     ]
    }
   ],
   "source": [
    "images = np.concatenate((spatial_footprints_centered_crop , spatial_footprints_centered_crop2) , axis = 0)\n",
    "print(images.shape)"
   ]
  },
  {
   "cell_type": "code",
   "execution_count": 12,
   "metadata": {},
   "outputs": [],
   "source": [
    "def load_labels(base_dir='../../label_data',\n",
    "                 subpath='mouse 6_28 _ day 20200903',\n",
    "                 fileName_load='labels_posthoc_filledIn_allCells.npy',\n",
    "                 num_labels=6):\n",
    "    \n",
    "    PATH_absolute = pathlib.Path('.').absolute()\n",
    "    \n",
    "    PATH_load_dir_statFile = f'{PATH_absolute}/{base_dir}/{subpath}/'\n",
    "    \n",
    "    print(f'PATH:   {PATH_load_dir_statFile}{fileName_load}')\n",
    "    print('')\n",
    "\n",
    "    labels1 = np.load(f'{PATH_load_dir_statFile}{fileName_load}')\n",
    "    print('labels file loaded')\n",
    "    print('')\n",
    "\n",
    "\n",
    "    plt.figure()\n",
    "    # plt.hist(labels,20);\n",
    "    plt.hist(labels1,20);\n",
    "\n",
    "\n",
    "    #check in number of labels matches number of images\n",
    "    if images.shape[0] == len(labels1):\n",
    "        print('number of labels and images match')\n",
    "    else:\n",
    "        print('WARNING: number of labels and images DO NOT match')\n",
    "    \n",
    "    return labels1"
   ]
  },
  {
   "cell_type": "code",
   "execution_count": 13,
   "metadata": {},
   "outputs": [
    {
     "name": "stdout",
     "output_type": "stream",
     "text": [
      "PATH:   /Users/josh/Documents/Harvard/GCaMP_ROI_classifier/ROIClassifier-tmp/../../label_data/mouse 6_28 _ day 20200903/labels_posthoc_filledIn_allCells.npy\n",
      "\n",
      "labels file loaded\n",
      "\n",
      "WARNING: number of labels and images DO NOT match\n"
     ]
    },
    {
     "data": {
      "image/png": "[encoded data removed]",
      "text/plain": [
       "<Figure size 432x288 with 1 Axes>"
      ]
     },
     "metadata": {
      "needs_background": "light"
     },
     "output_type": "display_data"
    }
   ],
   "source": [
    "# # LOAD labels file 1\n",
    "# #___________________\n",
    "\n",
    "# num_labels = 6\n",
    "\n",
    "# PATH_absolute = pathlib.Path('.').absolute()\n",
    "# PATH_load_dir_statFile = f'{PATH_absolute}/label data/mouse 6_28 _ day 20200903/'\n",
    "# fileName_load = 'labels_posthoc_filledIn_allCells.npy'\n",
    "# print(f'PATH:   {PATH_load_dir_statFile}{fileName_load}')\n",
    "# print('')\n",
    "\n",
    "# labels1 = np.load(f'{PATH_load_dir_statFile}{fileName_load}')\n",
    "# print('labels file loaded')\n",
    "# print('')\n",
    "\n",
    "\n",
    "# plt.figure()\n",
    "# # plt.hist(labels,20);\n",
    "# plt.hist(labels1,20);\n",
    "\n",
    "\n",
    "# #check in number of labels matches number of images\n",
    "# if images.shape[0] == len(labels1):\n",
    "#     print('number of labels and images match')\n",
    "# else:\n",
    "#     print('WARNING: number of labels and images DO NOT match')\n",
    "\n",
    "\n",
    "labels1 = load_labels(base_dir='../../label_data',\n",
    "            subpath='mouse 6_28 _ day 20200903',\n",
    "            fileName_load='labels_posthoc_filledIn_allCells.npy',\n",
    "            num_labels=6)"
   ]
  },
  {
   "cell_type": "code",
   "execution_count": 14,
   "metadata": {},
   "outputs": [
    {
     "data": {
      "text/plain": [
       "((9715, 36, 36), (4868,))"
      ]
     },
     "execution_count": 14,
     "metadata": {},
     "output_type": "execute_result"
    }
   ],
   "source": [
    "images.shape, labels1.shape"
   ]
  },
  {
   "cell_type": "code",
   "execution_count": 15,
   "metadata": {},
   "outputs": [
    {
     "name": "stdout",
     "output_type": "stream",
     "text": [
      "PATH:   /Users/josh/Documents/Harvard/GCaMP_ROI_classifier/ROIClassifier-tmp/../../label_data/mouse6_28 _ day20200815/labels_posthoc_all.npy\n",
      "\n",
      "labels file loaded\n",
      "\n",
      "WARNING: number of labels and images DO NOT match\n"
     ]
    },
    {
     "data": {
      "image/png": "[encoded data removed]",
      "text/plain": [
       "<Figure size 432x288 with 1 Axes>"
      ]
     },
     "metadata": {
      "needs_background": "light"
     },
     "output_type": "display_data"
    }
   ],
   "source": [
    "# # LOAD labels file 2\n",
    "# #___________________\n",
    "\n",
    "# num_labels = 6\n",
    "\n",
    "# PATH_absolute = pathlib.Path('.').absolute()\n",
    "# PATH_load_dir_statFile = f'{PATH_absolute}/label data/mouse6_28 _ day20200815/'\n",
    "# fileName_load = 'labels_posthoc_all.npy'\n",
    "# print(f'PATH:   {PATH_load_dir_statFile}{fileName_load}')\n",
    "# print('')\n",
    "\n",
    "# labels2 = np.load(f'{PATH_load_dir_statFile}{fileName_load}')\n",
    "# print('labels file loaded')\n",
    "# print('')\n",
    "\n",
    "\n",
    "# plt.figure()\n",
    "# # plt.hist(labels,20);\n",
    "# plt.hist(labels2,20);\n",
    "\n",
    "\n",
    "# #check in number of labels matches number of images\n",
    "# if images.shape[0] == len(labels2):\n",
    "#     print('number of labels and images match')\n",
    "# else:\n",
    "#     print('WARNING: number of labels and images DO NOT match')\n",
    "    \n",
    "    \n",
    "    \n",
    "labels2 = load_labels(base_dir='../../label_data',\n",
    "            subpath='mouse6_28 _ day20200815',\n",
    "            fileName_load='labels_posthoc_all.npy',\n",
    "            num_labels=6)"
   ]
  },
  {
   "cell_type": "code",
   "execution_count": 16,
   "metadata": {},
   "outputs": [
    {
     "name": "stdout",
     "output_type": "stream",
     "text": [
      "PATH:   /Users/josh/Documents/Harvard/GCaMP_ROI_classifier/ROIClassifier-tmp/../../label_data/mouseUnknownAi148__20210325/labels_posthoc_mouseUnknownAi148__20210325.npy\n",
      "\n",
      "labels file loaded\n",
      "\n",
      "WARNING: number of labels and images DO NOT match\n"
     ]
    },
    {
     "data": {
      "image/png": "[encoded data removed]",
      "text/plain": [
       "<Figure size 432x288 with 1 Axes>"
      ]
     },
     "metadata": {
      "needs_background": "light"
     },
     "output_type": "display_data"
    }
   ],
   "source": [
    "labels3 = load_labels(base_dir='../../label_data',\n",
    "            subpath='mouseUnknownAi148__20210325',\n",
    "            fileName_load='labels_posthoc_mouseUnknownAi148__20210325.npy',\n",
    "            num_labels=6)"
   ]
  },
  {
   "cell_type": "code",
   "execution_count": 17,
   "metadata": {},
   "outputs": [
    {
     "name": "stdout",
     "output_type": "stream",
     "text": [
      "PATH:   /Users/josh/Documents/Harvard/GCaMP_ROI_classifier/ROIClassifier-tmp/../../label_data/mouse2_6__20210409/labels_posthoc_mouse2_6__20210409.npy\n",
      "\n",
      "labels file loaded\n",
      "\n",
      "WARNING: number of labels and images DO NOT match\n"
     ]
    },
    {
     "data": {
      "image/png": "[encoded data removed]",
      "text/plain": [
       "<Figure size 432x288 with 1 Axes>"
      ]
     },
     "metadata": {
      "needs_background": "light"
     },
     "output_type": "display_data"
    }
   ],
   "source": [
    "labels4 = load_labels(base_dir='../../label_data',\n",
    "            subpath='mouse2_6__20210409',\n",
    "            fileName_load='labels_posthoc_mouse2_6__20210409.npy',\n",
    "            num_labels=6)"
   ]
  },
  {
   "cell_type": "code",
   "execution_count": 18,
   "metadata": {},
   "outputs": [
    {
     "name": "stdout",
     "output_type": "stream",
     "text": [
      "(9715,)\n"
     ]
    }
   ],
   "source": [
    "labels = np.concatenate((labels1 , labels2))\n",
    "print(labels.shape)"
   ]
  },
  {
   "cell_type": "code",
   "execution_count": 19,
   "metadata": {},
   "outputs": [],
   "source": [
    "np.save('../../trash/temp_images.npy', images)"
   ]
  },
  {
   "cell_type": "code",
   "execution_count": 20,
   "metadata": {},
   "outputs": [],
   "source": [
    "np.save('../../trash/temp_labels.npy', labels)"
   ]
  },
  {
   "cell_type": "code",
   "execution_count": null,
   "metadata": {},
   "outputs": [],
   "source": []
  },
  {
   "cell_type": "code",
   "execution_count": 21,
   "metadata": {},
   "outputs": [
    {
     "data": {
      "text/plain": [
       "(((8257, 36, 36), (8257,)),\n",
       " ((1458, 36, 36), (1458,)),\n",
       " ((4893, 36, 36), (4893,)),\n",
       " ((4898, 36, 36), (4898,)))"
      ]
     },
     "execution_count": 21,
     "metadata": {},
     "output_type": "execute_result"
    }
   ],
   "source": [
    "seed = 465\n",
    "np.random.seed(seed)\n",
    "\n",
    "# create validation set\n",
    "train_x, val_x, train_y, val_y = train_test_split(images[:], labels[:], test_size = 0.15)\n",
    "\n",
    "# train_x, train_y = images, labels\n",
    "tea_x, tea_y = images3, labels3\n",
    "teb_x, teb_y = images4, labels4\n",
    "(train_x.shape, train_y.shape), (val_x.shape, val_y.shape), (tea_x.shape, tea_y.shape), (teb_x.shape, teb_y.shape)"
   ]
  },
  {
   "cell_type": "code",
   "execution_count": null,
   "metadata": {},
   "outputs": [],
   "source": []
  },
  {
   "cell_type": "code",
   "execution_count": null,
   "metadata": {},
   "outputs": [],
   "source": []
  },
  {
   "cell_type": "code",
   "execution_count": 22,
   "metadata": {},
   "outputs": [],
   "source": [
    "# importing the libraries\n",
    "import pandas as pd\n",
    "\n",
    "# PyTorch libraries and modules\n",
    "import torch\n",
    "from torch.autograd import Variable\n",
    "from torch.nn import Linear, ReLU, CrossEntropyLoss, Sequential, Conv2d, MaxPool2d, Module, Softmax, BatchNorm2d, Dropout, Sigmoid, SELU, GELU, ELU, PReLU, Softplus, Softmax2d, AvgPool2d, Tanh\n",
    "from torch.optim import Adam, SGD"
   ]
  },
  {
   "cell_type": "markdown",
   "metadata": {},
   "source": [
    "counts = np.histogram(labels,np.arange(7))\n",
    "\n",
    "weightings_groups_forSampling = np.zeros(6)\n",
    "for ii in np.array([0,1,4,5]):\n",
    "    weightings_groups_forSampling[ii] = np.max(counts[0]) / counts[0][ii]\n",
    "\n",
    "plt.figure()\n",
    "plt.bar(range(6), weightings_groups_forSampling)"
   ]
  },
  {
   "cell_type": "code",
   "execution_count": null,
   "metadata": {},
   "outputs": [],
   "source": []
  },
  {
   "cell_type": "markdown",
   "metadata": {},
   "source": [
    "# %matplotlib qt\n",
    "weightings_forSampling = np.zeros(len(labels)) + 1e-9\n",
    "for ii in range(len(weightings_forSampling)):\n",
    "    weightings_forSampling[ii] = weightings_groups_forSampling[labels[ii]]\n",
    "\n",
    "weightings_forSampling = weightings_forSampling / np.sum(weightings_forSampling)\n",
    "plt.figure()\n",
    "plt.plot(weightings_forSampling)\n",
    "plt.plot(scipy.signal.savgol_filter(weightings_forSampling,11,2))"
   ]
  },
  {
   "cell_type": "markdown",
   "metadata": {},
   "source": [
    "# light data augmentation\n",
    "duplicates = 10\n",
    "\n",
    "# duplication to equalize the probability of encountering each case\n",
    "\n",
    "images_dup = train_x[0][None,:,:]\n",
    "labels_aug = np.array([val_y[0]])\n",
    "\n",
    "for ii in range(6):\n",
    "    images_dup = np.concatenate( ( images_dup , np.tile(images[labels==ii] ,( np.int16(weightings_groups_forSampling[ii]) , 1 , 1 ) )), axis=0)\n",
    "    labels_aug = np.concatenate( ( labels_aug , np.ones( np.int16(weightings_groups_forSampling[ii]) * np.sum(labels==ii) ) * ii) )\n",
    "images_dup = np.tile(images_dup , (duplicates,1,1))\n",
    "# images_dup = images_dup / np.tile(np.max(images_dup , axis=(1,2)) , (images_dup.shape[1], images_dup.shape[2], 1)).transpose(2,0,1) # noramlized all the images' max values to 1\n",
    "labels_aug = np.tile(labels_aug , duplicates)\n",
    "\n",
    "test = np.ones(images_dup.shape[0]) * np.nan\n",
    "images_dup_int8 = np.int8(np.zeros_like(images_dup))\n",
    "images_dup_uint8 = np.uint8(np.zeros_like(images_dup))\n",
    "for ii , val in enumerate(images_dup):\n",
    "    images_dup_int8[ii] = np.int8(np.round((( images_dup[ii] / np.max(images_dup[ii], axis=(0,1)) ) -0.5) * 122))\n",
    "    images_dup_uint8[ii] = np.uint8(np.round((( images_dup[ii] / np.max(images_dup[ii], axis=(0,1)) )) * 122))\n",
    "    test[ii] = np.mean(images_dup_uint8[ii], axis=(0,1))"
   ]
  },
  {
   "cell_type": "code",
   "execution_count": 23,
   "metadata": {},
   "outputs": [
    {
     "name": "stdout",
     "output_type": "stream",
     "text": [
      "(8257, 36, 36)\n",
      "(8257,)\n",
      "442\n",
      "442\n",
      "442\n",
      "442\n",
      "221\n",
      "(1548, 36, 36)\n",
      "(1548,)\n"
     ]
    }
   ],
   "source": [
    "duplicates = dup_num\n",
    "\n",
    "images_dup = np.tile(train_x , (duplicates , 1 , 1))\n",
    "labels_aug = np.tile(train_y , (duplicates))\n",
    "\n",
    "print(images_dup.shape)\n",
    "print(labels_aug.shape)\n",
    "\n",
    "numToGetTo = np.sum(labels_aug==0)\n",
    "print(numToGetTo)\n",
    "for ii in np.array([1,4,5]):\n",
    "#     idxToDelete = np.cumsum(labels_aug==ii) <= (np.sum(labels_aug==ii) - numToGetTo)\n",
    "    if ii==5:\n",
    "        numToGetTo = np.sum(labels_aug==0)/2\n",
    "    else:\n",
    "        numToGetTo = np.sum(labels_aug==0)\n",
    "\n",
    "    idxToDelete = (np.cumsum(labels_aug==ii) * (labels_aug==ii)) > numToGetTo\n",
    "    images_dup = images_dup[idxToDelete==0,:,:]\n",
    "    labels_aug = labels_aug[idxToDelete==0]\n",
    "\n",
    "\n",
    "print(np.sum(labels_aug==0))\n",
    "print(np.sum(labels_aug==1))\n",
    "print(np.sum(labels_aug==4))\n",
    "print(np.sum(labels_aug==5))\n",
    "print(images_dup.shape)\n",
    "print(labels_aug.shape)"
   ]
  },
  {
   "cell_type": "code",
   "execution_count": 24,
   "metadata": {},
   "outputs": [
    {
     "data": {
      "text/plain": [
       "[<matplotlib.lines.Line2D at 0x7fd5289c7670>]"
      ]
     },
     "execution_count": 24,
     "metadata": {},
     "output_type": "execute_result"
    },
    {
     "data": {
      "image/png": "[encoded data removed]",
      "text/plain": [
       "<Figure size 432x288 with 1 Axes>"
      ]
     },
     "metadata": {
      "needs_background": "light"
     },
     "output_type": "display_data"
    }
   ],
   "source": [
    "# %matplotlib inline\n",
    "# %matplotlib inline\n",
    "\n",
    "plt.figure()\n",
    "plt.plot(labels_aug[:20])\n",
    "plt.plot(train_y[:20])\n",
    "# plt.plot(scipy.signal.savgol_filter(labels_aug , 11 , 3))\n",
    "\n",
    "# plt.figure()\n",
    "# plt.imshow(images_dup[5]);\n",
    "# print(images_dup.dtype)"
   ]
  },
  {
   "cell_type": "code",
   "execution_count": 25,
   "metadata": {},
   "outputs": [],
   "source": [
    "aug_seq = iaa.Sequential([], random_order=True) # apply augmenters in random order"
   ]
  },
  {
   "cell_type": "markdown",
   "metadata": {},
   "source": [
    "np.save('images_aug.npy' , images_aug)"
   ]
  },
  {
   "cell_type": "markdown",
   "metadata": {},
   "source": [
    "images_aug = np.load('images_aug.npy')"
   ]
  },
  {
   "cell_type": "code",
   "execution_count": 26,
   "metadata": {},
   "outputs": [
    {
     "name": "stdout",
     "output_type": "stream",
     "text": [
      "(1548, 36, 36)\n",
      "float64\n",
      "float64\n"
     ]
    },
    {
     "data": {
      "image/png": "[encoded data removed]",
      "text/plain": [
       "<Figure size 432x288 with 1 Axes>"
      ]
     },
     "metadata": {
      "needs_background": "light"
     },
     "output_type": "display_data"
    },
    {
     "data": {
      "image/png": "[encoded data removed]",
      "text/plain": [
       "<Figure size 432x288 with 1 Axes>"
      ]
     },
     "metadata": {
      "needs_background": "light"
     },
     "output_type": "display_data"
    }
   ],
   "source": [
    "# images_aug = aug_seq(images=images_dup_uint8)\n",
    "images_aug = aug_seq(images=images_dup)\n",
    "# images_aug = images_dup\n",
    "# images_aug = images_aug\n",
    "\n",
    "# images_aug = images_aug / np.tile(np.max(images_aug , axis=(1,2)) , (images_aug.shape[1], images_aug.shape[2], 1)).transpose(2,0,1) # noramlized all the images' max values to 1\n",
    "\n",
    "print(images_aug.shape)\n",
    "\n",
    "# plt.figure()\n",
    "# plt.imshow(images_dup_uint8[6])\n",
    "plt.figure()\n",
    "plt.plot(labels_aug)\n",
    "plt.figure()\n",
    "plt.hist(labels_aug);\n",
    "\n",
    "print(images_dup.dtype)\n",
    "print(images_aug.dtype)\n",
    "\n",
    "# print(images_aug.shape)\n",
    "# print(labels_aug.shape)"
   ]
  },
  {
   "cell_type": "code",
   "execution_count": 49,
   "metadata": {},
   "outputs": [
    {
     "data": {
      "text/plain": [
       "<matplotlib.image.AxesImage at 0x7fd52980be50>"
      ]
     },
     "execution_count": 49,
     "metadata": {},
     "output_type": "execute_result"
    },
    {
     "data": {
      "image/png": "[encoded data removed]",
      "text/plain": [
       "<Figure size 432x288 with 1 Axes>"
      ]
     },
     "metadata": {
      "needs_background": "light"
     },
     "output_type": "display_data"
    },
    {
     "data": {
      "image/png": "[encoded data removed]",
      "text/plain": [
       "<Figure size 432x288 with 1 Axes>"
      ]
     },
     "metadata": {
      "needs_background": "light"
     },
     "output_type": "display_data"
    },
    {
     "data": {
      "image/png": "[encoded data removed]",
      "text/plain": [
       "<Figure size 432x288 with 1 Axes>"
      ]
     },
     "metadata": {
      "needs_background": "light"
     },
     "output_type": "display_data"
    }
   ],
   "source": [
    "# noiseGain_inverse = np.random.rand(1)**2 * 100 + 10\n",
    "# plt.figure()\n",
    "# test = (100 * ( np.random.rand(10000) + 0.1 )**2)+12\n",
    "# plt.hist(test[test < 1000],100);\n",
    "# noiseGain_inverse = lambda x: (100 * ( np.random.rand(x) + 0.1 )**2)+50\n",
    "\n",
    "noiseGain_inverse = lambda x: x\n",
    "plt.figure()\n",
    "plt.hist(noiseGain_inverse(10000),100)\n",
    "\n",
    "images_toUse = images_aug\n",
    "\n",
    "images_aug_noisy = np.zeros_like(images_toUse)\n",
    "for ii in range(images_toUse.shape[0]):\n",
    "    if np.random.rand(1) < 0.8:\n",
    "        noise = noiseGain_inverse(1)\n",
    "#         images_aug_noisy[ii] = np.random.poisson(images_toUse[ii] / np.max(images_toUse[ii]) ) * noise / noise * np.max(images_toUse[ii])   # noisy image\n",
    "        images_aug_noisy[ii] = np.random.poisson(images_toUse[ii] / np.max(images_toUse[ii]) * noise) / noise * np.max(images_toUse[ii])   # noisy image\n",
    "    else:\n",
    "        images_aug_noisy[ii] = images_toUse[ii]\n",
    "plt.figure()\n",
    "plt.imshow(images_aug_noisy[0])\n",
    "plt.figure()\n",
    "plt.imshow(images_aug_noisy[1])"
   ]
  },
  {
   "cell_type": "markdown",
   "metadata": {},
   "source": [
    "np.save('images_aug.npy' , images_aug)"
   ]
  },
  {
   "cell_type": "code",
   "execution_count": 50,
   "metadata": {},
   "outputs": [
    {
     "data": {
      "application/javascript": [
       "/* Put everything inside the global mpl namespace */\n",
       "/* global mpl */\n",
       "window.mpl = {};\n",
       "\n",
       "mpl.get_websocket_type = function () {\n",
       "    if (typeof WebSocket !== 'undefined') {\n",
       "        return WebSocket;\n",
       "    } else if (typeof MozWebSocket !== 'undefined') {\n",
       "        return MozWebSocket;\n",
       "    } else {\n",
       "        alert(\n",
       "            'Your browser does not have WebSocket support. ' +\n",
       "                'Please try Chrome, Safari or Firefox ≥ 6. ' +\n",
       "                'Firefox 4 and 5 are also supported but you ' +\n",
       "                'have to enable WebSockets in about:config.'\n",
       "        );\n",
       "    }\n",
       "};\n",
       "\n",
       "mpl.figure = function (figure_id, websocket, ondownload, parent_element) {\n",
       "    this.id = figure_id;\n",
       "\n",
       "    this.ws = websocket;\n",
       "\n",
       "    this.supports_binary = this.ws.binaryType !== undefined;\n",
       "\n",
       "    if (!this.supports_binary) {\n",
       "        var warnings = document.getElementById('mpl-warnings');\n",
       "        if (warnings) {\n",
       "            warnings.style.display = 'block';\n",
       "            warnings.textContent =\n",
       "                'This browser does not support binary websocket messages. ' +\n",
       "                'Performance may be slow.';\n",
       "        }\n",
       "    }\n",
       "\n",
       "    this.imageObj = new Image();\n",
       "\n",
       "    this.context = undefined;\n",
       "    this.message = undefined;\n",
       "    this.canvas = undefined;\n",
       "    this.rubberband_canvas = undefined;\n",
       "    this.rubberband_context = undefined;\n",
       "    this.format_dropdown = undefined;\n",
       "\n",
       "    this.image_mode = 'full';\n",
       "\n",
       "    this.root = document.createElement('div');\n",
       "    this.root.setAttribute('style', 'display: inline-block');\n",
       "    this._root_extra_style(this.root);\n",
       "\n",
       "    parent_element.appendChild(this.root);\n",
       "\n",
       "    this._init_header(this);\n",
       "    this._init_canvas(this);\n",
       "    this._init_toolbar(this);\n",
       "\n",
       "    var fig = this;\n",
       "\n",
       "    this.waiting = false;\n",
       "\n",
       "    this.ws.onopen = function () {\n",
       "        fig.send_message('supports_binary', { value: fig.supports_binary });\n",
       "        fig.send_message('send_image_mode', {});\n",
       "        if (fig.ratio !== 1) {\n",
       "            fig.send_message('set_dpi_ratio', { dpi_ratio: fig.ratio });\n",
       "        }\n",
       "        fig.send_message('refresh', {});\n",
       "    };\n",
       "\n",
       "    this.imageObj.onload = function () {\n",
       "        if (fig.image_mode === 'full') {\n",
       "            // Full images could contain transparency (where diff images\n",
       "            // almost always do), so we need to clear the canvas so that\n",
       "            // there is no ghosting.\n",
       "            fig.context.clearRect(0, 0, fig.canvas.width, fig.canvas.height);\n",
       "        }\n",
       "        fig.context.drawImage(fig.imageObj, 0, 0);\n",
       "    };\n",
       "\n",
       "    this.imageObj.onunload = function () {\n",
       "        fig.ws.close();\n",
       "    };\n",
       "\n",
       "    this.ws.onmessage = this._make_on_message_function(this);\n",
       "\n",
       "    this.ondownload = ondownload;\n",
       "};\n",
       "\n",
       "mpl.figure.prototype._init_header = function () {\n",
       "    var titlebar = document.createElement('div');\n",
       "    titlebar.classList =\n",
       "        'ui-dialog-titlebar ui-widget-header ui-corner-all ui-helper-clearfix';\n",
       "    var titletext = document.createElement('div');\n",
       "    titletext.classList = 'ui-dialog-title';\n",
       "    titletext.setAttribute(\n",
       "        'style',\n",
       "        'width: 100%; text-align: center; padding: 3px;'\n",
       "    );\n",
       "    titlebar.appendChild(titletext);\n",
       "    this.root.appendChild(titlebar);\n",
       "    this.header = titletext;\n",
       "};\n",
       "\n",
       "mpl.figure.prototype._canvas_extra_style = function (_canvas_div) {};\n",
       "\n",
       "mpl.figure.prototype._root_extra_style = function (_canvas_div) {};\n",
       "\n",
       "mpl.figure.prototype._init_canvas = function () {\n",
       "    var fig = this;\n",
       "\n",
       "    var canvas_div = (this.canvas_div = document.createElement('div'));\n",
       "    canvas_div.setAttribute(\n",
       "        'style',\n",
       "        'border: 1px solid #ddd;' +\n",
       "            'box-sizing: content-box;' +\n",
       "            'clear: both;' +\n",
       "            'min-height: 1px;' +\n",
       "            'min-width: 1px;' +\n",
       "            'outline: 0;' +\n",
       "            'overflow: hidden;' +\n",
       "            'position: relative;' +\n",
       "            'resize: both;'\n",
       "    );\n",
       "\n",
       "    function on_keyboard_event_closure(name) {\n",
       "        return function (event) {\n",
       "            return fig.key_event(event, name);\n",
       "        };\n",
       "    }\n",
       "\n",
       "    canvas_div.addEventListener(\n",
       "        'keydown',\n",
       "        on_keyboard_event_closure('key_press')\n",
       "    );\n",
       "    canvas_div.addEventListener(\n",
       "        'keyup',\n",
       "        on_keyboard_event_closure('key_release')\n",
       "    );\n",
       "\n",
       "    this._canvas_extra_style(canvas_div);\n",
       "    this.root.appendChild(canvas_div);\n",
       "\n",
       "    var canvas = (this.canvas = document.createElement('canvas'));\n",
       "    canvas.classList.add('mpl-canvas');\n",
       "    canvas.setAttribute('style', 'box-sizing: content-box;');\n",
       "\n",
       "    this.context = canvas.getContext('2d');\n",
       "\n",
       "    var backingStore =\n",
       "        this.context.backingStorePixelRatio ||\n",
       "        this.context.webkitBackingStorePixelRatio ||\n",
       "        this.context.mozBackingStorePixelRatio ||\n",
       "        this.context.msBackingStorePixelRatio ||\n",
       "        this.context.oBackingStorePixelRatio ||\n",
       "        this.context.backingStorePixelRatio ||\n",
       "        1;\n",
       "\n",
       "    this.ratio = (window.devicePixelRatio || 1) / backingStore;\n",
       "    if (this.ratio !== 1) {\n",
       "        fig.send_message('set_dpi_ratio', { dpi_ratio: this.ratio });\n",
       "    }\n",
       "\n",
       "    var rubberband_canvas = (this.rubberband_canvas = document.createElement(\n",
       "        'canvas'\n",
       "    ));\n",
       "    rubberband_canvas.setAttribute(\n",
       "        'style',\n",
       "        'box-sizing: content-box; position: absolute; left: 0; top: 0; z-index: 1;'\n",
       "    );\n",
       "\n",
       "    var resizeObserver = new ResizeObserver(function (entries) {\n",
       "        var nentries = entries.length;\n",
       "        for (var i = 0; i < nentries; i++) {\n",
       "            var entry = entries[i];\n",
       "            var width, height;\n",
       "            if (entry.contentBoxSize) {\n",
       "                if (entry.contentBoxSize instanceof Array) {\n",
       "                    // Chrome 84 implements new version of spec.\n",
       "                    width = entry.contentBoxSize[0].inlineSize;\n",
       "                    height = entry.contentBoxSize[0].blockSize;\n",
       "                } else {\n",
       "                    // Firefox implements old version of spec.\n",
       "                    width = entry.contentBoxSize.inlineSize;\n",
       "                    height = entry.contentBoxSize.blockSize;\n",
       "                }\n",
       "            } else {\n",
       "                // Chrome <84 implements even older version of spec.\n",
       "                width = entry.contentRect.width;\n",
       "                height = entry.contentRect.height;\n",
       "            }\n",
       "\n",
       "            // Keep the size of the canvas and rubber band canvas in sync with\n",
       "            // the canvas container.\n",
       "            if (entry.devicePixelContentBoxSize) {\n",
       "                // Chrome 84 implements new version of spec.\n",
       "                canvas.setAttribute(\n",
       "                    'width',\n",
       "                    entry.devicePixelContentBoxSize[0].inlineSize\n",
       "                );\n",
       "                canvas.setAttribute(\n",
       "                    'height',\n",
       "                    entry.devicePixelContentBoxSize[0].blockSize\n",
       "                );\n",
       "            } else {\n",
       "                canvas.setAttribute('width', width * fig.ratio);\n",
       "                canvas.setAttribute('height', height * fig.ratio);\n",
       "            }\n",
       "            canvas.setAttribute(\n",
       "                'style',\n",
       "                'width: ' + width + 'px; height: ' + height + 'px;'\n",
       "            );\n",
       "\n",
       "            rubberband_canvas.setAttribute('width', width);\n",
       "            rubberband_canvas.setAttribute('height', height);\n",
       "\n",
       "            // And update the size in Python. We ignore the initial 0/0 size\n",
       "            // that occurs as the element is placed into the DOM, which should\n",
       "            // otherwise not happen due to the minimum size styling.\n",
       "            if (width != 0 && height != 0) {\n",
       "                fig.request_resize(width, height);\n",
       "            }\n",
       "        }\n",
       "    });\n",
       "    resizeObserver.observe(canvas_div);\n",
       "\n",
       "    function on_mouse_event_closure(name) {\n",
       "        return function (event) {\n",
       "            return fig.mouse_event(event, name);\n",
       "        };\n",
       "    }\n",
       "\n",
       "    rubberband_canvas.addEventListener(\n",
       "        'mousedown',\n",
       "        on_mouse_event_closure('button_press')\n",
       "    );\n",
       "    rubberband_canvas.addEventListener(\n",
       "        'mouseup',\n",
       "        on_mouse_event_closure('button_release')\n",
       "    );\n",
       "    // Throttle sequential mouse events to 1 every 20ms.\n",
       "    rubberband_canvas.addEventListener(\n",
       "        'mousemove',\n",
       "        on_mouse_event_closure('motion_notify')\n",
       "    );\n",
       "\n",
       "    rubberband_canvas.addEventListener(\n",
       "        'mouseenter',\n",
       "        on_mouse_event_closure('figure_enter')\n",
       "    );\n",
       "    rubberband_canvas.addEventListener(\n",
       "        'mouseleave',\n",
       "        on_mouse_event_closure('figure_leave')\n",
       "    );\n",
       "\n",
       "    canvas_div.addEventListener('wheel', function (event) {\n",
       "        if (event.deltaY < 0) {\n",
       "            event.step = 1;\n",
       "        } else {\n",
       "            event.step = -1;\n",
       "        }\n",
       "        on_mouse_event_closure('scroll')(event);\n",
       "    });\n",
       "\n",
       "    canvas_div.appendChild(canvas);\n",
       "    canvas_div.appendChild(rubberband_canvas);\n",
       "\n",
       "    this.rubberband_context = rubberband_canvas.getContext('2d');\n",
       "    this.rubberband_context.strokeStyle = '#000000';\n",
       "\n",
       "    this._resize_canvas = function (width, height, forward) {\n",
       "        if (forward) {\n",
       "            canvas_div.style.width = width + 'px';\n",
       "            canvas_div.style.height = height + 'px';\n",
       "        }\n",
       "    };\n",
       "\n",
       "    // Disable right mouse context menu.\n",
       "    this.rubberband_canvas.addEventListener('contextmenu', function (_e) {\n",
       "        event.preventDefault();\n",
       "        return false;\n",
       "    });\n",
       "\n",
       "    function set_focus() {\n",
       "        canvas.focus();\n",
       "        canvas_div.focus();\n",
       "    }\n",
       "\n",
       "    window.setTimeout(set_focus, 100);\n",
       "};\n",
       "\n",
       "mpl.figure.prototype._init_toolbar = function () {\n",
       "    var fig = this;\n",
       "\n",
       "    var toolbar = document.createElement('div');\n",
       "    toolbar.classList = 'mpl-toolbar';\n",
       "    this.root.appendChild(toolbar);\n",
       "\n",
       "    function on_click_closure(name) {\n",
       "        return function (_event) {\n",
       "            return fig.toolbar_button_onclick(name);\n",
       "        };\n",
       "    }\n",
       "\n",
       "    function on_mouseover_closure(tooltip) {\n",
       "        return function (event) {\n",
       "            if (!event.currentTarget.disabled) {\n",
       "                return fig.toolbar_button_onmouseover(tooltip);\n",
       "            }\n",
       "        };\n",
       "    }\n",
       "\n",
       "    fig.buttons = {};\n",
       "    var buttonGroup = document.createElement('div');\n",
       "    buttonGroup.classList = 'mpl-button-group';\n",
       "    for (var toolbar_ind in mpl.toolbar_items) {\n",
       "        var name = mpl.toolbar_items[toolbar_ind][0];\n",
       "        var tooltip = mpl.toolbar_items[toolbar_ind][1];\n",
       "        var image = mpl.toolbar_items[toolbar_ind][2];\n",
       "        var method_name = mpl.toolbar_items[toolbar_ind][3];\n",
       "\n",
       "        if (!name) {\n",
       "            /* Instead of a spacer, we start a new button group. */\n",
       "            if (buttonGroup.hasChildNodes()) {\n",
       "                toolbar.appendChild(buttonGroup);\n",
       "            }\n",
       "            buttonGroup = document.createElement('div');\n",
       "            buttonGroup.classList = 'mpl-button-group';\n",
       "            continue;\n",
       "        }\n",
       "\n",
       "        var button = (fig.buttons[name] = document.createElement('button'));\n",
       "        button.classList = 'mpl-widget';\n",
       "        button.setAttribute('role', 'button');\n",
       "        button.setAttribute('aria-disabled', 'false');\n",
       "        button.addEventListener('click', on_click_closure(method_name));\n",
       "        button.addEventListener('mouseover', on_mouseover_closure(tooltip));\n",
       "\n",
       "        var icon_img = document.createElement('img');\n",
       "        icon_img.src = '_images/' + image + '.png';\n",
       "        icon_img.srcset = '_images/' + image + '_large.png 2x';\n",
       "        icon_img.alt = tooltip;\n",
       "        button.appendChild(icon_img);\n",
       "\n",
       "        buttonGroup.appendChild(button);\n",
       "    }\n",
       "\n",
       "    if (buttonGroup.hasChildNodes()) {\n",
       "        toolbar.appendChild(buttonGroup);\n",
       "    }\n",
       "\n",
       "    var fmt_picker = document.createElement('select');\n",
       "    fmt_picker.classList = 'mpl-widget';\n",
       "    toolbar.appendChild(fmt_picker);\n",
       "    this.format_dropdown = fmt_picker;\n",
       "\n",
       "    for (var ind in mpl.extensions) {\n",
       "        var fmt = mpl.extensions[ind];\n",
       "        var option = document.createElement('option');\n",
       "        option.selected = fmt === mpl.default_extension;\n",
       "        option.innerHTML = fmt;\n",
       "        fmt_picker.appendChild(option);\n",
       "    }\n",
       "\n",
       "    var status_bar = document.createElement('span');\n",
       "    status_bar.classList = 'mpl-message';\n",
       "    toolbar.appendChild(status_bar);\n",
       "    this.message = status_bar;\n",
       "};\n",
       "\n",
       "mpl.figure.prototype.request_resize = function (x_pixels, y_pixels) {\n",
       "    // Request matplotlib to resize the figure. Matplotlib will then trigger a resize in the client,\n",
       "    // which will in turn request a refresh of the image.\n",
       "    this.send_message('resize', { width: x_pixels, height: y_pixels });\n",
       "};\n",
       "\n",
       "mpl.figure.prototype.send_message = function (type, properties) {\n",
       "    properties['type'] = type;\n",
       "    properties['figure_id'] = this.id;\n",
       "    this.ws.send(JSON.stringify(properties));\n",
       "};\n",
       "\n",
       "mpl.figure.prototype.send_draw_message = function () {\n",
       "    if (!this.waiting) {\n",
       "        this.waiting = true;\n",
       "        this.ws.send(JSON.stringify({ type: 'draw', figure_id: this.id }));\n",
       "    }\n",
       "};\n",
       "\n",
       "mpl.figure.prototype.handle_save = function (fig, _msg) {\n",
       "    var format_dropdown = fig.format_dropdown;\n",
       "    var format = format_dropdown.options[format_dropdown.selectedIndex].value;\n",
       "    fig.ondownload(fig, format);\n",
       "};\n",
       "\n",
       "mpl.figure.prototype.handle_resize = function (fig, msg) {\n",
       "    var size = msg['size'];\n",
       "    if (size[0] !== fig.canvas.width || size[1] !== fig.canvas.height) {\n",
       "        fig._resize_canvas(size[0], size[1], msg['forward']);\n",
       "        fig.send_message('refresh', {});\n",
       "    }\n",
       "};\n",
       "\n",
       "mpl.figure.prototype.handle_rubberband = function (fig, msg) {\n",
       "    var x0 = msg['x0'] / fig.ratio;\n",
       "    var y0 = (fig.canvas.height - msg['y0']) / fig.ratio;\n",
       "    var x1 = msg['x1'] / fig.ratio;\n",
       "    var y1 = (fig.canvas.height - msg['y1']) / fig.ratio;\n",
       "    x0 = Math.floor(x0) + 0.5;\n",
       "    y0 = Math.floor(y0) + 0.5;\n",
       "    x1 = Math.floor(x1) + 0.5;\n",
       "    y1 = Math.floor(y1) + 0.5;\n",
       "    var min_x = Math.min(x0, x1);\n",
       "    var min_y = Math.min(y0, y1);\n",
       "    var width = Math.abs(x1 - x0);\n",
       "    var height = Math.abs(y1 - y0);\n",
       "\n",
       "    fig.rubberband_context.clearRect(\n",
       "        0,\n",
       "        0,\n",
       "        fig.canvas.width / fig.ratio,\n",
       "        fig.canvas.height / fig.ratio\n",
       "    );\n",
       "\n",
       "    fig.rubberband_context.strokeRect(min_x, min_y, width, height);\n",
       "};\n",
       "\n",
       "mpl.figure.prototype.handle_figure_label = function (fig, msg) {\n",
       "    // Updates the figure title.\n",
       "    fig.header.textContent = msg['label'];\n",
       "};\n",
       "\n",
       "mpl.figure.prototype.handle_cursor = function (fig, msg) {\n",
       "    var cursor = msg['cursor'];\n",
       "    switch (cursor) {\n",
       "        case 0:\n",
       "            cursor = 'pointer';\n",
       "            break;\n",
       "        case 1:\n",
       "            cursor = 'default';\n",
       "            break;\n",
       "        case 2:\n",
       "            cursor = 'crosshair';\n",
       "            break;\n",
       "        case 3:\n",
       "            cursor = 'move';\n",
       "            break;\n",
       "    }\n",
       "    fig.rubberband_canvas.style.cursor = cursor;\n",
       "};\n",
       "\n",
       "mpl.figure.prototype.handle_message = function (fig, msg) {\n",
       "    fig.message.textContent = msg['message'];\n",
       "};\n",
       "\n",
       "mpl.figure.prototype.handle_draw = function (fig, _msg) {\n",
       "    // Request the server to send over a new figure.\n",
       "    fig.send_draw_message();\n",
       "};\n",
       "\n",
       "mpl.figure.prototype.handle_image_mode = function (fig, msg) {\n",
       "    fig.image_mode = msg['mode'];\n",
       "};\n",
       "\n",
       "mpl.figure.prototype.handle_history_buttons = function (fig, msg) {\n",
       "    for (var key in msg) {\n",
       "        if (!(key in fig.buttons)) {\n",
       "            continue;\n",
       "        }\n",
       "        fig.buttons[key].disabled = !msg[key];\n",
       "        fig.buttons[key].setAttribute('aria-disabled', !msg[key]);\n",
       "    }\n",
       "};\n",
       "\n",
       "mpl.figure.prototype.handle_navigate_mode = function (fig, msg) {\n",
       "    if (msg['mode'] === 'PAN') {\n",
       "        fig.buttons['Pan'].classList.add('active');\n",
       "        fig.buttons['Zoom'].classList.remove('active');\n",
       "    } else if (msg['mode'] === 'ZOOM') {\n",
       "        fig.buttons['Pan'].classList.remove('active');\n",
       "        fig.buttons['Zoom'].classList.add('active');\n",
       "    } else {\n",
       "        fig.buttons['Pan'].classList.remove('active');\n",
       "        fig.buttons['Zoom'].classList.remove('active');\n",
       "    }\n",
       "};\n",
       "\n",
       "mpl.figure.prototype.updated_canvas_event = function () {\n",
       "    // Called whenever the canvas gets updated.\n",
       "    this.send_message('ack', {});\n",
       "};\n",
       "\n",
       "// A function to construct a web socket function for onmessage handling.\n",
       "// Called in the figure constructor.\n",
       "mpl.figure.prototype._make_on_message_function = function (fig) {\n",
       "    return function socket_on_message(evt) {\n",
       "        if (evt.data instanceof Blob) {\n",
       "            /* FIXME: We get \"Resource interpreted as Image but\n",
       "             * transferred with MIME type text/plain:\" errors on\n",
       "             * Chrome.  But how to set the MIME type?  It doesn't seem\n",
       "             * to be part of the websocket stream */\n",
       "            evt.data.type = 'image/png';\n",
       "\n",
       "            /* Free the memory for the previous frames */\n",
       "            if (fig.imageObj.src) {\n",
       "                (window.URL || window.webkitURL).revokeObjectURL(\n",
       "                    fig.imageObj.src\n",
       "                );\n",
       "            }\n",
       "\n",
       "            fig.imageObj.src = (window.URL || window.webkitURL).createObjectURL(\n",
       "                evt.data\n",
       "            );\n",
       "            fig.updated_canvas_event();\n",
       "            fig.waiting = false;\n",
       "            return;\n",
       "        } else if (\n",
       "            typeof evt.data === 'string' &&\n",
       "            evt.data.slice(0, 21) === 'data:image/png;base64'\n",
       "        ) {\n",
       "            fig.imageObj.src = evt.data;\n",
       "            fig.updated_canvas_event();\n",
       "            fig.waiting = false;\n",
       "            return;\n",
       "        }\n",
       "\n",
       "        var msg = JSON.parse(evt.data);\n",
       "        var msg_type = msg['type'];\n",
       "\n",
       "        // Call the  \"handle_{type}\" callback, which takes\n",
       "        // the figure and JSON message as its only arguments.\n",
       "        try {\n",
       "            var callback = fig['handle_' + msg_type];\n",
       "        } catch (e) {\n",
       "            console.log(\n",
       "                \"No handler for the '\" + msg_type + \"' message type: \",\n",
       "                msg\n",
       "            );\n",
       "            return;\n",
       "        }\n",
       "\n",
       "        if (callback) {\n",
       "            try {\n",
       "                // console.log(\"Handling '\" + msg_type + \"' message: \", msg);\n",
       "                callback(fig, msg);\n",
       "            } catch (e) {\n",
       "                console.log(\n",
       "                    \"Exception inside the 'handler_\" + msg_type + \"' callback:\",\n",
       "                    e,\n",
       "                    e.stack,\n",
       "                    msg\n",
       "                );\n",
       "            }\n",
       "        }\n",
       "    };\n",
       "};\n",
       "\n",
       "// from http://stackoverflow.com/questions/1114465/getting-mouse-location-in-canvas\n",
       "mpl.findpos = function (e) {\n",
       "    //this section is from http://www.quirksmode.org/js/events_properties.html\n",
       "    var targ;\n",
       "    if (!e) {\n",
       "        e = window.event;\n",
       "    }\n",
       "    if (e.target) {\n",
       "        targ = e.target;\n",
       "    } else if (e.srcElement) {\n",
       "        targ = e.srcElement;\n",
       "    }\n",
       "    if (targ.nodeType === 3) {\n",
       "        // defeat Safari bug\n",
       "        targ = targ.parentNode;\n",
       "    }\n",
       "\n",
       "    // pageX,Y are the mouse positions relative to the document\n",
       "    var boundingRect = targ.getBoundingClientRect();\n",
       "    var x = e.pageX - (boundingRect.left + document.body.scrollLeft);\n",
       "    var y = e.pageY - (boundingRect.top + document.body.scrollTop);\n",
       "\n",
       "    return { x: x, y: y };\n",
       "};\n",
       "\n",
       "/*\n",
       " * return a copy of an object with only non-object keys\n",
       " * we need this to avoid circular references\n",
       " * http://stackoverflow.com/a/24161582/3208463\n",
       " */\n",
       "function simpleKeys(original) {\n",
       "    return Object.keys(original).reduce(function (obj, key) {\n",
       "        if (typeof original[key] !== 'object') {\n",
       "            obj[key] = original[key];\n",
       "        }\n",
       "        return obj;\n",
       "    }, {});\n",
       "}\n",
       "\n",
       "mpl.figure.prototype.mouse_event = function (event, name) {\n",
       "    var canvas_pos = mpl.findpos(event);\n",
       "\n",
       "    if (name === 'button_press') {\n",
       "        this.canvas.focus();\n",
       "        this.canvas_div.focus();\n",
       "    }\n",
       "\n",
       "    var x = canvas_pos.x * this.ratio;\n",
       "    var y = canvas_pos.y * this.ratio;\n",
       "\n",
       "    this.send_message(name, {\n",
       "        x: x,\n",
       "        y: y,\n",
       "        button: event.button,\n",
       "        step: event.step,\n",
       "        guiEvent: simpleKeys(event),\n",
       "    });\n",
       "\n",
       "    /* This prevents the web browser from automatically changing to\n",
       "     * the text insertion cursor when the button is pressed.  We want\n",
       "     * to control all of the cursor setting manually through the\n",
       "     * 'cursor' event from matplotlib */\n",
       "    event.preventDefault();\n",
       "    return false;\n",
       "};\n",
       "\n",
       "mpl.figure.prototype._key_event_extra = function (_event, _name) {\n",
       "    // Handle any extra behaviour associated with a key event\n",
       "};\n",
       "\n",
       "mpl.figure.prototype.key_event = function (event, name) {\n",
       "    // Prevent repeat events\n",
       "    if (name === 'key_press') {\n",
       "        if (event.which === this._key) {\n",
       "            return;\n",
       "        } else {\n",
       "            this._key = event.which;\n",
       "        }\n",
       "    }\n",
       "    if (name === 'key_release') {\n",
       "        this._key = null;\n",
       "    }\n",
       "\n",
       "    var value = '';\n",
       "    if (event.ctrlKey && event.which !== 17) {\n",
       "        value += 'ctrl+';\n",
       "    }\n",
       "    if (event.altKey && event.which !== 18) {\n",
       "        value += 'alt+';\n",
       "    }\n",
       "    if (event.shiftKey && event.which !== 16) {\n",
       "        value += 'shift+';\n",
       "    }\n",
       "\n",
       "    value += 'k';\n",
       "    value += event.which.toString();\n",
       "\n",
       "    this._key_event_extra(event, name);\n",
       "\n",
       "    this.send_message(name, { key: value, guiEvent: simpleKeys(event) });\n",
       "    return false;\n",
       "};\n",
       "\n",
       "mpl.figure.prototype.toolbar_button_onclick = function (name) {\n",
       "    if (name === 'download') {\n",
       "        this.handle_save(this, null);\n",
       "    } else {\n",
       "        this.send_message('toolbar_button', { name: name });\n",
       "    }\n",
       "};\n",
       "\n",
       "mpl.figure.prototype.toolbar_button_onmouseover = function (tooltip) {\n",
       "    this.message.textContent = tooltip;\n",
       "};\n",
       "mpl.toolbar_items = [[\"Home\", \"Reset original view\", \"fa fa-home icon-home\", \"home\"], [\"Back\", \"Back to previous view\", \"fa fa-arrow-left icon-arrow-left\", \"back\"], [\"Forward\", \"Forward to next view\", \"fa fa-arrow-right icon-arrow-right\", \"forward\"], [\"\", \"\", \"\", \"\"], [\"Pan\", \"Left button pans, Right button zooms\\nx/y fixes axis, CTRL fixes aspect\", \"fa fa-arrows icon-move\", \"pan\"], [\"Zoom\", \"Zoom to rectangle\\nx/y fixes axis, CTRL fixes aspect\", \"fa fa-square-o icon-check-empty\", \"zoom\"], [\"\", \"\", \"\", \"\"], [\"Download\", \"Download plot\", \"fa fa-floppy-o icon-save\", \"download\"]];\n",
       "\n",
       "mpl.extensions = [\"eps\", \"jpeg\", \"pdf\", \"png\", \"ps\", \"raw\", \"svg\", \"tif\"];\n",
       "\n",
       "mpl.default_extension = \"png\";/* global mpl */\n",
       "\n",
       "var comm_websocket_adapter = function (comm) {\n",
       "    // Create a \"websocket\"-like object which calls the given IPython comm\n",
       "    // object with the appropriate methods. Currently this is a non binary\n",
       "    // socket, so there is still some room for performance tuning.\n",
       "    var ws = {};\n",
       "\n",
       "    ws.close = function () {\n",
       "        comm.close();\n",
       "    };\n",
       "    ws.send = function (m) {\n",
       "        //console.log('sending', m);\n",
       "        comm.send(m);\n",
       "    };\n",
       "    // Register the callback with on_msg.\n",
       "    comm.on_msg(function (msg) {\n",
       "        //console.log('receiving', msg['content']['data'], msg);\n",
       "        // Pass the mpl event to the overridden (by mpl) onmessage function.\n",
       "        ws.onmessage(msg['content']['data']);\n",
       "    });\n",
       "    return ws;\n",
       "};\n",
       "\n",
       "mpl.mpl_figure_comm = function (comm, msg) {\n",
       "    // This is the function which gets called when the mpl process\n",
       "    // starts-up an IPython Comm through the \"matplotlib\" channel.\n",
       "\n",
       "    var id = msg.content.data.id;\n",
       "    // Get hold of the div created by the display call when the Comm\n",
       "    // socket was opened in Python.\n",
       "    var element = document.getElementById(id);\n",
       "    var ws_proxy = comm_websocket_adapter(comm);\n",
       "\n",
       "    function ondownload(figure, _format) {\n",
       "        window.open(figure.canvas.toDataURL());\n",
       "    }\n",
       "\n",
       "    var fig = new mpl.figure(id, ws_proxy, ondownload, element);\n",
       "\n",
       "    // Call onopen now - mpl needs it, as it is assuming we've passed it a real\n",
       "    // web socket which is closed, not our websocket->open comm proxy.\n",
       "    ws_proxy.onopen();\n",
       "\n",
       "    fig.parent_element = element;\n",
       "    fig.cell_info = mpl.find_output_cell(\"<div id='\" + id + \"'></div>\");\n",
       "    if (!fig.cell_info) {\n",
       "        console.error('Failed to find cell for figure', id, fig);\n",
       "        return;\n",
       "    }\n",
       "    fig.cell_info[0].output_area.element.one(\n",
       "        'cleared',\n",
       "        { fig: fig },\n",
       "        fig._remove_fig_handler\n",
       "    );\n",
       "};\n",
       "\n",
       "mpl.figure.prototype.handle_close = function (fig, msg) {\n",
       "    var width = fig.canvas.width / fig.ratio;\n",
       "    fig.cell_info[0].output_area.element.off(\n",
       "        'cleared',\n",
       "        fig._remove_fig_handler\n",
       "    );\n",
       "\n",
       "    // Update the output cell to use the data from the current canvas.\n",
       "    fig.push_to_output();\n",
       "    var dataURL = fig.canvas.toDataURL();\n",
       "    // Re-enable the keyboard manager in IPython - without this line, in FF,\n",
       "    // the notebook keyboard shortcuts fail.\n",
       "    IPython.keyboard_manager.enable();\n",
       "    fig.parent_element.innerHTML =\n",
       "        '<img src=\"' + dataURL + '\" width=\"' + width + '\">';\n",
       "    fig.close_ws(fig, msg);\n",
       "};\n",
       "\n",
       "mpl.figure.prototype.close_ws = function (fig, msg) {\n",
       "    fig.send_message('closing', msg);\n",
       "    // fig.ws.close()\n",
       "};\n",
       "\n",
       "mpl.figure.prototype.push_to_output = function (_remove_interactive) {\n",
       "    // Turn the data on the canvas into data in the output cell.\n",
       "    var width = this.canvas.width / this.ratio;\n",
       "    var dataURL = this.canvas.toDataURL();\n",
       "    this.cell_info[1]['text/html'] =\n",
       "        '<img src=\"' + dataURL + '\" width=\"' + width + '\">';\n",
       "};\n",
       "\n",
       "mpl.figure.prototype.updated_canvas_event = function () {\n",
       "    // Tell IPython that the notebook contents must change.\n",
       "    IPython.notebook.set_dirty(true);\n",
       "    this.send_message('ack', {});\n",
       "    var fig = this;\n",
       "    // Wait a second, then push the new image to the DOM so\n",
       "    // that it is saved nicely (might be nice to debounce this).\n",
       "    setTimeout(function () {\n",
       "        fig.push_to_output();\n",
       "    }, 1000);\n",
       "};\n",
       "\n",
       "mpl.figure.prototype._init_toolbar = function () {\n",
       "    var fig = this;\n",
       "\n",
       "    var toolbar = document.createElement('div');\n",
       "    toolbar.classList = 'btn-toolbar';\n",
       "    this.root.appendChild(toolbar);\n",
       "\n",
       "    function on_click_closure(name) {\n",
       "        return function (_event) {\n",
       "            return fig.toolbar_button_onclick(name);\n",
       "        };\n",
       "    }\n",
       "\n",
       "    function on_mouseover_closure(tooltip) {\n",
       "        return function (event) {\n",
       "            if (!event.currentTarget.disabled) {\n",
       "                return fig.toolbar_button_onmouseover(tooltip);\n",
       "            }\n",
       "        };\n",
       "    }\n",
       "\n",
       "    fig.buttons = {};\n",
       "    var buttonGroup = document.createElement('div');\n",
       "    buttonGroup.classList = 'btn-group';\n",
       "    var button;\n",
       "    for (var toolbar_ind in mpl.toolbar_items) {\n",
       "        var name = mpl.toolbar_items[toolbar_ind][0];\n",
       "        var tooltip = mpl.toolbar_items[toolbar_ind][1];\n",
       "        var image = mpl.toolbar_items[toolbar_ind][2];\n",
       "        var method_name = mpl.toolbar_items[toolbar_ind][3];\n",
       "\n",
       "        if (!name) {\n",
       "            /* Instead of a spacer, we start a new button group. */\n",
       "            if (buttonGroup.hasChildNodes()) {\n",
       "                toolbar.appendChild(buttonGroup);\n",
       "            }\n",
       "            buttonGroup = document.createElement('div');\n",
       "            buttonGroup.classList = 'btn-group';\n",
       "            continue;\n",
       "        }\n",
       "\n",
       "        button = fig.buttons[name] = document.createElement('button');\n",
       "        button.classList = 'btn btn-default';\n",
       "        button.href = '#';\n",
       "        button.title = name;\n",
       "        button.innerHTML = '<i class=\"fa ' + image + ' fa-lg\"></i>';\n",
       "        button.addEventListener('click', on_click_closure(method_name));\n",
       "        button.addEventListener('mouseover', on_mouseover_closure(tooltip));\n",
       "        buttonGroup.appendChild(button);\n",
       "    }\n",
       "\n",
       "    if (buttonGroup.hasChildNodes()) {\n",
       "        toolbar.appendChild(buttonGroup);\n",
       "    }\n",
       "\n",
       "    // Add the status bar.\n",
       "    var status_bar = document.createElement('span');\n",
       "    status_bar.classList = 'mpl-message pull-right';\n",
       "    toolbar.appendChild(status_bar);\n",
       "    this.message = status_bar;\n",
       "\n",
       "    // Add the close button to the window.\n",
       "    var buttongrp = document.createElement('div');\n",
       "    buttongrp.classList = 'btn-group inline pull-right';\n",
       "    button = document.createElement('button');\n",
       "    button.classList = 'btn btn-mini btn-primary';\n",
       "    button.href = '#';\n",
       "    button.title = 'Stop Interaction';\n",
       "    button.innerHTML = '<i class=\"fa fa-power-off icon-remove icon-large\"></i>';\n",
       "    button.addEventListener('click', function (_evt) {\n",
       "        fig.handle_close(fig, {});\n",
       "    });\n",
       "    button.addEventListener(\n",
       "        'mouseover',\n",
       "        on_mouseover_closure('Stop Interaction')\n",
       "    );\n",
       "    buttongrp.appendChild(button);\n",
       "    var titlebar = this.root.querySelector('.ui-dialog-titlebar');\n",
       "    titlebar.insertBefore(buttongrp, titlebar.firstChild);\n",
       "};\n",
       "\n",
       "mpl.figure.prototype._remove_fig_handler = function (event) {\n",
       "    var fig = event.data.fig;\n",
       "    fig.close_ws(fig, {});\n",
       "};\n",
       "\n",
       "mpl.figure.prototype._root_extra_style = function (el) {\n",
       "    el.style.boxSizing = 'content-box'; // override notebook setting of border-box.\n",
       "};\n",
       "\n",
       "mpl.figure.prototype._canvas_extra_style = function (el) {\n",
       "    // this is important to make the div 'focusable\n",
       "    el.setAttribute('tabindex', 0);\n",
       "    // reach out to IPython and tell the keyboard manager to turn it's self\n",
       "    // off when our div gets focus\n",
       "\n",
       "    // location in version 3\n",
       "    if (IPython.notebook.keyboard_manager) {\n",
       "        IPython.notebook.keyboard_manager.register_events(el);\n",
       "    } else {\n",
       "        // location in version 2\n",
       "        IPython.keyboard_manager.register_events(el);\n",
       "    }\n",
       "};\n",
       "\n",
       "mpl.figure.prototype._key_event_extra = function (event, _name) {\n",
       "    var manager = IPython.notebook.keyboard_manager;\n",
       "    if (!manager) {\n",
       "        manager = IPython.keyboard_manager;\n",
       "    }\n",
       "\n",
       "    // Check for shift+enter\n",
       "    if (event.shiftKey && event.which === 13) {\n",
       "        this.canvas_div.blur();\n",
       "        // select the cell after this one\n",
       "        var index = IPython.notebook.find_cell_index(this.cell_info[0]);\n",
       "        IPython.notebook.select(index + 1);\n",
       "    }\n",
       "};\n",
       "\n",
       "mpl.figure.prototype.handle_save = function (fig, _msg) {\n",
       "    fig.ondownload(fig, null);\n",
       "};\n",
       "\n",
       "mpl.find_output_cell = function (html_output) {\n",
       "    // Return the cell and output element which can be found *uniquely* in the notebook.\n",
       "    // Note - this is a bit hacky, but it is done because the \"notebook_saving.Notebook\"\n",
       "    // IPython event is triggered only after the cells have been serialised, which for\n",
       "    // our purposes (turning an active figure into a static one), is too late.\n",
       "    var cells = IPython.notebook.get_cells();\n",
       "    var ncells = cells.length;\n",
       "    for (var i = 0; i < ncells; i++) {\n",
       "        var cell = cells[i];\n",
       "        if (cell.cell_type === 'code') {\n",
       "            for (var j = 0; j < cell.output_area.outputs.length; j++) {\n",
       "                var data = cell.output_area.outputs[j];\n",
       "                if (data.data) {\n",
       "                    // IPython >= 3 moved mimebundle to data attribute of output\n",
       "                    data = data.data;\n",
       "                }\n",
       "                if (data['text/html'] === html_output) {\n",
       "                    return [cell, data, j];\n",
       "                }\n",
       "            }\n",
       "        }\n",
       "    }\n",
       "};\n",
       "\n",
       "// Register the function which deals with the matplotlib target/channel.\n",
       "// The kernel may be null if the page has been refreshed.\n",
       "if (IPython.notebook.kernel !== null) {\n",
       "    IPython.notebook.kernel.comm_manager.register_target(\n",
       "        'matplotlib',\n",
       "        mpl.mpl_figure_comm\n",
       "    );\n",
       "}\n"
      ],
      "text/plain": [
       "<IPython.core.display.Javascript object>"
      ]
     },
     "metadata": {},
     "output_type": "display_data"
    },
    {
     "data": {
      "text/html": [
       "<img src=\"data:image/png;base64,iVBORw0KGgoAAAANSUhEUgAAASwAAACWCAYAAABkW7XSAAAEYklEQVR4Xu3UAQkAAAwCwdm/9HI83BLIOdw5AgQIRAQWySkmAQIEzmB5AgIEMgIGK1OVoAQIGCw/QIBARsBgZaoSlAABg+UHCBDICBisTFWCEiBgsPwAAQIZAYOVqUpQAgQMlh8gQCAjYLAyVQlKgIDB8gMECGQEDFamKkEJEDBYfoAAgYyAwcpUJSgBAgbLDxAgkBEwWJmqBCVAwGD5AQIEMgIGK1OVoAQIGCw/QIBARsBgZaoSlAABg+UHCBDICBisTFWCEiBgsPwAAQIZAYOVqUpQAgQMlh8gQCAjYLAyVQlKgIDB8gMECGQEDFamKkEJEDBYfoAAgYyAwcpUJSgBAgbLDxAgkBEwWJmqBCVAwGD5AQIEMgIGK1OVoAQIGCw/QIBARsBgZaoSlAABg+UHCBDICBisTFWCEiBgsPwAAQIZAYOVqUpQAgQMlh8gQCAjYLAyVQlKgIDB8gMECGQEDFamKkEJEDBYfoAAgYyAwcpUJSgBAgbLDxAgkBEwWJmqBCVAwGD5AQIEMgIGK1OVoAQIGCw/QIBARsBgZaoSlAABg+UHCBDICBisTFWCEiBgsPwAAQIZAYOVqUpQAgQMlh8gQCAjYLAyVQlKgIDB8gMECGQEDFamKkEJEDBYfoAAgYyAwcpUJSgBAgbLDxAgkBEwWJmqBCVAwGD5AQIEMgIGK1OVoAQIGCw/QIBARsBgZaoSlAABg+UHCBDICBisTFWCEiBgsPwAAQIZAYOVqUpQAgQMlh8gQCAjYLAyVQlKgIDB8gMECGQEDFamKkEJEDBYfoAAgYyAwcpUJSgBAgbLDxAgkBEwWJmqBCVAwGD5AQIEMgIGK1OVoAQIGCw/QIBARsBgZaoSlAABg+UHCBDICBisTFWCEiBgsPwAAQIZAYOVqUpQAgQMlh8gQCAjYLAyVQlKgIDB8gMECGQEDFamKkEJEDBYfoAAgYyAwcpUJSgBAgbLDxAgkBEwWJmqBCVAwGD5AQIEMgIGK1OVoAQIGCw/QIBARsBgZaoSlAABg+UHCBDICBisTFWCEiBgsPwAAQIZAYOVqUpQAgQMlh8gQCAjYLAyVQlKgIDB8gMECGQEDFamKkEJEDBYfoAAgYyAwcpUJSgBAgbLDxAgkBEwWJmqBCVAwGD5AQIEMgIGK1OVoAQIGCw/QIBARsBgZaoSlAABg+UHCBDICBisTFWCEiBgsPwAAQIZAYOVqUpQAgQMlh8gQCAjYLAyVQlKgIDB8gMECGQEDFamKkEJEDBYfoAAgYyAwcpUJSgBAgbLDxAgkBEwWJmqBCVAwGD5AQIEMgIGK1OVoAQIGCw/QIBARsBgZaoSlAABg+UHCBDICBisTFWCEiBgsPwAAQIZAYOVqUpQAgQMlh8gQCAjYLAyVQlKgIDB8gMECGQEDFamKkEJEDBYfoAAgYyAwcpUJSgBAgbLDxAgkBEwWJmqBCVAwGD5AQIEMgIGK1OVoAQIGCw/QIBARsBgZaoSlACBB1YxAJfjJb2jAAAAAElFTkSuQmCC\" width=\"300\">"
      ],
      "text/plain": [
       "<IPython.core.display.HTML object>"
      ]
     },
     "metadata": {},
     "output_type": "display_data"
    },
    {
     "name": "stdout",
     "output_type": "stream",
     "text": [
      "1.216227374970913\n"
     ]
    }
   ],
   "source": [
    "%matplotlib notebook\n",
    "plt.figure()\n",
    "plt.imshow(images_aug_noisy[8])\n",
    "print(np.sum(images_aug_noisy[8]))"
   ]
  },
  {
   "cell_type": "code",
   "execution_count": 51,
   "metadata": {
    "scrolled": false
   },
   "outputs": [
    {
     "data": {
      "text/plain": [
       "<matplotlib.image.AxesImage at 0x7fd1b837ed00>"
      ]
     },
     "execution_count": 51,
     "metadata": {},
     "output_type": "execute_result"
    },
    {
     "data": {
      "image/png": "[encoded data removed]",
      "text/plain": [
       "<Figure size 432x288 with 1 Axes>"
      ]
     },
     "metadata": {
      "needs_background": "light"
     },
     "output_type": "display_data"
    },
    {
     "data": {
      "image/png": "[encoded data removed]",
      "text/plain": [
       "<Figure size 432x288 with 1 Axes>"
      ]
     },
     "metadata": {
      "needs_background": "light"
     },
     "output_type": "display_data"
    },
    {
     "data": {
      "image/png": "[encoded data removed]",
      "text/plain": [
       "<Figure size 432x288 with 1 Axes>"
      ]
     },
     "metadata": {
      "needs_background": "light"
     },
     "output_type": "display_data"
    },
    {
     "data": {
      "image/png": "[encoded data removed]",
      "text/plain": [
       "<Figure size 432x288 with 1 Axes>"
      ]
     },
     "metadata": {
      "needs_background": "light"
     },
     "output_type": "display_data"
    },
    {
     "data": {
      "image/png": "[encoded data removed]",
      "text/plain": [
       "<Figure size 432x288 with 1 Axes>"
      ]
     },
     "metadata": {
      "needs_background": "light"
     },
     "output_type": "display_data"
    },
    {
     "data": {
      "image/png": "[encoded data removed]",
      "text/plain": [
       "<Figure size 432x288 with 1 Axes>"
      ]
     },
     "metadata": {
      "needs_background": "light"
     },
     "output_type": "display_data"
    },
    {
     "data": {
      "image/png": "[encoded data removed]",
      "text/plain": [
       "<Figure size 432x288 with 1 Axes>"
      ]
     },
     "metadata": {
      "needs_background": "light"
     },
     "output_type": "display_data"
    },
    {
     "data": {
      "image/png": "[encoded data removed]",
      "text/plain": [
       "<Figure size 432x288 with 1 Axes>"
      ]
     },
     "metadata": {
      "needs_background": "light"
     },
     "output_type": "display_data"
    },
    {
     "data": {
      "image/png": "[encoded data removed]",
      "text/plain": [
       "<Figure size 432x288 with 1 Axes>"
      ]
     },
     "metadata": {
      "needs_background": "light"
     },
     "output_type": "display_data"
    },
    {
     "data": {
      "image/png": "[encoded data removed]",
      "text/plain": [
       "<Figure size 432x288 with 1 Axes>"
      ]
     },
     "metadata": {
      "needs_background": "light"
     },
     "output_type": "display_data"
    },
    {
     "data": {
      "image/png": "[encoded data removed]",
      "text/plain": [
       "<Figure size 432x288 with 1 Axes>"
      ]
     },
     "metadata": {
      "needs_background": "light"
     },
     "output_type": "display_data"
    },
    {
     "data": {
      "image/png": "[encoded data removed]",
      "text/plain": [
       "<Figure size 432x288 with 1 Axes>"
      ]
     },
     "metadata": {
      "needs_background": "light"
     },
     "output_type": "display_data"
    },
    {
     "data": {
      "image/png": "[encoded data removed]",
      "text/plain": [
       "<Figure size 432x288 with 1 Axes>"
      ]
     },
     "metadata": {
      "needs_background": "light"
     },
     "output_type": "display_data"
    },
    {
     "data": {
      "image/png": "[encoded data removed]",
      "text/plain": [
       "<Figure size 432x288 with 1 Axes>"
      ]
     },
     "metadata": {
      "needs_background": "light"
     },
     "output_type": "display_data"
    }
   ],
   "source": [
    "%matplotlib inline\n",
    "plt.figure()\n",
    "plt.imshow(images_dup[1])\n",
    "plt.figure()\n",
    "plt.imshow(images_aug_noisy[1])\n",
    "plt.figure()\n",
    "plt.imshow(images_dup[5])\n",
    "plt.figure()\n",
    "plt.imshow(images_aug_noisy[5])\n",
    "plt.figure()\n",
    "plt.imshow(images_dup[6])\n",
    "plt.figure()\n",
    "plt.imshow(images_aug_noisy[6])\n",
    "plt.figure()\n",
    "plt.imshow(images_dup[7])\n",
    "plt.figure()\n",
    "plt.imshow(images_aug_noisy[7])\n",
    "plt.figure()\n",
    "plt.imshow(images_dup[8])\n",
    "plt.figure()\n",
    "plt.imshow(images_aug_noisy[8])\n",
    "plt.figure()\n",
    "plt.imshow(images_dup[9])\n",
    "plt.figure()\n",
    "plt.imshow(images_aug_noisy[9])\n",
    "plt.figure()\n",
    "plt.imshow(images_dup[10])\n",
    "plt.figure()\n",
    "plt.imshow(images_aug_noisy[10])"
   ]
  },
  {
   "cell_type": "code",
   "execution_count": 52,
   "metadata": {},
   "outputs": [
    {
     "name": "stdout",
     "output_type": "stream",
     "text": [
      "0.3054571542954863\n",
      "0.0\n",
      "5\n",
      "0\n",
      "(1548, 1, 36, 36)\n",
      "(1548,)\n"
     ]
    },
    {
     "data": {
      "image/png": "[encoded data removed]",
      "text/plain": [
       "<Figure size 432x288 with 1 Axes>"
      ]
     },
     "metadata": {
      "needs_background": "light"
     },
     "output_type": "display_data"
    }
   ],
   "source": [
    "images_toUse = copy.deepcopy(images_aug)\n",
    "\n",
    "# normalize\n",
    "for ii in range(images_toUse.shape[0]):\n",
    "    images_toUse[ii] = images_toUse[ii] / np.sum(images_toUse[ii]) \n",
    "\n",
    "# %matplotlib inline\n",
    "# data_y = copy.deepcopy(labels[:643])\n",
    "# data_y = np.int16(data_y - 1)\n",
    "\n",
    "# data_y = train_y\n",
    "# data_y = copy.deepcopy(labels_posthoc_filledIn)\n",
    "data_y = copy.deepcopy(labels_aug)\n",
    "# data_y = labels\n",
    "# data_y = copy.deepcopy(train_y)\n",
    "\n",
    "# data_x = images[:643,:,:]\n",
    "# data_x = images\n",
    "# data_x = train_x\n",
    "# data_x = images_aug\n",
    "# data_x = images_aug_noisy\n",
    "data_x = images_toUse\n",
    "# data_x = images_dup\n",
    "# data_x = data_x / np.max(np.max(data_x, axis=2) , axis=1)[:,None,None]\n",
    "\n",
    "\n",
    "# sample_submission = pd.read_csv('sample_submission_I5njJSF.csv')\n",
    "\n",
    "# train.head()\n",
    "\n",
    "print(np.max(data_x))\n",
    "print(np.min(data_x))\n",
    "print(np.max(data_y))\n",
    "print(np.min(data_y))\n",
    "# plt.figure()\n",
    "# plt.imshow(np.squeeze(data_y[3,:,:,:]))\n",
    "# data_y\n",
    "plt.figure()\n",
    "plt.hist(data_y,20);\n",
    "\n",
    "# converting training images into torch format\n",
    "data_x = data_x[:,None,:,:]\n",
    "# train_x  = torch.from_numpy(train_x)\n",
    "#data_x = torch.as_tensor(data_x)#.type('torch.cuda.FloatTensor')\n",
    "\n",
    "# converting the target into torch format\n",
    "data_y = data_y.astype(int);\n",
    "# train_y = torch.from_numpy(train_y)\n",
    "#data_y = torch.as_tensor(data_y)#.type('torch.cuda.LongTensor')\n",
    "\n",
    "# shape of training data\n",
    "print(data_x.shape)\n",
    "print(data_y.shape)"
   ]
  },
  {
   "cell_type": "code",
   "execution_count": 53,
   "metadata": {},
   "outputs": [
    {
     "data": {
      "text/plain": [
       "(1548, 1, 36, 36)"
      ]
     },
     "execution_count": 53,
     "metadata": {},
     "output_type": "execute_result"
    }
   ],
   "source": [
    "data_x.shape"
   ]
  },
  {
   "cell_type": "code",
   "execution_count": 54,
   "metadata": {},
   "outputs": [
    {
     "name": "stdout",
     "output_type": "stream",
     "text": [
      "(1458, 1, 36, 36)\n",
      "(1458,)\n"
     ]
    }
   ],
   "source": [
    "heldOut_x = val_x[: , None , : , :] #torch.as_tensor(val_x[: , None , : , :])#.type('torch.cuda.FloatTensor')\n",
    "heldOut_y = val_y.astype(int) #torch.as_tensor(val_y.astype(int))#.type('torch.cuda.LongTensor')\n",
    "\n",
    "hO_tea_x = tea_x[: , None , : , :]\n",
    "hO_tea_y = tea_y.astype(int)\n",
    "hO_teb_x = teb_x[: , None , : , :]\n",
    "hO_teb_y = teb_y.astype(int)\n",
    "print(heldOut_x.shape)\n",
    "print(heldOut_y.shape)"
   ]
  },
  {
   "cell_type": "code",
   "execution_count": null,
   "metadata": {},
   "outputs": [],
   "source": []
  },
  {
   "cell_type": "code",
   "execution_count": 55,
   "metadata": {},
   "outputs": [],
   "source": [
    "from sklearn.metrics import accuracy_score\n",
    "import tensorflow as tf\n",
    "keras = tf.keras\n",
    "layers = keras.layers\n",
    "regularizers = keras.regularizers\n",
    "\n",
    "# Reorganize \"x\" Data to Have Channels as Last Dimension\n",
    "reorg_x = lambda x: np.transpose(x,(0,2,3,1))"
   ]
  },
  {
   "cell_type": "code",
   "execution_count": 56,
   "metadata": {},
   "outputs": [],
   "source": [
    "# Define LeNet Architecture (with L1 / L2 regularization in place of DropOut)\n",
    "\n",
    "l1_reg = 1e-5\n",
    "l2_reg = 1e-4\n",
    "\n",
    "rich_model_l12 = keras.Sequential([\n",
    "    layers.Conv2D(16, 5, (1,1),\n",
    "                        kernel_regularizer=regularizers.l1_l2(l1=l1_reg, l2=l2_reg)\n",
    "                       ),\n",
    "    layers.Activation(keras.activations.relu),\n",
    "    layers.Conv2D(16, 5, (1,1),\n",
    "                        kernel_regularizer=regularizers.l1_l2(l1=l1_reg, l2=l2_reg)\n",
    "                       ),\n",
    "    layers.MaxPool2D((2,2), 2),\n",
    "    layers.Activation(keras.activations.relu),\n",
    "    layers.Conv2D(32, 5, (1,1), padding='same',\n",
    "                        kernel_regularizer=regularizers.l1_l2(l1=l1_reg, l2=l2_reg)\n",
    "                       ),\n",
    "    layers.MaxPool2D((2,2), 2),\n",
    "    layers.Activation(keras.activations.relu),\n",
    "    layers.Conv2D(64, 5, (1,1),\n",
    "                        kernel_regularizer=regularizers.l1_l2(l1=l1_reg, l2=l2_reg)\n",
    "                       ),\n",
    "    layers.MaxPool2D((2,2), 2),\n",
    "    layers.Activation(keras.activations.relu),\n",
    "    \n",
    "    layers.Flatten(),\n",
    "    \n",
    "    layers.Dense(256),\n",
    "    layers.Activation(keras.activations.relu),\n",
    "    layers.Dense(6)\n",
    "    \n",
    "])\n",
    "\n",
    "dropout_prob = 0.4\n",
    "\n",
    "rich_model = keras.Sequential([\n",
    "    layers.Conv2D(16, 5, (1,1)),\n",
    "    layers.Activation(keras.activations.relu),\n",
    "    layers.Conv2D(16, 5, (1,1)),\n",
    "    layers.MaxPool2D((2,2), 2),\n",
    "    layers.Activation(keras.activations.relu),\n",
    "    \n",
    "    layers.Dropout(dropout_prob*1),\n",
    "    \n",
    "    \n",
    "    \n",
    "    \n",
    "    \n",
    "    \n",
    "    layers.Conv2D(32, 5, (1,1), padding='same'),\n",
    "    layers.MaxPool2D((2,2), 2),\n",
    "    layers.Activation(keras.activations.relu),\n",
    "    \n",
    "    layers.Dropout(dropout_prob*1),\n",
    "    \n",
    "    \n",
    "    \n",
    "    \n",
    "    \n",
    "    \n",
    "    \n",
    "    layers.Conv2D(64, 5, (1,1)),\n",
    "    layers.MaxPool2D((2,2), 2),\n",
    "    layers.Activation(keras.activations.relu),\n",
    "    \n",
    "    layers.Dropout(dropout_prob*1),   \n",
    "    \n",
    "    \n",
    "    \n",
    "    \n",
    "    \n",
    "    \n",
    "    \n",
    "    layers.Flatten(),\n",
    "    \n",
    "    layers.Dense(256),\n",
    "    layers.Activation(keras.activations.relu),\n",
    "    \n",
    "    layers.Dropout(dropout_prob*1),\n",
    "    \n",
    "    layers.Dense(6)\n",
    "    \n",
    "])\n",
    "\n"
   ]
  },
  {
   "cell_type": "code",
   "execution_count": 57,
   "metadata": {},
   "outputs": [],
   "source": [
    "# Define an identity block for ResNet\n",
    "# Adapted From: https://github.com/keras-team/keras-applications/blob/master/keras_applications/resnet50.py\n",
    "def make_ResNet_conv_block(inp,\n",
    "                           kernel_size=5,\n",
    "                           filt=(16,32,64),\n",
    "                           strides=(2,2),\n",
    "                           l1_reg=1e-5,\n",
    "                           l2_reg=1e-4):\n",
    "    \n",
    "    filt1, filt2, filt3 = filt[0], filt[1], filt[2]\n",
    "\n",
    "    prv = layers.Conv2D(filt1, (1, 1), strides,\n",
    "                        kernel_initializer='he_normal',\n",
    "                        kernel_regularizer=regularizers.l1_l2(l1=l1_reg, l2=l2_reg)\n",
    "                       )(inp)\n",
    "    prv = layers.BatchNormalization(axis=3)(prv)\n",
    "    prv = layers.Activation('relu')(prv)\n",
    "\n",
    "    prv = layers.Conv2D(filt2, (kernel_size, kernel_size), (1,1),\n",
    "                        kernel_initializer='he_normal', padding='same',\n",
    "                        kernel_regularizer=regularizers.l1_l2(l1=l1_reg, l2=l2_reg)\n",
    "                       )(prv)\n",
    "    prv = layers.BatchNormalization(axis=3)(prv)\n",
    "    prv = layers.Activation('relu')(prv)\n",
    "\n",
    "    prv = layers.Conv2D(filt3, (1, 1), (1,1),\n",
    "                        kernel_initializer='he_normal',\n",
    "                        kernel_regularizer=regularizers.l1_l2(l1=l1_reg, l2=l2_reg)\n",
    "                       )(prv)\n",
    "    prv = layers.BatchNormalization(axis=3)(prv)\n",
    "\n",
    "    shrt = layers.Conv2D(filt3, (1,1), strides,\n",
    "                        kernel_initializer='he_normal',\n",
    "                        kernel_regularizer=regularizers.l1_l2(l1=l1_reg, l2=l2_reg)\n",
    "                       )(inp)\n",
    "    shrt = layers.BatchNormalization(axis=3)(shrt)\n",
    "\n",
    "    prv = layers.Lambda(lambda x: x[0] + x[1])([prv, shrt])\n",
    "\n",
    "    return prv\n",
    "    "
   ]
  },
  {
   "cell_type": "code",
   "execution_count": 58,
   "metadata": {},
   "outputs": [],
   "source": [
    "# Define an identity block for ResNet\n",
    "# Adapted From: https://github.com/keras-team/keras-applications/blob/master/keras_applications/resnet50.py\n",
    "def make_ResNet_id_block(inp,\n",
    "                           kernel_size=5,\n",
    "                           filt=(16,32,64),\n",
    "                           l1_reg=1e-5,\n",
    "                           l2_reg=1e-4):\n",
    "    \n",
    "    filt1, filt2, filt3 = filt[0], filt[1], filt[2]\n",
    "\n",
    "    prv = layers.Conv2D(filt1, (1, 1), (1,1),\n",
    "                        kernel_initializer='he_normal',\n",
    "                        kernel_regularizer=regularizers.l1_l2(l1=l1_reg, l2=l2_reg)\n",
    "                       )(inp)\n",
    "    prv = layers.BatchNormalization(axis=3)(prv)\n",
    "    prv = layers.Activation('relu')(prv)\n",
    "\n",
    "    prv = layers.Conv2D(filt2, (kernel_size, kernel_size), (1,1),\n",
    "                        kernel_initializer='he_normal', padding='same',\n",
    "                        kernel_regularizer=regularizers.l1_l2(l1=l1_reg, l2=l2_reg)\n",
    "                       )(prv)\n",
    "    prv = layers.BatchNormalization(axis=3)(prv)\n",
    "    prv = layers.Activation('relu')(prv)\n",
    "\n",
    "    prv = layers.Conv2D(filt3, (1, 1), (1,1),\n",
    "                        kernel_initializer='he_normal',\n",
    "                        kernel_regularizer=regularizers.l1_l2(l1=l1_reg, l2=l2_reg)\n",
    "                       )(prv)\n",
    "    prv = layers.BatchNormalization(axis=3)(prv)\n",
    "\n",
    "    prv = layers.Lambda(lambda x: x[0] + x[1])([prv, inp])\n",
    "\n",
    "    return prv\n",
    "    "
   ]
  },
  {
   "cell_type": "code",
   "execution_count": null,
   "metadata": {},
   "outputs": [],
   "source": []
  },
  {
   "cell_type": "code",
   "execution_count": 59,
   "metadata": {},
   "outputs": [],
   "source": [
    "tf.random.set_seed(seed)\n",
    "\n",
    "# Create ResNet Architecture\n",
    "\n",
    "inp = layers.Input(shape=reorg_x(data_x).shape[1:])\n",
    "\n",
    "prv = inp\n",
    "\n",
    "# prv = layers.ZeroPadding2D(padding=(3, 3))(prv)\n",
    "# prv = layers.Conv2D(64, (7, 7),\n",
    "#                   strides=(2, 2),\n",
    "#                   padding='valid',\n",
    "#                   kernel_initializer='he_normal')(prv)\n",
    "# prv = layers.BatchNormalization(axis=3)(prv)\n",
    "# prv = layers.Activation('relu')(prv)\n",
    "# prv = layers.ZeroPadding2D(padding=(1, 1))(prv)\n",
    "# prv = layers.MaxPooling2D((3, 3), strides=(2, 2))(prv)\n",
    "\n",
    "\n",
    "prv = make_ResNet_conv_block(prv, 5, [64, 64, 128], strides=(1,1))\n",
    "prv = make_ResNet_id_block(prv, 5, [64, 64, 128])\n",
    "prv = make_ResNet_id_block(prv, 5, [64, 64, 128])\n",
    "\n",
    "\n",
    "# prv = make_ResNet_conv_block(prv, 5, [16, 32, 64], strides=(1,1))\n",
    "# prv = make_ResNet_id_block(prv, 5, [16, 32, 64],\n",
    "#                            l1_reg=1e-8,\n",
    "#                            l2_reg=1e-7)\n",
    "# prv = make_ResNet_id_block(prv, 5, [16, 32, 64],\n",
    "#                            l1_reg=1e-8,\n",
    "#                            l2_reg=1e-7)\n",
    "\n",
    "# prv = make_ResNet_conv_block(prv, 3, [128, 128, 512])\n",
    "# prv = make_ResNet_id_block(prv, 3, [128, 128, 512])\n",
    "# prv = make_ResNet_id_block(prv, 3, [128, 128, 512])\n",
    "# prv = make_ResNet_id_block(prv, 3, [128, 128, 512])\n",
    "\n",
    "# prv = make_ResNet_conv_block(prv, 3, [256, 256, 1024])\n",
    "# prv = make_ResNet_id_block(prv, 3, [256, 256, 1024])\n",
    "# prv = make_ResNet_id_block(prv, 3, [256, 256, 1024])\n",
    "# prv = make_ResNet_id_block(prv, 3, [256, 256, 1024])\n",
    "# prv = make_ResNet_id_block(prv, 3, [256, 256, 1024])\n",
    "# prv = make_ResNet_id_block(prv, 3, [256, 256, 1024])\n",
    "\n",
    "# prv = make_ResNet_conv_block(prv, 3, [512, 512, 2048])\n",
    "# prv = make_ResNet_id_block(prv, 3, [512, 512, 2048])\n",
    "# prv = make_ResNet_id_block(prv, 3, [512, 512, 2048])\n",
    "\n",
    "prv = layers.Flatten()(prv)\n",
    "prv = layers.Dense(256)(prv)\n",
    "prv = layers.Activation(keras.activations.relu)(prv)\n",
    "\n",
    "# prv = layers.GlobalMaxPooling2D()(prv)\n",
    "\n",
    "# out = layers.Dense(6, activation='softmax')(prv)\n",
    "out = layers.Dense(6)(prv)\n",
    "\n",
    "# out = prv\n",
    "\n",
    "jz_model = keras.Model(inputs=[inp], outputs=[out])"
   ]
  },
  {
   "cell_type": "code",
   "execution_count": 60,
   "metadata": {},
   "outputs": [
    {
     "data": {
      "text/plain": [
       "TensorShape([None, 256])"
      ]
     },
     "execution_count": 60,
     "metadata": {},
     "output_type": "execute_result"
    }
   ],
   "source": [
    "prv.shape"
   ]
  },
  {
   "cell_type": "code",
   "execution_count": 61,
   "metadata": {},
   "outputs": [],
   "source": [
    "# Select Model Architecture to Train\n",
    "\n",
    "# model = rich_model\n",
    "model = jz_model"
   ]
  },
  {
   "cell_type": "code",
   "execution_count": 62,
   "metadata": {},
   "outputs": [],
   "source": [
    "# Data Augmentation Generator\n",
    "# Adapted from: https://machinelearningmastery.com/how-to-configure-image-data-augmentation-when-training-deep-learning-neural-networks/\n",
    "from keras.preprocessing.image import ImageDataGenerator\n",
    "datagen = ImageDataGenerator(\n",
    "    rotation_range=180,\n",
    "    horizontal_flip=True,\n",
    "    vertical_flip=True,\n",
    "    shear_range=30,\n",
    "    width_shift_range=(-0.05,0.05),\n",
    "    height_shift_range=(-0.05,0.05),\n",
    "#     brightness_range=(-0.1, 0.1),\n",
    "    zoom_range=(0.6, 1.7),\n",
    "#     preprocessing_function=lambda x: x / np.sum(x) \n",
    ")"
   ]
  },
  {
   "cell_type": "code",
   "execution_count": 63,
   "metadata": {
    "scrolled": false
   },
   "outputs": [
    {
     "name": "stdout",
     "output_type": "stream",
     "text": [
      "Epoch 1/200\n",
      "49/49 [==============================] - 37s 751ms/step - loss: 1.7535 - accuracy: 0.4289 - val_loss: 3.1511 - val_accuracy: 0.0617\n",
      "Epoch 2/200\n",
      "49/49 [==============================] - 37s 753ms/step - loss: 1.3561 - accuracy: 0.5252 - val_loss: 4.2151 - val_accuracy: 0.0617\n",
      "Epoch 3/200\n",
      "49/49 [==============================] - 37s 748ms/step - loss: 1.2840 - accuracy: 0.5362 - val_loss: 4.4010 - val_accuracy: 0.0617\n",
      "Epoch 4/200\n",
      "49/49 [==============================] - 37s 758ms/step - loss: 1.2695 - accuracy: 0.5581 - val_loss: 4.9339 - val_accuracy: 0.0617\n",
      "Epoch 5/200\n",
      "49/49 [==============================] - 37s 747ms/step - loss: 1.2627 - accuracy: 0.5665 - val_loss: 4.7374 - val_accuracy: 0.0617\n",
      "Epoch 6/200\n",
      "49/49 [==============================] - 36s 744ms/step - loss: 1.1757 - accuracy: 0.6130 - val_loss: 4.4942 - val_accuracy: 0.0617\n",
      "Epoch 7/200\n",
      "49/49 [==============================] - 37s 745ms/step - loss: 1.1628 - accuracy: 0.6150 - val_loss: 3.8149 - val_accuracy: 0.0617\n",
      "Epoch 8/200\n",
      "49/49 [==============================] - 37s 757ms/step - loss: 1.1428 - accuracy: 0.6260 - val_loss: 3.2487 - val_accuracy: 0.1015\n",
      "Epoch 9/200\n",
      "49/49 [==============================] - 37s 749ms/step - loss: 1.1846 - accuracy: 0.5950 - val_loss: 2.3623 - val_accuracy: 0.2881\n",
      "Epoch 10/200\n",
      "49/49 [==============================] - 36s 739ms/step - loss: 1.1455 - accuracy: 0.6169 - val_loss: 1.4224 - val_accuracy: 0.5981\n",
      "Epoch 11/200\n",
      "49/49 [==============================] - 37s 749ms/step - loss: 1.1276 - accuracy: 0.6298 - val_loss: 1.3375 - val_accuracy: 0.6283\n",
      "Epoch 12/200\n",
      "49/49 [==============================] - 37s 749ms/step - loss: 1.1317 - accuracy: 0.6350 - val_loss: 1.1978 - val_accuracy: 0.7202\n",
      "Epoch 13/200\n",
      "49/49 [==============================] - 37s 746ms/step - loss: 1.0977 - accuracy: 0.6434 - val_loss: 0.8728 - val_accuracy: 0.7956\n",
      "Epoch 14/200\n",
      "49/49 [==============================] - 37s 750ms/step - loss: 1.0815 - accuracy: 0.6557 - val_loss: 0.7031 - val_accuracy: 0.8368\n",
      "Epoch 15/200\n",
      "49/49 [==============================] - 37s 748ms/step - loss: 1.0628 - accuracy: 0.6738 - val_loss: 0.8474 - val_accuracy: 0.8107\n",
      "Epoch 16/200\n",
      "49/49 [==============================] - 37s 748ms/step - loss: 1.0860 - accuracy: 0.6395 - val_loss: 0.7524 - val_accuracy: 0.8546\n",
      "Epoch 17/200\n",
      "49/49 [==============================] - 37s 748ms/step - loss: 1.0674 - accuracy: 0.6699 - val_loss: 0.7498 - val_accuracy: 0.8546\n",
      "Epoch 18/200\n",
      "49/49 [==============================] - 37s 748ms/step - loss: 1.0489 - accuracy: 0.6712 - val_loss: 0.7850 - val_accuracy: 0.8484\n",
      "Epoch 19/200\n",
      "49/49 [==============================] - 36s 743ms/step - loss: 1.0665 - accuracy: 0.6557 - val_loss: 0.7210 - val_accuracy: 0.8532\n",
      "Epoch 20/200\n",
      "49/49 [==============================] - 38s 778ms/step - loss: 1.0345 - accuracy: 0.6770 - val_loss: 0.7248 - val_accuracy: 0.8539\n",
      "Epoch 21/200\n",
      "49/49 [==============================] - 37s 753ms/step - loss: 1.0418 - accuracy: 0.6738 - val_loss: 0.7116 - val_accuracy: 0.8601\n",
      "Epoch 22/200\n",
      "49/49 [==============================] - 37s 748ms/step - loss: 1.0346 - accuracy: 0.6738 - val_loss: 0.6915 - val_accuracy: 0.8759\n",
      "Epoch 23/200\n",
      "49/49 [==============================] - 37s 750ms/step - loss: 1.0145 - accuracy: 0.6886 - val_loss: 0.6812 - val_accuracy: 0.8855\n",
      "Epoch 24/200\n",
      "49/49 [==============================] - 36s 744ms/step - loss: 1.0119 - accuracy: 0.6860 - val_loss: 0.6872 - val_accuracy: 0.8793\n",
      "Epoch 25/200\n",
      "49/49 [==============================] - 37s 745ms/step - loss: 1.0443 - accuracy: 0.6744 - val_loss: 0.7174 - val_accuracy: 0.8717\n",
      "Epoch 26/200\n",
      "49/49 [==============================] - 37s 749ms/step - loss: 1.0011 - accuracy: 0.6944 - val_loss: 0.6609 - val_accuracy: 0.8834\n",
      "Epoch 27/200\n",
      "49/49 [==============================] - 37s 747ms/step - loss: 1.0046 - accuracy: 0.7009 - val_loss: 0.6692 - val_accuracy: 0.8759\n",
      "Epoch 28/200\n",
      "49/49 [==============================] - 37s 750ms/step - loss: 0.9918 - accuracy: 0.6983 - val_loss: 0.5623 - val_accuracy: 0.8999\n",
      "Epoch 29/200\n",
      "49/49 [==============================] - 37s 765ms/step - loss: 1.0077 - accuracy: 0.7009 - val_loss: 0.6998 - val_accuracy: 0.8642\n",
      "Epoch 30/200\n",
      "49/49 [==============================] - 38s 784ms/step - loss: 0.9965 - accuracy: 0.6977 - val_loss: 0.6449 - val_accuracy: 0.8786\n",
      "Epoch 31/200\n",
      "49/49 [==============================] - 38s 781ms/step - loss: 0.9889 - accuracy: 0.7061 - val_loss: 0.6137 - val_accuracy: 0.8855\n",
      "Epoch 32/200\n",
      "49/49 [==============================] - 38s 770ms/step - loss: 0.9951 - accuracy: 0.6983 - val_loss: 0.6326 - val_accuracy: 0.8807\n",
      "Epoch 33/200\n",
      "49/49 [==============================] - 37s 762ms/step - loss: 0.9716 - accuracy: 0.7003 - val_loss: 0.6786 - val_accuracy: 0.8738\n",
      "Epoch 34/200\n",
      "49/49 [==============================] - 37s 757ms/step - loss: 1.0019 - accuracy: 0.7003 - val_loss: 0.5990 - val_accuracy: 0.8882\n",
      "Epoch 35/200\n",
      "49/49 [==============================] - 37s 756ms/step - loss: 0.9663 - accuracy: 0.7145 - val_loss: 0.5945 - val_accuracy: 0.8916\n",
      "Epoch 36/200\n",
      "49/49 [==============================] - 39s 801ms/step - loss: 0.9935 - accuracy: 0.7035 - val_loss: 0.6143 - val_accuracy: 0.8882\n",
      "Epoch 37/200\n",
      "49/49 [==============================] - 38s 775ms/step - loss: 0.9677 - accuracy: 0.7087 - val_loss: 0.5897 - val_accuracy: 0.8896\n",
      "Epoch 38/200\n",
      "49/49 [==============================] - 38s 767ms/step - loss: 0.9543 - accuracy: 0.7093 - val_loss: 0.6046 - val_accuracy: 0.8889\n",
      "Epoch 39/200\n",
      "49/49 [==============================] - 37s 760ms/step - loss: 0.9401 - accuracy: 0.7319 - val_loss: 0.6749 - val_accuracy: 0.8765\n",
      "Epoch 40/200\n",
      "49/49 [==============================] - 38s 768ms/step - loss: 0.9737 - accuracy: 0.7132 - val_loss: 0.6191 - val_accuracy: 0.8813\n",
      "Epoch 41/200\n",
      "49/49 [==============================] - 37s 765ms/step - loss: 0.9560 - accuracy: 0.7177 - val_loss: 0.6065 - val_accuracy: 0.8978\n",
      "Epoch 42/200\n",
      "49/49 [==============================] - 37s 764ms/step - loss: 0.9517 - accuracy: 0.7267 - val_loss: 0.6086 - val_accuracy: 0.8944\n",
      "Epoch 43/200\n",
      "49/49 [==============================] - 37s 762ms/step - loss: 0.9578 - accuracy: 0.7183 - val_loss: 0.6805 - val_accuracy: 0.8759\n",
      "Epoch 44/200\n",
      "49/49 [==============================] - 37s 762ms/step - loss: 0.9398 - accuracy: 0.7287 - val_loss: 0.6165 - val_accuracy: 0.8834\n",
      "Epoch 45/200\n",
      "49/49 [==============================] - 37s 762ms/step - loss: 0.9456 - accuracy: 0.7177 - val_loss: 0.6584 - val_accuracy: 0.8841\n",
      "Epoch 46/200\n",
      "49/49 [==============================] - 38s 768ms/step - loss: 0.9548 - accuracy: 0.7132 - val_loss: 0.6218 - val_accuracy: 0.8909\n",
      "Epoch 47/200\n",
      "49/49 [==============================] - 37s 760ms/step - loss: 0.9538 - accuracy: 0.7267 - val_loss: 0.5866 - val_accuracy: 0.8971\n",
      "Epoch 48/200\n",
      "49/49 [==============================] - 39s 792ms/step - loss: 0.9245 - accuracy: 0.7274 - val_loss: 0.6332 - val_accuracy: 0.8882\n"
     ]
    },
    {
     "data": {
      "text/plain": [
       "'../../models/resnet_2g'"
      ]
     },
     "execution_count": 63,
     "metadata": {},
     "output_type": "execute_result"
    }
   ],
   "source": [
    "# Compile Model\n",
    "model.compile(optimizer=keras.optimizers.Adam(learning_rate=1e-5),\n",
    "              loss=keras.losses.SparseCategoricalCrossentropy(from_logits=True),\n",
    "              metrics=['accuracy']\n",
    "             )\n",
    "\n",
    "\n",
    "# Save Training Curve Data\n",
    "history = model.fit(datagen.flow(reorg_x(data_x), data_y, batch_size=32),\n",
    "                    validation_data=(reorg_x(heldOut_x), heldOut_y),\n",
    "                    callbacks=keras.callbacks.EarlyStopping(monitor=\"val_loss\",\n",
    "                                                            patience=20,\n",
    "                                                            restore_best_weights=True),\n",
    "\n",
    "                    epochs=200)\n",
    "\n",
    "res_name = 'resnet_2h'\n",
    "\n",
    "f'../../models/{res_name}'"
   ]
  },
  {
   "cell_type": "code",
   "execution_count": 64,
   "metadata": {},
   "outputs": [
    {
     "name": "stdout",
     "output_type": "stream",
     "text": [
      "INFO:tensorflow:Assets written to: ../../resnet_2g/assets\n"
     ]
    }
   ],
   "source": [
    "model.save(f'../../{res_name}')"
   ]
  },
  {
   "cell_type": "code",
   "execution_count": 65,
   "metadata": {},
   "outputs": [
    {
     "name": "stdout",
     "output_type": "stream",
     "text": [
      "Val Accuracy CV: 0.8998628\n",
      "Val Accuracy Test: 0.8706315\n",
      "Val Accuracy Test: 0.74213964\n"
     ]
    }
   ],
   "source": [
    "acc = keras.metrics.Accuracy()\n",
    "acc.update_state(np.argmax(model.predict(reorg_x(heldOut_x)),-1),heldOut_y)\n",
    "print('Val Accuracy CV:',acc.result().numpy())\n",
    "\n",
    "acc_tea = keras.metrics.Accuracy()\n",
    "acc_tea.update_state(np.argmax(model.predict(reorg_x(hO_tea_x)),-1),hO_tea_y)\n",
    "print('Val Accuracy Test:',acc_tea.result().numpy())\n",
    "\n",
    "acc_teb = keras.metrics.Accuracy()\n",
    "acc_teb.update_state(np.argmax(model.predict(reorg_x(hO_teb_x)),-1),hO_teb_y)\n",
    "print('Val Accuracy Test:',acc_teb.result().numpy())"
   ]
  },
  {
   "cell_type": "code",
   "execution_count": null,
   "metadata": {},
   "outputs": [],
   "source": []
  },
  {
   "cell_type": "code",
   "execution_count": 66,
   "metadata": {},
   "outputs": [
    {
     "name": "stdout",
     "output_type": "stream",
     "text": [
      "Val Loss CV: 0.23718002\n",
      "Val Loss Test: 0.27090794\n",
      "Val Loss Test: 0.59852964\n"
     ]
    }
   ],
   "source": [
    "from_logits = True\n",
    "\n",
    "scc = keras.losses.SparseCategoricalCrossentropy(from_logits=from_logits)\n",
    "sccpred = scc(heldOut_y, model.predict(reorg_x(heldOut_x))).numpy()\n",
    "# sccpred = scc(labels3.astype(int), model.predict(reorg_x(images3[: , None , : , :]))).numpy()\n",
    "print('Val Loss CV:',sccpred)\n",
    "\n",
    "scc_tea = keras.losses.SparseCategoricalCrossentropy(from_logits=from_logits)\n",
    "sccpred_tea = scc_tea(hO_tea_y, model.predict(reorg_x(hO_tea_x))).numpy()\n",
    "print('Val Loss Test:',sccpred_tea)\n",
    "\n",
    "scc_teb = keras.losses.SparseCategoricalCrossentropy(from_logits=from_logits)\n",
    "sccpred_teb = scc_teb(hO_teb_y, model.predict(reorg_x(hO_teb_x))).numpy()\n",
    "print('Val Loss Test:', sccpred_teb)"
   ]
  },
  {
   "cell_type": "code",
   "execution_count": null,
   "metadata": {},
   "outputs": [],
   "source": []
  },
  {
   "cell_type": "code",
   "execution_count": null,
   "metadata": {},
   "outputs": [],
   "source": []
  },
  {
   "cell_type": "code",
   "execution_count": null,
   "metadata": {},
   "outputs": [],
   "source": []
  },
  {
   "cell_type": "code",
   "execution_count": 67,
   "metadata": {},
   "outputs": [
    {
     "data": {
      "image/png": "[encoded data removed]",
      "text/plain": [
       "<Figure size 432x288 with 1 Axes>"
      ]
     },
     "metadata": {
      "needs_background": "light"
     },
     "output_type": "display_data"
    }
   ],
   "source": [
    "# Generate Training Curves\n",
    "\n",
    "train_losses = history.history['loss']\n",
    "val_losses = history.history['val_loss']\n",
    "accuracy_running = history.history['val_accuracy']\n",
    "\n",
    "%matplotlib inline\n",
    "# plotting the training and validation loss\n",
    "plt.plot(train_losses, label='Training loss')\n",
    "plt.plot(val_losses, label='Validation loss') \n",
    "plt.plot(accuracy_running, label='Accuracy')\n",
    "plt.legend()\n",
    "plt.show()\n"
   ]
  },
  {
   "cell_type": "code",
   "execution_count": null,
   "metadata": {},
   "outputs": [],
   "source": []
  },
  {
   "cell_type": "code",
   "execution_count": null,
   "metadata": {},
   "outputs": [],
   "source": []
  },
  {
   "cell_type": "code",
   "execution_count": 68,
   "metadata": {
    "scrolled": false
   },
   "outputs": [
    {
     "name": "stderr",
     "output_type": "stream",
     "text": [
      "<ipython-input-68-5e1769de38e0>:23: RuntimeWarning: invalid value encountered in true_divide\n",
      "  matrix_probability = (predictions_bool.T @ heldOut_y_bool) / matlib.repmat(np.sum(heldOut_y_bool,axis=0) , 6,1)\n"
     ]
    },
    {
     "data": {
      "image/png": "[encoded data removed]",
      "text/plain": [
       "<Figure size 432x288 with 1 Axes>"
      ]
     },
     "metadata": {
      "needs_background": "light"
     },
     "output_type": "display_data"
    },
    {
     "data": {
      "text/html": [
       "<div>\n",
       "<style scoped>\n",
       "    .dataframe tbody tr th:only-of-type {\n",
       "        vertical-align: middle;\n",
       "    }\n",
       "\n",
       "    .dataframe tbody tr th {\n",
       "        vertical-align: top;\n",
       "    }\n",
       "\n",
       "    .dataframe thead th {\n",
       "        text-align: right;\n",
       "    }\n",
       "</style>\n",
       "<table border=\"1\" class=\"dataframe\">\n",
       "  <thead>\n",
       "    <tr style=\"text-align: right;\">\n",
       "      <th></th>\n",
       "      <th>0</th>\n",
       "      <th>1</th>\n",
       "      <th>2</th>\n",
       "      <th>3</th>\n",
       "      <th>4</th>\n",
       "      <th>5</th>\n",
       "    </tr>\n",
       "  </thead>\n",
       "  <tbody>\n",
       "    <tr>\n",
       "      <th>0</th>\n",
       "      <td>0.888889</td>\n",
       "      <td>0.257426</td>\n",
       "      <td>NaN</td>\n",
       "      <td>NaN</td>\n",
       "      <td>0.008772</td>\n",
       "      <td>0.000000</td>\n",
       "    </tr>\n",
       "    <tr>\n",
       "      <th>1</th>\n",
       "      <td>0.111111</td>\n",
       "      <td>0.455446</td>\n",
       "      <td>NaN</td>\n",
       "      <td>NaN</td>\n",
       "      <td>0.192982</td>\n",
       "      <td>0.000867</td>\n",
       "    </tr>\n",
       "    <tr>\n",
       "      <th>2</th>\n",
       "      <td>0.000000</td>\n",
       "      <td>0.000000</td>\n",
       "      <td>NaN</td>\n",
       "      <td>NaN</td>\n",
       "      <td>0.000000</td>\n",
       "      <td>0.000000</td>\n",
       "    </tr>\n",
       "    <tr>\n",
       "      <th>3</th>\n",
       "      <td>0.000000</td>\n",
       "      <td>0.000000</td>\n",
       "      <td>NaN</td>\n",
       "      <td>NaN</td>\n",
       "      <td>0.000000</td>\n",
       "      <td>0.000000</td>\n",
       "    </tr>\n",
       "    <tr>\n",
       "      <th>4</th>\n",
       "      <td>0.000000</td>\n",
       "      <td>0.277228</td>\n",
       "      <td>NaN</td>\n",
       "      <td>NaN</td>\n",
       "      <td>0.763158</td>\n",
       "      <td>0.045967</td>\n",
       "    </tr>\n",
       "    <tr>\n",
       "      <th>5</th>\n",
       "      <td>0.000000</td>\n",
       "      <td>0.009901</td>\n",
       "      <td>NaN</td>\n",
       "      <td>NaN</td>\n",
       "      <td>0.035088</td>\n",
       "      <td>0.953166</td>\n",
       "    </tr>\n",
       "  </tbody>\n",
       "</table>\n",
       "</div>"
      ],
      "text/plain": [
       "          0         1   2   3         4         5\n",
       "0  0.888889  0.257426 NaN NaN  0.008772  0.000000\n",
       "1  0.111111  0.455446 NaN NaN  0.192982  0.000867\n",
       "2  0.000000  0.000000 NaN NaN  0.000000  0.000000\n",
       "3  0.000000  0.000000 NaN NaN  0.000000  0.000000\n",
       "4  0.000000  0.277228 NaN NaN  0.763158  0.045967\n",
       "5  0.000000  0.009901 NaN NaN  0.035088  0.953166"
      ]
     },
     "metadata": {},
     "output_type": "display_data"
    }
   ],
   "source": [
    "# Generate Confusion Matrix\n",
    "\n",
    "%matplotlib inline\n",
    "\n",
    "# chk_model = keras.models.load_model('resnet_1')\n",
    "chk_model = model\n",
    "\n",
    "output = chk_model.predict(reorg_x(heldOut_x))\n",
    "\n",
    "prob = output\n",
    "predictions = np.argmax(prob, axis=1)\n",
    "\n",
    "# val_y_bool = np.zeros((len(val_y) , np.max(val_y.numpy())-1))\n",
    "heldOut_y_bool = np.zeros((len(heldOut_y) , 6))\n",
    "predictions_bool = np.zeros((len(heldOut_y) , 6))\n",
    "for ii in range(6):\n",
    "    heldOut_y_bool[:,ii] = (heldOut_y == ii)\n",
    "    predictions_bool[:,ii] = (predictions==ii)\n",
    "# plt.figure()\n",
    "# plt.imshow(predictions_bool)\n",
    "\n",
    "from numpy import matlib\n",
    "matrix_probability = (predictions_bool.T @ heldOut_y_bool) / matlib.repmat(np.sum(heldOut_y_bool,axis=0) , 6,1)\n",
    "plt.ion()\n",
    "plt.figure()\n",
    "plt.imshow(matrix_probability);\n",
    "plt.show()\n",
    "\n",
    "# Print Numerical Confusion Matrix\n",
    "display(pd.DataFrame(matrix_probability))"
   ]
  },
  {
   "cell_type": "code",
   "execution_count": null,
   "metadata": {},
   "outputs": [],
   "source": []
  },
  {
   "cell_type": "code",
   "execution_count": null,
   "metadata": {},
   "outputs": [],
   "source": []
  },
  {
   "cell_type": "code",
   "execution_count": 69,
   "metadata": {},
   "outputs": [
    {
     "name": "stderr",
     "output_type": "stream",
     "text": [
      "<ipython-input-69-6be9bc5676e6>:25: RuntimeWarning: invalid value encountered in true_divide\n",
      "  matrix_probability = (predictions_bool.T @ heldOut_y_bool) / matlib.repmat(np.sum(heldOut_y_bool,axis=0) , 6,1)\n"
     ]
    },
    {
     "data": {
      "text/html": [
       "<div>\n",
       "<style scoped>\n",
       "    .dataframe tbody tr th:only-of-type {\n",
       "        vertical-align: middle;\n",
       "    }\n",
       "\n",
       "    .dataframe tbody tr th {\n",
       "        vertical-align: top;\n",
       "    }\n",
       "\n",
       "    .dataframe thead th {\n",
       "        text-align: right;\n",
       "    }\n",
       "</style>\n",
       "<table border=\"1\" class=\"dataframe\">\n",
       "  <thead>\n",
       "    <tr style=\"text-align: right;\">\n",
       "      <th></th>\n",
       "      <th>0</th>\n",
       "      <th>1</th>\n",
       "      <th>2</th>\n",
       "      <th>3</th>\n",
       "      <th>4</th>\n",
       "      <th>5</th>\n",
       "    </tr>\n",
       "  </thead>\n",
       "  <tbody>\n",
       "    <tr>\n",
       "      <th>0</th>\n",
       "      <td>0.797619</td>\n",
       "      <td>0.384929</td>\n",
       "      <td>NaN</td>\n",
       "      <td>NaN</td>\n",
       "      <td>0.013072</td>\n",
       "      <td>0.000000</td>\n",
       "    </tr>\n",
       "    <tr>\n",
       "      <th>1</th>\n",
       "      <td>0.196429</td>\n",
       "      <td>0.433809</td>\n",
       "      <td>NaN</td>\n",
       "      <td>NaN</td>\n",
       "      <td>0.148693</td>\n",
       "      <td>0.000552</td>\n",
       "    </tr>\n",
       "    <tr>\n",
       "      <th>2</th>\n",
       "      <td>0.000000</td>\n",
       "      <td>0.000000</td>\n",
       "      <td>NaN</td>\n",
       "      <td>NaN</td>\n",
       "      <td>0.000000</td>\n",
       "      <td>0.000000</td>\n",
       "    </tr>\n",
       "    <tr>\n",
       "      <th>3</th>\n",
       "      <td>0.000000</td>\n",
       "      <td>0.000000</td>\n",
       "      <td>NaN</td>\n",
       "      <td>NaN</td>\n",
       "      <td>0.000000</td>\n",
       "      <td>0.000000</td>\n",
       "    </tr>\n",
       "    <tr>\n",
       "      <th>4</th>\n",
       "      <td>0.005952</td>\n",
       "      <td>0.162933</td>\n",
       "      <td>NaN</td>\n",
       "      <td>NaN</td>\n",
       "      <td>0.745098</td>\n",
       "      <td>0.045003</td>\n",
       "    </tr>\n",
       "    <tr>\n",
       "      <th>5</th>\n",
       "      <td>0.000000</td>\n",
       "      <td>0.018330</td>\n",
       "      <td>NaN</td>\n",
       "      <td>NaN</td>\n",
       "      <td>0.093137</td>\n",
       "      <td>0.954445</td>\n",
       "    </tr>\n",
       "  </tbody>\n",
       "</table>\n",
       "</div>"
      ],
      "text/plain": [
       "          0         1   2   3         4         5\n",
       "0  0.797619  0.384929 NaN NaN  0.013072  0.000000\n",
       "1  0.196429  0.433809 NaN NaN  0.148693  0.000552\n",
       "2  0.000000  0.000000 NaN NaN  0.000000  0.000000\n",
       "3  0.000000  0.000000 NaN NaN  0.000000  0.000000\n",
       "4  0.005952  0.162933 NaN NaN  0.745098  0.045003\n",
       "5  0.000000  0.018330 NaN NaN  0.093137  0.954445"
      ]
     },
     "metadata": {},
     "output_type": "display_data"
    },
    {
     "data": {
      "image/png": "[encoded data removed]",
      "text/plain": [
       "<Figure size 432x288 with 1 Axes>"
      ]
     },
     "metadata": {
      "needs_background": "light"
     },
     "output_type": "display_data"
    }
   ],
   "source": [
    "# Generate Confusion Matrix\n",
    "\n",
    "%matplotlib inline\n",
    "\n",
    "# chk_model = keras.models.load_model('resnet_1')\n",
    "chk_model = model\n",
    "\n",
    "output = chk_model.predict(reorg_x(hO_tea_x))\n",
    "\n",
    "prob = output\n",
    "predictions = np.argmax(prob, axis=1)\n",
    "\n",
    "# val_y_bool = np.zeros((len(val_y) , np.max(val_y.numpy())-1))\n",
    "heldOut_y_bool = np.zeros((len(hO_tea_y) , 6))\n",
    "predictions_bool = np.zeros((len(hO_tea_y) , 6))\n",
    "for ii in range(6):\n",
    "    heldOut_y_bool[:,ii] = (hO_tea_y == ii)\n",
    "    predictions_bool[:,ii] = (predictions==ii)\n",
    "# plt.figure()\n",
    "# plt.imshow(predictions_bool)\n",
    "\n",
    "\n",
    "\n",
    "from numpy import matlib\n",
    "matrix_probability = (predictions_bool.T @ heldOut_y_bool) / matlib.repmat(np.sum(heldOut_y_bool,axis=0) , 6,1)\n",
    "\n",
    "# Print Numerical Confusion Matrix\n",
    "display(pd.DataFrame(matrix_probability))\n",
    "\n",
    "plt.ion()\n",
    "plt.figure()\n",
    "plt.imshow(matrix_probability);\n",
    "plt.show()\n"
   ]
  },
  {
   "cell_type": "code",
   "execution_count": null,
   "metadata": {},
   "outputs": [],
   "source": []
  },
  {
   "cell_type": "code",
   "execution_count": 70,
   "metadata": {},
   "outputs": [
    {
     "name": "stderr",
     "output_type": "stream",
     "text": [
      "<ipython-input-70-da6c0b8958e2>:23: RuntimeWarning: invalid value encountered in true_divide\n",
      "  matrix_probability = (predictions_bool.T @ heldOut_y_bool) / matlib.repmat(np.sum(heldOut_y_bool,axis=0) , 6,1)\n"
     ]
    },
    {
     "data": {
      "text/html": [
       "<div>\n",
       "<style scoped>\n",
       "    .dataframe tbody tr th:only-of-type {\n",
       "        vertical-align: middle;\n",
       "    }\n",
       "\n",
       "    .dataframe tbody tr th {\n",
       "        vertical-align: top;\n",
       "    }\n",
       "\n",
       "    .dataframe thead th {\n",
       "        text-align: right;\n",
       "    }\n",
       "</style>\n",
       "<table border=\"1\" class=\"dataframe\">\n",
       "  <thead>\n",
       "    <tr style=\"text-align: right;\">\n",
       "      <th></th>\n",
       "      <th>0</th>\n",
       "      <th>1</th>\n",
       "      <th>2</th>\n",
       "      <th>3</th>\n",
       "      <th>4</th>\n",
       "      <th>5</th>\n",
       "    </tr>\n",
       "  </thead>\n",
       "  <tbody>\n",
       "    <tr>\n",
       "      <th>0</th>\n",
       "      <td>0.399471</td>\n",
       "      <td>0.026374</td>\n",
       "      <td>NaN</td>\n",
       "      <td>NaN</td>\n",
       "      <td>0.013621</td>\n",
       "      <td>0.000314</td>\n",
       "    </tr>\n",
       "    <tr>\n",
       "      <th>1</th>\n",
       "      <td>0.552910</td>\n",
       "      <td>0.496703</td>\n",
       "      <td>NaN</td>\n",
       "      <td>NaN</td>\n",
       "      <td>0.118048</td>\n",
       "      <td>0.001884</td>\n",
       "    </tr>\n",
       "    <tr>\n",
       "      <th>2</th>\n",
       "      <td>0.000000</td>\n",
       "      <td>0.000000</td>\n",
       "      <td>NaN</td>\n",
       "      <td>NaN</td>\n",
       "      <td>0.000000</td>\n",
       "      <td>0.000000</td>\n",
       "    </tr>\n",
       "    <tr>\n",
       "      <th>3</th>\n",
       "      <td>0.000000</td>\n",
       "      <td>0.000000</td>\n",
       "      <td>NaN</td>\n",
       "      <td>NaN</td>\n",
       "      <td>0.000000</td>\n",
       "      <td>0.000000</td>\n",
       "    </tr>\n",
       "    <tr>\n",
       "      <th>4</th>\n",
       "      <td>0.047619</td>\n",
       "      <td>0.448352</td>\n",
       "      <td>NaN</td>\n",
       "      <td>NaN</td>\n",
       "      <td>0.802497</td>\n",
       "      <td>0.196608</td>\n",
       "    </tr>\n",
       "    <tr>\n",
       "      <th>5</th>\n",
       "      <td>0.000000</td>\n",
       "      <td>0.028571</td>\n",
       "      <td>NaN</td>\n",
       "      <td>NaN</td>\n",
       "      <td>0.065834</td>\n",
       "      <td>0.801193</td>\n",
       "    </tr>\n",
       "  </tbody>\n",
       "</table>\n",
       "</div>"
      ],
      "text/plain": [
       "          0         1   2   3         4         5\n",
       "0  0.399471  0.026374 NaN NaN  0.013621  0.000314\n",
       "1  0.552910  0.496703 NaN NaN  0.118048  0.001884\n",
       "2  0.000000  0.000000 NaN NaN  0.000000  0.000000\n",
       "3  0.000000  0.000000 NaN NaN  0.000000  0.000000\n",
       "4  0.047619  0.448352 NaN NaN  0.802497  0.196608\n",
       "5  0.000000  0.028571 NaN NaN  0.065834  0.801193"
      ]
     },
     "metadata": {},
     "output_type": "display_data"
    },
    {
     "data": {
      "image/png": "[encoded data removed]",
      "text/plain": [
       "<Figure size 432x288 with 1 Axes>"
      ]
     },
     "metadata": {
      "needs_background": "light"
     },
     "output_type": "display_data"
    }
   ],
   "source": [
    "# Generate Confusion Matrix\n",
    "\n",
    "%matplotlib inline\n",
    "\n",
    "# chk_model = keras.models.load_model('resnet_1')\n",
    "chk_model = model\n",
    "\n",
    "output = chk_model.predict(reorg_x(hO_teb_x))\n",
    "\n",
    "prob = output\n",
    "predictions = np.argmax(prob, axis=1)\n",
    "\n",
    "# val_y_bool = np.zeros((len(val_y) , np.max(val_y.numpy())-1))\n",
    "heldOut_y_bool = np.zeros((len(hO_teb_y) , 6))\n",
    "predictions_bool = np.zeros((len(hO_teb_y) , 6))\n",
    "for ii in range(6):\n",
    "    heldOut_y_bool[:,ii] = (hO_teb_y == ii)\n",
    "    predictions_bool[:,ii] = (predictions==ii)\n",
    "# plt.figure()\n",
    "# plt.imshow(predictions_bool)\n",
    "\n",
    "from numpy import matlib\n",
    "matrix_probability = (predictions_bool.T @ heldOut_y_bool) / matlib.repmat(np.sum(heldOut_y_bool,axis=0) , 6,1)\n",
    "\n",
    "\n",
    "# Print Numerical Confusion Matrix\n",
    "display(pd.DataFrame(matrix_probability))\n",
    "\n",
    "plt.ion()\n",
    "plt.figure()\n",
    "plt.imshow(matrix_probability);\n",
    "plt.show()\n"
   ]
  },
  {
   "cell_type": "code",
   "execution_count": null,
   "metadata": {},
   "outputs": [],
   "source": []
  }
 ],
 "metadata": {
  "kernelspec": {
   "display_name": "Python 3",
   "language": "python",
   "name": "python3"
  },
  "language_info": {
   "codemirror_mode": {
    "name": "ipython",
    "version": 3
   },
   "file_extension": ".py",
   "mimetype": "text/x-python",
   "name": "python",
   "nbconvert_exporter": "python",
   "pygments_lexer": "ipython3",
   "version": "3.8.5"
  },
  "varInspector": {
   "cols": {
    "lenName": 16,
    "lenType": 16,
    "lenVar": 40
   },
   "kernels_config": {
    "python": {
     "delete_cmd_postfix": "",
     "delete_cmd_prefix": "del ",
     "library": "var_list.py",
     "varRefreshCmd": "print(var_dic_list())"
    },
    "r": {
     "delete_cmd_postfix": ") ",
     "delete_cmd_prefix": "rm(",
     "library": "var_list.r",
     "varRefreshCmd": "cat(var_dic_list()) "
    }
   },
   "position": {
    "height": "943px",
    "left": "1381px",
    "right": "20px",
    "top": "106px",
    "width": "501px"
   },
   "types_to_exclude": [
    "module",
    "function",
    "builtin_function_or_method",
    "instance",
    "_Feature"
   ],
   "window_display": true
  }
 },
 "nbformat": 4,
 "nbformat_minor": 4
}
