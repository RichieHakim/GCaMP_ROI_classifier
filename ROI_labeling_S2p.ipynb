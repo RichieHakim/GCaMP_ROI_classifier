{
 "cells": [
  {
   "cell_type": "markdown",
   "metadata": {},
   "source": [
    "ROI Classification\n",
    "--\n",
    "Info about classes:  \n",
    "This scripts includes a pretrained model to classify ROIs as one of the following categories:\n",
    "- **Label 0:** Neuron + In-plane (\"Great\")\n",
    "- **Label 1:** Neuron + Semi-in-plane (\"Okay\")\n",
    "- **Label 4:** Neuron + Out of plane (\"Poor\")\n",
    "- **Label 5:** Dendrite\n",
    "\n",
    "(*note that during the manual labeling, 0-5 is actually 1-6*)  <br>\n",
    "(*label 2 is for weird blobs and shadows of neurons*)  <br>\n",
    "(*label 3 is empty on purpose*)  <br>\n",
    "___\n",
    "\n",
    "Info about neural network:  \n",
    "The network is trained on ~4700 ROIs from one FOV  \n",
    "(mouse 6.28 , recorded on 20200903)  \n",
    "- **Net_ROIClassifier_20200917.pth** state_dict file must be in path\n",
    "- This script is specifically for the above .pth parameters file. Changes to the architecture cannot be made here.\n",
    "___\n",
    "\n",
    "Input data requirements:\n",
    "---\n",
    "- 36x36 images\n",
    "- dim1: image number\n",
    "- dim 2,3: y,x\n",
    "- should be normalized between 0-1  \n",
    "\n",
    "\n",
    "- **There are cell blocks to use the 'stat.npy' output from Suite2p and convert to the required format**\n",
    "\n",
    "\n",
    "- Full FOV size (in pixels) should be known. Default=512x1024\n",
    "___\n",
    "\n"
   ]
  },
  {
   "cell_type": "code",
   "execution_count": 2,
   "metadata": {},
   "outputs": [
    {
     "data": {
      "text/html": [
       "<style>.container { width:95% !important; }</style>"
      ],
      "text/plain": [
       "<IPython.core.display.HTML object>"
      ]
     },
     "metadata": {},
     "output_type": "display_data"
    }
   ],
   "source": [
    "from IPython.core.display import display, HTML\n",
    "display(HTML(\"<style>.container { width:95% !important; }</style>\"))"
   ]
  },
  {
   "cell_type": "code",
   "execution_count": 3,
   "metadata": {},
   "outputs": [],
   "source": [
    "# import sys\n",
    "# import copy\n",
    "\n",
    "import numpy as np\n",
    "\n",
    "import scipy\n",
    "import scipy.signal\n",
    "from scipy.io import savemat\n",
    "\n",
    "import matplotlib.pyplot as plt\n",
    "\n",
    "import sys\n",
    "\n",
    "from pathlib import Path"
   ]
  },
  {
   "cell_type": "code",
   "execution_count": 4,
   "metadata": {},
   "outputs": [],
   "source": [
    "import sys\n",
    "# sys.path.append(\"/n/data1/hms/neurobio/sabatini/rich/github_repos/\")\n",
    "sys.path.append(\"/media/rich/Home_Linux_partition/github_repos/\")\n",
    "\n",
    "%load_ext autoreload\n",
    "%autoreload 2\n",
    "from basic_neural_processing_modules import *\n",
    "from GCaMP_ROI_classifier.new_stuff import util"
   ]
  },
  {
   "cell_type": "raw",
   "metadata": {},
   "source": [
    "## find slash type of operating system\n",
    "\n",
    "if sys.platform == 'linux':\n",
    "    slash_type = '/'\n",
    "    print('Autodetected operating system: Linux. Using \"/\" for directory slashes')\n",
    "elif sys.platform == 'win32':\n",
    "    slash_type = '\\\\'\n",
    "    print(f'Autodetected operating system: Windows. Using \"{slash_type}{slash_type}\" for directory slashes')\n",
    "elif sys.platform == 'darwin':\n",
    "    slash_type = '/'\n",
    "    print(\"What computer are you running this on? I haven't tested it on OSX or anything except windows and ubuntu.\")\n",
    "    print('Autodetected operating system: OSX. Using \"/\" for directory slashes')\n",
    "    "
   ]
  },
  {
   "cell_type": "code",
   "execution_count": 5,
   "metadata": {},
   "outputs": [
    {
     "name": "stdout",
     "output_type": "stream",
     "text": [
      "/media/rich/bigSSD/res2p/scanimage data/round 5 experiments/20210325/suite2p/plane0/stat.npy\n"
     ]
    }
   ],
   "source": [
    "## lOAD stat.npy file\n",
    "\n",
    "dir_load = r'/media/rich/bigSSD/res2p/scanimage data/round 5 experiments/20210325/suite2p/plane0'\n",
    "fileName_load = 'stat.npy'\n",
    "\n",
    "path_stat = Path(dir_load) / fileName_load\n",
    "print(path_stat)"
   ]
  },
  {
   "cell_type": "code",
   "execution_count": 6,
   "metadata": {},
   "outputs": [],
   "source": [
    "%matplotlib inline\n",
    "sf_all_list = util.import_multiple_stat_files(\n",
    "    paths_statFiles=path_stat, \n",
    "    out_height_width=[36,36], \n",
    "    max_footprint_width=241, \n",
    "    plot_pref=False\n",
    ")"
   ]
  },
  {
   "cell_type": "code",
   "execution_count": 7,
   "metadata": {},
   "outputs": [],
   "source": [
    "images = sf_all_list[0]"
   ]
  },
  {
   "cell_type": "code",
   "execution_count": 99,
   "metadata": {
    "scrolled": true
   },
   "outputs": [
    {
     "name": "stdout",
     "output_type": "stream",
     "text": [
      "number of ROIs: 4893\n"
     ]
    }
   ],
   "source": [
    "# Label: **1=Neuron-InPlane-GOOD , 2=Neuron-OutOfPlane-GOOD , 3=NonNeuron-GOOD , 4=Neuron-InPlane-BAD , 5=Neuron-OutOfPlane-BAD , **6=NonNeuron-BAD\n",
    "\n",
    "# To stop labeling enter a value of 8-9\n",
    "num_ROI = images.shape[0]\n",
    "\n",
    "labels = np.empty(num_ROI)\n",
    "labels[:] = np.nan\n",
    "print(f'number of ROIs: {num_ROI}')"
   ]
  },
  {
   "cell_type": "code",
   "execution_count": 100,
   "metadata": {},
   "outputs": [],
   "source": [
    "%matplotlib qt"
   ]
  },
  {
   "cell_type": "code",
   "execution_count": 101,
   "metadata": {},
   "outputs": [
    {
     "name": "stdout",
     "output_type": "stream",
     "text": [
      "0\n",
      "Num labeled: 0\n",
      "1\n",
      "2\n",
      "3\n",
      "4\n",
      "5\n",
      "9\n"
     ]
    },
    {
     "ename": "ValueError",
     "evalue": "cannot convert float NaN to integer",
     "output_type": "error",
     "traceback": [
      "\u001b[0;31m---------------------------------------------------------------------------\u001b[0m",
      "\u001b[0;31mValueError\u001b[0m                                Traceback (most recent call last)",
      "\u001b[0;32m/tmp/ipykernel_9141/4177156606.py\u001b[0m in \u001b[0;36m<module>\u001b[0;34m\u001b[0m\n\u001b[1;32m     19\u001b[0m     \u001b[0;32mif\u001b[0m \u001b[0mnp\u001b[0m\u001b[0;34m.\u001b[0m\u001b[0mint8\u001b[0m\u001b[0;34m(\u001b[0m\u001b[0minput_val\u001b[0m\u001b[0;34m)\u001b[0m \u001b[0;34m>=\u001b[0m\u001b[0;36m7\u001b[0m\u001b[0;34m:\u001b[0m\u001b[0;34m\u001b[0m\u001b[0;34m\u001b[0m\u001b[0m\n\u001b[1;32m     20\u001b[0m         \u001b[0minput_val\u001b[0m \u001b[0;34m=\u001b[0m \u001b[0mnp\u001b[0m\u001b[0;34m.\u001b[0m\u001b[0mnan\u001b[0m\u001b[0;34m\u001b[0m\u001b[0;34m\u001b[0m\u001b[0m\n\u001b[0;32m---> 21\u001b[0;31m     \u001b[0mlabels\u001b[0m\u001b[0;34m[\u001b[0m\u001b[0miter_ROI\u001b[0m\u001b[0;34m]\u001b[0m \u001b[0;34m=\u001b[0m \u001b[0mnp\u001b[0m\u001b[0;34m.\u001b[0m\u001b[0mint8\u001b[0m\u001b[0;34m(\u001b[0m\u001b[0minput_val\u001b[0m\u001b[0;34m)\u001b[0m\u001b[0;34m\u001b[0m\u001b[0;34m\u001b[0m\u001b[0m\n\u001b[0m\u001b[1;32m     22\u001b[0m     \u001b[0mplt\u001b[0m\u001b[0;34m.\u001b[0m\u001b[0mpause\u001b[0m\u001b[0;34m(\u001b[0m\u001b[0;36m0.05\u001b[0m\u001b[0;34m)\u001b[0m\u001b[0;34m\u001b[0m\u001b[0;34m\u001b[0m\u001b[0m\n\u001b[1;32m     23\u001b[0m     \u001b[0;32mif\u001b[0m \u001b[0miter_ROI\u001b[0m\u001b[0;34m%\u001b[0m\u001b[0;36m10\u001b[0m\u001b[0;34m==\u001b[0m\u001b[0;36m0\u001b[0m\u001b[0;34m:\u001b[0m\u001b[0;34m\u001b[0m\u001b[0;34m\u001b[0m\u001b[0m\n",
      "\u001b[0;31mValueError\u001b[0m: cannot convert float NaN to integer"
     ]
    }
   ],
   "source": [
    "num_ROI = images.shape[0]\n",
    "\n",
    "input_val = 0\n",
    "iter_ROI = 0\n",
    "\n",
    "fig, ax = plt.subplots(1,1)\n",
    "imshow_FOV = ax.imshow(np.zeros_like(images[0]))\n",
    "plt.pause(0.35) \n",
    "\n",
    "\n",
    "while np.int8(input_val) < 7 and iter_ROI <= num_ROI:\n",
    "    plt.imshow(images[iter_ROI, : , :])\n",
    "\n",
    "    plt.pause(0.05)\n",
    "    plt.show(block=False)\n",
    "    fig.canvas.draw()\n",
    "    \n",
    "    input_val = input()\n",
    "    if np.int8(input_val) >=7:\n",
    "        input_val = np.nan\n",
    "    labels[iter_ROI] = np.int8(input_val)\n",
    "    plt.pause(0.05) \n",
    "    if iter_ROI%10==0:\n",
    "        print(f'Num labeled: {iter_ROI}')\n",
    "    \n",
    "    iter_ROI +=1\n",
    "#     clear_output(wait=True)\n",
    "    "
   ]
  },
  {
   "cell_type": "code",
   "execution_count": 33,
   "metadata": {},
   "outputs": [],
   "source": [
    "# np.save('labels_posthoc_filledIn.npy',labels_posthoc_filledIn)\n",
    "np.save('labels_posthoc_mouseUnknownAi148__20210325.npy', labels)"
   ]
  },
  {
   "cell_type": "code",
   "execution_count": 104,
   "metadata": {},
   "outputs": [
    {
     "data": {
      "image/png": "[encoded data removed]",
      "text/plain": [
       "<Figure size 432x288 with 1 Axes>"
      ]
     },
     "metadata": {
      "needs_background": "light"
     },
     "output_type": "display_data"
    }
   ],
   "source": [
    "%matplotlib inline\n",
    "plt.figure()\n",
    "plt.hist(labels);"
   ]
  },
  {
   "cell_type": "code",
   "execution_count": null,
   "metadata": {},
   "outputs": [],
   "source": []
  },
  {
   "cell_type": "code",
   "execution_count": null,
   "metadata": {},
   "outputs": [],
   "source": []
  },
  {
   "cell_type": "code",
   "execution_count": null,
   "metadata": {},
   "outputs": [],
   "source": []
  }
 ],
 "metadata": {
  "kernelspec": {
   "display_name": "Python 3 (ipykernel)",
   "language": "python",
   "name": "python3"
  },
  "language_info": {
   "codemirror_mode": {
    "name": "ipython",
    "version": 3
   },
   "file_extension": ".py",
   "mimetype": "text/x-python",
   "name": "python",
   "nbconvert_exporter": "python",
   "pygments_lexer": "ipython3",
   "version": "3.8.12"
  }
 },
 "nbformat": 4,
 "nbformat_minor": 4
}
