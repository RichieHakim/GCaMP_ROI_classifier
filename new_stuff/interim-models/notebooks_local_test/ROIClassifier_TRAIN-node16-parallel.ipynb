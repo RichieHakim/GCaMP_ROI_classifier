{
 "cells": [
  {
   "cell_type": "code",
   "execution_count": 1,
   "metadata": {
    "colab": {
     "base_uri": "https://localhost:8080/",
     "height": 17
    },
    "id": "S3q3I42jDB0f",
    "outputId": "3ad88a07-0e8b-474f-b0d8-9fb6c2a99f0c"
   },
   "outputs": [
    {
     "data": {
      "text/html": [
       "<style>.container { width:95% !important; }</style>"
      ],
      "text/plain": [
       "<IPython.core.display.HTML object>"
      ]
     },
     "metadata": {},
     "output_type": "display_data"
    }
   ],
   "source": [
    "# Source: node04\n",
    "from IPython.core.display import display, HTML\n",
    "display(HTML(\"<style>.container { width:95% !important; }</style>\"))"
   ]
  },
  {
   "cell_type": "raw",
   "metadata": {
    "id": "PUUWS0VmwD7-"
   },
   "source": [
    "# !source activate jupyter_launcher\n",
    "!pip3 install numba\n",
    "!pip3 install matplotlib\n",
    "!pip3 install scipy\n",
    "!pip3 install torch\n",
    "!pip3 install torchvision\n",
    "!pip3 install sklearn\n",
    "!pip3 install pycuda\n",
    "!pip3 install tqdm\n",
    "!pip3 install seaborn\n",
    "!pip3 install h5py\n",
    "!pip3 install hdfdict\n",
    "!pip3 install ipywidgets\n",
    "!pip3 install numpy==1.20"
   ]
  },
  {
   "cell_type": "code",
   "execution_count": 2,
   "metadata": {},
   "outputs": [],
   "source": [
    "import sys\n",
    "sys.executable"
   ]
  },
  {
   "cell_type": "code",
   "execution_count": null,
   "metadata": {},
   "outputs": [],
   "source": []
  },
  {
   "cell_type": "code",
   "execution_count": null,
   "metadata": {},
   "outputs": [],
   "source": []
  },
  {
   "cell_type": "code",
   "execution_count": 3,
   "metadata": {
    "id": "eTIgCGQsDB0i"
   },
   "outputs": [],
   "source": [
    "import sys\n",
    "import os\n",
    "import copy\n",
    "import pathlib\n",
    "import time\n",
    "import gc\n",
    "\n",
    "from tqdm import tqdm, trange\n",
    "# from tqdm import trange\n",
    "\n",
    "import numpy as np\n",
    "import matplotlib.pyplot as plt\n",
    "import seaborn as sns\n",
    "import scipy\n",
    "\n",
    "import torch\n",
    "import torchvision\n",
    "import torchvision.transforms as transforms\n",
    "\n",
    "# import cuml\n",
    "\n",
    "# for creating validation set\n",
    "import sklearn\n",
    "from sklearn.model_selection import train_test_split\n",
    "\n",
    "%matplotlib inline\n",
    "%matplotlib inline\n",
    "# %matplotlib inline\n",
    "# %matplotlib qt"
   ]
  },
  {
   "cell_type": "code",
   "execution_count": null,
   "metadata": {
    "id": "GExNkvATEBtG"
   },
   "outputs": [],
   "source": []
  },
  {
   "cell_type": "code",
   "execution_count": 4,
   "metadata": {},
   "outputs": [],
   "source": [
    "# torchvision.models.mobilenet_v3_small(pretrained=False)"
   ]
  },
  {
   "cell_type": "code",
   "execution_count": 5,
   "metadata": {},
   "outputs": [],
   "source": [
    "# Bring them both down to 256 -- concatenate back to  256\n"
   ]
  },
  {
   "cell_type": "markdown",
   "metadata": {},
   "source": [
    "<span style=\"color:red\">**<<<<<<< local**</span>"
   ]
  },
  {
   "cell_type": "code",
   "execution_count": 6,
   "metadata": {
    "id": "MZ9Hq6SVvves"
   },
   "outputs": [],
   "source": [
    "# base_dir = '/n/data1/hms/neurobio/sabatini/josh'\n",
    "base_dir = '/Users/josh/Documents/'\n",
    "DEVICE = 'cpu'\n"
   ]
  },
  {
   "cell_type": "markdown",
   "metadata": {},
   "source": [
    "<span style=\"color:red\">**=======**</span>"
   ]
  },
  {
   "cell_type": "code",
   "execution_count": 6,
   "metadata": {
    "id": "MZ9Hq6SVvves"
   },
   "outputs": [],
   "source": [
    "base_dir = '/n/data1/hms/neurobio/sabatini/josh'"
   ]
  },
  {
   "cell_type": "markdown",
   "metadata": {},
   "source": [
    "<span style=\"color:red\">**>>>>>>> remote**</span>"
   ]
  },
  {
   "cell_type": "code",
   "execution_count": null,
   "metadata": {
    "id": "9w3t_mtdDB0j"
   },
   "outputs": [],
   "source": [
    "<<<<<<< local\n",
    "\n",
    "=======\n",
    ">>>>>>> remote\n",
    "import sys\n",
    "\n",
    "sys.path.append(f'{base_dir}/github_repos')\n",
    "# sys.path.append(f'/media/rich/Home_Linux_partition/github_repos')\n",
    "dir_folders = f'{base_dir}/label_data'\n",
    "\n",
    "\n",
    "%load_ext autoreload\n",
    "%autoreload 2\n",
    "<<<<<<< local\n",
    "from basic_neural_processing_modules import math_functions, classification, h5_handling, plotting_helpers, indexing, misc #, decomposition, torch_helpers\n",
    "from GCaMP_ROI_classifier.new_stuff import util, models, training_simCLR, augmentation, training_classHead, training_supervised\n",
    "\n",
    "=======\n",
    "from basic_neural_processing_modules import torch_helpers, math_functions, classification, h5_handling, plotting_helpers, indexing, misc #, decomposition\n",
    "from GCaMP_ROI_classifier.new_stuff import util, models, training_simCLR, augmentation, training_classHead, training_supervised\n",
    ">>>>>>> remote"
   ]
  },
  {
   "cell_type": "markdown",
   "metadata": {
    "id": "hTqZzmpJDB0j"
   },
   "source": [
    "## Import unlabeled training data"
   ]
  },
  {
   "cell_type": "code",
   "execution_count": null,
   "metadata": {},
   "outputs": [],
   "source": [
    "# data_unlabeled = h5_handling.simple_load(path=r'/media/rich/bigSSD/for_Josh/GCAMP_ROI_Classifier_data/masks_20211202_balanced.h5')\n",
    "data_unlabeled = h5_handling.simple_load(path=f'{base_dir}/label_data/masks_20211202_balanced.h5')\n",
    "\n",
    "masks_cat_raw = torch.as_tensor(np.concatenate((data_unlabeled['SYTmasks'], data_unlabeled['NPmasks'], data_unlabeled['RHmasks']), axis=0), dtype=torch.float32, device='cpu')"
   ]
  },
  {
   "cell_type": "code",
   "execution_count": null,
   "metadata": {},
   "outputs": [],
   "source": [
    "# data_labeled = h5_handling.simple_load(path=r'/media/rich/bigSSD/for_Josh/GCAMP_ROI_Classifier_data/masks_20211202_unbalanced.h5')"
   ]
  },
  {
   "cell_type": "code",
   "execution_count": null,
   "metadata": {},
   "outputs": [],
   "source": [
    "# masks_SYT = data_labeled['SYTmasks']\n",
    "# labels_SYT = classification.squeeze_integers(data_labeled['SYTlabels'])"
   ]
  },
  {
   "cell_type": "code",
   "execution_count": null,
   "metadata": {},
   "outputs": [],
   "source": [
    "# nan_lst = np.concatenate(np.where(np.isnan(masks_SYT).sum(axis=-1).sum(axis=-1)))\n",
    "# non_nan = [_ for _ in range(masks_SYT.shape[0]) if _ not in nan_lst]\n",
    "# labels_SYT = labels_SYT[non_nan]\n",
    "# masks_SYT = masks_SYT[non_nan]"
   ]
  },
  {
   "cell_type": "code",
   "execution_count": null,
   "metadata": {},
   "outputs": [],
   "source": [
    "# X_labeled_train_SYT, X_labeled_val_SYT, y_labeled_train_SYT, y_labeled_val_SYT = train_test_split(masks_SYT, labels_SYT, test_size = 0.2)"
   ]
  },
  {
   "cell_type": "markdown",
   "metadata": {},
   "source": [
    "toss any NaNs"
   ]
  },
  {
   "cell_type": "code",
   "execution_count": null,
   "metadata": {},
   "outputs": [
    {
     "name": "stdout",
     "output_type": "stream",
     "text": [
      "Number of masks: torch.Size([711808, 36, 36])\n",
      "Number of masks: torch.Size([711807, 36, 36])\n"
     ]
    }
   ],
   "source": [
    "print(f'Number of masks: {masks_cat_raw.shape}')\n",
    "\n",
    "ROIs_without_NaNs = torch.where(~torch.any(torch.any(torch.isnan(masks_cat_raw), dim=1), dim=1))[0]\n",
    "masks_cat = masks_cat_raw[ROIs_without_NaNs]\n",
    "\n",
    "print(f'Number of masks: {masks_cat.shape}')"
   ]
  },
  {
   "cell_type": "markdown",
   "metadata": {
    "id": "hTqZzmpJDB0j"
   },
   "source": [
    "## Import labeled training data"
   ]
  },
  {
   "cell_type": "code",
   "execution_count": null,
   "metadata": {
    "colab": {
     "base_uri": "https://localhost:8080/",
     "height": 1000
    },
    "id": "S8AO_lypDB0o",
    "outputId": "4edfd739-a0b7-4789-aea1-4a9f6c2665c8"
   },
   "outputs": [],
   "source": [
    "dir_folders = f'{base_dir}/label_data'\n",
    "# dir_folders = r'/media/rich/bigSSD/for_Josh/GCAMP_ROI_Classifier_data/label_data'\n",
    "# dir_folders = r'/users/Josh/Documents/Harvard/label_data'\n",
    "folders = [r'mouse 6_28 _ day 20200903/',\n",
    "             r'mouse6_28 _ day20200815/']\n",
    "fileNames_statFiles = [r'stat.npy']*len(folders)\n",
    "paths_statFiles = [pathlib.Path(dir_folders) / folders[ii] / fileNames_statFiles[ii] for ii in range(len(folders))]\n",
    "\n",
    "sf_all = util.import_multiple_stat_files(   paths_statFiles=paths_statFiles,\n",
    "                                            fileNames_statFiles=fileNames_statFiles,\n",
    "                                            out_height_width=[32,32],\n",
    "                                            max_footprint_width=241,\n",
    "                                            plot_pref=True)\n",
    "images_labeled_raw = np.concatenate(sf_all, axis=0)\n",
    "images_labeled_raw = (images_labeled_raw / np.max(images_labeled_raw, axis=(1,2), keepdims=True)) * 1\n",
    "print(f'concatenated images shape: {images_labeled_raw.shape}')\n",
    "\n",
    "fileNames_labelFiles = ['labels_posthoc_filledIn_allCells.npy',\n",
    "             'labels_posthoc_all.npy']\n",
    "paths_labelFiles = [pathlib.Path(dir_folders) / folders[ii] / fileNames_labelFiles[ii] for ii in range(len(folders))]\n",
    "\n",
    "labels_all = util.import_multiple_label_files(paths_labelFiles=paths_labelFiles,\n",
    "                                       plot_pref=True)\n",
    "labels_raw = np.concatenate(labels_all)\n",
    "\n",
    "assert np.alltrue([sf_all[ii].shape[0] == labels_all[ii].shape[0] for ii in range(len(sf_all))]) , 'num images in stat files does not correspond to num labels'"
   ]
  },
  {
   "cell_type": "code",
   "execution_count": null,
   "metadata": {},
   "outputs": [],
   "source": [
    "%matplotlib inline\n",
    "\n",
    "plotting_helpers.plot_image_grid(images=images_labeled_raw,\n",
    "                                labels=None,\n",
    "                                grid_shape=(10,10), cmap=plt.get_cmap('gray'));"
   ]
  },
  {
   "cell_type": "code",
   "execution_count": null,
   "metadata": {
    "id": "Ip1UMYy6DB0p"
   },
   "outputs": [],
   "source": [
    "labels = classification.squeeze_integers(labels_raw)\n",
    "images_labeled = images_labeled_raw[labels != 2]\n",
    "labels = labels[labels != 2]\n",
    "labels = classification.squeeze_integers(labels)"
   ]
  },
  {
   "cell_type": "markdown",
   "metadata": {
    "id": "UYh_wBqCDB0q"
   },
   "source": [
    "## Balance classes of inputs"
   ]
  },
  {
   "cell_type": "code",
   "execution_count": null,
   "metadata": {
    "colab": {
     "base_uri": "https://localhost:8080/"
    },
    "id": "qn4Pu2cKDB0q",
    "outputId": "3afafb73-54a7-4e2d-8030-c0af6272cbe6"
   },
   "outputs": [
    {
     "name": "stdout",
     "output_type": "stream",
     "text": [
      "(9714, 32, 32)\n",
      "(9714,)\n",
      "532\n",
      "(2128, 32, 32)\n",
      "(2128,)\n",
      "532\n",
      "532\n",
      "532\n",
      "0\n",
      "0\n",
      "(2128, 32, 32)\n",
      "(2128,)\n"
     ]
    }
   ],
   "source": [
    "duplicates = 1\n",
    "balanced = True\n",
    "\n",
    "images_dup = np.tile(images_labeled , (duplicates , 1 , 1))\n",
    "labels_dup = np.tile(labels , (duplicates))\n",
    "\n",
    "print(images_dup.shape)\n",
    "print(labels_dup.shape)\n",
    "\n",
    "if balanced:\n",
    "    numToGetTo = np.sum(labels_dup==0)\n",
    "    print(numToGetTo)\n",
    "    for ii in np.array([1,2,3]):\n",
    "  #     idxToDelete = np.cumsum(labels_dup==ii) <= (np.sum(labels_dup==ii) - numToGetTo)\n",
    "        if ii==3:\n",
    "            numToGetTo = np.sum(labels_dup==0)/1\n",
    "        else:\n",
    "            numToGetTo = np.sum(labels_dup==0)\n",
    "\n",
    "        idxToDelete = (np.cumsum(labels_dup==ii) * (labels_dup==ii)) > numToGetTo\n",
    "        images_dup = images_dup[idxToDelete==0,:,:]\n",
    "        labels_dup = labels_dup[idxToDelete==0]\n",
    "\n",
    "\n",
    "\n",
    "\n",
    "\n",
    "print(images_dup.shape)\n",
    "print(labels_dup.shape)\n",
    "\n",
    "numToGetTo = np.sum(labels_dup==0)\n",
    "print(numToGetTo)\n",
    "\n",
    "print(np.sum(labels_dup==0))\n",
    "print(np.sum(labels_dup==1))\n",
    "print(np.sum(labels_dup==4))\n",
    "print(np.sum(labels_dup==5))\n",
    "print(images_dup.shape)\n",
    "print(labels_dup.shape)"
   ]
  },
  {
   "cell_type": "raw",
   "metadata": {
    "id": "NpMB08CYDB0q"
   },
   "source": [
    "# create validation set\n",
    "# X_train, X_val, y_train, y_val = train_test_split(images[:], labels[:], test_size = 0.15)\n",
    "X_train, X_val, y_train, y_val = train_test_split(images_dup[:], labels_dup[:], test_size = 0.15)\n",
    "(X_train.shape, y_train.shape), (X_val.shape, y_val.shape)"
   ]
  },
  {
   "cell_type": "code",
   "execution_count": null,
   "metadata": {
    "colab": {
     "base_uri": "https://localhost:8080/"
    },
    "id": "fVA_Aa6rDB0q",
    "outputId": "15b9e55a-4881-40be-f06b-dec658fa55a7"
   },
   "outputs": [],
   "source": [
    "# create validation set\n",
    "\n",
    "###### REMOVE WITH ENOUGH RAM\n",
    "images = images_dup\n",
    "labels = labels_dup\n",
    "\n",
    "# X_labeled_train, X_labeled_val, y_labeled_train, y_labeled_val = train_test_split(images_dup, labels_dup, test_size = 0.3)\n",
    "X_labeled_train, X_labeled_val, y_labeled_train, y_labeled_val = train_test_split(images_dup, labels_dup, test_size = 0.2)\n",
    "# X_train, y_train = X_labeled_train, y_labeled_train\n",
    "\n",
    "# X_labeled_val, X_test, y_labeled_val, y_test = train_test_split(X_labeled_val, y_labeled_val, test_size = 0.5)\n",
    "X_val, X_test, y_val, y_test = train_test_split(X_labeled_val, y_labeled_val, test_size = 0.5)\n",
    "\n",
    "(X_labeled_train.shape, y_labeled_train.shape), (X_labeled_val.shape, y_labeled_val.shape)"
   ]
  },
  {
   "cell_type": "code",
   "execution_count": null,
   "metadata": {
    "colab": {
     "base_uri": "https://localhost:8080/",
     "height": 265
    },
    "id": "mdJafJMMDB0r",
    "outputId": "2e8d00f6-32bf-4aeb-d02d-e10dcaaccfe3"
   },
   "outputs": [],
   "source": [
    "plt.figure()\n",
    "plt.hist(labels_dup, 20);"
   ]
  },
  {
   "cell_type": "code",
   "execution_count": null,
   "metadata": {},
   "outputs": [],
   "source": [
    "images.shape"
   ]
  },
  {
   "cell_type": "code",
   "execution_count": null,
   "metadata": {
    "id": "XNxaCTbcDB0r"
   },
   "outputs": [],
   "source": []
  },
  {
   "cell_type": "raw",
   "metadata": {
    "id": "tz9Q8wYuDB0s"
   },
   "source": [
    "from sklearn.linear_model import LogisticRegression\n",
    "import sklearn.metrics\n",
    "\n",
    "def classification_step(X_train, y_train, X_test, model, model_device, temperature):\n",
    "    logreg = LogisticRegression()\n",
    "    features_train = model(torch.as_tensor(X_train, device=DEVICE, dtype=torch.float32)[:,None,...]).detach().cpu()\n",
    "    # features = model(torch.tensor(X_train[y_train != 3], device=DEVICE, dtype=torch.float32)[:,None,...]).detach().cpu()\n",
    "    logreg.fit(features_train, y_train)\n",
    "    # logreg.fit(features, y_train[y_train != 3])\n",
    "    \n",
    "    features_test = model(torch.as_tensor(X_test, device=DEVICE, dtype=torch.float32)[:,None,...]).detach().cpu()    \n",
    "    y_hat = logreg.predict_proba(features_test)\n",
    "    y_hat = torch.as_tensor(y_hat, dtype=torch.float32, device='cpu')\n",
    "    \n",
    "#     print(y_hat)\n",
    "    print(f'accuracy: {logreg.score(features, y):.5}')\n",
    "\n",
    "#     # cm = sklearn.metrics.confusion_matrix(idx_to_oneHot(y_train), y_hat, normalize='true')\n",
    "#     # cm = sklearn.metrics.confusion_matrix(idx_to_oneHot(y_train[y_train != 3]), y_hat, normalize='true')\n",
    "#     cm = rh_cm(y_hat, y)\n",
    "#     # cm = rh_cm(y_hat, y_train[y_train != 3])\n",
    "    \n",
    "    unc = util.loss_uncertainty(y_hat, temperature=temperature)\n",
    "\n",
    "#     plt.figure()\n",
    "#     plt.imshow(cm)\n",
    "#     return torch.tensor(unc, dtype=torch.float32, device=model_device)\n",
    "    return unc"
   ]
  },
  {
   "cell_type": "markdown",
   "metadata": {
    "id": "3aA1-hY4DB0v"
   },
   "source": [
    "# Train"
   ]
  },
  {
   "cell_type": "code",
   "execution_count": null,
   "metadata": {
    "colab": {
     "base_uri": "https://localhost:8080/"
    },
    "id": "YtkRZSMqDB0v",
    "outputId": "230c559f-f22c-4182-b3ab-024ba2080a50"
   },
   "outputs": [],
   "source": [
    "<<<<<<< local\n",
    "# DEVICE = torch_helpers.set_device(use_GPU=True)\n",
    "=======\n",
    "DEVICE = torch_helpers.set_device(use_GPU=True)\n",
    ">>>>>>> remote\n",
    "# DEVICE = torch_helpers.set_device(use_GPU=False)"
   ]
  },
  {
   "cell_type": "markdown",
   "metadata": {},
   "source": [
    "### Define New model = model + pre-head + latent layer OR classification layer"
   ]
  },
  {
   "cell_type": "code",
   "execution_count": null,
   "metadata": {
    "id": "gt4xpqbHBjyL"
   },
   "outputs": [],
   "source": [
    "class ModelTackOn(torch.nn.Module):\n",
    "    def __init__(self, base_model, linear_in_feat, pre_head_fc_sizes=[100], post_head_fc_sizes=[100], classifier_fc_sizes=None):\n",
    "            super(ModelTackOn, self).__init__()\n",
    "            self.base_model = base_model\n",
    "            # final_base_layer = list(un_modified_model.children())[-1]\n",
    "            final_base_layer_in_feat = linear_in_feat\n",
    "            \n",
    "            \n",
    "            \n",
    "#             # TODO: Check to make sure this makes the process automatic!!!!\n",
    "#             while len(list(final_base_layer.children())) > 0:\n",
    "#                 final_base_layer = list(final_base_layer.children())[0]\n",
    "            \n",
    "            \n",
    "            \n",
    "            \n",
    "            \n",
    "            \n",
    "            # final_base_layer = list(list(model.children())[-1].children())[-1]\n",
    "            # print(final_base_layer)\n",
    "\n",
    "            self.pre_head_fc_lst = []\n",
    "            self.post_head_fc_lst = []\n",
    "            self.classifier_fc_lst = []\n",
    "\n",
    "            self.init_prehead(final_base_layer_in_feat, pre_head_fc_sizes)\n",
    "            self.init_posthead(pre_head_fc_sizes[-1], post_head_fc_sizes)\n",
    "            if classifier_fc_sizes is not None:\n",
    "                self.init_classifier(pre_head_fc_sizes[-1], classifier_fc_sizes)\n",
    "    \n",
    "    def init_prehead(self, prv_size, pre_head_fc_sizes):\n",
    "        for i, pre_head_fc in enumerate(pre_head_fc_sizes):\n",
    "            if i == 0:\n",
    "                in_features = prv_size\n",
    "                # in_features = prv_layer.in_features if hasattr(prv_layer,'in_features') else 512\n",
    "            else:\n",
    "                in_features = pre_head_fc_sizes[i - 1]\n",
    "            fc_layer = torch.nn.Linear(in_features=in_features, out_features=pre_head_fc)\n",
    "            self.add_module(f'PreHead_{i}', fc_layer)\n",
    "            self.pre_head_fc_lst.append(fc_layer)\n",
    "\n",
    "#             if i < len(pre_head_fc_sizes) - 1:\n",
    "            non_linearity = torch.nn.ReLU()\n",
    "            self.add_module(f'PreHead_{i}_NonLinearity', non_linearity)\n",
    "            self.pre_head_fc_lst.append(non_linearity)\n",
    "\n",
    "    def init_posthead(self, prv_size, post_head_fc_sizes):\n",
    "        for i, post_head_fc in enumerate(post_head_fc_sizes):\n",
    "            if i == 0:\n",
    "                in_features = prv_size\n",
    "            else:\n",
    "                in_features = post_head_fc_sizes[i - 1]\n",
    "            fc_layer = torch.nn.Linear(in_features=in_features, out_features=post_head_fc)\n",
    "            self.add_module(f'PostHead_{i}', fc_layer)\n",
    "            self.post_head_fc_lst.append(fc_layer)\n",
    "\n",
    "            if i < len(post_head_fc_sizes) - 1:\n",
    "                non_linearity = torch.nn.ReLU()\n",
    "                self.add_module(f'PostHead_{i}_NonLinearity', non_linearity)\n",
    "                self.pre_head_fc_lst.append(non_linearity)\n",
    "    \n",
    "    def init_classifier(self, prv_size, classifier_fc_sizes):\n",
    "            for i, classifier_fc in enumerate(classifier_fc_sizes):\n",
    "                if i == 0:\n",
    "                    in_features = prv_size\n",
    "                else:\n",
    "                    in_features = classifier_fc_sizes[i - 1]\n",
    "            fc_layer = torch.nn.Linear(in_features=in_features, out_features=classifier_fc)\n",
    "            self.add_module(f'Classifier_{i}', fc_layer)\n",
    "            self.classifier_fc_lst.append(fc_layer)\n",
    "\n",
    "    def reinit_classifier(self):\n",
    "        for i_layer, layer in enumerate(self.classifier_fc_lst):\n",
    "            layer.reset_parameters()\n",
    "    \n",
    "#     def forward(self, X):\n",
    "#         interim = self.base_model(X)\n",
    "#         interim = self.get_head(interim)\n",
    "#         interim = self.get_latent(interim)\n",
    "#         return interim\n",
    "\n",
    "    def forward_classifier(self, X):\n",
    "        interim = self.base_model(X)\n",
    "        interim = self.get_head(interim)\n",
    "        interim = self.classify(interim)\n",
    "        return interim\n",
    "\n",
    "    def forward_latent(self, X):\n",
    "        interim = self.base_model(X)\n",
    "        interim = self.get_head(interim)\n",
    "        interim = self.get_latent(interim)\n",
    "        return interim\n",
    "\n",
    "\n",
    "    def get_head(self, base_out):\n",
    "        # print('base_out', base_out.shape)\n",
    "        head = base_out\n",
    "        for pre_head_layer in self.pre_head_fc_lst:\n",
    "          # print('pre_head_layer', pre_head_layer.in_features)\n",
    "          head = pre_head_layer(head)\n",
    "          # print('head', head.shape)\n",
    "        return head\n",
    "\n",
    "    def get_latent(self, head):\n",
    "        latent = head\n",
    "        for post_head_layer in self.post_head_fc_lst:\n",
    "            latent = post_head_layer(latent)\n",
    "        return latent\n",
    "\n",
    "    def classify(self, head):\n",
    "        logit = head\n",
    "        for classifier_layer in self.classifier_fc_lst:\n",
    "            logit = classifier_layer(logit)\n",
    "        return logit\n",
    "\n",
    "    def set_pre_head_grad(self, requires_grad=True):\n",
    "        for layer in self.pre_head_fc_lst:\n",
    "            for param in layer.parameters():\n",
    "                param.requires_grad = requires_grad\n",
    "                \n",
    "    def set_post_head_grad(self, requires_grad=True):\n",
    "        for layer in self.post_head_fc_lst:\n",
    "            for param in layer.parameters():\n",
    "                param.requires_grad = requires_grad\n",
    "\n",
    "    def set_classifier_grad(self, requires_grad=True):\n",
    "        for layer in self.classifier_fc_lst:\n",
    "            for param in layer.parameters():\n",
    "                param.requires_grad = requires_grad\n",
    "\n",
    "    def prep_contrast(self):\n",
    "        self.set_pre_head_grad(requires_grad=True)\n",
    "        self.set_post_head_grad(requires_grad=True)\n",
    "        self.set_classifier_grad(requires_grad=False)\n",
    "\n",
    "    def prep_classifier(self):\n",
    "        self.set_pre_head_grad(requires_grad=False)\n",
    "        self.set_post_head_grad(requires_grad=False)\n",
    "        self.set_classifier_grad(requires_grad=True)\n"
   ]
  },
  {
   "cell_type": "code",
   "execution_count": null,
   "metadata": {
    "id": "MIix9BdUCkqf"
   },
   "outputs": [],
   "source": [
    "# import torchvision.models\n",
    "\n",
    "# # base_model = torchvision.models.resnet101(pretrained=True)\n",
    "# base_model = torchvision.models.resnet18(pretrained=True)\n",
    "\n",
    "# for param in base_model.parameters():\n",
    "#     param.requires_grad = False\n",
    "\n",
    "# retrain = list(base_model.children())[-1:]\n",
    "# for layer in retrain:\n",
    "#     params = layer.parameters()\n",
    "#     for param in params:\n",
    "#         param.requires_grad = True"
   ]
  },
  {
   "cell_type": "code",
   "execution_count": null,
   "metadata": {
    "id": "oyjLftj_cEGW"
   },
   "outputs": [],
   "source": [
    "import torchvision.models\n",
    "\n",
    "base_model_unfrozen = torchvision.models.mobilenet_v3_small(pretrained=False)\n",
    "for param in base_model_unfrozen.parameters():\n",
    "    param.requires_grad = True\n",
    "\n",
    "# base_model_frozen = torchvision.models.resnet101(pretrained=True)\n",
    "# base_model_frozen = torchvision.models.resnet18(pretrained=True)\n",
    "# base_model_frozen = torchvision.models.wide_resnet50_2(pretrained=True)\n",
    "# base_model_frozen = torchvision.models.resnet50(pretrained=True)"
   ]
  },
  {
   "cell_type": "code",
   "execution_count": null,
   "metadata": {},
   "outputs": [],
   "source": [
    "# for param in base_model_frozen.parameters():\n",
    "#     param.requires_grad = False"
   ]
  },
  {
   "cell_type": "code",
   "execution_count": null,
   "metadata": {},
   "outputs": [],
   "source": []
  },
  {
   "cell_type": "markdown",
   "metadata": {},
   "source": [
    "start with a pretrained resnet model, and chop off the final layer. This will be used as the base on which we add the pre-head layers (for expressivity), latent layers (for simCLR), or classification layers (for post-hoc logistic regression)"
   ]
  },
  {
   "cell_type": "code",
   "execution_count": null,
   "metadata": {
    "id": "aWnb7WWri9qK"
   },
   "outputs": [],
   "source": [
    "model_chopped_unfrozen = torch.nn.Sequential(*(list(base_model_unfrozen.children())[:-1] + [torch.nn.Flatten(), torch.nn.ReLU()]))"
   ]
  },
  {
   "cell_type": "code",
   "execution_count": null,
   "metadata": {},
   "outputs": [],
   "source": [
    "\n",
    "# for name, param in list(model_chopped_unfrozen.named_parameters()):\n",
    "#     if param.requires_grad:\n",
    "#         pass\n",
    "#     print(name, param.requires_grad)"
   ]
  },
  {
   "cell_type": "code",
   "execution_count": null,
   "metadata": {},
   "outputs": [],
   "source": [
    "base_model_frozen = torchvision.models.resnet18(pretrained=True)\n",
    "# base_model_frozen = torchvision.models.resnet101(pretrained=True)"
   ]
  },
  {
   "cell_type": "code",
   "execution_count": null,
   "metadata": {},
   "outputs": [],
   "source": [
    "# [name for name, param in list(base_model_frozen.named_parameters())]"
   ]
  },
  {
   "cell_type": "code",
   "execution_count": null,
   "metadata": {},
   "outputs": [],
   "source": [
    "\n",
    "# for name, param in list(base_model_frozen.named_parameters()):\n",
    "#     if name[:10] == 'base_model_frozen':\n",
    "#         if int(name[11]) < 6:\n",
    "#             param.requires_grad = False\n",
    "#         elif int(name[11]) >= 6:\n",
    "#             param.requires_grad = True\n",
    "#     print(param.name)"
   ]
  },
  {
   "cell_type": "code",
   "execution_count": null,
   "metadata": {},
   "outputs": [],
   "source": [
    "model_chopped_frozen = torch.nn.Sequential(*(list(base_model_frozen.children())[:-1] + [torch.nn.Flatten(), torch.nn.ReLU()]))"
   ]
  },
  {
   "cell_type": "code",
   "execution_count": null,
   "metadata": {
    "tags": []
   },
   "outputs": [],
   "source": [
    "# model_chopped_frozen"
   ]
  },
  {
   "cell_type": "code",
   "execution_count": null,
   "metadata": {
    "tags": []
   },
   "outputs": [
    {
     "name": "stdout",
     "output_type": "stream",
     "text": [
      "7.0.conv1.weight True\n",
      "7.0.bn1.weight True\n",
      "7.0.bn1.bias True\n",
      "7.0.conv2.weight True\n",
      "7.0.bn2.weight True\n",
      "7.0.bn2.bias True\n",
      "7.0.downsample.0.weight True\n",
      "7.0.downsample.1.weight True\n",
      "7.0.downsample.1.bias True\n",
      "7.1.conv1.weight True\n",
      "7.1.bn1.weight True\n",
      "7.1.bn1.bias True\n",
      "7.1.conv2.weight True\n",
      "7.1.bn2.weight True\n",
      "7.1.bn2.bias True\n"
     ]
    }
   ],
   "source": [
    "# unfreeze particular blocks in ResNet model\n",
    "\n",
    "for name, param in list(model_chopped_frozen.named_parameters()):\n",
    "    if int(float(name[0:2])) <= 6:\n",
    "        param.requires_grad = False\n",
    "    elif int(float(name[0:2])) > 6:\n",
    "        param.requires_grad = True\n",
    "\n",
    "for name, param in list(model_chopped_frozen.named_parameters()):\n",
    "    if param.requires_grad:\n",
    "        print(name, param.requires_grad)"
   ]
  },
  {
   "cell_type": "code",
   "execution_count": null,
   "metadata": {},
   "outputs": [
    {
     "name": "stdout",
     "output_type": "stream",
     "text": [
      "512 576 1088\n"
     ]
    }
   ],
   "source": [
    "frozen_feat = list(base_model_frozen.children())[-1].in_features\n",
    "unfrozen_feat = list(base_model_unfrozen.children())[-1][0].in_features\n",
    "linear_in_feat = frozen_feat + unfrozen_feat\n",
    "print(frozen_feat, unfrozen_feat, linear_in_feat)"
   ]
  },
  {
   "cell_type": "code",
   "execution_count": null,
   "metadata": {},
   "outputs": [],
   "source": [
    "class Split_Model(torch.nn.Module):\n",
    "    def __init__(self, model_chopped_unfrozen, model_chopped_frozen):\n",
    "        super(Split_Model, self).__init__()\n",
    "        self.unfrozen = model_chopped_unfrozen\n",
    "        self.frozen = model_chopped_frozen\n",
    "        \n",
    "        # self.add_module(f'Chopped_Unfrozen', model_chopped_unfrozen)\n",
    "        # self.add_module(f'Chopped_Frozen', model_chopped_frozen)\n",
    "\n",
    "    def forward(self, x):\n",
    "        unfrozen_out = self.unfrozen(x)\n",
    "        frozen_out = self.frozen(x)\n",
    "        combo_out = torch.cat([unfrozen_out, frozen_out], dim=-1)\n",
    "        return combo_out\n",
    "\n"
   ]
  },
  {
   "cell_type": "code",
   "execution_count": null,
   "metadata": {
    "tags": []
   },
   "outputs": [],
   "source": [
    "split_model = Split_Model(model_chopped_unfrozen, model_chopped_frozen)"
   ]
  },
  {
   "cell_type": "raw",
   "metadata": {
    "id": "_E18ZEzpClNd"
   },
   "source": [
    "### Make combined model\n",
    "'model' has two forward methods. One for generating latents (for simCLR) and one for classifying labels"
   ]
  },
  {
   "cell_type": "code",
   "execution_count": null,
   "metadata": {
    "colab": {
     "base_uri": "https://localhost:8080/"
    },
    "id": "n6Qx-1NGJNY3",
    "outputId": "f7cb3ded-3b48-439e-bf57-a526fb48bac7"
   },
   "outputs": [],
   "source": [
    "# model = ModelTackOn(split_model, linear_in_feat, pre_head_fc_sizes=[1024, 512], post_head_fc_sizes=[64], classifier_fc_sizes=[len(np.unique(y_labeled_train))])\n",
    "model = ModelTackOn(split_model, linear_in_feat, pre_head_fc_sizes=[256], post_head_fc_sizes=[64], classifier_fc_sizes=[len(np.unique(y_labeled_train))])\n",
    "\n",
    "model.train();"
   ]
  },
  {
   "cell_type": "code",
   "execution_count": null,
   "metadata": {},
   "outputs": [],
   "source": [
    "# model.to('cuda');"
   ]
  },
  {
   "cell_type": "code",
   "execution_count": null,
   "metadata": {},
   "outputs": [],
   "source": [
    "# model"
   ]
  },
  {
   "cell_type": "markdown",
   "metadata": {
    "id": "T2ARByXvDB0s"
   },
   "source": [
    "## Define augmentation pipeline"
   ]
  },
  {
   "cell_type": "code",
   "execution_count": null,
   "metadata": {},
   "outputs": [],
   "source": [
    "import torchvision.transforms    \n",
    "\n",
    "transforms = torch.nn.Sequential(\n",
    "    torchvision.transforms.RandomHorizontalFlip(p=0.5),\n",
    "        \n",
    "    torchvision.transforms.RandomAffine(\n",
    "                                        degrees=(-180,180),\n",
    "                                        translate=(0.15, 0.15), #0, .3, .45 (DEFAULT)\n",
    "                                        scale=(0.6, 1.2), # no scale (1,1), (0.4, 1.5)\n",
    "                                        shear=(-15, 15, -15, 15),\n",
    "                                        interpolation=torchvision.transforms.InterpolationMode.BILINEAR, \n",
    "                                        fill=0, \n",
    "                                        fillcolor=None, \n",
    "                                        resample=None),\n",
    "    augmentation.AddPoissonNoise(   scaler_bounds=(10**(4.5), 10**(6.)),\n",
    "                                    prob=1,\n",
    "                                    base=1000,\n",
    "                                    scaling='log'),\n",
    "    augmentation.AddGaussianNoise(  mean=0, \n",
    "                                    std=0.00015,\n",
    "                                    prob=1),\n",
    "    \n",
    "    augmentation.ScaleDynamicRange(scaler_bounds=(0,1)), # just clamping, both this and clamping = normalizing (DEFAULT)\n",
    "    \n",
    "    torchvision.transforms.Resize(size=(224,224), \n",
    "                                  interpolation=torchvision.transforms.InterpolationMode.BILINEAR), # To do or not to do (DEFAULT)\n",
    "    \n",
    "    augmentation.TileChannels(dim=0, n_channels=3),\n",
    ")\n",
    "    \n",
    "scripted_transforms = torch.jit.script(transforms)"
   ]
  },
  {
   "cell_type": "raw",
   "metadata": {
    "id": "tq77tWZeDB0s"
   },
   "source": [
    "import torchvision.transforms    \n",
    "\n",
    "transforms = torch.nn.Sequential(\n",
    "    \n",
    "#     torchvision.transforms.RandomAdjustSharpness(torch.rand(1)*5, p=0.5),\n",
    "#         torchvision.transforms.RandomPerspective(distortion_scale=0.7, \n",
    "#                                              p=0.5, \n",
    "#                                              interpolation=torchvision.transforms.InterpolationMode.BILINEAR, \n",
    "#                                              fill=0),\n",
    "#     torchvision.transforms.GaussianBlur(kernel_size=5,\n",
    "#                                         sigma=(0.0001, 0.1)),\n",
    "        \n",
    "\n",
    "    torchvision.transforms.RandomHorizontalFlip(p=0.5),\n",
    "        \n",
    "    torchvision.transforms.RandomAffine(\n",
    "                                        degrees=(-180,180),\n",
    "                                        translate=(0.2, 0.2), #0.15/.15\n",
    "                                        scale=(0.4, 1.3),  #.6, 1.2\n",
    "                                        shear=(-25, 25, -25, 25), # -15/+15 across board\n",
    "                                        interpolation=torchvision.transforms.InterpolationMode.BILINEAR, \n",
    "                                        fill=0, \n",
    "                                        fillcolor=None, \n",
    "                                        resample=None),\n",
    "    augmentation.AddPoissonNoise(   scaler_bounds=(10**(4.0), 10**(6.)), # 4.5, 6\n",
    "                                    prob=1,\n",
    "                                    base=1000,\n",
    "                                    scaling='log'),\n",
    "    augmentation.AddGaussianNoise(  mean=0, \n",
    "                                    std=0.0002, # 0.00015\n",
    "                                    prob=1),\n",
    "    \n",
    "    augmentation.ScaleDynamicRange(scaler_bounds=(0,1)), # Do vs. don't do -- bounds between 0/1. Either do this OR do this followed by torchvision.transforms.Normalize\n",
    "    \n",
    "    torchvision.transforms.Resize(size=(224,224),\n",
    "                                  interpolation=torchvision.transforms.InterpolationMode.BILINEAR), # Do vs. don't do\n",
    "    \n",
    "    # augmentation.AddPoissonNoise(   scaler_bounds=(10**(1.5), 10**(4.0)),\n",
    "    #                                 prob=1,\n",
    "    #                                 base=1000,\n",
    "    #                                 scaling='log'),\n",
    "    # augmentation.AddGaussianNoise(  mean=0, \n",
    "    #                                 std=0.1,\n",
    "    #                                 prob=1),\n",
    "    \n",
    "    augmentation.TileChannels(dim=0, n_channels=3),\n",
    "    \n",
    "#     augmentation.Normalize(  means=[0.485, 0.456, 0.406],\n",
    "#                              stds=[0.229, 0.224, 0.225]),\n",
    "#     torchvision.transforms.Normalize(mean=[0.485, 0.456, 0.406],\n",
    "#                                      std=[0.229, 0.224, 0.225],\n",
    "#                                      inplace=False),\n",
    "#     torchvision.transforms.RandomHorizontalFlip(p=0.5),\n",
    "\n",
    "#     torchvision.transforms.RandomAffine(\n",
    "#                                         degrees=(-180,180),\n",
    "#                                         translate=(0.0, 0.0),\n",
    "#                                         interpolation=torchvision.transforms.InterpolationMode.BILINEAR, \n",
    "#                                         fill=0, \n",
    "#                                         # fillcolor=None, \n",
    "#                                         resample=None),\n",
    ")\n",
    "scripted_transforms = torch.jit.script(transforms)\n",
    "# scripted_transforms = transforms"
   ]
  },
  {
   "cell_type": "code",
   "execution_count": null,
   "metadata": {
    "id": "PmM4nnV1nCVd"
   },
   "outputs": [],
   "source": [
    "dataset_train = util.dataset_simCLR(\n",
    "                                    torch.as_tensor(masks_cat, device='cpu', dtype=torch.float32), \n",
    "                                    torch.as_tensor(torch.zeros(masks_cat.shape[0]), device='cpu', dtype=torch.float32),\n",
    "\n",
    "                                    n_transforms=2,\n",
    "                                    class_weights=np.array([1]),\n",
    "                                    # class_weights=np.array([1]*4)[np.random.randint(0,4, X_train.shape[0])],\n",
    "                                    transform=scripted_transforms,\n",
    "                                    # DEVICE='cpu',\n",
    "                                    DEVICE='cpu',\n",
    "                                    dtype_X=torch.float32,\n",
    "                                    dtype_y=torch.int64,\n",
    "                                    \n",
    "                                    temp_uncertainty=16\n",
    "                                    )\n",
    "dataloader_train = torch.utils.data.DataLoader( dataset_train,\n",
    "#                                                 batch_size=int(pct_batch_size*X_train.shape[0]),\n",
    "                                                batch_size=850,\n",
    "                                                shuffle=True,\n",
    "                                                drop_last=True,\n",
    "                                                pin_memory=True,\n",
    "                                                num_workers=16,\n",
    "                                                persistent_workers=True,\n",
    "                                                # prefetch_factor=0\n",
    "                                                )"
   ]
  },
  {
   "cell_type": "code",
   "execution_count": null,
   "metadata": {},
   "outputs": [],
   "source": [
    "idx_rand = np.random.randint(0,masks_cat.shape[0], 10)\n",
    "for ii in idx_rand:\n",
    "    fig, axs = plt.subplots(2)\n",
    "    axs[0].imshow(dataset_train[ii][0][0][0])\n",
    "    axs[1].imshow(dataset_train[ii][0][1][0])"
   ]
  },
  {
   "cell_type": "code",
   "execution_count": null,
   "metadata": {
    "colab": {
     "base_uri": "https://localhost:8080/"
    },
    "id": "nstWf2PhVwfV",
    "outputId": "968f73ab-75d7-4735-ea1e-49e7fb3821cc"
   },
   "outputs": [],
   "source": [
    "# torch_helpers.delete_all_cuda_tensors(globals())\n",
    "\n",
    "import gc\n",
    "\n",
    "torch.cuda.empty_cache()\n",
    "gc.collect()\n",
    "torch.cuda.empty_cache()\n",
    "gc.collect()\n",
    "torch.cuda.empty_cache()\n",
    "gc.collect()\n",
    "torch.cuda.empty_cache()\n",
    "gc.collect()"
   ]
  },
  {
   "cell_type": "markdown",
   "metadata": {
    "id": "OQ27o1ny9Xfi"
   },
   "source": [
    "## Training"
   ]
  },
  {
   "cell_type": "code",
   "execution_count": null,
   "metadata": {},
   "outputs": [],
   "source": [
    "model.to(DEVICE)\n",
    "model.prep_contrast()"
   ]
  },
  {
   "cell_type": "code",
   "execution_count": null,
   "metadata": {
    "id": "yDqu-bi8mnJB"
   },
   "outputs": [],
   "source": [
    "from torch.nn import CrossEntropyLoss\n",
    "from torch.optim import Adam\n",
    "\n",
    "import numpy as np\n",
    "\n",
    "from sklearn.linear_model import LogisticRegression\n",
    "from sklearn.tree import DecisionTreeClassifier\n",
    "from sklearn.ensemble import RandomForestClassifier\n",
    "from sklearn.svm import SVC\n",
    "\n",
    "\n",
    "# model = models.LeNet1(dropout_prob=0.3, momentum_val=0, n_output_features=64)\n",
    "\n",
    "\n",
    "criterion = [CrossEntropyLoss()]\n",
    "# criterion = CrossEntropyLoss(reduction='none')\n",
    "\n",
    "# optimizer = Adam(model.parameters(), lr=1e-2, weight_decay=0.0)\n",
    "# optimizer = Adam(model.parameters(), lr=2e-2)\n",
    "optimizer = Adam(model.parameters(), lr=10**(-3.5), weight_decay=0.00001)\n",
    "\n",
    "scheduler = torch.optim.lr_scheduler.ExponentialLR(optimizer,\n",
    "                                                   gamma=1-0.0000,\n",
    "#                                                    gamma=1,\n",
    "                                                  )\n",
    "\n",
    "criterion = [_.to(DEVICE) for _ in criterion]\n",
    "losses_train, losses_val, val_accs, acc = [], [np.nan], [], []"
   ]
  },
  {
   "cell_type": "code",
   "execution_count": 50,
   "metadata": {},
   "outputs": [],
   "source": [
    "model_file_name = 'ResNet18_simCLR_model_202112078_EOD_transfmod=parallelnet'\n",
    "model.forward = model.forward_latent"
   ]
  },
  {
   "cell_type": "code",
   "execution_count": null,
   "metadata": {
    "colab": {
     "base_uri": "https://localhost:8080/"
    },
    "id": "rvDiVxDICXEn",
    "outputId": "2c29e3cf-4515-4aae-f0b1-22e30d51fa5f"
   },
   "outputs": [
    {
     "name": "stderr",
     "output_type": "stream",
     "text": [
      "  0%|          | 0/300000 [00:00<?, ?it/s]"
     ]
    },
    {
     "name": "stdout",
     "output_type": "stream",
     "text": [
      "epoch: 0\n",
      "Iter: 0/837, loss_train: 7.333, loss_val: nan, pos_over_neg: 1.0876327753067017 lr: 0.00031623\n",
      "Iter: 1/837, loss_train: 6.9865, loss_val: nan, pos_over_neg: 2.413256883621216 lr: 0.00031623\n",
      "Iter: 2/837, loss_train: 6.7075, loss_val: nan, pos_over_neg: 5.327975749969482 lr: 0.00031623\n",
      "Iter: 3/837, loss_train: 6.5865, loss_val: nan, pos_over_neg: 9.808056831359863 lr: 0.00031623\n",
      "Iter: 4/837, loss_train: 6.4777, loss_val: nan, pos_over_neg: 15.099874496459961 lr: 0.00031623\n",
      "Iter: 5/837, loss_train: 6.4147, loss_val: nan, pos_over_neg: 24.07267189025879 lr: 0.00031623\n",
      "Iter: 6/837, loss_train: 6.376, loss_val: nan, pos_over_neg: 27.358551025390625 lr: 0.00031623\n",
      "Iter: 7/837, loss_train: 6.357, loss_val: nan, pos_over_neg: 33.71788787841797 lr: 0.00031623\n",
      "Iter: 8/837, loss_train: 6.3188, loss_val: nan, pos_over_neg: 38.88973617553711 lr: 0.00031623\n",
      "Iter: 9/837, loss_train: 6.291, loss_val: nan, pos_over_neg: 59.79948806762695 lr: 0.00031623\n",
      "Iter: 10/837, loss_train: 6.2468, loss_val: nan, pos_over_neg: 45.90131378173828 lr: 0.00031623\n",
      "Iter: 11/837, loss_train: 6.2473, loss_val: nan, pos_over_neg: 60.820194244384766 lr: 0.00031623\n",
      "Iter: 12/837, loss_train: 6.236, loss_val: nan, pos_over_neg: 77.53376770019531 lr: 0.00031623\n",
      "Iter: 13/837, loss_train: 6.2078, loss_val: nan, pos_over_neg: 91.0208511352539 lr: 0.00031623\n",
      "Iter: 14/837, loss_train: 6.2079, loss_val: nan, pos_over_neg: 119.50453186035156 lr: 0.00031623\n",
      "Iter: 15/837, loss_train: 6.1667, loss_val: nan, pos_over_neg: 159.00999450683594 lr: 0.00031623\n",
      "Iter: 16/837, loss_train: 6.1684, loss_val: nan, pos_over_neg: 179.25344848632812 lr: 0.00031623\n",
      "Iter: 17/837, loss_train: 6.1495, loss_val: nan, pos_over_neg: 197.4166717529297 lr: 0.00031623\n",
      "Iter: 18/837, loss_train: 6.1443, loss_val: nan, pos_over_neg: 198.30943298339844 lr: 0.00031623\n",
      "Iter: 19/837, loss_train: 6.1371, loss_val: nan, pos_over_neg: 208.44166564941406 lr: 0.00031623\n",
      "Iter: 20/837, loss_train: 6.1153, loss_val: nan, pos_over_neg: 146.99461364746094 lr: 0.00031623\n",
      "Iter: 21/837, loss_train: 6.1124, loss_val: nan, pos_over_neg: 234.7852020263672 lr: 0.00031623\n",
      "Iter: 22/837, loss_train: 6.0934, loss_val: nan, pos_over_neg: 331.8763427734375 lr: 0.00031623\n",
      "Iter: 23/837, loss_train: 6.092, loss_val: nan, pos_over_neg: 278.2928771972656 lr: 0.00031623\n",
      "Iter: 24/837, loss_train: 6.0858, loss_val: nan, pos_over_neg: 377.8447265625 lr: 0.00031623\n",
      "Iter: 25/837, loss_train: 6.0739, loss_val: nan, pos_over_neg: 405.1174011230469 lr: 0.00031623\n",
      "Iter: 26/837, loss_train: 6.075, loss_val: nan, pos_over_neg: 501.59149169921875 lr: 0.00031623\n",
      "Iter: 27/837, loss_train: 6.0677, loss_val: nan, pos_over_neg: 507.94940185546875 lr: 0.00031623\n",
      "Iter: 28/837, loss_train: 6.0654, loss_val: nan, pos_over_neg: 531.5282592773438 lr: 0.00031623\n",
      "Iter: 29/837, loss_train: 6.0572, loss_val: nan, pos_over_neg: 236.7467803955078 lr: 0.00031623\n",
      "Iter: 30/837, loss_train: 6.0569, loss_val: nan, pos_over_neg: 346.96685791015625 lr: 0.00031623\n",
      "Iter: 31/837, loss_train: 6.0184, loss_val: nan, pos_over_neg: 821.0271606445312 lr: 0.00031623\n",
      "Iter: 32/837, loss_train: 6.0225, loss_val: nan, pos_over_neg: 798.554931640625 lr: 0.00031623\n",
      "Iter: 33/837, loss_train: 6.0282, loss_val: nan, pos_over_neg: 605.6280517578125 lr: 0.00031623\n",
      "Iter: 34/837, loss_train: 6.0095, loss_val: nan, pos_over_neg: 573.0681762695312 lr: 0.00031623\n",
      "Iter: 35/837, loss_train: 6.0095, loss_val: nan, pos_over_neg: 426.28668212890625 lr: 0.00031623\n",
      "Iter: 36/837, loss_train: 6.0048, loss_val: nan, pos_over_neg: 662.8065185546875 lr: 0.00031623\n",
      "Iter: 37/837, loss_train: 5.9926, loss_val: nan, pos_over_neg: 546.8031005859375 lr: 0.00031623\n",
      "Iter: 38/837, loss_train: 5.9935, loss_val: nan, pos_over_neg: 1277.9925537109375 lr: 0.00031623\n",
      "Iter: 39/837, loss_train: 5.9878, loss_val: nan, pos_over_neg: 575.7976684570312 lr: 0.00031623\n",
      "Iter: 40/837, loss_train: 5.9936, loss_val: nan, pos_over_neg: 334.885009765625 lr: 0.00031623\n",
      "Iter: 41/837, loss_train: 5.9793, loss_val: nan, pos_over_neg: 2746.49267578125 lr: 0.00031623\n",
      "Iter: 42/837, loss_train: 5.9815, loss_val: nan, pos_over_neg: 418.11883544921875 lr: 0.00031623\n",
      "Iter: 43/837, loss_train: 5.9734, loss_val: nan, pos_over_neg: 2168.8818359375 lr: 0.00031623\n",
      "Iter: 44/837, loss_train: 5.9713, loss_val: nan, pos_over_neg: 729.7464599609375 lr: 0.00031623\n",
      "Iter: 45/837, loss_train: 5.9757, loss_val: nan, pos_over_neg: 929.0830688476562 lr: 0.00031623\n",
      "Iter: 46/837, loss_train: 5.9552, loss_val: nan, pos_over_neg: 608.900634765625 lr: 0.00031623\n",
      "Iter: 47/837, loss_train: 5.9678, loss_val: nan, pos_over_neg: 796.7173461914062 lr: 0.00031623\n",
      "Iter: 48/837, loss_train: 5.9658, loss_val: nan, pos_over_neg: 1126.728759765625 lr: 0.00031623\n",
      "Iter: 49/837, loss_train: 5.9566, loss_val: nan, pos_over_neg: 405.93475341796875 lr: 0.00031623\n",
      "Iter: 50/837, loss_train: 5.9489, loss_val: nan, pos_over_neg: 375.7967834472656 lr: 0.00031623\n",
      "Iter: 51/837, loss_train: 5.9388, loss_val: nan, pos_over_neg: 746.2376098632812 lr: 0.00031623\n",
      "Iter: 52/837, loss_train: 5.9454, loss_val: nan, pos_over_neg: 173.41624450683594 lr: 0.00031623\n",
      "Iter: 53/837, loss_train: 5.9497, loss_val: nan, pos_over_neg: 375.1025695800781 lr: 0.00031623\n",
      "Iter: 54/837, loss_train: 5.9252, loss_val: nan, pos_over_neg: 1028.4281005859375 lr: 0.00031623\n",
      "Iter: 55/837, loss_train: 5.9355, loss_val: nan, pos_over_neg: 824.33935546875 lr: 0.00031623\n",
      "Iter: 56/837, loss_train: 5.9296, loss_val: nan, pos_over_neg: 506.1518249511719 lr: 0.00031623\n",
      "Iter: 57/837, loss_train: 5.9313, loss_val: nan, pos_over_neg: 411.9956359863281 lr: 0.00031623\n",
      "Iter: 58/837, loss_train: 5.9303, loss_val: nan, pos_over_neg: 389.05859375 lr: 0.00031623\n",
      "Iter: 59/837, loss_train: 5.9186, loss_val: nan, pos_over_neg: 148.07521057128906 lr: 0.00031623\n",
      "Iter: 60/837, loss_train: 5.9331, loss_val: nan, pos_over_neg: 511.3088073730469 lr: 0.00031623\n",
      "Iter: 61/837, loss_train: 5.9166, loss_val: nan, pos_over_neg: 1014.3593139648438 lr: 0.00031623\n",
      "Iter: 62/837, loss_train: 5.9335, loss_val: nan, pos_over_neg: 1386.622802734375 lr: 0.00031623\n",
      "Iter: 63/837, loss_train: 5.9152, loss_val: nan, pos_over_neg: 1207.1468505859375 lr: 0.00031623\n",
      "Iter: 64/837, loss_train: 5.9273, loss_val: nan, pos_over_neg: 901.4304809570312 lr: 0.00031623\n",
      "Iter: 65/837, loss_train: 5.9215, loss_val: nan, pos_over_neg: 576.927001953125 lr: 0.00031623\n",
      "Iter: 66/837, loss_train: 5.9004, loss_val: nan, pos_over_neg: 689.81884765625 lr: 0.00031623\n",
      "Iter: 67/837, loss_train: 5.9326, loss_val: nan, pos_over_neg: 328.196044921875 lr: 0.00031623\n",
      "Iter: 68/837, loss_train: 5.9004, loss_val: nan, pos_over_neg: 541.9453735351562 lr: 0.00031623\n",
      "Iter: 69/837, loss_train: 5.9052, loss_val: nan, pos_over_neg: 538.1640014648438 lr: 0.00031623\n",
      "Iter: 70/837, loss_train: 5.8964, loss_val: nan, pos_over_neg: 537.586669921875 lr: 0.00031623\n",
      "Iter: 71/837, loss_train: 5.9176, loss_val: nan, pos_over_neg: 444.724609375 lr: 0.00031623\n",
      "Iter: 72/837, loss_train: 5.901, loss_val: nan, pos_over_neg: 488.3347473144531 lr: 0.00031623\n",
      "Iter: 73/837, loss_train: 5.9161, loss_val: nan, pos_over_neg: 368.2339782714844 lr: 0.00031623\n",
      "Iter: 74/837, loss_train: 5.9083, loss_val: nan, pos_over_neg: 509.06365966796875 lr: 0.00031623\n",
      "Iter: 75/837, loss_train: 5.9036, loss_val: nan, pos_over_neg: 1180.1038818359375 lr: 0.00031623\n",
      "Iter: 76/837, loss_train: 5.9096, loss_val: nan, pos_over_neg: 286.07135009765625 lr: 0.00031623\n",
      "Iter: 77/837, loss_train: 5.8994, loss_val: nan, pos_over_neg: 691.3726806640625 lr: 0.00031623\n",
      "Iter: 78/837, loss_train: 5.8929, loss_val: nan, pos_over_neg: 1145.32666015625 lr: 0.00031623\n",
      "Iter: 79/837, loss_train: 5.9005, loss_val: nan, pos_over_neg: 659.5606689453125 lr: 0.00031623\n",
      "Iter: 80/837, loss_train: 5.8953, loss_val: nan, pos_over_neg: 723.61279296875 lr: 0.00031623\n",
      "Iter: 81/837, loss_train: 5.8857, loss_val: nan, pos_over_neg: 1137.14599609375 lr: 0.00031623\n",
      "Iter: 82/837, loss_train: 5.886, loss_val: nan, pos_over_neg: 1028.84765625 lr: 0.00031623\n",
      "Iter: 83/837, loss_train: 5.8921, loss_val: nan, pos_over_neg: 599.8599853515625 lr: 0.00031623\n",
      "Iter: 84/837, loss_train: 5.8894, loss_val: nan, pos_over_neg: 1155.7996826171875 lr: 0.00031623\n",
      "Iter: 85/837, loss_train: 5.8903, loss_val: nan, pos_over_neg: 246.49014282226562 lr: 0.00031623\n",
      "Iter: 86/837, loss_train: 5.8848, loss_val: nan, pos_over_neg: 296.88580322265625 lr: 0.00031623\n",
      "Iter: 87/837, loss_train: 5.8898, loss_val: nan, pos_over_neg: 773.20849609375 lr: 0.00031623\n",
      "Iter: 88/837, loss_train: 5.8826, loss_val: nan, pos_over_neg: 434.6609191894531 lr: 0.00031623\n",
      "Iter: 89/837, loss_train: 5.8834, loss_val: nan, pos_over_neg: 501.9009704589844 lr: 0.00031623\n",
      "Iter: 90/837, loss_train: 5.886, loss_val: nan, pos_over_neg: 1471.2716064453125 lr: 0.00031623\n",
      "Iter: 91/837, loss_train: 5.8789, loss_val: nan, pos_over_neg: 520.7623291015625 lr: 0.00031623\n",
      "Iter: 92/837, loss_train: 5.874, loss_val: nan, pos_over_neg: 812.2794799804688 lr: 0.00031623\n",
      "Iter: 93/837, loss_train: 5.8697, loss_val: nan, pos_over_neg: 400.59991455078125 lr: 0.00031623\n",
      "Iter: 94/837, loss_train: 5.8815, loss_val: nan, pos_over_neg: 254.673828125 lr: 0.00031623\n",
      "Iter: 95/837, loss_train: 5.8812, loss_val: nan, pos_over_neg: 737.9979248046875 lr: 0.00031623\n",
      "Iter: 96/837, loss_train: 5.8625, loss_val: nan, pos_over_neg: 1106.4583740234375 lr: 0.00031623\n",
      "Iter: 97/837, loss_train: 5.878, loss_val: nan, pos_over_neg: 405.148681640625 lr: 0.00031623\n",
      "Iter: 98/837, loss_train: 5.8761, loss_val: nan, pos_over_neg: 868.5887451171875 lr: 0.00031623\n",
      "Iter: 99/837, loss_train: 5.8756, loss_val: nan, pos_over_neg: 2661.232177734375 lr: 0.00031623\n",
      "Iter: 100/837, loss_train: 5.8801, loss_val: nan, pos_over_neg: 310.52398681640625 lr: 0.00031623\n",
      "Iter: 101/837, loss_train: 5.8656, loss_val: nan, pos_over_neg: 490.1001281738281 lr: 0.00031623\n",
      "Iter: 102/837, loss_train: 5.8662, loss_val: nan, pos_over_neg: 308.5888671875 lr: 0.00031623\n",
      "Iter: 103/837, loss_train: 5.8658, loss_val: nan, pos_over_neg: 465.91217041015625 lr: 0.00031623\n",
      "Iter: 104/837, loss_train: 5.8779, loss_val: nan, pos_over_neg: 407.46600341796875 lr: 0.00031623\n",
      "Iter: 105/837, loss_train: 5.8668, loss_val: nan, pos_over_neg: 801.1948852539062 lr: 0.00031623\n",
      "Iter: 106/837, loss_train: 5.8663, loss_val: nan, pos_over_neg: 776.4990234375 lr: 0.00031623\n",
      "Iter: 107/837, loss_train: 5.8657, loss_val: nan, pos_over_neg: 393.0799255371094 lr: 0.00031623\n",
      "Iter: 108/837, loss_train: 5.8693, loss_val: nan, pos_over_neg: 647.3087768554688 lr: 0.00031623\n",
      "Iter: 109/837, loss_train: 5.8564, loss_val: nan, pos_over_neg: 1342.677001953125 lr: 0.00031623\n",
      "Iter: 110/837, loss_train: 5.8629, loss_val: nan, pos_over_neg: 1099.333251953125 lr: 0.00031623\n",
      "Iter: 111/837, loss_train: 5.8775, loss_val: nan, pos_over_neg: 821.9187622070312 lr: 0.00031623\n",
      "Iter: 112/837, loss_train: 5.8592, loss_val: nan, pos_over_neg: 514.3704833984375 lr: 0.00031623\n",
      "Iter: 113/837, loss_train: 5.8622, loss_val: nan, pos_over_neg: 143.06179809570312 lr: 0.00031623\n",
      "Iter: 114/837, loss_train: 5.8559, loss_val: nan, pos_over_neg: 540.4335327148438 lr: 0.00031623\n",
      "Iter: 115/837, loss_train: 5.8516, loss_val: nan, pos_over_neg: 276.053466796875 lr: 0.00031623\n",
      "Iter: 116/837, loss_train: 5.8578, loss_val: nan, pos_over_neg: 373.4941101074219 lr: 0.00031623\n",
      "Iter: 117/837, loss_train: 5.853, loss_val: nan, pos_over_neg: 268.0338134765625 lr: 0.00031623\n",
      "Iter: 118/837, loss_train: 5.8632, loss_val: nan, pos_over_neg: 419.520263671875 lr: 0.00031623\n",
      "Iter: 119/837, loss_train: 5.8542, loss_val: nan, pos_over_neg: 268.01007080078125 lr: 0.00031623\n",
      "Iter: 120/837, loss_train: 5.8631, loss_val: nan, pos_over_neg: 232.33950805664062 lr: 0.00031623\n",
      "Iter: 121/837, loss_train: 5.8542, loss_val: nan, pos_over_neg: 500.7965087890625 lr: 0.00031623\n",
      "Iter: 122/837, loss_train: 5.8528, loss_val: nan, pos_over_neg: 388.40380859375 lr: 0.00031623\n",
      "Iter: 123/837, loss_train: 5.8553, loss_val: nan, pos_over_neg: 373.9879150390625 lr: 0.00031623\n",
      "Iter: 124/837, loss_train: 5.8454, loss_val: nan, pos_over_neg: 627.9420166015625 lr: 0.00031623\n",
      "Iter: 125/837, loss_train: 5.8409, loss_val: nan, pos_over_neg: 307.1653747558594 lr: 0.00031623\n",
      "Iter: 126/837, loss_train: 5.8393, loss_val: nan, pos_over_neg: 501.1844177246094 lr: 0.00031623\n",
      "Iter: 127/837, loss_train: 5.8417, loss_val: nan, pos_over_neg: 522.3045043945312 lr: 0.00031623\n",
      "Iter: 128/837, loss_train: 5.8465, loss_val: nan, pos_over_neg: 264.2266540527344 lr: 0.00031623\n",
      "Iter: 129/837, loss_train: 5.8564, loss_val: nan, pos_over_neg: 284.1260986328125 lr: 0.00031623\n",
      "Iter: 130/837, loss_train: 5.8502, loss_val: nan, pos_over_neg: 306.14410400390625 lr: 0.00031623\n",
      "Iter: 131/837, loss_train: 5.8479, loss_val: nan, pos_over_neg: 886.8699340820312 lr: 0.00031623\n",
      "Iter: 132/837, loss_train: 5.8461, loss_val: nan, pos_over_neg: 358.1023864746094 lr: 0.00031623\n",
      "Iter: 133/837, loss_train: 5.8367, loss_val: nan, pos_over_neg: 384.9792175292969 lr: 0.00031623\n",
      "Iter: 134/837, loss_train: 5.8362, loss_val: nan, pos_over_neg: 363.80462646484375 lr: 0.00031623\n",
      "Iter: 135/837, loss_train: 5.8392, loss_val: nan, pos_over_neg: 858.5704956054688 lr: 0.00031623\n",
      "Iter: 136/837, loss_train: 5.8431, loss_val: nan, pos_over_neg: 450.297119140625 lr: 0.00031623\n",
      "Iter: 137/837, loss_train: 5.8359, loss_val: nan, pos_over_neg: 254.33273315429688 lr: 0.00031623\n",
      "Iter: 138/837, loss_train: 5.8452, loss_val: nan, pos_over_neg: 397.3558349609375 lr: 0.00031623\n",
      "Iter: 139/837, loss_train: 5.831, loss_val: nan, pos_over_neg: 713.978515625 lr: 0.00031623\n",
      "Iter: 140/837, loss_train: 5.8422, loss_val: nan, pos_over_neg: 391.1512451171875 lr: 0.00031623\n",
      "Iter: 141/837, loss_train: 5.8428, loss_val: nan, pos_over_neg: 305.4024658203125 lr: 0.00031623\n",
      "Iter: 142/837, loss_train: 5.8543, loss_val: nan, pos_over_neg: 428.7210693359375 lr: 0.00031623\n",
      "Iter: 143/837, loss_train: 5.8299, loss_val: nan, pos_over_neg: 333.17376708984375 lr: 0.00031623\n",
      "Iter: 144/837, loss_train: 5.8278, loss_val: nan, pos_over_neg: 189.90306091308594 lr: 0.00031623\n",
      "Iter: 145/837, loss_train: 5.8411, loss_val: nan, pos_over_neg: 618.7618408203125 lr: 0.00031623\n",
      "Iter: 146/837, loss_train: 5.8313, loss_val: nan, pos_over_neg: 451.81341552734375 lr: 0.00031623\n",
      "Iter: 147/837, loss_train: 5.8411, loss_val: nan, pos_over_neg: 342.7109069824219 lr: 0.00031623\n",
      "Iter: 148/837, loss_train: 5.834, loss_val: nan, pos_over_neg: 457.5461120605469 lr: 0.00031623\n",
      "Iter: 149/837, loss_train: 5.8324, loss_val: nan, pos_over_neg: 367.63433837890625 lr: 0.00031623\n",
      "Iter: 150/837, loss_train: 5.8126, loss_val: nan, pos_over_neg: 1022.8072509765625 lr: 0.00031623\n",
      "Iter: 151/837, loss_train: 5.828, loss_val: nan, pos_over_neg: 634.947265625 lr: 0.00031623\n",
      "Iter: 152/837, loss_train: 5.8222, loss_val: nan, pos_over_neg: 353.35662841796875 lr: 0.00031623\n",
      "Iter: 153/837, loss_train: 5.8162, loss_val: nan, pos_over_neg: 2727.234130859375 lr: 0.00031623\n",
      "Iter: 154/837, loss_train: 5.828, loss_val: nan, pos_over_neg: 234.20498657226562 lr: 0.00031623\n",
      "Iter: 155/837, loss_train: 5.825, loss_val: nan, pos_over_neg: 309.64813232421875 lr: 0.00031623\n",
      "Iter: 156/837, loss_train: 5.8143, loss_val: nan, pos_over_neg: 618.6947631835938 lr: 0.00031623\n",
      "Iter: 157/837, loss_train: 5.819, loss_val: nan, pos_over_neg: 900.8540649414062 lr: 0.00031623\n",
      "Iter: 158/837, loss_train: 5.8207, loss_val: nan, pos_over_neg: 808.4173583984375 lr: 0.00031623\n",
      "Iter: 159/837, loss_train: 5.8204, loss_val: nan, pos_over_neg: 1174.513427734375 lr: 0.00031623\n",
      "Iter: 160/837, loss_train: 5.8114, loss_val: nan, pos_over_neg: 395.0368347167969 lr: 0.00031623\n",
      "Iter: 161/837, loss_train: 5.822, loss_val: nan, pos_over_neg: 317.670166015625 lr: 0.00031623\n",
      "Iter: 162/837, loss_train: 5.8192, loss_val: nan, pos_over_neg: 636.8624877929688 lr: 0.00031623\n",
      "Iter: 163/837, loss_train: 5.8235, loss_val: nan, pos_over_neg: 421.6488342285156 lr: 0.00031623\n",
      "Iter: 164/837, loss_train: 5.811, loss_val: nan, pos_over_neg: 417.74493408203125 lr: 0.00031623\n",
      "Iter: 165/837, loss_train: 5.8113, loss_val: nan, pos_over_neg: 385.69183349609375 lr: 0.00031623\n",
      "Iter: 166/837, loss_train: 5.8011, loss_val: nan, pos_over_neg: 1860.4007568359375 lr: 0.00031623\n",
      "Iter: 167/837, loss_train: 5.8054, loss_val: nan, pos_over_neg: 508.71539306640625 lr: 0.00031623\n",
      "Iter: 168/837, loss_train: 5.8159, loss_val: nan, pos_over_neg: 503.13641357421875 lr: 0.00031623\n",
      "Iter: 169/837, loss_train: 5.8061, loss_val: nan, pos_over_neg: 3363.334716796875 lr: 0.00031623\n",
      "Iter: 170/837, loss_train: 5.8146, loss_val: nan, pos_over_neg: 489.7148132324219 lr: 0.00031623\n",
      "Iter: 171/837, loss_train: 5.8078, loss_val: nan, pos_over_neg: 534.8412475585938 lr: 0.00031623\n",
      "Iter: 172/837, loss_train: 5.8138, loss_val: nan, pos_over_neg: 531.9989624023438 lr: 0.00031623\n",
      "Iter: 173/837, loss_train: 5.8055, loss_val: nan, pos_over_neg: 2289.01220703125 lr: 0.00031623\n",
      "Iter: 174/837, loss_train: 5.8081, loss_val: nan, pos_over_neg: 884.7293090820312 lr: 0.00031623\n",
      "Iter: 175/837, loss_train: 5.8108, loss_val: nan, pos_over_neg: 3460.802734375 lr: 0.00031623\n",
      "Iter: 176/837, loss_train: 5.8171, loss_val: nan, pos_over_neg: 793.9096069335938 lr: 0.00031623\n",
      "Iter: 177/837, loss_train: 5.8158, loss_val: nan, pos_over_neg: 388.76019287109375 lr: 0.00031623\n",
      "Iter: 178/837, loss_train: 5.8074, loss_val: nan, pos_over_neg: 565.1683349609375 lr: 0.00031623\n",
      "Iter: 179/837, loss_train: 5.8071, loss_val: nan, pos_over_neg: 288.39178466796875 lr: 0.00031623\n",
      "Iter: 180/837, loss_train: 5.8116, loss_val: nan, pos_over_neg: 340.8675231933594 lr: 0.00031623\n",
      "Iter: 181/837, loss_train: 5.7904, loss_val: nan, pos_over_neg: 590.5940551757812 lr: 0.00031623\n",
      "Iter: 182/837, loss_train: 5.8104, loss_val: nan, pos_over_neg: 249.9086151123047 lr: 0.00031623\n",
      "Iter: 183/837, loss_train: 5.8114, loss_val: nan, pos_over_neg: 461.47015380859375 lr: 0.00031623\n",
      "Iter: 184/837, loss_train: 5.8083, loss_val: nan, pos_over_neg: 379.1003112792969 lr: 0.00031623\n",
      "Iter: 185/837, loss_train: 5.7985, loss_val: nan, pos_over_neg: 351.81451416015625 lr: 0.00031623\n",
      "Iter: 186/837, loss_train: 5.8062, loss_val: nan, pos_over_neg: 463.0279541015625 lr: 0.00031623\n",
      "Iter: 187/837, loss_train: 5.81, loss_val: nan, pos_over_neg: 413.1417541503906 lr: 0.00031623\n",
      "Iter: 188/837, loss_train: 5.8107, loss_val: nan, pos_over_neg: 166.72804260253906 lr: 0.00031623\n",
      "Iter: 189/837, loss_train: 5.8009, loss_val: nan, pos_over_neg: 196.18923950195312 lr: 0.00031623\n",
      "Iter: 190/837, loss_train: 5.8051, loss_val: nan, pos_over_neg: 348.910888671875 lr: 0.00031623\n",
      "Iter: 191/837, loss_train: 5.7941, loss_val: nan, pos_over_neg: 541.415771484375 lr: 0.00031623\n",
      "Iter: 192/837, loss_train: 5.8069, loss_val: nan, pos_over_neg: 334.0915222167969 lr: 0.00031623\n",
      "Iter: 193/837, loss_train: 5.8089, loss_val: nan, pos_over_neg: 599.425537109375 lr: 0.00031623\n",
      "Iter: 194/837, loss_train: 5.7945, loss_val: nan, pos_over_neg: 374.25140380859375 lr: 0.00031623\n",
      "Iter: 195/837, loss_train: 5.7992, loss_val: nan, pos_over_neg: 829.393798828125 lr: 0.00031623\n",
      "Iter: 196/837, loss_train: 5.7905, loss_val: nan, pos_over_neg: 799.352294921875 lr: 0.00031623\n",
      "Iter: 197/837, loss_train: 5.7948, loss_val: nan, pos_over_neg: 470.9934387207031 lr: 0.00031623\n",
      "Iter: 198/837, loss_train: 5.7869, loss_val: nan, pos_over_neg: 546.1205444335938 lr: 0.00031623\n",
      "Iter: 199/837, loss_train: 5.7968, loss_val: nan, pos_over_neg: 352.0303039550781 lr: 0.00031623\n",
      "Iter: 200/837, loss_train: 5.7892, loss_val: nan, pos_over_neg: 312.2665100097656 lr: 0.00031623\n",
      "Iter: 201/837, loss_train: 5.787, loss_val: nan, pos_over_neg: 845.2947998046875 lr: 0.00031623\n",
      "Iter: 202/837, loss_train: 5.7786, loss_val: nan, pos_over_neg: 682.9636840820312 lr: 0.00031623\n",
      "Iter: 203/837, loss_train: 5.798, loss_val: nan, pos_over_neg: 306.91290283203125 lr: 0.00031623\n",
      "Iter: 204/837, loss_train: 5.784, loss_val: nan, pos_over_neg: 643.7186889648438 lr: 0.00031623\n",
      "Iter: 205/837, loss_train: 5.7915, loss_val: nan, pos_over_neg: 885.982177734375 lr: 0.00031623\n",
      "Iter: 206/837, loss_train: 5.8017, loss_val: nan, pos_over_neg: 297.03912353515625 lr: 0.00031623\n",
      "Iter: 207/837, loss_train: 5.8135, loss_val: nan, pos_over_neg: 507.3099670410156 lr: 0.00031623\n",
      "Iter: 208/837, loss_train: 5.7949, loss_val: nan, pos_over_neg: 412.73388671875 lr: 0.00031623\n",
      "Iter: 209/837, loss_train: 5.7836, loss_val: nan, pos_over_neg: -22316.591796875 lr: 0.00031623\n",
      "Iter: 210/837, loss_train: 5.7979, loss_val: nan, pos_over_neg: 481.84625244140625 lr: 0.00031623\n",
      "Iter: 211/837, loss_train: 5.7797, loss_val: nan, pos_over_neg: 374.55126953125 lr: 0.00031623\n",
      "Iter: 212/837, loss_train: 5.7765, loss_val: nan, pos_over_neg: 696.863037109375 lr: 0.00031623\n",
      "Iter: 213/837, loss_train: 5.7864, loss_val: nan, pos_over_neg: 297.2195739746094 lr: 0.00031623\n",
      "Iter: 214/837, loss_train: 5.7887, loss_val: nan, pos_over_neg: 256.9002685546875 lr: 0.00031623\n",
      "Iter: 215/837, loss_train: 5.799, loss_val: nan, pos_over_neg: 207.52911376953125 lr: 0.00031623\n",
      "Iter: 216/837, loss_train: 5.7884, loss_val: nan, pos_over_neg: 326.92926025390625 lr: 0.00031623\n",
      "Iter: 217/837, loss_train: 5.7864, loss_val: nan, pos_over_neg: 400.4986267089844 lr: 0.00031623\n",
      "Iter: 218/837, loss_train: 5.7869, loss_val: nan, pos_over_neg: 395.9144287109375 lr: 0.00031623\n",
      "Iter: 219/837, loss_train: 5.7853, loss_val: nan, pos_over_neg: 1000.4178466796875 lr: 0.00031623\n",
      "Iter: 220/837, loss_train: 5.7861, loss_val: nan, pos_over_neg: 1166.0443115234375 lr: 0.00031623\n",
      "Iter: 221/837, loss_train: 5.7797, loss_val: nan, pos_over_neg: 446.2542419433594 lr: 0.00031623\n",
      "Iter: 222/837, loss_train: 5.7867, loss_val: nan, pos_over_neg: 247.44419860839844 lr: 0.00031623\n",
      "Iter: 223/837, loss_train: 5.7912, loss_val: nan, pos_over_neg: 313.62115478515625 lr: 0.00031623\n",
      "Iter: 224/837, loss_train: 5.7795, loss_val: nan, pos_over_neg: 907.7901000976562 lr: 0.00031623\n",
      "Iter: 225/837, loss_train: 5.7802, loss_val: nan, pos_over_neg: 422.9535827636719 lr: 0.00031623\n",
      "Iter: 226/837, loss_train: 5.7865, loss_val: nan, pos_over_neg: 697.89794921875 lr: 0.00031623\n",
      "Iter: 227/837, loss_train: 5.7798, loss_val: nan, pos_over_neg: 477.0083923339844 lr: 0.00031623\n",
      "Iter: 228/837, loss_train: 5.7746, loss_val: nan, pos_over_neg: 562.2255859375 lr: 0.00031623\n",
      "Iter: 229/837, loss_train: 5.7762, loss_val: nan, pos_over_neg: 453.6512451171875 lr: 0.00031623\n",
      "Iter: 230/837, loss_train: 5.7777, loss_val: nan, pos_over_neg: 220.98968505859375 lr: 0.00031623\n",
      "Iter: 231/837, loss_train: 5.7842, loss_val: nan, pos_over_neg: 334.8814697265625 lr: 0.00031623\n",
      "Iter: 232/837, loss_train: 5.7724, loss_val: nan, pos_over_neg: 427.69586181640625 lr: 0.00031623\n",
      "Iter: 233/837, loss_train: 5.7749, loss_val: nan, pos_over_neg: 1160.392333984375 lr: 0.00031623\n",
      "Iter: 234/837, loss_train: 5.7729, loss_val: nan, pos_over_neg: 862.4073486328125 lr: 0.00031623\n",
      "Iter: 235/837, loss_train: 5.7696, loss_val: nan, pos_over_neg: 516.0125732421875 lr: 0.00031623\n",
      "Iter: 236/837, loss_train: 5.7682, loss_val: nan, pos_over_neg: 331.9211730957031 lr: 0.00031623\n",
      "Iter: 237/837, loss_train: 5.7635, loss_val: nan, pos_over_neg: 691.4659423828125 lr: 0.00031623\n",
      "Iter: 238/837, loss_train: 5.7719, loss_val: nan, pos_over_neg: 515.033447265625 lr: 0.00031623\n",
      "Iter: 239/837, loss_train: 5.7689, loss_val: nan, pos_over_neg: 1765.8585205078125 lr: 0.00031623\n",
      "Iter: 240/837, loss_train: 5.7727, loss_val: nan, pos_over_neg: 552.7230834960938 lr: 0.00031623\n",
      "Iter: 241/837, loss_train: 5.7799, loss_val: nan, pos_over_neg: 1001.7974853515625 lr: 0.00031623\n",
      "Iter: 242/837, loss_train: 5.7559, loss_val: nan, pos_over_neg: 370.6485595703125 lr: 0.00031623\n",
      "Iter: 243/837, loss_train: 5.7887, loss_val: nan, pos_over_neg: 293.6191711425781 lr: 0.00031623\n",
      "Iter: 244/837, loss_train: 5.7802, loss_val: nan, pos_over_neg: 849.7791748046875 lr: 0.00031623\n",
      "Iter: 245/837, loss_train: 5.7604, loss_val: nan, pos_over_neg: 386.9622802734375 lr: 0.00031623\n",
      "Iter: 246/837, loss_train: 5.7617, loss_val: nan, pos_over_neg: 392.3930969238281 lr: 0.00031623\n",
      "Iter: 247/837, loss_train: 5.7719, loss_val: nan, pos_over_neg: 536.300048828125 lr: 0.00031623\n",
      "Iter: 248/837, loss_train: 5.767, loss_val: nan, pos_over_neg: 286.7568054199219 lr: 0.00031623\n",
      "Iter: 249/837, loss_train: 5.7697, loss_val: nan, pos_over_neg: 388.4459228515625 lr: 0.00031623\n",
      "Iter: 250/837, loss_train: 5.7692, loss_val: nan, pos_over_neg: 408.8941345214844 lr: 0.00031623\n",
      "Iter: 251/837, loss_train: 5.756, loss_val: nan, pos_over_neg: 386.99822998046875 lr: 0.00031623\n",
      "Iter: 252/837, loss_train: 5.7687, loss_val: nan, pos_over_neg: 653.347900390625 lr: 0.00031623\n",
      "Iter: 253/837, loss_train: 5.7615, loss_val: nan, pos_over_neg: 974.0298461914062 lr: 0.00031623\n",
      "Iter: 254/837, loss_train: 5.755, loss_val: nan, pos_over_neg: 338.9695129394531 lr: 0.00031623\n",
      "Iter: 255/837, loss_train: 5.7615, loss_val: nan, pos_over_neg: 289.9014587402344 lr: 0.00031623\n",
      "Iter: 256/837, loss_train: 5.766, loss_val: nan, pos_over_neg: 699.2230224609375 lr: 0.00031623\n",
      "Iter: 257/837, loss_train: 5.7732, loss_val: nan, pos_over_neg: 390.6187744140625 lr: 0.00031623\n",
      "Iter: 258/837, loss_train: 5.7548, loss_val: nan, pos_over_neg: 328.4166564941406 lr: 0.00031623\n",
      "Iter: 259/837, loss_train: 5.7787, loss_val: nan, pos_over_neg: 622.3123168945312 lr: 0.00031623\n",
      "Iter: 260/837, loss_train: 5.7563, loss_val: nan, pos_over_neg: 397.4289245605469 lr: 0.00031623\n",
      "Iter: 261/837, loss_train: 5.7652, loss_val: nan, pos_over_neg: 316.20465087890625 lr: 0.00031623\n",
      "Iter: 262/837, loss_train: 5.7581, loss_val: nan, pos_over_neg: 324.1072998046875 lr: 0.00031623\n",
      "Iter: 263/837, loss_train: 5.7447, loss_val: nan, pos_over_neg: 909.4287109375 lr: 0.00031623\n",
      "Iter: 264/837, loss_train: 5.7567, loss_val: nan, pos_over_neg: 627.4969482421875 lr: 0.00031623\n",
      "Iter: 265/837, loss_train: 5.7546, loss_val: nan, pos_over_neg: 297.21484375 lr: 0.00031623\n",
      "Iter: 266/837, loss_train: 5.7526, loss_val: nan, pos_over_neg: 1951.797119140625 lr: 0.00031623\n",
      "Iter: 267/837, loss_train: 5.763, loss_val: nan, pos_over_neg: 426.1041564941406 lr: 0.00031623\n",
      "Iter: 268/837, loss_train: 5.7614, loss_val: nan, pos_over_neg: 461.3689270019531 lr: 0.00031623\n",
      "Iter: 269/837, loss_train: 5.7514, loss_val: nan, pos_over_neg: 553.1757202148438 lr: 0.00031623\n",
      "Iter: 270/837, loss_train: 5.739, loss_val: nan, pos_over_neg: 332.3763427734375 lr: 0.00031623\n",
      "Iter: 271/837, loss_train: 5.7565, loss_val: nan, pos_over_neg: 410.14447021484375 lr: 0.00031623\n",
      "Iter: 272/837, loss_train: 5.753, loss_val: nan, pos_over_neg: 279.2484130859375 lr: 0.00031623\n",
      "Iter: 273/837, loss_train: 5.7624, loss_val: nan, pos_over_neg: 384.1116638183594 lr: 0.00031623\n",
      "Iter: 274/837, loss_train: 5.7399, loss_val: nan, pos_over_neg: 731.6083984375 lr: 0.00031623\n",
      "Iter: 275/837, loss_train: 5.7554, loss_val: nan, pos_over_neg: 785.5494995117188 lr: 0.00031623\n",
      "Iter: 276/837, loss_train: 5.7489, loss_val: nan, pos_over_neg: 464.9634704589844 lr: 0.00031623\n",
      "Iter: 277/837, loss_train: 5.7504, loss_val: nan, pos_over_neg: 851.3036499023438 lr: 0.00031623\n",
      "Iter: 278/837, loss_train: 5.7422, loss_val: nan, pos_over_neg: 437.77606201171875 lr: 0.00031623\n",
      "Iter: 279/837, loss_train: 5.7499, loss_val: nan, pos_over_neg: 896.06494140625 lr: 0.00031623\n",
      "Iter: 280/837, loss_train: 5.7462, loss_val: nan, pos_over_neg: 355.206298828125 lr: 0.00031623\n",
      "Iter: 281/837, loss_train: 5.746, loss_val: nan, pos_over_neg: 439.5569763183594 lr: 0.00031623\n",
      "Iter: 282/837, loss_train: 5.7569, loss_val: nan, pos_over_neg: 584.6903686523438 lr: 0.00031623\n",
      "Iter: 283/837, loss_train: 5.7498, loss_val: nan, pos_over_neg: 783.4505615234375 lr: 0.00031623\n",
      "Iter: 284/837, loss_train: 5.7502, loss_val: nan, pos_over_neg: 521.4434204101562 lr: 0.00031623\n",
      "Iter: 285/837, loss_train: 5.7517, loss_val: nan, pos_over_neg: 350.70947265625 lr: 0.00031623\n",
      "Iter: 286/837, loss_train: 5.7478, loss_val: nan, pos_over_neg: 1393.7803955078125 lr: 0.00031623\n",
      "Iter: 287/837, loss_train: 5.756, loss_val: nan, pos_over_neg: 791.1044921875 lr: 0.00031623\n",
      "Iter: 288/837, loss_train: 5.7675, loss_val: nan, pos_over_neg: 288.75225830078125 lr: 0.00031623\n",
      "Iter: 289/837, loss_train: 5.7485, loss_val: nan, pos_over_neg: 389.0113830566406 lr: 0.00031623\n",
      "Iter: 290/837, loss_train: 5.7478, loss_val: nan, pos_over_neg: 432.6339111328125 lr: 0.00031623\n",
      "Iter: 291/837, loss_train: 5.7537, loss_val: nan, pos_over_neg: 374.6126403808594 lr: 0.00031623\n",
      "Iter: 292/837, loss_train: 5.7486, loss_val: nan, pos_over_neg: 448.993896484375 lr: 0.00031623\n",
      "Iter: 293/837, loss_train: 5.7468, loss_val: nan, pos_over_neg: 236.5670928955078 lr: 0.00031623\n",
      "Iter: 294/837, loss_train: 5.7541, loss_val: nan, pos_over_neg: 568.0277709960938 lr: 0.00031623\n",
      "Iter: 295/837, loss_train: 5.7469, loss_val: nan, pos_over_neg: 284.0054626464844 lr: 0.00031623\n",
      "Iter: 296/837, loss_train: 5.7549, loss_val: nan, pos_over_neg: 303.8808898925781 lr: 0.00031623\n",
      "Iter: 297/837, loss_train: 5.7563, loss_val: nan, pos_over_neg: 1028.0323486328125 lr: 0.00031623\n",
      "Iter: 298/837, loss_train: 5.7338, loss_val: nan, pos_over_neg: 1180.2255859375 lr: 0.00031623\n",
      "Iter: 299/837, loss_train: 5.7524, loss_val: nan, pos_over_neg: 635.4098510742188 lr: 0.00031623\n",
      "Iter: 300/837, loss_train: 5.7388, loss_val: nan, pos_over_neg: 1348.9378662109375 lr: 0.00031623\n",
      "Iter: 301/837, loss_train: 5.7459, loss_val: nan, pos_over_neg: 368.1101379394531 lr: 0.00031623\n",
      "Iter: 302/837, loss_train: 5.7394, loss_val: nan, pos_over_neg: 562.2918090820312 lr: 0.00031623\n",
      "Iter: 303/837, loss_train: 5.7397, loss_val: nan, pos_over_neg: 748.1890869140625 lr: 0.00031623\n",
      "Iter: 304/837, loss_train: 5.7414, loss_val: nan, pos_over_neg: 634.7810668945312 lr: 0.00031623\n",
      "Iter: 305/837, loss_train: 5.7373, loss_val: nan, pos_over_neg: 456.3442077636719 lr: 0.00031623\n",
      "Iter: 306/837, loss_train: 5.7351, loss_val: nan, pos_over_neg: 511.2315979003906 lr: 0.00031623\n",
      "Iter: 307/837, loss_train: 5.7439, loss_val: nan, pos_over_neg: 617.7279052734375 lr: 0.00031623\n",
      "Iter: 308/837, loss_train: 5.7467, loss_val: nan, pos_over_neg: 314.5542907714844 lr: 0.00031623\n",
      "Iter: 309/837, loss_train: 5.7446, loss_val: nan, pos_over_neg: 467.9491882324219 lr: 0.00031623\n",
      "Iter: 310/837, loss_train: 5.748, loss_val: nan, pos_over_neg: 541.1666259765625 lr: 0.00031623\n",
      "Iter: 311/837, loss_train: 5.732, loss_val: nan, pos_over_neg: 801.4232177734375 lr: 0.00031623\n",
      "Iter: 312/837, loss_train: 5.7414, loss_val: nan, pos_over_neg: 2156.638671875 lr: 0.00031623\n",
      "Iter: 313/837, loss_train: 5.7453, loss_val: nan, pos_over_neg: 625.7158813476562 lr: 0.00031623\n",
      "Iter: 314/837, loss_train: 5.7432, loss_val: nan, pos_over_neg: 447.1019592285156 lr: 0.00031623\n",
      "Iter: 315/837, loss_train: 5.7314, loss_val: nan, pos_over_neg: 689.6838989257812 lr: 0.00031623\n",
      "Iter: 316/837, loss_train: 5.7378, loss_val: nan, pos_over_neg: 1766.5487060546875 lr: 0.00031623\n",
      "Iter: 317/837, loss_train: 5.7359, loss_val: nan, pos_over_neg: 1038.790283203125 lr: 0.00031623\n",
      "Iter: 318/837, loss_train: 5.7295, loss_val: nan, pos_over_neg: 563.1306762695312 lr: 0.00031623\n",
      "Iter: 319/837, loss_train: 5.7352, loss_val: nan, pos_over_neg: 1942.1778564453125 lr: 0.00031623\n",
      "Iter: 320/837, loss_train: 5.7325, loss_val: nan, pos_over_neg: 742.384521484375 lr: 0.00031623\n",
      "Iter: 321/837, loss_train: 5.7377, loss_val: nan, pos_over_neg: 519.9873046875 lr: 0.00031623\n",
      "Iter: 322/837, loss_train: 5.7363, loss_val: nan, pos_over_neg: 332.0035095214844 lr: 0.00031623\n",
      "Iter: 323/837, loss_train: 5.7432, loss_val: nan, pos_over_neg: 556.2697143554688 lr: 0.00031623\n",
      "Iter: 324/837, loss_train: 5.7334, loss_val: nan, pos_over_neg: 1976.1392822265625 lr: 0.00031623\n",
      "Iter: 325/837, loss_train: 5.7302, loss_val: nan, pos_over_neg: 344.8951721191406 lr: 0.00031623\n",
      "Iter: 326/837, loss_train: 5.7401, loss_val: nan, pos_over_neg: 459.4930114746094 lr: 0.00031623\n",
      "Iter: 327/837, loss_train: 5.7398, loss_val: nan, pos_over_neg: 999.4723510742188 lr: 0.00031623\n",
      "Iter: 328/837, loss_train: 5.7401, loss_val: nan, pos_over_neg: 405.8121337890625 lr: 0.00031623\n",
      "Iter: 329/837, loss_train: 5.7293, loss_val: nan, pos_over_neg: 398.42462158203125 lr: 0.00031623\n",
      "Iter: 330/837, loss_train: 5.7336, loss_val: nan, pos_over_neg: 306.41949462890625 lr: 0.00031623\n",
      "Iter: 331/837, loss_train: 5.7392, loss_val: nan, pos_over_neg: 422.0277099609375 lr: 0.00031623\n",
      "Iter: 332/837, loss_train: 5.7372, loss_val: nan, pos_over_neg: 515.6207885742188 lr: 0.00031623\n",
      "Iter: 333/837, loss_train: 5.729, loss_val: nan, pos_over_neg: 1272.4976806640625 lr: 0.00031623\n",
      "Iter: 334/837, loss_train: 5.7277, loss_val: nan, pos_over_neg: 1530.8629150390625 lr: 0.00031623\n",
      "Iter: 335/837, loss_train: 5.7359, loss_val: nan, pos_over_neg: 627.7674560546875 lr: 0.00031623\n",
      "Iter: 336/837, loss_train: 5.7235, loss_val: nan, pos_over_neg: 426.48046875 lr: 0.00031623\n",
      "Iter: 337/837, loss_train: 5.7278, loss_val: nan, pos_over_neg: 630.8770751953125 lr: 0.00031623\n"
     ]
    }
   ],
   "source": [
    "<<<<<<< local\n",
    "=======\n",
    "model_file_name = 'ResNet18_simCLR_model_202112078_EOD_transfmod=parallelnet'\n",
    "model.forward = model.forward_latent\n",
    ">>>>>>> remote\n",
    "\n",
    "l2_alpha = 0.000\n",
    "\n",
    "n_epochs=300000\n",
    "for epoch in tqdm(range(n_epochs)):\n",
    "    print(f'epoch: {epoch}')\n",
    "    loss_rolling_train = training_simCLR.epoch_step(dataloader_train, \n",
    "                                    model, \n",
    "                                    optimizer, \n",
    "                                    criterion,\n",
    "                                    scheduler=scheduler,\n",
    "                                    temperature=0.5,\n",
    "                                    # l2_alpha,\n",
    "                                    mode='semi-supervised',\n",
    "                                    loss_rolling_train=losses_train, \n",
    "                                    loss_rolling_val=losses_val,\n",
    "                                    device=DEVICE, \n",
    "                                    verbose=2,\n",
    "                                    verbose_update_period=1,\n",
    "                                   \n",
    "#                                     do_validation=False,\n",
    "#                                     X_val=x_feed_through_val,\n",
    "#                                     y_val=torch.as_tensor(y_val, device=DEVICE)\n",
    "                                   )\n",
    "    \n",
    "    \n",
    "    torch.save(model.state_dict(), f'{base_dir}/github_repos/GCaMP_ROI_classifier/new_stuff/models/{model_file_name}.pth')\n",
    "\n",
    "    losses_train_npy = np.array(losses_train)\n",
    "    losses_val_npy = np.array(losses_val)\n",
    "    val_accs_npy = np.array(val_accs)\n",
    "    acc_npy = np.array(acc)\n",
    "\n",
    "    np.save(f'{base_dir}/github_repos/GCaMP_ROI_classifier/new_stuff/model_performance/{model_file_name}_losses_train.npy', losses_train_npy)\n",
    "    np.save(f'{base_dir}/github_repos/GCaMP_ROI_classifier/new_stuff/model_performance/{model_file_name}_losses_val.npy', losses_val_npy)\n",
    "    np.save(f'{base_dir}/github_repos/GCaMP_ROI_classifier/new_stuff/model_performance/{model_file_name}_val_accs.npy', val_accs_npy)\n",
    "    np.save(f'{base_dir}/github_repos/GCaMP_ROI_classifier/new_stuff/model_performance/{model_file_name}_tr_accs.npy', acc_npy)"
   ]
  },
  {
   "cell_type": "markdown",
   "metadata": {},
   "source": [
    "<span style=\"color:red\">**<<<<<<< local**</span>"
   ]
  },
  {
   "cell_type": "code",
   "execution_count": 66,
   "metadata": {},
   "outputs": [],
   "source": [
    "losses_train_npy = np.load(f'{base_dir}/github_repos/GCaMP_ROI_classifier/new_stuff/model_performance/{model_file_name}_losses_train.npy')\n",
    "losses_val_npy = np.load(f'{base_dir}/github_repos/GCaMP_ROI_classifier/new_stuff/model_performance/{model_file_name}_losses_val.npy')\n",
    "val_accs_npy = np.load(f'{base_dir}/github_repos/GCaMP_ROI_classifier/new_stuff/model_performance/{model_file_name}_val_accs.npy')\n",
    "acc_npy = np.load(f'{base_dir}/github_repos/GCaMP_ROI_classifier/new_stuff/model_performance/{model_file_name}_tr_accs.npy')\n",
    "\n",
    "losses_train = losses_train_npy\n",
    "losses_val = losses_val_npy\n",
    "val_accs = val_accs_npy\n",
    "acc = acc_npy"
   ]
  },
  {
   "cell_type": "markdown",
   "metadata": {},
   "source": [
    "<span style=\"color:red\">**=======**</span>"
   ]
  },
  {
   "cell_type": "code",
   "execution_count": null,
   "metadata": {},
   "outputs": [],
   "source": []
  },
  {
   "cell_type": "markdown",
   "metadata": {},
   "source": [
    "<span style=\"color:red\">**>>>>>>> remote**</span>"
   ]
  },
  {
   "cell_type": "code",
   "execution_count": null,
   "metadata": {
    "colab": {
     "base_uri": "https://localhost:8080/",
     "height": 421
    },
    "id": "af10GlccgaV4",
    "outputId": "2ec75ade-6308-4a67-89e4-4bf3f996f746"
   },
   "outputs": [],
   "source": [
    "# import seaborn as sns\n",
    "# sns.set(style='white', palette='bright', context='poster')\n",
    "plt.rcdefaults()\n",
    "\n",
    "%matplotlib inline\n",
    "plt.figure(figsize=(12,6))\n",
    "plt.plot(losses_train, label='Training Loss')\n",
    "plt.plot(losses_val, label='Validation Loss')\n",
    "<<<<<<< local\n",
    "plt.title(f'Loss — Balanced Transfer Learning, No Data Augmentation, L2 Lambda = {0}')\n",
    "=======\n",
    "plt.title(f'Loss — Balanced Transfer Learning, No Data Augmentation, L2 Lambda = {l2_alpha}')\n",
    ">>>>>>> remote\n",
    "plt.legend()\n",
    "plt.grid()\n",
    "plt.xlabel('Epoch Step')\n",
    "plt.ylabel('Loss')\n",
    "# plt.savefig('./Training-Loss.png')"
   ]
  },
  {
   "cell_type": "code",
   "execution_count": null,
   "metadata": {},
   "outputs": [],
   "source": [
    "break"
   ]
  },
  {
   "cell_type": "raw",
   "metadata": {
    "colab": {
     "base_uri": "https://localhost:8080/",
     "height": 706
    },
    "id": "Cl4TSsfc2MDy",
    "outputId": "ccc80bf3-a191-49ec-e635-dce022144cbe"
   },
   "source": [
    "%matplotlib inline\n",
    "plt.figure(figsize=(12,12))\n",
    "# val_transfer_cm = get_cm(features_val, y_val)\n",
    "# plt.imshow(val_transfer_cm)\n",
    "test_transfer_cm = get_cm(features_test, y_test)\n",
    "plt.imshow(test_transfer_cm)\n",
    "plt.colorbar()\n",
    "\n",
    "for i in range(test_transfer_cm.shape[0]):\n",
    "    for j in range(test_transfer_cm.shape[1]):\n",
    "        plt.annotate(np.round(test_transfer_cm[i,j], 3), (j,i), ha='center')\n",
    "plt.title(f'Test Confusion Matrix — Balanced Transfer Learning, No Augmentation, L2 Lambda = {l2_alpha}')\n",
    "plt.xlabel('True Class')\n",
    "plt.ylabel('Predicted Class')\n",
    "# plt.savefig('./Confusion-Matrix.png')\n"
   ]
  },
  {
   "cell_type": "code",
   "execution_count": null,
   "metadata": {
    "id": "rU8l0eP02TQR"
   },
   "outputs": [],
   "source": [
    "model_file_name = 'ResNet18_simCLR_model_202112078_temp=-1.0'\n",
    "\n",
    "# torch.save(model.state_dict(), '/media/rich/Home_Linux_partition/github_repos/GCaMP_ROI_classifier/new_stuff/models/ResNet18_simCLR_model_20211205_3.pth')\n",
    "torch.save(model.state_dict(), f'{base_dir}/github_repos/GCaMP_ROI_classifier/new_stuff/models/{model_file_name}.pth')"
   ]
  },
  {
   "cell_type": "code",
   "execution_count": null,
   "metadata": {},
   "outputs": [],
   "source": [
    "# model.load_state_dict(torch.load('/media/rich/Home_Linux_partition/github_repos/GCaMP_ROI_classifier/new_stuff/models/ResNet18_simCLR_model_20211205_2.pth'))\n",
    "<<<<<<< local\n",
    "model.load_state_dict(torch.load(f'{base_dir}/github_repos/GCaMP_ROI_classifier/new_stuff/models/{model_file_name}.pth', map_location=torch.device('cpu')))\n",
    "=======\n",
    "model.load_state_dict(torch.load(f'{base_dir}/github_repos/GCaMP_ROI_classifier/new_stuff/models/{model_file_name}.pth'))\n",
    ">>>>>>> remote"
   ]
  },
  {
   "cell_type": "code",
   "execution_count": null,
   "metadata": {},
   "outputs": [],
   "source": [
    "losses_train_npy = np.array(losses_train)\n",
    "losses_val_npy = np.array(losses_val)\n",
    "val_accs_npy = np.array(val_accs)\n",
    "acc_npy = np.array(acc)\n",
    "\n",
    "np.save(f'{base_dir}/github_repos/GCaMP_ROI_classifier/new_stuff/model_performance/{model_file_name}_losses_train.npy', losses_train_npy)\n",
    "np.save(f'{base_dir}/github_repos/GCaMP_ROI_classifier/new_stuff/model_performance/{model_file_name}_losses_val.npy', losses_val_npy)\n",
    "np.save(f'{base_dir}/github_repos/GCaMP_ROI_classifier/new_stuff/model_performance/{model_file_name}_val_accs.npy', val_accs_npy)\n",
    "np.save(f'{base_dir}/github_repos/GCaMP_ROI_classifier/new_stuff/model_performance/{model_file_name}_tr_accs.npy', acc_npy)"
   ]
  },
  {
   "cell_type": "code",
   "execution_count": null,
   "metadata": {},
   "outputs": [],
   "source": []
  },
  {
   "cell_type": "markdown",
   "metadata": {
    "id": "FEqA0gLPl3-6"
   },
   "source": [
    "## Train classifier using classifier layers of model (or do supervised learning)"
   ]
  },
  {
   "cell_type": "raw",
   "metadata": {
    "id": "fmMkNykeVHbn"
   },
   "source": [
    "test_transfer_cm = get_cm(features_test, y_test)\n",
    "np.save(f'/content/drive/MyDrive/00 - ROI/GCaMP_ROI_classifier/new_stuff/npy-figures/TestingCM-{\"Un\" if not balanced else \"\"}Balanced-Transfer—L2Lambda={l2_alpha}.npy',\n",
    "        test_transfer_cm)\n",
    "torch.save(model.state_dict(), f'/content/drive/MyDrive/00 - ROI/GCaMP_ROI_classifier/new_stuff/npy-figures/TestingCM-{\"Un\" if not balanced else \"\"}Balanced-Transfer—L2Lambda={l2_alpha}.pth')\n",
    "\n",
    "np.save(f'/content/drive/MyDrive/00 - ROI/GCaMP_ROI_classifier/new_stuff/npy-figures/TestingCM-{\"Un\" if not balanced else \"\"}Balanced-SKLearn-Solver={solver}—C={C_reg}.npy',\n",
    "        logistic_pred_test)"
   ]
  },
  {
   "cell_type": "raw",
   "metadata": {
    "id": "zo42G3CeWozY"
   },
   "source": [
    "from sklearn.metrics import confusion_matrix\n",
    "\n",
    "def get_cm(pred_cm, y_cm, plot=False):\n",
    "  ### NOTE — RETURNS A MATRIX WITH PREDICTION NUM ASSOCIATED WITH ROW NUM\n",
    "  ### AND COLUMN NUM ASSOCIATED WITH TRUE VALUE. (TRANSPOSE OF SKLEARN OUTPUT.)\n",
    "\n",
    "  cm = confusion_matrix(y_cm, np.argmax(pred_cm, -1))\n",
    "  cm = cm / np.where(cm.sum(1, keepdims=True)==0, np.ones_like(cm.sum(1, keepdims=True)), cm.sum(1, keepdims=True))\n",
    "  \n",
    "  # cm = classification.confusion_matrix(y_hat, y_labeled_val)\n",
    "  # print(cm)\n",
    "  \n",
    "  if plot:\n",
    "    plt.figure()\n",
    "    plt.imshow(cm)\n",
    "    plt.colorbar()\n",
    "    plt.show()\n",
    "  \n",
    "  return cm.T"
   ]
  },
  {
   "cell_type": "raw",
   "metadata": {
    "colab": {
     "base_uri": "https://localhost:8080/"
    },
    "id": "YWk_NgpNd2Ia",
    "outputId": "2959f230-bd91-46cd-e898-d270aade7e54"
   },
   "source": [
    "num_tr_ex = X_val.shape[0]\n",
    "\n",
    "\n",
    "# solver = 'lbfgs'\n",
    "solver = 'liblinear'\n",
    "# solver = 'newton-cg'\n",
    "C_reg = 0.01\n",
    "# C_reg = 0.0001\n",
    "\n",
    "\n",
    "# logreg = LogisticRegression(solver=solver, C=C_reg)\n",
    "# logreg = LogisticRegression(solver=solver, penalty='none', )\n",
    "# logreg = LogisticRegression(solver=solver, penalty='none', max_iter=4000)\n",
    "# logreg = LogisticRegression(solver=solver)\n",
    "logreg = LogisticRegression(solver=solver, C=C_reg)\n",
    "# logreg = LogisticRegression(solver='lbfgs', penalty='none', max_iter=4000)\n",
    "\n",
    "# base_features_train = base_model_frozen(x_feed_through_tr).detach().cpu()\n",
    "base_features_train = cpu_tr.cpu().detach().numpy()\n",
    "logreg.fit(base_features_train, y_train)\n",
    "\n",
    "# base_features_val = base_model_frozen(x_feed_through_val).detach().cpu()\n",
    "base_features_val = cpu_val.cpu().detach().numpy()\n",
    "\n",
    "base_features_te = cpu_te.cpu().detach().numpy()\n",
    "\n",
    "# base_model_frozen.to('cpu')\n",
    "# X_labeled_train.to('cpu')\n",
    "\n",
    "logistic_pred_train = get_cm(logreg.predict_proba(base_features_train), y_train)\n",
    "logistic_pred_val = get_cm(logreg.predict_proba(base_features_val), y_val)\n",
    "logistic_pred_test = get_cm(logreg.predict_proba(base_features_te), y_test)\n",
    "\n",
    "\n",
    "x_feed_through_tr.to(DEVICE)\n",
    "x_feed_through_val.to(DEVICE)\n",
    "x_feed_through_te.to(DEVICE)\n",
    "\n",
    "print(x_feed_through_tr.shape, x_feed_through_val.shape)"
   ]
  },
  {
   "cell_type": "code",
   "execution_count": null,
   "metadata": {
    "id": "WLH9o3jLl4G_"
   },
   "outputs": [],
   "source": []
  },
  {
   "cell_type": "markdown",
   "metadata": {
    "id": "QjNJk6Qwl4O3"
   },
   "source": [
    "Freeze pre-head layers, unfreeze classification layers"
   ]
  },
  {
   "cell_type": "markdown",
   "metadata": {
    "id": "Zq4toNxdl4jb"
   },
   "source": [
    "Define labeled dataset to use"
   ]
  },
  {
   "cell_type": "raw",
   "metadata": {
    "id": "MGvBSux9l4pn"
   },
   "source": [
    "X_labeled_train, X_labeled_val, y_labeled_train, y_labeled_val"
   ]
  },
  {
   "cell_type": "markdown",
   "metadata": {
    "id": "JS_mTd7cl4vI"
   },
   "source": [
    "Train model"
   ]
  },
  {
   "cell_type": "code",
   "execution_count": null,
   "metadata": {},
   "outputs": [],
   "source": [
    "from torch.nn import CrossEntropyLoss\n",
    "from torch.optim import Adam\n",
    "\n",
    "import numpy as np\n",
    "\n",
    "from sklearn.linear_model import LogisticRegression\n",
    "from sklearn.tree import DecisionTreeClassifier\n",
    "from sklearn.ensemble import RandomForestClassifier\n",
    "from sklearn.svm import SVC\n",
    "\n",
    "criterion = [CrossEntropyLoss()]\n",
    "# criterion = CrossEntropyLoss(reduction='none')\n",
    "\n",
    "# optimizer = Adam(model.parameters(), lr=1e-2, weight_decay=0.0)\n",
    "# optimizer = Adam(model.parameters(), lr=2e-2)\n",
    "optimizer = Adam(model.parameters(), lr=10**(-4.5))\n",
    "scheduler = torch.optim.lr_scheduler.ExponentialLR(optimizer,\n",
    "                                                   gamma=1-0.0000,\n",
    "#                                                    gamma=1,\n",
    "                                                  )\n",
    "criterion = [_.to(DEVICE) for _ in criterion]\n",
    "losses_train, losses_val, val_accs, acc = [], [np.nan], [], []"
   ]
  },
  {
   "cell_type": "code",
   "execution_count": null,
   "metadata": {},
   "outputs": [],
   "source": [
    "def transform_null(var):\n",
    "    return(var)"
   ]
  },
  {
   "cell_type": "code",
   "execution_count": null,
   "metadata": {},
   "outputs": [],
   "source": [
    "model.reinit_classifier()\n",
    "model.train()\n",
    "model.prep_classifier()"
   ]
  },
  {
   "cell_type": "code",
   "execution_count": null,
   "metadata": {},
   "outputs": [],
   "source": [
    "dataset_validation = util.dataset_simCLR(\n",
    "                                    torch.as_tensor(masks_cat, device='cpu', dtype=torch.float32), \n",
    "                                    torch.as_tensor(torch.zeros(masks_cat.shape[0]), device='cpu', dtype=torch.float32),\n",
    "\n",
    "                                    n_transforms=1,\n",
    "                                    class_weights=np.array([1]),\n",
    "                                    # class_weights=np.array([1]*4)[np.random.randint(0,4, X_train.shape[0])],\n",
    "                                    transform=scripted_transforms_validation,\n",
    "                                    # DEVICE='cpu',\n",
    "                                    DEVICE='cpu',\n",
    "                                    dtype_X=torch.float32,\n",
    "                                    dtype_y=torch.int64,\n",
    "                                    \n",
    "                                    temp_uncertainty=16\n",
    "                                    )\n",
    "dataloader_validation = torch.utils.data.DataLoader( dataset_validation,\n",
    "#                                                 batch_size=int(pct_batch_size*X_train.shape[0]),\n",
    "                                                batch_size=1024,\n",
    "                                                shuffle=True,\n",
    "                                                drop_last=True,\n",
    "                                                pin_memory=True,\n",
    "                                                num_workers=32,\n",
    "                                                persistent_workers=True,\n",
    "                                                # prefetch_factor=0\n",
    "                                                )"
   ]
  },
  {
   "cell_type": "code",
   "execution_count": null,
   "metadata": {
    "id": "v4WvU5xxl41A"
   },
   "outputs": [],
   "source": [
    "data_unlabeled = torch.as_tensor(masks_cat, dtype=torch.float32, device='cpu')\n",
    "\n",
    "# model.to(DEVICE)\n",
    "\n",
    "l2_alpha = 0.000\n",
    "\n",
    "n_epochs=300000\n",
    "for epoch in range(n_epochs):\n",
    "    print(f'epoch: {epoch}')\n",
    "    loss_rolling_train = training_simCLR.epoch_step(dataloader_validation, \n",
    "                                    model, \n",
    "                                    optimizer, \n",
    "                                    criterion, \n",
    "\n",
    "                                    # penalized_params, l2_alpha,\n",
    "\n",
    "                                    scheduler=scheduler,\n",
    "                                    L2_alpha=0.04,\n",
    "                                    mode='supervised',\n",
    "                                    loss_rolling_train=losses_train, \n",
    "                                    device=DEVICE, \n",
    "                                    loss_rolling_val=losses_val,\n",
    "                                    verbose=2,\n",
    "                                    verbose_update_period=1,\n",
    "                                   \n",
    "#                                     do_validation=False,\n",
    "#                                     X_val=x_feed_through_val,\n",
    "#                                     y_val=torch.as_tensor(y_val, device=DEVICE)\n",
    "                                   )"
   ]
  },
  {
   "cell_type": "markdown",
   "metadata": {
    "id": "HAcpUsTJl46l"
   },
   "source": [
    "Evalculate model"
   ]
  },
  {
   "cell_type": "code",
   "execution_count": null,
   "metadata": {
    "id": "aHaYL5XjaBfP"
   },
   "outputs": [],
   "source": [
    "%matplotlib notebook\n",
    "\n",
    "plt.figure()\n",
    "plt.plot(loss_rolling_train)\n",
    "\n",
    "data_in = torch.as_tensor(X_labeled_val, dtype=torch.float32, device=DEVICE)\n",
    "# data_in = torch.as_tensor(X_labeled_train, dtype=torch.float32, device=DEVICE)\n",
    "data_in = util.tile_channels(data_in[:,None,...], dim=1)\n",
    "proba = torch.nn.functional.softmax(model.forward_classifier(data_in), dim=1)\n",
    "cm = classification.confusion_matrix(proba.detach().cpu().numpy(), y_labeled_val)\n",
    "# cm = classification.confusion_matrix(proba.detach().cpu().numpy(), y_labeled_train)\n",
    "\n",
    "plt.figure()\n",
    "plt.imshow(cm, aspect='auto')\n",
    "plt.colorbar()"
   ]
  },
  {
   "cell_type": "code",
   "execution_count": null,
   "metadata": {
    "id": "aHaYL5XjaBfP"
   },
   "outputs": [],
   "source": [
    "%matplotlib notebook\n",
    "data_in = torch.as_tensor(X_labeled_train, dtype=torch.float32, device=DEVICE)\n",
    "data_in = util.tile_channels(data_in[:,None,...], dim=1)\n",
    "proba = torch.nn.functional.softmax(model.forward_classifier(data_in), dim=1)\n",
    "cm = classification.confusion_matrix(proba.detach().cpu().numpy(), y_labeled_train)\n",
    "\n",
    "plt.figure()\n",
    "plt.imshow(cm)\n",
    "plt.colorbar()"
   ]
  },
  {
   "cell_type": "code",
   "execution_count": null,
   "metadata": {
    "id": "QNlRDjrVaCD-"
   },
   "outputs": [],
   "source": []
  },
  {
   "cell_type": "code",
   "execution_count": null,
   "metadata": {},
   "outputs": [],
   "source": []
  },
  {
   "cell_type": "code",
   "execution_count": null,
   "metadata": {},
   "outputs": [],
   "source": []
  },
  {
   "cell_type": "code",
   "execution_count": null,
   "metadata": {},
   "outputs": [],
   "source": []
  },
  {
   "cell_type": "markdown",
   "metadata": {},
   "source": [
    "## Use sklearn to train classifier"
   ]
  },
  {
   "cell_type": "code",
   "execution_count": null,
   "metadata": {
    "id": "rU8l0eP02TQR"
   },
   "outputs": [],
   "source": [
    "transforms_validation = torch.nn.Sequential(\n",
    "    augmentation.ScaleDynamicRange(scaler_bounds=(0,1)),\n",
    "    torchvision.transforms.Resize(size=(224,224),\n",
    "                                  interpolation=torchvision.transforms.InterpolationMode.BILINEAR), \n",
    "    augmentation.TileChannels(dim=0, n_channels=3),\n",
    "#     augmentation.Normalize(  means=[0.485, 0.456, 0.406],\n",
    "#                              stds=[0.229, 0.224, 0.225]),\n",
    "#     torchvision.transforms.Normalize(mean=[0.485, 0.456, 0.406],\n",
    "#                                      std=[0.229, 0.224, 0.225],\n",
    "#                                      inplace=False),\n",
    ")\n",
    "scripted_transforms_validation = torch.jit.script(transforms_validation)\n",
    "# scripted_transforms = transforms\n"
   ]
  },
  {
   "cell_type": "code",
   "execution_count": null,
   "metadata": {},
   "outputs": [],
   "source": [
    "dataset_labeled_train = util.dataset_simCLR(\n",
    "                                    torch.as_tensor(X_labeled_train, device='cpu', dtype=torch.float32), \n",
    "                                    # torch.as_tensor(X_labeled_train_SYT, device='cpu', dtype=torch.float32), \n",
    "                                    torch.as_tensor(torch.zeros(X_labeled_train.shape[0]), device='cpu', dtype=torch.float32),\n",
    "                                    # torch.as_tensor(torch.zeros(X_labeled_train_SYT.shape[0]), device='cpu', dtype=torch.float32),\n",
    "\n",
    "                                    n_transforms=1,\n",
    "                                    class_weights=np.array([1]),\n",
    "                                    # class_weights=np.array([1]*4)[np.random.randint(0,4, X_train.shape[0])],\n",
    "                                    transform=scripted_transforms_validation,\n",
    "                                    # DEVICE='cpu',\n",
    "                                    DEVICE='cpu',\n",
    "                                    dtype_X=torch.float32,\n",
    "                                    dtype_y=torch.int64,\n",
    "                                    \n",
    "                                    temp_uncertainty=16\n",
    "                                    )\n",
    "dataset_labeled_val = util.dataset_simCLR(\n",
    "                                    torch.as_tensor(X_labeled_val, device='cpu', dtype=torch.float32), \n",
    "                                    # torch.as_tensor(X_labeled_val_SYT, device='cpu', dtype=torch.float32), \n",
    "                                    torch.as_tensor(torch.zeros(X_labeled_val.shape[0]), device='cpu', dtype=torch.float32),\n",
    "                                    # torch.as_tensor(torch.zeros(X_labeled_val_SYT.shape[0]), device='cpu', dtype=torch.float32),\n",
    "\n",
    "                                    n_transforms=1,\n",
    "                                    class_weights=np.array([1]),\n",
    "                                    # class_weights=np.array([1]*4)[np.random.randint(0,4, X_train.shape[0])],\n",
    "                                    transform=scripted_transforms_validation,\n",
    "                                    # DEVICE='cpu',\n",
    "                                    DEVICE='cpu',\n",
    "                                    dtype_X=torch.float32,\n",
    "                                    dtype_y=torch.int64,\n",
    "                                    \n",
    "                                    temp_uncertainty=16\n",
    "                                    )\n",
    "dataloader_labeled_train = torch.utils.data.DataLoader( dataset_labeled_train,\n",
    "    #                                                 batch_size=int(pct_batch_size*X_train.shape[0]),\n",
    "                                                    batch_size=1024,\n",
    "                                                    shuffle=False,\n",
    "                                                    drop_last=False,\n",
    "<<<<<<< local\n",
    "#                                                     pin_memory=True,\n",
    "#                                                     num_workers=32,\n",
    "#                                                     persistent_workers=True,\n",
    "#                                                     # prefetch_factor=0\n",
    "=======\n",
    "                                                    pin_memory=True,\n",
    "                                                    num_workers=32,\n",
    "                                                    persistent_workers=True,\n",
    "                                                    # prefetch_factor=0\n",
    ">>>>>>> remote\n",
    "                                                    )\n",
    "dataloader_labeled_val = torch.utils.data.DataLoader( dataset_labeled_val,\n",
    "    #                                                 batch_size=int(pct_batch_size*X_train.shape[0]),\n",
    "                                                    batch_size=1024,\n",
    "                                                    shuffle=False,\n",
    "                                                    drop_last=False,\n",
    "<<<<<<< local\n",
    "#                                                     pin_memory=True,\n",
    "#                                                     num_workers=32,\n",
    "#                                                     persistent_workers=True,\n",
    "#                                                     # prefetch_factor=0\n",
    "=======\n",
    "                                                    pin_memory=True,\n",
    "                                                    num_workers=32,\n",
    "                                                    persistent_workers=True,\n",
    "                                                    # prefetch_factor=0\n",
    ">>>>>>> remote\n",
    "                                                    )\n"
   ]
  },
  {
   "cell_type": "code",
   "execution_count": null,
   "metadata": {},
   "outputs": [],
   "source": [
    "<<<<<<< local\n",
    "# DEVICE = torch_helpers.set_device(use_GPU=True)\n",
    "=======\n",
    "DEVICE = torch_helpers.set_device(use_GPU=True)\n",
    ">>>>>>> remote"
   ]
  },
  {
   "cell_type": "code",
   "execution_count": null,
   "metadata": {},
   "outputs": [],
   "source": [
    "model.eval()\n",
    "model.to(DEVICE)\n",
    "features_train = torch.cat([model.get_head(model.base_model(data[0][0].to(DEVICE))).detach().cpu() for data in dataloader_labeled_train], dim=0)\n",
    "features_val   = torch.cat([model.get_head(model.base_model(data[0][0].to(DEVICE))).detach().cpu() for data in dataloader_labeled_val], dim=0)"
   ]
  },
  {
   "cell_type": "markdown",
   "metadata": {},
   "source": [
    "run a sweep of logistic regressions over C (1/L2) parameter"
   ]
  },
  {
   "cell_type": "code",
   "execution_count": null,
   "metadata": {},
   "outputs": [],
   "source": [
    "acc_train, acc_val = [], []\n",
    "# C_toUse = np.array([1000,100,10,1,0.1,0.01,0.001,0.0001,0.00001])\n",
    "C_toUse = np.array([10,1,0.1,0.01,0.001,0.0001,0.00001])\n",
    "for C in C_toUse:\n",
    "#     print(f'C = {C}')\n",
    "    logreg = sklearn.linear_model.LogisticRegression(solver='liblinear', max_iter=800, C=C)\n",
    "#     tic = time.time()\n",
    "    logreg.fit(features_train, y_labeled_train)\n",
    "#     print(f'time: {time.time() - tic}')\n",
    "    acc = logreg.score(features_train, y_labeled_train)\n",
    "    acc_train.append(acc)\n",
    "#     print(f'acc_train: {acc}')\n",
    "    acc = logreg.score(features_val, y_labeled_val)\n",
    "    acc_val.append(acc)\n",
    "#     print(f'acc_val: {acc}')\n",
    "#     print('')\n",
    "    \n",
    "\n",
    "plt.figure()\n",
    "plt.plot(C_toUse, acc_train)\n",
    "plt.plot(C_toUse, acc_val)\n",
    "plt.xscale('log')\n",
    "plt.xlabel('C')\n",
    "plt.ylabel('acc')\n",
    "plt.legend(['train', 'test']);"
   ]
  },
  {
   "cell_type": "code",
   "execution_count": null,
   "metadata": {},
   "outputs": [],
   "source": [
    "# acc_train, acc_val = [], []\n",
    "# # C_toUse = np.array([1000,100,10,1,0.1,0.01,0.001,0.0001,0.00001])\n",
    "# # C_toUse = np.array([10,1,0.1,0.01,0.001,0.0001,0.00001])\n",
    "# C_toUse = np.array([10000])\n",
    "# for C in tqdm(C_toUse):\n",
    "# #     print(f'C = {C}')\n",
    "#     logreg = sklearn.linear_model.LogisticRegression(solver='liblinear', max_iter=800, C=C)\n",
    "# #     tic = time.time()\n",
    "#     logreg.fit(features_train, y_labeled_train_SYT)\n",
    "# #     print(f'time: {time.time() - tic}')\n",
    "#     acc = logreg.score(features_train, y_labeled_train_SYT)\n",
    "#     acc_train.append(acc)\n",
    "# #     print(f'acc_train: {acc}')\n",
    "#     acc = logreg.score(features_val, y_labeled_val_SYT)\n",
    "#     acc_val.append(acc)\n",
    "# #     print(f'acc_val: {acc}')\n",
    "# #     print('')\n",
    "    \n",
    "\n",
    "# plt.figure()\n",
    "# plt.plot(C_toUse, acc_train)\n",
    "# plt.plot(C_toUse, acc_val)\n",
    "# plt.xscale('log')\n",
    "# plt.xlabel('C')\n",
    "# plt.ylabel('acc')\n",
    "# plt.legend(['train', 'test']);"
   ]
  },
  {
   "cell_type": "markdown",
   "metadata": {},
   "source": [
    "run a sinlg logistic regression with desired parameters and check confusion matrix"
   ]
  },
  {
   "cell_type": "code",
   "execution_count": 65,
   "metadata": {},
   "outputs": [
    {
     "name": "stderr",
     "output_type": "stream",
     "text": [
      "100%|██████████| 50/50 [00:05<00:00,  8.67it/s]\n",
      "100%|██████████| 50/50 [00:03<00:00, 16.37it/s]\n",
      "100%|██████████| 50/50 [00:01<00:00, 26.43it/s]\n",
      "100%|██████████| 50/50 [00:00<00:00, 54.37it/s]\n",
      "100%|██████████| 50/50 [00:00<00:00, 78.00it/s]\n"
     ]
    },
    {
     "data": {
      "image/png": "[encoded data removed]",
      "text/plain": [
       "<Figure size 720x720 with 20 Axes>"
      ]
     },
     "metadata": {
      "needs_background": "light"
     },
     "output_type": "display_data"
    }
   ],
   "source": [
    "from sklearn.model_selection import ShuffleSplit\n",
    "splitter = ShuffleSplit(n_splits=50)\n",
    "all_split_inx = list(splitter.split(features_train))\n",
    "\n",
    "train_X = [features_train[_[0]] for _ in all_split_inx]\n",
    "train_y = [y_labeled_train[_[0]] for _ in all_split_inx]\n",
    "test_X = [features_train[_[1]] for _ in all_split_inx]\n",
    "test_y = [y_labeled_train[_[1]] for _ in all_split_inx]\n",
    "\n",
    "%matplotlib inline\n",
    "\n",
    "c_lst = [1e1, 1e0, 1e-1, 1e-2, 1e-3]\n",
    "\n",
    "fig, ax = plt.subplots(len(c_lst), 2, figsize=(10,10))\n",
    "plt.suptitle(f'{model_file_name}')\n",
    "\n",
    "for ic, c in enumerate(c_lst):\n",
    "    train_cms = []\n",
    "    test_cms = []\n",
    "    for inx_split in trange(len(train_X)):\n",
    "        tmp_train_X = train_X[inx_split]\n",
    "        tmp_train_y = train_y[inx_split]\n",
    "        \n",
    "        tmp_test_X = test_X[inx_split]\n",
    "        tmp_test_y = test_y[inx_split]\n",
    "        \n",
    "        logreg = sklearn.linear_model.LogisticRegression(solver='liblinear', max_iter=800, C=c).fit(tmp_train_X, tmp_train_y)\n",
    "        \n",
    "        \n",
    "        \n",
    "        \n",
    "        \n",
    "        proba = logreg.predict_proba(tmp_train_X)\n",
    "\n",
    "        preds = np.argmax(proba, axis=1)\n",
    "        cm = classification.confusion_matrix(preds, tmp_train_y)\n",
    "        train_cms.append(cm)\n",
    "\n",
    "#         plt.figure()\n",
    "#         sns.heatmap(cm, annot=True, annot_kws={\"size\": 16}, vmax=1., cmap=plt.get_cmap('gray'))\n",
    "#         plt.title('train');\n",
    "        \n",
    "        proba = logreg.predict_proba(tmp_test_X)\n",
    "        preds = np.argmax(proba, axis=1)\n",
    "        cm = classification.confusion_matrix(preds, tmp_test_y)\n",
    "        test_cms.append(cm)\n",
    "        \n",
    "#         plt.figure()\n",
    "#         sns.heatmap(cm, annot=True, annot_kws={\"size\": 16}, vmax=1., cmap=plt.get_cmap('gray'))\n",
    "#         plt.title('val');\n",
    "\n",
    "    sns.heatmap(np.mean(train_cms,axis=0), annot=True, annot_kws={\"size\": 16}, vmax=1., cmap=plt.get_cmap('gray'), ax=ax[ic, 0])\n",
    "    ax[ic, 0].set_title(f'train — C:{c}');\n",
    "\n",
    "    sns.heatmap(np.mean(test_cms,axis=0), annot=True, annot_kws={\"size\": 16}, vmax=1., cmap=plt.get_cmap('gray'), ax=ax[ic, 1])\n",
    "    ax[ic, 1].set_title(f'val — C:{c}');\n",
    "\n",
    "plt.tight_layout()\n"
   ]
  },
  {
   "cell_type": "code",
   "execution_count": null,
   "metadata": {},
   "outputs": [],
   "source": [
    "logreg = sklearn.linear_model.LogisticRegression(solver='liblinear', max_iter=800, C=10**(-1)).fit(features_train, y_labeled_train)"
   ]
  },
  {
   "cell_type": "code",
   "execution_count": null,
   "metadata": {},
   "outputs": [],
   "source": [
    "%matplotlib inline\n",
    "proba = logreg.predict_proba(features_train)\n",
    "\n",
    "preds = np.argmax(proba, axis=1)\n",
    "cm = classification.confusion_matrix(preds, y_labeled_train)\n",
    "\n",
    "plt.figure()\n",
    "sns.heatmap(cm, annot=True, annot_kws={\"size\": 16}, vmax=1., cmap=plt.get_cmap('gray'))\n",
    "plt.title('train');\n",
    "\n",
    "proba = logreg.predict_proba(features_val)\n",
    "preds = np.argmax(proba, axis=1)\n",
    "cm = classification.confusion_matrix(preds, y_labeled_val)\n",
    "\n",
    "plt.figure()\n",
    "sns.heatmap(cm, annot=True, annot_kws={\"size\": 16}, vmax=1., cmap=plt.get_cmap('gray'))\n",
    "plt.title('val');\n"
   ]
  },
  {
   "cell_type": "code",
   "execution_count": null,
   "metadata": {},
   "outputs": [],
   "source": [
    "# %matplotlib notebook\n",
    "# proba = logreg.predict_proba(features_train)\n",
    "\n",
    "# preds = np.argmax(proba, axis=1)\n",
    "# cm = classification.confusion_matrix(preds, y_labeled_train_SYT)\n",
    "\n",
    "# plt.figure()\n",
    "# sns.heatmap(cm, annot=True, annot_kws={\"size\": 16}, vmax=1., cmap=plt.get_cmap('gray'))\n",
    "# plt.title('train');\n",
    "\n",
    "# proba = logreg.predict_proba(features_val)\n",
    "# preds = np.argmax(proba, axis=1)\n",
    "# cm = classification.confusion_matrix(preds, y_labeled_val_SYT)\n",
    "\n",
    "# plt.figure()\n",
    "# sns.heatmap(cm, annot=True, annot_kws={\"size\": 16}, vmax=1., cmap=plt.get_cmap('gray'))\n",
    "# plt.title('val');\n"
   ]
  },
  {
   "cell_type": "code",
   "execution_count": null,
   "metadata": {},
   "outputs": [],
   "source": []
  },
  {
   "cell_type": "code",
   "execution_count": null,
   "metadata": {},
   "outputs": [],
   "source": []
  },
  {
   "cell_type": "code",
   "execution_count": null,
   "metadata": {},
   "outputs": [],
   "source": []
  },
  {
   "cell_type": "markdown",
   "metadata": {
    "id": "_CchY4kGDB00"
   },
   "source": [
    "## Check embeddings"
   ]
  },
  {
   "cell_type": "code",
   "execution_count": null,
   "metadata": {},
   "outputs": [],
   "source": [
    "model.eval();\n",
    "# model.to(DEVICE);"
   ]
  },
  {
   "cell_type": "code",
   "execution_count": null,
   "metadata": {
    "id": "JcrdLrYtDB00"
   },
   "outputs": [],
   "source": [
    "torch.cuda.empty_cache()"
   ]
  },
  {
   "cell_type": "code",
   "execution_count": null,
   "metadata": {},
   "outputs": [],
   "source": [
    "dataset_unlabeled_noAug = util.dataset_simCLR(\n",
    "                                    torch.as_tensor(masks_cat[:], device='cpu', dtype=torch.float32), \n",
    "                                    torch.as_tensor(torch.zeros(masks_cat[:].shape[0]), device='cpu', dtype=torch.float32),\n",
    "\n",
    "                                    n_transforms=1,\n",
    "                                    class_weights=np.array([1]),\n",
    "                                    # class_weights=np.array([1]*4)[np.random.randint(0,4, X_train.shape[0])],\n",
    "                                    transform=scripted_transforms_validation,\n",
    "                                    # DEVICE='cpu',\n",
    "                                    DEVICE='cpu',\n",
    "                                    dtype_X=torch.float32,\n",
    "                                    dtype_y=torch.int64,\n",
    "                                    \n",
    "                                    temp_uncertainty=16\n",
    "                                    )\n",
    "dataloader_unlabeled_noAug = torch.utils.data.DataLoader( dataset_unlabeled_noAug,\n",
    "#                                                 batch_size=int(pct_batch_size*X_train.shape[0]),\n",
    "                                                batch_size=1024,\n",
    "                                                shuffle=False,\n",
    "                                                drop_last=False,\n",
    "                                                pin_memory=True,\n",
    "                                                num_workers=32,\n",
    "                                                persistent_workers=True,\n",
    "                                                # prefetch_factor=0\n",
    "                                                )"
   ]
  },
  {
   "cell_type": "code",
   "execution_count": null,
   "metadata": {},
   "outputs": [],
   "source": [
    "dataset_unlabeled_noAug = util.dataset_simCLR(\n",
    "                                    torch.as_tensor(masks_SYT[:], device='cpu', dtype=torch.float32), \n",
    "                                    torch.as_tensor(torch.zeros(masks_SYT[:].shape[0]), device='cpu', dtype=torch.float32),\n",
    "\n",
    "                                    n_transforms=1,\n",
    "                                    class_weights=np.array([1]),\n",
    "                                    # class_weights=np.array([1]*4)[np.random.randint(0,4, X_train.shape[0])],\n",
    "                                    transform=scripted_transforms_validation,\n",
    "                                    # DEVICE='cpu',\n",
    "                                    DEVICE='cpu',\n",
    "                                    dtype_X=torch.float32,\n",
    "                                    dtype_y=torch.int64,\n",
    "                                    \n",
    "                                    temp_uncertainty=16\n",
    "                                    )\n",
    "dataloader_unlabeled_noAug = torch.utils.data.DataLoader( dataset_unlabeled_noAug,\n",
    "#                                                 batch_size=int(pct_batch_size*X_train.shape[0]),\n",
    "                                                batch_size=1024,\n",
    "                                                shuffle=False,\n",
    "                                                drop_last=False,\n",
    "                                                pin_memory=True,\n",
    "                                                num_workers=32,\n",
    "                                                persistent_workers=True,\n",
    "                                                # prefetch_factor=0\n",
    "                                                )"
   ]
  },
  {
   "cell_type": "code",
   "execution_count": null,
   "metadata": {},
   "outputs": [],
   "source": [
    "# optional: run unlabeled data through model\n",
    "features_train = torch.cat([model.get_head(model.base_model(data[0][0].to(DEVICE))).detach().cpu() for data in dataloader_unlabeled_noAug], dim=0)"
   ]
  },
  {
   "cell_type": "code",
   "execution_count": null,
   "metadata": {
    "id": "HPyKFRdq28d3"
   },
   "outputs": [],
   "source": [
    "### REMOVE\n",
    "\n",
    "DEVICE='cuda'\n",
    "# DEVICE='cpu'"
   ]
  },
  {
   "cell_type": "code",
   "execution_count": null,
   "metadata": {
    "id": "7fpQXf0o28d3"
   },
   "outputs": [],
   "source": [
    "# model.to(DEVICE);"
   ]
  },
  {
   "cell_type": "code",
   "execution_count": null,
   "metadata": {
    "id": "7gwucuZXDB00"
   },
   "outputs": [],
   "source": [
    "_, features_embedded, _, evr = decomposition.torch_pca(features_train, device=DEVICE, return_cpu=True)"
   ]
  },
  {
   "cell_type": "code",
   "execution_count": null,
   "metadata": {},
   "outputs": [],
   "source": [
    "tsne = cuml.TSNE( n_components=2,\n",
    "                  perplexity=50.0,\n",
    "                  early_exaggeration=12.0,\n",
    "#                   late_exaggeration=1.0,\n",
    "                  learning_rate=200.0,\n",
    "                  n_iter=1000,\n",
    "                  n_iter_without_progress=300,\n",
    "                  min_grad_norm=1e-07,\n",
    "                  metric='euclidean',\n",
    "                  init='random',\n",
    "                  verbose=False,\n",
    "#                   random_state=None,\n",
    "#                   method='barnes_hut',\n",
    "#                   angle=0.5,\n",
    "#                   learning_rate_method='adaptive',\n",
    "# #                   n_neighbors=90,\n",
    "#                   perplexity_max_iter=100,\n",
    "#                   exaggeration_iter=250,\n",
    "#                   pre_momentum=0.5,\n",
    "#                   post_momentum=0.8,\n",
    "# #                   square_distances=True,\n",
    "#                   handle=None,\n",
    "#                   output_type=None\n",
    "                )\n",
    "features_embedded = tsne.fit_transform(features_train.to(DEVICE)).get()"
   ]
  },
  {
   "cell_type": "code",
   "execution_count": null,
   "metadata": {},
   "outputs": [],
   "source": [
    "umap = cuml.UMAP(n_neighbors=100,\n",
    "                n_components=2,\n",
    "                n_epochs=None,\n",
    "                learning_rate=1.0,\n",
    "                min_dist=0.1,\n",
    "                spread=1.0,\n",
    "                set_op_mix_ratio=1.0, \n",
    "                local_connectivity=1.0,\n",
    "                repulsion_strength=1.0, \n",
    "                negative_sample_rate=5, \n",
    "                transform_queue_size=4.0, \n",
    "                init='spectral', \n",
    "                verbose=False,\n",
    "                a=None, \n",
    "                b=None, \n",
    "                target_n_neighbors=- 1, \n",
    "#                 target_weight=0.5, \n",
    "                target_metric='categorical', \n",
    "                handle=None,                \n",
    "                hash_input=False, \n",
    "                random_state=None, \n",
    "                callback=None, \n",
    "                output_type=None\n",
    "                )\n",
    "features_embedded = umap.fit_transform(features_train.to(DEVICE)).get()"
   ]
  },
  {
   "cell_type": "raw",
   "metadata": {},
   "source": [
    "torch_helpers.delete_all_cuda_tensors(globals())"
   ]
  },
  {
   "cell_type": "raw",
   "metadata": {},
   "source": [
    "torch.cuda.empty_cache()\n",
    "gc.collect()\n",
    "torch.cuda.empty_cache()\n",
    "gc.collect()\n",
    "torch.cuda.empty_cache()\n",
    "gc.collect()\n",
    "torch.cuda.empty_cache()\n",
    "gc.collect()"
   ]
  },
  {
   "cell_type": "raw",
   "metadata": {},
   "source": [
    "torch_helpers.tensor_sizeOnDisk(features_train)"
   ]
  },
  {
   "cell_type": "raw",
   "metadata": {
    "id": "2imvF8ZoDB00"
   },
   "source": [
    "from sklearn import manifold\n",
    "\n",
    "tsne = manifold.TSNE(n_components=2, \n",
    "                     perplexity=120.0, \n",
    "                     early_exaggeration=12.0, \n",
    "                     learning_rate=200, \n",
    "                     n_iter=1000, \n",
    "                     n_iter_without_progress=300, \n",
    "                     min_grad_norm=1e-07, \n",
    "                     metric='euclidean', \n",
    "                     init='pca', \n",
    "                     verbose=0, \n",
    "                     random_state=None, \n",
    "                     method='barnes_hut', \n",
    "                     angle=0.5, \n",
    "                     n_jobs=-1, \n",
    "#                      square_distances='legacy'\n",
    "                    )\n",
    "features_embedded = tsne.fit_transform(features_train.cpu())\n",
    "# features_embedded = tsne.fit_transform(features_embedded[:,:5].cpu())"
   ]
  },
  {
   "cell_type": "code",
   "execution_count": null,
   "metadata": {
    "id": "sgxJ8VXwDB00"
   },
   "outputs": [],
   "source": [
    "import matplotlib as mpl\n",
    "\n",
    "# mpl.rcParams['image.cmap'] = 'Set1'\n",
    "%matplotlib notebook\n",
    "plt.figure()\n",
    "plt.scatter(features_embedded[:,0], features_embedded[:,1], s=10, c=labels_SYT, cmap=plt.get_cmap('tab10'))\n",
    "# plt.scatter(features_embedded[:,0], features_embedded[:,1], s=0.001)\n",
    "# plt.scatter(features_embedded[:,0], features_embedded[:,1], c=labels[labels!=3])\n",
    "# plt.scatter(features_embedded[:,0], features_embedded[:,1], c=y_val)\n",
    "# plt.scatter(features_embedded[:,4], features_embedded[:,5], c=y_train)\n",
    "# plt.scatter(features_embedded[:,11], features[:,43].cpu(), c=y_train)\n"
   ]
  },
  {
   "cell_type": "code",
   "execution_count": null,
   "metadata": {
    "id": "sgxJ8VXwDB00"
   },
   "outputs": [],
   "source": []
  },
  {
   "cell_type": "code",
   "execution_count": null,
   "metadata": {
    "id": "sgxJ8VXwDB00"
   },
   "outputs": [],
   "source": [
    "import matplotlib as mpl\n",
    "\n",
    "# mpl.rcParams['image.cmap'] = 'Set1'\n",
    "%matplotlib notebook\n",
    "plt.figure()\n",
    "# plt.scatter(features_embedded[:,0], features_embedded[:,1], s=30, c=y_labeled_train, cmap=plt.get_cmap('tab10'))\n",
    "plt.scatter(features_embedded[:,0], features_embedded[:,1], s=0.2)\n",
    "# plt.scatter(features_embedded[:,0], features_embedded[:,1], c=labels[labels!=3])\n",
    "# plt.scatter(features_embedded[:,0], features_embedded[:,1], c=y_val)\n",
    "# plt.scatter(features_embedded[:,4], features_embedded[:,5], c=y_train)\n",
    "# plt.scatter(features_embedded[:,11], features[:,43].cpu(), c=y_train)\n"
   ]
  },
  {
   "cell_type": "code",
   "execution_count": null,
   "metadata": {
    "id": "UwFf2BsVDB00"
   },
   "outputs": [],
   "source": [
    "plt.figure()\n",
    "plt.imshow(features_train.cpu().detach(), aspect='auto', interpolation='antialiased')"
   ]
  },
  {
   "cell_type": "code",
   "execution_count": null,
   "metadata": {
    "id": "SARf-u1K28d4"
   },
   "outputs": [],
   "source": [
    "plt.figure()\n",
    "plt.plot(evr)\n",
    "# plt.yscale('log')"
   ]
  },
  {
   "cell_type": "code",
   "execution_count": null,
   "metadata": {
    "id": "SARf-u1K28d4"
   },
   "outputs": [],
   "source": [
    "plt.figure()\n",
    "plt.plot(evr)\n",
    "# plt.yscale('log')"
   ]
  },
  {
   "cell_type": "code",
   "execution_count": null,
   "metadata": {
    "id": "SARf-u1K28d4"
   },
   "outputs": [],
   "source": [
    "plt.figure()\n",
    "plt.plot(evr)\n",
    "# plt.yscale('log')"
   ]
  },
  {
   "cell_type": "code",
   "execution_count": null,
   "metadata": {
    "id": "SARf-u1K28d4"
   },
   "outputs": [],
   "source": [
    "plt.figure()\n",
    "plt.plot(evr)\n",
    "# plt.yscale('log')"
   ]
  },
  {
   "cell_type": "markdown",
   "metadata": {
    "id": "RiHXPapkDB00"
   },
   "source": [
    "## Check filters"
   ]
  },
  {
   "cell_type": "code",
   "execution_count": null,
   "metadata": {
    "id": "2aBVd9FTDB00"
   },
   "outputs": [],
   "source": [
    "list(model.state_dict().keys())"
   ]
  },
  {
   "cell_type": "code",
   "execution_count": null,
   "metadata": {
    "id": "dK_-Xu9EDB01"
   },
   "outputs": [],
   "source": [
    "layer_1 = model.state_dict()['base_model.0.weight'].cpu()\n",
    "layer_2 = model.state_dict()['base_model.4.0.conv1.weight'].cpu()\n",
    "layer_3 = model.state_dict()['base_model.7.0.conv1.weight'].cpu()\n",
    "layer_4 = model.state_dict()['base_model.7.1.conv2.weight'].cpu()\n",
    "\n",
    "plt.figure()\n",
    "for ii in range(layer_1.shape[1]):\n",
    "    for jj in range(layer_1.shape[0]):\n",
    "        plt.subplot2grid((layer_1.shape[1],layer_1.shape[0]),(ii,jj))\n",
    "        fig = plt.imshow(layer_1[jj,ii,:,:] , clim=(-0.2,0.2))\n",
    "        fig.axes.get_xaxis().set_visible(False)\n",
    "        fig.axes.get_yaxis().set_visible(False)\n",
    "\n",
    "plt.figure()\n",
    "for ii in range(16):\n",
    "    for jj in range(16):\n",
    "        plt.subplot2grid((16,16),(ii,jj))\n",
    "        fig = plt.imshow(layer_2[jj,ii,:,:], clim=(-.05,.05))\n",
    "        fig.axes.get_xaxis().set_visible(False)\n",
    "        fig.axes.get_yaxis().set_visible(False)\n",
    "\n",
    "plt.figure()\n",
    "for ii in range(16):\n",
    "    for jj in range(16):\n",
    "        plt.subplot2grid((16,16),(ii,jj))\n",
    "        fig = plt.imshow(layer_3[jj, ii,:,:], clim=(-.1,.1))\n",
    "        fig.axes.get_xaxis().set_visible(False)\n",
    "        fig.axes.get_yaxis().set_visible(False)\n",
    "        \n",
    "plt.figure()\n",
    "for ii in range(16):\n",
    "    for jj in range(16):\n",
    "        plt.subplot2grid((16,16),(ii,jj))\n",
    "        fig = plt.imshow(layer_4[jj, ii,:,:], clim=(-.1,.1))\n",
    "        fig.axes.get_xaxis().set_visible(False)\n",
    "        fig.axes.get_yaxis().set_visible(False)"
   ]
  },
  {
   "cell_type": "code",
   "execution_count": null,
   "metadata": {
    "id": "FGiz2fHFDB01"
   },
   "outputs": [],
   "source": []
  },
  {
   "cell_type": "code",
   "execution_count": null,
   "metadata": {
    "id": "mwJQBUhpDB01"
   },
   "outputs": [],
   "source": [
    "# torch.save(model.state_dict(), '/media/rich/bigSSD/Net_trainedOnAug_20211025_trainingSet_mouse628_20200903and20200815_simCLR.pth')"
   ]
  },
  {
   "cell_type": "code",
   "execution_count": null,
   "metadata": {
    "id": "1grXld0IDB01"
   },
   "outputs": [],
   "source": [
    "# model = Net()\n",
    "# model.load_state_dict(torch.load('test_save.pth'))\n",
    "# model.eval()"
   ]
  },
  {
   "cell_type": "code",
   "execution_count": null,
   "metadata": {
    "id": "quqNFL1jDB01"
   },
   "outputs": [],
   "source": []
  },
  {
   "cell_type": "code",
   "execution_count": null,
   "metadata": {},
   "outputs": [],
   "source": []
  },
  {
   "cell_type": "code",
   "execution_count": null,
   "metadata": {},
   "outputs": [],
   "source": []
  },
  {
   "cell_type": "code",
   "execution_count": null,
   "metadata": {},
   "outputs": [],
   "source": []
  },
  {
   "cell_type": "markdown",
   "metadata": {},
   "source": [
    "# Graveyard"
   ]
  },
  {
   "cell_type": "code",
   "execution_count": null,
   "metadata": {
    "colab": {
     "base_uri": "https://localhost:8080/"
    },
    "id": "rvDiVxDICXEn",
    "outputId": "2c29e3cf-4515-4aae-f0b1-22e30d51fa5f"
   },
   "outputs": [],
   "source": [
    "data_unlabeled = torch.as_tensor(masks_cat, dtype=torch.float32, device='cpu')\n",
    "\n",
    "model.to(DEVICE)\n",
    "\n",
    "# penalized_params = list(model.modules())[-1].parameters()\n",
    "# penalized_params = torch.cat([_.view(-1) for _ in penalized_params], -1)\n",
    "\n",
    "early_stopping = 50\n",
    "prv_best_val = np.inf\n",
    "early_stopping_cnt = 0\n",
    "\n",
    "l2_alpha = 0.1\n",
    "\n",
    "n_epochs=300000\n",
    "for epoch in range(n_epochs):\n",
    "    print(f'epoch: {epoch}')\n",
    "#     loss_rolling_train, loss_rolling_val = training_supervised.epoch_step(dataloader_train, \n",
    "#                                     model, \n",
    "#                                     optimizer, \n",
    "#                                     criterion, \n",
    "\n",
    "#                                     penalized_params, l2_alpha,\n",
    "\n",
    "#                                     scheduler=scheduler,\n",
    "#                                     loss_rolling_train=losses_train, \n",
    "#                                     device=DEVICE, \n",
    "#                                     loss_rolling_val=losses_val,\n",
    "#                                     verbose=2,\n",
    "#                                     verbose_update_period=100,\n",
    "                                   \n",
    "#                                     do_validation=True,\n",
    "#                                     X_val=x_feed_through_val,\n",
    "#                                     y_val=torch.as_tensor(y_val, device=DEVICE)\n",
    "#                                    )\n",
    "    \n",
    "    loss_rolling_train, loss_rolling_val = training_simCLR.epoch_step(dataloader_train, \n",
    "                                    model, \n",
    "                                    optimizer, \n",
    "                                    criterion, \n",
    "\n",
    "                                    # penalized_params, l2_alpha,\n",
    "\n",
    "                                    scheduler=scheduler,\n",
    "                                    loss_rolling_train=losses_train, \n",
    "                                    device=DEVICE, \n",
    "                                    loss_rolling_val=losses_val,\n",
    "                                    verbose=2,\n",
    "                                    verbose_update_period=100,\n",
    "                                   \n",
    "                                    do_validation=True,\n",
    "                                    X_val=x_feed_through_val,\n",
    "                                    y_val=torch.as_tensor(y_val, device=DEVICE)\n",
    "                                   )\n",
    "    \n",
    "    \n",
    "    if early_stopping:\n",
    "      if len(loss_rolling_val) > 0:\n",
    "        if loss_rolling_val[-1] < prv_best_val:\n",
    "          early_stopping_cnt = 0\n",
    "          prv_best_val = loss_rolling_val[-1]\n",
    "          torch.save(model.state_dict(), f'{base_dir}/github_repos/GCaMP_ROI_classifier/new_stuff/models/checkpoints/checkpoint.pth')\n",
    "        else:\n",
    "          early_stopping_cnt += 1\n",
    "    \n",
    "      if early_stopping_cnt >= early_stopping:\n",
    "        model.load_state_dict(torch.load(f'{base_dir}/github_repos/GCaMP_ROI_classifier/new_stuff/models/checkpoints/checkpoint.pth'))\n",
    "        break\n",
    "    \n",
    "    # torch_helpers.show_all_tensors(globals())\n",
    "    \n",
    "    features_train = model(x_feed_through_tr)\n",
    "    features_train = features_train.cpu().detach().numpy()\n",
    "    features_val = model(x_feed_through_val)\n",
    "    features_val = features_val.cpu().detach().numpy()\n",
    "    # y_hat = scipy.special.softmax(features_val, axis=-1) # logreg.predict_proba(features_val)\n",
    "    \n",
    "    print('Training Confusion Matrix')\n",
    "    print(get_cm(features_train, y_train))\n",
    "    print()\n",
    "    print(logistic_pred_train)\n",
    "\n",
    "    print()\n",
    "    print()\n",
    "\n",
    "    print('Val Confusion Matrix')\n",
    "    print(get_cm(features_val, y_val))\n",
    "    print()\n",
    "    print(logistic_pred_val)\n",
    "\n",
    "    # model.to(DEVICE)\n",
    "    print()\n",
    "    print()\n"
   ]
  },
  {
   "cell_type": "raw",
   "metadata": {
    "id": "E5EeUhzUDB0v"
   },
   "source": [
    "%matplotlib notebook\n",
    "\n",
    "logreg = LogisticRegression(solver='liblinear', max_iter=30)\n",
    "# logreg_predict_head = LogisticRegression(solver='liblinear')\n",
    "dataset_train.classification_model = None\n",
    "\n",
    "\n",
    "\n",
    "# scheduler = torch.optim.lr_scheduler.ExponentialLR(optimizer,\n",
    "#                                                    gamma=1-0.001,\n",
    "# #                                                    gamma=1,\n",
    "#                                                   )\n",
    "n_epochs=300000\n",
    "for epoch in range(n_epochs):\n",
    "    print(f'epoch: {epoch}')\n",
    "\n",
    "    model.prep_contrast()\n",
    "    training_simCLR.epoch_step( dataloader_train, \n",
    "                                model, \n",
    "                                optimizer, \n",
    "                                criterion,\n",
    "                                scheduler=scheduler, \n",
    "                                temperature=0.5,\n",
    "                                loss_rolling_train=losses_train, \n",
    "                                device=DEVICE, \n",
    "                                do_validation=False,\n",
    "#                                 validation_Object=val_obj,\n",
    "                                loss_rolling_val=losses_val,\n",
    "                                verbose=2,\n",
    "                                verbose_update_period=100,\n",
    "                               )\n",
    "    \n",
    "\n",
    "    model.prep_classifier()\n",
    "\n",
    "    # print(util.tile_channels(torch.as_tensor(X_labeled_train[:,None,...], device=DEVICE, dtype=torch.float32), dim=1).shape)\n",
    "\n",
    "    features_train = model.get_head(model.base_model(util.tile_channels(torch.as_tensor(X_labeled_train[:,None,...], device=DEVICE, dtype=torch.float32), dim=1))).detach().cpu()\n",
    "    # features_train = model(util.tile_channels(torch.as_tensor(X_labeled_train[:,None,...], device=DEVICE, dtype=torch.float32), dim=1)).detach().cpu()\n",
    "    # features_train = model(torch.as_tensor(X_labeled_train, device=DEVICE, dtype=torch.float32)[:,None,...]).detach().cpu()\n",
    "    # features = model(torch.tensor(X_train[y_train != 3], device=DEVICE, dtype=torch.float32)[:,None,...]).detach().cpu()\n",
    "    \n",
    "    tic = time.time()\n",
    "    logreg.fit(features_train, y_labeled_train)\n",
    "    print(time.time() - tic)\n",
    "    acc.append(logreg.score(features_train, y_labeled_train))\n",
    "    print(f'acc: {acc[-1]}')\n",
    "    \n",
    "    dataset_train.net_model = copy.deepcopy(model).to('cpu')\n",
    "    dataset_train.classification_model = logreg\n",
    "    \n",
    "\n",
    "#     sample_id_num = np.arange(X_labeled_val.shape[0])\n",
    "#     epoch_val = epoch\n",
    "#     batch_val = -1\n",
    "#     p_tmp = logreg.predict_proba(model(torch.as_tensor(util.tile_channels(X_labeled_val), device=DEVICE, dtype=torch.float32)).detach().cpu())\n",
    "#     logits = p_tmp\n",
    "#     # logits = np.log(1/(1/p_tmp - 1))\n",
    "\n",
    "#     col_vals = [sample_id_num, epoch_val, batch_val, y_labeled_val]\n",
    "#     setup = np.empty((len(sample_id_num), len(col_vals)))\n",
    "#     for icv, col_val in enumerate(col_vals):\n",
    "#       setup[:, icv] = col_val\n",
    "#     tmp_tracking_np = np.concatenate([setup, logits], axis=1)\n",
    "\n",
    "#     tmp_tracking_df = pd.DataFrame(tmp_tracking_np, index=sample_id_num, columns=tracking_df_cols + [f'logits_{i}' for i in range(logits.shape[1])])\n",
    "#     tracking_df = tracking_df.append(tmp_tracking_df, ignore_index=True)\n",
    "#     display(tracking_df)\n",
    "\n",
    "\n",
    "    \n",
    "    features_val = model.get_head(model.base_model(util.tile_channels(torch.as_tensor(X_labeled_val[:,None,...], device=DEVICE, dtype=torch.float32), dim=1))).detach().cpu()\n",
    "\n",
    "\n",
    "    # logreg_predict_head.fit(features_train, y_labeled_train)\n",
    "    # y_hat = logreg_predict_head.predict_proba(features_val)\n",
    "\n",
    "    y_hat = logreg.predict_proba(features_val)\n",
    "    \n",
    "    cm = classification.confusion_matrix(y_hat, y_labeled_val)\n",
    "#     plt.figure()\n",
    "#     plt.imshow(cm)\n",
    "#     plt.colorbar()\n",
    "#     plt.show()\n",
    "    print(cm)\n",
    "\n",
    "\n",
    "    # tracking_df = tracking_df.append(pd.DataFrame([np.array([100, 0, 0, 0])], index=tracking_df_cols), ignore_index=True)\n",
    "    \n",
    "    # model predict\n",
    "    # Update model in DS\n",
    "    # get item calls model for each sample\n",
    "    # output\n",
    "    # X sample weights predictions\n",
    "    \n",
    "#     classHead.fit(X_train[:, None, :, :], y_train, solver='liblinear')\n",
    "    \n",
    "#     proba = classHead.predict_proba(X_train[:, None, :, :])\n",
    "#     class_weights = proba.sum(axis=0)\n",
    "#     total_num = class_weights.sum()\n",
    "    \n",
    "#     eps = 1e-4\n",
    "    \n",
    "#     class_weights[class_weights <= 3] = total_num\n",
    "#     weightings = class_weights.sum()/class_weights\n",
    "#     final_weights = weightings / weightings.sum()\n",
    "#     final_weights = np.array([1/proba.shape[1] for _ in range(proba.shape[1])])\n",
    "    \n",
    "#     print(class_weights)\n",
    "\n",
    "#     dataset_train.set_classweights(final_weights)\n",
    "    \n",
    "#     print('dataset_train.final_weights', dataset_train.class_weights)\n"
   ]
  }
 ],
 "metadata": {
  "accelerator": "GPU",
  "colab": {
   "collapsed_sections": [],
   "machine_shape": "hm",
   "name": "ROIClassifier_TRAIN_20211201_JZ_supervised-comparison5.ipynb",
   "provenance": []
  },
  "kernelspec": {
   "display_name": "Python 3",
   "language": "python",
   "name": "python3"
  },
  "nbdime-conflicts": {
   "local_diff": [
    {
     "key": "language_info",
     "op": "add",
     "value": {
      "codemirror_mode": {
       "name": "ipython",
       "version": 3
      },
      "file_extension": ".py",
      "mimetype": "text/x-python",
      "name": "python",
      "nbconvert_exporter": "python",
      "pygments_lexer": "ipython3",
      "version": "3.8.5"
     }
    }
   ],
   "remote_diff": [
    {
     "key": "language_info",
     "op": "add",
     "value": {
      "codemirror_mode": {
       "name": "ipython",
       "version": 3
      },
      "file_extension": ".py",
      "mimetype": "text/x-python",
      "name": "python",
      "nbconvert_exporter": "python",
      "pygments_lexer": "ipython3",
      "version": "3.8.12"
     }
    }
   ]
  },
  "varInspector": {
   "cols": {
    "lenName": 16,
    "lenType": 16,
    "lenVar": 40
   },
   "kernels_config": {
    "python": {
     "delete_cmd_postfix": "",
     "delete_cmd_prefix": "del ",
     "library": "var_list.py",
     "varRefreshCmd": "print(var_dic_list())"
    },
    "r": {
     "delete_cmd_postfix": ") ",
     "delete_cmd_prefix": "rm(",
     "library": "var_list.r",
     "varRefreshCmd": "cat(var_dic_list()) "
    }
   },
   "position": {
    "height": "943px",
    "left": "1381px",
    "right": "20px",
    "top": "106px",
    "width": "501px"
   },
   "types_to_exclude": [
    "module",
    "function",
    "builtin_function_or_method",
    "instance",
    "_Feature"
   ],
   "window_display": true
  }
 },
 "nbformat": 4,
 "nbformat_minor": 4
}
