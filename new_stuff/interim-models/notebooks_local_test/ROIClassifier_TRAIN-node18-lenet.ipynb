{
 "cells": [
  {
   "cell_type": "code",
   "execution_count": 1,
   "metadata": {
    "colab": {
     "base_uri": "https://localhost:8080/",
     "height": 17
    },
    "id": "S3q3I42jDB0f",
    "outputId": "3ad88a07-0e8b-474f-b0d8-9fb6c2a99f0c"
   },
   "outputs": [
    {
     "data": {
      "text/html": [
       "<style>.container { width:95% !important; }</style>"
      ],
      "text/plain": [
       "<IPython.core.display.HTML object>"
      ]
     },
     "metadata": {},
     "output_type": "display_data"
    }
   ],
   "source": [
    "from IPython.core.display import display, HTML\n",
    "display(HTML(\"<style>.container { width:95% !important; }</style>\"))"
   ]
  },
  {
   "cell_type": "raw",
   "metadata": {
    "id": "PUUWS0VmwD7-"
   },
   "source": [
    "# !source activate jupyter_launcher\n",
    "!pip3 install numba\n",
    "!pip3 install matplotlib\n",
    "!pip3 install scipy\n",
    "!pip3 install torch\n",
    "!pip3 install torchvision\n",
    "!pip3 install sklearn\n",
    "!pip3 install pycuda\n",
    "!pip3 install tqdm\n",
    "!pip3 install seaborn\n",
    "!pip3 install h5py\n",
    "!pip3 install hdfdict\n",
    "!pip3 install ipywidgets\n",
    "!pip3 install numpy==1.20"
   ]
  },
  {
   "cell_type": "code",
   "execution_count": 2,
   "metadata": {},
   "outputs": [
    {
     "data": {
      "text/plain": [
       "'/home/joz608/.conda/envs/jupyter_launcher/bin/python3.8'"
      ]
     },
     "execution_count": 2,
     "metadata": {},
     "output_type": "execute_result"
    }
   ],
   "source": [
    "import sys\n",
    "sys.executable"
   ]
  },
  {
   "cell_type": "code",
   "execution_count": null,
   "metadata": {},
   "outputs": [],
   "source": []
  },
  {
   "cell_type": "code",
   "execution_count": null,
   "metadata": {},
   "outputs": [],
   "source": []
  },
  {
   "cell_type": "code",
   "execution_count": 3,
   "metadata": {
    "id": "eTIgCGQsDB0i"
   },
   "outputs": [],
   "source": [
    "import sys\n",
    "import os\n",
    "import copy\n",
    "import pathlib\n",
    "import time\n",
    "import gc\n",
    "\n",
    "from tqdm import tqdm, trange\n",
    "# from tqdm import trange\n",
    "\n",
    "import numpy as np\n",
    "import matplotlib.pyplot as plt\n",
    "import seaborn as sns\n",
    "import scipy\n",
    "\n",
    "import torch\n",
    "import torchvision\n",
    "import torchvision.transforms as transforms\n",
    "\n",
    "# import cuml\n",
    "\n",
    "# for creating validation set\n",
    "import sklearn\n",
    "from sklearn.model_selection import train_test_split\n",
    "\n",
    "%matplotlib inline\n",
    "%matplotlib inline\n",
    "# %matplotlib inline\n",
    "# %matplotlib qt"
   ]
  },
  {
   "cell_type": "code",
   "execution_count": null,
   "metadata": {
    "id": "GExNkvATEBtG"
   },
   "outputs": [],
   "source": []
  },
  {
   "cell_type": "code",
   "execution_count": 4,
   "metadata": {
    "id": "MZ9Hq6SVvves"
   },
   "outputs": [],
   "source": [
    "base_dir = '/n/data1/hms/neurobio/sabatini/josh'"
   ]
  },
  {
   "cell_type": "code",
   "execution_count": 5,
   "metadata": {
    "id": "9w3t_mtdDB0j"
   },
   "outputs": [],
   "source": [
    "import sys\n",
    "\n",
    "sys.path.append(f'{base_dir}/github_repos')\n",
    "# sys.path.append(f'/media/rich/Home_Linux_partition/github_repos')\n",
    "dir_folders = f'{base_dir}/label_data'\n",
    "\n",
    "\n",
    "%load_ext autoreload\n",
    "%autoreload 2\n",
    "from basic_neural_processing_modules import torch_helpers, math_functions, classification, h5_handling, plotting_helpers, indexing, misc #, decomposition\n",
    "from GCaMP_ROI_classifier.new_stuff import util, models, training_simCLR, augmentation, training_classHead, training_supervised"
   ]
  },
  {
   "cell_type": "markdown",
   "metadata": {
    "id": "hTqZzmpJDB0j"
   },
   "source": [
    "## Import unlabeled training data"
   ]
  },
  {
   "cell_type": "code",
   "execution_count": 6,
   "metadata": {},
   "outputs": [],
   "source": [
    "# data_unlabeled = h5_handling.simple_load(path=r'/media/rich/bigSSD/for_Josh/GCAMP_ROI_Classifier_data/masks_20211202_balanced.h5')\n",
    "data_unlabeled = h5_handling.simple_load(path=f'{base_dir}/label_data/masks_20211202_balanced.h5')\n",
    "\n",
    "masks_cat_raw = torch.as_tensor(np.concatenate((data_unlabeled['SYTmasks'], data_unlabeled['NPmasks'], data_unlabeled['RHmasks']), axis=0), dtype=torch.float32, device='cpu')"
   ]
  },
  {
   "cell_type": "code",
   "execution_count": 7,
   "metadata": {},
   "outputs": [],
   "source": [
    "# data_labeled = h5_handling.simple_load(path=r'/media/rich/bigSSD/for_Josh/GCAMP_ROI_Classifier_data/masks_20211202_unbalanced.h5')"
   ]
  },
  {
   "cell_type": "code",
   "execution_count": 8,
   "metadata": {},
   "outputs": [],
   "source": [
    "# masks_SYT = data_labeled['SYTmasks']\n",
    "# labels_SYT = classification.squeeze_integers(data_labeled['SYTlabels'])"
   ]
  },
  {
   "cell_type": "code",
   "execution_count": 9,
   "metadata": {},
   "outputs": [],
   "source": [
    "# nan_lst = np.concatenate(np.where(np.isnan(masks_SYT).sum(axis=-1).sum(axis=-1)))\n",
    "# non_nan = [_ for _ in range(masks_SYT.shape[0]) if _ not in nan_lst]\n",
    "# labels_SYT = labels_SYT[non_nan]\n",
    "# masks_SYT = masks_SYT[non_nan]"
   ]
  },
  {
   "cell_type": "code",
   "execution_count": 10,
   "metadata": {},
   "outputs": [],
   "source": [
    "# X_labeled_train_SYT, X_labeled_val_SYT, y_labeled_train_SYT, y_labeled_val_SYT = train_test_split(masks_SYT, labels_SYT, test_size = 0.2)"
   ]
  },
  {
   "cell_type": "markdown",
   "metadata": {},
   "source": [
    "toss any NaNs"
   ]
  },
  {
   "cell_type": "code",
   "execution_count": 11,
   "metadata": {},
   "outputs": [
    {
     "name": "stdout",
     "output_type": "stream",
     "text": [
      "Number of masks: torch.Size([711808, 36, 36])\n",
      "Number of masks: torch.Size([711807, 36, 36])\n"
     ]
    }
   ],
   "source": [
    "print(f'Number of masks: {masks_cat_raw.shape}')\n",
    "\n",
    "ROIs_without_NaNs = torch.where(~torch.any(torch.any(torch.isnan(masks_cat_raw), dim=1), dim=1))[0]\n",
    "masks_cat = masks_cat_raw[ROIs_without_NaNs]\n",
    "\n",
    "print(f'Number of masks: {masks_cat.shape}')"
   ]
  },
  {
   "cell_type": "markdown",
   "metadata": {
    "id": "hTqZzmpJDB0j"
   },
   "source": [
    "## Import labeled training data"
   ]
  },
  {
   "cell_type": "code",
   "execution_count": 12,
   "metadata": {
    "colab": {
     "base_uri": "https://localhost:8080/",
     "height": 1000
    },
    "id": "S8AO_lypDB0o",
    "outputId": "4edfd739-a0b7-4789-aea1-4a9f6c2665c8"
   },
   "outputs": [
    {
     "name": "stdout",
     "output_type": "stream",
     "text": [
      "concatenated images shape: (9715, 32, 32)\n"
     ]
    },
    {
     "data": {
      "image/png": "[encoded data removed]",
      "text/plain": [
       "<Figure size 432x288 with 1 Axes>"
      ]
     },
     "metadata": {
      "needs_background": "light"
     },
     "output_type": "display_data"
    },
    {
     "data": {
      "image/png": "[encoded data removed]",
      "text/plain": [
       "<Figure size 432x288 with 1 Axes>"
      ]
     },
     "metadata": {
      "needs_background": "light"
     },
     "output_type": "display_data"
    },
    {
     "data": {
      "image/png": "[encoded data removed]",
      "text/plain": [
       "<Figure size 432x288 with 1 Axes>"
      ]
     },
     "metadata": {
      "needs_background": "light"
     },
     "output_type": "display_data"
    },
    {
     "data": {
      "image/png": "[encoded data removed]",
      "text/plain": [
       "<Figure size 432x288 with 1 Axes>"
      ]
     },
     "metadata": {
      "needs_background": "light"
     },
     "output_type": "display_data"
    }
   ],
   "source": [
    "dir_folders = f'{base_dir}/label_data'\n",
    "# dir_folders = r'/media/rich/bigSSD/for_Josh/GCAMP_ROI_Classifier_data/label_data'\n",
    "# dir_folders = r'/users/Josh/Documents/Harvard/label_data'\n",
    "folders = [r'mouse 6_28 _ day 20200903/',\n",
    "             r'mouse6_28 _ day20200815/']\n",
    "fileNames_statFiles = [r'stat.npy']*len(folders)\n",
    "paths_statFiles = [pathlib.Path(dir_folders) / folders[ii] / fileNames_statFiles[ii] for ii in range(len(folders))]\n",
    "\n",
    "sf_all = util.import_multiple_stat_files(   paths_statFiles=paths_statFiles,\n",
    "                                            fileNames_statFiles=fileNames_statFiles,\n",
    "                                            out_height_width=[32,32],\n",
    "                                            max_footprint_width=241,\n",
    "                                            plot_pref=True)\n",
    "images_labeled_raw = np.concatenate(sf_all, axis=0)\n",
    "images_labeled_raw = (images_labeled_raw / np.max(images_labeled_raw, axis=(1,2), keepdims=True)) * 1\n",
    "print(f'concatenated images shape: {images_labeled_raw.shape}')\n",
    "\n",
    "fileNames_labelFiles = ['labels_posthoc_filledIn_allCells.npy',\n",
    "             'labels_posthoc_all.npy']\n",
    "paths_labelFiles = [pathlib.Path(dir_folders) / folders[ii] / fileNames_labelFiles[ii] for ii in range(len(folders))]\n",
    "\n",
    "labels_all = util.import_multiple_label_files(paths_labelFiles=paths_labelFiles,\n",
    "                                       plot_pref=True)\n",
    "labels_raw = np.concatenate(labels_all)\n",
    "\n",
    "assert np.alltrue([sf_all[ii].shape[0] == labels_all[ii].shape[0] for ii in range(len(sf_all))]) , 'num images in stat files does not correspond to num labels'"
   ]
  },
  {
   "cell_type": "code",
   "execution_count": 13,
   "metadata": {},
   "outputs": [
    {
     "data": {
      "image/png": "[encoded data removed]",
      "text/plain": [
       "<Figure size 432x288 with 100 Axes>"
      ]
     },
     "metadata": {
      "needs_background": "light"
     },
     "output_type": "display_data"
    }
   ],
   "source": [
    "%matplotlib inline\n",
    "\n",
    "plotting_helpers.plot_image_grid(images=images_labeled_raw,\n",
    "                                labels=None,\n",
    "                                grid_shape=(10,10), cmap=plt.get_cmap('gray'));"
   ]
  },
  {
   "cell_type": "code",
   "execution_count": 14,
   "metadata": {
    "id": "Ip1UMYy6DB0p"
   },
   "outputs": [],
   "source": [
    "labels = classification.squeeze_integers(labels_raw)\n",
    "images_labeled = images_labeled_raw[labels != 2]\n",
    "labels = labels[labels != 2]\n",
    "labels = classification.squeeze_integers(labels)"
   ]
  },
  {
   "cell_type": "markdown",
   "metadata": {
    "id": "UYh_wBqCDB0q"
   },
   "source": [
    "## Balance classes of inputs"
   ]
  },
  {
   "cell_type": "code",
   "execution_count": 15,
   "metadata": {
    "colab": {
     "base_uri": "https://localhost:8080/"
    },
    "id": "qn4Pu2cKDB0q",
    "outputId": "3afafb73-54a7-4e2d-8030-c0af6272cbe6"
   },
   "outputs": [
    {
     "name": "stdout",
     "output_type": "stream",
     "text": [
      "(9714, 32, 32)\n",
      "(9714,)\n",
      "532\n",
      "(2128, 32, 32)\n",
      "(2128,)\n",
      "532\n",
      "532\n",
      "532\n",
      "0\n",
      "0\n",
      "(2128, 32, 32)\n",
      "(2128,)\n"
     ]
    }
   ],
   "source": [
    "duplicates = 1\n",
    "balanced = True\n",
    "\n",
    "images_dup = np.tile(images_labeled , (duplicates , 1 , 1))\n",
    "labels_dup = np.tile(labels , (duplicates))\n",
    "\n",
    "print(images_dup.shape)\n",
    "print(labels_dup.shape)\n",
    "\n",
    "if balanced:\n",
    "    numToGetTo = np.sum(labels_dup==0)\n",
    "    print(numToGetTo)\n",
    "    for ii in np.array([1,2,3]):\n",
    "  #     idxToDelete = np.cumsum(labels_dup==ii) <= (np.sum(labels_dup==ii) - numToGetTo)\n",
    "        if ii==3:\n",
    "            numToGetTo = np.sum(labels_dup==0)/1\n",
    "        else:\n",
    "            numToGetTo = np.sum(labels_dup==0)\n",
    "\n",
    "        idxToDelete = (np.cumsum(labels_dup==ii) * (labels_dup==ii)) > numToGetTo\n",
    "        images_dup = images_dup[idxToDelete==0,:,:]\n",
    "        labels_dup = labels_dup[idxToDelete==0]\n",
    "\n",
    "\n",
    "\n",
    "\n",
    "\n",
    "print(images_dup.shape)\n",
    "print(labels_dup.shape)\n",
    "\n",
    "numToGetTo = np.sum(labels_dup==0)\n",
    "print(numToGetTo)\n",
    "\n",
    "print(np.sum(labels_dup==0))\n",
    "print(np.sum(labels_dup==1))\n",
    "print(np.sum(labels_dup==4))\n",
    "print(np.sum(labels_dup==5))\n",
    "print(images_dup.shape)\n",
    "print(labels_dup.shape)"
   ]
  },
  {
   "cell_type": "raw",
   "metadata": {
    "id": "NpMB08CYDB0q"
   },
   "source": [
    "# create validation set\n",
    "# X_train, X_val, y_train, y_val = train_test_split(images[:], labels[:], test_size = 0.15)\n",
    "X_train, X_val, y_train, y_val = train_test_split(images_dup[:], labels_dup[:], test_size = 0.15)\n",
    "(X_train.shape, y_train.shape), (X_val.shape, y_val.shape)"
   ]
  },
  {
   "cell_type": "code",
   "execution_count": 16,
   "metadata": {
    "colab": {
     "base_uri": "https://localhost:8080/"
    },
    "id": "fVA_Aa6rDB0q",
    "outputId": "15b9e55a-4881-40be-f06b-dec658fa55a7"
   },
   "outputs": [
    {
     "data": {
      "text/plain": [
       "(((1702, 32, 32), (1702,)), ((426, 32, 32), (426,)))"
      ]
     },
     "execution_count": 16,
     "metadata": {},
     "output_type": "execute_result"
    }
   ],
   "source": [
    "# create validation set\n",
    "\n",
    "###### REMOVE WITH ENOUGH RAM\n",
    "images = images_dup\n",
    "labels = labels_dup\n",
    "\n",
    "# X_labeled_train, X_labeled_val, y_labeled_train, y_labeled_val = train_test_split(images_dup, labels_dup, test_size = 0.3)\n",
    "X_labeled_train, X_labeled_val, y_labeled_train, y_labeled_val = train_test_split(images_dup, labels_dup, test_size = 0.2)\n",
    "# X_train, y_train = X_labeled_train, y_labeled_train\n",
    "\n",
    "# X_labeled_val, X_test, y_labeled_val, y_test = train_test_split(X_labeled_val, y_labeled_val, test_size = 0.5)\n",
    "X_val, X_test, y_val, y_test = train_test_split(X_labeled_val, y_labeled_val, test_size = 0.5)\n",
    "\n",
    "(X_labeled_train.shape, y_labeled_train.shape), (X_labeled_val.shape, y_labeled_val.shape)"
   ]
  },
  {
   "cell_type": "code",
   "execution_count": 17,
   "metadata": {
    "colab": {
     "base_uri": "https://localhost:8080/",
     "height": 265
    },
    "id": "mdJafJMMDB0r",
    "outputId": "2e8d00f6-32bf-4aeb-d02d-e10dcaaccfe3"
   },
   "outputs": [
    {
     "data": {
      "image/png": "[encoded data removed]",
      "text/plain": [
       "<Figure size 432x288 with 1 Axes>"
      ]
     },
     "metadata": {
      "needs_background": "light"
     },
     "output_type": "display_data"
    }
   ],
   "source": [
    "plt.figure()\n",
    "plt.hist(labels_dup, 20);"
   ]
  },
  {
   "cell_type": "code",
   "execution_count": 18,
   "metadata": {},
   "outputs": [
    {
     "data": {
      "text/plain": [
       "(2128, 32, 32)"
      ]
     },
     "execution_count": 18,
     "metadata": {},
     "output_type": "execute_result"
    }
   ],
   "source": [
    "images.shape"
   ]
  },
  {
   "cell_type": "code",
   "execution_count": null,
   "metadata": {
    "id": "XNxaCTbcDB0r"
   },
   "outputs": [],
   "source": []
  },
  {
   "cell_type": "raw",
   "metadata": {
    "id": "tz9Q8wYuDB0s"
   },
   "source": [
    "from sklearn.linear_model import LogisticRegression\n",
    "import sklearn.metrics\n",
    "\n",
    "def classification_step(X_train, y_train, X_test, model, model_device, temperature):\n",
    "    logreg = LogisticRegression()\n",
    "    features_train = model(torch.as_tensor(X_train, device=DEVICE, dtype=torch.float32)[:,None,...]).detach().cpu()\n",
    "    # features = model(torch.tensor(X_train[y_train != 3], device=DEVICE, dtype=torch.float32)[:,None,...]).detach().cpu()\n",
    "    logreg.fit(features_train, y_train)\n",
    "    # logreg.fit(features, y_train[y_train != 3])\n",
    "    \n",
    "    features_test = model(torch.as_tensor(X_test, device=DEVICE, dtype=torch.float32)[:,None,...]).detach().cpu()    \n",
    "    y_hat = logreg.predict_proba(features_test)\n",
    "    y_hat = torch.as_tensor(y_hat, dtype=torch.float32, device='cpu')\n",
    "    \n",
    "#     print(y_hat)\n",
    "    print(f'accuracy: {logreg.score(features, y):.5}')\n",
    "\n",
    "#     # cm = sklearn.metrics.confusion_matrix(idx_to_oneHot(y_train), y_hat, normalize='true')\n",
    "#     # cm = sklearn.metrics.confusion_matrix(idx_to_oneHot(y_train[y_train != 3]), y_hat, normalize='true')\n",
    "#     cm = rh_cm(y_hat, y)\n",
    "#     # cm = rh_cm(y_hat, y_train[y_train != 3])\n",
    "    \n",
    "    unc = util.loss_uncertainty(y_hat, temperature=temperature)\n",
    "\n",
    "#     plt.figure()\n",
    "#     plt.imshow(cm)\n",
    "#     return torch.tensor(unc, dtype=torch.float32, device=model_device)\n",
    "    return unc"
   ]
  },
  {
   "cell_type": "markdown",
   "metadata": {
    "id": "3aA1-hY4DB0v"
   },
   "source": [
    "# Train"
   ]
  },
  {
   "cell_type": "code",
   "execution_count": 19,
   "metadata": {
    "colab": {
     "base_uri": "https://localhost:8080/"
    },
    "id": "YtkRZSMqDB0v",
    "outputId": "230c559f-f22c-4182-b3ab-024ba2080a50"
   },
   "outputs": [
    {
     "name": "stdout",
     "output_type": "stream",
     "text": [
      "device: 'cuda'\n"
     ]
    }
   ],
   "source": [
    "DEVICE = torch_helpers.set_device(use_GPU=True)\n",
    "# DEVICE = torch_helpers.set_device(use_GPU=False)"
   ]
  },
  {
   "cell_type": "markdown",
   "metadata": {},
   "source": [
    "### Define New model = model + pre-head + latent layer OR classification layer"
   ]
  },
  {
   "cell_type": "code",
   "execution_count": 20,
   "metadata": {
    "id": "gt4xpqbHBjyL"
   },
   "outputs": [],
   "source": [
    "class ModelTackOn(torch.nn.Module):\n",
    "    def __init__(self, base_model, un_modified_model, pre_head_fc_sizes=[100], post_head_fc_sizes=[100], classifier_fc_sizes=None):\n",
    "            super(ModelTackOn, self).__init__()\n",
    "            self.base_model = base_model\n",
    "            final_base_layer = list(un_modified_model.children())[-1]\n",
    "            # final_base_layer = list(list(model.children())[-1].children())[-1]\n",
    "            # print(final_base_layer)\n",
    "\n",
    "            self.pre_head_fc_lst = []\n",
    "            self.post_head_fc_lst = []\n",
    "            self.classifier_fc_lst = []\n",
    "\n",
    "            self.init_prehead(final_base_layer, pre_head_fc_sizes)\n",
    "            self.init_posthead(pre_head_fc_sizes[-1], post_head_fc_sizes)\n",
    "            if classifier_fc_sizes is not None:\n",
    "                self.init_classifier(pre_head_fc_sizes[-1], classifier_fc_sizes)\n",
    "    \n",
    "    def init_prehead(self, prv_layer, pre_head_fc_sizes):\n",
    "        for i, pre_head_fc in enumerate(pre_head_fc_sizes):\n",
    "            if i == 0:\n",
    "                in_features = prv_layer.in_features if hasattr(prv_layer,'in_features') else 1280\n",
    "            else:\n",
    "                in_features = pre_head_fc_sizes[i - 1]\n",
    "            fc_layer = torch.nn.Linear(in_features=in_features, out_features=pre_head_fc)\n",
    "            self.add_module(f'PreHead_{i}', fc_layer)\n",
    "            self.pre_head_fc_lst.append(fc_layer)\n",
    "\n",
    "#             if i < len(pre_head_fc_sizes) - 1:\n",
    "            non_linearity = torch.nn.ReLU()\n",
    "            self.add_module(f'PreHead_{i}_NonLinearity', non_linearity)\n",
    "            self.pre_head_fc_lst.append(non_linearity)\n",
    "\n",
    "    def init_posthead(self, prv_size, post_head_fc_sizes):\n",
    "        for i, post_head_fc in enumerate(post_head_fc_sizes):\n",
    "            if i == 0:\n",
    "                in_features = prv_size\n",
    "            else:\n",
    "                in_features = post_head_fc_sizes[i - 1]\n",
    "            fc_layer = torch.nn.Linear(in_features=in_features, out_features=post_head_fc)\n",
    "            self.add_module(f'PostHead_{i}', fc_layer)\n",
    "            self.post_head_fc_lst.append(fc_layer)\n",
    "\n",
    "            if i < len(post_head_fc_sizes) - 1:\n",
    "                non_linearity = torch.nn.ReLU()\n",
    "                self.add_module(f'PostHead_{i}_NonLinearity', non_linearity)\n",
    "                self.pre_head_fc_lst.append(non_linearity)\n",
    "    \n",
    "    def init_classifier(self, prv_size, classifier_fc_sizes):\n",
    "            for i, classifier_fc in enumerate(classifier_fc_sizes):\n",
    "                if i == 0:\n",
    "                    in_features = prv_size\n",
    "                else:\n",
    "                    in_features = classifier_fc_sizes[i - 1]\n",
    "            fc_layer = torch.nn.Linear(in_features=in_features, out_features=classifier_fc)\n",
    "            self.add_module(f'Classifier_{i}', fc_layer)\n",
    "            self.classifier_fc_lst.append(fc_layer)\n",
    "\n",
    "    def reinit_classifier(self):\n",
    "        for i_layer, layer in enumerate(self.classifier_fc_lst):\n",
    "            layer.reset_parameters()\n",
    "    \n",
    "#     def forward(self, X):\n",
    "#         interim = self.base_model(X)\n",
    "#         interim = self.get_head(interim)\n",
    "#         interim = self.get_latent(interim)\n",
    "#         return interim\n",
    "\n",
    "    def forward_classifier(self, X):\n",
    "        interim = self.base_model(X)\n",
    "        interim = self.get_head(interim)\n",
    "        interim = self.classify(interim)\n",
    "        return interim\n",
    "\n",
    "    def forward_latent(self, X):\n",
    "        interim = self.base_model(X)\n",
    "        interim = self.get_head(interim)\n",
    "        interim = self.get_latent(interim)\n",
    "        return interim\n",
    "\n",
    "\n",
    "    def get_head(self, base_out):\n",
    "        # print('base_out', base_out.shape)\n",
    "        head = base_out\n",
    "        for pre_head_layer in self.pre_head_fc_lst:\n",
    "          # print('pre_head_layer', pre_head_layer.in_features)\n",
    "          head = pre_head_layer(head)\n",
    "          # print('head', head.shape)\n",
    "        return head\n",
    "\n",
    "    def get_latent(self, head):\n",
    "        latent = head\n",
    "        for post_head_layer in self.post_head_fc_lst:\n",
    "            latent = post_head_layer(latent)\n",
    "        return latent\n",
    "\n",
    "    def classify(self, head):\n",
    "        logit = head\n",
    "        for classifier_layer in self.classifier_fc_lst:\n",
    "            logit = classifier_layer(logit)\n",
    "        return logit\n",
    "\n",
    "    def set_pre_head_grad(self, requires_grad=True):\n",
    "        for layer in self.pre_head_fc_lst:\n",
    "            for param in layer.parameters():\n",
    "                param.requires_grad = requires_grad\n",
    "                \n",
    "    def set_post_head_grad(self, requires_grad=True):\n",
    "        for layer in self.post_head_fc_lst:\n",
    "            for param in layer.parameters():\n",
    "                param.requires_grad = requires_grad\n",
    "\n",
    "    def set_classifier_grad(self, requires_grad=True):\n",
    "        for layer in self.classifier_fc_lst:\n",
    "            for param in layer.parameters():\n",
    "                param.requires_grad = requires_grad\n",
    "\n",
    "    def prep_contrast(self):\n",
    "        self.set_pre_head_grad(requires_grad=True)\n",
    "        self.set_post_head_grad(requires_grad=True)\n",
    "        self.set_classifier_grad(requires_grad=False)\n",
    "\n",
    "    def prep_classifier(self):\n",
    "        self.set_pre_head_grad(requires_grad=False)\n",
    "        self.set_post_head_grad(requires_grad=False)\n",
    "        self.set_classifier_grad(requires_grad=True)\n"
   ]
  },
  {
   "cell_type": "code",
   "execution_count": 21,
   "metadata": {
    "id": "MIix9BdUCkqf"
   },
   "outputs": [],
   "source": [
    "# import torchvision.models\n",
    "\n",
    "# # base_model = torchvision.models.resnet101(pretrained=True)\n",
    "# base_model = torchvision.models.resnet18(pretrained=True)\n",
    "\n",
    "# for param in base_model.parameters():\n",
    "#     param.requires_grad = False\n",
    "\n",
    "# retrain = list(base_model.children())[-1:]\n",
    "# for layer in retrain:\n",
    "#     params = layer.parameters()\n",
    "#     for param in params:\n",
    "#         param.requires_grad = True"
   ]
  },
  {
   "cell_type": "code",
   "execution_count": 22,
   "metadata": {
    "id": "oyjLftj_cEGW"
   },
   "outputs": [],
   "source": [
    "import torchvision.models\n",
    "\n",
    "# base_model_frozen = torchvision.models.resnet101(pretrained=True)\n",
    "# base_model_frozen = torchvision.models.resnet18(pretrained=True)\n",
    "# base_model_frozen = torchvision.models.wide_resnet50_2(pretrained=True)\n",
    "# base_model_frozen = torchvision.models.resnet50(pretrained=True)\n",
    "\n",
    "base_model_frozen = torchvision.models.efficientnet_b0(pretrained=True)\n",
    "\n",
    "\n",
    "for param in base_model_frozen.parameters():\n",
    "    param.requires_grad = False"
   ]
  },
  {
   "cell_type": "markdown",
   "metadata": {},
   "source": [
    "start with a pretrained resnet model, and chop off the final layer. This will be used as the base on which we add the pre-head layers (for expressivity), latent layers (for simCLR), or classification layers (for post-hoc logistic regression)"
   ]
  },
  {
   "cell_type": "code",
   "execution_count": 23,
   "metadata": {
    "id": "aWnb7WWri9qK"
   },
   "outputs": [],
   "source": [
    "model_chopped = torch.nn.Sequential(*(list(base_model_frozen.children())[:-1] + [torch.nn.Flatten()]))"
   ]
  },
  {
   "cell_type": "markdown",
   "metadata": {
    "id": "_E18ZEzpClNd"
   },
   "source": [
    "### Make combined model\n",
    "'model' has two forward methods. One for generating latents (for simCLR) and one for classifying labels"
   ]
  },
  {
   "cell_type": "code",
   "execution_count": 24,
   "metadata": {
    "colab": {
     "base_uri": "https://localhost:8080/"
    },
    "id": "n6Qx-1NGJNY3",
    "outputId": "f7cb3ded-3b48-439e-bf57-a526fb48bac7"
   },
   "outputs": [],
   "source": [
    "model = ModelTackOn(model_chopped, base_model_frozen, pre_head_fc_sizes=[1024, 512], post_head_fc_sizes=[64], classifier_fc_sizes=[len(np.unique(y_labeled_train))])\n",
    "# model = ModelTackOn(model_chopped.to(DEVICE), base_model_frozen, pre_head_fc_sizes=[len(np.unique(y_train))], post_head_fc_sizes=[])\n",
    "# model = ModelTackOn(model_chopped.to(DEVICE), base_model_frozen, pre_head_fc_sizes=[len(np.unique(y_train))], post_head_fc_sizes=[])\n",
    "\n",
    "# model = torch.nn.Sequential([model_chopped.to(DEVICE), torch.nn.Linear], pre_head_fc_sizes=[len(np.unique(y_train))], post_head_fc_sizes=[])\n",
    "\n",
    "\n",
    "# model = ModelTackOn(base_model_frozen, pre_head_fc_sizes=[len(np.unique(y_train))], post_head_fc_sizes=[])\n",
    "# model = ModelTackOn(base_model, pre_head_fc_sizes=[len(np.unique(y_train))], post_head_fc_sizes=[])\n",
    "model.train();"
   ]
  },
  {
   "cell_type": "code",
   "execution_count": null,
   "metadata": {
    "tags": []
   },
   "outputs": [],
   "source": []
  },
  {
   "cell_type": "code",
   "execution_count": 25,
   "metadata": {},
   "outputs": [
    {
     "name": "stdout",
     "output_type": "stream",
     "text": [
      "base_model.0.5.0.block.0.0.weight\n",
      "base_model.0.5.0.block.0.1.weight\n",
      "base_model.0.5.0.block.0.1.bias\n",
      "base_model.0.5.0.block.1.0.weight\n",
      "base_model.0.5.0.block.1.1.weight\n",
      "base_model.0.5.0.block.1.1.bias\n",
      "base_model.0.5.0.block.2.fc1.weight\n",
      "base_model.0.5.0.block.2.fc1.bias\n",
      "base_model.0.5.0.block.2.fc2.weight\n",
      "base_model.0.5.0.block.2.fc2.bias\n",
      "base_model.0.5.0.block.3.0.weight\n",
      "base_model.0.5.0.block.3.1.weight\n",
      "base_model.0.5.0.block.3.1.bias\n",
      "base_model.0.5.1.block.0.0.weight\n",
      "base_model.0.5.1.block.0.1.weight\n",
      "base_model.0.5.1.block.0.1.bias\n",
      "base_model.0.5.1.block.1.0.weight\n",
      "base_model.0.5.1.block.1.1.weight\n",
      "base_model.0.5.1.block.1.1.bias\n",
      "base_model.0.5.1.block.2.fc1.weight\n",
      "base_model.0.5.1.block.2.fc1.bias\n",
      "base_model.0.5.1.block.2.fc2.weight\n",
      "base_model.0.5.1.block.2.fc2.bias\n",
      "base_model.0.5.1.block.3.0.weight\n",
      "base_model.0.5.1.block.3.1.weight\n",
      "base_model.0.5.1.block.3.1.bias\n",
      "base_model.0.5.2.block.0.0.weight\n",
      "base_model.0.5.2.block.0.1.weight\n",
      "base_model.0.5.2.block.0.1.bias\n",
      "base_model.0.5.2.block.1.0.weight\n",
      "base_model.0.5.2.block.1.1.weight\n",
      "base_model.0.5.2.block.1.1.bias\n",
      "base_model.0.5.2.block.2.fc1.weight\n",
      "base_model.0.5.2.block.2.fc1.bias\n",
      "base_model.0.5.2.block.2.fc2.weight\n",
      "base_model.0.5.2.block.2.fc2.bias\n",
      "base_model.0.5.2.block.3.0.weight\n",
      "base_model.0.5.2.block.3.1.weight\n",
      "base_model.0.5.2.block.3.1.bias\n",
      "base_model.0.6.0.block.0.0.weight\n",
      "base_model.0.6.0.block.0.1.weight\n",
      "base_model.0.6.0.block.0.1.bias\n",
      "base_model.0.6.0.block.1.0.weight\n",
      "base_model.0.6.0.block.1.1.weight\n",
      "base_model.0.6.0.block.1.1.bias\n",
      "base_model.0.6.0.block.2.fc1.weight\n",
      "base_model.0.6.0.block.2.fc1.bias\n",
      "base_model.0.6.0.block.2.fc2.weight\n",
      "base_model.0.6.0.block.2.fc2.bias\n",
      "base_model.0.6.0.block.3.0.weight\n",
      "base_model.0.6.0.block.3.1.weight\n",
      "base_model.0.6.0.block.3.1.bias\n",
      "base_model.0.6.1.block.0.0.weight\n",
      "base_model.0.6.1.block.0.1.weight\n",
      "base_model.0.6.1.block.0.1.bias\n",
      "base_model.0.6.1.block.1.0.weight\n",
      "base_model.0.6.1.block.1.1.weight\n",
      "base_model.0.6.1.block.1.1.bias\n",
      "base_model.0.6.1.block.2.fc1.weight\n",
      "base_model.0.6.1.block.2.fc1.bias\n",
      "base_model.0.6.1.block.2.fc2.weight\n",
      "base_model.0.6.1.block.2.fc2.bias\n",
      "base_model.0.6.1.block.3.0.weight\n",
      "base_model.0.6.1.block.3.1.weight\n",
      "base_model.0.6.1.block.3.1.bias\n",
      "base_model.0.6.2.block.0.0.weight\n",
      "base_model.0.6.2.block.0.1.weight\n",
      "base_model.0.6.2.block.0.1.bias\n",
      "base_model.0.6.2.block.1.0.weight\n",
      "base_model.0.6.2.block.1.1.weight\n",
      "base_model.0.6.2.block.1.1.bias\n",
      "base_model.0.6.2.block.2.fc1.weight\n",
      "base_model.0.6.2.block.2.fc1.bias\n",
      "base_model.0.6.2.block.2.fc2.weight\n",
      "base_model.0.6.2.block.2.fc2.bias\n",
      "base_model.0.6.2.block.3.0.weight\n",
      "base_model.0.6.2.block.3.1.weight\n",
      "base_model.0.6.2.block.3.1.bias\n",
      "base_model.0.6.3.block.0.0.weight\n",
      "base_model.0.6.3.block.0.1.weight\n",
      "base_model.0.6.3.block.0.1.bias\n",
      "base_model.0.6.3.block.1.0.weight\n",
      "base_model.0.6.3.block.1.1.weight\n",
      "base_model.0.6.3.block.1.1.bias\n",
      "base_model.0.6.3.block.2.fc1.weight\n",
      "base_model.0.6.3.block.2.fc1.bias\n",
      "base_model.0.6.3.block.2.fc2.weight\n",
      "base_model.0.6.3.block.2.fc2.bias\n",
      "base_model.0.6.3.block.3.0.weight\n",
      "base_model.0.6.3.block.3.1.weight\n",
      "base_model.0.6.3.block.3.1.bias\n",
      "base_model.0.7.0.block.0.0.weight\n",
      "base_model.0.7.0.block.0.1.weight\n",
      "base_model.0.7.0.block.0.1.bias\n",
      "base_model.0.7.0.block.1.0.weight\n",
      "base_model.0.7.0.block.1.1.weight\n",
      "base_model.0.7.0.block.1.1.bias\n",
      "base_model.0.7.0.block.2.fc1.weight\n",
      "base_model.0.7.0.block.2.fc1.bias\n",
      "base_model.0.7.0.block.2.fc2.weight\n",
      "base_model.0.7.0.block.2.fc2.bias\n",
      "base_model.0.7.0.block.3.0.weight\n",
      "base_model.0.7.0.block.3.1.weight\n",
      "base_model.0.7.0.block.3.1.bias\n",
      "base_model.0.8.0.weight\n",
      "base_model.0.8.1.weight\n",
      "base_model.0.8.1.bias\n",
      "PreHead_0.weight\n",
      "PreHead_0.bias\n",
      "PreHead_1.weight\n",
      "PreHead_1.bias\n",
      "PostHead_0.weight\n",
      "PostHead_0.bias\n",
      "Classifier_0.weight\n",
      "Classifier_0.bias\n"
     ]
    }
   ],
   "source": [
    "# unfreeze particular blocks in ResNet model\n",
    "\n",
    "for name, param in list(model.named_parameters()):\n",
    "    # print(name)\n",
    "    if name[:10] == 'base_model':\n",
    "        if int(name[13]) < 5:\n",
    "            param.requires_grad = False\n",
    "        elif int(name[13]) >= 5:\n",
    "            param.requires_grad = True\n",
    "\n",
    "for name, param in list(model.named_parameters()):\n",
    "    if param.requires_grad:\n",
    "        print(name)"
   ]
  },
  {
   "cell_type": "markdown",
   "metadata": {
    "id": "T2ARByXvDB0s"
   },
   "source": [
    "## Define augmentation pipeline"
   ]
  },
  {
   "cell_type": "code",
   "execution_count": 26,
   "metadata": {},
   "outputs": [],
   "source": [
    "import torchvision.transforms    \n",
    "\n",
    "transforms = torch.nn.Sequential(\n",
    "    torchvision.transforms.RandomHorizontalFlip(p=0.5),\n",
    "        \n",
    "    torchvision.transforms.RandomAffine(\n",
    "                                        degrees=(-180,180),\n",
    "                                        translate=(0.15, 0.15), #0, .3, .45 (DEFAULT)\n",
    "                                        scale=(0.6, 1.2), # no scale (1,1), (0.4, 1.5)\n",
    "                                        shear=(-15, 15, -15, 15),\n",
    "                                        interpolation=torchvision.transforms.InterpolationMode.BILINEAR, \n",
    "                                        fill=0, \n",
    "                                        fillcolor=None, \n",
    "                                        resample=None),\n",
    "    augmentation.AddPoissonNoise(   scaler_bounds=(10**(4.5), 10**(6.)),\n",
    "                                    prob=1,\n",
    "                                    base=1000,\n",
    "                                    scaling='log'),\n",
    "    augmentation.AddGaussianNoise(  mean=0, \n",
    "                                    std=0.00015,\n",
    "                                    prob=1),\n",
    "    \n",
    "    augmentation.ScaleDynamicRange(scaler_bounds=(0,1)), # just clamping, both this and clamping = normalizing (DEFAULT)\n",
    "    \n",
    "    torchvision.transforms.Resize(size=(224,224), \n",
    "                                  interpolation=torchvision.transforms.InterpolationMode.BILINEAR), # To do or not to do (DEFAULT)\n",
    "    \n",
    "    augmentation.TileChannels(dim=0, n_channels=3),\n",
    ")\n",
    "    \n",
    "scripted_transforms = torch.jit.script(transforms)"
   ]
  },
  {
   "cell_type": "raw",
   "metadata": {
    "id": "tq77tWZeDB0s"
   },
   "source": [
    "import torchvision.transforms    \n",
    "\n",
    "transforms = torch.nn.Sequential(\n",
    "    \n",
    "#     torchvision.transforms.RandomAdjustSharpness(torch.rand(1)*5, p=0.5),\n",
    "#         torchvision.transforms.RandomPerspective(distortion_scale=0.7, \n",
    "#                                              p=0.5, \n",
    "#                                              interpolation=torchvision.transforms.InterpolationMode.BILINEAR, \n",
    "#                                              fill=0),\n",
    "#     torchvision.transforms.GaussianBlur(kernel_size=5,\n",
    "#                                         sigma=(0.0001, 0.1)),\n",
    "        \n",
    "\n",
    "    torchvision.transforms.RandomHorizontalFlip(p=0.5),\n",
    "        \n",
    "    torchvision.transforms.RandomAffine(\n",
    "                                        degrees=(-180,180),\n",
    "                                        translate=(0.2, 0.2), #0.15/.15\n",
    "                                        scale=(0.4, 1.3),  #.6, 1.2\n",
    "                                        shear=(-25, 25, -25, 25), # -15/+15 across board\n",
    "                                        interpolation=torchvision.transforms.InterpolationMode.BILINEAR, \n",
    "                                        fill=0, \n",
    "                                        fillcolor=None, \n",
    "                                        resample=None),\n",
    "    augmentation.AddPoissonNoise(   scaler_bounds=(10**(4.0), 10**(6.)), # 4.5, 6\n",
    "                                    prob=1,\n",
    "                                    base=1000,\n",
    "                                    scaling='log'),\n",
    "    augmentation.AddGaussianNoise(  mean=0, \n",
    "                                    std=0.0002, # 0.00015\n",
    "                                    prob=1),\n",
    "    \n",
    "    augmentation.ScaleDynamicRange(scaler_bounds=(0,1)), # Do vs. don't do -- bounds between 0/1. Either do this OR do this followed by torchvision.transforms.Normalize\n",
    "    \n",
    "    torchvision.transforms.Resize(size=(224,224),\n",
    "                                  interpolation=torchvision.transforms.InterpolationMode.BILINEAR), # Do vs. don't do\n",
    "    \n",
    "    # augmentation.AddPoissonNoise(   scaler_bounds=(10**(1.5), 10**(4.0)),\n",
    "    #                                 prob=1,\n",
    "    #                                 base=1000,\n",
    "    #                                 scaling='log'),\n",
    "    # augmentation.AddGaussianNoise(  mean=0, \n",
    "    #                                 std=0.1,\n",
    "    #                                 prob=1),\n",
    "    \n",
    "    augmentation.TileChannels(dim=0, n_channels=3),\n",
    "    \n",
    "#     augmentation.Normalize(  means=[0.485, 0.456, 0.406],\n",
    "#                              stds=[0.229, 0.224, 0.225]),\n",
    "#     torchvision.transforms.Normalize(mean=[0.485, 0.456, 0.406],\n",
    "#                                      std=[0.229, 0.224, 0.225],\n",
    "#                                      inplace=False),\n",
    "#     torchvision.transforms.RandomHorizontalFlip(p=0.5),\n",
    "\n",
    "#     torchvision.transforms.RandomAffine(\n",
    "#                                         degrees=(-180,180),\n",
    "#                                         translate=(0.0, 0.0),\n",
    "#                                         interpolation=torchvision.transforms.InterpolationMode.BILINEAR, \n",
    "#                                         fill=0, \n",
    "#                                         # fillcolor=None, \n",
    "#                                         resample=None),\n",
    ")\n",
    "scripted_transforms = torch.jit.script(transforms)\n",
    "# scripted_transforms = transforms"
   ]
  },
  {
   "cell_type": "code",
   "execution_count": 27,
   "metadata": {
    "id": "PmM4nnV1nCVd"
   },
   "outputs": [],
   "source": [
    "dataset_train = util.dataset_simCLR(\n",
    "                                    torch.as_tensor(masks_cat, device='cpu', dtype=torch.float32), \n",
    "                                    torch.as_tensor(torch.zeros(masks_cat.shape[0]), device='cpu', dtype=torch.float32),\n",
    "\n",
    "                                    n_transforms=2,\n",
    "                                    class_weights=np.array([1]),\n",
    "                                    # class_weights=np.array([1]*4)[np.random.randint(0,4, X_train.shape[0])],\n",
    "                                    transform=scripted_transforms,\n",
    "                                    # DEVICE='cpu',\n",
    "                                    DEVICE='cpu',\n",
    "                                    dtype_X=torch.float32,\n",
    "                                    dtype_y=torch.int64,\n",
    "                                    \n",
    "                                    temp_uncertainty=16\n",
    "                                    )\n",
    "dataloader_train = torch.utils.data.DataLoader( dataset_train,\n",
    "#                                                 batch_size=int(pct_batch_size*X_train.shape[0]),\n",
    "                                                batch_size=800,\n",
    "                                                shuffle=True,\n",
    "                                                drop_last=True,\n",
    "                                                pin_memory=True,\n",
    "                                                num_workers=16,\n",
    "                                                persistent_workers=True,\n",
    "                                                # prefetch_factor=0\n",
    "                                                )"
   ]
  },
  {
   "cell_type": "code",
   "execution_count": 28,
   "metadata": {},
   "outputs": [
    {
     "data": {
      "image/png": "[encoded data removed]",
      "text/plain": [
       "<Figure size 432x288 with 2 Axes>"
      ]
     },
     "metadata": {
      "needs_background": "light"
     },
     "output_type": "display_data"
    },
    {
     "data": {
      "image/png": "[encoded data removed]",
      "text/plain": [
       "<Figure size 432x288 with 2 Axes>"
      ]
     },
     "metadata": {
      "needs_background": "light"
     },
     "output_type": "display_data"
    },
    {
     "data": {
      "image/png": "[encoded data removed]",
      "text/plain": [
       "<Figure size 432x288 with 2 Axes>"
      ]
     },
     "metadata": {
      "needs_background": "light"
     },
     "output_type": "display_data"
    },
    {
     "data": {
      "image/png": "[encoded data removed]",
      "text/plain": [
       "<Figure size 432x288 with 2 Axes>"
      ]
     },
     "metadata": {
      "needs_background": "light"
     },
     "output_type": "display_data"
    },
    {
     "data": {
      "image/png": "[encoded data removed]",
      "text/plain": [
       "<Figure size 432x288 with 2 Axes>"
      ]
     },
     "metadata": {
      "needs_background": "light"
     },
     "output_type": "display_data"
    },
    {
     "data": {
      "image/png": "[encoded data removed]",
      "text/plain": [
       "<Figure size 432x288 with 2 Axes>"
      ]
     },
     "metadata": {
      "needs_background": "light"
     },
     "output_type": "display_data"
    },
    {
     "data": {
      "image/png": "[encoded data removed]",
      "text/plain": [
       "<Figure size 432x288 with 2 Axes>"
      ]
     },
     "metadata": {
      "needs_background": "light"
     },
     "output_type": "display_data"
    },
    {
     "data": {
      "image/png": "[encoded data removed]",
      "text/plain": [
       "<Figure size 432x288 with 2 Axes>"
      ]
     },
     "metadata": {
      "needs_background": "light"
     },
     "output_type": "display_data"
    },
    {
     "data": {
      "image/png": "[encoded data removed]",
      "text/plain": [
       "<Figure size 432x288 with 2 Axes>"
      ]
     },
     "metadata": {
      "needs_background": "light"
     },
     "output_type": "display_data"
    },
    {
     "data": {
      "image/png": "[encoded data removed]",
      "text/plain": [
       "<Figure size 432x288 with 2 Axes>"
      ]
     },
     "metadata": {
      "needs_background": "light"
     },
     "output_type": "display_data"
    }
   ],
   "source": [
    "idx_rand = np.random.randint(0,masks_cat.shape[0], 10)\n",
    "for ii in idx_rand:\n",
    "    fig, axs = plt.subplots(2)\n",
    "    axs[0].imshow(dataset_train[ii][0][0][0])\n",
    "    axs[1].imshow(dataset_train[ii][0][1][0])"
   ]
  },
  {
   "cell_type": "code",
   "execution_count": 29,
   "metadata": {
    "colab": {
     "base_uri": "https://localhost:8080/"
    },
    "id": "nstWf2PhVwfV",
    "outputId": "968f73ab-75d7-4735-ea1e-49e7fb3821cc"
   },
   "outputs": [
    {
     "data": {
      "text/plain": [
       "0"
      ]
     },
     "execution_count": 29,
     "metadata": {},
     "output_type": "execute_result"
    }
   ],
   "source": [
    "# torch_helpers.delete_all_cuda_tensors(globals())\n",
    "\n",
    "import gc\n",
    "\n",
    "torch.cuda.empty_cache()\n",
    "gc.collect()\n",
    "torch.cuda.empty_cache()\n",
    "gc.collect()\n",
    "torch.cuda.empty_cache()\n",
    "gc.collect()\n",
    "torch.cuda.empty_cache()\n",
    "gc.collect()"
   ]
  },
  {
   "cell_type": "markdown",
   "metadata": {
    "id": "OQ27o1ny9Xfi"
   },
   "source": [
    "## Training"
   ]
  },
  {
   "cell_type": "code",
   "execution_count": 30,
   "metadata": {},
   "outputs": [],
   "source": [
    "model.to(DEVICE)\n",
    "model.prep_contrast()"
   ]
  },
  {
   "cell_type": "code",
   "execution_count": 31,
   "metadata": {
    "id": "yDqu-bi8mnJB"
   },
   "outputs": [],
   "source": [
    "from torch.nn import CrossEntropyLoss\n",
    "from torch.optim import Adam\n",
    "\n",
    "import numpy as np\n",
    "\n",
    "from sklearn.linear_model import LogisticRegression\n",
    "from sklearn.tree import DecisionTreeClassifier\n",
    "from sklearn.ensemble import RandomForestClassifier\n",
    "from sklearn.svm import SVC\n",
    "\n",
    "\n",
    "# model = models.LeNet1(dropout_prob=0.3, momentum_val=0, n_output_features=64)\n",
    "\n",
    "\n",
    "criterion = [CrossEntropyLoss()]\n",
    "# criterion = CrossEntropyLoss(reduction='none')\n",
    "\n",
    "# optimizer = Adam(model.parameters(), lr=1e-2, weight_decay=0.0)\n",
    "# optimizer = Adam(model.parameters(), lr=2e-2)\n",
    "optimizer = Adam(model.parameters(), lr=10**(-3.5))\n",
    "scheduler = torch.optim.lr_scheduler.ExponentialLR(optimizer,\n",
    "                                                   gamma=1-0.0000,\n",
    "#                                                    gamma=1,\n",
    "                                                  )\n",
    "\n",
    "criterion = [_.to(DEVICE) for _ in criterion]\n",
    "losses_train, losses_val, val_accs, acc = [], [np.nan], [], []"
   ]
  },
  {
   "cell_type": "code",
   "execution_count": null,
   "metadata": {
    "colab": {
     "base_uri": "https://localhost:8080/"
    },
    "id": "rvDiVxDICXEn",
    "outputId": "2c29e3cf-4515-4aae-f0b1-22e30d51fa5f"
   },
   "outputs": [
    {
     "name": "stderr",
     "output_type": "stream",
     "text": [
      "  0%|          | 0/300000 [00:00<?, ?it/s]"
     ]
    },
    {
     "name": "stdout",
     "output_type": "stream",
     "text": [
      "epoch: 0\n",
      "Iter: 0/889, loss_train: 7.3505, loss_val: nan, pos_over_neg: 1.0220708847045898 lr: 0.00031623\n",
      "Iter: 1/889, loss_train: 7.2177, loss_val: nan, pos_over_neg: 1.1768970489501953 lr: 0.00031623\n",
      "Iter: 2/889, loss_train: 6.9905, loss_val: nan, pos_over_neg: 2.5224809646606445 lr: 0.00031623\n",
      "Iter: 3/889, loss_train: 6.7784, loss_val: nan, pos_over_neg: 5.437953472137451 lr: 0.00031623\n",
      "Iter: 4/889, loss_train: 6.6377, loss_val: nan, pos_over_neg: 8.719541549682617 lr: 0.00031623\n",
      "Iter: 5/889, loss_train: 6.5656, loss_val: nan, pos_over_neg: 12.943134307861328 lr: 0.00031623\n",
      "Iter: 6/889, loss_train: 6.4885, loss_val: nan, pos_over_neg: 17.586429595947266 lr: 0.00031623\n",
      "Iter: 7/889, loss_train: 6.405, loss_val: nan, pos_over_neg: 18.794532775878906 lr: 0.00031623\n",
      "Iter: 8/889, loss_train: 6.3586, loss_val: nan, pos_over_neg: 28.996570587158203 lr: 0.00031623\n",
      "Iter: 9/889, loss_train: 6.3395, loss_val: nan, pos_over_neg: 38.7822380065918 lr: 0.00031623\n",
      "Iter: 10/889, loss_train: 6.3272, loss_val: nan, pos_over_neg: 65.60425567626953 lr: 0.00031623\n",
      "Iter: 11/889, loss_train: 6.2898, loss_val: nan, pos_over_neg: 67.6795883178711 lr: 0.00031623\n",
      "Iter: 12/889, loss_train: 6.2601, loss_val: nan, pos_over_neg: 78.40961456298828 lr: 0.00031623\n",
      "Iter: 13/889, loss_train: 6.2326, loss_val: nan, pos_over_neg: 117.75521087646484 lr: 0.00031623\n",
      "Iter: 14/889, loss_train: 6.2202, loss_val: nan, pos_over_neg: 114.4137191772461 lr: 0.00031623\n",
      "Iter: 15/889, loss_train: 6.2118, loss_val: nan, pos_over_neg: 127.23957061767578 lr: 0.00031623\n",
      "Iter: 16/889, loss_train: 6.2071, loss_val: nan, pos_over_neg: 145.14353942871094 lr: 0.00031623\n",
      "Iter: 17/889, loss_train: 6.1882, loss_val: nan, pos_over_neg: 195.40142822265625 lr: 0.00031623\n",
      "Iter: 18/889, loss_train: 6.1473, loss_val: nan, pos_over_neg: 392.2304992675781 lr: 0.00031623\n",
      "Iter: 19/889, loss_train: 6.1541, loss_val: nan, pos_over_neg: 622.8126220703125 lr: 0.00031623\n",
      "Iter: 20/889, loss_train: 6.1456, loss_val: nan, pos_over_neg: 957.8211059570312 lr: 0.00031623\n",
      "Iter: 21/889, loss_train: 6.1318, loss_val: nan, pos_over_neg: 478.95721435546875 lr: 0.00031623\n",
      "Iter: 22/889, loss_train: 6.1414, loss_val: nan, pos_over_neg: 263.5546569824219 lr: 0.00031623\n",
      "Iter: 23/889, loss_train: 6.1154, loss_val: nan, pos_over_neg: 214.3502655029297 lr: 0.00031623\n",
      "Iter: 24/889, loss_train: 6.1155, loss_val: nan, pos_over_neg: 208.42367553710938 lr: 0.00031623\n",
      "Iter: 25/889, loss_train: 6.1089, loss_val: nan, pos_over_neg: 232.44918823242188 lr: 0.00031623\n",
      "Iter: 26/889, loss_train: 6.0764, loss_val: nan, pos_over_neg: 421.9990234375 lr: 0.00031623\n",
      "Iter: 27/889, loss_train: 6.0548, loss_val: nan, pos_over_neg: 1297.8951416015625 lr: 0.00031623\n",
      "Iter: 28/889, loss_train: 6.074, loss_val: nan, pos_over_neg: 505.548583984375 lr: 0.00031623\n",
      "Iter: 29/889, loss_train: 6.0624, loss_val: nan, pos_over_neg: 731.6575317382812 lr: 0.00031623\n",
      "Iter: 30/889, loss_train: 6.0392, loss_val: nan, pos_over_neg: 8798.27734375 lr: 0.00031623\n",
      "Iter: 31/889, loss_train: 6.0579, loss_val: nan, pos_over_neg: 1018.5177612304688 lr: 0.00031623\n",
      "Iter: 32/889, loss_train: 6.0527, loss_val: nan, pos_over_neg: 436.2311096191406 lr: 0.00031623\n",
      "Iter: 33/889, loss_train: 6.0208, loss_val: nan, pos_over_neg: 693.1511840820312 lr: 0.00031623\n",
      "Iter: 34/889, loss_train: 6.0204, loss_val: nan, pos_over_neg: 707.2738037109375 lr: 0.00031623\n",
      "Iter: 35/889, loss_train: 6.0261, loss_val: nan, pos_over_neg: 1293.4984130859375 lr: 0.00031623\n",
      "Iter: 36/889, loss_train: 5.9944, loss_val: nan, pos_over_neg: 1322.463134765625 lr: 0.00031623\n",
      "Iter: 37/889, loss_train: 5.9801, loss_val: nan, pos_over_neg: 2384.5966796875 lr: 0.00031623\n",
      "Iter: 38/889, loss_train: 5.9874, loss_val: nan, pos_over_neg: 1088.1282958984375 lr: 0.00031623\n",
      "Iter: 39/889, loss_train: 5.9769, loss_val: nan, pos_over_neg: -11114.6328125 lr: 0.00031623\n",
      "Iter: 40/889, loss_train: 5.9668, loss_val: nan, pos_over_neg: 4775.92529296875 lr: 0.00031623\n",
      "Iter: 41/889, loss_train: 5.9658, loss_val: nan, pos_over_neg: 2838.640380859375 lr: 0.00031623\n",
      "Iter: 42/889, loss_train: 5.949, loss_val: nan, pos_over_neg: 1430.9508056640625 lr: 0.00031623\n",
      "Iter: 43/889, loss_train: 5.9554, loss_val: nan, pos_over_neg: 461.95672607421875 lr: 0.00031623\n",
      "Iter: 44/889, loss_train: 5.9477, loss_val: nan, pos_over_neg: 202583.1875 lr: 0.00031623\n",
      "Iter: 45/889, loss_train: 5.9386, loss_val: nan, pos_over_neg: 1611.632568359375 lr: 0.00031623\n",
      "Iter: 46/889, loss_train: 5.9447, loss_val: nan, pos_over_neg: 3500.446044921875 lr: 0.00031623\n",
      "Iter: 47/889, loss_train: 5.9233, loss_val: nan, pos_over_neg: 693.322998046875 lr: 0.00031623\n",
      "Iter: 48/889, loss_train: 5.9362, loss_val: nan, pos_over_neg: 1646.08154296875 lr: 0.00031623\n",
      "Iter: 49/889, loss_train: 5.9211, loss_val: nan, pos_over_neg: 622.4068603515625 lr: 0.00031623\n",
      "Iter: 50/889, loss_train: 5.9346, loss_val: nan, pos_over_neg: 503.2987365722656 lr: 0.00031623\n",
      "Iter: 51/889, loss_train: 5.9142, loss_val: nan, pos_over_neg: 5195.79052734375 lr: 0.00031623\n",
      "Iter: 52/889, loss_train: 5.8928, loss_val: nan, pos_over_neg: -1711.4715576171875 lr: 0.00031623\n",
      "Iter: 53/889, loss_train: 5.9025, loss_val: nan, pos_over_neg: -3718.51513671875 lr: 0.00031623\n",
      "Iter: 54/889, loss_train: 5.9269, loss_val: nan, pos_over_neg: 1976.1251220703125 lr: 0.00031623\n",
      "Iter: 55/889, loss_train: 5.8918, loss_val: nan, pos_over_neg: -9096.8359375 lr: 0.00031623\n",
      "Iter: 56/889, loss_train: 5.8937, loss_val: nan, pos_over_neg: 1351.4134521484375 lr: 0.00031623\n",
      "Iter: 57/889, loss_train: 5.8835, loss_val: nan, pos_over_neg: 2122.260498046875 lr: 0.00031623\n",
      "Iter: 58/889, loss_train: 5.8929, loss_val: nan, pos_over_neg: 519.8298950195312 lr: 0.00031623\n",
      "Iter: 59/889, loss_train: 5.8813, loss_val: nan, pos_over_neg: 1542.6837158203125 lr: 0.00031623\n",
      "Iter: 60/889, loss_train: 5.8865, loss_val: nan, pos_over_neg: -4075.568115234375 lr: 0.00031623\n",
      "Iter: 61/889, loss_train: 5.8749, loss_val: nan, pos_over_neg: 1172.0399169921875 lr: 0.00031623\n",
      "Iter: 62/889, loss_train: 5.8835, loss_val: nan, pos_over_neg: 5359.46923828125 lr: 0.00031623\n",
      "Iter: 63/889, loss_train: 5.878, loss_val: nan, pos_over_neg: 484.906005859375 lr: 0.00031623\n",
      "Iter: 64/889, loss_train: 5.8657, loss_val: nan, pos_over_neg: 6110.2294921875 lr: 0.00031623\n",
      "Iter: 65/889, loss_train: 5.8575, loss_val: nan, pos_over_neg: -2115.3212890625 lr: 0.00031623\n",
      "Iter: 66/889, loss_train: 5.8685, loss_val: nan, pos_over_neg: 1667.0081787109375 lr: 0.00031623\n",
      "Iter: 67/889, loss_train: 5.8525, loss_val: nan, pos_over_neg: -2042.255859375 lr: 0.00031623\n",
      "Iter: 68/889, loss_train: 5.8458, loss_val: nan, pos_over_neg: -1654.8759765625 lr: 0.00031623\n",
      "Iter: 69/889, loss_train: 5.8694, loss_val: nan, pos_over_neg: 6549.126953125 lr: 0.00031623\n",
      "Iter: 70/889, loss_train: 5.849, loss_val: nan, pos_over_neg: 418.4118347167969 lr: 0.00031623\n",
      "Iter: 71/889, loss_train: 5.8556, loss_val: nan, pos_over_neg: 454.6623229980469 lr: 0.00031623\n",
      "Iter: 72/889, loss_train: 5.8546, loss_val: nan, pos_over_neg: 1571.6474609375 lr: 0.00031623\n",
      "Iter: 73/889, loss_train: 5.8529, loss_val: nan, pos_over_neg: 5927.6474609375 lr: 0.00031623\n",
      "Iter: 74/889, loss_train: 5.8545, loss_val: nan, pos_over_neg: -5537.66455078125 lr: 0.00031623\n",
      "Iter: 75/889, loss_train: 5.8549, loss_val: nan, pos_over_neg: 777.6973266601562 lr: 0.00031623\n",
      "Iter: 76/889, loss_train: 5.8568, loss_val: nan, pos_over_neg: 760.8744506835938 lr: 0.00031623\n",
      "Iter: 77/889, loss_train: 5.8341, loss_val: nan, pos_over_neg: 2674.410888671875 lr: 0.00031623\n",
      "Iter: 78/889, loss_train: 5.8504, loss_val: nan, pos_over_neg: 888.747314453125 lr: 0.00031623\n",
      "Iter: 79/889, loss_train: 5.8266, loss_val: nan, pos_over_neg: 792.9983520507812 lr: 0.00031623\n",
      "Iter: 80/889, loss_train: 5.8353, loss_val: nan, pos_over_neg: 3989.37939453125 lr: 0.00031623\n",
      "Iter: 81/889, loss_train: 5.833, loss_val: nan, pos_over_neg: 13888.1943359375 lr: 0.00031623\n",
      "Iter: 82/889, loss_train: 5.8274, loss_val: nan, pos_over_neg: 976.22119140625 lr: 0.00031623\n",
      "Iter: 83/889, loss_train: 5.827, loss_val: nan, pos_over_neg: -1491.9964599609375 lr: 0.00031623\n",
      "Iter: 84/889, loss_train: 5.8493, loss_val: nan, pos_over_neg: 559.6599731445312 lr: 0.00031623\n",
      "Iter: 85/889, loss_train: 5.8484, loss_val: nan, pos_over_neg: 669.4257202148438 lr: 0.00031623\n",
      "Iter: 86/889, loss_train: 5.8255, loss_val: nan, pos_over_neg: 6195.5107421875 lr: 0.00031623\n",
      "Iter: 87/889, loss_train: 5.8261, loss_val: nan, pos_over_neg: 5654.27783203125 lr: 0.00031623\n",
      "Iter: 88/889, loss_train: 5.827, loss_val: nan, pos_over_neg: 718.549560546875 lr: 0.00031623\n",
      "Iter: 89/889, loss_train: 5.824, loss_val: nan, pos_over_neg: 593.9935302734375 lr: 0.00031623\n",
      "Iter: 90/889, loss_train: 5.8118, loss_val: nan, pos_over_neg: -9358.6533203125 lr: 0.00031623\n",
      "Iter: 91/889, loss_train: 5.8179, loss_val: nan, pos_over_neg: 3259.0966796875 lr: 0.00031623\n",
      "Iter: 92/889, loss_train: 5.8086, loss_val: nan, pos_over_neg: -2856.69091796875 lr: 0.00031623\n",
      "Iter: 93/889, loss_train: 5.8282, loss_val: nan, pos_over_neg: 1110.370849609375 lr: 0.00031623\n",
      "Iter: 94/889, loss_train: 5.8192, loss_val: nan, pos_over_neg: 1323.3648681640625 lr: 0.00031623\n",
      "Iter: 95/889, loss_train: 5.8073, loss_val: nan, pos_over_neg: 9912.4697265625 lr: 0.00031623\n",
      "Iter: 96/889, loss_train: 5.814, loss_val: nan, pos_over_neg: 5874.48193359375 lr: 0.00031623\n",
      "Iter: 97/889, loss_train: 5.8122, loss_val: nan, pos_over_neg: 15769.9609375 lr: 0.00031623\n",
      "Iter: 98/889, loss_train: 5.8258, loss_val: nan, pos_over_neg: 388.75958251953125 lr: 0.00031623\n",
      "Iter: 99/889, loss_train: 5.8191, loss_val: nan, pos_over_neg: 487.3525085449219 lr: 0.00031623\n",
      "Iter: 100/889, loss_train: 5.7925, loss_val: nan, pos_over_neg: 2950.3837890625 lr: 0.00031623\n",
      "Iter: 101/889, loss_train: 5.7921, loss_val: nan, pos_over_neg: 1174.5814208984375 lr: 0.00031623\n",
      "Iter: 102/889, loss_train: 5.8066, loss_val: nan, pos_over_neg: -26660.498046875 lr: 0.00031623\n",
      "Iter: 103/889, loss_train: 5.7983, loss_val: nan, pos_over_neg: 1451.193603515625 lr: 0.00031623\n",
      "Iter: 104/889, loss_train: 5.8012, loss_val: nan, pos_over_neg: 448.3741455078125 lr: 0.00031623\n",
      "Iter: 105/889, loss_train: 5.8139, loss_val: nan, pos_over_neg: 297.0597839355469 lr: 0.00031623\n",
      "Iter: 106/889, loss_train: 5.8029, loss_val: nan, pos_over_neg: 856.380859375 lr: 0.00031623\n",
      "Iter: 107/889, loss_train: 5.8154, loss_val: nan, pos_over_neg: 485.3912658691406 lr: 0.00031623\n",
      "Iter: 108/889, loss_train: 5.8002, loss_val: nan, pos_over_neg: 282.3837890625 lr: 0.00031623\n",
      "Iter: 109/889, loss_train: 5.7911, loss_val: nan, pos_over_neg: 1420.15185546875 lr: 0.00031623\n",
      "Iter: 110/889, loss_train: 5.7953, loss_val: nan, pos_over_neg: 1225.337890625 lr: 0.00031623\n",
      "Iter: 111/889, loss_train: 5.8077, loss_val: nan, pos_over_neg: 316.13177490234375 lr: 0.00031623\n",
      "Iter: 112/889, loss_train: 5.8031, loss_val: nan, pos_over_neg: 903.3222045898438 lr: 0.00031623\n",
      "Iter: 113/889, loss_train: 5.7969, loss_val: nan, pos_over_neg: 647.0062255859375 lr: 0.00031623\n",
      "Iter: 114/889, loss_train: 5.8017, loss_val: nan, pos_over_neg: 309.9483642578125 lr: 0.00031623\n",
      "Iter: 115/889, loss_train: 5.797, loss_val: nan, pos_over_neg: 562.9505004882812 lr: 0.00031623\n",
      "Iter: 116/889, loss_train: 5.7953, loss_val: nan, pos_over_neg: 3186.811279296875 lr: 0.00031623\n",
      "Iter: 117/889, loss_train: 5.7782, loss_val: nan, pos_over_neg: 1312.8115234375 lr: 0.00031623\n",
      "Iter: 118/889, loss_train: 5.7966, loss_val: nan, pos_over_neg: 261.0555114746094 lr: 0.00031623\n",
      "Iter: 119/889, loss_train: 5.7858, loss_val: nan, pos_over_neg: 1184.495361328125 lr: 0.00031623\n",
      "Iter: 120/889, loss_train: 5.7703, loss_val: nan, pos_over_neg: 2210.078125 lr: 0.00031623\n",
      "Iter: 121/889, loss_train: 5.7934, loss_val: nan, pos_over_neg: 1372.1356201171875 lr: 0.00031623\n",
      "Iter: 122/889, loss_train: 5.7824, loss_val: nan, pos_over_neg: 1277.3115234375 lr: 0.00031623\n",
      "Iter: 123/889, loss_train: 5.7918, loss_val: nan, pos_over_neg: 2960.055908203125 lr: 0.00031623\n",
      "Iter: 124/889, loss_train: 5.7743, loss_val: nan, pos_over_neg: -10390.3779296875 lr: 0.00031623\n",
      "Iter: 125/889, loss_train: 5.7816, loss_val: nan, pos_over_neg: 538.6885986328125 lr: 0.00031623\n",
      "Iter: 126/889, loss_train: 5.7926, loss_val: nan, pos_over_neg: 309.87353515625 lr: 0.00031623\n",
      "Iter: 127/889, loss_train: 5.7816, loss_val: nan, pos_over_neg: 536.95947265625 lr: 0.00031623\n",
      "Iter: 128/889, loss_train: 5.7768, loss_val: nan, pos_over_neg: 2377.57373046875 lr: 0.00031623\n",
      "Iter: 129/889, loss_train: 5.7837, loss_val: nan, pos_over_neg: 1061.135009765625 lr: 0.00031623\n",
      "Iter: 130/889, loss_train: 5.7715, loss_val: nan, pos_over_neg: 25896.82421875 lr: 0.00031623\n",
      "Iter: 131/889, loss_train: 5.7671, loss_val: nan, pos_over_neg: 1361.506591796875 lr: 0.00031623\n",
      "Iter: 132/889, loss_train: 5.7752, loss_val: nan, pos_over_neg: 1199.2012939453125 lr: 0.00031623\n",
      "Iter: 133/889, loss_train: 5.7681, loss_val: nan, pos_over_neg: 931.4696655273438 lr: 0.00031623\n",
      "Iter: 134/889, loss_train: 5.7575, loss_val: nan, pos_over_neg: 773.7745971679688 lr: 0.00031623\n",
      "Iter: 135/889, loss_train: 5.7739, loss_val: nan, pos_over_neg: 438.2635192871094 lr: 0.00031623\n",
      "Iter: 136/889, loss_train: 5.7846, loss_val: nan, pos_over_neg: 505.8307800292969 lr: 0.00031623\n",
      "Iter: 137/889, loss_train: 5.773, loss_val: nan, pos_over_neg: 353.4854431152344 lr: 0.00031623\n",
      "Iter: 138/889, loss_train: 5.7762, loss_val: nan, pos_over_neg: 1632.528076171875 lr: 0.00031623\n",
      "Iter: 139/889, loss_train: 5.7577, loss_val: nan, pos_over_neg: 706.2637329101562 lr: 0.00031623\n",
      "Iter: 140/889, loss_train: 5.7697, loss_val: nan, pos_over_neg: 333.5135803222656 lr: 0.00031623\n",
      "Iter: 141/889, loss_train: 5.7633, loss_val: nan, pos_over_neg: 405.2669982910156 lr: 0.00031623\n",
      "Iter: 142/889, loss_train: 5.7756, loss_val: nan, pos_over_neg: 1882.569091796875 lr: 0.00031623\n",
      "Iter: 143/889, loss_train: 5.7742, loss_val: nan, pos_over_neg: 674.7261962890625 lr: 0.00031623\n",
      "Iter: 144/889, loss_train: 5.7673, loss_val: nan, pos_over_neg: 323.41015625 lr: 0.00031623\n",
      "Iter: 145/889, loss_train: 5.7556, loss_val: nan, pos_over_neg: 355.68695068359375 lr: 0.00031623\n",
      "Iter: 146/889, loss_train: 5.7592, loss_val: nan, pos_over_neg: 443.59393310546875 lr: 0.00031623\n",
      "Iter: 147/889, loss_train: 5.7696, loss_val: nan, pos_over_neg: 242.76011657714844 lr: 0.00031623\n",
      "Iter: 148/889, loss_train: 5.7673, loss_val: nan, pos_over_neg: 459.2056884765625 lr: 0.00031623\n",
      "Iter: 149/889, loss_train: 5.7547, loss_val: nan, pos_over_neg: 629.331787109375 lr: 0.00031623\n",
      "Iter: 150/889, loss_train: 5.7538, loss_val: nan, pos_over_neg: 281.3609313964844 lr: 0.00031623\n",
      "Iter: 151/889, loss_train: 5.7635, loss_val: nan, pos_over_neg: 1678.5986328125 lr: 0.00031623\n",
      "Iter: 152/889, loss_train: 5.7619, loss_val: nan, pos_over_neg: 395.07965087890625 lr: 0.00031623\n",
      "Iter: 153/889, loss_train: 5.7628, loss_val: nan, pos_over_neg: 211.6974334716797 lr: 0.00031623\n",
      "Iter: 154/889, loss_train: 5.7375, loss_val: nan, pos_over_neg: 2408.919677734375 lr: 0.00031623\n",
      "Iter: 155/889, loss_train: 5.7521, loss_val: nan, pos_over_neg: 971.2327270507812 lr: 0.00031623\n",
      "Iter: 156/889, loss_train: 5.7546, loss_val: nan, pos_over_neg: 535.5941162109375 lr: 0.00031623\n",
      "Iter: 157/889, loss_train: 5.7499, loss_val: nan, pos_over_neg: 776.4537963867188 lr: 0.00031623\n",
      "Iter: 158/889, loss_train: 5.7563, loss_val: nan, pos_over_neg: 1010.6810302734375 lr: 0.00031623\n",
      "Iter: 159/889, loss_train: 5.7613, loss_val: nan, pos_over_neg: 277.5295715332031 lr: 0.00031623\n",
      "Iter: 160/889, loss_train: 5.7517, loss_val: nan, pos_over_neg: 707.4452514648438 lr: 0.00031623\n",
      "Iter: 161/889, loss_train: 5.7548, loss_val: nan, pos_over_neg: 853.8880615234375 lr: 0.00031623\n",
      "Iter: 162/889, loss_train: 5.7403, loss_val: nan, pos_over_neg: 2269.888916015625 lr: 0.00031623\n",
      "Iter: 163/889, loss_train: 5.7468, loss_val: nan, pos_over_neg: 1008.6552124023438 lr: 0.00031623\n",
      "Iter: 164/889, loss_train: 5.7482, loss_val: nan, pos_over_neg: 2546.0126953125 lr: 0.00031623\n",
      "Iter: 165/889, loss_train: 5.7469, loss_val: nan, pos_over_neg: 1232.291748046875 lr: 0.00031623\n",
      "Iter: 166/889, loss_train: 5.7574, loss_val: nan, pos_over_neg: 1125.131103515625 lr: 0.00031623\n",
      "Iter: 167/889, loss_train: 5.7431, loss_val: nan, pos_over_neg: 1260.0733642578125 lr: 0.00031623\n",
      "Iter: 168/889, loss_train: 5.7489, loss_val: nan, pos_over_neg: 498.2947082519531 lr: 0.00031623\n",
      "Iter: 169/889, loss_train: 5.7494, loss_val: nan, pos_over_neg: 274.56549072265625 lr: 0.00031623\n",
      "Iter: 170/889, loss_train: 5.7451, loss_val: nan, pos_over_neg: 625.0862426757812 lr: 0.00031623\n",
      "Iter: 171/889, loss_train: 5.7461, loss_val: nan, pos_over_neg: -3234.483642578125 lr: 0.00031623\n",
      "Iter: 172/889, loss_train: 5.7294, loss_val: nan, pos_over_neg: 698.821044921875 lr: 0.00031623\n",
      "Iter: 173/889, loss_train: 5.7495, loss_val: nan, pos_over_neg: 467.5436706542969 lr: 0.00031623\n",
      "Iter: 174/889, loss_train: 5.7567, loss_val: nan, pos_over_neg: 465.2359313964844 lr: 0.00031623\n",
      "Iter: 175/889, loss_train: 5.74, loss_val: nan, pos_over_neg: 514.3671875 lr: 0.00031623\n",
      "Iter: 176/889, loss_train: 5.738, loss_val: nan, pos_over_neg: 1819.2008056640625 lr: 0.00031623\n",
      "Iter: 177/889, loss_train: 5.7439, loss_val: nan, pos_over_neg: -12187.1611328125 lr: 0.00031623\n",
      "Iter: 178/889, loss_train: 5.7373, loss_val: nan, pos_over_neg: 813.9841918945312 lr: 0.00031623\n",
      "Iter: 179/889, loss_train: 5.7495, loss_val: nan, pos_over_neg: 696.72412109375 lr: 0.00031623\n",
      "Iter: 180/889, loss_train: 5.7297, loss_val: nan, pos_over_neg: 2735.09716796875 lr: 0.00031623\n",
      "Iter: 181/889, loss_train: 5.7351, loss_val: nan, pos_over_neg: 2349.9208984375 lr: 0.00031623\n",
      "Iter: 182/889, loss_train: 5.7454, loss_val: nan, pos_over_neg: 1127.1839599609375 lr: 0.00031623\n",
      "Iter: 183/889, loss_train: 5.7482, loss_val: nan, pos_over_neg: 700.1315307617188 lr: 0.00031623\n",
      "Iter: 184/889, loss_train: 5.7402, loss_val: nan, pos_over_neg: 1098.91552734375 lr: 0.00031623\n",
      "Iter: 185/889, loss_train: 5.7334, loss_val: nan, pos_over_neg: 409.39495849609375 lr: 0.00031623\n",
      "Iter: 186/889, loss_train: 5.7386, loss_val: nan, pos_over_neg: 585.8733520507812 lr: 0.00031623\n",
      "Iter: 187/889, loss_train: 5.7403, loss_val: nan, pos_over_neg: 487.8860168457031 lr: 0.00031623\n",
      "Iter: 188/889, loss_train: 5.7332, loss_val: nan, pos_over_neg: 749.7957153320312 lr: 0.00031623\n",
      "Iter: 189/889, loss_train: 5.7358, loss_val: nan, pos_over_neg: 717.6407470703125 lr: 0.00031623\n",
      "Iter: 190/889, loss_train: 5.732, loss_val: nan, pos_over_neg: 1063.4830322265625 lr: 0.00031623\n",
      "Iter: 191/889, loss_train: 5.7321, loss_val: nan, pos_over_neg: 11822.44921875 lr: 0.00031623\n",
      "Iter: 192/889, loss_train: 5.7306, loss_val: nan, pos_over_neg: 653.05615234375 lr: 0.00031623\n",
      "Iter: 193/889, loss_train: 5.7316, loss_val: nan, pos_over_neg: 1059.3504638671875 lr: 0.00031623\n",
      "Iter: 194/889, loss_train: 5.7314, loss_val: nan, pos_over_neg: 667.4219360351562 lr: 0.00031623\n",
      "Iter: 195/889, loss_train: 5.7291, loss_val: nan, pos_over_neg: 888.5586547851562 lr: 0.00031623\n",
      "Iter: 196/889, loss_train: 5.7272, loss_val: nan, pos_over_neg: 504.33233642578125 lr: 0.00031623\n",
      "Iter: 197/889, loss_train: 5.7191, loss_val: nan, pos_over_neg: 1962.5120849609375 lr: 0.00031623\n",
      "Iter: 198/889, loss_train: 5.7295, loss_val: nan, pos_over_neg: 456.7102966308594 lr: 0.00031623\n",
      "Iter: 199/889, loss_train: 5.7365, loss_val: nan, pos_over_neg: 773.3563842773438 lr: 0.00031623\n",
      "Iter: 200/889, loss_train: 5.7289, loss_val: nan, pos_over_neg: 1025.5623779296875 lr: 0.00031623\n",
      "Iter: 201/889, loss_train: 5.7315, loss_val: nan, pos_over_neg: 392.0677185058594 lr: 0.00031623\n",
      "Iter: 202/889, loss_train: 5.7296, loss_val: nan, pos_over_neg: 1139.4814453125 lr: 0.00031623\n",
      "Iter: 203/889, loss_train: 5.7369, loss_val: nan, pos_over_neg: 1042.1365966796875 lr: 0.00031623\n",
      "Iter: 204/889, loss_train: 5.7276, loss_val: nan, pos_over_neg: 737.1661987304688 lr: 0.00031623\n",
      "Iter: 205/889, loss_train: 5.7373, loss_val: nan, pos_over_neg: 1151.7152099609375 lr: 0.00031623\n",
      "Iter: 206/889, loss_train: 5.7243, loss_val: nan, pos_over_neg: 385.376953125 lr: 0.00031623\n",
      "Iter: 207/889, loss_train: 5.7302, loss_val: nan, pos_over_neg: 567.81884765625 lr: 0.00031623\n",
      "Iter: 208/889, loss_train: 5.733, loss_val: nan, pos_over_neg: -7915.517578125 lr: 0.00031623\n",
      "Iter: 209/889, loss_train: 5.7254, loss_val: nan, pos_over_neg: 1753.4034423828125 lr: 0.00031623\n",
      "Iter: 210/889, loss_train: 5.7337, loss_val: nan, pos_over_neg: 691.8267822265625 lr: 0.00031623\n",
      "Iter: 211/889, loss_train: 5.729, loss_val: nan, pos_over_neg: 3304.231201171875 lr: 0.00031623\n",
      "Iter: 212/889, loss_train: 5.7397, loss_val: nan, pos_over_neg: 13744.0078125 lr: 0.00031623\n",
      "Iter: 213/889, loss_train: 5.7042, loss_val: nan, pos_over_neg: -3962.42333984375 lr: 0.00031623\n",
      "Iter: 214/889, loss_train: 5.7271, loss_val: nan, pos_over_neg: 1055.0675048828125 lr: 0.00031623\n",
      "Iter: 215/889, loss_train: 5.7178, loss_val: nan, pos_over_neg: 7070.7158203125 lr: 0.00031623\n",
      "Iter: 216/889, loss_train: 5.7173, loss_val: nan, pos_over_neg: 1140.974853515625 lr: 0.00031623\n",
      "Iter: 217/889, loss_train: 5.7149, loss_val: nan, pos_over_neg: 1424.724609375 lr: 0.00031623\n",
      "Iter: 218/889, loss_train: 5.7231, loss_val: nan, pos_over_neg: -3437.548095703125 lr: 0.00031623\n",
      "Iter: 219/889, loss_train: 5.7302, loss_val: nan, pos_over_neg: -49927.26171875 lr: 0.00031623\n",
      "Iter: 220/889, loss_train: 5.706, loss_val: nan, pos_over_neg: -4156.25439453125 lr: 0.00031623\n",
      "Iter: 221/889, loss_train: 5.7157, loss_val: nan, pos_over_neg: 2738.451904296875 lr: 0.00031623\n",
      "Iter: 222/889, loss_train: 5.7222, loss_val: nan, pos_over_neg: 365.3926086425781 lr: 0.00031623\n",
      "Iter: 223/889, loss_train: 5.7326, loss_val: nan, pos_over_neg: 1900.736572265625 lr: 0.00031623\n",
      "Iter: 224/889, loss_train: 5.7207, loss_val: nan, pos_over_neg: 4198.951171875 lr: 0.00031623\n",
      "Iter: 225/889, loss_train: 5.7123, loss_val: nan, pos_over_neg: 2954.646728515625 lr: 0.00031623\n",
      "Iter: 226/889, loss_train: 5.7233, loss_val: nan, pos_over_neg: 876.1848754882812 lr: 0.00031623\n",
      "Iter: 227/889, loss_train: 5.7129, loss_val: nan, pos_over_neg: 579.8302001953125 lr: 0.00031623\n",
      "Iter: 228/889, loss_train: 5.7212, loss_val: nan, pos_over_neg: 604.843994140625 lr: 0.00031623\n",
      "Iter: 229/889, loss_train: 5.7105, loss_val: nan, pos_over_neg: 669.3285522460938 lr: 0.00031623\n",
      "Iter: 230/889, loss_train: 5.7171, loss_val: nan, pos_over_neg: 1035.7335205078125 lr: 0.00031623\n",
      "Iter: 231/889, loss_train: 5.7196, loss_val: nan, pos_over_neg: 1120.867919921875 lr: 0.00031623\n",
      "Iter: 232/889, loss_train: 5.7145, loss_val: nan, pos_over_neg: 851.0892333984375 lr: 0.00031623\n",
      "Iter: 233/889, loss_train: 5.7089, loss_val: nan, pos_over_neg: 1070.7333984375 lr: 0.00031623\n",
      "Iter: 234/889, loss_train: 5.714, loss_val: nan, pos_over_neg: 403.40863037109375 lr: 0.00031623\n",
      "Iter: 235/889, loss_train: 5.7225, loss_val: nan, pos_over_neg: 386.79901123046875 lr: 0.00031623\n",
      "Iter: 236/889, loss_train: 5.7172, loss_val: nan, pos_over_neg: 676.8027954101562 lr: 0.00031623\n",
      "Iter: 237/889, loss_train: 5.7064, loss_val: nan, pos_over_neg: 1374.6170654296875 lr: 0.00031623\n",
      "Iter: 238/889, loss_train: 5.711, loss_val: nan, pos_over_neg: 510.75048828125 lr: 0.00031623\n",
      "Iter: 239/889, loss_train: 5.7099, loss_val: nan, pos_over_neg: 616.4066162109375 lr: 0.00031623\n",
      "Iter: 240/889, loss_train: 5.7136, loss_val: nan, pos_over_neg: 555.098388671875 lr: 0.00031623\n",
      "Iter: 241/889, loss_train: 5.7064, loss_val: nan, pos_over_neg: 394.5679931640625 lr: 0.00031623\n",
      "Iter: 242/889, loss_train: 5.7006, loss_val: nan, pos_over_neg: 1303.6536865234375 lr: 0.00031623\n",
      "Iter: 243/889, loss_train: 5.7246, loss_val: nan, pos_over_neg: 548.267333984375 lr: 0.00031623\n",
      "Iter: 244/889, loss_train: 5.7059, loss_val: nan, pos_over_neg: 360.83599853515625 lr: 0.00031623\n",
      "Iter: 245/889, loss_train: 5.6917, loss_val: nan, pos_over_neg: 525.9146118164062 lr: 0.00031623\n",
      "Iter: 246/889, loss_train: 5.7216, loss_val: nan, pos_over_neg: 364.8016052246094 lr: 0.00031623\n",
      "Iter: 247/889, loss_train: 5.6991, loss_val: nan, pos_over_neg: 529.2284545898438 lr: 0.00031623\n",
      "Iter: 248/889, loss_train: 5.7141, loss_val: nan, pos_over_neg: 348.9922180175781 lr: 0.00031623\n",
      "Iter: 249/889, loss_train: 5.6995, loss_val: nan, pos_over_neg: 1132.9859619140625 lr: 0.00031623\n",
      "Iter: 250/889, loss_train: 5.7, loss_val: nan, pos_over_neg: 3833.380126953125 lr: 0.00031623\n",
      "Iter: 251/889, loss_train: 5.7068, loss_val: nan, pos_over_neg: 1061.12255859375 lr: 0.00031623\n",
      "Iter: 252/889, loss_train: 5.7156, loss_val: nan, pos_over_neg: 561.2962036132812 lr: 0.00031623\n",
      "Iter: 253/889, loss_train: 5.6891, loss_val: nan, pos_over_neg: 448.2683410644531 lr: 0.00031623\n",
      "Iter: 254/889, loss_train: 5.7066, loss_val: nan, pos_over_neg: 1113.4273681640625 lr: 0.00031623\n",
      "Iter: 255/889, loss_train: 5.7015, loss_val: nan, pos_over_neg: 2870.917236328125 lr: 0.00031623\n",
      "Iter: 256/889, loss_train: 5.7182, loss_val: nan, pos_over_neg: 922.7718505859375 lr: 0.00031623\n",
      "Iter: 257/889, loss_train: 5.7099, loss_val: nan, pos_over_neg: 1321.1805419921875 lr: 0.00031623\n",
      "Iter: 258/889, loss_train: 5.6936, loss_val: nan, pos_over_neg: -5992.5341796875 lr: 0.00031623\n",
      "Iter: 259/889, loss_train: 5.7092, loss_val: nan, pos_over_neg: 2483.341064453125 lr: 0.00031623\n",
      "Iter: 260/889, loss_train: 5.7077, loss_val: nan, pos_over_neg: 851.2005004882812 lr: 0.00031623\n",
      "Iter: 261/889, loss_train: 5.69, loss_val: nan, pos_over_neg: 807.8695678710938 lr: 0.00031623\n",
      "Iter: 262/889, loss_train: 5.7066, loss_val: nan, pos_over_neg: 1455.6064453125 lr: 0.00031623\n",
      "Iter: 263/889, loss_train: 5.7111, loss_val: nan, pos_over_neg: 487.17291259765625 lr: 0.00031623\n",
      "Iter: 264/889, loss_train: 5.6971, loss_val: nan, pos_over_neg: 476.3971862792969 lr: 0.00031623\n",
      "Iter: 265/889, loss_train: 5.6955, loss_val: nan, pos_over_neg: 24442.8515625 lr: 0.00031623\n",
      "Iter: 266/889, loss_train: 5.6974, loss_val: nan, pos_over_neg: 474.5108642578125 lr: 0.00031623\n",
      "Iter: 267/889, loss_train: 5.6971, loss_val: nan, pos_over_neg: 422.4498291015625 lr: 0.00031623\n",
      "Iter: 268/889, loss_train: 5.7042, loss_val: nan, pos_over_neg: 1211.2264404296875 lr: 0.00031623\n",
      "Iter: 269/889, loss_train: 5.7037, loss_val: nan, pos_over_neg: 923.5903930664062 lr: 0.00031623\n",
      "Iter: 270/889, loss_train: 5.6905, loss_val: nan, pos_over_neg: 1172.5233154296875 lr: 0.00031623\n",
      "Iter: 271/889, loss_train: 5.6841, loss_val: nan, pos_over_neg: 1307.43115234375 lr: 0.00031623\n",
      "Iter: 272/889, loss_train: 5.7031, loss_val: nan, pos_over_neg: 866.5028076171875 lr: 0.00031623\n",
      "Iter: 273/889, loss_train: 5.6976, loss_val: nan, pos_over_neg: 254.94862365722656 lr: 0.00031623\n",
      "Iter: 274/889, loss_train: 5.6992, loss_val: nan, pos_over_neg: 369.17401123046875 lr: 0.00031623\n",
      "Iter: 275/889, loss_train: 5.6941, loss_val: nan, pos_over_neg: 4664.71044921875 lr: 0.00031623\n",
      "Iter: 276/889, loss_train: 5.6885, loss_val: nan, pos_over_neg: 2226.6953125 lr: 0.00031623\n",
      "Iter: 277/889, loss_train: 5.6889, loss_val: nan, pos_over_neg: 858.3533325195312 lr: 0.00031623\n",
      "Iter: 278/889, loss_train: 5.6947, loss_val: nan, pos_over_neg: 896.1422729492188 lr: 0.00031623\n",
      "Iter: 279/889, loss_train: 5.6906, loss_val: nan, pos_over_neg: 5453.3828125 lr: 0.00031623\n",
      "Iter: 280/889, loss_train: 5.7003, loss_val: nan, pos_over_neg: 989.2467041015625 lr: 0.00031623\n",
      "Iter: 281/889, loss_train: 5.6949, loss_val: nan, pos_over_neg: 1582.687255859375 lr: 0.00031623\n",
      "Iter: 282/889, loss_train: 5.6828, loss_val: nan, pos_over_neg: 1104.055908203125 lr: 0.00031623\n",
      "Iter: 283/889, loss_train: 5.706, loss_val: nan, pos_over_neg: 524.0582275390625 lr: 0.00031623\n",
      "Iter: 284/889, loss_train: 5.6978, loss_val: nan, pos_over_neg: 484.5321350097656 lr: 0.00031623\n",
      "Iter: 285/889, loss_train: 5.6895, loss_val: nan, pos_over_neg: 570.3301391601562 lr: 0.00031623\n",
      "Iter: 286/889, loss_train: 5.6989, loss_val: nan, pos_over_neg: 561.281494140625 lr: 0.00031623\n",
      "Iter: 287/889, loss_train: 5.6929, loss_val: nan, pos_over_neg: 3275.3740234375 lr: 0.00031623\n",
      "Iter: 288/889, loss_train: 5.6989, loss_val: nan, pos_over_neg: 422.8274230957031 lr: 0.00031623\n",
      "Iter: 289/889, loss_train: 5.6779, loss_val: nan, pos_over_neg: 366.34356689453125 lr: 0.00031623\n",
      "Iter: 290/889, loss_train: 5.6942, loss_val: nan, pos_over_neg: 1015.9810791015625 lr: 0.00031623\n",
      "Iter: 291/889, loss_train: 5.7007, loss_val: nan, pos_over_neg: 247.77972412109375 lr: 0.00031623\n",
      "Iter: 292/889, loss_train: 5.6825, loss_val: nan, pos_over_neg: 536.6657104492188 lr: 0.00031623\n",
      "Iter: 293/889, loss_train: 5.6867, loss_val: nan, pos_over_neg: 532.9136352539062 lr: 0.00031623\n",
      "Iter: 294/889, loss_train: 5.6985, loss_val: nan, pos_over_neg: 277.9309997558594 lr: 0.00031623\n",
      "Iter: 295/889, loss_train: 5.6918, loss_val: nan, pos_over_neg: 408.7898254394531 lr: 0.00031623\n",
      "Iter: 296/889, loss_train: 5.6985, loss_val: nan, pos_over_neg: 487.710693359375 lr: 0.00031623\n",
      "Iter: 297/889, loss_train: 5.7003, loss_val: nan, pos_over_neg: 1781.1903076171875 lr: 0.00031623\n",
      "Iter: 298/889, loss_train: 5.691, loss_val: nan, pos_over_neg: 359.1383056640625 lr: 0.00031623\n",
      "Iter: 299/889, loss_train: 5.6947, loss_val: nan, pos_over_neg: 427.8539123535156 lr: 0.00031623\n",
      "Iter: 300/889, loss_train: 5.6899, loss_val: nan, pos_over_neg: 681.2097778320312 lr: 0.00031623\n",
      "Iter: 301/889, loss_train: 5.6984, loss_val: nan, pos_over_neg: 412.9281311035156 lr: 0.00031623\n",
      "Iter: 302/889, loss_train: 5.677, loss_val: nan, pos_over_neg: 336.2687683105469 lr: 0.00031623\n",
      "Iter: 303/889, loss_train: 5.697, loss_val: nan, pos_over_neg: 508.09649658203125 lr: 0.00031623\n",
      "Iter: 304/889, loss_train: 5.6944, loss_val: nan, pos_over_neg: 511.4692077636719 lr: 0.00031623\n",
      "Iter: 305/889, loss_train: 5.6925, loss_val: nan, pos_over_neg: 747.7554321289062 lr: 0.00031623\n",
      "Iter: 306/889, loss_train: 5.6968, loss_val: nan, pos_over_neg: 343.470947265625 lr: 0.00031623\n",
      "Iter: 307/889, loss_train: 5.6968, loss_val: nan, pos_over_neg: 689.6676025390625 lr: 0.00031623\n",
      "Iter: 308/889, loss_train: 5.6778, loss_val: nan, pos_over_neg: 429.8028564453125 lr: 0.00031623\n",
      "Iter: 309/889, loss_train: 5.6879, loss_val: nan, pos_over_neg: 683.1009521484375 lr: 0.00031623\n",
      "Iter: 310/889, loss_train: 5.6968, loss_val: nan, pos_over_neg: 298.34112548828125 lr: 0.00031623\n",
      "Iter: 311/889, loss_train: 5.6916, loss_val: nan, pos_over_neg: 590.5554809570312 lr: 0.00031623\n",
      "Iter: 312/889, loss_train: 5.6911, loss_val: nan, pos_over_neg: 581.021728515625 lr: 0.00031623\n",
      "Iter: 313/889, loss_train: 5.6962, loss_val: nan, pos_over_neg: 382.0598449707031 lr: 0.00031623\n",
      "Iter: 314/889, loss_train: 5.6837, loss_val: nan, pos_over_neg: 439.5552062988281 lr: 0.00031623\n",
      "Iter: 315/889, loss_train: 5.6795, loss_val: nan, pos_over_neg: 1601.1488037109375 lr: 0.00031623\n",
      "Iter: 316/889, loss_train: 5.6785, loss_val: nan, pos_over_neg: 1177.99365234375 lr: 0.00031623\n",
      "Iter: 317/889, loss_train: 5.6801, loss_val: nan, pos_over_neg: 477.5127868652344 lr: 0.00031623\n",
      "Iter: 318/889, loss_train: 5.6913, loss_val: nan, pos_over_neg: 327.0113830566406 lr: 0.00031623\n",
      "Iter: 319/889, loss_train: 5.6937, loss_val: nan, pos_over_neg: 721.587158203125 lr: 0.00031623\n",
      "Iter: 320/889, loss_train: 5.6748, loss_val: nan, pos_over_neg: 640.8270263671875 lr: 0.00031623\n",
      "Iter: 321/889, loss_train: 5.6842, loss_val: nan, pos_over_neg: 416.87384033203125 lr: 0.00031623\n",
      "Iter: 322/889, loss_train: 5.6859, loss_val: nan, pos_over_neg: 300.4611511230469 lr: 0.00031623\n",
      "Iter: 323/889, loss_train: 5.6683, loss_val: nan, pos_over_neg: 817.6932983398438 lr: 0.00031623\n",
      "Iter: 324/889, loss_train: 5.6843, loss_val: nan, pos_over_neg: 1182.2037353515625 lr: 0.00031623\n",
      "Iter: 325/889, loss_train: 5.6876, loss_val: nan, pos_over_neg: 358.78955078125 lr: 0.00031623\n",
      "Iter: 326/889, loss_train: 5.6781, loss_val: nan, pos_over_neg: 2181.295166015625 lr: 0.00031623\n",
      "Iter: 327/889, loss_train: 5.6739, loss_val: nan, pos_over_neg: 639.7258911132812 lr: 0.00031623\n",
      "Iter: 328/889, loss_train: 5.7053, loss_val: nan, pos_over_neg: 507.79168701171875 lr: 0.00031623\n",
      "Iter: 329/889, loss_train: 5.6839, loss_val: nan, pos_over_neg: 791.7518920898438 lr: 0.00031623\n",
      "Iter: 330/889, loss_train: 5.6784, loss_val: nan, pos_over_neg: 676.0548706054688 lr: 0.00031623\n",
      "Iter: 331/889, loss_train: 5.6866, loss_val: nan, pos_over_neg: 796.548583984375 lr: 0.00031623\n",
      "Iter: 332/889, loss_train: 5.6756, loss_val: nan, pos_over_neg: 2253.810791015625 lr: 0.00031623\n",
      "Iter: 333/889, loss_train: 5.67, loss_val: nan, pos_over_neg: 1353.4093017578125 lr: 0.00031623\n",
      "Iter: 334/889, loss_train: 5.6781, loss_val: nan, pos_over_neg: 1786.6781005859375 lr: 0.00031623\n",
      "Iter: 335/889, loss_train: 5.6797, loss_val: nan, pos_over_neg: 7114.14453125 lr: 0.00031623\n",
      "Iter: 336/889, loss_train: 5.6857, loss_val: nan, pos_over_neg: 408.4133605957031 lr: 0.00031623\n",
      "Iter: 337/889, loss_train: 5.6995, loss_val: nan, pos_over_neg: 523.3958740234375 lr: 0.00031623\n",
      "Iter: 338/889, loss_train: 5.6889, loss_val: nan, pos_over_neg: 708.6388549804688 lr: 0.00031623\n",
      "Iter: 339/889, loss_train: 5.6864, loss_val: nan, pos_over_neg: 1589.0908203125 lr: 0.00031623\n",
      "Iter: 340/889, loss_train: 5.6777, loss_val: nan, pos_over_neg: 2482.368896484375 lr: 0.00031623\n",
      "Iter: 341/889, loss_train: 5.6781, loss_val: nan, pos_over_neg: 9486.56640625 lr: 0.00031623\n",
      "Iter: 342/889, loss_train: 5.6992, loss_val: nan, pos_over_neg: 626.1671142578125 lr: 0.00031623\n",
      "Iter: 343/889, loss_train: 5.6715, loss_val: nan, pos_over_neg: 1375.732666015625 lr: 0.00031623\n",
      "Iter: 344/889, loss_train: 5.6836, loss_val: nan, pos_over_neg: 2743.082763671875 lr: 0.00031623\n",
      "Iter: 345/889, loss_train: 5.6875, loss_val: nan, pos_over_neg: 1209.6065673828125 lr: 0.00031623\n",
      "Iter: 346/889, loss_train: 5.6748, loss_val: nan, pos_over_neg: 1092.491943359375 lr: 0.00031623\n",
      "Iter: 347/889, loss_train: 5.6765, loss_val: nan, pos_over_neg: 2179.423583984375 lr: 0.00031623\n",
      "Iter: 348/889, loss_train: 5.6745, loss_val: nan, pos_over_neg: 1717.1475830078125 lr: 0.00031623\n",
      "Iter: 349/889, loss_train: 5.6771, loss_val: nan, pos_over_neg: 1048.821044921875 lr: 0.00031623\n",
      "Iter: 350/889, loss_train: 5.6822, loss_val: nan, pos_over_neg: 1708.3541259765625 lr: 0.00031623\n",
      "Iter: 351/889, loss_train: 5.6873, loss_val: nan, pos_over_neg: 814.09521484375 lr: 0.00031623\n",
      "Iter: 352/889, loss_train: 5.684, loss_val: nan, pos_over_neg: 52765.44140625 lr: 0.00031623\n",
      "Iter: 353/889, loss_train: 5.6822, loss_val: nan, pos_over_neg: 1299.8204345703125 lr: 0.00031623\n",
      "Iter: 354/889, loss_train: 5.6897, loss_val: nan, pos_over_neg: 1904.4805908203125 lr: 0.00031623\n",
      "Iter: 355/889, loss_train: 5.6781, loss_val: nan, pos_over_neg: 1362.0731201171875 lr: 0.00031623\n",
      "Iter: 356/889, loss_train: 5.6749, loss_val: nan, pos_over_neg: -4938.232421875 lr: 0.00031623\n",
      "Iter: 357/889, loss_train: 5.6797, loss_val: nan, pos_over_neg: 479.76922607421875 lr: 0.00031623\n",
      "Iter: 358/889, loss_train: 5.6911, loss_val: nan, pos_over_neg: 325.2032775878906 lr: 0.00031623\n",
      "Iter: 359/889, loss_train: 5.6737, loss_val: nan, pos_over_neg: 286.885009765625 lr: 0.00031623\n",
      "Iter: 360/889, loss_train: 5.6788, loss_val: nan, pos_over_neg: 330.690185546875 lr: 0.00031623\n",
      "Iter: 361/889, loss_train: 5.6757, loss_val: nan, pos_over_neg: 1666.900146484375 lr: 0.00031623\n",
      "Iter: 362/889, loss_train: 5.6705, loss_val: nan, pos_over_neg: 593.8419799804688 lr: 0.00031623\n",
      "Iter: 363/889, loss_train: 5.6732, loss_val: nan, pos_over_neg: 556.5379638671875 lr: 0.00031623\n",
      "Iter: 364/889, loss_train: 5.6796, loss_val: nan, pos_over_neg: 602.5076904296875 lr: 0.00031623\n",
      "Iter: 365/889, loss_train: 5.6767, loss_val: nan, pos_over_neg: 323.18096923828125 lr: 0.00031623\n",
      "Iter: 366/889, loss_train: 5.6698, loss_val: nan, pos_over_neg: 366.1612548828125 lr: 0.00031623\n",
      "Iter: 367/889, loss_train: 5.6794, loss_val: nan, pos_over_neg: 858.3278198242188 lr: 0.00031623\n",
      "Iter: 368/889, loss_train: 5.676, loss_val: nan, pos_over_neg: 528.2447509765625 lr: 0.00031623\n",
      "Iter: 369/889, loss_train: 5.6733, loss_val: nan, pos_over_neg: 1599.1732177734375 lr: 0.00031623\n",
      "Iter: 370/889, loss_train: 5.6748, loss_val: nan, pos_over_neg: 572.760009765625 lr: 0.00031623\n",
      "Iter: 371/889, loss_train: 5.6706, loss_val: nan, pos_over_neg: 615.6135864257812 lr: 0.00031623\n",
      "Iter: 372/889, loss_train: 5.6844, loss_val: nan, pos_over_neg: 340.5874328613281 lr: 0.00031623\n",
      "Iter: 373/889, loss_train: 5.6862, loss_val: nan, pos_over_neg: 338.8619079589844 lr: 0.00031623\n",
      "Iter: 374/889, loss_train: 5.674, loss_val: nan, pos_over_neg: 504.1878662109375 lr: 0.00031623\n",
      "Iter: 375/889, loss_train: 5.6672, loss_val: nan, pos_over_neg: 564.7311401367188 lr: 0.00031623\n",
      "Iter: 376/889, loss_train: 5.659, loss_val: nan, pos_over_neg: 664.4137573242188 lr: 0.00031623\n",
      "Iter: 377/889, loss_train: 5.6782, loss_val: nan, pos_over_neg: 1039.6717529296875 lr: 0.00031623\n",
      "Iter: 378/889, loss_train: 5.6645, loss_val: nan, pos_over_neg: 551.37744140625 lr: 0.00031623\n",
      "Iter: 379/889, loss_train: 5.6814, loss_val: nan, pos_over_neg: 878.21728515625 lr: 0.00031623\n",
      "Iter: 380/889, loss_train: 5.6738, loss_val: nan, pos_over_neg: 529.3521118164062 lr: 0.00031623\n",
      "Iter: 381/889, loss_train: 5.6711, loss_val: nan, pos_over_neg: 632.7456665039062 lr: 0.00031623\n",
      "Iter: 382/889, loss_train: 5.6851, loss_val: nan, pos_over_neg: 1743.523681640625 lr: 0.00031623\n",
      "Iter: 383/889, loss_train: 5.6701, loss_val: nan, pos_over_neg: 672.2723388671875 lr: 0.00031623\n",
      "Iter: 384/889, loss_train: 5.6823, loss_val: nan, pos_over_neg: 731.6982421875 lr: 0.00031623\n",
      "Iter: 385/889, loss_train: 5.6766, loss_val: nan, pos_over_neg: 1058.440185546875 lr: 0.00031623\n",
      "Iter: 386/889, loss_train: 5.6733, loss_val: nan, pos_over_neg: 851.7926635742188 lr: 0.00031623\n",
      "Iter: 387/889, loss_train: 5.6746, loss_val: nan, pos_over_neg: 1038.450927734375 lr: 0.00031623\n",
      "Iter: 388/889, loss_train: 5.6658, loss_val: nan, pos_over_neg: 804.6710815429688 lr: 0.00031623\n",
      "Iter: 389/889, loss_train: 5.664, loss_val: nan, pos_over_neg: 970.1572875976562 lr: 0.00031623\n",
      "Iter: 390/889, loss_train: 5.6533, loss_val: nan, pos_over_neg: 1163.4656982421875 lr: 0.00031623\n",
      "Iter: 391/889, loss_train: 5.6727, loss_val: nan, pos_over_neg: 975.216064453125 lr: 0.00031623\n",
      "Iter: 392/889, loss_train: 5.6633, loss_val: nan, pos_over_neg: 667.4754638671875 lr: 0.00031623\n",
      "Iter: 393/889, loss_train: 5.6708, loss_val: nan, pos_over_neg: 6470.64453125 lr: 0.00031623\n",
      "Iter: 394/889, loss_train: 5.671, loss_val: nan, pos_over_neg: 975.7208862304688 lr: 0.00031623\n",
      "Iter: 395/889, loss_train: 5.6829, loss_val: nan, pos_over_neg: 1175.782958984375 lr: 0.00031623\n",
      "Iter: 396/889, loss_train: 5.6592, loss_val: nan, pos_over_neg: 1849.023681640625 lr: 0.00031623\n",
      "Iter: 397/889, loss_train: 5.6686, loss_val: nan, pos_over_neg: 2427.319091796875 lr: 0.00031623\n",
      "Iter: 398/889, loss_train: 5.6707, loss_val: nan, pos_over_neg: 740.0625610351562 lr: 0.00031623\n",
      "Iter: 399/889, loss_train: 5.6732, loss_val: nan, pos_over_neg: 493.9941711425781 lr: 0.00031623\n",
      "Iter: 400/889, loss_train: 5.6595, loss_val: nan, pos_over_neg: 1099.549072265625 lr: 0.00031623\n",
      "Iter: 401/889, loss_train: 5.6684, loss_val: nan, pos_over_neg: 705.3995361328125 lr: 0.00031623\n",
      "Iter: 402/889, loss_train: 5.6607, loss_val: nan, pos_over_neg: 559.3282470703125 lr: 0.00031623\n",
      "Iter: 403/889, loss_train: 5.6694, loss_val: nan, pos_over_neg: 706.2162475585938 lr: 0.00031623\n",
      "Iter: 404/889, loss_train: 5.6734, loss_val: nan, pos_over_neg: 723.2258911132812 lr: 0.00031623\n",
      "Iter: 405/889, loss_train: 5.6679, loss_val: nan, pos_over_neg: 584.8168334960938 lr: 0.00031623\n",
      "Iter: 406/889, loss_train: 5.6614, loss_val: nan, pos_over_neg: 921.4442138671875 lr: 0.00031623\n",
      "Iter: 407/889, loss_train: 5.6658, loss_val: nan, pos_over_neg: 598.657470703125 lr: 0.00031623\n",
      "Iter: 408/889, loss_train: 5.6771, loss_val: nan, pos_over_neg: 513.309814453125 lr: 0.00031623\n",
      "Iter: 409/889, loss_train: 5.6622, loss_val: nan, pos_over_neg: 336.3590087890625 lr: 0.00031623\n",
      "Iter: 410/889, loss_train: 5.6765, loss_val: nan, pos_over_neg: 377.4403076171875 lr: 0.00031623\n",
      "Iter: 411/889, loss_train: 5.6727, loss_val: nan, pos_over_neg: 614.6800537109375 lr: 0.00031623\n",
      "Iter: 412/889, loss_train: 5.6696, loss_val: nan, pos_over_neg: 291.9029235839844 lr: 0.00031623\n",
      "Iter: 413/889, loss_train: 5.6806, loss_val: nan, pos_over_neg: 184.1651153564453 lr: 0.00031623\n",
      "Iter: 414/889, loss_train: 5.6684, loss_val: nan, pos_over_neg: 910.2164306640625 lr: 0.00031623\n",
      "Iter: 415/889, loss_train: 5.6513, loss_val: nan, pos_over_neg: 1139.3824462890625 lr: 0.00031623\n",
      "Iter: 416/889, loss_train: 5.683, loss_val: nan, pos_over_neg: 227.7679443359375 lr: 0.00031623\n",
      "Iter: 417/889, loss_train: 5.6718, loss_val: nan, pos_over_neg: 292.9867248535156 lr: 0.00031623\n",
      "Iter: 418/889, loss_train: 5.6622, loss_val: nan, pos_over_neg: 742.82177734375 lr: 0.00031623\n",
      "Iter: 419/889, loss_train: 5.6566, loss_val: nan, pos_over_neg: 509.97625732421875 lr: 0.00031623\n",
      "Iter: 420/889, loss_train: 5.6759, loss_val: nan, pos_over_neg: 290.8557434082031 lr: 0.00031623\n",
      "Iter: 421/889, loss_train: 5.6689, loss_val: nan, pos_over_neg: 1031.6148681640625 lr: 0.00031623\n",
      "Iter: 422/889, loss_train: 5.6697, loss_val: nan, pos_over_neg: 1211.010498046875 lr: 0.00031623\n",
      "Iter: 423/889, loss_train: 5.6658, loss_val: nan, pos_over_neg: 775.0331420898438 lr: 0.00031623\n",
      "Iter: 424/889, loss_train: 5.6552, loss_val: nan, pos_over_neg: 743.9683837890625 lr: 0.00031623\n",
      "Iter: 425/889, loss_train: 5.6709, loss_val: nan, pos_over_neg: 522.43212890625 lr: 0.00031623\n",
      "Iter: 426/889, loss_train: 5.6656, loss_val: nan, pos_over_neg: 357.9234313964844 lr: 0.00031623\n",
      "Iter: 427/889, loss_train: 5.6679, loss_val: nan, pos_over_neg: 632.9360961914062 lr: 0.00031623\n",
      "Iter: 428/889, loss_train: 5.6748, loss_val: nan, pos_over_neg: 313.57489013671875 lr: 0.00031623\n",
      "Iter: 429/889, loss_train: 5.665, loss_val: nan, pos_over_neg: 2343.925048828125 lr: 0.00031623\n",
      "Iter: 430/889, loss_train: 5.6795, loss_val: nan, pos_over_neg: 382.7881774902344 lr: 0.00031623\n",
      "Iter: 431/889, loss_train: 5.6795, loss_val: nan, pos_over_neg: 392.7261962890625 lr: 0.00031623\n",
      "Iter: 432/889, loss_train: 5.6753, loss_val: nan, pos_over_neg: 2317.296875 lr: 0.00031623\n",
      "Iter: 433/889, loss_train: 5.6617, loss_val: nan, pos_over_neg: 1752.226318359375 lr: 0.00031623\n",
      "Iter: 434/889, loss_train: 5.6761, loss_val: nan, pos_over_neg: 348.67828369140625 lr: 0.00031623\n",
      "Iter: 435/889, loss_train: 5.6824, loss_val: nan, pos_over_neg: 319.0092468261719 lr: 0.00031623\n",
      "Iter: 436/889, loss_train: 5.664, loss_val: nan, pos_over_neg: 2199.24072265625 lr: 0.00031623\n",
      "Iter: 437/889, loss_train: 5.6588, loss_val: nan, pos_over_neg: 347.1024475097656 lr: 0.00031623\n",
      "Iter: 438/889, loss_train: 5.6725, loss_val: nan, pos_over_neg: 596.2978515625 lr: 0.00031623\n",
      "Iter: 439/889, loss_train: 5.675, loss_val: nan, pos_over_neg: 435.08148193359375 lr: 0.00031623\n",
      "Iter: 440/889, loss_train: 5.6666, loss_val: nan, pos_over_neg: 807.3430786132812 lr: 0.00031623\n",
      "Iter: 441/889, loss_train: 5.6668, loss_val: nan, pos_over_neg: 747.2129516601562 lr: 0.00031623\n",
      "Iter: 442/889, loss_train: 5.6684, loss_val: nan, pos_over_neg: 888.2407836914062 lr: 0.00031623\n",
      "Iter: 443/889, loss_train: 5.6686, loss_val: nan, pos_over_neg: 542.6022338867188 lr: 0.00031623\n",
      "Iter: 444/889, loss_train: 5.6718, loss_val: nan, pos_over_neg: 971.460693359375 lr: 0.00031623\n",
      "Iter: 445/889, loss_train: 5.668, loss_val: nan, pos_over_neg: 477.36798095703125 lr: 0.00031623\n",
      "Iter: 446/889, loss_train: 5.6519, loss_val: nan, pos_over_neg: 616.4052124023438 lr: 0.00031623\n",
      "Iter: 447/889, loss_train: 5.6535, loss_val: nan, pos_over_neg: 5242.40576171875 lr: 0.00031623\n",
      "Iter: 448/889, loss_train: 5.6711, loss_val: nan, pos_over_neg: 528.2219848632812 lr: 0.00031623\n",
      "Iter: 449/889, loss_train: 5.672, loss_val: nan, pos_over_neg: 595.3320922851562 lr: 0.00031623\n",
      "Iter: 450/889, loss_train: 5.6602, loss_val: nan, pos_over_neg: 1337.77197265625 lr: 0.00031623\n",
      "Iter: 451/889, loss_train: 5.6671, loss_val: nan, pos_over_neg: 1303.9952392578125 lr: 0.00031623\n",
      "Iter: 452/889, loss_train: 5.6682, loss_val: nan, pos_over_neg: 876.7755126953125 lr: 0.00031623\n",
      "Iter: 453/889, loss_train: 5.6578, loss_val: nan, pos_over_neg: 989.2694702148438 lr: 0.00031623\n",
      "Iter: 454/889, loss_train: 5.6678, loss_val: nan, pos_over_neg: 627.4229125976562 lr: 0.00031623\n",
      "Iter: 455/889, loss_train: 5.6722, loss_val: nan, pos_over_neg: 345.8600158691406 lr: 0.00031623\n",
      "Iter: 456/889, loss_train: 5.6539, loss_val: nan, pos_over_neg: 568.554443359375 lr: 0.00031623\n",
      "Iter: 457/889, loss_train: 5.6672, loss_val: nan, pos_over_neg: 253.8321075439453 lr: 0.00031623\n",
      "Iter: 458/889, loss_train: 5.6578, loss_val: nan, pos_over_neg: 535.52783203125 lr: 0.00031623\n",
      "Iter: 459/889, loss_train: 5.6599, loss_val: nan, pos_over_neg: 961.4115600585938 lr: 0.00031623\n",
      "Iter: 460/889, loss_train: 5.664, loss_val: nan, pos_over_neg: 466.1558837890625 lr: 0.00031623\n",
      "Iter: 461/889, loss_train: 5.6699, loss_val: nan, pos_over_neg: 451.0055847167969 lr: 0.00031623\n",
      "Iter: 462/889, loss_train: 5.6595, loss_val: nan, pos_over_neg: 1275.0 lr: 0.00031623\n",
      "Iter: 463/889, loss_train: 5.6605, loss_val: nan, pos_over_neg: 544.7825317382812 lr: 0.00031623\n",
      "Iter: 464/889, loss_train: 5.6749, loss_val: nan, pos_over_neg: 542.8629150390625 lr: 0.00031623\n",
      "Iter: 465/889, loss_train: 5.6639, loss_val: nan, pos_over_neg: 455.3814697265625 lr: 0.00031623\n",
      "Iter: 466/889, loss_train: 5.6664, loss_val: nan, pos_over_neg: 340.3346252441406 lr: 0.00031623\n",
      "Iter: 467/889, loss_train: 5.665, loss_val: nan, pos_over_neg: 498.4071350097656 lr: 0.00031623\n",
      "Iter: 468/889, loss_train: 5.673, loss_val: nan, pos_over_neg: 594.8020629882812 lr: 0.00031623\n",
      "Iter: 469/889, loss_train: 5.6707, loss_val: nan, pos_over_neg: 721.9281005859375 lr: 0.00031623\n",
      "Iter: 470/889, loss_train: 5.6679, loss_val: nan, pos_over_neg: 1049.9130859375 lr: 0.00031623\n",
      "Iter: 471/889, loss_train: 5.656, loss_val: nan, pos_over_neg: 695.3704223632812 lr: 0.00031623\n",
      "Iter: 472/889, loss_train: 5.6624, loss_val: nan, pos_over_neg: 619.8511962890625 lr: 0.00031623\n",
      "Iter: 473/889, loss_train: 5.6618, loss_val: nan, pos_over_neg: 502.33453369140625 lr: 0.00031623\n",
      "Iter: 474/889, loss_train: 5.6719, loss_val: nan, pos_over_neg: 372.6900329589844 lr: 0.00031623\n",
      "Iter: 475/889, loss_train: 5.6601, loss_val: nan, pos_over_neg: 653.8657836914062 lr: 0.00031623\n",
      "Iter: 476/889, loss_train: 5.6584, loss_val: nan, pos_over_neg: 534.3536987304688 lr: 0.00031623\n",
      "Iter: 477/889, loss_train: 5.6655, loss_val: nan, pos_over_neg: 437.06939697265625 lr: 0.00031623\n",
      "Iter: 478/889, loss_train: 5.6492, loss_val: nan, pos_over_neg: 661.0786743164062 lr: 0.00031623\n",
      "Iter: 479/889, loss_train: 5.6541, loss_val: nan, pos_over_neg: 752.2944946289062 lr: 0.00031623\n",
      "Iter: 480/889, loss_train: 5.6674, loss_val: nan, pos_over_neg: 1978.4183349609375 lr: 0.00031623\n",
      "Iter: 481/889, loss_train: 5.6562, loss_val: nan, pos_over_neg: 539.3521728515625 lr: 0.00031623\n",
      "Iter: 482/889, loss_train: 5.6671, loss_val: nan, pos_over_neg: 590.5432739257812 lr: 0.00031623\n",
      "Iter: 483/889, loss_train: 5.6626, loss_val: nan, pos_over_neg: 766.8596801757812 lr: 0.00031623\n",
      "Iter: 484/889, loss_train: 5.6599, loss_val: nan, pos_over_neg: 1249.83447265625 lr: 0.00031623\n",
      "Iter: 485/889, loss_train: 5.6499, loss_val: nan, pos_over_neg: 443.4289855957031 lr: 0.00031623\n",
      "Iter: 486/889, loss_train: 5.6579, loss_val: nan, pos_over_neg: 353.0130920410156 lr: 0.00031623\n",
      "Iter: 487/889, loss_train: 5.6619, loss_val: nan, pos_over_neg: 353.36505126953125 lr: 0.00031623\n",
      "Iter: 488/889, loss_train: 5.6591, loss_val: nan, pos_over_neg: 481.73614501953125 lr: 0.00031623\n",
      "Iter: 489/889, loss_train: 5.6543, loss_val: nan, pos_over_neg: 430.243408203125 lr: 0.00031623\n",
      "Iter: 490/889, loss_train: 5.6546, loss_val: nan, pos_over_neg: 1301.7086181640625 lr: 0.00031623\n",
      "Iter: 491/889, loss_train: 5.6543, loss_val: nan, pos_over_neg: 795.1692504882812 lr: 0.00031623\n",
      "Iter: 492/889, loss_train: 5.6761, loss_val: nan, pos_over_neg: 391.364501953125 lr: 0.00031623\n",
      "Iter: 493/889, loss_train: 5.6554, loss_val: nan, pos_over_neg: 719.5602416992188 lr: 0.00031623\n",
      "Iter: 494/889, loss_train: 5.6538, loss_val: nan, pos_over_neg: 775.1578979492188 lr: 0.00031623\n",
      "Iter: 495/889, loss_train: 5.6567, loss_val: nan, pos_over_neg: 1866.980224609375 lr: 0.00031623\n",
      "Iter: 496/889, loss_train: 5.6626, loss_val: nan, pos_over_neg: 829.47265625 lr: 0.00031623\n",
      "Iter: 497/889, loss_train: 5.6587, loss_val: nan, pos_over_neg: 574.3954467773438 lr: 0.00031623\n",
      "Iter: 498/889, loss_train: 5.6615, loss_val: nan, pos_over_neg: 1043.5811767578125 lr: 0.00031623\n",
      "Iter: 499/889, loss_train: 5.6616, loss_val: nan, pos_over_neg: 781.1783447265625 lr: 0.00031623\n",
      "Iter: 500/889, loss_train: 5.6675, loss_val: nan, pos_over_neg: 273.93157958984375 lr: 0.00031623\n",
      "Iter: 501/889, loss_train: 5.6569, loss_val: nan, pos_over_neg: 1013.041748046875 lr: 0.00031623\n",
      "Iter: 502/889, loss_train: 5.6563, loss_val: nan, pos_over_neg: 1351.76025390625 lr: 0.00031623\n",
      "Iter: 503/889, loss_train: 5.6529, loss_val: nan, pos_over_neg: 1117.279541015625 lr: 0.00031623\n",
      "Iter: 504/889, loss_train: 5.6582, loss_val: nan, pos_over_neg: 1078.3121337890625 lr: 0.00031623\n",
      "Iter: 505/889, loss_train: 5.6612, loss_val: nan, pos_over_neg: 596.9225463867188 lr: 0.00031623\n",
      "Iter: 506/889, loss_train: 5.6514, loss_val: nan, pos_over_neg: 2619.793212890625 lr: 0.00031623\n",
      "Iter: 507/889, loss_train: 5.6602, loss_val: nan, pos_over_neg: 567.0531005859375 lr: 0.00031623\n",
      "Iter: 508/889, loss_train: 5.6626, loss_val: nan, pos_over_neg: 609.943359375 lr: 0.00031623\n",
      "Iter: 509/889, loss_train: 5.6517, loss_val: nan, pos_over_neg: 764.54345703125 lr: 0.00031623\n",
      "Iter: 510/889, loss_train: 5.6589, loss_val: nan, pos_over_neg: 455.6689147949219 lr: 0.00031623\n",
      "Iter: 511/889, loss_train: 5.6573, loss_val: nan, pos_over_neg: 3300.4150390625 lr: 0.00031623\n",
      "Iter: 512/889, loss_train: 5.6586, loss_val: nan, pos_over_neg: 988.6788940429688 lr: 0.00031623\n",
      "Iter: 513/889, loss_train: 5.6568, loss_val: nan, pos_over_neg: 1426.7269287109375 lr: 0.00031623\n",
      "Iter: 514/889, loss_train: 5.6614, loss_val: nan, pos_over_neg: 663.3499145507812 lr: 0.00031623\n",
      "Iter: 515/889, loss_train: 5.6561, loss_val: nan, pos_over_neg: 690.6124267578125 lr: 0.00031623\n",
      "Iter: 516/889, loss_train: 5.6627, loss_val: nan, pos_over_neg: 689.1438598632812 lr: 0.00031623\n",
      "Iter: 517/889, loss_train: 5.6498, loss_val: nan, pos_over_neg: 1331.6763916015625 lr: 0.00031623\n",
      "Iter: 518/889, loss_train: 5.6522, loss_val: nan, pos_over_neg: 434.12457275390625 lr: 0.00031623\n",
      "Iter: 519/889, loss_train: 5.654, loss_val: nan, pos_over_neg: 394.656494140625 lr: 0.00031623\n",
      "Iter: 520/889, loss_train: 5.6589, loss_val: nan, pos_over_neg: 370.01922607421875 lr: 0.00031623\n",
      "Iter: 521/889, loss_train: 5.6506, loss_val: nan, pos_over_neg: 2798.33251953125 lr: 0.00031623\n",
      "Iter: 522/889, loss_train: 5.6576, loss_val: nan, pos_over_neg: 414.5927734375 lr: 0.00031623\n",
      "Iter: 523/889, loss_train: 5.6492, loss_val: nan, pos_over_neg: 619.1572265625 lr: 0.00031623\n",
      "Iter: 524/889, loss_train: 5.6469, loss_val: nan, pos_over_neg: 2152.93115234375 lr: 0.00031623\n",
      "Iter: 525/889, loss_train: 5.6588, loss_val: nan, pos_over_neg: 682.1190185546875 lr: 0.00031623\n",
      "Iter: 526/889, loss_train: 5.6453, loss_val: nan, pos_over_neg: 367.39971923828125 lr: 0.00031623\n",
      "Iter: 527/889, loss_train: 5.6523, loss_val: nan, pos_over_neg: 541.5120849609375 lr: 0.00031623\n",
      "Iter: 528/889, loss_train: 5.6621, loss_val: nan, pos_over_neg: 352.1253356933594 lr: 0.00031623\n",
      "Iter: 529/889, loss_train: 5.6473, loss_val: nan, pos_over_neg: 504.00262451171875 lr: 0.00031623\n",
      "Iter: 530/889, loss_train: 5.6474, loss_val: nan, pos_over_neg: 632.1179809570312 lr: 0.00031623\n",
      "Iter: 531/889, loss_train: 5.6579, loss_val: nan, pos_over_neg: 862.6616821289062 lr: 0.00031623\n",
      "Iter: 532/889, loss_train: 5.6597, loss_val: nan, pos_over_neg: 859.0687866210938 lr: 0.00031623\n",
      "Iter: 533/889, loss_train: 5.6558, loss_val: nan, pos_over_neg: 518.0384521484375 lr: 0.00031623\n",
      "Iter: 534/889, loss_train: 5.6474, loss_val: nan, pos_over_neg: 603.18896484375 lr: 0.00031623\n",
      "Iter: 535/889, loss_train: 5.6542, loss_val: nan, pos_over_neg: 410.6615295410156 lr: 0.00031623\n",
      "Iter: 536/889, loss_train: 5.6661, loss_val: nan, pos_over_neg: 262.6123046875 lr: 0.00031623\n",
      "Iter: 537/889, loss_train: 5.6564, loss_val: nan, pos_over_neg: 475.1571350097656 lr: 0.00031623\n",
      "Iter: 538/889, loss_train: 5.6587, loss_val: nan, pos_over_neg: 276.08392333984375 lr: 0.00031623\n",
      "Iter: 539/889, loss_train: 5.6574, loss_val: nan, pos_over_neg: 381.92291259765625 lr: 0.00031623\n",
      "Iter: 540/889, loss_train: 5.6555, loss_val: nan, pos_over_neg: 1019.6397094726562 lr: 0.00031623\n",
      "Iter: 541/889, loss_train: 5.6475, loss_val: nan, pos_over_neg: 719.5040893554688 lr: 0.00031623\n",
      "Iter: 542/889, loss_train: 5.6543, loss_val: nan, pos_over_neg: 312.7737121582031 lr: 0.00031623\n",
      "Iter: 543/889, loss_train: 5.6442, loss_val: nan, pos_over_neg: 651.095703125 lr: 0.00031623\n",
      "Iter: 544/889, loss_train: 5.6552, loss_val: nan, pos_over_neg: 1023.0353393554688 lr: 0.00031623\n",
      "Iter: 545/889, loss_train: 5.6616, loss_val: nan, pos_over_neg: 317.9138488769531 lr: 0.00031623\n",
      "Iter: 546/889, loss_train: 5.6469, loss_val: nan, pos_over_neg: 912.468994140625 lr: 0.00031623\n",
      "Iter: 547/889, loss_train: 5.6521, loss_val: nan, pos_over_neg: 1346.8297119140625 lr: 0.00031623\n",
      "Iter: 548/889, loss_train: 5.6462, loss_val: nan, pos_over_neg: 735.1776733398438 lr: 0.00031623\n",
      "Iter: 549/889, loss_train: 5.6506, loss_val: nan, pos_over_neg: 1358.6624755859375 lr: 0.00031623\n",
      "Iter: 550/889, loss_train: 5.6382, loss_val: nan, pos_over_neg: 1924.0828857421875 lr: 0.00031623\n",
      "Iter: 551/889, loss_train: 5.659, loss_val: nan, pos_over_neg: 450.7942199707031 lr: 0.00031623\n",
      "Iter: 552/889, loss_train: 5.657, loss_val: nan, pos_over_neg: 487.3063049316406 lr: 0.00031623\n",
      "Iter: 553/889, loss_train: 5.6553, loss_val: nan, pos_over_neg: 1266.3697509765625 lr: 0.00031623\n",
      "Iter: 554/889, loss_train: 5.651, loss_val: nan, pos_over_neg: 991.5714721679688 lr: 0.00031623\n",
      "Iter: 555/889, loss_train: 5.6511, loss_val: nan, pos_over_neg: 525.5902709960938 lr: 0.00031623\n",
      "Iter: 556/889, loss_train: 5.6531, loss_val: nan, pos_over_neg: 775.6439208984375 lr: 0.00031623\n",
      "Iter: 557/889, loss_train: 5.6537, loss_val: nan, pos_over_neg: 1935.3365478515625 lr: 0.00031623\n",
      "Iter: 558/889, loss_train: 5.6498, loss_val: nan, pos_over_neg: 715.4381713867188 lr: 0.00031623\n",
      "Iter: 559/889, loss_train: 5.6488, loss_val: nan, pos_over_neg: 1244.52734375 lr: 0.00031623\n",
      "Iter: 560/889, loss_train: 5.6438, loss_val: nan, pos_over_neg: 815.4208374023438 lr: 0.00031623\n",
      "Iter: 561/889, loss_train: 5.6392, loss_val: nan, pos_over_neg: 759.4049682617188 lr: 0.00031623\n",
      "Iter: 562/889, loss_train: 5.6414, loss_val: nan, pos_over_neg: 958.2426147460938 lr: 0.00031623\n",
      "Iter: 563/889, loss_train: 5.6498, loss_val: nan, pos_over_neg: 425.2444152832031 lr: 0.00031623\n",
      "Iter: 564/889, loss_train: 5.6425, loss_val: nan, pos_over_neg: 658.7451782226562 lr: 0.00031623\n",
      "Iter: 565/889, loss_train: 5.6529, loss_val: nan, pos_over_neg: 4713.29052734375 lr: 0.00031623\n",
      "Iter: 566/889, loss_train: 5.654, loss_val: nan, pos_over_neg: 490.592041015625 lr: 0.00031623\n",
      "Iter: 567/889, loss_train: 5.6534, loss_val: nan, pos_over_neg: 634.1505126953125 lr: 0.00031623\n",
      "Iter: 568/889, loss_train: 5.6439, loss_val: nan, pos_over_neg: 9114.720703125 lr: 0.00031623\n",
      "Iter: 569/889, loss_train: 5.6393, loss_val: nan, pos_over_neg: 658.638916015625 lr: 0.00031623\n",
      "Iter: 570/889, loss_train: 5.6587, loss_val: nan, pos_over_neg: 853.1734008789062 lr: 0.00031623\n",
      "Iter: 571/889, loss_train: 5.6444, loss_val: nan, pos_over_neg: 700.1956787109375 lr: 0.00031623\n",
      "Iter: 572/889, loss_train: 5.6467, loss_val: nan, pos_over_neg: 1129.0921630859375 lr: 0.00031623\n",
      "Iter: 573/889, loss_train: 5.6677, loss_val: nan, pos_over_neg: 461.3750305175781 lr: 0.00031623\n",
      "Iter: 574/889, loss_train: 5.6488, loss_val: nan, pos_over_neg: 460.57049560546875 lr: 0.00031623\n",
      "Iter: 575/889, loss_train: 5.6335, loss_val: nan, pos_over_neg: 470.53619384765625 lr: 0.00031623\n",
      "Iter: 576/889, loss_train: 5.6416, loss_val: nan, pos_over_neg: 1906.784912109375 lr: 0.00031623\n",
      "Iter: 577/889, loss_train: 5.6487, loss_val: nan, pos_over_neg: 4147.28857421875 lr: 0.00031623\n",
      "Iter: 578/889, loss_train: 5.6377, loss_val: nan, pos_over_neg: 836.522705078125 lr: 0.00031623\n",
      "Iter: 579/889, loss_train: 5.6531, loss_val: nan, pos_over_neg: 523.1609497070312 lr: 0.00031623\n",
      "Iter: 580/889, loss_train: 5.6425, loss_val: nan, pos_over_neg: 588.6298217773438 lr: 0.00031623\n",
      "Iter: 581/889, loss_train: 5.6485, loss_val: nan, pos_over_neg: 1065.5997314453125 lr: 0.00031623\n",
      "Iter: 582/889, loss_train: 5.6559, loss_val: nan, pos_over_neg: 485.52935791015625 lr: 0.00031623\n",
      "Iter: 583/889, loss_train: 5.6409, loss_val: nan, pos_over_neg: 796.0233764648438 lr: 0.00031623\n",
      "Iter: 584/889, loss_train: 5.6516, loss_val: nan, pos_over_neg: 605.2692260742188 lr: 0.00031623\n",
      "Iter: 585/889, loss_train: 5.6415, loss_val: nan, pos_over_neg: 538.5193481445312 lr: 0.00031623\n",
      "Iter: 586/889, loss_train: 5.6441, loss_val: nan, pos_over_neg: 720.6505737304688 lr: 0.00031623\n",
      "Iter: 587/889, loss_train: 5.6509, loss_val: nan, pos_over_neg: 992.566650390625 lr: 0.00031623\n",
      "Iter: 588/889, loss_train: 5.6482, loss_val: nan, pos_over_neg: 317.78033447265625 lr: 0.00031623\n",
      "Iter: 589/889, loss_train: 5.6486, loss_val: nan, pos_over_neg: 434.97308349609375 lr: 0.00031623\n",
      "Iter: 590/889, loss_train: 5.6493, loss_val: nan, pos_over_neg: 342.8630065917969 lr: 0.00031623\n",
      "Iter: 591/889, loss_train: 5.6414, loss_val: nan, pos_over_neg: 783.7687377929688 lr: 0.00031623\n",
      "Iter: 592/889, loss_train: 5.6371, loss_val: nan, pos_over_neg: 884.7440795898438 lr: 0.00031623\n",
      "Iter: 593/889, loss_train: 5.6383, loss_val: nan, pos_over_neg: 1597.6103515625 lr: 0.00031623\n",
      "Iter: 594/889, loss_train: 5.6491, loss_val: nan, pos_over_neg: 487.0628356933594 lr: 0.00031623\n",
      "Iter: 595/889, loss_train: 5.6477, loss_val: nan, pos_over_neg: 874.4332275390625 lr: 0.00031623\n",
      "Iter: 596/889, loss_train: 5.6604, loss_val: nan, pos_over_neg: 704.61279296875 lr: 0.00031623\n",
      "Iter: 597/889, loss_train: 5.6437, loss_val: nan, pos_over_neg: 698.1392822265625 lr: 0.00031623\n",
      "Iter: 598/889, loss_train: 5.6527, loss_val: nan, pos_over_neg: 557.2255859375 lr: 0.00031623\n",
      "Iter: 599/889, loss_train: 5.6513, loss_val: nan, pos_over_neg: 2176.341064453125 lr: 0.00031623\n",
      "Iter: 600/889, loss_train: 5.642, loss_val: nan, pos_over_neg: 3324.123779296875 lr: 0.00031623\n",
      "Iter: 601/889, loss_train: 5.6405, loss_val: nan, pos_over_neg: 2903.139892578125 lr: 0.00031623\n",
      "Iter: 602/889, loss_train: 5.6518, loss_val: nan, pos_over_neg: 1174.0196533203125 lr: 0.00031623\n",
      "Iter: 603/889, loss_train: 5.6557, loss_val: nan, pos_over_neg: 1279.957275390625 lr: 0.00031623\n",
      "Iter: 604/889, loss_train: 5.6387, loss_val: nan, pos_over_neg: -39394.79296875 lr: 0.00031623\n",
      "Iter: 605/889, loss_train: 5.6428, loss_val: nan, pos_over_neg: 1653.13037109375 lr: 0.00031623\n",
      "Iter: 606/889, loss_train: 5.6647, loss_val: nan, pos_over_neg: 534.4071044921875 lr: 0.00031623\n",
      "Iter: 607/889, loss_train: 5.6407, loss_val: nan, pos_over_neg: 3014.563232421875 lr: 0.00031623\n",
      "Iter: 608/889, loss_train: 5.6538, loss_val: nan, pos_over_neg: 1015.0062866210938 lr: 0.00031623\n",
      "Iter: 609/889, loss_train: 5.6413, loss_val: nan, pos_over_neg: 1862.1676025390625 lr: 0.00031623\n",
      "Iter: 610/889, loss_train: 5.6399, loss_val: nan, pos_over_neg: 758.0713500976562 lr: 0.00031623\n",
      "Iter: 611/889, loss_train: 5.6417, loss_val: nan, pos_over_neg: 545.4319458007812 lr: 0.00031623\n",
      "Iter: 612/889, loss_train: 5.634, loss_val: nan, pos_over_neg: 3517.01806640625 lr: 0.00031623\n",
      "Iter: 613/889, loss_train: 5.6418, loss_val: nan, pos_over_neg: 1631.475830078125 lr: 0.00031623\n",
      "Iter: 614/889, loss_train: 5.6501, loss_val: nan, pos_over_neg: 966.0961303710938 lr: 0.00031623\n",
      "Iter: 615/889, loss_train: 5.6446, loss_val: nan, pos_over_neg: 1404.5294189453125 lr: 0.00031623\n",
      "Iter: 616/889, loss_train: 5.6579, loss_val: nan, pos_over_neg: 1675.777587890625 lr: 0.00031623\n",
      "Iter: 617/889, loss_train: 5.642, loss_val: nan, pos_over_neg: 1037.7706298828125 lr: 0.00031623\n",
      "Iter: 618/889, loss_train: 5.6508, loss_val: nan, pos_over_neg: 1283.143798828125 lr: 0.00031623\n",
      "Iter: 619/889, loss_train: 5.6375, loss_val: nan, pos_over_neg: 895.8908081054688 lr: 0.00031623\n",
      "Iter: 620/889, loss_train: 5.6426, loss_val: nan, pos_over_neg: 749.791015625 lr: 0.00031623\n",
      "Iter: 621/889, loss_train: 5.6377, loss_val: nan, pos_over_neg: 539.4869995117188 lr: 0.00031623\n",
      "Iter: 622/889, loss_train: 5.6488, loss_val: nan, pos_over_neg: 395.32745361328125 lr: 0.00031623\n",
      "Iter: 623/889, loss_train: 5.6348, loss_val: nan, pos_over_neg: 1363.9713134765625 lr: 0.00031623\n",
      "Iter: 624/889, loss_train: 5.654, loss_val: nan, pos_over_neg: 632.2014770507812 lr: 0.00031623\n",
      "Iter: 625/889, loss_train: 5.6524, loss_val: nan, pos_over_neg: 697.3309936523438 lr: 0.00031623\n",
      "Iter: 626/889, loss_train: 5.6378, loss_val: nan, pos_over_neg: 2655.015869140625 lr: 0.00031623\n",
      "Iter: 627/889, loss_train: 5.6425, loss_val: nan, pos_over_neg: 629.8174438476562 lr: 0.00031623\n",
      "Iter: 628/889, loss_train: 5.6429, loss_val: nan, pos_over_neg: 1064.6142578125 lr: 0.00031623\n",
      "Iter: 629/889, loss_train: 5.6408, loss_val: nan, pos_over_neg: 678.8128051757812 lr: 0.00031623\n",
      "Iter: 630/889, loss_train: 5.6471, loss_val: nan, pos_over_neg: 537.9833374023438 lr: 0.00031623\n",
      "Iter: 631/889, loss_train: 5.6361, loss_val: nan, pos_over_neg: 518.3089599609375 lr: 0.00031623\n",
      "Iter: 632/889, loss_train: 5.6475, loss_val: nan, pos_over_neg: 1201.2490234375 lr: 0.00031623\n",
      "Iter: 633/889, loss_train: 5.6464, loss_val: nan, pos_over_neg: 2570.935546875 lr: 0.00031623\n",
      "Iter: 634/889, loss_train: 5.6377, loss_val: nan, pos_over_neg: 1135.599609375 lr: 0.00031623\n",
      "Iter: 635/889, loss_train: 5.6394, loss_val: nan, pos_over_neg: 1230.6087646484375 lr: 0.00031623\n",
      "Iter: 636/889, loss_train: 5.6333, loss_val: nan, pos_over_neg: 647.650146484375 lr: 0.00031623\n",
      "Iter: 637/889, loss_train: 5.6413, loss_val: nan, pos_over_neg: 595.0078735351562 lr: 0.00031623\n",
      "Iter: 638/889, loss_train: 5.64, loss_val: nan, pos_over_neg: 470.0585632324219 lr: 0.00031623\n",
      "Iter: 639/889, loss_train: 5.6511, loss_val: nan, pos_over_neg: 523.939697265625 lr: 0.00031623\n",
      "Iter: 640/889, loss_train: 5.6399, loss_val: nan, pos_over_neg: 669.165771484375 lr: 0.00031623\n",
      "Iter: 641/889, loss_train: 5.6429, loss_val: nan, pos_over_neg: 530.24169921875 lr: 0.00031623\n",
      "Iter: 642/889, loss_train: 5.6476, loss_val: nan, pos_over_neg: 612.6824340820312 lr: 0.00031623\n",
      "Iter: 643/889, loss_train: 5.6517, loss_val: nan, pos_over_neg: 2384.093994140625 lr: 0.00031623\n",
      "Iter: 644/889, loss_train: 5.6423, loss_val: nan, pos_over_neg: 1522.58154296875 lr: 0.00031623\n",
      "Iter: 645/889, loss_train: 5.6484, loss_val: nan, pos_over_neg: 1002.504638671875 lr: 0.00031623\n",
      "Iter: 646/889, loss_train: 5.6358, loss_val: nan, pos_over_neg: 1518.0618896484375 lr: 0.00031623\n",
      "Iter: 647/889, loss_train: 5.6419, loss_val: nan, pos_over_neg: 1813.6121826171875 lr: 0.00031623\n",
      "Iter: 648/889, loss_train: 5.6488, loss_val: nan, pos_over_neg: 1685.37646484375 lr: 0.00031623\n",
      "Iter: 649/889, loss_train: 5.6402, loss_val: nan, pos_over_neg: 751.67431640625 lr: 0.00031623\n",
      "Iter: 650/889, loss_train: 5.6265, loss_val: nan, pos_over_neg: -18090.3359375 lr: 0.00031623\n",
      "Iter: 651/889, loss_train: 5.6457, loss_val: nan, pos_over_neg: 680.5420532226562 lr: 0.00031623\n",
      "Iter: 652/889, loss_train: 5.6453, loss_val: nan, pos_over_neg: 1466.0272216796875 lr: 0.00031623\n",
      "Iter: 653/889, loss_train: 5.6413, loss_val: nan, pos_over_neg: 1570.782470703125 lr: 0.00031623\n",
      "Iter: 654/889, loss_train: 5.6451, loss_val: nan, pos_over_neg: 812.7044067382812 lr: 0.00031623\n",
      "Iter: 655/889, loss_train: 5.641, loss_val: nan, pos_over_neg: 930.0670166015625 lr: 0.00031623\n",
      "Iter: 656/889, loss_train: 5.6393, loss_val: nan, pos_over_neg: 1922.65771484375 lr: 0.00031623\n",
      "Iter: 657/889, loss_train: 5.6377, loss_val: nan, pos_over_neg: 1738.05029296875 lr: 0.00031623\n",
      "Iter: 658/889, loss_train: 5.6377, loss_val: nan, pos_over_neg: 1256.9730224609375 lr: 0.00031623\n",
      "Iter: 659/889, loss_train: 5.6577, loss_val: nan, pos_over_neg: 1239.84814453125 lr: 0.00031623\n",
      "Iter: 660/889, loss_train: 5.6322, loss_val: nan, pos_over_neg: 1147.8646240234375 lr: 0.00031623\n",
      "Iter: 661/889, loss_train: 5.6357, loss_val: nan, pos_over_neg: 1219.2110595703125 lr: 0.00031623\n",
      "Iter: 662/889, loss_train: 5.629, loss_val: nan, pos_over_neg: 1215.438232421875 lr: 0.00031623\n",
      "Iter: 663/889, loss_train: 5.6362, loss_val: nan, pos_over_neg: 1817.895263671875 lr: 0.00031623\n",
      "Iter: 664/889, loss_train: 5.6522, loss_val: nan, pos_over_neg: 301.6442565917969 lr: 0.00031623\n",
      "Iter: 665/889, loss_train: 5.6387, loss_val: nan, pos_over_neg: 1084.372802734375 lr: 0.00031623\n",
      "Iter: 666/889, loss_train: 5.6459, loss_val: nan, pos_over_neg: 1940.9239501953125 lr: 0.00031623\n",
      "Iter: 667/889, loss_train: 5.6466, loss_val: nan, pos_over_neg: 693.2929077148438 lr: 0.00031623\n",
      "Iter: 668/889, loss_train: 5.6306, loss_val: nan, pos_over_neg: 1016.8900146484375 lr: 0.00031623\n",
      "Iter: 669/889, loss_train: 5.6308, loss_val: nan, pos_over_neg: 832.3890380859375 lr: 0.00031623\n",
      "Iter: 670/889, loss_train: 5.6372, loss_val: nan, pos_over_neg: 1100.7816162109375 lr: 0.00031623\n",
      "Iter: 671/889, loss_train: 5.6412, loss_val: nan, pos_over_neg: 1206.830810546875 lr: 0.00031623\n",
      "Iter: 672/889, loss_train: 5.6282, loss_val: nan, pos_over_neg: 1508.1092529296875 lr: 0.00031623\n",
      "Iter: 673/889, loss_train: 5.6462, loss_val: nan, pos_over_neg: 468.3363342285156 lr: 0.00031623\n",
      "Iter: 674/889, loss_train: 5.6306, loss_val: nan, pos_over_neg: 1436.1676025390625 lr: 0.00031623\n",
      "Iter: 675/889, loss_train: 5.6377, loss_val: nan, pos_over_neg: 790.7909545898438 lr: 0.00031623\n",
      "Iter: 676/889, loss_train: 5.6403, loss_val: nan, pos_over_neg: 590.7369995117188 lr: 0.00031623\n",
      "Iter: 677/889, loss_train: 5.6395, loss_val: nan, pos_over_neg: 14057.345703125 lr: 0.00031623\n",
      "Iter: 678/889, loss_train: 5.644, loss_val: nan, pos_over_neg: 685.5665283203125 lr: 0.00031623\n",
      "Iter: 679/889, loss_train: 5.6365, loss_val: nan, pos_over_neg: 4834.3525390625 lr: 0.00031623\n",
      "Iter: 680/889, loss_train: 5.6443, loss_val: nan, pos_over_neg: 664.6209716796875 lr: 0.00031623\n",
      "Iter: 681/889, loss_train: 5.6431, loss_val: nan, pos_over_neg: 1362.3626708984375 lr: 0.00031623\n",
      "Iter: 682/889, loss_train: 5.6484, loss_val: nan, pos_over_neg: 1446.5545654296875 lr: 0.00031623\n",
      "Iter: 683/889, loss_train: 5.6444, loss_val: nan, pos_over_neg: 783.6915283203125 lr: 0.00031623\n",
      "Iter: 684/889, loss_train: 5.6297, loss_val: nan, pos_over_neg: -18595.80859375 lr: 0.00031623\n",
      "Iter: 685/889, loss_train: 5.636, loss_val: nan, pos_over_neg: 758.1582641601562 lr: 0.00031623\n",
      "Iter: 686/889, loss_train: 5.6461, loss_val: nan, pos_over_neg: 656.04345703125 lr: 0.00031623\n",
      "Iter: 687/889, loss_train: 5.6471, loss_val: nan, pos_over_neg: 872.8126220703125 lr: 0.00031623\n",
      "Iter: 688/889, loss_train: 5.647, loss_val: nan, pos_over_neg: 939.806396484375 lr: 0.00031623\n",
      "Iter: 689/889, loss_train: 5.6302, loss_val: nan, pos_over_neg: 1224.374755859375 lr: 0.00031623\n",
      "Iter: 690/889, loss_train: 5.637, loss_val: nan, pos_over_neg: 996.6233520507812 lr: 0.00031623\n",
      "Iter: 691/889, loss_train: 5.6397, loss_val: nan, pos_over_neg: 1769.09814453125 lr: 0.00031623\n",
      "Iter: 692/889, loss_train: 5.6326, loss_val: nan, pos_over_neg: 4441.01416015625 lr: 0.00031623\n",
      "Iter: 693/889, loss_train: 5.6338, loss_val: nan, pos_over_neg: 1183.581787109375 lr: 0.00031623\n",
      "Iter: 694/889, loss_train: 5.6536, loss_val: nan, pos_over_neg: 626.92431640625 lr: 0.00031623\n",
      "Iter: 695/889, loss_train: 5.6392, loss_val: nan, pos_over_neg: 712.7821655273438 lr: 0.00031623\n",
      "Iter: 696/889, loss_train: 5.645, loss_val: nan, pos_over_neg: 416.611083984375 lr: 0.00031623\n",
      "Iter: 697/889, loss_train: 5.6272, loss_val: nan, pos_over_neg: 3605.515625 lr: 0.00031623\n",
      "Iter: 698/889, loss_train: 5.6375, loss_val: nan, pos_over_neg: 695.9290161132812 lr: 0.00031623\n",
      "Iter: 699/889, loss_train: 5.6478, loss_val: nan, pos_over_neg: 374.2565612792969 lr: 0.00031623\n",
      "Iter: 700/889, loss_train: 5.6418, loss_val: nan, pos_over_neg: 389.14385986328125 lr: 0.00031623\n",
      "Iter: 701/889, loss_train: 5.646, loss_val: nan, pos_over_neg: 488.16827392578125 lr: 0.00031623\n",
      "Iter: 702/889, loss_train: 5.6336, loss_val: nan, pos_over_neg: 776.3900146484375 lr: 0.00031623\n",
      "Iter: 703/889, loss_train: 5.6383, loss_val: nan, pos_over_neg: 388.1275939941406 lr: 0.00031623\n",
      "Iter: 704/889, loss_train: 5.6408, loss_val: nan, pos_over_neg: 310.0196533203125 lr: 0.00031623\n",
      "Iter: 705/889, loss_train: 5.6296, loss_val: nan, pos_over_neg: 577.4623413085938 lr: 0.00031623\n",
      "Iter: 706/889, loss_train: 5.6383, loss_val: nan, pos_over_neg: 302.4347229003906 lr: 0.00031623\n",
      "Iter: 707/889, loss_train: 5.6393, loss_val: nan, pos_over_neg: 709.2626342773438 lr: 0.00031623\n",
      "Iter: 708/889, loss_train: 5.6453, loss_val: nan, pos_over_neg: 741.0222778320312 lr: 0.00031623\n",
      "Iter: 709/889, loss_train: 5.6347, loss_val: nan, pos_over_neg: 1138.5234375 lr: 0.00031623\n",
      "Iter: 710/889, loss_train: 5.6303, loss_val: nan, pos_over_neg: 930.2559814453125 lr: 0.00031623\n",
      "Iter: 711/889, loss_train: 5.6391, loss_val: nan, pos_over_neg: 728.47607421875 lr: 0.00031623\n",
      "Iter: 712/889, loss_train: 5.646, loss_val: nan, pos_over_neg: 354.33294677734375 lr: 0.00031623\n",
      "Iter: 713/889, loss_train: 5.6294, loss_val: nan, pos_over_neg: 680.3338012695312 lr: 0.00031623\n",
      "Iter: 714/889, loss_train: 5.6532, loss_val: nan, pos_over_neg: 775.5335083007812 lr: 0.00031623\n",
      "Iter: 715/889, loss_train: 5.6257, loss_val: nan, pos_over_neg: 1147.8985595703125 lr: 0.00031623\n",
      "Iter: 716/889, loss_train: 5.633, loss_val: nan, pos_over_neg: 486.1549072265625 lr: 0.00031623\n",
      "Iter: 717/889, loss_train: 5.6377, loss_val: nan, pos_over_neg: 845.197265625 lr: 0.00031623\n",
      "Iter: 718/889, loss_train: 5.6379, loss_val: nan, pos_over_neg: 764.9469604492188 lr: 0.00031623\n",
      "Iter: 719/889, loss_train: 5.6225, loss_val: nan, pos_over_neg: 1962.4854736328125 lr: 0.00031623\n",
      "Iter: 720/889, loss_train: 5.6398, loss_val: nan, pos_over_neg: 583.17138671875 lr: 0.00031623\n",
      "Iter: 721/889, loss_train: 5.6291, loss_val: nan, pos_over_neg: 524.8667602539062 lr: 0.00031623\n",
      "Iter: 722/889, loss_train: 5.6355, loss_val: nan, pos_over_neg: 527.354248046875 lr: 0.00031623\n",
      "Iter: 723/889, loss_train: 5.6401, loss_val: nan, pos_over_neg: 1102.537841796875 lr: 0.00031623\n",
      "Iter: 724/889, loss_train: 5.6351, loss_val: nan, pos_over_neg: 915.6028442382812 lr: 0.00031623\n",
      "Iter: 725/889, loss_train: 5.6411, loss_val: nan, pos_over_neg: 400.6350402832031 lr: 0.00031623\n",
      "Iter: 726/889, loss_train: 5.6243, loss_val: nan, pos_over_neg: 2612.47265625 lr: 0.00031623\n",
      "Iter: 727/889, loss_train: 5.6413, loss_val: nan, pos_over_neg: 940.1449584960938 lr: 0.00031623\n",
      "Iter: 728/889, loss_train: 5.632, loss_val: nan, pos_over_neg: 614.417724609375 lr: 0.00031623\n",
      "Iter: 729/889, loss_train: 5.6378, loss_val: nan, pos_over_neg: 571.7476196289062 lr: 0.00031623\n",
      "Iter: 730/889, loss_train: 5.6259, loss_val: nan, pos_over_neg: 727.9364013671875 lr: 0.00031623\n",
      "Iter: 731/889, loss_train: 5.633, loss_val: nan, pos_over_neg: 2126.56884765625 lr: 0.00031623\n",
      "Iter: 732/889, loss_train: 5.6235, loss_val: nan, pos_over_neg: 1115.252685546875 lr: 0.00031623\n",
      "Iter: 733/889, loss_train: 5.6441, loss_val: nan, pos_over_neg: 346.9205627441406 lr: 0.00031623\n",
      "Iter: 734/889, loss_train: 5.6444, loss_val: nan, pos_over_neg: 1123.904541015625 lr: 0.00031623\n",
      "Iter: 735/889, loss_train: 5.6284, loss_val: nan, pos_over_neg: 2478.261474609375 lr: 0.00031623\n",
      "Iter: 736/889, loss_train: 5.6313, loss_val: nan, pos_over_neg: 480.5762939453125 lr: 0.00031623\n",
      "Iter: 737/889, loss_train: 5.6383, loss_val: nan, pos_over_neg: 760.4235229492188 lr: 0.00031623\n",
      "Iter: 738/889, loss_train: 5.6415, loss_val: nan, pos_over_neg: 599.9963989257812 lr: 0.00031623\n",
      "Iter: 739/889, loss_train: 5.6226, loss_val: nan, pos_over_neg: 3740.3583984375 lr: 0.00031623\n",
      "Iter: 740/889, loss_train: 5.6288, loss_val: nan, pos_over_neg: 1453.3778076171875 lr: 0.00031623\n",
      "Iter: 741/889, loss_train: 5.6314, loss_val: nan, pos_over_neg: 1074.6011962890625 lr: 0.00031623\n",
      "Iter: 742/889, loss_train: 5.6276, loss_val: nan, pos_over_neg: 1176.8902587890625 lr: 0.00031623\n",
      "Iter: 743/889, loss_train: 5.6439, loss_val: nan, pos_over_neg: 485.98443603515625 lr: 0.00031623\n",
      "Iter: 744/889, loss_train: 5.6359, loss_val: nan, pos_over_neg: 381.45703125 lr: 0.00031623\n",
      "Iter: 745/889, loss_train: 5.6448, loss_val: nan, pos_over_neg: 536.4679565429688 lr: 0.00031623\n",
      "Iter: 746/889, loss_train: 5.6174, loss_val: nan, pos_over_neg: 973.5180053710938 lr: 0.00031623\n",
      "Iter: 747/889, loss_train: 5.6301, loss_val: nan, pos_over_neg: 605.3255615234375 lr: 0.00031623\n",
      "Iter: 748/889, loss_train: 5.6308, loss_val: nan, pos_over_neg: 413.9850769042969 lr: 0.00031623\n",
      "Iter: 749/889, loss_train: 5.6324, loss_val: nan, pos_over_neg: 646.2634887695312 lr: 0.00031623\n",
      "Iter: 750/889, loss_train: 5.6279, loss_val: nan, pos_over_neg: 609.644287109375 lr: 0.00031623\n",
      "Iter: 751/889, loss_train: 5.6302, loss_val: nan, pos_over_neg: 1958.7322998046875 lr: 0.00031623\n",
      "Iter: 752/889, loss_train: 5.628, loss_val: nan, pos_over_neg: -8902.005859375 lr: 0.00031623\n",
      "Iter: 753/889, loss_train: 5.6371, loss_val: nan, pos_over_neg: 456.5726623535156 lr: 0.00031623\n",
      "Iter: 754/889, loss_train: 5.6281, loss_val: nan, pos_over_neg: 927.7327880859375 lr: 0.00031623\n",
      "Iter: 755/889, loss_train: 5.6247, loss_val: nan, pos_over_neg: 1353.7020263671875 lr: 0.00031623\n",
      "Iter: 756/889, loss_train: 5.6378, loss_val: nan, pos_over_neg: 1011.6864013671875 lr: 0.00031623\n",
      "Iter: 757/889, loss_train: 5.6337, loss_val: nan, pos_over_neg: 882.6832885742188 lr: 0.00031623\n",
      "Iter: 758/889, loss_train: 5.6352, loss_val: nan, pos_over_neg: 571.5348510742188 lr: 0.00031623\n",
      "Iter: 759/889, loss_train: 5.6427, loss_val: nan, pos_over_neg: 617.7332153320312 lr: 0.00031623\n",
      "Iter: 760/889, loss_train: 5.6338, loss_val: nan, pos_over_neg: 615.5552368164062 lr: 0.00031623\n",
      "Iter: 761/889, loss_train: 5.6304, loss_val: nan, pos_over_neg: 530.8170776367188 lr: 0.00031623\n",
      "Iter: 762/889, loss_train: 5.6375, loss_val: nan, pos_over_neg: 694.2366333007812 lr: 0.00031623\n",
      "Iter: 763/889, loss_train: 5.625, loss_val: nan, pos_over_neg: 637.1132202148438 lr: 0.00031623\n",
      "Iter: 764/889, loss_train: 5.6327, loss_val: nan, pos_over_neg: 762.4190063476562 lr: 0.00031623\n",
      "Iter: 765/889, loss_train: 5.6347, loss_val: nan, pos_over_neg: 591.1304321289062 lr: 0.00031623\n",
      "Iter: 766/889, loss_train: 5.6369, loss_val: nan, pos_over_neg: 369.4775390625 lr: 0.00031623\n",
      "Iter: 767/889, loss_train: 5.6265, loss_val: nan, pos_over_neg: 2565.8525390625 lr: 0.00031623\n",
      "Iter: 768/889, loss_train: 5.6308, loss_val: nan, pos_over_neg: 618.8679809570312 lr: 0.00031623\n",
      "Iter: 769/889, loss_train: 5.6378, loss_val: nan, pos_over_neg: 473.056884765625 lr: 0.00031623\n",
      "Iter: 770/889, loss_train: 5.6306, loss_val: nan, pos_over_neg: 599.226806640625 lr: 0.00031623\n",
      "Iter: 771/889, loss_train: 5.6532, loss_val: nan, pos_over_neg: 530.6837768554688 lr: 0.00031623\n",
      "Iter: 772/889, loss_train: 5.6255, loss_val: nan, pos_over_neg: 736.2213745117188 lr: 0.00031623\n",
      "Iter: 773/889, loss_train: 5.6268, loss_val: nan, pos_over_neg: 1621.7396240234375 lr: 0.00031623\n",
      "Iter: 774/889, loss_train: 5.6299, loss_val: nan, pos_over_neg: 578.2833862304688 lr: 0.00031623\n",
      "Iter: 775/889, loss_train: 5.639, loss_val: nan, pos_over_neg: 634.2344360351562 lr: 0.00031623\n",
      "Iter: 776/889, loss_train: 5.6378, loss_val: nan, pos_over_neg: 337.0879211425781 lr: 0.00031623\n",
      "Iter: 777/889, loss_train: 5.6248, loss_val: nan, pos_over_neg: 859.8236694335938 lr: 0.00031623\n",
      "Iter: 778/889, loss_train: 5.6313, loss_val: nan, pos_over_neg: 677.934326171875 lr: 0.00031623\n",
      "Iter: 779/889, loss_train: 5.6391, loss_val: nan, pos_over_neg: 463.80340576171875 lr: 0.00031623\n",
      "Iter: 780/889, loss_train: 5.649, loss_val: nan, pos_over_neg: 416.7518310546875 lr: 0.00031623\n",
      "Iter: 781/889, loss_train: 5.6339, loss_val: nan, pos_over_neg: 1121.553955078125 lr: 0.00031623\n",
      "Iter: 782/889, loss_train: 5.6373, loss_val: nan, pos_over_neg: 497.2071228027344 lr: 0.00031623\n",
      "Iter: 783/889, loss_train: 5.6367, loss_val: nan, pos_over_neg: 927.8388671875 lr: 0.00031623\n",
      "Iter: 784/889, loss_train: 5.6509, loss_val: nan, pos_over_neg: 588.267578125 lr: 0.00031623\n",
      "Iter: 785/889, loss_train: 5.624, loss_val: nan, pos_over_neg: 1366.5426025390625 lr: 0.00031623\n",
      "Iter: 786/889, loss_train: 5.6316, loss_val: nan, pos_over_neg: 408.7004699707031 lr: 0.00031623\n",
      "Iter: 787/889, loss_train: 5.6437, loss_val: nan, pos_over_neg: 540.0293579101562 lr: 0.00031623\n",
      "Iter: 788/889, loss_train: 5.6353, loss_val: nan, pos_over_neg: 1260.2884521484375 lr: 0.00031623\n",
      "Iter: 789/889, loss_train: 5.6315, loss_val: nan, pos_over_neg: 2026.9661865234375 lr: 0.00031623\n",
      "Iter: 790/889, loss_train: 5.6409, loss_val: nan, pos_over_neg: 682.3955688476562 lr: 0.00031623\n",
      "Iter: 791/889, loss_train: 5.6356, loss_val: nan, pos_over_neg: 1341.6094970703125 lr: 0.00031623\n",
      "Iter: 792/889, loss_train: 5.6335, loss_val: nan, pos_over_neg: -29622.361328125 lr: 0.00031623\n",
      "Iter: 793/889, loss_train: 5.6492, loss_val: nan, pos_over_neg: 367.26275634765625 lr: 0.00031623\n",
      "Iter: 794/889, loss_train: 5.6195, loss_val: nan, pos_over_neg: 413.352783203125 lr: 0.00031623\n",
      "Iter: 795/889, loss_train: 5.6354, loss_val: nan, pos_over_neg: 2242.14501953125 lr: 0.00031623\n",
      "Iter: 796/889, loss_train: 5.6337, loss_val: nan, pos_over_neg: 664.8882446289062 lr: 0.00031623\n",
      "Iter: 797/889, loss_train: 5.6291, loss_val: nan, pos_over_neg: 1892.374755859375 lr: 0.00031623\n",
      "Iter: 798/889, loss_train: 5.6233, loss_val: nan, pos_over_neg: 2229.92578125 lr: 0.00031623\n",
      "Iter: 799/889, loss_train: 5.6318, loss_val: nan, pos_over_neg: 321.25067138671875 lr: 0.00031623\n",
      "Iter: 800/889, loss_train: 5.6341, loss_val: nan, pos_over_neg: 388.3822937011719 lr: 0.00031623\n",
      "Iter: 801/889, loss_train: 5.6324, loss_val: nan, pos_over_neg: -24118.64453125 lr: 0.00031623\n",
      "Iter: 802/889, loss_train: 5.6262, loss_val: nan, pos_over_neg: 32687.029296875 lr: 0.00031623\n",
      "Iter: 803/889, loss_train: 5.631, loss_val: nan, pos_over_neg: 857.2490234375 lr: 0.00031623\n",
      "Iter: 804/889, loss_train: 5.6287, loss_val: nan, pos_over_neg: 1233.231201171875 lr: 0.00031623\n",
      "Iter: 805/889, loss_train: 5.6334, loss_val: nan, pos_over_neg: 990.4743041992188 lr: 0.00031623\n",
      "Iter: 806/889, loss_train: 5.6274, loss_val: nan, pos_over_neg: 1716.928466796875 lr: 0.00031623\n",
      "Iter: 807/889, loss_train: 5.6289, loss_val: nan, pos_over_neg: 1403.446044921875 lr: 0.00031623\n",
      "Iter: 808/889, loss_train: 5.6251, loss_val: nan, pos_over_neg: -10280.4130859375 lr: 0.00031623\n",
      "Iter: 809/889, loss_train: 5.6246, loss_val: nan, pos_over_neg: 717.334716796875 lr: 0.00031623\n",
      "Iter: 810/889, loss_train: 5.6466, loss_val: nan, pos_over_neg: 1043.0391845703125 lr: 0.00031623\n",
      "Iter: 811/889, loss_train: 5.6301, loss_val: nan, pos_over_neg: 922.9166870117188 lr: 0.00031623\n",
      "Iter: 812/889, loss_train: 5.6247, loss_val: nan, pos_over_neg: 642.05712890625 lr: 0.00031623\n",
      "Iter: 813/889, loss_train: 5.6309, loss_val: nan, pos_over_neg: 611.529541015625 lr: 0.00031623\n",
      "Iter: 814/889, loss_train: 5.6349, loss_val: nan, pos_over_neg: 935.01318359375 lr: 0.00031623\n",
      "Iter: 815/889, loss_train: 5.6399, loss_val: nan, pos_over_neg: 637.0587158203125 lr: 0.00031623\n",
      "Iter: 816/889, loss_train: 5.6284, loss_val: nan, pos_over_neg: 1290.2747802734375 lr: 0.00031623\n",
      "Iter: 817/889, loss_train: 5.6265, loss_val: nan, pos_over_neg: 531.4434814453125 lr: 0.00031623\n",
      "Iter: 818/889, loss_train: 5.6343, loss_val: nan, pos_over_neg: 1037.439453125 lr: 0.00031623\n",
      "Iter: 819/889, loss_train: 5.6318, loss_val: nan, pos_over_neg: 1013.9105224609375 lr: 0.00031623\n",
      "Iter: 820/889, loss_train: 5.6224, loss_val: nan, pos_over_neg: 1070.757568359375 lr: 0.00031623\n",
      "Iter: 821/889, loss_train: 5.6211, loss_val: nan, pos_over_neg: 1141.7666015625 lr: 0.00031623\n",
      "Iter: 822/889, loss_train: 5.6276, loss_val: nan, pos_over_neg: 669.4705810546875 lr: 0.00031623\n",
      "Iter: 823/889, loss_train: 5.6309, loss_val: nan, pos_over_neg: 556.9287719726562 lr: 0.00031623\n",
      "Iter: 824/889, loss_train: 5.6182, loss_val: nan, pos_over_neg: 949.7365112304688 lr: 0.00031623\n",
      "Iter: 825/889, loss_train: 5.6251, loss_val: nan, pos_over_neg: 610.4656982421875 lr: 0.00031623\n",
      "Iter: 826/889, loss_train: 5.6186, loss_val: nan, pos_over_neg: 456.1866760253906 lr: 0.00031623\n",
      "Iter: 827/889, loss_train: 5.6236, loss_val: nan, pos_over_neg: 660.5885009765625 lr: 0.00031623\n",
      "Iter: 828/889, loss_train: 5.6388, loss_val: nan, pos_over_neg: 317.45281982421875 lr: 0.00031623\n",
      "Iter: 829/889, loss_train: 5.6318, loss_val: nan, pos_over_neg: 449.3097229003906 lr: 0.00031623\n",
      "Iter: 830/889, loss_train: 5.6417, loss_val: nan, pos_over_neg: 546.277099609375 lr: 0.00031623\n",
      "Iter: 831/889, loss_train: 5.6274, loss_val: nan, pos_over_neg: 2067.52197265625 lr: 0.00031623\n",
      "Iter: 832/889, loss_train: 5.6309, loss_val: nan, pos_over_neg: 883.0763549804688 lr: 0.00031623\n",
      "Iter: 833/889, loss_train: 5.6296, loss_val: nan, pos_over_neg: 625.427490234375 lr: 0.00031623\n",
      "Iter: 834/889, loss_train: 5.6284, loss_val: nan, pos_over_neg: 835.96044921875 lr: 0.00031623\n",
      "Iter: 835/889, loss_train: 5.6344, loss_val: nan, pos_over_neg: 652.0040893554688 lr: 0.00031623\n",
      "Iter: 836/889, loss_train: 5.632, loss_val: nan, pos_over_neg: 647.9822998046875 lr: 0.00031623\n",
      "Iter: 837/889, loss_train: 5.6234, loss_val: nan, pos_over_neg: 998.7807006835938 lr: 0.00031623\n",
      "Iter: 838/889, loss_train: 5.625, loss_val: nan, pos_over_neg: 951.475830078125 lr: 0.00031623\n",
      "Iter: 839/889, loss_train: 5.6313, loss_val: nan, pos_over_neg: 2471.491943359375 lr: 0.00031623\n",
      "Iter: 840/889, loss_train: 5.6259, loss_val: nan, pos_over_neg: 1576.431640625 lr: 0.00031623\n",
      "Iter: 841/889, loss_train: 5.6325, loss_val: nan, pos_over_neg: 427.5907287597656 lr: 0.00031623\n",
      "Iter: 842/889, loss_train: 5.6246, loss_val: nan, pos_over_neg: 401.3521423339844 lr: 0.00031623\n",
      "Iter: 843/889, loss_train: 5.6246, loss_val: nan, pos_over_neg: 1933.35693359375 lr: 0.00031623\n",
      "Iter: 844/889, loss_train: 5.6195, loss_val: nan, pos_over_neg: 4687.57373046875 lr: 0.00031623\n",
      "Iter: 845/889, loss_train: 5.6129, loss_val: nan, pos_over_neg: 672.4362182617188 lr: 0.00031623\n",
      "Iter: 846/889, loss_train: 5.6219, loss_val: nan, pos_over_neg: 793.7335815429688 lr: 0.00031623\n",
      "Iter: 847/889, loss_train: 5.6246, loss_val: nan, pos_over_neg: 1258.39501953125 lr: 0.00031623\n",
      "Iter: 848/889, loss_train: 5.6204, loss_val: nan, pos_over_neg: 1782.2105712890625 lr: 0.00031623\n",
      "Iter: 849/889, loss_train: 5.6187, loss_val: nan, pos_over_neg: 1257.54541015625 lr: 0.00031623\n",
      "Iter: 850/889, loss_train: 5.6279, loss_val: nan, pos_over_neg: 533.4168090820312 lr: 0.00031623\n",
      "Iter: 851/889, loss_train: 5.6288, loss_val: nan, pos_over_neg: 361.5803527832031 lr: 0.00031623\n",
      "Iter: 852/889, loss_train: 5.6205, loss_val: nan, pos_over_neg: 1614.1192626953125 lr: 0.00031623\n",
      "Iter: 853/889, loss_train: 5.6162, loss_val: nan, pos_over_neg: 1473.8782958984375 lr: 0.00031623\n",
      "Iter: 854/889, loss_train: 5.6272, loss_val: nan, pos_over_neg: 1542.74267578125 lr: 0.00031623\n",
      "Iter: 855/889, loss_train: 5.6253, loss_val: nan, pos_over_neg: 722.7916259765625 lr: 0.00031623\n",
      "Iter: 856/889, loss_train: 5.6393, loss_val: nan, pos_over_neg: 309.386474609375 lr: 0.00031623\n",
      "Iter: 857/889, loss_train: 5.6246, loss_val: nan, pos_over_neg: 740.2568359375 lr: 0.00031623\n",
      "Iter: 858/889, loss_train: 5.6198, loss_val: nan, pos_over_neg: 1009.1044921875 lr: 0.00031623\n",
      "Iter: 859/889, loss_train: 5.6315, loss_val: nan, pos_over_neg: 1249.94775390625 lr: 0.00031623\n",
      "Iter: 860/889, loss_train: 5.6191, loss_val: nan, pos_over_neg: 660.0440063476562 lr: 0.00031623\n",
      "Iter: 861/889, loss_train: 5.6191, loss_val: nan, pos_over_neg: 657.6265869140625 lr: 0.00031623\n",
      "Iter: 862/889, loss_train: 5.624, loss_val: nan, pos_over_neg: 713.0988159179688 lr: 0.00031623\n",
      "Iter: 863/889, loss_train: 5.6175, loss_val: nan, pos_over_neg: 1450.312744140625 lr: 0.00031623\n",
      "Iter: 864/889, loss_train: 5.6321, loss_val: nan, pos_over_neg: 764.8388061523438 lr: 0.00031623\n",
      "Iter: 865/889, loss_train: 5.6184, loss_val: nan, pos_over_neg: 555.9069213867188 lr: 0.00031623\n",
      "Iter: 866/889, loss_train: 5.6333, loss_val: nan, pos_over_neg: 863.20703125 lr: 0.00031623\n",
      "Iter: 867/889, loss_train: 5.6229, loss_val: nan, pos_over_neg: 735.9481811523438 lr: 0.00031623\n",
      "Iter: 868/889, loss_train: 5.6273, loss_val: nan, pos_over_neg: 1116.796875 lr: 0.00031623\n",
      "Iter: 869/889, loss_train: 5.6213, loss_val: nan, pos_over_neg: 455.46270751953125 lr: 0.00031623\n",
      "Iter: 870/889, loss_train: 5.6209, loss_val: nan, pos_over_neg: 2023.807373046875 lr: 0.00031623\n",
      "Iter: 871/889, loss_train: 5.6263, loss_val: nan, pos_over_neg: 498.9322204589844 lr: 0.00031623\n",
      "Iter: 872/889, loss_train: 5.6161, loss_val: nan, pos_over_neg: 877.69287109375 lr: 0.00031623\n",
      "Iter: 873/889, loss_train: 5.6223, loss_val: nan, pos_over_neg: 1080.34521484375 lr: 0.00031623\n",
      "Iter: 874/889, loss_train: 5.6254, loss_val: nan, pos_over_neg: 771.7906494140625 lr: 0.00031623\n",
      "Iter: 875/889, loss_train: 5.6148, loss_val: nan, pos_over_neg: 854.4971313476562 lr: 0.00031623\n",
      "Iter: 876/889, loss_train: 5.6174, loss_val: nan, pos_over_neg: 3921.338134765625 lr: 0.00031623\n",
      "Iter: 877/889, loss_train: 5.6237, loss_val: nan, pos_over_neg: 1330.270751953125 lr: 0.00031623\n",
      "Iter: 878/889, loss_train: 5.6307, loss_val: nan, pos_over_neg: 1102.3955078125 lr: 0.00031623\n",
      "Iter: 879/889, loss_train: 5.6232, loss_val: nan, pos_over_neg: 2496.68017578125 lr: 0.00031623\n",
      "Iter: 880/889, loss_train: 5.6226, loss_val: nan, pos_over_neg: 873.1823120117188 lr: 0.00031623\n",
      "Iter: 881/889, loss_train: 5.6147, loss_val: nan, pos_over_neg: 710.0601196289062 lr: 0.00031623\n",
      "Iter: 882/889, loss_train: 5.6219, loss_val: nan, pos_over_neg: 1900.0263671875 lr: 0.00031623\n",
      "Iter: 883/889, loss_train: 5.622, loss_val: nan, pos_over_neg: 529.3992309570312 lr: 0.00031623\n",
      "Iter: 884/889, loss_train: 5.6075, loss_val: nan, pos_over_neg: 2412.624755859375 lr: 0.00031623\n",
      "Iter: 885/889, loss_train: 5.6249, loss_val: nan, pos_over_neg: 801.6231689453125 lr: 0.00031623\n",
      "Iter: 886/889, loss_train: 5.6092, loss_val: nan, pos_over_neg: 4194.98974609375 lr: 0.00031623\n",
      "Iter: 887/889, loss_train: 5.6266, loss_val: nan, pos_over_neg: 826.3109741210938 lr: 0.00031623\n",
      "Iter: 888/889, loss_train: 5.6212, loss_val: nan, pos_over_neg: 1901.3260498046875 lr: 0.00031623\n"
     ]
    },
    {
     "name": "stderr",
     "output_type": "stream",
     "text": [
      "  0%|          | 1/300000 [32:46<163848:30:42, 1966.19s/it]"
     ]
    },
    {
     "name": "stdout",
     "output_type": "stream",
     "text": [
      "epoch: 1\n",
      "Iter: 0/889, loss_train: 5.6291, loss_val: nan, pos_over_neg: -7363.126953125 lr: 0.00031623\n",
      "Iter: 1/889, loss_train: 5.6258, loss_val: nan, pos_over_neg: 844.8856811523438 lr: 0.00031623\n",
      "Iter: 2/889, loss_train: 5.6301, loss_val: nan, pos_over_neg: 1232.097412109375 lr: 0.00031623\n",
      "Iter: 3/889, loss_train: 5.6346, loss_val: nan, pos_over_neg: 465.06964111328125 lr: 0.00031623\n",
      "Iter: 4/889, loss_train: 5.6225, loss_val: nan, pos_over_neg: 1668.3662109375 lr: 0.00031623\n",
      "Iter: 5/889, loss_train: 5.6229, loss_val: nan, pos_over_neg: 1519.6656494140625 lr: 0.00031623\n",
      "Iter: 6/889, loss_train: 5.6178, loss_val: nan, pos_over_neg: 681.5654296875 lr: 0.00031623\n",
      "Iter: 7/889, loss_train: 5.6243, loss_val: nan, pos_over_neg: 560.6408081054688 lr: 0.00031623\n",
      "Iter: 8/889, loss_train: 5.6401, loss_val: nan, pos_over_neg: 548.1895751953125 lr: 0.00031623\n",
      "Iter: 9/889, loss_train: 5.6132, loss_val: nan, pos_over_neg: -68932.953125 lr: 0.00031623\n",
      "Iter: 10/889, loss_train: 5.6189, loss_val: nan, pos_over_neg: 445.0778503417969 lr: 0.00031623\n",
      "Iter: 11/889, loss_train: 5.6173, loss_val: nan, pos_over_neg: 654.86279296875 lr: 0.00031623\n",
      "Iter: 12/889, loss_train: 5.6411, loss_val: nan, pos_over_neg: 902.556396484375 lr: 0.00031623\n",
      "Iter: 13/889, loss_train: 5.6407, loss_val: nan, pos_over_neg: 983.6443481445312 lr: 0.00031623\n",
      "Iter: 14/889, loss_train: 5.6124, loss_val: nan, pos_over_neg: 1570.672607421875 lr: 0.00031623\n",
      "Iter: 15/889, loss_train: 5.6175, loss_val: nan, pos_over_neg: 897.5570678710938 lr: 0.00031623\n",
      "Iter: 16/889, loss_train: 5.6297, loss_val: nan, pos_over_neg: 1017.4801025390625 lr: 0.00031623\n",
      "Iter: 17/889, loss_train: 5.6187, loss_val: nan, pos_over_neg: -2684.18115234375 lr: 0.00031623\n",
      "Iter: 18/889, loss_train: 5.6115, loss_val: nan, pos_over_neg: 27794.2421875 lr: 0.00031623\n",
      "Iter: 19/889, loss_train: 5.6178, loss_val: nan, pos_over_neg: 530.859130859375 lr: 0.00031623\n",
      "Iter: 20/889, loss_train: 5.6225, loss_val: nan, pos_over_neg: 707.93115234375 lr: 0.00031623\n",
      "Iter: 21/889, loss_train: 5.6247, loss_val: nan, pos_over_neg: 762.7665405273438 lr: 0.00031623\n",
      "Iter: 22/889, loss_train: 5.6229, loss_val: nan, pos_over_neg: 153149.859375 lr: 0.00031623\n",
      "Iter: 23/889, loss_train: 5.6327, loss_val: nan, pos_over_neg: 308.2724304199219 lr: 0.00031623\n",
      "Iter: 24/889, loss_train: 5.6252, loss_val: nan, pos_over_neg: 649.0553588867188 lr: 0.00031623\n",
      "Iter: 25/889, loss_train: 5.6393, loss_val: nan, pos_over_neg: 752.76708984375 lr: 0.00031623\n",
      "Iter: 26/889, loss_train: 5.6206, loss_val: nan, pos_over_neg: 2679.513427734375 lr: 0.00031623\n",
      "Iter: 27/889, loss_train: 5.6217, loss_val: nan, pos_over_neg: 592.746337890625 lr: 0.00031623\n",
      "Iter: 28/889, loss_train: 5.6264, loss_val: nan, pos_over_neg: 800.961669921875 lr: 0.00031623\n",
      "Iter: 29/889, loss_train: 5.6223, loss_val: nan, pos_over_neg: 646.3466186523438 lr: 0.00031623\n",
      "Iter: 30/889, loss_train: 5.6306, loss_val: nan, pos_over_neg: 461.28436279296875 lr: 0.00031623\n",
      "Iter: 31/889, loss_train: 5.6219, loss_val: nan, pos_over_neg: 807.1315307617188 lr: 0.00031623\n",
      "Iter: 32/889, loss_train: 5.6398, loss_val: nan, pos_over_neg: 567.9255981445312 lr: 0.00031623\n",
      "Iter: 33/889, loss_train: 5.6244, loss_val: nan, pos_over_neg: 565.1495361328125 lr: 0.00031623\n",
      "Iter: 34/889, loss_train: 5.6395, loss_val: nan, pos_over_neg: 480.08319091796875 lr: 0.00031623\n",
      "Iter: 35/889, loss_train: 5.6231, loss_val: nan, pos_over_neg: 732.8392333984375 lr: 0.00031623\n",
      "Iter: 36/889, loss_train: 5.6156, loss_val: nan, pos_over_neg: 651.6039428710938 lr: 0.00031623\n",
      "Iter: 37/889, loss_train: 5.6188, loss_val: nan, pos_over_neg: 6027.86669921875 lr: 0.00031623\n",
      "Iter: 38/889, loss_train: 5.6367, loss_val: nan, pos_over_neg: 820.3626098632812 lr: 0.00031623\n",
      "Iter: 39/889, loss_train: 5.625, loss_val: nan, pos_over_neg: 485.4841613769531 lr: 0.00031623\n",
      "Iter: 40/889, loss_train: 5.6237, loss_val: nan, pos_over_neg: 593.1018676757812 lr: 0.00031623\n",
      "Iter: 41/889, loss_train: 5.6162, loss_val: nan, pos_over_neg: 2707.49462890625 lr: 0.00031623\n",
      "Iter: 42/889, loss_train: 5.6318, loss_val: nan, pos_over_neg: 876.9879760742188 lr: 0.00031623\n",
      "Iter: 43/889, loss_train: 5.6302, loss_val: nan, pos_over_neg: 380.98486328125 lr: 0.00031623\n",
      "Iter: 44/889, loss_train: 5.6234, loss_val: nan, pos_over_neg: 714.9487915039062 lr: 0.00031623\n",
      "Iter: 45/889, loss_train: 5.6226, loss_val: nan, pos_over_neg: 707.56298828125 lr: 0.00031623\n",
      "Iter: 46/889, loss_train: 5.6305, loss_val: nan, pos_over_neg: 842.7881469726562 lr: 0.00031623\n",
      "Iter: 47/889, loss_train: 5.6216, loss_val: nan, pos_over_neg: 3554.67578125 lr: 0.00031623\n",
      "Iter: 48/889, loss_train: 5.6193, loss_val: nan, pos_over_neg: 919.6316528320312 lr: 0.00031623\n",
      "Iter: 49/889, loss_train: 5.6316, loss_val: nan, pos_over_neg: 2265.655029296875 lr: 0.00031623\n",
      "Iter: 50/889, loss_train: 5.624, loss_val: nan, pos_over_neg: 1912.44580078125 lr: 0.00031623\n",
      "Iter: 51/889, loss_train: 5.6182, loss_val: nan, pos_over_neg: 1969.7147216796875 lr: 0.00031623\n",
      "Iter: 52/889, loss_train: 5.6131, loss_val: nan, pos_over_neg: 834.4324951171875 lr: 0.00031623\n",
      "Iter: 53/889, loss_train: 5.625, loss_val: nan, pos_over_neg: 777.8572998046875 lr: 0.00031623\n",
      "Iter: 54/889, loss_train: 5.6153, loss_val: nan, pos_over_neg: 939.7808227539062 lr: 0.00031623\n",
      "Iter: 55/889, loss_train: 5.6184, loss_val: nan, pos_over_neg: 884.9249877929688 lr: 0.00031623\n",
      "Iter: 56/889, loss_train: 5.6283, loss_val: nan, pos_over_neg: 392.71295166015625 lr: 0.00031623\n",
      "Iter: 57/889, loss_train: 5.6032, loss_val: nan, pos_over_neg: 983.3853759765625 lr: 0.00031623\n",
      "Iter: 58/889, loss_train: 5.6191, loss_val: nan, pos_over_neg: 3942.103515625 lr: 0.00031623\n",
      "Iter: 59/889, loss_train: 5.623, loss_val: nan, pos_over_neg: 1150.4736328125 lr: 0.00031623\n",
      "Iter: 60/889, loss_train: 5.625, loss_val: nan, pos_over_neg: 476.3016052246094 lr: 0.00031623\n",
      "Iter: 61/889, loss_train: 5.6152, loss_val: nan, pos_over_neg: 545.1591186523438 lr: 0.00031623\n",
      "Iter: 62/889, loss_train: 5.6124, loss_val: nan, pos_over_neg: 886.3706665039062 lr: 0.00031623\n",
      "Iter: 63/889, loss_train: 5.615, loss_val: nan, pos_over_neg: 3669.421630859375 lr: 0.00031623\n",
      "Iter: 64/889, loss_train: 5.6258, loss_val: nan, pos_over_neg: 788.8846435546875 lr: 0.00031623\n",
      "Iter: 65/889, loss_train: 5.6276, loss_val: nan, pos_over_neg: 581.5924682617188 lr: 0.00031623\n",
      "Iter: 66/889, loss_train: 5.6221, loss_val: nan, pos_over_neg: 1040.2025146484375 lr: 0.00031623\n",
      "Iter: 67/889, loss_train: 5.6166, loss_val: nan, pos_over_neg: 859.5709838867188 lr: 0.00031623\n",
      "Iter: 68/889, loss_train: 5.6156, loss_val: nan, pos_over_neg: 11030.11328125 lr: 0.00031623\n",
      "Iter: 69/889, loss_train: 5.6158, loss_val: nan, pos_over_neg: 913.0293579101562 lr: 0.00031623\n",
      "Iter: 70/889, loss_train: 5.6253, loss_val: nan, pos_over_neg: 1007.0142211914062 lr: 0.00031623\n",
      "Iter: 71/889, loss_train: 5.6156, loss_val: nan, pos_over_neg: 2124.781982421875 lr: 0.00031623\n",
      "Iter: 72/889, loss_train: 5.6168, loss_val: nan, pos_over_neg: 2665.771484375 lr: 0.00031623\n",
      "Iter: 73/889, loss_train: 5.6186, loss_val: nan, pos_over_neg: 724.3358154296875 lr: 0.00031623\n",
      "Iter: 74/889, loss_train: 5.6288, loss_val: nan, pos_over_neg: 828.498779296875 lr: 0.00031623\n",
      "Iter: 75/889, loss_train: 5.6324, loss_val: nan, pos_over_neg: 630.4678955078125 lr: 0.00031623\n",
      "Iter: 76/889, loss_train: 5.6227, loss_val: nan, pos_over_neg: 970.2092895507812 lr: 0.00031623\n",
      "Iter: 77/889, loss_train: 5.6137, loss_val: nan, pos_over_neg: 684.56640625 lr: 0.00031623\n",
      "Iter: 78/889, loss_train: 5.6118, loss_val: nan, pos_over_neg: 840.4708251953125 lr: 0.00031623\n",
      "Iter: 79/889, loss_train: 5.6156, loss_val: nan, pos_over_neg: 1460.4114990234375 lr: 0.00031623\n",
      "Iter: 80/889, loss_train: 5.6188, loss_val: nan, pos_over_neg: 621.3916015625 lr: 0.00031623\n",
      "Iter: 81/889, loss_train: 5.6204, loss_val: nan, pos_over_neg: 631.4718627929688 lr: 0.00031623\n",
      "Iter: 82/889, loss_train: 5.6225, loss_val: nan, pos_over_neg: 529.8720092773438 lr: 0.00031623\n",
      "Iter: 83/889, loss_train: 5.616, loss_val: nan, pos_over_neg: 2295.72509765625 lr: 0.00031623\n",
      "Iter: 84/889, loss_train: 5.6199, loss_val: nan, pos_over_neg: 815.8593139648438 lr: 0.00031623\n",
      "Iter: 85/889, loss_train: 5.6082, loss_val: nan, pos_over_neg: 714.0497436523438 lr: 0.00031623\n",
      "Iter: 86/889, loss_train: 5.6133, loss_val: nan, pos_over_neg: 443.0528564453125 lr: 0.00031623\n",
      "Iter: 87/889, loss_train: 5.6237, loss_val: nan, pos_over_neg: 766.4605712890625 lr: 0.00031623\n",
      "Iter: 88/889, loss_train: 5.6156, loss_val: nan, pos_over_neg: 742.9755859375 lr: 0.00031623\n",
      "Iter: 89/889, loss_train: 5.6064, loss_val: nan, pos_over_neg: 506.5649719238281 lr: 0.00031623\n",
      "Iter: 90/889, loss_train: 5.6089, loss_val: nan, pos_over_neg: 1566.7127685546875 lr: 0.00031623\n",
      "Iter: 91/889, loss_train: 5.6249, loss_val: nan, pos_over_neg: 4269.0234375 lr: 0.00031623\n",
      "Iter: 92/889, loss_train: 5.621, loss_val: nan, pos_over_neg: 931.3978881835938 lr: 0.00031623\n",
      "Iter: 93/889, loss_train: 5.6196, loss_val: nan, pos_over_neg: 868.4922485351562 lr: 0.00031623\n",
      "Iter: 94/889, loss_train: 5.6076, loss_val: nan, pos_over_neg: 1174.3067626953125 lr: 0.00031623\n",
      "Iter: 95/889, loss_train: 5.6236, loss_val: nan, pos_over_neg: 450.4962158203125 lr: 0.00031623\n",
      "Iter: 96/889, loss_train: 5.6141, loss_val: nan, pos_over_neg: 634.3286743164062 lr: 0.00031623\n",
      "Iter: 97/889, loss_train: 5.6319, loss_val: nan, pos_over_neg: 488.1451416015625 lr: 0.00031623\n",
      "Iter: 98/889, loss_train: 5.6186, loss_val: nan, pos_over_neg: 588.8486328125 lr: 0.00031623\n",
      "Iter: 99/889, loss_train: 5.6223, loss_val: nan, pos_over_neg: 588.7777709960938 lr: 0.00031623\n",
      "Iter: 100/889, loss_train: 5.6222, loss_val: nan, pos_over_neg: 811.9669799804688 lr: 0.00031623\n",
      "Iter: 101/889, loss_train: 5.6141, loss_val: nan, pos_over_neg: 619.89794921875 lr: 0.00031623\n",
      "Iter: 102/889, loss_train: 5.6192, loss_val: nan, pos_over_neg: 597.6057739257812 lr: 0.00031623\n",
      "Iter: 103/889, loss_train: 5.6044, loss_val: nan, pos_over_neg: 887.122314453125 lr: 0.00031623\n",
      "Iter: 104/889, loss_train: 5.6423, loss_val: nan, pos_over_neg: 417.3689270019531 lr: 0.00031623\n",
      "Iter: 105/889, loss_train: 5.6272, loss_val: nan, pos_over_neg: 1575.6302490234375 lr: 0.00031623\n",
      "Iter: 106/889, loss_train: 5.6113, loss_val: nan, pos_over_neg: 1031.1431884765625 lr: 0.00031623\n",
      "Iter: 107/889, loss_train: 5.6286, loss_val: nan, pos_over_neg: 809.4945678710938 lr: 0.00031623\n",
      "Iter: 108/889, loss_train: 5.6201, loss_val: nan, pos_over_neg: 1262.5703125 lr: 0.00031623\n",
      "Iter: 109/889, loss_train: 5.6248, loss_val: nan, pos_over_neg: 895.5805053710938 lr: 0.00031623\n",
      "Iter: 110/889, loss_train: 5.6198, loss_val: nan, pos_over_neg: 376.714599609375 lr: 0.00031623\n",
      "Iter: 111/889, loss_train: 5.6132, loss_val: nan, pos_over_neg: 689.5350952148438 lr: 0.00031623\n",
      "Iter: 112/889, loss_train: 5.6199, loss_val: nan, pos_over_neg: 961.6975708007812 lr: 0.00031623\n",
      "Iter: 113/889, loss_train: 5.6246, loss_val: nan, pos_over_neg: 812.4091796875 lr: 0.00031623\n",
      "Iter: 114/889, loss_train: 5.6145, loss_val: nan, pos_over_neg: 1289.262451171875 lr: 0.00031623\n",
      "Iter: 115/889, loss_train: 5.6169, loss_val: nan, pos_over_neg: 1459.990234375 lr: 0.00031623\n",
      "Iter: 116/889, loss_train: 5.6215, loss_val: nan, pos_over_neg: 1527.900390625 lr: 0.00031623\n",
      "Iter: 117/889, loss_train: 5.6063, loss_val: nan, pos_over_neg: 1716.6602783203125 lr: 0.00031623\n",
      "Iter: 118/889, loss_train: 5.6266, loss_val: nan, pos_over_neg: 921.5054321289062 lr: 0.00031623\n",
      "Iter: 119/889, loss_train: 5.6147, loss_val: nan, pos_over_neg: 2301.3359375 lr: 0.00031623\n",
      "Iter: 120/889, loss_train: 5.6289, loss_val: nan, pos_over_neg: 1328.0201416015625 lr: 0.00031623\n",
      "Iter: 121/889, loss_train: 5.6114, loss_val: nan, pos_over_neg: 1733.510498046875 lr: 0.00031623\n",
      "Iter: 122/889, loss_train: 5.6095, loss_val: nan, pos_over_neg: 2117.57568359375 lr: 0.00031623\n",
      "Iter: 123/889, loss_train: 5.6171, loss_val: nan, pos_over_neg: 1420.044921875 lr: 0.00031623\n",
      "Iter: 124/889, loss_train: 5.6197, loss_val: nan, pos_over_neg: 832.1210327148438 lr: 0.00031623\n",
      "Iter: 125/889, loss_train: 5.6087, loss_val: nan, pos_over_neg: 2699.381103515625 lr: 0.00031623\n",
      "Iter: 126/889, loss_train: 5.6135, loss_val: nan, pos_over_neg: 1227.065673828125 lr: 0.00031623\n"
     ]
    }
   ],
   "source": [
    "model_file_name = 'ResNet18_simCLR_model_202112078_EOD_transfmod=default'\n",
    "model.forward = model.forward_latent\n",
    "\n",
    "l2_alpha = 0.000\n",
    "\n",
    "n_epochs=300000\n",
    "for epoch in tqdm(range(n_epochs)):\n",
    "    print(f'epoch: {epoch}')\n",
    "    loss_rolling_train = training_simCLR.epoch_step(dataloader_train, \n",
    "                                    model, \n",
    "                                    optimizer, \n",
    "                                    criterion,\n",
    "                                    scheduler=scheduler,\n",
    "                                    temperature=0.5,\n",
    "                                    # l2_alpha,\n",
    "                                    mode='semi-supervised',\n",
    "                                    loss_rolling_train=losses_train, \n",
    "                                    loss_rolling_val=losses_val,\n",
    "                                    device=DEVICE, \n",
    "                                    verbose=2,\n",
    "                                    verbose_update_period=1,\n",
    "                                   \n",
    "#                                     do_validation=False,\n",
    "#                                     X_val=x_feed_through_val,\n",
    "#                                     y_val=torch.as_tensor(y_val, device=DEVICE)\n",
    "                                   )\n",
    "    \n",
    "    \n",
    "    torch.save(model.state_dict(), f'{base_dir}/github_repos/GCaMP_ROI_classifier/new_stuff/models/{model_file_name}.pth')\n",
    "\n",
    "    losses_train_npy = np.array(losses_train)\n",
    "    losses_val_npy = np.array(losses_val)\n",
    "    val_accs_npy = np.array(val_accs)\n",
    "    acc_npy = np.array(acc)\n",
    "\n",
    "    np.save(f'{base_dir}/github_repos/GCaMP_ROI_classifier/new_stuff/model_performance/{model_file_name}_losses_train.npy', losses_train_npy)\n",
    "    np.save(f'{base_dir}/github_repos/GCaMP_ROI_classifier/new_stuff/model_performance/{model_file_name}_losses_val.npy', losses_val_npy)\n",
    "    np.save(f'{base_dir}/github_repos/GCaMP_ROI_classifier/new_stuff/model_performance/{model_file_name}_val_accs.npy', val_accs_npy)\n",
    "    np.save(f'{base_dir}/github_repos/GCaMP_ROI_classifier/new_stuff/model_performance/{model_file_name}_tr_accs.npy', acc_npy)"
   ]
  },
  {
   "cell_type": "code",
   "execution_count": null,
   "metadata": {},
   "outputs": [],
   "source": []
  },
  {
   "cell_type": "code",
   "execution_count": null,
   "metadata": {
    "colab": {
     "base_uri": "https://localhost:8080/",
     "height": 421
    },
    "id": "af10GlccgaV4",
    "outputId": "2ec75ade-6308-4a67-89e4-4bf3f996f746"
   },
   "outputs": [],
   "source": [
    "# import seaborn as sns\n",
    "# sns.set(style='white', palette='bright', context='poster')\n",
    "plt.rcdefaults()\n",
    "\n",
    "%matplotlib inline\n",
    "plt.figure(figsize=(12,6))\n",
    "plt.plot(losses_train, label='Training Loss')\n",
    "plt.plot(losses_val, label='Validation Loss')\n",
    "plt.title(f'Loss — Balanced Transfer Learning, No Data Augmentation, L2 Lambda = {l2_alpha}')\n",
    "plt.legend()\n",
    "plt.grid()\n",
    "plt.xlabel('Epoch Step')\n",
    "plt.ylabel('Loss')\n",
    "# plt.savefig('./Training-Loss.png')"
   ]
  },
  {
   "cell_type": "code",
   "execution_count": null,
   "metadata": {},
   "outputs": [],
   "source": [
    "break"
   ]
  },
  {
   "cell_type": "raw",
   "metadata": {
    "colab": {
     "base_uri": "https://localhost:8080/",
     "height": 706
    },
    "id": "Cl4TSsfc2MDy",
    "outputId": "ccc80bf3-a191-49ec-e635-dce022144cbe"
   },
   "source": [
    "%matplotlib inline\n",
    "plt.figure(figsize=(12,12))\n",
    "# val_transfer_cm = get_cm(features_val, y_val)\n",
    "# plt.imshow(val_transfer_cm)\n",
    "test_transfer_cm = get_cm(features_test, y_test)\n",
    "plt.imshow(test_transfer_cm)\n",
    "plt.colorbar()\n",
    "\n",
    "for i in range(test_transfer_cm.shape[0]):\n",
    "    for j in range(test_transfer_cm.shape[1]):\n",
    "        plt.annotate(np.round(test_transfer_cm[i,j], 3), (j,i), ha='center')\n",
    "plt.title(f'Test Confusion Matrix — Balanced Transfer Learning, No Augmentation, L2 Lambda = {l2_alpha}')\n",
    "plt.xlabel('True Class')\n",
    "plt.ylabel('Predicted Class')\n",
    "# plt.savefig('./Confusion-Matrix.png')\n"
   ]
  },
  {
   "cell_type": "code",
   "execution_count": null,
   "metadata": {
    "id": "rU8l0eP02TQR"
   },
   "outputs": [],
   "source": [
    "model_file_name = 'ResNet18_simCLR_model_202112078_temp=1.0'\n",
    "\n",
    "# torch.save(model.state_dict(), '/media/rich/Home_Linux_partition/github_repos/GCaMP_ROI_classifier/new_stuff/models/ResNet18_simCLR_model_20211205_3.pth')\n",
    "torch.save(model.state_dict(), f'{base_dir}/github_repos/GCaMP_ROI_classifier/new_stuff/models/{model_file_name}.pth')"
   ]
  },
  {
   "cell_type": "code",
   "execution_count": null,
   "metadata": {},
   "outputs": [],
   "source": [
    "# model.load_state_dict(torch.load('/media/rich/Home_Linux_partition/github_repos/GCaMP_ROI_classifier/new_stuff/models/ResNet18_simCLR_model_20211205_2.pth'))\n",
    "model.load_state_dict(torch.load(f'{base_dir}/github_repos/GCaMP_ROI_classifier/new_stuff/models/{model_file_name}.pth'))"
   ]
  },
  {
   "cell_type": "code",
   "execution_count": null,
   "metadata": {},
   "outputs": [],
   "source": [
    "losses_train_npy = np.array(losses_train)\n",
    "losses_val_npy = np.array(losses_val)\n",
    "val_accs_npy = np.array(val_accs)\n",
    "acc_npy = np.array(acc)\n",
    "\n",
    "np.save(f'{base_dir}/github_repos/GCaMP_ROI_classifier/new_stuff/model_performance/{model_file_name}_losses_train.npy', losses_train_npy)\n",
    "np.save(f'{base_dir}/github_repos/GCaMP_ROI_classifier/new_stuff/model_performance/{model_file_name}_losses_val.npy', losses_val_npy)\n",
    "np.save(f'{base_dir}/github_repos/GCaMP_ROI_classifier/new_stuff/model_performance/{model_file_name}_val_accs.npy', val_accs_npy)\n",
    "np.save(f'{base_dir}/github_repos/GCaMP_ROI_classifier/new_stuff/model_performance/{model_file_name}_tr_accs.npy', acc_npy)"
   ]
  },
  {
   "cell_type": "code",
   "execution_count": null,
   "metadata": {},
   "outputs": [],
   "source": []
  },
  {
   "cell_type": "markdown",
   "metadata": {
    "id": "FEqA0gLPl3-6"
   },
   "source": [
    "## Train classifier using classifier layers of model (or do supervised learning)"
   ]
  },
  {
   "cell_type": "raw",
   "metadata": {
    "id": "fmMkNykeVHbn"
   },
   "source": [
    "test_transfer_cm = get_cm(features_test, y_test)\n",
    "np.save(f'/content/drive/MyDrive/00 - ROI/GCaMP_ROI_classifier/new_stuff/npy-figures/TestingCM-{\"Un\" if not balanced else \"\"}Balanced-Transfer—L2Lambda={l2_alpha}.npy',\n",
    "        test_transfer_cm)\n",
    "torch.save(model.state_dict(), f'/content/drive/MyDrive/00 - ROI/GCaMP_ROI_classifier/new_stuff/npy-figures/TestingCM-{\"Un\" if not balanced else \"\"}Balanced-Transfer—L2Lambda={l2_alpha}.pth')\n",
    "\n",
    "np.save(f'/content/drive/MyDrive/00 - ROI/GCaMP_ROI_classifier/new_stuff/npy-figures/TestingCM-{\"Un\" if not balanced else \"\"}Balanced-SKLearn-Solver={solver}—C={C_reg}.npy',\n",
    "        logistic_pred_test)"
   ]
  },
  {
   "cell_type": "raw",
   "metadata": {
    "id": "zo42G3CeWozY"
   },
   "source": [
    "from sklearn.metrics import confusion_matrix\n",
    "\n",
    "def get_cm(pred_cm, y_cm, plot=False):\n",
    "  ### NOTE — RETURNS A MATRIX WITH PREDICTION NUM ASSOCIATED WITH ROW NUM\n",
    "  ### AND COLUMN NUM ASSOCIATED WITH TRUE VALUE. (TRANSPOSE OF SKLEARN OUTPUT.)\n",
    "\n",
    "  cm = confusion_matrix(y_cm, np.argmax(pred_cm, -1))\n",
    "  cm = cm / np.where(cm.sum(1, keepdims=True)==0, np.ones_like(cm.sum(1, keepdims=True)), cm.sum(1, keepdims=True))\n",
    "  \n",
    "  # cm = classification.confusion_matrix(y_hat, y_labeled_val)\n",
    "  # print(cm)\n",
    "  \n",
    "  if plot:\n",
    "    plt.figure()\n",
    "    plt.imshow(cm)\n",
    "    plt.colorbar()\n",
    "    plt.show()\n",
    "  \n",
    "  return cm.T"
   ]
  },
  {
   "cell_type": "raw",
   "metadata": {
    "colab": {
     "base_uri": "https://localhost:8080/"
    },
    "id": "YWk_NgpNd2Ia",
    "outputId": "2959f230-bd91-46cd-e898-d270aade7e54"
   },
   "source": [
    "num_tr_ex = X_val.shape[0]\n",
    "\n",
    "\n",
    "# solver = 'lbfgs'\n",
    "solver = 'liblinear'\n",
    "# solver = 'newton-cg'\n",
    "C_reg = 0.01\n",
    "# C_reg = 0.0001\n",
    "\n",
    "\n",
    "# logreg = LogisticRegression(solver=solver, C=C_reg)\n",
    "# logreg = LogisticRegression(solver=solver, penalty='none', )\n",
    "# logreg = LogisticRegression(solver=solver, penalty='none', max_iter=4000)\n",
    "# logreg = LogisticRegression(solver=solver)\n",
    "logreg = LogisticRegression(solver=solver, C=C_reg)\n",
    "# logreg = LogisticRegression(solver='lbfgs', penalty='none', max_iter=4000)\n",
    "\n",
    "# base_features_train = base_model_frozen(x_feed_through_tr).detach().cpu()\n",
    "base_features_train = cpu_tr.cpu().detach().numpy()\n",
    "logreg.fit(base_features_train, y_train)\n",
    "\n",
    "# base_features_val = base_model_frozen(x_feed_through_val).detach().cpu()\n",
    "base_features_val = cpu_val.cpu().detach().numpy()\n",
    "\n",
    "base_features_te = cpu_te.cpu().detach().numpy()\n",
    "\n",
    "# base_model_frozen.to('cpu')\n",
    "# X_labeled_train.to('cpu')\n",
    "\n",
    "logistic_pred_train = get_cm(logreg.predict_proba(base_features_train), y_train)\n",
    "logistic_pred_val = get_cm(logreg.predict_proba(base_features_val), y_val)\n",
    "logistic_pred_test = get_cm(logreg.predict_proba(base_features_te), y_test)\n",
    "\n",
    "\n",
    "x_feed_through_tr.to(DEVICE)\n",
    "x_feed_through_val.to(DEVICE)\n",
    "x_feed_through_te.to(DEVICE)\n",
    "\n",
    "print(x_feed_through_tr.shape, x_feed_through_val.shape)"
   ]
  },
  {
   "cell_type": "code",
   "execution_count": null,
   "metadata": {
    "id": "WLH9o3jLl4G_"
   },
   "outputs": [],
   "source": []
  },
  {
   "cell_type": "markdown",
   "metadata": {
    "id": "QjNJk6Qwl4O3"
   },
   "source": [
    "Freeze pre-head layers, unfreeze classification layers"
   ]
  },
  {
   "cell_type": "markdown",
   "metadata": {
    "id": "Zq4toNxdl4jb"
   },
   "source": [
    "Define labeled dataset to use"
   ]
  },
  {
   "cell_type": "raw",
   "metadata": {
    "id": "MGvBSux9l4pn"
   },
   "source": [
    "X_labeled_train, X_labeled_val, y_labeled_train, y_labeled_val"
   ]
  },
  {
   "cell_type": "markdown",
   "metadata": {
    "id": "JS_mTd7cl4vI"
   },
   "source": [
    "Train model"
   ]
  },
  {
   "cell_type": "code",
   "execution_count": null,
   "metadata": {},
   "outputs": [],
   "source": [
    "from torch.nn import CrossEntropyLoss\n",
    "from torch.optim import Adam\n",
    "\n",
    "import numpy as np\n",
    "\n",
    "from sklearn.linear_model import LogisticRegression\n",
    "from sklearn.tree import DecisionTreeClassifier\n",
    "from sklearn.ensemble import RandomForestClassifier\n",
    "from sklearn.svm import SVC\n",
    "\n",
    "criterion = [CrossEntropyLoss()]\n",
    "# criterion = CrossEntropyLoss(reduction='none')\n",
    "\n",
    "# optimizer = Adam(model.parameters(), lr=1e-2, weight_decay=0.0)\n",
    "# optimizer = Adam(model.parameters(), lr=2e-2)\n",
    "optimizer = Adam(model.parameters(), lr=10**(-4.5))\n",
    "scheduler = torch.optim.lr_scheduler.ExponentialLR(optimizer,\n",
    "                                                   gamma=1-0.0000,\n",
    "#                                                    gamma=1,\n",
    "                                                  )\n",
    "criterion = [_.to(DEVICE) for _ in criterion]\n",
    "losses_train, losses_val, val_accs, acc = [], [np.nan], [], []"
   ]
  },
  {
   "cell_type": "code",
   "execution_count": null,
   "metadata": {},
   "outputs": [],
   "source": [
    "def transform_null(var):\n",
    "    return(var)"
   ]
  },
  {
   "cell_type": "code",
   "execution_count": null,
   "metadata": {},
   "outputs": [],
   "source": [
    "model.reinit_classifier()\n",
    "model.train()\n",
    "model.prep_classifier()"
   ]
  },
  {
   "cell_type": "code",
   "execution_count": null,
   "metadata": {},
   "outputs": [],
   "source": [
    "dataset_validation = util.dataset_simCLR(\n",
    "                                    torch.as_tensor(masks_cat, device='cpu', dtype=torch.float32), \n",
    "                                    torch.as_tensor(torch.zeros(masks_cat.shape[0]), device='cpu', dtype=torch.float32),\n",
    "\n",
    "                                    n_transforms=1,\n",
    "                                    class_weights=np.array([1]),\n",
    "                                    # class_weights=np.array([1]*4)[np.random.randint(0,4, X_train.shape[0])],\n",
    "                                    transform=scripted_transforms_validation,\n",
    "                                    # DEVICE='cpu',\n",
    "                                    DEVICE='cpu',\n",
    "                                    dtype_X=torch.float32,\n",
    "                                    dtype_y=torch.int64,\n",
    "                                    \n",
    "                                    temp_uncertainty=16\n",
    "                                    )\n",
    "dataloader_validation = torch.utils.data.DataLoader( dataset_validation,\n",
    "#                                                 batch_size=int(pct_batch_size*X_train.shape[0]),\n",
    "                                                batch_size=1024,\n",
    "                                                shuffle=True,\n",
    "                                                drop_last=True,\n",
    "                                                pin_memory=True,\n",
    "                                                num_workers=32,\n",
    "                                                persistent_workers=True,\n",
    "                                                # prefetch_factor=0\n",
    "                                                )"
   ]
  },
  {
   "cell_type": "code",
   "execution_count": null,
   "metadata": {
    "id": "v4WvU5xxl41A"
   },
   "outputs": [],
   "source": [
    "data_unlabeled = torch.as_tensor(masks_cat, dtype=torch.float32, device='cpu')\n",
    "\n",
    "# model.to(DEVICE)\n",
    "\n",
    "l2_alpha = 0.000\n",
    "\n",
    "n_epochs=300000\n",
    "for epoch in range(n_epochs):\n",
    "    print(f'epoch: {epoch}')\n",
    "    loss_rolling_train = training_simCLR.epoch_step(dataloader_validation, \n",
    "                                    model, \n",
    "                                    optimizer, \n",
    "                                    criterion, \n",
    "\n",
    "                                    # penalized_params, l2_alpha,\n",
    "\n",
    "                                    scheduler=scheduler,\n",
    "                                    L2_alpha=0.04,\n",
    "                                    mode='supervised',\n",
    "                                    loss_rolling_train=losses_train, \n",
    "                                    device=DEVICE, \n",
    "                                    loss_rolling_val=losses_val,\n",
    "                                    verbose=2,\n",
    "                                    verbose_update_period=1,\n",
    "                                   \n",
    "#                                     do_validation=False,\n",
    "#                                     X_val=x_feed_through_val,\n",
    "#                                     y_val=torch.as_tensor(y_val, device=DEVICE)\n",
    "                                   )"
   ]
  },
  {
   "cell_type": "markdown",
   "metadata": {
    "id": "HAcpUsTJl46l"
   },
   "source": [
    "Evalculate model"
   ]
  },
  {
   "cell_type": "code",
   "execution_count": null,
   "metadata": {
    "id": "aHaYL5XjaBfP"
   },
   "outputs": [],
   "source": [
    "%matplotlib notebook\n",
    "\n",
    "plt.figure()\n",
    "plt.plot(loss_rolling_train)\n",
    "\n",
    "data_in = torch.as_tensor(X_labeled_val, dtype=torch.float32, device=DEVICE)\n",
    "# data_in = torch.as_tensor(X_labeled_train, dtype=torch.float32, device=DEVICE)\n",
    "data_in = util.tile_channels(data_in[:,None,...], dim=1)\n",
    "proba = torch.nn.functional.softmax(model.forward_classifier(data_in), dim=1)\n",
    "cm = classification.confusion_matrix(proba.detach().cpu().numpy(), y_labeled_val)\n",
    "# cm = classification.confusion_matrix(proba.detach().cpu().numpy(), y_labeled_train)\n",
    "\n",
    "plt.figure()\n",
    "plt.imshow(cm, aspect='auto')\n",
    "plt.colorbar()"
   ]
  },
  {
   "cell_type": "code",
   "execution_count": null,
   "metadata": {
    "id": "aHaYL5XjaBfP"
   },
   "outputs": [],
   "source": [
    "%matplotlib notebook\n",
    "data_in = torch.as_tensor(X_labeled_train, dtype=torch.float32, device=DEVICE)\n",
    "data_in = util.tile_channels(data_in[:,None,...], dim=1)\n",
    "proba = torch.nn.functional.softmax(model.forward_classifier(data_in), dim=1)\n",
    "cm = classification.confusion_matrix(proba.detach().cpu().numpy(), y_labeled_train)\n",
    "\n",
    "plt.figure()\n",
    "plt.imshow(cm)\n",
    "plt.colorbar()"
   ]
  },
  {
   "cell_type": "code",
   "execution_count": null,
   "metadata": {
    "id": "QNlRDjrVaCD-"
   },
   "outputs": [],
   "source": []
  },
  {
   "cell_type": "code",
   "execution_count": null,
   "metadata": {},
   "outputs": [],
   "source": []
  },
  {
   "cell_type": "code",
   "execution_count": null,
   "metadata": {},
   "outputs": [],
   "source": []
  },
  {
   "cell_type": "code",
   "execution_count": null,
   "metadata": {},
   "outputs": [],
   "source": []
  },
  {
   "cell_type": "markdown",
   "metadata": {},
   "source": [
    "## Use sklearn to train classifier"
   ]
  },
  {
   "cell_type": "code",
   "execution_count": null,
   "metadata": {
    "id": "rU8l0eP02TQR"
   },
   "outputs": [],
   "source": [
    "transforms_validation = torch.nn.Sequential(\n",
    "    augmentation.ScaleDynamicRange(scaler_bounds=(0,1)),\n",
    "    torchvision.transforms.Resize(size=(224,224),\n",
    "                                  interpolation=torchvision.transforms.InterpolationMode.BILINEAR), \n",
    "    augmentation.TileChannels(dim=0, n_channels=3),\n",
    "#     augmentation.Normalize(  means=[0.485, 0.456, 0.406],\n",
    "#                              stds=[0.229, 0.224, 0.225]),\n",
    "#     torchvision.transforms.Normalize(mean=[0.485, 0.456, 0.406],\n",
    "#                                      std=[0.229, 0.224, 0.225],\n",
    "#                                      inplace=False),\n",
    ")\n",
    "scripted_transforms_validation = torch.jit.script(transforms_validation)\n",
    "# scripted_transforms = transforms\n"
   ]
  },
  {
   "cell_type": "code",
   "execution_count": null,
   "metadata": {},
   "outputs": [],
   "source": [
    "dataset_labeled_train = util.dataset_simCLR(\n",
    "                                    torch.as_tensor(X_labeled_train, device='cpu', dtype=torch.float32), \n",
    "                                    # torch.as_tensor(X_labeled_train_SYT, device='cpu', dtype=torch.float32), \n",
    "                                    torch.as_tensor(torch.zeros(X_labeled_train.shape[0]), device='cpu', dtype=torch.float32),\n",
    "                                    # torch.as_tensor(torch.zeros(X_labeled_train_SYT.shape[0]), device='cpu', dtype=torch.float32),\n",
    "\n",
    "                                    n_transforms=1,\n",
    "                                    class_weights=np.array([1]),\n",
    "                                    # class_weights=np.array([1]*4)[np.random.randint(0,4, X_train.shape[0])],\n",
    "                                    transform=scripted_transforms_validation,\n",
    "                                    # DEVICE='cpu',\n",
    "                                    DEVICE='cpu',\n",
    "                                    dtype_X=torch.float32,\n",
    "                                    dtype_y=torch.int64,\n",
    "                                    \n",
    "                                    temp_uncertainty=16\n",
    "                                    )\n",
    "dataset_labeled_val = util.dataset_simCLR(\n",
    "                                    torch.as_tensor(X_labeled_val, device='cpu', dtype=torch.float32), \n",
    "                                    # torch.as_tensor(X_labeled_val_SYT, device='cpu', dtype=torch.float32), \n",
    "                                    torch.as_tensor(torch.zeros(X_labeled_val.shape[0]), device='cpu', dtype=torch.float32),\n",
    "                                    # torch.as_tensor(torch.zeros(X_labeled_val_SYT.shape[0]), device='cpu', dtype=torch.float32),\n",
    "\n",
    "                                    n_transforms=1,\n",
    "                                    class_weights=np.array([1]),\n",
    "                                    # class_weights=np.array([1]*4)[np.random.randint(0,4, X_train.shape[0])],\n",
    "                                    transform=scripted_transforms_validation,\n",
    "                                    # DEVICE='cpu',\n",
    "                                    DEVICE='cpu',\n",
    "                                    dtype_X=torch.float32,\n",
    "                                    dtype_y=torch.int64,\n",
    "                                    \n",
    "                                    temp_uncertainty=16\n",
    "                                    )\n",
    "dataloader_labeled_train = torch.utils.data.DataLoader( dataset_labeled_train,\n",
    "    #                                                 batch_size=int(pct_batch_size*X_train.shape[0]),\n",
    "                                                    batch_size=1024,\n",
    "                                                    shuffle=False,\n",
    "                                                    drop_last=False,\n",
    "                                                    pin_memory=True,\n",
    "                                                    num_workers=32,\n",
    "                                                    persistent_workers=True,\n",
    "                                                    # prefetch_factor=0\n",
    "                                                    )\n",
    "dataloader_labeled_val = torch.utils.data.DataLoader( dataset_labeled_val,\n",
    "    #                                                 batch_size=int(pct_batch_size*X_train.shape[0]),\n",
    "                                                    batch_size=1024,\n",
    "                                                    shuffle=False,\n",
    "                                                    drop_last=False,\n",
    "                                                    pin_memory=True,\n",
    "                                                    num_workers=32,\n",
    "                                                    persistent_workers=True,\n",
    "                                                    # prefetch_factor=0\n",
    "                                                    )\n"
   ]
  },
  {
   "cell_type": "code",
   "execution_count": null,
   "metadata": {},
   "outputs": [],
   "source": [
    "DEVICE = torch_helpers.set_device(use_GPU=True)"
   ]
  },
  {
   "cell_type": "code",
   "execution_count": null,
   "metadata": {},
   "outputs": [],
   "source": [
    "model.eval()\n",
    "model.to(DEVICE)\n",
    "features_train = torch.cat([model.get_head(model.base_model(data[0][0].to(DEVICE))).detach().cpu() for data in dataloader_labeled_train], dim=0)\n",
    "features_val   = torch.cat([model.get_head(model.base_model(data[0][0].to(DEVICE))).detach().cpu() for data in dataloader_labeled_val], dim=0)"
   ]
  },
  {
   "cell_type": "markdown",
   "metadata": {},
   "source": [
    "run a sweep of logistic regressions over C (1/L2) parameter"
   ]
  },
  {
   "cell_type": "code",
   "execution_count": null,
   "metadata": {},
   "outputs": [],
   "source": [
    "acc_train, acc_val = [], []\n",
    "# C_toUse = np.array([1000,100,10,1,0.1,0.01,0.001,0.0001,0.00001])\n",
    "C_toUse = np.array([10,1,0.1,0.01,0.001,0.0001,0.00001])\n",
    "for C in C_toUse:\n",
    "#     print(f'C = {C}')\n",
    "    logreg = sklearn.linear_model.LogisticRegression(solver='liblinear', max_iter=800, C=C)\n",
    "#     tic = time.time()\n",
    "    logreg.fit(features_train, y_labeled_train)\n",
    "#     print(f'time: {time.time() - tic}')\n",
    "    acc = logreg.score(features_train, y_labeled_train)\n",
    "    acc_train.append(acc)\n",
    "#     print(f'acc_train: {acc}')\n",
    "    acc = logreg.score(features_val, y_labeled_val)\n",
    "    acc_val.append(acc)\n",
    "#     print(f'acc_val: {acc}')\n",
    "#     print('')\n",
    "    \n",
    "\n",
    "plt.figure()\n",
    "plt.plot(C_toUse, acc_train)\n",
    "plt.plot(C_toUse, acc_val)\n",
    "plt.xscale('log')\n",
    "plt.xlabel('C')\n",
    "plt.ylabel('acc')\n",
    "plt.legend(['train', 'test']);"
   ]
  },
  {
   "cell_type": "code",
   "execution_count": null,
   "metadata": {},
   "outputs": [],
   "source": [
    "# acc_train, acc_val = [], []\n",
    "# # C_toUse = np.array([1000,100,10,1,0.1,0.01,0.001,0.0001,0.00001])\n",
    "# # C_toUse = np.array([10,1,0.1,0.01,0.001,0.0001,0.00001])\n",
    "# C_toUse = np.array([10000])\n",
    "# for C in tqdm(C_toUse):\n",
    "# #     print(f'C = {C}')\n",
    "#     logreg = sklearn.linear_model.LogisticRegression(solver='liblinear', max_iter=800, C=C)\n",
    "# #     tic = time.time()\n",
    "#     logreg.fit(features_train, y_labeled_train_SYT)\n",
    "# #     print(f'time: {time.time() - tic}')\n",
    "#     acc = logreg.score(features_train, y_labeled_train_SYT)\n",
    "#     acc_train.append(acc)\n",
    "# #     print(f'acc_train: {acc}')\n",
    "#     acc = logreg.score(features_val, y_labeled_val_SYT)\n",
    "#     acc_val.append(acc)\n",
    "# #     print(f'acc_val: {acc}')\n",
    "# #     print('')\n",
    "    \n",
    "\n",
    "# plt.figure()\n",
    "# plt.plot(C_toUse, acc_train)\n",
    "# plt.plot(C_toUse, acc_val)\n",
    "# plt.xscale('log')\n",
    "# plt.xlabel('C')\n",
    "# plt.ylabel('acc')\n",
    "# plt.legend(['train', 'test']);"
   ]
  },
  {
   "cell_type": "markdown",
   "metadata": {},
   "source": [
    "run a sinlg logistic regression with desired parameters and check confusion matrix"
   ]
  },
  {
   "cell_type": "code",
   "execution_count": null,
   "metadata": {},
   "outputs": [],
   "source": [
    "logreg = sklearn.linear_model.LogisticRegression(solver='liblinear', max_iter=800, C=10**(-1)).fit(features_train, y_labeled_train)"
   ]
  },
  {
   "cell_type": "code",
   "execution_count": null,
   "metadata": {},
   "outputs": [],
   "source": [
    "%matplotlib inline\n",
    "proba = logreg.predict_proba(features_train)\n",
    "\n",
    "preds = np.argmax(proba, axis=1)\n",
    "cm = classification.confusion_matrix(preds, y_labeled_train)\n",
    "\n",
    "plt.figure()\n",
    "sns.heatmap(cm, annot=True, annot_kws={\"size\": 16}, vmax=1., cmap=plt.get_cmap('gray'))\n",
    "plt.title('train');\n",
    "\n",
    "proba = logreg.predict_proba(features_val)\n",
    "preds = np.argmax(proba, axis=1)\n",
    "cm = classification.confusion_matrix(preds, y_labeled_val)\n",
    "\n",
    "plt.figure()\n",
    "sns.heatmap(cm, annot=True, annot_kws={\"size\": 16}, vmax=1., cmap=plt.get_cmap('gray'))\n",
    "plt.title('val');\n"
   ]
  },
  {
   "cell_type": "code",
   "execution_count": null,
   "metadata": {},
   "outputs": [],
   "source": [
    "# %matplotlib notebook\n",
    "# proba = logreg.predict_proba(features_train)\n",
    "\n",
    "# preds = np.argmax(proba, axis=1)\n",
    "# cm = classification.confusion_matrix(preds, y_labeled_train_SYT)\n",
    "\n",
    "# plt.figure()\n",
    "# sns.heatmap(cm, annot=True, annot_kws={\"size\": 16}, vmax=1., cmap=plt.get_cmap('gray'))\n",
    "# plt.title('train');\n",
    "\n",
    "# proba = logreg.predict_proba(features_val)\n",
    "# preds = np.argmax(proba, axis=1)\n",
    "# cm = classification.confusion_matrix(preds, y_labeled_val_SYT)\n",
    "\n",
    "# plt.figure()\n",
    "# sns.heatmap(cm, annot=True, annot_kws={\"size\": 16}, vmax=1., cmap=plt.get_cmap('gray'))\n",
    "# plt.title('val');\n"
   ]
  },
  {
   "cell_type": "code",
   "execution_count": null,
   "metadata": {},
   "outputs": [],
   "source": []
  },
  {
   "cell_type": "code",
   "execution_count": null,
   "metadata": {},
   "outputs": [],
   "source": []
  },
  {
   "cell_type": "code",
   "execution_count": null,
   "metadata": {},
   "outputs": [],
   "source": []
  },
  {
   "cell_type": "markdown",
   "metadata": {
    "id": "_CchY4kGDB00"
   },
   "source": [
    "## Check embeddings"
   ]
  },
  {
   "cell_type": "code",
   "execution_count": null,
   "metadata": {},
   "outputs": [],
   "source": [
    "model.eval();\n",
    "# model.to(DEVICE);"
   ]
  },
  {
   "cell_type": "code",
   "execution_count": null,
   "metadata": {
    "id": "JcrdLrYtDB00"
   },
   "outputs": [],
   "source": [
    "torch.cuda.empty_cache()"
   ]
  },
  {
   "cell_type": "code",
   "execution_count": null,
   "metadata": {},
   "outputs": [],
   "source": [
    "dataset_unlabeled_noAug = util.dataset_simCLR(\n",
    "                                    torch.as_tensor(masks_cat[:], device='cpu', dtype=torch.float32), \n",
    "                                    torch.as_tensor(torch.zeros(masks_cat[:].shape[0]), device='cpu', dtype=torch.float32),\n",
    "\n",
    "                                    n_transforms=1,\n",
    "                                    class_weights=np.array([1]),\n",
    "                                    # class_weights=np.array([1]*4)[np.random.randint(0,4, X_train.shape[0])],\n",
    "                                    transform=scripted_transforms_validation,\n",
    "                                    # DEVICE='cpu',\n",
    "                                    DEVICE='cpu',\n",
    "                                    dtype_X=torch.float32,\n",
    "                                    dtype_y=torch.int64,\n",
    "                                    \n",
    "                                    temp_uncertainty=16\n",
    "                                    )\n",
    "dataloader_unlabeled_noAug = torch.utils.data.DataLoader( dataset_unlabeled_noAug,\n",
    "#                                                 batch_size=int(pct_batch_size*X_train.shape[0]),\n",
    "                                                batch_size=1024,\n",
    "                                                shuffle=False,\n",
    "                                                drop_last=False,\n",
    "                                                pin_memory=True,\n",
    "                                                num_workers=32,\n",
    "                                                persistent_workers=True,\n",
    "                                                # prefetch_factor=0\n",
    "                                                )"
   ]
  },
  {
   "cell_type": "code",
   "execution_count": null,
   "metadata": {},
   "outputs": [],
   "source": [
    "dataset_unlabeled_noAug = util.dataset_simCLR(\n",
    "                                    torch.as_tensor(masks_SYT[:], device='cpu', dtype=torch.float32), \n",
    "                                    torch.as_tensor(torch.zeros(masks_SYT[:].shape[0]), device='cpu', dtype=torch.float32),\n",
    "\n",
    "                                    n_transforms=1,\n",
    "                                    class_weights=np.array([1]),\n",
    "                                    # class_weights=np.array([1]*4)[np.random.randint(0,4, X_train.shape[0])],\n",
    "                                    transform=scripted_transforms_validation,\n",
    "                                    # DEVICE='cpu',\n",
    "                                    DEVICE='cpu',\n",
    "                                    dtype_X=torch.float32,\n",
    "                                    dtype_y=torch.int64,\n",
    "                                    \n",
    "                                    temp_uncertainty=16\n",
    "                                    )\n",
    "dataloader_unlabeled_noAug = torch.utils.data.DataLoader( dataset_unlabeled_noAug,\n",
    "#                                                 batch_size=int(pct_batch_size*X_train.shape[0]),\n",
    "                                                batch_size=1024,\n",
    "                                                shuffle=False,\n",
    "                                                drop_last=False,\n",
    "                                                pin_memory=True,\n",
    "                                                num_workers=32,\n",
    "                                                persistent_workers=True,\n",
    "                                                # prefetch_factor=0\n",
    "                                                )"
   ]
  },
  {
   "cell_type": "code",
   "execution_count": null,
   "metadata": {},
   "outputs": [],
   "source": [
    "# optional: run unlabeled data through model\n",
    "features_train = torch.cat([model.get_head(model.base_model(data[0][0].to(DEVICE))).detach().cpu() for data in dataloader_unlabeled_noAug], dim=0)"
   ]
  },
  {
   "cell_type": "code",
   "execution_count": null,
   "metadata": {
    "id": "HPyKFRdq28d3"
   },
   "outputs": [],
   "source": [
    "### REMOVE\n",
    "\n",
    "DEVICE='cuda'\n",
    "# DEVICE='cpu'"
   ]
  },
  {
   "cell_type": "code",
   "execution_count": null,
   "metadata": {
    "id": "7fpQXf0o28d3"
   },
   "outputs": [],
   "source": [
    "# model.to(DEVICE);"
   ]
  },
  {
   "cell_type": "code",
   "execution_count": null,
   "metadata": {
    "id": "7gwucuZXDB00"
   },
   "outputs": [],
   "source": [
    "_, features_embedded, _, evr = decomposition.torch_pca(features_train, device=DEVICE, return_cpu=True)"
   ]
  },
  {
   "cell_type": "code",
   "execution_count": null,
   "metadata": {},
   "outputs": [],
   "source": [
    "tsne = cuml.TSNE( n_components=2,\n",
    "                  perplexity=50.0,\n",
    "                  early_exaggeration=12.0,\n",
    "#                   late_exaggeration=1.0,\n",
    "                  learning_rate=200.0,\n",
    "                  n_iter=1000,\n",
    "                  n_iter_without_progress=300,\n",
    "                  min_grad_norm=1e-07,\n",
    "                  metric='euclidean',\n",
    "                  init='random',\n",
    "                  verbose=False,\n",
    "#                   random_state=None,\n",
    "#                   method='barnes_hut',\n",
    "#                   angle=0.5,\n",
    "#                   learning_rate_method='adaptive',\n",
    "# #                   n_neighbors=90,\n",
    "#                   perplexity_max_iter=100,\n",
    "#                   exaggeration_iter=250,\n",
    "#                   pre_momentum=0.5,\n",
    "#                   post_momentum=0.8,\n",
    "# #                   square_distances=True,\n",
    "#                   handle=None,\n",
    "#                   output_type=None\n",
    "                )\n",
    "features_embedded = tsne.fit_transform(features_train.to(DEVICE)).get()"
   ]
  },
  {
   "cell_type": "code",
   "execution_count": null,
   "metadata": {},
   "outputs": [],
   "source": [
    "umap = cuml.UMAP(n_neighbors=100,\n",
    "                n_components=2,\n",
    "                n_epochs=None,\n",
    "                learning_rate=1.0,\n",
    "                min_dist=0.1,\n",
    "                spread=1.0,\n",
    "                set_op_mix_ratio=1.0, \n",
    "                local_connectivity=1.0,\n",
    "                repulsion_strength=1.0, \n",
    "                negative_sample_rate=5, \n",
    "                transform_queue_size=4.0, \n",
    "                init='spectral', \n",
    "                verbose=False,\n",
    "                a=None, \n",
    "                b=None, \n",
    "                target_n_neighbors=- 1, \n",
    "#                 target_weight=0.5, \n",
    "                target_metric='categorical', \n",
    "                handle=None,                \n",
    "                hash_input=False, \n",
    "                random_state=None, \n",
    "                callback=None, \n",
    "                output_type=None\n",
    "                )\n",
    "features_embedded = umap.fit_transform(features_train.to(DEVICE)).get()"
   ]
  },
  {
   "cell_type": "raw",
   "metadata": {},
   "source": [
    "torch_helpers.delete_all_cuda_tensors(globals())"
   ]
  },
  {
   "cell_type": "raw",
   "metadata": {},
   "source": [
    "torch.cuda.empty_cache()\n",
    "gc.collect()\n",
    "torch.cuda.empty_cache()\n",
    "gc.collect()\n",
    "torch.cuda.empty_cache()\n",
    "gc.collect()\n",
    "torch.cuda.empty_cache()\n",
    "gc.collect()"
   ]
  },
  {
   "cell_type": "raw",
   "metadata": {},
   "source": [
    "torch_helpers.tensor_sizeOnDisk(features_train)"
   ]
  },
  {
   "cell_type": "raw",
   "metadata": {
    "id": "2imvF8ZoDB00"
   },
   "source": [
    "from sklearn import manifold\n",
    "\n",
    "tsne = manifold.TSNE(n_components=2, \n",
    "                     perplexity=120.0, \n",
    "                     early_exaggeration=12.0, \n",
    "                     learning_rate=200, \n",
    "                     n_iter=1000, \n",
    "                     n_iter_without_progress=300, \n",
    "                     min_grad_norm=1e-07, \n",
    "                     metric='euclidean', \n",
    "                     init='pca', \n",
    "                     verbose=0, \n",
    "                     random_state=None, \n",
    "                     method='barnes_hut', \n",
    "                     angle=0.5, \n",
    "                     n_jobs=-1, \n",
    "#                      square_distances='legacy'\n",
    "                    )\n",
    "features_embedded = tsne.fit_transform(features_train.cpu())\n",
    "# features_embedded = tsne.fit_transform(features_embedded[:,:5].cpu())"
   ]
  },
  {
   "cell_type": "code",
   "execution_count": null,
   "metadata": {
    "id": "sgxJ8VXwDB00"
   },
   "outputs": [],
   "source": [
    "import matplotlib as mpl\n",
    "\n",
    "# mpl.rcParams['image.cmap'] = 'Set1'\n",
    "%matplotlib notebook\n",
    "plt.figure()\n",
    "plt.scatter(features_embedded[:,0], features_embedded[:,1], s=10, c=labels_SYT, cmap=plt.get_cmap('tab10'))\n",
    "# plt.scatter(features_embedded[:,0], features_embedded[:,1], s=0.001)\n",
    "# plt.scatter(features_embedded[:,0], features_embedded[:,1], c=labels[labels!=3])\n",
    "# plt.scatter(features_embedded[:,0], features_embedded[:,1], c=y_val)\n",
    "# plt.scatter(features_embedded[:,4], features_embedded[:,5], c=y_train)\n",
    "# plt.scatter(features_embedded[:,11], features[:,43].cpu(), c=y_train)\n"
   ]
  },
  {
   "cell_type": "code",
   "execution_count": null,
   "metadata": {
    "id": "sgxJ8VXwDB00"
   },
   "outputs": [],
   "source": []
  },
  {
   "cell_type": "code",
   "execution_count": null,
   "metadata": {
    "id": "sgxJ8VXwDB00"
   },
   "outputs": [],
   "source": [
    "import matplotlib as mpl\n",
    "\n",
    "# mpl.rcParams['image.cmap'] = 'Set1'\n",
    "%matplotlib notebook\n",
    "plt.figure()\n",
    "# plt.scatter(features_embedded[:,0], features_embedded[:,1], s=30, c=y_labeled_train, cmap=plt.get_cmap('tab10'))\n",
    "plt.scatter(features_embedded[:,0], features_embedded[:,1], s=0.2)\n",
    "# plt.scatter(features_embedded[:,0], features_embedded[:,1], c=labels[labels!=3])\n",
    "# plt.scatter(features_embedded[:,0], features_embedded[:,1], c=y_val)\n",
    "# plt.scatter(features_embedded[:,4], features_embedded[:,5], c=y_train)\n",
    "# plt.scatter(features_embedded[:,11], features[:,43].cpu(), c=y_train)\n"
   ]
  },
  {
   "cell_type": "code",
   "execution_count": null,
   "metadata": {
    "id": "UwFf2BsVDB00"
   },
   "outputs": [],
   "source": [
    "plt.figure()\n",
    "plt.imshow(features_train.cpu().detach(), aspect='auto', interpolation='antialiased')"
   ]
  },
  {
   "cell_type": "code",
   "execution_count": null,
   "metadata": {
    "id": "SARf-u1K28d4"
   },
   "outputs": [],
   "source": [
    "plt.figure()\n",
    "plt.plot(evr)\n",
    "# plt.yscale('log')"
   ]
  },
  {
   "cell_type": "code",
   "execution_count": null,
   "metadata": {
    "id": "SARf-u1K28d4"
   },
   "outputs": [],
   "source": [
    "plt.figure()\n",
    "plt.plot(evr)\n",
    "# plt.yscale('log')"
   ]
  },
  {
   "cell_type": "code",
   "execution_count": null,
   "metadata": {
    "id": "SARf-u1K28d4"
   },
   "outputs": [],
   "source": [
    "plt.figure()\n",
    "plt.plot(evr)\n",
    "# plt.yscale('log')"
   ]
  },
  {
   "cell_type": "code",
   "execution_count": null,
   "metadata": {
    "id": "SARf-u1K28d4"
   },
   "outputs": [],
   "source": [
    "plt.figure()\n",
    "plt.plot(evr)\n",
    "# plt.yscale('log')"
   ]
  },
  {
   "cell_type": "markdown",
   "metadata": {
    "id": "RiHXPapkDB00"
   },
   "source": [
    "## Check filters"
   ]
  },
  {
   "cell_type": "code",
   "execution_count": null,
   "metadata": {
    "id": "2aBVd9FTDB00"
   },
   "outputs": [],
   "source": [
    "list(model.state_dict().keys())"
   ]
  },
  {
   "cell_type": "code",
   "execution_count": null,
   "metadata": {
    "id": "dK_-Xu9EDB01"
   },
   "outputs": [],
   "source": [
    "layer_1 = model.state_dict()['base_model.0.weight'].cpu()\n",
    "layer_2 = model.state_dict()['base_model.4.0.conv1.weight'].cpu()\n",
    "layer_3 = model.state_dict()['base_model.7.0.conv1.weight'].cpu()\n",
    "layer_4 = model.state_dict()['base_model.7.1.conv2.weight'].cpu()\n",
    "\n",
    "plt.figure()\n",
    "for ii in range(layer_1.shape[1]):\n",
    "    for jj in range(layer_1.shape[0]):\n",
    "        plt.subplot2grid((layer_1.shape[1],layer_1.shape[0]),(ii,jj))\n",
    "        fig = plt.imshow(layer_1[jj,ii,:,:] , clim=(-0.2,0.2))\n",
    "        fig.axes.get_xaxis().set_visible(False)\n",
    "        fig.axes.get_yaxis().set_visible(False)\n",
    "\n",
    "plt.figure()\n",
    "for ii in range(16):\n",
    "    for jj in range(16):\n",
    "        plt.subplot2grid((16,16),(ii,jj))\n",
    "        fig = plt.imshow(layer_2[jj,ii,:,:], clim=(-.05,.05))\n",
    "        fig.axes.get_xaxis().set_visible(False)\n",
    "        fig.axes.get_yaxis().set_visible(False)\n",
    "\n",
    "plt.figure()\n",
    "for ii in range(16):\n",
    "    for jj in range(16):\n",
    "        plt.subplot2grid((16,16),(ii,jj))\n",
    "        fig = plt.imshow(layer_3[jj, ii,:,:], clim=(-.1,.1))\n",
    "        fig.axes.get_xaxis().set_visible(False)\n",
    "        fig.axes.get_yaxis().set_visible(False)\n",
    "        \n",
    "plt.figure()\n",
    "for ii in range(16):\n",
    "    for jj in range(16):\n",
    "        plt.subplot2grid((16,16),(ii,jj))\n",
    "        fig = plt.imshow(layer_4[jj, ii,:,:], clim=(-.1,.1))\n",
    "        fig.axes.get_xaxis().set_visible(False)\n",
    "        fig.axes.get_yaxis().set_visible(False)"
   ]
  },
  {
   "cell_type": "code",
   "execution_count": null,
   "metadata": {
    "id": "FGiz2fHFDB01"
   },
   "outputs": [],
   "source": []
  },
  {
   "cell_type": "code",
   "execution_count": null,
   "metadata": {
    "id": "mwJQBUhpDB01"
   },
   "outputs": [],
   "source": [
    "# torch.save(model.state_dict(), '/media/rich/bigSSD/Net_trainedOnAug_20211025_trainingSet_mouse628_20200903and20200815_simCLR.pth')"
   ]
  },
  {
   "cell_type": "code",
   "execution_count": null,
   "metadata": {
    "id": "1grXld0IDB01"
   },
   "outputs": [],
   "source": [
    "# model = Net()\n",
    "# model.load_state_dict(torch.load('test_save.pth'))\n",
    "# model.eval()"
   ]
  },
  {
   "cell_type": "code",
   "execution_count": null,
   "metadata": {
    "id": "quqNFL1jDB01"
   },
   "outputs": [],
   "source": []
  },
  {
   "cell_type": "code",
   "execution_count": null,
   "metadata": {},
   "outputs": [],
   "source": []
  },
  {
   "cell_type": "code",
   "execution_count": null,
   "metadata": {},
   "outputs": [],
   "source": []
  },
  {
   "cell_type": "code",
   "execution_count": null,
   "metadata": {},
   "outputs": [],
   "source": []
  },
  {
   "cell_type": "markdown",
   "metadata": {},
   "source": [
    "# Graveyard"
   ]
  },
  {
   "cell_type": "code",
   "execution_count": null,
   "metadata": {
    "colab": {
     "base_uri": "https://localhost:8080/"
    },
    "id": "rvDiVxDICXEn",
    "outputId": "2c29e3cf-4515-4aae-f0b1-22e30d51fa5f"
   },
   "outputs": [],
   "source": [
    "data_unlabeled = torch.as_tensor(masks_cat, dtype=torch.float32, device='cpu')\n",
    "\n",
    "model.to(DEVICE)\n",
    "\n",
    "# penalized_params = list(model.modules())[-1].parameters()\n",
    "# penalized_params = torch.cat([_.view(-1) for _ in penalized_params], -1)\n",
    "\n",
    "early_stopping = 50\n",
    "prv_best_val = np.inf\n",
    "early_stopping_cnt = 0\n",
    "\n",
    "l2_alpha = 0.1\n",
    "\n",
    "n_epochs=300000\n",
    "for epoch in range(n_epochs):\n",
    "    print(f'epoch: {epoch}')\n",
    "#     loss_rolling_train, loss_rolling_val = training_supervised.epoch_step(dataloader_train, \n",
    "#                                     model, \n",
    "#                                     optimizer, \n",
    "#                                     criterion, \n",
    "\n",
    "#                                     penalized_params, l2_alpha,\n",
    "\n",
    "#                                     scheduler=scheduler,\n",
    "#                                     loss_rolling_train=losses_train, \n",
    "#                                     device=DEVICE, \n",
    "#                                     loss_rolling_val=losses_val,\n",
    "#                                     verbose=2,\n",
    "#                                     verbose_update_period=100,\n",
    "                                   \n",
    "#                                     do_validation=True,\n",
    "#                                     X_val=x_feed_through_val,\n",
    "#                                     y_val=torch.as_tensor(y_val, device=DEVICE)\n",
    "#                                    )\n",
    "    \n",
    "    loss_rolling_train, loss_rolling_val = training_simCLR.epoch_step(dataloader_train, \n",
    "                                    model, \n",
    "                                    optimizer, \n",
    "                                    criterion, \n",
    "\n",
    "                                    # penalized_params, l2_alpha,\n",
    "\n",
    "                                    scheduler=scheduler,\n",
    "                                    loss_rolling_train=losses_train, \n",
    "                                    device=DEVICE, \n",
    "                                    loss_rolling_val=losses_val,\n",
    "                                    verbose=2,\n",
    "                                    verbose_update_period=100,\n",
    "                                   \n",
    "                                    do_validation=True,\n",
    "                                    X_val=x_feed_through_val,\n",
    "                                    y_val=torch.as_tensor(y_val, device=DEVICE)\n",
    "                                   )\n",
    "    \n",
    "    \n",
    "    if early_stopping:\n",
    "      if len(loss_rolling_val) > 0:\n",
    "        if loss_rolling_val[-1] < prv_best_val:\n",
    "          early_stopping_cnt = 0\n",
    "          prv_best_val = loss_rolling_val[-1]\n",
    "          torch.save(model.state_dict(), f'{base_dir}/github_repos/GCaMP_ROI_classifier/new_stuff/models/checkpoints/checkpoint.pth')\n",
    "        else:\n",
    "          early_stopping_cnt += 1\n",
    "    \n",
    "      if early_stopping_cnt >= early_stopping:\n",
    "        model.load_state_dict(torch.load(f'{base_dir}/github_repos/GCaMP_ROI_classifier/new_stuff/models/checkpoints/checkpoint.pth'))\n",
    "        break\n",
    "    \n",
    "    # torch_helpers.show_all_tensors(globals())\n",
    "    \n",
    "    features_train = model(x_feed_through_tr)\n",
    "    features_train = features_train.cpu().detach().numpy()\n",
    "    features_val = model(x_feed_through_val)\n",
    "    features_val = features_val.cpu().detach().numpy()\n",
    "    # y_hat = scipy.special.softmax(features_val, axis=-1) # logreg.predict_proba(features_val)\n",
    "    \n",
    "    print('Training Confusion Matrix')\n",
    "    print(get_cm(features_train, y_train))\n",
    "    print()\n",
    "    print(logistic_pred_train)\n",
    "\n",
    "    print()\n",
    "    print()\n",
    "\n",
    "    print('Val Confusion Matrix')\n",
    "    print(get_cm(features_val, y_val))\n",
    "    print()\n",
    "    print(logistic_pred_val)\n",
    "\n",
    "    # model.to(DEVICE)\n",
    "    print()\n",
    "    print()\n"
   ]
  },
  {
   "cell_type": "raw",
   "metadata": {
    "id": "E5EeUhzUDB0v"
   },
   "source": [
    "%matplotlib notebook\n",
    "\n",
    "logreg = LogisticRegression(solver='liblinear', max_iter=30)\n",
    "# logreg_predict_head = LogisticRegression(solver='liblinear')\n",
    "dataset_train.classification_model = None\n",
    "\n",
    "\n",
    "\n",
    "# scheduler = torch.optim.lr_scheduler.ExponentialLR(optimizer,\n",
    "#                                                    gamma=1-0.001,\n",
    "# #                                                    gamma=1,\n",
    "#                                                   )\n",
    "n_epochs=300000\n",
    "for epoch in range(n_epochs):\n",
    "    print(f'epoch: {epoch}')\n",
    "\n",
    "    model.prep_contrast()\n",
    "    training_simCLR.epoch_step( dataloader_train, \n",
    "                                model, \n",
    "                                optimizer, \n",
    "                                criterion,\n",
    "                                scheduler=scheduler, \n",
    "                                temperature=0.5,\n",
    "                                loss_rolling_train=losses_train, \n",
    "                                device=DEVICE, \n",
    "                                do_validation=False,\n",
    "#                                 validation_Object=val_obj,\n",
    "                                loss_rolling_val=losses_val,\n",
    "                                verbose=2,\n",
    "                                verbose_update_period=100,\n",
    "                               )\n",
    "    \n",
    "\n",
    "    model.prep_classifier()\n",
    "\n",
    "    # print(util.tile_channels(torch.as_tensor(X_labeled_train[:,None,...], device=DEVICE, dtype=torch.float32), dim=1).shape)\n",
    "\n",
    "    features_train = model.get_head(model.base_model(util.tile_channels(torch.as_tensor(X_labeled_train[:,None,...], device=DEVICE, dtype=torch.float32), dim=1))).detach().cpu()\n",
    "    # features_train = model(util.tile_channels(torch.as_tensor(X_labeled_train[:,None,...], device=DEVICE, dtype=torch.float32), dim=1)).detach().cpu()\n",
    "    # features_train = model(torch.as_tensor(X_labeled_train, device=DEVICE, dtype=torch.float32)[:,None,...]).detach().cpu()\n",
    "    # features = model(torch.tensor(X_train[y_train != 3], device=DEVICE, dtype=torch.float32)[:,None,...]).detach().cpu()\n",
    "    \n",
    "    tic = time.time()\n",
    "    logreg.fit(features_train, y_labeled_train)\n",
    "    print(time.time() - tic)\n",
    "    acc.append(logreg.score(features_train, y_labeled_train))\n",
    "    print(f'acc: {acc[-1]}')\n",
    "    \n",
    "    dataset_train.net_model = copy.deepcopy(model).to('cpu')\n",
    "    dataset_train.classification_model = logreg\n",
    "    \n",
    "\n",
    "#     sample_id_num = np.arange(X_labeled_val.shape[0])\n",
    "#     epoch_val = epoch\n",
    "#     batch_val = -1\n",
    "#     p_tmp = logreg.predict_proba(model(torch.as_tensor(util.tile_channels(X_labeled_val), device=DEVICE, dtype=torch.float32)).detach().cpu())\n",
    "#     logits = p_tmp\n",
    "#     # logits = np.log(1/(1/p_tmp - 1))\n",
    "\n",
    "#     col_vals = [sample_id_num, epoch_val, batch_val, y_labeled_val]\n",
    "#     setup = np.empty((len(sample_id_num), len(col_vals)))\n",
    "#     for icv, col_val in enumerate(col_vals):\n",
    "#       setup[:, icv] = col_val\n",
    "#     tmp_tracking_np = np.concatenate([setup, logits], axis=1)\n",
    "\n",
    "#     tmp_tracking_df = pd.DataFrame(tmp_tracking_np, index=sample_id_num, columns=tracking_df_cols + [f'logits_{i}' for i in range(logits.shape[1])])\n",
    "#     tracking_df = tracking_df.append(tmp_tracking_df, ignore_index=True)\n",
    "#     display(tracking_df)\n",
    "\n",
    "\n",
    "    \n",
    "    features_val = model.get_head(model.base_model(util.tile_channels(torch.as_tensor(X_labeled_val[:,None,...], device=DEVICE, dtype=torch.float32), dim=1))).detach().cpu()\n",
    "\n",
    "\n",
    "    # logreg_predict_head.fit(features_train, y_labeled_train)\n",
    "    # y_hat = logreg_predict_head.predict_proba(features_val)\n",
    "\n",
    "    y_hat = logreg.predict_proba(features_val)\n",
    "    \n",
    "    cm = classification.confusion_matrix(y_hat, y_labeled_val)\n",
    "#     plt.figure()\n",
    "#     plt.imshow(cm)\n",
    "#     plt.colorbar()\n",
    "#     plt.show()\n",
    "    print(cm)\n",
    "\n",
    "\n",
    "    # tracking_df = tracking_df.append(pd.DataFrame([np.array([100, 0, 0, 0])], index=tracking_df_cols), ignore_index=True)\n",
    "    \n",
    "    # model predict\n",
    "    # Update model in DS\n",
    "    # get item calls model for each sample\n",
    "    # output\n",
    "    # X sample weights predictions\n",
    "    \n",
    "#     classHead.fit(X_train[:, None, :, :], y_train, solver='liblinear')\n",
    "    \n",
    "#     proba = classHead.predict_proba(X_train[:, None, :, :])\n",
    "#     class_weights = proba.sum(axis=0)\n",
    "#     total_num = class_weights.sum()\n",
    "    \n",
    "#     eps = 1e-4\n",
    "    \n",
    "#     class_weights[class_weights <= 3] = total_num\n",
    "#     weightings = class_weights.sum()/class_weights\n",
    "#     final_weights = weightings / weightings.sum()\n",
    "#     final_weights = np.array([1/proba.shape[1] for _ in range(proba.shape[1])])\n",
    "    \n",
    "#     print(class_weights)\n",
    "\n",
    "#     dataset_train.set_classweights(final_weights)\n",
    "    \n",
    "#     print('dataset_train.final_weights', dataset_train.class_weights)\n"
   ]
  }
 ],
 "metadata": {
  "accelerator": "GPU",
  "colab": {
   "collapsed_sections": [],
   "machine_shape": "hm",
   "name": "ROIClassifier_TRAIN_20211201_JZ_supervised-comparison5.ipynb",
   "provenance": []
  },
  "kernelspec": {
   "display_name": "Python 3",
   "language": "python",
   "name": "python3"
  },
  "language_info": {
   "codemirror_mode": {
    "name": "ipython",
    "version": 3
   },
   "file_extension": ".py",
   "mimetype": "text/x-python",
   "name": "python",
   "nbconvert_exporter": "python",
   "pygments_lexer": "ipython3",
   "version": "3.8.12"
  },
  "varInspector": {
   "cols": {
    "lenName": 16,
    "lenType": 16,
    "lenVar": 40
   },
   "kernels_config": {
    "python": {
     "delete_cmd_postfix": "",
     "delete_cmd_prefix": "del ",
     "library": "var_list.py",
     "varRefreshCmd": "print(var_dic_list())"
    },
    "r": {
     "delete_cmd_postfix": ") ",
     "delete_cmd_prefix": "rm(",
     "library": "var_list.r",
     "varRefreshCmd": "cat(var_dic_list()) "
    }
   },
   "position": {
    "height": "943px",
    "left": "1381px",
    "right": "20px",
    "top": "106px",
    "width": "501px"
   },
   "types_to_exclude": [
    "module",
    "function",
    "builtin_function_or_method",
    "instance",
    "_Feature"
   ],
   "window_display": true
  }
 },
 "nbformat": 4,
 "nbformat_minor": 4
}
