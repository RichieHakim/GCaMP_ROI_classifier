{
 "cells": [
  {
   "cell_type": "code",
   "execution_count": 1,
   "metadata": {
    "colab": {
     "base_uri": "https://localhost:8080/",
     "height": 17
    },
    "id": "S3q3I42jDB0f",
    "outputId": "3ad88a07-0e8b-474f-b0d8-9fb6c2a99f0c"
   },
   "outputs": [
    {
     "data": {
      "text/html": [
       "<style>.container { width:95% !important; }</style>"
      ],
      "text/plain": [
       "<IPython.core.display.HTML object>"
      ]
     },
     "metadata": {},
     "output_type": "display_data"
    }
   ],
   "source": [
    "from IPython.core.display import display, HTML\n",
    "display(HTML(\"<style>.container { width:95% !important; }</style>\"))"
   ]
  },
  {
   "cell_type": "raw",
   "metadata": {
    "id": "PUUWS0VmwD7-"
   },
   "source": [
    "# !source activate jupyter_launcher\n",
    "!pip3 install numba\n",
    "!pip3 install matplotlib\n",
    "!pip3 install scipy\n",
    "!pip3 install torch\n",
    "!pip3 install torchvision\n",
    "!pip3 install sklearn\n",
    "!pip3 install pycuda\n",
    "!pip3 install tqdm\n",
    "!pip3 install seaborn\n",
    "!pip3 install h5py\n",
    "!pip3 install hdfdict\n",
    "!pip3 install ipywidgets\n",
    "!pip3 install numpy==1.20"
   ]
  },
  {
   "cell_type": "code",
   "execution_count": 2,
   "metadata": {},
   "outputs": [
    {
     "data": {
      "text/plain": [
       "'/Users/josh/opt/anaconda3/bin/python'"
      ]
     },
     "execution_count": 2,
     "metadata": {},
     "output_type": "execute_result"
    }
   ],
   "source": [
    "import sys\n",
    "sys.executable"
   ]
  },
  {
   "cell_type": "code",
   "execution_count": null,
   "metadata": {},
   "outputs": [],
   "source": []
  },
  {
   "cell_type": "code",
   "execution_count": null,
   "metadata": {},
   "outputs": [],
   "source": []
  },
  {
   "cell_type": "code",
   "execution_count": 3,
   "metadata": {
    "id": "eTIgCGQsDB0i"
   },
   "outputs": [],
   "source": [
    "import sys\n",
    "import os\n",
    "import copy\n",
    "import pathlib\n",
    "import time\n",
    "import gc\n",
    "\n",
    "from tqdm import tqdm, trange\n",
    "# from tqdm import trange\n",
    "\n",
    "import numpy as np\n",
    "import pandas as pd\n",
    "import matplotlib.pyplot as plt\n",
    "import seaborn as sns\n",
    "import scipy\n",
    "\n",
    "import torch\n",
    "import torchvision\n",
    "import torchvision.transforms as transforms\n",
    "\n",
    "# import cuml\n",
    "\n",
    "# for creating validation set\n",
    "import sklearn\n",
    "from sklearn.model_selection import train_test_split\n",
    "\n",
    "%matplotlib inline\n",
    "%matplotlib inline\n",
    "# %matplotlib inline\n",
    "# %matplotlib qt"
   ]
  },
  {
   "cell_type": "code",
   "execution_count": null,
   "metadata": {
    "id": "GExNkvATEBtG"
   },
   "outputs": [],
   "source": []
  },
  {
   "cell_type": "code",
   "execution_count": 4,
   "metadata": {
    "id": "MZ9Hq6SVvves"
   },
   "outputs": [],
   "source": [
    "# base_dir = '/n/data1/hms/neurobio/sabatini/josh'\n",
    "base_dir = '/Users/josh/Documents/'\n",
    "DEVICE = 'cpu'\n"
   ]
  },
  {
   "cell_type": "code",
   "execution_count": 5,
   "metadata": {
    "id": "9w3t_mtdDB0j"
   },
   "outputs": [],
   "source": [
    "import sys\n",
    "\n",
    "sys.path.append(f'{base_dir}/github_repos')\n",
    "# sys.path.append(f'/media/rich/Home_Linux_partition/github_repos')\n",
    "dir_folders = f'{base_dir}/label_data'\n",
    "\n",
    "\n",
    "%load_ext autoreload\n",
    "%autoreload 2\n",
    "from basic_neural_processing_modules import torch_helpers, math_functions, classification, h5_handling, plotting_helpers, indexing, misc, decomposition\n",
    "from GCaMP_ROI_classifier.new_stuff import util, models, training_simCLR, augmentation, training_classHead, training_supervised"
   ]
  },
  {
   "cell_type": "markdown",
   "metadata": {
    "id": "hTqZzmpJDB0j"
   },
   "source": [
    "## Import unlabeled training data"
   ]
  },
  {
   "cell_type": "code",
   "execution_count": 6,
   "metadata": {},
   "outputs": [],
   "source": [
    "# data_unlabeled = h5_handling.simple_load(path=r'/media/rich/bigSSD/for_Josh/GCAMP_ROI_Classifier_data/masks_20211202_balanced.h5')\n",
    "data_unlabeled = h5_handling.simple_load(path=f'{base_dir}/label_data/masks_20211202_balanced.h5')\n",
    "\n",
    "masks_cat_raw = torch.as_tensor(np.concatenate((data_unlabeled['SYTmasks'], data_unlabeled['NPmasks'], data_unlabeled['RHmasks']), axis=0), dtype=torch.float32, device='cpu')"
   ]
  },
  {
   "cell_type": "code",
   "execution_count": 7,
   "metadata": {},
   "outputs": [],
   "source": [
    "# data_labeled = h5_handling.simple_load(path=r'/media/rich/bigSSD/for_Josh/GCAMP_ROI_Classifier_data/masks_20211202_unbalanced.h5')\n",
    "\n",
    "data_labeled = h5_handling.simple_load(path=f'{base_dir}/label_data/masks_20211202_unbalanced.h5')\n",
    "\n",
    "masks_SYT = data_labeled['SYTmasks']\n",
    "labels_SYT = classification.squeeze_integers(data_labeled['SYTlabels'])\n",
    "\n",
    "nan_lst = np.concatenate(np.where(np.isnan(masks_SYT).sum(axis=-1).sum(axis=-1)))\n",
    "non_nan = [_ for _ in range(masks_SYT.shape[0]) if _ not in nan_lst]\n",
    "labels_SYT = labels_SYT[non_nan]\n",
    "masks_SYT = masks_SYT[non_nan]\n",
    "\n",
    "X_labeled_train_SYT, X_labeled_val_SYT, y_labeled_train_SYT, y_labeled_val_SYT = train_test_split(masks_SYT, labels_SYT, test_size = 0.2)"
   ]
  },
  {
   "cell_type": "markdown",
   "metadata": {},
   "source": [
    "toss any NaNs"
   ]
  },
  {
   "cell_type": "code",
   "execution_count": 8,
   "metadata": {},
   "outputs": [
    {
     "name": "stdout",
     "output_type": "stream",
     "text": [
      "Number of masks: torch.Size([711808, 36, 36])\n",
      "Number of masks: torch.Size([711807, 36, 36])\n"
     ]
    }
   ],
   "source": [
    "print(f'Number of masks: {masks_cat_raw.shape}')\n",
    "\n",
    "ROIs_without_NaNs = torch.where(~torch.any(torch.any(torch.isnan(masks_cat_raw), dim=1), dim=1))[0]\n",
    "masks_cat = masks_cat_raw[ROIs_without_NaNs]\n",
    "\n",
    "print(f'Number of masks: {masks_cat.shape}')"
   ]
  },
  {
   "cell_type": "markdown",
   "metadata": {
    "id": "hTqZzmpJDB0j"
   },
   "source": [
    "## Import labeled training data"
   ]
  },
  {
   "cell_type": "code",
   "execution_count": 9,
   "metadata": {
    "colab": {
     "base_uri": "https://localhost:8080/",
     "height": 1000
    },
    "id": "S8AO_lypDB0o",
    "outputId": "4edfd739-a0b7-4789-aea1-4a9f6c2665c8"
   },
   "outputs": [
    {
     "name": "stdout",
     "output_type": "stream",
     "text": [
      "concatenated images shape: (9715, 32, 32)\n"
     ]
    },
    {
     "data": {
      "image/png": "[encoded data removed]",
      "text/plain": [
       "<Figure size 432x288 with 1 Axes>"
      ]
     },
     "metadata": {
      "needs_background": "light"
     },
     "output_type": "display_data"
    },
    {
     "data": {
      "image/png": "[encoded data removed]",
      "text/plain": [
       "<Figure size 432x288 with 1 Axes>"
      ]
     },
     "metadata": {
      "needs_background": "light"
     },
     "output_type": "display_data"
    },
    {
     "data": {
      "image/png": "[encoded data removed]",
      "text/plain": [
       "<Figure size 432x288 with 1 Axes>"
      ]
     },
     "metadata": {
      "needs_background": "light"
     },
     "output_type": "display_data"
    },
    {
     "data": {
      "image/png": "[encoded data removed]",
      "text/plain": [
       "<Figure size 432x288 with 1 Axes>"
      ]
     },
     "metadata": {
      "needs_background": "light"
     },
     "output_type": "display_data"
    }
   ],
   "source": [
    "dir_folders = f'{base_dir}/label_data'\n",
    "# dir_folders = r'/media/rich/bigSSD/for_Josh/GCAMP_ROI_Classifier_data/label_data'\n",
    "# dir_folders = r'/users/Josh/Documents/Harvard/label_data'\n",
    "folders = [r'mouse 6_28 _ day 20200903/',\n",
    "             r'mouse6_28 _ day20200815/']\n",
    "fileNames_statFiles = [r'stat.npy']*len(folders)\n",
    "paths_statFiles = [pathlib.Path(dir_folders) / folders[ii] / fileNames_statFiles[ii] for ii in range(len(folders))]\n",
    "\n",
    "sf_all = util.import_multiple_stat_files(   paths_statFiles=paths_statFiles,\n",
    "                                            fileNames_statFiles=fileNames_statFiles,\n",
    "                                            out_height_width=[32,32],\n",
    "                                            max_footprint_width=241,\n",
    "                                            plot_pref=True)\n",
    "images_labeled_raw = np.concatenate(sf_all, axis=0)\n",
    "images_labeled_raw = (images_labeled_raw / np.max(images_labeled_raw, axis=(1,2), keepdims=True)) * 1\n",
    "print(f'concatenated images shape: {images_labeled_raw.shape}')\n",
    "\n",
    "fileNames_labelFiles = ['labels_posthoc_filledIn_allCells.npy',\n",
    "             'labels_posthoc_all.npy']\n",
    "paths_labelFiles = [pathlib.Path(dir_folders) / folders[ii] / fileNames_labelFiles[ii] for ii in range(len(folders))]\n",
    "\n",
    "labels_all = util.import_multiple_label_files(paths_labelFiles=paths_labelFiles,\n",
    "                                       plot_pref=True)\n",
    "labels_raw = np.concatenate(labels_all)\n",
    "\n",
    "assert np.alltrue([sf_all[ii].shape[0] == labels_all[ii].shape[0] for ii in range(len(sf_all))]) , 'num images in stat files does not correspond to num labels'"
   ]
  },
  {
   "cell_type": "code",
   "execution_count": 10,
   "metadata": {},
   "outputs": [
    {
     "data": {
      "image/png": "[encoded data removed]",
      "text/plain": [
       "<Figure size 432x288 with 100 Axes>"
      ]
     },
     "metadata": {
      "needs_background": "light"
     },
     "output_type": "display_data"
    }
   ],
   "source": [
    "%matplotlib inline\n",
    "\n",
    "plotting_helpers.plot_image_grid(images=images_labeled_raw,\n",
    "                                labels=None,\n",
    "                                grid_shape=(10,10), cmap=plt.get_cmap('gray'));"
   ]
  },
  {
   "cell_type": "code",
   "execution_count": 11,
   "metadata": {
    "id": "Ip1UMYy6DB0p"
   },
   "outputs": [],
   "source": [
    "labels = classification.squeeze_integers(labels_raw)\n",
    "images_labeled = images_labeled_raw[labels != 2]\n",
    "labels = labels[labels != 2]\n",
    "labels = classification.squeeze_integers(labels)"
   ]
  },
  {
   "cell_type": "markdown",
   "metadata": {
    "id": "UYh_wBqCDB0q"
   },
   "source": [
    "## Balance classes of inputs"
   ]
  },
  {
   "cell_type": "code",
   "execution_count": 12,
   "metadata": {
    "colab": {
     "base_uri": "https://localhost:8080/"
    },
    "id": "qn4Pu2cKDB0q",
    "outputId": "3afafb73-54a7-4e2d-8030-c0af6272cbe6"
   },
   "outputs": [
    {
     "name": "stdout",
     "output_type": "stream",
     "text": [
      "(9714, 32, 32)\n",
      "(9714,)\n",
      "532\n",
      "(2128, 32, 32)\n",
      "(2128,)\n",
      "532\n",
      "532\n",
      "532\n",
      "0\n",
      "0\n",
      "(2128, 32, 32)\n",
      "(2128,)\n"
     ]
    }
   ],
   "source": [
    "duplicates = 1\n",
    "balanced = True\n",
    "\n",
    "images_dup = np.tile(images_labeled , (duplicates , 1 , 1))\n",
    "labels_dup = np.tile(labels , (duplicates))\n",
    "\n",
    "print(images_dup.shape)\n",
    "print(labels_dup.shape)\n",
    "\n",
    "if balanced:\n",
    "    numToGetTo = np.sum(labels_dup==0)\n",
    "    print(numToGetTo)\n",
    "    for ii in np.array([1,2,3]):\n",
    "  #     idxToDelete = np.cumsum(labels_dup==ii) <= (np.sum(labels_dup==ii) - numToGetTo)\n",
    "        if ii==3:\n",
    "            numToGetTo = np.sum(labels_dup==0)/1\n",
    "        else:\n",
    "            numToGetTo = np.sum(labels_dup==0)\n",
    "\n",
    "        idxToDelete = (np.cumsum(labels_dup==ii) * (labels_dup==ii)) > numToGetTo\n",
    "        images_dup = images_dup[idxToDelete==0,:,:]\n",
    "        labels_dup = labels_dup[idxToDelete==0]\n",
    "\n",
    "\n",
    "\n",
    "\n",
    "\n",
    "print(images_dup.shape)\n",
    "print(labels_dup.shape)\n",
    "\n",
    "numToGetTo = np.sum(labels_dup==0)\n",
    "print(numToGetTo)\n",
    "\n",
    "print(np.sum(labels_dup==0))\n",
    "print(np.sum(labels_dup==1))\n",
    "print(np.sum(labels_dup==4))\n",
    "print(np.sum(labels_dup==5))\n",
    "print(images_dup.shape)\n",
    "print(labels_dup.shape)"
   ]
  },
  {
   "cell_type": "raw",
   "metadata": {
    "id": "NpMB08CYDB0q"
   },
   "source": [
    "# create validation set\n",
    "# X_train, X_val, y_train, y_val = train_test_split(images[:], labels[:], test_size = 0.15)\n",
    "X_train, X_val, y_train, y_val = train_test_split(images_dup[:], labels_dup[:], test_size = 0.15)\n",
    "(X_train.shape, y_train.shape), (X_val.shape, y_val.shape)"
   ]
  },
  {
   "cell_type": "code",
   "execution_count": 13,
   "metadata": {
    "colab": {
     "base_uri": "https://localhost:8080/"
    },
    "id": "fVA_Aa6rDB0q",
    "outputId": "15b9e55a-4881-40be-f06b-dec658fa55a7"
   },
   "outputs": [
    {
     "data": {
      "text/plain": [
       "(((1702, 32, 32), (1702,)), ((426, 32, 32), (426,)))"
      ]
     },
     "execution_count": 13,
     "metadata": {},
     "output_type": "execute_result"
    }
   ],
   "source": [
    "# create validation set\n",
    "\n",
    "###### REMOVE WITH ENOUGH RAM\n",
    "images = images_dup\n",
    "labels = labels_dup\n",
    "\n",
    "# X_labeled_train, X_labeled_val, y_labeled_train, y_labeled_val = train_test_split(images_dup, labels_dup, test_size = 0.3)\n",
    "X_labeled_train, X_labeled_val, y_labeled_train, y_labeled_val = train_test_split(images_dup, labels_dup, test_size = 0.2)\n",
    "# X_train, y_train = X_labeled_train, y_labeled_train\n",
    "\n",
    "# X_labeled_val, X_test, y_labeled_val, y_test = train_test_split(X_labeled_val, y_labeled_val, test_size = 0.5)\n",
    "X_val, X_test, y_val, y_test = train_test_split(X_labeled_val, y_labeled_val, test_size = 0.5)\n",
    "\n",
    "(X_labeled_train.shape, y_labeled_train.shape), (X_labeled_val.shape, y_labeled_val.shape)"
   ]
  },
  {
   "cell_type": "code",
   "execution_count": 14,
   "metadata": {
    "colab": {
     "base_uri": "https://localhost:8080/",
     "height": 265
    },
    "id": "mdJafJMMDB0r",
    "outputId": "2e8d00f6-32bf-4aeb-d02d-e10dcaaccfe3"
   },
   "outputs": [
    {
     "data": {
      "image/png": "[encoded data removed]",
      "text/plain": [
       "<Figure size 432x288 with 1 Axes>"
      ]
     },
     "metadata": {
      "needs_background": "light"
     },
     "output_type": "display_data"
    }
   ],
   "source": [
    "plt.figure()\n",
    "plt.hist(labels_dup, 20);"
   ]
  },
  {
   "cell_type": "code",
   "execution_count": 15,
   "metadata": {},
   "outputs": [
    {
     "data": {
      "text/plain": [
       "(2128, 32, 32)"
      ]
     },
     "execution_count": 15,
     "metadata": {},
     "output_type": "execute_result"
    }
   ],
   "source": [
    "images.shape"
   ]
  },
  {
   "cell_type": "code",
   "execution_count": null,
   "metadata": {
    "id": "XNxaCTbcDB0r"
   },
   "outputs": [],
   "source": []
  },
  {
   "cell_type": "raw",
   "metadata": {
    "id": "tz9Q8wYuDB0s"
   },
   "source": [
    "from sklearn.linear_model import LogisticRegression\n",
    "import sklearn.metrics\n",
    "\n",
    "def classification_step(X_train, y_train, X_test, model, model_device, temperature):\n",
    "    logreg = LogisticRegression()\n",
    "    features_train = model(torch.as_tensor(X_train, device=DEVICE, dtype=torch.float32)[:,None,...]).detach().cpu()\n",
    "    # features = model(torch.tensor(X_train[y_train != 3], device=DEVICE, dtype=torch.float32)[:,None,...]).detach().cpu()\n",
    "    logreg.fit(features_train, y_train)\n",
    "    # logreg.fit(features, y_train[y_train != 3])\n",
    "    \n",
    "    features_test = model(torch.as_tensor(X_test, device=DEVICE, dtype=torch.float32)[:,None,...]).detach().cpu()    \n",
    "    y_hat = logreg.predict_proba(features_test)\n",
    "    y_hat = torch.as_tensor(y_hat, dtype=torch.float32, device='cpu')\n",
    "    \n",
    "#     print(y_hat)\n",
    "    print(f'accuracy: {logreg.score(features, y):.5}')\n",
    "\n",
    "#     # cm = sklearn.metrics.confusion_matrix(idx_to_oneHot(y_train), y_hat, normalize='true')\n",
    "#     # cm = sklearn.metrics.confusion_matrix(idx_to_oneHot(y_train[y_train != 3]), y_hat, normalize='true')\n",
    "#     cm = rh_cm(y_hat, y)\n",
    "#     # cm = rh_cm(y_hat, y_train[y_train != 3])\n",
    "    \n",
    "    unc = util.loss_uncertainty(y_hat, temperature=temperature)\n",
    "\n",
    "#     plt.figure()\n",
    "#     plt.imshow(cm)\n",
    "#     return torch.tensor(unc, dtype=torch.float32, device=model_device)\n",
    "    return unc"
   ]
  },
  {
   "cell_type": "markdown",
   "metadata": {
    "id": "3aA1-hY4DB0v"
   },
   "source": [
    "# Train"
   ]
  },
  {
   "cell_type": "code",
   "execution_count": 16,
   "metadata": {
    "colab": {
     "base_uri": "https://localhost:8080/"
    },
    "id": "YtkRZSMqDB0v",
    "outputId": "230c559f-f22c-4182-b3ab-024ba2080a50"
   },
   "outputs": [],
   "source": [
    "# DEVICE = torch_helpers.set_device(use_GPU=True)\n",
    "# DEVICE = torch_helpers.set_device(use_GPU=False)"
   ]
  },
  {
   "cell_type": "markdown",
   "metadata": {},
   "source": [
    "### Define New model = model + pre-head + latent layer OR classification layer"
   ]
  },
  {
   "cell_type": "code",
   "execution_count": 17,
   "metadata": {
    "id": "gt4xpqbHBjyL"
   },
   "outputs": [],
   "source": [
    "class ModelTackOn(torch.nn.Module):\n",
    "    def __init__(self, base_model, un_modified_model, pre_head_fc_sizes=[100], post_head_fc_sizes=[100], classifier_fc_sizes=None):\n",
    "            super(ModelTackOn, self).__init__()\n",
    "            self.base_model = base_model\n",
    "            final_base_layer = list(un_modified_model.children())[-1]\n",
    "            # final_base_layer = list(list(model.children())[-1].children())[-1]\n",
    "            # print(final_base_layer)\n",
    "\n",
    "            self.pre_head_fc_lst = []\n",
    "            self.post_head_fc_lst = []\n",
    "            self.classifier_fc_lst = []\n",
    "\n",
    "            self.init_prehead(final_base_layer, pre_head_fc_sizes)\n",
    "            self.init_posthead(pre_head_fc_sizes[-1], post_head_fc_sizes)\n",
    "            if classifier_fc_sizes is not None:\n",
    "                self.init_classifier(pre_head_fc_sizes[-1], classifier_fc_sizes)\n",
    "    \n",
    "    def init_prehead(self, prv_layer, pre_head_fc_sizes):\n",
    "        for i, pre_head_fc in enumerate(pre_head_fc_sizes):\n",
    "            if i == 0:\n",
    "                in_features = prv_layer.in_features if hasattr(prv_layer,'in_features') else 1280\n",
    "            else:\n",
    "                in_features = pre_head_fc_sizes[i - 1]\n",
    "            fc_layer = torch.nn.Linear(in_features=in_features, out_features=pre_head_fc)\n",
    "            self.add_module(f'PreHead_{i}', fc_layer)\n",
    "            self.pre_head_fc_lst.append(fc_layer)\n",
    "\n",
    "#             if i < len(pre_head_fc_sizes) - 1:\n",
    "            non_linearity = torch.nn.ReLU()\n",
    "            self.add_module(f'PreHead_{i}_NonLinearity', non_linearity)\n",
    "            self.pre_head_fc_lst.append(non_linearity)\n",
    "\n",
    "    def init_posthead(self, prv_size, post_head_fc_sizes):\n",
    "        for i, post_head_fc in enumerate(post_head_fc_sizes):\n",
    "            if i == 0:\n",
    "                in_features = prv_size\n",
    "            else:\n",
    "                in_features = post_head_fc_sizes[i - 1]\n",
    "            fc_layer = torch.nn.Linear(in_features=in_features, out_features=post_head_fc)\n",
    "            self.add_module(f'PostHead_{i}', fc_layer)\n",
    "            self.post_head_fc_lst.append(fc_layer)\n",
    "\n",
    "            if i < len(post_head_fc_sizes) - 1:\n",
    "                non_linearity = torch.nn.ReLU()\n",
    "                self.add_module(f'PostHead_{i}_NonLinearity', non_linearity)\n",
    "                self.pre_head_fc_lst.append(non_linearity)\n",
    "    \n",
    "    def init_classifier(self, prv_size, classifier_fc_sizes):\n",
    "            for i, classifier_fc in enumerate(classifier_fc_sizes):\n",
    "                if i == 0:\n",
    "                    in_features = prv_size\n",
    "                else:\n",
    "                    in_features = classifier_fc_sizes[i - 1]\n",
    "            fc_layer = torch.nn.Linear(in_features=in_features, out_features=classifier_fc)\n",
    "            self.add_module(f'Classifier_{i}', fc_layer)\n",
    "            self.classifier_fc_lst.append(fc_layer)\n",
    "\n",
    "    def reinit_classifier(self):\n",
    "        for i_layer, layer in enumerate(self.classifier_fc_lst):\n",
    "            layer.reset_parameters()\n",
    "    \n",
    "#     def forward(self, X):\n",
    "#         interim = self.base_model(X)\n",
    "#         interim = self.get_head(interim)\n",
    "#         interim = self.get_latent(interim)\n",
    "#         return interim\n",
    "\n",
    "    def forward_classifier(self, X):\n",
    "        interim = self.base_model(X)\n",
    "        interim = self.get_head(interim)\n",
    "        interim = self.classify(interim)\n",
    "        return interim\n",
    "\n",
    "    def forward_latent(self, X):\n",
    "        interim = self.base_model(X)\n",
    "        interim = self.get_head(interim)\n",
    "        interim = self.get_latent(interim)\n",
    "        return interim\n",
    "\n",
    "\n",
    "    def get_head(self, base_out):\n",
    "        # print('base_out', base_out.shape)\n",
    "        head = base_out\n",
    "        for pre_head_layer in self.pre_head_fc_lst:\n",
    "          # print('pre_head_layer', pre_head_layer.in_features)\n",
    "          head = pre_head_layer(head)\n",
    "          # print('head', head.shape)\n",
    "        return head\n",
    "\n",
    "    def get_latent(self, head):\n",
    "        latent = head\n",
    "        for post_head_layer in self.post_head_fc_lst:\n",
    "            latent = post_head_layer(latent)\n",
    "        return latent\n",
    "\n",
    "    def classify(self, head):\n",
    "        logit = head\n",
    "        for classifier_layer in self.classifier_fc_lst:\n",
    "            logit = classifier_layer(logit)\n",
    "        return logit\n",
    "\n",
    "    def set_pre_head_grad(self, requires_grad=True):\n",
    "        for layer in self.pre_head_fc_lst:\n",
    "            for param in layer.parameters():\n",
    "                param.requires_grad = requires_grad\n",
    "                \n",
    "    def set_post_head_grad(self, requires_grad=True):\n",
    "        for layer in self.post_head_fc_lst:\n",
    "            for param in layer.parameters():\n",
    "                param.requires_grad = requires_grad\n",
    "\n",
    "    def set_classifier_grad(self, requires_grad=True):\n",
    "        for layer in self.classifier_fc_lst:\n",
    "            for param in layer.parameters():\n",
    "                param.requires_grad = requires_grad\n",
    "\n",
    "    def prep_contrast(self):\n",
    "        self.set_pre_head_grad(requires_grad=True)\n",
    "        self.set_post_head_grad(requires_grad=True)\n",
    "        self.set_classifier_grad(requires_grad=False)\n",
    "\n",
    "    def prep_classifier(self):\n",
    "        self.set_pre_head_grad(requires_grad=False)\n",
    "        self.set_post_head_grad(requires_grad=False)\n",
    "        self.set_classifier_grad(requires_grad=True)\n"
   ]
  },
  {
   "cell_type": "code",
   "execution_count": 18,
   "metadata": {
    "id": "MIix9BdUCkqf"
   },
   "outputs": [],
   "source": [
    "# import torchvision.models\n",
    "\n",
    "# # base_model = torchvision.models.resnet101(pretrained=True)\n",
    "# base_model = torchvision.models.resnet18(pretrained=True)\n",
    "\n",
    "# for param in base_model.parameters():\n",
    "#     param.requires_grad = False\n",
    "\n",
    "# retrain = list(base_model.children())[-1:]\n",
    "# for layer in retrain:\n",
    "#     params = layer.parameters()\n",
    "#     for param in params:\n",
    "#         param.requires_grad = True"
   ]
  },
  {
   "cell_type": "code",
   "execution_count": 19,
   "metadata": {
    "id": "oyjLftj_cEGW"
   },
   "outputs": [
    {
     "name": "stderr",
     "output_type": "stream",
     "text": [
      "Downloading: \"https://download.pytorch.org/models/efficientnet_b0_rwightman-3dd342df.pth\" to /Users/josh/.cache/torch/hub/checkpoints/efficientnet_b0_rwightman-3dd342df.pth\n"
     ]
    },
    {
     "data": {
      "application/vnd.jupyter.widget-view+json": {
       "model_id": "51ce74e496074fe7a5a3cfb1842a818b",
       "version_major": 2,
       "version_minor": 0
      },
      "text/plain": [
       "HBox(children=(HTML(value=''), FloatProgress(value=0.0, max=21444401.0), HTML(value='')))"
      ]
     },
     "metadata": {},
     "output_type": "display_data"
    },
    {
     "name": "stdout",
     "output_type": "stream",
     "text": [
      "\n"
     ]
    }
   ],
   "source": [
    "import torchvision.models\n",
    "\n",
    "# base_model_frozen = torchvision.models.resnet101(pretrained=True)\n",
    "# base_model_frozen = torchvision.models.resnet18(pretrained=True)\n",
    "# base_model_frozen = torchvision.models.wide_resnet50_2(pretrained=True)\n",
    "# base_model_frozen = torchvision.models.resnet50(pretrained=True)\n",
    "\n",
    "base_model_frozen = torchvision.models.efficientnet_b0(pretrained=True)\n",
    "\n",
    "\n",
    "for param in base_model_frozen.parameters():\n",
    "    param.requires_grad = False"
   ]
  },
  {
   "cell_type": "markdown",
   "metadata": {},
   "source": [
    "start with a pretrained resnet model, and chop off the final layer. This will be used as the base on which we add the pre-head layers (for expressivity), latent layers (for simCLR), or classification layers (for post-hoc logistic regression)"
   ]
  },
  {
   "cell_type": "code",
   "execution_count": 20,
   "metadata": {
    "id": "aWnb7WWri9qK"
   },
   "outputs": [],
   "source": [
    "model_chopped = torch.nn.Sequential(*(list(base_model_frozen.children())[:-1] + [torch.nn.Flatten()]))"
   ]
  },
  {
   "cell_type": "markdown",
   "metadata": {
    "id": "_E18ZEzpClNd"
   },
   "source": [
    "### Make combined model\n",
    "'model' has two forward methods. One for generating latents (for simCLR) and one for classifying labels"
   ]
  },
  {
   "cell_type": "code",
   "execution_count": 21,
   "metadata": {
    "colab": {
     "base_uri": "https://localhost:8080/"
    },
    "id": "n6Qx-1NGJNY3",
    "outputId": "f7cb3ded-3b48-439e-bf57-a526fb48bac7"
   },
   "outputs": [],
   "source": [
    "model = ModelTackOn(model_chopped, base_model_frozen, pre_head_fc_sizes=[1024, 512], post_head_fc_sizes=[64], classifier_fc_sizes=[len(np.unique(y_labeled_train))])\n",
    "# model = ModelTackOn(model_chopped.to(DEVICE), base_model_frozen, pre_head_fc_sizes=[len(np.unique(y_train))], post_head_fc_sizes=[])\n",
    "# model = ModelTackOn(model_chopped.to(DEVICE), base_model_frozen, pre_head_fc_sizes=[len(np.unique(y_train))], post_head_fc_sizes=[])\n",
    "\n",
    "# model = torch.nn.Sequential([model_chopped.to(DEVICE), torch.nn.Linear], pre_head_fc_sizes=[len(np.unique(y_train))], post_head_fc_sizes=[])\n",
    "\n",
    "\n",
    "# model = ModelTackOn(base_model_frozen, pre_head_fc_sizes=[len(np.unique(y_train))], post_head_fc_sizes=[])\n",
    "# model = ModelTackOn(base_model, pre_head_fc_sizes=[len(np.unique(y_train))], post_head_fc_sizes=[])\n",
    "model.train();"
   ]
  },
  {
   "cell_type": "code",
   "execution_count": null,
   "metadata": {
    "tags": []
   },
   "outputs": [],
   "source": []
  },
  {
   "cell_type": "code",
   "execution_count": 22,
   "metadata": {},
   "outputs": [
    {
     "name": "stdout",
     "output_type": "stream",
     "text": [
      "base_model.0.7.0.block.0.0.weight\n",
      "base_model.0.7.0.block.0.1.weight\n",
      "base_model.0.7.0.block.0.1.bias\n",
      "base_model.0.7.0.block.1.0.weight\n",
      "base_model.0.7.0.block.1.1.weight\n",
      "base_model.0.7.0.block.1.1.bias\n",
      "base_model.0.7.0.block.2.fc1.weight\n",
      "base_model.0.7.0.block.2.fc1.bias\n",
      "base_model.0.7.0.block.2.fc2.weight\n",
      "base_model.0.7.0.block.2.fc2.bias\n",
      "base_model.0.7.0.block.3.0.weight\n",
      "base_model.0.7.0.block.3.1.weight\n",
      "base_model.0.7.0.block.3.1.bias\n",
      "base_model.0.8.0.weight\n",
      "base_model.0.8.1.weight\n",
      "base_model.0.8.1.bias\n",
      "PreHead_0.weight\n",
      "PreHead_0.bias\n",
      "PreHead_1.weight\n",
      "PreHead_1.bias\n",
      "PostHead_0.weight\n",
      "PostHead_0.bias\n",
      "Classifier_0.weight\n",
      "Classifier_0.bias\n"
     ]
    }
   ],
   "source": [
    "# unfreeze particular blocks in ResNet model\n",
    "\n",
    "for name, param in list(model.named_parameters()):\n",
    "    # print(name)\n",
    "    if name[:10] == 'base_model':\n",
    "        if int(name[13]) < 7:\n",
    "            param.requires_grad = False\n",
    "        elif int(name[13]) >= 7:\n",
    "            param.requires_grad = True\n",
    "\n",
    "for name, param in list(model.named_parameters()):\n",
    "    if param.requires_grad:\n",
    "        print(name)"
   ]
  },
  {
   "cell_type": "markdown",
   "metadata": {
    "id": "T2ARByXvDB0s"
   },
   "source": [
    "## Define augmentation pipeline"
   ]
  },
  {
   "cell_type": "code",
   "execution_count": null,
   "metadata": {},
   "outputs": [],
   "source": []
  },
  {
   "cell_type": "code",
   "execution_count": 23,
   "metadata": {},
   "outputs": [
    {
     "ename": "AttributeError",
     "evalue": "module 'GCaMP_ROI_classifier.new_stuff.augmentation' has no attribute 'WarpPoints'",
     "output_type": "error",
     "traceback": [
      "\u001b[0;31m---------------------------------------------------------------------------\u001b[0m",
      "\u001b[0;31mAttributeError\u001b[0m                            Traceback (most recent call last)",
      "\u001b[0;32m<ipython-input-23-547ea8507d08>\u001b[0m in \u001b[0;36m<module>\u001b[0;34m\u001b[0m\n\u001b[1;32m      3\u001b[0m transform_warp_time = torch.nn.Sequential(  \n\u001b[1;32m      4\u001b[0m     \u001b[0maugmentation\u001b[0m\u001b[0;34m.\u001b[0m\u001b[0mScaleDynamicRange\u001b[0m\u001b[0;34m(\u001b[0m\u001b[0mscaler_bounds\u001b[0m\u001b[0;34m=\u001b[0m\u001b[0;34m(\u001b[0m\u001b[0;36m0\u001b[0m\u001b[0;34m,\u001b[0m\u001b[0;36m1\u001b[0m\u001b[0;34m)\u001b[0m\u001b[0;34m)\u001b[0m\u001b[0;34m,\u001b[0m \u001b[0;31m# just clamping, both this and clamping = normalizing (DEFAULT)\u001b[0m\u001b[0;34m\u001b[0m\u001b[0;34m\u001b[0m\u001b[0m\n\u001b[0;32m----> 5\u001b[0;31m     augmentation.WarpPoints(r=[0, 1],\n\u001b[0m\u001b[1;32m      6\u001b[0m                             \u001b[0mcx\u001b[0m\u001b[0;34m=\u001b[0m\u001b[0;34m[\u001b[0m\u001b[0;34m-\u001b[0m\u001b[0;36m0.5\u001b[0m\u001b[0;34m,\u001b[0m \u001b[0;36m0.5\u001b[0m\u001b[0;34m]\u001b[0m\u001b[0;34m,\u001b[0m\u001b[0;34m\u001b[0m\u001b[0;34m\u001b[0m\u001b[0m\n\u001b[1;32m      7\u001b[0m                             \u001b[0mcy\u001b[0m\u001b[0;34m=\u001b[0m\u001b[0;34m[\u001b[0m\u001b[0;34m-\u001b[0m\u001b[0;36m0.5\u001b[0m\u001b[0;34m,\u001b[0m \u001b[0;36m0.5\u001b[0m\u001b[0;34m]\u001b[0m\u001b[0;34m,\u001b[0m\u001b[0;34m\u001b[0m\u001b[0;34m\u001b[0m\u001b[0m\n",
      "\u001b[0;31mAttributeError\u001b[0m: module 'GCaMP_ROI_classifier.new_stuff.augmentation' has no attribute 'WarpPoints'"
     ]
    }
   ],
   "source": [
    "import torchvision.transforms    \n",
    "\n",
    "transform_warp_time = torch.nn.Sequential(  \n",
    "    augmentation.ScaleDynamicRange(scaler_bounds=(0,1)), # just clamping, both this and clamping = normalizing (DEFAULT)\n",
    "    augmentation.WarpPoints(r=[0, 1],\n",
    "                            cx=[-0.5, 0.5],\n",
    "                            cy=[-0.5, 0.5], \n",
    "                            dx=[-0.3, 0.0], \n",
    "                            dy=[-0.3, 0.0], \n",
    "                            n_warps=1,\n",
    "                            prob=1.0,\n",
    "                            img_size_in=[36, 36],\n",
    "                            img_size_out=[224, 224]),\n",
    "\n",
    "    \n",
    "    augmentation.TileChannels(dim=0, n_channels=3),\n",
    "    \n",
    ")\n",
    "scripted_transform_warp_time = torch.jit.script(transform_warp_time)\n",
    "\n",
    "\n",
    "\n",
    "transform_rsz_time = torch.nn.Sequential(  \n",
    "    augmentation.ScaleDynamicRange(scaler_bounds=(0,1)), # just clamping, both this and clamping = normalizing (DEFAULT)\n",
    "    torchvision.transforms.Resize(size=(224,224), \n",
    "                                  interpolation=torchvision.transforms.InterpolationMode.BILINEAR), # To do or not to do (DEFAULT)\n",
    "    augmentation.TileChannels(dim=0, n_channels=3),\n",
    "    \n",
    ")\n",
    "scripted_transform_rsz_time = torch.jit.script(transform_rsz_time)"
   ]
  },
  {
   "cell_type": "code",
   "execution_count": 24,
   "metadata": {},
   "outputs": [
    {
     "name": "stdout",
     "output_type": "stream",
     "text": [
      "Iteration: 0 - Time: 6.905493974685669\n",
      "Iteration: 1 - Time: 9.259545803070068\n",
      "Iteration: 2 - Time: 11.384725570678711\n",
      "Iteration: 3 - Time: 13.415865182876587\n",
      "Iteration: 4 - Time: 15.431147336959839\n",
      "Iteration: 5 - Time: 17.462890148162842\n",
      "Iteration: 6 - Time: 19.48486018180847\n",
      "Iteration: 7 - Time: 21.49862289428711\n",
      "Iteration: 8 - Time: 23.54037046432495\n",
      "Iteration: 9 - Time: 25.564541816711426\n",
      "Iteration: 10 - Time: 27.615094423294067\n",
      "Resize Time: 29.971574068069458\n"
     ]
    }
   ],
   "source": [
    "tik_resize = time.time()\n",
    "dataset_train_resize = util.dataset_simCLR(\n",
    "                                    torch.as_tensor(masks_cat, device='cpu', dtype=torch.float32), \n",
    "                                    torch.as_tensor(torch.zeros(masks_cat.shape[0]), device='cpu', dtype=torch.float32),\n",
    "                                    n_transforms=2,\n",
    "                                    class_weights=np.array([1]),\n",
    "                                    transform=scripted_transform_rsz_time,\n",
    "                                    DEVICE='cpu',\n",
    "                                    dtype_X=torch.float32,\n",
    "                                    dtype_y=torch.int64,\n",
    "                                    \n",
    "                                    temp_uncertainty=16\n",
    "                                    )\n",
    "dataloader_train_resize = torch.utils.data.DataLoader( dataset_train_resize,\n",
    "                                                batch_size=800,\n",
    "                                                shuffle=False,\n",
    "                                                drop_last=False,\n",
    "                                                pin_memory=True,\n",
    "                                                # num_workers=16,\n",
    "                                                # persistent_workers=True,\n",
    "                                                )\n",
    "\n",
    "input_resize = []\n",
    "for i_d, data in enumerate(dataloader_train_resize):\n",
    "    if i_d > 10:\n",
    "        break\n",
    "    else:\n",
    "        print('Iteration:', i_d, '- Time:', time.time()-tik_resize)\n",
    "        input_resize.append(data[0][0].detach().cpu())\n",
    "input_resize = torch.cat(input_resize, dim=0)\n",
    "\n",
    "tok_resize = time.time()\n",
    "resize_time = tok_resize - tik_resize\n",
    "print(f\"Resize Time: {resize_time}\")"
   ]
  },
  {
   "cell_type": "code",
   "execution_count": 25,
   "metadata": {},
   "outputs": [
    {
     "name": "stdout",
     "output_type": "stream",
     "text": [
      "Iteration: 0 - Time: 1.8522028923034668\n",
      "Iteration: 1 - Time: 3.5505423545837402\n",
      "Iteration: 2 - Time: 5.260674715042114\n",
      "Iteration: 3 - Time: 7.099171161651611\n",
      "Iteration: 4 - Time: 9.017981767654419\n",
      "Iteration: 5 - Time: 10.710611581802368\n",
      "Iteration: 6 - Time: 12.395957469940186\n",
      "Iteration: 7 - Time: 14.116920471191406\n",
      "Iteration: 8 - Time: 15.848289489746094\n",
      "Iteration: 9 - Time: 17.570000171661377\n",
      "Iteration: 10 - Time: 19.279175281524658\n",
      "Warp Time: 21.306347131729126\n"
     ]
    }
   ],
   "source": [
    "tik_warp = time.time()\n",
    "dataset_train_warp = util.dataset_simCLR(\n",
    "                                    torch.as_tensor(masks_cat, device='cpu', dtype=torch.float32), \n",
    "                                    torch.as_tensor(torch.zeros(masks_cat.shape[0]), device='cpu', dtype=torch.float32),\n",
    "                                    n_transforms=2,\n",
    "                                    class_weights=np.array([1]),\n",
    "                                    transform=scripted_transform_warp_time,\n",
    "                                    DEVICE='cpu',\n",
    "                                    dtype_X=torch.float32,\n",
    "                                    dtype_y=torch.int64,\n",
    "                                    \n",
    "                                    temp_uncertainty=16\n",
    "                                    )\n",
    "dataloader_train_warp = torch.utils.data.DataLoader( dataset_train_warp,\n",
    "                                                batch_size=800,\n",
    "                                                shuffle=False,\n",
    "                                                drop_last=False,\n",
    "                                                pin_memory=True,\n",
    "                                                # num_workers=16,\n",
    "                                                # persistent_workers=True,\n",
    "                                                )\n",
    "\n",
    "input_warp = []\n",
    "for i_d, data in enumerate(dataloader_train_warp):\n",
    "    if i_d > 10:\n",
    "        break\n",
    "    else:\n",
    "        print('Iteration:', i_d, '- Time:', time.time()-tik_warp)\n",
    "        input_warp.append(data[0][0].detach().cpu())\n",
    "input_warp = torch.cat(input_warp, dim=0)\n",
    "\n",
    "tok_warp = time.time()\n",
    "warp_time = tok_warp - tik_warp\n",
    "print(f\"Warp Time: {warp_time}\")"
   ]
  },
  {
   "cell_type": "code",
   "execution_count": 26,
   "metadata": {},
   "outputs": [
    {
     "data": {
      "text/plain": [
       "<Figure size 432x288 with 0 Axes>"
      ]
     },
     "metadata": {},
     "output_type": "display_data"
    },
    {
     "data": {
      "image/png": "[encoded data removed]",
      "text/plain": [
       "<Figure size 216x216 with 2 Axes>"
      ]
     },
     "metadata": {
      "needs_background": "light"
     },
     "output_type": "display_data"
    },
    {
     "data": {
      "text/plain": [
       "<Figure size 432x288 with 0 Axes>"
      ]
     },
     "metadata": {},
     "output_type": "display_data"
    },
    {
     "data": {
      "image/png": "[encoded data removed]",
      "text/plain": [
       "<Figure size 216x216 with 2 Axes>"
      ]
     },
     "metadata": {
      "needs_background": "light"
     },
     "output_type": "display_data"
    },
    {
     "data": {
      "text/plain": [
       "<Figure size 432x288 with 0 Axes>"
      ]
     },
     "metadata": {},
     "output_type": "display_data"
    },
    {
     "data": {
      "image/png": "[encoded data removed]",
      "text/plain": [
       "<Figure size 216x216 with 2 Axes>"
      ]
     },
     "metadata": {
      "needs_background": "light"
     },
     "output_type": "display_data"
    },
    {
     "data": {
      "text/plain": [
       "<Figure size 432x288 with 0 Axes>"
      ]
     },
     "metadata": {},
     "output_type": "display_data"
    },
    {
     "data": {
      "image/png": "[encoded data removed]",
      "text/plain": [
       "<Figure size 216x216 with 2 Axes>"
      ]
     },
     "metadata": {
      "needs_background": "light"
     },
     "output_type": "display_data"
    },
    {
     "data": {
      "text/plain": [
       "<Figure size 432x288 with 0 Axes>"
      ]
     },
     "metadata": {},
     "output_type": "display_data"
    },
    {
     "data": {
      "image/png": "[encoded data removed]",
      "text/plain": [
       "<Figure size 216x216 with 2 Axes>"
      ]
     },
     "metadata": {
      "needs_background": "light"
     },
     "output_type": "display_data"
    },
    {
     "data": {
      "text/plain": [
       "<Figure size 432x288 with 0 Axes>"
      ]
     },
     "metadata": {},
     "output_type": "display_data"
    },
    {
     "data": {
      "image/png": "[encoded data removed]",
      "text/plain": [
       "<Figure size 216x216 with 2 Axes>"
      ]
     },
     "metadata": {
      "needs_background": "light"
     },
     "output_type": "display_data"
    }
   ],
   "source": [
    "for eg_num in range(input_warp.shape[0]):\n",
    "    if eg_num > 5:\n",
    "        break\n",
    "    plt.figure()\n",
    "    fig, ax = plt.subplots(1,2,figsize=(3,3))\n",
    "    # ax[0].imshow(input_warp[eg_num].permute([1,2,0]))\n",
    "    # ax[1].imshow(input_resize[eg_num].permute([1,2,0]))\n",
    "    \n",
    "    ax[0].imshow(input_warp[eg_num][0])\n",
    "    ax[0].set_title('Warped Resize')\n",
    "    ax[1].imshow(input_resize[eg_num][0])\n",
    "    ax[1].set_title('Standard Resize')"
   ]
  },
  {
   "cell_type": "code",
   "execution_count": null,
   "metadata": {},
   "outputs": [],
   "source": []
  },
  {
   "cell_type": "code",
   "execution_count": null,
   "metadata": {},
   "outputs": [],
   "source": []
  },
  {
   "cell_type": "code",
   "execution_count": null,
   "metadata": {},
   "outputs": [],
   "source": []
  },
  {
   "cell_type": "code",
   "execution_count": 24,
   "metadata": {},
   "outputs": [
    {
     "ename": "AttributeError",
     "evalue": "module 'GCaMP_ROI_classifier.new_stuff.augmentation' has no attribute 'WarpPoints'",
     "output_type": "error",
     "traceback": [
      "\u001b[0;31m---------------------------------------------------------------------------\u001b[0m",
      "\u001b[0;31mAttributeError\u001b[0m                            Traceback (most recent call last)",
      "\u001b[0;32m<ipython-input-24-5a316e7522e8>\u001b[0m in \u001b[0;36m<module>\u001b[0;34m\u001b[0m\n\u001b[1;32m     22\u001b[0m \u001b[0;34m\u001b[0m\u001b[0m\n\u001b[1;32m     23\u001b[0m     \u001b[0maugmentation\u001b[0m\u001b[0;34m.\u001b[0m\u001b[0mScaleDynamicRange\u001b[0m\u001b[0;34m(\u001b[0m\u001b[0mscaler_bounds\u001b[0m\u001b[0;34m=\u001b[0m\u001b[0;34m(\u001b[0m\u001b[0;36m0\u001b[0m\u001b[0;34m,\u001b[0m\u001b[0;36m1\u001b[0m\u001b[0;34m)\u001b[0m\u001b[0;34m)\u001b[0m\u001b[0;34m,\u001b[0m\u001b[0;34m\u001b[0m\u001b[0;34m\u001b[0m\u001b[0m\n\u001b[0;32m---> 24\u001b[0;31m     augmentation.WarpPoints(r=[0, 1],\n\u001b[0m\u001b[1;32m     25\u001b[0m                             \u001b[0mcx\u001b[0m\u001b[0;34m=\u001b[0m\u001b[0;34m[\u001b[0m\u001b[0;34m-\u001b[0m\u001b[0;36m0.5\u001b[0m\u001b[0;34m,\u001b[0m \u001b[0;36m0.5\u001b[0m\u001b[0;34m]\u001b[0m\u001b[0;34m,\u001b[0m\u001b[0;34m\u001b[0m\u001b[0;34m\u001b[0m\u001b[0m\n\u001b[1;32m     26\u001b[0m                             \u001b[0mcy\u001b[0m\u001b[0;34m=\u001b[0m\u001b[0;34m[\u001b[0m\u001b[0;34m-\u001b[0m\u001b[0;36m0.5\u001b[0m\u001b[0;34m,\u001b[0m \u001b[0;36m0.5\u001b[0m\u001b[0;34m]\u001b[0m\u001b[0;34m,\u001b[0m\u001b[0;34m\u001b[0m\u001b[0;34m\u001b[0m\u001b[0m\n",
      "\u001b[0;31mAttributeError\u001b[0m: module 'GCaMP_ROI_classifier.new_stuff.augmentation' has no attribute 'WarpPoints'"
     ]
    }
   ],
   "source": [
    "\n",
    "import torchvision.transforms    \n",
    "\n",
    "transforms = torch.nn.Sequential(\n",
    "    torchvision.transforms.RandomHorizontalFlip(p=0.5),    \n",
    "    torchvision.transforms.RandomAffine(\n",
    "                                        degrees=(-180,180),\n",
    "                                        translate=(0.15, 0.15), #0, .3, .45 (DEFAULT)\n",
    "                                        scale=(0.6, 1.2), # no scale (1,1), (0.4, 1.5)\n",
    "                                        shear=(-15, 15, -15, 15),\n",
    "                                        interpolation=torchvision.transforms.InterpolationMode.BILINEAR, \n",
    "                                        fill=0, \n",
    "                                        fillcolor=None, \n",
    "                                        resample=None),\n",
    "    augmentation.AddPoissonNoise(   #scaler_bounds=(10**(4.5), 10**(6.)),\n",
    "                                    scaler_bounds=(10**(4), 10**(6)),\n",
    "                                    prob=1,\n",
    "                                    base=1000,\n",
    "                                    scaling='log'),\n",
    "    augmentation.AddGaussianNoise(  mean=0, \n",
    "                                    std=0.00015,\n",
    "                                    prob=1),\n",
    "    \n",
    "    augmentation.ScaleDynamicRange(scaler_bounds=(0,1)),\n",
    "    augmentation.WarpPoints(r=[0, 1],\n",
    "                            cx=[-0.5, 0.5], \n",
    "                            cy=[-0.5, 0.5], \n",
    "                            dx=[-0.3, 0.3], \n",
    "                            dy=[-0.3, 0.3], \n",
    "                            n_warps=2,\n",
    "                            prob=1.0,\n",
    "                            img_size_in=[36, 36],\n",
    "                            img_size_out=[224, 224]),\n",
    "\n",
    "    \n",
    "    augmentation.TileChannels(dim=0, n_channels=3),\n",
    "    \n",
    ")\n",
    "    \n",
    "\n",
    "scripted_transforms = torch.jit.script(transforms)"
   ]
  },
  {
   "cell_type": "code",
   "execution_count": null,
   "metadata": {},
   "outputs": [],
   "source": []
  },
  {
   "cell_type": "code",
   "execution_count": null,
   "metadata": {},
   "outputs": [],
   "source": []
  },
  {
   "cell_type": "code",
   "execution_count": null,
   "metadata": {},
   "outputs": [],
   "source": []
  },
  {
   "cell_type": "code",
   "execution_count": null,
   "metadata": {},
   "outputs": [],
   "source": []
  },
  {
   "cell_type": "code",
   "execution_count": null,
   "metadata": {},
   "outputs": [],
   "source": []
  },
  {
   "cell_type": "code",
   "execution_count": null,
   "metadata": {},
   "outputs": [],
   "source": []
  },
  {
   "cell_type": "code",
   "execution_count": 25,
   "metadata": {},
   "outputs": [
    {
     "ename": "NameError",
     "evalue": "name 'input_warp' is not defined",
     "output_type": "error",
     "traceback": [
      "\u001b[0;31m---------------------------------------------------------------------------\u001b[0m",
      "\u001b[0;31mNameError\u001b[0m                                 Traceback (most recent call last)",
      "\u001b[0;32m<ipython-input-25-2a88147ac21b>\u001b[0m in \u001b[0;36m<module>\u001b[0;34m\u001b[0m\n\u001b[0;32m----> 1\u001b[0;31m \u001b[0mprint\u001b[0m\u001b[0;34m(\u001b[0m\u001b[0mlen\u001b[0m\u001b[0;34m(\u001b[0m\u001b[0minput_warp\u001b[0m\u001b[0;34m)\u001b[0m\u001b[0;34m)\u001b[0m\u001b[0;34m\u001b[0m\u001b[0;34m\u001b[0m\u001b[0m\n\u001b[0m\u001b[1;32m      2\u001b[0m \u001b[0mprint\u001b[0m\u001b[0;34m(\u001b[0m\u001b[0mlen\u001b[0m\u001b[0;34m(\u001b[0m\u001b[0minput_resize\u001b[0m\u001b[0;34m)\u001b[0m\u001b[0;34m)\u001b[0m\u001b[0;34m\u001b[0m\u001b[0;34m\u001b[0m\u001b[0m\n",
      "\u001b[0;31mNameError\u001b[0m: name 'input_warp' is not defined"
     ]
    }
   ],
   "source": [
    "print(len(input_warp))\n",
    "print(len(input_resize))"
   ]
  },
  {
   "cell_type": "raw",
   "metadata": {
    "id": "tq77tWZeDB0s",
    "jupyter": {
     "source_hidden": true
    },
    "tags": []
   },
   "source": [
    "import torchvision.transforms    \n",
    "\n",
    "transforms = torch.nn.Sequential(\n",
    "    \n",
    "#     torchvision.transforms.RandomAdjustSharpness(torch.rand(1)*5, p=0.5),\n",
    "#         torchvision.transforms.RandomPerspective(distortion_scale=0.7, \n",
    "#                                              p=0.5, \n",
    "#                                              interpolation=torchvision.transforms.InterpolationMode.BILINEAR, \n",
    "#                                              fill=0),\n",
    "#     torchvision.transforms.GaussianBlur(kernel_size=5,\n",
    "#                                         sigma=(0.0001, 0.1)),\n",
    "        \n",
    "\n",
    "    torchvision.transforms.RandomHorizontalFlip(p=0.5),\n",
    "        \n",
    "    torchvision.transforms.RandomAffine(\n",
    "                                        degrees=(-180,180),\n",
    "                                        translate=(0.2, 0.2), #0.15/.15\n",
    "                                        scale=(0.4, 1.3),  #.6, 1.2\n",
    "                                        shear=(-25, 25, -25, 25), # -15/+15 across board\n",
    "                                        interpolation=torchvision.transforms.InterpolationMode.BILINEAR, \n",
    "                                        fill=0, \n",
    "                                        fillcolor=None, \n",
    "                                        resample=None),\n",
    "    augmentation.AddPoissonNoise(   scaler_bounds=(10**(4.0), 10**(6.)), # 4.5, 6\n",
    "                                    prob=1,\n",
    "                                    base=1000,\n",
    "                                    scaling='log'),\n",
    "    augmentation.AddGaussianNoise(  mean=0, \n",
    "                                    std=0.0002, # 0.00015\n",
    "                                    prob=1),\n",
    "    \n",
    "    augmentation.ScaleDynamicRange(scaler_bounds=(0,1)), # Do vs. don't do -- bounds between 0/1. Either do this OR do this followed by torchvision.transforms.Normalize\n",
    "    \n",
    "    torchvision.transforms.Resize(size=(224,224),\n",
    "                                  interpolation=torchvision.transforms.InterpolationMode.BILINEAR), # Do vs. don't do\n",
    "    \n",
    "    # augmentation.AddPoissonNoise(   scaler_bounds=(10**(1.5), 10**(4.0)),\n",
    "    #                                 prob=1,\n",
    "    #                                 base=1000,\n",
    "    #                                 scaling='log'),\n",
    "    # augmentation.AddGaussianNoise(  mean=0, \n",
    "    #                                 std=0.1,\n",
    "    #                                 prob=1),\n",
    "    \n",
    "    augmentation.TileChannels(dim=0, n_channels=3),\n",
    "    \n",
    "#     augmentation.Normalize(  means=[0.485, 0.456, 0.406],\n",
    "#                              stds=[0.229, 0.224, 0.225]),\n",
    "#     torchvision.transforms.Normalize(mean=[0.485, 0.456, 0.406],\n",
    "#                                      std=[0.229, 0.224, 0.225],\n",
    "#                                      inplace=False),\n",
    "#     torchvision.transforms.RandomHorizontalFlip(p=0.5),\n",
    "\n",
    "#     torchvision.transforms.RandomAffine(\n",
    "#                                         degrees=(-180,180),\n",
    "#                                         translate=(0.0, 0.0),\n",
    "#                                         interpolation=torchvision.transforms.InterpolationMode.BILINEAR, \n",
    "#                                         fill=0, \n",
    "#                                         # fillcolor=None, \n",
    "#                                         resample=None),\n",
    ")\n",
    "scripted_transforms = torch.jit.script(transforms)\n",
    "# scripted_transforms = transforms"
   ]
  },
  {
   "cell_type": "code",
   "execution_count": 26,
   "metadata": {
    "id": "PmM4nnV1nCVd"
   },
   "outputs": [
    {
     "ename": "NameError",
     "evalue": "name 'scripted_transforms' is not defined",
     "output_type": "error",
     "traceback": [
      "\u001b[0;31m---------------------------------------------------------------------------\u001b[0m",
      "\u001b[0;31mNameError\u001b[0m                                 Traceback (most recent call last)",
      "\u001b[0;32m<ipython-input-26-e770dce237b6>\u001b[0m in \u001b[0;36m<module>\u001b[0;34m\u001b[0m\n\u001b[1;32m      6\u001b[0m                                     \u001b[0mclass_weights\u001b[0m\u001b[0;34m=\u001b[0m\u001b[0mnp\u001b[0m\u001b[0;34m.\u001b[0m\u001b[0marray\u001b[0m\u001b[0;34m(\u001b[0m\u001b[0;34m[\u001b[0m\u001b[0;36m1\u001b[0m\u001b[0;34m]\u001b[0m\u001b[0;34m)\u001b[0m\u001b[0;34m,\u001b[0m\u001b[0;34m\u001b[0m\u001b[0;34m\u001b[0m\u001b[0m\n\u001b[1;32m      7\u001b[0m                                     \u001b[0;31m# class_weights=np.array([1]*4)[np.random.randint(0,4, X_train.shape[0])],\u001b[0m\u001b[0;34m\u001b[0m\u001b[0;34m\u001b[0m\u001b[0;34m\u001b[0m\u001b[0m\n\u001b[0;32m----> 8\u001b[0;31m                                     \u001b[0mtransform\u001b[0m\u001b[0;34m=\u001b[0m\u001b[0mscripted_transforms\u001b[0m\u001b[0;34m,\u001b[0m\u001b[0;34m\u001b[0m\u001b[0;34m\u001b[0m\u001b[0m\n\u001b[0m\u001b[1;32m      9\u001b[0m                                     \u001b[0;31m# DEVICE='cpu',\u001b[0m\u001b[0;34m\u001b[0m\u001b[0;34m\u001b[0m\u001b[0;34m\u001b[0m\u001b[0m\n\u001b[1;32m     10\u001b[0m                                     \u001b[0mDEVICE\u001b[0m\u001b[0;34m=\u001b[0m\u001b[0;34m'cpu'\u001b[0m\u001b[0;34m,\u001b[0m\u001b[0;34m\u001b[0m\u001b[0;34m\u001b[0m\u001b[0m\n",
      "\u001b[0;31mNameError\u001b[0m: name 'scripted_transforms' is not defined"
     ]
    }
   ],
   "source": [
    "dataset_train = util.dataset_simCLR(\n",
    "                                    torch.as_tensor(masks_cat, device='cpu', dtype=torch.float32), \n",
    "                                    torch.as_tensor(torch.zeros(masks_cat.shape[0]), device='cpu', dtype=torch.float32),\n",
    "\n",
    "                                    n_transforms=2,\n",
    "                                    class_weights=np.array([1]),\n",
    "                                    # class_weights=np.array([1]*4)[np.random.randint(0,4, X_train.shape[0])],\n",
    "                                    transform=scripted_transforms,\n",
    "                                    # DEVICE='cpu',\n",
    "                                    DEVICE='cpu',\n",
    "                                    dtype_X=torch.float32,\n",
    "                                    dtype_y=torch.int64,\n",
    "                                    \n",
    "                                    temp_uncertainty=16\n",
    "                                    )\n",
    "dataloader_train = torch.utils.data.DataLoader( dataset_train,\n",
    "#                                                 batch_size=int(pct_batch_size*X_train.shape[0]),\n",
    "                                                batch_size=800,\n",
    "                                                # shuffle=True,\n",
    "                                                shuffle=True,\n",
    "                                                drop_last=True,\n",
    "                                                pin_memory=True,\n",
    "                                                num_workers=16,\n",
    "                                                persistent_workers=True,\n",
    "                                                # prefetch_factor=0\n",
    "                                                )"
   ]
  },
  {
   "cell_type": "code",
   "execution_count": 27,
   "metadata": {},
   "outputs": [
    {
     "ename": "NameError",
     "evalue": "name 'dataset_train' is not defined",
     "output_type": "error",
     "traceback": [
      "\u001b[0;31m---------------------------------------------------------------------------\u001b[0m",
      "\u001b[0;31mNameError\u001b[0m                                 Traceback (most recent call last)",
      "\u001b[0;32m<ipython-input-27-e4448daa3d42>\u001b[0m in \u001b[0;36m<module>\u001b[0;34m\u001b[0m\n\u001b[1;32m      3\u001b[0m     \u001b[0mfig\u001b[0m\u001b[0;34m,\u001b[0m \u001b[0maxs\u001b[0m \u001b[0;34m=\u001b[0m \u001b[0mplt\u001b[0m\u001b[0;34m.\u001b[0m\u001b[0msubplots\u001b[0m\u001b[0;34m(\u001b[0m\u001b[0;36m1\u001b[0m\u001b[0;34m,\u001b[0m\u001b[0;36m2\u001b[0m\u001b[0;34m)\u001b[0m\u001b[0;34m\u001b[0m\u001b[0;34m\u001b[0m\u001b[0m\n\u001b[1;32m      4\u001b[0m     \u001b[0;31m# print(dataset_train[ii][0][0][0].shape)\u001b[0m\u001b[0;34m\u001b[0m\u001b[0;34m\u001b[0m\u001b[0;34m\u001b[0m\u001b[0m\n\u001b[0;32m----> 5\u001b[0;31m     \u001b[0maxs\u001b[0m\u001b[0;34m[\u001b[0m\u001b[0;36m0\u001b[0m\u001b[0;34m]\u001b[0m\u001b[0;34m.\u001b[0m\u001b[0mimshow\u001b[0m\u001b[0;34m(\u001b[0m\u001b[0mdataset_train\u001b[0m\u001b[0;34m[\u001b[0m\u001b[0mii\u001b[0m\u001b[0;34m]\u001b[0m\u001b[0;34m[\u001b[0m\u001b[0;36m0\u001b[0m\u001b[0;34m]\u001b[0m\u001b[0;34m[\u001b[0m\u001b[0;36m0\u001b[0m\u001b[0;34m]\u001b[0m\u001b[0;34m[\u001b[0m\u001b[0;36m0\u001b[0m\u001b[0;34m]\u001b[0m\u001b[0;34m)\u001b[0m\u001b[0;34m\u001b[0m\u001b[0;34m\u001b[0m\u001b[0m\n\u001b[0m\u001b[1;32m      6\u001b[0m     \u001b[0maxs\u001b[0m\u001b[0;34m[\u001b[0m\u001b[0;36m1\u001b[0m\u001b[0;34m]\u001b[0m\u001b[0;34m.\u001b[0m\u001b[0mimshow\u001b[0m\u001b[0;34m(\u001b[0m\u001b[0mdataset_train\u001b[0m\u001b[0;34m[\u001b[0m\u001b[0mii\u001b[0m\u001b[0;34m]\u001b[0m\u001b[0;34m[\u001b[0m\u001b[0;36m0\u001b[0m\u001b[0;34m]\u001b[0m\u001b[0;34m[\u001b[0m\u001b[0;36m1\u001b[0m\u001b[0;34m]\u001b[0m\u001b[0;34m[\u001b[0m\u001b[0;36m0\u001b[0m\u001b[0;34m]\u001b[0m\u001b[0;34m)\u001b[0m\u001b[0;34m\u001b[0m\u001b[0;34m\u001b[0m\u001b[0m\n",
      "\u001b[0;31mNameError\u001b[0m: name 'dataset_train' is not defined"
     ]
    },
    {
     "data": {
      "image/png": "[encoded data removed]",
      "text/plain": [
       "<Figure size 432x288 with 2 Axes>"
      ]
     },
     "metadata": {
      "needs_background": "light"
     },
     "output_type": "display_data"
    }
   ],
   "source": [
    "idx_rand = np.random.randint(0,masks_cat.shape[0], 10)\n",
    "for ii in idx_rand:\n",
    "    fig, axs = plt.subplots(1,2)\n",
    "    # print(dataset_train[ii][0][0][0].shape)\n",
    "    axs[0].imshow(dataset_train[ii][0][0][0])\n",
    "    axs[1].imshow(dataset_train[ii][0][1][0])"
   ]
  },
  {
   "cell_type": "code",
   "execution_count": 28,
   "metadata": {
    "colab": {
     "base_uri": "https://localhost:8080/"
    },
    "id": "nstWf2PhVwfV",
    "outputId": "968f73ab-75d7-4735-ea1e-49e7fb3821cc"
   },
   "outputs": [
    {
     "data": {
      "text/plain": [
       "0"
      ]
     },
     "execution_count": 28,
     "metadata": {},
     "output_type": "execute_result"
    }
   ],
   "source": [
    "# torch_helpers.delete_all_cuda_tensors(globals())\n",
    "\n",
    "import gc\n",
    "\n",
    "torch.cuda.empty_cache()\n",
    "gc.collect()\n",
    "torch.cuda.empty_cache()\n",
    "gc.collect()\n",
    "torch.cuda.empty_cache()\n",
    "gc.collect()\n",
    "torch.cuda.empty_cache()\n",
    "gc.collect()"
   ]
  },
  {
   "cell_type": "markdown",
   "metadata": {
    "id": "OQ27o1ny9Xfi"
   },
   "source": [
    "## Training"
   ]
  },
  {
   "cell_type": "code",
   "execution_count": 29,
   "metadata": {},
   "outputs": [],
   "source": [
    "model.to(DEVICE)\n",
    "model.prep_contrast()"
   ]
  },
  {
   "cell_type": "code",
   "execution_count": 30,
   "metadata": {
    "id": "yDqu-bi8mnJB"
   },
   "outputs": [],
   "source": [
    "from torch.nn import CrossEntropyLoss\n",
    "from torch.optim import Adam\n",
    "\n",
    "import numpy as np\n",
    "\n",
    "from sklearn.linear_model import LogisticRegression\n",
    "from sklearn.tree import DecisionTreeClassifier\n",
    "from sklearn.ensemble import RandomForestClassifier\n",
    "from sklearn.svm import SVC\n",
    "\n",
    "\n",
    "# model = models.LeNet1(dropout_prob=0.3, momentum_val=0, n_output_features=64)\n",
    "\n",
    "\n",
    "criterion = [CrossEntropyLoss()]\n",
    "# criterion = CrossEntropyLoss(reduction='none')\n",
    "\n",
    "# optimizer = Adam(model.parameters(), lr=1e-2, weight_decay=0.0)\n",
    "# optimizer = Adam(model.parameters(), lr=2e-2)\n",
    "optimizer = Adam(model.parameters(), lr=10**(-3.5))\n",
    "scheduler = torch.optim.lr_scheduler.ExponentialLR(optimizer,\n",
    "                                                   gamma=1-0.0000,\n",
    "#                                                    gamma=1,\n",
    "                                                  )\n",
    "\n",
    "criterion = [_.to(DEVICE) for _ in criterion]\n",
    "losses_train, losses_val, val_accs, acc = [], [np.nan], [], []"
   ]
  },
  {
   "cell_type": "code",
   "execution_count": null,
   "metadata": {},
   "outputs": [],
   "source": []
  },
  {
   "cell_type": "markdown",
   "metadata": {},
   "source": []
  },
  {
   "cell_type": "code",
   "execution_count": 31,
   "metadata": {},
   "outputs": [],
   "source": [
    "def get_ds_dl(data, transforms, expand_dim=False):\n",
    "    setup_ds = util.dataset_simCLR(\n",
    "                                    torch.as_tensor(data, device='cpu', dtype=torch.float32), \n",
    "                                    torch.as_tensor(torch.zeros(data.shape[0]), device='cpu', dtype=torch.float32),\n",
    "\n",
    "\n",
    "                                    n_transforms=1,\n",
    "                                    transform=transforms,\n",
    "                                    class_weights=np.array([1]),\n",
    "                                    DEVICE='cpu',\n",
    "                                    dtype_X=torch.float32,\n",
    "                                    dtype_y=torch.int64,\n",
    "\n",
    "                                    temp_uncertainty=16,\n",
    "                                    expand_dim=expand_dim\n",
    "                                    )\n",
    "    setup_dl = torch.utils.data.DataLoader( setup_ds,\n",
    "                                            batch_size=1024,\n",
    "                                            shuffle=False,\n",
    "                                            drop_last=False,\n",
    "                                            # pin_memory=True,\n",
    "                                            # num_workers=16,\n",
    "                                            # persistent_workers=True,\n",
    "                                            )\n",
    "\n",
    "    return setup_ds, setup_dl"
   ]
  },
  {
   "cell_type": "code",
   "execution_count": 32,
   "metadata": {},
   "outputs": [
    {
     "data": {
      "text/plain": [
       "(1702, 32, 32)"
      ]
     },
     "execution_count": 32,
     "metadata": {},
     "output_type": "execute_result"
    }
   ],
   "source": [
    "X_labeled_train.shape"
   ]
  },
  {
   "cell_type": "code",
   "execution_count": 36,
   "metadata": {},
   "outputs": [],
   "source": [
    "all_transforms = torch.nn.Sequential(\n",
    "    augmentation.ScaleDynamicRange(scaler_bounds=(0,1)),\n",
    "    torchvision.transforms.Resize(size=(224,224),\n",
    "                                  interpolation=torchvision.transforms.InterpolationMode.BILINEAR), \n",
    "    augmentation.TileChannels(dim=0, n_channels=3),\n",
    ")\n",
    "no_transforms = torch.nn.Sequential(\n",
    ")\n",
    "scale_rsz_transforms = torch.nn.Sequential(\n",
    "    augmentation.ScaleDynamicRange(scaler_bounds=(0,1)),\n",
    "    torchvision.transforms.Resize(size=(224,224),\n",
    "                                  interpolation=torchvision.transforms.InterpolationMode.BILINEAR)\n",
    ")\n",
    "tile_transforms = torch.nn.Sequential(\n",
    "    augmentation.TileChannels(dim=0, n_channels=3),\n",
    ")\n",
    "\n",
    "\n",
    "scripted_all_transforms = torch.jit.script(all_transforms)\n",
    "scripted_no_transforms = torch.jit.script(no_transforms)\n",
    "scripted_scale_rsz_transform = torch.jit.script(scale_rsz_transforms)\n",
    "scripted_tile_transform = torch.jit.script(tile_transforms)"
   ]
  },
  {
   "cell_type": "code",
   "execution_count": 37,
   "metadata": {},
   "outputs": [],
   "source": [
    "setup_transform = scripted_scale_rsz_transform\n",
    "run_transform = scripted_tile_transform\n",
    "\n",
    "setup_ds, setup_dl = get_ds_dl(X_labeled_train, setup_transform, expand_dim=True)\n",
    "input_xtr = torch.cat([data[0][0].detach().cpu() for data in setup_dl], dim=0)\n",
    "setup_ds, setup_dl = get_ds_dl(X_labeled_train_SYT, setup_transform, expand_dim=True)\n",
    "input_xtr_SYT = torch.cat([data[0][0].detach().cpu() for data in setup_dl], dim=0)\n",
    "\n",
    "setup_ds, setup_dl = get_ds_dl(X_labeled_val, setup_transform, expand_dim=True)\n",
    "input_xval = torch.cat([data[0][0].detach().cpu() for data in setup_dl], dim=0)\n",
    "setup_ds, setup_dl = get_ds_dl(X_labeled_val_SYT, setup_transform, expand_dim=True)\n",
    "input_xval_SYT = torch.cat([data[0][0].detach().cpu() for data in setup_dl], dim=0)\n",
    "\n",
    "# print(\"Starting!\")\n",
    "# tik = time.time()\n",
    "# ds_run = util.dataset_simCLR(\n",
    "#                             torch.as_tensor(input_x, device='cpu', dtype=torch.float32), \n",
    "#                             torch.as_tensor(torch.zeros(input_x.shape[0]), device='cpu', dtype=torch.float32),\n",
    "\n",
    "#                             n_transforms=1,\n",
    "#                             class_weights=np.array([1]),\n",
    "#                             transform=run_transform,\n",
    "#                             DEVICE='cpu',\n",
    "#                             dtype_X=torch.float32,\n",
    "#                             dtype_y=torch.int64,\n",
    "\n",
    "#                             temp_uncertainty=16,\n",
    "#                             expand_dim=False\n",
    "#                             )\n",
    "# dl_run = torch.utils.data.DataLoader( ds_run,\n",
    "#                                         batch_size=1024,\n",
    "#                                         shuffle=False,\n",
    "#                                         drop_last=False,\n",
    "#                                         # pin_memory=True,\n",
    "#                                         # num_workers=16,\n",
    "#                                         # persistent_workers=True,\n",
    "#                                         )\n",
    "# features_train = torch.cat([model.get_head(model.base_model(data[0][0].to(DEVICE))).detach().cpu() for data in dl_run], dim=0)\n",
    "# tok = time.time()\n",
    "\n",
    "# print(f'Tile Transformation Alone Took: {tok-tik} s to run')"
   ]
  },
  {
   "cell_type": "code",
   "execution_count": 38,
   "metadata": {},
   "outputs": [
    {
     "data": {
      "text/plain": [
       "(torch.Size([1702, 1, 224, 224]),\n",
       " torch.Size([54704, 1, 224, 224]),\n",
       " torch.Size([426, 1, 224, 224]),\n",
       " torch.Size([13677, 1, 224, 224]))"
      ]
     },
     "execution_count": 38,
     "metadata": {},
     "output_type": "execute_result"
    }
   ],
   "source": [
    "input_xtr.shape, input_xtr_SYT.shape, input_xval.shape, input_xval_SYT.shape"
   ]
  },
  {
   "cell_type": "code",
   "execution_count": 39,
   "metadata": {},
   "outputs": [],
   "source": [
    "# scale_rsz_transforms = torch.nn.Sequential(\n",
    "#     augmentation.ScaleDynamicRange(scaler_bounds=(0,1)),\n",
    "#     torchvision.transforms.Resize(size=(224,224),\n",
    "#                                   interpolation=torchvision.transforms.InterpolationMode.BILINEAR))\n",
    "# tile_transforms = torch.nn.Sequential(augmentation.TileChannels(dim=0, n_channels=3),)\n",
    "\n",
    "\n",
    "# scripted_scale_rsz_transform = torch.jit.script(scale_rsz_transforms)\n",
    "# scripted_tile_transform = torch.jit.script(tile_transforms)\n",
    "\n",
    "\n",
    "# setup_transform = scripted_scale_rsz_transform\n",
    "# run_transform = scripted_tile_transform\n",
    "\n",
    "\n",
    "\n",
    "# # setup_ds, setup_dl = get_ds_dl(X_labeled_train_SYT, setup_transform, expand_dim=False)\n",
    "\n",
    "# setup_ds = util.dataset_simCLR(\n",
    "#                                 torch.as_tensor(X_labeled_train_SYT, device='cpu', dtype=torch.float32), \n",
    "#                                 torch.as_tensor(torch.zeros(X_labeled_train_SYT.shape[0]), device='cpu', dtype=torch.float32),\n",
    "#                                 n_transforms=1,\n",
    "#                                 transform=setup_transform,\n",
    "#                                 class_weights=np.array([1]),\n",
    "#                                 DEVICE='cpu',\n",
    "#                                 dtype_X=torch.float32,\n",
    "#                                 dtype_y=torch.int64,\n",
    "\n",
    "#                                 temp_uncertainty=16,\n",
    "#                                 expand_dim=False\n",
    "#                                 )\n",
    "# setup_dl = torch.utils.data.DataLoader( setup_ds,\n",
    "#                                         batch_size=1024,\n",
    "#                                         shuffle=False,\n",
    "#                                         drop_last=False,\n",
    "#                                         # pin_memory=True,\n",
    "#                                         # num_workers=16,\n",
    "#                                         # persistent_workers=True,\n",
    "#                                         )\n",
    "\n",
    "\n",
    "# input_x = torch.cat([data[0][0].detach().cpu() for data in setup_dl], dim=0)\n",
    "# # setup_ds, setup_dl = get_ds_dl(X_labeled_train_SYT, setup_transform, expand_dim=False)\n",
    "# # input_x_SYT = torch.cat([data[0][0].detach().cpu() for data in setup_dl], dim=0)\n",
    "\n"
   ]
  },
  {
   "cell_type": "code",
   "execution_count": null,
   "metadata": {},
   "outputs": [],
   "source": []
  },
  {
   "cell_type": "code",
   "execution_count": null,
   "metadata": {},
   "outputs": [],
   "source": []
  },
  {
   "cell_type": "code",
   "execution_count": null,
   "metadata": {},
   "outputs": [],
   "source": []
  },
  {
   "cell_type": "code",
   "execution_count": 40,
   "metadata": {},
   "outputs": [],
   "source": [
    "# acc_train_lst, acc_val_lst = [], []\n",
    "# acc_train_SYT_lst, acc_val_SYT_lst = [], []\n",
    "\n",
    "# print('A')\n",
    "# ds_run, dl_run = get_ds_dl(input_xtr, run_transform, expand_dim=False)\n",
    "# features_train = torch.cat([model.get_head(model.base_model(data[0][0].to(DEVICE))).detach().cpu() for data in dl_run], dim=0)\n",
    "# ds_run, dl_run = get_ds_dl(input_xval, run_transform, expand_dim=False)\n",
    "# features_val = torch.cat([model.get_head(model.base_model(data[0][0].to(DEVICE))).detach().cpu() for data in dl_run], dim=0)\n",
    "\n",
    "# print('B')\n",
    "# ds_run, dl_run = get_ds_dl(input_xtr_SYT, run_transform, expand_dim=False)\n",
    "# features_train_SYT = torch.cat([model.get_head(model.base_model(data[0][0].to(DEVICE))).detach().cpu() for data in dl_run], dim=0)\n",
    "# ds_run, dl_run = get_ds_dl(input_xval_SYT, run_transform, expand_dim=False)\n",
    "# features_val_SYT = torch.cat([model.get_head(model.base_model(data[0][0].to(DEVICE))).detach().cpu() for data in dl_run], dim=0)\n",
    "\n",
    "\n",
    "# acc_train, acc_val = {}, {}\n",
    "# acc_train_SYT, acc_val_SYT = {}, {}\n",
    "# C_toUse = np.array([1e1,1e0,1e-1,1e-2])\n",
    "# for C in C_toUse:\n",
    "#     print('C1')\n",
    "#     logreg = sklearn.linear_model.LogisticRegression(solver='liblinear', max_iter=800, C=C)\n",
    "#     logreg.fit(features_train, y_labeled_train)\n",
    "#     acc_train_tmp = logreg.score(features_train, y_labeled_train)\n",
    "#     acc_train[C] = acc_train_tmp\n",
    "#     acc_val_tmp = logreg.score(features_val, y_labeled_val)\n",
    "#     acc_val[C] = acc_val_tmp\n",
    "    \n",
    "#     print('C2')\n",
    "#     logreg_SYT = sklearn.linear_model.LogisticRegression(solver='liblinear', max_iter=800, C=C)\n",
    "#     logreg_SYT.fit(features_train_SYT, y_labeled_train_SYT)\n",
    "#     acc_train_tmp = logreg_SYT.score(features_train_SYT, y_labeled_train_SYT)\n",
    "#     acc_train_SYT[C] = acc_train_tmp\n",
    "#     acc_val_tmp = logreg_SYT.score(features_val_SYT, y_labeled_val_SYT)\n",
    "#     acc_val_SYT[C] = acc_val_tmp\n",
    "\n",
    "# acc_train_lst.append(acc_train)\n",
    "# acc_val_lst.append(acc_val)\n",
    "# acc_train_SYT_lst.append(acc_train_SYT)\n",
    "# acc_val_SYT_lst.append(acc_val_SYT)\n",
    "\n",
    "\n",
    "# losses_train_npy = np.array(losses_train)\n",
    "# losses_val_npy = np.array(losses_val)\n",
    "# val_accs_npy = np.array(val_accs)\n",
    "# acc_npy = np.array(acc)"
   ]
  },
  {
   "cell_type": "code",
   "execution_count": 41,
   "metadata": {},
   "outputs": [],
   "source": [
    "# acc_train_df, acc_val_df, acc_train_SYT_df, acc_val_SYT_df = pd.DataFrame(acc_train_lst), pd.DataFrame(acc_val_lst), pd.DataFrame(acc_train_SYT_lst), pd.DataFrame(acc_val_SYT_lst)\n",
    "# display(acc_train_df)\n",
    "# display(acc_val_df)\n",
    "# display(acc_train_SYT_df)\n",
    "# display(acc_val_SYT_df)\n",
    "\n",
    "# acc_train_df.to_csv(f'{base_dir}/github_repos/GCaMP_ROI_classifier/new_stuff/accuracies/{model_file_name}_train.csv')\n",
    "# acc_val_df.to_csv(f'{base_dir}/github_repos/GCaMP_ROI_classifier/new_stuff/accuracies/{model_file_name}_val.csv')\n",
    "# acc_train_SYT_df.to_csv(f'{base_dir}/github_repos/GCaMP_ROI_classifier/new_stuff/accuracies/{model_file_name}_train_SYT.csv')\n",
    "# acc_val_SYT_df.to_csv(f'{base_dir}/github_repos/GCaMP_ROI_classifier/new_stuff/accuracies/{model_file_name}_val_SYT.csv')"
   ]
  },
  {
   "cell_type": "code",
   "execution_count": null,
   "metadata": {},
   "outputs": [],
   "source": []
  },
  {
   "cell_type": "code",
   "execution_count": null,
   "metadata": {},
   "outputs": [],
   "source": []
  },
  {
   "cell_type": "code",
   "execution_count": null,
   "metadata": {},
   "outputs": [],
   "source": []
  },
  {
   "cell_type": "code",
   "execution_count": 33,
   "metadata": {
    "colab": {
     "base_uri": "https://localhost:8080/"
    },
    "id": "rvDiVxDICXEn",
    "outputId": "2c29e3cf-4515-4aae-f0b1-22e30d51fa5f"
   },
   "outputs": [],
   "source": [
    "model_file_name = 'ResNet18_simCLR_model_202112078_EOD_transfmod=efficient-only7unfrozen-warp3'\n",
    "model.forward = model.forward_latent"
   ]
  },
  {
   "cell_type": "code",
   "execution_count": null,
   "metadata": {
    "colab": {
     "base_uri": "https://localhost:8080/"
    },
    "id": "rvDiVxDICXEn",
    "outputId": "2c29e3cf-4515-4aae-f0b1-22e30d51fa5f"
   },
   "outputs": [
    {
     "name": "stderr",
     "output_type": "stream",
     "text": [
      "  0%|          | 0/300000 [00:00<?, ?it/s]"
     ]
    },
    {
     "name": "stdout",
     "output_type": "stream",
     "text": [
      "epoch: 0\n",
      "Iter: 0/889, loss_train: 7.3516, loss_val: nan, pos_over_neg: 1.0234367847442627 lr: 0.00031623\n",
      "Iter: 1/889, loss_train: 7.2162, loss_val: nan, pos_over_neg: 1.1987066268920898 lr: 0.00031623\n",
      "Iter: 2/889, loss_train: 7.0784, loss_val: nan, pos_over_neg: 2.1190736293792725 lr: 0.00031623\n",
      "Iter: 3/889, loss_train: 7.0253, loss_val: nan, pos_over_neg: 2.6957058906555176 lr: 0.00031623\n",
      "Iter: 4/889, loss_train: 7.0197, loss_val: nan, pos_over_neg: 2.2654805183410645 lr: 0.00031623\n",
      "Iter: 5/889, loss_train: 6.9767, loss_val: nan, pos_over_neg: 2.2194454669952393 lr: 0.00031623\n",
      "Iter: 6/889, loss_train: 6.9214, loss_val: nan, pos_over_neg: 2.549159526824951 lr: 0.00031623\n",
      "Iter: 7/889, loss_train: 6.8562, loss_val: nan, pos_over_neg: 3.3504128456115723 lr: 0.00031623\n",
      "Iter: 8/889, loss_train: 6.8408, loss_val: nan, pos_over_neg: 4.5015387535095215 lr: 0.00031623\n",
      "Iter: 9/889, loss_train: 6.7885, loss_val: nan, pos_over_neg: 5.737076282501221 lr: 0.00031623\n",
      "Iter: 10/889, loss_train: 6.7653, loss_val: nan, pos_over_neg: 6.426418781280518 lr: 0.00031623\n",
      "Iter: 11/889, loss_train: 6.7716, loss_val: nan, pos_over_neg: 6.307604789733887 lr: 0.00031623\n",
      "Iter: 12/889, loss_train: 6.735, loss_val: nan, pos_over_neg: 6.470251560211182 lr: 0.00031623\n",
      "Iter: 13/889, loss_train: 6.7639, loss_val: nan, pos_over_neg: 6.629746913909912 lr: 0.00031623\n",
      "Iter: 14/889, loss_train: 6.6833, loss_val: nan, pos_over_neg: 9.325078010559082 lr: 0.00031623\n",
      "Iter: 15/889, loss_train: 6.7076, loss_val: nan, pos_over_neg: 8.441390991210938 lr: 0.00031623\n",
      "Iter: 16/889, loss_train: 6.6819, loss_val: nan, pos_over_neg: 8.88038444519043 lr: 0.00031623\n",
      "Iter: 17/889, loss_train: 6.6325, loss_val: nan, pos_over_neg: 9.883099555969238 lr: 0.00031623\n",
      "Iter: 18/889, loss_train: 6.6466, loss_val: nan, pos_over_neg: 14.458657264709473 lr: 0.00031623\n",
      "Iter: 19/889, loss_train: 6.6612, loss_val: nan, pos_over_neg: 14.115239143371582 lr: 0.00031623\n",
      "Iter: 20/889, loss_train: 6.6573, loss_val: nan, pos_over_neg: 15.10296630859375 lr: 0.00031623\n",
      "Iter: 21/889, loss_train: 6.6348, loss_val: nan, pos_over_neg: 17.476116180419922 lr: 0.00031623\n",
      "Iter: 22/889, loss_train: 6.6208, loss_val: nan, pos_over_neg: 15.89356517791748 lr: 0.00031623\n",
      "Iter: 23/889, loss_train: 6.6244, loss_val: nan, pos_over_neg: 14.297601699829102 lr: 0.00031623\n",
      "Iter: 24/889, loss_train: 6.6293, loss_val: nan, pos_over_neg: 12.365653038024902 lr: 0.00031623\n",
      "Iter: 25/889, loss_train: 6.6041, loss_val: nan, pos_over_neg: 12.68591594696045 lr: 0.00031623\n",
      "Iter: 26/889, loss_train: 6.5838, loss_val: nan, pos_over_neg: 13.65808391571045 lr: 0.00031623\n",
      "Iter: 27/889, loss_train: 6.5768, loss_val: nan, pos_over_neg: 16.342235565185547 lr: 0.00031623\n",
      "Iter: 28/889, loss_train: 6.5942, loss_val: nan, pos_over_neg: 18.814172744750977 lr: 0.00031623\n",
      "Iter: 29/889, loss_train: 6.5946, loss_val: nan, pos_over_neg: 21.45094871520996 lr: 0.00031623\n",
      "Iter: 30/889, loss_train: 6.5614, loss_val: nan, pos_over_neg: 27.857450485229492 lr: 0.00031623\n",
      "Iter: 31/889, loss_train: 6.5763, loss_val: nan, pos_over_neg: 22.01119613647461 lr: 0.00031623\n",
      "Iter: 32/889, loss_train: 6.5579, loss_val: nan, pos_over_neg: 24.433635711669922 lr: 0.00031623\n",
      "Iter: 33/889, loss_train: 6.5095, loss_val: nan, pos_over_neg: 30.5595760345459 lr: 0.00031623\n",
      "Iter: 34/889, loss_train: 6.5598, loss_val: nan, pos_over_neg: 26.5938663482666 lr: 0.00031623\n",
      "Iter: 35/889, loss_train: 6.555, loss_val: nan, pos_over_neg: 23.314266204833984 lr: 0.00031623\n",
      "Iter: 36/889, loss_train: 6.5036, loss_val: nan, pos_over_neg: 19.759504318237305 lr: 0.00031623\n",
      "Iter: 37/889, loss_train: 6.535, loss_val: nan, pos_over_neg: 20.257339477539062 lr: 0.00031623\n",
      "Iter: 38/889, loss_train: 6.5144, loss_val: nan, pos_over_neg: 28.819766998291016 lr: 0.00031623\n",
      "Iter: 39/889, loss_train: 6.5143, loss_val: nan, pos_over_neg: 29.656818389892578 lr: 0.00031623\n",
      "Iter: 40/889, loss_train: 6.504, loss_val: nan, pos_over_neg: 35.39055252075195 lr: 0.00031623\n",
      "Iter: 41/889, loss_train: 6.5223, loss_val: nan, pos_over_neg: 39.877586364746094 lr: 0.00031623\n",
      "Iter: 42/889, loss_train: 6.5057, loss_val: nan, pos_over_neg: 39.74205780029297 lr: 0.00031623\n",
      "Iter: 43/889, loss_train: 6.5137, loss_val: nan, pos_over_neg: 26.724145889282227 lr: 0.00031623\n",
      "Iter: 44/889, loss_train: 6.4916, loss_val: nan, pos_over_neg: 31.470746994018555 lr: 0.00031623\n",
      "Iter: 45/889, loss_train: 6.5104, loss_val: nan, pos_over_neg: 31.865705490112305 lr: 0.00031623\n",
      "Iter: 46/889, loss_train: 6.4736, loss_val: nan, pos_over_neg: 33.55966567993164 lr: 0.00031623\n",
      "Iter: 47/889, loss_train: 6.4969, loss_val: nan, pos_over_neg: 32.854923248291016 lr: 0.00031623\n",
      "Iter: 48/889, loss_train: 6.524, loss_val: nan, pos_over_neg: 31.023141860961914 lr: 0.00031623\n",
      "Iter: 49/889, loss_train: 6.492, loss_val: nan, pos_over_neg: 33.40779495239258 lr: 0.00031623\n",
      "Iter: 50/889, loss_train: 6.4904, loss_val: nan, pos_over_neg: 32.40580368041992 lr: 0.00031623\n",
      "Iter: 51/889, loss_train: 6.4907, loss_val: nan, pos_over_neg: 25.59929847717285 lr: 0.00031623\n",
      "Iter: 52/889, loss_train: 6.5032, loss_val: nan, pos_over_neg: 25.106809616088867 lr: 0.00031623\n",
      "Iter: 53/889, loss_train: 6.4923, loss_val: nan, pos_over_neg: 23.92672348022461 lr: 0.00031623\n",
      "Iter: 54/889, loss_train: 6.5019, loss_val: nan, pos_over_neg: 33.04444122314453 lr: 0.00031623\n",
      "Iter: 55/889, loss_train: 6.4547, loss_val: nan, pos_over_neg: 40.279747009277344 lr: 0.00031623\n",
      "Iter: 56/889, loss_train: 6.4569, loss_val: nan, pos_over_neg: 43.604164123535156 lr: 0.00031623\n",
      "Iter: 57/889, loss_train: 6.4776, loss_val: nan, pos_over_neg: 32.28272247314453 lr: 0.00031623\n",
      "Iter: 58/889, loss_train: 6.4772, loss_val: nan, pos_over_neg: 39.38544845581055 lr: 0.00031623\n",
      "Iter: 59/889, loss_train: 6.4795, loss_val: nan, pos_over_neg: 36.05814743041992 lr: 0.00031623\n",
      "Iter: 60/889, loss_train: 6.4802, loss_val: nan, pos_over_neg: 35.49090576171875 lr: 0.00031623\n",
      "Iter: 61/889, loss_train: 6.4426, loss_val: nan, pos_over_neg: 39.69790267944336 lr: 0.00031623\n",
      "Iter: 62/889, loss_train: 6.4175, loss_val: nan, pos_over_neg: 35.35595703125 lr: 0.00031623\n",
      "Iter: 63/889, loss_train: 6.4793, loss_val: nan, pos_over_neg: 30.65543556213379 lr: 0.00031623\n",
      "Iter: 64/889, loss_train: 6.453, loss_val: nan, pos_over_neg: 36.840946197509766 lr: 0.00031623\n",
      "Iter: 65/889, loss_train: 6.4933, loss_val: nan, pos_over_neg: 35.409584045410156 lr: 0.00031623\n",
      "Iter: 66/889, loss_train: 6.4546, loss_val: nan, pos_over_neg: 48.54478073120117 lr: 0.00031623\n",
      "Iter: 67/889, loss_train: 6.4348, loss_val: nan, pos_over_neg: 52.75676727294922 lr: 0.00031623\n",
      "Iter: 68/889, loss_train: 6.4408, loss_val: nan, pos_over_neg: 36.03510284423828 lr: 0.00031623\n",
      "Iter: 69/889, loss_train: 6.479, loss_val: nan, pos_over_neg: 28.238313674926758 lr: 0.00031623\n",
      "Iter: 70/889, loss_train: 6.4169, loss_val: nan, pos_over_neg: 36.06610107421875 lr: 0.00031623\n",
      "Iter: 71/889, loss_train: 6.4178, loss_val: nan, pos_over_neg: 40.60179901123047 lr: 0.00031623\n",
      "Iter: 72/889, loss_train: 6.4549, loss_val: nan, pos_over_neg: 46.855106353759766 lr: 0.00031623\n",
      "Iter: 73/889, loss_train: 6.4071, loss_val: nan, pos_over_neg: 42.38694381713867 lr: 0.00031623\n",
      "Iter: 74/889, loss_train: 6.4537, loss_val: nan, pos_over_neg: 41.296104431152344 lr: 0.00031623\n",
      "Iter: 75/889, loss_train: 6.405, loss_val: nan, pos_over_neg: 56.004207611083984 lr: 0.00031623\n",
      "Iter: 76/889, loss_train: 6.4001, loss_val: nan, pos_over_neg: 57.97526931762695 lr: 0.00031623\n",
      "Iter: 77/889, loss_train: 6.4495, loss_val: nan, pos_over_neg: 47.86880111694336 lr: 0.00031623\n",
      "Iter: 78/889, loss_train: 6.4548, loss_val: nan, pos_over_neg: 47.713260650634766 lr: 0.00031623\n",
      "Iter: 79/889, loss_train: 6.425, loss_val: nan, pos_over_neg: 54.987213134765625 lr: 0.00031623\n",
      "Iter: 80/889, loss_train: 6.4372, loss_val: nan, pos_over_neg: 44.785945892333984 lr: 0.00031623\n",
      "Iter: 81/889, loss_train: 6.4237, loss_val: nan, pos_over_neg: 50.38396453857422 lr: 0.00031623\n",
      "Iter: 82/889, loss_train: 6.4081, loss_val: nan, pos_over_neg: 42.331912994384766 lr: 0.00031623\n",
      "Iter: 83/889, loss_train: 6.4218, loss_val: nan, pos_over_neg: 43.569908142089844 lr: 0.00031623\n",
      "Iter: 84/889, loss_train: 6.4423, loss_val: nan, pos_over_neg: 36.23783493041992 lr: 0.00031623\n",
      "Iter: 85/889, loss_train: 6.3778, loss_val: nan, pos_over_neg: 53.20220184326172 lr: 0.00031623\n",
      "Iter: 86/889, loss_train: 6.4115, loss_val: nan, pos_over_neg: 62.10503005981445 lr: 0.00031623\n",
      "Iter: 87/889, loss_train: 6.4238, loss_val: nan, pos_over_neg: 60.163394927978516 lr: 0.00031623\n",
      "Iter: 88/889, loss_train: 6.389, loss_val: nan, pos_over_neg: 57.22269058227539 lr: 0.00031623\n",
      "Iter: 89/889, loss_train: 6.4238, loss_val: nan, pos_over_neg: 35.618194580078125 lr: 0.00031623\n",
      "Iter: 90/889, loss_train: 6.4289, loss_val: nan, pos_over_neg: 26.637168884277344 lr: 0.00031623\n",
      "Iter: 91/889, loss_train: 6.3835, loss_val: nan, pos_over_neg: 36.408203125 lr: 0.00031623\n",
      "Iter: 92/889, loss_train: 6.4231, loss_val: nan, pos_over_neg: 45.53900909423828 lr: 0.00031623\n",
      "Iter: 93/889, loss_train: 6.4525, loss_val: nan, pos_over_neg: 48.018863677978516 lr: 0.00031623\n",
      "Iter: 94/889, loss_train: 6.4012, loss_val: nan, pos_over_neg: 99.04042053222656 lr: 0.00031623\n",
      "Iter: 95/889, loss_train: 6.4412, loss_val: nan, pos_over_neg: 51.08843231201172 lr: 0.00031623\n",
      "Iter: 96/889, loss_train: 6.4112, loss_val: nan, pos_over_neg: 34.76012420654297 lr: 0.00031623\n",
      "Iter: 97/889, loss_train: 6.3878, loss_val: nan, pos_over_neg: 40.09602737426758 lr: 0.00031623\n",
      "Iter: 98/889, loss_train: 6.3776, loss_val: nan, pos_over_neg: 37.02747344970703 lr: 0.00031623\n",
      "Iter: 99/889, loss_train: 6.4091, loss_val: nan, pos_over_neg: 49.011566162109375 lr: 0.00031623\n",
      "Iter: 100/889, loss_train: 6.4014, loss_val: nan, pos_over_neg: 110.28150177001953 lr: 0.00031623\n",
      "Iter: 101/889, loss_train: 6.3863, loss_val: nan, pos_over_neg: 97.45670318603516 lr: 0.00031623\n",
      "Iter: 102/889, loss_train: 6.3603, loss_val: nan, pos_over_neg: 81.7739486694336 lr: 0.00031623\n",
      "Iter: 103/889, loss_train: 6.4375, loss_val: nan, pos_over_neg: 48.32626724243164 lr: 0.00031623\n",
      "Iter: 104/889, loss_train: 6.3985, loss_val: nan, pos_over_neg: 59.44198989868164 lr: 0.00031623\n",
      "Iter: 105/889, loss_train: 6.3682, loss_val: nan, pos_over_neg: 47.130470275878906 lr: 0.00031623\n",
      "Iter: 106/889, loss_train: 6.392, loss_val: nan, pos_over_neg: 39.87361145019531 lr: 0.00031623\n",
      "Iter: 107/889, loss_train: 6.3668, loss_val: nan, pos_over_neg: 66.2989273071289 lr: 0.00031623\n",
      "Iter: 108/889, loss_train: 6.3693, loss_val: nan, pos_over_neg: 139.45462036132812 lr: 0.00031623\n",
      "Iter: 109/889, loss_train: 6.3849, loss_val: nan, pos_over_neg: 179.14297485351562 lr: 0.00031623\n",
      "Iter: 110/889, loss_train: 6.3608, loss_val: nan, pos_over_neg: 102.4903793334961 lr: 0.00031623\n",
      "Iter: 111/889, loss_train: 6.3845, loss_val: nan, pos_over_neg: 61.67607879638672 lr: 0.00031623\n",
      "Iter: 112/889, loss_train: 6.3519, loss_val: nan, pos_over_neg: 54.22445297241211 lr: 0.00031623\n",
      "Iter: 113/889, loss_train: 6.3901, loss_val: nan, pos_over_neg: 46.59064865112305 lr: 0.00031623\n",
      "Iter: 114/889, loss_train: 6.3609, loss_val: nan, pos_over_neg: 36.19623565673828 lr: 0.00031623\n",
      "Iter: 115/889, loss_train: 6.3434, loss_val: nan, pos_over_neg: 63.366912841796875 lr: 0.00031623\n",
      "Iter: 116/889, loss_train: 6.4021, loss_val: nan, pos_over_neg: 63.852935791015625 lr: 0.00031623\n",
      "Iter: 117/889, loss_train: 6.3613, loss_val: nan, pos_over_neg: 87.75404357910156 lr: 0.00031623\n",
      "Iter: 118/889, loss_train: 6.3415, loss_val: nan, pos_over_neg: 152.2704315185547 lr: 0.00031623\n",
      "Iter: 119/889, loss_train: 6.3733, loss_val: nan, pos_over_neg: 107.17476654052734 lr: 0.00031623\n",
      "Iter: 120/889, loss_train: 6.3397, loss_val: nan, pos_over_neg: 86.85970306396484 lr: 0.00031623\n",
      "Iter: 121/889, loss_train: 6.3644, loss_val: nan, pos_over_neg: 59.70427322387695 lr: 0.00031623\n",
      "Iter: 122/889, loss_train: 6.367, loss_val: nan, pos_over_neg: 51.99727249145508 lr: 0.00031623\n",
      "Iter: 123/889, loss_train: 6.3192, loss_val: nan, pos_over_neg: 61.206825256347656 lr: 0.00031623\n",
      "Iter: 124/889, loss_train: 6.3864, loss_val: nan, pos_over_neg: 47.12936019897461 lr: 0.00031623\n",
      "Iter: 125/889, loss_train: 6.3909, loss_val: nan, pos_over_neg: 52.01548767089844 lr: 0.00031623\n",
      "Iter: 126/889, loss_train: 6.3865, loss_val: nan, pos_over_neg: 52.124794006347656 lr: 0.00031623\n",
      "Iter: 127/889, loss_train: 6.3464, loss_val: nan, pos_over_neg: 44.09395217895508 lr: 0.00031623\n",
      "Iter: 128/889, loss_train: 6.367, loss_val: nan, pos_over_neg: 63.9384880065918 lr: 0.00031623\n",
      "Iter: 129/889, loss_train: 6.3258, loss_val: nan, pos_over_neg: 73.2964096069336 lr: 0.00031623\n",
      "Iter: 130/889, loss_train: 6.3294, loss_val: nan, pos_over_neg: 77.83470916748047 lr: 0.00031623\n",
      "Iter: 131/889, loss_train: 6.3492, loss_val: nan, pos_over_neg: 84.20441436767578 lr: 0.00031623\n",
      "Iter: 132/889, loss_train: 6.363, loss_val: nan, pos_over_neg: 64.0545654296875 lr: 0.00031623\n",
      "Iter: 133/889, loss_train: 6.3297, loss_val: nan, pos_over_neg: 77.66707611083984 lr: 0.00031623\n",
      "Iter: 134/889, loss_train: 6.3249, loss_val: nan, pos_over_neg: 81.33566284179688 lr: 0.00031623\n",
      "Iter: 135/889, loss_train: 6.3719, loss_val: nan, pos_over_neg: 85.54072570800781 lr: 0.00031623\n",
      "Iter: 136/889, loss_train: 6.3308, loss_val: nan, pos_over_neg: 78.08826446533203 lr: 0.00031623\n",
      "Iter: 137/889, loss_train: 6.3458, loss_val: nan, pos_over_neg: 60.109161376953125 lr: 0.00031623\n",
      "Iter: 138/889, loss_train: 6.3269, loss_val: nan, pos_over_neg: 63.76263427734375 lr: 0.00031623\n",
      "Iter: 139/889, loss_train: 6.3184, loss_val: nan, pos_over_neg: 78.8923110961914 lr: 0.00031623\n",
      "Iter: 140/889, loss_train: 6.3188, loss_val: nan, pos_over_neg: 85.21773529052734 lr: 0.00031623\n",
      "Iter: 141/889, loss_train: 6.3366, loss_val: nan, pos_over_neg: 78.04707336425781 lr: 0.00031623\n",
      "Iter: 142/889, loss_train: 6.3289, loss_val: nan, pos_over_neg: 107.39337158203125 lr: 0.00031623\n",
      "Iter: 143/889, loss_train: 6.3188, loss_val: nan, pos_over_neg: 96.92544555664062 lr: 0.00031623\n",
      "Iter: 144/889, loss_train: 6.322, loss_val: nan, pos_over_neg: 62.37299728393555 lr: 0.00031623\n",
      "Iter: 145/889, loss_train: 6.319, loss_val: nan, pos_over_neg: 77.95576477050781 lr: 0.00031623\n",
      "Iter: 146/889, loss_train: 6.3342, loss_val: nan, pos_over_neg: 54.02779006958008 lr: 0.00031623\n",
      "Iter: 147/889, loss_train: 6.329, loss_val: nan, pos_over_neg: 85.5082015991211 lr: 0.00031623\n",
      "Iter: 148/889, loss_train: 6.3535, loss_val: nan, pos_over_neg: 113.40998077392578 lr: 0.00031623\n",
      "Iter: 149/889, loss_train: 6.3472, loss_val: nan, pos_over_neg: 110.68367767333984 lr: 0.00031623\n",
      "Iter: 150/889, loss_train: 6.3437, loss_val: nan, pos_over_neg: 63.83748245239258 lr: 0.00031623\n",
      "Iter: 151/889, loss_train: 6.3182, loss_val: nan, pos_over_neg: 86.22293853759766 lr: 0.00031623\n",
      "Iter: 152/889, loss_train: 6.3123, loss_val: nan, pos_over_neg: 68.8714599609375 lr: 0.00031623\n",
      "Iter: 153/889, loss_train: 6.3003, loss_val: nan, pos_over_neg: 82.62543487548828 lr: 0.00031623\n",
      "Iter: 154/889, loss_train: 6.3089, loss_val: nan, pos_over_neg: 71.69943237304688 lr: 0.00031623\n",
      "Iter: 155/889, loss_train: 6.3429, loss_val: nan, pos_over_neg: 61.169124603271484 lr: 0.00031623\n",
      "Iter: 156/889, loss_train: 6.3326, loss_val: nan, pos_over_neg: 92.54229736328125 lr: 0.00031623\n",
      "Iter: 157/889, loss_train: 6.3017, loss_val: nan, pos_over_neg: 161.6900177001953 lr: 0.00031623\n",
      "Iter: 158/889, loss_train: 6.3228, loss_val: nan, pos_over_neg: 145.05526733398438 lr: 0.00031623\n",
      "Iter: 159/889, loss_train: 6.2911, loss_val: nan, pos_over_neg: 118.69127655029297 lr: 0.00031623\n",
      "Iter: 160/889, loss_train: 6.3044, loss_val: nan, pos_over_neg: 126.1051254272461 lr: 0.00031623\n",
      "Iter: 161/889, loss_train: 6.3125, loss_val: nan, pos_over_neg: 80.26296997070312 lr: 0.00031623\n",
      "Iter: 162/889, loss_train: 6.3047, loss_val: nan, pos_over_neg: 60.2476692199707 lr: 0.00031623\n",
      "Iter: 163/889, loss_train: 6.2954, loss_val: nan, pos_over_neg: 84.41461181640625 lr: 0.00031623\n",
      "Iter: 164/889, loss_train: 6.3124, loss_val: nan, pos_over_neg: 68.77210998535156 lr: 0.00031623\n",
      "Iter: 165/889, loss_train: 6.3283, loss_val: nan, pos_over_neg: 95.27201080322266 lr: 0.00031623\n",
      "Iter: 166/889, loss_train: 6.3202, loss_val: nan, pos_over_neg: 142.80767822265625 lr: 0.00031623\n",
      "Iter: 167/889, loss_train: 6.3253, loss_val: nan, pos_over_neg: 214.44052124023438 lr: 0.00031623\n",
      "Iter: 168/889, loss_train: 6.3117, loss_val: nan, pos_over_neg: 109.87120819091797 lr: 0.00031623\n",
      "Iter: 169/889, loss_train: 6.3082, loss_val: nan, pos_over_neg: 72.79530334472656 lr: 0.00031623\n",
      "Iter: 170/889, loss_train: 6.3037, loss_val: nan, pos_over_neg: 64.2373275756836 lr: 0.00031623\n",
      "Iter: 171/889, loss_train: 6.3141, loss_val: nan, pos_over_neg: 64.7917709350586 lr: 0.00031623\n",
      "Iter: 172/889, loss_train: 6.2796, loss_val: nan, pos_over_neg: 79.48474884033203 lr: 0.00031623\n",
      "Iter: 173/889, loss_train: 6.2983, loss_val: nan, pos_over_neg: 114.00589752197266 lr: 0.00031623\n",
      "Iter: 174/889, loss_train: 6.3088, loss_val: nan, pos_over_neg: 155.36239624023438 lr: 0.00031623\n",
      "Iter: 175/889, loss_train: 6.2903, loss_val: nan, pos_over_neg: 218.4469451904297 lr: 0.00031623\n",
      "Iter: 176/889, loss_train: 6.3067, loss_val: nan, pos_over_neg: 136.9125518798828 lr: 0.00031623\n",
      "Iter: 177/889, loss_train: 6.3006, loss_val: nan, pos_over_neg: 93.45130920410156 lr: 0.00031623\n",
      "Iter: 178/889, loss_train: 6.2972, loss_val: nan, pos_over_neg: 69.36847686767578 lr: 0.00031623\n",
      "Iter: 179/889, loss_train: 6.2861, loss_val: nan, pos_over_neg: 52.12081527709961 lr: 0.00031623\n",
      "Iter: 180/889, loss_train: 6.3385, loss_val: nan, pos_over_neg: 53.11314010620117 lr: 0.00031623\n",
      "Iter: 181/889, loss_train: 6.3189, loss_val: nan, pos_over_neg: 110.4413070678711 lr: 0.00031623\n",
      "Iter: 182/889, loss_train: 6.2865, loss_val: nan, pos_over_neg: 146.1441650390625 lr: 0.00031623\n",
      "Iter: 183/889, loss_train: 6.3221, loss_val: nan, pos_over_neg: 141.72962951660156 lr: 0.00031623\n",
      "Iter: 184/889, loss_train: 6.3467, loss_val: nan, pos_over_neg: 102.04228210449219 lr: 0.00031623\n",
      "Iter: 185/889, loss_train: 6.295, loss_val: nan, pos_over_neg: 136.63925170898438 lr: 0.00031623\n",
      "Iter: 186/889, loss_train: 6.2821, loss_val: nan, pos_over_neg: 76.6340103149414 lr: 0.00031623\n",
      "Iter: 187/889, loss_train: 6.305, loss_val: nan, pos_over_neg: 63.01466369628906 lr: 0.00031623\n",
      "Iter: 188/889, loss_train: 6.2772, loss_val: nan, pos_over_neg: 78.45372009277344 lr: 0.00031623\n",
      "Iter: 189/889, loss_train: 6.2898, loss_val: nan, pos_over_neg: 88.53650665283203 lr: 0.00031623\n",
      "Iter: 190/889, loss_train: 6.2826, loss_val: nan, pos_over_neg: 104.66732788085938 lr: 0.00031623\n",
      "Iter: 191/889, loss_train: 6.3033, loss_val: nan, pos_over_neg: 106.50667572021484 lr: 0.00031623\n",
      "Iter: 192/889, loss_train: 6.3026, loss_val: nan, pos_over_neg: 156.8038330078125 lr: 0.00031623\n",
      "Iter: 193/889, loss_train: 6.3244, loss_val: nan, pos_over_neg: 101.80441284179688 lr: 0.00031623\n",
      "Iter: 194/889, loss_train: 6.3138, loss_val: nan, pos_over_neg: 123.04263305664062 lr: 0.00031623\n",
      "Iter: 195/889, loss_train: 6.2961, loss_val: nan, pos_over_neg: 52.963016510009766 lr: 0.00031623\n",
      "Iter: 196/889, loss_train: 6.3166, loss_val: nan, pos_over_neg: 56.38560485839844 lr: 0.00031623\n",
      "Iter: 197/889, loss_train: 6.3127, loss_val: nan, pos_over_neg: 51.93345260620117 lr: 0.00031623\n",
      "Iter: 198/889, loss_train: 6.2904, loss_val: nan, pos_over_neg: 59.81654739379883 lr: 0.00031623\n",
      "Iter: 199/889, loss_train: 6.2895, loss_val: nan, pos_over_neg: 65.76039123535156 lr: 0.00031623\n",
      "Iter: 200/889, loss_train: 6.2777, loss_val: nan, pos_over_neg: 105.21593475341797 lr: 0.00031623\n",
      "Iter: 201/889, loss_train: 6.2479, loss_val: nan, pos_over_neg: 112.41516876220703 lr: 0.00031623\n",
      "Iter: 202/889, loss_train: 6.2598, loss_val: nan, pos_over_neg: 69.88570404052734 lr: 0.00031623\n",
      "Iter: 203/889, loss_train: 6.2892, loss_val: nan, pos_over_neg: 99.26850891113281 lr: 0.00031623\n",
      "Iter: 204/889, loss_train: 6.2977, loss_val: nan, pos_over_neg: 112.8289566040039 lr: 0.00031623\n",
      "Iter: 205/889, loss_train: 6.2917, loss_val: nan, pos_over_neg: 74.57086944580078 lr: 0.00031623\n",
      "Iter: 206/889, loss_train: 6.3065, loss_val: nan, pos_over_neg: 81.70405578613281 lr: 0.00031623\n",
      "Iter: 207/889, loss_train: 6.3144, loss_val: nan, pos_over_neg: 97.77631378173828 lr: 0.00031623\n",
      "Iter: 208/889, loss_train: 6.2738, loss_val: nan, pos_over_neg: 188.82965087890625 lr: 0.00031623\n",
      "Iter: 209/889, loss_train: 6.3046, loss_val: nan, pos_over_neg: 129.6365966796875 lr: 0.00031623\n",
      "Iter: 210/889, loss_train: 6.2702, loss_val: nan, pos_over_neg: 142.04525756835938 lr: 0.00031623\n",
      "Iter: 211/889, loss_train: 6.3016, loss_val: nan, pos_over_neg: 80.38927459716797 lr: 0.00031623\n",
      "Iter: 212/889, loss_train: 6.2671, loss_val: nan, pos_over_neg: 48.384925842285156 lr: 0.00031623\n",
      "Iter: 213/889, loss_train: 6.2966, loss_val: nan, pos_over_neg: 70.58895111083984 lr: 0.00031623\n",
      "Iter: 214/889, loss_train: 6.2939, loss_val: nan, pos_over_neg: 100.58677673339844 lr: 0.00031623\n",
      "Iter: 215/889, loss_train: 6.2823, loss_val: nan, pos_over_neg: 126.135009765625 lr: 0.00031623\n",
      "Iter: 216/889, loss_train: 6.284, loss_val: nan, pos_over_neg: 135.44320678710938 lr: 0.00031623\n",
      "Iter: 217/889, loss_train: 6.2927, loss_val: nan, pos_over_neg: 165.8741455078125 lr: 0.00031623\n",
      "Iter: 218/889, loss_train: 6.3077, loss_val: nan, pos_over_neg: 150.74029541015625 lr: 0.00031623\n",
      "Iter: 219/889, loss_train: 6.2888, loss_val: nan, pos_over_neg: 113.87862396240234 lr: 0.00031623\n",
      "Iter: 220/889, loss_train: 6.2662, loss_val: nan, pos_over_neg: 95.84933471679688 lr: 0.00031623\n",
      "Iter: 221/889, loss_train: 6.3193, loss_val: nan, pos_over_neg: 66.3372573852539 lr: 0.00031623\n",
      "Iter: 222/889, loss_train: 6.2396, loss_val: nan, pos_over_neg: 88.1765365600586 lr: 0.00031623\n",
      "Iter: 223/889, loss_train: 6.2702, loss_val: nan, pos_over_neg: 114.01494598388672 lr: 0.00031623\n",
      "Iter: 224/889, loss_train: 6.2958, loss_val: nan, pos_over_neg: 104.74304962158203 lr: 0.00031623\n",
      "Iter: 225/889, loss_train: 6.2828, loss_val: nan, pos_over_neg: 268.2499694824219 lr: 0.00031623\n",
      "Iter: 226/889, loss_train: 6.2801, loss_val: nan, pos_over_neg: 311.3282165527344 lr: 0.00031623\n",
      "Iter: 227/889, loss_train: 6.2879, loss_val: nan, pos_over_neg: 110.94854736328125 lr: 0.00031623\n",
      "Iter: 228/889, loss_train: 6.293, loss_val: nan, pos_over_neg: 92.22795104980469 lr: 0.00031623\n",
      "Iter: 229/889, loss_train: 6.2488, loss_val: nan, pos_over_neg: 125.19158935546875 lr: 0.00031623\n",
      "Iter: 230/889, loss_train: 6.2483, loss_val: nan, pos_over_neg: 126.20252990722656 lr: 0.00031623\n",
      "Iter: 231/889, loss_train: 6.2631, loss_val: nan, pos_over_neg: 137.72044372558594 lr: 0.00031623\n",
      "Iter: 232/889, loss_train: 6.2736, loss_val: nan, pos_over_neg: 97.39981079101562 lr: 0.00031623\n",
      "Iter: 233/889, loss_train: 6.2509, loss_val: nan, pos_over_neg: 105.4775390625 lr: 0.00031623\n",
      "Iter: 234/889, loss_train: 6.2471, loss_val: nan, pos_over_neg: 127.94141387939453 lr: 0.00031623\n",
      "Iter: 235/889, loss_train: 6.2415, loss_val: nan, pos_over_neg: 116.17898559570312 lr: 0.00031623\n",
      "Iter: 236/889, loss_train: 6.2649, loss_val: nan, pos_over_neg: 84.52973937988281 lr: 0.00031623\n",
      "Iter: 237/889, loss_train: 6.2924, loss_val: nan, pos_over_neg: 90.47013092041016 lr: 0.00031623\n",
      "Iter: 238/889, loss_train: 6.2669, loss_val: nan, pos_over_neg: 127.21891784667969 lr: 0.00031623\n",
      "Iter: 239/889, loss_train: 6.2595, loss_val: nan, pos_over_neg: 135.79100036621094 lr: 0.00031623\n",
      "Iter: 240/889, loss_train: 6.2921, loss_val: nan, pos_over_neg: 96.32846069335938 lr: 0.00031623\n",
      "Iter: 241/889, loss_train: 6.2681, loss_val: nan, pos_over_neg: 63.97425079345703 lr: 0.00031623\n",
      "Iter: 242/889, loss_train: 6.2746, loss_val: nan, pos_over_neg: 101.20320892333984 lr: 0.00031623\n",
      "Iter: 243/889, loss_train: 6.2679, loss_val: nan, pos_over_neg: 110.25177001953125 lr: 0.00031623\n",
      "Iter: 244/889, loss_train: 6.2428, loss_val: nan, pos_over_neg: 134.48655700683594 lr: 0.00031623\n",
      "Iter: 245/889, loss_train: 6.2576, loss_val: nan, pos_over_neg: 149.513916015625 lr: 0.00031623\n",
      "Iter: 246/889, loss_train: 6.2396, loss_val: nan, pos_over_neg: 88.27357482910156 lr: 0.00031623\n",
      "Iter: 247/889, loss_train: 6.2922, loss_val: nan, pos_over_neg: 77.31074523925781 lr: 0.00031623\n",
      "Iter: 248/889, loss_train: 6.2822, loss_val: nan, pos_over_neg: 87.20670318603516 lr: 0.00031623\n",
      "Iter: 249/889, loss_train: 6.2806, loss_val: nan, pos_over_neg: 188.90762329101562 lr: 0.00031623\n",
      "Iter: 250/889, loss_train: 6.2454, loss_val: nan, pos_over_neg: 388.1738586425781 lr: 0.00031623\n",
      "Iter: 251/889, loss_train: 6.2611, loss_val: nan, pos_over_neg: 303.92633056640625 lr: 0.00031623\n",
      "Iter: 252/889, loss_train: 6.2654, loss_val: nan, pos_over_neg: 410.1949462890625 lr: 0.00031623\n",
      "Iter: 253/889, loss_train: 6.251, loss_val: nan, pos_over_neg: 192.02589416503906 lr: 0.00031623\n",
      "Iter: 254/889, loss_train: 6.248, loss_val: nan, pos_over_neg: 176.8475341796875 lr: 0.00031623\n",
      "Iter: 255/889, loss_train: 6.254, loss_val: nan, pos_over_neg: 96.4875717163086 lr: 0.00031623\n",
      "Iter: 256/889, loss_train: 6.2871, loss_val: nan, pos_over_neg: 73.78877258300781 lr: 0.00031623\n",
      "Iter: 257/889, loss_train: 6.2525, loss_val: nan, pos_over_neg: 98.2381820678711 lr: 0.00031623\n",
      "Iter: 258/889, loss_train: 6.2825, loss_val: nan, pos_over_neg: 114.94117736816406 lr: 0.00031623\n",
      "Iter: 259/889, loss_train: 6.278, loss_val: nan, pos_over_neg: 74.23243713378906 lr: 0.00031623\n",
      "Iter: 260/889, loss_train: 6.2795, loss_val: nan, pos_over_neg: 84.46399688720703 lr: 0.00031623\n",
      "Iter: 261/889, loss_train: 6.2648, loss_val: nan, pos_over_neg: 93.78092193603516 lr: 0.00031623\n",
      "Iter: 262/889, loss_train: 6.2748, loss_val: nan, pos_over_neg: 254.31039428710938 lr: 0.00031623\n",
      "Iter: 263/889, loss_train: 6.2645, loss_val: nan, pos_over_neg: 148.8296356201172 lr: 0.00031623\n",
      "Iter: 264/889, loss_train: 6.2796, loss_val: nan, pos_over_neg: 93.88207244873047 lr: 0.00031623\n",
      "Iter: 265/889, loss_train: 6.264, loss_val: nan, pos_over_neg: 124.02459716796875 lr: 0.00031623\n",
      "Iter: 266/889, loss_train: 6.2803, loss_val: nan, pos_over_neg: 73.59268951416016 lr: 0.00031623\n",
      "Iter: 267/889, loss_train: 6.2621, loss_val: nan, pos_over_neg: 90.36807250976562 lr: 0.00031623\n",
      "Iter: 268/889, loss_train: 6.2431, loss_val: nan, pos_over_neg: 56.522117614746094 lr: 0.00031623\n",
      "Iter: 269/889, loss_train: 6.2442, loss_val: nan, pos_over_neg: 92.67064666748047 lr: 0.00031623\n",
      "Iter: 270/889, loss_train: 6.2483, loss_val: nan, pos_over_neg: 128.4176483154297 lr: 0.00031623\n",
      "Iter: 271/889, loss_train: 6.235, loss_val: nan, pos_over_neg: 212.41036987304688 lr: 0.00031623\n",
      "Iter: 272/889, loss_train: 6.2485, loss_val: nan, pos_over_neg: 175.94491577148438 lr: 0.00031623\n",
      "Iter: 273/889, loss_train: 6.2494, loss_val: nan, pos_over_neg: 113.36127471923828 lr: 0.00031623\n",
      "Iter: 274/889, loss_train: 6.2532, loss_val: nan, pos_over_neg: 123.16035461425781 lr: 0.00031623\n",
      "Iter: 275/889, loss_train: 6.24, loss_val: nan, pos_over_neg: 68.72676849365234 lr: 0.00031623\n",
      "Iter: 276/889, loss_train: 6.2367, loss_val: nan, pos_over_neg: 99.49714660644531 lr: 0.00031623\n",
      "Iter: 277/889, loss_train: 6.2866, loss_val: nan, pos_over_neg: 88.77116394042969 lr: 0.00031623\n",
      "Iter: 278/889, loss_train: 6.2785, loss_val: nan, pos_over_neg: 223.57803344726562 lr: 0.00031623\n",
      "Iter: 279/889, loss_train: 6.2642, loss_val: nan, pos_over_neg: 249.12240600585938 lr: 0.00031623\n",
      "Iter: 280/889, loss_train: 6.2557, loss_val: nan, pos_over_neg: 164.91058349609375 lr: 0.00031623\n",
      "Iter: 281/889, loss_train: 6.213, loss_val: nan, pos_over_neg: 147.75315856933594 lr: 0.00031623\n",
      "Iter: 282/889, loss_train: 6.251, loss_val: nan, pos_over_neg: 99.6633529663086 lr: 0.00031623\n",
      "Iter: 283/889, loss_train: 6.2534, loss_val: nan, pos_over_neg: 84.2694091796875 lr: 0.00031623\n",
      "Iter: 284/889, loss_train: 6.2262, loss_val: nan, pos_over_neg: 102.03768157958984 lr: 0.00031623\n",
      "Iter: 285/889, loss_train: 6.2612, loss_val: nan, pos_over_neg: 141.58848571777344 lr: 0.00031623\n",
      "Iter: 286/889, loss_train: 6.2662, loss_val: nan, pos_over_neg: 112.27977752685547 lr: 0.00031623\n",
      "Iter: 287/889, loss_train: 6.2714, loss_val: nan, pos_over_neg: 127.6893081665039 lr: 0.00031623\n",
      "Iter: 288/889, loss_train: 6.2263, loss_val: nan, pos_over_neg: 167.36981201171875 lr: 0.00031623\n",
      "Iter: 289/889, loss_train: 6.2416, loss_val: nan, pos_over_neg: 210.86854553222656 lr: 0.00031623\n",
      "Iter: 290/889, loss_train: 6.2315, loss_val: nan, pos_over_neg: 149.5471649169922 lr: 0.00031623\n",
      "Iter: 291/889, loss_train: 6.237, loss_val: nan, pos_over_neg: 99.72608184814453 lr: 0.00031623\n",
      "Iter: 292/889, loss_train: 6.2555, loss_val: nan, pos_over_neg: 125.14168548583984 lr: 0.00031623\n",
      "Iter: 293/889, loss_train: 6.246, loss_val: nan, pos_over_neg: 98.87583923339844 lr: 0.00031623\n",
      "Iter: 294/889, loss_train: 6.2296, loss_val: nan, pos_over_neg: 80.94629669189453 lr: 0.00031623\n",
      "Iter: 295/889, loss_train: 6.2433, loss_val: nan, pos_over_neg: 155.76426696777344 lr: 0.00031623\n",
      "Iter: 296/889, loss_train: 6.2597, loss_val: nan, pos_over_neg: 112.02882385253906 lr: 0.00031623\n",
      "Iter: 297/889, loss_train: 6.2567, loss_val: nan, pos_over_neg: 177.666015625 lr: 0.00031623\n",
      "Iter: 298/889, loss_train: 6.2448, loss_val: nan, pos_over_neg: 123.72383117675781 lr: 0.00031623\n",
      "Iter: 299/889, loss_train: 6.2457, loss_val: nan, pos_over_neg: 136.11004638671875 lr: 0.00031623\n",
      "Iter: 300/889, loss_train: 6.2408, loss_val: nan, pos_over_neg: 145.46121215820312 lr: 0.00031623\n",
      "Iter: 301/889, loss_train: 6.2257, loss_val: nan, pos_over_neg: 235.25999450683594 lr: 0.00031623\n",
      "Iter: 302/889, loss_train: 6.2387, loss_val: nan, pos_over_neg: 141.77880859375 lr: 0.00031623\n",
      "Iter: 303/889, loss_train: 6.2289, loss_val: nan, pos_over_neg: 117.39151000976562 lr: 0.00031623\n",
      "Iter: 304/889, loss_train: 6.1996, loss_val: nan, pos_over_neg: 307.4995422363281 lr: 0.00031623\n",
      "Iter: 305/889, loss_train: 6.231, loss_val: nan, pos_over_neg: 154.90658569335938 lr: 0.00031623\n",
      "Iter: 306/889, loss_train: 6.2406, loss_val: nan, pos_over_neg: 151.27072143554688 lr: 0.00031623\n",
      "Iter: 307/889, loss_train: 6.2299, loss_val: nan, pos_over_neg: 638.1092529296875 lr: 0.00031623\n",
      "Iter: 308/889, loss_train: 6.2463, loss_val: nan, pos_over_neg: 228.4801483154297 lr: 0.00031623\n",
      "Iter: 309/889, loss_train: 6.2686, loss_val: nan, pos_over_neg: 371.1980895996094 lr: 0.00031623\n",
      "Iter: 310/889, loss_train: 6.2517, loss_val: nan, pos_over_neg: 88.92549133300781 lr: 0.00031623\n",
      "Iter: 311/889, loss_train: 6.2492, loss_val: nan, pos_over_neg: 137.53643798828125 lr: 0.00031623\n",
      "Iter: 312/889, loss_train: 6.243, loss_val: nan, pos_over_neg: 124.47034454345703 lr: 0.00031623\n",
      "Iter: 313/889, loss_train: 6.243, loss_val: nan, pos_over_neg: 343.9045104980469 lr: 0.00031623\n",
      "Iter: 314/889, loss_train: 6.2764, loss_val: nan, pos_over_neg: 116.95045471191406 lr: 0.00031623\n",
      "Iter: 315/889, loss_train: 6.2444, loss_val: nan, pos_over_neg: 76.0107650756836 lr: 0.00031623\n",
      "Iter: 316/889, loss_train: 6.2216, loss_val: nan, pos_over_neg: 130.32896423339844 lr: 0.00031623\n",
      "Iter: 317/889, loss_train: 6.2165, loss_val: nan, pos_over_neg: 273.1138610839844 lr: 0.00031623\n",
      "Iter: 318/889, loss_train: 6.2389, loss_val: nan, pos_over_neg: 176.25701904296875 lr: 0.00031623\n",
      "Iter: 319/889, loss_train: 6.2418, loss_val: nan, pos_over_neg: 93.63116455078125 lr: 0.00031623\n",
      "Iter: 320/889, loss_train: 6.2435, loss_val: nan, pos_over_neg: 103.3502197265625 lr: 0.00031623\n",
      "Iter: 321/889, loss_train: 6.2136, loss_val: nan, pos_over_neg: 174.54209899902344 lr: 0.00031623\n",
      "Iter: 322/889, loss_train: 6.2388, loss_val: nan, pos_over_neg: 194.4105987548828 lr: 0.00031623\n",
      "Iter: 323/889, loss_train: 6.2371, loss_val: nan, pos_over_neg: 224.1748046875 lr: 0.00031623\n",
      "Iter: 324/889, loss_train: 6.2304, loss_val: nan, pos_over_neg: 201.13116455078125 lr: 0.00031623\n",
      "Iter: 325/889, loss_train: 6.2298, loss_val: nan, pos_over_neg: 186.5089874267578 lr: 0.00031623\n",
      "Iter: 326/889, loss_train: 6.2266, loss_val: nan, pos_over_neg: 128.96209716796875 lr: 0.00031623\n",
      "Iter: 327/889, loss_train: 6.2055, loss_val: nan, pos_over_neg: 194.4199981689453 lr: 0.00031623\n",
      "Iter: 328/889, loss_train: 6.238, loss_val: nan, pos_over_neg: 79.23961639404297 lr: 0.00031623\n",
      "Iter: 329/889, loss_train: 6.2391, loss_val: nan, pos_over_neg: 95.27570343017578 lr: 0.00031623\n",
      "Iter: 330/889, loss_train: 6.24, loss_val: nan, pos_over_neg: 193.63235473632812 lr: 0.00031623\n",
      "Iter: 331/889, loss_train: 6.2195, loss_val: nan, pos_over_neg: 450.8899230957031 lr: 0.00031623\n",
      "Iter: 332/889, loss_train: 6.2793, loss_val: nan, pos_over_neg: 117.97632598876953 lr: 0.00031623\n",
      "Iter: 333/889, loss_train: 6.2139, loss_val: nan, pos_over_neg: 212.6800079345703 lr: 0.00031623\n",
      "Iter: 334/889, loss_train: 6.2456, loss_val: nan, pos_over_neg: 115.02300262451172 lr: 0.00031623\n",
      "Iter: 335/889, loss_train: 6.2259, loss_val: nan, pos_over_neg: 99.55711364746094 lr: 0.00031623\n",
      "Iter: 336/889, loss_train: 6.2299, loss_val: nan, pos_over_neg: 90.35881805419922 lr: 0.00031623\n",
      "Iter: 337/889, loss_train: 6.2181, loss_val: nan, pos_over_neg: 100.92230987548828 lr: 0.00031623\n",
      "Iter: 338/889, loss_train: 6.2483, loss_val: nan, pos_over_neg: 275.7275390625 lr: 0.00031623\n",
      "Iter: 339/889, loss_train: 6.2504, loss_val: nan, pos_over_neg: 204.4879608154297 lr: 0.00031623\n",
      "Iter: 340/889, loss_train: 6.2217, loss_val: nan, pos_over_neg: 232.01889038085938 lr: 0.00031623\n",
      "Iter: 341/889, loss_train: 6.2281, loss_val: nan, pos_over_neg: 129.43917846679688 lr: 0.00031623\n",
      "Iter: 342/889, loss_train: 6.231, loss_val: nan, pos_over_neg: 66.10122680664062 lr: 0.00031623\n",
      "Iter: 343/889, loss_train: 6.2529, loss_val: nan, pos_over_neg: 130.8406219482422 lr: 0.00031623\n",
      "Iter: 344/889, loss_train: 6.2287, loss_val: nan, pos_over_neg: 114.19916534423828 lr: 0.00031623\n",
      "Iter: 345/889, loss_train: 6.263, loss_val: nan, pos_over_neg: 67.8485336303711 lr: 0.00031623\n",
      "Iter: 346/889, loss_train: 6.2199, loss_val: nan, pos_over_neg: 92.19544982910156 lr: 0.00031623\n",
      "Iter: 347/889, loss_train: 6.2316, loss_val: nan, pos_over_neg: 98.02589416503906 lr: 0.00031623\n",
      "Iter: 348/889, loss_train: 6.2591, loss_val: nan, pos_over_neg: 147.73086547851562 lr: 0.00031623\n",
      "Iter: 349/889, loss_train: 6.2324, loss_val: nan, pos_over_neg: 366.1919250488281 lr: 0.00031623\n",
      "Iter: 350/889, loss_train: 6.2459, loss_val: nan, pos_over_neg: 315.7829895019531 lr: 0.00031623\n",
      "Iter: 351/889, loss_train: 6.2394, loss_val: nan, pos_over_neg: 438.7426452636719 lr: 0.00031623\n",
      "Iter: 352/889, loss_train: 6.2117, loss_val: nan, pos_over_neg: 347.4631652832031 lr: 0.00031623\n",
      "Iter: 353/889, loss_train: 6.221, loss_val: nan, pos_over_neg: 124.02959442138672 lr: 0.00031623\n",
      "Iter: 354/889, loss_train: 6.2212, loss_val: nan, pos_over_neg: 102.23189544677734 lr: 0.00031623\n",
      "Iter: 355/889, loss_train: 6.2388, loss_val: nan, pos_over_neg: 46.85630798339844 lr: 0.00031623\n",
      "Iter: 356/889, loss_train: 6.2043, loss_val: nan, pos_over_neg: 57.16227340698242 lr: 0.00031623\n",
      "Iter: 357/889, loss_train: 6.2151, loss_val: nan, pos_over_neg: 95.16748046875 lr: 0.00031623\n",
      "Iter: 358/889, loss_train: 6.2339, loss_val: nan, pos_over_neg: 105.0538558959961 lr: 0.00031623\n",
      "Iter: 359/889, loss_train: 6.2387, loss_val: nan, pos_over_neg: 156.13345336914062 lr: 0.00031623\n",
      "Iter: 360/889, loss_train: 6.2341, loss_val: nan, pos_over_neg: 190.51023864746094 lr: 0.00031623\n",
      "Iter: 361/889, loss_train: 6.2668, loss_val: nan, pos_over_neg: 187.4704132080078 lr: 0.00031623\n",
      "Iter: 362/889, loss_train: 6.2325, loss_val: nan, pos_over_neg: 146.26931762695312 lr: 0.00031623\n",
      "Iter: 363/889, loss_train: 6.2048, loss_val: nan, pos_over_neg: 121.01301574707031 lr: 0.00031623\n",
      "Iter: 364/889, loss_train: 6.2427, loss_val: nan, pos_over_neg: 64.14045715332031 lr: 0.00031623\n",
      "Iter: 365/889, loss_train: 6.2157, loss_val: nan, pos_over_neg: 112.2013931274414 lr: 0.00031623\n",
      "Iter: 366/889, loss_train: 6.2259, loss_val: nan, pos_over_neg: 100.61885070800781 lr: 0.00031623\n",
      "Iter: 367/889, loss_train: 6.2396, loss_val: nan, pos_over_neg: 136.9963836669922 lr: 0.00031623\n",
      "Iter: 368/889, loss_train: 6.188, loss_val: nan, pos_over_neg: 220.1050567626953 lr: 0.00031623\n",
      "Iter: 369/889, loss_train: 6.2149, loss_val: nan, pos_over_neg: 176.34207153320312 lr: 0.00031623\n",
      "Iter: 370/889, loss_train: 6.2561, loss_val: nan, pos_over_neg: 174.00564575195312 lr: 0.00031623\n",
      "Iter: 371/889, loss_train: 6.2063, loss_val: nan, pos_over_neg: 410.64044189453125 lr: 0.00031623\n",
      "Iter: 372/889, loss_train: 6.2338, loss_val: nan, pos_over_neg: 297.03009033203125 lr: 0.00031623\n",
      "Iter: 373/889, loss_train: 6.2143, loss_val: nan, pos_over_neg: 124.27513885498047 lr: 0.00031623\n",
      "Iter: 374/889, loss_train: 6.2217, loss_val: nan, pos_over_neg: 129.3080291748047 lr: 0.00031623\n",
      "Iter: 375/889, loss_train: 6.22, loss_val: nan, pos_over_neg: 95.07512664794922 lr: 0.00031623\n",
      "Iter: 376/889, loss_train: 6.2236, loss_val: nan, pos_over_neg: 143.5950469970703 lr: 0.00031623\n",
      "Iter: 377/889, loss_train: 6.215, loss_val: nan, pos_over_neg: 182.35794067382812 lr: 0.00031623\n",
      "Iter: 378/889, loss_train: 6.2506, loss_val: nan, pos_over_neg: 81.73186492919922 lr: 0.00031623\n",
      "Iter: 379/889, loss_train: 6.2121, loss_val: nan, pos_over_neg: 137.8391571044922 lr: 0.00031623\n",
      "Iter: 380/889, loss_train: 6.2104, loss_val: nan, pos_over_neg: 118.0917739868164 lr: 0.00031623\n",
      "Iter: 381/889, loss_train: 6.2067, loss_val: nan, pos_over_neg: 98.46717071533203 lr: 0.00031623\n",
      "Iter: 382/889, loss_train: 6.2341, loss_val: nan, pos_over_neg: 105.81043243408203 lr: 0.00031623\n",
      "Iter: 383/889, loss_train: 6.2804, loss_val: nan, pos_over_neg: 113.54591369628906 lr: 0.00031623\n",
      "Iter: 384/889, loss_train: 6.2182, loss_val: nan, pos_over_neg: 116.67231750488281 lr: 0.00031623\n",
      "Iter: 385/889, loss_train: 6.2137, loss_val: nan, pos_over_neg: 84.66222381591797 lr: 0.00031623\n",
      "Iter: 386/889, loss_train: 6.2054, loss_val: nan, pos_over_neg: 132.7779083251953 lr: 0.00031623\n",
      "Iter: 387/889, loss_train: 6.2375, loss_val: nan, pos_over_neg: 227.94229125976562 lr: 0.00031623\n",
      "Iter: 388/889, loss_train: 6.2432, loss_val: nan, pos_over_neg: 210.86331176757812 lr: 0.00031623\n",
      "Iter: 389/889, loss_train: 6.2458, loss_val: nan, pos_over_neg: 99.52826690673828 lr: 0.00031623\n",
      "Iter: 390/889, loss_train: 6.2198, loss_val: nan, pos_over_neg: 121.55547332763672 lr: 0.00031623\n",
      "Iter: 391/889, loss_train: 6.2305, loss_val: nan, pos_over_neg: 104.48814392089844 lr: 0.00031623\n",
      "Iter: 392/889, loss_train: 6.2191, loss_val: nan, pos_over_neg: 122.92311096191406 lr: 0.00031623\n",
      "Iter: 393/889, loss_train: 6.2183, loss_val: nan, pos_over_neg: 134.7129669189453 lr: 0.00031623\n",
      "Iter: 394/889, loss_train: 6.2324, loss_val: nan, pos_over_neg: 90.723876953125 lr: 0.00031623\n",
      "Iter: 395/889, loss_train: 6.2069, loss_val: nan, pos_over_neg: 90.14557647705078 lr: 0.00031623\n",
      "Iter: 396/889, loss_train: 6.229, loss_val: nan, pos_over_neg: 133.44654846191406 lr: 0.00031623\n",
      "Iter: 397/889, loss_train: 6.2362, loss_val: nan, pos_over_neg: 196.7459716796875 lr: 0.00031623\n",
      "Iter: 398/889, loss_train: 6.2248, loss_val: nan, pos_over_neg: 632.9393310546875 lr: 0.00031623\n",
      "Iter: 399/889, loss_train: 6.1811, loss_val: nan, pos_over_neg: 332.6549377441406 lr: 0.00031623\n",
      "Iter: 400/889, loss_train: 6.1982, loss_val: nan, pos_over_neg: 144.5293731689453 lr: 0.00031623\n",
      "Iter: 401/889, loss_train: 6.1847, loss_val: nan, pos_over_neg: 121.23615264892578 lr: 0.00031623\n",
      "Iter: 402/889, loss_train: 6.1886, loss_val: nan, pos_over_neg: 97.40828704833984 lr: 0.00031623\n",
      "Iter: 403/889, loss_train: 6.2409, loss_val: nan, pos_over_neg: 76.04729461669922 lr: 0.00031623\n",
      "Iter: 404/889, loss_train: 6.222, loss_val: nan, pos_over_neg: 124.2567367553711 lr: 0.00031623\n",
      "Iter: 405/889, loss_train: 6.2281, loss_val: nan, pos_over_neg: 166.84742736816406 lr: 0.00031623\n",
      "Iter: 406/889, loss_train: 6.213, loss_val: nan, pos_over_neg: 141.0801544189453 lr: 0.00031623\n",
      "Iter: 407/889, loss_train: 6.2432, loss_val: nan, pos_over_neg: 130.04660034179688 lr: 0.00031623\n",
      "Iter: 408/889, loss_train: 6.2064, loss_val: nan, pos_over_neg: 95.09770202636719 lr: 0.00031623\n",
      "Iter: 409/889, loss_train: 6.2273, loss_val: nan, pos_over_neg: 122.0207290649414 lr: 0.00031623\n",
      "Iter: 410/889, loss_train: 6.1831, loss_val: nan, pos_over_neg: 138.69544982910156 lr: 0.00031623\n",
      "Iter: 411/889, loss_train: 6.198, loss_val: nan, pos_over_neg: 108.71224212646484 lr: 0.00031623\n",
      "Iter: 412/889, loss_train: 6.2344, loss_val: nan, pos_over_neg: 218.18421936035156 lr: 0.00031623\n",
      "Iter: 413/889, loss_train: 6.2117, loss_val: nan, pos_over_neg: 160.6288299560547 lr: 0.00031623\n",
      "Iter: 414/889, loss_train: 6.2068, loss_val: nan, pos_over_neg: 210.94029235839844 lr: 0.00031623\n",
      "Iter: 415/889, loss_train: 6.2429, loss_val: nan, pos_over_neg: 114.8857421875 lr: 0.00031623\n",
      "Iter: 416/889, loss_train: 6.1962, loss_val: nan, pos_over_neg: 140.3353271484375 lr: 0.00031623\n",
      "Iter: 417/889, loss_train: 6.208, loss_val: nan, pos_over_neg: 132.60369873046875 lr: 0.00031623\n",
      "Iter: 733/889, loss_train: 6.1593, loss_val: nan, pos_over_neg: 204.41978454589844 lr: 0.00031623\n",
      "Iter: 734/889, loss_train: 6.1347, loss_val: nan, pos_over_neg: 218.06935119628906 lr: 0.00031623\n",
      "Iter: 735/889, loss_train: 6.1656, loss_val: nan, pos_over_neg: 190.9259033203125 lr: 0.00031623\n",
      "Iter: 736/889, loss_train: 6.1389, loss_val: nan, pos_over_neg: 196.53213500976562 lr: 0.00031623\n",
      "Iter: 737/889, loss_train: 6.1733, loss_val: nan, pos_over_neg: 97.58052062988281 lr: 0.00031623\n",
      "Iter: 738/889, loss_train: 6.1739, loss_val: nan, pos_over_neg: 150.44187927246094 lr: 0.00031623\n",
      "Iter: 739/889, loss_train: 6.1396, loss_val: nan, pos_over_neg: 129.03509521484375 lr: 0.00031623\n",
      "Iter: 740/889, loss_train: 6.1543, loss_val: nan, pos_over_neg: 116.51985168457031 lr: 0.00031623\n",
      "Iter: 741/889, loss_train: 6.1619, loss_val: nan, pos_over_neg: 123.35725402832031 lr: 0.00031623\n",
      "Iter: 742/889, loss_train: 6.1511, loss_val: nan, pos_over_neg: 172.853515625 lr: 0.00031623\n",
      "Iter: 743/889, loss_train: 6.1611, loss_val: nan, pos_over_neg: 215.412353515625 lr: 0.00031623\n",
      "Iter: 744/889, loss_train: 6.1425, loss_val: nan, pos_over_neg: 868.4146728515625 lr: 0.00031623\n",
      "Iter: 745/889, loss_train: 6.1577, loss_val: nan, pos_over_neg: 337.7181396484375 lr: 0.00031623\n",
      "Iter: 746/889, loss_train: 6.1455, loss_val: nan, pos_over_neg: 278.3929748535156 lr: 0.00031623\n",
      "Iter: 747/889, loss_train: 6.1466, loss_val: nan, pos_over_neg: 151.99737548828125 lr: 0.00031623\n",
      "Iter: 748/889, loss_train: 6.1223, loss_val: nan, pos_over_neg: 179.46881103515625 lr: 0.00031623\n",
      "Iter: 749/889, loss_train: 6.142, loss_val: nan, pos_over_neg: 192.07119750976562 lr: 0.00031623\n",
      "Iter: 750/889, loss_train: 6.1535, loss_val: nan, pos_over_neg: 125.91848754882812 lr: 0.00031623\n",
      "Iter: 751/889, loss_train: 6.1566, loss_val: nan, pos_over_neg: 221.91781616210938 lr: 0.00031623\n",
      "Iter: 752/889, loss_train: 6.1493, loss_val: nan, pos_over_neg: 379.0447998046875 lr: 0.00031623\n",
      "Iter: 753/889, loss_train: 6.1632, loss_val: nan, pos_over_neg: 187.5176239013672 lr: 0.00031623\n",
      "Iter: 754/889, loss_train: 6.1511, loss_val: nan, pos_over_neg: 269.3144836425781 lr: 0.00031623\n",
      "Iter: 755/889, loss_train: 6.1917, loss_val: nan, pos_over_neg: 152.37786865234375 lr: 0.00031623\n",
      "Iter: 756/889, loss_train: 6.1717, loss_val: nan, pos_over_neg: 333.84478759765625 lr: 0.00031623\n",
      "Iter: 757/889, loss_train: 6.1594, loss_val: nan, pos_over_neg: 198.13311767578125 lr: 0.00031623\n",
      "Iter: 758/889, loss_train: 6.1807, loss_val: nan, pos_over_neg: 115.93130493164062 lr: 0.00031623\n",
      "Iter: 759/889, loss_train: 6.1749, loss_val: nan, pos_over_neg: 98.72650146484375 lr: 0.00031623\n",
      "Iter: 760/889, loss_train: 6.1442, loss_val: nan, pos_over_neg: 140.17868041992188 lr: 0.00031623\n",
      "Iter: 761/889, loss_train: 6.1359, loss_val: nan, pos_over_neg: 140.62355041503906 lr: 0.00031623\n",
      "Iter: 762/889, loss_train: 6.1597, loss_val: nan, pos_over_neg: 144.64320373535156 lr: 0.00031623\n",
      "Iter: 763/889, loss_train: 6.1464, loss_val: nan, pos_over_neg: 121.6223373413086 lr: 0.00031623\n",
      "Iter: 764/889, loss_train: 6.1291, loss_val: nan, pos_over_neg: 324.91845703125 lr: 0.00031623\n",
      "Iter: 765/889, loss_train: 6.1416, loss_val: nan, pos_over_neg: 393.1282043457031 lr: 0.00031623\n",
      "Iter: 766/889, loss_train: 6.1813, loss_val: nan, pos_over_neg: 287.1904296875 lr: 0.00031623\n",
      "Iter: 767/889, loss_train: 6.164, loss_val: nan, pos_over_neg: 268.4053649902344 lr: 0.00031623\n",
      "Iter: 768/889, loss_train: 6.1282, loss_val: nan, pos_over_neg: 112.1070327758789 lr: 0.00031623\n",
      "Iter: 769/889, loss_train: 6.1354, loss_val: nan, pos_over_neg: 213.88790893554688 lr: 0.00031623\n",
      "Iter: 770/889, loss_train: 6.1374, loss_val: nan, pos_over_neg: 283.4388732910156 lr: 0.00031623\n",
      "Iter: 771/889, loss_train: 6.1476, loss_val: nan, pos_over_neg: 323.943603515625 lr: 0.00031623\n",
      "Iter: 772/889, loss_train: 6.1679, loss_val: nan, pos_over_neg: 162.1112518310547 lr: 0.00031623\n",
      "Iter: 773/889, loss_train: 6.1375, loss_val: nan, pos_over_neg: 257.2510070800781 lr: 0.00031623\n",
      "Iter: 774/889, loss_train: 6.1326, loss_val: nan, pos_over_neg: 195.658935546875 lr: 0.00031623\n",
      "Iter: 775/889, loss_train: 6.137, loss_val: nan, pos_over_neg: 386.847900390625 lr: 0.00031623\n",
      "Iter: 776/889, loss_train: 6.1619, loss_val: nan, pos_over_neg: 255.5209503173828 lr: 0.00031623\n",
      "Iter: 777/889, loss_train: 6.1677, loss_val: nan, pos_over_neg: 174.97540283203125 lr: 0.00031623\n",
      "Iter: 778/889, loss_train: 6.1554, loss_val: nan, pos_over_neg: 224.9944610595703 lr: 0.00031623\n",
      "Iter: 779/889, loss_train: 6.1393, loss_val: nan, pos_over_neg: 292.1340637207031 lr: 0.00031623\n",
      "Iter: 780/889, loss_train: 6.1441, loss_val: nan, pos_over_neg: 605.5888671875 lr: 0.00031623\n",
      "Iter: 781/889, loss_train: 6.1425, loss_val: nan, pos_over_neg: 500.3171691894531 lr: 0.00031623\n",
      "Iter: 782/889, loss_train: 6.1501, loss_val: nan, pos_over_neg: 752.0689086914062 lr: 0.00031623\n",
      "Iter: 783/889, loss_train: 6.1506, loss_val: nan, pos_over_neg: 175.29856872558594 lr: 0.00031623\n",
      "Iter: 784/889, loss_train: 6.1215, loss_val: nan, pos_over_neg: 168.07957458496094 lr: 0.00031623\n",
      "Iter: 785/889, loss_train: 6.1542, loss_val: nan, pos_over_neg: 84.97661590576172 lr: 0.00031623\n",
      "Iter: 786/889, loss_train: 6.144, loss_val: nan, pos_over_neg: 121.5199966430664 lr: 0.00031623\n",
      "Iter: 787/889, loss_train: 6.1454, loss_val: nan, pos_over_neg: 136.61631774902344 lr: 0.00031623\n",
      "Iter: 788/889, loss_train: 6.1661, loss_val: nan, pos_over_neg: 155.08851623535156 lr: 0.00031623\n",
      "Iter: 789/889, loss_train: 6.1567, loss_val: nan, pos_over_neg: 303.5345764160156 lr: 0.00031623\n",
      "Iter: 790/889, loss_train: 6.1764, loss_val: nan, pos_over_neg: 326.8292236328125 lr: 0.00031623\n",
      "Iter: 791/889, loss_train: 6.1672, loss_val: nan, pos_over_neg: 760.0979614257812 lr: 0.00031623\n",
      "Iter: 792/889, loss_train: 6.1688, loss_val: nan, pos_over_neg: 246.97142028808594 lr: 0.00031623\n",
      "Iter: 793/889, loss_train: 6.1613, loss_val: nan, pos_over_neg: 158.08888244628906 lr: 0.00031623\n",
      "Iter: 794/889, loss_train: 6.1479, loss_val: nan, pos_over_neg: 306.0186767578125 lr: 0.00031623\n",
      "Iter: 795/889, loss_train: 6.145, loss_val: nan, pos_over_neg: 293.0496826171875 lr: 0.00031623\n",
      "Iter: 796/889, loss_train: 6.1401, loss_val: nan, pos_over_neg: 147.97222900390625 lr: 0.00031623\n",
      "Iter: 797/889, loss_train: 6.1668, loss_val: nan, pos_over_neg: 126.7036361694336 lr: 0.00031623\n",
      "Iter: 798/889, loss_train: 6.1709, loss_val: nan, pos_over_neg: 384.29345703125 lr: 0.00031623\n",
      "Iter: 799/889, loss_train: 6.124, loss_val: nan, pos_over_neg: 366.7106628417969 lr: 0.00031623\n",
      "Iter: 800/889, loss_train: 6.1238, loss_val: nan, pos_over_neg: 610.8290405273438 lr: 0.00031623\n",
      "Iter: 801/889, loss_train: 6.149, loss_val: nan, pos_over_neg: 150.01513671875 lr: 0.00031623\n",
      "Iter: 802/889, loss_train: 6.1114, loss_val: nan, pos_over_neg: 295.8533935546875 lr: 0.00031623\n",
      "Iter: 803/889, loss_train: 6.1628, loss_val: nan, pos_over_neg: 123.39832305908203 lr: 0.00031623\n",
      "Iter: 804/889, loss_train: 6.1572, loss_val: nan, pos_over_neg: 135.8832244873047 lr: 0.00031623\n",
      "Iter: 805/889, loss_train: 6.127, loss_val: nan, pos_over_neg: 284.8847351074219 lr: 0.00031623\n",
      "Iter: 806/889, loss_train: 6.1398, loss_val: nan, pos_over_neg: 391.2845153808594 lr: 0.00031623\n",
      "Iter: 807/889, loss_train: 6.1578, loss_val: nan, pos_over_neg: 292.1641845703125 lr: 0.00031623\n",
      "Iter: 808/889, loss_train: 6.1417, loss_val: nan, pos_over_neg: 369.4815979003906 lr: 0.00031623\n",
      "Iter: 809/889, loss_train: 6.1417, loss_val: nan, pos_over_neg: 215.68136596679688 lr: 0.00031623\n",
      "Iter: 810/889, loss_train: 6.1437, loss_val: nan, pos_over_neg: 232.7350616455078 lr: 0.00031623\n",
      "Iter: 811/889, loss_train: 6.161, loss_val: nan, pos_over_neg: 82.50899505615234 lr: 0.00031623\n",
      "Iter: 812/889, loss_train: 6.1461, loss_val: nan, pos_over_neg: 186.1138458251953 lr: 0.00031623\n",
      "Iter: 813/889, loss_train: 6.1166, loss_val: nan, pos_over_neg: 263.5754699707031 lr: 0.00031623\n",
      "Iter: 814/889, loss_train: 6.1241, loss_val: nan, pos_over_neg: 305.159423828125 lr: 0.00031623\n",
      "Iter: 815/889, loss_train: 6.1283, loss_val: nan, pos_over_neg: 420.1893615722656 lr: 0.00031623\n",
      "Iter: 816/889, loss_train: 6.1267, loss_val: nan, pos_over_neg: 850.765380859375 lr: 0.00031623\n",
      "Iter: 817/889, loss_train: 6.1463, loss_val: nan, pos_over_neg: 190.48440551757812 lr: 0.00031623\n",
      "Iter: 818/889, loss_train: 6.1407, loss_val: nan, pos_over_neg: 285.7393493652344 lr: 0.00031623\n",
      "Iter: 819/889, loss_train: 6.1294, loss_val: nan, pos_over_neg: 157.20558166503906 lr: 0.00031623\n",
      "Iter: 820/889, loss_train: 6.1676, loss_val: nan, pos_over_neg: 150.235595703125 lr: 0.00031623\n",
      "Iter: 821/889, loss_train: 6.1644, loss_val: nan, pos_over_neg: 127.46195220947266 lr: 0.00031623\n",
      "Iter: 822/889, loss_train: 6.1532, loss_val: nan, pos_over_neg: 151.7852325439453 lr: 0.00031623\n",
      "Iter: 823/889, loss_train: 6.12, loss_val: nan, pos_over_neg: 284.2140197753906 lr: 0.00031623\n",
      "Iter: 824/889, loss_train: 6.1556, loss_val: nan, pos_over_neg: 279.8428649902344 lr: 0.00031623\n",
      "Iter: 825/889, loss_train: 6.1312, loss_val: nan, pos_over_neg: 239.17388916015625 lr: 0.00031623\n",
      "Iter: 826/889, loss_train: 6.1241, loss_val: nan, pos_over_neg: 483.0448303222656 lr: 0.00031623\n",
      "Iter: 827/889, loss_train: 6.1228, loss_val: nan, pos_over_neg: 667.755859375 lr: 0.00031623\n",
      "Iter: 828/889, loss_train: 6.143, loss_val: nan, pos_over_neg: 113.09574890136719 lr: 0.00031623\n",
      "Iter: 829/889, loss_train: 6.1409, loss_val: nan, pos_over_neg: 140.20626831054688 lr: 0.00031623\n",
      "Iter: 830/889, loss_train: 6.1498, loss_val: nan, pos_over_neg: 204.2027587890625 lr: 0.00031623\n",
      "Iter: 831/889, loss_train: 6.1332, loss_val: nan, pos_over_neg: 244.81175231933594 lr: 0.00031623\n",
      "Iter: 832/889, loss_train: 6.1366, loss_val: nan, pos_over_neg: 271.57391357421875 lr: 0.00031623\n",
      "Iter: 833/889, loss_train: 6.1195, loss_val: nan, pos_over_neg: 158.4673614501953 lr: 0.00031623\n",
      "Iter: 834/889, loss_train: 6.1359, loss_val: nan, pos_over_neg: 168.55718994140625 lr: 0.00031623\n",
      "Iter: 835/889, loss_train: 6.1471, loss_val: nan, pos_over_neg: 273.6484375 lr: 0.00031623\n",
      "Iter: 836/889, loss_train: 6.1633, loss_val: nan, pos_over_neg: 315.6307678222656 lr: 0.00031623\n",
      "Iter: 837/889, loss_train: 6.1569, loss_val: nan, pos_over_neg: 329.13189697265625 lr: 0.00031623\n",
      "Iter: 838/889, loss_train: 6.1243, loss_val: nan, pos_over_neg: 407.8020935058594 lr: 0.00031623\n",
      "Iter: 839/889, loss_train: 6.1137, loss_val: nan, pos_over_neg: 409.2728271484375 lr: 0.00031623\n",
      "Iter: 840/889, loss_train: 6.1653, loss_val: nan, pos_over_neg: 182.4689178466797 lr: 0.00031623\n",
      "Iter: 841/889, loss_train: 6.1363, loss_val: nan, pos_over_neg: 227.935546875 lr: 0.00031623\n",
      "Iter: 842/889, loss_train: 6.1408, loss_val: nan, pos_over_neg: 199.03927612304688 lr: 0.00031623\n",
      "Iter: 843/889, loss_train: 6.1533, loss_val: nan, pos_over_neg: 156.0025177001953 lr: 0.00031623\n",
      "Iter: 844/889, loss_train: 6.1324, loss_val: nan, pos_over_neg: 215.31419372558594 lr: 0.00031623\n",
      "Iter: 845/889, loss_train: 6.1326, loss_val: nan, pos_over_neg: 272.3561096191406 lr: 0.00031623\n",
      "Iter: 846/889, loss_train: 6.1408, loss_val: nan, pos_over_neg: 289.0980529785156 lr: 0.00031623\n",
      "Iter: 847/889, loss_train: 6.1364, loss_val: nan, pos_over_neg: 219.96539306640625 lr: 0.00031623\n",
      "Iter: 848/889, loss_train: 6.1491, loss_val: nan, pos_over_neg: 205.1301727294922 lr: 0.00031623\n",
      "Iter: 849/889, loss_train: 6.166, loss_val: nan, pos_over_neg: 82.67752075195312 lr: 0.00031623\n",
      "Iter: 850/889, loss_train: 6.1107, loss_val: nan, pos_over_neg: 321.5564270019531 lr: 0.00031623\n",
      "Iter: 851/889, loss_train: 6.1664, loss_val: nan, pos_over_neg: 523.5913696289062 lr: 0.00031623\n",
      "Iter: 852/889, loss_train: 6.1506, loss_val: nan, pos_over_neg: 552.6964111328125 lr: 0.00031623\n",
      "Iter: 853/889, loss_train: 6.1366, loss_val: nan, pos_over_neg: 390.0271301269531 lr: 0.00031623\n",
      "Iter: 854/889, loss_train: 6.1177, loss_val: nan, pos_over_neg: 216.181884765625 lr: 0.00031623\n",
      "Iter: 855/889, loss_train: 6.1316, loss_val: nan, pos_over_neg: 137.82595825195312 lr: 0.00031623\n",
      "Iter: 856/889, loss_train: 6.154, loss_val: nan, pos_over_neg: 153.72193908691406 lr: 0.00031623\n",
      "Iter: 857/889, loss_train: 6.131, loss_val: nan, pos_over_neg: 254.6610870361328 lr: 0.00031623\n",
      "Iter: 858/889, loss_train: 6.1467, loss_val: nan, pos_over_neg: 144.31077575683594 lr: 0.00031623\n",
      "Iter: 859/889, loss_train: 6.1362, loss_val: nan, pos_over_neg: 143.2633514404297 lr: 0.00031623\n",
      "Iter: 860/889, loss_train: 6.1303, loss_val: nan, pos_over_neg: 249.47325134277344 lr: 0.00031623\n",
      "Iter: 861/889, loss_train: 6.1293, loss_val: nan, pos_over_neg: 458.9690856933594 lr: 0.00031623\n",
      "Iter: 862/889, loss_train: 6.1351, loss_val: nan, pos_over_neg: 652.1846923828125 lr: 0.00031623\n",
      "Iter: 863/889, loss_train: 6.1169, loss_val: nan, pos_over_neg: 201.79095458984375 lr: 0.00031623\n",
      "Iter: 864/889, loss_train: 6.1567, loss_val: nan, pos_over_neg: 218.99928283691406 lr: 0.00031623\n",
      "Iter: 865/889, loss_train: 6.1453, loss_val: nan, pos_over_neg: 115.02921295166016 lr: 0.00031623\n",
      "Iter: 866/889, loss_train: 6.1377, loss_val: nan, pos_over_neg: 145.21295166015625 lr: 0.00031623\n",
      "Iter: 867/889, loss_train: 6.1376, loss_val: nan, pos_over_neg: 154.32386779785156 lr: 0.00031623\n",
      "Iter: 868/889, loss_train: 6.1485, loss_val: nan, pos_over_neg: 179.40467834472656 lr: 0.00031623\n",
      "Iter: 869/889, loss_train: 6.1284, loss_val: nan, pos_over_neg: 506.1820068359375 lr: 0.00031623\n",
      "Iter: 870/889, loss_train: 6.1287, loss_val: nan, pos_over_neg: 406.298583984375 lr: 0.00031623\n",
      "Iter: 871/889, loss_train: 6.1271, loss_val: nan, pos_over_neg: 385.3580627441406 lr: 0.00031623\n",
      "Iter: 872/889, loss_train: 6.1466, loss_val: nan, pos_over_neg: 158.00186157226562 lr: 0.00031623\n",
      "Iter: 873/889, loss_train: 6.1371, loss_val: nan, pos_over_neg: 174.73260498046875 lr: 0.00031623\n",
      "Iter: 874/889, loss_train: 6.1292, loss_val: nan, pos_over_neg: 105.36237335205078 lr: 0.00031623\n",
      "Iter: 875/889, loss_train: 6.1322, loss_val: nan, pos_over_neg: 152.06494140625 lr: 0.00031623\n",
      "Iter: 876/889, loss_train: 6.1353, loss_val: nan, pos_over_neg: 251.9761505126953 lr: 0.00031623\n",
      "Iter: 877/889, loss_train: 6.1469, loss_val: nan, pos_over_neg: 115.425048828125 lr: 0.00031623\n",
      "Iter: 878/889, loss_train: 6.1484, loss_val: nan, pos_over_neg: 301.39935302734375 lr: 0.00031623\n",
      "Iter: 879/889, loss_train: 6.1158, loss_val: nan, pos_over_neg: 206.829345703125 lr: 0.00031623\n",
      "Iter: 880/889, loss_train: 6.1272, loss_val: nan, pos_over_neg: 271.7224426269531 lr: 0.00031623\n",
      "Iter: 881/889, loss_train: 6.13, loss_val: nan, pos_over_neg: 243.86849975585938 lr: 0.00031623\n",
      "Iter: 882/889, loss_train: 6.172, loss_val: nan, pos_over_neg: 224.06919860839844 lr: 0.00031623\n",
      "Iter: 883/889, loss_train: 6.1194, loss_val: nan, pos_over_neg: 219.80288696289062 lr: 0.00031623\n",
      "Iter: 884/889, loss_train: 6.1416, loss_val: nan, pos_over_neg: 370.2514953613281 lr: 0.00031623\n",
      "Iter: 885/889, loss_train: 6.1522, loss_val: nan, pos_over_neg: 251.46371459960938 lr: 0.00031623\n",
      "Iter: 886/889, loss_train: 6.1342, loss_val: nan, pos_over_neg: 180.2396697998047 lr: 0.00031623\n",
      "Iter: 887/889, loss_train: 6.1277, loss_val: nan, pos_over_neg: 311.30059814453125 lr: 0.00031623\n",
      "Iter: 888/889, loss_train: 6.0976, loss_val: nan, pos_over_neg: 503.84051513671875 lr: 0.00031623\n"
     ]
    },
    {
     "name": "stderr",
     "output_type": "stream",
     "text": [
      "  0%|          | 1/300000 [25:07<125605:37:54, 1507.27s/it]"
     ]
    },
    {
     "name": "stdout",
     "output_type": "stream",
     "text": [
      "epoch: 1\n",
      "Iter: 0/889, loss_train: 6.1261, loss_val: nan, pos_over_neg: 468.6467590332031 lr: 0.00031623\n",
      "Iter: 1/889, loss_train: 6.1428, loss_val: nan, pos_over_neg: 205.84466552734375 lr: 0.00031623\n",
      "Iter: 2/889, loss_train: 6.1406, loss_val: nan, pos_over_neg: 184.80616760253906 lr: 0.00031623\n",
      "Iter: 3/889, loss_train: 6.1351, loss_val: nan, pos_over_neg: 258.98663330078125 lr: 0.00031623\n",
      "Iter: 4/889, loss_train: 6.1486, loss_val: nan, pos_over_neg: 226.6040496826172 lr: 0.00031623\n",
      "Iter: 5/889, loss_train: 6.1299, loss_val: nan, pos_over_neg: 180.591552734375 lr: 0.00031623\n",
      "Iter: 6/889, loss_train: 6.1179, loss_val: nan, pos_over_neg: 272.8702697753906 lr: 0.00031623\n",
      "Iter: 7/889, loss_train: 6.1367, loss_val: nan, pos_over_neg: 189.2924041748047 lr: 0.00031623\n",
      "Iter: 8/889, loss_train: 6.1372, loss_val: nan, pos_over_neg: 221.53538513183594 lr: 0.00031623\n",
      "Iter: 9/889, loss_train: 6.118, loss_val: nan, pos_over_neg: 502.94061279296875 lr: 0.00031623\n",
      "Iter: 10/889, loss_train: 6.1106, loss_val: nan, pos_over_neg: 893.3766479492188 lr: 0.00031623\n",
      "Iter: 11/889, loss_train: 6.1519, loss_val: nan, pos_over_neg: 137.53233337402344 lr: 0.00031623\n",
      "Iter: 12/889, loss_train: 6.1396, loss_val: nan, pos_over_neg: 189.08990478515625 lr: 0.00031623\n",
      "Iter: 13/889, loss_train: 6.1494, loss_val: nan, pos_over_neg: 173.57740783691406 lr: 0.00031623\n",
      "Iter: 14/889, loss_train: 6.1355, loss_val: nan, pos_over_neg: 145.6980438232422 lr: 0.00031623\n",
      "Iter: 15/889, loss_train: 6.1459, loss_val: nan, pos_over_neg: 125.75981140136719 lr: 0.00031623\n",
      "Iter: 16/889, loss_train: 6.1335, loss_val: nan, pos_over_neg: 211.6635284423828 lr: 0.00031623\n",
      "Iter: 17/889, loss_train: 6.1713, loss_val: nan, pos_over_neg: 171.92098999023438 lr: 0.00031623\n",
      "Iter: 18/889, loss_train: 6.1295, loss_val: nan, pos_over_neg: 304.7825012207031 lr: 0.00031623\n",
      "Iter: 19/889, loss_train: 6.1281, loss_val: nan, pos_over_neg: 1555.762939453125 lr: 0.00031623\n",
      "Iter: 20/889, loss_train: 6.1324, loss_val: nan, pos_over_neg: 318.7332763671875 lr: 0.00031623\n",
      "Iter: 21/889, loss_train: 6.1437, loss_val: nan, pos_over_neg: 430.68951416015625 lr: 0.00031623\n",
      "Iter: 22/889, loss_train: 6.1341, loss_val: nan, pos_over_neg: 213.88128662109375 lr: 0.00031623\n",
      "Iter: 23/889, loss_train: 6.112, loss_val: nan, pos_over_neg: 370.8892822265625 lr: 0.00031623\n",
      "Iter: 24/889, loss_train: 6.142, loss_val: nan, pos_over_neg: 167.01219177246094 lr: 0.00031623\n",
      "Iter: 25/889, loss_train: 6.1264, loss_val: nan, pos_over_neg: 330.2212829589844 lr: 0.00031623\n",
      "Iter: 26/889, loss_train: 6.1366, loss_val: nan, pos_over_neg: 207.4729766845703 lr: 0.00031623\n",
      "Iter: 27/889, loss_train: 6.1583, loss_val: nan, pos_over_neg: 107.52830505371094 lr: 0.00031623\n",
      "Iter: 28/889, loss_train: 6.1187, loss_val: nan, pos_over_neg: 194.54052734375 lr: 0.00031623\n",
      "Iter: 29/889, loss_train: 6.1264, loss_val: nan, pos_over_neg: 221.98727416992188 lr: 0.00031623\n",
      "Iter: 30/889, loss_train: 6.1328, loss_val: nan, pos_over_neg: 709.8646850585938 lr: 0.00031623\n",
      "Iter: 31/889, loss_train: 6.1056, loss_val: nan, pos_over_neg: 1428.62060546875 lr: 0.00031623\n",
      "Iter: 32/889, loss_train: 6.1565, loss_val: nan, pos_over_neg: 195.6146240234375 lr: 0.00031623\n",
      "Iter: 33/889, loss_train: 6.1216, loss_val: nan, pos_over_neg: 170.6492919921875 lr: 0.00031623\n",
      "Iter: 34/889, loss_train: 6.1478, loss_val: nan, pos_over_neg: 86.96057891845703 lr: 0.00031623\n",
      "Iter: 35/889, loss_train: 6.1266, loss_val: nan, pos_over_neg: 180.00479125976562 lr: 0.00031623\n",
      "Iter: 36/889, loss_train: 6.1062, loss_val: nan, pos_over_neg: 252.57508850097656 lr: 0.00031623\n",
      "Iter: 37/889, loss_train: 6.1316, loss_val: nan, pos_over_neg: 119.27704620361328 lr: 0.00031623\n",
      "Iter: 38/889, loss_train: 6.1109, loss_val: nan, pos_over_neg: 347.89996337890625 lr: 0.00031623\n",
      "Iter: 39/889, loss_train: 6.1507, loss_val: nan, pos_over_neg: 199.1856231689453 lr: 0.00031623\n",
      "Iter: 40/889, loss_train: 6.1082, loss_val: nan, pos_over_neg: 393.5259704589844 lr: 0.00031623\n",
      "Iter: 41/889, loss_train: 6.1064, loss_val: nan, pos_over_neg: 224.25592041015625 lr: 0.00031623\n",
      "Iter: 42/889, loss_train: 6.1305, loss_val: nan, pos_over_neg: 349.3768615722656 lr: 0.00031623\n",
      "Iter: 43/889, loss_train: 6.1296, loss_val: nan, pos_over_neg: 225.50796508789062 lr: 0.00031623\n",
      "Iter: 44/889, loss_train: 6.1137, loss_val: nan, pos_over_neg: 477.2253112792969 lr: 0.00031623\n",
      "Iter: 45/889, loss_train: 6.1228, loss_val: nan, pos_over_neg: 530.34765625 lr: 0.00031623\n",
      "Iter: 46/889, loss_train: 6.1152, loss_val: nan, pos_over_neg: 181.9969024658203 lr: 0.00031623\n",
      "Iter: 47/889, loss_train: 6.1696, loss_val: nan, pos_over_neg: 174.52989196777344 lr: 0.00031623\n",
      "Iter: 48/889, loss_train: 6.0967, loss_val: nan, pos_over_neg: 251.47410583496094 lr: 0.00031623\n",
      "Iter: 49/889, loss_train: 6.1467, loss_val: nan, pos_over_neg: 133.72447204589844 lr: 0.00031623\n",
      "Iter: 50/889, loss_train: 6.115, loss_val: nan, pos_over_neg: 261.689453125 lr: 0.00031623\n",
      "Iter: 51/889, loss_train: 6.1552, loss_val: nan, pos_over_neg: 222.23202514648438 lr: 0.00031623\n",
      "Iter: 52/889, loss_train: 6.1512, loss_val: nan, pos_over_neg: 167.93702697753906 lr: 0.00031623\n",
      "Iter: 53/889, loss_train: 6.1372, loss_val: nan, pos_over_neg: 275.10455322265625 lr: 0.00031623\n",
      "Iter: 54/889, loss_train: 6.1126, loss_val: nan, pos_over_neg: 177.09423828125 lr: 0.00031623\n",
      "Iter: 55/889, loss_train: 6.1089, loss_val: nan, pos_over_neg: 296.9177551269531 lr: 0.00031623\n",
      "Iter: 56/889, loss_train: 6.1475, loss_val: nan, pos_over_neg: 553.549560546875 lr: 0.00031623\n",
      "Iter: 57/889, loss_train: 6.1595, loss_val: nan, pos_over_neg: 935.5009765625 lr: 0.00031623\n",
      "Iter: 58/889, loss_train: 6.1355, loss_val: nan, pos_over_neg: 855.0281372070312 lr: 0.00031623\n",
      "Iter: 59/889, loss_train: 6.1122, loss_val: nan, pos_over_neg: 2072.220703125 lr: 0.00031623\n",
      "Iter: 60/889, loss_train: 6.1337, loss_val: nan, pos_over_neg: 189.0123291015625 lr: 0.00031623\n",
      "Iter: 61/889, loss_train: 6.1095, loss_val: nan, pos_over_neg: 207.66900634765625 lr: 0.00031623\n",
      "Iter: 62/889, loss_train: 6.1451, loss_val: nan, pos_over_neg: 112.08944702148438 lr: 0.00031623\n",
      "Iter: 63/889, loss_train: 6.1478, loss_val: nan, pos_over_neg: 161.7019500732422 lr: 0.00031623\n",
      "Iter: 64/889, loss_train: 6.14, loss_val: nan, pos_over_neg: 176.88943481445312 lr: 0.00031623\n",
      "Iter: 65/889, loss_train: 6.123, loss_val: nan, pos_over_neg: 238.85232543945312 lr: 0.00031623\n",
      "Iter: 66/889, loss_train: 6.1078, loss_val: nan, pos_over_neg: 337.2441711425781 lr: 0.00031623\n",
      "Iter: 67/889, loss_train: 6.1326, loss_val: nan, pos_over_neg: 311.6933898925781 lr: 0.00031623\n",
      "Iter: 68/889, loss_train: 6.1249, loss_val: nan, pos_over_neg: 259.74322509765625 lr: 0.00031623\n",
      "Iter: 69/889, loss_train: 6.1314, loss_val: nan, pos_over_neg: 370.58380126953125 lr: 0.00031623\n",
      "Iter: 70/889, loss_train: 6.1351, loss_val: nan, pos_over_neg: 210.63023376464844 lr: 0.00031623\n",
      "Iter: 71/889, loss_train: 6.1455, loss_val: nan, pos_over_neg: 353.4706726074219 lr: 0.00031623\n",
      "Iter: 72/889, loss_train: 6.117, loss_val: nan, pos_over_neg: 295.1086730957031 lr: 0.00031623\n",
      "Iter: 73/889, loss_train: 6.136, loss_val: nan, pos_over_neg: 106.30455017089844 lr: 0.00031623\n",
      "Iter: 74/889, loss_train: 6.0987, loss_val: nan, pos_over_neg: 121.423583984375 lr: 0.00031623\n",
      "Iter: 75/889, loss_train: 6.1098, loss_val: nan, pos_over_neg: 180.4247283935547 lr: 0.00031623\n",
      "Iter: 76/889, loss_train: 6.1316, loss_val: nan, pos_over_neg: 238.47264099121094 lr: 0.00031623\n",
      "Iter: 77/889, loss_train: 6.1218, loss_val: nan, pos_over_neg: 268.8430480957031 lr: 0.00031623\n",
      "Iter: 78/889, loss_train: 6.1339, loss_val: nan, pos_over_neg: 315.7308044433594 lr: 0.00031623\n",
      "Iter: 79/889, loss_train: 6.1203, loss_val: nan, pos_over_neg: 329.86572265625 lr: 0.00031623\n",
      "Iter: 80/889, loss_train: 6.1188, loss_val: nan, pos_over_neg: 193.48382568359375 lr: 0.00031623\n",
      "Iter: 81/889, loss_train: 6.1147, loss_val: nan, pos_over_neg: 247.07720947265625 lr: 0.00031623\n",
      "Iter: 82/889, loss_train: 6.1369, loss_val: nan, pos_over_neg: 161.12237548828125 lr: 0.00031623\n",
      "Iter: 83/889, loss_train: 6.1195, loss_val: nan, pos_over_neg: 1037.6593017578125 lr: 0.00031623\n",
      "Iter: 84/889, loss_train: 6.1245, loss_val: nan, pos_over_neg: 661.1854858398438 lr: 0.00031623\n",
      "Iter: 85/889, loss_train: 6.1267, loss_val: nan, pos_over_neg: 280.6983337402344 lr: 0.00031623\n",
      "Iter: 86/889, loss_train: 6.1462, loss_val: nan, pos_over_neg: 266.21881103515625 lr: 0.00031623\n",
      "Iter: 87/889, loss_train: 6.1291, loss_val: nan, pos_over_neg: 416.400390625 lr: 0.00031623\n",
      "Iter: 88/889, loss_train: 6.1535, loss_val: nan, pos_over_neg: 184.90890502929688 lr: 0.00031623\n",
      "Iter: 89/889, loss_train: 6.1428, loss_val: nan, pos_over_neg: 186.5926513671875 lr: 0.00031623\n",
      "Iter: 90/889, loss_train: 6.1371, loss_val: nan, pos_over_neg: 249.63372802734375 lr: 0.00031623\n",
      "Iter: 91/889, loss_train: 6.1109, loss_val: nan, pos_over_neg: 169.7618408203125 lr: 0.00031623\n",
      "Iter: 92/889, loss_train: 6.1387, loss_val: nan, pos_over_neg: 139.26986694335938 lr: 0.00031623\n",
      "Iter: 93/889, loss_train: 6.1267, loss_val: nan, pos_over_neg: 164.99481201171875 lr: 0.00031623\n",
      "Iter: 94/889, loss_train: 6.1516, loss_val: nan, pos_over_neg: 106.44784545898438 lr: 0.00031623\n",
      "Iter: 95/889, loss_train: 6.1122, loss_val: nan, pos_over_neg: 309.4439392089844 lr: 0.00031623\n",
      "Iter: 96/889, loss_train: 6.1486, loss_val: nan, pos_over_neg: 218.1175994873047 lr: 0.00031623\n",
      "Iter: 97/889, loss_train: 6.1064, loss_val: nan, pos_over_neg: 1037.9696044921875 lr: 0.00031623\n",
      "Iter: 98/889, loss_train: 6.127, loss_val: nan, pos_over_neg: 735.89794921875 lr: 0.00031623\n",
      "Iter: 99/889, loss_train: 6.1256, loss_val: nan, pos_over_neg: 1583.284912109375 lr: 0.00031623\n",
      "Iter: 100/889, loss_train: 6.1238, loss_val: nan, pos_over_neg: -11014.7607421875 lr: 0.00031623\n",
      "Iter: 101/889, loss_train: 6.1238, loss_val: nan, pos_over_neg: 289.19866943359375 lr: 0.00031623\n",
      "Iter: 102/889, loss_train: 6.119, loss_val: nan, pos_over_neg: 229.2917938232422 lr: 0.00031623\n",
      "Iter: 103/889, loss_train: 6.112, loss_val: nan, pos_over_neg: 148.77671813964844 lr: 0.00031623\n",
      "Iter: 104/889, loss_train: 6.1073, loss_val: nan, pos_over_neg: 257.71527099609375 lr: 0.00031623\n",
      "Iter: 105/889, loss_train: 6.1113, loss_val: nan, pos_over_neg: 205.02088928222656 lr: 0.00031623\n",
      "Iter: 106/889, loss_train: 6.1286, loss_val: nan, pos_over_neg: 159.56427001953125 lr: 0.00031623\n",
      "Iter: 107/889, loss_train: 6.138, loss_val: nan, pos_over_neg: 391.3924255371094 lr: 0.00031623\n",
      "Iter: 108/889, loss_train: 6.1168, loss_val: nan, pos_over_neg: 520.2559814453125 lr: 0.00031623\n",
      "Iter: 109/889, loss_train: 6.1222, loss_val: nan, pos_over_neg: 289.6524963378906 lr: 0.00031623\n",
      "Iter: 110/889, loss_train: 6.1223, loss_val: nan, pos_over_neg: 371.9742126464844 lr: 0.00031623\n",
      "Iter: 111/889, loss_train: 6.1408, loss_val: nan, pos_over_neg: 210.4997100830078 lr: 0.00031623\n",
      "Iter: 112/889, loss_train: 6.1133, loss_val: nan, pos_over_neg: 257.6776123046875 lr: 0.00031623\n",
      "Iter: 113/889, loss_train: 6.1184, loss_val: nan, pos_over_neg: 286.04083251953125 lr: 0.00031623\n",
      "Iter: 114/889, loss_train: 6.1439, loss_val: nan, pos_over_neg: 141.38827514648438 lr: 0.00031623\n",
      "Iter: 115/889, loss_train: 6.118, loss_val: nan, pos_over_neg: 249.54251098632812 lr: 0.00031623\n",
      "Iter: 116/889, loss_train: 6.1238, loss_val: nan, pos_over_neg: 290.9025573730469 lr: 0.00031623\n",
      "Iter: 117/889, loss_train: 6.1109, loss_val: nan, pos_over_neg: 421.67669677734375 lr: 0.00031623\n",
      "Iter: 118/889, loss_train: 6.1113, loss_val: nan, pos_over_neg: 448.4386291503906 lr: 0.00031623\n",
      "Iter: 119/889, loss_train: 6.1153, loss_val: nan, pos_over_neg: 168.1981658935547 lr: 0.00031623\n",
      "Iter: 120/889, loss_train: 6.1475, loss_val: nan, pos_over_neg: 169.41709899902344 lr: 0.00031623\n",
      "Iter: 121/889, loss_train: 6.1575, loss_val: nan, pos_over_neg: 136.03273010253906 lr: 0.00031623\n",
      "Iter: 122/889, loss_train: 6.1131, loss_val: nan, pos_over_neg: 134.026611328125 lr: 0.00031623\n",
      "Iter: 123/889, loss_train: 6.1193, loss_val: nan, pos_over_neg: 228.0834197998047 lr: 0.00031623\n",
      "Iter: 124/889, loss_train: 6.138, loss_val: nan, pos_over_neg: 183.4652099609375 lr: 0.00031623\n",
      "Iter: 125/889, loss_train: 6.1282, loss_val: nan, pos_over_neg: 369.7371520996094 lr: 0.00031623\n",
      "Iter: 126/889, loss_train: 6.1375, loss_val: nan, pos_over_neg: 935.4081420898438 lr: 0.00031623\n",
      "Iter: 127/889, loss_train: 6.126, loss_val: nan, pos_over_neg: 647.7741088867188 lr: 0.00031623\n",
      "Iter: 128/889, loss_train: 6.1336, loss_val: nan, pos_over_neg: 292.91900634765625 lr: 0.00031623\n",
      "Iter: 129/889, loss_train: 6.1428, loss_val: nan, pos_over_neg: 198.16775512695312 lr: 0.00031623\n",
      "Iter: 130/889, loss_train: 6.114, loss_val: nan, pos_over_neg: 206.1315460205078 lr: 0.00031623\n",
      "Iter: 131/889, loss_train: 6.1135, loss_val: nan, pos_over_neg: 322.7923583984375 lr: 0.00031623\n",
      "Iter: 132/889, loss_train: 6.1451, loss_val: nan, pos_over_neg: 166.02175903320312 lr: 0.00031623\n",
      "Iter: 133/889, loss_train: 6.1069, loss_val: nan, pos_over_neg: 363.0505065917969 lr: 0.00031623\n",
      "Iter: 134/889, loss_train: 6.1318, loss_val: nan, pos_over_neg: 145.6576690673828 lr: 0.00031623\n",
      "Iter: 135/889, loss_train: 6.1281, loss_val: nan, pos_over_neg: 246.43450927734375 lr: 0.00031623\n",
      "Iter: 136/889, loss_train: 6.1227, loss_val: nan, pos_over_neg: 183.96080017089844 lr: 0.00031623\n",
      "Iter: 137/889, loss_train: 6.0983, loss_val: nan, pos_over_neg: 489.2132873535156 lr: 0.00031623\n",
      "Iter: 138/889, loss_train: 6.1338, loss_val: nan, pos_over_neg: 373.7887878417969 lr: 0.00031623\n",
      "Iter: 139/889, loss_train: 6.1242, loss_val: nan, pos_over_neg: 220.00521850585938 lr: 0.00031623\n",
      "Iter: 140/889, loss_train: 6.105, loss_val: nan, pos_over_neg: 273.2413635253906 lr: 0.00031623\n",
      "Iter: 141/889, loss_train: 6.1506, loss_val: nan, pos_over_neg: 351.25238037109375 lr: 0.00031623\n",
      "Iter: 142/889, loss_train: 6.1195, loss_val: nan, pos_over_neg: 304.229248046875 lr: 0.00031623\n",
      "Iter: 143/889, loss_train: 6.1036, loss_val: nan, pos_over_neg: 461.0753173828125 lr: 0.00031623\n",
      "Iter: 144/889, loss_train: 6.1144, loss_val: nan, pos_over_neg: 186.90760803222656 lr: 0.00031623\n",
      "Iter: 145/889, loss_train: 6.1311, loss_val: nan, pos_over_neg: 137.91184997558594 lr: 0.00031623\n",
      "Iter: 146/889, loss_train: 6.1048, loss_val: nan, pos_over_neg: 141.27435302734375 lr: 0.00031623\n",
      "Iter: 147/889, loss_train: 6.1297, loss_val: nan, pos_over_neg: 195.5363311767578 lr: 0.00031623\n",
      "Iter: 148/889, loss_train: 6.1262, loss_val: nan, pos_over_neg: 253.14520263671875 lr: 0.00031623\n",
      "Iter: 149/889, loss_train: 6.0967, loss_val: nan, pos_over_neg: 340.05963134765625 lr: 0.00031623\n",
      "Iter: 150/889, loss_train: 6.1527, loss_val: nan, pos_over_neg: 246.83509826660156 lr: 0.00031623\n",
      "Iter: 151/889, loss_train: 6.1186, loss_val: nan, pos_over_neg: 1688.560791015625 lr: 0.00031623\n",
      "Iter: 152/889, loss_train: 6.1354, loss_val: nan, pos_over_neg: 658.2118530273438 lr: 0.00031623\n",
      "Iter: 153/889, loss_train: 6.0926, loss_val: nan, pos_over_neg: 418.02117919921875 lr: 0.00031623\n",
      "Iter: 154/889, loss_train: 6.091, loss_val: nan, pos_over_neg: 192.05860900878906 lr: 0.00031623\n",
      "Iter: 155/889, loss_train: 6.1212, loss_val: nan, pos_over_neg: 193.5440673828125 lr: 0.00031623\n",
      "Iter: 156/889, loss_train: 6.1139, loss_val: nan, pos_over_neg: 172.23675537109375 lr: 0.00031623\n",
      "Iter: 157/889, loss_train: 6.1034, loss_val: nan, pos_over_neg: 240.7298583984375 lr: 0.00031623\n",
      "Iter: 158/889, loss_train: 6.0991, loss_val: nan, pos_over_neg: 179.66787719726562 lr: 0.00031623\n",
      "Iter: 159/889, loss_train: 6.1492, loss_val: nan, pos_over_neg: 211.03062438964844 lr: 0.00031623\n",
      "Iter: 160/889, loss_train: 6.1146, loss_val: nan, pos_over_neg: 325.943603515625 lr: 0.00031623\n",
      "Iter: 161/889, loss_train: 6.142, loss_val: nan, pos_over_neg: 138.56903076171875 lr: 0.00031623\n",
      "Iter: 162/889, loss_train: 6.1076, loss_val: nan, pos_over_neg: 578.5450439453125 lr: 0.00031623\n",
      "Iter: 163/889, loss_train: 6.1082, loss_val: nan, pos_over_neg: 220.64053344726562 lr: 0.00031623\n",
      "Iter: 164/889, loss_train: 6.1107, loss_val: nan, pos_over_neg: 179.95489501953125 lr: 0.00031623\n",
      "Iter: 165/889, loss_train: 6.1043, loss_val: nan, pos_over_neg: 134.0130615234375 lr: 0.00031623\n",
      "Iter: 166/889, loss_train: 6.1288, loss_val: nan, pos_over_neg: 163.65931701660156 lr: 0.00031623\n",
      "Iter: 167/889, loss_train: 6.0871, loss_val: nan, pos_over_neg: 373.5302734375 lr: 0.00031623\n",
      "Iter: 168/889, loss_train: 6.1475, loss_val: nan, pos_over_neg: 259.51336669921875 lr: 0.00031623\n",
      "Iter: 169/889, loss_train: 6.1479, loss_val: nan, pos_over_neg: 465.31640625 lr: 0.00031623\n",
      "Iter: 170/889, loss_train: 6.0994, loss_val: nan, pos_over_neg: 4916.8505859375 lr: 0.00031623\n",
      "Iter: 171/889, loss_train: 6.1028, loss_val: nan, pos_over_neg: 1055.1724853515625 lr: 0.00031623\n",
      "Iter: 172/889, loss_train: 6.1098, loss_val: nan, pos_over_neg: 919.6123046875 lr: 0.00031623\n",
      "Iter: 173/889, loss_train: 6.1399, loss_val: nan, pos_over_neg: 157.6157989501953 lr: 0.00031623\n",
      "Iter: 174/889, loss_train: 6.1292, loss_val: nan, pos_over_neg: 124.28362274169922 lr: 0.00031623\n",
      "Iter: 175/889, loss_train: 6.1206, loss_val: nan, pos_over_neg: 127.39781951904297 lr: 0.00031623\n",
      "Iter: 176/889, loss_train: 6.1257, loss_val: nan, pos_over_neg: 85.977783203125 lr: 0.00031623\n",
      "Iter: 177/889, loss_train: 6.1266, loss_val: nan, pos_over_neg: 173.54127502441406 lr: 0.00031623\n",
      "Iter: 178/889, loss_train: 6.1084, loss_val: nan, pos_over_neg: 1017.635498046875 lr: 0.00031623\n",
      "Iter: 179/889, loss_train: 6.1296, loss_val: nan, pos_over_neg: 1161.5089111328125 lr: 0.00031623\n",
      "Iter: 180/889, loss_train: 6.096, loss_val: nan, pos_over_neg: 599.3042602539062 lr: 0.00031623\n",
      "Iter: 181/889, loss_train: 6.1171, loss_val: nan, pos_over_neg: 267.7177734375 lr: 0.00031623\n",
      "Iter: 182/889, loss_train: 6.0984, loss_val: nan, pos_over_neg: 574.8519287109375 lr: 0.00031623\n",
      "Iter: 183/889, loss_train: 6.1146, loss_val: nan, pos_over_neg: 127.02928924560547 lr: 0.00031623\n",
      "Iter: 184/889, loss_train: 6.1027, loss_val: nan, pos_over_neg: 150.63038635253906 lr: 0.00031623\n",
      "Iter: 185/889, loss_train: 6.1067, loss_val: nan, pos_over_neg: 201.47811889648438 lr: 0.00031623\n",
      "Iter: 186/889, loss_train: 6.1091, loss_val: nan, pos_over_neg: 204.98837280273438 lr: 0.00031623\n",
      "Iter: 187/889, loss_train: 6.1313, loss_val: nan, pos_over_neg: 195.3580780029297 lr: 0.00031623\n",
      "Iter: 188/889, loss_train: 6.1238, loss_val: nan, pos_over_neg: 245.97119140625 lr: 0.00031623\n",
      "Iter: 189/889, loss_train: 6.1131, loss_val: nan, pos_over_neg: 689.4739990234375 lr: 0.00031623\n",
      "Iter: 190/889, loss_train: 6.1405, loss_val: nan, pos_over_neg: 583.2783203125 lr: 0.00031623\n",
      "Iter: 191/889, loss_train: 6.11, loss_val: nan, pos_over_neg: 546.271484375 lr: 0.00031623\n",
      "Iter: 192/889, loss_train: 6.1248, loss_val: nan, pos_over_neg: 289.8456115722656 lr: 0.00031623\n",
      "Iter: 193/889, loss_train: 6.1065, loss_val: nan, pos_over_neg: 264.3633728027344 lr: 0.00031623\n",
      "Iter: 194/889, loss_train: 6.1293, loss_val: nan, pos_over_neg: 100.8974838256836 lr: 0.00031623\n",
      "Iter: 195/889, loss_train: 6.1172, loss_val: nan, pos_over_neg: 162.6091766357422 lr: 0.00031623\n",
      "Iter: 196/889, loss_train: 6.0988, loss_val: nan, pos_over_neg: 255.47500610351562 lr: 0.00031623\n",
      "Iter: 197/889, loss_train: 6.1048, loss_val: nan, pos_over_neg: 215.82847595214844 lr: 0.00031623\n",
      "Iter: 198/889, loss_train: 6.1018, loss_val: nan, pos_over_neg: 502.4090881347656 lr: 0.00031623\n",
      "Iter: 199/889, loss_train: 6.105, loss_val: nan, pos_over_neg: 773.1256713867188 lr: 0.00031623\n",
      "Iter: 200/889, loss_train: 6.1477, loss_val: nan, pos_over_neg: 308.1388854980469 lr: 0.00031623\n",
      "Iter: 201/889, loss_train: 6.1152, loss_val: nan, pos_over_neg: 571.9494018554688 lr: 0.00031623\n",
      "Iter: 202/889, loss_train: 6.0875, loss_val: nan, pos_over_neg: 290.1124267578125 lr: 0.00031623\n",
      "Iter: 203/889, loss_train: 6.109, loss_val: nan, pos_over_neg: 204.5406036376953 lr: 0.00031623\n",
      "Iter: 204/889, loss_train: 6.1142, loss_val: nan, pos_over_neg: 211.7197265625 lr: 0.00031623\n",
      "Iter: 205/889, loss_train: 6.126, loss_val: nan, pos_over_neg: 123.22722625732422 lr: 0.00031623\n",
      "Iter: 206/889, loss_train: 6.1132, loss_val: nan, pos_over_neg: 153.133544921875 lr: 0.00031623\n",
      "Iter: 207/889, loss_train: 6.1231, loss_val: nan, pos_over_neg: 159.55224609375 lr: 0.00031623\n",
      "Iter: 208/889, loss_train: 6.1156, loss_val: nan, pos_over_neg: 345.34771728515625 lr: 0.00031623\n",
      "Iter: 209/889, loss_train: 6.1045, loss_val: nan, pos_over_neg: 347.8563232421875 lr: 0.00031623\n",
      "Iter: 210/889, loss_train: 6.0992, loss_val: nan, pos_over_neg: 1029.6041259765625 lr: 0.00031623\n",
      "Iter: 211/889, loss_train: 6.1088, loss_val: nan, pos_over_neg: -3471.232666015625 lr: 0.00031623\n",
      "Iter: 212/889, loss_train: 6.1099, loss_val: nan, pos_over_neg: 1701.7840576171875 lr: 0.00031623\n",
      "Iter: 213/889, loss_train: 6.0902, loss_val: nan, pos_over_neg: 362.7370910644531 lr: 0.00031623\n",
      "Iter: 214/889, loss_train: 6.1383, loss_val: nan, pos_over_neg: 97.81751251220703 lr: 0.00031623\n",
      "Iter: 215/889, loss_train: 6.0955, loss_val: nan, pos_over_neg: 159.37803649902344 lr: 0.00031623\n",
      "Iter: 216/889, loss_train: 6.097, loss_val: nan, pos_over_neg: 253.47509765625 lr: 0.00031623\n",
      "Iter: 217/889, loss_train: 6.0919, loss_val: nan, pos_over_neg: 262.69586181640625 lr: 0.00031623\n",
      "Iter: 218/889, loss_train: 6.1299, loss_val: nan, pos_over_neg: 234.60340881347656 lr: 0.00031623\n",
      "Iter: 219/889, loss_train: 6.103, loss_val: nan, pos_over_neg: 887.8193359375 lr: 0.00031623\n",
      "Iter: 220/889, loss_train: 6.106, loss_val: nan, pos_over_neg: 724.0023803710938 lr: 0.00031623\n",
      "Iter: 221/889, loss_train: 6.106, loss_val: nan, pos_over_neg: 563.2157592773438 lr: 0.00031623\n",
      "Iter: 222/889, loss_train: 6.1523, loss_val: nan, pos_over_neg: 1111.607177734375 lr: 0.00031623\n",
      "Iter: 223/889, loss_train: 6.0922, loss_val: nan, pos_over_neg: 268.2959899902344 lr: 0.00031623\n",
      "Iter: 224/889, loss_train: 6.0929, loss_val: nan, pos_over_neg: 220.8350067138672 lr: 0.00031623\n",
      "Iter: 225/889, loss_train: 6.1029, loss_val: nan, pos_over_neg: 173.4074249267578 lr: 0.00031623\n",
      "Iter: 226/889, loss_train: 6.098, loss_val: nan, pos_over_neg: 182.5054931640625 lr: 0.00031623\n",
      "Iter: 227/889, loss_train: 6.1062, loss_val: nan, pos_over_neg: 210.82635498046875 lr: 0.00031623\n",
      "Iter: 228/889, loss_train: 6.1152, loss_val: nan, pos_over_neg: 318.0522155761719 lr: 0.00031623\n",
      "Iter: 229/889, loss_train: 6.1032, loss_val: nan, pos_over_neg: 364.9938049316406 lr: 0.00031623\n",
      "Iter: 230/889, loss_train: 6.1307, loss_val: nan, pos_over_neg: 275.6595764160156 lr: 0.00031623\n",
      "Iter: 231/889, loss_train: 6.0909, loss_val: nan, pos_over_neg: 249.17245483398438 lr: 0.00031623\n",
      "Iter: 232/889, loss_train: 6.1308, loss_val: nan, pos_over_neg: 207.5443572998047 lr: 0.00031623\n",
      "Iter: 233/889, loss_train: 6.1105, loss_val: nan, pos_over_neg: 358.2379150390625 lr: 0.00031623\n",
      "Iter: 234/889, loss_train: 6.1133, loss_val: nan, pos_over_neg: 293.0437316894531 lr: 0.00031623\n",
      "Iter: 235/889, loss_train: 6.103, loss_val: nan, pos_over_neg: 206.13658142089844 lr: 0.00031623\n",
      "Iter: 236/889, loss_train: 6.1088, loss_val: nan, pos_over_neg: 499.644775390625 lr: 0.00031623\n",
      "Iter: 237/889, loss_train: 6.1106, loss_val: nan, pos_over_neg: 436.457275390625 lr: 0.00031623\n",
      "Iter: 238/889, loss_train: 6.1121, loss_val: nan, pos_over_neg: 322.0933532714844 lr: 0.00031623\n",
      "Iter: 239/889, loss_train: 6.1301, loss_val: nan, pos_over_neg: 214.501708984375 lr: 0.00031623\n",
      "Iter: 240/889, loss_train: 6.1089, loss_val: nan, pos_over_neg: 333.9866943359375 lr: 0.00031623\n",
      "Iter: 241/889, loss_train: 6.1218, loss_val: nan, pos_over_neg: 220.82716369628906 lr: 0.00031623\n",
      "Iter: 242/889, loss_train: 6.1268, loss_val: nan, pos_over_neg: 275.87249755859375 lr: 0.00031623\n",
      "Iter: 243/889, loss_train: 6.1092, loss_val: nan, pos_over_neg: 274.95001220703125 lr: 0.00031623\n",
      "Iter: 244/889, loss_train: 6.1273, loss_val: nan, pos_over_neg: 2059.41552734375 lr: 0.00031623\n",
      "Iter: 245/889, loss_train: 6.0932, loss_val: nan, pos_over_neg: 1221.2108154296875 lr: 0.00031623\n",
      "Iter: 246/889, loss_train: 6.1163, loss_val: nan, pos_over_neg: 412.7550964355469 lr: 0.00031623\n",
      "Iter: 247/889, loss_train: 6.1212, loss_val: nan, pos_over_neg: 336.78314208984375 lr: 0.00031623\n",
      "Iter: 248/889, loss_train: 6.1297, loss_val: nan, pos_over_neg: 196.86575317382812 lr: 0.00031623\n",
      "Iter: 249/889, loss_train: 6.1303, loss_val: nan, pos_over_neg: 124.7711410522461 lr: 0.00031623\n",
      "Iter: 250/889, loss_train: 6.1319, loss_val: nan, pos_over_neg: 277.1902770996094 lr: 0.00031623\n",
      "Iter: 251/889, loss_train: 6.15, loss_val: nan, pos_over_neg: 176.69839477539062 lr: 0.00031623\n",
      "Iter: 252/889, loss_train: 6.0962, loss_val: nan, pos_over_neg: 316.6793212890625 lr: 0.00031623\n",
      "Iter: 253/889, loss_train: 6.117, loss_val: nan, pos_over_neg: 163.930419921875 lr: 0.00031623\n",
      "Iter: 254/889, loss_train: 6.121, loss_val: nan, pos_over_neg: 214.22613525390625 lr: 0.00031623\n",
      "Iter: 255/889, loss_train: 6.0867, loss_val: nan, pos_over_neg: 384.4015808105469 lr: 0.00031623\n",
      "Iter: 256/889, loss_train: 6.1199, loss_val: nan, pos_over_neg: 215.7919464111328 lr: 0.00031623\n",
      "Iter: 257/889, loss_train: 6.0856, loss_val: nan, pos_over_neg: 886.0902099609375 lr: 0.00031623\n",
      "Iter: 258/889, loss_train: 6.1237, loss_val: nan, pos_over_neg: 262.5265808105469 lr: 0.00031623\n",
      "Iter: 259/889, loss_train: 6.1039, loss_val: nan, pos_over_neg: 250.77259826660156 lr: 0.00031623\n",
      "Iter: 260/889, loss_train: 6.131, loss_val: nan, pos_over_neg: 157.77076721191406 lr: 0.00031623\n",
      "Iter: 261/889, loss_train: 6.1259, loss_val: nan, pos_over_neg: 174.2279052734375 lr: 0.00031623\n",
      "Iter: 262/889, loss_train: 6.1187, loss_val: nan, pos_over_neg: 262.1709899902344 lr: 0.00031623\n",
      "Iter: 263/889, loss_train: 6.1328, loss_val: nan, pos_over_neg: 295.6700744628906 lr: 0.00031623\n",
      "Iter: 264/889, loss_train: 6.1096, loss_val: nan, pos_over_neg: 778.99951171875 lr: 0.00031623\n",
      "Iter: 265/889, loss_train: 6.138, loss_val: nan, pos_over_neg: 278.6963806152344 lr: 0.00031623\n",
      "Iter: 266/889, loss_train: 6.1133, loss_val: nan, pos_over_neg: 320.8785095214844 lr: 0.00031623\n",
      "Iter: 267/889, loss_train: 6.0941, loss_val: nan, pos_over_neg: 389.38287353515625 lr: 0.00031623\n",
      "Iter: 268/889, loss_train: 6.1012, loss_val: nan, pos_over_neg: 347.06622314453125 lr: 0.00031623\n",
      "Iter: 269/889, loss_train: 6.0972, loss_val: nan, pos_over_neg: 210.30465698242188 lr: 0.00031623\n",
      "Iter: 270/889, loss_train: 6.125, loss_val: nan, pos_over_neg: 200.05075073242188 lr: 0.00031623\n",
      "Iter: 271/889, loss_train: 6.1436, loss_val: nan, pos_over_neg: 134.3485107421875 lr: 0.00031623\n",
      "Iter: 272/889, loss_train: 6.1018, loss_val: nan, pos_over_neg: 241.43118286132812 lr: 0.00031623\n",
      "Iter: 273/889, loss_train: 6.0806, loss_val: nan, pos_over_neg: 466.9601135253906 lr: 0.00031623\n",
      "Iter: 274/889, loss_train: 6.1008, loss_val: nan, pos_over_neg: 283.0099182128906 lr: 0.00031623\n",
      "Iter: 275/889, loss_train: 6.0955, loss_val: nan, pos_over_neg: 1005.6778564453125 lr: 0.00031623\n",
      "Iter: 276/889, loss_train: 6.1204, loss_val: nan, pos_over_neg: 517.9779052734375 lr: 0.00031623\n",
      "Iter: 277/889, loss_train: 6.1113, loss_val: nan, pos_over_neg: 558.4259643554688 lr: 0.00031623\n",
      "Iter: 278/889, loss_train: 6.1052, loss_val: nan, pos_over_neg: 480.43560791015625 lr: 0.00031623\n",
      "Iter: 279/889, loss_train: 6.1049, loss_val: nan, pos_over_neg: 198.45631408691406 lr: 0.00031623\n",
      "Iter: 280/889, loss_train: 6.104, loss_val: nan, pos_over_neg: 163.7667999267578 lr: 0.00031623\n",
      "Iter: 281/889, loss_train: 6.1218, loss_val: nan, pos_over_neg: 214.10397338867188 lr: 0.00031623\n",
      "Iter: 282/889, loss_train: 6.1197, loss_val: nan, pos_over_neg: 106.4873275756836 lr: 0.00031623\n",
      "Iter: 283/889, loss_train: 6.1361, loss_val: nan, pos_over_neg: 136.2718505859375 lr: 0.00031623\n",
      "Iter: 284/889, loss_train: 6.1078, loss_val: nan, pos_over_neg: 688.8956909179688 lr: 0.00031623\n",
      "Iter: 285/889, loss_train: 6.0986, loss_val: nan, pos_over_neg: 840.3096313476562 lr: 0.00031623\n",
      "Iter: 286/889, loss_train: 6.1306, loss_val: nan, pos_over_neg: 359.75628662109375 lr: 0.00031623\n",
      "Iter: 287/889, loss_train: 6.1368, loss_val: nan, pos_over_neg: 186.57469177246094 lr: 0.00031623\n",
      "Iter: 288/889, loss_train: 6.1221, loss_val: nan, pos_over_neg: 256.1673889160156 lr: 0.00031623\n",
      "Iter: 289/889, loss_train: 6.1275, loss_val: nan, pos_over_neg: 149.6026611328125 lr: 0.00031623\n",
      "Iter: 290/889, loss_train: 6.1201, loss_val: nan, pos_over_neg: 198.38653564453125 lr: 0.00031623\n",
      "Iter: 291/889, loss_train: 6.1134, loss_val: nan, pos_over_neg: 114.24715423583984 lr: 0.00031623\n",
      "Iter: 292/889, loss_train: 6.0982, loss_val: nan, pos_over_neg: 219.0763397216797 lr: 0.00031623\n",
      "Iter: 293/889, loss_train: 6.1003, loss_val: nan, pos_over_neg: 245.8883819580078 lr: 0.00031623\n",
      "Iter: 294/889, loss_train: 6.1221, loss_val: nan, pos_over_neg: 262.19769287109375 lr: 0.00031623\n",
      "Iter: 295/889, loss_train: 6.1278, loss_val: nan, pos_over_neg: 192.4652862548828 lr: 0.00031623\n",
      "Iter: 296/889, loss_train: 6.1021, loss_val: nan, pos_over_neg: 799.8604736328125 lr: 0.00031623\n",
      "Iter: 297/889, loss_train: 6.1097, loss_val: nan, pos_over_neg: 207.017822265625 lr: 0.00031623\n",
      "Iter: 298/889, loss_train: 6.0822, loss_val: nan, pos_over_neg: 333.50201416015625 lr: 0.00031623\n",
      "Iter: 299/889, loss_train: 6.1068, loss_val: nan, pos_over_neg: 423.0356750488281 lr: 0.00031623\n",
      "Iter: 300/889, loss_train: 6.0962, loss_val: nan, pos_over_neg: 298.8662109375 lr: 0.00031623\n",
      "Iter: 301/889, loss_train: 6.1109, loss_val: nan, pos_over_neg: 264.15606689453125 lr: 0.00031623\n",
      "Iter: 302/889, loss_train: 6.1317, loss_val: nan, pos_over_neg: 214.56849670410156 lr: 0.00031623\n",
      "Iter: 303/889, loss_train: 6.0922, loss_val: nan, pos_over_neg: 292.04278564453125 lr: 0.00031623\n",
      "Iter: 304/889, loss_train: 6.1238, loss_val: nan, pos_over_neg: 138.25067138671875 lr: 0.00031623\n",
      "Iter: 305/889, loss_train: 6.1017, loss_val: nan, pos_over_neg: 356.4688720703125 lr: 0.00031623\n",
      "Iter: 306/889, loss_train: 6.1089, loss_val: nan, pos_over_neg: 448.79510498046875 lr: 0.00031623\n",
      "Iter: 307/889, loss_train: 6.125, loss_val: nan, pos_over_neg: 693.0119018554688 lr: 0.00031623\n",
      "Iter: 308/889, loss_train: 6.1049, loss_val: nan, pos_over_neg: 268.5970153808594 lr: 0.00031623\n",
      "Iter: 309/889, loss_train: 6.1173, loss_val: nan, pos_over_neg: 267.8359680175781 lr: 0.00031623\n",
      "Iter: 310/889, loss_train: 6.1335, loss_val: nan, pos_over_neg: 306.7949523925781 lr: 0.00031623\n",
      "Iter: 311/889, loss_train: 6.0997, loss_val: nan, pos_over_neg: 251.20034790039062 lr: 0.00031623\n",
      "Iter: 312/889, loss_train: 6.1264, loss_val: nan, pos_over_neg: 109.34989166259766 lr: 0.00031623\n",
      "Iter: 313/889, loss_train: 6.1244, loss_val: nan, pos_over_neg: 139.65084838867188 lr: 0.00031623\n",
      "Iter: 314/889, loss_train: 6.1284, loss_val: nan, pos_over_neg: 251.80970764160156 lr: 0.00031623\n",
      "Iter: 315/889, loss_train: 6.1134, loss_val: nan, pos_over_neg: 409.9546813964844 lr: 0.00031623\n",
      "Iter: 316/889, loss_train: 6.1215, loss_val: nan, pos_over_neg: 360.4579772949219 lr: 0.00031623\n",
      "Iter: 317/889, loss_train: 6.127, loss_val: nan, pos_over_neg: 525.3997802734375 lr: 0.00031623\n",
      "Iter: 318/889, loss_train: 6.0952, loss_val: nan, pos_over_neg: 801.5753784179688 lr: 0.00031623\n",
      "Iter: 319/889, loss_train: 6.0925, loss_val: nan, pos_over_neg: 1048.3323974609375 lr: 0.00031623\n",
      "Iter: 320/889, loss_train: 6.115, loss_val: nan, pos_over_neg: 210.95364379882812 lr: 0.00031623\n",
      "Iter: 321/889, loss_train: 6.1353, loss_val: nan, pos_over_neg: 201.6378936767578 lr: 0.00031623\n",
      "Iter: 322/889, loss_train: 6.1125, loss_val: nan, pos_over_neg: 311.9368896484375 lr: 0.00031623\n",
      "Iter: 323/889, loss_train: 6.114, loss_val: nan, pos_over_neg: 250.04623413085938 lr: 0.00031623\n",
      "Iter: 324/889, loss_train: 6.1191, loss_val: nan, pos_over_neg: 197.3040008544922 lr: 0.00031623\n",
      "Iter: 325/889, loss_train: 6.0955, loss_val: nan, pos_over_neg: 344.9720764160156 lr: 0.00031623\n",
      "Iter: 326/889, loss_train: 6.0958, loss_val: nan, pos_over_neg: 607.22900390625 lr: 0.00031623\n",
      "Iter: 327/889, loss_train: 6.0957, loss_val: nan, pos_over_neg: 344.2918701171875 lr: 0.00031623\n",
      "Iter: 328/889, loss_train: 6.131, loss_val: nan, pos_over_neg: 446.0016174316406 lr: 0.00031623\n",
      "Iter: 329/889, loss_train: 6.1073, loss_val: nan, pos_over_neg: 211.78375244140625 lr: 0.00031623\n",
      "Iter: 330/889, loss_train: 6.0967, loss_val: nan, pos_over_neg: 526.9384155273438 lr: 0.00031623\n",
      "Iter: 331/889, loss_train: 6.124, loss_val: nan, pos_over_neg: 398.4474182128906 lr: 0.00031623\n",
      "Iter: 332/889, loss_train: 6.1278, loss_val: nan, pos_over_neg: 166.45242309570312 lr: 0.00031623\n",
      "Iter: 333/889, loss_train: 6.1066, loss_val: nan, pos_over_neg: 213.7273712158203 lr: 0.00031623\n",
      "Iter: 334/889, loss_train: 6.122, loss_val: nan, pos_over_neg: 217.3611297607422 lr: 0.00031623\n",
      "Iter: 335/889, loss_train: 6.0957, loss_val: nan, pos_over_neg: 307.00714111328125 lr: 0.00031623\n",
      "Iter: 336/889, loss_train: 6.0971, loss_val: nan, pos_over_neg: 186.3026580810547 lr: 0.00031623\n",
      "Iter: 337/889, loss_train: 6.1394, loss_val: nan, pos_over_neg: 210.56362915039062 lr: 0.00031623\n",
      "Iter: 338/889, loss_train: 6.0963, loss_val: nan, pos_over_neg: 201.09706115722656 lr: 0.00031623\n",
      "Iter: 339/889, loss_train: 6.1235, loss_val: nan, pos_over_neg: 185.14443969726562 lr: 0.00031623\n",
      "Iter: 340/889, loss_train: 6.0913, loss_val: nan, pos_over_neg: 941.6336669921875 lr: 0.00031623\n",
      "Iter: 341/889, loss_train: 6.1174, loss_val: nan, pos_over_neg: 405.7874450683594 lr: 0.00031623\n",
      "Iter: 342/889, loss_train: 6.082, loss_val: nan, pos_over_neg: 354.0952453613281 lr: 0.00031623\n",
      "Iter: 343/889, loss_train: 6.0869, loss_val: nan, pos_over_neg: 406.6473083496094 lr: 0.00031623\n",
      "Iter: 344/889, loss_train: 6.0902, loss_val: nan, pos_over_neg: 313.96490478515625 lr: 0.00031623\n",
      "Iter: 345/889, loss_train: 6.112, loss_val: nan, pos_over_neg: 265.2293395996094 lr: 0.00031623\n",
      "Iter: 346/889, loss_train: 6.0977, loss_val: nan, pos_over_neg: 228.10325622558594 lr: 0.00031623\n",
      "Iter: 347/889, loss_train: 6.1109, loss_val: nan, pos_over_neg: 183.66461181640625 lr: 0.00031623\n",
      "Iter: 348/889, loss_train: 6.1108, loss_val: nan, pos_over_neg: 137.80029296875 lr: 0.00031623\n",
      "Iter: 349/889, loss_train: 6.1304, loss_val: nan, pos_over_neg: 166.72877502441406 lr: 0.00031623\n",
      "Iter: 350/889, loss_train: 6.1257, loss_val: nan, pos_over_neg: 238.20111083984375 lr: 0.00031623\n",
      "Iter: 351/889, loss_train: 6.1143, loss_val: nan, pos_over_neg: 322.142822265625 lr: 0.00031623\n",
      "Iter: 352/889, loss_train: 6.1156, loss_val: nan, pos_over_neg: 242.81251525878906 lr: 0.00031623\n",
      "Iter: 353/889, loss_train: 6.097, loss_val: nan, pos_over_neg: 185.32852172851562 lr: 0.00031623\n",
      "Iter: 354/889, loss_train: 6.1064, loss_val: nan, pos_over_neg: 173.20138549804688 lr: 0.00031623\n",
      "Iter: 355/889, loss_train: 6.1234, loss_val: nan, pos_over_neg: 112.20980072021484 lr: 0.00031623\n",
      "Iter: 356/889, loss_train: 6.0937, loss_val: nan, pos_over_neg: 96.14012145996094 lr: 0.00031623\n",
      "Iter: 357/889, loss_train: 6.1328, loss_val: nan, pos_over_neg: 200.13027954101562 lr: 0.00031623\n",
      "Iter: 358/889, loss_train: 6.1182, loss_val: nan, pos_over_neg: 328.8246154785156 lr: 0.00031623\n",
      "Iter: 359/889, loss_train: 6.1236, loss_val: nan, pos_over_neg: 489.9961853027344 lr: 0.00031623\n",
      "Iter: 360/889, loss_train: 6.1108, loss_val: nan, pos_over_neg: 524.59912109375 lr: 0.00031623\n",
      "Iter: 361/889, loss_train: 6.1045, loss_val: nan, pos_over_neg: 334.0358581542969 lr: 0.00031623\n",
      "Iter: 362/889, loss_train: 6.0956, loss_val: nan, pos_over_neg: 214.47079467773438 lr: 0.00031623\n",
      "Iter: 363/889, loss_train: 6.086, loss_val: nan, pos_over_neg: 312.47906494140625 lr: 0.00031623\n",
      "Iter: 364/889, loss_train: 6.1296, loss_val: nan, pos_over_neg: 150.00498962402344 lr: 0.00031623\n",
      "Iter: 365/889, loss_train: 6.1194, loss_val: nan, pos_over_neg: 144.2297821044922 lr: 0.00031623\n",
      "Iter: 366/889, loss_train: 6.0812, loss_val: nan, pos_over_neg: 482.6944885253906 lr: 0.00031623\n",
      "Iter: 367/889, loss_train: 6.1279, loss_val: nan, pos_over_neg: 97.92000579833984 lr: 0.00031623\n",
      "Iter: 368/889, loss_train: 6.089, loss_val: nan, pos_over_neg: 261.7292785644531 lr: 0.00031623\n",
      "Iter: 369/889, loss_train: 6.0872, loss_val: nan, pos_over_neg: 940.0111083984375 lr: 0.00031623\n",
      "Iter: 370/889, loss_train: 6.0976, loss_val: nan, pos_over_neg: 258.3331298828125 lr: 0.00031623\n",
      "Iter: 371/889, loss_train: 6.1174, loss_val: nan, pos_over_neg: 357.1300354003906 lr: 0.00031623\n",
      "Iter: 372/889, loss_train: 6.1036, loss_val: nan, pos_over_neg: 330.38641357421875 lr: 0.00031623\n",
      "Iter: 373/889, loss_train: 6.0867, loss_val: nan, pos_over_neg: 865.5650024414062 lr: 0.00031623\n",
      "Iter: 374/889, loss_train: 6.1116, loss_val: nan, pos_over_neg: 235.9697723388672 lr: 0.00031623\n",
      "Iter: 375/889, loss_train: 6.0984, loss_val: nan, pos_over_neg: 208.37290954589844 lr: 0.00031623\n",
      "Iter: 376/889, loss_train: 6.1077, loss_val: nan, pos_over_neg: 136.3956298828125 lr: 0.00031623\n",
      "Iter: 377/889, loss_train: 6.087, loss_val: nan, pos_over_neg: 649.9439086914062 lr: 0.00031623\n",
      "Iter: 378/889, loss_train: 6.0967, loss_val: nan, pos_over_neg: 765.4359130859375 lr: 0.00031623\n",
      "Iter: 379/889, loss_train: 6.1015, loss_val: nan, pos_over_neg: 254.82655334472656 lr: 0.00031623\n",
      "Iter: 380/889, loss_train: 6.113, loss_val: nan, pos_over_neg: 168.041259765625 lr: 0.00031623\n",
      "Iter: 381/889, loss_train: 6.0797, loss_val: nan, pos_over_neg: 367.06427001953125 lr: 0.00031623\n",
      "Iter: 382/889, loss_train: 6.0789, loss_val: nan, pos_over_neg: 460.2268981933594 lr: 0.00031623\n",
      "Iter: 383/889, loss_train: 6.1047, loss_val: nan, pos_over_neg: 346.84161376953125 lr: 0.00031623\n",
      "Iter: 384/889, loss_train: 6.1145, loss_val: nan, pos_over_neg: 182.8749542236328 lr: 0.00031623\n",
      "Iter: 385/889, loss_train: 6.0905, loss_val: nan, pos_over_neg: 1822.4287109375 lr: 0.00031623\n",
      "Iter: 386/889, loss_train: 6.0869, loss_val: nan, pos_over_neg: 337.0634460449219 lr: 0.00031623\n",
      "Iter: 387/889, loss_train: 6.1107, loss_val: nan, pos_over_neg: 283.7864990234375 lr: 0.00031623\n",
      "Iter: 388/889, loss_train: 6.1227, loss_val: nan, pos_over_neg: 147.2482147216797 lr: 0.00031623\n",
      "Iter: 389/889, loss_train: 6.1051, loss_val: nan, pos_over_neg: 200.45225524902344 lr: 0.00031623\n",
      "Iter: 390/889, loss_train: 6.1176, loss_val: nan, pos_over_neg: 270.5389404296875 lr: 0.00031623\n",
      "Iter: 391/889, loss_train: 6.0825, loss_val: nan, pos_over_neg: 737.5432739257812 lr: 0.00031623\n",
      "Iter: 392/889, loss_train: 6.0946, loss_val: nan, pos_over_neg: 422.67431640625 lr: 0.00031623\n",
      "Iter: 393/889, loss_train: 6.1059, loss_val: nan, pos_over_neg: 345.69036865234375 lr: 0.00031623\n",
      "Iter: 394/889, loss_train: 6.0709, loss_val: nan, pos_over_neg: 807.2703857421875 lr: 0.00031623\n",
      "Iter: 395/889, loss_train: 6.0648, loss_val: nan, pos_over_neg: 863.608642578125 lr: 0.00031623\n",
      "Iter: 396/889, loss_train: 6.1261, loss_val: nan, pos_over_neg: 298.7911071777344 lr: 0.00031623\n",
      "Iter: 397/889, loss_train: 6.1024, loss_val: nan, pos_over_neg: 230.9068603515625 lr: 0.00031623\n",
      "Iter: 398/889, loss_train: 6.1155, loss_val: nan, pos_over_neg: 210.44021606445312 lr: 0.00031623\n",
      "Iter: 399/889, loss_train: 6.1078, loss_val: nan, pos_over_neg: 210.39889526367188 lr: 0.00031623\n",
      "Iter: 400/889, loss_train: 6.078, loss_val: nan, pos_over_neg: 252.06491088867188 lr: 0.00031623\n",
      "Iter: 401/889, loss_train: 6.0872, loss_val: nan, pos_over_neg: 236.26483154296875 lr: 0.00031623\n",
      "Iter: 402/889, loss_train: 6.1118, loss_val: nan, pos_over_neg: 447.53375244140625 lr: 0.00031623\n",
      "Iter: 403/889, loss_train: 6.1081, loss_val: nan, pos_over_neg: 501.9852600097656 lr: 0.00031623\n",
      "Iter: 404/889, loss_train: 6.0728, loss_val: nan, pos_over_neg: 403.5041198730469 lr: 0.00031623\n",
      "Iter: 405/889, loss_train: 6.1022, loss_val: nan, pos_over_neg: 276.6001892089844 lr: 0.00031623\n",
      "Iter: 406/889, loss_train: 6.099, loss_val: nan, pos_over_neg: 517.296630859375 lr: 0.00031623\n",
      "Iter: 407/889, loss_train: 6.1023, loss_val: nan, pos_over_neg: 311.4347839355469 lr: 0.00031623\n",
      "Iter: 408/889, loss_train: 6.0875, loss_val: nan, pos_over_neg: 348.27685546875 lr: 0.00031623\n",
      "Iter: 409/889, loss_train: 6.1355, loss_val: nan, pos_over_neg: 666.6591186523438 lr: 0.00031623\n",
      "Iter: 410/889, loss_train: 6.1182, loss_val: nan, pos_over_neg: 182.52584838867188 lr: 0.00031623\n",
      "Iter: 411/889, loss_train: 6.1197, loss_val: nan, pos_over_neg: 351.3103332519531 lr: 0.00031623\n",
      "Iter: 412/889, loss_train: 6.1062, loss_val: nan, pos_over_neg: 207.61744689941406 lr: 0.00031623\n",
      "Iter: 413/889, loss_train: 6.1228, loss_val: nan, pos_over_neg: 297.1242370605469 lr: 0.00031623\n",
      "Iter: 414/889, loss_train: 6.1046, loss_val: nan, pos_over_neg: 281.8838195800781 lr: 0.00031623\n",
      "Iter: 415/889, loss_train: 6.0652, loss_val: nan, pos_over_neg: 950.9127807617188 lr: 0.00031623\n",
      "Iter: 416/889, loss_train: 6.113, loss_val: nan, pos_over_neg: 183.02615356445312 lr: 0.00031623\n",
      "Iter: 417/889, loss_train: 6.1228, loss_val: nan, pos_over_neg: 225.39964294433594 lr: 0.00031623\n",
      "Iter: 418/889, loss_train: 6.1385, loss_val: nan, pos_over_neg: 242.54025268554688 lr: 0.00031623\n",
      "Iter: 419/889, loss_train: 6.092, loss_val: nan, pos_over_neg: 219.83755493164062 lr: 0.00031623\n",
      "Iter: 420/889, loss_train: 6.0986, loss_val: nan, pos_over_neg: 158.93612670898438 lr: 0.00031623\n",
      "Iter: 421/889, loss_train: 6.0976, loss_val: nan, pos_over_neg: 410.0232849121094 lr: 0.00031623\n",
      "Iter: 422/889, loss_train: 6.0976, loss_val: nan, pos_over_neg: 768.250244140625 lr: 0.00031623\n",
      "Iter: 423/889, loss_train: 6.1003, loss_val: nan, pos_over_neg: 387.94085693359375 lr: 0.00031623\n",
      "Iter: 424/889, loss_train: 6.1141, loss_val: nan, pos_over_neg: 409.2797546386719 lr: 0.00031623\n",
      "Iter: 425/889, loss_train: 6.0928, loss_val: nan, pos_over_neg: 107.5569076538086 lr: 0.00031623\n",
      "Iter: 426/889, loss_train: 6.0831, loss_val: nan, pos_over_neg: 391.6444091796875 lr: 0.00031623\n",
      "Iter: 427/889, loss_train: 6.0876, loss_val: nan, pos_over_neg: 585.7627563476562 lr: 0.00031623\n",
      "Iter: 428/889, loss_train: 6.1273, loss_val: nan, pos_over_neg: 163.86199951171875 lr: 0.00031623\n",
      "Iter: 429/889, loss_train: 6.1236, loss_val: nan, pos_over_neg: 340.41064453125 lr: 0.00031623\n",
      "Iter: 430/889, loss_train: 6.1217, loss_val: nan, pos_over_neg: 306.4356994628906 lr: 0.00031623\n",
      "Iter: 431/889, loss_train: 6.0767, loss_val: nan, pos_over_neg: 471.0173645019531 lr: 0.00031623\n",
      "Iter: 432/889, loss_train: 6.0825, loss_val: nan, pos_over_neg: 280.7253723144531 lr: 0.00031623\n",
      "Iter: 433/889, loss_train: 6.1184, loss_val: nan, pos_over_neg: 156.1679229736328 lr: 0.00031623\n",
      "Iter: 434/889, loss_train: 6.1119, loss_val: nan, pos_over_neg: 229.61026000976562 lr: 0.00031623\n",
      "Iter: 435/889, loss_train: 6.0902, loss_val: nan, pos_over_neg: 288.7831115722656 lr: 0.00031623\n",
      "Iter: 436/889, loss_train: 6.129, loss_val: nan, pos_over_neg: 213.64569091796875 lr: 0.00031623\n",
      "Iter: 437/889, loss_train: 6.0827, loss_val: nan, pos_over_neg: 1055.991455078125 lr: 0.00031623\n",
      "Iter: 438/889, loss_train: 6.0952, loss_val: nan, pos_over_neg: 236.88575744628906 lr: 0.00031623\n",
      "Iter: 439/889, loss_train: 6.0883, loss_val: nan, pos_over_neg: 316.9439392089844 lr: 0.00031623\n",
      "Iter: 440/889, loss_train: 6.1027, loss_val: nan, pos_over_neg: 186.5472869873047 lr: 0.00031623\n",
      "Iter: 441/889, loss_train: 6.0805, loss_val: nan, pos_over_neg: 252.00038146972656 lr: 0.00031623\n",
      "Iter: 442/889, loss_train: 6.0894, loss_val: nan, pos_over_neg: 181.97190856933594 lr: 0.00031623\n",
      "Iter: 443/889, loss_train: 6.1106, loss_val: nan, pos_over_neg: 268.9524841308594 lr: 0.00031623\n",
      "Iter: 444/889, loss_train: 6.085, loss_val: nan, pos_over_neg: 423.3592834472656 lr: 0.00031623\n",
      "Iter: 445/889, loss_train: 6.1138, loss_val: nan, pos_over_neg: 453.1434326171875 lr: 0.00031623\n",
      "Iter: 446/889, loss_train: 6.1082, loss_val: nan, pos_over_neg: 504.2259216308594 lr: 0.00031623\n",
      "Iter: 447/889, loss_train: 6.1033, loss_val: nan, pos_over_neg: 289.1183166503906 lr: 0.00031623\n",
      "Iter: 448/889, loss_train: 6.0996, loss_val: nan, pos_over_neg: 234.99681091308594 lr: 0.00031623\n",
      "Iter: 449/889, loss_train: 6.1105, loss_val: nan, pos_over_neg: 417.0814208984375 lr: 0.00031623\n",
      "Iter: 450/889, loss_train: 6.0894, loss_val: nan, pos_over_neg: 575.0082397460938 lr: 0.00031623\n",
      "Iter: 451/889, loss_train: 6.0968, loss_val: nan, pos_over_neg: 404.08636474609375 lr: 0.00031623\n",
      "Iter: 452/889, loss_train: 6.1219, loss_val: nan, pos_over_neg: 307.9881896972656 lr: 0.00031623\n",
      "Iter: 453/889, loss_train: 6.1105, loss_val: nan, pos_over_neg: 310.7715148925781 lr: 0.00031623\n",
      "Iter: 454/889, loss_train: 6.1046, loss_val: nan, pos_over_neg: 1594.435546875 lr: 0.00031623\n",
      "Iter: 455/889, loss_train: 6.0814, loss_val: nan, pos_over_neg: 444.7447509765625 lr: 0.00031623\n",
      "Iter: 456/889, loss_train: 6.1012, loss_val: nan, pos_over_neg: 476.6716613769531 lr: 0.00031623\n",
      "Iter: 457/889, loss_train: 6.0896, loss_val: nan, pos_over_neg: 202.5564422607422 lr: 0.00031623\n",
      "Iter: 458/889, loss_train: 6.0756, loss_val: nan, pos_over_neg: 150.43716430664062 lr: 0.00031623\n",
      "Iter: 459/889, loss_train: 6.0656, loss_val: nan, pos_over_neg: 203.85626220703125 lr: 0.00031623\n",
      "Iter: 460/889, loss_train: 6.0768, loss_val: nan, pos_over_neg: 133.12435913085938 lr: 0.00031623\n",
      "Iter: 461/889, loss_train: 6.103, loss_val: nan, pos_over_neg: 267.29400634765625 lr: 0.00031623\n",
      "Iter: 462/889, loss_train: 6.1063, loss_val: nan, pos_over_neg: 259.48858642578125 lr: 0.00031623\n",
      "Iter: 463/889, loss_train: 6.1167, loss_val: nan, pos_over_neg: 249.52740478515625 lr: 0.00031623\n",
      "Iter: 464/889, loss_train: 6.0932, loss_val: nan, pos_over_neg: 213.0090789794922 lr: 0.00031623\n",
      "Iter: 465/889, loss_train: 6.0798, loss_val: nan, pos_over_neg: 408.1439208984375 lr: 0.00031623\n",
      "Iter: 466/889, loss_train: 6.1027, loss_val: nan, pos_over_neg: 291.43597412109375 lr: 0.00031623\n",
      "Iter: 467/889, loss_train: 6.0944, loss_val: nan, pos_over_neg: 276.1534118652344 lr: 0.00031623\n",
      "Iter: 468/889, loss_train: 6.1064, loss_val: nan, pos_over_neg: 522.0507202148438 lr: 0.00031623\n",
      "Iter: 469/889, loss_train: 6.1071, loss_val: nan, pos_over_neg: 290.8016052246094 lr: 0.00031623\n",
      "Iter: 470/889, loss_train: 6.0987, loss_val: nan, pos_over_neg: 203.66021728515625 lr: 0.00031623\n",
      "Iter: 471/889, loss_train: 6.1192, loss_val: nan, pos_over_neg: 171.2441864013672 lr: 0.00031623\n",
      "Iter: 472/889, loss_train: 6.0869, loss_val: nan, pos_over_neg: 318.16107177734375 lr: 0.00031623\n",
      "Iter: 473/889, loss_train: 6.0663, loss_val: nan, pos_over_neg: 360.3038635253906 lr: 0.00031623\n",
      "Iter: 474/889, loss_train: 6.0762, loss_val: nan, pos_over_neg: 624.4081420898438 lr: 0.00031623\n",
      "Iter: 475/889, loss_train: 6.0714, loss_val: nan, pos_over_neg: 354.1601867675781 lr: 0.00031623\n",
      "Iter: 476/889, loss_train: 6.124, loss_val: nan, pos_over_neg: 204.2176971435547 lr: 0.00031623\n",
      "Iter: 477/889, loss_train: 6.1047, loss_val: nan, pos_over_neg: 180.74948120117188 lr: 0.00031623\n",
      "Iter: 478/889, loss_train: 6.1093, loss_val: nan, pos_over_neg: 224.6157989501953 lr: 0.00031623\n",
      "Iter: 479/889, loss_train: 6.0954, loss_val: nan, pos_over_neg: 474.10125732421875 lr: 0.00031623\n",
      "Iter: 480/889, loss_train: 6.1119, loss_val: nan, pos_over_neg: 368.35009765625 lr: 0.00031623\n",
      "Iter: 481/889, loss_train: 6.0915, loss_val: nan, pos_over_neg: 342.4429626464844 lr: 0.00031623\n",
      "Iter: 482/889, loss_train: 6.101, loss_val: nan, pos_over_neg: 233.5729217529297 lr: 0.00031623\n",
      "Iter: 483/889, loss_train: 6.1036, loss_val: nan, pos_over_neg: 390.3720703125 lr: 0.00031623\n",
      "Iter: 484/889, loss_train: 6.0832, loss_val: nan, pos_over_neg: 300.08026123046875 lr: 0.00031623\n",
      "Iter: 485/889, loss_train: 6.1337, loss_val: nan, pos_over_neg: 157.86708068847656 lr: 0.00031623\n",
      "Iter: 486/889, loss_train: 6.0967, loss_val: nan, pos_over_neg: 406.7423095703125 lr: 0.00031623\n",
      "Iter: 487/889, loss_train: 6.1079, loss_val: nan, pos_over_neg: 416.95458984375 lr: 0.00031623\n",
      "Iter: 488/889, loss_train: 6.1074, loss_val: nan, pos_over_neg: 366.14447021484375 lr: 0.00031623\n",
      "Iter: 489/889, loss_train: 6.1259, loss_val: nan, pos_over_neg: 239.6768341064453 lr: 0.00031623\n",
      "Iter: 490/889, loss_train: 6.1003, loss_val: nan, pos_over_neg: 315.09552001953125 lr: 0.00031623\n",
      "Iter: 491/889, loss_train: 6.1035, loss_val: nan, pos_over_neg: 360.88787841796875 lr: 0.00031623\n",
      "Iter: 492/889, loss_train: 6.1048, loss_val: nan, pos_over_neg: 260.5684509277344 lr: 0.00031623\n",
      "Iter: 493/889, loss_train: 6.0632, loss_val: nan, pos_over_neg: 195.9047088623047 lr: 0.00031623\n",
      "Iter: 494/889, loss_train: 6.1075, loss_val: nan, pos_over_neg: 215.55752563476562 lr: 0.00031623\n",
      "Iter: 495/889, loss_train: 6.0869, loss_val: nan, pos_over_neg: 309.5373840332031 lr: 0.00031623\n",
      "Iter: 496/889, loss_train: 6.0923, loss_val: nan, pos_over_neg: 234.73590087890625 lr: 0.00031623\n",
      "Iter: 497/889, loss_train: 6.1069, loss_val: nan, pos_over_neg: 176.06126403808594 lr: 0.00031623\n",
      "Iter: 498/889, loss_train: 6.0962, loss_val: nan, pos_over_neg: 219.8833770751953 lr: 0.00031623\n",
      "Iter: 499/889, loss_train: 6.1112, loss_val: nan, pos_over_neg: 255.24916076660156 lr: 0.00031623\n",
      "Iter: 500/889, loss_train: 6.1083, loss_val: nan, pos_over_neg: 732.325927734375 lr: 0.00031623\n",
      "Iter: 501/889, loss_train: 6.0816, loss_val: nan, pos_over_neg: 2227.992431640625 lr: 0.00031623\n",
      "Iter: 502/889, loss_train: 6.1082, loss_val: nan, pos_over_neg: 297.16351318359375 lr: 0.00031623\n",
      "Iter: 503/889, loss_train: 6.083, loss_val: nan, pos_over_neg: 422.74359130859375 lr: 0.00031623\n",
      "Iter: 504/889, loss_train: 6.1116, loss_val: nan, pos_over_neg: 153.2559356689453 lr: 0.00031623\n",
      "Iter: 505/889, loss_train: 6.1094, loss_val: nan, pos_over_neg: 197.97344970703125 lr: 0.00031623\n",
      "Iter: 506/889, loss_train: 6.0846, loss_val: nan, pos_over_neg: 270.96466064453125 lr: 0.00031623\n",
      "Iter: 507/889, loss_train: 6.0883, loss_val: nan, pos_over_neg: 242.52305603027344 lr: 0.00031623\n",
      "Iter: 508/889, loss_train: 6.0918, loss_val: nan, pos_over_neg: -10937.0390625 lr: 0.00031623\n",
      "Iter: 509/889, loss_train: 6.1093, loss_val: nan, pos_over_neg: 317.81982421875 lr: 0.00031623\n",
      "Iter: 510/889, loss_train: 6.088, loss_val: nan, pos_over_neg: 268.12896728515625 lr: 0.00031623\n",
      "Iter: 511/889, loss_train: 6.1133, loss_val: nan, pos_over_neg: 358.5064392089844 lr: 0.00031623\n",
      "Iter: 512/889, loss_train: 6.0701, loss_val: nan, pos_over_neg: 457.65228271484375 lr: 0.00031623\n",
      "Iter: 513/889, loss_train: 6.1093, loss_val: nan, pos_over_neg: 153.81552124023438 lr: 0.00031623\n",
      "Iter: 514/889, loss_train: 6.1189, loss_val: nan, pos_over_neg: 103.78877258300781 lr: 0.00031623\n",
      "Iter: 515/889, loss_train: 6.1221, loss_val: nan, pos_over_neg: 132.95065307617188 lr: 0.00031623\n",
      "Iter: 516/889, loss_train: 6.0722, loss_val: nan, pos_over_neg: 700.8217163085938 lr: 0.00031623\n",
      "Iter: 517/889, loss_train: 6.0815, loss_val: nan, pos_over_neg: 1783.2205810546875 lr: 0.00031623\n",
      "Iter: 518/889, loss_train: 6.1048, loss_val: nan, pos_over_neg: 653.3355102539062 lr: 0.00031623\n",
      "Iter: 519/889, loss_train: 6.0823, loss_val: nan, pos_over_neg: 622.6670532226562 lr: 0.00031623\n",
      "Iter: 520/889, loss_train: 6.0961, loss_val: nan, pos_over_neg: 301.9483642578125 lr: 0.00031623\n",
      "Iter: 521/889, loss_train: 6.1034, loss_val: nan, pos_over_neg: 152.03607177734375 lr: 0.00031623\n",
      "Iter: 522/889, loss_train: 6.1129, loss_val: nan, pos_over_neg: 212.6029815673828 lr: 0.00031623\n",
      "Iter: 523/889, loss_train: 6.0907, loss_val: nan, pos_over_neg: 511.1326904296875 lr: 0.00031623\n",
      "Iter: 524/889, loss_train: 6.1134, loss_val: nan, pos_over_neg: 256.35736083984375 lr: 0.00031623\n",
      "Iter: 525/889, loss_train: 6.113, loss_val: nan, pos_over_neg: 539.5117797851562 lr: 0.00031623\n",
      "Iter: 526/889, loss_train: 6.1096, loss_val: nan, pos_over_neg: 211.69696044921875 lr: 0.00031623\n",
      "Iter: 527/889, loss_train: 6.0743, loss_val: nan, pos_over_neg: 980.8543090820312 lr: 0.00031623\n",
      "Iter: 528/889, loss_train: 6.0798, loss_val: nan, pos_over_neg: 759.1075439453125 lr: 0.00031623\n",
      "Iter: 529/889, loss_train: 6.08, loss_val: nan, pos_over_neg: 330.9897766113281 lr: 0.00031623\n",
      "Iter: 530/889, loss_train: 6.0904, loss_val: nan, pos_over_neg: 331.64678955078125 lr: 0.00031623\n",
      "Iter: 531/889, loss_train: 6.0843, loss_val: nan, pos_over_neg: 353.71917724609375 lr: 0.00031623\n",
      "Iter: 532/889, loss_train: 6.0967, loss_val: nan, pos_over_neg: 302.08544921875 lr: 0.00031623\n",
      "Iter: 533/889, loss_train: 6.1195, loss_val: nan, pos_over_neg: 116.07386016845703 lr: 0.00031623\n",
      "Iter: 534/889, loss_train: 6.0966, loss_val: nan, pos_over_neg: 364.65509033203125 lr: 0.00031623\n",
      "Iter: 535/889, loss_train: 6.096, loss_val: nan, pos_over_neg: 203.73988342285156 lr: 0.00031623\n",
      "Iter: 536/889, loss_train: 6.1104, loss_val: nan, pos_over_neg: 278.8975830078125 lr: 0.00031623\n",
      "Iter: 537/889, loss_train: 6.0789, loss_val: nan, pos_over_neg: 400.4916076660156 lr: 0.00031623\n",
      "Iter: 538/889, loss_train: 6.1134, loss_val: nan, pos_over_neg: 155.4793701171875 lr: 0.00031623\n",
      "Iter: 539/889, loss_train: 6.1029, loss_val: nan, pos_over_neg: 421.300048828125 lr: 0.00031623\n",
      "Iter: 540/889, loss_train: 6.0942, loss_val: nan, pos_over_neg: 377.4166564941406 lr: 0.00031623\n",
      "Iter: 541/889, loss_train: 6.1262, loss_val: nan, pos_over_neg: 138.42591857910156 lr: 0.00031623\n",
      "Iter: 542/889, loss_train: 6.1367, loss_val: nan, pos_over_neg: 172.4319610595703 lr: 0.00031623\n",
      "Iter: 543/889, loss_train: 6.1179, loss_val: nan, pos_over_neg: 209.41453552246094 lr: 0.00031623\n",
      "Iter: 544/889, loss_train: 6.11, loss_val: nan, pos_over_neg: 200.4374237060547 lr: 0.00031623\n",
      "Iter: 545/889, loss_train: 6.1182, loss_val: nan, pos_over_neg: 249.51686096191406 lr: 0.00031623\n",
      "Iter: 546/889, loss_train: 6.091, loss_val: nan, pos_over_neg: 324.0959167480469 lr: 0.00031623\n",
      "Iter: 547/889, loss_train: 6.0881, loss_val: nan, pos_over_neg: 231.8782501220703 lr: 0.00031623\n",
      "Iter: 548/889, loss_train: 6.1074, loss_val: nan, pos_over_neg: 810.9012451171875 lr: 0.00031623\n",
      "Iter: 549/889, loss_train: 6.077, loss_val: nan, pos_over_neg: 929.4441528320312 lr: 0.00031623\n",
      "Iter: 550/889, loss_train: 6.1109, loss_val: nan, pos_over_neg: 255.91929626464844 lr: 0.00031623\n",
      "Iter: 551/889, loss_train: 6.0723, loss_val: nan, pos_over_neg: 323.1552429199219 lr: 0.00031623\n",
      "Iter: 552/889, loss_train: 6.0941, loss_val: nan, pos_over_neg: 379.5805358886719 lr: 0.00031623\n",
      "Iter: 553/889, loss_train: 6.0751, loss_val: nan, pos_over_neg: 644.7661743164062 lr: 0.00031623\n",
      "Iter: 554/889, loss_train: 6.0723, loss_val: nan, pos_over_neg: 315.8799133300781 lr: 0.00031623\n",
      "Iter: 555/889, loss_train: 6.0966, loss_val: nan, pos_over_neg: 336.60357666015625 lr: 0.00031623\n",
      "Iter: 556/889, loss_train: 6.0943, loss_val: nan, pos_over_neg: 569.4747314453125 lr: 0.00031623\n",
      "Iter: 557/889, loss_train: 6.092, loss_val: nan, pos_over_neg: 332.4930419921875 lr: 0.00031623\n",
      "Iter: 558/889, loss_train: 6.0886, loss_val: nan, pos_over_neg: 424.185546875 lr: 0.00031623\n",
      "Iter: 559/889, loss_train: 6.119, loss_val: nan, pos_over_neg: 147.71932983398438 lr: 0.00031623\n",
      "Iter: 560/889, loss_train: 6.1079, loss_val: nan, pos_over_neg: 146.29296875 lr: 0.00031623\n",
      "Iter: 561/889, loss_train: 6.0615, loss_val: nan, pos_over_neg: 190.67477416992188 lr: 0.00031623\n",
      "Iter: 562/889, loss_train: 6.1316, loss_val: nan, pos_over_neg: 140.72337341308594 lr: 0.00031623\n",
      "Iter: 563/889, loss_train: 6.0761, loss_val: nan, pos_over_neg: 332.447021484375 lr: 0.00031623\n",
      "Iter: 564/889, loss_train: 6.1089, loss_val: nan, pos_over_neg: 591.56005859375 lr: 0.00031623\n",
      "Iter: 565/889, loss_train: 6.0958, loss_val: nan, pos_over_neg: 1402.5472412109375 lr: 0.00031623\n",
      "Iter: 566/889, loss_train: 6.0902, loss_val: nan, pos_over_neg: -6137.39013671875 lr: 0.00031623\n",
      "Iter: 567/889, loss_train: 6.0922, loss_val: nan, pos_over_neg: 928.274169921875 lr: 0.00031623\n",
      "Iter: 568/889, loss_train: 6.0879, loss_val: nan, pos_over_neg: 919.4314575195312 lr: 0.00031623\n",
      "Iter: 569/889, loss_train: 6.0793, loss_val: nan, pos_over_neg: 255.82415771484375 lr: 0.00031623\n",
      "Iter: 570/889, loss_train: 6.081, loss_val: nan, pos_over_neg: 132.20065307617188 lr: 0.00031623\n",
      "Iter: 571/889, loss_train: 6.1018, loss_val: nan, pos_over_neg: 84.0679702758789 lr: 0.00031623\n",
      "Iter: 572/889, loss_train: 6.058, loss_val: nan, pos_over_neg: 140.09378051757812 lr: 0.00031623\n",
      "Iter: 573/889, loss_train: 6.0836, loss_val: nan, pos_over_neg: 181.5484161376953 lr: 0.00031623\n",
      "Iter: 574/889, loss_train: 6.0972, loss_val: nan, pos_over_neg: 381.5179138183594 lr: 0.00031623\n",
      "Iter: 575/889, loss_train: 6.1064, loss_val: nan, pos_over_neg: 432.6038818359375 lr: 0.00031623\n",
      "Iter: 576/889, loss_train: 6.0811, loss_val: nan, pos_over_neg: 6085.18701171875 lr: 0.00031623\n",
      "Iter: 577/889, loss_train: 6.1062, loss_val: nan, pos_over_neg: 531.841064453125 lr: 0.00031623\n",
      "Iter: 578/889, loss_train: 6.109, loss_val: nan, pos_over_neg: 366.0599060058594 lr: 0.00031623\n",
      "Iter: 579/889, loss_train: 6.0892, loss_val: nan, pos_over_neg: 216.9223175048828 lr: 0.00031623\n",
      "Iter: 580/889, loss_train: 6.1306, loss_val: nan, pos_over_neg: 126.52238464355469 lr: 0.00031623\n",
      "Iter: 581/889, loss_train: 6.0863, loss_val: nan, pos_over_neg: 240.3187713623047 lr: 0.00031623\n",
      "Iter: 582/889, loss_train: 6.1114, loss_val: nan, pos_over_neg: 166.38584899902344 lr: 0.00031623\n",
      "Iter: 583/889, loss_train: 6.0945, loss_val: nan, pos_over_neg: 116.12908935546875 lr: 0.00031623\n",
      "Iter: 584/889, loss_train: 6.0842, loss_val: nan, pos_over_neg: 181.15689086914062 lr: 0.00031623\n",
      "Iter: 585/889, loss_train: 6.095, loss_val: nan, pos_over_neg: 396.9482727050781 lr: 0.00031623\n",
      "Iter: 586/889, loss_train: 6.0819, loss_val: nan, pos_over_neg: 559.9692993164062 lr: 0.00031623\n",
      "Iter: 587/889, loss_train: 6.0745, loss_val: nan, pos_over_neg: 716.6705322265625 lr: 0.00031623\n",
      "Iter: 588/889, loss_train: 6.0797, loss_val: nan, pos_over_neg: 749.1349487304688 lr: 0.00031623\n",
      "Iter: 589/889, loss_train: 6.0915, loss_val: nan, pos_over_neg: 254.86465454101562 lr: 0.00031623\n",
      "Iter: 590/889, loss_train: 6.0816, loss_val: nan, pos_over_neg: 227.02903747558594 lr: 0.00031623\n",
      "Iter: 591/889, loss_train: 6.0786, loss_val: nan, pos_over_neg: 135.05950927734375 lr: 0.00031623\n",
      "Iter: 592/889, loss_train: 6.0976, loss_val: nan, pos_over_neg: 88.11859130859375 lr: 0.00031623\n",
      "Iter: 593/889, loss_train: 6.1118, loss_val: nan, pos_over_neg: 93.90153503417969 lr: 0.00031623\n",
      "Iter: 594/889, loss_train: 6.073, loss_val: nan, pos_over_neg: 224.89634704589844 lr: 0.00031623\n",
      "Iter: 595/889, loss_train: 6.0825, loss_val: nan, pos_over_neg: 1168.0810546875 lr: 0.00031623\n",
      "Iter: 596/889, loss_train: 6.0969, loss_val: nan, pos_over_neg: 764.650146484375 lr: 0.00031623\n",
      "Iter: 597/889, loss_train: 6.113, loss_val: nan, pos_over_neg: 355.5905456542969 lr: 0.00031623\n",
      "Iter: 598/889, loss_train: 6.0825, loss_val: nan, pos_over_neg: 388.9897766113281 lr: 0.00031623\n",
      "Iter: 599/889, loss_train: 6.0902, loss_val: nan, pos_over_neg: 225.8188018798828 lr: 0.00031623\n",
      "Iter: 600/889, loss_train: 6.0893, loss_val: nan, pos_over_neg: 191.72494506835938 lr: 0.00031623\n",
      "Iter: 601/889, loss_train: 6.0905, loss_val: nan, pos_over_neg: 159.7220458984375 lr: 0.00031623\n",
      "Iter: 602/889, loss_train: 6.1061, loss_val: nan, pos_over_neg: 99.53900146484375 lr: 0.00031623\n",
      "Iter: 603/889, loss_train: 6.0982, loss_val: nan, pos_over_neg: 175.92355346679688 lr: 0.00031623\n",
      "Iter: 604/889, loss_train: 6.081, loss_val: nan, pos_over_neg: 175.15061950683594 lr: 0.00031623\n",
      "Iter: 605/889, loss_train: 6.0923, loss_val: nan, pos_over_neg: 316.8839111328125 lr: 0.00031623\n",
      "Iter: 606/889, loss_train: 6.0866, loss_val: nan, pos_over_neg: 1005.1485595703125 lr: 0.00031623\n",
      "Iter: 607/889, loss_train: 6.0941, loss_val: nan, pos_over_neg: 1013.6686401367188 lr: 0.00031623\n",
      "Iter: 608/889, loss_train: 6.1293, loss_val: nan, pos_over_neg: 246.5176544189453 lr: 0.00031623\n",
      "Iter: 609/889, loss_train: 6.0783, loss_val: nan, pos_over_neg: 320.5046691894531 lr: 0.00031623\n",
      "Iter: 610/889, loss_train: 6.103, loss_val: nan, pos_over_neg: 479.34283447265625 lr: 0.00031623\n",
      "Iter: 611/889, loss_train: 6.0884, loss_val: nan, pos_over_neg: 256.17926025390625 lr: 0.00031623\n",
      "Iter: 612/889, loss_train: 6.1258, loss_val: nan, pos_over_neg: 99.29580688476562 lr: 0.00031623\n",
      "Iter: 613/889, loss_train: 6.0821, loss_val: nan, pos_over_neg: 147.30691528320312 lr: 0.00031623\n",
      "Iter: 614/889, loss_train: 6.078, loss_val: nan, pos_over_neg: 205.4303741455078 lr: 0.00031623\n",
      "Iter: 615/889, loss_train: 6.0746, loss_val: nan, pos_over_neg: 207.45558166503906 lr: 0.00031623\n"
     ]
    }
   ],
   "source": [
    "l2_alpha = 0.000\n",
    "n_epochs=300000\n",
    "\n",
    "acc_train_lst, acc_val_lst = [], []\n",
    "acc_train_SYT_lst, acc_val_SYT_lst = [], []\n",
    "\n",
    "for epoch in tqdm(range(n_epochs)):\n",
    "    print(f'epoch: {epoch}')\n",
    "    \n",
    "    ds_run, dl_run = get_ds_dl(input_xtr, run_transform, expand_dim=False)\n",
    "    features_train = torch.cat([model.get_head(model.base_model(data[0][0].to(DEVICE))).detach().cpu() for data in dl_run], dim=0)\n",
    "    ds_run, dl_run = get_ds_dl(input_xval, run_transform, expand_dim=False)\n",
    "    features_val = torch.cat([model.get_head(model.base_model(data[0][0].to(DEVICE))).detach().cpu() for data in dl_run], dim=0)\n",
    "    \n",
    "    ds_run, dl_run = get_ds_dl(input_xtr_SYT, run_transform, expand_dim=False)\n",
    "    features_train_SYT = torch.cat([model.get_head(model.base_model(data[0][0].to(DEVICE))).detach().cpu() for data in dl_run], dim=0)\n",
    "    ds_run, dl_run = get_ds_dl(input_xval_SYT, run_transform, expand_dim=False)\n",
    "    features_val_SYT = torch.cat([model.get_head(model.base_model(data[0][0].to(DEVICE))).detach().cpu() for data in dl_run], dim=0)\n",
    "\n",
    "\n",
    "    acc_train, acc_val = {}, {}\n",
    "    acc_train_SYT, acc_val_SYT = {}, {}\n",
    "    C_toUse = np.array([1e1,1e0,1e-1,1e-2])\n",
    "    for C in C_toUse:\n",
    "        logreg = sklearn.linear_model.LogisticRegression(solver='liblinear', max_iter=800, C=C)\n",
    "        logreg.fit(features_train, y_labeled_train)\n",
    "        acc_train_tmp = logreg.score(features_train, y_labeled_train)\n",
    "        acc_train[C] = acc_train_tmp\n",
    "        acc_val_tmp = logreg.score(features_val, y_labeled_val)\n",
    "        acc_val[C] = acc_val_tmp\n",
    "        \n",
    "        logreg_SYT = sklearn.linear_model.LogisticRegression(solver='liblinear', max_iter=800, C=C)\n",
    "        logreg_SYT.fit(features_train_SYT, y_labeled_train_SYT)\n",
    "        acc_train_tmp = logreg_SYT.score(features_train_SYT, y_labeled_train_SYT)\n",
    "        acc_train_SYT[C] = acc_train_tmp\n",
    "        acc_val_tmp = logreg_SYT.score(features_val_SYT, y_labeled_val_SYT)\n",
    "        acc_val_SYT[C] = acc_val_tmp\n",
    "\n",
    "    acc_train_lst.append(acc_train)\n",
    "    acc_val_lst.append(acc_val)\n",
    "    acc_train_SYT_lst.append(acc_train_SYT)\n",
    "    acc_val_SYT_lst.append(acc_val_SYT)\n",
    "\n",
    "    acc_train_df, acc_val_df, acc_train_SYT_df, acc_val_SYT_df = pd.DataFrame(acc_train_lst), pd.DataFrame(acc_val_lst), pd.DataFrame(acc_train_SYT_lst), pd.DataFrame(acc_val_SYT_lst)\n",
    "    \n",
    "    acc_train_df.to_csv(f'{base_dir}/github_repos/GCaMP_ROI_classifier/new_stuff/accuracies/{model_file_name}_train.csv')\n",
    "    acc_train_SYT_df.to_csv(f'{base_dir}/github_repos/GCaMP_ROI_classifier/new_stuff/accuracies/{model_file_name}_train_SYT.csv')\n",
    "    acc_val_df.to_csv(f'{base_dir}/github_repos/GCaMP_ROI_classifier/new_stuff/accuracies/{model_file_name}_val.csv')\n",
    "    acc_val_SYT_df.to_csv(f'{base_dir}/github_repos/GCaMP_ROI_classifier/new_stuff/accuracies/{model_file_name}_val_SYT.csv')\n",
    "    \n",
    "    \n",
    "    loss_rolling_train = training_simCLR.epoch_step(dataloader_train, \n",
    "                                    model, \n",
    "                                    optimizer, \n",
    "                                    criterion,\n",
    "                                    scheduler=scheduler,\n",
    "                                    temperature=0.5,\n",
    "                                    # l2_alpha,\n",
    "                                    mode='semi-supervised',\n",
    "                                    loss_rolling_train=losses_train, \n",
    "                                    loss_rolling_val=losses_val,\n",
    "                                    device=DEVICE, \n",
    "                                    verbose=2,\n",
    "                                    verbose_update_period=1,\n",
    "                                   \n",
    "#                                     do_validation=False,\n",
    "#                                     X_val=x_feed_through_val,\n",
    "#                                     y_val=torch.as_tensor(y_val, device=DEVICE)\n",
    "                                   )\n",
    "    \n",
    "    \n",
    "    torch.save(model.state_dict(), f'{base_dir}/github_repos/GCaMP_ROI_classifier/new_stuff/models/{model_file_name}.pth')\n",
    "   \n",
    "    \n",
    "    losses_train_npy = np.array(losses_train)\n",
    "    losses_val_npy = np.array(losses_val)\n",
    "    val_accs_npy = np.array(val_accs)\n",
    "    acc_npy = np.array(acc)\n",
    "\n",
    "    np.save(f'{base_dir}/github_repos/GCaMP_ROI_classifier/new_stuff/model_performance/{model_file_name}_losses_train.npy', losses_train_npy)\n",
    "    np.save(f'{base_dir}/github_repos/GCaMP_ROI_classifier/new_stuff/model_performance/{model_file_name}_losses_val.npy', losses_val_npy)\n",
    "    np.save(f'{base_dir}/github_repos/GCaMP_ROI_classifier/new_stuff/model_performance/{model_file_name}_val_accs.npy', val_accs_npy)\n",
    "    np.save(f'{base_dir}/github_repos/GCaMP_ROI_classifier/new_stuff/model_performance/{model_file_name}_tr_accs.npy', acc_npy)"
   ]
  },
  {
   "cell_type": "code",
   "execution_count": null,
   "metadata": {},
   "outputs": [],
   "source": [
    "break"
   ]
  },
  {
   "cell_type": "code",
   "execution_count": 34,
   "metadata": {},
   "outputs": [],
   "source": [
    "losses_train_npy = np.load(f'{base_dir}/github_repos/GCaMP_ROI_classifier/new_stuff/model_performance/{model_file_name}_losses_train.npy')\n",
    "losses_val_npy = np.load(f'{base_dir}/github_repos/GCaMP_ROI_classifier/new_stuff/model_performance/{model_file_name}_losses_val.npy')\n",
    "val_accs_npy = np.load(f'{base_dir}/github_repos/GCaMP_ROI_classifier/new_stuff/model_performance/{model_file_name}_val_accs.npy')\n",
    "acc_npy = np.load(f'{base_dir}/github_repos/GCaMP_ROI_classifier/new_stuff/model_performance/{model_file_name}_tr_accs.npy')\n",
    "\n",
    "losses_train = losses_train_npy\n",
    "losses_val = losses_val_npy\n",
    "val_accs = val_accs_npy\n",
    "acc = acc_npy"
   ]
  },
  {
   "cell_type": "code",
   "execution_count": 35,
   "metadata": {
    "colab": {
     "base_uri": "https://localhost:8080/",
     "height": 421
    },
    "id": "af10GlccgaV4",
    "outputId": "2ec75ade-6308-4a67-89e4-4bf3f996f746"
   },
   "outputs": [
    {
     "data": {
      "text/plain": [
       "Text(0, 0.5, 'Loss')"
      ]
     },
     "execution_count": 35,
     "metadata": {},
     "output_type": "execute_result"
    },
    {
     "data": {
      "image/png": "[encoded data removed]",
      "text/plain": [
       "<Figure size 864x432 with 1 Axes>"
      ]
     },
     "metadata": {
      "needs_background": "light"
     },
     "output_type": "display_data"
    }
   ],
   "source": [
    "# import seaborn as sns\n",
    "# sns.set(style='white', palette='bright', context='poster')\n",
    "plt.rcdefaults()\n",
    "\n",
    "%matplotlib inline\n",
    "plt.figure(figsize=(12,6))\n",
    "plt.plot(losses_train, label='Training Loss')\n",
    "plt.plot(losses_val, label='Validation Loss')\n",
    "plt.title(f'Loss — Balanced Transfer Learning, No Data Augmentation, L2 Lambda = {0}')\n",
    "plt.legend()\n",
    "plt.grid()\n",
    "plt.xlabel('Epoch Step')\n",
    "plt.ylabel('Loss')\n",
    "# plt.savefig('./Training-Loss.png')"
   ]
  },
  {
   "cell_type": "code",
   "execution_count": null,
   "metadata": {},
   "outputs": [],
   "source": [
    "break"
   ]
  },
  {
   "cell_type": "raw",
   "metadata": {
    "colab": {
     "base_uri": "https://localhost:8080/",
     "height": 706
    },
    "id": "Cl4TSsfc2MDy",
    "outputId": "ccc80bf3-a191-49ec-e635-dce022144cbe"
   },
   "source": [
    "%matplotlib inline\n",
    "plt.figure(figsize=(12,12))\n",
    "# val_transfer_cm = get_cm(features_val, y_val)\n",
    "# plt.imshow(val_transfer_cm)\n",
    "test_transfer_cm = get_cm(features_test, y_test)\n",
    "plt.imshow(test_transfer_cm)\n",
    "plt.colorbar()\n",
    "\n",
    "for i in range(test_transfer_cm.shape[0]):\n",
    "    for j in range(test_transfer_cm.shape[1]):\n",
    "        plt.annotate(np.round(test_transfer_cm[i,j], 3), (j,i), ha='center')\n",
    "plt.title(f'Test Confusion Matrix — Balanced Transfer Learning, No Augmentation, L2 Lambda = {l2_alpha}')\n",
    "plt.xlabel('True Class')\n",
    "plt.ylabel('Predicted Class')\n",
    "# plt.savefig('./Confusion-Matrix.png')\n"
   ]
  },
  {
   "cell_type": "code",
   "execution_count": null,
   "metadata": {
    "id": "rU8l0eP02TQR"
   },
   "outputs": [],
   "source": [
    "# model_file_name = 'ResNet18_simCLR_model_202112078_temp=1.0'\n",
    "# model_file_name = 'ResNet18_simCLR_model_202112078_EOD_transfmod=efficient'"
   ]
  },
  {
   "cell_type": "code",
   "execution_count": null,
   "metadata": {
    "id": "rU8l0eP02TQR"
   },
   "outputs": [],
   "source": [
    "# torch.save(model.state_dict(), '/media/rich/Home_Linux_partition/github_repos/GCaMP_ROI_classifier/new_stuff/models/ResNet18_simCLR_model_20211205_3.pth')\n",
    "# torch.save(model.state_dict(), f'{base_dir}/github_repos/GCaMP_ROI_classifier/new_stuff/models/{model_file_name}.pth')"
   ]
  },
  {
   "cell_type": "code",
   "execution_count": 38,
   "metadata": {},
   "outputs": [
    {
     "data": {
      "text/plain": [
       "<All keys matched successfully>"
      ]
     },
     "execution_count": 38,
     "metadata": {},
     "output_type": "execute_result"
    }
   ],
   "source": [
    "\n",
    "# model.load_state_dict(torch.load('/media/rich/Home_Linux_partition/github_repos/GCaMP_ROI_classifier/new_stuff/models/ResNet18_simCLR_model_20211205_2.pth'))\n",
    "model.load_state_dict(torch.load(f'{base_dir}github_repos/GCaMP_ROI_classifier/new_stuff/models/{model_file_name}.pth', map_location=torch.device('cpu')))"
   ]
  },
  {
   "cell_type": "code",
   "execution_count": null,
   "metadata": {},
   "outputs": [],
   "source": [
    "losses_train_npy = np.array(losses_train)\n",
    "losses_val_npy = np.array(losses_val)\n",
    "val_accs_npy = np.array(val_accs)\n",
    "acc_npy = np.array(acc)\n",
    "\n",
    "np.save(f'{base_dir}/github_repos/GCaMP_ROI_classifier/new_stuff/model_performance/{model_file_name}_losses_train.npy', losses_train_npy)\n",
    "np.save(f'{base_dir}/github_repos/GCaMP_ROI_classifier/new_stuff/model_performance/{model_file_name}_losses_val.npy', losses_val_npy)\n",
    "np.save(f'{base_dir}/github_repos/GCaMP_ROI_classifier/new_stuff/model_performance/{model_file_name}_val_accs.npy', val_accs_npy)\n",
    "np.save(f'{base_dir}/github_repos/GCaMP_ROI_classifier/new_stuff/model_performance/{model_file_name}_tr_accs.npy', acc_npy)"
   ]
  },
  {
   "cell_type": "code",
   "execution_count": null,
   "metadata": {},
   "outputs": [],
   "source": []
  },
  {
   "cell_type": "markdown",
   "metadata": {
    "id": "FEqA0gLPl3-6"
   },
   "source": [
    "## Train classifier using classifier layers of model (or do supervised learning)"
   ]
  },
  {
   "cell_type": "raw",
   "metadata": {
    "id": "fmMkNykeVHbn"
   },
   "source": [
    "test_transfer_cm = get_cm(features_test, y_test)\n",
    "np.save(f'/content/drive/MyDrive/00 - ROI/GCaMP_ROI_classifier/new_stuff/npy-figures/TestingCM-{\"Un\" if not balanced else \"\"}Balanced-Transfer—L2Lambda={l2_alpha}.npy',\n",
    "        test_transfer_cm)\n",
    "torch.save(model.state_dict(), f'/content/drive/MyDrive/00 - ROI/GCaMP_ROI_classifier/new_stuff/npy-figures/TestingCM-{\"Un\" if not balanced else \"\"}Balanced-Transfer—L2Lambda={l2_alpha}.pth')\n",
    "\n",
    "np.save(f'/content/drive/MyDrive/00 - ROI/GCaMP_ROI_classifier/new_stuff/npy-figures/TestingCM-{\"Un\" if not balanced else \"\"}Balanced-SKLearn-Solver={solver}—C={C_reg}.npy',\n",
    "        logistic_pred_test)"
   ]
  },
  {
   "cell_type": "raw",
   "metadata": {
    "id": "zo42G3CeWozY"
   },
   "source": [
    "from sklearn.metrics import confusion_matrix\n",
    "\n",
    "def get_cm(pred_cm, y_cm, plot=False):\n",
    "  ### NOTE — RETURNS A MATRIX WITH PREDICTION NUM ASSOCIATED WITH ROW NUM\n",
    "  ### AND COLUMN NUM ASSOCIATED WITH TRUE VALUE. (TRANSPOSE OF SKLEARN OUTPUT.)\n",
    "\n",
    "  cm = confusion_matrix(y_cm, np.argmax(pred_cm, -1))\n",
    "  cm = cm / np.where(cm.sum(1, keepdims=True)==0, np.ones_like(cm.sum(1, keepdims=True)), cm.sum(1, keepdims=True))\n",
    "  \n",
    "  # cm = classification.confusion_matrix(y_hat, y_labeled_val)\n",
    "  # print(cm)\n",
    "  \n",
    "  if plot:\n",
    "    plt.figure()\n",
    "    plt.imshow(cm)\n",
    "    plt.colorbar()\n",
    "    plt.show()\n",
    "  \n",
    "  return cm.T"
   ]
  },
  {
   "cell_type": "raw",
   "metadata": {
    "colab": {
     "base_uri": "https://localhost:8080/"
    },
    "id": "YWk_NgpNd2Ia",
    "outputId": "2959f230-bd91-46cd-e898-d270aade7e54"
   },
   "source": [
    "num_tr_ex = X_val.shape[0]\n",
    "\n",
    "\n",
    "# solver = 'lbfgs'\n",
    "solver = 'liblinear'\n",
    "# solver = 'newton-cg'\n",
    "C_reg = 0.01\n",
    "# C_reg = 0.0001\n",
    "\n",
    "\n",
    "# logreg = LogisticRegression(solver=solver, C=C_reg)\n",
    "# logreg = LogisticRegression(solver=solver, penalty='none', )\n",
    "# logreg = LogisticRegression(solver=solver, penalty='none', max_iter=4000)\n",
    "# logreg = LogisticRegression(solver=solver)\n",
    "logreg = LogisticRegression(solver=solver, C=C_reg)\n",
    "# logreg = LogisticRegression(solver='lbfgs', penalty='none', max_iter=4000)\n",
    "\n",
    "# base_features_train = base_model_frozen(x_feed_through_tr).detach().cpu()\n",
    "base_features_train = cpu_tr.cpu().detach().numpy()\n",
    "logreg.fit(base_features_train, y_train)\n",
    "\n",
    "# base_features_val = base_model_frozen(x_feed_through_val).detach().cpu()\n",
    "base_features_val = cpu_val.cpu().detach().numpy()\n",
    "\n",
    "base_features_te = cpu_te.cpu().detach().numpy()\n",
    "\n",
    "# base_model_frozen.to('cpu')\n",
    "# X_labeled_train.to('cpu')\n",
    "\n",
    "logistic_pred_train = get_cm(logreg.predict_proba(base_features_train), y_train)\n",
    "logistic_pred_val = get_cm(logreg.predict_proba(base_features_val), y_val)\n",
    "logistic_pred_test = get_cm(logreg.predict_proba(base_features_te), y_test)\n",
    "\n",
    "\n",
    "x_feed_through_tr.to(DEVICE)\n",
    "x_feed_through_val.to(DEVICE)\n",
    "x_feed_through_te.to(DEVICE)\n",
    "\n",
    "print(x_feed_through_tr.shape, x_feed_through_val.shape)"
   ]
  },
  {
   "cell_type": "code",
   "execution_count": null,
   "metadata": {
    "id": "WLH9o3jLl4G_"
   },
   "outputs": [],
   "source": []
  },
  {
   "cell_type": "markdown",
   "metadata": {
    "id": "QjNJk6Qwl4O3"
   },
   "source": [
    "Freeze pre-head layers, unfreeze classification layers"
   ]
  },
  {
   "cell_type": "markdown",
   "metadata": {
    "id": "Zq4toNxdl4jb"
   },
   "source": [
    "Define labeled dataset to use"
   ]
  },
  {
   "cell_type": "raw",
   "metadata": {
    "id": "MGvBSux9l4pn"
   },
   "source": [
    "X_labeled_train, X_labeled_val, y_labeled_train, y_labeled_val"
   ]
  },
  {
   "cell_type": "markdown",
   "metadata": {
    "id": "JS_mTd7cl4vI"
   },
   "source": [
    "Train model"
   ]
  },
  {
   "cell_type": "code",
   "execution_count": null,
   "metadata": {},
   "outputs": [],
   "source": [
    "from torch.nn import CrossEntropyLoss\n",
    "from torch.optim import Adam\n",
    "\n",
    "import numpy as np\n",
    "\n",
    "from sklearn.linear_model import LogisticRegression\n",
    "from sklearn.tree import DecisionTreeClassifier\n",
    "from sklearn.ensemble import RandomForestClassifier\n",
    "from sklearn.svm import SVC\n",
    "\n",
    "criterion = [CrossEntropyLoss()]\n",
    "# criterion = CrossEntropyLoss(reduction='none')\n",
    "\n",
    "# optimizer = Adam(model.parameters(), lr=1e-2, weight_decay=0.0)\n",
    "# optimizer = Adam(model.parameters(), lr=2e-2)\n",
    "optimizer = Adam(model.parameters(), lr=10**(-4.5))\n",
    "scheduler = torch.optim.lr_scheduler.ExponentialLR(optimizer,\n",
    "                                                   gamma=1-0.0000,\n",
    "#                                                    gamma=1,\n",
    "                                                  )\n",
    "criterion = [_.to(DEVICE) for _ in criterion]\n",
    "losses_train, losses_val, val_accs, acc = [], [np.nan], [], []"
   ]
  },
  {
   "cell_type": "code",
   "execution_count": null,
   "metadata": {},
   "outputs": [],
   "source": [
    "def transform_null(var):\n",
    "    return(var)"
   ]
  },
  {
   "cell_type": "code",
   "execution_count": null,
   "metadata": {},
   "outputs": [],
   "source": [
    "model.reinit_classifier()\n",
    "model.train()\n",
    "model.prep_classifier()"
   ]
  },
  {
   "cell_type": "code",
   "execution_count": null,
   "metadata": {},
   "outputs": [],
   "source": [
    "dataset_validation = util.dataset_simCLR(\n",
    "                                    torch.as_tensor(masks_cat, device='cpu', dtype=torch.float32), \n",
    "                                    torch.as_tensor(torch.zeros(masks_cat.shape[0]), device='cpu', dtype=torch.float32),\n",
    "\n",
    "                                    n_transforms=1,\n",
    "                                    class_weights=np.array([1]),\n",
    "                                    # class_weights=np.array([1]*4)[np.random.randint(0,4, X_train.shape[0])],\n",
    "                                    transform=scripted_transforms_validation,\n",
    "                                    # DEVICE='cpu',\n",
    "                                    DEVICE='cpu',\n",
    "                                    dtype_X=torch.float32,\n",
    "                                    dtype_y=torch.int64,\n",
    "                                    \n",
    "                                    temp_uncertainty=16\n",
    "                                    )\n",
    "dataloader_validation = torch.utils.data.DataLoader( dataset_validation,\n",
    "#                                                 batch_size=int(pct_batch_size*X_train.shape[0]),\n",
    "                                                batch_size=1024,\n",
    "                                                shuffle=True,\n",
    "                                                drop_last=True,\n",
    "                                                pin_memory=True,\n",
    "                                                num_workers=32,\n",
    "                                                persistent_workers=True,\n",
    "                                                # prefetch_factor=0\n",
    "                                                )"
   ]
  },
  {
   "cell_type": "code",
   "execution_count": null,
   "metadata": {
    "id": "v4WvU5xxl41A"
   },
   "outputs": [],
   "source": [
    "data_unlabeled = torch.as_tensor(masks_cat, dtype=torch.float32, device='cpu')\n",
    "\n",
    "# model.to(DEVICE)\n",
    "\n",
    "l2_alpha = 0.000\n",
    "\n",
    "n_epochs=300000\n",
    "for epoch in range(n_epochs):\n",
    "    print(f'epoch: {epoch}')\n",
    "    loss_rolling_train = training_simCLR.epoch_step(dataloader_validation, \n",
    "                                    model, \n",
    "                                    optimizer, \n",
    "                                    criterion, \n",
    "\n",
    "                                    # penalized_params, l2_alpha,\n",
    "\n",
    "                                    scheduler=scheduler,\n",
    "                                    L2_alpha=0.04,\n",
    "                                    mode='supervised',\n",
    "                                    loss_rolling_train=losses_train, \n",
    "                                    device=DEVICE, \n",
    "                                    loss_rolling_val=losses_val,\n",
    "                                    verbose=2,\n",
    "                                    verbose_update_period=1,\n",
    "                                   \n",
    "#                                     do_validation=False,\n",
    "#                                     X_val=x_feed_through_val,\n",
    "#                                     y_val=torch.as_tensor(y_val, device=DEVICE)\n",
    "                                   )"
   ]
  },
  {
   "cell_type": "markdown",
   "metadata": {
    "id": "HAcpUsTJl46l"
   },
   "source": [
    "Evalculate model"
   ]
  },
  {
   "cell_type": "code",
   "execution_count": null,
   "metadata": {
    "id": "aHaYL5XjaBfP"
   },
   "outputs": [],
   "source": [
    "%matplotlib notebook\n",
    "\n",
    "plt.figure()\n",
    "plt.plot(loss_rolling_train)\n",
    "\n",
    "data_in = torch.as_tensor(X_labeled_val, dtype=torch.float32, device=DEVICE)\n",
    "# data_in = torch.as_tensor(X_labeled_train, dtype=torch.float32, device=DEVICE)\n",
    "data_in = util.tile_channels(data_in[:,None,...], dim=1)\n",
    "proba = torch.nn.functional.softmax(model.forward_classifier(data_in), dim=1)\n",
    "cm = classification.confusion_matrix(proba.detach().cpu().numpy(), y_labeled_val)\n",
    "# cm = classification.confusion_matrix(proba.detach().cpu().numpy(), y_labeled_train)\n",
    "\n",
    "plt.figure()\n",
    "plt.imshow(cm, aspect='auto')\n",
    "plt.colorbar()"
   ]
  },
  {
   "cell_type": "code",
   "execution_count": null,
   "metadata": {
    "id": "aHaYL5XjaBfP"
   },
   "outputs": [],
   "source": [
    "%matplotlib notebook\n",
    "data_in = torch.as_tensor(X_labeled_train, dtype=torch.float32, device=DEVICE)\n",
    "data_in = util.tile_channels(data_in[:,None,...], dim=1)\n",
    "proba = torch.nn.functional.softmax(model.forward_classifier(data_in), dim=1)\n",
    "cm = classification.confusion_matrix(proba.detach().cpu().numpy(), y_labeled_train)\n",
    "\n",
    "plt.figure()\n",
    "plt.imshow(cm)\n",
    "plt.colorbar()"
   ]
  },
  {
   "cell_type": "code",
   "execution_count": null,
   "metadata": {
    "id": "QNlRDjrVaCD-"
   },
   "outputs": [],
   "source": []
  },
  {
   "cell_type": "code",
   "execution_count": null,
   "metadata": {},
   "outputs": [],
   "source": [
    "misc.estimate_size_of_float_array(input_shape=(80000,3,224,224), bitsize=32)/1000000000"
   ]
  },
  {
   "cell_type": "code",
   "execution_count": null,
   "metadata": {},
   "outputs": [],
   "source": []
  },
  {
   "cell_type": "markdown",
   "metadata": {},
   "source": [
    "## Use sklearn to train classifier"
   ]
  },
  {
   "cell_type": "code",
   "execution_count": 39,
   "metadata": {
    "id": "rU8l0eP02TQR"
   },
   "outputs": [],
   "source": [
    "transforms_validation = torch.nn.Sequential(\n",
    "    augmentation.ScaleDynamicRange(scaler_bounds=(0,1)),\n",
    "    torchvision.transforms.Resize(size=(224,224),\n",
    "                                  interpolation=torchvision.transforms.InterpolationMode.BILINEAR), \n",
    "    augmentation.TileChannels(dim=0, n_channels=3),\n",
    "#     augmentation.Normalize(  means=[0.485, 0.456, 0.406],\n",
    "#                              stds=[0.229, 0.224, 0.225]),\n",
    "#     torchvision.transforms.Normalize(mean=[0.485, 0.456, 0.406],\n",
    "#                                      std=[0.229, 0.224, 0.225],\n",
    "#                                      inplace=False),\n",
    ")\n",
    "scripted_transforms_validation = torch.jit.script(transforms_validation)\n",
    "# scripted_transforms = transforms\n"
   ]
  },
  {
   "cell_type": "code",
   "execution_count": 47,
   "metadata": {},
   "outputs": [],
   "source": [
    "dataset_labeled_train = util.dataset_simCLR(\n",
    "                                    torch.as_tensor(X_labeled_train, device='cpu', dtype=torch.float32), \n",
    "#                                     torch.as_tensor(X_labeled_train_SYT, device='cpu', dtype=torch.float32), \n",
    "                                    torch.as_tensor(torch.zeros(X_labeled_train.shape[0]), device='cpu', dtype=torch.float32),\n",
    "#                                     torch.as_tensor(torch.zeros(X_labeled_train_SYT.shape[0]), device='cpu', dtype=torch.float32),\n",
    "\n",
    "                                    n_transforms=1,\n",
    "                                    class_weights=np.array([1]),\n",
    "                                    # class_weights=np.array([1]*4)[np.random.randint(0,4, X_train.shape[0])],\n",
    "                                    transform=scripted_transforms_validation,\n",
    "                                    # DEVICE='cpu',\n",
    "                                    DEVICE='cpu',\n",
    "                                    dtype_X=torch.float32,\n",
    "                                    dtype_y=torch.int64,\n",
    "                                    \n",
    "                                    temp_uncertainty=16\n",
    "                                    )\n",
    "dataset_labeled_val = util.dataset_simCLR(\n",
    "                                    torch.as_tensor(X_labeled_val, device='cpu', dtype=torch.float32), \n",
    "#                                     torch.as_tensor(X_labeled_val_SYT, device='cpu', dtype=torch.float32), \n",
    "                                    torch.as_tensor(torch.zeros(X_labeled_val.shape[0]), device='cpu', dtype=torch.float32),\n",
    "#                                     torch.as_tensor(torch.zeros(X_labeled_val_SYT.shape[0]), device='cpu', dtype=torch.float32),\n",
    "\n",
    "                                    n_transforms=1,\n",
    "                                    class_weights=np.array([1]),\n",
    "                                    # class_weights=np.array([1]*4)[np.random.randint(0,4, X_train.shape[0])],\n",
    "                                    transform=scripted_transforms_validation,\n",
    "                                    # DEVICE='cpu',\n",
    "                                    DEVICE='cpu',\n",
    "                                    dtype_X=torch.float32,\n",
    "                                    dtype_y=torch.int64,\n",
    "                                    \n",
    "                                    temp_uncertainty=16\n",
    "                                    )\n",
    "dataloader_labeled_train = torch.utils.data.DataLoader( dataset_labeled_train,\n",
    "    #                                                 batch_size=int(pct_batch_size*X_train.shape[0]),\n",
    "                                                    batch_size=1024,\n",
    "                                                    shuffle=False,\n",
    "                                                    drop_last=False,\n",
    "#                                                     pin_memory=True,\n",
    "#                                                     num_workers=32,\n",
    "#                                                     persistent_workers=True,\n",
    "#                                                     # prefetch_factor=0\n",
    "                                                    )\n",
    "dataloader_labeled_val = torch.utils.data.DataLoader( dataset_labeled_val,\n",
    "    #                                                 batch_size=int(pct_batch_size*X_train.shape[0]),\n",
    "                                                    batch_size=1024,\n",
    "                                                    shuffle=False,\n",
    "                                                    drop_last=False,\n",
    "#                                                     pin_memory=True,\n",
    "#                                                     num_workers=32,\n",
    "#                                                     persistent_workers=True,\n",
    "#                                                     # prefetch_factor=0\n",
    "                                                    )\n"
   ]
  },
  {
   "cell_type": "code",
   "execution_count": 48,
   "metadata": {},
   "outputs": [],
   "source": [
    "# DEVICE = torch_helpers.set_device(use_GPU=True)"
   ]
  },
  {
   "cell_type": "code",
   "execution_count": 49,
   "metadata": {},
   "outputs": [],
   "source": [
    "model.eval()\n",
    "model.to(DEVICE)\n",
    "features_train = torch.cat([model.get_head(model.base_model(data[0][0].to(DEVICE))).detach().cpu() for data in dataloader_labeled_train], dim=0)\n",
    "features_val   = torch.cat([model.get_head(model.base_model(data[0][0].to(DEVICE))).detach().cpu() for data in dataloader_labeled_val], dim=0)"
   ]
  },
  {
   "cell_type": "code",
   "execution_count": 50,
   "metadata": {},
   "outputs": [
    {
     "data": {
      "text/plain": [
       "(torch.Size([1702, 512]), torch.Size([426, 512]))"
      ]
     },
     "execution_count": 50,
     "metadata": {},
     "output_type": "execute_result"
    }
   ],
   "source": [
    "features_train.shape, features_val.shape"
   ]
  },
  {
   "cell_type": "markdown",
   "metadata": {},
   "source": [
    "run a sweep of logistic regressions over C (1/L2) parameter"
   ]
  },
  {
   "cell_type": "code",
   "execution_count": 52,
   "metadata": {},
   "outputs": [
    {
     "data": {
      "image/png": "[encoded data removed]",
      "text/plain": [
       "<Figure size 432x288 with 1 Axes>"
      ]
     },
     "metadata": {
      "needs_background": "light"
     },
     "output_type": "display_data"
    }
   ],
   "source": [
    "acc_train, acc_val = [], []\n",
    "# C_toUse = np.array([1000,100,10,1,0.1,0.01,0.001,0.0001,0.00001])\n",
    "C_toUse = np.array([10,1,0.1,0.01,0.001,0.0001,0.00001])\n",
    "for C in C_toUse:\n",
    "#     print(f'C = {C}')\n",
    "    logreg = sklearn.linear_model.LogisticRegression(solver='liblinear', max_iter=800, C=C)\n",
    "#     tic = time.time()\n",
    "#     logreg.fit(features_train, y_labeled_train_SYT)\n",
    "    logreg.fit(features_train, y_labeled_train)\n",
    "#     print(f'time: {time.time() - tic}')\n",
    "#     acc = logreg.score(features_train, y_labeled_train_SYT)\n",
    "    acc = logreg.score(features_train, y_labeled_train)\n",
    "    acc_train.append(acc)\n",
    "#     print(f'acc_train: {acc}')\n",
    "#     acc = logreg.score(features_val, y_labeled_val_SYT)\n",
    "    acc = logreg.score(features_val, y_labeled_val)\n",
    "    acc_val.append(acc)\n",
    "#     print(f'acc_val: {acc}')\n",
    "#     print('')\n",
    "    \n",
    "\n",
    "plt.figure()\n",
    "plt.plot(C_toUse, acc_train)\n",
    "plt.plot(C_toUse, acc_val)\n",
    "plt.xscale('log')\n",
    "plt.xlabel('C')\n",
    "plt.ylabel('acc')\n",
    "plt.legend(['train', 'test']);"
   ]
  },
  {
   "cell_type": "code",
   "execution_count": 53,
   "metadata": {},
   "outputs": [],
   "source": [
    "# acc_train, acc_val = [], []\n",
    "# # C_toUse = np.array([1000,100,10,1,0.1,0.01,0.001,0.0001,0.00001])\n",
    "# # C_toUse = np.array([10,1,0.1,0.01,0.001,0.0001,0.00001])\n",
    "# C_toUse = np.array([10000])\n",
    "# for C in tqdm(C_toUse):\n",
    "# #     print(f'C = {C}')\n",
    "#     logreg = sklearn.linear_model.LogisticRegression(solver='liblinear', max_iter=800, C=C)\n",
    "# #     tic = time.time()\n",
    "#     logreg.fit(features_train, y_labeled_train_SYT)\n",
    "# #     print(f'time: {time.time() - tic}')\n",
    "#     acc = logreg.score(features_train, y_labeled_train_SYT)\n",
    "#     acc_train.append(acc)\n",
    "# #     print(f'acc_train: {acc}')\n",
    "#     acc = logreg.score(features_val, y_labeled_val_SYT)\n",
    "#     acc_val.append(acc)\n",
    "# #     print(f'acc_val: {acc}')\n",
    "# #     print('')\n",
    "    \n",
    "\n",
    "# plt.figure()\n",
    "# plt.plot(C_toUse, acc_train)\n",
    "# plt.plot(C_toUse, acc_val)\n",
    "# plt.xscale('log')\n",
    "# plt.xlabel('C')\n",
    "# plt.ylabel('acc')\n",
    "# plt.legend(['train', 'test']);"
   ]
  },
  {
   "cell_type": "code",
   "execution_count": null,
   "metadata": {},
   "outputs": [],
   "source": []
  },
  {
   "cell_type": "code",
   "execution_count": 54,
   "metadata": {},
   "outputs": [
    {
     "name": "stderr",
     "output_type": "stream",
     "text": [
      "100%|██████████| 50/50 [00:55<00:00,  1.10s/it]\n",
      "100%|██████████| 50/50 [00:28<00:00,  1.74it/s]\n",
      "100%|██████████| 50/50 [00:16<00:00,  3.01it/s]\n",
      "100%|██████████| 50/50 [00:11<00:00,  4.35it/s]\n",
      "100%|██████████| 50/50 [00:07<00:00,  7.11it/s]\n"
     ]
    },
    {
     "data": {
      "image/png": "[encoded data removed]",
      "text/plain": [
       "<Figure size 720x720 with 20 Axes>"
      ]
     },
     "metadata": {
      "needs_background": "light"
     },
     "output_type": "display_data"
    }
   ],
   "source": [
    "from sklearn.model_selection import ShuffleSplit\n",
    "splitter = ShuffleSplit(n_splits=50)\n",
    "all_split_inx = list(splitter.split(features_train))\n",
    "\n",
    "train_X = [features_train[_[0]] for _ in all_split_inx]\n",
    "train_y = [y_labeled_train[_[0]] for _ in all_split_inx]\n",
    "# train_y = [y_labeled_train_SYT[_[0]] for _ in all_split_inx]\n",
    "test_X = [features_train[_[1]] for _ in all_split_inx]\n",
    "test_y = [y_labeled_train[_[1]] for _ in all_split_inx]\n",
    "# test_y = [y_labeled_train_SYT[_[1]] for _ in all_split_inx]\n",
    "\n",
    "%matplotlib inline\n",
    "\n",
    "c_lst = [1e1, 1e0, 1e-1, 1e-2, 1e-3]\n",
    "\n",
    "fig, ax = plt.subplots(len(c_lst), 2, figsize=(10,10))\n",
    "plt.suptitle(f'{model_file_name}')\n",
    "\n",
    "for ic, c in enumerate(c_lst):\n",
    "    train_cms = []\n",
    "    test_cms = []\n",
    "    for inx_split in trange(len(train_X)):\n",
    "        tmp_train_X = train_X[inx_split]\n",
    "        tmp_train_y = train_y[inx_split]\n",
    "        \n",
    "        tmp_test_X = test_X[inx_split]\n",
    "        tmp_test_y = test_y[inx_split]\n",
    "        \n",
    "        logreg = sklearn.linear_model.LogisticRegression(solver='liblinear', max_iter=800, C=c).fit(tmp_train_X, tmp_train_y)\n",
    "        \n",
    "        \n",
    "        \n",
    "        \n",
    "        \n",
    "        proba = logreg.predict_proba(tmp_train_X)\n",
    "\n",
    "        preds = np.argmax(proba, axis=1)\n",
    "        cm = classification.confusion_matrix(preds, tmp_train_y)\n",
    "        train_cms.append(cm)\n",
    "\n",
    "#         plt.figure()\n",
    "#         sns.heatmap(cm, annot=True, annot_kws={\"size\": 16}, vmax=1., cmap=plt.get_cmap('gray'))\n",
    "#         plt.title('train');\n",
    "        \n",
    "        proba = logreg.predict_proba(tmp_test_X)\n",
    "        preds = np.argmax(proba, axis=1)\n",
    "        cm = classification.confusion_matrix(preds, tmp_test_y)\n",
    "        test_cms.append(cm)\n",
    "        \n",
    "#         plt.figure()\n",
    "#         sns.heatmap(cm, annot=True, annot_kws={\"size\": 16}, vmax=1., cmap=plt.get_cmap('gray'))\n",
    "#         plt.title('val');\n",
    "\n",
    "    sns.heatmap(np.mean(train_cms,axis=0), annot=True, annot_kws={\"size\": 16}, vmax=1., cmap=plt.get_cmap('gray'), ax=ax[ic, 0])\n",
    "    ax[ic, 0].set_title(f'train — C:{c}');\n",
    "\n",
    "    sns.heatmap(np.mean(test_cms,axis=0), annot=True, annot_kws={\"size\": 16}, vmax=1., cmap=plt.get_cmap('gray'), ax=ax[ic, 1])\n",
    "    ax[ic, 1].set_title(f'val — C:{c}');\n",
    "\n",
    "plt.tight_layout()\n"
   ]
  },
  {
   "cell_type": "markdown",
   "metadata": {},
   "source": [
    "run a sinlg logistic regression with desired parameters and check confusion matrix"
   ]
  },
  {
   "cell_type": "code",
   "execution_count": null,
   "metadata": {},
   "outputs": [],
   "source": [
    "logreg = sklearn.linear_model.LogisticRegression(solver='liblinear', max_iter=800, C=10**(1)).fit(features_train, y_labeled_train_SYT)"
   ]
  },
  {
   "cell_type": "code",
   "execution_count": null,
   "metadata": {},
   "outputs": [],
   "source": [
    "%matplotlib inline\n",
    "proba = logreg.predict_proba(features_train)\n",
    "\n",
    "preds = np.argmax(proba, axis=1)\n",
    "# cm = classification.confusion_matrix(preds, y_labeled_train)\n",
    "cm = classification.confusion_matrix(preds, y_labeled_train_SYT)\n",
    "\n",
    "plt.figure()\n",
    "sns.heatmap(cm, annot=True, annot_kws={\"size\": 16}, vmax=1., cmap=plt.get_cmap('gray'))\n",
    "plt.title('train');\n",
    "\n",
    "proba = logreg.predict_proba(features_val)\n",
    "preds = np.argmax(proba, axis=1)\n",
    "# cm = classification.confusion_matrix(preds, y_labeled_val)\n",
    "cm = classification.confusion_matrix(preds, y_labeled_val_SYT)\n",
    "\n",
    "plt.figure()\n",
    "sns.heatmap(cm, annot=True, annot_kws={\"size\": 16}, vmax=1., cmap=plt.get_cmap('gray'))\n",
    "plt.title('val');\n"
   ]
  },
  {
   "cell_type": "code",
   "execution_count": null,
   "metadata": {},
   "outputs": [],
   "source": [
    "# %matplotlib notebook\n",
    "# proba = logreg.predict_proba(features_train)\n",
    "\n",
    "# preds = np.argmax(proba, axis=1)\n",
    "# cm = classification.confusion_matrix(preds, y_labeled_train_SYT)\n",
    "\n",
    "# plt.figure()\n",
    "# sns.heatmap(cm, annot=True, annot_kws={\"size\": 16}, vmax=1., cmap=plt.get_cmap('gray'))\n",
    "# plt.title('train');\n",
    "\n",
    "# proba = logreg.predict_proba(features_val)\n",
    "# preds = np.argmax(proba, axis=1)\n",
    "# cm = classification.confusion_matrix(preds, y_labeled_val_SYT)\n",
    "\n",
    "# plt.figure()\n",
    "# sns.heatmap(cm, annot=True, annot_kws={\"size\": 16}, vmax=1., cmap=plt.get_cmap('gray'))\n",
    "# plt.title('val');\n"
   ]
  },
  {
   "cell_type": "code",
   "execution_count": null,
   "metadata": {},
   "outputs": [],
   "source": []
  },
  {
   "cell_type": "code",
   "execution_count": null,
   "metadata": {},
   "outputs": [],
   "source": []
  },
  {
   "cell_type": "code",
   "execution_count": null,
   "metadata": {},
   "outputs": [],
   "source": []
  },
  {
   "cell_type": "markdown",
   "metadata": {
    "id": "_CchY4kGDB00"
   },
   "source": [
    "## Check embeddings"
   ]
  },
  {
   "cell_type": "code",
   "execution_count": null,
   "metadata": {},
   "outputs": [],
   "source": [
    "model.eval();\n",
    "# model.to(DEVICE);"
   ]
  },
  {
   "cell_type": "code",
   "execution_count": null,
   "metadata": {
    "id": "JcrdLrYtDB00"
   },
   "outputs": [],
   "source": [
    "torch.cuda.empty_cache()"
   ]
  },
  {
   "cell_type": "code",
   "execution_count": null,
   "metadata": {
    "tags": []
   },
   "outputs": [],
   "source": [
    "# dataset_unlabeled_noAug = util.dataset_simCLR(\n",
    "#                                     torch.as_tensor(masks_cat[:], device='cpu', dtype=torch.float32), \n",
    "#                                     torch.as_tensor(torch.zeros(masks_cat[:].shape[0]), device='cpu', dtype=torch.float32),\n",
    "\n",
    "#                                     n_transforms=1,\n",
    "#                                     class_weights=np.array([1]),\n",
    "#                                     # class_weights=np.array([1]*4)[np.random.randint(0,4, X_train.shape[0])],\n",
    "#                                     transform=scripted_transforms_validation,\n",
    "#                                     # DEVICE='cpu',\n",
    "#                                     DEVICE='cpu',\n",
    "#                                     dtype_X=torch.float32,\n",
    "#                                     dtype_y=torch.int64,\n",
    "                                    \n",
    "#                                     temp_uncertainty=16\n",
    "#                                     )\n",
    "# dataloader_unlabeled_noAug = torch.utils.data.DataLoader( dataset_unlabeled_noAug,\n",
    "# #                                                 batch_size=int(pct_batch_size*X_train.shape[0]),\n",
    "#                                                 batch_size=1024,\n",
    "#                                                 shuffle=False,\n",
    "#                                                 drop_last=False,\n",
    "#                                                 pin_memory=True,\n",
    "#                                                 num_workers=32,\n",
    "#                                                 persistent_workers=True,\n",
    "#                                                 # prefetch_factor=0\n",
    "#                                                 )"
   ]
  },
  {
   "cell_type": "code",
   "execution_count": null,
   "metadata": {},
   "outputs": [],
   "source": [
    "masks_labe"
   ]
  },
  {
   "cell_type": "code",
   "execution_count": null,
   "metadata": {},
   "outputs": [],
   "source": [
    "dataset_unlabeled_noAug = util.dataset_simCLR(\n",
    "                                    torch.as_tensor(images_dup[:], device='cpu', dtype=torch.float32), \n",
    "                                    torch.as_tensor(torch.zeros(images_dup[:].shape[0]), device='cpu', dtype=torch.float32),\n",
    "\n",
    "                                    n_transforms=1,\n",
    "                                    class_weights=np.array([1]),\n",
    "                                    # class_weights=np.array([1]*4)[np.random.randint(0,4, X_train.shape[0])],\n",
    "                                    transform=scripted_transforms_validation,\n",
    "                                    # DEVICE='cpu',\n",
    "                                    DEVICE='cpu',\n",
    "                                    dtype_X=torch.float32,\n",
    "                                    dtype_y=torch.int64,\n",
    "                                    \n",
    "                                    temp_uncertainty=16\n",
    "                                    )\n",
    "dataloader_unlabeled_noAug = torch.utils.data.DataLoader( dataset_unlabeled_noAug,\n",
    "#                                                 batch_size=int(pct_batch_size*X_train.shape[0]),\n",
    "                                                batch_size=1024,\n",
    "                                                shuffle=False,\n",
    "                                                drop_last=False,\n",
    "                                                pin_memory=True,\n",
    "                                                num_workers=16,\n",
    "                                                persistent_workers=True,\n",
    "                                                # prefetch_factor=0\n",
    "                                                )"
   ]
  },
  {
   "cell_type": "code",
   "execution_count": null,
   "metadata": {},
   "outputs": [],
   "source": [
    "# dataset_unlabeled_noAug = util.dataset_simCLR(\n",
    "#                                     torch.as_tensor(masks_SYT[:], device='cpu', dtype=torch.float32), \n",
    "#                                     torch.as_tensor(torch.zeros(masks_SYT[:].shape[0]), device='cpu', dtype=torch.float32),\n",
    "\n",
    "#                                     n_transforms=1,\n",
    "#                                     class_weights=np.array([1]),\n",
    "#                                     # class_weights=np.array([1]*4)[np.random.randint(0,4, X_train.shape[0])],\n",
    "#                                     transform=scripted_transforms_validation,\n",
    "#                                     # DEVICE='cpu',\n",
    "#                                     DEVICE='cpu',\n",
    "#                                     dtype_X=torch.float32,\n",
    "#                                     dtype_y=torch.int64,\n",
    "                                    \n",
    "#                                     temp_uncertainty=16\n",
    "#                                     )\n",
    "# dataloader_unlabeled_noAug = torch.utils.data.DataLoader( dataset_unlabeled_noAug,\n",
    "# #                                                 batch_size=int(pct_batch_size*X_train.shape[0]),\n",
    "#                                                 batch_size=1024,\n",
    "#                                                 shuffle=False,\n",
    "#                                                 drop_last=False,\n",
    "#                                                 pin_memory=True,\n",
    "#                                                 num_workers=32,\n",
    "#                                                 persistent_workers=True,\n",
    "#                                                 # prefetch_factor=0\n",
    "#                                                 )"
   ]
  },
  {
   "cell_type": "code",
   "execution_count": null,
   "metadata": {},
   "outputs": [],
   "source": [
    "# optional: run unlabeled data through model\n",
    "features_train = torch.cat([model.get_head(model.base_model(data[0][0].to(DEVICE))).detach().cpu() for data in dataloader_unlabeled_noAug], dim=0)"
   ]
  },
  {
   "cell_type": "code",
   "execution_count": null,
   "metadata": {
    "id": "HPyKFRdq28d3"
   },
   "outputs": [],
   "source": [
    "### REMOVE\n",
    "\n",
    "DEVICE='cuda'\n",
    "# DEVICE='cpu'"
   ]
  },
  {
   "cell_type": "code",
   "execution_count": null,
   "metadata": {
    "id": "7fpQXf0o28d3"
   },
   "outputs": [],
   "source": [
    "# model.to(DEVICE);"
   ]
  },
  {
   "cell_type": "code",
   "execution_count": null,
   "metadata": {
    "id": "7gwucuZXDB00"
   },
   "outputs": [],
   "source": [
    "_, features_embedded, _, evr = decomposition.torch_pca(features_train, device=DEVICE, return_cpu=True)"
   ]
  },
  {
   "cell_type": "code",
   "execution_count": null,
   "metadata": {},
   "outputs": [],
   "source": [
    "images_dup.shape"
   ]
  },
  {
   "cell_type": "code",
   "execution_count": null,
   "metadata": {},
   "outputs": [],
   "source": [
    "tsne = cuml.TSNE( n_components=2,\n",
    "                  perplexity=50.0,\n",
    "                  early_exaggeration=12.0,\n",
    "#                   late_exaggeration=1.0,\n",
    "                  learning_rate=200.0,\n",
    "                  n_iter=1000,\n",
    "                  n_iter_without_progress=300,\n",
    "                  min_grad_norm=1e-07,\n",
    "                  metric='euclidean',\n",
    "                  init='random',\n",
    "                  verbose=False,\n",
    "#                   random_state=None,\n",
    "#                   method='barnes_hut',\n",
    "#                   angle=0.5,\n",
    "#                   learning_rate_method='adaptive',\n",
    "# #                   n_neighbors=90,\n",
    "#                   perplexity_max_iter=100,\n",
    "#                   exaggeration_iter=250,\n",
    "#                   pre_momentum=0.5,\n",
    "#                   post_momentum=0.8,\n",
    "# #                   square_distances=True,\n",
    "#                   handle=None,\n",
    "#                   output_type=None\n",
    "                )\n",
    "features_embedded = tsne.fit_transform(features_train.to(DEVICE)).get()"
   ]
  },
  {
   "cell_type": "code",
   "execution_count": null,
   "metadata": {},
   "outputs": [],
   "source": [
    "umap = cuml.UMAP(n_neighbors=100,\n",
    "                n_components=2,\n",
    "                n_epochs=None,\n",
    "                learning_rate=1.0,\n",
    "                min_dist=0.1,\n",
    "                spread=1.0,\n",
    "                set_op_mix_ratio=1.0, \n",
    "                local_connectivity=1.0,\n",
    "                repulsion_strength=1.0, \n",
    "                negative_sample_rate=5, \n",
    "                transform_queue_size=4.0, \n",
    "                init='spectral', \n",
    "                verbose=False,\n",
    "                a=None, \n",
    "                b=None, \n",
    "                target_n_neighbors=- 1, \n",
    "#                 target_weight=0.5, \n",
    "                target_metric='categorical', \n",
    "                handle=None,                \n",
    "                hash_input=False, \n",
    "                random_state=None, \n",
    "                callback=None, \n",
    "                output_type=None\n",
    "                )\n",
    "features_embedded = umap.fit_transform(features_train.to(DEVICE)).get()"
   ]
  },
  {
   "cell_type": "raw",
   "metadata": {},
   "source": [
    "torch_helpers.delete_all_cuda_tensors(globals())"
   ]
  },
  {
   "cell_type": "raw",
   "metadata": {},
   "source": [
    "torch.cuda.empty_cache()\n",
    "gc.collect()\n",
    "torch.cuda.empty_cache()\n",
    "gc.collect()\n",
    "torch.cuda.empty_cache()\n",
    "gc.collect()\n",
    "torch.cuda.empty_cache()\n",
    "gc.collect()"
   ]
  },
  {
   "cell_type": "raw",
   "metadata": {},
   "source": [
    "torch_helpers.tensor_sizeOnDisk(features_train)"
   ]
  },
  {
   "cell_type": "raw",
   "metadata": {
    "id": "2imvF8ZoDB00"
   },
   "source": [
    "from sklearn import manifold\n",
    "\n",
    "tsne = manifold.TSNE(n_components=2, \n",
    "                     perplexity=120.0, \n",
    "                     early_exaggeration=12.0, \n",
    "                     learning_rate=200, \n",
    "                     n_iter=1000, \n",
    "                     n_iter_without_progress=300, \n",
    "                     min_grad_norm=1e-07, \n",
    "                     metric='euclidean', \n",
    "                     init='pca', \n",
    "                     verbose=0, \n",
    "                     random_state=None, \n",
    "                     method='barnes_hut', \n",
    "                     angle=0.5, \n",
    "                     n_jobs=-1, \n",
    "#                      square_distances='legacy'\n",
    "                    )\n",
    "features_embedded = tsne.fit_transform(features_train.cpu())\n",
    "# features_embedded = tsne.fit_transform(features_embedded[:,:5].cpu())"
   ]
  },
  {
   "cell_type": "code",
   "execution_count": null,
   "metadata": {},
   "outputs": [],
   "source": [
    "features_embedded.shape, labels_dup.shape"
   ]
  },
  {
   "cell_type": "code",
   "execution_count": null,
   "metadata": {},
   "outputs": [],
   "source": []
  },
  {
   "cell_type": "code",
   "execution_count": null,
   "metadata": {
    "id": "sgxJ8VXwDB00"
   },
   "outputs": [],
   "source": [
    "import matplotlib as mpl\n",
    "\n",
    "# mpl.rcParams['image.cmap'] = 'Set1'\n",
    "%matplotlib inline\n",
    "plt.figure()\n",
    "plt.scatter(features_embedded[:,0], features_embedded[:,1], s=10, c=labels_dup, cmap=plt.get_cmap('tab10'))\n",
    "# plt.scatter(features_embedded[:,0], features_embedded[:,1], s=0.001)\n",
    "# plt.scatter(features_embedded[:,0], features_embedded[:,1], c=labels[labels!=3])\n",
    "# plt.scatter(features_embedded[:,0], features_embedded[:,1], c=y_val)\n",
    "# plt.scatter(features_embedded[:,4], features_embedded[:,5], c=y_train)\n",
    "# plt.scatter(features_embedded[:,11], features[:,43].cpu(), c=y_train)\n"
   ]
  },
  {
   "cell_type": "code",
   "execution_count": null,
   "metadata": {},
   "outputs": [],
   "source": [
    "%matplotlib inline\n",
    "plt.figure()\n",
    "plt.plot(evr[:20])"
   ]
  },
  {
   "cell_type": "code",
   "execution_count": null,
   "metadata": {},
   "outputs": [],
   "source": []
  },
  {
   "cell_type": "code",
   "execution_count": null,
   "metadata": {
    "id": "sgxJ8VXwDB00"
   },
   "outputs": [],
   "source": [
    "# import matplotlib as mpl\n",
    "\n",
    "# # mpl.rcParams['image.cmap'] = 'Set1'\n",
    "# %matplotlib notebook\n",
    "# plt.figure()\n",
    "# plt.scatter(features_embedded[:,0], features_embedded[:,1], s=10, c=labels_SYT, cmap=plt.get_cmap('tab10'))\n",
    "# # plt.scatter(features_embedded[:,0], features_embedded[:,1], s=0.001)\n",
    "# # plt.scatter(features_embedded[:,0], features_embedded[:,1], c=labels[labels!=3])\n",
    "# # plt.scatter(features_embedded[:,0], features_embedded[:,1], c=y_val)\n",
    "# # plt.scatter(features_embedded[:,4], features_embedded[:,5], c=y_train)\n",
    "# # plt.scatter(features_embedded[:,11], features[:,43].cpu(), c=y_train)\n"
   ]
  },
  {
   "cell_type": "code",
   "execution_count": null,
   "metadata": {
    "id": "sgxJ8VXwDB00"
   },
   "outputs": [],
   "source": []
  },
  {
   "cell_type": "code",
   "execution_count": null,
   "metadata": {
    "id": "sgxJ8VXwDB00"
   },
   "outputs": [],
   "source": [
    "import matplotlib as mpl\n",
    "\n",
    "# mpl.rcParams['image.cmap'] = 'Set1'\n",
    "%matplotlib notebook\n",
    "plt.figure()\n",
    "# plt.scatter(features_embedded[:,0], features_embedded[:,1], s=30, c=y_labeled_train, cmap=plt.get_cmap('tab10'))\n",
    "plt.scatter(features_embedded[:,0], features_embedded[:,1], s=0.2)\n",
    "# plt.scatter(features_embedded[:,0], features_embedded[:,1], c=labels[labels!=3])\n",
    "# plt.scatter(features_embedded[:,0], features_embedded[:,1], c=y_val)\n",
    "# plt.scatter(features_embedded[:,4], features_embedded[:,5], c=y_train)\n",
    "# plt.scatter(features_embedded[:,11], features[:,43].cpu(), c=y_train)\n"
   ]
  },
  {
   "cell_type": "code",
   "execution_count": null,
   "metadata": {
    "id": "UwFf2BsVDB00"
   },
   "outputs": [],
   "source": [
    "plt.figure()\n",
    "plt.imshow(features_train.cpu().detach(), aspect='auto', interpolation='antialiased')"
   ]
  },
  {
   "cell_type": "code",
   "execution_count": null,
   "metadata": {
    "id": "SARf-u1K28d4"
   },
   "outputs": [],
   "source": [
    "plt.figure()\n",
    "plt.plot(evr)\n",
    "# plt.yscale('log')"
   ]
  },
  {
   "cell_type": "code",
   "execution_count": null,
   "metadata": {
    "id": "SARf-u1K28d4"
   },
   "outputs": [],
   "source": [
    "plt.figure()\n",
    "plt.plot(evr)\n",
    "# plt.yscale('log')"
   ]
  },
  {
   "cell_type": "code",
   "execution_count": null,
   "metadata": {
    "id": "SARf-u1K28d4"
   },
   "outputs": [],
   "source": [
    "plt.figure()\n",
    "plt.plot(evr)\n",
    "# plt.yscale('log')"
   ]
  },
  {
   "cell_type": "code",
   "execution_count": null,
   "metadata": {
    "id": "SARf-u1K28d4"
   },
   "outputs": [],
   "source": [
    "plt.figure()\n",
    "plt.plot(evr)\n",
    "# plt.yscale('log')"
   ]
  },
  {
   "cell_type": "markdown",
   "metadata": {
    "id": "RiHXPapkDB00"
   },
   "source": [
    "## Check filters"
   ]
  },
  {
   "cell_type": "code",
   "execution_count": null,
   "metadata": {
    "id": "2aBVd9FTDB00"
   },
   "outputs": [],
   "source": [
    "list(model.state_dict().keys())"
   ]
  },
  {
   "cell_type": "code",
   "execution_count": null,
   "metadata": {
    "id": "dK_-Xu9EDB01"
   },
   "outputs": [],
   "source": [
    "layer_1 = model.state_dict()['base_model.0.weight'].cpu()\n",
    "layer_2 = model.state_dict()['base_model.4.0.conv1.weight'].cpu()\n",
    "layer_3 = model.state_dict()['base_model.7.0.conv1.weight'].cpu()\n",
    "layer_4 = model.state_dict()['base_model.7.1.conv2.weight'].cpu()\n",
    "\n",
    "plt.figure()\n",
    "for ii in range(layer_1.shape[1]):\n",
    "    for jj in range(layer_1.shape[0]):\n",
    "        plt.subplot2grid((layer_1.shape[1],layer_1.shape[0]),(ii,jj))\n",
    "        fig = plt.imshow(layer_1[jj,ii,:,:] , clim=(-0.2,0.2))\n",
    "        fig.axes.get_xaxis().set_visible(False)\n",
    "        fig.axes.get_yaxis().set_visible(False)\n",
    "\n",
    "plt.figure()\n",
    "for ii in range(16):\n",
    "    for jj in range(16):\n",
    "        plt.subplot2grid((16,16),(ii,jj))\n",
    "        fig = plt.imshow(layer_2[jj,ii,:,:], clim=(-.05,.05))\n",
    "        fig.axes.get_xaxis().set_visible(False)\n",
    "        fig.axes.get_yaxis().set_visible(False)\n",
    "\n",
    "plt.figure()\n",
    "for ii in range(16):\n",
    "    for jj in range(16):\n",
    "        plt.subplot2grid((16,16),(ii,jj))\n",
    "        fig = plt.imshow(layer_3[jj, ii,:,:], clim=(-.1,.1))\n",
    "        fig.axes.get_xaxis().set_visible(False)\n",
    "        fig.axes.get_yaxis().set_visible(False)\n",
    "        \n",
    "plt.figure()\n",
    "for ii in range(16):\n",
    "    for jj in range(16):\n",
    "        plt.subplot2grid((16,16),(ii,jj))\n",
    "        fig = plt.imshow(layer_4[jj, ii,:,:], clim=(-.1,.1))\n",
    "        fig.axes.get_xaxis().set_visible(False)\n",
    "        fig.axes.get_yaxis().set_visible(False)"
   ]
  },
  {
   "cell_type": "code",
   "execution_count": null,
   "metadata": {
    "id": "FGiz2fHFDB01"
   },
   "outputs": [],
   "source": []
  },
  {
   "cell_type": "code",
   "execution_count": null,
   "metadata": {
    "id": "mwJQBUhpDB01"
   },
   "outputs": [],
   "source": [
    "# torch.save(model.state_dict(), '/media/rich/bigSSD/Net_trainedOnAug_20211025_trainingSet_mouse628_20200903and20200815_simCLR.pth')"
   ]
  },
  {
   "cell_type": "code",
   "execution_count": null,
   "metadata": {
    "id": "1grXld0IDB01"
   },
   "outputs": [],
   "source": [
    "# model = Net()\n",
    "# model.load_state_dict(torch.load('test_save.pth'))\n",
    "# model.eval()"
   ]
  },
  {
   "cell_type": "code",
   "execution_count": null,
   "metadata": {
    "id": "quqNFL1jDB01"
   },
   "outputs": [],
   "source": []
  },
  {
   "cell_type": "code",
   "execution_count": null,
   "metadata": {},
   "outputs": [],
   "source": []
  },
  {
   "cell_type": "code",
   "execution_count": null,
   "metadata": {},
   "outputs": [],
   "source": []
  },
  {
   "cell_type": "code",
   "execution_count": null,
   "metadata": {},
   "outputs": [],
   "source": []
  },
  {
   "cell_type": "markdown",
   "metadata": {},
   "source": [
    "# Graveyard"
   ]
  },
  {
   "cell_type": "code",
   "execution_count": null,
   "metadata": {
    "colab": {
     "base_uri": "https://localhost:8080/"
    },
    "id": "rvDiVxDICXEn",
    "outputId": "2c29e3cf-4515-4aae-f0b1-22e30d51fa5f"
   },
   "outputs": [],
   "source": [
    "data_unlabeled = torch.as_tensor(masks_cat, dtype=torch.float32, device='cpu')\n",
    "\n",
    "model.to(DEVICE)\n",
    "\n",
    "# penalized_params = list(model.modules())[-1].parameters()\n",
    "# penalized_params = torch.cat([_.view(-1) for _ in penalized_params], -1)\n",
    "\n",
    "early_stopping = 50\n",
    "prv_best_val = np.inf\n",
    "early_stopping_cnt = 0\n",
    "\n",
    "l2_alpha = 0.1\n",
    "\n",
    "n_epochs=300000\n",
    "for epoch in range(n_epochs):\n",
    "    print(f'epoch: {epoch}')\n",
    "#     loss_rolling_train, loss_rolling_val = training_supervised.epoch_step(dataloader_train, \n",
    "#                                     model, \n",
    "#                                     optimizer, \n",
    "#                                     criterion, \n",
    "\n",
    "#                                     penalized_params, l2_alpha,\n",
    "\n",
    "#                                     scheduler=scheduler,\n",
    "#                                     loss_rolling_train=losses_train, \n",
    "#                                     device=DEVICE, \n",
    "#                                     loss_rolling_val=losses_val,\n",
    "#                                     verbose=2,\n",
    "#                                     verbose_update_period=100,\n",
    "                                   \n",
    "#                                     do_validation=True,\n",
    "#                                     X_val=x_feed_through_val,\n",
    "#                                     y_val=torch.as_tensor(y_val, device=DEVICE)\n",
    "#                                    )\n",
    "    \n",
    "    loss_rolling_train, loss_rolling_val = training_simCLR.epoch_step(dataloader_train, \n",
    "                                    model, \n",
    "                                    optimizer, \n",
    "                                    criterion, \n",
    "\n",
    "                                    # penalized_params, l2_alpha,\n",
    "\n",
    "                                    scheduler=scheduler,\n",
    "                                    loss_rolling_train=losses_train, \n",
    "                                    device=DEVICE, \n",
    "                                    loss_rolling_val=losses_val,\n",
    "                                    verbose=2,\n",
    "                                    verbose_update_period=100,\n",
    "                                   \n",
    "                                    do_validation=True,\n",
    "                                    X_val=x_feed_through_val,\n",
    "                                    y_val=torch.as_tensor(y_val, device=DEVICE)\n",
    "                                   )\n",
    "    \n",
    "    \n",
    "    if early_stopping:\n",
    "      if len(loss_rolling_val) > 0:\n",
    "        if loss_rolling_val[-1] < prv_best_val:\n",
    "          early_stopping_cnt = 0\n",
    "          prv_best_val = loss_rolling_val[-1]\n",
    "          torch.save(model.state_dict(), f'{base_dir}/github_repos/GCaMP_ROI_classifier/new_stuff/models/checkpoints/checkpoint.pth')\n",
    "        else:\n",
    "          early_stopping_cnt += 1\n",
    "    \n",
    "      if early_stopping_cnt >= early_stopping:\n",
    "        model.load_state_dict(torch.load(f'{base_dir}/github_repos/GCaMP_ROI_classifier/new_stuff/models/checkpoints/checkpoint.pth'))\n",
    "        break\n",
    "    \n",
    "    # torch_helpers.show_all_tensors(globals())\n",
    "    \n",
    "    features_train = model(x_feed_through_tr)\n",
    "    features_train = features_train.cpu().detach().numpy()\n",
    "    features_val = model(x_feed_through_val)\n",
    "    features_val = features_val.cpu().detach().numpy()\n",
    "    # y_hat = scipy.special.softmax(features_val, axis=-1) # logreg.predict_proba(features_val)\n",
    "    \n",
    "    print('Training Confusion Matrix')\n",
    "    print(get_cm(features_train, y_train))\n",
    "    print()\n",
    "    print(logistic_pred_train)\n",
    "\n",
    "    print()\n",
    "    print()\n",
    "\n",
    "    print('Val Confusion Matrix')\n",
    "    print(get_cm(features_val, y_val))\n",
    "    print()\n",
    "    print(logistic_pred_val)\n",
    "\n",
    "    # model.to(DEVICE)\n",
    "    print()\n",
    "    print()\n"
   ]
  },
  {
   "cell_type": "raw",
   "metadata": {
    "id": "E5EeUhzUDB0v"
   },
   "source": [
    "%matplotlib notebook\n",
    "\n",
    "logreg = LogisticRegression(solver='liblinear', max_iter=30)\n",
    "# logreg_predict_head = LogisticRegression(solver='liblinear')\n",
    "dataset_train.classification_model = None\n",
    "\n",
    "\n",
    "\n",
    "# scheduler = torch.optim.lr_scheduler.ExponentialLR(optimizer,\n",
    "#                                                    gamma=1-0.001,\n",
    "# #                                                    gamma=1,\n",
    "#                                                   )\n",
    "n_epochs=300000\n",
    "for epoch in range(n_epochs):\n",
    "    print(f'epoch: {epoch}')\n",
    "\n",
    "    model.prep_contrast()\n",
    "    training_simCLR.epoch_step( dataloader_train, \n",
    "                                model, \n",
    "                                optimizer, \n",
    "                                criterion,\n",
    "                                scheduler=scheduler, \n",
    "                                temperature=0.5,\n",
    "                                loss_rolling_train=losses_train, \n",
    "                                device=DEVICE, \n",
    "                                do_validation=False,\n",
    "#                                 validation_Object=val_obj,\n",
    "                                loss_rolling_val=losses_val,\n",
    "                                verbose=2,\n",
    "                                verbose_update_period=100,\n",
    "                               )\n",
    "    \n",
    "\n",
    "    model.prep_classifier()\n",
    "\n",
    "    # print(util.tile_channels(torch.as_tensor(X_labeled_train[:,None,...], device=DEVICE, dtype=torch.float32), dim=1).shape)\n",
    "\n",
    "    features_train = model.get_head(model.base_model(util.tile_channels(torch.as_tensor(X_labeled_train[:,None,...], device=DEVICE, dtype=torch.float32), dim=1))).detach().cpu()\n",
    "    # features_train = model(util.tile_channels(torch.as_tensor(X_labeled_train[:,None,...], device=DEVICE, dtype=torch.float32), dim=1)).detach().cpu()\n",
    "    # features_train = model(torch.as_tensor(X_labeled_train, device=DEVICE, dtype=torch.float32)[:,None,...]).detach().cpu()\n",
    "    # features = model(torch.tensor(X_train[y_train != 3], device=DEVICE, dtype=torch.float32)[:,None,...]).detach().cpu()\n",
    "    \n",
    "    tic = time.time()\n",
    "    logreg.fit(features_train, y_labeled_train)\n",
    "    print(time.time() - tic)\n",
    "    acc.append(logreg.score(features_train, y_labeled_train))\n",
    "    print(f'acc: {acc[-1]}')\n",
    "    \n",
    "    dataset_train.net_model = copy.deepcopy(model).to('cpu')\n",
    "    dataset_train.classification_model = logreg\n",
    "    \n",
    "\n",
    "#     sample_id_num = np.arange(X_labeled_val.shape[0])\n",
    "#     epoch_val = epoch\n",
    "#     batch_val = -1\n",
    "#     p_tmp = logreg.predict_proba(model(torch.as_tensor(util.tile_channels(X_labeled_val), device=DEVICE, dtype=torch.float32)).detach().cpu())\n",
    "#     logits = p_tmp\n",
    "#     # logits = np.log(1/(1/p_tmp - 1))\n",
    "\n",
    "#     col_vals = [sample_id_num, epoch_val, batch_val, y_labeled_val]\n",
    "#     setup = np.empty((len(sample_id_num), len(col_vals)))\n",
    "#     for icv, col_val in enumerate(col_vals):\n",
    "#       setup[:, icv] = col_val\n",
    "#     tmp_tracking_np = np.concatenate([setup, logits], axis=1)\n",
    "\n",
    "#     tmp_tracking_df = pd.DataFrame(tmp_tracking_np, index=sample_id_num, columns=tracking_df_cols + [f'logits_{i}' for i in range(logits.shape[1])])\n",
    "#     tracking_df = tracking_df.append(tmp_tracking_df, ignore_index=True)\n",
    "#     display(tracking_df)\n",
    "\n",
    "\n",
    "    \n",
    "    features_val = model.get_head(model.base_model(util.tile_channels(torch.as_tensor(X_labeled_val[:,None,...], device=DEVICE, dtype=torch.float32), dim=1))).detach().cpu()\n",
    "\n",
    "\n",
    "    # logreg_predict_head.fit(features_train, y_labeled_train)\n",
    "    # y_hat = logreg_predict_head.predict_proba(features_val)\n",
    "\n",
    "    y_hat = logreg.predict_proba(features_val)\n",
    "    \n",
    "    cm = classification.confusion_matrix(y_hat, y_labeled_val)\n",
    "#     plt.figure()\n",
    "#     plt.imshow(cm)\n",
    "#     plt.colorbar()\n",
    "#     plt.show()\n",
    "    print(cm)\n",
    "\n",
    "\n",
    "    # tracking_df = tracking_df.append(pd.DataFrame([np.array([100, 0, 0, 0])], index=tracking_df_cols), ignore_index=True)\n",
    "    \n",
    "    # model predict\n",
    "    # Update model in DS\n",
    "    # get item calls model for each sample\n",
    "    # output\n",
    "    # X sample weights predictions\n",
    "    \n",
    "#     classHead.fit(X_train[:, None, :, :], y_train, solver='liblinear')\n",
    "    \n",
    "#     proba = classHead.predict_proba(X_train[:, None, :, :])\n",
    "#     class_weights = proba.sum(axis=0)\n",
    "#     total_num = class_weights.sum()\n",
    "    \n",
    "#     eps = 1e-4\n",
    "    \n",
    "#     class_weights[class_weights <= 3] = total_num\n",
    "#     weightings = class_weights.sum()/class_weights\n",
    "#     final_weights = weightings / weightings.sum()\n",
    "#     final_weights = np.array([1/proba.shape[1] for _ in range(proba.shape[1])])\n",
    "    \n",
    "#     print(class_weights)\n",
    "\n",
    "#     dataset_train.set_classweights(final_weights)\n",
    "    \n",
    "#     print('dataset_train.final_weights', dataset_train.class_weights)\n"
   ]
  },
  {
   "cell_type": "code",
   "execution_count": null,
   "metadata": {},
   "outputs": [],
   "source": []
  },
  {
   "cell_type": "markdown",
   "metadata": {},
   "source": [
    "# Timing Precomputation"
   ]
  },
  {
   "cell_type": "code",
   "execution_count": null,
   "metadata": {},
   "outputs": [],
   "source": [
    "model.eval()\n",
    "model.to(DEVICE);"
   ]
  },
  {
   "cell_type": "code",
   "execution_count": null,
   "metadata": {},
   "outputs": [],
   "source": [
    "all_transforms = torch.nn.Sequential(\n",
    "    augmentation.ScaleDynamicRange(scaler_bounds=(0,1)),\n",
    "    torchvision.transforms.Resize(size=(224,224),\n",
    "                                  interpolation=torchvision.transforms.InterpolationMode.BILINEAR), \n",
    "    augmentation.TileChannels(dim=0, n_channels=3),)\n",
    "no_transforms = torch.nn.Sequential()\n",
    "scale_rsz_transforms = torch.nn.Sequential(\n",
    "    augmentation.ScaleDynamicRange(scaler_bounds=(0,1)),\n",
    "    torchvision.transforms.Resize(size=(224,224),\n",
    "                                  interpolation=torchvision.transforms.InterpolationMode.BILINEAR))\n",
    "tile_transforms = torch.nn.Sequential(augmentation.TileChannels(dim=0, n_channels=3),)\n",
    "\n",
    "\n",
    "scripted_all_transforms = torch.jit.script(all_transforms)\n",
    "scripted_no_transforms = torch.jit.script(no_transforms)\n",
    "scripted_scale_rsz_transform = torch.jit.script(scale_rsz_transforms)\n",
    "scripted_tile_transform = torch.jit.script(tile_transforms)\n",
    "\n"
   ]
  },
  {
   "cell_type": "code",
   "execution_count": null,
   "metadata": {},
   "outputs": [],
   "source": []
  },
  {
   "cell_type": "code",
   "execution_count": null,
   "metadata": {},
   "outputs": [],
   "source": [
    "setup_transform = scripted_no_transforms\n",
    "run_transform = scripted_all_transforms\n",
    "\n",
    "setup_ds = util.dataset_simCLR(\n",
    "                                torch.as_tensor(X_labeled_train_SYT, device='cpu', dtype=torch.float32), \n",
    "                                torch.as_tensor(torch.zeros(X_labeled_train_SYT.shape[0]), device='cpu', dtype=torch.float32),\n",
    "\n",
    "                                \n",
    "                                n_transforms=1,\n",
    "                                transform=setup_transform,\n",
    "                                class_weights=np.array([1]),\n",
    "                                DEVICE='cpu',\n",
    "                                dtype_X=torch.float32,\n",
    "                                dtype_y=torch.int64,\n",
    "\n",
    "                                temp_uncertainty=16,\n",
    "                                expand_dim=False\n",
    "                                )\n",
    "setup_dl = torch.utils.data.DataLoader( setup_ds,\n",
    "                                        batch_size=1024,\n",
    "                                        shuffle=False,\n",
    "                                        drop_last=False,\n",
    "                                        # pin_memory=True,\n",
    "                                        # num_workers=16,\n",
    "                                        # persistent_workers=True,\n",
    "                                        )\n",
    "input_x = torch.cat([data[0][0].detach().cpu() for data in setup_dl], dim=0)\n",
    "\n",
    "print(\"Starting!\")\n",
    "tik = time.time()\n",
    "ds_run = util.dataset_simCLR(\n",
    "                            torch.as_tensor(input_x, device='cpu', dtype=torch.float32), \n",
    "                            torch.as_tensor(torch.zeros(input_x.shape[0]), device='cpu', dtype=torch.float32),\n",
    "\n",
    "                            n_transforms=1,\n",
    "                            class_weights=np.array([1]),\n",
    "                            transform=run_transform,\n",
    "                            DEVICE='cpu',\n",
    "                            dtype_X=torch.float32,\n",
    "                            dtype_y=torch.int64,\n",
    "\n",
    "                            temp_uncertainty=16\n",
    "                            )\n",
    "dl_run = torch.utils.data.DataLoader( ds_run,\n",
    "                                        batch_size=1024,\n",
    "                                        shuffle=False,\n",
    "                                        drop_last=False,\n",
    "                                        # pin_memory=True,\n",
    "                                        # num_workers=16,\n",
    "                                        # persistent_workers=True,\n",
    "                                        )\n",
    "features_train = torch.cat([model.get_head(model.base_model(data[0][0].to(DEVICE))).detach().cpu() for data in dl_run], dim=0)\n",
    "tok = time.time()\n",
    "\n",
    "print(f'All Transformations Took: {tok-tik} s to run')"
   ]
  },
  {
   "cell_type": "code",
   "execution_count": null,
   "metadata": {},
   "outputs": [],
   "source": [
    "setup_transform = scripted_all_transforms\n",
    "run_transform = scripted_no_transforms\n",
    "\n",
    "setup_ds = util.dataset_simCLR(\n",
    "                                torch.as_tensor(X_labeled_train_SYT, device='cpu', dtype=torch.float32), \n",
    "                                torch.as_tensor(torch.zeros(X_labeled_train_SYT.shape[0]), device='cpu', dtype=torch.float32),\n",
    "\n",
    "                                \n",
    "                                n_transforms=1,\n",
    "                                transform=setup_transform,\n",
    "                                class_weights=np.array([1]),\n",
    "                                DEVICE='cpu',\n",
    "                                dtype_X=torch.float32,\n",
    "                                dtype_y=torch.int64,\n",
    "\n",
    "                                temp_uncertainty=16\n",
    "                                )\n",
    "setup_dl = torch.utils.data.DataLoader( setup_ds,\n",
    "                                        batch_size=1024,\n",
    "                                        shuffle=False,\n",
    "                                        drop_last=False,\n",
    "                                        # pin_memory=True,\n",
    "                                        # num_workers=16,\n",
    "                                        # persistent_workers=True,\n",
    "                                        )\n",
    "\n",
    "input_x = torch.cat([data[0][0].detach().cpu() for data in setup_dl], dim=0)\n",
    "\n",
    "print(\"Starting!\")\n",
    "tik = time.time()\n",
    "ds_run = util.dataset_simCLR(\n",
    "                            torch.as_tensor(input_x, device='cpu', dtype=torch.float32), \n",
    "                            torch.as_tensor(torch.zeros(input_x.shape[0]), device='cpu', dtype=torch.float32),\n",
    "\n",
    "                            n_transforms=1,\n",
    "                            class_weights=np.array([1]),\n",
    "                            transform=run_transform,\n",
    "                            DEVICE='cpu',\n",
    "                            dtype_X=torch.float32,\n",
    "                            dtype_y=torch.int64,\n",
    "\n",
    "                            temp_uncertainty=16,\n",
    "                                expand_dim=False\n",
    "                            )\n",
    "dl_run = torch.utils.data.DataLoader( ds_run,\n",
    "                                        batch_size=1024,\n",
    "                                        shuffle=False,\n",
    "                                        drop_last=False,\n",
    "                                        # pin_memory=True,\n",
    "                                        # num_workers=16,\n",
    "                                        # persistent_workers=True,\n",
    "                                        )\n",
    "features_train = torch.cat([model.get_head(model.base_model(data[0][0].to(DEVICE))).detach().cpu() for data in dl_run], dim=0)\n",
    "tok = time.time()\n",
    "\n",
    "print(f'No Transformations Took: {tok-tik} s to run')"
   ]
  },
  {
   "cell_type": "code",
   "execution_count": null,
   "metadata": {
    "tags": []
   },
   "outputs": [],
   "source": [
    "setup_transform = scripted_scale_rsz_transform\n",
    "run_transform = scripted_tile_transform\n",
    "\n",
    "setup_ds = util.dataset_simCLR(\n",
    "                                torch.as_tensor(X_labeled_train_SYT, device='cpu', dtype=torch.float32), \n",
    "                                torch.as_tensor(torch.zeros(X_labeled_train_SYT.shape[0]), device='cpu', dtype=torch.float32),\n",
    "\n",
    "                                \n",
    "                                n_transforms=1,\n",
    "                                transform=setup_transform,\n",
    "                                class_weights=np.array([1]),\n",
    "                                DEVICE='cpu',\n",
    "                                dtype_X=torch.float32,\n",
    "                                dtype_y=torch.int64,\n",
    "\n",
    "                                temp_uncertainty=16\n",
    "                                )\n",
    "setup_dl = torch.utils.data.DataLoader( setup_ds,\n",
    "                                        batch_size=1024,\n",
    "                                        shuffle=False,\n",
    "                                        drop_last=False,\n",
    "                                        # pin_memory=True,\n",
    "                                        # num_workers=16,\n",
    "                                        # persistent_workers=True,\n",
    "                                        )\n",
    "\n",
    "input_x = torch.cat([data[0][0].detach().cpu() for data in setup_dl], dim=0)\n",
    "\n",
    "print(\"Starting!\")\n",
    "tik = time.time()\n",
    "ds_run = util.dataset_simCLR(\n",
    "                            torch.as_tensor(input_x, device='cpu', dtype=torch.float32), \n",
    "                            torch.as_tensor(torch.zeros(input_x.shape[0]), device='cpu', dtype=torch.float32),\n",
    "\n",
    "                            n_transforms=1,\n",
    "                            class_weights=np.array([1]),\n",
    "                            transform=run_transform,\n",
    "                            DEVICE='cpu',\n",
    "                            dtype_X=torch.float32,\n",
    "                            dtype_y=torch.int64,\n",
    "\n",
    "                            temp_uncertainty=16,\n",
    "                            expand_dim=False\n",
    "                            )\n",
    "dl_run = torch.utils.data.DataLoader( ds_run,\n",
    "                                        batch_size=1024,\n",
    "                                        shuffle=False,\n",
    "                                        drop_last=False,\n",
    "                                        # pin_memory=True,\n",
    "                                        # num_workers=16,\n",
    "                                        # persistent_workers=True,\n",
    "                                        )\n",
    "features_train = torch.cat([model.get_head(model.base_model(data[0][0].to(DEVICE))).detach().cpu() for data in dl_run], dim=0)\n",
    "tok = time.time()\n",
    "\n",
    "print(f'Tile Transformation Alone Took: {tok-tik} s to run')"
   ]
  },
  {
   "cell_type": "code",
   "execution_count": null,
   "metadata": {},
   "outputs": [],
   "source": []
  },
  {
   "cell_type": "code",
   "execution_count": null,
   "metadata": {},
   "outputs": [],
   "source": []
  },
  {
   "cell_type": "code",
   "execution_count": null,
   "metadata": {},
   "outputs": [],
   "source": []
  },
  {
   "cell_type": "code",
   "execution_count": null,
   "metadata": {},
   "outputs": [],
   "source": []
  }
 ],
 "metadata": {
  "accelerator": "GPU",
  "colab": {
   "collapsed_sections": [],
   "machine_shape": "hm",
   "name": "ROIClassifier_TRAIN_20211201_JZ_supervised-comparison5.ipynb",
   "provenance": []
  },
  "kernelspec": {
   "display_name": "Python 3",
   "language": "python",
   "name": "python3"
  },
  "language_info": {
   "codemirror_mode": {
    "name": "ipython",
    "version": 3
   },
   "file_extension": ".py",
   "mimetype": "text/x-python",
   "name": "python",
   "nbconvert_exporter": "python",
   "pygments_lexer": "ipython3",
   "version": "3.8.5"
  },
  "varInspector": {
   "cols": {
    "lenName": 16,
    "lenType": 16,
    "lenVar": 40
   },
   "kernels_config": {
    "python": {
     "delete_cmd_postfix": "",
     "delete_cmd_prefix": "del ",
     "library": "var_list.py",
     "varRefreshCmd": "print(var_dic_list())"
    },
    "r": {
     "delete_cmd_postfix": ") ",
     "delete_cmd_prefix": "rm(",
     "library": "var_list.r",
     "varRefreshCmd": "cat(var_dic_list()) "
    }
   },
   "position": {
    "height": "943px",
    "left": "1381px",
    "right": "20px",
    "top": "106px",
    "width": "501px"
   },
   "types_to_exclude": [
    "module",
    "function",
    "builtin_function_or_method",
    "instance",
    "_Feature"
   ],
   "window_display": true
  }
 },
 "nbformat": 4,
 "nbformat_minor": 4
}
