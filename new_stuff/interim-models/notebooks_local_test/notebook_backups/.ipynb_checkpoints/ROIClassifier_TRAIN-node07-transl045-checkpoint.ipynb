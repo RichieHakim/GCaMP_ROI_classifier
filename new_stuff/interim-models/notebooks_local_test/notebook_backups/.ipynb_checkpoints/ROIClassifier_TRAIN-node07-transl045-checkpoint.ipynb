{
 "cells": [
  {
   "cell_type": "code",
   "execution_count": 1,
   "metadata": {
    "colab": {
     "base_uri": "https://localhost:8080/",
     "height": 17
    },
    "id": "S3q3I42jDB0f",
    "outputId": "3ad88a07-0e8b-474f-b0d8-9fb6c2a99f0c"
   },
   "outputs": [
    {
     "data": {
      "text/html": [
       "<style>.container { width:95% !important; }</style>"
      ],
      "text/plain": [
       "<IPython.core.display.HTML object>"
      ]
     },
     "metadata": {},
     "output_type": "display_data"
    }
   ],
   "source": [
    "from IPython.core.display import display, HTML\n",
    "display(HTML(\"<style>.container { width:95% !important; }</style>\"))"
   ]
  },
  {
   "cell_type": "raw",
   "metadata": {
    "id": "PUUWS0VmwD7-"
   },
   "source": [
    "# !source activate jupyter_launcher\n",
    "!pip3 install numba\n",
    "!pip3 install matplotlib\n",
    "!pip3 install scipy\n",
    "!pip3 install torch\n",
    "!pip3 install torchvision\n",
    "!pip3 install sklearn\n",
    "!pip3 install pycuda\n",
    "!pip3 install tqdm\n",
    "!pip3 install seaborn\n",
    "!pip3 install h5py\n",
    "!pip3 install hdfdict\n",
    "!pip3 install ipywidgets\n",
    "!pip3 install numpy==1.20"
   ]
  },
  {
   "cell_type": "code",
   "execution_count": 2,
   "metadata": {},
   "outputs": [
    {
     "data": {
      "text/plain": [
       "'/home/joz608/.conda/envs/jupyter_launcher/bin/python3.8'"
      ]
     },
     "execution_count": 2,
     "metadata": {},
     "output_type": "execute_result"
    }
   ],
   "source": [
    "import sys\n",
    "sys.executable"
   ]
  },
  {
   "cell_type": "code",
   "execution_count": null,
   "metadata": {},
   "outputs": [],
   "source": []
  },
  {
   "cell_type": "code",
   "execution_count": null,
   "metadata": {},
   "outputs": [],
   "source": []
  },
  {
   "cell_type": "code",
   "execution_count": 3,
   "metadata": {
    "id": "eTIgCGQsDB0i"
   },
   "outputs": [],
   "source": [
    "import sys\n",
    "import os\n",
    "import copy\n",
    "import pathlib\n",
    "import time\n",
    "import gc\n",
    "\n",
    "from tqdm import tqdm, trange\n",
    "# from tqdm import trange\n",
    "\n",
    "import numpy as np\n",
    "import matplotlib.pyplot as plt\n",
    "import seaborn as sns\n",
    "import scipy\n",
    "\n",
    "import torch\n",
    "import torchvision\n",
    "import torchvision.transforms as transforms\n",
    "\n",
    "# import cuml\n",
    "\n",
    "# for creating validation set\n",
    "import sklearn\n",
    "from sklearn.model_selection import train_test_split\n",
    "\n",
    "%matplotlib inline\n",
    "%matplotlib inline\n",
    "# %matplotlib inline\n",
    "# %matplotlib qt"
   ]
  },
  {
   "cell_type": "code",
   "execution_count": null,
   "metadata": {
    "id": "GExNkvATEBtG"
   },
   "outputs": [],
   "source": []
  },
  {
   "cell_type": "code",
   "execution_count": 4,
   "metadata": {
    "id": "MZ9Hq6SVvves"
   },
   "outputs": [],
   "source": [
    "base_dir = '/n/data1/hms/neurobio/sabatini/josh'"
   ]
  },
  {
   "cell_type": "code",
   "execution_count": 5,
   "metadata": {
    "id": "9w3t_mtdDB0j"
   },
   "outputs": [],
   "source": [
    "import sys\n",
    "\n",
    "sys.path.append(f'{base_dir}/github_repos')\n",
    "# sys.path.append(f'/media/rich/Home_Linux_partition/github_repos')\n",
    "dir_folders = f'{base_dir}/label_data'\n",
    "\n",
    "\n",
    "%load_ext autoreload\n",
    "%autoreload 2\n",
    "from basic_neural_processing_modules import torch_helpers, math_functions, classification, h5_handling, plotting_helpers, indexing, misc #, decomposition\n",
    "from GCaMP_ROI_classifier.new_stuff import util, models, training_simCLR, augmentation, training_classHead, training_supervised"
   ]
  },
  {
   "cell_type": "markdown",
   "metadata": {
    "id": "hTqZzmpJDB0j"
   },
   "source": [
    "## Import unlabeled training data"
   ]
  },
  {
   "cell_type": "code",
   "execution_count": 6,
   "metadata": {},
   "outputs": [],
   "source": [
    "# data_unlabeled = h5_handling.simple_load(path=r'/media/rich/bigSSD/for_Josh/GCAMP_ROI_Classifier_data/masks_20211202_balanced.h5')\n",
    "data_unlabeled = h5_handling.simple_load(path=f'{base_dir}/label_data/masks_20211202_balanced.h5')\n",
    "\n",
    "masks_cat_raw = torch.as_tensor(np.concatenate((data_unlabeled['SYTmasks'], data_unlabeled['NPmasks'], data_unlabeled['RHmasks']), axis=0), dtype=torch.float32, device='cpu')"
   ]
  },
  {
   "cell_type": "code",
   "execution_count": 7,
   "metadata": {},
   "outputs": [],
   "source": [
    "# data_labeled = h5_handling.simple_load(path=r'/media/rich/bigSSD/for_Josh/GCAMP_ROI_Classifier_data/masks_20211202_unbalanced.h5')"
   ]
  },
  {
   "cell_type": "code",
   "execution_count": 8,
   "metadata": {},
   "outputs": [],
   "source": [
    "# masks_SYT = data_labeled['SYTmasks']\n",
    "# labels_SYT = classification.squeeze_integers(data_labeled['SYTlabels'])"
   ]
  },
  {
   "cell_type": "code",
   "execution_count": 9,
   "metadata": {},
   "outputs": [],
   "source": [
    "# nan_lst = np.concatenate(np.where(np.isnan(masks_SYT).sum(axis=-1).sum(axis=-1)))\n",
    "# non_nan = [_ for _ in range(masks_SYT.shape[0]) if _ not in nan_lst]\n",
    "# labels_SYT = labels_SYT[non_nan]\n",
    "# masks_SYT = masks_SYT[non_nan]"
   ]
  },
  {
   "cell_type": "code",
   "execution_count": 10,
   "metadata": {},
   "outputs": [],
   "source": [
    "# X_labeled_train_SYT, X_labeled_val_SYT, y_labeled_train_SYT, y_labeled_val_SYT = train_test_split(masks_SYT, labels_SYT, test_size = 0.2)"
   ]
  },
  {
   "cell_type": "markdown",
   "metadata": {},
   "source": [
    "toss any NaNs"
   ]
  },
  {
   "cell_type": "code",
   "execution_count": 11,
   "metadata": {},
   "outputs": [
    {
     "name": "stdout",
     "output_type": "stream",
     "text": [
      "Number of masks: torch.Size([711808, 36, 36])\n",
      "Number of masks: torch.Size([711807, 36, 36])\n"
     ]
    }
   ],
   "source": [
    "print(f'Number of masks: {masks_cat_raw.shape}')\n",
    "\n",
    "ROIs_without_NaNs = torch.where(~torch.any(torch.any(torch.isnan(masks_cat_raw), dim=1), dim=1))[0]\n",
    "masks_cat = masks_cat_raw[ROIs_without_NaNs]\n",
    "\n",
    "print(f'Number of masks: {masks_cat.shape}')"
   ]
  },
  {
   "cell_type": "markdown",
   "metadata": {
    "id": "hTqZzmpJDB0j"
   },
   "source": [
    "## Import labeled training data"
   ]
  },
  {
   "cell_type": "code",
   "execution_count": 12,
   "metadata": {
    "colab": {
     "base_uri": "https://localhost:8080/",
     "height": 1000
    },
    "id": "S8AO_lypDB0o",
    "outputId": "4edfd739-a0b7-4789-aea1-4a9f6c2665c8"
   },
   "outputs": [
    {
     "name": "stdout",
     "output_type": "stream",
     "text": [
      "concatenated images shape: (9715, 32, 32)\n"
     ]
    },
    {
     "data": {
      "image/png": "[encoded data removed]",
      "text/plain": [
       "<Figure size 432x288 with 1 Axes>"
      ]
     },
     "metadata": {
      "needs_background": "light"
     },
     "output_type": "display_data"
    },
    {
     "data": {
      "image/png": "[encoded data removed]",
      "text/plain": [
       "<Figure size 432x288 with 1 Axes>"
      ]
     },
     "metadata": {
      "needs_background": "light"
     },
     "output_type": "display_data"
    },
    {
     "data": {
      "image/png": "[encoded data removed]",
      "text/plain": [
       "<Figure size 432x288 with 1 Axes>"
      ]
     },
     "metadata": {
      "needs_background": "light"
     },
     "output_type": "display_data"
    },
    {
     "data": {
      "image/png": "[encoded data removed]",
      "text/plain": [
       "<Figure size 432x288 with 1 Axes>"
      ]
     },
     "metadata": {
      "needs_background": "light"
     },
     "output_type": "display_data"
    }
   ],
   "source": [
    "dir_folders = f'{base_dir}/label_data'\n",
    "# dir_folders = r'/media/rich/bigSSD/for_Josh/GCAMP_ROI_Classifier_data/label_data'\n",
    "# dir_folders = r'/users/Josh/Documents/Harvard/label_data'\n",
    "folders = [r'mouse 6_28 _ day 20200903/',\n",
    "             r'mouse6_28 _ day20200815/']\n",
    "fileNames_statFiles = [r'stat.npy']*len(folders)\n",
    "paths_statFiles = [pathlib.Path(dir_folders) / folders[ii] / fileNames_statFiles[ii] for ii in range(len(folders))]\n",
    "\n",
    "sf_all = util.import_multiple_stat_files(   paths_statFiles=paths_statFiles,\n",
    "                                            fileNames_statFiles=fileNames_statFiles,\n",
    "                                            out_height_width=[32,32],\n",
    "                                            max_footprint_width=241,\n",
    "                                            plot_pref=True)\n",
    "images_labeled_raw = np.concatenate(sf_all, axis=0)\n",
    "images_labeled_raw = (images_labeled_raw / np.max(images_labeled_raw, axis=(1,2), keepdims=True)) * 1\n",
    "print(f'concatenated images shape: {images_labeled_raw.shape}')\n",
    "\n",
    "fileNames_labelFiles = ['labels_posthoc_filledIn_allCells.npy',\n",
    "             'labels_posthoc_all.npy']\n",
    "paths_labelFiles = [pathlib.Path(dir_folders) / folders[ii] / fileNames_labelFiles[ii] for ii in range(len(folders))]\n",
    "\n",
    "labels_all = util.import_multiple_label_files(paths_labelFiles=paths_labelFiles,\n",
    "                                       plot_pref=True)\n",
    "labels_raw = np.concatenate(labels_all)\n",
    "\n",
    "assert np.alltrue([sf_all[ii].shape[0] == labels_all[ii].shape[0] for ii in range(len(sf_all))]) , 'num images in stat files does not correspond to num labels'"
   ]
  },
  {
   "cell_type": "code",
   "execution_count": 13,
   "metadata": {},
   "outputs": [
    {
     "data": {
      "image/png": "[encoded data removed]",
      "text/plain": [
       "<Figure size 432x288 with 100 Axes>"
      ]
     },
     "metadata": {
      "needs_background": "light"
     },
     "output_type": "display_data"
    }
   ],
   "source": [
    "%matplotlib inline\n",
    "\n",
    "plotting_helpers.plot_image_grid(images=images_labeled_raw,\n",
    "                                labels=None,\n",
    "                                grid_shape=(10,10), cmap=plt.get_cmap('gray'));"
   ]
  },
  {
   "cell_type": "code",
   "execution_count": 14,
   "metadata": {
    "id": "Ip1UMYy6DB0p"
   },
   "outputs": [],
   "source": [
    "labels = classification.squeeze_integers(labels_raw)\n",
    "images_labeled = images_labeled_raw[labels != 2]\n",
    "labels = labels[labels != 2]\n",
    "labels = classification.squeeze_integers(labels)"
   ]
  },
  {
   "cell_type": "markdown",
   "metadata": {
    "id": "UYh_wBqCDB0q"
   },
   "source": [
    "## Balance classes of inputs"
   ]
  },
  {
   "cell_type": "code",
   "execution_count": 15,
   "metadata": {
    "colab": {
     "base_uri": "https://localhost:8080/"
    },
    "id": "qn4Pu2cKDB0q",
    "outputId": "3afafb73-54a7-4e2d-8030-c0af6272cbe6"
   },
   "outputs": [
    {
     "name": "stdout",
     "output_type": "stream",
     "text": [
      "(9714, 32, 32)\n",
      "(9714,)\n",
      "532\n",
      "(2128, 32, 32)\n",
      "(2128,)\n",
      "532\n",
      "532\n",
      "532\n",
      "0\n",
      "0\n",
      "(2128, 32, 32)\n",
      "(2128,)\n"
     ]
    }
   ],
   "source": [
    "duplicates = 1\n",
    "balanced = True\n",
    "\n",
    "images_dup = np.tile(images_labeled , (duplicates , 1 , 1))\n",
    "labels_dup = np.tile(labels , (duplicates))\n",
    "\n",
    "print(images_dup.shape)\n",
    "print(labels_dup.shape)\n",
    "\n",
    "if balanced:\n",
    "    numToGetTo = np.sum(labels_dup==0)\n",
    "    print(numToGetTo)\n",
    "    for ii in np.array([1,2,3]):\n",
    "  #     idxToDelete = np.cumsum(labels_dup==ii) <= (np.sum(labels_dup==ii) - numToGetTo)\n",
    "        if ii==3:\n",
    "            numToGetTo = np.sum(labels_dup==0)/1\n",
    "        else:\n",
    "            numToGetTo = np.sum(labels_dup==0)\n",
    "\n",
    "        idxToDelete = (np.cumsum(labels_dup==ii) * (labels_dup==ii)) > numToGetTo\n",
    "        images_dup = images_dup[idxToDelete==0,:,:]\n",
    "        labels_dup = labels_dup[idxToDelete==0]\n",
    "\n",
    "\n",
    "\n",
    "\n",
    "\n",
    "print(images_dup.shape)\n",
    "print(labels_dup.shape)\n",
    "\n",
    "numToGetTo = np.sum(labels_dup==0)\n",
    "print(numToGetTo)\n",
    "\n",
    "print(np.sum(labels_dup==0))\n",
    "print(np.sum(labels_dup==1))\n",
    "print(np.sum(labels_dup==4))\n",
    "print(np.sum(labels_dup==5))\n",
    "print(images_dup.shape)\n",
    "print(labels_dup.shape)"
   ]
  },
  {
   "cell_type": "raw",
   "metadata": {
    "id": "NpMB08CYDB0q"
   },
   "source": [
    "# create validation set\n",
    "# X_train, X_val, y_train, y_val = train_test_split(images[:], labels[:], test_size = 0.15)\n",
    "X_train, X_val, y_train, y_val = train_test_split(images_dup[:], labels_dup[:], test_size = 0.15)\n",
    "(X_train.shape, y_train.shape), (X_val.shape, y_val.shape)"
   ]
  },
  {
   "cell_type": "code",
   "execution_count": 16,
   "metadata": {
    "colab": {
     "base_uri": "https://localhost:8080/"
    },
    "id": "fVA_Aa6rDB0q",
    "outputId": "15b9e55a-4881-40be-f06b-dec658fa55a7"
   },
   "outputs": [
    {
     "data": {
      "text/plain": [
       "(((1702, 32, 32), (1702,)), ((426, 32, 32), (426,)))"
      ]
     },
     "execution_count": 16,
     "metadata": {},
     "output_type": "execute_result"
    }
   ],
   "source": [
    "# create validation set\n",
    "\n",
    "###### REMOVE WITH ENOUGH RAM\n",
    "images = images_dup\n",
    "labels = labels_dup\n",
    "\n",
    "# X_labeled_train, X_labeled_val, y_labeled_train, y_labeled_val = train_test_split(images_dup, labels_dup, test_size = 0.3)\n",
    "X_labeled_train, X_labeled_val, y_labeled_train, y_labeled_val = train_test_split(images_dup, labels_dup, test_size = 0.2)\n",
    "# X_train, y_train = X_labeled_train, y_labeled_train\n",
    "\n",
    "# X_labeled_val, X_test, y_labeled_val, y_test = train_test_split(X_labeled_val, y_labeled_val, test_size = 0.5)\n",
    "X_val, X_test, y_val, y_test = train_test_split(X_labeled_val, y_labeled_val, test_size = 0.5)\n",
    "\n",
    "(X_labeled_train.shape, y_labeled_train.shape), (X_labeled_val.shape, y_labeled_val.shape)"
   ]
  },
  {
   "cell_type": "code",
   "execution_count": 17,
   "metadata": {
    "colab": {
     "base_uri": "https://localhost:8080/",
     "height": 265
    },
    "id": "mdJafJMMDB0r",
    "outputId": "2e8d00f6-32bf-4aeb-d02d-e10dcaaccfe3"
   },
   "outputs": [
    {
     "data": {
      "image/png": "[encoded data removed]",
      "text/plain": [
       "<Figure size 432x288 with 1 Axes>"
      ]
     },
     "metadata": {
      "needs_background": "light"
     },
     "output_type": "display_data"
    }
   ],
   "source": [
    "plt.figure()\n",
    "plt.hist(labels_dup, 20);"
   ]
  },
  {
   "cell_type": "code",
   "execution_count": 18,
   "metadata": {},
   "outputs": [
    {
     "data": {
      "text/plain": [
       "(2128, 32, 32)"
      ]
     },
     "execution_count": 18,
     "metadata": {},
     "output_type": "execute_result"
    }
   ],
   "source": [
    "images.shape"
   ]
  },
  {
   "cell_type": "code",
   "execution_count": null,
   "metadata": {
    "id": "XNxaCTbcDB0r"
   },
   "outputs": [],
   "source": []
  },
  {
   "cell_type": "raw",
   "metadata": {
    "id": "tz9Q8wYuDB0s"
   },
   "source": [
    "from sklearn.linear_model import LogisticRegression\n",
    "import sklearn.metrics\n",
    "\n",
    "def classification_step(X_train, y_train, X_test, model, model_device, temperature):\n",
    "    logreg = LogisticRegression()\n",
    "    features_train = model(torch.as_tensor(X_train, device=DEVICE, dtype=torch.float32)[:,None,...]).detach().cpu()\n",
    "    # features = model(torch.tensor(X_train[y_train != 3], device=DEVICE, dtype=torch.float32)[:,None,...]).detach().cpu()\n",
    "    logreg.fit(features_train, y_train)\n",
    "    # logreg.fit(features, y_train[y_train != 3])\n",
    "    \n",
    "    features_test = model(torch.as_tensor(X_test, device=DEVICE, dtype=torch.float32)[:,None,...]).detach().cpu()    \n",
    "    y_hat = logreg.predict_proba(features_test)\n",
    "    y_hat = torch.as_tensor(y_hat, dtype=torch.float32, device='cpu')\n",
    "    \n",
    "#     print(y_hat)\n",
    "    print(f'accuracy: {logreg.score(features, y):.5}')\n",
    "\n",
    "#     # cm = sklearn.metrics.confusion_matrix(idx_to_oneHot(y_train), y_hat, normalize='true')\n",
    "#     # cm = sklearn.metrics.confusion_matrix(idx_to_oneHot(y_train[y_train != 3]), y_hat, normalize='true')\n",
    "#     cm = rh_cm(y_hat, y)\n",
    "#     # cm = rh_cm(y_hat, y_train[y_train != 3])\n",
    "    \n",
    "    unc = util.loss_uncertainty(y_hat, temperature=temperature)\n",
    "\n",
    "#     plt.figure()\n",
    "#     plt.imshow(cm)\n",
    "#     return torch.tensor(unc, dtype=torch.float32, device=model_device)\n",
    "    return unc"
   ]
  },
  {
   "cell_type": "markdown",
   "metadata": {
    "id": "3aA1-hY4DB0v"
   },
   "source": [
    "# Train"
   ]
  },
  {
   "cell_type": "code",
   "execution_count": 19,
   "metadata": {
    "colab": {
     "base_uri": "https://localhost:8080/"
    },
    "id": "YtkRZSMqDB0v",
    "outputId": "230c559f-f22c-4182-b3ab-024ba2080a50"
   },
   "outputs": [
    {
     "name": "stdout",
     "output_type": "stream",
     "text": [
      "device: 'cuda'\n"
     ]
    }
   ],
   "source": [
    "DEVICE = torch_helpers.set_device(use_GPU=True)\n",
    "# DEVICE = torch_helpers.set_device(use_GPU=False)"
   ]
  },
  {
   "cell_type": "markdown",
   "metadata": {},
   "source": [
    "### Define New model = model + pre-head + latent layer OR classification layer"
   ]
  },
  {
   "cell_type": "code",
   "execution_count": 20,
   "metadata": {
    "id": "gt4xpqbHBjyL"
   },
   "outputs": [],
   "source": [
    "class ModelTackOn(torch.nn.Module):\n",
    "    def __init__(self, base_model, un_modified_model, pre_head_fc_sizes=[100], post_head_fc_sizes=[100], classifier_fc_sizes=None):\n",
    "            super(ModelTackOn, self).__init__()\n",
    "            self.base_model = base_model\n",
    "            final_base_layer = list(un_modified_model.children())[-1]\n",
    "            # final_base_layer = list(list(model.children())[-1].children())[-1]\n",
    "            # print(final_base_layer)\n",
    "\n",
    "            self.pre_head_fc_lst = []\n",
    "            self.post_head_fc_lst = []\n",
    "            self.classifier_fc_lst = []\n",
    "\n",
    "            self.init_prehead(final_base_layer, pre_head_fc_sizes)\n",
    "            self.init_posthead(pre_head_fc_sizes[-1], post_head_fc_sizes)\n",
    "            if classifier_fc_sizes is not None:\n",
    "                self.init_classifier(pre_head_fc_sizes[-1], classifier_fc_sizes)\n",
    "    \n",
    "    def init_prehead(self, prv_layer, pre_head_fc_sizes):\n",
    "        for i, pre_head_fc in enumerate(pre_head_fc_sizes):\n",
    "            if i == 0:\n",
    "                in_features = prv_layer.in_features if hasattr(prv_layer,'in_features') else 512\n",
    "            else:\n",
    "                in_features = pre_head_fc_sizes[i - 1]\n",
    "            fc_layer = torch.nn.Linear(in_features=in_features, out_features=pre_head_fc)\n",
    "            self.add_module(f'PreHead_{i}', fc_layer)\n",
    "            self.pre_head_fc_lst.append(fc_layer)\n",
    "\n",
    "#             if i < len(pre_head_fc_sizes) - 1:\n",
    "            non_linearity = torch.nn.ReLU()\n",
    "            self.add_module(f'PreHead_{i}_NonLinearity', non_linearity)\n",
    "            self.pre_head_fc_lst.append(non_linearity)\n",
    "\n",
    "    def init_posthead(self, prv_size, post_head_fc_sizes):\n",
    "        for i, post_head_fc in enumerate(post_head_fc_sizes):\n",
    "            if i == 0:\n",
    "                in_features = prv_size\n",
    "            else:\n",
    "                in_features = post_head_fc_sizes[i - 1]\n",
    "            fc_layer = torch.nn.Linear(in_features=in_features, out_features=post_head_fc)\n",
    "            self.add_module(f'PostHead_{i}', fc_layer)\n",
    "            self.post_head_fc_lst.append(fc_layer)\n",
    "\n",
    "            if i < len(post_head_fc_sizes) - 1:\n",
    "                non_linearity = torch.nn.ReLU()\n",
    "                self.add_module(f'PostHead_{i}_NonLinearity', non_linearity)\n",
    "                self.pre_head_fc_lst.append(non_linearity)\n",
    "    \n",
    "    def init_classifier(self, prv_size, classifier_fc_sizes):\n",
    "            for i, classifier_fc in enumerate(classifier_fc_sizes):\n",
    "                if i == 0:\n",
    "                    in_features = prv_size\n",
    "                else:\n",
    "                    in_features = classifier_fc_sizes[i - 1]\n",
    "            fc_layer = torch.nn.Linear(in_features=in_features, out_features=classifier_fc)\n",
    "            self.add_module(f'Classifier_{i}', fc_layer)\n",
    "            self.classifier_fc_lst.append(fc_layer)\n",
    "\n",
    "    def reinit_classifier(self):\n",
    "        for i_layer, layer in enumerate(self.classifier_fc_lst):\n",
    "            layer.reset_parameters()\n",
    "    \n",
    "#     def forward(self, X):\n",
    "#         interim = self.base_model(X)\n",
    "#         interim = self.get_head(interim)\n",
    "#         interim = self.get_latent(interim)\n",
    "#         return interim\n",
    "\n",
    "    def forward_classifier(self, X):\n",
    "        interim = self.base_model(X)\n",
    "        interim = self.get_head(interim)\n",
    "        interim = self.classify(interim)\n",
    "        return interim\n",
    "\n",
    "    def forward_latent(self, X):\n",
    "        interim = self.base_model(X)\n",
    "        interim = self.get_head(interim)\n",
    "        interim = self.get_latent(interim)\n",
    "        return interim\n",
    "\n",
    "\n",
    "    def get_head(self, base_out):\n",
    "        # print('base_out', base_out.shape)\n",
    "        head = base_out\n",
    "        for pre_head_layer in self.pre_head_fc_lst:\n",
    "          # print('pre_head_layer', pre_head_layer.in_features)\n",
    "          head = pre_head_layer(head)\n",
    "          # print('head', head.shape)\n",
    "        return head\n",
    "\n",
    "    def get_latent(self, head):\n",
    "        latent = head\n",
    "        for post_head_layer in self.post_head_fc_lst:\n",
    "            latent = post_head_layer(latent)\n",
    "        return latent\n",
    "\n",
    "    def classify(self, head):\n",
    "        logit = head\n",
    "        for classifier_layer in self.classifier_fc_lst:\n",
    "            logit = classifier_layer(logit)\n",
    "        return logit\n",
    "\n",
    "    def set_pre_head_grad(self, requires_grad=True):\n",
    "        for layer in self.pre_head_fc_lst:\n",
    "            for param in layer.parameters():\n",
    "                param.requires_grad = requires_grad\n",
    "                \n",
    "    def set_post_head_grad(self, requires_grad=True):\n",
    "        for layer in self.post_head_fc_lst:\n",
    "            for param in layer.parameters():\n",
    "                param.requires_grad = requires_grad\n",
    "\n",
    "    def set_classifier_grad(self, requires_grad=True):\n",
    "        for layer in self.classifier_fc_lst:\n",
    "            for param in layer.parameters():\n",
    "                param.requires_grad = requires_grad\n",
    "\n",
    "    def prep_contrast(self):\n",
    "        self.set_pre_head_grad(requires_grad=True)\n",
    "        self.set_post_head_grad(requires_grad=True)\n",
    "        self.set_classifier_grad(requires_grad=False)\n",
    "\n",
    "    def prep_classifier(self):\n",
    "        self.set_pre_head_grad(requires_grad=False)\n",
    "        self.set_post_head_grad(requires_grad=False)\n",
    "        self.set_classifier_grad(requires_grad=True)\n"
   ]
  },
  {
   "cell_type": "code",
   "execution_count": 21,
   "metadata": {
    "id": "MIix9BdUCkqf"
   },
   "outputs": [],
   "source": [
    "# import torchvision.models\n",
    "\n",
    "# # base_model = torchvision.models.resnet101(pretrained=True)\n",
    "# base_model = torchvision.models.resnet18(pretrained=True)\n",
    "\n",
    "# for param in base_model.parameters():\n",
    "#     param.requires_grad = False\n",
    "\n",
    "# retrain = list(base_model.children())[-1:]\n",
    "# for layer in retrain:\n",
    "#     params = layer.parameters()\n",
    "#     for param in params:\n",
    "#         param.requires_grad = True"
   ]
  },
  {
   "cell_type": "code",
   "execution_count": 22,
   "metadata": {
    "id": "oyjLftj_cEGW"
   },
   "outputs": [],
   "source": [
    "import torchvision.models\n",
    "\n",
    "# base_model_frozen = torchvision.models.resnet101(pretrained=True)\n",
    "base_model_frozen = torchvision.models.resnet18(pretrained=True)\n",
    "# base_model_frozen = torchvision.models.wide_resnet50_2(pretrained=True)\n",
    "# base_model_frozen = torchvision.models.resnet50(pretrained=True)\n",
    "for param in base_model_frozen.parameters():\n",
    "    param.requires_grad = False"
   ]
  },
  {
   "cell_type": "markdown",
   "metadata": {},
   "source": [
    "start with a pretrained resnet model, and chop off the final layer. This will be used as the base on which we add the pre-head layers (for expressivity), latent layers (for simCLR), or classification layers (for post-hoc logistic regression)"
   ]
  },
  {
   "cell_type": "code",
   "execution_count": 23,
   "metadata": {
    "id": "aWnb7WWri9qK"
   },
   "outputs": [],
   "source": [
    "model_chopped = torch.nn.Sequential(*(list(base_model_frozen.children())[:-1] + [torch.nn.Flatten()]))"
   ]
  },
  {
   "cell_type": "markdown",
   "metadata": {
    "id": "_E18ZEzpClNd"
   },
   "source": [
    "### Make combined model\n",
    "'model' has two forward methods. One for generating latents (for simCLR) and one for classifying labels"
   ]
  },
  {
   "cell_type": "code",
   "execution_count": 24,
   "metadata": {
    "colab": {
     "base_uri": "https://localhost:8080/"
    },
    "id": "n6Qx-1NGJNY3",
    "outputId": "f7cb3ded-3b48-439e-bf57-a526fb48bac7"
   },
   "outputs": [],
   "source": [
    "model = ModelTackOn(model_chopped, base_model_frozen, pre_head_fc_sizes=[1024, 512], post_head_fc_sizes=[64], classifier_fc_sizes=[len(np.unique(y_labeled_train))])\n",
    "# model = ModelTackOn(model_chopped.to(DEVICE), base_model_frozen, pre_head_fc_sizes=[len(np.unique(y_train))], post_head_fc_sizes=[])\n",
    "# model = ModelTackOn(model_chopped.to(DEVICE), base_model_frozen, pre_head_fc_sizes=[len(np.unique(y_train))], post_head_fc_sizes=[])\n",
    "\n",
    "# model = torch.nn.Sequential([model_chopped.to(DEVICE), torch.nn.Linear], pre_head_fc_sizes=[len(np.unique(y_train))], post_head_fc_sizes=[])\n",
    "\n",
    "\n",
    "# model = ModelTackOn(base_model_frozen, pre_head_fc_sizes=[len(np.unique(y_train))], post_head_fc_sizes=[])\n",
    "# model = ModelTackOn(base_model, pre_head_fc_sizes=[len(np.unique(y_train))], post_head_fc_sizes=[])\n",
    "model.train();"
   ]
  },
  {
   "cell_type": "code",
   "execution_count": 25,
   "metadata": {},
   "outputs": [
    {
     "name": "stdout",
     "output_type": "stream",
     "text": [
      "base_model.6.0.conv1.weight\n",
      "base_model.6.0.bn1.weight\n",
      "base_model.6.0.bn1.bias\n",
      "base_model.6.0.conv2.weight\n",
      "base_model.6.0.bn2.weight\n",
      "base_model.6.0.bn2.bias\n",
      "base_model.6.0.downsample.0.weight\n",
      "base_model.6.0.downsample.1.weight\n",
      "base_model.6.0.downsample.1.bias\n",
      "base_model.6.1.conv1.weight\n",
      "base_model.6.1.bn1.weight\n",
      "base_model.6.1.bn1.bias\n",
      "base_model.6.1.conv2.weight\n",
      "base_model.6.1.bn2.weight\n",
      "base_model.6.1.bn2.bias\n",
      "base_model.7.0.conv1.weight\n",
      "base_model.7.0.bn1.weight\n",
      "base_model.7.0.bn1.bias\n",
      "base_model.7.0.conv2.weight\n",
      "base_model.7.0.bn2.weight\n",
      "base_model.7.0.bn2.bias\n",
      "base_model.7.0.downsample.0.weight\n",
      "base_model.7.0.downsample.1.weight\n",
      "base_model.7.0.downsample.1.bias\n",
      "base_model.7.1.conv1.weight\n",
      "base_model.7.1.bn1.weight\n",
      "base_model.7.1.bn1.bias\n",
      "base_model.7.1.conv2.weight\n",
      "base_model.7.1.bn2.weight\n",
      "base_model.7.1.bn2.bias\n",
      "PreHead_0.weight\n",
      "PreHead_0.bias\n",
      "PreHead_1.weight\n",
      "PreHead_1.bias\n",
      "PostHead_0.weight\n",
      "PostHead_0.bias\n",
      "Classifier_0.weight\n",
      "Classifier_0.bias\n"
     ]
    }
   ],
   "source": [
    "# unfreeze particular blocks in ResNet model\n",
    "\n",
    "for name, param in list(model.named_parameters()):\n",
    "    if name[:10] == 'base_model':\n",
    "        if int(name[11]) < 6:\n",
    "            param.requires_grad = False\n",
    "        elif int(name[11]) >= 6:\n",
    "            param.requires_grad = True\n",
    "\n",
    "for name, param in list(model.named_parameters()):\n",
    "    if param.requires_grad:\n",
    "        print(name)"
   ]
  },
  {
   "cell_type": "markdown",
   "metadata": {
    "id": "T2ARByXvDB0s"
   },
   "source": [
    "## Define augmentation pipeline"
   ]
  },
  {
   "cell_type": "code",
   "execution_count": 26,
   "metadata": {},
   "outputs": [],
   "source": [
    "import torchvision.transforms    \n",
    "\n",
    "transforms = torch.nn.Sequential(\n",
    "    torchvision.transforms.RandomHorizontalFlip(p=0.5),\n",
    "        \n",
    "    torchvision.transforms.RandomAffine(\n",
    "                                        degrees=(-180,180),\n",
    "                                        translate=(0.45, 0.45), #0, .3, .45 (DEFAULT)\n",
    "                                        scale=(0.6, 1.2), # no scale (1,1), (0.4, 1.5)\n",
    "                                        shear=(-15, 15, -15, 15),\n",
    "                                        interpolation=torchvision.transforms.InterpolationMode.BILINEAR, \n",
    "                                        fill=0, \n",
    "                                        fillcolor=None, \n",
    "                                        resample=None),\n",
    "    augmentation.AddPoissonNoise(   scaler_bounds=(10**(4.5), 10**(6.)),\n",
    "                                    prob=1,\n",
    "                                    base=1000,\n",
    "                                    scaling='log'),\n",
    "    augmentation.AddGaussianNoise(  mean=0, \n",
    "                                    std=0.00015,\n",
    "                                    prob=1),\n",
    "    \n",
    "    augmentation.ScaleDynamicRange(scaler_bounds=(0,1)), # just clamping, both this and clamping = normalizing (DEFAULT)\n",
    "    \n",
    "    torchvision.transforms.Resize(size=(224,224), \n",
    "                                  interpolation=torchvision.transforms.InterpolationMode.BILINEAR), # To do or not to do (DEFAULT)\n",
    "    \n",
    "    augmentation.TileChannels(dim=0, n_channels=3),\n",
    ")\n",
    "scripted_transforms = torch.jit.script(transforms)"
   ]
  },
  {
   "cell_type": "raw",
   "metadata": {
    "id": "tq77tWZeDB0s"
   },
   "source": [
    "import torchvision.transforms    \n",
    "\n",
    "transforms = torch.nn.Sequential(\n",
    "    \n",
    "#     torchvision.transforms.RandomAdjustSharpness(torch.rand(1)*5, p=0.5),\n",
    "#         torchvision.transforms.RandomPerspective(distortion_scale=0.7, \n",
    "#                                              p=0.5, \n",
    "#                                              interpolation=torchvision.transforms.InterpolationMode.BILINEAR, \n",
    "#                                              fill=0),\n",
    "#     torchvision.transforms.GaussianBlur(kernel_size=5,\n",
    "#                                         sigma=(0.0001, 0.1)),\n",
    "        \n",
    "\n",
    "    torchvision.transforms.RandomHorizontalFlip(p=0.5),\n",
    "        \n",
    "    torchvision.transforms.RandomAffine(\n",
    "                                        degrees=(-180,180),\n",
    "                                        translate=(0.2, 0.2), #0.15/.15\n",
    "                                        scale=(0.4, 1.3),  #.6, 1.2\n",
    "                                        shear=(-25, 25, -25, 25), # -15/+15 across board\n",
    "                                        interpolation=torchvision.transforms.InterpolationMode.BILINEAR, \n",
    "                                        fill=0, \n",
    "                                        fillcolor=None, \n",
    "                                        resample=None),\n",
    "    augmentation.AddPoissonNoise(   scaler_bounds=(10**(4.0), 10**(6.)), # 4.5, 6\n",
    "                                    prob=1,\n",
    "                                    base=1000,\n",
    "                                    scaling='log'),\n",
    "    augmentation.AddGaussianNoise(  mean=0, \n",
    "                                    std=0.0002, # 0.00015\n",
    "                                    prob=1),\n",
    "    \n",
    "    augmentation.ScaleDynamicRange(scaler_bounds=(0,1)), # Do vs. don't do -- bounds between 0/1. Either do this OR do this followed by torchvision.transforms.Normalize\n",
    "    \n",
    "    torchvision.transforms.Resize(size=(224,224),\n",
    "                                  interpolation=torchvision.transforms.InterpolationMode.BILINEAR), # Do vs. don't do\n",
    "    \n",
    "    # augmentation.AddPoissonNoise(   scaler_bounds=(10**(1.5), 10**(4.0)),\n",
    "    #                                 prob=1,\n",
    "    #                                 base=1000,\n",
    "    #                                 scaling='log'),\n",
    "    # augmentation.AddGaussianNoise(  mean=0, \n",
    "    #                                 std=0.1,\n",
    "    #                                 prob=1),\n",
    "    \n",
    "    augmentation.TileChannels(dim=0, n_channels=3),\n",
    "    \n",
    "#     augmentation.Normalize(  means=[0.485, 0.456, 0.406],\n",
    "#                              stds=[0.229, 0.224, 0.225]),\n",
    "#     torchvision.transforms.Normalize(mean=[0.485, 0.456, 0.406],\n",
    "#                                      std=[0.229, 0.224, 0.225],\n",
    "#                                      inplace=False),\n",
    "#     torchvision.transforms.RandomHorizontalFlip(p=0.5),\n",
    "\n",
    "#     torchvision.transforms.RandomAffine(\n",
    "#                                         degrees=(-180,180),\n",
    "#                                         translate=(0.0, 0.0),\n",
    "#                                         interpolation=torchvision.transforms.InterpolationMode.BILINEAR, \n",
    "#                                         fill=0, \n",
    "#                                         # fillcolor=None, \n",
    "#                                         resample=None),\n",
    ")\n",
    "scripted_transforms = torch.jit.script(transforms)\n",
    "# scripted_transforms = transforms"
   ]
  },
  {
   "cell_type": "code",
   "execution_count": 27,
   "metadata": {
    "id": "PmM4nnV1nCVd"
   },
   "outputs": [],
   "source": [
    "dataset_train = util.dataset_simCLR(\n",
    "                                    torch.as_tensor(masks_cat, device='cpu', dtype=torch.float32), \n",
    "                                    torch.as_tensor(torch.zeros(masks_cat.shape[0]), device='cpu', dtype=torch.float32),\n",
    "\n",
    "                                    n_transforms=2,\n",
    "                                    class_weights=np.array([1]),\n",
    "                                    # class_weights=np.array([1]*4)[np.random.randint(0,4, X_train.shape[0])],\n",
    "                                    transform=scripted_transforms,\n",
    "                                    # DEVICE='cpu',\n",
    "                                    DEVICE='cpu',\n",
    "                                    dtype_X=torch.float32,\n",
    "                                    dtype_y=torch.int64,\n",
    "                                    \n",
    "                                    temp_uncertainty=16\n",
    "                                    )\n",
    "dataloader_train = torch.utils.data.DataLoader( dataset_train,\n",
    "#                                                 batch_size=int(pct_batch_size*X_train.shape[0]),\n",
    "                                                batch_size=1024,\n",
    "                                                shuffle=True,\n",
    "                                                drop_last=True,\n",
    "                                                pin_memory=True,\n",
    "                                                num_workers=16,\n",
    "                                                persistent_workers=True,\n",
    "                                                # prefetch_factor=0\n",
    "                                                )"
   ]
  },
  {
   "cell_type": "code",
   "execution_count": 28,
   "metadata": {},
   "outputs": [
    {
     "data": {
      "image/png": "[encoded data removed]",
      "text/plain": [
       "<Figure size 432x288 with 2 Axes>"
      ]
     },
     "metadata": {
      "needs_background": "light"
     },
     "output_type": "display_data"
    },
    {
     "data": {
      "image/png": "[encoded data removed]",
      "text/plain": [
       "<Figure size 432x288 with 2 Axes>"
      ]
     },
     "metadata": {
      "needs_background": "light"
     },
     "output_type": "display_data"
    },
    {
     "data": {
      "image/png": "[encoded data removed]",
      "text/plain": [
       "<Figure size 432x288 with 2 Axes>"
      ]
     },
     "metadata": {
      "needs_background": "light"
     },
     "output_type": "display_data"
    },
    {
     "data": {
      "image/png": "[encoded data removed]",
      "text/plain": [
       "<Figure size 432x288 with 2 Axes>"
      ]
     },
     "metadata": {
      "needs_background": "light"
     },
     "output_type": "display_data"
    },
    {
     "data": {
      "image/png": "[encoded data removed]",
      "text/plain": [
       "<Figure size 432x288 with 2 Axes>"
      ]
     },
     "metadata": {
      "needs_background": "light"
     },
     "output_type": "display_data"
    },
    {
     "data": {
      "image/png": "[encoded data removed]",
      "text/plain": [
       "<Figure size 432x288 with 2 Axes>"
      ]
     },
     "metadata": {
      "needs_background": "light"
     },
     "output_type": "display_data"
    },
    {
     "data": {
      "image/png": "[encoded data removed]",
      "text/plain": [
       "<Figure size 432x288 with 2 Axes>"
      ]
     },
     "metadata": {
      "needs_background": "light"
     },
     "output_type": "display_data"
    },
    {
     "data": {
      "image/png": "[encoded data removed]",
      "text/plain": [
       "<Figure size 432x288 with 2 Axes>"
      ]
     },
     "metadata": {
      "needs_background": "light"
     },
     "output_type": "display_data"
    },
    {
     "data": {
      "image/png": "[encoded data removed]",
      "text/plain": [
       "<Figure size 432x288 with 2 Axes>"
      ]
     },
     "metadata": {
      "needs_background": "light"
     },
     "output_type": "display_data"
    },
    {
     "data": {
      "image/png": "[encoded data removed]",
      "text/plain": [
       "<Figure size 432x288 with 2 Axes>"
      ]
     },
     "metadata": {
      "needs_background": "light"
     },
     "output_type": "display_data"
    }
   ],
   "source": [
    "idx_rand = np.random.randint(0,masks_cat.shape[0], 10)\n",
    "for ii in idx_rand:\n",
    "    fig, axs = plt.subplots(2)\n",
    "    axs[0].imshow(dataset_train[ii][0][0][0])\n",
    "    axs[1].imshow(dataset_train[ii][0][1][0])"
   ]
  },
  {
   "cell_type": "code",
   "execution_count": 29,
   "metadata": {
    "colab": {
     "base_uri": "https://localhost:8080/"
    },
    "id": "nstWf2PhVwfV",
    "outputId": "968f73ab-75d7-4735-ea1e-49e7fb3821cc"
   },
   "outputs": [
    {
     "data": {
      "text/plain": [
       "0"
      ]
     },
     "execution_count": 29,
     "metadata": {},
     "output_type": "execute_result"
    }
   ],
   "source": [
    "# torch_helpers.delete_all_cuda_tensors(globals())\n",
    "\n",
    "import gc\n",
    "\n",
    "torch.cuda.empty_cache()\n",
    "gc.collect()\n",
    "torch.cuda.empty_cache()\n",
    "gc.collect()\n",
    "torch.cuda.empty_cache()\n",
    "gc.collect()\n",
    "torch.cuda.empty_cache()\n",
    "gc.collect()"
   ]
  },
  {
   "cell_type": "markdown",
   "metadata": {
    "id": "OQ27o1ny9Xfi"
   },
   "source": [
    "## Training"
   ]
  },
  {
   "cell_type": "code",
   "execution_count": 30,
   "metadata": {},
   "outputs": [],
   "source": [
    "model.to(DEVICE)\n",
    "model.prep_contrast()"
   ]
  },
  {
   "cell_type": "code",
   "execution_count": 31,
   "metadata": {
    "id": "yDqu-bi8mnJB"
   },
   "outputs": [],
   "source": [
    "from torch.nn import CrossEntropyLoss\n",
    "from torch.optim import Adam\n",
    "\n",
    "import numpy as np\n",
    "\n",
    "from sklearn.linear_model import LogisticRegression\n",
    "from sklearn.tree import DecisionTreeClassifier\n",
    "from sklearn.ensemble import RandomForestClassifier\n",
    "from sklearn.svm import SVC\n",
    "\n",
    "\n",
    "# model = models.LeNet1(dropout_prob=0.3, momentum_val=0, n_output_features=64)\n",
    "\n",
    "\n",
    "criterion = [CrossEntropyLoss()]\n",
    "# criterion = CrossEntropyLoss(reduction='none')\n",
    "\n",
    "# optimizer = Adam(model.parameters(), lr=1e-2, weight_decay=0.0)\n",
    "# optimizer = Adam(model.parameters(), lr=2e-2)\n",
    "optimizer = Adam(model.parameters(), lr=10**(-3.5))\n",
    "scheduler = torch.optim.lr_scheduler.ExponentialLR(optimizer,\n",
    "                                                   gamma=1-0.0000,\n",
    "#                                                    gamma=1,\n",
    "                                                  )\n",
    "\n",
    "criterion = [_.to(DEVICE) for _ in criterion]\n",
    "losses_train, losses_val, val_accs, acc = [], [np.nan], [], []"
   ]
  },
  {
   "cell_type": "code",
   "execution_count": 32,
   "metadata": {
    "colab": {
     "base_uri": "https://localhost:8080/"
    },
    "id": "rvDiVxDICXEn",
    "outputId": "2c29e3cf-4515-4aae-f0b1-22e30d51fa5f"
   },
   "outputs": [
    {
     "name": "stderr",
     "output_type": "stream",
     "text": [
      "  0%|          | 0/300000 [00:00<?, ?it/s]"
     ]
    },
    {
     "name": "stdout",
     "output_type": "stream",
     "text": [
      "epoch: 0\n",
      "Iter: 0/695, loss_train: 7.5986, loss_val: nan, pos_over_neg: 1.0352647304534912 lr: 0.00031623\n",
      "Iter: 1/695, loss_train: 7.394, loss_val: nan, pos_over_neg: 3.6515448093414307 lr: 0.00031623\n",
      "Iter: 2/695, loss_train: 7.2144, loss_val: nan, pos_over_neg: 3.8618855476379395 lr: 0.00031623\n",
      "Iter: 3/695, loss_train: 7.1458, loss_val: nan, pos_over_neg: 11.668817520141602 lr: 0.00031623\n",
      "Iter: 4/695, loss_train: 7.066, loss_val: nan, pos_over_neg: 23.0958194732666 lr: 0.00031623\n",
      "Iter: 5/695, loss_train: 7.0512, loss_val: nan, pos_over_neg: 32.43644332885742 lr: 0.00031623\n",
      "Iter: 6/695, loss_train: 7.0185, loss_val: nan, pos_over_neg: 28.808204650878906 lr: 0.00031623\n",
      "Iter: 7/695, loss_train: 6.9856, loss_val: nan, pos_over_neg: 34.28706741333008 lr: 0.00031623\n",
      "Iter: 8/695, loss_train: 6.979, loss_val: nan, pos_over_neg: 39.97987747192383 lr: 0.00031623\n",
      "Iter: 9/695, loss_train: 6.972, loss_val: nan, pos_over_neg: 45.49827194213867 lr: 0.00031623\n",
      "Iter: 10/695, loss_train: 6.9617, loss_val: nan, pos_over_neg: 66.02184295654297 lr: 0.00031623\n",
      "Iter: 11/695, loss_train: 6.9521, loss_val: nan, pos_over_neg: 101.82261657714844 lr: 0.00031623\n",
      "Iter: 12/695, loss_train: 6.926, loss_val: nan, pos_over_neg: 105.08828735351562 lr: 0.00031623\n",
      "Iter: 13/695, loss_train: 6.9314, loss_val: nan, pos_over_neg: 134.2522430419922 lr: 0.00031623\n",
      "Iter: 14/695, loss_train: 6.9107, loss_val: nan, pos_over_neg: 140.28199768066406 lr: 0.00031623\n",
      "Iter: 15/695, loss_train: 6.9247, loss_val: nan, pos_over_neg: 155.44322204589844 lr: 0.00031623\n",
      "Iter: 16/695, loss_train: 6.9132, loss_val: nan, pos_over_neg: 125.14373016357422 lr: 0.00031623\n",
      "Iter: 17/695, loss_train: 6.9052, loss_val: nan, pos_over_neg: 161.35379028320312 lr: 0.00031623\n",
      "Iter: 18/695, loss_train: 6.9115, loss_val: nan, pos_over_neg: 490.53668212890625 lr: 0.00031623\n",
      "Iter: 19/695, loss_train: 6.8957, loss_val: nan, pos_over_neg: 336.97845458984375 lr: 0.00031623\n",
      "Iter: 20/695, loss_train: 6.9062, loss_val: nan, pos_over_neg: 249.67367553710938 lr: 0.00031623\n",
      "Iter: 21/695, loss_train: 6.8921, loss_val: nan, pos_over_neg: 153.2594757080078 lr: 0.00031623\n",
      "Iter: 22/695, loss_train: 6.8981, loss_val: nan, pos_over_neg: 93.36595153808594 lr: 0.00031623\n",
      "Iter: 23/695, loss_train: 6.8836, loss_val: nan, pos_over_neg: 224.29183959960938 lr: 0.00031623\n",
      "Iter: 24/695, loss_train: 6.8938, loss_val: nan, pos_over_neg: 358.826904296875 lr: 0.00031623\n",
      "Iter: 25/695, loss_train: 6.8797, loss_val: nan, pos_over_neg: 1004.8500366210938 lr: 0.00031623\n",
      "Iter: 26/695, loss_train: 6.8858, loss_val: nan, pos_over_neg: 1756.6441650390625 lr: 0.00031623\n",
      "Iter: 27/695, loss_train: 6.878, loss_val: nan, pos_over_neg: 560.2033081054688 lr: 0.00031623\n",
      "Iter: 28/695, loss_train: 6.8818, loss_val: nan, pos_over_neg: 159.6915740966797 lr: 0.00031623\n",
      "Iter: 29/695, loss_train: 6.8802, loss_val: nan, pos_over_neg: 129.7812957763672 lr: 0.00031623\n",
      "Iter: 30/695, loss_train: 6.865, loss_val: nan, pos_over_neg: 265.4731750488281 lr: 0.00031623\n",
      "Iter: 31/695, loss_train: 6.8724, loss_val: nan, pos_over_neg: 1006.1376953125 lr: 0.00031623\n",
      "Iter: 32/695, loss_train: 6.8657, loss_val: nan, pos_over_neg: 2104.2607421875 lr: 0.00031623\n",
      "Iter: 33/695, loss_train: 6.8788, loss_val: nan, pos_over_neg: 8045.76904296875 lr: 0.00031623\n",
      "Iter: 34/695, loss_train: 6.8729, loss_val: nan, pos_over_neg: 728.7667846679688 lr: 0.00031623\n",
      "Iter: 35/695, loss_train: 6.8675, loss_val: nan, pos_over_neg: 217.84829711914062 lr: 0.00031623\n",
      "Iter: 36/695, loss_train: 6.8693, loss_val: nan, pos_over_neg: 192.23779296875 lr: 0.00031623\n",
      "Iter: 37/695, loss_train: 6.863, loss_val: nan, pos_over_neg: 811.3552856445312 lr: 0.00031623\n",
      "Iter: 38/695, loss_train: 6.8631, loss_val: nan, pos_over_neg: 413.28546142578125 lr: 0.00031623\n",
      "Iter: 39/695, loss_train: 6.8554, loss_val: nan, pos_over_neg: 401.8094177246094 lr: 0.00031623\n",
      "Iter: 40/695, loss_train: 6.8563, loss_val: nan, pos_over_neg: 13764.255859375 lr: 0.00031623\n",
      "Iter: 41/695, loss_train: 6.8595, loss_val: nan, pos_over_neg: 240.9454803466797 lr: 0.00031623\n",
      "Iter: 42/695, loss_train: 6.8621, loss_val: nan, pos_over_neg: 302.01959228515625 lr: 0.00031623\n",
      "Iter: 43/695, loss_train: 6.8551, loss_val: nan, pos_over_neg: 715.3656005859375 lr: 0.00031623\n",
      "Iter: 44/695, loss_train: 6.846, loss_val: nan, pos_over_neg: 736.6524658203125 lr: 0.00031623\n",
      "Iter: 45/695, loss_train: 6.85, loss_val: nan, pos_over_neg: 650.2338256835938 lr: 0.00031623\n",
      "Iter: 46/695, loss_train: 6.8554, loss_val: nan, pos_over_neg: 3176.56982421875 lr: 0.00031623\n",
      "Iter: 47/695, loss_train: 6.8434, loss_val: nan, pos_over_neg: 1534.28076171875 lr: 0.00031623\n",
      "Iter: 48/695, loss_train: 6.8436, loss_val: nan, pos_over_neg: 916.0863037109375 lr: 0.00031623\n",
      "Iter: 49/695, loss_train: 6.8467, loss_val: nan, pos_over_neg: 1412.4481201171875 lr: 0.00031623\n",
      "Iter: 50/695, loss_train: 6.8397, loss_val: nan, pos_over_neg: 1626.43408203125 lr: 0.00031623\n",
      "Iter: 51/695, loss_train: 6.8296, loss_val: nan, pos_over_neg: -6929.095703125 lr: 0.00031623\n",
      "Iter: 52/695, loss_train: 6.8317, loss_val: nan, pos_over_neg: 1062.510498046875 lr: 0.00031623\n",
      "Iter: 53/695, loss_train: 6.8348, loss_val: nan, pos_over_neg: 785.1244506835938 lr: 0.00031623\n",
      "Iter: 54/695, loss_train: 6.8378, loss_val: nan, pos_over_neg: 5175.74609375 lr: 0.00031623\n",
      "Iter: 55/695, loss_train: 6.8334, loss_val: nan, pos_over_neg: 531.7313842773438 lr: 0.00031623\n",
      "Iter: 56/695, loss_train: 6.8325, loss_val: nan, pos_over_neg: 483.29632568359375 lr: 0.00031623\n",
      "Iter: 57/695, loss_train: 6.8341, loss_val: nan, pos_over_neg: 872.6732788085938 lr: 0.00031623\n",
      "Iter: 58/695, loss_train: 6.8308, loss_val: nan, pos_over_neg: 1005.0703125 lr: 0.00031623\n",
      "Iter: 59/695, loss_train: 6.8306, loss_val: nan, pos_over_neg: 1583.2335205078125 lr: 0.00031623\n",
      "Iter: 60/695, loss_train: 6.825, loss_val: nan, pos_over_neg: 617.8380126953125 lr: 0.00031623\n",
      "Iter: 61/695, loss_train: 6.8155, loss_val: nan, pos_over_neg: 544.79296875 lr: 0.00031623\n",
      "Iter: 62/695, loss_train: 6.8189, loss_val: nan, pos_over_neg: 2507.4423828125 lr: 0.00031623\n",
      "Iter: 63/695, loss_train: 6.826, loss_val: nan, pos_over_neg: 776.5596313476562 lr: 0.00031623\n",
      "Iter: 64/695, loss_train: 6.8261, loss_val: nan, pos_over_neg: 1158.7918701171875 lr: 0.00031623\n",
      "Iter: 65/695, loss_train: 6.8232, loss_val: nan, pos_over_neg: 1826.7366943359375 lr: 0.00031623\n",
      "Iter: 66/695, loss_train: 6.8186, loss_val: nan, pos_over_neg: 765.3394775390625 lr: 0.00031623\n",
      "Iter: 67/695, loss_train: 6.824, loss_val: nan, pos_over_neg: 2658.956787109375 lr: 0.00031623\n",
      "Iter: 68/695, loss_train: 6.8272, loss_val: nan, pos_over_neg: 902.990234375 lr: 0.00031623\n",
      "Iter: 69/695, loss_train: 6.8136, loss_val: nan, pos_over_neg: 434.0003662109375 lr: 0.00031623\n",
      "Iter: 70/695, loss_train: 6.82, loss_val: nan, pos_over_neg: 9016.6962890625 lr: 0.00031623\n",
      "Iter: 71/695, loss_train: 6.8225, loss_val: nan, pos_over_neg: 960.05224609375 lr: 0.00031623\n",
      "Iter: 72/695, loss_train: 6.8144, loss_val: nan, pos_over_neg: 244.34739685058594 lr: 0.00031623\n",
      "Iter: 73/695, loss_train: 6.8053, loss_val: nan, pos_over_neg: 1859.3699951171875 lr: 0.00031623\n",
      "Iter: 74/695, loss_train: 6.8142, loss_val: nan, pos_over_neg: 678.6459350585938 lr: 0.00031623\n",
      "Iter: 75/695, loss_train: 6.8164, loss_val: nan, pos_over_neg: 1041.396728515625 lr: 0.00031623\n",
      "Iter: 76/695, loss_train: 6.8136, loss_val: nan, pos_over_neg: 4725.22021484375 lr: 0.00031623\n",
      "Iter: 77/695, loss_train: 6.8111, loss_val: nan, pos_over_neg: 288.4753112792969 lr: 0.00031623\n",
      "Iter: 78/695, loss_train: 6.8162, loss_val: nan, pos_over_neg: 302.29046630859375 lr: 0.00031623\n",
      "Iter: 79/695, loss_train: 6.807, loss_val: nan, pos_over_neg: 2911.533935546875 lr: 0.00031623\n",
      "Iter: 80/695, loss_train: 6.8115, loss_val: nan, pos_over_neg: 519.2443237304688 lr: 0.00031623\n",
      "Iter: 81/695, loss_train: 6.8076, loss_val: nan, pos_over_neg: 592.8643188476562 lr: 0.00031623\n",
      "Iter: 82/695, loss_train: 6.8161, loss_val: nan, pos_over_neg: 344.65576171875 lr: 0.00031623\n",
      "Iter: 83/695, loss_train: 6.8099, loss_val: nan, pos_over_neg: 1085.2733154296875 lr: 0.00031623\n",
      "Iter: 84/695, loss_train: 6.814, loss_val: nan, pos_over_neg: 311.40765380859375 lr: 0.00031623\n",
      "Iter: 85/695, loss_train: 6.8008, loss_val: nan, pos_over_neg: 1285.74365234375 lr: 0.00031623\n",
      "Iter: 86/695, loss_train: 6.8155, loss_val: nan, pos_over_neg: 758.2650146484375 lr: 0.00031623\n",
      "Iter: 87/695, loss_train: 6.8087, loss_val: nan, pos_over_neg: 363.6610107421875 lr: 0.00031623\n",
      "Iter: 88/695, loss_train: 6.8146, loss_val: nan, pos_over_neg: 731.6177368164062 lr: 0.00031623\n",
      "Iter: 89/695, loss_train: 6.8075, loss_val: nan, pos_over_neg: 631.8452758789062 lr: 0.00031623\n",
      "Iter: 90/695, loss_train: 6.8093, loss_val: nan, pos_over_neg: 442.6697082519531 lr: 0.00031623\n",
      "Iter: 91/695, loss_train: 6.8033, loss_val: nan, pos_over_neg: 3096.16845703125 lr: 0.00031623\n",
      "Iter: 92/695, loss_train: 6.7994, loss_val: nan, pos_over_neg: 1337.09326171875 lr: 0.00031623\n",
      "Iter: 93/695, loss_train: 6.7932, loss_val: nan, pos_over_neg: 406.9237060546875 lr: 0.00031623\n",
      "Iter: 94/695, loss_train: 6.7969, loss_val: nan, pos_over_neg: 2765.51171875 lr: 0.00031623\n",
      "Iter: 95/695, loss_train: 6.8054, loss_val: nan, pos_over_neg: 1853.936767578125 lr: 0.00031623\n",
      "Iter: 96/695, loss_train: 6.8006, loss_val: nan, pos_over_neg: 2152.647216796875 lr: 0.00031623\n",
      "Iter: 97/695, loss_train: 6.8026, loss_val: nan, pos_over_neg: 932.3746948242188 lr: 0.00031623\n",
      "Iter: 98/695, loss_train: 6.8012, loss_val: nan, pos_over_neg: 2667.280517578125 lr: 0.00031623\n",
      "Iter: 99/695, loss_train: 6.8006, loss_val: nan, pos_over_neg: 942.2210083007812 lr: 0.00031623\n",
      "Iter: 100/695, loss_train: 6.8019, loss_val: nan, pos_over_neg: 484.28466796875 lr: 0.00031623\n",
      "Iter: 101/695, loss_train: 6.7941, loss_val: nan, pos_over_neg: 1012.0388793945312 lr: 0.00031623\n",
      "Iter: 102/695, loss_train: 6.8011, loss_val: nan, pos_over_neg: 1798.1846923828125 lr: 0.00031623\n",
      "Iter: 103/695, loss_train: 6.7979, loss_val: nan, pos_over_neg: 2356.8251953125 lr: 0.00031623\n",
      "Iter: 104/695, loss_train: 6.8021, loss_val: nan, pos_over_neg: 1189.0643310546875 lr: 0.00031623\n",
      "Iter: 105/695, loss_train: 6.7992, loss_val: nan, pos_over_neg: 1098.00927734375 lr: 0.00031623\n",
      "Iter: 106/695, loss_train: 6.7979, loss_val: nan, pos_over_neg: 1590.8199462890625 lr: 0.00031623\n",
      "Iter: 107/695, loss_train: 6.8033, loss_val: nan, pos_over_neg: 1246.615478515625 lr: 0.00031623\n",
      "Iter: 108/695, loss_train: 6.8, loss_val: nan, pos_over_neg: 801.063232421875 lr: 0.00031623\n",
      "Iter: 109/695, loss_train: 6.8008, loss_val: nan, pos_over_neg: 2100.352294921875 lr: 0.00031623\n",
      "Iter: 110/695, loss_train: 6.7946, loss_val: nan, pos_over_neg: 541.4251708984375 lr: 0.00031623\n",
      "Iter: 111/695, loss_train: 6.8008, loss_val: nan, pos_over_neg: 4923.00390625 lr: 0.00031623\n",
      "Iter: 112/695, loss_train: 6.7995, loss_val: nan, pos_over_neg: 1981.2156982421875 lr: 0.00031623\n",
      "Iter: 113/695, loss_train: 6.799, loss_val: nan, pos_over_neg: 1204.0086669921875 lr: 0.00031623\n",
      "Iter: 114/695, loss_train: 6.7943, loss_val: nan, pos_over_neg: 496.90374755859375 lr: 0.00031623\n",
      "Iter: 115/695, loss_train: 6.7941, loss_val: nan, pos_over_neg: -9778.767578125 lr: 0.00031623\n",
      "Iter: 116/695, loss_train: 6.8015, loss_val: nan, pos_over_neg: 754.8406982421875 lr: 0.00031623\n",
      "Iter: 117/695, loss_train: 6.8005, loss_val: nan, pos_over_neg: 2417.169677734375 lr: 0.00031623\n",
      "Iter: 118/695, loss_train: 6.7988, loss_val: nan, pos_over_neg: 841.7612915039062 lr: 0.00031623\n",
      "Iter: 119/695, loss_train: 6.798, loss_val: nan, pos_over_neg: 517.0088500976562 lr: 0.00031623\n",
      "Iter: 120/695, loss_train: 6.7984, loss_val: nan, pos_over_neg: 4431.4609375 lr: 0.00031623\n",
      "Iter: 121/695, loss_train: 6.793, loss_val: nan, pos_over_neg: 13169.4892578125 lr: 0.00031623\n",
      "Iter: 122/695, loss_train: 6.7963, loss_val: nan, pos_over_neg: 482.7580261230469 lr: 0.00031623\n",
      "Iter: 123/695, loss_train: 6.798, loss_val: nan, pos_over_neg: 2145.841796875 lr: 0.00031623\n",
      "Iter: 124/695, loss_train: 6.7892, loss_val: nan, pos_over_neg: 741.0021362304688 lr: 0.00031623\n",
      "Iter: 125/695, loss_train: 6.7974, loss_val: nan, pos_over_neg: 1357.9609375 lr: 0.00031623\n",
      "Iter: 126/695, loss_train: 6.7962, loss_val: nan, pos_over_neg: 9414.3876953125 lr: 0.00031623\n",
      "Iter: 127/695, loss_train: 6.7916, loss_val: nan, pos_over_neg: 1862.7869873046875 lr: 0.00031623\n",
      "Iter: 128/695, loss_train: 6.8035, loss_val: nan, pos_over_neg: 746.19921875 lr: 0.00031623\n",
      "Iter: 129/695, loss_train: 6.8002, loss_val: nan, pos_over_neg: 368.291259765625 lr: 0.00031623\n",
      "Iter: 130/695, loss_train: 6.7894, loss_val: nan, pos_over_neg: 1409.0867919921875 lr: 0.00031623\n",
      "Iter: 131/695, loss_train: 6.7997, loss_val: nan, pos_over_neg: 2781.674560546875 lr: 0.00031623\n",
      "Iter: 132/695, loss_train: 6.79, loss_val: nan, pos_over_neg: 1582.31494140625 lr: 0.00031623\n",
      "Iter: 133/695, loss_train: 6.7985, loss_val: nan, pos_over_neg: 987.1234130859375 lr: 0.00031623\n",
      "Iter: 134/695, loss_train: 6.7889, loss_val: nan, pos_over_neg: 818.5516357421875 lr: 0.00031623\n",
      "Iter: 135/695, loss_train: 6.7921, loss_val: nan, pos_over_neg: 804.5701293945312 lr: 0.00031623\n",
      "Iter: 136/695, loss_train: 6.7917, loss_val: nan, pos_over_neg: 702.5166015625 lr: 0.00031623\n",
      "Iter: 137/695, loss_train: 6.7933, loss_val: nan, pos_over_neg: 1393.024658203125 lr: 0.00031623\n",
      "Iter: 138/695, loss_train: 6.7989, loss_val: nan, pos_over_neg: 39403.64453125 lr: 0.00031623\n",
      "Iter: 139/695, loss_train: 6.7977, loss_val: nan, pos_over_neg: 373.5573425292969 lr: 0.00031623\n",
      "Iter: 140/695, loss_train: 6.7921, loss_val: nan, pos_over_neg: 532.209716796875 lr: 0.00031623\n",
      "Iter: 141/695, loss_train: 6.7979, loss_val: nan, pos_over_neg: 913.6083984375 lr: 0.00031623\n",
      "Iter: 142/695, loss_train: 6.7987, loss_val: nan, pos_over_neg: 688.1140747070312 lr: 0.00031623\n",
      "Iter: 143/695, loss_train: 6.8033, loss_val: nan, pos_over_neg: 976.0940551757812 lr: 0.00031623\n",
      "Iter: 144/695, loss_train: 6.7922, loss_val: nan, pos_over_neg: 453.4307556152344 lr: 0.00031623\n",
      "Iter: 145/695, loss_train: 6.7929, loss_val: nan, pos_over_neg: 290.7891540527344 lr: 0.00031623\n",
      "Iter: 146/695, loss_train: 6.7876, loss_val: nan, pos_over_neg: 795.1013793945312 lr: 0.00031623\n",
      "Iter: 147/695, loss_train: 6.7881, loss_val: nan, pos_over_neg: 530.5963134765625 lr: 0.00031623\n",
      "Iter: 148/695, loss_train: 6.7899, loss_val: nan, pos_over_neg: 462.17449951171875 lr: 0.00031623\n",
      "Iter: 149/695, loss_train: 6.7948, loss_val: nan, pos_over_neg: 12518.7568359375 lr: 0.00031623\n",
      "Iter: 150/695, loss_train: 6.7954, loss_val: nan, pos_over_neg: 424.8703308105469 lr: 0.00031623\n",
      "Iter: 151/695, loss_train: 6.7919, loss_val: nan, pos_over_neg: 200.14462280273438 lr: 0.00031623\n",
      "Iter: 152/695, loss_train: 6.7913, loss_val: nan, pos_over_neg: 5139.79052734375 lr: 0.00031623\n",
      "Iter: 153/695, loss_train: 6.7927, loss_val: nan, pos_over_neg: 1390.868408203125 lr: 0.00031623\n",
      "Iter: 154/695, loss_train: 6.7909, loss_val: nan, pos_over_neg: 1362.1165771484375 lr: 0.00031623\n",
      "Iter: 155/695, loss_train: 6.7923, loss_val: nan, pos_over_neg: 940.3296508789062 lr: 0.00031623\n",
      "Iter: 156/695, loss_train: 6.7952, loss_val: nan, pos_over_neg: -4187.16455078125 lr: 0.00031623\n",
      "Iter: 157/695, loss_train: 6.7895, loss_val: nan, pos_over_neg: 464.38482666015625 lr: 0.00031623\n",
      "Iter: 158/695, loss_train: 6.7948, loss_val: nan, pos_over_neg: 451.5947570800781 lr: 0.00031623\n",
      "Iter: 159/695, loss_train: 6.7899, loss_val: nan, pos_over_neg: 593.8369750976562 lr: 0.00031623\n",
      "Iter: 160/695, loss_train: 6.786, loss_val: nan, pos_over_neg: 1091.91455078125 lr: 0.00031623\n",
      "Iter: 161/695, loss_train: 6.7948, loss_val: nan, pos_over_neg: 3212.5732421875 lr: 0.00031623\n",
      "Iter: 162/695, loss_train: 6.7863, loss_val: nan, pos_over_neg: 1067.181884765625 lr: 0.00031623\n",
      "Iter: 163/695, loss_train: 6.7908, loss_val: nan, pos_over_neg: 1319.591796875 lr: 0.00031623\n",
      "Iter: 164/695, loss_train: 6.7846, loss_val: nan, pos_over_neg: 902.39697265625 lr: 0.00031623\n",
      "Iter: 165/695, loss_train: 6.7876, loss_val: nan, pos_over_neg: 1333.996826171875 lr: 0.00031623\n",
      "Iter: 166/695, loss_train: 6.7851, loss_val: nan, pos_over_neg: -63844.91015625 lr: 0.00031623\n",
      "Iter: 167/695, loss_train: 6.7839, loss_val: nan, pos_over_neg: 5786.81591796875 lr: 0.00031623\n",
      "Iter: 168/695, loss_train: 6.7857, loss_val: nan, pos_over_neg: -7045.97900390625 lr: 0.00031623\n",
      "Iter: 169/695, loss_train: 6.7833, loss_val: nan, pos_over_neg: 15792.6884765625 lr: 0.00031623\n",
      "Iter: 170/695, loss_train: 6.7948, loss_val: nan, pos_over_neg: 1337.783935546875 lr: 0.00031623\n",
      "Iter: 171/695, loss_train: 6.7878, loss_val: nan, pos_over_neg: 737844.6875 lr: 0.00031623\n",
      "Iter: 172/695, loss_train: 6.7912, loss_val: nan, pos_over_neg: 1921.1715087890625 lr: 0.00031623\n",
      "Iter: 173/695, loss_train: 6.7877, loss_val: nan, pos_over_neg: 777.0455932617188 lr: 0.00031623\n",
      "Iter: 174/695, loss_train: 6.7885, loss_val: nan, pos_over_neg: 1810.3201904296875 lr: 0.00031623\n",
      "Iter: 175/695, loss_train: 6.7927, loss_val: nan, pos_over_neg: 287.53729248046875 lr: 0.00031623\n",
      "Iter: 176/695, loss_train: 6.7849, loss_val: nan, pos_over_neg: 1062.5516357421875 lr: 0.00031623\n",
      "Iter: 177/695, loss_train: 6.789, loss_val: nan, pos_over_neg: 478.56219482421875 lr: 0.00031623\n",
      "Iter: 178/695, loss_train: 6.7806, loss_val: nan, pos_over_neg: 894.130126953125 lr: 0.00031623\n",
      "Iter: 179/695, loss_train: 6.7854, loss_val: nan, pos_over_neg: 1119.314208984375 lr: 0.00031623\n",
      "Iter: 180/695, loss_train: 6.7814, loss_val: nan, pos_over_neg: 1210.9237060546875 lr: 0.00031623\n",
      "Iter: 181/695, loss_train: 6.7843, loss_val: nan, pos_over_neg: 622.7136840820312 lr: 0.00031623\n",
      "Iter: 182/695, loss_train: 6.7866, loss_val: nan, pos_over_neg: 2972.063232421875 lr: 0.00031623\n",
      "Iter: 183/695, loss_train: 6.7846, loss_val: nan, pos_over_neg: 698.156494140625 lr: 0.00031623\n",
      "Iter: 184/695, loss_train: 6.7876, loss_val: nan, pos_over_neg: 496.5928039550781 lr: 0.00031623\n",
      "Iter: 185/695, loss_train: 6.7867, loss_val: nan, pos_over_neg: 438.5811462402344 lr: 0.00031623\n",
      "Iter: 186/695, loss_train: 6.7831, loss_val: nan, pos_over_neg: 383.6087646484375 lr: 0.00031623\n",
      "Iter: 187/695, loss_train: 6.7828, loss_val: nan, pos_over_neg: -4844.61572265625 lr: 0.00031623\n",
      "Iter: 188/695, loss_train: 6.7853, loss_val: nan, pos_over_neg: 465.73504638671875 lr: 0.00031623\n",
      "Iter: 189/695, loss_train: 6.7827, loss_val: nan, pos_over_neg: 1117.9259033203125 lr: 0.00031623\n",
      "Iter: 190/695, loss_train: 6.7864, loss_val: nan, pos_over_neg: 717.4891967773438 lr: 0.00031623\n",
      "Iter: 191/695, loss_train: 6.7809, loss_val: nan, pos_over_neg: 286.3045959472656 lr: 0.00031623\n",
      "Iter: 192/695, loss_train: 6.7896, loss_val: nan, pos_over_neg: 600.980224609375 lr: 0.00031623\n",
      "Iter: 193/695, loss_train: 6.7818, loss_val: nan, pos_over_neg: -7660.28857421875 lr: 0.00031623\n",
      "Iter: 194/695, loss_train: 6.7883, loss_val: nan, pos_over_neg: 2100.34228515625 lr: 0.00031623\n",
      "Iter: 195/695, loss_train: 6.789, loss_val: nan, pos_over_neg: 3415.84423828125 lr: 0.00031623\n",
      "Iter: 196/695, loss_train: 6.7861, loss_val: nan, pos_over_neg: 1745.242431640625 lr: 0.00031623\n",
      "Iter: 197/695, loss_train: 6.7876, loss_val: nan, pos_over_neg: 382.085205078125 lr: 0.00031623\n",
      "Iter: 198/695, loss_train: 6.7823, loss_val: nan, pos_over_neg: 1388.24609375 lr: 0.00031623\n",
      "Iter: 199/695, loss_train: 6.7733, loss_val: nan, pos_over_neg: 1176.7247314453125 lr: 0.00031623\n",
      "Iter: 200/695, loss_train: 6.7851, loss_val: nan, pos_over_neg: 19712.47265625 lr: 0.00031623\n",
      "Iter: 201/695, loss_train: 6.7851, loss_val: nan, pos_over_neg: 612.6989135742188 lr: 0.00031623\n",
      "Iter: 202/695, loss_train: 6.7822, loss_val: nan, pos_over_neg: 5829.60009765625 lr: 0.00031623\n",
      "Iter: 203/695, loss_train: 6.7792, loss_val: nan, pos_over_neg: 1117.6683349609375 lr: 0.00031623\n",
      "Iter: 204/695, loss_train: 6.7872, loss_val: nan, pos_over_neg: 3296.4111328125 lr: 0.00031623\n",
      "Iter: 205/695, loss_train: 6.7846, loss_val: nan, pos_over_neg: 949.343017578125 lr: 0.00031623\n",
      "Iter: 206/695, loss_train: 6.7854, loss_val: nan, pos_over_neg: 28471.0703125 lr: 0.00031623\n",
      "Iter: 207/695, loss_train: 6.784, loss_val: nan, pos_over_neg: 939.2747192382812 lr: 0.00031623\n",
      "Iter: 208/695, loss_train: 6.7848, loss_val: nan, pos_over_neg: 407.5574645996094 lr: 0.00031623\n",
      "Iter: 209/695, loss_train: 6.7897, loss_val: nan, pos_over_neg: -5921.23828125 lr: 0.00031623\n",
      "Iter: 210/695, loss_train: 6.7851, loss_val: nan, pos_over_neg: 3362.022705078125 lr: 0.00031623\n",
      "Iter: 211/695, loss_train: 6.7804, loss_val: nan, pos_over_neg: 584.3023071289062 lr: 0.00031623\n",
      "Iter: 212/695, loss_train: 6.7784, loss_val: nan, pos_over_neg: 575.2667236328125 lr: 0.00031623\n",
      "Iter: 213/695, loss_train: 6.7818, loss_val: nan, pos_over_neg: 808.0914306640625 lr: 0.00031623\n",
      "Iter: 214/695, loss_train: 6.7818, loss_val: nan, pos_over_neg: 525.5318603515625 lr: 0.00031623\n",
      "Iter: 215/695, loss_train: 6.7893, loss_val: nan, pos_over_neg: 987.5228881835938 lr: 0.00031623\n",
      "Iter: 216/695, loss_train: 6.7792, loss_val: nan, pos_over_neg: -16570.685546875 lr: 0.00031623\n",
      "Iter: 217/695, loss_train: 6.7842, loss_val: nan, pos_over_neg: 1382.708740234375 lr: 0.00031623\n",
      "Iter: 218/695, loss_train: 6.7857, loss_val: nan, pos_over_neg: 627.8695678710938 lr: 0.00031623\n",
      "Iter: 219/695, loss_train: 6.7871, loss_val: nan, pos_over_neg: 894.5325927734375 lr: 0.00031623\n",
      "Iter: 220/695, loss_train: 6.7878, loss_val: nan, pos_over_neg: 882.3971557617188 lr: 0.00031623\n",
      "Iter: 221/695, loss_train: 6.7861, loss_val: nan, pos_over_neg: 1436.0758056640625 lr: 0.00031623\n",
      "Iter: 222/695, loss_train: 6.7819, loss_val: nan, pos_over_neg: 2855.5771484375 lr: 0.00031623\n",
      "Iter: 223/695, loss_train: 6.7787, loss_val: nan, pos_over_neg: 545.1472778320312 lr: 0.00031623\n",
      "Iter: 224/695, loss_train: 6.7835, loss_val: nan, pos_over_neg: 821.0816040039062 lr: 0.00031623\n",
      "Iter: 225/695, loss_train: 6.779, loss_val: nan, pos_over_neg: 3428.583251953125 lr: 0.00031623\n",
      "Iter: 226/695, loss_train: 6.7753, loss_val: nan, pos_over_neg: 555.4826049804688 lr: 0.00031623\n",
      "Iter: 227/695, loss_train: 6.7768, loss_val: nan, pos_over_neg: 991.9450073242188 lr: 0.00031623\n",
      "Iter: 228/695, loss_train: 6.7799, loss_val: nan, pos_over_neg: 782.7114868164062 lr: 0.00031623\n",
      "Iter: 229/695, loss_train: 6.7813, loss_val: nan, pos_over_neg: 1167.5411376953125 lr: 0.00031623\n",
      "Iter: 230/695, loss_train: 6.7818, loss_val: nan, pos_over_neg: 1967.6236572265625 lr: 0.00031623\n",
      "Iter: 231/695, loss_train: 6.7856, loss_val: nan, pos_over_neg: 545.8953857421875 lr: 0.00031623\n",
      "Iter: 232/695, loss_train: 6.7806, loss_val: nan, pos_over_neg: -6770.10888671875 lr: 0.00031623\n",
      "Iter: 233/695, loss_train: 6.7773, loss_val: nan, pos_over_neg: 634.0311279296875 lr: 0.00031623\n",
      "Iter: 234/695, loss_train: 6.7838, loss_val: nan, pos_over_neg: 314.32952880859375 lr: 0.00031623\n",
      "Iter: 235/695, loss_train: 6.7766, loss_val: nan, pos_over_neg: 3166.90771484375 lr: 0.00031623\n",
      "Iter: 236/695, loss_train: 6.778, loss_val: nan, pos_over_neg: 1334.920654296875 lr: 0.00031623\n",
      "Iter: 237/695, loss_train: 6.7757, loss_val: nan, pos_over_neg: 670.4147338867188 lr: 0.00031623\n",
      "Iter: 238/695, loss_train: 6.7799, loss_val: nan, pos_over_neg: 5388.966796875 lr: 0.00031623\n",
      "Iter: 239/695, loss_train: 6.7765, loss_val: nan, pos_over_neg: 739.346923828125 lr: 0.00031623\n",
      "Iter: 240/695, loss_train: 6.7841, loss_val: nan, pos_over_neg: 710.0199584960938 lr: 0.00031623\n",
      "Iter: 241/695, loss_train: 6.7803, loss_val: nan, pos_over_neg: 845.9813232421875 lr: 0.00031623\n",
      "Iter: 242/695, loss_train: 6.7741, loss_val: nan, pos_over_neg: 560.6128540039062 lr: 0.00031623\n",
      "Iter: 243/695, loss_train: 6.7696, loss_val: nan, pos_over_neg: 5326.31884765625 lr: 0.00031623\n",
      "Iter: 244/695, loss_train: 6.7865, loss_val: nan, pos_over_neg: 645.0692749023438 lr: 0.00031623\n",
      "Iter: 245/695, loss_train: 6.7765, loss_val: nan, pos_over_neg: 780.0770874023438 lr: 0.00031623\n",
      "Iter: 246/695, loss_train: 6.7717, loss_val: nan, pos_over_neg: 1338.2109375 lr: 0.00031623\n",
      "Iter: 247/695, loss_train: 6.7826, loss_val: nan, pos_over_neg: 815.6809692382812 lr: 0.00031623\n",
      "Iter: 248/695, loss_train: 6.7814, loss_val: nan, pos_over_neg: 593.568603515625 lr: 0.00031623\n",
      "Iter: 249/695, loss_train: 6.7772, loss_val: nan, pos_over_neg: 2257.174072265625 lr: 0.00031623\n",
      "Iter: 250/695, loss_train: 6.7822, loss_val: nan, pos_over_neg: 1544.3431396484375 lr: 0.00031623\n",
      "Iter: 251/695, loss_train: 6.7813, loss_val: nan, pos_over_neg: -19036.681640625 lr: 0.00031623\n",
      "Iter: 252/695, loss_train: 6.7784, loss_val: nan, pos_over_neg: 1999.371337890625 lr: 0.00031623\n",
      "Iter: 253/695, loss_train: 6.7784, loss_val: nan, pos_over_neg: 1432.771728515625 lr: 0.00031623\n",
      "Iter: 254/695, loss_train: 6.7799, loss_val: nan, pos_over_neg: 447.833984375 lr: 0.00031623\n",
      "Iter: 255/695, loss_train: 6.7718, loss_val: nan, pos_over_neg: 2000.0347900390625 lr: 0.00031623\n",
      "Iter: 256/695, loss_train: 6.788, loss_val: nan, pos_over_neg: 958.5798950195312 lr: 0.00031623\n",
      "Iter: 257/695, loss_train: 6.7776, loss_val: nan, pos_over_neg: 908.3919677734375 lr: 0.00031623\n",
      "Iter: 258/695, loss_train: 6.7827, loss_val: nan, pos_over_neg: 2507.453857421875 lr: 0.00031623\n",
      "Iter: 259/695, loss_train: 6.7802, loss_val: nan, pos_over_neg: 1187.90673828125 lr: 0.00031623\n",
      "Iter: 260/695, loss_train: 6.778, loss_val: nan, pos_over_neg: 513.8237915039062 lr: 0.00031623\n",
      "Iter: 261/695, loss_train: 6.7758, loss_val: nan, pos_over_neg: 2475.03515625 lr: 0.00031623\n",
      "Iter: 262/695, loss_train: 6.7742, loss_val: nan, pos_over_neg: 1066.8406982421875 lr: 0.00031623\n",
      "Iter: 263/695, loss_train: 6.7727, loss_val: nan, pos_over_neg: 754.7089233398438 lr: 0.00031623\n",
      "Iter: 264/695, loss_train: 6.7782, loss_val: nan, pos_over_neg: 3790.682861328125 lr: 0.00031623\n",
      "Iter: 265/695, loss_train: 6.7763, loss_val: nan, pos_over_neg: 1174.726318359375 lr: 0.00031623\n",
      "Iter: 266/695, loss_train: 6.782, loss_val: nan, pos_over_neg: 539.6443481445312 lr: 0.00031623\n",
      "Iter: 267/695, loss_train: 6.786, loss_val: nan, pos_over_neg: 497.87896728515625 lr: 0.00031623\n",
      "Iter: 268/695, loss_train: 6.7765, loss_val: nan, pos_over_neg: 1225.83642578125 lr: 0.00031623\n",
      "Iter: 269/695, loss_train: 6.7754, loss_val: nan, pos_over_neg: 3631.767822265625 lr: 0.00031623\n",
      "Iter: 270/695, loss_train: 6.7816, loss_val: nan, pos_over_neg: 554.650146484375 lr: 0.00031623\n",
      "Iter: 271/695, loss_train: 6.7781, loss_val: nan, pos_over_neg: 476.05303955078125 lr: 0.00031623\n",
      "Iter: 272/695, loss_train: 6.7817, loss_val: nan, pos_over_neg: 552.1044311523438 lr: 0.00031623\n",
      "Iter: 273/695, loss_train: 6.779, loss_val: nan, pos_over_neg: 866.2305297851562 lr: 0.00031623\n",
      "Iter: 274/695, loss_train: 6.7766, loss_val: nan, pos_over_neg: 371.8802185058594 lr: 0.00031623\n",
      "Iter: 275/695, loss_train: 6.776, loss_val: nan, pos_over_neg: 552.480712890625 lr: 0.00031623\n",
      "Iter: 276/695, loss_train: 6.7695, loss_val: nan, pos_over_neg: 913.2055053710938 lr: 0.00031623\n",
      "Iter: 277/695, loss_train: 6.7796, loss_val: nan, pos_over_neg: 418.1192932128906 lr: 0.00031623\n",
      "Iter: 278/695, loss_train: 6.781, loss_val: nan, pos_over_neg: 268.2380065917969 lr: 0.00031623\n",
      "Iter: 279/695, loss_train: 6.7782, loss_val: nan, pos_over_neg: 470.48431396484375 lr: 0.00031623\n",
      "Iter: 280/695, loss_train: 6.7671, loss_val: nan, pos_over_neg: 984.69189453125 lr: 0.00031623\n",
      "Iter: 281/695, loss_train: 6.7835, loss_val: nan, pos_over_neg: 600.386474609375 lr: 0.00031623\n",
      "Iter: 282/695, loss_train: 6.7737, loss_val: nan, pos_over_neg: 5968.33740234375 lr: 0.00031623\n",
      "Iter: 283/695, loss_train: 6.7741, loss_val: nan, pos_over_neg: 613.032958984375 lr: 0.00031623\n",
      "Iter: 284/695, loss_train: 6.7748, loss_val: nan, pos_over_neg: 457.92047119140625 lr: 0.00031623\n",
      "Iter: 285/695, loss_train: 6.7771, loss_val: nan, pos_over_neg: 564.2178955078125 lr: 0.00031623\n",
      "Iter: 286/695, loss_train: 6.7723, loss_val: nan, pos_over_neg: -6668.9326171875 lr: 0.00031623\n",
      "Iter: 287/695, loss_train: 6.7704, loss_val: nan, pos_over_neg: 2489.483642578125 lr: 0.00031623\n",
      "Iter: 288/695, loss_train: 6.7782, loss_val: nan, pos_over_neg: 469.1368103027344 lr: 0.00031623\n",
      "Iter: 289/695, loss_train: 6.7767, loss_val: nan, pos_over_neg: 1493.83935546875 lr: 0.00031623\n",
      "Iter: 290/695, loss_train: 6.7776, loss_val: nan, pos_over_neg: 871.3572998046875 lr: 0.00031623\n",
      "Iter: 291/695, loss_train: 6.7736, loss_val: nan, pos_over_neg: 328.1474304199219 lr: 0.00031623\n",
      "Iter: 292/695, loss_train: 6.774, loss_val: nan, pos_over_neg: 954.5587768554688 lr: 0.00031623\n",
      "Iter: 293/695, loss_train: 6.7786, loss_val: nan, pos_over_neg: 1082.4700927734375 lr: 0.00031623\n",
      "Iter: 294/695, loss_train: 6.7756, loss_val: nan, pos_over_neg: 981.411865234375 lr: 0.00031623\n",
      "Iter: 295/695, loss_train: 6.7712, loss_val: nan, pos_over_neg: -3241.869873046875 lr: 0.00031623\n",
      "Iter: 296/695, loss_train: 6.7732, loss_val: nan, pos_over_neg: 2222.34814453125 lr: 0.00031623\n",
      "Iter: 297/695, loss_train: 6.7727, loss_val: nan, pos_over_neg: 2189.84033203125 lr: 0.00031623\n",
      "Iter: 298/695, loss_train: 6.78, loss_val: nan, pos_over_neg: 9665.4111328125 lr: 0.00031623\n",
      "Iter: 299/695, loss_train: 6.7811, loss_val: nan, pos_over_neg: 2001.57470703125 lr: 0.00031623\n",
      "Iter: 300/695, loss_train: 6.7715, loss_val: nan, pos_over_neg: 3824.411865234375 lr: 0.00031623\n",
      "Iter: 301/695, loss_train: 6.7719, loss_val: nan, pos_over_neg: 2346.6640625 lr: 0.00031623\n",
      "Iter: 302/695, loss_train: 6.7824, loss_val: nan, pos_over_neg: 1059.7838134765625 lr: 0.00031623\n",
      "Iter: 303/695, loss_train: 6.7697, loss_val: nan, pos_over_neg: 608.6951904296875 lr: 0.00031623\n",
      "Iter: 304/695, loss_train: 6.7693, loss_val: nan, pos_over_neg: -29518.966796875 lr: 0.00031623\n",
      "Iter: 305/695, loss_train: 6.7756, loss_val: nan, pos_over_neg: 11611.6689453125 lr: 0.00031623\n",
      "Iter: 306/695, loss_train: 6.7673, loss_val: nan, pos_over_neg: 1928.982177734375 lr: 0.00031623\n",
      "Iter: 307/695, loss_train: 6.7753, loss_val: nan, pos_over_neg: 1419.7298583984375 lr: 0.00031623\n",
      "Iter: 308/695, loss_train: 6.7832, loss_val: nan, pos_over_neg: 793.390869140625 lr: 0.00031623\n",
      "Iter: 309/695, loss_train: 6.7802, loss_val: nan, pos_over_neg: 362.0326232910156 lr: 0.00031623\n",
      "Iter: 310/695, loss_train: 6.7717, loss_val: nan, pos_over_neg: 7656.439453125 lr: 0.00031623\n",
      "Iter: 311/695, loss_train: 6.7757, loss_val: nan, pos_over_neg: 512.7412719726562 lr: 0.00031623\n",
      "Iter: 312/695, loss_train: 6.7729, loss_val: nan, pos_over_neg: 870.474365234375 lr: 0.00031623\n",
      "Iter: 313/695, loss_train: 6.7739, loss_val: nan, pos_over_neg: -2150.56103515625 lr: 0.00031623\n",
      "Iter: 314/695, loss_train: 6.7738, loss_val: nan, pos_over_neg: 1199.923095703125 lr: 0.00031623\n",
      "Iter: 315/695, loss_train: 6.7732, loss_val: nan, pos_over_neg: 506.9602966308594 lr: 0.00031623\n",
      "Iter: 316/695, loss_train: 6.77, loss_val: nan, pos_over_neg: 3516.417236328125 lr: 0.00031623\n",
      "Iter: 317/695, loss_train: 6.7699, loss_val: nan, pos_over_neg: 2455.149169921875 lr: 0.00031623\n",
      "Iter: 318/695, loss_train: 6.7754, loss_val: nan, pos_over_neg: 1097.398193359375 lr: 0.00031623\n",
      "Iter: 319/695, loss_train: 6.7719, loss_val: nan, pos_over_neg: -6886.50830078125 lr: 0.00031623\n",
      "Iter: 320/695, loss_train: 6.78, loss_val: nan, pos_over_neg: 570.4652709960938 lr: 0.00031623\n",
      "Iter: 321/695, loss_train: 6.7696, loss_val: nan, pos_over_neg: 580.6083374023438 lr: 0.00031623\n",
      "Iter: 322/695, loss_train: 6.7784, loss_val: nan, pos_over_neg: 6659.591796875 lr: 0.00031623\n",
      "Iter: 323/695, loss_train: 6.7764, loss_val: nan, pos_over_neg: 897.32666015625 lr: 0.00031623\n",
      "Iter: 324/695, loss_train: 6.7662, loss_val: nan, pos_over_neg: 1110.757568359375 lr: 0.00031623\n",
      "Iter: 325/695, loss_train: 6.7809, loss_val: nan, pos_over_neg: 2736.836669921875 lr: 0.00031623\n",
      "Iter: 326/695, loss_train: 6.7753, loss_val: nan, pos_over_neg: 406.19818115234375 lr: 0.00031623\n",
      "Iter: 327/695, loss_train: 6.7643, loss_val: nan, pos_over_neg: 1282.891357421875 lr: 0.00031623\n",
      "Iter: 328/695, loss_train: 6.7793, loss_val: nan, pos_over_neg: 825.67041015625 lr: 0.00031623\n",
      "Iter: 329/695, loss_train: 6.7708, loss_val: nan, pos_over_neg: 1883.0806884765625 lr: 0.00031623\n",
      "Iter: 330/695, loss_train: 6.7714, loss_val: nan, pos_over_neg: 816.725830078125 lr: 0.00031623\n",
      "Iter: 331/695, loss_train: 6.7778, loss_val: nan, pos_over_neg: 1032.1292724609375 lr: 0.00031623\n",
      "Iter: 332/695, loss_train: 6.7738, loss_val: nan, pos_over_neg: 843.028076171875 lr: 0.00031623\n",
      "Iter: 333/695, loss_train: 6.7636, loss_val: nan, pos_over_neg: 679.6428833007812 lr: 0.00031623\n",
      "Iter: 334/695, loss_train: 6.7732, loss_val: nan, pos_over_neg: 951.783935546875 lr: 0.00031623\n",
      "Iter: 335/695, loss_train: 6.7691, loss_val: nan, pos_over_neg: 1116.0472412109375 lr: 0.00031623\n",
      "Iter: 336/695, loss_train: 6.7711, loss_val: nan, pos_over_neg: 748.656982421875 lr: 0.00031623\n",
      "Iter: 337/695, loss_train: 6.7651, loss_val: nan, pos_over_neg: 12656.431640625 lr: 0.00031623\n",
      "Iter: 338/695, loss_train: 6.7745, loss_val: nan, pos_over_neg: 550.1534423828125 lr: 0.00031623\n",
      "Iter: 339/695, loss_train: 6.7709, loss_val: nan, pos_over_neg: 1013.5015869140625 lr: 0.00031623\n",
      "Iter: 340/695, loss_train: 6.7713, loss_val: nan, pos_over_neg: 1288.64013671875 lr: 0.00031623\n",
      "Iter: 341/695, loss_train: 6.7671, loss_val: nan, pos_over_neg: 1699.6702880859375 lr: 0.00031623\n",
      "Iter: 342/695, loss_train: 6.7702, loss_val: nan, pos_over_neg: 877.7741088867188 lr: 0.00031623\n",
      "Iter: 343/695, loss_train: 6.772, loss_val: nan, pos_over_neg: 677.8435668945312 lr: 0.00031623\n",
      "Iter: 344/695, loss_train: 6.7702, loss_val: nan, pos_over_neg: 3789.797607421875 lr: 0.00031623\n",
      "Iter: 345/695, loss_train: 6.7714, loss_val: nan, pos_over_neg: 1955.6331787109375 lr: 0.00031623\n",
      "Iter: 346/695, loss_train: 6.7801, loss_val: nan, pos_over_neg: 61788.37890625 lr: 0.00031623\n",
      "Iter: 347/695, loss_train: 6.7688, loss_val: nan, pos_over_neg: 881.8616333007812 lr: 0.00031623\n",
      "Iter: 348/695, loss_train: 6.7764, loss_val: nan, pos_over_neg: 1171.9920654296875 lr: 0.00031623\n",
      "Iter: 349/695, loss_train: 6.7735, loss_val: nan, pos_over_neg: 1090.5350341796875 lr: 0.00031623\n",
      "Iter: 350/695, loss_train: 6.767, loss_val: nan, pos_over_neg: 13145.8505859375 lr: 0.00031623\n",
      "Iter: 351/695, loss_train: 6.7715, loss_val: nan, pos_over_neg: 953.5369873046875 lr: 0.00031623\n",
      "Iter: 352/695, loss_train: 6.772, loss_val: nan, pos_over_neg: 2351.805419921875 lr: 0.00031623\n",
      "Iter: 353/695, loss_train: 6.7724, loss_val: nan, pos_over_neg: 2083.345458984375 lr: 0.00031623\n",
      "Iter: 354/695, loss_train: 6.7735, loss_val: nan, pos_over_neg: 431.83807373046875 lr: 0.00031623\n",
      "Iter: 355/695, loss_train: 6.7824, loss_val: nan, pos_over_neg: 801.6973876953125 lr: 0.00031623\n",
      "Iter: 356/695, loss_train: 6.7716, loss_val: nan, pos_over_neg: 762.3541870117188 lr: 0.00031623\n",
      "Iter: 357/695, loss_train: 6.7652, loss_val: nan, pos_over_neg: 2071.522705078125 lr: 0.00031623\n",
      "Iter: 358/695, loss_train: 6.7729, loss_val: nan, pos_over_neg: 1300.6220703125 lr: 0.00031623\n",
      "Iter: 359/695, loss_train: 6.7711, loss_val: nan, pos_over_neg: 709.0979614257812 lr: 0.00031623\n",
      "Iter: 360/695, loss_train: 6.7716, loss_val: nan, pos_over_neg: 664.8497924804688 lr: 0.00031623\n",
      "Iter: 361/695, loss_train: 6.7748, loss_val: nan, pos_over_neg: 1240.6104736328125 lr: 0.00031623\n",
      "Iter: 362/695, loss_train: 6.7665, loss_val: nan, pos_over_neg: 36319.1875 lr: 0.00031623\n",
      "Iter: 363/695, loss_train: 6.7762, loss_val: nan, pos_over_neg: 515.9766845703125 lr: 0.00031623\n",
      "Iter: 364/695, loss_train: 6.7781, loss_val: nan, pos_over_neg: 747.6185913085938 lr: 0.00031623\n",
      "Iter: 365/695, loss_train: 6.7726, loss_val: nan, pos_over_neg: 520.1310424804688 lr: 0.00031623\n",
      "Iter: 366/695, loss_train: 6.7668, loss_val: nan, pos_over_neg: 1910.93212890625 lr: 0.00031623\n",
      "Iter: 367/695, loss_train: 6.778, loss_val: nan, pos_over_neg: 1152.8526611328125 lr: 0.00031623\n",
      "Iter: 368/695, loss_train: 6.7626, loss_val: nan, pos_over_neg: 1968.2105712890625 lr: 0.00031623\n",
      "Iter: 369/695, loss_train: 6.7664, loss_val: nan, pos_over_neg: 2086.051513671875 lr: 0.00031623\n",
      "Iter: 370/695, loss_train: 6.7739, loss_val: nan, pos_over_neg: 5217.87353515625 lr: 0.00031623\n",
      "Iter: 371/695, loss_train: 6.7734, loss_val: nan, pos_over_neg: 6839.6552734375 lr: 0.00031623\n",
      "Iter: 372/695, loss_train: 6.7714, loss_val: nan, pos_over_neg: 956.4547729492188 lr: 0.00031623\n",
      "Iter: 373/695, loss_train: 6.7709, loss_val: nan, pos_over_neg: -5066.02197265625 lr: 0.00031623\n",
      "Iter: 374/695, loss_train: 6.7778, loss_val: nan, pos_over_neg: 1816.38232421875 lr: 0.00031623\n",
      "Iter: 375/695, loss_train: 6.7729, loss_val: nan, pos_over_neg: 1464.5994873046875 lr: 0.00031623\n",
      "Iter: 376/695, loss_train: 6.7713, loss_val: nan, pos_over_neg: 993.4527587890625 lr: 0.00031623\n",
      "Iter: 377/695, loss_train: 6.7688, loss_val: nan, pos_over_neg: 741.3175048828125 lr: 0.00031623\n",
      "Iter: 378/695, loss_train: 6.7758, loss_val: nan, pos_over_neg: -3035.9013671875 lr: 0.00031623\n",
      "Iter: 379/695, loss_train: 6.7726, loss_val: nan, pos_over_neg: -15613.3251953125 lr: 0.00031623\n",
      "Iter: 380/695, loss_train: 6.7693, loss_val: nan, pos_over_neg: 848.8558349609375 lr: 0.00031623\n",
      "Iter: 381/695, loss_train: 6.7768, loss_val: nan, pos_over_neg: 2206.97802734375 lr: 0.00031623\n",
      "Iter: 382/695, loss_train: 6.78, loss_val: nan, pos_over_neg: 760.8438720703125 lr: 0.00031623\n",
      "Iter: 383/695, loss_train: 6.7686, loss_val: nan, pos_over_neg: -6602.91748046875 lr: 0.00031623\n",
      "Iter: 384/695, loss_train: 6.7701, loss_val: nan, pos_over_neg: 801.005615234375 lr: 0.00031623\n",
      "Iter: 385/695, loss_train: 6.7683, loss_val: nan, pos_over_neg: 878.06201171875 lr: 0.00031623\n",
      "Iter: 386/695, loss_train: 6.773, loss_val: nan, pos_over_neg: 10037.544921875 lr: 0.00031623\n",
      "Iter: 387/695, loss_train: 6.7632, loss_val: nan, pos_over_neg: 5739.90283203125 lr: 0.00031623\n",
      "Iter: 388/695, loss_train: 6.7695, loss_val: nan, pos_over_neg: 5010.755859375 lr: 0.00031623\n",
      "Iter: 389/695, loss_train: 6.7707, loss_val: nan, pos_over_neg: 1059.6160888671875 lr: 0.00031623\n",
      "Iter: 390/695, loss_train: 6.7748, loss_val: nan, pos_over_neg: 93470.2734375 lr: 0.00031623\n",
      "Iter: 391/695, loss_train: 6.7644, loss_val: nan, pos_over_neg: 43598.859375 lr: 0.00031623\n",
      "Iter: 392/695, loss_train: 6.7671, loss_val: nan, pos_over_neg: 1703.8721923828125 lr: 0.00031623\n",
      "Iter: 393/695, loss_train: 6.7643, loss_val: nan, pos_over_neg: 7273.11865234375 lr: 0.00031623\n",
      "Iter: 394/695, loss_train: 6.7679, loss_val: nan, pos_over_neg: 1018.5625 lr: 0.00031623\n",
      "Iter: 395/695, loss_train: 6.7679, loss_val: nan, pos_over_neg: -15569.572265625 lr: 0.00031623\n",
      "Iter: 396/695, loss_train: 6.7694, loss_val: nan, pos_over_neg: 3148.8212890625 lr: 0.00031623\n",
      "Iter: 397/695, loss_train: 6.7699, loss_val: nan, pos_over_neg: 1006.3274536132812 lr: 0.00031623\n",
      "Iter: 398/695, loss_train: 6.7694, loss_val: nan, pos_over_neg: 6953.98095703125 lr: 0.00031623\n",
      "Iter: 399/695, loss_train: 6.7726, loss_val: nan, pos_over_neg: 2428.6875 lr: 0.00031623\n",
      "Iter: 400/695, loss_train: 6.7647, loss_val: nan, pos_over_neg: 3404.483154296875 lr: 0.00031623\n",
      "Iter: 401/695, loss_train: 6.7713, loss_val: nan, pos_over_neg: 721.5635375976562 lr: 0.00031623\n",
      "Iter: 402/695, loss_train: 6.7716, loss_val: nan, pos_over_neg: 497.123291015625 lr: 0.00031623\n",
      "Iter: 403/695, loss_train: 6.7679, loss_val: nan, pos_over_neg: 2419.370361328125 lr: 0.00031623\n",
      "Iter: 404/695, loss_train: 6.7659, loss_val: nan, pos_over_neg: -6544.74755859375 lr: 0.00031623\n",
      "Iter: 405/695, loss_train: 6.7689, loss_val: nan, pos_over_neg: 867.8040161132812 lr: 0.00031623\n",
      "Iter: 406/695, loss_train: 6.7662, loss_val: nan, pos_over_neg: 941.321044921875 lr: 0.00031623\n",
      "Iter: 407/695, loss_train: 6.7735, loss_val: nan, pos_over_neg: 4716.59033203125 lr: 0.00031623\n",
      "Iter: 408/695, loss_train: 6.7668, loss_val: nan, pos_over_neg: 338.7212219238281 lr: 0.00031623\n",
      "Iter: 409/695, loss_train: 6.7743, loss_val: nan, pos_over_neg: 378.9199523925781 lr: 0.00031623\n",
      "Iter: 410/695, loss_train: 6.7711, loss_val: nan, pos_over_neg: 4269.4345703125 lr: 0.00031623\n",
      "Iter: 411/695, loss_train: 6.7722, loss_val: nan, pos_over_neg: 3166.1904296875 lr: 0.00031623\n",
      "Iter: 412/695, loss_train: 6.7781, loss_val: nan, pos_over_neg: 1236.0870361328125 lr: 0.00031623\n",
      "Iter: 413/695, loss_train: 6.767, loss_val: nan, pos_over_neg: -3731.392333984375 lr: 0.00031623\n",
      "Iter: 414/695, loss_train: 6.762, loss_val: nan, pos_over_neg: 2259.920654296875 lr: 0.00031623\n",
      "Iter: 415/695, loss_train: 6.7604, loss_val: nan, pos_over_neg: 563.4739990234375 lr: 0.00031623\n",
      "Iter: 416/695, loss_train: 6.7658, loss_val: nan, pos_over_neg: 903.4337768554688 lr: 0.00031623\n",
      "Iter: 417/695, loss_train: 6.7671, loss_val: nan, pos_over_neg: 799.9869384765625 lr: 0.00031623\n",
      "Iter: 418/695, loss_train: 6.768, loss_val: nan, pos_over_neg: 1168.04296875 lr: 0.00031623\n",
      "Iter: 419/695, loss_train: 6.7715, loss_val: nan, pos_over_neg: 3503.158935546875 lr: 0.00031623\n",
      "Iter: 420/695, loss_train: 6.7644, loss_val: nan, pos_over_neg: 1369.58154296875 lr: 0.00031623\n",
      "Iter: 421/695, loss_train: 6.7606, loss_val: nan, pos_over_neg: 1219.9725341796875 lr: 0.00031623\n",
      "Iter: 422/695, loss_train: 6.7705, loss_val: nan, pos_over_neg: 623.0321655273438 lr: 0.00031623\n",
      "Iter: 423/695, loss_train: 6.7656, loss_val: nan, pos_over_neg: 3591.47021484375 lr: 0.00031623\n",
      "Iter: 424/695, loss_train: 6.7681, loss_val: nan, pos_over_neg: 666.6237182617188 lr: 0.00031623\n",
      "Iter: 425/695, loss_train: 6.765, loss_val: nan, pos_over_neg: 5987.89794921875 lr: 0.00031623\n",
      "Iter: 426/695, loss_train: 6.7649, loss_val: nan, pos_over_neg: 2450.708251953125 lr: 0.00031623\n",
      "Iter: 427/695, loss_train: 6.766, loss_val: nan, pos_over_neg: 9473.1591796875 lr: 0.00031623\n",
      "Iter: 428/695, loss_train: 6.7698, loss_val: nan, pos_over_neg: 2971.826904296875 lr: 0.00031623\n",
      "Iter: 429/695, loss_train: 6.7631, loss_val: nan, pos_over_neg: 5615.9775390625 lr: 0.00031623\n",
      "Iter: 430/695, loss_train: 6.7681, loss_val: nan, pos_over_neg: 2656301.25 lr: 0.00031623\n",
      "Iter: 431/695, loss_train: 6.7692, loss_val: nan, pos_over_neg: 7504.3916015625 lr: 0.00031623\n",
      "Iter: 432/695, loss_train: 6.7645, loss_val: nan, pos_over_neg: 11947.7958984375 lr: 0.00031623\n",
      "Iter: 433/695, loss_train: 6.768, loss_val: nan, pos_over_neg: 1064.6083984375 lr: 0.00031623\n",
      "Iter: 434/695, loss_train: 6.7587, loss_val: nan, pos_over_neg: 4021.314208984375 lr: 0.00031623\n",
      "Iter: 435/695, loss_train: 6.7695, loss_val: nan, pos_over_neg: 583.81005859375 lr: 0.00031623\n",
      "Iter: 436/695, loss_train: 6.7614, loss_val: nan, pos_over_neg: -28408.796875 lr: 0.00031623\n",
      "Iter: 437/695, loss_train: 6.7676, loss_val: nan, pos_over_neg: 5125.5673828125 lr: 0.00031623\n",
      "Iter: 438/695, loss_train: 6.7656, loss_val: nan, pos_over_neg: -20514.876953125 lr: 0.00031623\n",
      "Iter: 439/695, loss_train: 6.7706, loss_val: nan, pos_over_neg: 7277.9775390625 lr: 0.00031623\n",
      "Iter: 440/695, loss_train: 6.7623, loss_val: nan, pos_over_neg: 1443.3284912109375 lr: 0.00031623\n",
      "Iter: 441/695, loss_train: 6.7648, loss_val: nan, pos_over_neg: 2326.77978515625 lr: 0.00031623\n",
      "Iter: 442/695, loss_train: 6.7646, loss_val: nan, pos_over_neg: -14816.9013671875 lr: 0.00031623\n",
      "Iter: 443/695, loss_train: 6.7633, loss_val: nan, pos_over_neg: 3212.15380859375 lr: 0.00031623\n",
      "Iter: 444/695, loss_train: 6.7757, loss_val: nan, pos_over_neg: 1906.523681640625 lr: 0.00031623\n",
      "Iter: 445/695, loss_train: 6.7666, loss_val: nan, pos_over_neg: -4293.06494140625 lr: 0.00031623\n",
      "Iter: 446/695, loss_train: 6.7657, loss_val: nan, pos_over_neg: -7272.32763671875 lr: 0.00031623\n",
      "Iter: 447/695, loss_train: 6.7686, loss_val: nan, pos_over_neg: 1552.085205078125 lr: 0.00031623\n",
      "Iter: 448/695, loss_train: 6.7652, loss_val: nan, pos_over_neg: 2821.8720703125 lr: 0.00031623\n",
      "Iter: 449/695, loss_train: 6.7683, loss_val: nan, pos_over_neg: -2815.736083984375 lr: 0.00031623\n",
      "Iter: 450/695, loss_train: 6.7673, loss_val: nan, pos_over_neg: -8221.3828125 lr: 0.00031623\n",
      "Iter: 451/695, loss_train: 6.7623, loss_val: nan, pos_over_neg: 1767.3272705078125 lr: 0.00031623\n",
      "Iter: 452/695, loss_train: 6.762, loss_val: nan, pos_over_neg: 2335.376708984375 lr: 0.00031623\n",
      "Iter: 453/695, loss_train: 6.7668, loss_val: nan, pos_over_neg: 1039.798583984375 lr: 0.00031623\n",
      "Iter: 454/695, loss_train: 6.763, loss_val: nan, pos_over_neg: 7963.97509765625 lr: 0.00031623\n",
      "Iter: 455/695, loss_train: 6.7644, loss_val: nan, pos_over_neg: 4634.70068359375 lr: 0.00031623\n",
      "Iter: 456/695, loss_train: 6.7661, loss_val: nan, pos_over_neg: 2527.22509765625 lr: 0.00031623\n",
      "Iter: 457/695, loss_train: 6.7708, loss_val: nan, pos_over_neg: 758.7100830078125 lr: 0.00031623\n",
      "Iter: 458/695, loss_train: 6.7611, loss_val: nan, pos_over_neg: 2511.93701171875 lr: 0.00031623\n",
      "Iter: 459/695, loss_train: 6.7637, loss_val: nan, pos_over_neg: 1061.9599609375 lr: 0.00031623\n",
      "Iter: 460/695, loss_train: 6.7644, loss_val: nan, pos_over_neg: 1783.3582763671875 lr: 0.00031623\n",
      "Iter: 461/695, loss_train: 6.7653, loss_val: nan, pos_over_neg: 3893.732177734375 lr: 0.00031623\n",
      "Iter: 462/695, loss_train: 6.7707, loss_val: nan, pos_over_neg: -39803.6484375 lr: 0.00031623\n",
      "Iter: 463/695, loss_train: 6.7742, loss_val: nan, pos_over_neg: 784.9365844726562 lr: 0.00031623\n",
      "Iter: 464/695, loss_train: 6.7666, loss_val: nan, pos_over_neg: 1597.8663330078125 lr: 0.00031623\n",
      "Iter: 465/695, loss_train: 6.7714, loss_val: nan, pos_over_neg: 3840.038818359375 lr: 0.00031623\n",
      "Iter: 466/695, loss_train: 6.7684, loss_val: nan, pos_over_neg: 1336.5255126953125 lr: 0.00031623\n",
      "Iter: 467/695, loss_train: 6.7626, loss_val: nan, pos_over_neg: 1867.719970703125 lr: 0.00031623\n",
      "Iter: 468/695, loss_train: 6.7653, loss_val: nan, pos_over_neg: 1164.3812255859375 lr: 0.00031623\n",
      "Iter: 469/695, loss_train: 6.7748, loss_val: nan, pos_over_neg: 1142.1063232421875 lr: 0.00031623\n",
      "Iter: 470/695, loss_train: 6.7652, loss_val: nan, pos_over_neg: 598.2000732421875 lr: 0.00031623\n",
      "Iter: 471/695, loss_train: 6.7578, loss_val: nan, pos_over_neg: 10585.7841796875 lr: 0.00031623\n",
      "Iter: 472/695, loss_train: 6.7689, loss_val: nan, pos_over_neg: 473.0976257324219 lr: 0.00031623\n",
      "Iter: 473/695, loss_train: 6.7685, loss_val: nan, pos_over_neg: 565.4652099609375 lr: 0.00031623\n",
      "Iter: 474/695, loss_train: 6.7616, loss_val: nan, pos_over_neg: -11148.3974609375 lr: 0.00031623\n",
      "Iter: 475/695, loss_train: 6.7649, loss_val: nan, pos_over_neg: 601.0576782226562 lr: 0.00031623\n",
      "Iter: 476/695, loss_train: 6.7631, loss_val: nan, pos_over_neg: 977.6392822265625 lr: 0.00031623\n",
      "Iter: 477/695, loss_train: 6.7677, loss_val: nan, pos_over_neg: 1637.3302001953125 lr: 0.00031623\n",
      "Iter: 478/695, loss_train: 6.7616, loss_val: nan, pos_over_neg: 2230.25830078125 lr: 0.00031623\n",
      "Iter: 479/695, loss_train: 6.763, loss_val: nan, pos_over_neg: 5952.41357421875 lr: 0.00031623\n",
      "Iter: 480/695, loss_train: 6.7647, loss_val: nan, pos_over_neg: 662.2290649414062 lr: 0.00031623\n",
      "Iter: 481/695, loss_train: 6.7623, loss_val: nan, pos_over_neg: -6166.7373046875 lr: 0.00031623\n",
      "Iter: 482/695, loss_train: 6.7577, loss_val: nan, pos_over_neg: 823.100341796875 lr: 0.00031623\n",
      "Iter: 483/695, loss_train: 6.7595, loss_val: nan, pos_over_neg: 1007.8116455078125 lr: 0.00031623\n",
      "Iter: 484/695, loss_train: 6.7574, loss_val: nan, pos_over_neg: -8045.404296875 lr: 0.00031623\n",
      "Iter: 485/695, loss_train: 6.7647, loss_val: nan, pos_over_neg: 4290.86474609375 lr: 0.00031623\n",
      "Iter: 486/695, loss_train: 6.7689, loss_val: nan, pos_over_neg: 415.333251953125 lr: 0.00031623\n",
      "Iter: 487/695, loss_train: 6.7706, loss_val: nan, pos_over_neg: 1770.8226318359375 lr: 0.00031623\n",
      "Iter: 488/695, loss_train: 6.7545, loss_val: nan, pos_over_neg: 1046.16015625 lr: 0.00031623\n",
      "Iter: 489/695, loss_train: 6.7624, loss_val: nan, pos_over_neg: 659.880126953125 lr: 0.00031623\n",
      "Iter: 490/695, loss_train: 6.7779, loss_val: nan, pos_over_neg: 1921.4417724609375 lr: 0.00031623\n",
      "Iter: 491/695, loss_train: 6.7615, loss_val: nan, pos_over_neg: 15358.5986328125 lr: 0.00031623\n",
      "Iter: 492/695, loss_train: 6.7626, loss_val: nan, pos_over_neg: 824.19775390625 lr: 0.00031623\n",
      "Iter: 493/695, loss_train: 6.7671, loss_val: nan, pos_over_neg: 2686.24072265625 lr: 0.00031623\n",
      "Iter: 494/695, loss_train: 6.7691, loss_val: nan, pos_over_neg: 525.384765625 lr: 0.00031623\n",
      "Iter: 495/695, loss_train: 6.761, loss_val: nan, pos_over_neg: 491.7131042480469 lr: 0.00031623\n",
      "Iter: 496/695, loss_train: 6.768, loss_val: nan, pos_over_neg: 1290.96728515625 lr: 0.00031623\n",
      "Iter: 497/695, loss_train: 6.7673, loss_val: nan, pos_over_neg: 1500.207275390625 lr: 0.00031623\n",
      "Iter: 498/695, loss_train: 6.7581, loss_val: nan, pos_over_neg: 1197.380126953125 lr: 0.00031623\n",
      "Iter: 499/695, loss_train: 6.7659, loss_val: nan, pos_over_neg: 1888.514892578125 lr: 0.00031623\n",
      "Iter: 500/695, loss_train: 6.7644, loss_val: nan, pos_over_neg: 4171.6279296875 lr: 0.00031623\n",
      "Iter: 501/695, loss_train: 6.7568, loss_val: nan, pos_over_neg: 2619.824951171875 lr: 0.00031623\n",
      "Iter: 502/695, loss_train: 6.7742, loss_val: nan, pos_over_neg: 6690.03076171875 lr: 0.00031623\n",
      "Iter: 503/695, loss_train: 6.7652, loss_val: nan, pos_over_neg: 1967.5555419921875 lr: 0.00031623\n",
      "Iter: 504/695, loss_train: 6.7571, loss_val: nan, pos_over_neg: -27753.513671875 lr: 0.00031623\n",
      "Iter: 505/695, loss_train: 6.7644, loss_val: nan, pos_over_neg: 1936.34375 lr: 0.00031623\n",
      "Iter: 506/695, loss_train: 6.7592, loss_val: nan, pos_over_neg: 1377.5621337890625 lr: 0.00031623\n",
      "Iter: 507/695, loss_train: 6.7635, loss_val: nan, pos_over_neg: -28411.181640625 lr: 0.00031623\n",
      "Iter: 508/695, loss_train: 6.7646, loss_val: nan, pos_over_neg: 1638.5955810546875 lr: 0.00031623\n",
      "Iter: 509/695, loss_train: 6.7701, loss_val: nan, pos_over_neg: 1130.6744384765625 lr: 0.00031623\n",
      "Iter: 510/695, loss_train: 6.7605, loss_val: nan, pos_over_neg: 9806.6796875 lr: 0.00031623\n",
      "Iter: 511/695, loss_train: 6.7715, loss_val: nan, pos_over_neg: 526.5015258789062 lr: 0.00031623\n",
      "Iter: 512/695, loss_train: 6.7579, loss_val: nan, pos_over_neg: 4047.04248046875 lr: 0.00031623\n",
      "Iter: 513/695, loss_train: 6.7618, loss_val: nan, pos_over_neg: 1041.3861083984375 lr: 0.00031623\n",
      "Iter: 514/695, loss_train: 6.7663, loss_val: nan, pos_over_neg: 1250.952392578125 lr: 0.00031623\n",
      "Iter: 515/695, loss_train: 6.7729, loss_val: nan, pos_over_neg: 949.1510009765625 lr: 0.00031623\n",
      "Iter: 516/695, loss_train: 6.761, loss_val: nan, pos_over_neg: 1731.8759765625 lr: 0.00031623\n",
      "Iter: 517/695, loss_train: 6.7634, loss_val: nan, pos_over_neg: 994.2321166992188 lr: 0.00031623\n",
      "Iter: 518/695, loss_train: 6.76, loss_val: nan, pos_over_neg: 721.7451171875 lr: 0.00031623\n",
      "Iter: 519/695, loss_train: 6.7613, loss_val: nan, pos_over_neg: 2314.632080078125 lr: 0.00031623\n",
      "Iter: 520/695, loss_train: 6.7656, loss_val: nan, pos_over_neg: 2378.296142578125 lr: 0.00031623\n",
      "Iter: 521/695, loss_train: 6.766, loss_val: nan, pos_over_neg: 682.4262084960938 lr: 0.00031623\n",
      "Iter: 522/695, loss_train: 6.7597, loss_val: nan, pos_over_neg: 2415.31640625 lr: 0.00031623\n",
      "Iter: 523/695, loss_train: 6.7562, loss_val: nan, pos_over_neg: 1513.5714111328125 lr: 0.00031623\n",
      "Iter: 524/695, loss_train: 6.7626, loss_val: nan, pos_over_neg: 758.019287109375 lr: 0.00031623\n",
      "Iter: 525/695, loss_train: 6.7594, loss_val: nan, pos_over_neg: 609.7400512695312 lr: 0.00031623\n",
      "Iter: 526/695, loss_train: 6.7583, loss_val: nan, pos_over_neg: -4661.0 lr: 0.00031623\n",
      "Iter: 527/695, loss_train: 6.7674, loss_val: nan, pos_over_neg: 2235.32861328125 lr: 0.00031623\n",
      "Iter: 528/695, loss_train: 6.7605, loss_val: nan, pos_over_neg: 633.1220703125 lr: 0.00031623\n",
      "Iter: 529/695, loss_train: 6.7585, loss_val: nan, pos_over_neg: 1089.5406494140625 lr: 0.00031623\n",
      "Iter: 530/695, loss_train: 6.7586, loss_val: nan, pos_over_neg: 527.7047729492188 lr: 0.00031623\n",
      "Iter: 531/695, loss_train: 6.7634, loss_val: nan, pos_over_neg: 5752.42041015625 lr: 0.00031623\n",
      "Iter: 532/695, loss_train: 6.7683, loss_val: nan, pos_over_neg: 5489.71484375 lr: 0.00031623\n",
      "Iter: 533/695, loss_train: 6.7667, loss_val: nan, pos_over_neg: 1831.8602294921875 lr: 0.00031623\n",
      "Iter: 534/695, loss_train: 6.7576, loss_val: nan, pos_over_neg: 1076.1829833984375 lr: 0.00031623\n",
      "Iter: 535/695, loss_train: 6.7615, loss_val: nan, pos_over_neg: 664.0750732421875 lr: 0.00031623\n",
      "Iter: 536/695, loss_train: 6.7642, loss_val: nan, pos_over_neg: 3587.670654296875 lr: 0.00031623\n",
      "Iter: 537/695, loss_train: 6.7679, loss_val: nan, pos_over_neg: 361.3714294433594 lr: 0.00031623\n",
      "Iter: 538/695, loss_train: 6.7597, loss_val: nan, pos_over_neg: 1159.9326171875 lr: 0.00031623\n",
      "Iter: 539/695, loss_train: 6.7662, loss_val: nan, pos_over_neg: 2175.028564453125 lr: 0.00031623\n",
      "Iter: 540/695, loss_train: 6.7629, loss_val: nan, pos_over_neg: 974.6578369140625 lr: 0.00031623\n",
      "Iter: 541/695, loss_train: 6.7706, loss_val: nan, pos_over_neg: 421.4212341308594 lr: 0.00031623\n",
      "Iter: 542/695, loss_train: 6.759, loss_val: nan, pos_over_neg: 1691.01318359375 lr: 0.00031623\n",
      "Iter: 543/695, loss_train: 6.7664, loss_val: nan, pos_over_neg: 985.3009643554688 lr: 0.00031623\n",
      "Iter: 544/695, loss_train: 6.7659, loss_val: nan, pos_over_neg: 3090.261474609375 lr: 0.00031623\n",
      "Iter: 545/695, loss_train: 6.7677, loss_val: nan, pos_over_neg: 1642.587890625 lr: 0.00031623\n",
      "Iter: 546/695, loss_train: 6.7596, loss_val: nan, pos_over_neg: -14351.39453125 lr: 0.00031623\n",
      "Iter: 547/695, loss_train: 6.7605, loss_val: nan, pos_over_neg: 726.9237670898438 lr: 0.00031623\n",
      "Iter: 548/695, loss_train: 6.7614, loss_val: nan, pos_over_neg: 462.222900390625 lr: 0.00031623\n",
      "Iter: 549/695, loss_train: 6.7637, loss_val: nan, pos_over_neg: 4416.09326171875 lr: 0.00031623\n",
      "Iter: 550/695, loss_train: 6.7586, loss_val: nan, pos_over_neg: 597.650390625 lr: 0.00031623\n",
      "Iter: 551/695, loss_train: 6.7629, loss_val: nan, pos_over_neg: 2382.84814453125 lr: 0.00031623\n",
      "Iter: 552/695, loss_train: 6.7611, loss_val: nan, pos_over_neg: 4069.535400390625 lr: 0.00031623\n",
      "Iter: 553/695, loss_train: 6.7602, loss_val: nan, pos_over_neg: 420.0315856933594 lr: 0.00031623\n",
      "Iter: 554/695, loss_train: 6.7556, loss_val: nan, pos_over_neg: 958.8330078125 lr: 0.00031623\n",
      "Iter: 555/695, loss_train: 6.7662, loss_val: nan, pos_over_neg: 1304.2442626953125 lr: 0.00031623\n",
      "Iter: 556/695, loss_train: 6.754, loss_val: nan, pos_over_neg: 699.8318481445312 lr: 0.00031623\n",
      "Iter: 557/695, loss_train: 6.7611, loss_val: nan, pos_over_neg: 5567.66162109375 lr: 0.00031623\n",
      "Iter: 558/695, loss_train: 6.7639, loss_val: nan, pos_over_neg: 1052.547119140625 lr: 0.00031623\n",
      "Iter: 559/695, loss_train: 6.7673, loss_val: nan, pos_over_neg: 332.5162353515625 lr: 0.00031623\n",
      "Iter: 560/695, loss_train: 6.7664, loss_val: nan, pos_over_neg: 743.7489624023438 lr: 0.00031623\n",
      "Iter: 561/695, loss_train: 6.7674, loss_val: nan, pos_over_neg: 487.6076354980469 lr: 0.00031623\n",
      "Iter: 562/695, loss_train: 6.7633, loss_val: nan, pos_over_neg: 496.1953125 lr: 0.00031623\n",
      "Iter: 563/695, loss_train: 6.7639, loss_val: nan, pos_over_neg: 910.5933227539062 lr: 0.00031623\n",
      "Iter: 564/695, loss_train: 6.7663, loss_val: nan, pos_over_neg: 13189.1826171875 lr: 0.00031623\n",
      "Iter: 565/695, loss_train: 6.7659, loss_val: nan, pos_over_neg: 928.6568603515625 lr: 0.00031623\n",
      "Iter: 566/695, loss_train: 6.7634, loss_val: nan, pos_over_neg: 633.7954711914062 lr: 0.00031623\n",
      "Iter: 567/695, loss_train: 6.7598, loss_val: nan, pos_over_neg: 620.7626342773438 lr: 0.00031623\n",
      "Iter: 568/695, loss_train: 6.7603, loss_val: nan, pos_over_neg: 1398.3802490234375 lr: 0.00031623\n",
      "Iter: 569/695, loss_train: 6.7651, loss_val: nan, pos_over_neg: 533.2764282226562 lr: 0.00031623\n",
      "Iter: 570/695, loss_train: 6.7677, loss_val: nan, pos_over_neg: 531.7263793945312 lr: 0.00031623\n",
      "Iter: 571/695, loss_train: 6.7539, loss_val: nan, pos_over_neg: 1559.3294677734375 lr: 0.00031623\n",
      "Iter: 572/695, loss_train: 6.7609, loss_val: nan, pos_over_neg: 2232.5439453125 lr: 0.00031623\n",
      "Iter: 573/695, loss_train: 6.7643, loss_val: nan, pos_over_neg: 763.3634033203125 lr: 0.00031623\n",
      "Iter: 574/695, loss_train: 6.7618, loss_val: nan, pos_over_neg: -1238909.875 lr: 0.00031623\n",
      "Iter: 575/695, loss_train: 6.7613, loss_val: nan, pos_over_neg: 1138.617431640625 lr: 0.00031623\n",
      "Iter: 576/695, loss_train: 6.7625, loss_val: nan, pos_over_neg: 1220.01806640625 lr: 0.00031623\n",
      "Iter: 577/695, loss_train: 6.7665, loss_val: nan, pos_over_neg: 1265.269775390625 lr: 0.00031623\n",
      "Iter: 578/695, loss_train: 6.7675, loss_val: nan, pos_over_neg: 3252.822509765625 lr: 0.00031623\n",
      "Iter: 579/695, loss_train: 6.7698, loss_val: nan, pos_over_neg: 839.4306030273438 lr: 0.00031623\n",
      "Iter: 580/695, loss_train: 6.7602, loss_val: nan, pos_over_neg: 2287.490966796875 lr: 0.00031623\n",
      "Iter: 581/695, loss_train: 6.7575, loss_val: nan, pos_over_neg: 1564.3651123046875 lr: 0.00031623\n",
      "Iter: 582/695, loss_train: 6.7691, loss_val: nan, pos_over_neg: 1144.2816162109375 lr: 0.00031623\n",
      "Iter: 583/695, loss_train: 6.7587, loss_val: nan, pos_over_neg: 1619.887939453125 lr: 0.00031623\n",
      "Iter: 584/695, loss_train: 6.7625, loss_val: nan, pos_over_neg: 611.9092407226562 lr: 0.00031623\n",
      "Iter: 585/695, loss_train: 6.765, loss_val: nan, pos_over_neg: 647.622314453125 lr: 0.00031623\n",
      "Iter: 586/695, loss_train: 6.7628, loss_val: nan, pos_over_neg: 1604.580322265625 lr: 0.00031623\n",
      "Iter: 587/695, loss_train: 6.7666, loss_val: nan, pos_over_neg: 1394.5936279296875 lr: 0.00031623\n",
      "Iter: 588/695, loss_train: 6.7589, loss_val: nan, pos_over_neg: 1501.45458984375 lr: 0.00031623\n",
      "Iter: 589/695, loss_train: 6.7625, loss_val: nan, pos_over_neg: 2485.489501953125 lr: 0.00031623\n",
      "Iter: 590/695, loss_train: 6.7583, loss_val: nan, pos_over_neg: 1431.1864013671875 lr: 0.00031623\n",
      "Iter: 591/695, loss_train: 6.7663, loss_val: nan, pos_over_neg: 482.4599914550781 lr: 0.00031623\n",
      "Iter: 592/695, loss_train: 6.7634, loss_val: nan, pos_over_neg: 2280.0927734375 lr: 0.00031623\n",
      "Iter: 593/695, loss_train: 6.7621, loss_val: nan, pos_over_neg: 1088.227294921875 lr: 0.00031623\n",
      "Iter: 594/695, loss_train: 6.7617, loss_val: nan, pos_over_neg: 2886.73095703125 lr: 0.00031623\n",
      "Iter: 595/695, loss_train: 6.7594, loss_val: nan, pos_over_neg: 55219.34765625 lr: 0.00031623\n",
      "Iter: 596/695, loss_train: 6.7653, loss_val: nan, pos_over_neg: -112174.421875 lr: 0.00031623\n",
      "Iter: 597/695, loss_train: 6.765, loss_val: nan, pos_over_neg: -11550.6630859375 lr: 0.00031623\n",
      "Iter: 598/695, loss_train: 6.7623, loss_val: nan, pos_over_neg: 3476.7763671875 lr: 0.00031623\n",
      "Iter: 599/695, loss_train: 6.7714, loss_val: nan, pos_over_neg: 778.8220825195312 lr: 0.00031623\n",
      "Iter: 600/695, loss_train: 6.7601, loss_val: nan, pos_over_neg: 3659.058349609375 lr: 0.00031623\n",
      "Iter: 601/695, loss_train: 6.7579, loss_val: nan, pos_over_neg: -35856.66015625 lr: 0.00031623\n",
      "Iter: 602/695, loss_train: 6.7641, loss_val: nan, pos_over_neg: -2722.135498046875 lr: 0.00031623\n",
      "Iter: 603/695, loss_train: 6.7727, loss_val: nan, pos_over_neg: 6041.107421875 lr: 0.00031623\n",
      "Iter: 604/695, loss_train: 6.7528, loss_val: nan, pos_over_neg: 1299.48291015625 lr: 0.00031623\n",
      "Iter: 605/695, loss_train: 6.7655, loss_val: nan, pos_over_neg: 2498.0537109375 lr: 0.00031623\n",
      "Iter: 606/695, loss_train: 6.7666, loss_val: nan, pos_over_neg: 11377.4580078125 lr: 0.00031623\n",
      "Iter: 607/695, loss_train: 6.7668, loss_val: nan, pos_over_neg: 1656.583740234375 lr: 0.00031623\n",
      "Iter: 608/695, loss_train: 6.7626, loss_val: nan, pos_over_neg: 1622.8857421875 lr: 0.00031623\n",
      "Iter: 609/695, loss_train: 6.7586, loss_val: nan, pos_over_neg: -2602.3720703125 lr: 0.00031623\n",
      "Iter: 610/695, loss_train: 6.7631, loss_val: nan, pos_over_neg: 1282.8680419921875 lr: 0.00031623\n",
      "Iter: 611/695, loss_train: 6.7628, loss_val: nan, pos_over_neg: 1683.7615966796875 lr: 0.00031623\n",
      "Iter: 612/695, loss_train: 6.762, loss_val: nan, pos_over_neg: 1276.7293701171875 lr: 0.00031623\n",
      "Iter: 613/695, loss_train: 6.7564, loss_val: nan, pos_over_neg: 1237.127197265625 lr: 0.00031623\n",
      "Iter: 614/695, loss_train: 6.7701, loss_val: nan, pos_over_neg: -3528.168212890625 lr: 0.00031623\n",
      "Iter: 615/695, loss_train: 6.7591, loss_val: nan, pos_over_neg: 2360.56982421875 lr: 0.00031623\n",
      "Iter: 616/695, loss_train: 6.7624, loss_val: nan, pos_over_neg: 1541.802978515625 lr: 0.00031623\n",
      "Iter: 617/695, loss_train: 6.7549, loss_val: nan, pos_over_neg: 3847.27392578125 lr: 0.00031623\n",
      "Iter: 618/695, loss_train: 6.7608, loss_val: nan, pos_over_neg: 3243.68603515625 lr: 0.00031623\n",
      "Iter: 619/695, loss_train: 6.7632, loss_val: nan, pos_over_neg: 630.486328125 lr: 0.00031623\n",
      "Iter: 620/695, loss_train: 6.7579, loss_val: nan, pos_over_neg: 959.2410278320312 lr: 0.00031623\n",
      "Iter: 621/695, loss_train: 6.7596, loss_val: nan, pos_over_neg: 4238.3662109375 lr: 0.00031623\n",
      "Iter: 622/695, loss_train: 6.764, loss_val: nan, pos_over_neg: 3219.567138671875 lr: 0.00031623\n",
      "Iter: 623/695, loss_train: 6.7607, loss_val: nan, pos_over_neg: 29990.630859375 lr: 0.00031623\n",
      "Iter: 624/695, loss_train: 6.7619, loss_val: nan, pos_over_neg: -2651.21240234375 lr: 0.00031623\n",
      "Iter: 625/695, loss_train: 6.7565, loss_val: nan, pos_over_neg: 3897.764404296875 lr: 0.00031623\n",
      "Iter: 626/695, loss_train: 6.7678, loss_val: nan, pos_over_neg: 592.9561157226562 lr: 0.00031623\n",
      "Iter: 627/695, loss_train: 6.7603, loss_val: nan, pos_over_neg: 4169.63427734375 lr: 0.00031623\n",
      "Iter: 628/695, loss_train: 6.7563, loss_val: nan, pos_over_neg: 971.0100708007812 lr: 0.00031623\n",
      "Iter: 629/695, loss_train: 6.7669, loss_val: nan, pos_over_neg: 1074.1683349609375 lr: 0.00031623\n",
      "Iter: 630/695, loss_train: 6.7514, loss_val: nan, pos_over_neg: 4249.5859375 lr: 0.00031623\n",
      "Iter: 631/695, loss_train: 6.7591, loss_val: nan, pos_over_neg: 15001.2177734375 lr: 0.00031623\n",
      "Iter: 632/695, loss_train: 6.7584, loss_val: nan, pos_over_neg: 1000.1436767578125 lr: 0.00031623\n",
      "Iter: 633/695, loss_train: 6.7552, loss_val: nan, pos_over_neg: 586.830078125 lr: 0.00031623\n",
      "Iter: 634/695, loss_train: 6.759, loss_val: nan, pos_over_neg: 1880.7252197265625 lr: 0.00031623\n",
      "Iter: 635/695, loss_train: 6.7638, loss_val: nan, pos_over_neg: 545.7830200195312 lr: 0.00031623\n",
      "Iter: 636/695, loss_train: 6.7653, loss_val: nan, pos_over_neg: 948.4912719726562 lr: 0.00031623\n",
      "Iter: 637/695, loss_train: 6.7624, loss_val: nan, pos_over_neg: 5671.62841796875 lr: 0.00031623\n",
      "Iter: 638/695, loss_train: 6.761, loss_val: nan, pos_over_neg: 1050.6029052734375 lr: 0.00031623\n",
      "Iter: 639/695, loss_train: 6.7581, loss_val: nan, pos_over_neg: 1250.2269287109375 lr: 0.00031623\n",
      "Iter: 640/695, loss_train: 6.7625, loss_val: nan, pos_over_neg: 3491.598388671875 lr: 0.00031623\n",
      "Iter: 641/695, loss_train: 6.7578, loss_val: nan, pos_over_neg: 751.421630859375 lr: 0.00031623\n",
      "Iter: 642/695, loss_train: 6.7612, loss_val: nan, pos_over_neg: 753.920654296875 lr: 0.00031623\n",
      "Iter: 643/695, loss_train: 6.758, loss_val: nan, pos_over_neg: 141883.359375 lr: 0.00031623\n",
      "Iter: 644/695, loss_train: 6.7591, loss_val: nan, pos_over_neg: 3713.525146484375 lr: 0.00031623\n",
      "Iter: 645/695, loss_train: 6.7618, loss_val: nan, pos_over_neg: 1104.25732421875 lr: 0.00031623\n",
      "Iter: 646/695, loss_train: 6.7547, loss_val: nan, pos_over_neg: 8788.1875 lr: 0.00031623\n",
      "Iter: 647/695, loss_train: 6.7584, loss_val: nan, pos_over_neg: 919.075927734375 lr: 0.00031623\n",
      "Iter: 648/695, loss_train: 6.7566, loss_val: nan, pos_over_neg: 780.20751953125 lr: 0.00031623\n",
      "Iter: 649/695, loss_train: 6.7595, loss_val: nan, pos_over_neg: 1841.5518798828125 lr: 0.00031623\n",
      "Iter: 650/695, loss_train: 6.7601, loss_val: nan, pos_over_neg: 1323.96044921875 lr: 0.00031623\n",
      "Iter: 651/695, loss_train: 6.7598, loss_val: nan, pos_over_neg: 1897.82666015625 lr: 0.00031623\n",
      "Iter: 652/695, loss_train: 6.7581, loss_val: nan, pos_over_neg: 1647.8121337890625 lr: 0.00031623\n",
      "Iter: 653/695, loss_train: 6.7603, loss_val: nan, pos_over_neg: 896.072021484375 lr: 0.00031623\n",
      "Iter: 654/695, loss_train: 6.757, loss_val: nan, pos_over_neg: 790.625 lr: 0.00031623\n",
      "Iter: 655/695, loss_train: 6.756, loss_val: nan, pos_over_neg: 1225.3798828125 lr: 0.00031623\n",
      "Iter: 656/695, loss_train: 6.7594, loss_val: nan, pos_over_neg: 3627.406982421875 lr: 0.00031623\n",
      "Iter: 657/695, loss_train: 6.7649, loss_val: nan, pos_over_neg: 1016.5217895507812 lr: 0.00031623\n",
      "Iter: 658/695, loss_train: 6.7631, loss_val: nan, pos_over_neg: 1464.4345703125 lr: 0.00031623\n",
      "Iter: 659/695, loss_train: 6.7647, loss_val: nan, pos_over_neg: 1384.3770751953125 lr: 0.00031623\n",
      "Iter: 660/695, loss_train: 6.7605, loss_val: nan, pos_over_neg: 1256.4195556640625 lr: 0.00031623\n",
      "Iter: 661/695, loss_train: 6.7588, loss_val: nan, pos_over_neg: 938.5010375976562 lr: 0.00031623\n",
      "Iter: 662/695, loss_train: 6.7602, loss_val: nan, pos_over_neg: -2958.14599609375 lr: 0.00031623\n",
      "Iter: 663/695, loss_train: 6.7553, loss_val: nan, pos_over_neg: -3681.623779296875 lr: 0.00031623\n",
      "Iter: 664/695, loss_train: 6.7632, loss_val: nan, pos_over_neg: 604.3012084960938 lr: 0.00031623\n",
      "Iter: 665/695, loss_train: 6.7589, loss_val: nan, pos_over_neg: 1043.8668212890625 lr: 0.00031623\n",
      "Iter: 666/695, loss_train: 6.7589, loss_val: nan, pos_over_neg: 3429.927490234375 lr: 0.00031623\n",
      "Iter: 667/695, loss_train: 6.7594, loss_val: nan, pos_over_neg: 2272.105224609375 lr: 0.00031623\n",
      "Iter: 668/695, loss_train: 6.7579, loss_val: nan, pos_over_neg: 4020.334716796875 lr: 0.00031623\n",
      "Iter: 669/695, loss_train: 6.7647, loss_val: nan, pos_over_neg: 1419.8275146484375 lr: 0.00031623\n",
      "Iter: 670/695, loss_train: 6.7625, loss_val: nan, pos_over_neg: -7727.404296875 lr: 0.00031623\n",
      "Iter: 671/695, loss_train: 6.762, loss_val: nan, pos_over_neg: 1279.11572265625 lr: 0.00031623\n",
      "Iter: 672/695, loss_train: 6.7579, loss_val: nan, pos_over_neg: 1465.6793212890625 lr: 0.00031623\n",
      "Iter: 673/695, loss_train: 6.7632, loss_val: nan, pos_over_neg: 833.9745483398438 lr: 0.00031623\n",
      "Iter: 674/695, loss_train: 6.7591, loss_val: nan, pos_over_neg: 2169.349853515625 lr: 0.00031623\n",
      "Iter: 675/695, loss_train: 6.7564, loss_val: nan, pos_over_neg: 2331.250732421875 lr: 0.00031623\n",
      "Iter: 676/695, loss_train: 6.7548, loss_val: nan, pos_over_neg: 736.8367309570312 lr: 0.00031623\n",
      "Iter: 677/695, loss_train: 6.7598, loss_val: nan, pos_over_neg: 1064.8419189453125 lr: 0.00031623\n",
      "Iter: 678/695, loss_train: 6.7542, loss_val: nan, pos_over_neg: 40047.8046875 lr: 0.00031623\n",
      "Iter: 679/695, loss_train: 6.7578, loss_val: nan, pos_over_neg: 14191.3681640625 lr: 0.00031623\n",
      "Iter: 680/695, loss_train: 6.7612, loss_val: nan, pos_over_neg: 1896.4649658203125 lr: 0.00031623\n",
      "Iter: 681/695, loss_train: 6.7571, loss_val: nan, pos_over_neg: 2086.353759765625 lr: 0.00031623\n",
      "Iter: 682/695, loss_train: 6.7618, loss_val: nan, pos_over_neg: 642.160888671875 lr: 0.00031623\n",
      "Iter: 683/695, loss_train: 6.7544, loss_val: nan, pos_over_neg: 1561.824462890625 lr: 0.00031623\n",
      "Iter: 684/695, loss_train: 6.7605, loss_val: nan, pos_over_neg: 17794.404296875 lr: 0.00031623\n",
      "Iter: 685/695, loss_train: 6.7599, loss_val: nan, pos_over_neg: 1216.9075927734375 lr: 0.00031623\n",
      "Iter: 686/695, loss_train: 6.7718, loss_val: nan, pos_over_neg: 740.1011962890625 lr: 0.00031623\n",
      "Iter: 687/695, loss_train: 6.759, loss_val: nan, pos_over_neg: 5032.12255859375 lr: 0.00031623\n",
      "Iter: 688/695, loss_train: 6.7561, loss_val: nan, pos_over_neg: 6164.1416015625 lr: 0.00031623\n",
      "Iter: 689/695, loss_train: 6.7569, loss_val: nan, pos_over_neg: 1345.7275390625 lr: 0.00031623\n",
      "Iter: 690/695, loss_train: 6.756, loss_val: nan, pos_over_neg: 2491.47509765625 lr: 0.00031623\n",
      "Iter: 691/695, loss_train: 6.7539, loss_val: nan, pos_over_neg: 16891.6328125 lr: 0.00031623\n",
      "Iter: 692/695, loss_train: 6.7616, loss_val: nan, pos_over_neg: 8719.5771484375 lr: 0.00031623\n",
      "Iter: 693/695, loss_train: 6.7575, loss_val: nan, pos_over_neg: 8171.15185546875 lr: 0.00031623\n",
      "Iter: 694/695, loss_train: 6.7608, loss_val: nan, pos_over_neg: 1078.6087646484375 lr: 0.00031623\n"
     ]
    },
    {
     "name": "stderr",
     "output_type": "stream",
     "text": [
      "  0%|          | 1/300000 [20:12<101028:00:13, 1212.34s/it]"
     ]
    },
    {
     "name": "stdout",
     "output_type": "stream",
     "text": [
      "epoch: 1\n"
     ]
    },
    {
     "name": "stderr",
     "output_type": "stream",
     "text": [
      "  0%|          | 1/300000 [20:21<101793:01:27, 1221.52s/it]\n"
     ]
    },
    {
     "ename": "RuntimeError",
     "evalue": "DataLoader worker (pid(s) 194053) exited unexpectedly",
     "output_type": "error",
     "traceback": [
      "\u001b[0;31m---------------------------------------------------------------------------\u001b[0m",
      "\u001b[0;31mRuntimeError\u001b[0m                              Traceback (most recent call last)",
      "\u001b[0;32m~/.conda/envs/jupyter_launcher/lib/python3.8/site-packages/torch/utils/data/dataloader.py\u001b[0m in \u001b[0;36m_try_get_data\u001b[0;34m(self, timeout)\u001b[0m\n\u001b[1;32m    989\u001b[0m         \u001b[0;32mtry\u001b[0m\u001b[0;34m:\u001b[0m\u001b[0;34m\u001b[0m\u001b[0;34m\u001b[0m\u001b[0m\n\u001b[0;32m--> 990\u001b[0;31m             \u001b[0mdata\u001b[0m \u001b[0;34m=\u001b[0m \u001b[0mself\u001b[0m\u001b[0;34m.\u001b[0m\u001b[0m_data_queue\u001b[0m\u001b[0;34m.\u001b[0m\u001b[0mget\u001b[0m\u001b[0;34m(\u001b[0m\u001b[0mtimeout\u001b[0m\u001b[0;34m=\u001b[0m\u001b[0mtimeout\u001b[0m\u001b[0;34m)\u001b[0m\u001b[0;34m\u001b[0m\u001b[0;34m\u001b[0m\u001b[0m\n\u001b[0m\u001b[1;32m    991\u001b[0m             \u001b[0;32mreturn\u001b[0m \u001b[0;34m(\u001b[0m\u001b[0;32mTrue\u001b[0m\u001b[0;34m,\u001b[0m \u001b[0mdata\u001b[0m\u001b[0;34m)\u001b[0m\u001b[0;34m\u001b[0m\u001b[0;34m\u001b[0m\u001b[0m\n",
      "\u001b[0;32m~/.conda/envs/jupyter_launcher/lib/python3.8/queue.py\u001b[0m in \u001b[0;36mget\u001b[0;34m(self, block, timeout)\u001b[0m\n\u001b[1;32m    178\u001b[0m                         \u001b[0;32mraise\u001b[0m \u001b[0mEmpty\u001b[0m\u001b[0;34m\u001b[0m\u001b[0;34m\u001b[0m\u001b[0m\n\u001b[0;32m--> 179\u001b[0;31m                     \u001b[0mself\u001b[0m\u001b[0;34m.\u001b[0m\u001b[0mnot_empty\u001b[0m\u001b[0;34m.\u001b[0m\u001b[0mwait\u001b[0m\u001b[0;34m(\u001b[0m\u001b[0mremaining\u001b[0m\u001b[0;34m)\u001b[0m\u001b[0;34m\u001b[0m\u001b[0;34m\u001b[0m\u001b[0m\n\u001b[0m\u001b[1;32m    180\u001b[0m             \u001b[0mitem\u001b[0m \u001b[0;34m=\u001b[0m \u001b[0mself\u001b[0m\u001b[0;34m.\u001b[0m\u001b[0m_get\u001b[0m\u001b[0;34m(\u001b[0m\u001b[0;34m)\u001b[0m\u001b[0;34m\u001b[0m\u001b[0;34m\u001b[0m\u001b[0m\n",
      "\u001b[0;32m~/.conda/envs/jupyter_launcher/lib/python3.8/threading.py\u001b[0m in \u001b[0;36mwait\u001b[0;34m(self, timeout)\u001b[0m\n\u001b[1;32m    305\u001b[0m                 \u001b[0;32mif\u001b[0m \u001b[0mtimeout\u001b[0m \u001b[0;34m>\u001b[0m \u001b[0;36m0\u001b[0m\u001b[0;34m:\u001b[0m\u001b[0;34m\u001b[0m\u001b[0;34m\u001b[0m\u001b[0m\n\u001b[0;32m--> 306\u001b[0;31m                     \u001b[0mgotit\u001b[0m \u001b[0;34m=\u001b[0m \u001b[0mwaiter\u001b[0m\u001b[0;34m.\u001b[0m\u001b[0macquire\u001b[0m\u001b[0;34m(\u001b[0m\u001b[0;32mTrue\u001b[0m\u001b[0;34m,\u001b[0m \u001b[0mtimeout\u001b[0m\u001b[0;34m)\u001b[0m\u001b[0;34m\u001b[0m\u001b[0;34m\u001b[0m\u001b[0m\n\u001b[0m\u001b[1;32m    307\u001b[0m                 \u001b[0;32melse\u001b[0m\u001b[0;34m:\u001b[0m\u001b[0;34m\u001b[0m\u001b[0;34m\u001b[0m\u001b[0m\n",
      "\u001b[0;32m~/.conda/envs/jupyter_launcher/lib/python3.8/site-packages/torch/utils/data/_utils/signal_handling.py\u001b[0m in \u001b[0;36mhandler\u001b[0;34m(signum, frame)\u001b[0m\n\u001b[1;32m     65\u001b[0m         \u001b[0;31m# Python can still get and update the process status successfully.\u001b[0m\u001b[0;34m\u001b[0m\u001b[0;34m\u001b[0m\u001b[0;34m\u001b[0m\u001b[0m\n\u001b[0;32m---> 66\u001b[0;31m         \u001b[0m_error_if_any_worker_fails\u001b[0m\u001b[0;34m(\u001b[0m\u001b[0;34m)\u001b[0m\u001b[0;34m\u001b[0m\u001b[0;34m\u001b[0m\u001b[0m\n\u001b[0m\u001b[1;32m     67\u001b[0m         \u001b[0;32mif\u001b[0m \u001b[0mprevious_handler\u001b[0m \u001b[0;32mis\u001b[0m \u001b[0;32mnot\u001b[0m \u001b[0;32mNone\u001b[0m\u001b[0;34m:\u001b[0m\u001b[0;34m\u001b[0m\u001b[0;34m\u001b[0m\u001b[0m\n",
      "\u001b[0;31mRuntimeError\u001b[0m: DataLoader worker (pid 194053) is killed by signal: Killed. ",
      "\nThe above exception was the direct cause of the following exception:\n",
      "\u001b[0;31mRuntimeError\u001b[0m                              Traceback (most recent call last)",
      "\u001b[0;32m/tmp/ipykernel_193071/867502188.py\u001b[0m in \u001b[0;36m<module>\u001b[0;34m\u001b[0m\n\u001b[1;32m      7\u001b[0m \u001b[0;32mfor\u001b[0m \u001b[0mepoch\u001b[0m \u001b[0;32min\u001b[0m \u001b[0mtqdm\u001b[0m\u001b[0;34m(\u001b[0m\u001b[0mrange\u001b[0m\u001b[0;34m(\u001b[0m\u001b[0mn_epochs\u001b[0m\u001b[0;34m)\u001b[0m\u001b[0;34m)\u001b[0m\u001b[0;34m:\u001b[0m\u001b[0;34m\u001b[0m\u001b[0;34m\u001b[0m\u001b[0m\n\u001b[1;32m      8\u001b[0m     \u001b[0mprint\u001b[0m\u001b[0;34m(\u001b[0m\u001b[0;34mf'epoch: {epoch}'\u001b[0m\u001b[0;34m)\u001b[0m\u001b[0;34m\u001b[0m\u001b[0;34m\u001b[0m\u001b[0m\n\u001b[0;32m----> 9\u001b[0;31m     loss_rolling_train = training_simCLR.epoch_step(dataloader_train, \n\u001b[0m\u001b[1;32m     10\u001b[0m                                     \u001b[0mmodel\u001b[0m\u001b[0;34m,\u001b[0m\u001b[0;34m\u001b[0m\u001b[0;34m\u001b[0m\u001b[0m\n\u001b[1;32m     11\u001b[0m                                     \u001b[0moptimizer\u001b[0m\u001b[0;34m,\u001b[0m\u001b[0;34m\u001b[0m\u001b[0;34m\u001b[0m\u001b[0m\n",
      "\u001b[0;32m/n/data1/hms/neurobio/sabatini/josh/github_repos/GCaMP_ROI_classifier/new_stuff/training_simCLR.py\u001b[0m in \u001b[0;36mepoch_step\u001b[0;34m(dataloader, model, optimizer, criterion, scheduler, temperature, L2_alpha, mode, loss_rolling_train, loss_rolling_val, device, do_validation, validation_Object, verbose, verbose_update_period, X_val, y_val)\u001b[0m\n\u001b[1;32m    173\u001b[0m         \u001b[0mprint\u001b[0m\u001b[0;34m(\u001b[0m\u001b[0;34mf'Iter: {batch}/{n_batches}, loss_train: {loss_train:.{precis}}, loss_val: {loss_val:.{precis}}, pos_over_neg: {pos_over_neg} lr: {learning_rate:.{precis}}'\u001b[0m\u001b[0;34m)\u001b[0m\u001b[0;34m\u001b[0m\u001b[0;34m\u001b[0m\u001b[0m\n\u001b[1;32m    174\u001b[0m \u001b[0;34m\u001b[0m\u001b[0m\n\u001b[0;32m--> 175\u001b[0;31m     \u001b[0;32mfor\u001b[0m \u001b[0mi_batch\u001b[0m\u001b[0;34m,\u001b[0m \u001b[0;34m(\u001b[0m\u001b[0mX_batch\u001b[0m\u001b[0;34m,\u001b[0m \u001b[0my_batch\u001b[0m\u001b[0;34m,\u001b[0m \u001b[0midx_batch\u001b[0m\u001b[0;34m,\u001b[0m \u001b[0msample_weights\u001b[0m\u001b[0;34m)\u001b[0m \u001b[0;32min\u001b[0m \u001b[0menumerate\u001b[0m\u001b[0;34m(\u001b[0m\u001b[0mdataloader\u001b[0m\u001b[0;34m)\u001b[0m\u001b[0;34m:\u001b[0m\u001b[0;34m\u001b[0m\u001b[0;34m\u001b[0m\u001b[0m\n\u001b[0m\u001b[1;32m    176\u001b[0m         \u001b[0;31m# for param in util.get_trainable_parameters(model):\u001b[0m\u001b[0;34m\u001b[0m\u001b[0;34m\u001b[0m\u001b[0;34m\u001b[0m\u001b[0m\n\u001b[1;32m    177\u001b[0m         \u001b[0;31m#     print(torch.linalg.norm(param))\u001b[0m\u001b[0;34m\u001b[0m\u001b[0;34m\u001b[0m\u001b[0;34m\u001b[0m\u001b[0m\n",
      "\u001b[0;32m~/.conda/envs/jupyter_launcher/lib/python3.8/site-packages/torch/utils/data/dataloader.py\u001b[0m in \u001b[0;36m__next__\u001b[0;34m(self)\u001b[0m\n\u001b[1;32m    519\u001b[0m             \u001b[0;32mif\u001b[0m \u001b[0mself\u001b[0m\u001b[0;34m.\u001b[0m\u001b[0m_sampler_iter\u001b[0m \u001b[0;32mis\u001b[0m \u001b[0;32mNone\u001b[0m\u001b[0;34m:\u001b[0m\u001b[0;34m\u001b[0m\u001b[0;34m\u001b[0m\u001b[0m\n\u001b[1;32m    520\u001b[0m                 \u001b[0mself\u001b[0m\u001b[0;34m.\u001b[0m\u001b[0m_reset\u001b[0m\u001b[0;34m(\u001b[0m\u001b[0;34m)\u001b[0m\u001b[0;34m\u001b[0m\u001b[0;34m\u001b[0m\u001b[0m\n\u001b[0;32m--> 521\u001b[0;31m             \u001b[0mdata\u001b[0m \u001b[0;34m=\u001b[0m \u001b[0mself\u001b[0m\u001b[0;34m.\u001b[0m\u001b[0m_next_data\u001b[0m\u001b[0;34m(\u001b[0m\u001b[0;34m)\u001b[0m\u001b[0;34m\u001b[0m\u001b[0;34m\u001b[0m\u001b[0m\n\u001b[0m\u001b[1;32m    522\u001b[0m             \u001b[0mself\u001b[0m\u001b[0;34m.\u001b[0m\u001b[0m_num_yielded\u001b[0m \u001b[0;34m+=\u001b[0m \u001b[0;36m1\u001b[0m\u001b[0;34m\u001b[0m\u001b[0;34m\u001b[0m\u001b[0m\n\u001b[1;32m    523\u001b[0m             \u001b[0;32mif\u001b[0m \u001b[0mself\u001b[0m\u001b[0;34m.\u001b[0m\u001b[0m_dataset_kind\u001b[0m \u001b[0;34m==\u001b[0m \u001b[0m_DatasetKind\u001b[0m\u001b[0;34m.\u001b[0m\u001b[0mIterable\u001b[0m \u001b[0;32mand\u001b[0m\u001b[0;31m \u001b[0m\u001b[0;31m\\\u001b[0m\u001b[0;34m\u001b[0m\u001b[0;34m\u001b[0m\u001b[0m\n",
      "\u001b[0;32m~/.conda/envs/jupyter_launcher/lib/python3.8/site-packages/torch/utils/data/dataloader.py\u001b[0m in \u001b[0;36m_next_data\u001b[0;34m(self)\u001b[0m\n\u001b[1;32m   1184\u001b[0m \u001b[0;34m\u001b[0m\u001b[0m\n\u001b[1;32m   1185\u001b[0m             \u001b[0;32massert\u001b[0m \u001b[0;32mnot\u001b[0m \u001b[0mself\u001b[0m\u001b[0;34m.\u001b[0m\u001b[0m_shutdown\u001b[0m \u001b[0;32mand\u001b[0m \u001b[0mself\u001b[0m\u001b[0;34m.\u001b[0m\u001b[0m_tasks_outstanding\u001b[0m \u001b[0;34m>\u001b[0m \u001b[0;36m0\u001b[0m\u001b[0;34m\u001b[0m\u001b[0;34m\u001b[0m\u001b[0m\n\u001b[0;32m-> 1186\u001b[0;31m             \u001b[0midx\u001b[0m\u001b[0;34m,\u001b[0m \u001b[0mdata\u001b[0m \u001b[0;34m=\u001b[0m \u001b[0mself\u001b[0m\u001b[0;34m.\u001b[0m\u001b[0m_get_data\u001b[0m\u001b[0;34m(\u001b[0m\u001b[0;34m)\u001b[0m\u001b[0;34m\u001b[0m\u001b[0;34m\u001b[0m\u001b[0m\n\u001b[0m\u001b[1;32m   1187\u001b[0m             \u001b[0mself\u001b[0m\u001b[0;34m.\u001b[0m\u001b[0m_tasks_outstanding\u001b[0m \u001b[0;34m-=\u001b[0m \u001b[0;36m1\u001b[0m\u001b[0;34m\u001b[0m\u001b[0;34m\u001b[0m\u001b[0m\n\u001b[1;32m   1188\u001b[0m             \u001b[0;32mif\u001b[0m \u001b[0mself\u001b[0m\u001b[0;34m.\u001b[0m\u001b[0m_dataset_kind\u001b[0m \u001b[0;34m==\u001b[0m \u001b[0m_DatasetKind\u001b[0m\u001b[0;34m.\u001b[0m\u001b[0mIterable\u001b[0m\u001b[0;34m:\u001b[0m\u001b[0;34m\u001b[0m\u001b[0;34m\u001b[0m\u001b[0m\n",
      "\u001b[0;32m~/.conda/envs/jupyter_launcher/lib/python3.8/site-packages/torch/utils/data/dataloader.py\u001b[0m in \u001b[0;36m_get_data\u001b[0;34m(self)\u001b[0m\n\u001b[1;32m   1140\u001b[0m         \u001b[0;32melif\u001b[0m \u001b[0mself\u001b[0m\u001b[0;34m.\u001b[0m\u001b[0m_pin_memory\u001b[0m\u001b[0;34m:\u001b[0m\u001b[0;34m\u001b[0m\u001b[0;34m\u001b[0m\u001b[0m\n\u001b[1;32m   1141\u001b[0m             \u001b[0;32mwhile\u001b[0m \u001b[0mself\u001b[0m\u001b[0;34m.\u001b[0m\u001b[0m_pin_memory_thread\u001b[0m\u001b[0;34m.\u001b[0m\u001b[0mis_alive\u001b[0m\u001b[0;34m(\u001b[0m\u001b[0;34m)\u001b[0m\u001b[0;34m:\u001b[0m\u001b[0;34m\u001b[0m\u001b[0;34m\u001b[0m\u001b[0m\n\u001b[0;32m-> 1142\u001b[0;31m                 \u001b[0msuccess\u001b[0m\u001b[0;34m,\u001b[0m \u001b[0mdata\u001b[0m \u001b[0;34m=\u001b[0m \u001b[0mself\u001b[0m\u001b[0;34m.\u001b[0m\u001b[0m_try_get_data\u001b[0m\u001b[0;34m(\u001b[0m\u001b[0;34m)\u001b[0m\u001b[0;34m\u001b[0m\u001b[0;34m\u001b[0m\u001b[0m\n\u001b[0m\u001b[1;32m   1143\u001b[0m                 \u001b[0;32mif\u001b[0m \u001b[0msuccess\u001b[0m\u001b[0;34m:\u001b[0m\u001b[0;34m\u001b[0m\u001b[0;34m\u001b[0m\u001b[0m\n\u001b[1;32m   1144\u001b[0m                     \u001b[0;32mreturn\u001b[0m \u001b[0mdata\u001b[0m\u001b[0;34m\u001b[0m\u001b[0;34m\u001b[0m\u001b[0m\n",
      "\u001b[0;32m~/.conda/envs/jupyter_launcher/lib/python3.8/site-packages/torch/utils/data/dataloader.py\u001b[0m in \u001b[0;36m_try_get_data\u001b[0;34m(self, timeout)\u001b[0m\n\u001b[1;32m   1001\u001b[0m             \u001b[0;32mif\u001b[0m \u001b[0mlen\u001b[0m\u001b[0;34m(\u001b[0m\u001b[0mfailed_workers\u001b[0m\u001b[0;34m)\u001b[0m \u001b[0;34m>\u001b[0m \u001b[0;36m0\u001b[0m\u001b[0;34m:\u001b[0m\u001b[0;34m\u001b[0m\u001b[0;34m\u001b[0m\u001b[0m\n\u001b[1;32m   1002\u001b[0m                 \u001b[0mpids_str\u001b[0m \u001b[0;34m=\u001b[0m \u001b[0;34m', '\u001b[0m\u001b[0;34m.\u001b[0m\u001b[0mjoin\u001b[0m\u001b[0;34m(\u001b[0m\u001b[0mstr\u001b[0m\u001b[0;34m(\u001b[0m\u001b[0mw\u001b[0m\u001b[0;34m.\u001b[0m\u001b[0mpid\u001b[0m\u001b[0;34m)\u001b[0m \u001b[0;32mfor\u001b[0m \u001b[0mw\u001b[0m \u001b[0;32min\u001b[0m \u001b[0mfailed_workers\u001b[0m\u001b[0;34m)\u001b[0m\u001b[0;34m\u001b[0m\u001b[0;34m\u001b[0m\u001b[0m\n\u001b[0;32m-> 1003\u001b[0;31m                 \u001b[0;32mraise\u001b[0m \u001b[0mRuntimeError\u001b[0m\u001b[0;34m(\u001b[0m\u001b[0;34m'DataLoader worker (pid(s) {}) exited unexpectedly'\u001b[0m\u001b[0;34m.\u001b[0m\u001b[0mformat\u001b[0m\u001b[0;34m(\u001b[0m\u001b[0mpids_str\u001b[0m\u001b[0;34m)\u001b[0m\u001b[0;34m)\u001b[0m \u001b[0;32mfrom\u001b[0m \u001b[0me\u001b[0m\u001b[0;34m\u001b[0m\u001b[0;34m\u001b[0m\u001b[0m\n\u001b[0m\u001b[1;32m   1004\u001b[0m             \u001b[0;32mif\u001b[0m \u001b[0misinstance\u001b[0m\u001b[0;34m(\u001b[0m\u001b[0me\u001b[0m\u001b[0;34m,\u001b[0m \u001b[0mqueue\u001b[0m\u001b[0;34m.\u001b[0m\u001b[0mEmpty\u001b[0m\u001b[0;34m)\u001b[0m\u001b[0;34m:\u001b[0m\u001b[0;34m\u001b[0m\u001b[0;34m\u001b[0m\u001b[0m\n\u001b[1;32m   1005\u001b[0m                 \u001b[0;32mreturn\u001b[0m \u001b[0;34m(\u001b[0m\u001b[0;32mFalse\u001b[0m\u001b[0;34m,\u001b[0m \u001b[0;32mNone\u001b[0m\u001b[0;34m)\u001b[0m\u001b[0;34m\u001b[0m\u001b[0;34m\u001b[0m\u001b[0m\n",
      "\u001b[0;31mRuntimeError\u001b[0m: DataLoader worker (pid(s) 194053) exited unexpectedly"
     ]
    }
   ],
   "source": [
    "model_file_name = 'ResNet18_simCLR_model_202112078_EOD_transfmod=transl045'\n",
    "model.forward = model.forward_latent\n",
    "\n",
    "l2_alpha = 0.000\n",
    "\n",
    "n_epochs=300000\n",
    "for epoch in tqdm(range(n_epochs)):\n",
    "    print(f'epoch: {epoch}')\n",
    "    loss_rolling_train = training_simCLR.epoch_step(dataloader_train, \n",
    "                                    model, \n",
    "                                    optimizer, \n",
    "                                    criterion,\n",
    "                                    scheduler=scheduler,\n",
    "                                    temperature=0.5,\n",
    "                                    # l2_alpha,\n",
    "                                    mode='semi-supervised',\n",
    "                                    loss_rolling_train=losses_train, \n",
    "                                    loss_rolling_val=losses_val,\n",
    "                                    device=DEVICE, \n",
    "                                    verbose=2,\n",
    "                                    verbose_update_period=1,\n",
    "                                   \n",
    "#                                     do_validation=False,\n",
    "#                                     X_val=x_feed_through_val,\n",
    "#                                     y_val=torch.as_tensor(y_val, device=DEVICE)\n",
    "                                   )\n",
    "    \n",
    "    \n",
    "    torch.save(model.state_dict(), f'{base_dir}/github_repos/GCaMP_ROI_classifier/new_stuff/models/{model_file_name}.pth')\n",
    "\n",
    "    losses_train_npy = np.array(losses_train)\n",
    "    losses_val_npy = np.array(losses_val)\n",
    "    val_accs_npy = np.array(val_accs)\n",
    "    acc_npy = np.array(acc)\n",
    "\n",
    "    np.save(f'{base_dir}/github_repos/GCaMP_ROI_classifier/new_stuff/model_performance/{model_file_name}_losses_train.npy', losses_train_npy)\n",
    "    np.save(f'{base_dir}/github_repos/GCaMP_ROI_classifier/new_stuff/model_performance/{model_file_name}_losses_val.npy', losses_val_npy)\n",
    "    np.save(f'{base_dir}/github_repos/GCaMP_ROI_classifier/new_stuff/model_performance/{model_file_name}_val_accs.npy', val_accs_npy)\n",
    "    np.save(f'{base_dir}/github_repos/GCaMP_ROI_classifier/new_stuff/model_performance/{model_file_name}_tr_accs.npy', acc_npy)"
   ]
  },
  {
   "cell_type": "code",
   "execution_count": null,
   "metadata": {},
   "outputs": [],
   "source": [
    "break"
   ]
  },
  {
   "cell_type": "code",
   "execution_count": null,
   "metadata": {
    "colab": {
     "base_uri": "https://localhost:8080/",
     "height": 421
    },
    "id": "af10GlccgaV4",
    "outputId": "2ec75ade-6308-4a67-89e4-4bf3f996f746"
   },
   "outputs": [],
   "source": [
    "# import seaborn as sns\n",
    "# sns.set(style='white', palette='bright', context='poster')\n",
    "plt.rcdefaults()\n",
    "\n",
    "%matplotlib inline\n",
    "plt.figure(figsize=(12,6))\n",
    "plt.plot(losses_train, label='Training Loss')\n",
    "plt.plot(losses_val, label='Validation Loss')\n",
    "plt.title(f'Loss — Balanced Transfer Learning, No Data Augmentation, L2 Lambda = {l2_alpha}')\n",
    "plt.legend()\n",
    "plt.grid()\n",
    "plt.xlabel('Epoch Step')\n",
    "plt.ylabel('Loss')\n",
    "# plt.savefig('./Training-Loss.png')"
   ]
  },
  {
   "cell_type": "raw",
   "metadata": {
    "colab": {
     "base_uri": "https://localhost:8080/",
     "height": 706
    },
    "id": "Cl4TSsfc2MDy",
    "outputId": "ccc80bf3-a191-49ec-e635-dce022144cbe"
   },
   "source": [
    "%matplotlib inline\n",
    "plt.figure(figsize=(12,12))\n",
    "# val_transfer_cm = get_cm(features_val, y_val)\n",
    "# plt.imshow(val_transfer_cm)\n",
    "test_transfer_cm = get_cm(features_test, y_test)\n",
    "plt.imshow(test_transfer_cm)\n",
    "plt.colorbar()\n",
    "\n",
    "for i in range(test_transfer_cm.shape[0]):\n",
    "    for j in range(test_transfer_cm.shape[1]):\n",
    "        plt.annotate(np.round(test_transfer_cm[i,j], 3), (j,i), ha='center')\n",
    "plt.title(f'Test Confusion Matrix — Balanced Transfer Learning, No Augmentation, L2 Lambda = {l2_alpha}')\n",
    "plt.xlabel('True Class')\n",
    "plt.ylabel('Predicted Class')\n",
    "# plt.savefig('./Confusion-Matrix.png')\n"
   ]
  },
  {
   "cell_type": "code",
   "execution_count": null,
   "metadata": {
    "id": "rU8l0eP02TQR"
   },
   "outputs": [],
   "source": [
    "model_file_name = 'ResNet18_simCLR_model_202112078_temp=1.0'\n",
    "\n",
    "# torch.save(model.state_dict(), '/media/rich/Home_Linux_partition/github_repos/GCaMP_ROI_classifier/new_stuff/models/ResNet18_simCLR_model_20211205_3.pth')\n",
    "torch.save(model.state_dict(), f'{base_dir}/github_repos/GCaMP_ROI_classifier/new_stuff/models/{model_file_name}.pth')"
   ]
  },
  {
   "cell_type": "code",
   "execution_count": null,
   "metadata": {},
   "outputs": [],
   "source": [
    "# model.load_state_dict(torch.load('/media/rich/Home_Linux_partition/github_repos/GCaMP_ROI_classifier/new_stuff/models/ResNet18_simCLR_model_20211205_2.pth'))\n",
    "model.load_state_dict(torch.load(f'{base_dir}/github_repos/GCaMP_ROI_classifier/new_stuff/models/{model_file_name}.pth'))"
   ]
  },
  {
   "cell_type": "code",
   "execution_count": null,
   "metadata": {},
   "outputs": [],
   "source": [
    "losses_train_npy = np.array(losses_train)\n",
    "losses_val_npy = np.array(losses_val)\n",
    "val_accs_npy = np.array(val_accs)\n",
    "acc_npy = np.array(acc)\n",
    "\n",
    "np.save(f'{base_dir}/github_repos/GCaMP_ROI_classifier/new_stuff/model_performance/{model_file_name}_losses_train.npy', losses_train_npy)\n",
    "np.save(f'{base_dir}/github_repos/GCaMP_ROI_classifier/new_stuff/model_performance/{model_file_name}_losses_val.npy', losses_val_npy)\n",
    "np.save(f'{base_dir}/github_repos/GCaMP_ROI_classifier/new_stuff/model_performance/{model_file_name}_val_accs.npy', val_accs_npy)\n",
    "np.save(f'{base_dir}/github_repos/GCaMP_ROI_classifier/new_stuff/model_performance/{model_file_name}_tr_accs.npy', acc_npy)"
   ]
  },
  {
   "cell_type": "code",
   "execution_count": null,
   "metadata": {},
   "outputs": [],
   "source": []
  },
  {
   "cell_type": "markdown",
   "metadata": {
    "id": "FEqA0gLPl3-6"
   },
   "source": [
    "## Train classifier using classifier layers of model (or do supervised learning)"
   ]
  },
  {
   "cell_type": "raw",
   "metadata": {
    "id": "fmMkNykeVHbn"
   },
   "source": [
    "test_transfer_cm = get_cm(features_test, y_test)\n",
    "np.save(f'/content/drive/MyDrive/00 - ROI/GCaMP_ROI_classifier/new_stuff/npy-figures/TestingCM-{\"Un\" if not balanced else \"\"}Balanced-Transfer—L2Lambda={l2_alpha}.npy',\n",
    "        test_transfer_cm)\n",
    "torch.save(model.state_dict(), f'/content/drive/MyDrive/00 - ROI/GCaMP_ROI_classifier/new_stuff/npy-figures/TestingCM-{\"Un\" if not balanced else \"\"}Balanced-Transfer—L2Lambda={l2_alpha}.pth')\n",
    "\n",
    "np.save(f'/content/drive/MyDrive/00 - ROI/GCaMP_ROI_classifier/new_stuff/npy-figures/TestingCM-{\"Un\" if not balanced else \"\"}Balanced-SKLearn-Solver={solver}—C={C_reg}.npy',\n",
    "        logistic_pred_test)"
   ]
  },
  {
   "cell_type": "raw",
   "metadata": {
    "id": "zo42G3CeWozY"
   },
   "source": [
    "from sklearn.metrics import confusion_matrix\n",
    "\n",
    "def get_cm(pred_cm, y_cm, plot=False):\n",
    "  ### NOTE — RETURNS A MATRIX WITH PREDICTION NUM ASSOCIATED WITH ROW NUM\n",
    "  ### AND COLUMN NUM ASSOCIATED WITH TRUE VALUE. (TRANSPOSE OF SKLEARN OUTPUT.)\n",
    "\n",
    "  cm = confusion_matrix(y_cm, np.argmax(pred_cm, -1))\n",
    "  cm = cm / np.where(cm.sum(1, keepdims=True)==0, np.ones_like(cm.sum(1, keepdims=True)), cm.sum(1, keepdims=True))\n",
    "  \n",
    "  # cm = classification.confusion_matrix(y_hat, y_labeled_val)\n",
    "  # print(cm)\n",
    "  \n",
    "  if plot:\n",
    "    plt.figure()\n",
    "    plt.imshow(cm)\n",
    "    plt.colorbar()\n",
    "    plt.show()\n",
    "  \n",
    "  return cm.T"
   ]
  },
  {
   "cell_type": "raw",
   "metadata": {
    "colab": {
     "base_uri": "https://localhost:8080/"
    },
    "id": "YWk_NgpNd2Ia",
    "outputId": "2959f230-bd91-46cd-e898-d270aade7e54"
   },
   "source": [
    "num_tr_ex = X_val.shape[0]\n",
    "\n",
    "\n",
    "# solver = 'lbfgs'\n",
    "solver = 'liblinear'\n",
    "# solver = 'newton-cg'\n",
    "C_reg = 0.01\n",
    "# C_reg = 0.0001\n",
    "\n",
    "\n",
    "# logreg = LogisticRegression(solver=solver, C=C_reg)\n",
    "# logreg = LogisticRegression(solver=solver, penalty='none', )\n",
    "# logreg = LogisticRegression(solver=solver, penalty='none', max_iter=4000)\n",
    "# logreg = LogisticRegression(solver=solver)\n",
    "logreg = LogisticRegression(solver=solver, C=C_reg)\n",
    "# logreg = LogisticRegression(solver='lbfgs', penalty='none', max_iter=4000)\n",
    "\n",
    "# base_features_train = base_model_frozen(x_feed_through_tr).detach().cpu()\n",
    "base_features_train = cpu_tr.cpu().detach().numpy()\n",
    "logreg.fit(base_features_train, y_train)\n",
    "\n",
    "# base_features_val = base_model_frozen(x_feed_through_val).detach().cpu()\n",
    "base_features_val = cpu_val.cpu().detach().numpy()\n",
    "\n",
    "base_features_te = cpu_te.cpu().detach().numpy()\n",
    "\n",
    "# base_model_frozen.to('cpu')\n",
    "# X_labeled_train.to('cpu')\n",
    "\n",
    "logistic_pred_train = get_cm(logreg.predict_proba(base_features_train), y_train)\n",
    "logistic_pred_val = get_cm(logreg.predict_proba(base_features_val), y_val)\n",
    "logistic_pred_test = get_cm(logreg.predict_proba(base_features_te), y_test)\n",
    "\n",
    "\n",
    "x_feed_through_tr.to(DEVICE)\n",
    "x_feed_through_val.to(DEVICE)\n",
    "x_feed_through_te.to(DEVICE)\n",
    "\n",
    "print(x_feed_through_tr.shape, x_feed_through_val.shape)"
   ]
  },
  {
   "cell_type": "code",
   "execution_count": null,
   "metadata": {
    "id": "WLH9o3jLl4G_"
   },
   "outputs": [],
   "source": []
  },
  {
   "cell_type": "markdown",
   "metadata": {
    "id": "QjNJk6Qwl4O3"
   },
   "source": [
    "Freeze pre-head layers, unfreeze classification layers"
   ]
  },
  {
   "cell_type": "markdown",
   "metadata": {
    "id": "Zq4toNxdl4jb"
   },
   "source": [
    "Define labeled dataset to use"
   ]
  },
  {
   "cell_type": "raw",
   "metadata": {
    "id": "MGvBSux9l4pn"
   },
   "source": [
    "X_labeled_train, X_labeled_val, y_labeled_train, y_labeled_val"
   ]
  },
  {
   "cell_type": "markdown",
   "metadata": {
    "id": "JS_mTd7cl4vI"
   },
   "source": [
    "Train model"
   ]
  },
  {
   "cell_type": "code",
   "execution_count": null,
   "metadata": {},
   "outputs": [],
   "source": [
    "from torch.nn import CrossEntropyLoss\n",
    "from torch.optim import Adam\n",
    "\n",
    "import numpy as np\n",
    "\n",
    "from sklearn.linear_model import LogisticRegression\n",
    "from sklearn.tree import DecisionTreeClassifier\n",
    "from sklearn.ensemble import RandomForestClassifier\n",
    "from sklearn.svm import SVC\n",
    "\n",
    "criterion = [CrossEntropyLoss()]\n",
    "# criterion = CrossEntropyLoss(reduction='none')\n",
    "\n",
    "# optimizer = Adam(model.parameters(), lr=1e-2, weight_decay=0.0)\n",
    "# optimizer = Adam(model.parameters(), lr=2e-2)\n",
    "optimizer = Adam(model.parameters(), lr=10**(-4.5))\n",
    "scheduler = torch.optim.lr_scheduler.ExponentialLR(optimizer,\n",
    "                                                   gamma=1-0.0000,\n",
    "#                                                    gamma=1,\n",
    "                                                  )\n",
    "criterion = [_.to(DEVICE) for _ in criterion]\n",
    "losses_train, losses_val, val_accs, acc = [], [np.nan], [], []"
   ]
  },
  {
   "cell_type": "code",
   "execution_count": null,
   "metadata": {},
   "outputs": [],
   "source": [
    "def transform_null(var):\n",
    "    return(var)"
   ]
  },
  {
   "cell_type": "code",
   "execution_count": null,
   "metadata": {},
   "outputs": [],
   "source": [
    "model.reinit_classifier()\n",
    "model.train()\n",
    "model.prep_classifier()"
   ]
  },
  {
   "cell_type": "code",
   "execution_count": null,
   "metadata": {},
   "outputs": [],
   "source": [
    "dataset_validation = util.dataset_simCLR(\n",
    "                                    torch.as_tensor(masks_cat, device='cpu', dtype=torch.float32), \n",
    "                                    torch.as_tensor(torch.zeros(masks_cat.shape[0]), device='cpu', dtype=torch.float32),\n",
    "\n",
    "                                    n_transforms=1,\n",
    "                                    class_weights=np.array([1]),\n",
    "                                    # class_weights=np.array([1]*4)[np.random.randint(0,4, X_train.shape[0])],\n",
    "                                    transform=scripted_transforms_validation,\n",
    "                                    # DEVICE='cpu',\n",
    "                                    DEVICE='cpu',\n",
    "                                    dtype_X=torch.float32,\n",
    "                                    dtype_y=torch.int64,\n",
    "                                    \n",
    "                                    temp_uncertainty=16\n",
    "                                    )\n",
    "dataloader_validation = torch.utils.data.DataLoader( dataset_validation,\n",
    "#                                                 batch_size=int(pct_batch_size*X_train.shape[0]),\n",
    "                                                batch_size=1024,\n",
    "                                                shuffle=True,\n",
    "                                                drop_last=True,\n",
    "                                                pin_memory=True,\n",
    "                                                num_workers=32,\n",
    "                                                persistent_workers=True,\n",
    "                                                # prefetch_factor=0\n",
    "                                                )"
   ]
  },
  {
   "cell_type": "code",
   "execution_count": null,
   "metadata": {
    "id": "v4WvU5xxl41A"
   },
   "outputs": [],
   "source": [
    "data_unlabeled = torch.as_tensor(masks_cat, dtype=torch.float32, device='cpu')\n",
    "\n",
    "# model.to(DEVICE)\n",
    "\n",
    "l2_alpha = 0.000\n",
    "\n",
    "n_epochs=300000\n",
    "for epoch in range(n_epochs):\n",
    "    print(f'epoch: {epoch}')\n",
    "    loss_rolling_train = training_simCLR.epoch_step(dataloader_validation, \n",
    "                                    model, \n",
    "                                    optimizer, \n",
    "                                    criterion, \n",
    "\n",
    "                                    # penalized_params, l2_alpha,\n",
    "\n",
    "                                    scheduler=scheduler,\n",
    "                                    L2_alpha=0.04,\n",
    "                                    mode='supervised',\n",
    "                                    loss_rolling_train=losses_train, \n",
    "                                    device=DEVICE, \n",
    "                                    loss_rolling_val=losses_val,\n",
    "                                    verbose=2,\n",
    "                                    verbose_update_period=1,\n",
    "                                   \n",
    "#                                     do_validation=False,\n",
    "#                                     X_val=x_feed_through_val,\n",
    "#                                     y_val=torch.as_tensor(y_val, device=DEVICE)\n",
    "                                   )"
   ]
  },
  {
   "cell_type": "markdown",
   "metadata": {
    "id": "HAcpUsTJl46l"
   },
   "source": [
    "Evalculate model"
   ]
  },
  {
   "cell_type": "code",
   "execution_count": null,
   "metadata": {
    "id": "aHaYL5XjaBfP"
   },
   "outputs": [],
   "source": [
    "%matplotlib notebook\n",
    "\n",
    "plt.figure()\n",
    "plt.plot(loss_rolling_train)\n",
    "\n",
    "data_in = torch.as_tensor(X_labeled_val, dtype=torch.float32, device=DEVICE)\n",
    "# data_in = torch.as_tensor(X_labeled_train, dtype=torch.float32, device=DEVICE)\n",
    "data_in = util.tile_channels(data_in[:,None,...], dim=1)\n",
    "proba = torch.nn.functional.softmax(model.forward_classifier(data_in), dim=1)\n",
    "cm = classification.confusion_matrix(proba.detach().cpu().numpy(), y_labeled_val)\n",
    "# cm = classification.confusion_matrix(proba.detach().cpu().numpy(), y_labeled_train)\n",
    "\n",
    "plt.figure()\n",
    "plt.imshow(cm, aspect='auto')\n",
    "plt.colorbar()"
   ]
  },
  {
   "cell_type": "code",
   "execution_count": null,
   "metadata": {
    "id": "aHaYL5XjaBfP"
   },
   "outputs": [],
   "source": [
    "%matplotlib notebook\n",
    "data_in = torch.as_tensor(X_labeled_train, dtype=torch.float32, device=DEVICE)\n",
    "data_in = util.tile_channels(data_in[:,None,...], dim=1)\n",
    "proba = torch.nn.functional.softmax(model.forward_classifier(data_in), dim=1)\n",
    "cm = classification.confusion_matrix(proba.detach().cpu().numpy(), y_labeled_train)\n",
    "\n",
    "plt.figure()\n",
    "plt.imshow(cm)\n",
    "plt.colorbar()"
   ]
  },
  {
   "cell_type": "code",
   "execution_count": null,
   "metadata": {
    "id": "QNlRDjrVaCD-"
   },
   "outputs": [],
   "source": []
  },
  {
   "cell_type": "code",
   "execution_count": null,
   "metadata": {},
   "outputs": [],
   "source": []
  },
  {
   "cell_type": "code",
   "execution_count": null,
   "metadata": {},
   "outputs": [],
   "source": []
  },
  {
   "cell_type": "code",
   "execution_count": null,
   "metadata": {},
   "outputs": [],
   "source": []
  },
  {
   "cell_type": "markdown",
   "metadata": {},
   "source": [
    "## Use sklearn to train classifier"
   ]
  },
  {
   "cell_type": "code",
   "execution_count": null,
   "metadata": {
    "id": "rU8l0eP02TQR"
   },
   "outputs": [],
   "source": [
    "transforms_validation = torch.nn.Sequential(\n",
    "    augmentation.ScaleDynamicRange(scaler_bounds=(0,1)),\n",
    "    torchvision.transforms.Resize(size=(224,224),\n",
    "                                  interpolation=torchvision.transforms.InterpolationMode.BILINEAR), \n",
    "    augmentation.TileChannels(dim=0, n_channels=3),\n",
    "#     augmentation.Normalize(  means=[0.485, 0.456, 0.406],\n",
    "#                              stds=[0.229, 0.224, 0.225]),\n",
    "#     torchvision.transforms.Normalize(mean=[0.485, 0.456, 0.406],\n",
    "#                                      std=[0.229, 0.224, 0.225],\n",
    "#                                      inplace=False),\n",
    ")\n",
    "scripted_transforms_validation = torch.jit.script(transforms_validation)\n",
    "# scripted_transforms = transforms\n"
   ]
  },
  {
   "cell_type": "code",
   "execution_count": null,
   "metadata": {},
   "outputs": [],
   "source": [
    "dataset_labeled_train = util.dataset_simCLR(\n",
    "                                    torch.as_tensor(X_labeled_train, device='cpu', dtype=torch.float32), \n",
    "                                    # torch.as_tensor(X_labeled_train_SYT, device='cpu', dtype=torch.float32), \n",
    "                                    torch.as_tensor(torch.zeros(X_labeled_train.shape[0]), device='cpu', dtype=torch.float32),\n",
    "                                    # torch.as_tensor(torch.zeros(X_labeled_train_SYT.shape[0]), device='cpu', dtype=torch.float32),\n",
    "\n",
    "                                    n_transforms=1,\n",
    "                                    class_weights=np.array([1]),\n",
    "                                    # class_weights=np.array([1]*4)[np.random.randint(0,4, X_train.shape[0])],\n",
    "                                    transform=scripted_transforms_validation,\n",
    "                                    # DEVICE='cpu',\n",
    "                                    DEVICE='cpu',\n",
    "                                    dtype_X=torch.float32,\n",
    "                                    dtype_y=torch.int64,\n",
    "                                    \n",
    "                                    temp_uncertainty=16\n",
    "                                    )\n",
    "dataset_labeled_val = util.dataset_simCLR(\n",
    "                                    torch.as_tensor(X_labeled_val, device='cpu', dtype=torch.float32), \n",
    "                                    # torch.as_tensor(X_labeled_val_SYT, device='cpu', dtype=torch.float32), \n",
    "                                    torch.as_tensor(torch.zeros(X_labeled_val.shape[0]), device='cpu', dtype=torch.float32),\n",
    "                                    # torch.as_tensor(torch.zeros(X_labeled_val_SYT.shape[0]), device='cpu', dtype=torch.float32),\n",
    "\n",
    "                                    n_transforms=1,\n",
    "                                    class_weights=np.array([1]),\n",
    "                                    # class_weights=np.array([1]*4)[np.random.randint(0,4, X_train.shape[0])],\n",
    "                                    transform=scripted_transforms_validation,\n",
    "                                    # DEVICE='cpu',\n",
    "                                    DEVICE='cpu',\n",
    "                                    dtype_X=torch.float32,\n",
    "                                    dtype_y=torch.int64,\n",
    "                                    \n",
    "                                    temp_uncertainty=16\n",
    "                                    )\n",
    "dataloader_labeled_train = torch.utils.data.DataLoader( dataset_labeled_train,\n",
    "    #                                                 batch_size=int(pct_batch_size*X_train.shape[0]),\n",
    "                                                    batch_size=1024,\n",
    "                                                    shuffle=False,\n",
    "                                                    drop_last=False,\n",
    "                                                    pin_memory=True,\n",
    "                                                    num_workers=32,\n",
    "                                                    persistent_workers=True,\n",
    "                                                    # prefetch_factor=0\n",
    "                                                    )\n",
    "dataloader_labeled_val = torch.utils.data.DataLoader( dataset_labeled_val,\n",
    "    #                                                 batch_size=int(pct_batch_size*X_train.shape[0]),\n",
    "                                                    batch_size=1024,\n",
    "                                                    shuffle=False,\n",
    "                                                    drop_last=False,\n",
    "                                                    pin_memory=True,\n",
    "                                                    num_workers=32,\n",
    "                                                    persistent_workers=True,\n",
    "                                                    # prefetch_factor=0\n",
    "                                                    )\n"
   ]
  },
  {
   "cell_type": "code",
   "execution_count": null,
   "metadata": {},
   "outputs": [],
   "source": [
    "DEVICE = torch_helpers.set_device(use_GPU=True)"
   ]
  },
  {
   "cell_type": "code",
   "execution_count": null,
   "metadata": {},
   "outputs": [],
   "source": [
    "model.eval()\n",
    "model.to(DEVICE)\n",
    "features_train = torch.cat([model.get_head(model.base_model(data[0][0].to(DEVICE))).detach().cpu() for data in dataloader_labeled_train], dim=0)\n",
    "features_val   = torch.cat([model.get_head(model.base_model(data[0][0].to(DEVICE))).detach().cpu() for data in dataloader_labeled_val], dim=0)"
   ]
  },
  {
   "cell_type": "markdown",
   "metadata": {},
   "source": [
    "run a sweep of logistic regressions over C (1/L2) parameter"
   ]
  },
  {
   "cell_type": "code",
   "execution_count": null,
   "metadata": {},
   "outputs": [],
   "source": [
    "acc_train, acc_val = [], []\n",
    "# C_toUse = np.array([1000,100,10,1,0.1,0.01,0.001,0.0001,0.00001])\n",
    "C_toUse = np.array([10,1,0.1,0.01,0.001,0.0001,0.00001])\n",
    "for C in C_toUse:\n",
    "#     print(f'C = {C}')\n",
    "    logreg = sklearn.linear_model.LogisticRegression(solver='liblinear', max_iter=800, C=C)\n",
    "#     tic = time.time()\n",
    "    logreg.fit(features_train, y_labeled_train)\n",
    "#     print(f'time: {time.time() - tic}')\n",
    "    acc = logreg.score(features_train, y_labeled_train)\n",
    "    acc_train.append(acc)\n",
    "#     print(f'acc_train: {acc}')\n",
    "    acc = logreg.score(features_val, y_labeled_val)\n",
    "    acc_val.append(acc)\n",
    "#     print(f'acc_val: {acc}')\n",
    "#     print('')\n",
    "    \n",
    "\n",
    "plt.figure()\n",
    "plt.plot(C_toUse, acc_train)\n",
    "plt.plot(C_toUse, acc_val)\n",
    "plt.xscale('log')\n",
    "plt.xlabel('C')\n",
    "plt.ylabel('acc')\n",
    "plt.legend(['train', 'test']);"
   ]
  },
  {
   "cell_type": "code",
   "execution_count": null,
   "metadata": {},
   "outputs": [],
   "source": [
    "# acc_train, acc_val = [], []\n",
    "# # C_toUse = np.array([1000,100,10,1,0.1,0.01,0.001,0.0001,0.00001])\n",
    "# # C_toUse = np.array([10,1,0.1,0.01,0.001,0.0001,0.00001])\n",
    "# C_toUse = np.array([10000])\n",
    "# for C in tqdm(C_toUse):\n",
    "# #     print(f'C = {C}')\n",
    "#     logreg = sklearn.linear_model.LogisticRegression(solver='liblinear', max_iter=800, C=C)\n",
    "# #     tic = time.time()\n",
    "#     logreg.fit(features_train, y_labeled_train_SYT)\n",
    "# #     print(f'time: {time.time() - tic}')\n",
    "#     acc = logreg.score(features_train, y_labeled_train_SYT)\n",
    "#     acc_train.append(acc)\n",
    "# #     print(f'acc_train: {acc}')\n",
    "#     acc = logreg.score(features_val, y_labeled_val_SYT)\n",
    "#     acc_val.append(acc)\n",
    "# #     print(f'acc_val: {acc}')\n",
    "# #     print('')\n",
    "    \n",
    "\n",
    "# plt.figure()\n",
    "# plt.plot(C_toUse, acc_train)\n",
    "# plt.plot(C_toUse, acc_val)\n",
    "# plt.xscale('log')\n",
    "# plt.xlabel('C')\n",
    "# plt.ylabel('acc')\n",
    "# plt.legend(['train', 'test']);"
   ]
  },
  {
   "cell_type": "markdown",
   "metadata": {},
   "source": [
    "run a sinlg logistic regression with desired parameters and check confusion matrix"
   ]
  },
  {
   "cell_type": "code",
   "execution_count": null,
   "metadata": {},
   "outputs": [],
   "source": [
    "logreg = sklearn.linear_model.LogisticRegression(solver='liblinear', max_iter=800, C=10**(-1)).fit(features_train, y_labeled_train)"
   ]
  },
  {
   "cell_type": "code",
   "execution_count": null,
   "metadata": {},
   "outputs": [],
   "source": [
    "%matplotlib inline\n",
    "proba = logreg.predict_proba(features_train)\n",
    "\n",
    "preds = np.argmax(proba, axis=1)\n",
    "cm = classification.confusion_matrix(preds, y_labeled_train)\n",
    "\n",
    "plt.figure()\n",
    "sns.heatmap(cm, annot=True, annot_kws={\"size\": 16}, vmax=1., cmap=plt.get_cmap('gray'))\n",
    "plt.title('train');\n",
    "\n",
    "proba = logreg.predict_proba(features_val)\n",
    "preds = np.argmax(proba, axis=1)\n",
    "cm = classification.confusion_matrix(preds, y_labeled_val)\n",
    "\n",
    "plt.figure()\n",
    "sns.heatmap(cm, annot=True, annot_kws={\"size\": 16}, vmax=1., cmap=plt.get_cmap('gray'))\n",
    "plt.title('val');\n"
   ]
  },
  {
   "cell_type": "code",
   "execution_count": null,
   "metadata": {},
   "outputs": [],
   "source": [
    "# %matplotlib notebook\n",
    "# proba = logreg.predict_proba(features_train)\n",
    "\n",
    "# preds = np.argmax(proba, axis=1)\n",
    "# cm = classification.confusion_matrix(preds, y_labeled_train_SYT)\n",
    "\n",
    "# plt.figure()\n",
    "# sns.heatmap(cm, annot=True, annot_kws={\"size\": 16}, vmax=1., cmap=plt.get_cmap('gray'))\n",
    "# plt.title('train');\n",
    "\n",
    "# proba = logreg.predict_proba(features_val)\n",
    "# preds = np.argmax(proba, axis=1)\n",
    "# cm = classification.confusion_matrix(preds, y_labeled_val_SYT)\n",
    "\n",
    "# plt.figure()\n",
    "# sns.heatmap(cm, annot=True, annot_kws={\"size\": 16}, vmax=1., cmap=plt.get_cmap('gray'))\n",
    "# plt.title('val');\n"
   ]
  },
  {
   "cell_type": "code",
   "execution_count": null,
   "metadata": {},
   "outputs": [],
   "source": []
  },
  {
   "cell_type": "code",
   "execution_count": null,
   "metadata": {},
   "outputs": [],
   "source": []
  },
  {
   "cell_type": "code",
   "execution_count": null,
   "metadata": {},
   "outputs": [],
   "source": []
  },
  {
   "cell_type": "markdown",
   "metadata": {
    "id": "_CchY4kGDB00"
   },
   "source": [
    "## Check embeddings"
   ]
  },
  {
   "cell_type": "code",
   "execution_count": null,
   "metadata": {},
   "outputs": [],
   "source": [
    "model.eval();\n",
    "# model.to(DEVICE);"
   ]
  },
  {
   "cell_type": "code",
   "execution_count": null,
   "metadata": {
    "id": "JcrdLrYtDB00"
   },
   "outputs": [],
   "source": [
    "torch.cuda.empty_cache()"
   ]
  },
  {
   "cell_type": "code",
   "execution_count": null,
   "metadata": {},
   "outputs": [],
   "source": [
    "dataset_unlabeled_noAug = util.dataset_simCLR(\n",
    "                                    torch.as_tensor(masks_cat[:], device='cpu', dtype=torch.float32), \n",
    "                                    torch.as_tensor(torch.zeros(masks_cat[:].shape[0]), device='cpu', dtype=torch.float32),\n",
    "\n",
    "                                    n_transforms=1,\n",
    "                                    class_weights=np.array([1]),\n",
    "                                    # class_weights=np.array([1]*4)[np.random.randint(0,4, X_train.shape[0])],\n",
    "                                    transform=scripted_transforms_validation,\n",
    "                                    # DEVICE='cpu',\n",
    "                                    DEVICE='cpu',\n",
    "                                    dtype_X=torch.float32,\n",
    "                                    dtype_y=torch.int64,\n",
    "                                    \n",
    "                                    temp_uncertainty=16\n",
    "                                    )\n",
    "dataloader_unlabeled_noAug = torch.utils.data.DataLoader( dataset_unlabeled_noAug,\n",
    "#                                                 batch_size=int(pct_batch_size*X_train.shape[0]),\n",
    "                                                batch_size=1024,\n",
    "                                                shuffle=False,\n",
    "                                                drop_last=False,\n",
    "                                                pin_memory=True,\n",
    "                                                num_workers=32,\n",
    "                                                persistent_workers=True,\n",
    "                                                # prefetch_factor=0\n",
    "                                                )"
   ]
  },
  {
   "cell_type": "code",
   "execution_count": null,
   "metadata": {},
   "outputs": [],
   "source": [
    "dataset_unlabeled_noAug = util.dataset_simCLR(\n",
    "                                    torch.as_tensor(masks_SYT[:], device='cpu', dtype=torch.float32), \n",
    "                                    torch.as_tensor(torch.zeros(masks_SYT[:].shape[0]), device='cpu', dtype=torch.float32),\n",
    "\n",
    "                                    n_transforms=1,\n",
    "                                    class_weights=np.array([1]),\n",
    "                                    # class_weights=np.array([1]*4)[np.random.randint(0,4, X_train.shape[0])],\n",
    "                                    transform=scripted_transforms_validation,\n",
    "                                    # DEVICE='cpu',\n",
    "                                    DEVICE='cpu',\n",
    "                                    dtype_X=torch.float32,\n",
    "                                    dtype_y=torch.int64,\n",
    "                                    \n",
    "                                    temp_uncertainty=16\n",
    "                                    )\n",
    "dataloader_unlabeled_noAug = torch.utils.data.DataLoader( dataset_unlabeled_noAug,\n",
    "#                                                 batch_size=int(pct_batch_size*X_train.shape[0]),\n",
    "                                                batch_size=1024,\n",
    "                                                shuffle=False,\n",
    "                                                drop_last=False,\n",
    "                                                pin_memory=True,\n",
    "                                                num_workers=32,\n",
    "                                                persistent_workers=True,\n",
    "                                                # prefetch_factor=0\n",
    "                                                )"
   ]
  },
  {
   "cell_type": "code",
   "execution_count": null,
   "metadata": {},
   "outputs": [],
   "source": [
    "# optional: run unlabeled data through model\n",
    "features_train = torch.cat([model.get_head(model.base_model(data[0][0].to(DEVICE))).detach().cpu() for data in dataloader_unlabeled_noAug], dim=0)"
   ]
  },
  {
   "cell_type": "code",
   "execution_count": null,
   "metadata": {
    "id": "HPyKFRdq28d3"
   },
   "outputs": [],
   "source": [
    "### REMOVE\n",
    "\n",
    "DEVICE='cuda'\n",
    "# DEVICE='cpu'"
   ]
  },
  {
   "cell_type": "code",
   "execution_count": null,
   "metadata": {
    "id": "7fpQXf0o28d3"
   },
   "outputs": [],
   "source": [
    "# model.to(DEVICE);"
   ]
  },
  {
   "cell_type": "code",
   "execution_count": null,
   "metadata": {
    "id": "7gwucuZXDB00"
   },
   "outputs": [],
   "source": [
    "_, features_embedded, _, evr = decomposition.torch_pca(features_train, device=DEVICE, return_cpu=True)"
   ]
  },
  {
   "cell_type": "code",
   "execution_count": null,
   "metadata": {},
   "outputs": [],
   "source": [
    "tsne = cuml.TSNE( n_components=2,\n",
    "                  perplexity=50.0,\n",
    "                  early_exaggeration=12.0,\n",
    "#                   late_exaggeration=1.0,\n",
    "                  learning_rate=200.0,\n",
    "                  n_iter=1000,\n",
    "                  n_iter_without_progress=300,\n",
    "                  min_grad_norm=1e-07,\n",
    "                  metric='euclidean',\n",
    "                  init='random',\n",
    "                  verbose=False,\n",
    "#                   random_state=None,\n",
    "#                   method='barnes_hut',\n",
    "#                   angle=0.5,\n",
    "#                   learning_rate_method='adaptive',\n",
    "# #                   n_neighbors=90,\n",
    "#                   perplexity_max_iter=100,\n",
    "#                   exaggeration_iter=250,\n",
    "#                   pre_momentum=0.5,\n",
    "#                   post_momentum=0.8,\n",
    "# #                   square_distances=True,\n",
    "#                   handle=None,\n",
    "#                   output_type=None\n",
    "                )\n",
    "features_embedded = tsne.fit_transform(features_train.to(DEVICE)).get()"
   ]
  },
  {
   "cell_type": "code",
   "execution_count": null,
   "metadata": {},
   "outputs": [],
   "source": [
    "umap = cuml.UMAP(n_neighbors=100,\n",
    "                n_components=2,\n",
    "                n_epochs=None,\n",
    "                learning_rate=1.0,\n",
    "                min_dist=0.1,\n",
    "                spread=1.0,\n",
    "                set_op_mix_ratio=1.0, \n",
    "                local_connectivity=1.0,\n",
    "                repulsion_strength=1.0, \n",
    "                negative_sample_rate=5, \n",
    "                transform_queue_size=4.0, \n",
    "                init='spectral', \n",
    "                verbose=False,\n",
    "                a=None, \n",
    "                b=None, \n",
    "                target_n_neighbors=- 1, \n",
    "#                 target_weight=0.5, \n",
    "                target_metric='categorical', \n",
    "                handle=None,                \n",
    "                hash_input=False, \n",
    "                random_state=None, \n",
    "                callback=None, \n",
    "                output_type=None\n",
    "                )\n",
    "features_embedded = umap.fit_transform(features_train.to(DEVICE)).get()"
   ]
  },
  {
   "cell_type": "raw",
   "metadata": {},
   "source": [
    "torch_helpers.delete_all_cuda_tensors(globals())"
   ]
  },
  {
   "cell_type": "raw",
   "metadata": {},
   "source": [
    "torch.cuda.empty_cache()\n",
    "gc.collect()\n",
    "torch.cuda.empty_cache()\n",
    "gc.collect()\n",
    "torch.cuda.empty_cache()\n",
    "gc.collect()\n",
    "torch.cuda.empty_cache()\n",
    "gc.collect()"
   ]
  },
  {
   "cell_type": "raw",
   "metadata": {},
   "source": [
    "torch_helpers.tensor_sizeOnDisk(features_train)"
   ]
  },
  {
   "cell_type": "raw",
   "metadata": {
    "id": "2imvF8ZoDB00"
   },
   "source": [
    "from sklearn import manifold\n",
    "\n",
    "tsne = manifold.TSNE(n_components=2, \n",
    "                     perplexity=120.0, \n",
    "                     early_exaggeration=12.0, \n",
    "                     learning_rate=200, \n",
    "                     n_iter=1000, \n",
    "                     n_iter_without_progress=300, \n",
    "                     min_grad_norm=1e-07, \n",
    "                     metric='euclidean', \n",
    "                     init='pca', \n",
    "                     verbose=0, \n",
    "                     random_state=None, \n",
    "                     method='barnes_hut', \n",
    "                     angle=0.5, \n",
    "                     n_jobs=-1, \n",
    "#                      square_distances='legacy'\n",
    "                    )\n",
    "features_embedded = tsne.fit_transform(features_train.cpu())\n",
    "# features_embedded = tsne.fit_transform(features_embedded[:,:5].cpu())"
   ]
  },
  {
   "cell_type": "code",
   "execution_count": null,
   "metadata": {
    "id": "sgxJ8VXwDB00"
   },
   "outputs": [],
   "source": [
    "import matplotlib as mpl\n",
    "\n",
    "# mpl.rcParams['image.cmap'] = 'Set1'\n",
    "%matplotlib notebook\n",
    "plt.figure()\n",
    "plt.scatter(features_embedded[:,0], features_embedded[:,1], s=10, c=labels_SYT, cmap=plt.get_cmap('tab10'))\n",
    "# plt.scatter(features_embedded[:,0], features_embedded[:,1], s=0.001)\n",
    "# plt.scatter(features_embedded[:,0], features_embedded[:,1], c=labels[labels!=3])\n",
    "# plt.scatter(features_embedded[:,0], features_embedded[:,1], c=y_val)\n",
    "# plt.scatter(features_embedded[:,4], features_embedded[:,5], c=y_train)\n",
    "# plt.scatter(features_embedded[:,11], features[:,43].cpu(), c=y_train)\n"
   ]
  },
  {
   "cell_type": "code",
   "execution_count": null,
   "metadata": {
    "id": "sgxJ8VXwDB00"
   },
   "outputs": [],
   "source": []
  },
  {
   "cell_type": "code",
   "execution_count": null,
   "metadata": {
    "id": "sgxJ8VXwDB00"
   },
   "outputs": [],
   "source": [
    "import matplotlib as mpl\n",
    "\n",
    "# mpl.rcParams['image.cmap'] = 'Set1'\n",
    "%matplotlib notebook\n",
    "plt.figure()\n",
    "# plt.scatter(features_embedded[:,0], features_embedded[:,1], s=30, c=y_labeled_train, cmap=plt.get_cmap('tab10'))\n",
    "plt.scatter(features_embedded[:,0], features_embedded[:,1], s=0.2)\n",
    "# plt.scatter(features_embedded[:,0], features_embedded[:,1], c=labels[labels!=3])\n",
    "# plt.scatter(features_embedded[:,0], features_embedded[:,1], c=y_val)\n",
    "# plt.scatter(features_embedded[:,4], features_embedded[:,5], c=y_train)\n",
    "# plt.scatter(features_embedded[:,11], features[:,43].cpu(), c=y_train)\n"
   ]
  },
  {
   "cell_type": "code",
   "execution_count": null,
   "metadata": {
    "id": "UwFf2BsVDB00"
   },
   "outputs": [],
   "source": [
    "plt.figure()\n",
    "plt.imshow(features_train.cpu().detach(), aspect='auto', interpolation='antialiased')"
   ]
  },
  {
   "cell_type": "code",
   "execution_count": null,
   "metadata": {
    "id": "SARf-u1K28d4"
   },
   "outputs": [],
   "source": [
    "plt.figure()\n",
    "plt.plot(evr)\n",
    "# plt.yscale('log')"
   ]
  },
  {
   "cell_type": "code",
   "execution_count": null,
   "metadata": {
    "id": "SARf-u1K28d4"
   },
   "outputs": [],
   "source": [
    "plt.figure()\n",
    "plt.plot(evr)\n",
    "# plt.yscale('log')"
   ]
  },
  {
   "cell_type": "code",
   "execution_count": null,
   "metadata": {
    "id": "SARf-u1K28d4"
   },
   "outputs": [],
   "source": [
    "plt.figure()\n",
    "plt.plot(evr)\n",
    "# plt.yscale('log')"
   ]
  },
  {
   "cell_type": "code",
   "execution_count": null,
   "metadata": {
    "id": "SARf-u1K28d4"
   },
   "outputs": [],
   "source": [
    "plt.figure()\n",
    "plt.plot(evr)\n",
    "# plt.yscale('log')"
   ]
  },
  {
   "cell_type": "markdown",
   "metadata": {
    "id": "RiHXPapkDB00"
   },
   "source": [
    "## Check filters"
   ]
  },
  {
   "cell_type": "code",
   "execution_count": null,
   "metadata": {
    "id": "2aBVd9FTDB00"
   },
   "outputs": [],
   "source": [
    "list(model.state_dict().keys())"
   ]
  },
  {
   "cell_type": "code",
   "execution_count": null,
   "metadata": {
    "id": "dK_-Xu9EDB01"
   },
   "outputs": [],
   "source": [
    "layer_1 = model.state_dict()['base_model.0.weight'].cpu()\n",
    "layer_2 = model.state_dict()['base_model.4.0.conv1.weight'].cpu()\n",
    "layer_3 = model.state_dict()['base_model.7.0.conv1.weight'].cpu()\n",
    "layer_4 = model.state_dict()['base_model.7.1.conv2.weight'].cpu()\n",
    "\n",
    "plt.figure()\n",
    "for ii in range(layer_1.shape[1]):\n",
    "    for jj in range(layer_1.shape[0]):\n",
    "        plt.subplot2grid((layer_1.shape[1],layer_1.shape[0]),(ii,jj))\n",
    "        fig = plt.imshow(layer_1[jj,ii,:,:] , clim=(-0.2,0.2))\n",
    "        fig.axes.get_xaxis().set_visible(False)\n",
    "        fig.axes.get_yaxis().set_visible(False)\n",
    "\n",
    "plt.figure()\n",
    "for ii in range(16):\n",
    "    for jj in range(16):\n",
    "        plt.subplot2grid((16,16),(ii,jj))\n",
    "        fig = plt.imshow(layer_2[jj,ii,:,:], clim=(-.05,.05))\n",
    "        fig.axes.get_xaxis().set_visible(False)\n",
    "        fig.axes.get_yaxis().set_visible(False)\n",
    "\n",
    "plt.figure()\n",
    "for ii in range(16):\n",
    "    for jj in range(16):\n",
    "        plt.subplot2grid((16,16),(ii,jj))\n",
    "        fig = plt.imshow(layer_3[jj, ii,:,:], clim=(-.1,.1))\n",
    "        fig.axes.get_xaxis().set_visible(False)\n",
    "        fig.axes.get_yaxis().set_visible(False)\n",
    "        \n",
    "plt.figure()\n",
    "for ii in range(16):\n",
    "    for jj in range(16):\n",
    "        plt.subplot2grid((16,16),(ii,jj))\n",
    "        fig = plt.imshow(layer_4[jj, ii,:,:], clim=(-.1,.1))\n",
    "        fig.axes.get_xaxis().set_visible(False)\n",
    "        fig.axes.get_yaxis().set_visible(False)"
   ]
  },
  {
   "cell_type": "code",
   "execution_count": null,
   "metadata": {
    "id": "FGiz2fHFDB01"
   },
   "outputs": [],
   "source": []
  },
  {
   "cell_type": "code",
   "execution_count": null,
   "metadata": {
    "id": "mwJQBUhpDB01"
   },
   "outputs": [],
   "source": [
    "# torch.save(model.state_dict(), '/media/rich/bigSSD/Net_trainedOnAug_20211025_trainingSet_mouse628_20200903and20200815_simCLR.pth')"
   ]
  },
  {
   "cell_type": "code",
   "execution_count": null,
   "metadata": {
    "id": "1grXld0IDB01"
   },
   "outputs": [],
   "source": [
    "# model = Net()\n",
    "# model.load_state_dict(torch.load('test_save.pth'))\n",
    "# model.eval()"
   ]
  },
  {
   "cell_type": "code",
   "execution_count": null,
   "metadata": {
    "id": "quqNFL1jDB01"
   },
   "outputs": [],
   "source": []
  },
  {
   "cell_type": "code",
   "execution_count": null,
   "metadata": {},
   "outputs": [],
   "source": []
  },
  {
   "cell_type": "code",
   "execution_count": null,
   "metadata": {},
   "outputs": [],
   "source": []
  },
  {
   "cell_type": "code",
   "execution_count": null,
   "metadata": {},
   "outputs": [],
   "source": []
  },
  {
   "cell_type": "markdown",
   "metadata": {},
   "source": [
    "# Graveyard"
   ]
  },
  {
   "cell_type": "code",
   "execution_count": null,
   "metadata": {
    "colab": {
     "base_uri": "https://localhost:8080/"
    },
    "id": "rvDiVxDICXEn",
    "outputId": "2c29e3cf-4515-4aae-f0b1-22e30d51fa5f"
   },
   "outputs": [
    {
     "name": "stderr",
     "output_type": "stream",
     "text": [
      "Exception in thread Thread-9:\n",
      "Traceback (most recent call last):\n",
      "  File \"/home/joz608/.conda/envs/jupyter_launcher/lib/python3.8/threading.py\", line 932, in _bootstrap_inner\n",
      "    self.run()\n",
      "  File \"/home/joz608/.conda/envs/jupyter_launcher/lib/python3.8/threading.py\", line 870, in run\n",
      "    self._target(*self._args, **self._kwargs)\n",
      "  File \"/home/joz608/.conda/envs/jupyter_launcher/lib/python3.8/site-packages/torch/utils/data/_utils/pin_memory.py\", line 28, in _pin_memory_loop\n",
      "    r = in_queue.get(timeout=MP_STATUS_CHECK_INTERVAL)\n",
      "  File \"/home/joz608/.conda/envs/jupyter_launcher/lib/python3.8/multiprocessing/queues.py\", line 116, in get\n",
      "    return _ForkingPickler.loads(res)\n",
      "  File \"/home/joz608/.conda/envs/jupyter_launcher/lib/python3.8/site-packages/torch/multiprocessing/reductions.py\", line 289, in rebuild_storage_fd\n",
      "    fd = df.detach()\n",
      "  File \"/home/joz608/.conda/envs/jupyter_launcher/lib/python3.8/multiprocessing/resource_sharer.py\", line 57, in detach\n",
      "    with _resource_sharer.get_connection(self._id) as conn:\n",
      "  File \"/home/joz608/.conda/envs/jupyter_launcher/lib/python3.8/multiprocessing/resource_sharer.py\", line 87, in get_connection\n",
      "    c = Client(address, authkey=process.current_process().authkey)\n",
      "  File \"/home/joz608/.conda/envs/jupyter_launcher/lib/python3.8/multiprocessing/connection.py\", line 508, in Client\n",
      "    answer_challenge(c, authkey)\n",
      "  File \"/home/joz608/.conda/envs/jupyter_launcher/lib/python3.8/multiprocessing/connection.py\", line 752, in answer_challenge\n",
      "    message = connection.recv_bytes(256)         # reject large message\n",
      "  File \"/home/joz608/.conda/envs/jupyter_launcher/lib/python3.8/multiprocessing/connection.py\", line 216, in recv_bytes\n",
      "    buf = self._recv_bytes(maxlength)\n",
      "  File \"/home/joz608/.conda/envs/jupyter_launcher/lib/python3.8/multiprocessing/connection.py\", line 414, in _recv_bytes\n",
      "    buf = self._recv(4)\n",
      "  File \"/home/joz608/.conda/envs/jupyter_launcher/lib/python3.8/multiprocessing/connection.py\", line 379, in _recv\n",
      "    chunk = read(handle, remaining)\n",
      "ConnectionResetError: [Errno 104] Connection reset by peer\n"
     ]
    }
   ],
   "source": [
    "data_unlabeled = torch.as_tensor(masks_cat, dtype=torch.float32, device='cpu')\n",
    "\n",
    "model.to(DEVICE)\n",
    "\n",
    "# penalized_params = list(model.modules())[-1].parameters()\n",
    "# penalized_params = torch.cat([_.view(-1) for _ in penalized_params], -1)\n",
    "\n",
    "early_stopping = 50\n",
    "prv_best_val = np.inf\n",
    "early_stopping_cnt = 0\n",
    "\n",
    "l2_alpha = 0.1\n",
    "\n",
    "n_epochs=300000\n",
    "for epoch in range(n_epochs):\n",
    "    print(f'epoch: {epoch}')\n",
    "#     loss_rolling_train, loss_rolling_val = training_supervised.epoch_step(dataloader_train, \n",
    "#                                     model, \n",
    "#                                     optimizer, \n",
    "#                                     criterion, \n",
    "\n",
    "#                                     penalized_params, l2_alpha,\n",
    "\n",
    "#                                     scheduler=scheduler,\n",
    "#                                     loss_rolling_train=losses_train, \n",
    "#                                     device=DEVICE, \n",
    "#                                     loss_rolling_val=losses_val,\n",
    "#                                     verbose=2,\n",
    "#                                     verbose_update_period=100,\n",
    "                                   \n",
    "#                                     do_validation=True,\n",
    "#                                     X_val=x_feed_through_val,\n",
    "#                                     y_val=torch.as_tensor(y_val, device=DEVICE)\n",
    "#                                    )\n",
    "    \n",
    "    loss_rolling_train, loss_rolling_val = training_simCLR.epoch_step(dataloader_train, \n",
    "                                    model, \n",
    "                                    optimizer, \n",
    "                                    criterion, \n",
    "\n",
    "                                    # penalized_params, l2_alpha,\n",
    "\n",
    "                                    scheduler=scheduler,\n",
    "                                    loss_rolling_train=losses_train, \n",
    "                                    device=DEVICE, \n",
    "                                    loss_rolling_val=losses_val,\n",
    "                                    verbose=2,\n",
    "                                    verbose_update_period=100,\n",
    "                                   \n",
    "                                    do_validation=True,\n",
    "                                    X_val=x_feed_through_val,\n",
    "                                    y_val=torch.as_tensor(y_val, device=DEVICE)\n",
    "                                   )\n",
    "    \n",
    "    \n",
    "    if early_stopping:\n",
    "      if len(loss_rolling_val) > 0:\n",
    "        if loss_rolling_val[-1] < prv_best_val:\n",
    "          early_stopping_cnt = 0\n",
    "          prv_best_val = loss_rolling_val[-1]\n",
    "          torch.save(model.state_dict(), f'{base_dir}/github_repos/GCaMP_ROI_classifier/new_stuff/models/checkpoints/checkpoint.pth')\n",
    "        else:\n",
    "          early_stopping_cnt += 1\n",
    "    \n",
    "      if early_stopping_cnt >= early_stopping:\n",
    "        model.load_state_dict(torch.load(f'{base_dir}/github_repos/GCaMP_ROI_classifier/new_stuff/models/checkpoints/checkpoint.pth'))\n",
    "        break\n",
    "    \n",
    "    # torch_helpers.show_all_tensors(globals())\n",
    "    \n",
    "    features_train = model(x_feed_through_tr)\n",
    "    features_train = features_train.cpu().detach().numpy()\n",
    "    features_val = model(x_feed_through_val)\n",
    "    features_val = features_val.cpu().detach().numpy()\n",
    "    # y_hat = scipy.special.softmax(features_val, axis=-1) # logreg.predict_proba(features_val)\n",
    "    \n",
    "    print('Training Confusion Matrix')\n",
    "    print(get_cm(features_train, y_train))\n",
    "    print()\n",
    "    print(logistic_pred_train)\n",
    "\n",
    "    print()\n",
    "    print()\n",
    "\n",
    "    print('Val Confusion Matrix')\n",
    "    print(get_cm(features_val, y_val))\n",
    "    print()\n",
    "    print(logistic_pred_val)\n",
    "\n",
    "    # model.to(DEVICE)\n",
    "    print()\n",
    "    print()\n"
   ]
  },
  {
   "cell_type": "raw",
   "metadata": {
    "id": "E5EeUhzUDB0v"
   },
   "source": [
    "%matplotlib notebook\n",
    "\n",
    "logreg = LogisticRegression(solver='liblinear', max_iter=30)\n",
    "# logreg_predict_head = LogisticRegression(solver='liblinear')\n",
    "dataset_train.classification_model = None\n",
    "\n",
    "\n",
    "\n",
    "# scheduler = torch.optim.lr_scheduler.ExponentialLR(optimizer,\n",
    "#                                                    gamma=1-0.001,\n",
    "# #                                                    gamma=1,\n",
    "#                                                   )\n",
    "n_epochs=300000\n",
    "for epoch in range(n_epochs):\n",
    "    print(f'epoch: {epoch}')\n",
    "\n",
    "    model.prep_contrast()\n",
    "    training_simCLR.epoch_step( dataloader_train, \n",
    "                                model, \n",
    "                                optimizer, \n",
    "                                criterion,\n",
    "                                scheduler=scheduler, \n",
    "                                temperature=0.5,\n",
    "                                loss_rolling_train=losses_train, \n",
    "                                device=DEVICE, \n",
    "                                do_validation=False,\n",
    "#                                 validation_Object=val_obj,\n",
    "                                loss_rolling_val=losses_val,\n",
    "                                verbose=2,\n",
    "                                verbose_update_period=100,\n",
    "                               )\n",
    "    \n",
    "\n",
    "    model.prep_classifier()\n",
    "\n",
    "    # print(util.tile_channels(torch.as_tensor(X_labeled_train[:,None,...], device=DEVICE, dtype=torch.float32), dim=1).shape)\n",
    "\n",
    "    features_train = model.get_head(model.base_model(util.tile_channels(torch.as_tensor(X_labeled_train[:,None,...], device=DEVICE, dtype=torch.float32), dim=1))).detach().cpu()\n",
    "    # features_train = model(util.tile_channels(torch.as_tensor(X_labeled_train[:,None,...], device=DEVICE, dtype=torch.float32), dim=1)).detach().cpu()\n",
    "    # features_train = model(torch.as_tensor(X_labeled_train, device=DEVICE, dtype=torch.float32)[:,None,...]).detach().cpu()\n",
    "    # features = model(torch.tensor(X_train[y_train != 3], device=DEVICE, dtype=torch.float32)[:,None,...]).detach().cpu()\n",
    "    \n",
    "    tic = time.time()\n",
    "    logreg.fit(features_train, y_labeled_train)\n",
    "    print(time.time() - tic)\n",
    "    acc.append(logreg.score(features_train, y_labeled_train))\n",
    "    print(f'acc: {acc[-1]}')\n",
    "    \n",
    "    dataset_train.net_model = copy.deepcopy(model).to('cpu')\n",
    "    dataset_train.classification_model = logreg\n",
    "    \n",
    "\n",
    "#     sample_id_num = np.arange(X_labeled_val.shape[0])\n",
    "#     epoch_val = epoch\n",
    "#     batch_val = -1\n",
    "#     p_tmp = logreg.predict_proba(model(torch.as_tensor(util.tile_channels(X_labeled_val), device=DEVICE, dtype=torch.float32)).detach().cpu())\n",
    "#     logits = p_tmp\n",
    "#     # logits = np.log(1/(1/p_tmp - 1))\n",
    "\n",
    "#     col_vals = [sample_id_num, epoch_val, batch_val, y_labeled_val]\n",
    "#     setup = np.empty((len(sample_id_num), len(col_vals)))\n",
    "#     for icv, col_val in enumerate(col_vals):\n",
    "#       setup[:, icv] = col_val\n",
    "#     tmp_tracking_np = np.concatenate([setup, logits], axis=1)\n",
    "\n",
    "#     tmp_tracking_df = pd.DataFrame(tmp_tracking_np, index=sample_id_num, columns=tracking_df_cols + [f'logits_{i}' for i in range(logits.shape[1])])\n",
    "#     tracking_df = tracking_df.append(tmp_tracking_df, ignore_index=True)\n",
    "#     display(tracking_df)\n",
    "\n",
    "\n",
    "    \n",
    "    features_val = model.get_head(model.base_model(util.tile_channels(torch.as_tensor(X_labeled_val[:,None,...], device=DEVICE, dtype=torch.float32), dim=1))).detach().cpu()\n",
    "\n",
    "\n",
    "    # logreg_predict_head.fit(features_train, y_labeled_train)\n",
    "    # y_hat = logreg_predict_head.predict_proba(features_val)\n",
    "\n",
    "    y_hat = logreg.predict_proba(features_val)\n",
    "    \n",
    "    cm = classification.confusion_matrix(y_hat, y_labeled_val)\n",
    "#     plt.figure()\n",
    "#     plt.imshow(cm)\n",
    "#     plt.colorbar()\n",
    "#     plt.show()\n",
    "    print(cm)\n",
    "\n",
    "\n",
    "    # tracking_df = tracking_df.append(pd.DataFrame([np.array([100, 0, 0, 0])], index=tracking_df_cols), ignore_index=True)\n",
    "    \n",
    "    # model predict\n",
    "    # Update model in DS\n",
    "    # get item calls model for each sample\n",
    "    # output\n",
    "    # X sample weights predictions\n",
    "    \n",
    "#     classHead.fit(X_train[:, None, :, :], y_train, solver='liblinear')\n",
    "    \n",
    "#     proba = classHead.predict_proba(X_train[:, None, :, :])\n",
    "#     class_weights = proba.sum(axis=0)\n",
    "#     total_num = class_weights.sum()\n",
    "    \n",
    "#     eps = 1e-4\n",
    "    \n",
    "#     class_weights[class_weights <= 3] = total_num\n",
    "#     weightings = class_weights.sum()/class_weights\n",
    "#     final_weights = weightings / weightings.sum()\n",
    "#     final_weights = np.array([1/proba.shape[1] for _ in range(proba.shape[1])])\n",
    "    \n",
    "#     print(class_weights)\n",
    "\n",
    "#     dataset_train.set_classweights(final_weights)\n",
    "    \n",
    "#     print('dataset_train.final_weights', dataset_train.class_weights)\n"
   ]
  }
 ],
 "metadata": {
  "accelerator": "GPU",
  "colab": {
   "collapsed_sections": [],
   "machine_shape": "hm",
   "name": "ROIClassifier_TRAIN_20211201_JZ_supervised-comparison5.ipynb",
   "provenance": []
  },
  "kernelspec": {
   "display_name": "Python 3",
   "language": "python",
   "name": "python3"
  },
  "language_info": {
   "codemirror_mode": {
    "name": "ipython",
    "version": 3
   },
   "file_extension": ".py",
   "mimetype": "text/x-python",
   "name": "python",
   "nbconvert_exporter": "python",
   "pygments_lexer": "ipython3",
   "version": "3.8.12"
  },
  "varInspector": {
   "cols": {
    "lenName": 16,
    "lenType": 16,
    "lenVar": 40
   },
   "kernels_config": {
    "python": {
     "delete_cmd_postfix": "",
     "delete_cmd_prefix": "del ",
     "library": "var_list.py",
     "varRefreshCmd": "print(var_dic_list())"
    },
    "r": {
     "delete_cmd_postfix": ") ",
     "delete_cmd_prefix": "rm(",
     "library": "var_list.r",
     "varRefreshCmd": "cat(var_dic_list()) "
    }
   },
   "position": {
    "height": "943px",
    "left": "1381px",
    "right": "20px",
    "top": "106px",
    "width": "501px"
   },
   "types_to_exclude": [
    "module",
    "function",
    "builtin_function_or_method",
    "instance",
    "_Feature"
   ],
   "window_display": true
  }
 },
 "nbformat": 4,
 "nbformat_minor": 4
}
