{
 "cells": [
  {
   "cell_type": "code",
   "execution_count": 1,
   "metadata": {
    "colab": {
     "base_uri": "https://localhost:8080/",
     "height": 17
    },
    "id": "S3q3I42jDB0f",
    "outputId": "3ad88a07-0e8b-474f-b0d8-9fb6c2a99f0c"
   },
   "outputs": [
    {
     "data": {
      "text/html": [
       "<style>.container { width:95% !important; }</style>"
      ],
      "text/plain": [
       "<IPython.core.display.HTML object>"
      ]
     },
     "metadata": {},
     "output_type": "display_data"
    }
   ],
   "source": [
    "from IPython.core.display import display, HTML\n",
    "display(HTML(\"<style>.container { width:95% !important; }</style>\"))"
   ]
  },
  {
   "cell_type": "raw",
   "metadata": {
    "id": "PUUWS0VmwD7-"
   },
   "source": [
    "# !source activate jupyter_launcher\n",
    "!pip3 install numba\n",
    "!pip3 install matplotlib\n",
    "!pip3 install scipy\n",
    "!pip3 install torch\n",
    "!pip3 install torchvision\n",
    "!pip3 install sklearn\n",
    "!pip3 install pycuda\n",
    "!pip3 install tqdm\n",
    "!pip3 install seaborn\n",
    "!pip3 install h5py\n",
    "!pip3 install hdfdict\n",
    "!pip3 install ipywidgets\n",
    "!pip3 install numpy==1.20"
   ]
  },
  {
   "cell_type": "code",
   "execution_count": 2,
   "metadata": {},
   "outputs": [
    {
     "data": {
      "text/plain": [
       "'/home/joz608/.conda/envs/jupyter_launcher/bin/python3.8'"
      ]
     },
     "execution_count": 2,
     "metadata": {},
     "output_type": "execute_result"
    }
   ],
   "source": [
    "import sys\n",
    "sys.executable"
   ]
  },
  {
   "cell_type": "code",
   "execution_count": null,
   "metadata": {},
   "outputs": [],
   "source": []
  },
  {
   "cell_type": "code",
   "execution_count": null,
   "metadata": {},
   "outputs": [],
   "source": []
  },
  {
   "cell_type": "code",
   "execution_count": 3,
   "metadata": {
    "id": "eTIgCGQsDB0i"
   },
   "outputs": [],
   "source": [
    "import sys\n",
    "import os\n",
    "import copy\n",
    "import pathlib\n",
    "import time\n",
    "import gc\n",
    "\n",
    "from tqdm import tqdm, trange\n",
    "# from tqdm import trange\n",
    "\n",
    "import numpy as np\n",
    "import matplotlib.pyplot as plt\n",
    "import seaborn as sns\n",
    "import scipy\n",
    "\n",
    "import torch\n",
    "import torchvision\n",
    "import torchvision.transforms as transforms\n",
    "\n",
    "# import cuml\n",
    "\n",
    "# for creating validation set\n",
    "import sklearn\n",
    "from sklearn.model_selection import train_test_split\n",
    "\n",
    "%matplotlib inline\n",
    "%matplotlib inline\n",
    "# %matplotlib inline\n",
    "# %matplotlib qt"
   ]
  },
  {
   "cell_type": "code",
   "execution_count": null,
   "metadata": {
    "id": "GExNkvATEBtG"
   },
   "outputs": [],
   "source": []
  },
  {
   "cell_type": "code",
   "execution_count": 4,
   "metadata": {
    "id": "MZ9Hq6SVvves"
   },
   "outputs": [],
   "source": [
    "base_dir = '/n/data1/hms/neurobio/sabatini/josh'"
   ]
  },
  {
   "cell_type": "code",
   "execution_count": 5,
   "metadata": {
    "id": "9w3t_mtdDB0j"
   },
   "outputs": [],
   "source": [
    "import sys\n",
    "\n",
    "sys.path.append(f'{base_dir}/github_repos')\n",
    "# sys.path.append(f'/media/rich/Home_Linux_partition/github_repos')\n",
    "dir_folders = f'{base_dir}/label_data'\n",
    "\n",
    "\n",
    "%load_ext autoreload\n",
    "%autoreload 2\n",
    "from basic_neural_processing_modules import torch_helpers, math_functions, classification, h5_handling, plotting_helpers, indexing, misc #, decomposition\n",
    "from GCaMP_ROI_classifier.new_stuff import util, models, training_simCLR, augmentation, training_classHead, training_supervised"
   ]
  },
  {
   "cell_type": "markdown",
   "metadata": {
    "id": "hTqZzmpJDB0j"
   },
   "source": [
    "## Import unlabeled training data"
   ]
  },
  {
   "cell_type": "code",
   "execution_count": 6,
   "metadata": {},
   "outputs": [],
   "source": [
    "# data_unlabeled = h5_handling.simple_load(path=r'/media/rich/bigSSD/for_Josh/GCAMP_ROI_Classifier_data/masks_20211202_balanced.h5')\n",
    "data_unlabeled = h5_handling.simple_load(path=f'{base_dir}/label_data/masks_20211202_balanced.h5')\n",
    "\n",
    "masks_cat_raw = torch.as_tensor(np.concatenate((data_unlabeled['SYTmasks'], data_unlabeled['NPmasks'], data_unlabeled['RHmasks']), axis=0), dtype=torch.float32, device='cpu')"
   ]
  },
  {
   "cell_type": "code",
   "execution_count": 7,
   "metadata": {},
   "outputs": [],
   "source": [
    "# data_labeled = h5_handling.simple_load(path=r'/media/rich/bigSSD/for_Josh/GCAMP_ROI_Classifier_data/masks_20211202_unbalanced.h5')"
   ]
  },
  {
   "cell_type": "code",
   "execution_count": 8,
   "metadata": {},
   "outputs": [],
   "source": [
    "# masks_SYT = data_labeled['SYTmasks']\n",
    "# labels_SYT = classification.squeeze_integers(data_labeled['SYTlabels'])"
   ]
  },
  {
   "cell_type": "code",
   "execution_count": 9,
   "metadata": {},
   "outputs": [],
   "source": [
    "# nan_lst = np.concatenate(np.where(np.isnan(masks_SYT).sum(axis=-1).sum(axis=-1)))\n",
    "# non_nan = [_ for _ in range(masks_SYT.shape[0]) if _ not in nan_lst]\n",
    "# labels_SYT = labels_SYT[non_nan]\n",
    "# masks_SYT = masks_SYT[non_nan]"
   ]
  },
  {
   "cell_type": "code",
   "execution_count": 10,
   "metadata": {},
   "outputs": [],
   "source": [
    "# X_labeled_train_SYT, X_labeled_val_SYT, y_labeled_train_SYT, y_labeled_val_SYT = train_test_split(masks_SYT, labels_SYT, test_size = 0.2)"
   ]
  },
  {
   "cell_type": "markdown",
   "metadata": {},
   "source": [
    "toss any NaNs"
   ]
  },
  {
   "cell_type": "code",
   "execution_count": 11,
   "metadata": {},
   "outputs": [
    {
     "name": "stdout",
     "output_type": "stream",
     "text": [
      "Number of masks: torch.Size([711808, 36, 36])\n",
      "Number of masks: torch.Size([711807, 36, 36])\n"
     ]
    }
   ],
   "source": [
    "print(f'Number of masks: {masks_cat_raw.shape}')\n",
    "\n",
    "ROIs_without_NaNs = torch.where(~torch.any(torch.any(torch.isnan(masks_cat_raw), dim=1), dim=1))[0]\n",
    "masks_cat = masks_cat_raw[ROIs_without_NaNs]\n",
    "\n",
    "print(f'Number of masks: {masks_cat.shape}')"
   ]
  },
  {
   "cell_type": "markdown",
   "metadata": {
    "id": "hTqZzmpJDB0j"
   },
   "source": [
    "## Import labeled training data"
   ]
  },
  {
   "cell_type": "code",
   "execution_count": 12,
   "metadata": {
    "colab": {
     "base_uri": "https://localhost:8080/",
     "height": 1000
    },
    "id": "S8AO_lypDB0o",
    "outputId": "4edfd739-a0b7-4789-aea1-4a9f6c2665c8"
   },
   "outputs": [
    {
     "name": "stdout",
     "output_type": "stream",
     "text": [
      "concatenated images shape: (9715, 32, 32)\n"
     ]
    },
    {
     "data": {
      "image/png": "[encoded data removed]",
      "text/plain": [
       "<Figure size 432x288 with 1 Axes>"
      ]
     },
     "metadata": {
      "needs_background": "light"
     },
     "output_type": "display_data"
    },
    {
     "data": {
      "image/png": "[encoded data removed]",
      "text/plain": [
       "<Figure size 432x288 with 1 Axes>"
      ]
     },
     "metadata": {
      "needs_background": "light"
     },
     "output_type": "display_data"
    },
    {
     "data": {
      "image/png": "[encoded data removed]",
      "text/plain": [
       "<Figure size 432x288 with 1 Axes>"
      ]
     },
     "metadata": {
      "needs_background": "light"
     },
     "output_type": "display_data"
    },
    {
     "data": {
      "image/png": "[encoded data removed]",
      "text/plain": [
       "<Figure size 432x288 with 1 Axes>"
      ]
     },
     "metadata": {
      "needs_background": "light"
     },
     "output_type": "display_data"
    }
   ],
   "source": [
    "dir_folders = f'{base_dir}/label_data'\n",
    "# dir_folders = r'/media/rich/bigSSD/for_Josh/GCAMP_ROI_Classifier_data/label_data'\n",
    "# dir_folders = r'/users/Josh/Documents/Harvard/label_data'\n",
    "folders = [r'mouse 6_28 _ day 20200903/',\n",
    "             r'mouse6_28 _ day20200815/']\n",
    "fileNames_statFiles = [r'stat.npy']*len(folders)\n",
    "paths_statFiles = [pathlib.Path(dir_folders) / folders[ii] / fileNames_statFiles[ii] for ii in range(len(folders))]\n",
    "\n",
    "sf_all = util.import_multiple_stat_files(   paths_statFiles=paths_statFiles,\n",
    "                                            fileNames_statFiles=fileNames_statFiles,\n",
    "                                            out_height_width=[32,32],\n",
    "                                            max_footprint_width=241,\n",
    "                                            plot_pref=True)\n",
    "images_labeled_raw = np.concatenate(sf_all, axis=0)\n",
    "images_labeled_raw = (images_labeled_raw / np.max(images_labeled_raw, axis=(1,2), keepdims=True)) * 1\n",
    "print(f'concatenated images shape: {images_labeled_raw.shape}')\n",
    "\n",
    "fileNames_labelFiles = ['labels_posthoc_filledIn_allCells.npy',\n",
    "             'labels_posthoc_all.npy']\n",
    "paths_labelFiles = [pathlib.Path(dir_folders) / folders[ii] / fileNames_labelFiles[ii] for ii in range(len(folders))]\n",
    "\n",
    "labels_all = util.import_multiple_label_files(paths_labelFiles=paths_labelFiles,\n",
    "                                       plot_pref=True)\n",
    "labels_raw = np.concatenate(labels_all)\n",
    "\n",
    "assert np.alltrue([sf_all[ii].shape[0] == labels_all[ii].shape[0] for ii in range(len(sf_all))]) , 'num images in stat files does not correspond to num labels'"
   ]
  },
  {
   "cell_type": "code",
   "execution_count": 13,
   "metadata": {},
   "outputs": [
    {
     "data": {
      "image/png": "[encoded data removed]",
      "text/plain": [
       "<Figure size 432x288 with 100 Axes>"
      ]
     },
     "metadata": {
      "needs_background": "light"
     },
     "output_type": "display_data"
    }
   ],
   "source": [
    "%matplotlib inline\n",
    "\n",
    "plotting_helpers.plot_image_grid(images=images_labeled_raw,\n",
    "                                labels=None,\n",
    "                                grid_shape=(10,10), cmap=plt.get_cmap('gray'));"
   ]
  },
  {
   "cell_type": "code",
   "execution_count": 14,
   "metadata": {
    "id": "Ip1UMYy6DB0p"
   },
   "outputs": [],
   "source": [
    "labels = classification.squeeze_integers(labels_raw)\n",
    "images_labeled = images_labeled_raw[labels != 2]\n",
    "labels = labels[labels != 2]\n",
    "labels = classification.squeeze_integers(labels)"
   ]
  },
  {
   "cell_type": "markdown",
   "metadata": {
    "id": "UYh_wBqCDB0q"
   },
   "source": [
    "## Balance classes of inputs"
   ]
  },
  {
   "cell_type": "code",
   "execution_count": 15,
   "metadata": {
    "colab": {
     "base_uri": "https://localhost:8080/"
    },
    "id": "qn4Pu2cKDB0q",
    "outputId": "3afafb73-54a7-4e2d-8030-c0af6272cbe6"
   },
   "outputs": [
    {
     "name": "stdout",
     "output_type": "stream",
     "text": [
      "(9714, 32, 32)\n",
      "(9714,)\n",
      "532\n",
      "(2128, 32, 32)\n",
      "(2128,)\n",
      "532\n",
      "532\n",
      "532\n",
      "0\n",
      "0\n",
      "(2128, 32, 32)\n",
      "(2128,)\n"
     ]
    }
   ],
   "source": [
    "duplicates = 1\n",
    "balanced = True\n",
    "\n",
    "images_dup = np.tile(images_labeled , (duplicates , 1 , 1))\n",
    "labels_dup = np.tile(labels , (duplicates))\n",
    "\n",
    "print(images_dup.shape)\n",
    "print(labels_dup.shape)\n",
    "\n",
    "if balanced:\n",
    "    numToGetTo = np.sum(labels_dup==0)\n",
    "    print(numToGetTo)\n",
    "    for ii in np.array([1,2,3]):\n",
    "  #     idxToDelete = np.cumsum(labels_dup==ii) <= (np.sum(labels_dup==ii) - numToGetTo)\n",
    "        if ii==3:\n",
    "            numToGetTo = np.sum(labels_dup==0)/1\n",
    "        else:\n",
    "            numToGetTo = np.sum(labels_dup==0)\n",
    "\n",
    "        idxToDelete = (np.cumsum(labels_dup==ii) * (labels_dup==ii)) > numToGetTo\n",
    "        images_dup = images_dup[idxToDelete==0,:,:]\n",
    "        labels_dup = labels_dup[idxToDelete==0]\n",
    "\n",
    "\n",
    "\n",
    "\n",
    "\n",
    "print(images_dup.shape)\n",
    "print(labels_dup.shape)\n",
    "\n",
    "numToGetTo = np.sum(labels_dup==0)\n",
    "print(numToGetTo)\n",
    "\n",
    "print(np.sum(labels_dup==0))\n",
    "print(np.sum(labels_dup==1))\n",
    "print(np.sum(labels_dup==4))\n",
    "print(np.sum(labels_dup==5))\n",
    "print(images_dup.shape)\n",
    "print(labels_dup.shape)"
   ]
  },
  {
   "cell_type": "raw",
   "metadata": {
    "id": "NpMB08CYDB0q"
   },
   "source": [
    "# create validation set\n",
    "# X_train, X_val, y_train, y_val = train_test_split(images[:], labels[:], test_size = 0.15)\n",
    "X_train, X_val, y_train, y_val = train_test_split(images_dup[:], labels_dup[:], test_size = 0.15)\n",
    "(X_train.shape, y_train.shape), (X_val.shape, y_val.shape)"
   ]
  },
  {
   "cell_type": "code",
   "execution_count": 16,
   "metadata": {
    "colab": {
     "base_uri": "https://localhost:8080/"
    },
    "id": "fVA_Aa6rDB0q",
    "outputId": "15b9e55a-4881-40be-f06b-dec658fa55a7"
   },
   "outputs": [
    {
     "data": {
      "text/plain": [
       "(((1702, 32, 32), (1702,)), ((426, 32, 32), (426,)))"
      ]
     },
     "execution_count": 16,
     "metadata": {},
     "output_type": "execute_result"
    }
   ],
   "source": [
    "# create validation set\n",
    "\n",
    "###### REMOVE WITH ENOUGH RAM\n",
    "images = images_dup\n",
    "labels = labels_dup\n",
    "\n",
    "# X_labeled_train, X_labeled_val, y_labeled_train, y_labeled_val = train_test_split(images_dup, labels_dup, test_size = 0.3)\n",
    "X_labeled_train, X_labeled_val, y_labeled_train, y_labeled_val = train_test_split(images_dup, labels_dup, test_size = 0.2)\n",
    "# X_train, y_train = X_labeled_train, y_labeled_train\n",
    "\n",
    "# X_labeled_val, X_test, y_labeled_val, y_test = train_test_split(X_labeled_val, y_labeled_val, test_size = 0.5)\n",
    "X_val, X_test, y_val, y_test = train_test_split(X_labeled_val, y_labeled_val, test_size = 0.5)\n",
    "\n",
    "(X_labeled_train.shape, y_labeled_train.shape), (X_labeled_val.shape, y_labeled_val.shape)"
   ]
  },
  {
   "cell_type": "code",
   "execution_count": 17,
   "metadata": {
    "colab": {
     "base_uri": "https://localhost:8080/",
     "height": 265
    },
    "id": "mdJafJMMDB0r",
    "outputId": "2e8d00f6-32bf-4aeb-d02d-e10dcaaccfe3"
   },
   "outputs": [
    {
     "data": {
      "image/png": "[encoded data removed]",
      "text/plain": [
       "<Figure size 432x288 with 1 Axes>"
      ]
     },
     "metadata": {
      "needs_background": "light"
     },
     "output_type": "display_data"
    }
   ],
   "source": [
    "plt.figure()\n",
    "plt.hist(labels_dup, 20);"
   ]
  },
  {
   "cell_type": "code",
   "execution_count": 18,
   "metadata": {},
   "outputs": [
    {
     "data": {
      "text/plain": [
       "(2128, 32, 32)"
      ]
     },
     "execution_count": 18,
     "metadata": {},
     "output_type": "execute_result"
    }
   ],
   "source": [
    "images.shape"
   ]
  },
  {
   "cell_type": "code",
   "execution_count": null,
   "metadata": {
    "id": "XNxaCTbcDB0r"
   },
   "outputs": [],
   "source": []
  },
  {
   "cell_type": "raw",
   "metadata": {
    "id": "tz9Q8wYuDB0s"
   },
   "source": [
    "from sklearn.linear_model import LogisticRegression\n",
    "import sklearn.metrics\n",
    "\n",
    "def classification_step(X_train, y_train, X_test, model, model_device, temperature):\n",
    "    logreg = LogisticRegression()\n",
    "    features_train = model(torch.as_tensor(X_train, device=DEVICE, dtype=torch.float32)[:,None,...]).detach().cpu()\n",
    "    # features = model(torch.tensor(X_train[y_train != 3], device=DEVICE, dtype=torch.float32)[:,None,...]).detach().cpu()\n",
    "    logreg.fit(features_train, y_train)\n",
    "    # logreg.fit(features, y_train[y_train != 3])\n",
    "    \n",
    "    features_test = model(torch.as_tensor(X_test, device=DEVICE, dtype=torch.float32)[:,None,...]).detach().cpu()    \n",
    "    y_hat = logreg.predict_proba(features_test)\n",
    "    y_hat = torch.as_tensor(y_hat, dtype=torch.float32, device='cpu')\n",
    "    \n",
    "#     print(y_hat)\n",
    "    print(f'accuracy: {logreg.score(features, y):.5}')\n",
    "\n",
    "#     # cm = sklearn.metrics.confusion_matrix(idx_to_oneHot(y_train), y_hat, normalize='true')\n",
    "#     # cm = sklearn.metrics.confusion_matrix(idx_to_oneHot(y_train[y_train != 3]), y_hat, normalize='true')\n",
    "#     cm = rh_cm(y_hat, y)\n",
    "#     # cm = rh_cm(y_hat, y_train[y_train != 3])\n",
    "    \n",
    "    unc = util.loss_uncertainty(y_hat, temperature=temperature)\n",
    "\n",
    "#     plt.figure()\n",
    "#     plt.imshow(cm)\n",
    "#     return torch.tensor(unc, dtype=torch.float32, device=model_device)\n",
    "    return unc"
   ]
  },
  {
   "cell_type": "markdown",
   "metadata": {
    "id": "3aA1-hY4DB0v"
   },
   "source": [
    "# Train"
   ]
  },
  {
   "cell_type": "code",
   "execution_count": 19,
   "metadata": {
    "colab": {
     "base_uri": "https://localhost:8080/"
    },
    "id": "YtkRZSMqDB0v",
    "outputId": "230c559f-f22c-4182-b3ab-024ba2080a50"
   },
   "outputs": [
    {
     "name": "stdout",
     "output_type": "stream",
     "text": [
      "device: 'cuda'\n"
     ]
    }
   ],
   "source": [
    "DEVICE = torch_helpers.set_device(use_GPU=True)\n",
    "# DEVICE = torch_helpers.set_device(use_GPU=False)"
   ]
  },
  {
   "cell_type": "markdown",
   "metadata": {},
   "source": [
    "### Define New model = model + pre-head + latent layer OR classification layer"
   ]
  },
  {
   "cell_type": "code",
   "execution_count": 20,
   "metadata": {
    "id": "gt4xpqbHBjyL"
   },
   "outputs": [],
   "source": [
    "class ModelTackOn(torch.nn.Module):\n",
    "    def __init__(self, base_model, un_modified_model, pre_head_fc_sizes=[100], post_head_fc_sizes=[100], classifier_fc_sizes=None):\n",
    "            super(ModelTackOn, self).__init__()\n",
    "            self.base_model = base_model\n",
    "            final_base_layer = list(un_modified_model.children())[-1]\n",
    "            # final_base_layer = list(list(model.children())[-1].children())[-1]\n",
    "            # print(final_base_layer)\n",
    "\n",
    "            self.pre_head_fc_lst = []\n",
    "            self.post_head_fc_lst = []\n",
    "            self.classifier_fc_lst = []\n",
    "\n",
    "            self.init_prehead(final_base_layer, pre_head_fc_sizes)\n",
    "            self.init_posthead(pre_head_fc_sizes[-1], post_head_fc_sizes)\n",
    "            if classifier_fc_sizes is not None:\n",
    "                self.init_classifier(pre_head_fc_sizes[-1], classifier_fc_sizes)\n",
    "    \n",
    "    def init_prehead(self, prv_layer, pre_head_fc_sizes):\n",
    "        for i, pre_head_fc in enumerate(pre_head_fc_sizes):\n",
    "            if i == 0:\n",
    "                in_features = prv_layer.in_features if hasattr(prv_layer,'in_features') else 512\n",
    "            else:\n",
    "                in_features = pre_head_fc_sizes[i - 1]\n",
    "            fc_layer = torch.nn.Linear(in_features=in_features, out_features=pre_head_fc)\n",
    "            self.add_module(f'PreHead_{i}', fc_layer)\n",
    "            self.pre_head_fc_lst.append(fc_layer)\n",
    "\n",
    "#             if i < len(pre_head_fc_sizes) - 1:\n",
    "            non_linearity = torch.nn.ReLU()\n",
    "            self.add_module(f'PreHead_{i}_NonLinearity', non_linearity)\n",
    "            self.pre_head_fc_lst.append(non_linearity)\n",
    "\n",
    "    def init_posthead(self, prv_size, post_head_fc_sizes):\n",
    "        for i, post_head_fc in enumerate(post_head_fc_sizes):\n",
    "            if i == 0:\n",
    "                in_features = prv_size\n",
    "            else:\n",
    "                in_features = post_head_fc_sizes[i - 1]\n",
    "            fc_layer = torch.nn.Linear(in_features=in_features, out_features=post_head_fc)\n",
    "            self.add_module(f'PostHead_{i}', fc_layer)\n",
    "            self.post_head_fc_lst.append(fc_layer)\n",
    "\n",
    "            if i < len(post_head_fc_sizes) - 1:\n",
    "                non_linearity = torch.nn.ReLU()\n",
    "                self.add_module(f'PostHead_{i}_NonLinearity', non_linearity)\n",
    "                self.pre_head_fc_lst.append(non_linearity)\n",
    "    \n",
    "    def init_classifier(self, prv_size, classifier_fc_sizes):\n",
    "            for i, classifier_fc in enumerate(classifier_fc_sizes):\n",
    "                if i == 0:\n",
    "                    in_features = prv_size\n",
    "                else:\n",
    "                    in_features = classifier_fc_sizes[i - 1]\n",
    "            fc_layer = torch.nn.Linear(in_features=in_features, out_features=classifier_fc)\n",
    "            self.add_module(f'Classifier_{i}', fc_layer)\n",
    "            self.classifier_fc_lst.append(fc_layer)\n",
    "\n",
    "    def reinit_classifier(self):\n",
    "        for i_layer, layer in enumerate(self.classifier_fc_lst):\n",
    "            layer.reset_parameters()\n",
    "    \n",
    "#     def forward(self, X):\n",
    "#         interim = self.base_model(X)\n",
    "#         interim = self.get_head(interim)\n",
    "#         interim = self.get_latent(interim)\n",
    "#         return interim\n",
    "\n",
    "    def forward_classifier(self, X):\n",
    "        interim = self.base_model(X)\n",
    "        interim = self.get_head(interim)\n",
    "        interim = self.classify(interim)\n",
    "        return interim\n",
    "\n",
    "    def forward_latent(self, X):\n",
    "        interim = self.base_model(X)\n",
    "        interim = self.get_head(interim)\n",
    "        interim = self.get_latent(interim)\n",
    "        return interim\n",
    "\n",
    "\n",
    "    def get_head(self, base_out):\n",
    "        # print('base_out', base_out.shape)\n",
    "        head = base_out\n",
    "        for pre_head_layer in self.pre_head_fc_lst:\n",
    "          # print('pre_head_layer', pre_head_layer.in_features)\n",
    "          head = pre_head_layer(head)\n",
    "          # print('head', head.shape)\n",
    "        return head\n",
    "\n",
    "    def get_latent(self, head):\n",
    "        latent = head\n",
    "        for post_head_layer in self.post_head_fc_lst:\n",
    "            latent = post_head_layer(latent)\n",
    "        return latent\n",
    "\n",
    "    def classify(self, head):\n",
    "        logit = head\n",
    "        for classifier_layer in self.classifier_fc_lst:\n",
    "            logit = classifier_layer(logit)\n",
    "        return logit\n",
    "\n",
    "    def set_pre_head_grad(self, requires_grad=True):\n",
    "        for layer in self.pre_head_fc_lst:\n",
    "            for param in layer.parameters():\n",
    "                param.requires_grad = requires_grad\n",
    "                \n",
    "    def set_post_head_grad(self, requires_grad=True):\n",
    "        for layer in self.post_head_fc_lst:\n",
    "            for param in layer.parameters():\n",
    "                param.requires_grad = requires_grad\n",
    "\n",
    "    def set_classifier_grad(self, requires_grad=True):\n",
    "        for layer in self.classifier_fc_lst:\n",
    "            for param in layer.parameters():\n",
    "                param.requires_grad = requires_grad\n",
    "\n",
    "    def prep_contrast(self):\n",
    "        self.set_pre_head_grad(requires_grad=True)\n",
    "        self.set_post_head_grad(requires_grad=True)\n",
    "        self.set_classifier_grad(requires_grad=False)\n",
    "\n",
    "    def prep_classifier(self):\n",
    "        self.set_pre_head_grad(requires_grad=False)\n",
    "        self.set_post_head_grad(requires_grad=False)\n",
    "        self.set_classifier_grad(requires_grad=True)\n"
   ]
  },
  {
   "cell_type": "code",
   "execution_count": 21,
   "metadata": {
    "id": "MIix9BdUCkqf"
   },
   "outputs": [],
   "source": [
    "# import torchvision.models\n",
    "\n",
    "# # base_model = torchvision.models.resnet101(pretrained=True)\n",
    "# base_model = torchvision.models.resnet18(pretrained=True)\n",
    "\n",
    "# for param in base_model.parameters():\n",
    "#     param.requires_grad = False\n",
    "\n",
    "# retrain = list(base_model.children())[-1:]\n",
    "# for layer in retrain:\n",
    "#     params = layer.parameters()\n",
    "#     for param in params:\n",
    "#         param.requires_grad = True"
   ]
  },
  {
   "cell_type": "code",
   "execution_count": 22,
   "metadata": {
    "id": "oyjLftj_cEGW"
   },
   "outputs": [],
   "source": [
    "import torchvision.models\n",
    "\n",
    "# base_model_frozen = torchvision.models.resnet101(pretrained=True)\n",
    "base_model_frozen = torchvision.models.resnet18(pretrained=True)\n",
    "# base_model_frozen = torchvision.models.wide_resnet50_2(pretrained=True)\n",
    "# base_model_frozen = torchvision.models.resnet50(pretrained=True)\n",
    "for param in base_model_frozen.parameters():\n",
    "    param.requires_grad = False"
   ]
  },
  {
   "cell_type": "markdown",
   "metadata": {},
   "source": [
    "start with a pretrained resnet model, and chop off the final layer. This will be used as the base on which we add the pre-head layers (for expressivity), latent layers (for simCLR), or classification layers (for post-hoc logistic regression)"
   ]
  },
  {
   "cell_type": "code",
   "execution_count": 23,
   "metadata": {
    "id": "aWnb7WWri9qK"
   },
   "outputs": [],
   "source": [
    "model_chopped = torch.nn.Sequential(*(list(base_model_frozen.children())[:-1] + [torch.nn.Flatten()]))"
   ]
  },
  {
   "cell_type": "markdown",
   "metadata": {
    "id": "_E18ZEzpClNd"
   },
   "source": [
    "### Make combined model\n",
    "'model' has two forward methods. One for generating latents (for simCLR) and one for classifying labels"
   ]
  },
  {
   "cell_type": "code",
   "execution_count": 24,
   "metadata": {
    "colab": {
     "base_uri": "https://localhost:8080/"
    },
    "id": "n6Qx-1NGJNY3",
    "outputId": "f7cb3ded-3b48-439e-bf57-a526fb48bac7"
   },
   "outputs": [],
   "source": [
    "model = ModelTackOn(model_chopped, base_model_frozen, pre_head_fc_sizes=[1024, 512], post_head_fc_sizes=[64], classifier_fc_sizes=[len(np.unique(y_labeled_train))])\n",
    "# model = ModelTackOn(model_chopped.to(DEVICE), base_model_frozen, pre_head_fc_sizes=[len(np.unique(y_train))], post_head_fc_sizes=[])\n",
    "# model = ModelTackOn(model_chopped.to(DEVICE), base_model_frozen, pre_head_fc_sizes=[len(np.unique(y_train))], post_head_fc_sizes=[])\n",
    "\n",
    "# model = torch.nn.Sequential([model_chopped.to(DEVICE), torch.nn.Linear], pre_head_fc_sizes=[len(np.unique(y_train))], post_head_fc_sizes=[])\n",
    "\n",
    "\n",
    "# model = ModelTackOn(base_model_frozen, pre_head_fc_sizes=[len(np.unique(y_train))], post_head_fc_sizes=[])\n",
    "# model = ModelTackOn(base_model, pre_head_fc_sizes=[len(np.unique(y_train))], post_head_fc_sizes=[])\n",
    "model.train();"
   ]
  },
  {
   "cell_type": "code",
   "execution_count": 25,
   "metadata": {},
   "outputs": [
    {
     "name": "stdout",
     "output_type": "stream",
     "text": [
      "base_model.6.0.conv1.weight\n",
      "base_model.6.0.bn1.weight\n",
      "base_model.6.0.bn1.bias\n",
      "base_model.6.0.conv2.weight\n",
      "base_model.6.0.bn2.weight\n",
      "base_model.6.0.bn2.bias\n",
      "base_model.6.0.downsample.0.weight\n",
      "base_model.6.0.downsample.1.weight\n",
      "base_model.6.0.downsample.1.bias\n",
      "base_model.6.1.conv1.weight\n",
      "base_model.6.1.bn1.weight\n",
      "base_model.6.1.bn1.bias\n",
      "base_model.6.1.conv2.weight\n",
      "base_model.6.1.bn2.weight\n",
      "base_model.6.1.bn2.bias\n",
      "base_model.7.0.conv1.weight\n",
      "base_model.7.0.bn1.weight\n",
      "base_model.7.0.bn1.bias\n",
      "base_model.7.0.conv2.weight\n",
      "base_model.7.0.bn2.weight\n",
      "base_model.7.0.bn2.bias\n",
      "base_model.7.0.downsample.0.weight\n",
      "base_model.7.0.downsample.1.weight\n",
      "base_model.7.0.downsample.1.bias\n",
      "base_model.7.1.conv1.weight\n",
      "base_model.7.1.bn1.weight\n",
      "base_model.7.1.bn1.bias\n",
      "base_model.7.1.conv2.weight\n",
      "base_model.7.1.bn2.weight\n",
      "base_model.7.1.bn2.bias\n",
      "PreHead_0.weight\n",
      "PreHead_0.bias\n",
      "PreHead_1.weight\n",
      "PreHead_1.bias\n",
      "PostHead_0.weight\n",
      "PostHead_0.bias\n",
      "Classifier_0.weight\n",
      "Classifier_0.bias\n"
     ]
    }
   ],
   "source": [
    "# unfreeze particular blocks in ResNet model\n",
    "\n",
    "for name, param in list(model.named_parameters()):\n",
    "    if name[:10] == 'base_model':\n",
    "        if int(name[11]) < 6:\n",
    "            param.requires_grad = False\n",
    "        elif int(name[11]) >= 6:\n",
    "            param.requires_grad = True\n",
    "\n",
    "for name, param in list(model.named_parameters()):\n",
    "    if param.requires_grad:\n",
    "        print(name)"
   ]
  },
  {
   "cell_type": "markdown",
   "metadata": {
    "id": "T2ARByXvDB0s"
   },
   "source": [
    "## Define augmentation pipeline"
   ]
  },
  {
   "cell_type": "code",
   "execution_count": 26,
   "metadata": {},
   "outputs": [],
   "source": [
    "import torchvision.transforms    \n",
    "\n",
    "transforms = torch.nn.Sequential(\n",
    "    torchvision.transforms.RandomHorizontalFlip(p=0.5),\n",
    "        \n",
    "    torchvision.transforms.RandomAffine(\n",
    "                                        degrees=(-180,180),\n",
    "                                        translate=(0.15, 0.15), #0, .3, .45 (DEFAULT)\n",
    "                                        scale=(1.0, 1.0), # no scale (1,1), (0.4, 1.5)\n",
    "                                        shear=(-15, 15, -15, 15),\n",
    "                                        interpolation=torchvision.transforms.InterpolationMode.BILINEAR, \n",
    "                                        fill=0, \n",
    "                                        fillcolor=None, \n",
    "                                        resample=None),\n",
    "    augmentation.AddPoissonNoise(   scaler_bounds=(10**(4.5), 10**(6.)),\n",
    "                                    prob=1,\n",
    "                                    base=1000,\n",
    "                                    scaling='log'),\n",
    "    augmentation.AddGaussianNoise(  mean=0, \n",
    "                                    std=0.00015,\n",
    "                                    prob=1),\n",
    "    \n",
    "    augmentation.ScaleDynamicRange(scaler_bounds=(0,1)), # just clamping, both this and clamping = normalizing (DEFAULT)\n",
    "    \n",
    "    torchvision.transforms.Resize(size=(224,224), \n",
    "                                  interpolation=torchvision.transforms.InterpolationMode.BILINEAR), # To do or not to do (DEFAULT)\n",
    "    \n",
    "    augmentation.TileChannels(dim=0, n_channels=3),\n",
    ")\n",
    "scripted_transforms = torch.jit.script(transforms)"
   ]
  },
  {
   "cell_type": "raw",
   "metadata": {
    "id": "tq77tWZeDB0s"
   },
   "source": [
    "import torchvision.transforms    \n",
    "\n",
    "transforms = torch.nn.Sequential(\n",
    "    \n",
    "#     torchvision.transforms.RandomAdjustSharpness(torch.rand(1)*5, p=0.5),\n",
    "#         torchvision.transforms.RandomPerspective(distortion_scale=0.7, \n",
    "#                                              p=0.5, \n",
    "#                                              interpolation=torchvision.transforms.InterpolationMode.BILINEAR, \n",
    "#                                              fill=0),\n",
    "#     torchvision.transforms.GaussianBlur(kernel_size=5,\n",
    "#                                         sigma=(0.0001, 0.1)),\n",
    "        \n",
    "\n",
    "    torchvision.transforms.RandomHorizontalFlip(p=0.5),\n",
    "        \n",
    "    torchvision.transforms.RandomAffine(\n",
    "                                        degrees=(-180,180),\n",
    "                                        translate=(0.2, 0.2), #0.15/.15\n",
    "                                        scale=(0.4, 1.3),  #.6, 1.2\n",
    "                                        shear=(-25, 25, -25, 25), # -15/+15 across board\n",
    "                                        interpolation=torchvision.transforms.InterpolationMode.BILINEAR, \n",
    "                                        fill=0, \n",
    "                                        fillcolor=None, \n",
    "                                        resample=None),\n",
    "    augmentation.AddPoissonNoise(   scaler_bounds=(10**(4.0), 10**(6.)), # 4.5, 6\n",
    "                                    prob=1,\n",
    "                                    base=1000,\n",
    "                                    scaling='log'),\n",
    "    augmentation.AddGaussianNoise(  mean=0, \n",
    "                                    std=0.0002, # 0.00015\n",
    "                                    prob=1),\n",
    "    \n",
    "    augmentation.ScaleDynamicRange(scaler_bounds=(0,1)), # Do vs. don't do -- bounds between 0/1. Either do this OR do this followed by torchvision.transforms.Normalize\n",
    "    \n",
    "    torchvision.transforms.Resize(size=(224,224),\n",
    "                                  interpolation=torchvision.transforms.InterpolationMode.BILINEAR), # Do vs. don't do\n",
    "    \n",
    "    # augmentation.AddPoissonNoise(   scaler_bounds=(10**(1.5), 10**(4.0)),\n",
    "    #                                 prob=1,\n",
    "    #                                 base=1000,\n",
    "    #                                 scaling='log'),\n",
    "    # augmentation.AddGaussianNoise(  mean=0, \n",
    "    #                                 std=0.1,\n",
    "    #                                 prob=1),\n",
    "    \n",
    "    augmentation.TileChannels(dim=0, n_channels=3),\n",
    "    \n",
    "#     augmentation.Normalize(  means=[0.485, 0.456, 0.406],\n",
    "#                              stds=[0.229, 0.224, 0.225]),\n",
    "#     torchvision.transforms.Normalize(mean=[0.485, 0.456, 0.406],\n",
    "#                                      std=[0.229, 0.224, 0.225],\n",
    "#                                      inplace=False),\n",
    "#     torchvision.transforms.RandomHorizontalFlip(p=0.5),\n",
    "\n",
    "#     torchvision.transforms.RandomAffine(\n",
    "#                                         degrees=(-180,180),\n",
    "#                                         translate=(0.0, 0.0),\n",
    "#                                         interpolation=torchvision.transforms.InterpolationMode.BILINEAR, \n",
    "#                                         fill=0, \n",
    "#                                         # fillcolor=None, \n",
    "#                                         resample=None),\n",
    ")\n",
    "scripted_transforms = torch.jit.script(transforms)\n",
    "# scripted_transforms = transforms"
   ]
  },
  {
   "cell_type": "code",
   "execution_count": 27,
   "metadata": {
    "id": "PmM4nnV1nCVd"
   },
   "outputs": [],
   "source": [
    "dataset_train = util.dataset_simCLR(\n",
    "                                    torch.as_tensor(masks_cat, device='cpu', dtype=torch.float32), \n",
    "                                    torch.as_tensor(torch.zeros(masks_cat.shape[0]), device='cpu', dtype=torch.float32),\n",
    "\n",
    "                                    n_transforms=2,\n",
    "                                    class_weights=np.array([1]),\n",
    "                                    # class_weights=np.array([1]*4)[np.random.randint(0,4, X_train.shape[0])],\n",
    "                                    transform=scripted_transforms,\n",
    "                                    # DEVICE='cpu',\n",
    "                                    DEVICE='cpu',\n",
    "                                    dtype_X=torch.float32,\n",
    "                                    dtype_y=torch.int64,\n",
    "                                    \n",
    "                                    temp_uncertainty=16\n",
    "                                    )\n",
    "dataloader_train = torch.utils.data.DataLoader( dataset_train,\n",
    "#                                                 batch_size=int(pct_batch_size*X_train.shape[0]),\n",
    "                                                batch_size=1024,\n",
    "                                                shuffle=True,\n",
    "                                                drop_last=True,\n",
    "                                                pin_memory=True,\n",
    "                                                num_workers=16,\n",
    "                                                persistent_workers=True,\n",
    "                                                # prefetch_factor=0\n",
    "                                                )"
   ]
  },
  {
   "cell_type": "code",
   "execution_count": 28,
   "metadata": {},
   "outputs": [
    {
     "data": {
      "image/png": "[encoded data removed]",
      "text/plain": [
       "<Figure size 432x288 with 2 Axes>"
      ]
     },
     "metadata": {
      "needs_background": "light"
     },
     "output_type": "display_data"
    },
    {
     "data": {
      "image/png": "[encoded data removed]",
      "text/plain": [
       "<Figure size 432x288 with 2 Axes>"
      ]
     },
     "metadata": {
      "needs_background": "light"
     },
     "output_type": "display_data"
    },
    {
     "data": {
      "image/png": "[encoded data removed]",
      "text/plain": [
       "<Figure size 432x288 with 2 Axes>"
      ]
     },
     "metadata": {
      "needs_background": "light"
     },
     "output_type": "display_data"
    },
    {
     "data": {
      "image/png": "[encoded data removed]",
      "text/plain": [
       "<Figure size 432x288 with 2 Axes>"
      ]
     },
     "metadata": {
      "needs_background": "light"
     },
     "output_type": "display_data"
    },
    {
     "data": {
      "image/png": "[encoded data removed]",
      "text/plain": [
       "<Figure size 432x288 with 2 Axes>"
      ]
     },
     "metadata": {
      "needs_background": "light"
     },
     "output_type": "display_data"
    },
    {
     "data": {
      "image/png": "[encoded data removed]",
      "text/plain": [
       "<Figure size 432x288 with 2 Axes>"
      ]
     },
     "metadata": {
      "needs_background": "light"
     },
     "output_type": "display_data"
    },
    {
     "data": {
      "image/png": "[encoded data removed]",
      "text/plain": [
       "<Figure size 432x288 with 2 Axes>"
      ]
     },
     "metadata": {
      "needs_background": "light"
     },
     "output_type": "display_data"
    },
    {
     "data": {
      "image/png": "[encoded data removed]",
      "text/plain": [
       "<Figure size 432x288 with 2 Axes>"
      ]
     },
     "metadata": {
      "needs_background": "light"
     },
     "output_type": "display_data"
    },
    {
     "data": {
      "image/png": "[encoded data removed]",
      "text/plain": [
       "<Figure size 432x288 with 2 Axes>"
      ]
     },
     "metadata": {
      "needs_background": "light"
     },
     "output_type": "display_data"
    },
    {
     "data": {
      "image/png": "[encoded data removed]",
      "text/plain": [
       "<Figure size 432x288 with 2 Axes>"
      ]
     },
     "metadata": {
      "needs_background": "light"
     },
     "output_type": "display_data"
    }
   ],
   "source": [
    "idx_rand = np.random.randint(0,masks_cat.shape[0], 10)\n",
    "for ii in idx_rand:\n",
    "    fig, axs = plt.subplots(2)\n",
    "    axs[0].imshow(dataset_train[ii][0][0][0])\n",
    "    axs[1].imshow(dataset_train[ii][0][1][0])"
   ]
  },
  {
   "cell_type": "code",
   "execution_count": 29,
   "metadata": {
    "colab": {
     "base_uri": "https://localhost:8080/"
    },
    "id": "nstWf2PhVwfV",
    "outputId": "968f73ab-75d7-4735-ea1e-49e7fb3821cc"
   },
   "outputs": [
    {
     "data": {
      "text/plain": [
       "0"
      ]
     },
     "execution_count": 29,
     "metadata": {},
     "output_type": "execute_result"
    }
   ],
   "source": [
    "# torch_helpers.delete_all_cuda_tensors(globals())\n",
    "\n",
    "import gc\n",
    "\n",
    "torch.cuda.empty_cache()\n",
    "gc.collect()\n",
    "torch.cuda.empty_cache()\n",
    "gc.collect()\n",
    "torch.cuda.empty_cache()\n",
    "gc.collect()\n",
    "torch.cuda.empty_cache()\n",
    "gc.collect()"
   ]
  },
  {
   "cell_type": "markdown",
   "metadata": {
    "id": "OQ27o1ny9Xfi"
   },
   "source": [
    "## Training"
   ]
  },
  {
   "cell_type": "code",
   "execution_count": 30,
   "metadata": {},
   "outputs": [],
   "source": [
    "model.to(DEVICE)\n",
    "model.prep_contrast()"
   ]
  },
  {
   "cell_type": "code",
   "execution_count": 31,
   "metadata": {
    "id": "yDqu-bi8mnJB"
   },
   "outputs": [],
   "source": [
    "from torch.nn import CrossEntropyLoss\n",
    "from torch.optim import Adam\n",
    "\n",
    "import numpy as np\n",
    "\n",
    "from sklearn.linear_model import LogisticRegression\n",
    "from sklearn.tree import DecisionTreeClassifier\n",
    "from sklearn.ensemble import RandomForestClassifier\n",
    "from sklearn.svm import SVC\n",
    "\n",
    "\n",
    "# model = models.LeNet1(dropout_prob=0.3, momentum_val=0, n_output_features=64)\n",
    "\n",
    "\n",
    "criterion = [CrossEntropyLoss()]\n",
    "# criterion = CrossEntropyLoss(reduction='none')\n",
    "\n",
    "# optimizer = Adam(model.parameters(), lr=1e-2, weight_decay=0.0)\n",
    "# optimizer = Adam(model.parameters(), lr=2e-2)\n",
    "optimizer = Adam(model.parameters(), lr=10**(-3.5))\n",
    "scheduler = torch.optim.lr_scheduler.ExponentialLR(optimizer,\n",
    "                                                   gamma=1-0.0000,\n",
    "#                                                    gamma=1,\n",
    "                                                  )\n",
    "\n",
    "criterion = [_.to(DEVICE) for _ in criterion]\n",
    "losses_train, losses_val, val_accs, acc = [], [np.nan], [], []"
   ]
  },
  {
   "cell_type": "code",
   "execution_count": 32,
   "metadata": {
    "colab": {
     "base_uri": "https://localhost:8080/"
    },
    "id": "rvDiVxDICXEn",
    "outputId": "2c29e3cf-4515-4aae-f0b1-22e30d51fa5f"
   },
   "outputs": [
    {
     "name": "stderr",
     "output_type": "stream",
     "text": [
      "  0%|          | 0/300000 [00:00<?, ?it/s]"
     ]
    },
    {
     "name": "stdout",
     "output_type": "stream",
     "text": [
      "epoch: 0\n",
      "Iter: 0/695, loss_train: 7.5854, loss_val: nan, pos_over_neg: 1.050741195678711 lr: 0.00031623\n",
      "Iter: 1/695, loss_train: 7.2459, loss_val: nan, pos_over_neg: 3.3997044563293457 lr: 0.00031623\n",
      "Iter: 2/695, loss_train: 7.0213, loss_val: nan, pos_over_neg: 7.736049652099609 lr: 0.00031623\n",
      "Iter: 3/695, loss_train: 6.9517, loss_val: nan, pos_over_neg: 20.42220687866211 lr: 0.00031623\n",
      "Iter: 4/695, loss_train: 6.9098, loss_val: nan, pos_over_neg: 34.10816955566406 lr: 0.00031623\n",
      "Iter: 5/695, loss_train: 6.8798, loss_val: nan, pos_over_neg: 54.29905319213867 lr: 0.00031623\n",
      "Iter: 6/695, loss_train: 6.8593, loss_val: nan, pos_over_neg: 78.24571228027344 lr: 0.00031623\n",
      "Iter: 7/695, loss_train: 6.8374, loss_val: nan, pos_over_neg: 116.94185638427734 lr: 0.00031623\n",
      "Iter: 8/695, loss_train: 6.8179, loss_val: nan, pos_over_neg: 218.3631134033203 lr: 0.00031623\n",
      "Iter: 9/695, loss_train: 6.8093, loss_val: nan, pos_over_neg: 199.0363006591797 lr: 0.00031623\n",
      "Iter: 10/695, loss_train: 6.8045, loss_val: nan, pos_over_neg: 193.1875 lr: 0.00031623\n",
      "Iter: 11/695, loss_train: 6.8001, loss_val: nan, pos_over_neg: 190.9992218017578 lr: 0.00031623\n",
      "Iter: 12/695, loss_train: 6.7994, loss_val: nan, pos_over_neg: 216.52114868164062 lr: 0.00031623\n",
      "Iter: 13/695, loss_train: 6.7924, loss_val: nan, pos_over_neg: 329.1596984863281 lr: 0.00031623\n",
      "Iter: 14/695, loss_train: 6.7951, loss_val: nan, pos_over_neg: 318.9462890625 lr: 0.00031623\n",
      "Iter: 15/695, loss_train: 6.7902, loss_val: nan, pos_over_neg: 494.8314514160156 lr: 0.00031623\n",
      "Iter: 16/695, loss_train: 6.7863, loss_val: nan, pos_over_neg: 371.914794921875 lr: 0.00031623\n",
      "Iter: 17/695, loss_train: 6.7824, loss_val: nan, pos_over_neg: 682.8140869140625 lr: 0.00031623\n",
      "Iter: 18/695, loss_train: 6.781, loss_val: nan, pos_over_neg: 462.1175231933594 lr: 0.00031623\n",
      "Iter: 19/695, loss_train: 6.778, loss_val: nan, pos_over_neg: 710.3366088867188 lr: 0.00031623\n",
      "Iter: 20/695, loss_train: 6.7795, loss_val: nan, pos_over_neg: 832.126220703125 lr: 0.00031623\n",
      "Iter: 21/695, loss_train: 6.7786, loss_val: nan, pos_over_neg: 1822.4228515625 lr: 0.00031623\n",
      "Iter: 22/695, loss_train: 6.7732, loss_val: nan, pos_over_neg: 2250.2353515625 lr: 0.00031623\n",
      "Iter: 23/695, loss_train: 6.773, loss_val: nan, pos_over_neg: 1488.4595947265625 lr: 0.00031623\n",
      "Iter: 24/695, loss_train: 6.7706, loss_val: nan, pos_over_neg: 1563.9688720703125 lr: 0.00031623\n",
      "Iter: 25/695, loss_train: 6.7669, loss_val: nan, pos_over_neg: 2569.7333984375 lr: 0.00031623\n",
      "Iter: 26/695, loss_train: 6.765, loss_val: nan, pos_over_neg: 1563.505615234375 lr: 0.00031623\n",
      "Iter: 27/695, loss_train: 6.7619, loss_val: nan, pos_over_neg: 3592.286376953125 lr: 0.00031623\n",
      "Iter: 28/695, loss_train: 6.7595, loss_val: nan, pos_over_neg: -189381.390625 lr: 0.00031623\n",
      "Iter: 29/695, loss_train: 6.7565, loss_val: nan, pos_over_neg: 1948.1236572265625 lr: 0.00031623\n",
      "Iter: 30/695, loss_train: 6.7582, loss_val: nan, pos_over_neg: -13029.9697265625 lr: 0.00031623\n",
      "Iter: 31/695, loss_train: 6.7534, loss_val: nan, pos_over_neg: -481682.4375 lr: 0.00031623\n",
      "Iter: 32/695, loss_train: 6.7514, loss_val: nan, pos_over_neg: -8689.4970703125 lr: 0.00031623\n",
      "Iter: 33/695, loss_train: 6.7461, loss_val: nan, pos_over_neg: 2413.865966796875 lr: 0.00031623\n",
      "Iter: 34/695, loss_train: 6.7449, loss_val: nan, pos_over_neg: 1758.714111328125 lr: 0.00031623\n",
      "Iter: 35/695, loss_train: 6.7422, loss_val: nan, pos_over_neg: 8632.30078125 lr: 0.00031623\n",
      "Iter: 36/695, loss_train: 6.7387, loss_val: nan, pos_over_neg: 1641.330810546875 lr: 0.00031623\n",
      "Iter: 37/695, loss_train: 6.7371, loss_val: nan, pos_over_neg: 1643.5279541015625 lr: 0.00031623\n",
      "Iter: 38/695, loss_train: 6.7338, loss_val: nan, pos_over_neg: 894.1646728515625 lr: 0.00031623\n",
      "Iter: 39/695, loss_train: 6.7308, loss_val: nan, pos_over_neg: -14217.3955078125 lr: 0.00031623\n",
      "Iter: 40/695, loss_train: 6.7305, loss_val: nan, pos_over_neg: 12839.7197265625 lr: 0.00031623\n",
      "Iter: 41/695, loss_train: 6.7291, loss_val: nan, pos_over_neg: 1620.3143310546875 lr: 0.00031623\n",
      "Iter: 42/695, loss_train: 6.7274, loss_val: nan, pos_over_neg: 1478.850830078125 lr: 0.00031623\n",
      "Iter: 43/695, loss_train: 6.7247, loss_val: nan, pos_over_neg: 4729.58837890625 lr: 0.00031623\n",
      "Iter: 44/695, loss_train: 6.7235, loss_val: nan, pos_over_neg: 1321.3111572265625 lr: 0.00031623\n",
      "Iter: 45/695, loss_train: 6.7241, loss_val: nan, pos_over_neg: 1007.7737426757812 lr: 0.00031623\n",
      "Iter: 46/695, loss_train: 6.7216, loss_val: nan, pos_over_neg: 2121.697998046875 lr: 0.00031623\n",
      "Iter: 47/695, loss_train: 6.7185, loss_val: nan, pos_over_neg: 631.6055908203125 lr: 0.00031623\n",
      "Iter: 48/695, loss_train: 6.7172, loss_val: nan, pos_over_neg: 793.4332885742188 lr: 0.00031623\n",
      "Iter: 49/695, loss_train: 6.7185, loss_val: nan, pos_over_neg: 301.014404296875 lr: 0.00031623\n",
      "Iter: 50/695, loss_train: 6.7152, loss_val: nan, pos_over_neg: 1559.1134033203125 lr: 0.00031623\n",
      "Iter: 51/695, loss_train: 6.7159, loss_val: nan, pos_over_neg: 565.0895385742188 lr: 0.00031623\n",
      "Iter: 52/695, loss_train: 6.7158, loss_val: nan, pos_over_neg: 899.1016235351562 lr: 0.00031623\n",
      "Iter: 53/695, loss_train: 6.7153, loss_val: nan, pos_over_neg: 442.11920166015625 lr: 0.00031623\n",
      "Iter: 54/695, loss_train: 6.7118, loss_val: nan, pos_over_neg: 720.3220825195312 lr: 0.00031623\n",
      "Iter: 55/695, loss_train: 6.7126, loss_val: nan, pos_over_neg: 945.5939331054688 lr: 0.00031623\n",
      "Iter: 56/695, loss_train: 6.7128, loss_val: nan, pos_over_neg: 427.7915344238281 lr: 0.00031623\n",
      "Iter: 57/695, loss_train: 6.7104, loss_val: nan, pos_over_neg: 982.3171997070312 lr: 0.00031623\n",
      "Iter: 58/695, loss_train: 6.7095, loss_val: nan, pos_over_neg: 654.3359375 lr: 0.00031623\n",
      "Iter: 59/695, loss_train: 6.7098, loss_val: nan, pos_over_neg: 532.8771362304688 lr: 0.00031623\n",
      "Iter: 60/695, loss_train: 6.708, loss_val: nan, pos_over_neg: 2141.935791015625 lr: 0.00031623\n",
      "Iter: 61/695, loss_train: 6.7096, loss_val: nan, pos_over_neg: 575.7227172851562 lr: 0.00031623\n",
      "Iter: 62/695, loss_train: 6.7081, loss_val: nan, pos_over_neg: 1280.521728515625 lr: 0.00031623\n",
      "Iter: 63/695, loss_train: 6.7064, loss_val: nan, pos_over_neg: 780.8154907226562 lr: 0.00031623\n",
      "Iter: 64/695, loss_train: 6.7063, loss_val: nan, pos_over_neg: 598.2702026367188 lr: 0.00031623\n",
      "Iter: 65/695, loss_train: 6.7056, loss_val: nan, pos_over_neg: 1091.574951171875 lr: 0.00031623\n",
      "Iter: 66/695, loss_train: 6.7046, loss_val: nan, pos_over_neg: 1628.51220703125 lr: 0.00031623\n",
      "Iter: 67/695, loss_train: 6.7077, loss_val: nan, pos_over_neg: 268.505859375 lr: 0.00031623\n",
      "Iter: 68/695, loss_train: 6.7058, loss_val: nan, pos_over_neg: 400.50518798828125 lr: 0.00031623\n",
      "Iter: 69/695, loss_train: 6.7087, loss_val: nan, pos_over_neg: 170.07366943359375 lr: 0.00031623\n",
      "Iter: 70/695, loss_train: 6.7054, loss_val: nan, pos_over_neg: 1171.204345703125 lr: 0.00031623\n",
      "Iter: 71/695, loss_train: 6.7055, loss_val: nan, pos_over_neg: 381.32958984375 lr: 0.00031623\n",
      "Iter: 72/695, loss_train: 6.702, loss_val: nan, pos_over_neg: 595.7553100585938 lr: 0.00031623\n",
      "Iter: 73/695, loss_train: 6.702, loss_val: nan, pos_over_neg: 730.1171875 lr: 0.00031623\n",
      "Iter: 74/695, loss_train: 6.7016, loss_val: nan, pos_over_neg: 501.1973876953125 lr: 0.00031623\n",
      "Iter: 75/695, loss_train: 6.703, loss_val: nan, pos_over_neg: 486.8318786621094 lr: 0.00031623\n",
      "Iter: 76/695, loss_train: 6.7021, loss_val: nan, pos_over_neg: 575.642822265625 lr: 0.00031623\n",
      "Iter: 77/695, loss_train: 6.7016, loss_val: nan, pos_over_neg: 865.8643798828125 lr: 0.00031623\n",
      "Iter: 78/695, loss_train: 6.701, loss_val: nan, pos_over_neg: 638.1712646484375 lr: 0.00031623\n",
      "Iter: 79/695, loss_train: 6.6981, loss_val: nan, pos_over_neg: 582.336181640625 lr: 0.00031623\n",
      "Iter: 80/695, loss_train: 6.6995, loss_val: nan, pos_over_neg: 479.6927795410156 lr: 0.00031623\n",
      "Iter: 81/695, loss_train: 6.6987, loss_val: nan, pos_over_neg: 574.9765625 lr: 0.00031623\n",
      "Iter: 82/695, loss_train: 6.7002, loss_val: nan, pos_over_neg: 421.6682434082031 lr: 0.00031623\n",
      "Iter: 83/695, loss_train: 6.6978, loss_val: nan, pos_over_neg: 432.1294860839844 lr: 0.00031623\n",
      "Iter: 84/695, loss_train: 6.6998, loss_val: nan, pos_over_neg: 569.9822387695312 lr: 0.00031623\n",
      "Iter: 85/695, loss_train: 6.7005, loss_val: nan, pos_over_neg: 317.531494140625 lr: 0.00031623\n",
      "Iter: 86/695, loss_train: 6.6979, loss_val: nan, pos_over_neg: 517.2173461914062 lr: 0.00031623\n",
      "Iter: 87/695, loss_train: 6.696, loss_val: nan, pos_over_neg: 460.1745910644531 lr: 0.00031623\n",
      "Iter: 88/695, loss_train: 6.6966, loss_val: nan, pos_over_neg: 481.6793518066406 lr: 0.00031623\n",
      "Iter: 89/695, loss_train: 6.7001, loss_val: nan, pos_over_neg: 202.82498168945312 lr: 0.00031623\n",
      "Iter: 90/695, loss_train: 6.6978, loss_val: nan, pos_over_neg: 485.1715087890625 lr: 0.00031623\n",
      "Iter: 91/695, loss_train: 6.6974, loss_val: nan, pos_over_neg: 251.86402893066406 lr: 0.00031623\n",
      "Iter: 92/695, loss_train: 6.6948, loss_val: nan, pos_over_neg: 396.5999755859375 lr: 0.00031623\n",
      "Iter: 93/695, loss_train: 6.696, loss_val: nan, pos_over_neg: 277.3101501464844 lr: 0.00031623\n",
      "Iter: 94/695, loss_train: 6.697, loss_val: nan, pos_over_neg: 243.7620849609375 lr: 0.00031623\n",
      "Iter: 95/695, loss_train: 6.6939, loss_val: nan, pos_over_neg: 711.3076782226562 lr: 0.00031623\n",
      "Iter: 96/695, loss_train: 6.693, loss_val: nan, pos_over_neg: 1349.0845947265625 lr: 0.00031623\n",
      "Iter: 97/695, loss_train: 6.6959, loss_val: nan, pos_over_neg: 313.7767028808594 lr: 0.00031623\n",
      "Iter: 98/695, loss_train: 6.6924, loss_val: nan, pos_over_neg: 811.57080078125 lr: 0.00031623\n",
      "Iter: 99/695, loss_train: 6.6932, loss_val: nan, pos_over_neg: 480.90191650390625 lr: 0.00031623\n",
      "Iter: 100/695, loss_train: 6.694, loss_val: nan, pos_over_neg: 340.07965087890625 lr: 0.00031623\n",
      "Iter: 101/695, loss_train: 6.6922, loss_val: nan, pos_over_neg: 502.00439453125 lr: 0.00031623\n",
      "Iter: 102/695, loss_train: 6.6906, loss_val: nan, pos_over_neg: 837.0889282226562 lr: 0.00031623\n",
      "Iter: 103/695, loss_train: 6.6932, loss_val: nan, pos_over_neg: 590.4345092773438 lr: 0.00031623\n",
      "Iter: 104/695, loss_train: 6.6903, loss_val: nan, pos_over_neg: 698.511474609375 lr: 0.00031623\n",
      "Iter: 105/695, loss_train: 6.6916, loss_val: nan, pos_over_neg: 503.8891296386719 lr: 0.00031623\n",
      "Iter: 106/695, loss_train: 6.689, loss_val: nan, pos_over_neg: 796.3826293945312 lr: 0.00031623\n",
      "Iter: 107/695, loss_train: 6.6916, loss_val: nan, pos_over_neg: 382.9632568359375 lr: 0.00031623\n",
      "Iter: 108/695, loss_train: 6.6886, loss_val: nan, pos_over_neg: 1071.5218505859375 lr: 0.00031623\n",
      "Iter: 109/695, loss_train: 6.6908, loss_val: nan, pos_over_neg: 289.1947937011719 lr: 0.00031623\n",
      "Iter: 110/695, loss_train: 6.6889, loss_val: nan, pos_over_neg: 688.968505859375 lr: 0.00031623\n",
      "Iter: 111/695, loss_train: 6.6877, loss_val: nan, pos_over_neg: 913.4000244140625 lr: 0.00031623\n",
      "Iter: 112/695, loss_train: 6.6893, loss_val: nan, pos_over_neg: 513.038330078125 lr: 0.00031623\n",
      "Iter: 113/695, loss_train: 6.688, loss_val: nan, pos_over_neg: 891.1026611328125 lr: 0.00031623\n",
      "Iter: 114/695, loss_train: 6.6894, loss_val: nan, pos_over_neg: 392.6341857910156 lr: 0.00031623\n",
      "Iter: 115/695, loss_train: 6.6878, loss_val: nan, pos_over_neg: 530.7907104492188 lr: 0.00031623\n",
      "Iter: 116/695, loss_train: 6.6876, loss_val: nan, pos_over_neg: 716.6972045898438 lr: 0.00031623\n",
      "Iter: 117/695, loss_train: 6.6895, loss_val: nan, pos_over_neg: 302.0242919921875 lr: 0.00031623\n",
      "Iter: 118/695, loss_train: 6.6875, loss_val: nan, pos_over_neg: 726.8359375 lr: 0.00031623\n",
      "Iter: 119/695, loss_train: 6.6867, loss_val: nan, pos_over_neg: 1005.7700805664062 lr: 0.00031623\n",
      "Iter: 120/695, loss_train: 6.688, loss_val: nan, pos_over_neg: 345.20428466796875 lr: 0.00031623\n",
      "Iter: 121/695, loss_train: 6.6857, loss_val: nan, pos_over_neg: 857.0377197265625 lr: 0.00031623\n",
      "Iter: 122/695, loss_train: 6.6863, loss_val: nan, pos_over_neg: 600.1869506835938 lr: 0.00031623\n",
      "Iter: 123/695, loss_train: 6.6879, loss_val: nan, pos_over_neg: 414.3773498535156 lr: 0.00031623\n",
      "Iter: 124/695, loss_train: 6.6852, loss_val: nan, pos_over_neg: 1280.981689453125 lr: 0.00031623\n",
      "Iter: 125/695, loss_train: 6.6858, loss_val: nan, pos_over_neg: 414.5130615234375 lr: 0.00031623\n",
      "Iter: 126/695, loss_train: 6.6841, loss_val: nan, pos_over_neg: 1238.7203369140625 lr: 0.00031623\n",
      "Iter: 127/695, loss_train: 6.6852, loss_val: nan, pos_over_neg: 1016.0532836914062 lr: 0.00031623\n",
      "Iter: 128/695, loss_train: 6.6869, loss_val: nan, pos_over_neg: 365.4170837402344 lr: 0.00031623\n",
      "Iter: 129/695, loss_train: 6.6858, loss_val: nan, pos_over_neg: 761.5388793945312 lr: 0.00031623\n",
      "Iter: 130/695, loss_train: 6.684, loss_val: nan, pos_over_neg: 708.2809448242188 lr: 0.00031623\n",
      "Iter: 131/695, loss_train: 6.6849, loss_val: nan, pos_over_neg: 519.6168823242188 lr: 0.00031623\n",
      "Iter: 132/695, loss_train: 6.6847, loss_val: nan, pos_over_neg: 623.2352905273438 lr: 0.00031623\n",
      "Iter: 133/695, loss_train: 6.6848, loss_val: nan, pos_over_neg: 600.1995239257812 lr: 0.00031623\n",
      "Iter: 134/695, loss_train: 6.6867, loss_val: nan, pos_over_neg: 415.05059814453125 lr: 0.00031623\n",
      "Iter: 135/695, loss_train: 6.6843, loss_val: nan, pos_over_neg: 327.1474914550781 lr: 0.00031623\n",
      "Iter: 136/695, loss_train: 6.6846, loss_val: nan, pos_over_neg: 298.80487060546875 lr: 0.00031623\n",
      "Iter: 137/695, loss_train: 6.6848, loss_val: nan, pos_over_neg: 346.7759094238281 lr: 0.00031623\n",
      "Iter: 138/695, loss_train: 6.6839, loss_val: nan, pos_over_neg: 514.5671997070312 lr: 0.00031623\n",
      "Iter: 139/695, loss_train: 6.6837, loss_val: nan, pos_over_neg: 265.3744812011719 lr: 0.00031623\n",
      "Iter: 140/695, loss_train: 6.6828, loss_val: nan, pos_over_neg: 419.72760009765625 lr: 0.00031623\n",
      "Iter: 141/695, loss_train: 6.6831, loss_val: nan, pos_over_neg: 351.2313537597656 lr: 0.00031623\n",
      "Iter: 142/695, loss_train: 6.6855, loss_val: nan, pos_over_neg: 197.6950225830078 lr: 0.00031623\n",
      "Iter: 143/695, loss_train: 6.6821, loss_val: nan, pos_over_neg: 441.95440673828125 lr: 0.00031623\n",
      "Iter: 144/695, loss_train: 6.6845, loss_val: nan, pos_over_neg: 324.69915771484375 lr: 0.00031623\n",
      "Iter: 145/695, loss_train: 6.684, loss_val: nan, pos_over_neg: 321.8498229980469 lr: 0.00031623\n",
      "Iter: 146/695, loss_train: 6.6821, loss_val: nan, pos_over_neg: 380.7648620605469 lr: 0.00031623\n",
      "Iter: 147/695, loss_train: 6.6817, loss_val: nan, pos_over_neg: 420.9644470214844 lr: 0.00031623\n",
      "Iter: 148/695, loss_train: 6.6841, loss_val: nan, pos_over_neg: 220.1575164794922 lr: 0.00031623\n",
      "Iter: 149/695, loss_train: 6.6839, loss_val: nan, pos_over_neg: 285.3516540527344 lr: 0.00031623\n",
      "Iter: 150/695, loss_train: 6.68, loss_val: nan, pos_over_neg: 699.094482421875 lr: 0.00031623\n",
      "Iter: 151/695, loss_train: 6.6815, loss_val: nan, pos_over_neg: 359.0501708984375 lr: 0.00031623\n",
      "Iter: 152/695, loss_train: 6.6828, loss_val: nan, pos_over_neg: 345.7896728515625 lr: 0.00031623\n",
      "Iter: 153/695, loss_train: 6.6804, loss_val: nan, pos_over_neg: 2270.294189453125 lr: 0.00031623\n",
      "Iter: 154/695, loss_train: 6.6821, loss_val: nan, pos_over_neg: 377.51397705078125 lr: 0.00031623\n",
      "Iter: 155/695, loss_train: 6.6806, loss_val: nan, pos_over_neg: 629.3304443359375 lr: 0.00031623\n",
      "Iter: 156/695, loss_train: 6.6805, loss_val: nan, pos_over_neg: 812.7015991210938 lr: 0.00031623\n",
      "Iter: 157/695, loss_train: 6.6825, loss_val: nan, pos_over_neg: 352.8458251953125 lr: 0.00031623\n",
      "Iter: 158/695, loss_train: 6.6809, loss_val: nan, pos_over_neg: 258.0115661621094 lr: 0.00031623\n",
      "Iter: 159/695, loss_train: 6.6835, loss_val: nan, pos_over_neg: 203.3988494873047 lr: 0.00031623\n",
      "Iter: 160/695, loss_train: 6.6795, loss_val: nan, pos_over_neg: 1121.5660400390625 lr: 0.00031623\n",
      "Iter: 161/695, loss_train: 6.6804, loss_val: nan, pos_over_neg: 257.33367919921875 lr: 0.00031623\n",
      "Iter: 162/695, loss_train: 6.6796, loss_val: nan, pos_over_neg: 500.9829406738281 lr: 0.00031623\n",
      "Iter: 163/695, loss_train: 6.6804, loss_val: nan, pos_over_neg: 708.0167236328125 lr: 0.00031623\n",
      "Iter: 164/695, loss_train: 6.6795, loss_val: nan, pos_over_neg: 776.2415161132812 lr: 0.00031623\n",
      "Iter: 165/695, loss_train: 6.68, loss_val: nan, pos_over_neg: 221.18455505371094 lr: 0.00031623\n",
      "Iter: 166/695, loss_train: 6.6781, loss_val: nan, pos_over_neg: 577.3609008789062 lr: 0.00031623\n",
      "Iter: 167/695, loss_train: 6.679, loss_val: nan, pos_over_neg: 566.9551391601562 lr: 0.00031623\n",
      "Iter: 168/695, loss_train: 6.6796, loss_val: nan, pos_over_neg: 339.4981384277344 lr: 0.00031623\n",
      "Iter: 169/695, loss_train: 6.6796, loss_val: nan, pos_over_neg: 322.532470703125 lr: 0.00031623\n",
      "Iter: 170/695, loss_train: 6.6767, loss_val: nan, pos_over_neg: 825.0678100585938 lr: 0.00031623\n",
      "Iter: 171/695, loss_train: 6.6796, loss_val: nan, pos_over_neg: 364.0158996582031 lr: 0.00031623\n",
      "Iter: 172/695, loss_train: 6.6796, loss_val: nan, pos_over_neg: 312.7375793457031 lr: 0.00031623\n",
      "Iter: 173/695, loss_train: 6.6785, loss_val: nan, pos_over_neg: 560.5420532226562 lr: 0.00031623\n",
      "Iter: 174/695, loss_train: 6.6778, loss_val: nan, pos_over_neg: 433.2564697265625 lr: 0.00031623\n",
      "Iter: 175/695, loss_train: 6.6771, loss_val: nan, pos_over_neg: 567.0161743164062 lr: 0.00031623\n",
      "Iter: 176/695, loss_train: 6.6747, loss_val: nan, pos_over_neg: 699.0043334960938 lr: 0.00031623\n",
      "Iter: 177/695, loss_train: 6.6775, loss_val: nan, pos_over_neg: 935.263916015625 lr: 0.00031623\n",
      "Iter: 178/695, loss_train: 6.6783, loss_val: nan, pos_over_neg: 513.1069946289062 lr: 0.00031623\n",
      "Iter: 179/695, loss_train: 6.677, loss_val: nan, pos_over_neg: 666.8201904296875 lr: 0.00031623\n",
      "Iter: 180/695, loss_train: 6.6757, loss_val: nan, pos_over_neg: 680.7477416992188 lr: 0.00031623\n",
      "Iter: 181/695, loss_train: 6.6756, loss_val: nan, pos_over_neg: 759.7131958007812 lr: 0.00031623\n",
      "Iter: 182/695, loss_train: 6.6769, loss_val: nan, pos_over_neg: 665.8564453125 lr: 0.00031623\n",
      "Iter: 183/695, loss_train: 6.676, loss_val: nan, pos_over_neg: 513.2462768554688 lr: 0.00031623\n",
      "Iter: 184/695, loss_train: 6.6756, loss_val: nan, pos_over_neg: 558.541259765625 lr: 0.00031623\n",
      "Iter: 185/695, loss_train: 6.6749, loss_val: nan, pos_over_neg: 999.842529296875 lr: 0.00031623\n",
      "Iter: 186/695, loss_train: 6.6748, loss_val: nan, pos_over_neg: 756.0440063476562 lr: 0.00031623\n",
      "Iter: 187/695, loss_train: 6.6763, loss_val: nan, pos_over_neg: 529.1528930664062 lr: 0.00031623\n",
      "Iter: 188/695, loss_train: 6.6759, loss_val: nan, pos_over_neg: 465.23602294921875 lr: 0.00031623\n",
      "Iter: 189/695, loss_train: 6.6755, loss_val: nan, pos_over_neg: 480.8523864746094 lr: 0.00031623\n",
      "Iter: 190/695, loss_train: 6.6748, loss_val: nan, pos_over_neg: 1296.376220703125 lr: 0.00031623\n",
      "Iter: 191/695, loss_train: 6.6762, loss_val: nan, pos_over_neg: 485.0675964355469 lr: 0.00031623\n",
      "Iter: 192/695, loss_train: 6.676, loss_val: nan, pos_over_neg: 493.2228088378906 lr: 0.00031623\n",
      "Iter: 193/695, loss_train: 6.6753, loss_val: nan, pos_over_neg: 589.6536865234375 lr: 0.00031623\n",
      "Iter: 194/695, loss_train: 6.6746, loss_val: nan, pos_over_neg: 862.7638549804688 lr: 0.00031623\n",
      "Iter: 195/695, loss_train: 6.6755, loss_val: nan, pos_over_neg: 392.70098876953125 lr: 0.00031623\n",
      "Iter: 196/695, loss_train: 6.6758, loss_val: nan, pos_over_neg: 681.2892456054688 lr: 0.00031623\n",
      "Iter: 197/695, loss_train: 6.6737, loss_val: nan, pos_over_neg: 1249.11083984375 lr: 0.00031623\n",
      "Iter: 198/695, loss_train: 6.6761, loss_val: nan, pos_over_neg: 345.4059753417969 lr: 0.00031623\n",
      "Iter: 199/695, loss_train: 6.6763, loss_val: nan, pos_over_neg: 468.0899963378906 lr: 0.00031623\n",
      "Iter: 200/695, loss_train: 6.6725, loss_val: nan, pos_over_neg: 3718.161865234375 lr: 0.00031623\n",
      "Iter: 201/695, loss_train: 6.674, loss_val: nan, pos_over_neg: 569.0313110351562 lr: 0.00031623\n",
      "Iter: 202/695, loss_train: 6.6753, loss_val: nan, pos_over_neg: 759.462890625 lr: 0.00031623\n",
      "Iter: 203/695, loss_train: 6.6761, loss_val: nan, pos_over_neg: 417.57598876953125 lr: 0.00031623\n",
      "Iter: 204/695, loss_train: 6.6746, loss_val: nan, pos_over_neg: 1402.86083984375 lr: 0.00031623\n",
      "Iter: 205/695, loss_train: 6.6745, loss_val: nan, pos_over_neg: 436.1471252441406 lr: 0.00031623\n",
      "Iter: 206/695, loss_train: 6.6762, loss_val: nan, pos_over_neg: 349.97833251953125 lr: 0.00031623\n",
      "Iter: 207/695, loss_train: 6.6745, loss_val: nan, pos_over_neg: 595.9354858398438 lr: 0.00031623\n",
      "Iter: 208/695, loss_train: 6.6743, loss_val: nan, pos_over_neg: 480.4422302246094 lr: 0.00031623\n",
      "Iter: 209/695, loss_train: 6.6758, loss_val: nan, pos_over_neg: 424.41864013671875 lr: 0.00031623\n",
      "Iter: 210/695, loss_train: 6.6747, loss_val: nan, pos_over_neg: 508.9354248046875 lr: 0.00031623\n",
      "Iter: 211/695, loss_train: 6.6736, loss_val: nan, pos_over_neg: 712.1231689453125 lr: 0.00031623\n",
      "Iter: 212/695, loss_train: 6.6745, loss_val: nan, pos_over_neg: 291.8681335449219 lr: 0.00031623\n",
      "Iter: 213/695, loss_train: 6.6729, loss_val: nan, pos_over_neg: 767.3269653320312 lr: 0.00031623\n",
      "Iter: 214/695, loss_train: 6.6725, loss_val: nan, pos_over_neg: 430.9232177734375 lr: 0.00031623\n",
      "Iter: 215/695, loss_train: 6.6735, loss_val: nan, pos_over_neg: 479.8709411621094 lr: 0.00031623\n",
      "Iter: 216/695, loss_train: 6.6741, loss_val: nan, pos_over_neg: 400.47802734375 lr: 0.00031623\n",
      "Iter: 217/695, loss_train: 6.6715, loss_val: nan, pos_over_neg: 701.4325561523438 lr: 0.00031623\n",
      "Iter: 218/695, loss_train: 6.6749, loss_val: nan, pos_over_neg: 318.0564270019531 lr: 0.00031623\n",
      "Iter: 219/695, loss_train: 6.6713, loss_val: nan, pos_over_neg: 567.2589111328125 lr: 0.00031623\n",
      "Iter: 220/695, loss_train: 6.6711, loss_val: nan, pos_over_neg: 1697.2001953125 lr: 0.00031623\n",
      "Iter: 221/695, loss_train: 6.6751, loss_val: nan, pos_over_neg: 302.99139404296875 lr: 0.00031623\n",
      "Iter: 222/695, loss_train: 6.6739, loss_val: nan, pos_over_neg: 313.802978515625 lr: 0.00031623\n",
      "Iter: 223/695, loss_train: 6.6749, loss_val: nan, pos_over_neg: 466.74810791015625 lr: 0.00031623\n",
      "Iter: 224/695, loss_train: 6.6731, loss_val: nan, pos_over_neg: 467.1491394042969 lr: 0.00031623\n",
      "Iter: 225/695, loss_train: 6.6729, loss_val: nan, pos_over_neg: 516.712890625 lr: 0.00031623\n",
      "Iter: 226/695, loss_train: 6.6732, loss_val: nan, pos_over_neg: 403.66387939453125 lr: 0.00031623\n",
      "Iter: 227/695, loss_train: 6.673, loss_val: nan, pos_over_neg: 574.6102905273438 lr: 0.00031623\n",
      "Iter: 228/695, loss_train: 6.6713, loss_val: nan, pos_over_neg: 769.521484375 lr: 0.00031623\n",
      "Iter: 229/695, loss_train: 6.6719, loss_val: nan, pos_over_neg: 720.0271606445312 lr: 0.00031623\n",
      "Iter: 230/695, loss_train: 6.6726, loss_val: nan, pos_over_neg: 627.46240234375 lr: 0.00031623\n",
      "Iter: 231/695, loss_train: 6.673, loss_val: nan, pos_over_neg: 394.2757873535156 lr: 0.00031623\n",
      "Iter: 232/695, loss_train: 6.6716, loss_val: nan, pos_over_neg: 835.1092529296875 lr: 0.00031623\n",
      "Iter: 233/695, loss_train: 6.6727, loss_val: nan, pos_over_neg: 315.6431884765625 lr: 0.00031623\n",
      "Iter: 234/695, loss_train: 6.6729, loss_val: nan, pos_over_neg: 416.0600891113281 lr: 0.00031623\n",
      "Iter: 235/695, loss_train: 6.6709, loss_val: nan, pos_over_neg: 1672.2913818359375 lr: 0.00031623\n",
      "Iter: 236/695, loss_train: 6.6712, loss_val: nan, pos_over_neg: 615.3232421875 lr: 0.00031623\n",
      "Iter: 237/695, loss_train: 6.6698, loss_val: nan, pos_over_neg: 1247.9732666015625 lr: 0.00031623\n",
      "Iter: 238/695, loss_train: 6.6725, loss_val: nan, pos_over_neg: 377.0261535644531 lr: 0.00031623\n",
      "Iter: 239/695, loss_train: 6.6714, loss_val: nan, pos_over_neg: 601.2100219726562 lr: 0.00031623\n",
      "Iter: 240/695, loss_train: 6.6697, loss_val: nan, pos_over_neg: 1296.602783203125 lr: 0.00031623\n",
      "Iter: 241/695, loss_train: 6.6729, loss_val: nan, pos_over_neg: 736.6991577148438 lr: 0.00031623\n",
      "Iter: 242/695, loss_train: 6.6687, loss_val: nan, pos_over_neg: 974.7127075195312 lr: 0.00031623\n",
      "Iter: 243/695, loss_train: 6.672, loss_val: nan, pos_over_neg: 651.3097534179688 lr: 0.00031623\n",
      "Iter: 244/695, loss_train: 6.6726, loss_val: nan, pos_over_neg: 959.6699829101562 lr: 0.00031623\n",
      "Iter: 245/695, loss_train: 6.671, loss_val: nan, pos_over_neg: 624.87451171875 lr: 0.00031623\n",
      "Iter: 246/695, loss_train: 6.6701, loss_val: nan, pos_over_neg: 1996.1171875 lr: 0.00031623\n",
      "Iter: 247/695, loss_train: 6.6693, loss_val: nan, pos_over_neg: 1481.5625 lr: 0.00031623\n",
      "Iter: 248/695, loss_train: 6.6698, loss_val: nan, pos_over_neg: 880.6666870117188 lr: 0.00031623\n",
      "Iter: 249/695, loss_train: 6.6684, loss_val: nan, pos_over_neg: 2135.382080078125 lr: 0.00031623\n",
      "Iter: 250/695, loss_train: 6.6685, loss_val: nan, pos_over_neg: 800.7025146484375 lr: 0.00031623\n",
      "Iter: 251/695, loss_train: 6.6706, loss_val: nan, pos_over_neg: 661.0148315429688 lr: 0.00031623\n",
      "Iter: 252/695, loss_train: 6.6693, loss_val: nan, pos_over_neg: 714.1060180664062 lr: 0.00031623\n",
      "Iter: 253/695, loss_train: 6.6691, loss_val: nan, pos_over_neg: 1666.7490234375 lr: 0.00031623\n",
      "Iter: 254/695, loss_train: 6.669, loss_val: nan, pos_over_neg: 1705.634521484375 lr: 0.00031623\n",
      "Iter: 255/695, loss_train: 6.6703, loss_val: nan, pos_over_neg: 671.7449340820312 lr: 0.00031623\n",
      "Iter: 256/695, loss_train: 6.6694, loss_val: nan, pos_over_neg: 1006.4884643554688 lr: 0.00031623\n",
      "Iter: 257/695, loss_train: 6.6705, loss_val: nan, pos_over_neg: 611.88037109375 lr: 0.00031623\n",
      "Iter: 258/695, loss_train: 6.6689, loss_val: nan, pos_over_neg: 670.8111572265625 lr: 0.00031623\n",
      "Iter: 259/695, loss_train: 6.6701, loss_val: nan, pos_over_neg: 730.1121215820312 lr: 0.00031623\n",
      "Iter: 260/695, loss_train: 6.6704, loss_val: nan, pos_over_neg: 763.3696899414062 lr: 0.00031623\n",
      "Iter: 261/695, loss_train: 6.671, loss_val: nan, pos_over_neg: 507.2080078125 lr: 0.00031623\n",
      "Iter: 262/695, loss_train: 6.6696, loss_val: nan, pos_over_neg: 2097.89697265625 lr: 0.00031623\n",
      "Iter: 263/695, loss_train: 6.6696, loss_val: nan, pos_over_neg: 321.972412109375 lr: 0.00031623\n",
      "Iter: 264/695, loss_train: 6.6689, loss_val: nan, pos_over_neg: 1373.9786376953125 lr: 0.00031623\n",
      "Iter: 265/695, loss_train: 6.6689, loss_val: nan, pos_over_neg: 485.4927978515625 lr: 0.00031623\n",
      "Iter: 266/695, loss_train: 6.6694, loss_val: nan, pos_over_neg: 667.3197021484375 lr: 0.00031623\n",
      "Iter: 267/695, loss_train: 6.6708, loss_val: nan, pos_over_neg: 734.6180419921875 lr: 0.00031623\n",
      "Iter: 268/695, loss_train: 6.6679, loss_val: nan, pos_over_neg: 882.0281372070312 lr: 0.00031623\n",
      "Iter: 269/695, loss_train: 6.6687, loss_val: nan, pos_over_neg: 861.8843383789062 lr: 0.00031623\n",
      "Iter: 270/695, loss_train: 6.6692, loss_val: nan, pos_over_neg: 650.3729858398438 lr: 0.00031623\n",
      "Iter: 271/695, loss_train: 6.6679, loss_val: nan, pos_over_neg: 1211.6075439453125 lr: 0.00031623\n",
      "Iter: 272/695, loss_train: 6.6702, loss_val: nan, pos_over_neg: 509.4366149902344 lr: 0.00031623\n",
      "Iter: 273/695, loss_train: 6.6678, loss_val: nan, pos_over_neg: 904.5181884765625 lr: 0.00031623\n",
      "Iter: 274/695, loss_train: 6.6693, loss_val: nan, pos_over_neg: 532.704345703125 lr: 0.00031623\n",
      "Iter: 275/695, loss_train: 6.669, loss_val: nan, pos_over_neg: 819.9030151367188 lr: 0.00031623\n",
      "Iter: 276/695, loss_train: 6.6675, loss_val: nan, pos_over_neg: 826.3108520507812 lr: 0.00031623\n",
      "Iter: 277/695, loss_train: 6.6693, loss_val: nan, pos_over_neg: 345.4533996582031 lr: 0.00031623\n",
      "Iter: 278/695, loss_train: 6.6691, loss_val: nan, pos_over_neg: 466.53662109375 lr: 0.00031623\n",
      "Iter: 279/695, loss_train: 6.6694, loss_val: nan, pos_over_neg: 398.7256774902344 lr: 0.00031623\n",
      "Iter: 280/695, loss_train: 6.6699, loss_val: nan, pos_over_neg: 383.91351318359375 lr: 0.00031623\n",
      "Iter: 281/695, loss_train: 6.6697, loss_val: nan, pos_over_neg: 416.8986511230469 lr: 0.00031623\n",
      "Iter: 282/695, loss_train: 6.6676, loss_val: nan, pos_over_neg: 690.7513427734375 lr: 0.00031623\n",
      "Iter: 283/695, loss_train: 6.6709, loss_val: nan, pos_over_neg: 384.49359130859375 lr: 0.00031623\n",
      "Iter: 284/695, loss_train: 6.6691, loss_val: nan, pos_over_neg: 295.54998779296875 lr: 0.00031623\n",
      "Iter: 285/695, loss_train: 6.6663, loss_val: nan, pos_over_neg: 1298.88427734375 lr: 0.00031623\n",
      "Iter: 286/695, loss_train: 6.6683, loss_val: nan, pos_over_neg: 533.185546875 lr: 0.00031623\n",
      "Iter: 287/695, loss_train: 6.6699, loss_val: nan, pos_over_neg: 300.7017517089844 lr: 0.00031623\n",
      "Iter: 288/695, loss_train: 6.6675, loss_val: nan, pos_over_neg: 621.0377197265625 lr: 0.00031623\n",
      "Iter: 289/695, loss_train: 6.6677, loss_val: nan, pos_over_neg: 527.9453735351562 lr: 0.00031623\n",
      "Iter: 290/695, loss_train: 6.6698, loss_val: nan, pos_over_neg: 361.27276611328125 lr: 0.00031623\n",
      "Iter: 291/695, loss_train: 6.6674, loss_val: nan, pos_over_neg: 557.7418823242188 lr: 0.00031623\n",
      "Iter: 292/695, loss_train: 6.6668, loss_val: nan, pos_over_neg: 533.3145141601562 lr: 0.00031623\n",
      "Iter: 293/695, loss_train: 6.6677, loss_val: nan, pos_over_neg: 1369.4700927734375 lr: 0.00031623\n",
      "Iter: 294/695, loss_train: 6.6677, loss_val: nan, pos_over_neg: 478.30816650390625 lr: 0.00031623\n",
      "Iter: 295/695, loss_train: 6.6679, loss_val: nan, pos_over_neg: 637.8294067382812 lr: 0.00031623\n",
      "Iter: 296/695, loss_train: 6.667, loss_val: nan, pos_over_neg: 918.7452392578125 lr: 0.00031623\n",
      "Iter: 297/695, loss_train: 6.6685, loss_val: nan, pos_over_neg: 540.1748657226562 lr: 0.00031623\n",
      "Iter: 298/695, loss_train: 6.668, loss_val: nan, pos_over_neg: 732.8223876953125 lr: 0.00031623\n",
      "Iter: 299/695, loss_train: 6.6668, loss_val: nan, pos_over_neg: 891.1550903320312 lr: 0.00031623\n",
      "Iter: 300/695, loss_train: 6.6662, loss_val: nan, pos_over_neg: 1692.7301025390625 lr: 0.00031623\n",
      "Iter: 301/695, loss_train: 6.669, loss_val: nan, pos_over_neg: 438.09881591796875 lr: 0.00031623\n",
      "Iter: 302/695, loss_train: 6.6683, loss_val: nan, pos_over_neg: 566.7698364257812 lr: 0.00031623\n",
      "Iter: 303/695, loss_train: 6.6672, loss_val: nan, pos_over_neg: 507.2619934082031 lr: 0.00031623\n",
      "Iter: 304/695, loss_train: 6.667, loss_val: nan, pos_over_neg: 729.7506713867188 lr: 0.00031623\n",
      "Iter: 305/695, loss_train: 6.669, loss_val: nan, pos_over_neg: 446.25262451171875 lr: 0.00031623\n",
      "Iter: 306/695, loss_train: 6.6683, loss_val: nan, pos_over_neg: 328.559814453125 lr: 0.00031623\n",
      "Iter: 307/695, loss_train: 6.6677, loss_val: nan, pos_over_neg: 475.25 lr: 0.00031623\n",
      "Iter: 308/695, loss_train: 6.6676, loss_val: nan, pos_over_neg: 553.4601440429688 lr: 0.00031623\n",
      "Iter: 309/695, loss_train: 6.6684, loss_val: nan, pos_over_neg: 422.9543762207031 lr: 0.00031623\n",
      "Iter: 310/695, loss_train: 6.668, loss_val: nan, pos_over_neg: 386.1039123535156 lr: 0.00031623\n",
      "Iter: 311/695, loss_train: 6.6659, loss_val: nan, pos_over_neg: 1091.999267578125 lr: 0.00031623\n",
      "Iter: 312/695, loss_train: 6.6671, loss_val: nan, pos_over_neg: 630.9512329101562 lr: 0.00031623\n",
      "Iter: 313/695, loss_train: 6.6682, loss_val: nan, pos_over_neg: 273.7202453613281 lr: 0.00031623\n",
      "Iter: 314/695, loss_train: 6.6664, loss_val: nan, pos_over_neg: 1198.8924560546875 lr: 0.00031623\n",
      "Iter: 315/695, loss_train: 6.6684, loss_val: nan, pos_over_neg: 851.1297607421875 lr: 0.00031623\n",
      "Iter: 316/695, loss_train: 6.6702, loss_val: nan, pos_over_neg: 289.6849365234375 lr: 0.00031623\n",
      "Iter: 317/695, loss_train: 6.6669, loss_val: nan, pos_over_neg: 603.3609619140625 lr: 0.00031623\n",
      "Iter: 318/695, loss_train: 6.6657, loss_val: nan, pos_over_neg: 773.4583129882812 lr: 0.00031623\n",
      "Iter: 319/695, loss_train: 6.6673, loss_val: nan, pos_over_neg: 628.85595703125 lr: 0.00031623\n",
      "Iter: 320/695, loss_train: 6.667, loss_val: nan, pos_over_neg: 511.6348571777344 lr: 0.00031623\n",
      "Iter: 321/695, loss_train: 6.6677, loss_val: nan, pos_over_neg: 439.1773376464844 lr: 0.00031623\n",
      "Iter: 322/695, loss_train: 6.6663, loss_val: nan, pos_over_neg: 1358.918212890625 lr: 0.00031623\n",
      "Iter: 323/695, loss_train: 6.6673, loss_val: nan, pos_over_neg: 421.39349365234375 lr: 0.00031623\n",
      "Iter: 324/695, loss_train: 6.6661, loss_val: nan, pos_over_neg: 631.591064453125 lr: 0.00031623\n",
      "Iter: 325/695, loss_train: 6.6658, loss_val: nan, pos_over_neg: 1146.7261962890625 lr: 0.00031623\n",
      "Iter: 326/695, loss_train: 6.6668, loss_val: nan, pos_over_neg: 725.9658813476562 lr: 0.00031623\n",
      "Iter: 327/695, loss_train: 6.6673, loss_val: nan, pos_over_neg: 717.1248779296875 lr: 0.00031623\n",
      "Iter: 328/695, loss_train: 6.6676, loss_val: nan, pos_over_neg: 423.6540832519531 lr: 0.00031623\n",
      "Iter: 329/695, loss_train: 6.667, loss_val: nan, pos_over_neg: 515.3292846679688 lr: 0.00031623\n",
      "Iter: 330/695, loss_train: 6.6663, loss_val: nan, pos_over_neg: 706.41845703125 lr: 0.00031623\n",
      "Iter: 331/695, loss_train: 6.6668, loss_val: nan, pos_over_neg: 589.681396484375 lr: 0.00031623\n",
      "Iter: 332/695, loss_train: 6.6659, loss_val: nan, pos_over_neg: 689.8366088867188 lr: 0.00031623\n",
      "Iter: 333/695, loss_train: 6.6672, loss_val: nan, pos_over_neg: 678.9879150390625 lr: 0.00031623\n",
      "Iter: 334/695, loss_train: 6.6652, loss_val: nan, pos_over_neg: 732.6603393554688 lr: 0.00031623\n",
      "Iter: 335/695, loss_train: 6.6669, loss_val: nan, pos_over_neg: 753.3812866210938 lr: 0.00031623\n",
      "Iter: 336/695, loss_train: 6.6666, loss_val: nan, pos_over_neg: 815.1778564453125 lr: 0.00031623\n",
      "Iter: 337/695, loss_train: 6.6647, loss_val: nan, pos_over_neg: 933.8804931640625 lr: 0.00031623\n",
      "Iter: 338/695, loss_train: 6.666, loss_val: nan, pos_over_neg: 847.7527465820312 lr: 0.00031623\n",
      "Iter: 339/695, loss_train: 6.6658, loss_val: nan, pos_over_neg: 509.6382751464844 lr: 0.00031623\n",
      "Iter: 340/695, loss_train: 6.6653, loss_val: nan, pos_over_neg: 791.4367065429688 lr: 0.00031623\n",
      "Iter: 341/695, loss_train: 6.6678, loss_val: nan, pos_over_neg: 471.0406188964844 lr: 0.00031623\n",
      "Iter: 342/695, loss_train: 6.6649, loss_val: nan, pos_over_neg: 1219.019775390625 lr: 0.00031623\n",
      "Iter: 343/695, loss_train: 6.6652, loss_val: nan, pos_over_neg: 1171.8521728515625 lr: 0.00031623\n",
      "Iter: 344/695, loss_train: 6.6657, loss_val: nan, pos_over_neg: 901.0624389648438 lr: 0.00031623\n",
      "Iter: 345/695, loss_train: 6.6654, loss_val: nan, pos_over_neg: 909.5797119140625 lr: 0.00031623\n",
      "Iter: 346/695, loss_train: 6.666, loss_val: nan, pos_over_neg: 538.1249389648438 lr: 0.00031623\n",
      "Iter: 347/695, loss_train: 6.6648, loss_val: nan, pos_over_neg: 806.6702880859375 lr: 0.00031623\n",
      "Iter: 348/695, loss_train: 6.6652, loss_val: nan, pos_over_neg: 543.8629760742188 lr: 0.00031623\n",
      "Iter: 349/695, loss_train: 6.6664, loss_val: nan, pos_over_neg: 473.2849426269531 lr: 0.00031623\n",
      "Iter: 350/695, loss_train: 6.6668, loss_val: nan, pos_over_neg: 646.4661865234375 lr: 0.00031623\n",
      "Iter: 351/695, loss_train: 6.6643, loss_val: nan, pos_over_neg: 1228.23828125 lr: 0.00031623\n",
      "Iter: 352/695, loss_train: 6.6659, loss_val: nan, pos_over_neg: 900.8811645507812 lr: 0.00031623\n",
      "Iter: 353/695, loss_train: 6.6653, loss_val: nan, pos_over_neg: 743.3305053710938 lr: 0.00031623\n",
      "Iter: 354/695, loss_train: 6.6661, loss_val: nan, pos_over_neg: 574.8399658203125 lr: 0.00031623\n",
      "Iter: 355/695, loss_train: 6.6666, loss_val: nan, pos_over_neg: 717.482421875 lr: 0.00031623\n",
      "Iter: 356/695, loss_train: 6.6644, loss_val: nan, pos_over_neg: 1077.1754150390625 lr: 0.00031623\n",
      "Iter: 357/695, loss_train: 6.6651, loss_val: nan, pos_over_neg: 1112.476806640625 lr: 0.00031623\n",
      "Iter: 358/695, loss_train: 6.6663, loss_val: nan, pos_over_neg: 896.4321899414062 lr: 0.00031623\n",
      "Iter: 359/695, loss_train: 6.6648, loss_val: nan, pos_over_neg: 2360.540771484375 lr: 0.00031623\n",
      "Iter: 360/695, loss_train: 6.6645, loss_val: nan, pos_over_neg: 1007.2467651367188 lr: 0.00031623\n",
      "Iter: 361/695, loss_train: 6.665, loss_val: nan, pos_over_neg: 944.7321166992188 lr: 0.00031623\n",
      "Iter: 362/695, loss_train: 6.6657, loss_val: nan, pos_over_neg: 677.9815063476562 lr: 0.00031623\n",
      "Iter: 363/695, loss_train: 6.6653, loss_val: nan, pos_over_neg: 599.5775756835938 lr: 0.00031623\n",
      "Iter: 364/695, loss_train: 6.6659, loss_val: nan, pos_over_neg: 1329.2696533203125 lr: 0.00031623\n",
      "Iter: 365/695, loss_train: 6.6654, loss_val: nan, pos_over_neg: 824.5250244140625 lr: 0.00031623\n",
      "Iter: 366/695, loss_train: 6.6664, loss_val: nan, pos_over_neg: 579.050537109375 lr: 0.00031623\n",
      "Iter: 367/695, loss_train: 6.6646, loss_val: nan, pos_over_neg: 1085.538818359375 lr: 0.00031623\n",
      "Iter: 368/695, loss_train: 6.6647, loss_val: nan, pos_over_neg: 731.3287963867188 lr: 0.00031623\n",
      "Iter: 369/695, loss_train: 6.6672, loss_val: nan, pos_over_neg: 297.197265625 lr: 0.00031623\n",
      "Iter: 370/695, loss_train: 6.664, loss_val: nan, pos_over_neg: 718.6261596679688 lr: 0.00031623\n",
      "Iter: 371/695, loss_train: 6.6642, loss_val: nan, pos_over_neg: 2506.40625 lr: 0.00031623\n",
      "Iter: 372/695, loss_train: 6.6645, loss_val: nan, pos_over_neg: 802.8710327148438 lr: 0.00031623\n",
      "Iter: 373/695, loss_train: 6.6658, loss_val: nan, pos_over_neg: 609.4456176757812 lr: 0.00031623\n",
      "Iter: 374/695, loss_train: 6.6652, loss_val: nan, pos_over_neg: 447.20703125 lr: 0.00031623\n",
      "Iter: 375/695, loss_train: 6.6649, loss_val: nan, pos_over_neg: 610.1630859375 lr: 0.00031623\n",
      "Iter: 376/695, loss_train: 6.6669, loss_val: nan, pos_over_neg: 297.5738220214844 lr: 0.00031623\n",
      "Iter: 377/695, loss_train: 6.6661, loss_val: nan, pos_over_neg: 449.5802917480469 lr: 0.00031623\n",
      "Iter: 378/695, loss_train: 6.6636, loss_val: nan, pos_over_neg: 1216.224609375 lr: 0.00031623\n",
      "Iter: 379/695, loss_train: 6.6646, loss_val: nan, pos_over_neg: 461.233642578125 lr: 0.00031623\n",
      "Iter: 380/695, loss_train: 6.666, loss_val: nan, pos_over_neg: 423.72406005859375 lr: 0.00031623\n",
      "Iter: 381/695, loss_train: 6.6644, loss_val: nan, pos_over_neg: 931.1490478515625 lr: 0.00031623\n",
      "Iter: 382/695, loss_train: 6.6635, loss_val: nan, pos_over_neg: 1267.06884765625 lr: 0.00031623\n",
      "Iter: 383/695, loss_train: 6.665, loss_val: nan, pos_over_neg: 441.90484619140625 lr: 0.00031623\n",
      "Iter: 384/695, loss_train: 6.6655, loss_val: nan, pos_over_neg: 517.72705078125 lr: 0.00031623\n",
      "Iter: 385/695, loss_train: 6.6641, loss_val: nan, pos_over_neg: 948.4752197265625 lr: 0.00031623\n",
      "Iter: 386/695, loss_train: 6.6651, loss_val: nan, pos_over_neg: 599.6168212890625 lr: 0.00031623\n",
      "Iter: 387/695, loss_train: 6.6659, loss_val: nan, pos_over_neg: 407.7242736816406 lr: 0.00031623\n",
      "Iter: 388/695, loss_train: 6.6641, loss_val: nan, pos_over_neg: 822.2401733398438 lr: 0.00031623\n",
      "Iter: 389/695, loss_train: 6.6641, loss_val: nan, pos_over_neg: 553.3430786132812 lr: 0.00031623\n",
      "Iter: 390/695, loss_train: 6.6653, loss_val: nan, pos_over_neg: 611.9332275390625 lr: 0.00031623\n",
      "Iter: 391/695, loss_train: 6.6669, loss_val: nan, pos_over_neg: 326.3837890625 lr: 0.00031623\n",
      "Iter: 392/695, loss_train: 6.6648, loss_val: nan, pos_over_neg: 775.3526611328125 lr: 0.00031623\n",
      "Iter: 393/695, loss_train: 6.6645, loss_val: nan, pos_over_neg: 729.0162353515625 lr: 0.00031623\n",
      "Iter: 394/695, loss_train: 6.6651, loss_val: nan, pos_over_neg: 425.68975830078125 lr: 0.00031623\n",
      "Iter: 395/695, loss_train: 6.6645, loss_val: nan, pos_over_neg: 644.2000122070312 lr: 0.00031623\n",
      "Iter: 396/695, loss_train: 6.6637, loss_val: nan, pos_over_neg: 1078.45703125 lr: 0.00031623\n",
      "Iter: 397/695, loss_train: 6.6659, loss_val: nan, pos_over_neg: 538.3048706054688 lr: 0.00031623\n",
      "Iter: 398/695, loss_train: 6.6635, loss_val: nan, pos_over_neg: 950.9957275390625 lr: 0.00031623\n",
      "Iter: 399/695, loss_train: 6.6663, loss_val: nan, pos_over_neg: 316.3759460449219 lr: 0.00031623\n",
      "Iter: 400/695, loss_train: 6.665, loss_val: nan, pos_over_neg: 523.4307250976562 lr: 0.00031623\n",
      "Iter: 401/695, loss_train: 6.665, loss_val: nan, pos_over_neg: 824.3768920898438 lr: 0.00031623\n",
      "Iter: 402/695, loss_train: 6.6658, loss_val: nan, pos_over_neg: 302.274169921875 lr: 0.00031623\n",
      "Iter: 403/695, loss_train: 6.6643, loss_val: nan, pos_over_neg: 1008.0427856445312 lr: 0.00031623\n",
      "Iter: 404/695, loss_train: 6.6641, loss_val: nan, pos_over_neg: 565.1094970703125 lr: 0.00031623\n",
      "Iter: 405/695, loss_train: 6.6658, loss_val: nan, pos_over_neg: 456.5261535644531 lr: 0.00031623\n",
      "Iter: 406/695, loss_train: 6.6655, loss_val: nan, pos_over_neg: 757.9364013671875 lr: 0.00031623\n",
      "Iter: 407/695, loss_train: 6.6653, loss_val: nan, pos_over_neg: 362.911376953125 lr: 0.00031623\n",
      "Iter: 408/695, loss_train: 6.6656, loss_val: nan, pos_over_neg: 500.5843811035156 lr: 0.00031623\n",
      "Iter: 409/695, loss_train: 6.6635, loss_val: nan, pos_over_neg: 943.4298095703125 lr: 0.00031623\n",
      "Iter: 410/695, loss_train: 6.6652, loss_val: nan, pos_over_neg: 381.97882080078125 lr: 0.00031623\n",
      "Iter: 411/695, loss_train: 6.6634, loss_val: nan, pos_over_neg: 652.7666625976562 lr: 0.00031623\n",
      "Iter: 412/695, loss_train: 6.6656, loss_val: nan, pos_over_neg: 412.46343994140625 lr: 0.00031623\n",
      "Iter: 413/695, loss_train: 6.6626, loss_val: nan, pos_over_neg: 1304.2296142578125 lr: 0.00031623\n",
      "Iter: 414/695, loss_train: 6.6629, loss_val: nan, pos_over_neg: 619.5923461914062 lr: 0.00031623\n",
      "Iter: 415/695, loss_train: 6.6638, loss_val: nan, pos_over_neg: 748.0955200195312 lr: 0.00031623\n",
      "Iter: 416/695, loss_train: 6.6625, loss_val: nan, pos_over_neg: 952.6915893554688 lr: 0.00031623\n",
      "Iter: 417/695, loss_train: 6.6634, loss_val: nan, pos_over_neg: 955.5150146484375 lr: 0.00031623\n",
      "Iter: 418/695, loss_train: 6.6632, loss_val: nan, pos_over_neg: 422.652099609375 lr: 0.00031623\n",
      "Iter: 419/695, loss_train: 6.6651, loss_val: nan, pos_over_neg: 419.5057678222656 lr: 0.00031623\n",
      "Iter: 420/695, loss_train: 6.6644, loss_val: nan, pos_over_neg: 447.58123779296875 lr: 0.00031623\n",
      "Iter: 421/695, loss_train: 6.6624, loss_val: nan, pos_over_neg: 1097.755615234375 lr: 0.00031623\n",
      "Iter: 422/695, loss_train: 6.665, loss_val: nan, pos_over_neg: 357.9322204589844 lr: 0.00031623\n",
      "Iter: 423/695, loss_train: 6.6642, loss_val: nan, pos_over_neg: 476.76739501953125 lr: 0.00031623\n",
      "Iter: 424/695, loss_train: 6.6654, loss_val: nan, pos_over_neg: 352.22747802734375 lr: 0.00031623\n",
      "Iter: 425/695, loss_train: 6.6631, loss_val: nan, pos_over_neg: 600.0777587890625 lr: 0.00031623\n",
      "Iter: 426/695, loss_train: 6.6623, loss_val: nan, pos_over_neg: 641.1181640625 lr: 0.00031623\n",
      "Iter: 427/695, loss_train: 6.664, loss_val: nan, pos_over_neg: 419.7508850097656 lr: 0.00031623\n",
      "Iter: 428/695, loss_train: 6.6619, loss_val: nan, pos_over_neg: 2783.776611328125 lr: 0.00031623\n",
      "Iter: 429/695, loss_train: 6.664, loss_val: nan, pos_over_neg: 626.4541015625 lr: 0.00031623\n",
      "Iter: 430/695, loss_train: 6.6631, loss_val: nan, pos_over_neg: 947.439453125 lr: 0.00031623\n",
      "Iter: 431/695, loss_train: 6.6624, loss_val: nan, pos_over_neg: 930.58251953125 lr: 0.00031623\n",
      "Iter: 432/695, loss_train: 6.6638, loss_val: nan, pos_over_neg: 929.51318359375 lr: 0.00031623\n",
      "Iter: 433/695, loss_train: 6.663, loss_val: nan, pos_over_neg: 2321.232421875 lr: 0.00031623\n",
      "Iter: 434/695, loss_train: 6.6635, loss_val: nan, pos_over_neg: 676.0720825195312 lr: 0.00031623\n",
      "Iter: 435/695, loss_train: 6.6627, loss_val: nan, pos_over_neg: 988.501953125 lr: 0.00031623\n",
      "Iter: 436/695, loss_train: 6.6622, loss_val: nan, pos_over_neg: 2657.155517578125 lr: 0.00031623\n",
      "Iter: 437/695, loss_train: 6.6623, loss_val: nan, pos_over_neg: 673.8338623046875 lr: 0.00031623\n",
      "Iter: 438/695, loss_train: 6.6623, loss_val: nan, pos_over_neg: 744.5734252929688 lr: 0.00031623\n",
      "Iter: 439/695, loss_train: 6.6631, loss_val: nan, pos_over_neg: 582.7318725585938 lr: 0.00031623\n",
      "Iter: 440/695, loss_train: 6.6616, loss_val: nan, pos_over_neg: 1064.4832763671875 lr: 0.00031623\n",
      "Iter: 441/695, loss_train: 6.6632, loss_val: nan, pos_over_neg: 1049.979736328125 lr: 0.00031623\n",
      "Iter: 442/695, loss_train: 6.6626, loss_val: nan, pos_over_neg: 943.249267578125 lr: 0.00031623\n",
      "Iter: 443/695, loss_train: 6.6622, loss_val: nan, pos_over_neg: 1960.2000732421875 lr: 0.00031623\n",
      "Iter: 444/695, loss_train: 6.662, loss_val: nan, pos_over_neg: 514.2243041992188 lr: 0.00031623\n",
      "Iter: 445/695, loss_train: 6.6627, loss_val: nan, pos_over_neg: 1258.319091796875 lr: 0.00031623\n",
      "Iter: 446/695, loss_train: 6.6624, loss_val: nan, pos_over_neg: 2833.689208984375 lr: 0.00031623\n",
      "Iter: 447/695, loss_train: 6.6609, loss_val: nan, pos_over_neg: 597.6328125 lr: 0.00031623\n",
      "Iter: 448/695, loss_train: 6.663, loss_val: nan, pos_over_neg: 1015.25146484375 lr: 0.00031623\n",
      "Iter: 449/695, loss_train: 6.6624, loss_val: nan, pos_over_neg: 802.115966796875 lr: 0.00031623\n",
      "Iter: 450/695, loss_train: 6.6631, loss_val: nan, pos_over_neg: 939.7791137695312 lr: 0.00031623\n",
      "Iter: 451/695, loss_train: 6.6627, loss_val: nan, pos_over_neg: 1375.951171875 lr: 0.00031623\n",
      "Iter: 452/695, loss_train: 6.6611, loss_val: nan, pos_over_neg: 2317.383056640625 lr: 0.00031623\n",
      "Iter: 453/695, loss_train: 6.6628, loss_val: nan, pos_over_neg: 490.7333068847656 lr: 0.00031623\n",
      "Iter: 454/695, loss_train: 6.6626, loss_val: nan, pos_over_neg: 1378.67578125 lr: 0.00031623\n",
      "Iter: 455/695, loss_train: 6.6615, loss_val: nan, pos_over_neg: 2221.39404296875 lr: 0.00031623\n",
      "Iter: 456/695, loss_train: 6.6613, loss_val: nan, pos_over_neg: 1021.2254028320312 lr: 0.00031623\n",
      "Iter: 457/695, loss_train: 6.6628, loss_val: nan, pos_over_neg: 441.4713134765625 lr: 0.00031623\n",
      "Iter: 458/695, loss_train: 6.6617, loss_val: nan, pos_over_neg: 1244.675048828125 lr: 0.00031623\n",
      "Iter: 459/695, loss_train: 6.6622, loss_val: nan, pos_over_neg: 794.2887573242188 lr: 0.00031623\n",
      "Iter: 460/695, loss_train: 6.6622, loss_val: nan, pos_over_neg: 423.9137878417969 lr: 0.00031623\n",
      "Iter: 461/695, loss_train: 6.6636, loss_val: nan, pos_over_neg: 527.0701293945312 lr: 0.00031623\n",
      "Iter: 462/695, loss_train: 6.6624, loss_val: nan, pos_over_neg: 1108.6671142578125 lr: 0.00031623\n",
      "Iter: 463/695, loss_train: 6.6635, loss_val: nan, pos_over_neg: 400.7368469238281 lr: 0.00031623\n",
      "Iter: 464/695, loss_train: 6.6616, loss_val: nan, pos_over_neg: 675.2036743164062 lr: 0.00031623\n",
      "Iter: 465/695, loss_train: 6.6611, loss_val: nan, pos_over_neg: 739.4729614257812 lr: 0.00031623\n",
      "Iter: 466/695, loss_train: 6.6605, loss_val: nan, pos_over_neg: 3216.906982421875 lr: 0.00031623\n",
      "Iter: 467/695, loss_train: 6.6615, loss_val: nan, pos_over_neg: 800.9719848632812 lr: 0.00031623\n",
      "Iter: 468/695, loss_train: 6.6627, loss_val: nan, pos_over_neg: 461.9635925292969 lr: 0.00031623\n",
      "Iter: 469/695, loss_train: 6.6611, loss_val: nan, pos_over_neg: 1466.238525390625 lr: 0.00031623\n",
      "Iter: 470/695, loss_train: 6.6621, loss_val: nan, pos_over_neg: 1283.5145263671875 lr: 0.00031623\n",
      "Iter: 471/695, loss_train: 6.6615, loss_val: nan, pos_over_neg: 2033.578857421875 lr: 0.00031623\n",
      "Iter: 472/695, loss_train: 6.662, loss_val: nan, pos_over_neg: 695.0556030273438 lr: 0.00031623\n",
      "Iter: 473/695, loss_train: 6.6614, loss_val: nan, pos_over_neg: 1076.5711669921875 lr: 0.00031623\n",
      "Iter: 474/695, loss_train: 6.6624, loss_val: nan, pos_over_neg: 1194.7562255859375 lr: 0.00031623\n",
      "Iter: 475/695, loss_train: 6.6626, loss_val: nan, pos_over_neg: 872.9342041015625 lr: 0.00031623\n",
      "Iter: 476/695, loss_train: 6.6602, loss_val: nan, pos_over_neg: 1831.526123046875 lr: 0.00031623\n",
      "Iter: 477/695, loss_train: 6.6604, loss_val: nan, pos_over_neg: 1502.726318359375 lr: 0.00031623\n",
      "Iter: 478/695, loss_train: 6.6618, loss_val: nan, pos_over_neg: 752.8480834960938 lr: 0.00031623\n",
      "Iter: 479/695, loss_train: 6.6614, loss_val: nan, pos_over_neg: 1387.845703125 lr: 0.00031623\n",
      "Iter: 480/695, loss_train: 6.6618, loss_val: nan, pos_over_neg: 986.947509765625 lr: 0.00031623\n",
      "Iter: 481/695, loss_train: 6.6624, loss_val: nan, pos_over_neg: 682.7453002929688 lr: 0.00031623\n",
      "Iter: 482/695, loss_train: 6.6622, loss_val: nan, pos_over_neg: 478.775390625 lr: 0.00031623\n",
      "Iter: 483/695, loss_train: 6.6614, loss_val: nan, pos_over_neg: 1314.9625244140625 lr: 0.00031623\n",
      "Iter: 484/695, loss_train: 6.6621, loss_val: nan, pos_over_neg: 585.5096435546875 lr: 0.00031623\n",
      "Iter: 485/695, loss_train: 6.6609, loss_val: nan, pos_over_neg: 834.3096923828125 lr: 0.00031623\n",
      "Iter: 486/695, loss_train: 6.6614, loss_val: nan, pos_over_neg: 879.9439086914062 lr: 0.00031623\n",
      "Iter: 487/695, loss_train: 6.662, loss_val: nan, pos_over_neg: 639.5947265625 lr: 0.00031623\n",
      "Iter: 488/695, loss_train: 6.6607, loss_val: nan, pos_over_neg: 746.747314453125 lr: 0.00031623\n",
      "Iter: 489/695, loss_train: 6.6627, loss_val: nan, pos_over_neg: 552.9813842773438 lr: 0.00031623\n",
      "Iter: 490/695, loss_train: 6.6616, loss_val: nan, pos_over_neg: 512.48828125 lr: 0.00031623\n",
      "Iter: 491/695, loss_train: 6.6621, loss_val: nan, pos_over_neg: 388.7557067871094 lr: 0.00031623\n",
      "Iter: 492/695, loss_train: 6.661, loss_val: nan, pos_over_neg: 1508.236083984375 lr: 0.00031623\n",
      "Iter: 493/695, loss_train: 6.6627, loss_val: nan, pos_over_neg: 722.2651977539062 lr: 0.00031623\n",
      "Iter: 494/695, loss_train: 6.6627, loss_val: nan, pos_over_neg: 606.7191772460938 lr: 0.00031623\n",
      "Iter: 495/695, loss_train: 6.6617, loss_val: nan, pos_over_neg: 731.511474609375 lr: 0.00031623\n",
      "Iter: 496/695, loss_train: 6.6613, loss_val: nan, pos_over_neg: 1739.9715576171875 lr: 0.00031623\n",
      "Iter: 497/695, loss_train: 6.6616, loss_val: nan, pos_over_neg: 1076.0133056640625 lr: 0.00031623\n",
      "Iter: 498/695, loss_train: 6.6612, loss_val: nan, pos_over_neg: 652.0089111328125 lr: 0.00031623\n",
      "Iter: 499/695, loss_train: 6.6611, loss_val: nan, pos_over_neg: 1097.739501953125 lr: 0.00031623\n",
      "Iter: 500/695, loss_train: 6.6619, loss_val: nan, pos_over_neg: 567.7410278320312 lr: 0.00031623\n",
      "Iter: 501/695, loss_train: 6.6622, loss_val: nan, pos_over_neg: 706.2244873046875 lr: 0.00031623\n",
      "Iter: 502/695, loss_train: 6.6625, loss_val: nan, pos_over_neg: 1126.5887451171875 lr: 0.00031623\n",
      "Iter: 503/695, loss_train: 6.6626, loss_val: nan, pos_over_neg: 598.64794921875 lr: 0.00031623\n",
      "Iter: 504/695, loss_train: 6.6596, loss_val: nan, pos_over_neg: 5716.77001953125 lr: 0.00031623\n",
      "Iter: 505/695, loss_train: 6.662, loss_val: nan, pos_over_neg: 918.99365234375 lr: 0.00031623\n",
      "Iter: 506/695, loss_train: 6.6617, loss_val: nan, pos_over_neg: 497.21142578125 lr: 0.00031623\n",
      "Iter: 507/695, loss_train: 6.6628, loss_val: nan, pos_over_neg: 460.60675048828125 lr: 0.00031623\n",
      "Iter: 508/695, loss_train: 6.663, loss_val: nan, pos_over_neg: 950.4735717773438 lr: 0.00031623\n",
      "Iter: 509/695, loss_train: 6.6608, loss_val: nan, pos_over_neg: 955.2730712890625 lr: 0.00031623\n",
      "Iter: 510/695, loss_train: 6.6625, loss_val: nan, pos_over_neg: 601.5259399414062 lr: 0.00031623\n",
      "Iter: 511/695, loss_train: 6.6606, loss_val: nan, pos_over_neg: 1506.6717529296875 lr: 0.00031623\n",
      "Iter: 512/695, loss_train: 6.6607, loss_val: nan, pos_over_neg: 1314.317626953125 lr: 0.00031623\n",
      "Iter: 513/695, loss_train: 6.661, loss_val: nan, pos_over_neg: 769.5601196289062 lr: 0.00031623\n",
      "Iter: 514/695, loss_train: 6.6629, loss_val: nan, pos_over_neg: 494.3735656738281 lr: 0.00031623\n",
      "Iter: 515/695, loss_train: 6.6624, loss_val: nan, pos_over_neg: 604.7910766601562 lr: 0.00031623\n",
      "Iter: 516/695, loss_train: 6.6605, loss_val: nan, pos_over_neg: 913.7376708984375 lr: 0.00031623\n",
      "Iter: 517/695, loss_train: 6.6608, loss_val: nan, pos_over_neg: 1596.8160400390625 lr: 0.00031623\n",
      "Iter: 518/695, loss_train: 6.6625, loss_val: nan, pos_over_neg: 361.1524353027344 lr: 0.00031623\n",
      "Iter: 519/695, loss_train: 6.6622, loss_val: nan, pos_over_neg: 438.9363098144531 lr: 0.00031623\n",
      "Iter: 520/695, loss_train: 6.6622, loss_val: nan, pos_over_neg: 762.3701782226562 lr: 0.00031623\n",
      "Iter: 521/695, loss_train: 6.6618, loss_val: nan, pos_over_neg: 828.07080078125 lr: 0.00031623\n",
      "Iter: 522/695, loss_train: 6.6617, loss_val: nan, pos_over_neg: 521.7062377929688 lr: 0.00031623\n",
      "Iter: 523/695, loss_train: 6.6613, loss_val: nan, pos_over_neg: 937.97802734375 lr: 0.00031623\n",
      "Iter: 524/695, loss_train: 6.6617, loss_val: nan, pos_over_neg: 453.71893310546875 lr: 0.00031623\n",
      "Iter: 525/695, loss_train: 6.6609, loss_val: nan, pos_over_neg: 610.0687866210938 lr: 0.00031623\n",
      "Iter: 526/695, loss_train: 6.6607, loss_val: nan, pos_over_neg: 764.6824951171875 lr: 0.00031623\n",
      "Iter: 527/695, loss_train: 6.6617, loss_val: nan, pos_over_neg: 770.0733642578125 lr: 0.00031623\n",
      "Iter: 528/695, loss_train: 6.6612, loss_val: nan, pos_over_neg: 421.22784423828125 lr: 0.00031623\n",
      "Iter: 529/695, loss_train: 6.6611, loss_val: nan, pos_over_neg: 646.0449829101562 lr: 0.00031623\n",
      "Iter: 530/695, loss_train: 6.6618, loss_val: nan, pos_over_neg: 1203.6402587890625 lr: 0.00031623\n",
      "Iter: 531/695, loss_train: 6.6608, loss_val: nan, pos_over_neg: 776.873046875 lr: 0.00031623\n",
      "Iter: 532/695, loss_train: 6.6617, loss_val: nan, pos_over_neg: 723.6187133789062 lr: 0.00031623\n",
      "Iter: 533/695, loss_train: 6.6611, loss_val: nan, pos_over_neg: 734.6117553710938 lr: 0.00031623\n",
      "Iter: 534/695, loss_train: 6.662, loss_val: nan, pos_over_neg: 520.6722412109375 lr: 0.00031623\n",
      "Iter: 535/695, loss_train: 6.6618, loss_val: nan, pos_over_neg: 1157.426025390625 lr: 0.00031623\n",
      "Iter: 536/695, loss_train: 6.6608, loss_val: nan, pos_over_neg: 1007.91162109375 lr: 0.00031623\n",
      "Iter: 537/695, loss_train: 6.6619, loss_val: nan, pos_over_neg: 473.3434753417969 lr: 0.00031623\n",
      "Iter: 538/695, loss_train: 6.6612, loss_val: nan, pos_over_neg: 753.0731811523438 lr: 0.00031623\n",
      "Iter: 539/695, loss_train: 6.6614, loss_val: nan, pos_over_neg: 1046.8125 lr: 0.00031623\n",
      "Iter: 540/695, loss_train: 6.6606, loss_val: nan, pos_over_neg: 643.5003051757812 lr: 0.00031623\n",
      "Iter: 541/695, loss_train: 6.6606, loss_val: nan, pos_over_neg: 815.8084716796875 lr: 0.00031623\n",
      "Iter: 542/695, loss_train: 6.6603, loss_val: nan, pos_over_neg: 922.755126953125 lr: 0.00031623\n",
      "Iter: 543/695, loss_train: 6.6595, loss_val: nan, pos_over_neg: 1596.4774169921875 lr: 0.00031623\n",
      "Iter: 544/695, loss_train: 6.6613, loss_val: nan, pos_over_neg: 754.588134765625 lr: 0.00031623\n",
      "Iter: 545/695, loss_train: 6.6599, loss_val: nan, pos_over_neg: 1292.973876953125 lr: 0.00031623\n",
      "Iter: 546/695, loss_train: 6.6588, loss_val: nan, pos_over_neg: -451514.28125 lr: 0.00031623\n",
      "Iter: 547/695, loss_train: 6.6595, loss_val: nan, pos_over_neg: 1395.9715576171875 lr: 0.00031623\n",
      "Iter: 548/695, loss_train: 6.6614, loss_val: nan, pos_over_neg: 1562.47314453125 lr: 0.00031623\n",
      "Iter: 549/695, loss_train: 6.6599, loss_val: nan, pos_over_neg: 1641.3663330078125 lr: 0.00031623\n",
      "Iter: 550/695, loss_train: 6.6592, loss_val: nan, pos_over_neg: 1241.64697265625 lr: 0.00031623\n",
      "Iter: 551/695, loss_train: 6.6609, loss_val: nan, pos_over_neg: 1338.7091064453125 lr: 0.00031623\n",
      "Iter: 552/695, loss_train: 6.6611, loss_val: nan, pos_over_neg: 734.0623168945312 lr: 0.00031623\n",
      "Iter: 553/695, loss_train: 6.6596, loss_val: nan, pos_over_neg: 712.9783935546875 lr: 0.00031623\n",
      "Iter: 554/695, loss_train: 6.66, loss_val: nan, pos_over_neg: 1127.8836669921875 lr: 0.00031623\n",
      "Iter: 555/695, loss_train: 6.6604, loss_val: nan, pos_over_neg: 2786.919921875 lr: 0.00031623\n",
      "Iter: 556/695, loss_train: 6.6611, loss_val: nan, pos_over_neg: 565.3956298828125 lr: 0.00031623\n",
      "Iter: 557/695, loss_train: 6.6602, loss_val: nan, pos_over_neg: 1116.4600830078125 lr: 0.00031623\n",
      "Iter: 558/695, loss_train: 6.6613, loss_val: nan, pos_over_neg: 683.0684204101562 lr: 0.00031623\n",
      "Iter: 559/695, loss_train: 6.6599, loss_val: nan, pos_over_neg: 686.7946166992188 lr: 0.00031623\n",
      "Iter: 560/695, loss_train: 6.6626, loss_val: nan, pos_over_neg: 465.2979736328125 lr: 0.00031623\n",
      "Iter: 561/695, loss_train: 6.6607, loss_val: nan, pos_over_neg: 739.0241088867188 lr: 0.00031623\n",
      "Iter: 562/695, loss_train: 6.6609, loss_val: nan, pos_over_neg: 674.3558349609375 lr: 0.00031623\n",
      "Iter: 563/695, loss_train: 6.6593, loss_val: nan, pos_over_neg: 923.064697265625 lr: 0.00031623\n",
      "Iter: 564/695, loss_train: 6.6599, loss_val: nan, pos_over_neg: 2210.6611328125 lr: 0.00031623\n",
      "Iter: 565/695, loss_train: 6.66, loss_val: nan, pos_over_neg: 900.6600952148438 lr: 0.00031623\n",
      "Iter: 566/695, loss_train: 6.6622, loss_val: nan, pos_over_neg: 392.18829345703125 lr: 0.00031623\n",
      "Iter: 567/695, loss_train: 6.6601, loss_val: nan, pos_over_neg: 1085.0225830078125 lr: 0.00031623\n",
      "Iter: 568/695, loss_train: 6.6594, loss_val: nan, pos_over_neg: 910.8878784179688 lr: 0.00031623\n",
      "Iter: 569/695, loss_train: 6.6608, loss_val: nan, pos_over_neg: 389.12652587890625 lr: 0.00031623\n",
      "Iter: 570/695, loss_train: 6.66, loss_val: nan, pos_over_neg: 1271.237060546875 lr: 0.00031623\n",
      "Iter: 571/695, loss_train: 6.66, loss_val: nan, pos_over_neg: 2232.62060546875 lr: 0.00031623\n",
      "Iter: 572/695, loss_train: 6.6603, loss_val: nan, pos_over_neg: 612.0068359375 lr: 0.00031623\n",
      "Iter: 573/695, loss_train: 6.6622, loss_val: nan, pos_over_neg: 865.3964233398438 lr: 0.00031623\n",
      "Iter: 574/695, loss_train: 6.6607, loss_val: nan, pos_over_neg: 1171.3428955078125 lr: 0.00031623\n",
      "Iter: 575/695, loss_train: 6.6598, loss_val: nan, pos_over_neg: 1896.2911376953125 lr: 0.00031623\n",
      "Iter: 576/695, loss_train: 6.6595, loss_val: nan, pos_over_neg: 2011.9981689453125 lr: 0.00031623\n",
      "Iter: 577/695, loss_train: 6.6603, loss_val: nan, pos_over_neg: 1008.2500610351562 lr: 0.00031623\n",
      "Iter: 578/695, loss_train: 6.6616, loss_val: nan, pos_over_neg: 803.7521362304688 lr: 0.00031623\n",
      "Iter: 579/695, loss_train: 6.66, loss_val: nan, pos_over_neg: 1504.1513671875 lr: 0.00031623\n",
      "Iter: 580/695, loss_train: 6.6601, loss_val: nan, pos_over_neg: 1718.8958740234375 lr: 0.00031623\n",
      "Iter: 581/695, loss_train: 6.6614, loss_val: nan, pos_over_neg: 1446.0086669921875 lr: 0.00031623\n",
      "Iter: 582/695, loss_train: 6.6592, loss_val: nan, pos_over_neg: 1064.187255859375 lr: 0.00031623\n",
      "Iter: 583/695, loss_train: 6.6611, loss_val: nan, pos_over_neg: 797.2860107421875 lr: 0.00031623\n",
      "Iter: 584/695, loss_train: 6.6604, loss_val: nan, pos_over_neg: 558.2096557617188 lr: 0.00031623\n",
      "Iter: 585/695, loss_train: 6.66, loss_val: nan, pos_over_neg: 990.656005859375 lr: 0.00031623\n",
      "Iter: 586/695, loss_train: 6.6595, loss_val: nan, pos_over_neg: 1025.100830078125 lr: 0.00031623\n",
      "Iter: 587/695, loss_train: 6.6599, loss_val: nan, pos_over_neg: 795.0278930664062 lr: 0.00031623\n",
      "Iter: 588/695, loss_train: 6.6605, loss_val: nan, pos_over_neg: 1638.2064208984375 lr: 0.00031623\n",
      "Iter: 589/695, loss_train: 6.6595, loss_val: nan, pos_over_neg: 883.2128295898438 lr: 0.00031623\n",
      "Iter: 590/695, loss_train: 6.6598, loss_val: nan, pos_over_neg: 634.427734375 lr: 0.00031623\n",
      "Iter: 591/695, loss_train: 6.6603, loss_val: nan, pos_over_neg: 758.1448974609375 lr: 0.00031623\n",
      "Iter: 592/695, loss_train: 6.6604, loss_val: nan, pos_over_neg: 1000.0155029296875 lr: 0.00031623\n",
      "Iter: 593/695, loss_train: 6.6606, loss_val: nan, pos_over_neg: 645.1303100585938 lr: 0.00031623\n",
      "Iter: 594/695, loss_train: 6.6599, loss_val: nan, pos_over_neg: 694.583251953125 lr: 0.00031623\n",
      "Iter: 595/695, loss_train: 6.6592, loss_val: nan, pos_over_neg: 687.8309936523438 lr: 0.00031623\n",
      "Iter: 596/695, loss_train: 6.6615, loss_val: nan, pos_over_neg: 465.23162841796875 lr: 0.00031623\n",
      "Iter: 597/695, loss_train: 6.6599, loss_val: nan, pos_over_neg: 431.88275146484375 lr: 0.00031623\n",
      "Iter: 598/695, loss_train: 6.6585, loss_val: nan, pos_over_neg: 1074.0943603515625 lr: 0.00031623\n",
      "Iter: 599/695, loss_train: 6.6604, loss_val: nan, pos_over_neg: 605.5154418945312 lr: 0.00031623\n",
      "Iter: 600/695, loss_train: 6.659, loss_val: nan, pos_over_neg: 725.2074584960938 lr: 0.00031623\n",
      "Iter: 601/695, loss_train: 6.6603, loss_val: nan, pos_over_neg: 596.7595825195312 lr: 0.00031623\n",
      "Iter: 602/695, loss_train: 6.6604, loss_val: nan, pos_over_neg: 1105.4173583984375 lr: 0.00031623\n",
      "Iter: 603/695, loss_train: 6.661, loss_val: nan, pos_over_neg: 917.47314453125 lr: 0.00031623\n",
      "Iter: 604/695, loss_train: 6.6604, loss_val: nan, pos_over_neg: 582.1072387695312 lr: 0.00031623\n",
      "Iter: 605/695, loss_train: 6.6597, loss_val: nan, pos_over_neg: 1139.62060546875 lr: 0.00031623\n",
      "Iter: 606/695, loss_train: 6.6601, loss_val: nan, pos_over_neg: 1048.3973388671875 lr: 0.00031623\n",
      "Iter: 607/695, loss_train: 6.6601, loss_val: nan, pos_over_neg: 688.5958251953125 lr: 0.00031623\n",
      "Iter: 608/695, loss_train: 6.6604, loss_val: nan, pos_over_neg: 678.7706298828125 lr: 0.00031623\n",
      "Iter: 609/695, loss_train: 6.6597, loss_val: nan, pos_over_neg: 1989.7386474609375 lr: 0.00031623\n",
      "Iter: 610/695, loss_train: 6.6598, loss_val: nan, pos_over_neg: 3500.51123046875 lr: 0.00031623\n",
      "Iter: 611/695, loss_train: 6.6583, loss_val: nan, pos_over_neg: 903.0043334960938 lr: 0.00031623\n",
      "Iter: 612/695, loss_train: 6.6597, loss_val: nan, pos_over_neg: 1981.2882080078125 lr: 0.00031623\n",
      "Iter: 613/695, loss_train: 6.659, loss_val: nan, pos_over_neg: 1224.150146484375 lr: 0.00031623\n",
      "Iter: 614/695, loss_train: 6.6587, loss_val: nan, pos_over_neg: 1556.6405029296875 lr: 0.00031623\n",
      "Iter: 615/695, loss_train: 6.6599, loss_val: nan, pos_over_neg: 565.2188720703125 lr: 0.00031623\n",
      "Iter: 616/695, loss_train: 6.6599, loss_val: nan, pos_over_neg: 1025.1060791015625 lr: 0.00031623\n",
      "Iter: 617/695, loss_train: 6.6599, loss_val: nan, pos_over_neg: 1011.4564208984375 lr: 0.00031623\n",
      "Iter: 618/695, loss_train: 6.6606, loss_val: nan, pos_over_neg: 673.9111328125 lr: 0.00031623\n",
      "Iter: 619/695, loss_train: 6.6596, loss_val: nan, pos_over_neg: 931.8986206054688 lr: 0.00031623\n",
      "Iter: 620/695, loss_train: 6.659, loss_val: nan, pos_over_neg: 1588.296630859375 lr: 0.00031623\n",
      "Iter: 621/695, loss_train: 6.6586, loss_val: nan, pos_over_neg: 1940.0987548828125 lr: 0.00031623\n",
      "Iter: 622/695, loss_train: 6.6595, loss_val: nan, pos_over_neg: 1879.59423828125 lr: 0.00031623\n",
      "Iter: 623/695, loss_train: 6.6596, loss_val: nan, pos_over_neg: 499.88726806640625 lr: 0.00031623\n",
      "Iter: 624/695, loss_train: 6.6586, loss_val: nan, pos_over_neg: 1442.777587890625 lr: 0.00031623\n",
      "Iter: 625/695, loss_train: 6.6591, loss_val: nan, pos_over_neg: 1898.79248046875 lr: 0.00031623\n",
      "Iter: 626/695, loss_train: 6.659, loss_val: nan, pos_over_neg: 1285.5186767578125 lr: 0.00031623\n",
      "Iter: 627/695, loss_train: 6.6586, loss_val: nan, pos_over_neg: 1218.6461181640625 lr: 0.00031623\n",
      "Iter: 628/695, loss_train: 6.6609, loss_val: nan, pos_over_neg: 807.3939819335938 lr: 0.00031623\n",
      "Iter: 629/695, loss_train: 6.6595, loss_val: nan, pos_over_neg: 638.308349609375 lr: 0.00031623\n",
      "Iter: 630/695, loss_train: 6.6595, loss_val: nan, pos_over_neg: 1218.4132080078125 lr: 0.00031623\n",
      "Iter: 631/695, loss_train: 6.6599, loss_val: nan, pos_over_neg: 2302.50146484375 lr: 0.00031623\n",
      "Iter: 632/695, loss_train: 6.6595, loss_val: nan, pos_over_neg: 1027.7108154296875 lr: 0.00031623\n",
      "Iter: 633/695, loss_train: 6.6594, loss_val: nan, pos_over_neg: 874.2610473632812 lr: 0.00031623\n",
      "Iter: 634/695, loss_train: 6.6591, loss_val: nan, pos_over_neg: 887.8719482421875 lr: 0.00031623\n",
      "Iter: 635/695, loss_train: 6.6596, loss_val: nan, pos_over_neg: 1423.7984619140625 lr: 0.00031623\n",
      "Iter: 636/695, loss_train: 6.6596, loss_val: nan, pos_over_neg: 1069.256103515625 lr: 0.00031623\n",
      "Iter: 637/695, loss_train: 6.6578, loss_val: nan, pos_over_neg: 2051.27197265625 lr: 0.00031623\n",
      "Iter: 638/695, loss_train: 6.6608, loss_val: nan, pos_over_neg: 600.8602294921875 lr: 0.00031623\n",
      "Iter: 639/695, loss_train: 6.6593, loss_val: nan, pos_over_neg: 784.5704956054688 lr: 0.00031623\n",
      "Iter: 640/695, loss_train: 6.6594, loss_val: nan, pos_over_neg: 879.1583251953125 lr: 0.00031623\n",
      "Iter: 641/695, loss_train: 6.6596, loss_val: nan, pos_over_neg: 938.8665771484375 lr: 0.00031623\n",
      "Iter: 642/695, loss_train: 6.6584, loss_val: nan, pos_over_neg: 2804.682373046875 lr: 0.00031623\n",
      "Iter: 643/695, loss_train: 6.6599, loss_val: nan, pos_over_neg: 656.2271118164062 lr: 0.00031623\n",
      "Iter: 644/695, loss_train: 6.6594, loss_val: nan, pos_over_neg: 1026.48193359375 lr: 0.00031623\n",
      "Iter: 645/695, loss_train: 6.6576, loss_val: nan, pos_over_neg: 6694.33740234375 lr: 0.00031623\n",
      "Iter: 646/695, loss_train: 6.6589, loss_val: nan, pos_over_neg: 693.6738891601562 lr: 0.00031623\n",
      "Iter: 647/695, loss_train: 6.66, loss_val: nan, pos_over_neg: 735.572021484375 lr: 0.00031623\n",
      "Iter: 648/695, loss_train: 6.6588, loss_val: nan, pos_over_neg: 3848.642578125 lr: 0.00031623\n",
      "Iter: 649/695, loss_train: 6.658, loss_val: nan, pos_over_neg: 848.9650268554688 lr: 0.00031623\n",
      "Iter: 650/695, loss_train: 6.6615, loss_val: nan, pos_over_neg: 772.10791015625 lr: 0.00031623\n",
      "Iter: 651/695, loss_train: 6.66, loss_val: nan, pos_over_neg: 816.2186889648438 lr: 0.00031623\n",
      "Iter: 652/695, loss_train: 6.6584, loss_val: nan, pos_over_neg: 2635.91845703125 lr: 0.00031623\n",
      "Iter: 653/695, loss_train: 6.6582, loss_val: nan, pos_over_neg: 1038.4190673828125 lr: 0.00031623\n",
      "Iter: 654/695, loss_train: 6.6608, loss_val: nan, pos_over_neg: 431.8026428222656 lr: 0.00031623\n",
      "Iter: 655/695, loss_train: 6.6583, loss_val: nan, pos_over_neg: 842.335205078125 lr: 0.00031623\n",
      "Iter: 656/695, loss_train: 6.658, loss_val: nan, pos_over_neg: 2080.833251953125 lr: 0.00031623\n",
      "Iter: 657/695, loss_train: 6.6585, loss_val: nan, pos_over_neg: 903.6187744140625 lr: 0.00031623\n",
      "Iter: 658/695, loss_train: 6.658, loss_val: nan, pos_over_neg: 965.273193359375 lr: 0.00031623\n",
      "Iter: 659/695, loss_train: 6.6584, loss_val: nan, pos_over_neg: 986.787353515625 lr: 0.00031623\n",
      "Iter: 660/695, loss_train: 6.659, loss_val: nan, pos_over_neg: 873.212890625 lr: 0.00031623\n",
      "Iter: 661/695, loss_train: 6.6589, loss_val: nan, pos_over_neg: 734.5370483398438 lr: 0.00031623\n",
      "Iter: 662/695, loss_train: 6.6584, loss_val: nan, pos_over_neg: 1268.2696533203125 lr: 0.00031623\n",
      "Iter: 663/695, loss_train: 6.6593, loss_val: nan, pos_over_neg: 721.6668090820312 lr: 0.00031623\n",
      "Iter: 664/695, loss_train: 6.6591, loss_val: nan, pos_over_neg: 592.8419189453125 lr: 0.00031623\n",
      "Iter: 665/695, loss_train: 6.6597, loss_val: nan, pos_over_neg: 1984.3876953125 lr: 0.00031623\n",
      "Iter: 666/695, loss_train: 6.6583, loss_val: nan, pos_over_neg: 813.2611083984375 lr: 0.00031623\n",
      "Iter: 667/695, loss_train: 6.6588, loss_val: nan, pos_over_neg: 783.713134765625 lr: 0.00031623\n",
      "Iter: 668/695, loss_train: 6.6592, loss_val: nan, pos_over_neg: 721.5740966796875 lr: 0.00031623\n",
      "Iter: 669/695, loss_train: 6.6586, loss_val: nan, pos_over_neg: 3623.395751953125 lr: 0.00031623\n",
      "Iter: 670/695, loss_train: 6.657, loss_val: nan, pos_over_neg: 2171.308837890625 lr: 0.00031623\n",
      "Iter: 671/695, loss_train: 6.6591, loss_val: nan, pos_over_neg: 897.9068603515625 lr: 0.00031623\n",
      "Iter: 672/695, loss_train: 6.6592, loss_val: nan, pos_over_neg: 705.7344970703125 lr: 0.00031623\n",
      "Iter: 673/695, loss_train: 6.6578, loss_val: nan, pos_over_neg: 978.56396484375 lr: 0.00031623\n",
      "Iter: 674/695, loss_train: 6.6582, loss_val: nan, pos_over_neg: 1201.901611328125 lr: 0.00031623\n",
      "Iter: 675/695, loss_train: 6.6597, loss_val: nan, pos_over_neg: 457.31884765625 lr: 0.00031623\n",
      "Iter: 676/695, loss_train: 6.657, loss_val: nan, pos_over_neg: 1497.7664794921875 lr: 0.00031623\n",
      "Iter: 677/695, loss_train: 6.6576, loss_val: nan, pos_over_neg: -9627.5439453125 lr: 0.00031623\n",
      "Iter: 678/695, loss_train: 6.6568, loss_val: nan, pos_over_neg: 5406.041015625 lr: 0.00031623\n",
      "Iter: 679/695, loss_train: 6.656, loss_val: nan, pos_over_neg: 1262.1475830078125 lr: 0.00031623\n",
      "Iter: 680/695, loss_train: 6.6588, loss_val: nan, pos_over_neg: 685.6318969726562 lr: 0.00031623\n",
      "Iter: 681/695, loss_train: 6.6578, loss_val: nan, pos_over_neg: 1782.5733642578125 lr: 0.00031623\n",
      "Iter: 682/695, loss_train: 6.6578, loss_val: nan, pos_over_neg: 1589.6888427734375 lr: 0.00031623\n",
      "Iter: 683/695, loss_train: 6.6578, loss_val: nan, pos_over_neg: 1229.37744140625 lr: 0.00031623\n",
      "Iter: 684/695, loss_train: 6.6582, loss_val: nan, pos_over_neg: 718.5341186523438 lr: 0.00031623\n",
      "Iter: 685/695, loss_train: 6.6587, loss_val: nan, pos_over_neg: 1437.46728515625 lr: 0.00031623\n",
      "Iter: 686/695, loss_train: 6.6577, loss_val: nan, pos_over_neg: 2018.6619873046875 lr: 0.00031623\n",
      "Iter: 687/695, loss_train: 6.6583, loss_val: nan, pos_over_neg: 1035.0433349609375 lr: 0.00031623\n",
      "Iter: 688/695, loss_train: 6.6579, loss_val: nan, pos_over_neg: 1862.7490234375 lr: 0.00031623\n",
      "Iter: 689/695, loss_train: 6.6584, loss_val: nan, pos_over_neg: 1657.48193359375 lr: 0.00031623\n",
      "Iter: 690/695, loss_train: 6.6587, loss_val: nan, pos_over_neg: 1348.4432373046875 lr: 0.00031623\n",
      "Iter: 691/695, loss_train: 6.658, loss_val: nan, pos_over_neg: 1464.998046875 lr: 0.00031623\n",
      "Iter: 692/695, loss_train: 6.6597, loss_val: nan, pos_over_neg: 831.5048828125 lr: 0.00031623\n",
      "Iter: 693/695, loss_train: 6.6587, loss_val: nan, pos_over_neg: 960.1205444335938 lr: 0.00031623\n",
      "Iter: 694/695, loss_train: 6.6587, loss_val: nan, pos_over_neg: 1107.5189208984375 lr: 0.00031623\n"
     ]
    },
    {
     "name": "stderr",
     "output_type": "stream",
     "text": [
      "  0%|          | 1/300000 [21:32<107689:37:19, 1292.28s/it]"
     ]
    },
    {
     "name": "stdout",
     "output_type": "stream",
     "text": [
      "epoch: 1\n"
     ]
    },
    {
     "name": "stderr",
     "output_type": "stream",
     "text": [
      "  0%|          | 1/300000 [21:40<108346:55:56, 1300.17s/it]\n"
     ]
    },
    {
     "ename": "RuntimeError",
     "evalue": "DataLoader worker (pid(s) 194964, 195595) exited unexpectedly",
     "output_type": "error",
     "traceback": [
      "\u001b[0;31m---------------------------------------------------------------------------\u001b[0m",
      "\u001b[0;31mRuntimeError\u001b[0m                              Traceback (most recent call last)",
      "\u001b[0;32m~/.conda/envs/jupyter_launcher/lib/python3.8/site-packages/torch/utils/data/dataloader.py\u001b[0m in \u001b[0;36m_try_get_data\u001b[0;34m(self, timeout)\u001b[0m\n\u001b[1;32m    989\u001b[0m         \u001b[0;32mtry\u001b[0m\u001b[0;34m:\u001b[0m\u001b[0;34m\u001b[0m\u001b[0;34m\u001b[0m\u001b[0m\n\u001b[0;32m--> 990\u001b[0;31m             \u001b[0mdata\u001b[0m \u001b[0;34m=\u001b[0m \u001b[0mself\u001b[0m\u001b[0;34m.\u001b[0m\u001b[0m_data_queue\u001b[0m\u001b[0;34m.\u001b[0m\u001b[0mget\u001b[0m\u001b[0;34m(\u001b[0m\u001b[0mtimeout\u001b[0m\u001b[0;34m=\u001b[0m\u001b[0mtimeout\u001b[0m\u001b[0;34m)\u001b[0m\u001b[0;34m\u001b[0m\u001b[0;34m\u001b[0m\u001b[0m\n\u001b[0m\u001b[1;32m    991\u001b[0m             \u001b[0;32mreturn\u001b[0m \u001b[0;34m(\u001b[0m\u001b[0;32mTrue\u001b[0m\u001b[0;34m,\u001b[0m \u001b[0mdata\u001b[0m\u001b[0;34m)\u001b[0m\u001b[0;34m\u001b[0m\u001b[0;34m\u001b[0m\u001b[0m\n",
      "\u001b[0;32m~/.conda/envs/jupyter_launcher/lib/python3.8/queue.py\u001b[0m in \u001b[0;36mget\u001b[0;34m(self, block, timeout)\u001b[0m\n\u001b[1;32m    178\u001b[0m                         \u001b[0;32mraise\u001b[0m \u001b[0mEmpty\u001b[0m\u001b[0;34m\u001b[0m\u001b[0;34m\u001b[0m\u001b[0m\n\u001b[0;32m--> 179\u001b[0;31m                     \u001b[0mself\u001b[0m\u001b[0;34m.\u001b[0m\u001b[0mnot_empty\u001b[0m\u001b[0;34m.\u001b[0m\u001b[0mwait\u001b[0m\u001b[0;34m(\u001b[0m\u001b[0mremaining\u001b[0m\u001b[0;34m)\u001b[0m\u001b[0;34m\u001b[0m\u001b[0;34m\u001b[0m\u001b[0m\n\u001b[0m\u001b[1;32m    180\u001b[0m             \u001b[0mitem\u001b[0m \u001b[0;34m=\u001b[0m \u001b[0mself\u001b[0m\u001b[0;34m.\u001b[0m\u001b[0m_get\u001b[0m\u001b[0;34m(\u001b[0m\u001b[0;34m)\u001b[0m\u001b[0;34m\u001b[0m\u001b[0;34m\u001b[0m\u001b[0m\n",
      "\u001b[0;32m~/.conda/envs/jupyter_launcher/lib/python3.8/threading.py\u001b[0m in \u001b[0;36mwait\u001b[0;34m(self, timeout)\u001b[0m\n\u001b[1;32m    305\u001b[0m                 \u001b[0;32mif\u001b[0m \u001b[0mtimeout\u001b[0m \u001b[0;34m>\u001b[0m \u001b[0;36m0\u001b[0m\u001b[0;34m:\u001b[0m\u001b[0;34m\u001b[0m\u001b[0;34m\u001b[0m\u001b[0m\n\u001b[0;32m--> 306\u001b[0;31m                     \u001b[0mgotit\u001b[0m \u001b[0;34m=\u001b[0m \u001b[0mwaiter\u001b[0m\u001b[0;34m.\u001b[0m\u001b[0macquire\u001b[0m\u001b[0;34m(\u001b[0m\u001b[0;32mTrue\u001b[0m\u001b[0;34m,\u001b[0m \u001b[0mtimeout\u001b[0m\u001b[0;34m)\u001b[0m\u001b[0;34m\u001b[0m\u001b[0;34m\u001b[0m\u001b[0m\n\u001b[0m\u001b[1;32m    307\u001b[0m                 \u001b[0;32melse\u001b[0m\u001b[0;34m:\u001b[0m\u001b[0;34m\u001b[0m\u001b[0;34m\u001b[0m\u001b[0m\n",
      "\u001b[0;32m~/.conda/envs/jupyter_launcher/lib/python3.8/site-packages/torch/utils/data/_utils/signal_handling.py\u001b[0m in \u001b[0;36mhandler\u001b[0;34m(signum, frame)\u001b[0m\n\u001b[1;32m     65\u001b[0m         \u001b[0;31m# Python can still get and update the process status successfully.\u001b[0m\u001b[0;34m\u001b[0m\u001b[0;34m\u001b[0m\u001b[0;34m\u001b[0m\u001b[0m\n\u001b[0;32m---> 66\u001b[0;31m         \u001b[0m_error_if_any_worker_fails\u001b[0m\u001b[0;34m(\u001b[0m\u001b[0;34m)\u001b[0m\u001b[0;34m\u001b[0m\u001b[0;34m\u001b[0m\u001b[0m\n\u001b[0m\u001b[1;32m     67\u001b[0m         \u001b[0;32mif\u001b[0m \u001b[0mprevious_handler\u001b[0m \u001b[0;32mis\u001b[0m \u001b[0;32mnot\u001b[0m \u001b[0;32mNone\u001b[0m\u001b[0;34m:\u001b[0m\u001b[0;34m\u001b[0m\u001b[0;34m\u001b[0m\u001b[0m\n",
      "\u001b[0;31mRuntimeError\u001b[0m: DataLoader worker (pid 194964) is killed by signal: Killed. ",
      "\nThe above exception was the direct cause of the following exception:\n",
      "\u001b[0;31mRuntimeError\u001b[0m                              Traceback (most recent call last)",
      "\u001b[0;32m/tmp/ipykernel_194555/1232591039.py\u001b[0m in \u001b[0;36m<module>\u001b[0;34m\u001b[0m\n\u001b[1;32m      7\u001b[0m \u001b[0;32mfor\u001b[0m \u001b[0mepoch\u001b[0m \u001b[0;32min\u001b[0m \u001b[0mtqdm\u001b[0m\u001b[0;34m(\u001b[0m\u001b[0mrange\u001b[0m\u001b[0;34m(\u001b[0m\u001b[0mn_epochs\u001b[0m\u001b[0;34m)\u001b[0m\u001b[0;34m)\u001b[0m\u001b[0;34m:\u001b[0m\u001b[0;34m\u001b[0m\u001b[0;34m\u001b[0m\u001b[0m\n\u001b[1;32m      8\u001b[0m     \u001b[0mprint\u001b[0m\u001b[0;34m(\u001b[0m\u001b[0;34mf'epoch: {epoch}'\u001b[0m\u001b[0;34m)\u001b[0m\u001b[0;34m\u001b[0m\u001b[0;34m\u001b[0m\u001b[0m\n\u001b[0;32m----> 9\u001b[0;31m     loss_rolling_train = training_simCLR.epoch_step(dataloader_train, \n\u001b[0m\u001b[1;32m     10\u001b[0m                                     \u001b[0mmodel\u001b[0m\u001b[0;34m,\u001b[0m\u001b[0;34m\u001b[0m\u001b[0;34m\u001b[0m\u001b[0m\n\u001b[1;32m     11\u001b[0m                                     \u001b[0moptimizer\u001b[0m\u001b[0;34m,\u001b[0m\u001b[0;34m\u001b[0m\u001b[0;34m\u001b[0m\u001b[0m\n",
      "\u001b[0;32m/n/data1/hms/neurobio/sabatini/josh/github_repos/GCaMP_ROI_classifier/new_stuff/training_simCLR.py\u001b[0m in \u001b[0;36mepoch_step\u001b[0;34m(dataloader, model, optimizer, criterion, scheduler, temperature, L2_alpha, mode, loss_rolling_train, loss_rolling_val, device, do_validation, validation_Object, verbose, verbose_update_period, X_val, y_val)\u001b[0m\n\u001b[1;32m    173\u001b[0m         \u001b[0mprint\u001b[0m\u001b[0;34m(\u001b[0m\u001b[0;34mf'Iter: {batch}/{n_batches}, loss_train: {loss_train:.{precis}}, loss_val: {loss_val:.{precis}}, pos_over_neg: {pos_over_neg} lr: {learning_rate:.{precis}}'\u001b[0m\u001b[0;34m)\u001b[0m\u001b[0;34m\u001b[0m\u001b[0;34m\u001b[0m\u001b[0m\n\u001b[1;32m    174\u001b[0m \u001b[0;34m\u001b[0m\u001b[0m\n\u001b[0;32m--> 175\u001b[0;31m     \u001b[0;32mfor\u001b[0m \u001b[0mi_batch\u001b[0m\u001b[0;34m,\u001b[0m \u001b[0;34m(\u001b[0m\u001b[0mX_batch\u001b[0m\u001b[0;34m,\u001b[0m \u001b[0my_batch\u001b[0m\u001b[0;34m,\u001b[0m \u001b[0midx_batch\u001b[0m\u001b[0;34m,\u001b[0m \u001b[0msample_weights\u001b[0m\u001b[0;34m)\u001b[0m \u001b[0;32min\u001b[0m \u001b[0menumerate\u001b[0m\u001b[0;34m(\u001b[0m\u001b[0mdataloader\u001b[0m\u001b[0;34m)\u001b[0m\u001b[0;34m:\u001b[0m\u001b[0;34m\u001b[0m\u001b[0;34m\u001b[0m\u001b[0m\n\u001b[0m\u001b[1;32m    176\u001b[0m         \u001b[0;31m# for param in util.get_trainable_parameters(model):\u001b[0m\u001b[0;34m\u001b[0m\u001b[0;34m\u001b[0m\u001b[0;34m\u001b[0m\u001b[0m\n\u001b[1;32m    177\u001b[0m         \u001b[0;31m#     print(torch.linalg.norm(param))\u001b[0m\u001b[0;34m\u001b[0m\u001b[0;34m\u001b[0m\u001b[0;34m\u001b[0m\u001b[0m\n",
      "\u001b[0;32m~/.conda/envs/jupyter_launcher/lib/python3.8/site-packages/torch/utils/data/dataloader.py\u001b[0m in \u001b[0;36m__next__\u001b[0;34m(self)\u001b[0m\n\u001b[1;32m    519\u001b[0m             \u001b[0;32mif\u001b[0m \u001b[0mself\u001b[0m\u001b[0;34m.\u001b[0m\u001b[0m_sampler_iter\u001b[0m \u001b[0;32mis\u001b[0m \u001b[0;32mNone\u001b[0m\u001b[0;34m:\u001b[0m\u001b[0;34m\u001b[0m\u001b[0;34m\u001b[0m\u001b[0m\n\u001b[1;32m    520\u001b[0m                 \u001b[0mself\u001b[0m\u001b[0;34m.\u001b[0m\u001b[0m_reset\u001b[0m\u001b[0;34m(\u001b[0m\u001b[0;34m)\u001b[0m\u001b[0;34m\u001b[0m\u001b[0;34m\u001b[0m\u001b[0m\n\u001b[0;32m--> 521\u001b[0;31m             \u001b[0mdata\u001b[0m \u001b[0;34m=\u001b[0m \u001b[0mself\u001b[0m\u001b[0;34m.\u001b[0m\u001b[0m_next_data\u001b[0m\u001b[0;34m(\u001b[0m\u001b[0;34m)\u001b[0m\u001b[0;34m\u001b[0m\u001b[0;34m\u001b[0m\u001b[0m\n\u001b[0m\u001b[1;32m    522\u001b[0m             \u001b[0mself\u001b[0m\u001b[0;34m.\u001b[0m\u001b[0m_num_yielded\u001b[0m \u001b[0;34m+=\u001b[0m \u001b[0;36m1\u001b[0m\u001b[0;34m\u001b[0m\u001b[0;34m\u001b[0m\u001b[0m\n\u001b[1;32m    523\u001b[0m             \u001b[0;32mif\u001b[0m \u001b[0mself\u001b[0m\u001b[0;34m.\u001b[0m\u001b[0m_dataset_kind\u001b[0m \u001b[0;34m==\u001b[0m \u001b[0m_DatasetKind\u001b[0m\u001b[0;34m.\u001b[0m\u001b[0mIterable\u001b[0m \u001b[0;32mand\u001b[0m\u001b[0;31m \u001b[0m\u001b[0;31m\\\u001b[0m\u001b[0;34m\u001b[0m\u001b[0;34m\u001b[0m\u001b[0m\n",
      "\u001b[0;32m~/.conda/envs/jupyter_launcher/lib/python3.8/site-packages/torch/utils/data/dataloader.py\u001b[0m in \u001b[0;36m_next_data\u001b[0;34m(self)\u001b[0m\n\u001b[1;32m   1184\u001b[0m \u001b[0;34m\u001b[0m\u001b[0m\n\u001b[1;32m   1185\u001b[0m             \u001b[0;32massert\u001b[0m \u001b[0;32mnot\u001b[0m \u001b[0mself\u001b[0m\u001b[0;34m.\u001b[0m\u001b[0m_shutdown\u001b[0m \u001b[0;32mand\u001b[0m \u001b[0mself\u001b[0m\u001b[0;34m.\u001b[0m\u001b[0m_tasks_outstanding\u001b[0m \u001b[0;34m>\u001b[0m \u001b[0;36m0\u001b[0m\u001b[0;34m\u001b[0m\u001b[0;34m\u001b[0m\u001b[0m\n\u001b[0;32m-> 1186\u001b[0;31m             \u001b[0midx\u001b[0m\u001b[0;34m,\u001b[0m \u001b[0mdata\u001b[0m \u001b[0;34m=\u001b[0m \u001b[0mself\u001b[0m\u001b[0;34m.\u001b[0m\u001b[0m_get_data\u001b[0m\u001b[0;34m(\u001b[0m\u001b[0;34m)\u001b[0m\u001b[0;34m\u001b[0m\u001b[0;34m\u001b[0m\u001b[0m\n\u001b[0m\u001b[1;32m   1187\u001b[0m             \u001b[0mself\u001b[0m\u001b[0;34m.\u001b[0m\u001b[0m_tasks_outstanding\u001b[0m \u001b[0;34m-=\u001b[0m \u001b[0;36m1\u001b[0m\u001b[0;34m\u001b[0m\u001b[0;34m\u001b[0m\u001b[0m\n\u001b[1;32m   1188\u001b[0m             \u001b[0;32mif\u001b[0m \u001b[0mself\u001b[0m\u001b[0;34m.\u001b[0m\u001b[0m_dataset_kind\u001b[0m \u001b[0;34m==\u001b[0m \u001b[0m_DatasetKind\u001b[0m\u001b[0;34m.\u001b[0m\u001b[0mIterable\u001b[0m\u001b[0;34m:\u001b[0m\u001b[0;34m\u001b[0m\u001b[0;34m\u001b[0m\u001b[0m\n",
      "\u001b[0;32m~/.conda/envs/jupyter_launcher/lib/python3.8/site-packages/torch/utils/data/dataloader.py\u001b[0m in \u001b[0;36m_get_data\u001b[0;34m(self)\u001b[0m\n\u001b[1;32m   1140\u001b[0m         \u001b[0;32melif\u001b[0m \u001b[0mself\u001b[0m\u001b[0;34m.\u001b[0m\u001b[0m_pin_memory\u001b[0m\u001b[0;34m:\u001b[0m\u001b[0;34m\u001b[0m\u001b[0;34m\u001b[0m\u001b[0m\n\u001b[1;32m   1141\u001b[0m             \u001b[0;32mwhile\u001b[0m \u001b[0mself\u001b[0m\u001b[0;34m.\u001b[0m\u001b[0m_pin_memory_thread\u001b[0m\u001b[0;34m.\u001b[0m\u001b[0mis_alive\u001b[0m\u001b[0;34m(\u001b[0m\u001b[0;34m)\u001b[0m\u001b[0;34m:\u001b[0m\u001b[0;34m\u001b[0m\u001b[0;34m\u001b[0m\u001b[0m\n\u001b[0;32m-> 1142\u001b[0;31m                 \u001b[0msuccess\u001b[0m\u001b[0;34m,\u001b[0m \u001b[0mdata\u001b[0m \u001b[0;34m=\u001b[0m \u001b[0mself\u001b[0m\u001b[0;34m.\u001b[0m\u001b[0m_try_get_data\u001b[0m\u001b[0;34m(\u001b[0m\u001b[0;34m)\u001b[0m\u001b[0;34m\u001b[0m\u001b[0;34m\u001b[0m\u001b[0m\n\u001b[0m\u001b[1;32m   1143\u001b[0m                 \u001b[0;32mif\u001b[0m \u001b[0msuccess\u001b[0m\u001b[0;34m:\u001b[0m\u001b[0;34m\u001b[0m\u001b[0;34m\u001b[0m\u001b[0m\n\u001b[1;32m   1144\u001b[0m                     \u001b[0;32mreturn\u001b[0m \u001b[0mdata\u001b[0m\u001b[0;34m\u001b[0m\u001b[0;34m\u001b[0m\u001b[0m\n",
      "\u001b[0;32m~/.conda/envs/jupyter_launcher/lib/python3.8/site-packages/torch/utils/data/dataloader.py\u001b[0m in \u001b[0;36m_try_get_data\u001b[0;34m(self, timeout)\u001b[0m\n\u001b[1;32m   1001\u001b[0m             \u001b[0;32mif\u001b[0m \u001b[0mlen\u001b[0m\u001b[0;34m(\u001b[0m\u001b[0mfailed_workers\u001b[0m\u001b[0;34m)\u001b[0m \u001b[0;34m>\u001b[0m \u001b[0;36m0\u001b[0m\u001b[0;34m:\u001b[0m\u001b[0;34m\u001b[0m\u001b[0;34m\u001b[0m\u001b[0m\n\u001b[1;32m   1002\u001b[0m                 \u001b[0mpids_str\u001b[0m \u001b[0;34m=\u001b[0m \u001b[0;34m', '\u001b[0m\u001b[0;34m.\u001b[0m\u001b[0mjoin\u001b[0m\u001b[0;34m(\u001b[0m\u001b[0mstr\u001b[0m\u001b[0;34m(\u001b[0m\u001b[0mw\u001b[0m\u001b[0;34m.\u001b[0m\u001b[0mpid\u001b[0m\u001b[0;34m)\u001b[0m \u001b[0;32mfor\u001b[0m \u001b[0mw\u001b[0m \u001b[0;32min\u001b[0m \u001b[0mfailed_workers\u001b[0m\u001b[0;34m)\u001b[0m\u001b[0;34m\u001b[0m\u001b[0;34m\u001b[0m\u001b[0m\n\u001b[0;32m-> 1003\u001b[0;31m                 \u001b[0;32mraise\u001b[0m \u001b[0mRuntimeError\u001b[0m\u001b[0;34m(\u001b[0m\u001b[0;34m'DataLoader worker (pid(s) {}) exited unexpectedly'\u001b[0m\u001b[0;34m.\u001b[0m\u001b[0mformat\u001b[0m\u001b[0;34m(\u001b[0m\u001b[0mpids_str\u001b[0m\u001b[0;34m)\u001b[0m\u001b[0;34m)\u001b[0m \u001b[0;32mfrom\u001b[0m \u001b[0me\u001b[0m\u001b[0;34m\u001b[0m\u001b[0;34m\u001b[0m\u001b[0m\n\u001b[0m\u001b[1;32m   1004\u001b[0m             \u001b[0;32mif\u001b[0m \u001b[0misinstance\u001b[0m\u001b[0;34m(\u001b[0m\u001b[0me\u001b[0m\u001b[0;34m,\u001b[0m \u001b[0mqueue\u001b[0m\u001b[0;34m.\u001b[0m\u001b[0mEmpty\u001b[0m\u001b[0;34m)\u001b[0m\u001b[0;34m:\u001b[0m\u001b[0;34m\u001b[0m\u001b[0;34m\u001b[0m\u001b[0m\n\u001b[1;32m   1005\u001b[0m                 \u001b[0;32mreturn\u001b[0m \u001b[0;34m(\u001b[0m\u001b[0;32mFalse\u001b[0m\u001b[0;34m,\u001b[0m \u001b[0;32mNone\u001b[0m\u001b[0;34m)\u001b[0m\u001b[0;34m\u001b[0m\u001b[0;34m\u001b[0m\u001b[0m\n",
      "\u001b[0;31mRuntimeError\u001b[0m: DataLoader worker (pid(s) 194964, 195595) exited unexpectedly"
     ]
    }
   ],
   "source": [
    "model_file_name = 'ResNet18_simCLR_model_202112078_EOD_transfmod=scl1'\n",
    "model.forward = model.forward_latent\n",
    "\n",
    "l2_alpha = 0.000\n",
    "\n",
    "n_epochs=300000\n",
    "for epoch in tqdm(range(n_epochs)):\n",
    "    print(f'epoch: {epoch}')\n",
    "    loss_rolling_train = training_simCLR.epoch_step(dataloader_train, \n",
    "                                    model, \n",
    "                                    optimizer, \n",
    "                                    criterion,\n",
    "                                    scheduler=scheduler,\n",
    "                                    temperature=0.5,\n",
    "                                    # l2_alpha,\n",
    "                                    mode='semi-supervised',\n",
    "                                    loss_rolling_train=losses_train, \n",
    "                                    loss_rolling_val=losses_val,\n",
    "                                    device=DEVICE, \n",
    "                                    verbose=2,\n",
    "                                    verbose_update_period=1,\n",
    "                                   \n",
    "#                                     do_validation=False,\n",
    "#                                     X_val=x_feed_through_val,\n",
    "#                                     y_val=torch.as_tensor(y_val, device=DEVICE)\n",
    "                                   )\n",
    "    \n",
    "    \n",
    "    torch.save(model.state_dict(), f'{base_dir}/github_repos/GCaMP_ROI_classifier/new_stuff/models/{model_file_name}.pth')\n",
    "\n",
    "    losses_train_npy = np.array(losses_train)\n",
    "    losses_val_npy = np.array(losses_val)\n",
    "    val_accs_npy = np.array(val_accs)\n",
    "    acc_npy = np.array(acc)\n",
    "\n",
    "    np.save(f'{base_dir}/github_repos/GCaMP_ROI_classifier/new_stuff/model_performance/{model_file_name}_losses_train.npy', losses_train_npy)\n",
    "    np.save(f'{base_dir}/github_repos/GCaMP_ROI_classifier/new_stuff/model_performance/{model_file_name}_losses_val.npy', losses_val_npy)\n",
    "    np.save(f'{base_dir}/github_repos/GCaMP_ROI_classifier/new_stuff/model_performance/{model_file_name}_val_accs.npy', val_accs_npy)\n",
    "    np.save(f'{base_dir}/github_repos/GCaMP_ROI_classifier/new_stuff/model_performance/{model_file_name}_tr_accs.npy', acc_npy)"
   ]
  },
  {
   "cell_type": "code",
   "execution_count": null,
   "metadata": {},
   "outputs": [],
   "source": [
    "break"
   ]
  },
  {
   "cell_type": "code",
   "execution_count": null,
   "metadata": {
    "colab": {
     "base_uri": "https://localhost:8080/",
     "height": 421
    },
    "id": "af10GlccgaV4",
    "outputId": "2ec75ade-6308-4a67-89e4-4bf3f996f746"
   },
   "outputs": [],
   "source": [
    "# import seaborn as sns\n",
    "# sns.set(style='white', palette='bright', context='poster')\n",
    "plt.rcdefaults()\n",
    "\n",
    "%matplotlib inline\n",
    "plt.figure(figsize=(12,6))\n",
    "plt.plot(losses_train, label='Training Loss')\n",
    "plt.plot(losses_val, label='Validation Loss')\n",
    "plt.title(f'Loss — Balanced Transfer Learning, No Data Augmentation, L2 Lambda = {l2_alpha}')\n",
    "plt.legend()\n",
    "plt.grid()\n",
    "plt.xlabel('Epoch Step')\n",
    "plt.ylabel('Loss')\n",
    "# plt.savefig('./Training-Loss.png')"
   ]
  },
  {
   "cell_type": "raw",
   "metadata": {
    "colab": {
     "base_uri": "https://localhost:8080/",
     "height": 706
    },
    "id": "Cl4TSsfc2MDy",
    "outputId": "ccc80bf3-a191-49ec-e635-dce022144cbe"
   },
   "source": [
    "%matplotlib inline\n",
    "plt.figure(figsize=(12,12))\n",
    "# val_transfer_cm = get_cm(features_val, y_val)\n",
    "# plt.imshow(val_transfer_cm)\n",
    "test_transfer_cm = get_cm(features_test, y_test)\n",
    "plt.imshow(test_transfer_cm)\n",
    "plt.colorbar()\n",
    "\n",
    "for i in range(test_transfer_cm.shape[0]):\n",
    "    for j in range(test_transfer_cm.shape[1]):\n",
    "        plt.annotate(np.round(test_transfer_cm[i,j], 3), (j,i), ha='center')\n",
    "plt.title(f'Test Confusion Matrix — Balanced Transfer Learning, No Augmentation, L2 Lambda = {l2_alpha}')\n",
    "plt.xlabel('True Class')\n",
    "plt.ylabel('Predicted Class')\n",
    "# plt.savefig('./Confusion-Matrix.png')\n"
   ]
  },
  {
   "cell_type": "code",
   "execution_count": null,
   "metadata": {
    "id": "rU8l0eP02TQR"
   },
   "outputs": [],
   "source": [
    "model_file_name = 'ResNet18_simCLR_model_202112078_temp=1.0'\n",
    "\n",
    "# torch.save(model.state_dict(), '/media/rich/Home_Linux_partition/github_repos/GCaMP_ROI_classifier/new_stuff/models/ResNet18_simCLR_model_20211205_3.pth')\n",
    "torch.save(model.state_dict(), f'{base_dir}/github_repos/GCaMP_ROI_classifier/new_stuff/models/{model_file_name}.pth')"
   ]
  },
  {
   "cell_type": "code",
   "execution_count": null,
   "metadata": {},
   "outputs": [],
   "source": [
    "# model.load_state_dict(torch.load('/media/rich/Home_Linux_partition/github_repos/GCaMP_ROI_classifier/new_stuff/models/ResNet18_simCLR_model_20211205_2.pth'))\n",
    "model.load_state_dict(torch.load(f'{base_dir}/github_repos/GCaMP_ROI_classifier/new_stuff/models/{model_file_name}.pth'))"
   ]
  },
  {
   "cell_type": "code",
   "execution_count": null,
   "metadata": {},
   "outputs": [],
   "source": [
    "losses_train_npy = np.array(losses_train)\n",
    "losses_val_npy = np.array(losses_val)\n",
    "val_accs_npy = np.array(val_accs)\n",
    "acc_npy = np.array(acc)\n",
    "\n",
    "np.save(f'{base_dir}/github_repos/GCaMP_ROI_classifier/new_stuff/model_performance/{model_file_name}_losses_train.npy', losses_train_npy)\n",
    "np.save(f'{base_dir}/github_repos/GCaMP_ROI_classifier/new_stuff/model_performance/{model_file_name}_losses_val.npy', losses_val_npy)\n",
    "np.save(f'{base_dir}/github_repos/GCaMP_ROI_classifier/new_stuff/model_performance/{model_file_name}_val_accs.npy', val_accs_npy)\n",
    "np.save(f'{base_dir}/github_repos/GCaMP_ROI_classifier/new_stuff/model_performance/{model_file_name}_tr_accs.npy', acc_npy)"
   ]
  },
  {
   "cell_type": "code",
   "execution_count": null,
   "metadata": {},
   "outputs": [],
   "source": []
  },
  {
   "cell_type": "markdown",
   "metadata": {
    "id": "FEqA0gLPl3-6"
   },
   "source": [
    "## Train classifier using classifier layers of model (or do supervised learning)"
   ]
  },
  {
   "cell_type": "raw",
   "metadata": {
    "id": "fmMkNykeVHbn"
   },
   "source": [
    "test_transfer_cm = get_cm(features_test, y_test)\n",
    "np.save(f'/content/drive/MyDrive/00 - ROI/GCaMP_ROI_classifier/new_stuff/npy-figures/TestingCM-{\"Un\" if not balanced else \"\"}Balanced-Transfer—L2Lambda={l2_alpha}.npy',\n",
    "        test_transfer_cm)\n",
    "torch.save(model.state_dict(), f'/content/drive/MyDrive/00 - ROI/GCaMP_ROI_classifier/new_stuff/npy-figures/TestingCM-{\"Un\" if not balanced else \"\"}Balanced-Transfer—L2Lambda={l2_alpha}.pth')\n",
    "\n",
    "np.save(f'/content/drive/MyDrive/00 - ROI/GCaMP_ROI_classifier/new_stuff/npy-figures/TestingCM-{\"Un\" if not balanced else \"\"}Balanced-SKLearn-Solver={solver}—C={C_reg}.npy',\n",
    "        logistic_pred_test)"
   ]
  },
  {
   "cell_type": "raw",
   "metadata": {
    "id": "zo42G3CeWozY"
   },
   "source": [
    "from sklearn.metrics import confusion_matrix\n",
    "\n",
    "def get_cm(pred_cm, y_cm, plot=False):\n",
    "  ### NOTE — RETURNS A MATRIX WITH PREDICTION NUM ASSOCIATED WITH ROW NUM\n",
    "  ### AND COLUMN NUM ASSOCIATED WITH TRUE VALUE. (TRANSPOSE OF SKLEARN OUTPUT.)\n",
    "\n",
    "  cm = confusion_matrix(y_cm, np.argmax(pred_cm, -1))\n",
    "  cm = cm / np.where(cm.sum(1, keepdims=True)==0, np.ones_like(cm.sum(1, keepdims=True)), cm.sum(1, keepdims=True))\n",
    "  \n",
    "  # cm = classification.confusion_matrix(y_hat, y_labeled_val)\n",
    "  # print(cm)\n",
    "  \n",
    "  if plot:\n",
    "    plt.figure()\n",
    "    plt.imshow(cm)\n",
    "    plt.colorbar()\n",
    "    plt.show()\n",
    "  \n",
    "  return cm.T"
   ]
  },
  {
   "cell_type": "raw",
   "metadata": {
    "colab": {
     "base_uri": "https://localhost:8080/"
    },
    "id": "YWk_NgpNd2Ia",
    "outputId": "2959f230-bd91-46cd-e898-d270aade7e54"
   },
   "source": [
    "num_tr_ex = X_val.shape[0]\n",
    "\n",
    "\n",
    "# solver = 'lbfgs'\n",
    "solver = 'liblinear'\n",
    "# solver = 'newton-cg'\n",
    "C_reg = 0.01\n",
    "# C_reg = 0.0001\n",
    "\n",
    "\n",
    "# logreg = LogisticRegression(solver=solver, C=C_reg)\n",
    "# logreg = LogisticRegression(solver=solver, penalty='none', )\n",
    "# logreg = LogisticRegression(solver=solver, penalty='none', max_iter=4000)\n",
    "# logreg = LogisticRegression(solver=solver)\n",
    "logreg = LogisticRegression(solver=solver, C=C_reg)\n",
    "# logreg = LogisticRegression(solver='lbfgs', penalty='none', max_iter=4000)\n",
    "\n",
    "# base_features_train = base_model_frozen(x_feed_through_tr).detach().cpu()\n",
    "base_features_train = cpu_tr.cpu().detach().numpy()\n",
    "logreg.fit(base_features_train, y_train)\n",
    "\n",
    "# base_features_val = base_model_frozen(x_feed_through_val).detach().cpu()\n",
    "base_features_val = cpu_val.cpu().detach().numpy()\n",
    "\n",
    "base_features_te = cpu_te.cpu().detach().numpy()\n",
    "\n",
    "# base_model_frozen.to('cpu')\n",
    "# X_labeled_train.to('cpu')\n",
    "\n",
    "logistic_pred_train = get_cm(logreg.predict_proba(base_features_train), y_train)\n",
    "logistic_pred_val = get_cm(logreg.predict_proba(base_features_val), y_val)\n",
    "logistic_pred_test = get_cm(logreg.predict_proba(base_features_te), y_test)\n",
    "\n",
    "\n",
    "x_feed_through_tr.to(DEVICE)\n",
    "x_feed_through_val.to(DEVICE)\n",
    "x_feed_through_te.to(DEVICE)\n",
    "\n",
    "print(x_feed_through_tr.shape, x_feed_through_val.shape)"
   ]
  },
  {
   "cell_type": "code",
   "execution_count": null,
   "metadata": {
    "id": "WLH9o3jLl4G_"
   },
   "outputs": [],
   "source": []
  },
  {
   "cell_type": "markdown",
   "metadata": {
    "id": "QjNJk6Qwl4O3"
   },
   "source": [
    "Freeze pre-head layers, unfreeze classification layers"
   ]
  },
  {
   "cell_type": "markdown",
   "metadata": {
    "id": "Zq4toNxdl4jb"
   },
   "source": [
    "Define labeled dataset to use"
   ]
  },
  {
   "cell_type": "raw",
   "metadata": {
    "id": "MGvBSux9l4pn"
   },
   "source": [
    "X_labeled_train, X_labeled_val, y_labeled_train, y_labeled_val"
   ]
  },
  {
   "cell_type": "markdown",
   "metadata": {
    "id": "JS_mTd7cl4vI"
   },
   "source": [
    "Train model"
   ]
  },
  {
   "cell_type": "code",
   "execution_count": null,
   "metadata": {},
   "outputs": [],
   "source": [
    "from torch.nn import CrossEntropyLoss\n",
    "from torch.optim import Adam\n",
    "\n",
    "import numpy as np\n",
    "\n",
    "from sklearn.linear_model import LogisticRegression\n",
    "from sklearn.tree import DecisionTreeClassifier\n",
    "from sklearn.ensemble import RandomForestClassifier\n",
    "from sklearn.svm import SVC\n",
    "\n",
    "criterion = [CrossEntropyLoss()]\n",
    "# criterion = CrossEntropyLoss(reduction='none')\n",
    "\n",
    "# optimizer = Adam(model.parameters(), lr=1e-2, weight_decay=0.0)\n",
    "# optimizer = Adam(model.parameters(), lr=2e-2)\n",
    "optimizer = Adam(model.parameters(), lr=10**(-4.5))\n",
    "scheduler = torch.optim.lr_scheduler.ExponentialLR(optimizer,\n",
    "                                                   gamma=1-0.0000,\n",
    "#                                                    gamma=1,\n",
    "                                                  )\n",
    "criterion = [_.to(DEVICE) for _ in criterion]\n",
    "losses_train, losses_val, val_accs, acc = [], [np.nan], [], []"
   ]
  },
  {
   "cell_type": "code",
   "execution_count": null,
   "metadata": {},
   "outputs": [],
   "source": [
    "def transform_null(var):\n",
    "    return(var)"
   ]
  },
  {
   "cell_type": "code",
   "execution_count": null,
   "metadata": {},
   "outputs": [],
   "source": [
    "model.reinit_classifier()\n",
    "model.train()\n",
    "model.prep_classifier()"
   ]
  },
  {
   "cell_type": "code",
   "execution_count": null,
   "metadata": {},
   "outputs": [],
   "source": [
    "dataset_validation = util.dataset_simCLR(\n",
    "                                    torch.as_tensor(masks_cat, device='cpu', dtype=torch.float32), \n",
    "                                    torch.as_tensor(torch.zeros(masks_cat.shape[0]), device='cpu', dtype=torch.float32),\n",
    "\n",
    "                                    n_transforms=1,\n",
    "                                    class_weights=np.array([1]),\n",
    "                                    # class_weights=np.array([1]*4)[np.random.randint(0,4, X_train.shape[0])],\n",
    "                                    transform=scripted_transforms_validation,\n",
    "                                    # DEVICE='cpu',\n",
    "                                    DEVICE='cpu',\n",
    "                                    dtype_X=torch.float32,\n",
    "                                    dtype_y=torch.int64,\n",
    "                                    \n",
    "                                    temp_uncertainty=16\n",
    "                                    )\n",
    "dataloader_validation = torch.utils.data.DataLoader( dataset_validation,\n",
    "#                                                 batch_size=int(pct_batch_size*X_train.shape[0]),\n",
    "                                                batch_size=1024,\n",
    "                                                shuffle=True,\n",
    "                                                drop_last=True,\n",
    "                                                pin_memory=True,\n",
    "                                                num_workers=32,\n",
    "                                                persistent_workers=True,\n",
    "                                                # prefetch_factor=0\n",
    "                                                )"
   ]
  },
  {
   "cell_type": "code",
   "execution_count": null,
   "metadata": {
    "id": "v4WvU5xxl41A"
   },
   "outputs": [],
   "source": [
    "data_unlabeled = torch.as_tensor(masks_cat, dtype=torch.float32, device='cpu')\n",
    "\n",
    "# model.to(DEVICE)\n",
    "\n",
    "l2_alpha = 0.000\n",
    "\n",
    "n_epochs=300000\n",
    "for epoch in range(n_epochs):\n",
    "    print(f'epoch: {epoch}')\n",
    "    loss_rolling_train = training_simCLR.epoch_step(dataloader_validation, \n",
    "                                    model, \n",
    "                                    optimizer, \n",
    "                                    criterion, \n",
    "\n",
    "                                    # penalized_params, l2_alpha,\n",
    "\n",
    "                                    scheduler=scheduler,\n",
    "                                    L2_alpha=0.04,\n",
    "                                    mode='supervised',\n",
    "                                    loss_rolling_train=losses_train, \n",
    "                                    device=DEVICE, \n",
    "                                    loss_rolling_val=losses_val,\n",
    "                                    verbose=2,\n",
    "                                    verbose_update_period=1,\n",
    "                                   \n",
    "#                                     do_validation=False,\n",
    "#                                     X_val=x_feed_through_val,\n",
    "#                                     y_val=torch.as_tensor(y_val, device=DEVICE)\n",
    "                                   )"
   ]
  },
  {
   "cell_type": "markdown",
   "metadata": {
    "id": "HAcpUsTJl46l"
   },
   "source": [
    "Evalculate model"
   ]
  },
  {
   "cell_type": "code",
   "execution_count": null,
   "metadata": {
    "id": "aHaYL5XjaBfP"
   },
   "outputs": [],
   "source": [
    "%matplotlib notebook\n",
    "\n",
    "plt.figure()\n",
    "plt.plot(loss_rolling_train)\n",
    "\n",
    "data_in = torch.as_tensor(X_labeled_val, dtype=torch.float32, device=DEVICE)\n",
    "# data_in = torch.as_tensor(X_labeled_train, dtype=torch.float32, device=DEVICE)\n",
    "data_in = util.tile_channels(data_in[:,None,...], dim=1)\n",
    "proba = torch.nn.functional.softmax(model.forward_classifier(data_in), dim=1)\n",
    "cm = classification.confusion_matrix(proba.detach().cpu().numpy(), y_labeled_val)\n",
    "# cm = classification.confusion_matrix(proba.detach().cpu().numpy(), y_labeled_train)\n",
    "\n",
    "plt.figure()\n",
    "plt.imshow(cm, aspect='auto')\n",
    "plt.colorbar()"
   ]
  },
  {
   "cell_type": "code",
   "execution_count": null,
   "metadata": {
    "id": "aHaYL5XjaBfP"
   },
   "outputs": [],
   "source": [
    "%matplotlib notebook\n",
    "data_in = torch.as_tensor(X_labeled_train, dtype=torch.float32, device=DEVICE)\n",
    "data_in = util.tile_channels(data_in[:,None,...], dim=1)\n",
    "proba = torch.nn.functional.softmax(model.forward_classifier(data_in), dim=1)\n",
    "cm = classification.confusion_matrix(proba.detach().cpu().numpy(), y_labeled_train)\n",
    "\n",
    "plt.figure()\n",
    "plt.imshow(cm)\n",
    "plt.colorbar()"
   ]
  },
  {
   "cell_type": "code",
   "execution_count": null,
   "metadata": {
    "id": "QNlRDjrVaCD-"
   },
   "outputs": [],
   "source": []
  },
  {
   "cell_type": "code",
   "execution_count": null,
   "metadata": {},
   "outputs": [],
   "source": []
  },
  {
   "cell_type": "code",
   "execution_count": null,
   "metadata": {},
   "outputs": [],
   "source": []
  },
  {
   "cell_type": "code",
   "execution_count": null,
   "metadata": {},
   "outputs": [],
   "source": []
  },
  {
   "cell_type": "markdown",
   "metadata": {},
   "source": [
    "## Use sklearn to train classifier"
   ]
  },
  {
   "cell_type": "code",
   "execution_count": null,
   "metadata": {
    "id": "rU8l0eP02TQR"
   },
   "outputs": [],
   "source": [
    "transforms_validation = torch.nn.Sequential(\n",
    "    augmentation.ScaleDynamicRange(scaler_bounds=(0,1)),\n",
    "    torchvision.transforms.Resize(size=(224,224),\n",
    "                                  interpolation=torchvision.transforms.InterpolationMode.BILINEAR), \n",
    "    augmentation.TileChannels(dim=0, n_channels=3),\n",
    "#     augmentation.Normalize(  means=[0.485, 0.456, 0.406],\n",
    "#                              stds=[0.229, 0.224, 0.225]),\n",
    "#     torchvision.transforms.Normalize(mean=[0.485, 0.456, 0.406],\n",
    "#                                      std=[0.229, 0.224, 0.225],\n",
    "#                                      inplace=False),\n",
    ")\n",
    "scripted_transforms_validation = torch.jit.script(transforms_validation)\n",
    "# scripted_transforms = transforms\n"
   ]
  },
  {
   "cell_type": "code",
   "execution_count": null,
   "metadata": {},
   "outputs": [],
   "source": [
    "dataset_labeled_train = util.dataset_simCLR(\n",
    "                                    torch.as_tensor(X_labeled_train, device='cpu', dtype=torch.float32), \n",
    "                                    # torch.as_tensor(X_labeled_train_SYT, device='cpu', dtype=torch.float32), \n",
    "                                    torch.as_tensor(torch.zeros(X_labeled_train.shape[0]), device='cpu', dtype=torch.float32),\n",
    "                                    # torch.as_tensor(torch.zeros(X_labeled_train_SYT.shape[0]), device='cpu', dtype=torch.float32),\n",
    "\n",
    "                                    n_transforms=1,\n",
    "                                    class_weights=np.array([1]),\n",
    "                                    # class_weights=np.array([1]*4)[np.random.randint(0,4, X_train.shape[0])],\n",
    "                                    transform=scripted_transforms_validation,\n",
    "                                    # DEVICE='cpu',\n",
    "                                    DEVICE='cpu',\n",
    "                                    dtype_X=torch.float32,\n",
    "                                    dtype_y=torch.int64,\n",
    "                                    \n",
    "                                    temp_uncertainty=16\n",
    "                                    )\n",
    "dataset_labeled_val = util.dataset_simCLR(\n",
    "                                    torch.as_tensor(X_labeled_val, device='cpu', dtype=torch.float32), \n",
    "                                    # torch.as_tensor(X_labeled_val_SYT, device='cpu', dtype=torch.float32), \n",
    "                                    torch.as_tensor(torch.zeros(X_labeled_val.shape[0]), device='cpu', dtype=torch.float32),\n",
    "                                    # torch.as_tensor(torch.zeros(X_labeled_val_SYT.shape[0]), device='cpu', dtype=torch.float32),\n",
    "\n",
    "                                    n_transforms=1,\n",
    "                                    class_weights=np.array([1]),\n",
    "                                    # class_weights=np.array([1]*4)[np.random.randint(0,4, X_train.shape[0])],\n",
    "                                    transform=scripted_transforms_validation,\n",
    "                                    # DEVICE='cpu',\n",
    "                                    DEVICE='cpu',\n",
    "                                    dtype_X=torch.float32,\n",
    "                                    dtype_y=torch.int64,\n",
    "                                    \n",
    "                                    temp_uncertainty=16\n",
    "                                    )\n",
    "dataloader_labeled_train = torch.utils.data.DataLoader( dataset_labeled_train,\n",
    "    #                                                 batch_size=int(pct_batch_size*X_train.shape[0]),\n",
    "                                                    batch_size=1024,\n",
    "                                                    shuffle=False,\n",
    "                                                    drop_last=False,\n",
    "                                                    pin_memory=True,\n",
    "                                                    num_workers=32,\n",
    "                                                    persistent_workers=True,\n",
    "                                                    # prefetch_factor=0\n",
    "                                                    )\n",
    "dataloader_labeled_val = torch.utils.data.DataLoader( dataset_labeled_val,\n",
    "    #                                                 batch_size=int(pct_batch_size*X_train.shape[0]),\n",
    "                                                    batch_size=1024,\n",
    "                                                    shuffle=False,\n",
    "                                                    drop_last=False,\n",
    "                                                    pin_memory=True,\n",
    "                                                    num_workers=32,\n",
    "                                                    persistent_workers=True,\n",
    "                                                    # prefetch_factor=0\n",
    "                                                    )\n"
   ]
  },
  {
   "cell_type": "code",
   "execution_count": null,
   "metadata": {},
   "outputs": [],
   "source": [
    "DEVICE = torch_helpers.set_device(use_GPU=True)"
   ]
  },
  {
   "cell_type": "code",
   "execution_count": null,
   "metadata": {},
   "outputs": [],
   "source": [
    "model.eval()\n",
    "model.to(DEVICE)\n",
    "features_train = torch.cat([model.get_head(model.base_model(data[0][0].to(DEVICE))).detach().cpu() for data in dataloader_labeled_train], dim=0)\n",
    "features_val   = torch.cat([model.get_head(model.base_model(data[0][0].to(DEVICE))).detach().cpu() for data in dataloader_labeled_val], dim=0)"
   ]
  },
  {
   "cell_type": "markdown",
   "metadata": {},
   "source": [
    "run a sweep of logistic regressions over C (1/L2) parameter"
   ]
  },
  {
   "cell_type": "code",
   "execution_count": null,
   "metadata": {},
   "outputs": [],
   "source": [
    "acc_train, acc_val = [], []\n",
    "# C_toUse = np.array([1000,100,10,1,0.1,0.01,0.001,0.0001,0.00001])\n",
    "C_toUse = np.array([10,1,0.1,0.01,0.001,0.0001,0.00001])\n",
    "for C in C_toUse:\n",
    "#     print(f'C = {C}')\n",
    "    logreg = sklearn.linear_model.LogisticRegression(solver='liblinear', max_iter=800, C=C)\n",
    "#     tic = time.time()\n",
    "    logreg.fit(features_train, y_labeled_train)\n",
    "#     print(f'time: {time.time() - tic}')\n",
    "    acc = logreg.score(features_train, y_labeled_train)\n",
    "    acc_train.append(acc)\n",
    "#     print(f'acc_train: {acc}')\n",
    "    acc = logreg.score(features_val, y_labeled_val)\n",
    "    acc_val.append(acc)\n",
    "#     print(f'acc_val: {acc}')\n",
    "#     print('')\n",
    "    \n",
    "\n",
    "plt.figure()\n",
    "plt.plot(C_toUse, acc_train)\n",
    "plt.plot(C_toUse, acc_val)\n",
    "plt.xscale('log')\n",
    "plt.xlabel('C')\n",
    "plt.ylabel('acc')\n",
    "plt.legend(['train', 'test']);"
   ]
  },
  {
   "cell_type": "code",
   "execution_count": null,
   "metadata": {},
   "outputs": [],
   "source": [
    "# acc_train, acc_val = [], []\n",
    "# # C_toUse = np.array([1000,100,10,1,0.1,0.01,0.001,0.0001,0.00001])\n",
    "# # C_toUse = np.array([10,1,0.1,0.01,0.001,0.0001,0.00001])\n",
    "# C_toUse = np.array([10000])\n",
    "# for C in tqdm(C_toUse):\n",
    "# #     print(f'C = {C}')\n",
    "#     logreg = sklearn.linear_model.LogisticRegression(solver='liblinear', max_iter=800, C=C)\n",
    "# #     tic = time.time()\n",
    "#     logreg.fit(features_train, y_labeled_train_SYT)\n",
    "# #     print(f'time: {time.time() - tic}')\n",
    "#     acc = logreg.score(features_train, y_labeled_train_SYT)\n",
    "#     acc_train.append(acc)\n",
    "# #     print(f'acc_train: {acc}')\n",
    "#     acc = logreg.score(features_val, y_labeled_val_SYT)\n",
    "#     acc_val.append(acc)\n",
    "# #     print(f'acc_val: {acc}')\n",
    "# #     print('')\n",
    "    \n",
    "\n",
    "# plt.figure()\n",
    "# plt.plot(C_toUse, acc_train)\n",
    "# plt.plot(C_toUse, acc_val)\n",
    "# plt.xscale('log')\n",
    "# plt.xlabel('C')\n",
    "# plt.ylabel('acc')\n",
    "# plt.legend(['train', 'test']);"
   ]
  },
  {
   "cell_type": "markdown",
   "metadata": {},
   "source": [
    "run a sinlg logistic regression with desired parameters and check confusion matrix"
   ]
  },
  {
   "cell_type": "code",
   "execution_count": null,
   "metadata": {},
   "outputs": [],
   "source": [
    "logreg = sklearn.linear_model.LogisticRegression(solver='liblinear', max_iter=800, C=10**(-1)).fit(features_train, y_labeled_train)"
   ]
  },
  {
   "cell_type": "code",
   "execution_count": null,
   "metadata": {},
   "outputs": [],
   "source": [
    "%matplotlib inline\n",
    "proba = logreg.predict_proba(features_train)\n",
    "\n",
    "preds = np.argmax(proba, axis=1)\n",
    "cm = classification.confusion_matrix(preds, y_labeled_train)\n",
    "\n",
    "plt.figure()\n",
    "sns.heatmap(cm, annot=True, annot_kws={\"size\": 16}, vmax=1., cmap=plt.get_cmap('gray'))\n",
    "plt.title('train');\n",
    "\n",
    "proba = logreg.predict_proba(features_val)\n",
    "preds = np.argmax(proba, axis=1)\n",
    "cm = classification.confusion_matrix(preds, y_labeled_val)\n",
    "\n",
    "plt.figure()\n",
    "sns.heatmap(cm, annot=True, annot_kws={\"size\": 16}, vmax=1., cmap=plt.get_cmap('gray'))\n",
    "plt.title('val');\n"
   ]
  },
  {
   "cell_type": "code",
   "execution_count": null,
   "metadata": {},
   "outputs": [],
   "source": [
    "# %matplotlib notebook\n",
    "# proba = logreg.predict_proba(features_train)\n",
    "\n",
    "# preds = np.argmax(proba, axis=1)\n",
    "# cm = classification.confusion_matrix(preds, y_labeled_train_SYT)\n",
    "\n",
    "# plt.figure()\n",
    "# sns.heatmap(cm, annot=True, annot_kws={\"size\": 16}, vmax=1., cmap=plt.get_cmap('gray'))\n",
    "# plt.title('train');\n",
    "\n",
    "# proba = logreg.predict_proba(features_val)\n",
    "# preds = np.argmax(proba, axis=1)\n",
    "# cm = classification.confusion_matrix(preds, y_labeled_val_SYT)\n",
    "\n",
    "# plt.figure()\n",
    "# sns.heatmap(cm, annot=True, annot_kws={\"size\": 16}, vmax=1., cmap=plt.get_cmap('gray'))\n",
    "# plt.title('val');\n"
   ]
  },
  {
   "cell_type": "code",
   "execution_count": null,
   "metadata": {},
   "outputs": [],
   "source": []
  },
  {
   "cell_type": "code",
   "execution_count": null,
   "metadata": {},
   "outputs": [],
   "source": []
  },
  {
   "cell_type": "code",
   "execution_count": null,
   "metadata": {},
   "outputs": [],
   "source": []
  },
  {
   "cell_type": "markdown",
   "metadata": {
    "id": "_CchY4kGDB00"
   },
   "source": [
    "## Check embeddings"
   ]
  },
  {
   "cell_type": "code",
   "execution_count": null,
   "metadata": {},
   "outputs": [],
   "source": [
    "model.eval();\n",
    "# model.to(DEVICE);"
   ]
  },
  {
   "cell_type": "code",
   "execution_count": null,
   "metadata": {
    "id": "JcrdLrYtDB00"
   },
   "outputs": [],
   "source": [
    "torch.cuda.empty_cache()"
   ]
  },
  {
   "cell_type": "code",
   "execution_count": null,
   "metadata": {},
   "outputs": [],
   "source": [
    "dataset_unlabeled_noAug = util.dataset_simCLR(\n",
    "                                    torch.as_tensor(masks_cat[:], device='cpu', dtype=torch.float32), \n",
    "                                    torch.as_tensor(torch.zeros(masks_cat[:].shape[0]), device='cpu', dtype=torch.float32),\n",
    "\n",
    "                                    n_transforms=1,\n",
    "                                    class_weights=np.array([1]),\n",
    "                                    # class_weights=np.array([1]*4)[np.random.randint(0,4, X_train.shape[0])],\n",
    "                                    transform=scripted_transforms_validation,\n",
    "                                    # DEVICE='cpu',\n",
    "                                    DEVICE='cpu',\n",
    "                                    dtype_X=torch.float32,\n",
    "                                    dtype_y=torch.int64,\n",
    "                                    \n",
    "                                    temp_uncertainty=16\n",
    "                                    )\n",
    "dataloader_unlabeled_noAug = torch.utils.data.DataLoader( dataset_unlabeled_noAug,\n",
    "#                                                 batch_size=int(pct_batch_size*X_train.shape[0]),\n",
    "                                                batch_size=1024,\n",
    "                                                shuffle=False,\n",
    "                                                drop_last=False,\n",
    "                                                pin_memory=True,\n",
    "                                                num_workers=32,\n",
    "                                                persistent_workers=True,\n",
    "                                                # prefetch_factor=0\n",
    "                                                )"
   ]
  },
  {
   "cell_type": "code",
   "execution_count": null,
   "metadata": {},
   "outputs": [],
   "source": [
    "dataset_unlabeled_noAug = util.dataset_simCLR(\n",
    "                                    torch.as_tensor(masks_SYT[:], device='cpu', dtype=torch.float32), \n",
    "                                    torch.as_tensor(torch.zeros(masks_SYT[:].shape[0]), device='cpu', dtype=torch.float32),\n",
    "\n",
    "                                    n_transforms=1,\n",
    "                                    class_weights=np.array([1]),\n",
    "                                    # class_weights=np.array([1]*4)[np.random.randint(0,4, X_train.shape[0])],\n",
    "                                    transform=scripted_transforms_validation,\n",
    "                                    # DEVICE='cpu',\n",
    "                                    DEVICE='cpu',\n",
    "                                    dtype_X=torch.float32,\n",
    "                                    dtype_y=torch.int64,\n",
    "                                    \n",
    "                                    temp_uncertainty=16\n",
    "                                    )\n",
    "dataloader_unlabeled_noAug = torch.utils.data.DataLoader( dataset_unlabeled_noAug,\n",
    "#                                                 batch_size=int(pct_batch_size*X_train.shape[0]),\n",
    "                                                batch_size=1024,\n",
    "                                                shuffle=False,\n",
    "                                                drop_last=False,\n",
    "                                                pin_memory=True,\n",
    "                                                num_workers=32,\n",
    "                                                persistent_workers=True,\n",
    "                                                # prefetch_factor=0\n",
    "                                                )"
   ]
  },
  {
   "cell_type": "code",
   "execution_count": null,
   "metadata": {},
   "outputs": [],
   "source": [
    "# optional: run unlabeled data through model\n",
    "features_train = torch.cat([model.get_head(model.base_model(data[0][0].to(DEVICE))).detach().cpu() for data in dataloader_unlabeled_noAug], dim=0)"
   ]
  },
  {
   "cell_type": "code",
   "execution_count": null,
   "metadata": {
    "id": "HPyKFRdq28d3"
   },
   "outputs": [],
   "source": [
    "### REMOVE\n",
    "\n",
    "DEVICE='cuda'\n",
    "# DEVICE='cpu'"
   ]
  },
  {
   "cell_type": "code",
   "execution_count": null,
   "metadata": {
    "id": "7fpQXf0o28d3"
   },
   "outputs": [],
   "source": [
    "# model.to(DEVICE);"
   ]
  },
  {
   "cell_type": "code",
   "execution_count": null,
   "metadata": {
    "id": "7gwucuZXDB00"
   },
   "outputs": [],
   "source": [
    "_, features_embedded, _, evr = decomposition.torch_pca(features_train, device=DEVICE, return_cpu=True)"
   ]
  },
  {
   "cell_type": "code",
   "execution_count": null,
   "metadata": {},
   "outputs": [],
   "source": [
    "tsne = cuml.TSNE( n_components=2,\n",
    "                  perplexity=50.0,\n",
    "                  early_exaggeration=12.0,\n",
    "#                   late_exaggeration=1.0,\n",
    "                  learning_rate=200.0,\n",
    "                  n_iter=1000,\n",
    "                  n_iter_without_progress=300,\n",
    "                  min_grad_norm=1e-07,\n",
    "                  metric='euclidean',\n",
    "                  init='random',\n",
    "                  verbose=False,\n",
    "#                   random_state=None,\n",
    "#                   method='barnes_hut',\n",
    "#                   angle=0.5,\n",
    "#                   learning_rate_method='adaptive',\n",
    "# #                   n_neighbors=90,\n",
    "#                   perplexity_max_iter=100,\n",
    "#                   exaggeration_iter=250,\n",
    "#                   pre_momentum=0.5,\n",
    "#                   post_momentum=0.8,\n",
    "# #                   square_distances=True,\n",
    "#                   handle=None,\n",
    "#                   output_type=None\n",
    "                )\n",
    "features_embedded = tsne.fit_transform(features_train.to(DEVICE)).get()"
   ]
  },
  {
   "cell_type": "code",
   "execution_count": null,
   "metadata": {},
   "outputs": [],
   "source": [
    "umap = cuml.UMAP(n_neighbors=100,\n",
    "                n_components=2,\n",
    "                n_epochs=None,\n",
    "                learning_rate=1.0,\n",
    "                min_dist=0.1,\n",
    "                spread=1.0,\n",
    "                set_op_mix_ratio=1.0, \n",
    "                local_connectivity=1.0,\n",
    "                repulsion_strength=1.0, \n",
    "                negative_sample_rate=5, \n",
    "                transform_queue_size=4.0, \n",
    "                init='spectral', \n",
    "                verbose=False,\n",
    "                a=None, \n",
    "                b=None, \n",
    "                target_n_neighbors=- 1, \n",
    "#                 target_weight=0.5, \n",
    "                target_metric='categorical', \n",
    "                handle=None,                \n",
    "                hash_input=False, \n",
    "                random_state=None, \n",
    "                callback=None, \n",
    "                output_type=None\n",
    "                )\n",
    "features_embedded = umap.fit_transform(features_train.to(DEVICE)).get()"
   ]
  },
  {
   "cell_type": "raw",
   "metadata": {},
   "source": [
    "torch_helpers.delete_all_cuda_tensors(globals())"
   ]
  },
  {
   "cell_type": "raw",
   "metadata": {},
   "source": [
    "torch.cuda.empty_cache()\n",
    "gc.collect()\n",
    "torch.cuda.empty_cache()\n",
    "gc.collect()\n",
    "torch.cuda.empty_cache()\n",
    "gc.collect()\n",
    "torch.cuda.empty_cache()\n",
    "gc.collect()"
   ]
  },
  {
   "cell_type": "raw",
   "metadata": {},
   "source": [
    "torch_helpers.tensor_sizeOnDisk(features_train)"
   ]
  },
  {
   "cell_type": "raw",
   "metadata": {
    "id": "2imvF8ZoDB00"
   },
   "source": [
    "from sklearn import manifold\n",
    "\n",
    "tsne = manifold.TSNE(n_components=2, \n",
    "                     perplexity=120.0, \n",
    "                     early_exaggeration=12.0, \n",
    "                     learning_rate=200, \n",
    "                     n_iter=1000, \n",
    "                     n_iter_without_progress=300, \n",
    "                     min_grad_norm=1e-07, \n",
    "                     metric='euclidean', \n",
    "                     init='pca', \n",
    "                     verbose=0, \n",
    "                     random_state=None, \n",
    "                     method='barnes_hut', \n",
    "                     angle=0.5, \n",
    "                     n_jobs=-1, \n",
    "#                      square_distances='legacy'\n",
    "                    )\n",
    "features_embedded = tsne.fit_transform(features_train.cpu())\n",
    "# features_embedded = tsne.fit_transform(features_embedded[:,:5].cpu())"
   ]
  },
  {
   "cell_type": "code",
   "execution_count": null,
   "metadata": {
    "id": "sgxJ8VXwDB00"
   },
   "outputs": [],
   "source": [
    "import matplotlib as mpl\n",
    "\n",
    "# mpl.rcParams['image.cmap'] = 'Set1'\n",
    "%matplotlib notebook\n",
    "plt.figure()\n",
    "plt.scatter(features_embedded[:,0], features_embedded[:,1], s=10, c=labels_SYT, cmap=plt.get_cmap('tab10'))\n",
    "# plt.scatter(features_embedded[:,0], features_embedded[:,1], s=0.001)\n",
    "# plt.scatter(features_embedded[:,0], features_embedded[:,1], c=labels[labels!=3])\n",
    "# plt.scatter(features_embedded[:,0], features_embedded[:,1], c=y_val)\n",
    "# plt.scatter(features_embedded[:,4], features_embedded[:,5], c=y_train)\n",
    "# plt.scatter(features_embedded[:,11], features[:,43].cpu(), c=y_train)\n"
   ]
  },
  {
   "cell_type": "code",
   "execution_count": null,
   "metadata": {
    "id": "sgxJ8VXwDB00"
   },
   "outputs": [],
   "source": []
  },
  {
   "cell_type": "code",
   "execution_count": null,
   "metadata": {
    "id": "sgxJ8VXwDB00"
   },
   "outputs": [],
   "source": [
    "import matplotlib as mpl\n",
    "\n",
    "# mpl.rcParams['image.cmap'] = 'Set1'\n",
    "%matplotlib notebook\n",
    "plt.figure()\n",
    "# plt.scatter(features_embedded[:,0], features_embedded[:,1], s=30, c=y_labeled_train, cmap=plt.get_cmap('tab10'))\n",
    "plt.scatter(features_embedded[:,0], features_embedded[:,1], s=0.2)\n",
    "# plt.scatter(features_embedded[:,0], features_embedded[:,1], c=labels[labels!=3])\n",
    "# plt.scatter(features_embedded[:,0], features_embedded[:,1], c=y_val)\n",
    "# plt.scatter(features_embedded[:,4], features_embedded[:,5], c=y_train)\n",
    "# plt.scatter(features_embedded[:,11], features[:,43].cpu(), c=y_train)\n"
   ]
  },
  {
   "cell_type": "code",
   "execution_count": null,
   "metadata": {
    "id": "UwFf2BsVDB00"
   },
   "outputs": [],
   "source": [
    "plt.figure()\n",
    "plt.imshow(features_train.cpu().detach(), aspect='auto', interpolation='antialiased')"
   ]
  },
  {
   "cell_type": "code",
   "execution_count": null,
   "metadata": {
    "id": "SARf-u1K28d4"
   },
   "outputs": [],
   "source": [
    "plt.figure()\n",
    "plt.plot(evr)\n",
    "# plt.yscale('log')"
   ]
  },
  {
   "cell_type": "code",
   "execution_count": null,
   "metadata": {
    "id": "SARf-u1K28d4"
   },
   "outputs": [],
   "source": [
    "plt.figure()\n",
    "plt.plot(evr)\n",
    "# plt.yscale('log')"
   ]
  },
  {
   "cell_type": "code",
   "execution_count": null,
   "metadata": {
    "id": "SARf-u1K28d4"
   },
   "outputs": [],
   "source": [
    "plt.figure()\n",
    "plt.plot(evr)\n",
    "# plt.yscale('log')"
   ]
  },
  {
   "cell_type": "code",
   "execution_count": null,
   "metadata": {
    "id": "SARf-u1K28d4"
   },
   "outputs": [],
   "source": [
    "plt.figure()\n",
    "plt.plot(evr)\n",
    "# plt.yscale('log')"
   ]
  },
  {
   "cell_type": "markdown",
   "metadata": {
    "id": "RiHXPapkDB00"
   },
   "source": [
    "## Check filters"
   ]
  },
  {
   "cell_type": "code",
   "execution_count": null,
   "metadata": {
    "id": "2aBVd9FTDB00"
   },
   "outputs": [],
   "source": [
    "list(model.state_dict().keys())"
   ]
  },
  {
   "cell_type": "code",
   "execution_count": null,
   "metadata": {
    "id": "dK_-Xu9EDB01"
   },
   "outputs": [],
   "source": [
    "layer_1 = model.state_dict()['base_model.0.weight'].cpu()\n",
    "layer_2 = model.state_dict()['base_model.4.0.conv1.weight'].cpu()\n",
    "layer_3 = model.state_dict()['base_model.7.0.conv1.weight'].cpu()\n",
    "layer_4 = model.state_dict()['base_model.7.1.conv2.weight'].cpu()\n",
    "\n",
    "plt.figure()\n",
    "for ii in range(layer_1.shape[1]):\n",
    "    for jj in range(layer_1.shape[0]):\n",
    "        plt.subplot2grid((layer_1.shape[1],layer_1.shape[0]),(ii,jj))\n",
    "        fig = plt.imshow(layer_1[jj,ii,:,:] , clim=(-0.2,0.2))\n",
    "        fig.axes.get_xaxis().set_visible(False)\n",
    "        fig.axes.get_yaxis().set_visible(False)\n",
    "\n",
    "plt.figure()\n",
    "for ii in range(16):\n",
    "    for jj in range(16):\n",
    "        plt.subplot2grid((16,16),(ii,jj))\n",
    "        fig = plt.imshow(layer_2[jj,ii,:,:], clim=(-.05,.05))\n",
    "        fig.axes.get_xaxis().set_visible(False)\n",
    "        fig.axes.get_yaxis().set_visible(False)\n",
    "\n",
    "plt.figure()\n",
    "for ii in range(16):\n",
    "    for jj in range(16):\n",
    "        plt.subplot2grid((16,16),(ii,jj))\n",
    "        fig = plt.imshow(layer_3[jj, ii,:,:], clim=(-.1,.1))\n",
    "        fig.axes.get_xaxis().set_visible(False)\n",
    "        fig.axes.get_yaxis().set_visible(False)\n",
    "        \n",
    "plt.figure()\n",
    "for ii in range(16):\n",
    "    for jj in range(16):\n",
    "        plt.subplot2grid((16,16),(ii,jj))\n",
    "        fig = plt.imshow(layer_4[jj, ii,:,:], clim=(-.1,.1))\n",
    "        fig.axes.get_xaxis().set_visible(False)\n",
    "        fig.axes.get_yaxis().set_visible(False)"
   ]
  },
  {
   "cell_type": "code",
   "execution_count": null,
   "metadata": {
    "id": "FGiz2fHFDB01"
   },
   "outputs": [],
   "source": []
  },
  {
   "cell_type": "code",
   "execution_count": null,
   "metadata": {
    "id": "mwJQBUhpDB01"
   },
   "outputs": [],
   "source": [
    "# torch.save(model.state_dict(), '/media/rich/bigSSD/Net_trainedOnAug_20211025_trainingSet_mouse628_20200903and20200815_simCLR.pth')"
   ]
  },
  {
   "cell_type": "code",
   "execution_count": null,
   "metadata": {
    "id": "1grXld0IDB01"
   },
   "outputs": [],
   "source": [
    "# model = Net()\n",
    "# model.load_state_dict(torch.load('test_save.pth'))\n",
    "# model.eval()"
   ]
  },
  {
   "cell_type": "code",
   "execution_count": null,
   "metadata": {
    "id": "quqNFL1jDB01"
   },
   "outputs": [],
   "source": []
  },
  {
   "cell_type": "code",
   "execution_count": null,
   "metadata": {},
   "outputs": [],
   "source": []
  },
  {
   "cell_type": "code",
   "execution_count": null,
   "metadata": {},
   "outputs": [],
   "source": []
  },
  {
   "cell_type": "code",
   "execution_count": null,
   "metadata": {},
   "outputs": [],
   "source": []
  },
  {
   "cell_type": "markdown",
   "metadata": {},
   "source": [
    "# Graveyard"
   ]
  },
  {
   "cell_type": "code",
   "execution_count": null,
   "metadata": {
    "colab": {
     "base_uri": "https://localhost:8080/"
    },
    "id": "rvDiVxDICXEn",
    "outputId": "2c29e3cf-4515-4aae-f0b1-22e30d51fa5f"
   },
   "outputs": [
    {
     "name": "stderr",
     "output_type": "stream",
     "text": [
      "Exception in thread Thread-9:\n",
      "Traceback (most recent call last):\n",
      "  File \"/home/joz608/.conda/envs/jupyter_launcher/lib/python3.8/threading.py\", line 932, in _bootstrap_inner\n",
      "    self.run()\n",
      "  File \"/home/joz608/.conda/envs/jupyter_launcher/lib/python3.8/threading.py\", line 870, in run\n",
      "    self._target(*self._args, **self._kwargs)\n",
      "  File \"/home/joz608/.conda/envs/jupyter_launcher/lib/python3.8/site-packages/torch/utils/data/_utils/pin_memory.py\", line 28, in _pin_memory_loop\n",
      "    r = in_queue.get(timeout=MP_STATUS_CHECK_INTERVAL)\n",
      "  File \"/home/joz608/.conda/envs/jupyter_launcher/lib/python3.8/multiprocessing/queues.py\", line 116, in get\n",
      "    return _ForkingPickler.loads(res)\n",
      "  File \"/home/joz608/.conda/envs/jupyter_launcher/lib/python3.8/site-packages/torch/multiprocessing/reductions.py\", line 289, in rebuild_storage_fd\n",
      "    fd = df.detach()\n",
      "  File \"/home/joz608/.conda/envs/jupyter_launcher/lib/python3.8/multiprocessing/resource_sharer.py\", line 57, in detach\n",
      "    with _resource_sharer.get_connection(self._id) as conn:\n",
      "  File \"/home/joz608/.conda/envs/jupyter_launcher/lib/python3.8/multiprocessing/resource_sharer.py\", line 87, in get_connection\n",
      "    c = Client(address, authkey=process.current_process().authkey)\n",
      "  File \"/home/joz608/.conda/envs/jupyter_launcher/lib/python3.8/multiprocessing/connection.py\", line 502, in Client\n",
      "    c = SocketClient(address)\n",
      "  File \"/home/joz608/.conda/envs/jupyter_launcher/lib/python3.8/multiprocessing/connection.py\", line 630, in SocketClient\n",
      "    s.connect(address)\n",
      "ConnectionRefusedError: [Errno 111] Connection refused\n"
     ]
    }
   ],
   "source": [
    "data_unlabeled = torch.as_tensor(masks_cat, dtype=torch.float32, device='cpu')\n",
    "\n",
    "model.to(DEVICE)\n",
    "\n",
    "# penalized_params = list(model.modules())[-1].parameters()\n",
    "# penalized_params = torch.cat([_.view(-1) for _ in penalized_params], -1)\n",
    "\n",
    "early_stopping = 50\n",
    "prv_best_val = np.inf\n",
    "early_stopping_cnt = 0\n",
    "\n",
    "l2_alpha = 0.1\n",
    "\n",
    "n_epochs=300000\n",
    "for epoch in range(n_epochs):\n",
    "    print(f'epoch: {epoch}')\n",
    "#     loss_rolling_train, loss_rolling_val = training_supervised.epoch_step(dataloader_train, \n",
    "#                                     model, \n",
    "#                                     optimizer, \n",
    "#                                     criterion, \n",
    "\n",
    "#                                     penalized_params, l2_alpha,\n",
    "\n",
    "#                                     scheduler=scheduler,\n",
    "#                                     loss_rolling_train=losses_train, \n",
    "#                                     device=DEVICE, \n",
    "#                                     loss_rolling_val=losses_val,\n",
    "#                                     verbose=2,\n",
    "#                                     verbose_update_period=100,\n",
    "                                   \n",
    "#                                     do_validation=True,\n",
    "#                                     X_val=x_feed_through_val,\n",
    "#                                     y_val=torch.as_tensor(y_val, device=DEVICE)\n",
    "#                                    )\n",
    "    \n",
    "    loss_rolling_train, loss_rolling_val = training_simCLR.epoch_step(dataloader_train, \n",
    "                                    model, \n",
    "                                    optimizer, \n",
    "                                    criterion, \n",
    "\n",
    "                                    # penalized_params, l2_alpha,\n",
    "\n",
    "                                    scheduler=scheduler,\n",
    "                                    loss_rolling_train=losses_train, \n",
    "                                    device=DEVICE, \n",
    "                                    loss_rolling_val=losses_val,\n",
    "                                    verbose=2,\n",
    "                                    verbose_update_period=100,\n",
    "                                   \n",
    "                                    do_validation=True,\n",
    "                                    X_val=x_feed_through_val,\n",
    "                                    y_val=torch.as_tensor(y_val, device=DEVICE)\n",
    "                                   )\n",
    "    \n",
    "    \n",
    "    if early_stopping:\n",
    "      if len(loss_rolling_val) > 0:\n",
    "        if loss_rolling_val[-1] < prv_best_val:\n",
    "          early_stopping_cnt = 0\n",
    "          prv_best_val = loss_rolling_val[-1]\n",
    "          torch.save(model.state_dict(), f'{base_dir}/github_repos/GCaMP_ROI_classifier/new_stuff/models/checkpoints/checkpoint.pth')\n",
    "        else:\n",
    "          early_stopping_cnt += 1\n",
    "    \n",
    "      if early_stopping_cnt >= early_stopping:\n",
    "        model.load_state_dict(torch.load(f'{base_dir}/github_repos/GCaMP_ROI_classifier/new_stuff/models/checkpoints/checkpoint.pth'))\n",
    "        break\n",
    "    \n",
    "    # torch_helpers.show_all_tensors(globals())\n",
    "    \n",
    "    features_train = model(x_feed_through_tr)\n",
    "    features_train = features_train.cpu().detach().numpy()\n",
    "    features_val = model(x_feed_through_val)\n",
    "    features_val = features_val.cpu().detach().numpy()\n",
    "    # y_hat = scipy.special.softmax(features_val, axis=-1) # logreg.predict_proba(features_val)\n",
    "    \n",
    "    print('Training Confusion Matrix')\n",
    "    print(get_cm(features_train, y_train))\n",
    "    print()\n",
    "    print(logistic_pred_train)\n",
    "\n",
    "    print()\n",
    "    print()\n",
    "\n",
    "    print('Val Confusion Matrix')\n",
    "    print(get_cm(features_val, y_val))\n",
    "    print()\n",
    "    print(logistic_pred_val)\n",
    "\n",
    "    # model.to(DEVICE)\n",
    "    print()\n",
    "    print()\n"
   ]
  },
  {
   "cell_type": "raw",
   "metadata": {
    "id": "E5EeUhzUDB0v"
   },
   "source": [
    "%matplotlib notebook\n",
    "\n",
    "logreg = LogisticRegression(solver='liblinear', max_iter=30)\n",
    "# logreg_predict_head = LogisticRegression(solver='liblinear')\n",
    "dataset_train.classification_model = None\n",
    "\n",
    "\n",
    "\n",
    "# scheduler = torch.optim.lr_scheduler.ExponentialLR(optimizer,\n",
    "#                                                    gamma=1-0.001,\n",
    "# #                                                    gamma=1,\n",
    "#                                                   )\n",
    "n_epochs=300000\n",
    "for epoch in range(n_epochs):\n",
    "    print(f'epoch: {epoch}')\n",
    "\n",
    "    model.prep_contrast()\n",
    "    training_simCLR.epoch_step( dataloader_train, \n",
    "                                model, \n",
    "                                optimizer, \n",
    "                                criterion,\n",
    "                                scheduler=scheduler, \n",
    "                                temperature=0.5,\n",
    "                                loss_rolling_train=losses_train, \n",
    "                                device=DEVICE, \n",
    "                                do_validation=False,\n",
    "#                                 validation_Object=val_obj,\n",
    "                                loss_rolling_val=losses_val,\n",
    "                                verbose=2,\n",
    "                                verbose_update_period=100,\n",
    "                               )\n",
    "    \n",
    "\n",
    "    model.prep_classifier()\n",
    "\n",
    "    # print(util.tile_channels(torch.as_tensor(X_labeled_train[:,None,...], device=DEVICE, dtype=torch.float32), dim=1).shape)\n",
    "\n",
    "    features_train = model.get_head(model.base_model(util.tile_channels(torch.as_tensor(X_labeled_train[:,None,...], device=DEVICE, dtype=torch.float32), dim=1))).detach().cpu()\n",
    "    # features_train = model(util.tile_channels(torch.as_tensor(X_labeled_train[:,None,...], device=DEVICE, dtype=torch.float32), dim=1)).detach().cpu()\n",
    "    # features_train = model(torch.as_tensor(X_labeled_train, device=DEVICE, dtype=torch.float32)[:,None,...]).detach().cpu()\n",
    "    # features = model(torch.tensor(X_train[y_train != 3], device=DEVICE, dtype=torch.float32)[:,None,...]).detach().cpu()\n",
    "    \n",
    "    tic = time.time()\n",
    "    logreg.fit(features_train, y_labeled_train)\n",
    "    print(time.time() - tic)\n",
    "    acc.append(logreg.score(features_train, y_labeled_train))\n",
    "    print(f'acc: {acc[-1]}')\n",
    "    \n",
    "    dataset_train.net_model = copy.deepcopy(model).to('cpu')\n",
    "    dataset_train.classification_model = logreg\n",
    "    \n",
    "\n",
    "#     sample_id_num = np.arange(X_labeled_val.shape[0])\n",
    "#     epoch_val = epoch\n",
    "#     batch_val = -1\n",
    "#     p_tmp = logreg.predict_proba(model(torch.as_tensor(util.tile_channels(X_labeled_val), device=DEVICE, dtype=torch.float32)).detach().cpu())\n",
    "#     logits = p_tmp\n",
    "#     # logits = np.log(1/(1/p_tmp - 1))\n",
    "\n",
    "#     col_vals = [sample_id_num, epoch_val, batch_val, y_labeled_val]\n",
    "#     setup = np.empty((len(sample_id_num), len(col_vals)))\n",
    "#     for icv, col_val in enumerate(col_vals):\n",
    "#       setup[:, icv] = col_val\n",
    "#     tmp_tracking_np = np.concatenate([setup, logits], axis=1)\n",
    "\n",
    "#     tmp_tracking_df = pd.DataFrame(tmp_tracking_np, index=sample_id_num, columns=tracking_df_cols + [f'logits_{i}' for i in range(logits.shape[1])])\n",
    "#     tracking_df = tracking_df.append(tmp_tracking_df, ignore_index=True)\n",
    "#     display(tracking_df)\n",
    "\n",
    "\n",
    "    \n",
    "    features_val = model.get_head(model.base_model(util.tile_channels(torch.as_tensor(X_labeled_val[:,None,...], device=DEVICE, dtype=torch.float32), dim=1))).detach().cpu()\n",
    "\n",
    "\n",
    "    # logreg_predict_head.fit(features_train, y_labeled_train)\n",
    "    # y_hat = logreg_predict_head.predict_proba(features_val)\n",
    "\n",
    "    y_hat = logreg.predict_proba(features_val)\n",
    "    \n",
    "    cm = classification.confusion_matrix(y_hat, y_labeled_val)\n",
    "#     plt.figure()\n",
    "#     plt.imshow(cm)\n",
    "#     plt.colorbar()\n",
    "#     plt.show()\n",
    "    print(cm)\n",
    "\n",
    "\n",
    "    # tracking_df = tracking_df.append(pd.DataFrame([np.array([100, 0, 0, 0])], index=tracking_df_cols), ignore_index=True)\n",
    "    \n",
    "    # model predict\n",
    "    # Update model in DS\n",
    "    # get item calls model for each sample\n",
    "    # output\n",
    "    # X sample weights predictions\n",
    "    \n",
    "#     classHead.fit(X_train[:, None, :, :], y_train, solver='liblinear')\n",
    "    \n",
    "#     proba = classHead.predict_proba(X_train[:, None, :, :])\n",
    "#     class_weights = proba.sum(axis=0)\n",
    "#     total_num = class_weights.sum()\n",
    "    \n",
    "#     eps = 1e-4\n",
    "    \n",
    "#     class_weights[class_weights <= 3] = total_num\n",
    "#     weightings = class_weights.sum()/class_weights\n",
    "#     final_weights = weightings / weightings.sum()\n",
    "#     final_weights = np.array([1/proba.shape[1] for _ in range(proba.shape[1])])\n",
    "    \n",
    "#     print(class_weights)\n",
    "\n",
    "#     dataset_train.set_classweights(final_weights)\n",
    "    \n",
    "#     print('dataset_train.final_weights', dataset_train.class_weights)\n"
   ]
  }
 ],
 "metadata": {
  "accelerator": "GPU",
  "colab": {
   "collapsed_sections": [],
   "machine_shape": "hm",
   "name": "ROIClassifier_TRAIN_20211201_JZ_supervised-comparison5.ipynb",
   "provenance": []
  },
  "kernelspec": {
   "display_name": "Python 3",
   "language": "python",
   "name": "python3"
  },
  "language_info": {
   "codemirror_mode": {
    "name": "ipython",
    "version": 3
   },
   "file_extension": ".py",
   "mimetype": "text/x-python",
   "name": "python",
   "nbconvert_exporter": "python",
   "pygments_lexer": "ipython3",
   "version": "3.8.12"
  },
  "varInspector": {
   "cols": {
    "lenName": 16,
    "lenType": 16,
    "lenVar": 40
   },
   "kernels_config": {
    "python": {
     "delete_cmd_postfix": "",
     "delete_cmd_prefix": "del ",
     "library": "var_list.py",
     "varRefreshCmd": "print(var_dic_list())"
    },
    "r": {
     "delete_cmd_postfix": ") ",
     "delete_cmd_prefix": "rm(",
     "library": "var_list.r",
     "varRefreshCmd": "cat(var_dic_list()) "
    }
   },
   "position": {
    "height": "943px",
    "left": "1381px",
    "right": "20px",
    "top": "106px",
    "width": "501px"
   },
   "types_to_exclude": [
    "module",
    "function",
    "builtin_function_or_method",
    "instance",
    "_Feature"
   ],
   "window_display": true
  }
 },
 "nbformat": 4,
 "nbformat_minor": 4
}
