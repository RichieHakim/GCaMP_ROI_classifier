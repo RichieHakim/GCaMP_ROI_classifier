{
 "cells": [
  {
   "cell_type": "code",
   "execution_count": 1,
   "metadata": {
    "colab": {
     "base_uri": "https://localhost:8080/",
     "height": 17
    },
    "id": "S3q3I42jDB0f",
    "outputId": "3ad88a07-0e8b-474f-b0d8-9fb6c2a99f0c"
   },
   "outputs": [
    {
     "data": {
      "text/html": [
       "<style>.container { width:95% !important; }</style>"
      ],
      "text/plain": [
       "<IPython.core.display.HTML object>"
      ]
     },
     "metadata": {},
     "output_type": "display_data"
    }
   ],
   "source": [
    "from IPython.core.display import display, HTML\n",
    "display(HTML(\"<style>.container { width:95% !important; }</style>\"))"
   ]
  },
  {
   "cell_type": "raw",
   "metadata": {
    "id": "PUUWS0VmwD7-"
   },
   "source": [
    "# !source activate jupyter_launcher\n",
    "!pip3 install numba\n",
    "!pip3 install matplotlib\n",
    "!pip3 install scipy\n",
    "!pip3 install torch\n",
    "!pip3 install torchvision\n",
    "!pip3 install sklearn\n",
    "!pip3 install pycuda\n",
    "!pip3 install tqdm\n",
    "!pip3 install seaborn\n",
    "!pip3 install h5py\n",
    "!pip3 install hdfdict\n",
    "!pip3 install ipywidgets\n",
    "!pip3 install numpy==1.20"
   ]
  },
  {
   "cell_type": "code",
   "execution_count": 2,
   "metadata": {},
   "outputs": [
    {
     "data": {
      "text/plain": [
       "'/home/joz608/.conda/envs/jupyter_launcher/bin/python3.8'"
      ]
     },
     "execution_count": 2,
     "metadata": {},
     "output_type": "execute_result"
    }
   ],
   "source": [
    "import sys\n",
    "sys.executable"
   ]
  },
  {
   "cell_type": "code",
   "execution_count": null,
   "metadata": {},
   "outputs": [],
   "source": []
  },
  {
   "cell_type": "code",
   "execution_count": null,
   "metadata": {},
   "outputs": [],
   "source": []
  },
  {
   "cell_type": "code",
   "execution_count": 3,
   "metadata": {
    "id": "eTIgCGQsDB0i"
   },
   "outputs": [],
   "source": [
    "import sys\n",
    "import os\n",
    "import copy\n",
    "import pathlib\n",
    "import time\n",
    "import gc\n",
    "\n",
    "from tqdm import tqdm, trange\n",
    "# from tqdm import trange\n",
    "\n",
    "import numpy as np\n",
    "import matplotlib.pyplot as plt\n",
    "import seaborn as sns\n",
    "import scipy\n",
    "\n",
    "import torch\n",
    "import torchvision\n",
    "import torchvision.transforms as transforms\n",
    "\n",
    "# import cuml\n",
    "\n",
    "# for creating validation set\n",
    "import sklearn\n",
    "from sklearn.model_selection import train_test_split\n",
    "\n",
    "%matplotlib inline\n",
    "%matplotlib inline\n",
    "# %matplotlib inline\n",
    "# %matplotlib qt"
   ]
  },
  {
   "cell_type": "code",
   "execution_count": null,
   "metadata": {
    "id": "GExNkvATEBtG"
   },
   "outputs": [],
   "source": []
  },
  {
   "cell_type": "code",
   "execution_count": 4,
   "metadata": {
    "id": "MZ9Hq6SVvves"
   },
   "outputs": [],
   "source": [
    "base_dir = '/n/data1/hms/neurobio/sabatini/josh'"
   ]
  },
  {
   "cell_type": "code",
   "execution_count": 5,
   "metadata": {
    "id": "9w3t_mtdDB0j"
   },
   "outputs": [],
   "source": [
    "import sys\n",
    "\n",
    "sys.path.append(f'{base_dir}/github_repos')\n",
    "# sys.path.append(f'/media/rich/Home_Linux_partition/github_repos')\n",
    "dir_folders = f'{base_dir}/label_data'\n",
    "\n",
    "\n",
    "%load_ext autoreload\n",
    "%autoreload 2\n",
    "from basic_neural_processing_modules import torch_helpers, math_functions, classification, h5_handling, plotting_helpers, indexing, misc #, decomposition\n",
    "from GCaMP_ROI_classifier.new_stuff import util, models, training_simCLR, augmentation, training_classHead, training_supervised"
   ]
  },
  {
   "cell_type": "markdown",
   "metadata": {
    "id": "hTqZzmpJDB0j"
   },
   "source": [
    "## Import unlabeled training data"
   ]
  },
  {
   "cell_type": "code",
   "execution_count": 6,
   "metadata": {},
   "outputs": [],
   "source": [
    "# data_unlabeled = h5_handling.simple_load(path=r'/media/rich/bigSSD/for_Josh/GCAMP_ROI_Classifier_data/masks_20211202_balanced.h5')\n",
    "data_unlabeled = h5_handling.simple_load(path=f'{base_dir}/label_data/masks_20211202_balanced.h5')\n",
    "\n",
    "masks_cat_raw = torch.as_tensor(np.concatenate((data_unlabeled['SYTmasks'], data_unlabeled['NPmasks'], data_unlabeled['RHmasks']), axis=0), dtype=torch.float32, device='cpu')"
   ]
  },
  {
   "cell_type": "code",
   "execution_count": 7,
   "metadata": {},
   "outputs": [],
   "source": [
    "# data_labeled = h5_handling.simple_load(path=r'/media/rich/bigSSD/for_Josh/GCAMP_ROI_Classifier_data/masks_20211202_unbalanced.h5')"
   ]
  },
  {
   "cell_type": "code",
   "execution_count": 8,
   "metadata": {},
   "outputs": [],
   "source": [
    "# masks_SYT = data_labeled['SYTmasks']\n",
    "# labels_SYT = classification.squeeze_integers(data_labeled['SYTlabels'])"
   ]
  },
  {
   "cell_type": "code",
   "execution_count": 9,
   "metadata": {},
   "outputs": [],
   "source": [
    "# nan_lst = np.concatenate(np.where(np.isnan(masks_SYT).sum(axis=-1).sum(axis=-1)))\n",
    "# non_nan = [_ for _ in range(masks_SYT.shape[0]) if _ not in nan_lst]\n",
    "# labels_SYT = labels_SYT[non_nan]\n",
    "# masks_SYT = masks_SYT[non_nan]"
   ]
  },
  {
   "cell_type": "code",
   "execution_count": 10,
   "metadata": {},
   "outputs": [],
   "source": [
    "# X_labeled_train_SYT, X_labeled_val_SYT, y_labeled_train_SYT, y_labeled_val_SYT = train_test_split(masks_SYT, labels_SYT, test_size = 0.2)"
   ]
  },
  {
   "cell_type": "markdown",
   "metadata": {},
   "source": [
    "toss any NaNs"
   ]
  },
  {
   "cell_type": "code",
   "execution_count": 11,
   "metadata": {},
   "outputs": [
    {
     "name": "stdout",
     "output_type": "stream",
     "text": [
      "Number of masks: torch.Size([711808, 36, 36])\n",
      "Number of masks: torch.Size([711807, 36, 36])\n"
     ]
    }
   ],
   "source": [
    "print(f'Number of masks: {masks_cat_raw.shape}')\n",
    "\n",
    "ROIs_without_NaNs = torch.where(~torch.any(torch.any(torch.isnan(masks_cat_raw), dim=1), dim=1))[0]\n",
    "masks_cat = masks_cat_raw[ROIs_without_NaNs]\n",
    "\n",
    "print(f'Number of masks: {masks_cat.shape}')"
   ]
  },
  {
   "cell_type": "markdown",
   "metadata": {
    "id": "hTqZzmpJDB0j"
   },
   "source": [
    "## Import labeled training data"
   ]
  },
  {
   "cell_type": "code",
   "execution_count": 12,
   "metadata": {
    "colab": {
     "base_uri": "https://localhost:8080/",
     "height": 1000
    },
    "id": "S8AO_lypDB0o",
    "outputId": "4edfd739-a0b7-4789-aea1-4a9f6c2665c8"
   },
   "outputs": [
    {
     "name": "stdout",
     "output_type": "stream",
     "text": [
      "concatenated images shape: (9715, 32, 32)\n"
     ]
    },
    {
     "data": {
      "image/png": "[encoded data removed]",
      "text/plain": [
       "<Figure size 432x288 with 1 Axes>"
      ]
     },
     "metadata": {
      "needs_background": "light"
     },
     "output_type": "display_data"
    },
    {
     "data": {
      "image/png": "[encoded data removed]",
      "text/plain": [
       "<Figure size 432x288 with 1 Axes>"
      ]
     },
     "metadata": {
      "needs_background": "light"
     },
     "output_type": "display_data"
    },
    {
     "data": {
      "image/png": "[encoded data removed]",
      "text/plain": [
       "<Figure size 432x288 with 1 Axes>"
      ]
     },
     "metadata": {
      "needs_background": "light"
     },
     "output_type": "display_data"
    },
    {
     "data": {
      "image/png": "[encoded data removed]",
      "text/plain": [
       "<Figure size 432x288 with 1 Axes>"
      ]
     },
     "metadata": {
      "needs_background": "light"
     },
     "output_type": "display_data"
    }
   ],
   "source": [
    "dir_folders = f'{base_dir}/label_data'\n",
    "# dir_folders = r'/media/rich/bigSSD/for_Josh/GCAMP_ROI_Classifier_data/label_data'\n",
    "# dir_folders = r'/users/Josh/Documents/Harvard/label_data'\n",
    "folders = [r'mouse 6_28 _ day 20200903/',\n",
    "             r'mouse6_28 _ day20200815/']\n",
    "fileNames_statFiles = [r'stat.npy']*len(folders)\n",
    "paths_statFiles = [pathlib.Path(dir_folders) / folders[ii] / fileNames_statFiles[ii] for ii in range(len(folders))]\n",
    "\n",
    "sf_all = util.import_multiple_stat_files(   paths_statFiles=paths_statFiles,\n",
    "                                            fileNames_statFiles=fileNames_statFiles,\n",
    "                                            out_height_width=[32,32],\n",
    "                                            max_footprint_width=241,\n",
    "                                            plot_pref=True)\n",
    "images_labeled_raw = np.concatenate(sf_all, axis=0)\n",
    "images_labeled_raw = (images_labeled_raw / np.max(images_labeled_raw, axis=(1,2), keepdims=True)) * 1\n",
    "print(f'concatenated images shape: {images_labeled_raw.shape}')\n",
    "\n",
    "fileNames_labelFiles = ['labels_posthoc_filledIn_allCells.npy',\n",
    "             'labels_posthoc_all.npy']\n",
    "paths_labelFiles = [pathlib.Path(dir_folders) / folders[ii] / fileNames_labelFiles[ii] for ii in range(len(folders))]\n",
    "\n",
    "labels_all = util.import_multiple_label_files(paths_labelFiles=paths_labelFiles,\n",
    "                                       plot_pref=True)\n",
    "labels_raw = np.concatenate(labels_all)\n",
    "\n",
    "assert np.alltrue([sf_all[ii].shape[0] == labels_all[ii].shape[0] for ii in range(len(sf_all))]) , 'num images in stat files does not correspond to num labels'"
   ]
  },
  {
   "cell_type": "code",
   "execution_count": 13,
   "metadata": {},
   "outputs": [
    {
     "data": {
      "image/png": "[encoded data removed]",
      "text/plain": [
       "<Figure size 432x288 with 100 Axes>"
      ]
     },
     "metadata": {
      "needs_background": "light"
     },
     "output_type": "display_data"
    }
   ],
   "source": [
    "%matplotlib inline\n",
    "\n",
    "plotting_helpers.plot_image_grid(images=images_labeled_raw,\n",
    "                                labels=None,\n",
    "                                grid_shape=(10,10), cmap=plt.get_cmap('gray'));"
   ]
  },
  {
   "cell_type": "code",
   "execution_count": 14,
   "metadata": {
    "id": "Ip1UMYy6DB0p"
   },
   "outputs": [],
   "source": [
    "labels = classification.squeeze_integers(labels_raw)\n",
    "images_labeled = images_labeled_raw[labels != 2]\n",
    "labels = labels[labels != 2]\n",
    "labels = classification.squeeze_integers(labels)"
   ]
  },
  {
   "cell_type": "markdown",
   "metadata": {
    "id": "UYh_wBqCDB0q"
   },
   "source": [
    "## Balance classes of inputs"
   ]
  },
  {
   "cell_type": "code",
   "execution_count": 15,
   "metadata": {
    "colab": {
     "base_uri": "https://localhost:8080/"
    },
    "id": "qn4Pu2cKDB0q",
    "outputId": "3afafb73-54a7-4e2d-8030-c0af6272cbe6"
   },
   "outputs": [
    {
     "name": "stdout",
     "output_type": "stream",
     "text": [
      "(9714, 32, 32)\n",
      "(9714,)\n",
      "532\n",
      "(2128, 32, 32)\n",
      "(2128,)\n",
      "532\n",
      "532\n",
      "532\n",
      "0\n",
      "0\n",
      "(2128, 32, 32)\n",
      "(2128,)\n"
     ]
    }
   ],
   "source": [
    "duplicates = 1\n",
    "balanced = True\n",
    "\n",
    "images_dup = np.tile(images_labeled , (duplicates , 1 , 1))\n",
    "labels_dup = np.tile(labels , (duplicates))\n",
    "\n",
    "print(images_dup.shape)\n",
    "print(labels_dup.shape)\n",
    "\n",
    "if balanced:\n",
    "    numToGetTo = np.sum(labels_dup==0)\n",
    "    print(numToGetTo)\n",
    "    for ii in np.array([1,2,3]):\n",
    "  #     idxToDelete = np.cumsum(labels_dup==ii) <= (np.sum(labels_dup==ii) - numToGetTo)\n",
    "        if ii==3:\n",
    "            numToGetTo = np.sum(labels_dup==0)/1\n",
    "        else:\n",
    "            numToGetTo = np.sum(labels_dup==0)\n",
    "\n",
    "        idxToDelete = (np.cumsum(labels_dup==ii) * (labels_dup==ii)) > numToGetTo\n",
    "        images_dup = images_dup[idxToDelete==0,:,:]\n",
    "        labels_dup = labels_dup[idxToDelete==0]\n",
    "\n",
    "\n",
    "\n",
    "\n",
    "\n",
    "print(images_dup.shape)\n",
    "print(labels_dup.shape)\n",
    "\n",
    "numToGetTo = np.sum(labels_dup==0)\n",
    "print(numToGetTo)\n",
    "\n",
    "print(np.sum(labels_dup==0))\n",
    "print(np.sum(labels_dup==1))\n",
    "print(np.sum(labels_dup==4))\n",
    "print(np.sum(labels_dup==5))\n",
    "print(images_dup.shape)\n",
    "print(labels_dup.shape)"
   ]
  },
  {
   "cell_type": "raw",
   "metadata": {
    "id": "NpMB08CYDB0q"
   },
   "source": [
    "# create validation set\n",
    "# X_train, X_val, y_train, y_val = train_test_split(images[:], labels[:], test_size = 0.15)\n",
    "X_train, X_val, y_train, y_val = train_test_split(images_dup[:], labels_dup[:], test_size = 0.15)\n",
    "(X_train.shape, y_train.shape), (X_val.shape, y_val.shape)"
   ]
  },
  {
   "cell_type": "code",
   "execution_count": 16,
   "metadata": {
    "colab": {
     "base_uri": "https://localhost:8080/"
    },
    "id": "fVA_Aa6rDB0q",
    "outputId": "15b9e55a-4881-40be-f06b-dec658fa55a7"
   },
   "outputs": [
    {
     "data": {
      "text/plain": [
       "(((1702, 32, 32), (1702,)), ((426, 32, 32), (426,)))"
      ]
     },
     "execution_count": 16,
     "metadata": {},
     "output_type": "execute_result"
    }
   ],
   "source": [
    "# create validation set\n",
    "\n",
    "###### REMOVE WITH ENOUGH RAM\n",
    "images = images_dup\n",
    "labels = labels_dup\n",
    "\n",
    "# X_labeled_train, X_labeled_val, y_labeled_train, y_labeled_val = train_test_split(images_dup, labels_dup, test_size = 0.3)\n",
    "X_labeled_train, X_labeled_val, y_labeled_train, y_labeled_val = train_test_split(images_dup, labels_dup, test_size = 0.2)\n",
    "# X_train, y_train = X_labeled_train, y_labeled_train\n",
    "\n",
    "# X_labeled_val, X_test, y_labeled_val, y_test = train_test_split(X_labeled_val, y_labeled_val, test_size = 0.5)\n",
    "X_val, X_test, y_val, y_test = train_test_split(X_labeled_val, y_labeled_val, test_size = 0.5)\n",
    "\n",
    "(X_labeled_train.shape, y_labeled_train.shape), (X_labeled_val.shape, y_labeled_val.shape)"
   ]
  },
  {
   "cell_type": "code",
   "execution_count": 17,
   "metadata": {
    "colab": {
     "base_uri": "https://localhost:8080/",
     "height": 265
    },
    "id": "mdJafJMMDB0r",
    "outputId": "2e8d00f6-32bf-4aeb-d02d-e10dcaaccfe3"
   },
   "outputs": [
    {
     "data": {
      "image/png": "[encoded data removed]",
      "text/plain": [
       "<Figure size 432x288 with 1 Axes>"
      ]
     },
     "metadata": {
      "needs_background": "light"
     },
     "output_type": "display_data"
    }
   ],
   "source": [
    "plt.figure()\n",
    "plt.hist(labels_dup, 20);"
   ]
  },
  {
   "cell_type": "code",
   "execution_count": 18,
   "metadata": {},
   "outputs": [
    {
     "data": {
      "text/plain": [
       "(2128, 32, 32)"
      ]
     },
     "execution_count": 18,
     "metadata": {},
     "output_type": "execute_result"
    }
   ],
   "source": [
    "images.shape"
   ]
  },
  {
   "cell_type": "code",
   "execution_count": null,
   "metadata": {
    "id": "XNxaCTbcDB0r"
   },
   "outputs": [],
   "source": []
  },
  {
   "cell_type": "raw",
   "metadata": {
    "id": "tz9Q8wYuDB0s"
   },
   "source": [
    "from sklearn.linear_model import LogisticRegression\n",
    "import sklearn.metrics\n",
    "\n",
    "def classification_step(X_train, y_train, X_test, model, model_device, temperature):\n",
    "    logreg = LogisticRegression()\n",
    "    features_train = model(torch.as_tensor(X_train, device=DEVICE, dtype=torch.float32)[:,None,...]).detach().cpu()\n",
    "    # features = model(torch.tensor(X_train[y_train != 3], device=DEVICE, dtype=torch.float32)[:,None,...]).detach().cpu()\n",
    "    logreg.fit(features_train, y_train)\n",
    "    # logreg.fit(features, y_train[y_train != 3])\n",
    "    \n",
    "    features_test = model(torch.as_tensor(X_test, device=DEVICE, dtype=torch.float32)[:,None,...]).detach().cpu()    \n",
    "    y_hat = logreg.predict_proba(features_test)\n",
    "    y_hat = torch.as_tensor(y_hat, dtype=torch.float32, device='cpu')\n",
    "    \n",
    "#     print(y_hat)\n",
    "    print(f'accuracy: {logreg.score(features, y):.5}')\n",
    "\n",
    "#     # cm = sklearn.metrics.confusion_matrix(idx_to_oneHot(y_train), y_hat, normalize='true')\n",
    "#     # cm = sklearn.metrics.confusion_matrix(idx_to_oneHot(y_train[y_train != 3]), y_hat, normalize='true')\n",
    "#     cm = rh_cm(y_hat, y)\n",
    "#     # cm = rh_cm(y_hat, y_train[y_train != 3])\n",
    "    \n",
    "    unc = util.loss_uncertainty(y_hat, temperature=temperature)\n",
    "\n",
    "#     plt.figure()\n",
    "#     plt.imshow(cm)\n",
    "#     return torch.tensor(unc, dtype=torch.float32, device=model_device)\n",
    "    return unc"
   ]
  },
  {
   "cell_type": "markdown",
   "metadata": {
    "id": "3aA1-hY4DB0v"
   },
   "source": [
    "# Train"
   ]
  },
  {
   "cell_type": "code",
   "execution_count": 19,
   "metadata": {
    "colab": {
     "base_uri": "https://localhost:8080/"
    },
    "id": "YtkRZSMqDB0v",
    "outputId": "230c559f-f22c-4182-b3ab-024ba2080a50"
   },
   "outputs": [
    {
     "name": "stdout",
     "output_type": "stream",
     "text": [
      "device: 'cuda'\n"
     ]
    }
   ],
   "source": [
    "DEVICE = torch_helpers.set_device(use_GPU=True)\n",
    "# DEVICE = torch_helpers.set_device(use_GPU=False)"
   ]
  },
  {
   "cell_type": "markdown",
   "metadata": {},
   "source": [
    "### Define New model = model + pre-head + latent layer OR classification layer"
   ]
  },
  {
   "cell_type": "code",
   "execution_count": 20,
   "metadata": {
    "id": "gt4xpqbHBjyL"
   },
   "outputs": [],
   "source": [
    "class ModelTackOn(torch.nn.Module):\n",
    "    def __init__(self, base_model, un_modified_model, pre_head_fc_sizes=[100], post_head_fc_sizes=[100], classifier_fc_sizes=None):\n",
    "            super(ModelTackOn, self).__init__()\n",
    "            self.base_model = base_model\n",
    "            final_base_layer = list(un_modified_model.children())[-1]\n",
    "            # final_base_layer = list(list(model.children())[-1].children())[-1]\n",
    "            # print(final_base_layer)\n",
    "\n",
    "            self.pre_head_fc_lst = []\n",
    "            self.post_head_fc_lst = []\n",
    "            self.classifier_fc_lst = []\n",
    "\n",
    "            self.init_prehead(final_base_layer, pre_head_fc_sizes)\n",
    "            self.init_posthead(pre_head_fc_sizes[-1], post_head_fc_sizes)\n",
    "            if classifier_fc_sizes is not None:\n",
    "                self.init_classifier(pre_head_fc_sizes[-1], classifier_fc_sizes)\n",
    "    \n",
    "    def init_prehead(self, prv_layer, pre_head_fc_sizes):\n",
    "        for i, pre_head_fc in enumerate(pre_head_fc_sizes):\n",
    "            if i == 0:\n",
    "                in_features = prv_layer.in_features if hasattr(prv_layer,'in_features') else 512\n",
    "            else:\n",
    "                in_features = pre_head_fc_sizes[i - 1]\n",
    "            fc_layer = torch.nn.Linear(in_features=in_features, out_features=pre_head_fc)\n",
    "            self.add_module(f'PreHead_{i}', fc_layer)\n",
    "            self.pre_head_fc_lst.append(fc_layer)\n",
    "\n",
    "#             if i < len(pre_head_fc_sizes) - 1:\n",
    "            non_linearity = torch.nn.ReLU()\n",
    "            self.add_module(f'PreHead_{i}_NonLinearity', non_linearity)\n",
    "            self.pre_head_fc_lst.append(non_linearity)\n",
    "\n",
    "    def init_posthead(self, prv_size, post_head_fc_sizes):\n",
    "        for i, post_head_fc in enumerate(post_head_fc_sizes):\n",
    "            if i == 0:\n",
    "                in_features = prv_size\n",
    "            else:\n",
    "                in_features = post_head_fc_sizes[i - 1]\n",
    "            fc_layer = torch.nn.Linear(in_features=in_features, out_features=post_head_fc)\n",
    "            self.add_module(f'PostHead_{i}', fc_layer)\n",
    "            self.post_head_fc_lst.append(fc_layer)\n",
    "\n",
    "            if i < len(post_head_fc_sizes) - 1:\n",
    "                non_linearity = torch.nn.ReLU()\n",
    "                self.add_module(f'PostHead_{i}_NonLinearity', non_linearity)\n",
    "                self.pre_head_fc_lst.append(non_linearity)\n",
    "    \n",
    "    def init_classifier(self, prv_size, classifier_fc_sizes):\n",
    "            for i, classifier_fc in enumerate(classifier_fc_sizes):\n",
    "                if i == 0:\n",
    "                    in_features = prv_size\n",
    "                else:\n",
    "                    in_features = classifier_fc_sizes[i - 1]\n",
    "            fc_layer = torch.nn.Linear(in_features=in_features, out_features=classifier_fc)\n",
    "            self.add_module(f'Classifier_{i}', fc_layer)\n",
    "            self.classifier_fc_lst.append(fc_layer)\n",
    "\n",
    "    def reinit_classifier(self):\n",
    "        for i_layer, layer in enumerate(self.classifier_fc_lst):\n",
    "            layer.reset_parameters()\n",
    "    \n",
    "#     def forward(self, X):\n",
    "#         interim = self.base_model(X)\n",
    "#         interim = self.get_head(interim)\n",
    "#         interim = self.get_latent(interim)\n",
    "#         return interim\n",
    "\n",
    "    def forward_classifier(self, X):\n",
    "        interim = self.base_model(X)\n",
    "        interim = self.get_head(interim)\n",
    "        interim = self.classify(interim)\n",
    "        return interim\n",
    "\n",
    "    def forward_latent(self, X):\n",
    "        interim = self.base_model(X)\n",
    "        interim = self.get_head(interim)\n",
    "        interim = self.get_latent(interim)\n",
    "        return interim\n",
    "\n",
    "\n",
    "    def get_head(self, base_out):\n",
    "        # print('base_out', base_out.shape)\n",
    "        head = base_out\n",
    "        for pre_head_layer in self.pre_head_fc_lst:\n",
    "          # print('pre_head_layer', pre_head_layer.in_features)\n",
    "          head = pre_head_layer(head)\n",
    "          # print('head', head.shape)\n",
    "        return head\n",
    "\n",
    "    def get_latent(self, head):\n",
    "        latent = head\n",
    "        for post_head_layer in self.post_head_fc_lst:\n",
    "            latent = post_head_layer(latent)\n",
    "        return latent\n",
    "\n",
    "    def classify(self, head):\n",
    "        logit = head\n",
    "        for classifier_layer in self.classifier_fc_lst:\n",
    "            logit = classifier_layer(logit)\n",
    "        return logit\n",
    "\n",
    "    def set_pre_head_grad(self, requires_grad=True):\n",
    "        for layer in self.pre_head_fc_lst:\n",
    "            for param in layer.parameters():\n",
    "                param.requires_grad = requires_grad\n",
    "                \n",
    "    def set_post_head_grad(self, requires_grad=True):\n",
    "        for layer in self.post_head_fc_lst:\n",
    "            for param in layer.parameters():\n",
    "                param.requires_grad = requires_grad\n",
    "\n",
    "    def set_classifier_grad(self, requires_grad=True):\n",
    "        for layer in self.classifier_fc_lst:\n",
    "            for param in layer.parameters():\n",
    "                param.requires_grad = requires_grad\n",
    "\n",
    "    def prep_contrast(self):\n",
    "        self.set_pre_head_grad(requires_grad=True)\n",
    "        self.set_post_head_grad(requires_grad=True)\n",
    "        self.set_classifier_grad(requires_grad=False)\n",
    "\n",
    "    def prep_classifier(self):\n",
    "        self.set_pre_head_grad(requires_grad=False)\n",
    "        self.set_post_head_grad(requires_grad=False)\n",
    "        self.set_classifier_grad(requires_grad=True)\n"
   ]
  },
  {
   "cell_type": "code",
   "execution_count": 21,
   "metadata": {
    "id": "MIix9BdUCkqf"
   },
   "outputs": [],
   "source": [
    "# import torchvision.models\n",
    "\n",
    "# # base_model = torchvision.models.resnet101(pretrained=True)\n",
    "# base_model = torchvision.models.resnet18(pretrained=True)\n",
    "\n",
    "# for param in base_model.parameters():\n",
    "#     param.requires_grad = False\n",
    "\n",
    "# retrain = list(base_model.children())[-1:]\n",
    "# for layer in retrain:\n",
    "#     params = layer.parameters()\n",
    "#     for param in params:\n",
    "#         param.requires_grad = True"
   ]
  },
  {
   "cell_type": "code",
   "execution_count": 22,
   "metadata": {
    "id": "oyjLftj_cEGW"
   },
   "outputs": [],
   "source": [
    "import torchvision.models\n",
    "\n",
    "# base_model_frozen = torchvision.models.resnet101(pretrained=True)\n",
    "base_model_frozen = torchvision.models.resnet18(pretrained=True)\n",
    "# base_model_frozen = torchvision.models.wide_resnet50_2(pretrained=True)\n",
    "# base_model_frozen = torchvision.models.resnet50(pretrained=True)\n",
    "for param in base_model_frozen.parameters():\n",
    "    param.requires_grad = False"
   ]
  },
  {
   "cell_type": "markdown",
   "metadata": {},
   "source": [
    "start with a pretrained resnet model, and chop off the final layer. This will be used as the base on which we add the pre-head layers (for expressivity), latent layers (for simCLR), or classification layers (for post-hoc logistic regression)"
   ]
  },
  {
   "cell_type": "code",
   "execution_count": 23,
   "metadata": {
    "id": "aWnb7WWri9qK"
   },
   "outputs": [],
   "source": [
    "model_chopped = torch.nn.Sequential(*(list(base_model_frozen.children())[:-1] + [torch.nn.Flatten()]))"
   ]
  },
  {
   "cell_type": "markdown",
   "metadata": {
    "id": "_E18ZEzpClNd"
   },
   "source": [
    "### Make combined model\n",
    "'model' has two forward methods. One for generating latents (for simCLR) and one for classifying labels"
   ]
  },
  {
   "cell_type": "code",
   "execution_count": 24,
   "metadata": {
    "colab": {
     "base_uri": "https://localhost:8080/"
    },
    "id": "n6Qx-1NGJNY3",
    "outputId": "f7cb3ded-3b48-439e-bf57-a526fb48bac7"
   },
   "outputs": [],
   "source": [
    "model = ModelTackOn(model_chopped, base_model_frozen, pre_head_fc_sizes=[1024, 512], post_head_fc_sizes=[64], classifier_fc_sizes=[len(np.unique(y_labeled_train))])\n",
    "# model = ModelTackOn(model_chopped.to(DEVICE), base_model_frozen, pre_head_fc_sizes=[len(np.unique(y_train))], post_head_fc_sizes=[])\n",
    "# model = ModelTackOn(model_chopped.to(DEVICE), base_model_frozen, pre_head_fc_sizes=[len(np.unique(y_train))], post_head_fc_sizes=[])\n",
    "\n",
    "# model = torch.nn.Sequential([model_chopped.to(DEVICE), torch.nn.Linear], pre_head_fc_sizes=[len(np.unique(y_train))], post_head_fc_sizes=[])\n",
    "\n",
    "\n",
    "# model = ModelTackOn(base_model_frozen, pre_head_fc_sizes=[len(np.unique(y_train))], post_head_fc_sizes=[])\n",
    "# model = ModelTackOn(base_model, pre_head_fc_sizes=[len(np.unique(y_train))], post_head_fc_sizes=[])\n",
    "model.train();"
   ]
  },
  {
   "cell_type": "code",
   "execution_count": 25,
   "metadata": {},
   "outputs": [
    {
     "name": "stdout",
     "output_type": "stream",
     "text": [
      "base_model.6.0.conv1.weight\n",
      "base_model.6.0.bn1.weight\n",
      "base_model.6.0.bn1.bias\n",
      "base_model.6.0.conv2.weight\n",
      "base_model.6.0.bn2.weight\n",
      "base_model.6.0.bn2.bias\n",
      "base_model.6.0.downsample.0.weight\n",
      "base_model.6.0.downsample.1.weight\n",
      "base_model.6.0.downsample.1.bias\n",
      "base_model.6.1.conv1.weight\n",
      "base_model.6.1.bn1.weight\n",
      "base_model.6.1.bn1.bias\n",
      "base_model.6.1.conv2.weight\n",
      "base_model.6.1.bn2.weight\n",
      "base_model.6.1.bn2.bias\n",
      "base_model.7.0.conv1.weight\n",
      "base_model.7.0.bn1.weight\n",
      "base_model.7.0.bn1.bias\n",
      "base_model.7.0.conv2.weight\n",
      "base_model.7.0.bn2.weight\n",
      "base_model.7.0.bn2.bias\n",
      "base_model.7.0.downsample.0.weight\n",
      "base_model.7.0.downsample.1.weight\n",
      "base_model.7.0.downsample.1.bias\n",
      "base_model.7.1.conv1.weight\n",
      "base_model.7.1.bn1.weight\n",
      "base_model.7.1.bn1.bias\n",
      "base_model.7.1.conv2.weight\n",
      "base_model.7.1.bn2.weight\n",
      "base_model.7.1.bn2.bias\n",
      "PreHead_0.weight\n",
      "PreHead_0.bias\n",
      "PreHead_1.weight\n",
      "PreHead_1.bias\n",
      "PostHead_0.weight\n",
      "PostHead_0.bias\n",
      "Classifier_0.weight\n",
      "Classifier_0.bias\n"
     ]
    }
   ],
   "source": [
    "# unfreeze particular blocks in ResNet model\n",
    "\n",
    "for name, param in list(model.named_parameters()):\n",
    "    if name[:10] == 'base_model':\n",
    "        if int(name[11]) < 6:\n",
    "            param.requires_grad = False\n",
    "        elif int(name[11]) >= 6:\n",
    "            param.requires_grad = True\n",
    "\n",
    "for name, param in list(model.named_parameters()):\n",
    "    if param.requires_grad:\n",
    "        print(name)"
   ]
  },
  {
   "cell_type": "markdown",
   "metadata": {
    "id": "T2ARByXvDB0s"
   },
   "source": [
    "## Define augmentation pipeline"
   ]
  },
  {
   "cell_type": "code",
   "execution_count": 26,
   "metadata": {},
   "outputs": [],
   "source": [
    "import torchvision.transforms    \n",
    "\n",
    "transforms = torch.nn.Sequential(\n",
    "    torchvision.transforms.RandomHorizontalFlip(p=0.5),\n",
    "        \n",
    "    torchvision.transforms.RandomAffine(\n",
    "                                        degrees=(-180,180),\n",
    "                                        translate=(0.15, 0.15), #0, .3, .45 (DEFAULT)\n",
    "                                        scale=(0.6, 1.2), # no scale (1,1), (0.4, 1.5)\n",
    "                                        shear=(-15, 15, -15, 15),\n",
    "                                        interpolation=torchvision.transforms.InterpolationMode.BILINEAR, \n",
    "                                        fill=0, \n",
    "                                        fillcolor=None, \n",
    "                                        resample=None),\n",
    "    augmentation.AddPoissonNoise(   scaler_bounds=(10**(4.5), 10**(6.)),\n",
    "                                    prob=1,\n",
    "                                    base=1000,\n",
    "                                    scaling='log'),\n",
    "    augmentation.AddGaussianNoise(  mean=0, \n",
    "                                    std=0.00015,\n",
    "                                    prob=1),\n",
    "    \n",
    "    torchvision.transforms.Resize(size=(224,224), \n",
    "                                  interpolation=torchvision.transforms.InterpolationMode.BILINEAR), # To do or not to do (DEFAULT)\n",
    "    \n",
    "    augmentation.TileChannels(dim=0, n_channels=3),\n",
    "    \n",
    "    \n",
    "    augmentation.ScaleDynamicRange(scaler_bounds=(0,1)), # just clamping, both this and clamping = normalizing (DEFAULT)\n",
    "    torchvision.transforms.Normalize(mean=[0.485, 0.456, 0.406],\n",
    "                                     std=[0.229, 0.224, 0.225],\n",
    "                                     inplace=False),\n",
    "    \n",
    ")\n",
    "scripted_transforms = torch.jit.script(transforms)"
   ]
  },
  {
   "cell_type": "raw",
   "metadata": {
    "id": "tq77tWZeDB0s"
   },
   "source": [
    "import torchvision.transforms    \n",
    "\n",
    "transforms = torch.nn.Sequential(\n",
    "    \n",
    "#     torchvision.transforms.RandomAdjustSharpness(torch.rand(1)*5, p=0.5),\n",
    "#         torchvision.transforms.RandomPerspective(distortion_scale=0.7, \n",
    "#                                              p=0.5, \n",
    "#                                              interpolation=torchvision.transforms.InterpolationMode.BILINEAR, \n",
    "#                                              fill=0),\n",
    "#     torchvision.transforms.GaussianBlur(kernel_size=5,\n",
    "#                                         sigma=(0.0001, 0.1)),\n",
    "        \n",
    "\n",
    "    torchvision.transforms.RandomHorizontalFlip(p=0.5),\n",
    "        \n",
    "    torchvision.transforms.RandomAffine(\n",
    "                                        degrees=(-180,180),\n",
    "                                        translate=(0.2, 0.2), #0.15/.15\n",
    "                                        scale=(0.4, 1.3),  #.6, 1.2\n",
    "                                        shear=(-25, 25, -25, 25), # -15/+15 across board\n",
    "                                        interpolation=torchvision.transforms.InterpolationMode.BILINEAR, \n",
    "                                        fill=0, \n",
    "                                        fillcolor=None, \n",
    "                                        resample=None),\n",
    "    augmentation.AddPoissonNoise(   scaler_bounds=(10**(4.0), 10**(6.)), # 4.5, 6\n",
    "                                    prob=1,\n",
    "                                    base=1000,\n",
    "                                    scaling='log'),\n",
    "    augmentation.AddGaussianNoise(  mean=0, \n",
    "                                    std=0.0002, # 0.00015\n",
    "                                    prob=1),\n",
    "    \n",
    "    augmentation.ScaleDynamicRange(scaler_bounds=(0,1)), # Do vs. don't do -- bounds between 0/1. Either do this OR do this followed by torchvision.transforms.Normalize\n",
    "    \n",
    "    torchvision.transforms.Resize(size=(224,224),\n",
    "                                  interpolation=torchvision.transforms.InterpolationMode.BILINEAR), # Do vs. don't do\n",
    "    \n",
    "    # augmentation.AddPoissonNoise(   scaler_bounds=(10**(1.5), 10**(4.0)),\n",
    "    #                                 prob=1,\n",
    "    #                                 base=1000,\n",
    "    #                                 scaling='log'),\n",
    "    # augmentation.AddGaussianNoise(  mean=0, \n",
    "    #                                 std=0.1,\n",
    "    #                                 prob=1),\n",
    "    \n",
    "    augmentation.TileChannels(dim=0, n_channels=3),\n",
    "    \n",
    "#     augmentation.Normalize(  means=[0.485, 0.456, 0.406],\n",
    "#                              stds=[0.229, 0.224, 0.225]),\n",
    "#     torchvision.transforms.Normalize(mean=[0.485, 0.456, 0.406],\n",
    "#                                      std=[0.229, 0.224, 0.225],\n",
    "#                                      inplace=False),\n",
    "#     torchvision.transforms.RandomHorizontalFlip(p=0.5),\n",
    "\n",
    "#     torchvision.transforms.RandomAffine(\n",
    "#                                         degrees=(-180,180),\n",
    "#                                         translate=(0.0, 0.0),\n",
    "#                                         interpolation=torchvision.transforms.InterpolationMode.BILINEAR, \n",
    "#                                         fill=0, \n",
    "#                                         # fillcolor=None, \n",
    "#                                         resample=None),\n",
    ")\n",
    "scripted_transforms = torch.jit.script(transforms)\n",
    "# scripted_transforms = transforms"
   ]
  },
  {
   "cell_type": "code",
   "execution_count": 27,
   "metadata": {
    "id": "PmM4nnV1nCVd"
   },
   "outputs": [],
   "source": [
    "dataset_train = util.dataset_simCLR(\n",
    "                                    torch.as_tensor(masks_cat, device='cpu', dtype=torch.float32), \n",
    "                                    torch.as_tensor(torch.zeros(masks_cat.shape[0]), device='cpu', dtype=torch.float32),\n",
    "\n",
    "                                    n_transforms=2,\n",
    "                                    class_weights=np.array([1]),\n",
    "                                    # class_weights=np.array([1]*4)[np.random.randint(0,4, X_train.shape[0])],\n",
    "                                    transform=scripted_transforms,\n",
    "                                    # DEVICE='cpu',\n",
    "                                    DEVICE='cpu',\n",
    "                                    dtype_X=torch.float32,\n",
    "                                    dtype_y=torch.int64,\n",
    "                                    \n",
    "                                    temp_uncertainty=16\n",
    "                                    )\n",
    "dataloader_train = torch.utils.data.DataLoader( dataset_train,\n",
    "#                                                 batch_size=int(pct_batch_size*X_train.shape[0]),\n",
    "                                                batch_size=1024,\n",
    "                                                shuffle=True,\n",
    "                                                drop_last=True,\n",
    "                                                pin_memory=True,\n",
    "                                                num_workers=16,\n",
    "                                                persistent_workers=True,\n",
    "                                                # prefetch_factor=0\n",
    "                                                )"
   ]
  },
  {
   "cell_type": "code",
   "execution_count": 28,
   "metadata": {},
   "outputs": [
    {
     "data": {
      "image/png": "[encoded data removed]",
      "text/plain": [
       "<Figure size 432x288 with 2 Axes>"
      ]
     },
     "metadata": {
      "needs_background": "light"
     },
     "output_type": "display_data"
    },
    {
     "data": {
      "image/png": "[encoded data removed]",
      "text/plain": [
       "<Figure size 432x288 with 2 Axes>"
      ]
     },
     "metadata": {
      "needs_background": "light"
     },
     "output_type": "display_data"
    },
    {
     "data": {
      "image/png": "[encoded data removed]",
      "text/plain": [
       "<Figure size 432x288 with 2 Axes>"
      ]
     },
     "metadata": {
      "needs_background": "light"
     },
     "output_type": "display_data"
    },
    {
     "data": {
      "image/png": "[encoded data removed]",
      "text/plain": [
       "<Figure size 432x288 with 2 Axes>"
      ]
     },
     "metadata": {
      "needs_background": "light"
     },
     "output_type": "display_data"
    },
    {
     "data": {
      "image/png": "[encoded data removed]",
      "text/plain": [
       "<Figure size 432x288 with 2 Axes>"
      ]
     },
     "metadata": {
      "needs_background": "light"
     },
     "output_type": "display_data"
    },
    {
     "data": {
      "image/png": "[encoded data removed]",
      "text/plain": [
       "<Figure size 432x288 with 2 Axes>"
      ]
     },
     "metadata": {
      "needs_background": "light"
     },
     "output_type": "display_data"
    },
    {
     "data": {
      "image/png": "[encoded data removed]",
      "text/plain": [
       "<Figure size 432x288 with 2 Axes>"
      ]
     },
     "metadata": {
      "needs_background": "light"
     },
     "output_type": "display_data"
    },
    {
     "data": {
      "image/png": "[encoded data removed]",
      "text/plain": [
       "<Figure size 432x288 with 2 Axes>"
      ]
     },
     "metadata": {
      "needs_background": "light"
     },
     "output_type": "display_data"
    },
    {
     "data": {
      "image/png": "[encoded data removed]",
      "text/plain": [
       "<Figure size 432x288 with 2 Axes>"
      ]
     },
     "metadata": {
      "needs_background": "light"
     },
     "output_type": "display_data"
    },
    {
     "data": {
      "image/png": "[encoded data removed]",
      "text/plain": [
       "<Figure size 432x288 with 2 Axes>"
      ]
     },
     "metadata": {
      "needs_background": "light"
     },
     "output_type": "display_data"
    }
   ],
   "source": [
    "idx_rand = np.random.randint(0,masks_cat.shape[0], 10)\n",
    "for ii in idx_rand:\n",
    "    fig, axs = plt.subplots(2)\n",
    "    axs[0].imshow(dataset_train[ii][0][0][0])\n",
    "    axs[1].imshow(dataset_train[ii][0][1][0])"
   ]
  },
  {
   "cell_type": "code",
   "execution_count": 29,
   "metadata": {
    "colab": {
     "base_uri": "https://localhost:8080/"
    },
    "id": "nstWf2PhVwfV",
    "outputId": "968f73ab-75d7-4735-ea1e-49e7fb3821cc"
   },
   "outputs": [
    {
     "data": {
      "text/plain": [
       "0"
      ]
     },
     "execution_count": 29,
     "metadata": {},
     "output_type": "execute_result"
    }
   ],
   "source": [
    "# torch_helpers.delete_all_cuda_tensors(globals())\n",
    "\n",
    "import gc\n",
    "\n",
    "torch.cuda.empty_cache()\n",
    "gc.collect()\n",
    "torch.cuda.empty_cache()\n",
    "gc.collect()\n",
    "torch.cuda.empty_cache()\n",
    "gc.collect()\n",
    "torch.cuda.empty_cache()\n",
    "gc.collect()"
   ]
  },
  {
   "cell_type": "markdown",
   "metadata": {
    "id": "OQ27o1ny9Xfi"
   },
   "source": [
    "## Training"
   ]
  },
  {
   "cell_type": "code",
   "execution_count": 30,
   "metadata": {},
   "outputs": [],
   "source": [
    "model.to(DEVICE)\n",
    "model.prep_contrast()"
   ]
  },
  {
   "cell_type": "code",
   "execution_count": 31,
   "metadata": {
    "id": "yDqu-bi8mnJB"
   },
   "outputs": [],
   "source": [
    "from torch.nn import CrossEntropyLoss\n",
    "from torch.optim import Adam\n",
    "\n",
    "import numpy as np\n",
    "\n",
    "from sklearn.linear_model import LogisticRegression\n",
    "from sklearn.tree import DecisionTreeClassifier\n",
    "from sklearn.ensemble import RandomForestClassifier\n",
    "from sklearn.svm import SVC\n",
    "\n",
    "\n",
    "# model = models.LeNet1(dropout_prob=0.3, momentum_val=0, n_output_features=64)\n",
    "\n",
    "\n",
    "criterion = [CrossEntropyLoss()]\n",
    "# criterion = CrossEntropyLoss(reduction='none')\n",
    "\n",
    "# optimizer = Adam(model.parameters(), lr=1e-2, weight_decay=0.0)\n",
    "# optimizer = Adam(model.parameters(), lr=2e-2)\n",
    "optimizer = Adam(model.parameters(), lr=10**(-3.5))\n",
    "scheduler = torch.optim.lr_scheduler.ExponentialLR(optimizer,\n",
    "                                                   gamma=1-0.0000,\n",
    "#                                                    gamma=1,\n",
    "                                                  )\n",
    "\n",
    "criterion = [_.to(DEVICE) for _ in criterion]\n",
    "losses_train, losses_val, val_accs, acc = [], [np.nan], [], []"
   ]
  },
  {
   "cell_type": "code",
   "execution_count": 32,
   "metadata": {
    "colab": {
     "base_uri": "https://localhost:8080/"
    },
    "id": "rvDiVxDICXEn",
    "outputId": "2c29e3cf-4515-4aae-f0b1-22e30d51fa5f"
   },
   "outputs": [
    {
     "name": "stderr",
     "output_type": "stream",
     "text": [
      "  0%|          | 0/300000 [00:00<?, ?it/s]"
     ]
    },
    {
     "name": "stdout",
     "output_type": "stream",
     "text": [
      "epoch: 0\n",
      "Iter: 0/695, loss_train: 7.5894, loss_val: nan, pos_over_neg: 1.045263409614563 lr: 0.00031623\n",
      "Iter: 1/695, loss_train: 7.3049, loss_val: nan, pos_over_neg: 2.98703932762146 lr: 0.00031623\n",
      "Iter: 2/695, loss_train: 7.1599, loss_val: nan, pos_over_neg: 4.301241874694824 lr: 0.00031623\n",
      "Iter: 3/695, loss_train: 7.019, loss_val: nan, pos_over_neg: 15.04155445098877 lr: 0.00031623\n",
      "Iter: 4/695, loss_train: 6.9752, loss_val: nan, pos_over_neg: 24.015804290771484 lr: 0.00031623\n",
      "Iter: 5/695, loss_train: 6.9364, loss_val: nan, pos_over_neg: 30.760669708251953 lr: 0.00031623\n",
      "Iter: 6/695, loss_train: 6.9052, loss_val: nan, pos_over_neg: 64.4076919555664 lr: 0.00031623\n",
      "Iter: 7/695, loss_train: 6.894, loss_val: nan, pos_over_neg: 94.50532531738281 lr: 0.00031623\n",
      "Iter: 8/695, loss_train: 6.8797, loss_val: nan, pos_over_neg: 76.33256530761719 lr: 0.00031623\n",
      "Iter: 9/695, loss_train: 6.8758, loss_val: nan, pos_over_neg: 85.2674789428711 lr: 0.00031623\n",
      "Iter: 10/695, loss_train: 6.8662, loss_val: nan, pos_over_neg: 106.58351135253906 lr: 0.00031623\n",
      "Iter: 11/695, loss_train: 6.8527, loss_val: nan, pos_over_neg: 117.86420440673828 lr: 0.00031623\n",
      "Iter: 12/695, loss_train: 6.8509, loss_val: nan, pos_over_neg: 223.8600616455078 lr: 0.00031623\n",
      "Iter: 13/695, loss_train: 6.8567, loss_val: nan, pos_over_neg: 288.2295227050781 lr: 0.00031623\n",
      "Iter: 14/695, loss_train: 6.8437, loss_val: nan, pos_over_neg: 257.97747802734375 lr: 0.00031623\n",
      "Iter: 15/695, loss_train: 6.8345, loss_val: nan, pos_over_neg: 304.62841796875 lr: 0.00031623\n",
      "Iter: 16/695, loss_train: 6.8321, loss_val: nan, pos_over_neg: 511.9888916015625 lr: 0.00031623\n",
      "Iter: 17/695, loss_train: 6.8289, loss_val: nan, pos_over_neg: 433.00555419921875 lr: 0.00031623\n",
      "Iter: 18/695, loss_train: 6.8201, loss_val: nan, pos_over_neg: 389.5363464355469 lr: 0.00031623\n",
      "Iter: 19/695, loss_train: 6.8207, loss_val: nan, pos_over_neg: 387.10540771484375 lr: 0.00031623\n",
      "Iter: 20/695, loss_train: 6.8087, loss_val: nan, pos_over_neg: 526.466552734375 lr: 0.00031623\n",
      "Iter: 21/695, loss_train: 6.808, loss_val: nan, pos_over_neg: 774.370361328125 lr: 0.00031623\n",
      "Iter: 22/695, loss_train: 6.7989, loss_val: nan, pos_over_neg: 1153.4925537109375 lr: 0.00031623\n",
      "Iter: 23/695, loss_train: 6.7909, loss_val: nan, pos_over_neg: 1809.3856201171875 lr: 0.00031623\n",
      "Iter: 24/695, loss_train: 6.7941, loss_val: nan, pos_over_neg: 2108.731201171875 lr: 0.00031623\n",
      "Iter: 25/695, loss_train: 6.7898, loss_val: nan, pos_over_neg: 1194.1165771484375 lr: 0.00031623\n",
      "Iter: 26/695, loss_train: 6.7939, loss_val: nan, pos_over_neg: 710.276611328125 lr: 0.00031623\n",
      "Iter: 27/695, loss_train: 6.7832, loss_val: nan, pos_over_neg: 1526.6583251953125 lr: 0.00031623\n",
      "Iter: 28/695, loss_train: 6.7798, loss_val: nan, pos_over_neg: -10926.48046875 lr: 0.00031623\n",
      "Iter: 29/695, loss_train: 6.7803, loss_val: nan, pos_over_neg: 11179.50390625 lr: 0.00031623\n",
      "Iter: 30/695, loss_train: 6.7771, loss_val: nan, pos_over_neg: 1357.082275390625 lr: 0.00031623\n",
      "Iter: 31/695, loss_train: 6.778, loss_val: nan, pos_over_neg: 32002.669921875 lr: 0.00031623\n",
      "Iter: 32/695, loss_train: 6.7783, loss_val: nan, pos_over_neg: 5481.40966796875 lr: 0.00031623\n",
      "Iter: 33/695, loss_train: 6.7735, loss_val: nan, pos_over_neg: 8672.80078125 lr: 0.00031623\n",
      "Iter: 34/695, loss_train: 6.7717, loss_val: nan, pos_over_neg: 848.3649291992188 lr: 0.00031623\n",
      "Iter: 35/695, loss_train: 6.7651, loss_val: nan, pos_over_neg: 3411.712158203125 lr: 0.00031623\n",
      "Iter: 36/695, loss_train: 6.7723, loss_val: nan, pos_over_neg: 1174.8916015625 lr: 0.00031623\n",
      "Iter: 37/695, loss_train: 6.7659, loss_val: nan, pos_over_neg: 1005.0613403320312 lr: 0.00031623\n",
      "Iter: 38/695, loss_train: 6.7618, loss_val: nan, pos_over_neg: 778.992919921875 lr: 0.00031623\n",
      "Iter: 39/695, loss_train: 6.7612, loss_val: nan, pos_over_neg: 3694.01123046875 lr: 0.00031623\n",
      "Iter: 40/695, loss_train: 6.7637, loss_val: nan, pos_over_neg: 1250.263671875 lr: 0.00031623\n",
      "Iter: 41/695, loss_train: 6.7624, loss_val: nan, pos_over_neg: 15992.0185546875 lr: 0.00031623\n",
      "Iter: 42/695, loss_train: 6.7597, loss_val: nan, pos_over_neg: 974.0272827148438 lr: 0.00031623\n",
      "Iter: 43/695, loss_train: 6.7596, loss_val: nan, pos_over_neg: 6162.0810546875 lr: 0.00031623\n",
      "Iter: 44/695, loss_train: 6.756, loss_val: nan, pos_over_neg: 1978.1903076171875 lr: 0.00031623\n",
      "Iter: 45/695, loss_train: 6.7592, loss_val: nan, pos_over_neg: 5223.0341796875 lr: 0.00031623\n",
      "Iter: 46/695, loss_train: 6.7579, loss_val: nan, pos_over_neg: 1017.2733154296875 lr: 0.00031623\n",
      "Iter: 47/695, loss_train: 6.7566, loss_val: nan, pos_over_neg: 645.2614135742188 lr: 0.00031623\n",
      "Iter: 48/695, loss_train: 6.7531, loss_val: nan, pos_over_neg: 482.1744689941406 lr: 0.00031623\n",
      "Iter: 49/695, loss_train: 6.7524, loss_val: nan, pos_over_neg: 855.7355346679688 lr: 0.00031623\n",
      "Iter: 50/695, loss_train: 6.7537, loss_val: nan, pos_over_neg: 1487.25146484375 lr: 0.00031623\n",
      "Iter: 51/695, loss_train: 6.756, loss_val: nan, pos_over_neg: 144.9839630126953 lr: 0.00031623\n",
      "Iter: 52/695, loss_train: 6.7491, loss_val: nan, pos_over_neg: 425.40948486328125 lr: 0.00031623\n",
      "Iter: 53/695, loss_train: 6.7521, loss_val: nan, pos_over_neg: 671.5340576171875 lr: 0.00031623\n",
      "Iter: 54/695, loss_train: 6.749, loss_val: nan, pos_over_neg: 439.6053771972656 lr: 0.00031623\n",
      "Iter: 55/695, loss_train: 6.7501, loss_val: nan, pos_over_neg: 1651.3480224609375 lr: 0.00031623\n",
      "Iter: 56/695, loss_train: 6.7461, loss_val: nan, pos_over_neg: 307.34820556640625 lr: 0.00031623\n",
      "Iter: 57/695, loss_train: 6.7456, loss_val: nan, pos_over_neg: 429.0853271484375 lr: 0.00031623\n",
      "Iter: 58/695, loss_train: 6.7486, loss_val: nan, pos_over_neg: 1179.094482421875 lr: 0.00031623\n",
      "Iter: 59/695, loss_train: 6.747, loss_val: nan, pos_over_neg: 509.1215515136719 lr: 0.00031623\n",
      "Iter: 60/695, loss_train: 6.7435, loss_val: nan, pos_over_neg: 1025.8853759765625 lr: 0.00031623\n",
      "Iter: 61/695, loss_train: 6.746, loss_val: nan, pos_over_neg: 716.0416259765625 lr: 0.00031623\n",
      "Iter: 62/695, loss_train: 6.7417, loss_val: nan, pos_over_neg: 379.3744812011719 lr: 0.00031623\n",
      "Iter: 63/695, loss_train: 6.7393, loss_val: nan, pos_over_neg: 5516.595703125 lr: 0.00031623\n",
      "Iter: 64/695, loss_train: 6.7376, loss_val: nan, pos_over_neg: 1153.5523681640625 lr: 0.00031623\n",
      "Iter: 65/695, loss_train: 6.7437, loss_val: nan, pos_over_neg: 566.2849731445312 lr: 0.00031623\n",
      "Iter: 66/695, loss_train: 6.74, loss_val: nan, pos_over_neg: 2568.8896484375 lr: 0.00031623\n",
      "Iter: 67/695, loss_train: 6.7398, loss_val: nan, pos_over_neg: 1202.58642578125 lr: 0.00031623\n",
      "Iter: 68/695, loss_train: 6.7385, loss_val: nan, pos_over_neg: 665.2366943359375 lr: 0.00031623\n",
      "Iter: 69/695, loss_train: 6.7407, loss_val: nan, pos_over_neg: 533.66259765625 lr: 0.00031623\n",
      "Iter: 70/695, loss_train: 6.7369, loss_val: nan, pos_over_neg: 514.7120361328125 lr: 0.00031623\n",
      "Iter: 71/695, loss_train: 6.7398, loss_val: nan, pos_over_neg: 2589.2578125 lr: 0.00031623\n",
      "Iter: 72/695, loss_train: 6.7388, loss_val: nan, pos_over_neg: 2902.24267578125 lr: 0.00031623\n",
      "Iter: 73/695, loss_train: 6.737, loss_val: nan, pos_over_neg: 5649.42431640625 lr: 0.00031623\n",
      "Iter: 74/695, loss_train: 6.7377, loss_val: nan, pos_over_neg: 1592.7080078125 lr: 0.00031623\n",
      "Iter: 75/695, loss_train: 6.7379, loss_val: nan, pos_over_neg: 719.8702392578125 lr: 0.00031623\n",
      "Iter: 76/695, loss_train: 6.7379, loss_val: nan, pos_over_neg: 3248.1611328125 lr: 0.00031623\n",
      "Iter: 77/695, loss_train: 6.7362, loss_val: nan, pos_over_neg: 1113.4462890625 lr: 0.00031623\n",
      "Iter: 78/695, loss_train: 6.737, loss_val: nan, pos_over_neg: 1486.3475341796875 lr: 0.00031623\n",
      "Iter: 79/695, loss_train: 6.7408, loss_val: nan, pos_over_neg: 496.8941345214844 lr: 0.00031623\n",
      "Iter: 80/695, loss_train: 6.7386, loss_val: nan, pos_over_neg: 1818.1824951171875 lr: 0.00031623\n",
      "Iter: 81/695, loss_train: 6.7372, loss_val: nan, pos_over_neg: 464.4697265625 lr: 0.00031623\n",
      "Iter: 82/695, loss_train: 6.7356, loss_val: nan, pos_over_neg: -4802.7470703125 lr: 0.00031623\n",
      "Iter: 83/695, loss_train: 6.7368, loss_val: nan, pos_over_neg: 3472.46435546875 lr: 0.00031623\n",
      "Iter: 84/695, loss_train: 6.7338, loss_val: nan, pos_over_neg: -10207.599609375 lr: 0.00031623\n",
      "Iter: 85/695, loss_train: 6.7335, loss_val: nan, pos_over_neg: 9857.1279296875 lr: 0.00031623\n",
      "Iter: 86/695, loss_train: 6.7376, loss_val: nan, pos_over_neg: 688.6094360351562 lr: 0.00031623\n",
      "Iter: 87/695, loss_train: 6.7316, loss_val: nan, pos_over_neg: -38318.453125 lr: 0.00031623\n",
      "Iter: 88/695, loss_train: 6.7323, loss_val: nan, pos_over_neg: 1645.0408935546875 lr: 0.00031623\n",
      "Iter: 89/695, loss_train: 6.7345, loss_val: nan, pos_over_neg: 891.0884399414062 lr: 0.00031623\n",
      "Iter: 90/695, loss_train: 6.7326, loss_val: nan, pos_over_neg: 1040.8438720703125 lr: 0.00031623\n",
      "Iter: 91/695, loss_train: 6.7333, loss_val: nan, pos_over_neg: 1514.5008544921875 lr: 0.00031623\n",
      "Iter: 92/695, loss_train: 6.7312, loss_val: nan, pos_over_neg: 1931.9005126953125 lr: 0.00031623\n",
      "Iter: 93/695, loss_train: 6.7288, loss_val: nan, pos_over_neg: 839.1768798828125 lr: 0.00031623\n",
      "Iter: 94/695, loss_train: 6.7299, loss_val: nan, pos_over_neg: 1029.49658203125 lr: 0.00031623\n",
      "Iter: 95/695, loss_train: 6.728, loss_val: nan, pos_over_neg: 1250.512451171875 lr: 0.00031623\n",
      "Iter: 96/695, loss_train: 6.7299, loss_val: nan, pos_over_neg: 2325.81982421875 lr: 0.00031623\n",
      "Iter: 97/695, loss_train: 6.7303, loss_val: nan, pos_over_neg: 1939.3092041015625 lr: 0.00031623\n",
      "Iter: 98/695, loss_train: 6.7308, loss_val: nan, pos_over_neg: 6260.4443359375 lr: 0.00031623\n",
      "Iter: 99/695, loss_train: 6.7293, loss_val: nan, pos_over_neg: 1392.5086669921875 lr: 0.00031623\n",
      "Iter: 100/695, loss_train: 6.7319, loss_val: nan, pos_over_neg: 1129.46240234375 lr: 0.00031623\n",
      "Iter: 101/695, loss_train: 6.7311, loss_val: nan, pos_over_neg: 1443.0404052734375 lr: 0.00031623\n",
      "Iter: 102/695, loss_train: 6.7307, loss_val: nan, pos_over_neg: 1004.2984008789062 lr: 0.00031623\n",
      "Iter: 103/695, loss_train: 6.7342, loss_val: nan, pos_over_neg: 3778.911376953125 lr: 0.00031623\n",
      "Iter: 104/695, loss_train: 6.73, loss_val: nan, pos_over_neg: 1390.8516845703125 lr: 0.00031623\n",
      "Iter: 105/695, loss_train: 6.7347, loss_val: nan, pos_over_neg: 635.6535034179688 lr: 0.00031623\n",
      "Iter: 106/695, loss_train: 6.7285, loss_val: nan, pos_over_neg: 2205.064208984375 lr: 0.00031623\n",
      "Iter: 107/695, loss_train: 6.7303, loss_val: nan, pos_over_neg: 1935.7044677734375 lr: 0.00031623\n",
      "Iter: 108/695, loss_train: 6.7272, loss_val: nan, pos_over_neg: 738.5404052734375 lr: 0.00031623\n",
      "Iter: 109/695, loss_train: 6.7257, loss_val: nan, pos_over_neg: 1192.519287109375 lr: 0.00031623\n",
      "Iter: 110/695, loss_train: 6.7273, loss_val: nan, pos_over_neg: 803.3323364257812 lr: 0.00031623\n",
      "Iter: 111/695, loss_train: 6.7276, loss_val: nan, pos_over_neg: 688.8944702148438 lr: 0.00031623\n",
      "Iter: 112/695, loss_train: 6.729, loss_val: nan, pos_over_neg: 951.617431640625 lr: 0.00031623\n",
      "Iter: 113/695, loss_train: 6.7281, loss_val: nan, pos_over_neg: 963.49560546875 lr: 0.00031623\n",
      "Iter: 114/695, loss_train: 6.7277, loss_val: nan, pos_over_neg: 897.1030883789062 lr: 0.00031623\n",
      "Iter: 115/695, loss_train: 6.7213, loss_val: nan, pos_over_neg: 894.2196044921875 lr: 0.00031623\n",
      "Iter: 116/695, loss_train: 6.7345, loss_val: nan, pos_over_neg: 270.5315856933594 lr: 0.00031623\n",
      "Iter: 117/695, loss_train: 6.729, loss_val: nan, pos_over_neg: 857.2662353515625 lr: 0.00031623\n",
      "Iter: 118/695, loss_train: 6.7282, loss_val: nan, pos_over_neg: 450.4916687011719 lr: 0.00031623\n",
      "Iter: 119/695, loss_train: 6.7298, loss_val: nan, pos_over_neg: 518.7035522460938 lr: 0.00031623\n",
      "Iter: 120/695, loss_train: 6.7263, loss_val: nan, pos_over_neg: 483.73504638671875 lr: 0.00031623\n",
      "Iter: 121/695, loss_train: 6.7272, loss_val: nan, pos_over_neg: 290.96551513671875 lr: 0.00031623\n",
      "Iter: 122/695, loss_train: 6.7297, loss_val: nan, pos_over_neg: 469.7816467285156 lr: 0.00031623\n",
      "Iter: 123/695, loss_train: 6.7263, loss_val: nan, pos_over_neg: 1241.6507568359375 lr: 0.00031623\n",
      "Iter: 124/695, loss_train: 6.7252, loss_val: nan, pos_over_neg: 808.3218994140625 lr: 0.00031623\n",
      "Iter: 125/695, loss_train: 6.7242, loss_val: nan, pos_over_neg: 1222.5679931640625 lr: 0.00031623\n",
      "Iter: 126/695, loss_train: 6.7262, loss_val: nan, pos_over_neg: 481.3764343261719 lr: 0.00031623\n",
      "Iter: 127/695, loss_train: 6.7264, loss_val: nan, pos_over_neg: 422.9383239746094 lr: 0.00031623\n",
      "Iter: 128/695, loss_train: 6.7245, loss_val: nan, pos_over_neg: 665.464599609375 lr: 0.00031623\n",
      "Iter: 129/695, loss_train: 6.725, loss_val: nan, pos_over_neg: 481.2459716796875 lr: 0.00031623\n",
      "Iter: 130/695, loss_train: 6.7252, loss_val: nan, pos_over_neg: 400.013671875 lr: 0.00031623\n",
      "Iter: 131/695, loss_train: 6.725, loss_val: nan, pos_over_neg: 470.2596740722656 lr: 0.00031623\n",
      "Iter: 132/695, loss_train: 6.725, loss_val: nan, pos_over_neg: 1238.037353515625 lr: 0.00031623\n",
      "Iter: 133/695, loss_train: 6.7255, loss_val: nan, pos_over_neg: 975.2425537109375 lr: 0.00031623\n",
      "Iter: 134/695, loss_train: 6.7223, loss_val: nan, pos_over_neg: 962.2921142578125 lr: 0.00031623\n",
      "Iter: 135/695, loss_train: 6.7222, loss_val: nan, pos_over_neg: 547.7813720703125 lr: 0.00031623\n",
      "Iter: 136/695, loss_train: 6.7218, loss_val: nan, pos_over_neg: -86921.9921875 lr: 0.00031623\n",
      "Iter: 137/695, loss_train: 6.7222, loss_val: nan, pos_over_neg: 654.8555908203125 lr: 0.00031623\n",
      "Iter: 138/695, loss_train: 6.7225, loss_val: nan, pos_over_neg: 675.379150390625 lr: 0.00031623\n",
      "Iter: 139/695, loss_train: 6.7234, loss_val: nan, pos_over_neg: 618.5433959960938 lr: 0.00031623\n",
      "Iter: 140/695, loss_train: 6.7229, loss_val: nan, pos_over_neg: 1027.62109375 lr: 0.00031623\n",
      "Iter: 141/695, loss_train: 6.7226, loss_val: nan, pos_over_neg: 341.91815185546875 lr: 0.00031623\n",
      "Iter: 142/695, loss_train: 6.719, loss_val: nan, pos_over_neg: 1204.56298828125 lr: 0.00031623\n",
      "Iter: 143/695, loss_train: 6.7217, loss_val: nan, pos_over_neg: 779.3862915039062 lr: 0.00031623\n",
      "Iter: 144/695, loss_train: 6.7213, loss_val: nan, pos_over_neg: 599.5253295898438 lr: 0.00031623\n",
      "Iter: 145/695, loss_train: 6.7182, loss_val: nan, pos_over_neg: 1016.4026489257812 lr: 0.00031623\n",
      "Iter: 146/695, loss_train: 6.7242, loss_val: nan, pos_over_neg: 411.9253234863281 lr: 0.00031623\n",
      "Iter: 147/695, loss_train: 6.7222, loss_val: nan, pos_over_neg: 404.932861328125 lr: 0.00031623\n",
      "Iter: 148/695, loss_train: 6.718, loss_val: nan, pos_over_neg: 533.8888549804688 lr: 0.00031623\n",
      "Iter: 149/695, loss_train: 6.7198, loss_val: nan, pos_over_neg: 847.4888916015625 lr: 0.00031623\n",
      "Iter: 150/695, loss_train: 6.724, loss_val: nan, pos_over_neg: 326.0985412597656 lr: 0.00031623\n",
      "Iter: 151/695, loss_train: 6.7224, loss_val: nan, pos_over_neg: 330.815185546875 lr: 0.00031623\n",
      "Iter: 152/695, loss_train: 6.7192, loss_val: nan, pos_over_neg: 737.6447143554688 lr: 0.00031623\n",
      "Iter: 153/695, loss_train: 6.7179, loss_val: nan, pos_over_neg: 291.94464111328125 lr: 0.00031623\n",
      "Iter: 154/695, loss_train: 6.7195, loss_val: nan, pos_over_neg: 514.4977416992188 lr: 0.00031623\n",
      "Iter: 155/695, loss_train: 6.7199, loss_val: nan, pos_over_neg: 362.6884765625 lr: 0.00031623\n",
      "Iter: 156/695, loss_train: 6.7194, loss_val: nan, pos_over_neg: 1035.09912109375 lr: 0.00031623\n",
      "Iter: 157/695, loss_train: 6.7184, loss_val: nan, pos_over_neg: 770.6511840820312 lr: 0.00031623\n",
      "Iter: 158/695, loss_train: 6.7186, loss_val: nan, pos_over_neg: 360.8032531738281 lr: 0.00031623\n",
      "Iter: 159/695, loss_train: 6.7158, loss_val: nan, pos_over_neg: 1817.5826416015625 lr: 0.00031623\n",
      "Iter: 160/695, loss_train: 6.7163, loss_val: nan, pos_over_neg: 290.03179931640625 lr: 0.00031623\n",
      "Iter: 161/695, loss_train: 6.7183, loss_val: nan, pos_over_neg: 785.7859497070312 lr: 0.00031623\n",
      "Iter: 162/695, loss_train: 6.7143, loss_val: nan, pos_over_neg: 627.2919311523438 lr: 0.00031623\n",
      "Iter: 163/695, loss_train: 6.7172, loss_val: nan, pos_over_neg: 743.7262573242188 lr: 0.00031623\n",
      "Iter: 164/695, loss_train: 6.7185, loss_val: nan, pos_over_neg: 1528.5340576171875 lr: 0.00031623\n",
      "Iter: 165/695, loss_train: 6.7182, loss_val: nan, pos_over_neg: 1218.770263671875 lr: 0.00031623\n",
      "Iter: 166/695, loss_train: 6.7128, loss_val: nan, pos_over_neg: 41842.91015625 lr: 0.00031623\n",
      "Iter: 167/695, loss_train: 6.7157, loss_val: nan, pos_over_neg: 547.718994140625 lr: 0.00031623\n",
      "Iter: 168/695, loss_train: 6.7189, loss_val: nan, pos_over_neg: 828.3342895507812 lr: 0.00031623\n",
      "Iter: 169/695, loss_train: 6.7164, loss_val: nan, pos_over_neg: 668.156494140625 lr: 0.00031623\n",
      "Iter: 170/695, loss_train: 6.717, loss_val: nan, pos_over_neg: 400.0975341796875 lr: 0.00031623\n",
      "Iter: 171/695, loss_train: 6.7154, loss_val: nan, pos_over_neg: 1480.1011962890625 lr: 0.00031623\n",
      "Iter: 172/695, loss_train: 6.7164, loss_val: nan, pos_over_neg: 430.2516174316406 lr: 0.00031623\n",
      "Iter: 173/695, loss_train: 6.7148, loss_val: nan, pos_over_neg: 493.7266540527344 lr: 0.00031623\n",
      "Iter: 174/695, loss_train: 6.7149, loss_val: nan, pos_over_neg: 818.3046264648438 lr: 0.00031623\n",
      "Iter: 175/695, loss_train: 6.7166, loss_val: nan, pos_over_neg: 410.9117126464844 lr: 0.00031623\n",
      "Iter: 176/695, loss_train: 6.7175, loss_val: nan, pos_over_neg: 1584.47509765625 lr: 0.00031623\n",
      "Iter: 177/695, loss_train: 6.7159, loss_val: nan, pos_over_neg: 590.7940063476562 lr: 0.00031623\n",
      "Iter: 178/695, loss_train: 6.7152, loss_val: nan, pos_over_neg: 385.1311340332031 lr: 0.00031623\n",
      "Iter: 179/695, loss_train: 6.7125, loss_val: nan, pos_over_neg: 675.7236328125 lr: 0.00031623\n",
      "Iter: 180/695, loss_train: 6.712, loss_val: nan, pos_over_neg: 1117.287353515625 lr: 0.00031623\n",
      "Iter: 181/695, loss_train: 6.7144, loss_val: nan, pos_over_neg: 336.5459289550781 lr: 0.00031623\n",
      "Iter: 182/695, loss_train: 6.7149, loss_val: nan, pos_over_neg: 470.98712158203125 lr: 0.00031623\n",
      "Iter: 183/695, loss_train: 6.7144, loss_val: nan, pos_over_neg: 966.6250610351562 lr: 0.00031623\n",
      "Iter: 184/695, loss_train: 6.7139, loss_val: nan, pos_over_neg: 425.9233093261719 lr: 0.00031623\n",
      "Iter: 185/695, loss_train: 6.7133, loss_val: nan, pos_over_neg: 577.5731201171875 lr: 0.00031623\n",
      "Iter: 186/695, loss_train: 6.7128, loss_val: nan, pos_over_neg: 1708.8336181640625 lr: 0.00031623\n",
      "Iter: 187/695, loss_train: 6.717, loss_val: nan, pos_over_neg: 282.83050537109375 lr: 0.00031623\n",
      "Iter: 188/695, loss_train: 6.7146, loss_val: nan, pos_over_neg: 674.5009155273438 lr: 0.00031623\n",
      "Iter: 189/695, loss_train: 6.7152, loss_val: nan, pos_over_neg: 460.2774353027344 lr: 0.00031623\n",
      "Iter: 190/695, loss_train: 6.715, loss_val: nan, pos_over_neg: 760.52685546875 lr: 0.00031623\n",
      "Iter: 191/695, loss_train: 6.7154, loss_val: nan, pos_over_neg: 825.6742553710938 lr: 0.00031623\n",
      "Iter: 192/695, loss_train: 6.7162, loss_val: nan, pos_over_neg: 636.7124633789062 lr: 0.00031623\n",
      "Iter: 193/695, loss_train: 6.716, loss_val: nan, pos_over_neg: 406.9577331542969 lr: 0.00031623\n",
      "Iter: 194/695, loss_train: 6.7185, loss_val: nan, pos_over_neg: 1284.5718994140625 lr: 0.00031623\n",
      "Iter: 195/695, loss_train: 6.7112, loss_val: nan, pos_over_neg: 304.0305480957031 lr: 0.00031623\n",
      "Iter: 196/695, loss_train: 6.7124, loss_val: nan, pos_over_neg: 389.26434326171875 lr: 0.00031623\n",
      "Iter: 197/695, loss_train: 6.7135, loss_val: nan, pos_over_neg: 420.341796875 lr: 0.00031623\n",
      "Iter: 198/695, loss_train: 6.7116, loss_val: nan, pos_over_neg: 393.8273620605469 lr: 0.00031623\n",
      "Iter: 199/695, loss_train: 6.711, loss_val: nan, pos_over_neg: 715.0159301757812 lr: 0.00031623\n",
      "Iter: 200/695, loss_train: 6.7114, loss_val: nan, pos_over_neg: 805.3900146484375 lr: 0.00031623\n",
      "Iter: 201/695, loss_train: 6.7118, loss_val: nan, pos_over_neg: 385.095703125 lr: 0.00031623\n",
      "Iter: 202/695, loss_train: 6.7104, loss_val: nan, pos_over_neg: 474.54559326171875 lr: 0.00031623\n",
      "Iter: 203/695, loss_train: 6.7119, loss_val: nan, pos_over_neg: 657.7605590820312 lr: 0.00031623\n",
      "Iter: 204/695, loss_train: 6.7084, loss_val: nan, pos_over_neg: 1055.34765625 lr: 0.00031623\n",
      "Iter: 205/695, loss_train: 6.7099, loss_val: nan, pos_over_neg: 656.730224609375 lr: 0.00031623\n",
      "Iter: 206/695, loss_train: 6.7115, loss_val: nan, pos_over_neg: 1280.7811279296875 lr: 0.00031623\n",
      "Iter: 207/695, loss_train: 6.7136, loss_val: nan, pos_over_neg: 339.3275146484375 lr: 0.00031623\n",
      "Iter: 208/695, loss_train: 6.7095, loss_val: nan, pos_over_neg: 556.7872314453125 lr: 0.00031623\n",
      "Iter: 209/695, loss_train: 6.7111, loss_val: nan, pos_over_neg: 717.3453369140625 lr: 0.00031623\n",
      "Iter: 210/695, loss_train: 6.7146, loss_val: nan, pos_over_neg: 354.3598937988281 lr: 0.00031623\n",
      "Iter: 211/695, loss_train: 6.7138, loss_val: nan, pos_over_neg: 517.3667602539062 lr: 0.00031623\n",
      "Iter: 212/695, loss_train: 6.7088, loss_val: nan, pos_over_neg: 1338.6044921875 lr: 0.00031623\n",
      "Iter: 213/695, loss_train: 6.7082, loss_val: nan, pos_over_neg: 608.2504272460938 lr: 0.00031623\n",
      "Iter: 214/695, loss_train: 6.7123, loss_val: nan, pos_over_neg: 320.6553039550781 lr: 0.00031623\n",
      "Iter: 215/695, loss_train: 6.7122, loss_val: nan, pos_over_neg: 405.0002136230469 lr: 0.00031623\n",
      "Iter: 216/695, loss_train: 6.7098, loss_val: nan, pos_over_neg: 493.648681640625 lr: 0.00031623\n",
      "Iter: 217/695, loss_train: 6.7082, loss_val: nan, pos_over_neg: 554.2675170898438 lr: 0.00031623\n",
      "Iter: 218/695, loss_train: 6.7132, loss_val: nan, pos_over_neg: 330.8782958984375 lr: 0.00031623\n",
      "Iter: 219/695, loss_train: 6.7076, loss_val: nan, pos_over_neg: 4584.40380859375 lr: 0.00031623\n",
      "Iter: 220/695, loss_train: 6.712, loss_val: nan, pos_over_neg: 444.6327819824219 lr: 0.00031623\n",
      "Iter: 221/695, loss_train: 6.7095, loss_val: nan, pos_over_neg: 466.1377868652344 lr: 0.00031623\n",
      "Iter: 222/695, loss_train: 6.7074, loss_val: nan, pos_over_neg: 2707.635498046875 lr: 0.00031623\n",
      "Iter: 223/695, loss_train: 6.7095, loss_val: nan, pos_over_neg: 403.37847900390625 lr: 0.00031623\n",
      "Iter: 224/695, loss_train: 6.7074, loss_val: nan, pos_over_neg: 623.1200561523438 lr: 0.00031623\n",
      "Iter: 225/695, loss_train: 6.709, loss_val: nan, pos_over_neg: 388.422607421875 lr: 0.00031623\n",
      "Iter: 226/695, loss_train: 6.7102, loss_val: nan, pos_over_neg: 686.28564453125 lr: 0.00031623\n",
      "Iter: 227/695, loss_train: 6.7105, loss_val: nan, pos_over_neg: 528.9978637695312 lr: 0.00031623\n",
      "Iter: 228/695, loss_train: 6.7083, loss_val: nan, pos_over_neg: 1129.620361328125 lr: 0.00031623\n",
      "Iter: 229/695, loss_train: 6.7076, loss_val: nan, pos_over_neg: 1062.3056640625 lr: 0.00031623\n",
      "Iter: 230/695, loss_train: 6.7077, loss_val: nan, pos_over_neg: 2259.2744140625 lr: 0.00031623\n",
      "Iter: 231/695, loss_train: 6.7086, loss_val: nan, pos_over_neg: 244.2025604248047 lr: 0.00031623\n",
      "Iter: 232/695, loss_train: 6.7102, loss_val: nan, pos_over_neg: 984.509033203125 lr: 0.00031623\n",
      "Iter: 233/695, loss_train: 6.7091, loss_val: nan, pos_over_neg: 1561.64111328125 lr: 0.00031623\n",
      "Iter: 234/695, loss_train: 6.7073, loss_val: nan, pos_over_neg: 695.4719848632812 lr: 0.00031623\n",
      "Iter: 235/695, loss_train: 6.7112, loss_val: nan, pos_over_neg: 565.6286010742188 lr: 0.00031623\n",
      "Iter: 236/695, loss_train: 6.7059, loss_val: nan, pos_over_neg: 1054.78125 lr: 0.00031623\n",
      "Iter: 237/695, loss_train: 6.7113, loss_val: nan, pos_over_neg: 410.4372253417969 lr: 0.00031623\n",
      "Iter: 238/695, loss_train: 6.7066, loss_val: nan, pos_over_neg: 1000.0048217773438 lr: 0.00031623\n",
      "Iter: 239/695, loss_train: 6.7104, loss_val: nan, pos_over_neg: 293.3039245605469 lr: 0.00031623\n",
      "Iter: 240/695, loss_train: 6.7093, loss_val: nan, pos_over_neg: 690.57470703125 lr: 0.00031623\n",
      "Iter: 241/695, loss_train: 6.7044, loss_val: nan, pos_over_neg: 769.1315307617188 lr: 0.00031623\n",
      "Iter: 242/695, loss_train: 6.7067, loss_val: nan, pos_over_neg: 848.094970703125 lr: 0.00031623\n",
      "Iter: 243/695, loss_train: 6.7069, loss_val: nan, pos_over_neg: 406.55755615234375 lr: 0.00031623\n",
      "Iter: 244/695, loss_train: 6.7055, loss_val: nan, pos_over_neg: 524.3973388671875 lr: 0.00031623\n",
      "Iter: 245/695, loss_train: 6.7087, loss_val: nan, pos_over_neg: 363.60028076171875 lr: 0.00031623\n",
      "Iter: 246/695, loss_train: 6.7088, loss_val: nan, pos_over_neg: 604.3426513671875 lr: 0.00031623\n",
      "Iter: 247/695, loss_train: 6.7063, loss_val: nan, pos_over_neg: 738.9678344726562 lr: 0.00031623\n",
      "Iter: 248/695, loss_train: 6.7063, loss_val: nan, pos_over_neg: 365.5594177246094 lr: 0.00031623\n",
      "Iter: 249/695, loss_train: 6.7092, loss_val: nan, pos_over_neg: 521.3840942382812 lr: 0.00031623\n",
      "Iter: 250/695, loss_train: 6.7072, loss_val: nan, pos_over_neg: 646.7839965820312 lr: 0.00031623\n",
      "Iter: 251/695, loss_train: 6.7127, loss_val: nan, pos_over_neg: 284.67156982421875 lr: 0.00031623\n",
      "Iter: 252/695, loss_train: 6.7083, loss_val: nan, pos_over_neg: 559.3129272460938 lr: 0.00031623\n",
      "Iter: 253/695, loss_train: 6.709, loss_val: nan, pos_over_neg: 859.4369506835938 lr: 0.00031623\n",
      "Iter: 254/695, loss_train: 6.7066, loss_val: nan, pos_over_neg: 731.293701171875 lr: 0.00031623\n",
      "Iter: 255/695, loss_train: 6.7063, loss_val: nan, pos_over_neg: 482.1760559082031 lr: 0.00031623\n",
      "Iter: 256/695, loss_train: 6.7093, loss_val: nan, pos_over_neg: 578.9755249023438 lr: 0.00031623\n",
      "Iter: 257/695, loss_train: 6.7038, loss_val: nan, pos_over_neg: 459.0228271484375 lr: 0.00031623\n",
      "Iter: 258/695, loss_train: 6.7084, loss_val: nan, pos_over_neg: 392.8445739746094 lr: 0.00031623\n",
      "Iter: 259/695, loss_train: 6.7066, loss_val: nan, pos_over_neg: 835.6538696289062 lr: 0.00031623\n",
      "Iter: 260/695, loss_train: 6.7069, loss_val: nan, pos_over_neg: 603.5439453125 lr: 0.00031623\n",
      "Iter: 261/695, loss_train: 6.7062, loss_val: nan, pos_over_neg: 1023.42919921875 lr: 0.00031623\n",
      "Iter: 262/695, loss_train: 6.7081, loss_val: nan, pos_over_neg: 1326.8717041015625 lr: 0.00031623\n",
      "Iter: 263/695, loss_train: 6.705, loss_val: nan, pos_over_neg: 1217.36083984375 lr: 0.00031623\n",
      "Iter: 264/695, loss_train: 6.7076, loss_val: nan, pos_over_neg: 743.2734985351562 lr: 0.00031623\n",
      "Iter: 265/695, loss_train: 6.7069, loss_val: nan, pos_over_neg: 1011.47900390625 lr: 0.00031623\n",
      "Iter: 266/695, loss_train: 6.703, loss_val: nan, pos_over_neg: 6615.2666015625 lr: 0.00031623\n",
      "Iter: 267/695, loss_train: 6.7066, loss_val: nan, pos_over_neg: 41113.51171875 lr: 0.00031623\n",
      "Iter: 268/695, loss_train: 6.707, loss_val: nan, pos_over_neg: 762.5879516601562 lr: 0.00031623\n",
      "Iter: 269/695, loss_train: 6.7024, loss_val: nan, pos_over_neg: 996.6038818359375 lr: 0.00031623\n",
      "Iter: 270/695, loss_train: 6.7012, loss_val: nan, pos_over_neg: 1082.19189453125 lr: 0.00031623\n",
      "Iter: 271/695, loss_train: 6.7053, loss_val: nan, pos_over_neg: 1126.1201171875 lr: 0.00031623\n",
      "Iter: 272/695, loss_train: 6.7108, loss_val: nan, pos_over_neg: 414.0113220214844 lr: 0.00031623\n",
      "Iter: 273/695, loss_train: 6.7019, loss_val: nan, pos_over_neg: 1676.036376953125 lr: 0.00031623\n",
      "Iter: 274/695, loss_train: 6.7068, loss_val: nan, pos_over_neg: 562.9219360351562 lr: 0.00031623\n",
      "Iter: 275/695, loss_train: 6.7047, loss_val: nan, pos_over_neg: 898.912109375 lr: 0.00031623\n",
      "Iter: 276/695, loss_train: 6.7026, loss_val: nan, pos_over_neg: -10203.0576171875 lr: 0.00031623\n",
      "Iter: 277/695, loss_train: 6.7053, loss_val: nan, pos_over_neg: 779.89013671875 lr: 0.00031623\n",
      "Iter: 278/695, loss_train: 6.7051, loss_val: nan, pos_over_neg: 470.3290100097656 lr: 0.00031623\n",
      "Iter: 279/695, loss_train: 6.7091, loss_val: nan, pos_over_neg: 1428.844970703125 lr: 0.00031623\n",
      "Iter: 280/695, loss_train: 6.7094, loss_val: nan, pos_over_neg: 313.23431396484375 lr: 0.00031623\n",
      "Iter: 281/695, loss_train: 6.7038, loss_val: nan, pos_over_neg: 626.2890625 lr: 0.00031623\n",
      "Iter: 282/695, loss_train: 6.7051, loss_val: nan, pos_over_neg: 1068.31640625 lr: 0.00031623\n",
      "Iter: 283/695, loss_train: 6.7065, loss_val: nan, pos_over_neg: 604.6870727539062 lr: 0.00031623\n",
      "Iter: 284/695, loss_train: 6.7054, loss_val: nan, pos_over_neg: 522.597900390625 lr: 0.00031623\n",
      "Iter: 285/695, loss_train: 6.7102, loss_val: nan, pos_over_neg: 336.1597900390625 lr: 0.00031623\n",
      "Iter: 286/695, loss_train: 6.7064, loss_val: nan, pos_over_neg: 2475.889892578125 lr: 0.00031623\n",
      "Iter: 287/695, loss_train: 6.706, loss_val: nan, pos_over_neg: 315.6548156738281 lr: 0.00031623\n",
      "Iter: 288/695, loss_train: 6.7074, loss_val: nan, pos_over_neg: 355.228759765625 lr: 0.00031623\n",
      "Iter: 289/695, loss_train: 6.703, loss_val: nan, pos_over_neg: 4441.30908203125 lr: 0.00031623\n",
      "Iter: 290/695, loss_train: 6.7042, loss_val: nan, pos_over_neg: 535.05322265625 lr: 0.00031623\n",
      "Iter: 291/695, loss_train: 6.7036, loss_val: nan, pos_over_neg: 771.429931640625 lr: 0.00031623\n",
      "Iter: 292/695, loss_train: 6.7051, loss_val: nan, pos_over_neg: 1575.149658203125 lr: 0.00031623\n",
      "Iter: 293/695, loss_train: 6.7003, loss_val: nan, pos_over_neg: 1230.4478759765625 lr: 0.00031623\n",
      "Iter: 294/695, loss_train: 6.7071, loss_val: nan, pos_over_neg: 365.5503234863281 lr: 0.00031623\n",
      "Iter: 295/695, loss_train: 6.7043, loss_val: nan, pos_over_neg: 2461.4189453125 lr: 0.00031623\n",
      "Iter: 296/695, loss_train: 6.7046, loss_val: nan, pos_over_neg: 667.7297973632812 lr: 0.00031623\n",
      "Iter: 297/695, loss_train: 6.7052, loss_val: nan, pos_over_neg: 567.7736206054688 lr: 0.00031623\n",
      "Iter: 298/695, loss_train: 6.7019, loss_val: nan, pos_over_neg: 1294.916015625 lr: 0.00031623\n",
      "Iter: 299/695, loss_train: 6.7054, loss_val: nan, pos_over_neg: 409.5220947265625 lr: 0.00031623\n",
      "Iter: 300/695, loss_train: 6.7013, loss_val: nan, pos_over_neg: 786.257080078125 lr: 0.00031623\n",
      "Iter: 301/695, loss_train: 6.7063, loss_val: nan, pos_over_neg: 524.7591552734375 lr: 0.00031623\n",
      "Iter: 302/695, loss_train: 6.7041, loss_val: nan, pos_over_neg: 1801.7647705078125 lr: 0.00031623\n",
      "Iter: 303/695, loss_train: 6.7047, loss_val: nan, pos_over_neg: 2380.79296875 lr: 0.00031623\n",
      "Iter: 304/695, loss_train: 6.7047, loss_val: nan, pos_over_neg: 554.0413208007812 lr: 0.00031623\n",
      "Iter: 305/695, loss_train: 6.7026, loss_val: nan, pos_over_neg: 1160.255859375 lr: 0.00031623\n",
      "Iter: 306/695, loss_train: 6.7007, loss_val: nan, pos_over_neg: 5206.60498046875 lr: 0.00031623\n",
      "Iter: 307/695, loss_train: 6.7036, loss_val: nan, pos_over_neg: 571.0242919921875 lr: 0.00031623\n",
      "Iter: 308/695, loss_train: 6.703, loss_val: nan, pos_over_neg: 1439.0380859375 lr: 0.00031623\n",
      "Iter: 309/695, loss_train: 6.7012, loss_val: nan, pos_over_neg: 840.3538208007812 lr: 0.00031623\n",
      "Iter: 310/695, loss_train: 6.7044, loss_val: nan, pos_over_neg: 1113.7774658203125 lr: 0.00031623\n",
      "Iter: 311/695, loss_train: 6.7029, loss_val: nan, pos_over_neg: 1703.07666015625 lr: 0.00031623\n",
      "Iter: 312/695, loss_train: 6.7039, loss_val: nan, pos_over_neg: 636.8778076171875 lr: 0.00031623\n",
      "Iter: 313/695, loss_train: 6.703, loss_val: nan, pos_over_neg: 2074.339599609375 lr: 0.00031623\n",
      "Iter: 314/695, loss_train: 6.7025, loss_val: nan, pos_over_neg: 11078.0146484375 lr: 0.00031623\n",
      "Iter: 315/695, loss_train: 6.7035, loss_val: nan, pos_over_neg: 1336.5325927734375 lr: 0.00031623\n",
      "Iter: 316/695, loss_train: 6.7053, loss_val: nan, pos_over_neg: 664.9834594726562 lr: 0.00031623\n",
      "Iter: 317/695, loss_train: 6.7017, loss_val: nan, pos_over_neg: 1656.692626953125 lr: 0.00031623\n",
      "Iter: 318/695, loss_train: 6.7036, loss_val: nan, pos_over_neg: 782.3843994140625 lr: 0.00031623\n",
      "Iter: 319/695, loss_train: 6.7032, loss_val: nan, pos_over_neg: 761.3028564453125 lr: 0.00031623\n",
      "Iter: 320/695, loss_train: 6.7035, loss_val: nan, pos_over_neg: 846.8959350585938 lr: 0.00031623\n",
      "Iter: 321/695, loss_train: 6.7027, loss_val: nan, pos_over_neg: 3553.31103515625 lr: 0.00031623\n",
      "Iter: 322/695, loss_train: 6.705, loss_val: nan, pos_over_neg: 757.7902221679688 lr: 0.00031623\n",
      "Iter: 323/695, loss_train: 6.7014, loss_val: nan, pos_over_neg: 1871.1014404296875 lr: 0.00031623\n",
      "Iter: 324/695, loss_train: 6.6997, loss_val: nan, pos_over_neg: 923.7601318359375 lr: 0.00031623\n",
      "Iter: 325/695, loss_train: 6.705, loss_val: nan, pos_over_neg: 1908.5281982421875 lr: 0.00031623\n",
      "Iter: 326/695, loss_train: 6.6985, loss_val: nan, pos_over_neg: 1096.623779296875 lr: 0.00031623\n",
      "Iter: 327/695, loss_train: 6.7002, loss_val: nan, pos_over_neg: 1314.2015380859375 lr: 0.00031623\n",
      "Iter: 328/695, loss_train: 6.7045, loss_val: nan, pos_over_neg: 863.2344970703125 lr: 0.00031623\n",
      "Iter: 329/695, loss_train: 6.7032, loss_val: nan, pos_over_neg: 1518.08740234375 lr: 0.00031623\n",
      "Iter: 330/695, loss_train: 6.7008, loss_val: nan, pos_over_neg: 549.907958984375 lr: 0.00031623\n",
      "Iter: 331/695, loss_train: 6.7013, loss_val: nan, pos_over_neg: 6088.10546875 lr: 0.00031623\n",
      "Iter: 332/695, loss_train: 6.701, loss_val: nan, pos_over_neg: 1340.041748046875 lr: 0.00031623\n",
      "Iter: 333/695, loss_train: 6.7009, loss_val: nan, pos_over_neg: 1698.392578125 lr: 0.00031623\n",
      "Iter: 334/695, loss_train: 6.702, loss_val: nan, pos_over_neg: 2219.828857421875 lr: 0.00031623\n",
      "Iter: 335/695, loss_train: 6.702, loss_val: nan, pos_over_neg: 1053.3541259765625 lr: 0.00031623\n",
      "Iter: 336/695, loss_train: 6.6973, loss_val: nan, pos_over_neg: 3156.40087890625 lr: 0.00031623\n",
      "Iter: 337/695, loss_train: 6.7047, loss_val: nan, pos_over_neg: 908.4918212890625 lr: 0.00031623\n",
      "Iter: 338/695, loss_train: 6.7013, loss_val: nan, pos_over_neg: 457.9189758300781 lr: 0.00031623\n",
      "Iter: 339/695, loss_train: 6.7021, loss_val: nan, pos_over_neg: 1082.8836669921875 lr: 0.00031623\n",
      "Iter: 340/695, loss_train: 6.7024, loss_val: nan, pos_over_neg: 1280.10888671875 lr: 0.00031623\n",
      "Iter: 341/695, loss_train: 6.7035, loss_val: nan, pos_over_neg: 480.42510986328125 lr: 0.00031623\n",
      "Iter: 342/695, loss_train: 6.6986, loss_val: nan, pos_over_neg: 4649.07763671875 lr: 0.00031623\n",
      "Iter: 343/695, loss_train: 6.7026, loss_val: nan, pos_over_neg: 2511.265625 lr: 0.00031623\n",
      "Iter: 344/695, loss_train: 6.7028, loss_val: nan, pos_over_neg: 1083.1983642578125 lr: 0.00031623\n",
      "Iter: 345/695, loss_train: 6.7003, loss_val: nan, pos_over_neg: 1283.739501953125 lr: 0.00031623\n",
      "Iter: 346/695, loss_train: 6.7014, loss_val: nan, pos_over_neg: 1451.5013427734375 lr: 0.00031623\n",
      "Iter: 347/695, loss_train: 6.7014, loss_val: nan, pos_over_neg: 1686.7735595703125 lr: 0.00031623\n",
      "Iter: 348/695, loss_train: 6.7015, loss_val: nan, pos_over_neg: 586.002197265625 lr: 0.00031623\n",
      "Iter: 349/695, loss_train: 6.6985, loss_val: nan, pos_over_neg: 3327.716552734375 lr: 0.00031623\n",
      "Iter: 350/695, loss_train: 6.7008, loss_val: nan, pos_over_neg: 1246.090087890625 lr: 0.00031623\n",
      "Iter: 351/695, loss_train: 6.7011, loss_val: nan, pos_over_neg: 935.947265625 lr: 0.00031623\n",
      "Iter: 352/695, loss_train: 6.7016, loss_val: nan, pos_over_neg: 829.3187866210938 lr: 0.00031623\n",
      "Iter: 353/695, loss_train: 6.6995, loss_val: nan, pos_over_neg: 4360.6865234375 lr: 0.00031623\n",
      "Iter: 354/695, loss_train: 6.702, loss_val: nan, pos_over_neg: 705.7186279296875 lr: 0.00031623\n",
      "Iter: 355/695, loss_train: 6.7019, loss_val: nan, pos_over_neg: 1039.6136474609375 lr: 0.00031623\n",
      "Iter: 356/695, loss_train: 6.7006, loss_val: nan, pos_over_neg: 5456.1142578125 lr: 0.00031623\n",
      "Iter: 357/695, loss_train: 6.7028, loss_val: nan, pos_over_neg: 710.66748046875 lr: 0.00031623\n",
      "Iter: 358/695, loss_train: 6.7043, loss_val: nan, pos_over_neg: 592.2715454101562 lr: 0.00031623\n",
      "Iter: 359/695, loss_train: 6.7001, loss_val: nan, pos_over_neg: 1359.0218505859375 lr: 0.00031623\n",
      "Iter: 360/695, loss_train: 6.6982, loss_val: nan, pos_over_neg: 766.3987426757812 lr: 0.00031623\n",
      "Iter: 361/695, loss_train: 6.7006, loss_val: nan, pos_over_neg: 1895.61474609375 lr: 0.00031623\n",
      "Iter: 362/695, loss_train: 6.6998, loss_val: nan, pos_over_neg: 1031.252685546875 lr: 0.00031623\n",
      "Iter: 363/695, loss_train: 6.7052, loss_val: nan, pos_over_neg: 1561.2421875 lr: 0.00031623\n",
      "Iter: 364/695, loss_train: 6.701, loss_val: nan, pos_over_neg: 570.42431640625 lr: 0.00031623\n",
      "Iter: 365/695, loss_train: 6.6985, loss_val: nan, pos_over_neg: 1455.7677001953125 lr: 0.00031623\n",
      "Iter: 366/695, loss_train: 6.6981, loss_val: nan, pos_over_neg: 1943.2889404296875 lr: 0.00031623\n",
      "Iter: 367/695, loss_train: 6.7041, loss_val: nan, pos_over_neg: 670.5531616210938 lr: 0.00031623\n",
      "Iter: 368/695, loss_train: 6.7022, loss_val: nan, pos_over_neg: 463.1172180175781 lr: 0.00031623\n",
      "Iter: 369/695, loss_train: 6.7017, loss_val: nan, pos_over_neg: 1829.74560546875 lr: 0.00031623\n",
      "Iter: 370/695, loss_train: 6.701, loss_val: nan, pos_over_neg: 980.43310546875 lr: 0.00031623\n",
      "Iter: 371/695, loss_train: 6.7002, loss_val: nan, pos_over_neg: 347.3822937011719 lr: 0.00031623\n",
      "Iter: 372/695, loss_train: 6.7008, loss_val: nan, pos_over_neg: 1178.015625 lr: 0.00031623\n",
      "Iter: 373/695, loss_train: 6.6977, loss_val: nan, pos_over_neg: 783.4021606445312 lr: 0.00031623\n",
      "Iter: 374/695, loss_train: 6.6974, loss_val: nan, pos_over_neg: 984.9404296875 lr: 0.00031623\n",
      "Iter: 375/695, loss_train: 6.7039, loss_val: nan, pos_over_neg: 662.9580078125 lr: 0.00031623\n",
      "Iter: 376/695, loss_train: 6.6998, loss_val: nan, pos_over_neg: 803.9451904296875 lr: 0.00031623\n",
      "Iter: 377/695, loss_train: 6.7025, loss_val: nan, pos_over_neg: 590.673828125 lr: 0.00031623\n",
      "Iter: 378/695, loss_train: 6.7002, loss_val: nan, pos_over_neg: 471.8863220214844 lr: 0.00031623\n",
      "Iter: 379/695, loss_train: 6.7017, loss_val: nan, pos_over_neg: 743.3960571289062 lr: 0.00031623\n",
      "Iter: 380/695, loss_train: 6.7021, loss_val: nan, pos_over_neg: 577.9514770507812 lr: 0.00031623\n",
      "Iter: 381/695, loss_train: 6.6996, loss_val: nan, pos_over_neg: 1265.606689453125 lr: 0.00031623\n",
      "Iter: 382/695, loss_train: 6.6998, loss_val: nan, pos_over_neg: 425.96038818359375 lr: 0.00031623\n",
      "Iter: 383/695, loss_train: 6.7005, loss_val: nan, pos_over_neg: 949.8887329101562 lr: 0.00031623\n",
      "Iter: 384/695, loss_train: 6.7007, loss_val: nan, pos_over_neg: 870.7820434570312 lr: 0.00031623\n",
      "Iter: 385/695, loss_train: 6.6988, loss_val: nan, pos_over_neg: 777.2498779296875 lr: 0.00031623\n",
      "Iter: 386/695, loss_train: 6.6994, loss_val: nan, pos_over_neg: 537.58447265625 lr: 0.00031623\n",
      "Iter: 387/695, loss_train: 6.6989, loss_val: nan, pos_over_neg: 1219.3319091796875 lr: 0.00031623\n",
      "Iter: 388/695, loss_train: 6.6976, loss_val: nan, pos_over_neg: 1127.2344970703125 lr: 0.00031623\n",
      "Iter: 389/695, loss_train: 6.6986, loss_val: nan, pos_over_neg: 840.091064453125 lr: 0.00031623\n",
      "Iter: 390/695, loss_train: 6.6985, loss_val: nan, pos_over_neg: 1784.5677490234375 lr: 0.00031623\n",
      "Iter: 391/695, loss_train: 6.7044, loss_val: nan, pos_over_neg: 789.5751342773438 lr: 0.00031623\n",
      "Iter: 392/695, loss_train: 6.702, loss_val: nan, pos_over_neg: 1148.4769287109375 lr: 0.00031623\n",
      "Iter: 393/695, loss_train: 6.6997, loss_val: nan, pos_over_neg: 1138.4832763671875 lr: 0.00031623\n",
      "Iter: 394/695, loss_train: 6.7001, loss_val: nan, pos_over_neg: 645.1064453125 lr: 0.00031623\n",
      "Iter: 395/695, loss_train: 6.7009, loss_val: nan, pos_over_neg: 398.3100280761719 lr: 0.00031623\n",
      "Iter: 396/695, loss_train: 6.7003, loss_val: nan, pos_over_neg: 441.7833251953125 lr: 0.00031623\n",
      "Iter: 397/695, loss_train: 6.7018, loss_val: nan, pos_over_neg: 446.536376953125 lr: 0.00031623\n",
      "Iter: 398/695, loss_train: 6.7011, loss_val: nan, pos_over_neg: 550.7207641601562 lr: 0.00031623\n",
      "Iter: 399/695, loss_train: 6.7056, loss_val: nan, pos_over_neg: 454.4139404296875 lr: 0.00031623\n",
      "Iter: 400/695, loss_train: 6.6983, loss_val: nan, pos_over_neg: 534.1784057617188 lr: 0.00031623\n",
      "Iter: 401/695, loss_train: 6.7002, loss_val: nan, pos_over_neg: 1106.3614501953125 lr: 0.00031623\n",
      "Iter: 402/695, loss_train: 6.7, loss_val: nan, pos_over_neg: 1589.8372802734375 lr: 0.00031623\n",
      "Iter: 403/695, loss_train: 6.7025, loss_val: nan, pos_over_neg: 1052.0416259765625 lr: 0.00031623\n",
      "Iter: 404/695, loss_train: 6.702, loss_val: nan, pos_over_neg: 4435.814453125 lr: 0.00031623\n",
      "Iter: 405/695, loss_train: 6.7018, loss_val: nan, pos_over_neg: 28677.240234375 lr: 0.00031623\n",
      "Iter: 406/695, loss_train: 6.7005, loss_val: nan, pos_over_neg: 1275.29150390625 lr: 0.00031623\n",
      "Iter: 407/695, loss_train: 6.7024, loss_val: nan, pos_over_neg: 2372.549560546875 lr: 0.00031623\n",
      "Iter: 408/695, loss_train: 6.6995, loss_val: nan, pos_over_neg: -6538.26708984375 lr: 0.00031623\n",
      "Iter: 409/695, loss_train: 6.6992, loss_val: nan, pos_over_neg: 1944.6068115234375 lr: 0.00031623\n",
      "Iter: 410/695, loss_train: 6.7, loss_val: nan, pos_over_neg: 2042.6336669921875 lr: 0.00031623\n",
      "Iter: 411/695, loss_train: 6.7039, loss_val: nan, pos_over_neg: 473.32940673828125 lr: 0.00031623\n",
      "Iter: 412/695, loss_train: 6.6996, loss_val: nan, pos_over_neg: -5289.73388671875 lr: 0.00031623\n",
      "Iter: 413/695, loss_train: 6.701, loss_val: nan, pos_over_neg: 905.4149780273438 lr: 0.00031623\n",
      "Iter: 414/695, loss_train: 6.7005, loss_val: nan, pos_over_neg: 760.6464233398438 lr: 0.00031623\n",
      "Iter: 415/695, loss_train: 6.6974, loss_val: nan, pos_over_neg: 3573.823974609375 lr: 0.00031623\n",
      "Iter: 416/695, loss_train: 6.7015, loss_val: nan, pos_over_neg: 937.5050659179688 lr: 0.00031623\n",
      "Iter: 417/695, loss_train: 6.6961, loss_val: nan, pos_over_neg: 1641.2696533203125 lr: 0.00031623\n",
      "Iter: 418/695, loss_train: 6.7018, loss_val: nan, pos_over_neg: 892.1127319335938 lr: 0.00031623\n",
      "Iter: 419/695, loss_train: 6.6989, loss_val: nan, pos_over_neg: 877.4971923828125 lr: 0.00031623\n",
      "Iter: 420/695, loss_train: 6.698, loss_val: nan, pos_over_neg: 611.4064331054688 lr: 0.00031623\n",
      "Iter: 421/695, loss_train: 6.7001, loss_val: nan, pos_over_neg: 598.95849609375 lr: 0.00031623\n",
      "Iter: 422/695, loss_train: 6.6983, loss_val: nan, pos_over_neg: 815.8193359375 lr: 0.00031623\n",
      "Iter: 423/695, loss_train: 6.7033, loss_val: nan, pos_over_neg: 224.749755859375 lr: 0.00031623\n",
      "Iter: 424/695, loss_train: 6.6997, loss_val: nan, pos_over_neg: 341.19012451171875 lr: 0.00031623\n",
      "Iter: 425/695, loss_train: 6.6985, loss_val: nan, pos_over_neg: 605.6231689453125 lr: 0.00031623\n",
      "Iter: 426/695, loss_train: 6.697, loss_val: nan, pos_over_neg: 521.7218017578125 lr: 0.00031623\n",
      "Iter: 427/695, loss_train: 6.6967, loss_val: nan, pos_over_neg: 605.2142944335938 lr: 0.00031623\n",
      "Iter: 428/695, loss_train: 6.6987, loss_val: nan, pos_over_neg: 1090.11181640625 lr: 0.00031623\n",
      "Iter: 429/695, loss_train: 6.6969, loss_val: nan, pos_over_neg: 805.984130859375 lr: 0.00031623\n",
      "Iter: 430/695, loss_train: 6.6997, loss_val: nan, pos_over_neg: 1060.17822265625 lr: 0.00031623\n",
      "Iter: 431/695, loss_train: 6.6958, loss_val: nan, pos_over_neg: 6057.5107421875 lr: 0.00031623\n",
      "Iter: 432/695, loss_train: 6.6997, loss_val: nan, pos_over_neg: 1073.88720703125 lr: 0.00031623\n",
      "Iter: 433/695, loss_train: 6.6938, loss_val: nan, pos_over_neg: 3083.60791015625 lr: 0.00031623\n",
      "Iter: 434/695, loss_train: 6.7001, loss_val: nan, pos_over_neg: 640.790771484375 lr: 0.00031623\n",
      "Iter: 435/695, loss_train: 6.6976, loss_val: nan, pos_over_neg: 923.8291015625 lr: 0.00031623\n",
      "Iter: 436/695, loss_train: 6.6967, loss_val: nan, pos_over_neg: 1066.0201416015625 lr: 0.00031623\n",
      "Iter: 437/695, loss_train: 6.6986, loss_val: nan, pos_over_neg: 721.7365112304688 lr: 0.00031623\n",
      "Iter: 438/695, loss_train: 6.6957, loss_val: nan, pos_over_neg: 2016.6749267578125 lr: 0.00031623\n",
      "Iter: 439/695, loss_train: 6.6965, loss_val: nan, pos_over_neg: 695.6629638671875 lr: 0.00031623\n",
      "Iter: 440/695, loss_train: 6.6991, loss_val: nan, pos_over_neg: 672.917724609375 lr: 0.00031623\n",
      "Iter: 441/695, loss_train: 6.6966, loss_val: nan, pos_over_neg: 979.0150756835938 lr: 0.00031623\n",
      "Iter: 442/695, loss_train: 6.6975, loss_val: nan, pos_over_neg: 1666.341064453125 lr: 0.00031623\n",
      "Iter: 443/695, loss_train: 6.6953, loss_val: nan, pos_over_neg: 1301.749267578125 lr: 0.00031623\n",
      "Iter: 444/695, loss_train: 6.6974, loss_val: nan, pos_over_neg: 2739.233154296875 lr: 0.00031623\n",
      "Iter: 445/695, loss_train: 6.696, loss_val: nan, pos_over_neg: 1806.07080078125 lr: 0.00031623\n",
      "Iter: 446/695, loss_train: 6.6956, loss_val: nan, pos_over_neg: 9045.037109375 lr: 0.00031623\n",
      "Iter: 447/695, loss_train: 6.6943, loss_val: nan, pos_over_neg: 1352.9097900390625 lr: 0.00031623\n",
      "Iter: 448/695, loss_train: 6.6949, loss_val: nan, pos_over_neg: 16365.3583984375 lr: 0.00031623\n",
      "Iter: 449/695, loss_train: 6.6962, loss_val: nan, pos_over_neg: 1073.6259765625 lr: 0.00031623\n",
      "Iter: 450/695, loss_train: 6.6963, loss_val: nan, pos_over_neg: 2214.013671875 lr: 0.00031623\n",
      "Iter: 451/695, loss_train: 6.6966, loss_val: nan, pos_over_neg: 728.9401245117188 lr: 0.00031623\n",
      "Iter: 452/695, loss_train: 6.6994, loss_val: nan, pos_over_neg: 2135.7421875 lr: 0.00031623\n",
      "Iter: 453/695, loss_train: 6.6971, loss_val: nan, pos_over_neg: 6182.92431640625 lr: 0.00031623\n",
      "Iter: 454/695, loss_train: 6.6986, loss_val: nan, pos_over_neg: 711.40966796875 lr: 0.00031623\n",
      "Iter: 455/695, loss_train: 6.7006, loss_val: nan, pos_over_neg: 710.4798583984375 lr: 0.00031623\n",
      "Iter: 456/695, loss_train: 6.6981, loss_val: nan, pos_over_neg: 496.566650390625 lr: 0.00031623\n",
      "Iter: 457/695, loss_train: 6.7009, loss_val: nan, pos_over_neg: 1240.6695556640625 lr: 0.00031623\n",
      "Iter: 458/695, loss_train: 6.6972, loss_val: nan, pos_over_neg: 948.9880981445312 lr: 0.00031623\n",
      "Iter: 459/695, loss_train: 6.6965, loss_val: nan, pos_over_neg: 1081.994384765625 lr: 0.00031623\n",
      "Iter: 460/695, loss_train: 6.6973, loss_val: nan, pos_over_neg: 973.6161499023438 lr: 0.00031623\n",
      "Iter: 461/695, loss_train: 6.6973, loss_val: nan, pos_over_neg: 1486.969970703125 lr: 0.00031623\n",
      "Iter: 462/695, loss_train: 6.7022, loss_val: nan, pos_over_neg: 478.2779235839844 lr: 0.00031623\n",
      "Iter: 463/695, loss_train: 6.6969, loss_val: nan, pos_over_neg: 895.2958984375 lr: 0.00031623\n",
      "Iter: 464/695, loss_train: 6.7008, loss_val: nan, pos_over_neg: 476.7051696777344 lr: 0.00031623\n",
      "Iter: 465/695, loss_train: 6.6957, loss_val: nan, pos_over_neg: 874.0179443359375 lr: 0.00031623\n",
      "Iter: 466/695, loss_train: 6.6993, loss_val: nan, pos_over_neg: 9379.8681640625 lr: 0.00031623\n",
      "Iter: 467/695, loss_train: 6.6984, loss_val: nan, pos_over_neg: 819.4041748046875 lr: 0.00031623\n",
      "Iter: 468/695, loss_train: 6.6977, loss_val: nan, pos_over_neg: 527.5297241210938 lr: 0.00031623\n",
      "Iter: 469/695, loss_train: 6.6979, loss_val: nan, pos_over_neg: 1409.6922607421875 lr: 0.00031623\n",
      "Iter: 470/695, loss_train: 6.6975, loss_val: nan, pos_over_neg: 770.2819213867188 lr: 0.00031623\n",
      "Iter: 471/695, loss_train: 6.6959, loss_val: nan, pos_over_neg: 626.8140869140625 lr: 0.00031623\n",
      "Iter: 472/695, loss_train: 6.6988, loss_val: nan, pos_over_neg: 391.4893798828125 lr: 0.00031623\n",
      "Iter: 473/695, loss_train: 6.6966, loss_val: nan, pos_over_neg: 789.3366088867188 lr: 0.00031623\n",
      "Iter: 474/695, loss_train: 6.698, loss_val: nan, pos_over_neg: 1263.1488037109375 lr: 0.00031623\n",
      "Iter: 475/695, loss_train: 6.6966, loss_val: nan, pos_over_neg: 1060.4091796875 lr: 0.00031623\n",
      "Iter: 476/695, loss_train: 6.6971, loss_val: nan, pos_over_neg: 618.2842407226562 lr: 0.00031623\n",
      "Iter: 477/695, loss_train: 6.6941, loss_val: nan, pos_over_neg: 2813.798828125 lr: 0.00031623\n",
      "Iter: 478/695, loss_train: 6.7001, loss_val: nan, pos_over_neg: 1869.8377685546875 lr: 0.00031623\n",
      "Iter: 479/695, loss_train: 6.6958, loss_val: nan, pos_over_neg: 1449.13671875 lr: 0.00031623\n",
      "Iter: 480/695, loss_train: 6.6966, loss_val: nan, pos_over_neg: 712.910888671875 lr: 0.00031623\n",
      "Iter: 481/695, loss_train: 6.6948, loss_val: nan, pos_over_neg: 548.5377197265625 lr: 0.00031623\n",
      "Iter: 482/695, loss_train: 6.6959, loss_val: nan, pos_over_neg: 1130.3790283203125 lr: 0.00031623\n",
      "Iter: 483/695, loss_train: 6.6959, loss_val: nan, pos_over_neg: 1139.3699951171875 lr: 0.00031623\n",
      "Iter: 484/695, loss_train: 6.6946, loss_val: nan, pos_over_neg: 582.1416015625 lr: 0.00031623\n",
      "Iter: 485/695, loss_train: 6.6937, loss_val: nan, pos_over_neg: 779.3761596679688 lr: 0.00031623\n",
      "Iter: 486/695, loss_train: 6.6944, loss_val: nan, pos_over_neg: 2103.6875 lr: 0.00031623\n",
      "Iter: 487/695, loss_train: 6.6935, loss_val: nan, pos_over_neg: 996.7835083007812 lr: 0.00031623\n",
      "Iter: 488/695, loss_train: 6.6923, loss_val: nan, pos_over_neg: 724.4403686523438 lr: 0.00031623\n",
      "Iter: 489/695, loss_train: 6.6946, loss_val: nan, pos_over_neg: 702.1235961914062 lr: 0.00031623\n",
      "Iter: 490/695, loss_train: 6.6999, loss_val: nan, pos_over_neg: 418.96429443359375 lr: 0.00031623\n",
      "Iter: 491/695, loss_train: 6.6952, loss_val: nan, pos_over_neg: 523.9615478515625 lr: 0.00031623\n",
      "Iter: 492/695, loss_train: 6.6954, loss_val: nan, pos_over_neg: 828.5567626953125 lr: 0.00031623\n",
      "Iter: 493/695, loss_train: 6.6971, loss_val: nan, pos_over_neg: 1687.81640625 lr: 0.00031623\n",
      "Iter: 494/695, loss_train: 6.6965, loss_val: nan, pos_over_neg: 744.2605590820312 lr: 0.00031623\n",
      "Iter: 495/695, loss_train: 6.6966, loss_val: nan, pos_over_neg: 477.6467590332031 lr: 0.00031623\n",
      "Iter: 496/695, loss_train: 6.6961, loss_val: nan, pos_over_neg: 715.2658081054688 lr: 0.00031623\n",
      "Iter: 497/695, loss_train: 6.6964, loss_val: nan, pos_over_neg: 621.1746215820312 lr: 0.00031623\n",
      "Iter: 498/695, loss_train: 6.696, loss_val: nan, pos_over_neg: 731.15966796875 lr: 0.00031623\n",
      "Iter: 499/695, loss_train: 6.6954, loss_val: nan, pos_over_neg: 495.1424255371094 lr: 0.00031623\n",
      "Iter: 500/695, loss_train: 6.6934, loss_val: nan, pos_over_neg: 939.8662719726562 lr: 0.00031623\n",
      "Iter: 501/695, loss_train: 6.6938, loss_val: nan, pos_over_neg: 1332.4102783203125 lr: 0.00031623\n",
      "Iter: 502/695, loss_train: 6.6973, loss_val: nan, pos_over_neg: 652.9811401367188 lr: 0.00031623\n",
      "Iter: 503/695, loss_train: 6.6929, loss_val: nan, pos_over_neg: 1224.66796875 lr: 0.00031623\n",
      "Iter: 504/695, loss_train: 6.6948, loss_val: nan, pos_over_neg: 921.1913452148438 lr: 0.00031623\n",
      "Iter: 505/695, loss_train: 6.6959, loss_val: nan, pos_over_neg: 415.095947265625 lr: 0.00031623\n",
      "Iter: 506/695, loss_train: 6.6956, loss_val: nan, pos_over_neg: 496.15313720703125 lr: 0.00031623\n",
      "Iter: 507/695, loss_train: 6.6962, loss_val: nan, pos_over_neg: 405.3445129394531 lr: 0.00031623\n",
      "Iter: 508/695, loss_train: 6.697, loss_val: nan, pos_over_neg: 863.7074584960938 lr: 0.00031623\n",
      "Iter: 509/695, loss_train: 6.6973, loss_val: nan, pos_over_neg: 684.4639892578125 lr: 0.00031623\n",
      "Iter: 510/695, loss_train: 6.6962, loss_val: nan, pos_over_neg: 1092.07177734375 lr: 0.00031623\n",
      "Iter: 511/695, loss_train: 6.6981, loss_val: nan, pos_over_neg: 466.32989501953125 lr: 0.00031623\n",
      "Iter: 512/695, loss_train: 6.6936, loss_val: nan, pos_over_neg: 1547.104248046875 lr: 0.00031623\n",
      "Iter: 513/695, loss_train: 6.6991, loss_val: nan, pos_over_neg: 334.54254150390625 lr: 0.00031623\n",
      "Iter: 514/695, loss_train: 6.6937, loss_val: nan, pos_over_neg: 936.0432739257812 lr: 0.00031623\n",
      "Iter: 515/695, loss_train: 6.6948, loss_val: nan, pos_over_neg: 685.9299926757812 lr: 0.00031623\n",
      "Iter: 516/695, loss_train: 6.6953, loss_val: nan, pos_over_neg: 890.0787963867188 lr: 0.00031623\n",
      "Iter: 517/695, loss_train: 6.6942, loss_val: nan, pos_over_neg: 1031.843994140625 lr: 0.00031623\n",
      "Iter: 518/695, loss_train: 6.6948, loss_val: nan, pos_over_neg: 727.0311889648438 lr: 0.00031623\n",
      "Iter: 519/695, loss_train: 6.6932, loss_val: nan, pos_over_neg: 548.8613891601562 lr: 0.00031623\n",
      "Iter: 520/695, loss_train: 6.6931, loss_val: nan, pos_over_neg: 1206.6978759765625 lr: 0.00031623\n",
      "Iter: 521/695, loss_train: 6.693, loss_val: nan, pos_over_neg: 825.7924194335938 lr: 0.00031623\n",
      "Iter: 522/695, loss_train: 6.6963, loss_val: nan, pos_over_neg: 354.9950256347656 lr: 0.00031623\n",
      "Iter: 523/695, loss_train: 6.695, loss_val: nan, pos_over_neg: 806.7460327148438 lr: 0.00031623\n",
      "Iter: 524/695, loss_train: 6.6977, loss_val: nan, pos_over_neg: 1228.72119140625 lr: 0.00031623\n",
      "Iter: 525/695, loss_train: 6.6955, loss_val: nan, pos_over_neg: 914.157958984375 lr: 0.00031623\n",
      "Iter: 526/695, loss_train: 6.6929, loss_val: nan, pos_over_neg: 1001.9102172851562 lr: 0.00031623\n",
      "Iter: 527/695, loss_train: 6.6971, loss_val: nan, pos_over_neg: 766.871826171875 lr: 0.00031623\n",
      "Iter: 528/695, loss_train: 6.697, loss_val: nan, pos_over_neg: 871.0933227539062 lr: 0.00031623\n",
      "Iter: 529/695, loss_train: 6.6946, loss_val: nan, pos_over_neg: 1039.6502685546875 lr: 0.00031623\n",
      "Iter: 530/695, loss_train: 6.6927, loss_val: nan, pos_over_neg: 836.9437866210938 lr: 0.00031623\n",
      "Iter: 531/695, loss_train: 6.6982, loss_val: nan, pos_over_neg: 717.1263427734375 lr: 0.00031623\n",
      "Iter: 532/695, loss_train: 6.6925, loss_val: nan, pos_over_neg: 4596.77392578125 lr: 0.00031623\n",
      "Iter: 533/695, loss_train: 6.6956, loss_val: nan, pos_over_neg: 712.4772338867188 lr: 0.00031623\n",
      "Iter: 534/695, loss_train: 6.6929, loss_val: nan, pos_over_neg: 3103.781494140625 lr: 0.00031623\n",
      "Iter: 535/695, loss_train: 6.6942, loss_val: nan, pos_over_neg: 931.7633666992188 lr: 0.00031623\n",
      "Iter: 536/695, loss_train: 6.6903, loss_val: nan, pos_over_neg: 1950.2315673828125 lr: 0.00031623\n",
      "Iter: 537/695, loss_train: 6.6972, loss_val: nan, pos_over_neg: 925.8720092773438 lr: 0.00031623\n",
      "Iter: 538/695, loss_train: 6.6913, loss_val: nan, pos_over_neg: 1212.6346435546875 lr: 0.00031623\n",
      "Iter: 539/695, loss_train: 6.6948, loss_val: nan, pos_over_neg: 842.926025390625 lr: 0.00031623\n",
      "Iter: 540/695, loss_train: 6.694, loss_val: nan, pos_over_neg: 2745.052978515625 lr: 0.00031623\n",
      "Iter: 541/695, loss_train: 6.6922, loss_val: nan, pos_over_neg: 1542.0809326171875 lr: 0.00031623\n",
      "Iter: 542/695, loss_train: 6.6924, loss_val: nan, pos_over_neg: 1720.9468994140625 lr: 0.00031623\n",
      "Iter: 543/695, loss_train: 6.6964, loss_val: nan, pos_over_neg: 1204.864501953125 lr: 0.00031623\n",
      "Iter: 544/695, loss_train: 6.6944, loss_val: nan, pos_over_neg: 3352.787353515625 lr: 0.00031623\n",
      "Iter: 545/695, loss_train: 6.6934, loss_val: nan, pos_over_neg: 703.087158203125 lr: 0.00031623\n",
      "Iter: 546/695, loss_train: 6.6926, loss_val: nan, pos_over_neg: 819.823486328125 lr: 0.00031623\n",
      "Iter: 547/695, loss_train: 6.6922, loss_val: nan, pos_over_neg: 8365.947265625 lr: 0.00031623\n",
      "Iter: 548/695, loss_train: 6.6919, loss_val: nan, pos_over_neg: 1898.6029052734375 lr: 0.00031623\n",
      "Iter: 549/695, loss_train: 6.6955, loss_val: nan, pos_over_neg: 312.84722900390625 lr: 0.00031623\n",
      "Iter: 550/695, loss_train: 6.6957, loss_val: nan, pos_over_neg: 765.4136962890625 lr: 0.00031623\n",
      "Iter: 551/695, loss_train: 6.693, loss_val: nan, pos_over_neg: 1776.36474609375 lr: 0.00031623\n",
      "Iter: 552/695, loss_train: 6.6964, loss_val: nan, pos_over_neg: 356.88348388671875 lr: 0.00031623\n",
      "Iter: 553/695, loss_train: 6.6937, loss_val: nan, pos_over_neg: 912.4267578125 lr: 0.00031623\n",
      "Iter: 554/695, loss_train: 6.6959, loss_val: nan, pos_over_neg: 640.1858520507812 lr: 0.00031623\n",
      "Iter: 555/695, loss_train: 6.6942, loss_val: nan, pos_over_neg: 415.6936340332031 lr: 0.00031623\n",
      "Iter: 556/695, loss_train: 6.6947, loss_val: nan, pos_over_neg: 492.04193115234375 lr: 0.00031623\n",
      "Iter: 557/695, loss_train: 6.6959, loss_val: nan, pos_over_neg: 426.6793212890625 lr: 0.00031623\n",
      "Iter: 558/695, loss_train: 6.697, loss_val: nan, pos_over_neg: 283.6488952636719 lr: 0.00031623\n",
      "Iter: 559/695, loss_train: 6.6911, loss_val: nan, pos_over_neg: 2086.252197265625 lr: 0.00031623\n",
      "Iter: 560/695, loss_train: 6.6942, loss_val: nan, pos_over_neg: 372.13848876953125 lr: 0.00031623\n",
      "Iter: 561/695, loss_train: 6.695, loss_val: nan, pos_over_neg: 813.419189453125 lr: 0.00031623\n",
      "Iter: 562/695, loss_train: 6.6923, loss_val: nan, pos_over_neg: -12128.1083984375 lr: 0.00031623\n",
      "Iter: 563/695, loss_train: 6.6992, loss_val: nan, pos_over_neg: 644.5462646484375 lr: 0.00031623\n",
      "Iter: 564/695, loss_train: 6.693, loss_val: nan, pos_over_neg: 435.8866271972656 lr: 0.00031623\n",
      "Iter: 565/695, loss_train: 6.6905, loss_val: nan, pos_over_neg: 7014.3369140625 lr: 0.00031623\n",
      "Iter: 566/695, loss_train: 6.692, loss_val: nan, pos_over_neg: 1702.51318359375 lr: 0.00031623\n",
      "Iter: 567/695, loss_train: 6.6944, loss_val: nan, pos_over_neg: 914.7640380859375 lr: 0.00031623\n",
      "Iter: 568/695, loss_train: 6.6948, loss_val: nan, pos_over_neg: 527.007080078125 lr: 0.00031623\n",
      "Iter: 569/695, loss_train: 6.6925, loss_val: nan, pos_over_neg: 2014.1553955078125 lr: 0.00031623\n",
      "Iter: 570/695, loss_train: 6.692, loss_val: nan, pos_over_neg: 863.3746337890625 lr: 0.00031623\n",
      "Iter: 571/695, loss_train: 6.6938, loss_val: nan, pos_over_neg: 446.3247375488281 lr: 0.00031623\n",
      "Iter: 572/695, loss_train: 6.6944, loss_val: nan, pos_over_neg: 687.04248046875 lr: 0.00031623\n",
      "Iter: 573/695, loss_train: 6.696, loss_val: nan, pos_over_neg: 1514.963134765625 lr: 0.00031623\n",
      "Iter: 574/695, loss_train: 6.695, loss_val: nan, pos_over_neg: 777.3390502929688 lr: 0.00031623\n",
      "Iter: 575/695, loss_train: 6.6933, loss_val: nan, pos_over_neg: 346.6030578613281 lr: 0.00031623\n",
      "Iter: 576/695, loss_train: 6.6934, loss_val: nan, pos_over_neg: 1382.2083740234375 lr: 0.00031623\n",
      "Iter: 577/695, loss_train: 6.6933, loss_val: nan, pos_over_neg: 2744.1494140625 lr: 0.00031623\n",
      "Iter: 578/695, loss_train: 6.6941, loss_val: nan, pos_over_neg: 569.5750122070312 lr: 0.00031623\n",
      "Iter: 579/695, loss_train: 6.6945, loss_val: nan, pos_over_neg: 683.4362182617188 lr: 0.00031623\n",
      "Iter: 580/695, loss_train: 6.6931, loss_val: nan, pos_over_neg: 765.9404907226562 lr: 0.00031623\n",
      "Iter: 581/695, loss_train: 6.6933, loss_val: nan, pos_over_neg: 1042.119140625 lr: 0.00031623\n",
      "Iter: 582/695, loss_train: 6.6952, loss_val: nan, pos_over_neg: 2279.548095703125 lr: 0.00031623\n",
      "Iter: 583/695, loss_train: 6.697, loss_val: nan, pos_over_neg: 639.2416381835938 lr: 0.00031623\n",
      "Iter: 584/695, loss_train: 6.6971, loss_val: nan, pos_over_neg: 575.6729125976562 lr: 0.00031623\n",
      "Iter: 585/695, loss_train: 6.6931, loss_val: nan, pos_over_neg: 3246.90625 lr: 0.00031623\n",
      "Iter: 586/695, loss_train: 6.6959, loss_val: nan, pos_over_neg: 1122.5762939453125 lr: 0.00031623\n",
      "Iter: 587/695, loss_train: 6.6961, loss_val: nan, pos_over_neg: 2515.66259765625 lr: 0.00031623\n",
      "Iter: 588/695, loss_train: 6.6949, loss_val: nan, pos_over_neg: 1160.3743896484375 lr: 0.00031623\n",
      "Iter: 589/695, loss_train: 6.6921, loss_val: nan, pos_over_neg: 1850.9735107421875 lr: 0.00031623\n",
      "Iter: 590/695, loss_train: 6.6967, loss_val: nan, pos_over_neg: 1378.0870361328125 lr: 0.00031623\n",
      "Iter: 591/695, loss_train: 6.6923, loss_val: nan, pos_over_neg: 1524.2371826171875 lr: 0.00031623\n",
      "Iter: 592/695, loss_train: 6.6945, loss_val: nan, pos_over_neg: 2672.95849609375 lr: 0.00031623\n",
      "Iter: 593/695, loss_train: 6.6946, loss_val: nan, pos_over_neg: 695.66455078125 lr: 0.00031623\n",
      "Iter: 594/695, loss_train: 6.6939, loss_val: nan, pos_over_neg: 758.6967163085938 lr: 0.00031623\n",
      "Iter: 595/695, loss_train: 6.6923, loss_val: nan, pos_over_neg: 5069.68408203125 lr: 0.00031623\n",
      "Iter: 596/695, loss_train: 6.693, loss_val: nan, pos_over_neg: 429.6333923339844 lr: 0.00031623\n",
      "Iter: 597/695, loss_train: 6.6919, loss_val: nan, pos_over_neg: 2897.676025390625 lr: 0.00031623\n",
      "Iter: 598/695, loss_train: 6.6929, loss_val: nan, pos_over_neg: 1912.119140625 lr: 0.00031623\n",
      "Iter: 599/695, loss_train: 6.6931, loss_val: nan, pos_over_neg: 1244.58642578125 lr: 0.00031623\n",
      "Iter: 600/695, loss_train: 6.6967, loss_val: nan, pos_over_neg: -5792.650390625 lr: 0.00031623\n",
      "Iter: 601/695, loss_train: 6.6907, loss_val: nan, pos_over_neg: 2900.89111328125 lr: 0.00031623\n",
      "Iter: 602/695, loss_train: 6.6969, loss_val: nan, pos_over_neg: 884.9140625 lr: 0.00031623\n",
      "Iter: 603/695, loss_train: 6.6936, loss_val: nan, pos_over_neg: 1118.7183837890625 lr: 0.00031623\n",
      "Iter: 604/695, loss_train: 6.6913, loss_val: nan, pos_over_neg: 838.9308471679688 lr: 0.00031623\n",
      "Iter: 605/695, loss_train: 6.6948, loss_val: nan, pos_over_neg: 817.0419311523438 lr: 0.00031623\n",
      "Iter: 606/695, loss_train: 6.6912, loss_val: nan, pos_over_neg: 2008.842529296875 lr: 0.00031623\n",
      "Iter: 607/695, loss_train: 6.6945, loss_val: nan, pos_over_neg: 866.7637329101562 lr: 0.00031623\n",
      "Iter: 608/695, loss_train: 6.6915, loss_val: nan, pos_over_neg: 1030.008544921875 lr: 0.00031623\n",
      "Iter: 609/695, loss_train: 6.693, loss_val: nan, pos_over_neg: 868.0369873046875 lr: 0.00031623\n",
      "Iter: 610/695, loss_train: 6.6938, loss_val: nan, pos_over_neg: 583.7342529296875 lr: 0.00031623\n",
      "Iter: 611/695, loss_train: 6.6949, loss_val: nan, pos_over_neg: 753.569580078125 lr: 0.00031623\n",
      "Iter: 612/695, loss_train: 6.6947, loss_val: nan, pos_over_neg: 1848.513427734375 lr: 0.00031623\n",
      "Iter: 613/695, loss_train: 6.6907, loss_val: nan, pos_over_neg: 7034.11181640625 lr: 0.00031623\n",
      "Iter: 614/695, loss_train: 6.6941, loss_val: nan, pos_over_neg: 1203.8756103515625 lr: 0.00031623\n",
      "Iter: 615/695, loss_train: 6.6914, loss_val: nan, pos_over_neg: 693.5359497070312 lr: 0.00031623\n",
      "Iter: 616/695, loss_train: 6.692, loss_val: nan, pos_over_neg: 2043.4954833984375 lr: 0.00031623\n",
      "Iter: 617/695, loss_train: 6.6898, loss_val: nan, pos_over_neg: -16064.0341796875 lr: 0.00031623\n",
      "Iter: 618/695, loss_train: 6.6889, loss_val: nan, pos_over_neg: 8647.94140625 lr: 0.00031623\n",
      "Iter: 619/695, loss_train: 6.6977, loss_val: nan, pos_over_neg: 354.6697692871094 lr: 0.00031623\n",
      "Iter: 620/695, loss_train: 6.6902, loss_val: nan, pos_over_neg: 2991.08251953125 lr: 0.00031623\n",
      "Iter: 621/695, loss_train: 6.6946, loss_val: nan, pos_over_neg: 1649.982666015625 lr: 0.00031623\n",
      "Iter: 622/695, loss_train: 6.6911, loss_val: nan, pos_over_neg: 1112.9779052734375 lr: 0.00031623\n",
      "Iter: 623/695, loss_train: 6.6903, loss_val: nan, pos_over_neg: 2446.548828125 lr: 0.00031623\n",
      "Iter: 624/695, loss_train: 6.6906, loss_val: nan, pos_over_neg: 4893.673828125 lr: 0.00031623\n",
      "Iter: 625/695, loss_train: 6.6927, loss_val: nan, pos_over_neg: 776.777587890625 lr: 0.00031623\n",
      "Iter: 626/695, loss_train: 6.69, loss_val: nan, pos_over_neg: 14409.0791015625 lr: 0.00031623\n",
      "Iter: 627/695, loss_train: 6.6942, loss_val: nan, pos_over_neg: 1067.8505859375 lr: 0.00031623\n",
      "Iter: 628/695, loss_train: 6.6923, loss_val: nan, pos_over_neg: 755.995849609375 lr: 0.00031623\n",
      "Iter: 629/695, loss_train: 6.6929, loss_val: nan, pos_over_neg: 980.6729736328125 lr: 0.00031623\n",
      "Iter: 630/695, loss_train: 6.6898, loss_val: nan, pos_over_neg: 5711.6572265625 lr: 0.00031623\n",
      "Iter: 631/695, loss_train: 6.697, loss_val: nan, pos_over_neg: 518.5873413085938 lr: 0.00031623\n",
      "Iter: 632/695, loss_train: 6.6929, loss_val: nan, pos_over_neg: 532.6707153320312 lr: 0.00031623\n",
      "Iter: 633/695, loss_train: 6.6921, loss_val: nan, pos_over_neg: 1121.649169921875 lr: 0.00031623\n",
      "Iter: 634/695, loss_train: 6.6913, loss_val: nan, pos_over_neg: 1347.4617919921875 lr: 0.00031623\n",
      "Iter: 635/695, loss_train: 6.6918, loss_val: nan, pos_over_neg: 1509.4788818359375 lr: 0.00031623\n",
      "Iter: 636/695, loss_train: 6.6917, loss_val: nan, pos_over_neg: 1763.25146484375 lr: 0.00031623\n",
      "Iter: 637/695, loss_train: 6.6905, loss_val: nan, pos_over_neg: 1809.2352294921875 lr: 0.00031623\n",
      "Iter: 638/695, loss_train: 6.692, loss_val: nan, pos_over_neg: 2364.894775390625 lr: 0.00031623\n",
      "Iter: 639/695, loss_train: 6.6892, loss_val: nan, pos_over_neg: 2083.908447265625 lr: 0.00031623\n",
      "Iter: 640/695, loss_train: 6.6915, loss_val: nan, pos_over_neg: 1267.967041015625 lr: 0.00031623\n",
      "Iter: 641/695, loss_train: 6.6941, loss_val: nan, pos_over_neg: 2619.11572265625 lr: 0.00031623\n",
      "Iter: 642/695, loss_train: 6.6883, loss_val: nan, pos_over_neg: 1191.034912109375 lr: 0.00031623\n",
      "Iter: 643/695, loss_train: 6.6913, loss_val: nan, pos_over_neg: 982.9068603515625 lr: 0.00031623\n",
      "Iter: 644/695, loss_train: 6.6925, loss_val: nan, pos_over_neg: 646.62255859375 lr: 0.00031623\n",
      "Iter: 645/695, loss_train: 6.6898, loss_val: nan, pos_over_neg: 3298.306640625 lr: 0.00031623\n",
      "Iter: 646/695, loss_train: 6.6905, loss_val: nan, pos_over_neg: 1092.2801513671875 lr: 0.00031623\n",
      "Iter: 647/695, loss_train: 6.6945, loss_val: nan, pos_over_neg: 523.1516723632812 lr: 0.00031623\n",
      "Iter: 648/695, loss_train: 6.694, loss_val: nan, pos_over_neg: 548.4032592773438 lr: 0.00031623\n",
      "Iter: 649/695, loss_train: 6.6939, loss_val: nan, pos_over_neg: 624.5049438476562 lr: 0.00031623\n",
      "Iter: 650/695, loss_train: 6.694, loss_val: nan, pos_over_neg: 461.4468688964844 lr: 0.00031623\n",
      "Iter: 651/695, loss_train: 6.6909, loss_val: nan, pos_over_neg: 715.8758544921875 lr: 0.00031623\n",
      "Iter: 652/695, loss_train: 6.6914, loss_val: nan, pos_over_neg: 3021.431640625 lr: 0.00031623\n",
      "Iter: 653/695, loss_train: 6.6906, loss_val: nan, pos_over_neg: 3205.5771484375 lr: 0.00031623\n",
      "Iter: 654/695, loss_train: 6.6957, loss_val: nan, pos_over_neg: 490.3219299316406 lr: 0.00031623\n",
      "Iter: 655/695, loss_train: 6.6908, loss_val: nan, pos_over_neg: 1968.43603515625 lr: 0.00031623\n",
      "Iter: 656/695, loss_train: 6.6947, loss_val: nan, pos_over_neg: 1142.29638671875 lr: 0.00031623\n",
      "Iter: 657/695, loss_train: 6.6936, loss_val: nan, pos_over_neg: 837.9735107421875 lr: 0.00031623\n",
      "Iter: 658/695, loss_train: 6.691, loss_val: nan, pos_over_neg: 597.5000610351562 lr: 0.00031623\n",
      "Iter: 659/695, loss_train: 6.6905, loss_val: nan, pos_over_neg: 899.0630493164062 lr: 0.00031623\n",
      "Iter: 660/695, loss_train: 6.6928, loss_val: nan, pos_over_neg: 1466.2406005859375 lr: 0.00031623\n",
      "Iter: 661/695, loss_train: 6.6948, loss_val: nan, pos_over_neg: 544.8462524414062 lr: 0.00031623\n",
      "Iter: 662/695, loss_train: 6.6916, loss_val: nan, pos_over_neg: 869.3985595703125 lr: 0.00031623\n",
      "Iter: 663/695, loss_train: 6.6919, loss_val: nan, pos_over_neg: 977.1268310546875 lr: 0.00031623\n",
      "Iter: 664/695, loss_train: 6.6928, loss_val: nan, pos_over_neg: 1503.8648681640625 lr: 0.00031623\n",
      "Iter: 665/695, loss_train: 6.6937, loss_val: nan, pos_over_neg: 769.024169921875 lr: 0.00031623\n",
      "Iter: 666/695, loss_train: 6.6899, loss_val: nan, pos_over_neg: 1067.1214599609375 lr: 0.00031623\n",
      "Iter: 667/695, loss_train: 6.6979, loss_val: nan, pos_over_neg: 284.1014099121094 lr: 0.00031623\n",
      "Iter: 668/695, loss_train: 6.6896, loss_val: nan, pos_over_neg: 542.8870239257812 lr: 0.00031623\n",
      "Iter: 669/695, loss_train: 6.6927, loss_val: nan, pos_over_neg: 1088.95849609375 lr: 0.00031623\n",
      "Iter: 670/695, loss_train: 6.6954, loss_val: nan, pos_over_neg: 499.1231384277344 lr: 0.00031623\n",
      "Iter: 671/695, loss_train: 6.6899, loss_val: nan, pos_over_neg: 1276.1866455078125 lr: 0.00031623\n",
      "Iter: 672/695, loss_train: 6.6928, loss_val: nan, pos_over_neg: 969.8132934570312 lr: 0.00031623\n",
      "Iter: 673/695, loss_train: 6.6911, loss_val: nan, pos_over_neg: 1109.053955078125 lr: 0.00031623\n",
      "Iter: 674/695, loss_train: 6.6945, loss_val: nan, pos_over_neg: 354.55206298828125 lr: 0.00031623\n",
      "Iter: 675/695, loss_train: 6.6953, loss_val: nan, pos_over_neg: 537.2232666015625 lr: 0.00031623\n",
      "Iter: 676/695, loss_train: 6.691, loss_val: nan, pos_over_neg: 1020.1712036132812 lr: 0.00031623\n",
      "Iter: 677/695, loss_train: 6.6916, loss_val: nan, pos_over_neg: 779.2658081054688 lr: 0.00031623\n",
      "Iter: 678/695, loss_train: 6.6901, loss_val: nan, pos_over_neg: 661.0809936523438 lr: 0.00031623\n",
      "Iter: 679/695, loss_train: 6.6921, loss_val: nan, pos_over_neg: 754.0133666992188 lr: 0.00031623\n",
      "Iter: 680/695, loss_train: 6.6906, loss_val: nan, pos_over_neg: 1435.0565185546875 lr: 0.00031623\n",
      "Iter: 681/695, loss_train: 6.6913, loss_val: nan, pos_over_neg: 735.0895385742188 lr: 0.00031623\n",
      "Iter: 682/695, loss_train: 6.6917, loss_val: nan, pos_over_neg: 901.3749389648438 lr: 0.00031623\n",
      "Iter: 683/695, loss_train: 6.6894, loss_val: nan, pos_over_neg: 644.4229736328125 lr: 0.00031623\n",
      "Iter: 684/695, loss_train: 6.6913, loss_val: nan, pos_over_neg: 792.9304809570312 lr: 0.00031623\n",
      "Iter: 685/695, loss_train: 6.6892, loss_val: nan, pos_over_neg: 733.2177124023438 lr: 0.00031623\n",
      "Iter: 686/695, loss_train: 6.6924, loss_val: nan, pos_over_neg: 689.099609375 lr: 0.00031623\n",
      "Iter: 687/695, loss_train: 6.6917, loss_val: nan, pos_over_neg: 1932.11328125 lr: 0.00031623\n",
      "Iter: 688/695, loss_train: 6.691, loss_val: nan, pos_over_neg: 3138.427001953125 lr: 0.00031623\n",
      "Iter: 689/695, loss_train: 6.6912, loss_val: nan, pos_over_neg: 5090.28125 lr: 0.00031623\n",
      "Iter: 690/695, loss_train: 6.6932, loss_val: nan, pos_over_neg: 928.8908081054688 lr: 0.00031623\n",
      "Iter: 691/695, loss_train: 6.6922, loss_val: nan, pos_over_neg: 831.1058349609375 lr: 0.00031623\n",
      "Iter: 692/695, loss_train: 6.6916, loss_val: nan, pos_over_neg: 1857.5518798828125 lr: 0.00031623\n",
      "Iter: 693/695, loss_train: 6.6892, loss_val: nan, pos_over_neg: 2669.978271484375 lr: 0.00031623\n",
      "Iter: 694/695, loss_train: 6.6903, loss_val: nan, pos_over_neg: 651.4429931640625 lr: 0.00031623\n"
     ]
    },
    {
     "name": "stderr",
     "output_type": "stream",
     "text": [
      "  0%|          | 1/300000 [21:40<108350:20:19, 1300.21s/it]"
     ]
    },
    {
     "name": "stdout",
     "output_type": "stream",
     "text": [
      "epoch: 1\n"
     ]
    },
    {
     "name": "stderr",
     "output_type": "stream",
     "text": [
      "  0%|          | 1/300000 [21:46<108906:36:04, 1306.88s/it]\n"
     ]
    },
    {
     "ename": "RuntimeError",
     "evalue": "DataLoader worker (pid(s) 141637) exited unexpectedly",
     "output_type": "error",
     "traceback": [
      "\u001b[0;31m---------------------------------------------------------------------------\u001b[0m",
      "\u001b[0;31mRuntimeError\u001b[0m                              Traceback (most recent call last)",
      "\u001b[0;32m~/.conda/envs/jupyter_launcher/lib/python3.8/site-packages/torch/utils/data/dataloader.py\u001b[0m in \u001b[0;36m_try_get_data\u001b[0;34m(self, timeout)\u001b[0m\n\u001b[1;32m    989\u001b[0m         \u001b[0;32mtry\u001b[0m\u001b[0;34m:\u001b[0m\u001b[0;34m\u001b[0m\u001b[0;34m\u001b[0m\u001b[0m\n\u001b[0;32m--> 990\u001b[0;31m             \u001b[0mdata\u001b[0m \u001b[0;34m=\u001b[0m \u001b[0mself\u001b[0m\u001b[0;34m.\u001b[0m\u001b[0m_data_queue\u001b[0m\u001b[0;34m.\u001b[0m\u001b[0mget\u001b[0m\u001b[0;34m(\u001b[0m\u001b[0mtimeout\u001b[0m\u001b[0;34m=\u001b[0m\u001b[0mtimeout\u001b[0m\u001b[0;34m)\u001b[0m\u001b[0;34m\u001b[0m\u001b[0;34m\u001b[0m\u001b[0m\n\u001b[0m\u001b[1;32m    991\u001b[0m             \u001b[0;32mreturn\u001b[0m \u001b[0;34m(\u001b[0m\u001b[0;32mTrue\u001b[0m\u001b[0;34m,\u001b[0m \u001b[0mdata\u001b[0m\u001b[0;34m)\u001b[0m\u001b[0;34m\u001b[0m\u001b[0;34m\u001b[0m\u001b[0m\n",
      "\u001b[0;32m~/.conda/envs/jupyter_launcher/lib/python3.8/queue.py\u001b[0m in \u001b[0;36mget\u001b[0;34m(self, block, timeout)\u001b[0m\n\u001b[1;32m    178\u001b[0m                         \u001b[0;32mraise\u001b[0m \u001b[0mEmpty\u001b[0m\u001b[0;34m\u001b[0m\u001b[0;34m\u001b[0m\u001b[0m\n\u001b[0;32m--> 179\u001b[0;31m                     \u001b[0mself\u001b[0m\u001b[0;34m.\u001b[0m\u001b[0mnot_empty\u001b[0m\u001b[0;34m.\u001b[0m\u001b[0mwait\u001b[0m\u001b[0;34m(\u001b[0m\u001b[0mremaining\u001b[0m\u001b[0;34m)\u001b[0m\u001b[0;34m\u001b[0m\u001b[0;34m\u001b[0m\u001b[0m\n\u001b[0m\u001b[1;32m    180\u001b[0m             \u001b[0mitem\u001b[0m \u001b[0;34m=\u001b[0m \u001b[0mself\u001b[0m\u001b[0;34m.\u001b[0m\u001b[0m_get\u001b[0m\u001b[0;34m(\u001b[0m\u001b[0;34m)\u001b[0m\u001b[0;34m\u001b[0m\u001b[0;34m\u001b[0m\u001b[0m\n",
      "\u001b[0;32m~/.conda/envs/jupyter_launcher/lib/python3.8/threading.py\u001b[0m in \u001b[0;36mwait\u001b[0;34m(self, timeout)\u001b[0m\n\u001b[1;32m    305\u001b[0m                 \u001b[0;32mif\u001b[0m \u001b[0mtimeout\u001b[0m \u001b[0;34m>\u001b[0m \u001b[0;36m0\u001b[0m\u001b[0;34m:\u001b[0m\u001b[0;34m\u001b[0m\u001b[0;34m\u001b[0m\u001b[0m\n\u001b[0;32m--> 306\u001b[0;31m                     \u001b[0mgotit\u001b[0m \u001b[0;34m=\u001b[0m \u001b[0mwaiter\u001b[0m\u001b[0;34m.\u001b[0m\u001b[0macquire\u001b[0m\u001b[0;34m(\u001b[0m\u001b[0;32mTrue\u001b[0m\u001b[0;34m,\u001b[0m \u001b[0mtimeout\u001b[0m\u001b[0;34m)\u001b[0m\u001b[0;34m\u001b[0m\u001b[0;34m\u001b[0m\u001b[0m\n\u001b[0m\u001b[1;32m    307\u001b[0m                 \u001b[0;32melse\u001b[0m\u001b[0;34m:\u001b[0m\u001b[0;34m\u001b[0m\u001b[0;34m\u001b[0m\u001b[0m\n",
      "\u001b[0;32m~/.conda/envs/jupyter_launcher/lib/python3.8/site-packages/torch/utils/data/_utils/signal_handling.py\u001b[0m in \u001b[0;36mhandler\u001b[0;34m(signum, frame)\u001b[0m\n\u001b[1;32m     65\u001b[0m         \u001b[0;31m# Python can still get and update the process status successfully.\u001b[0m\u001b[0;34m\u001b[0m\u001b[0;34m\u001b[0m\u001b[0;34m\u001b[0m\u001b[0m\n\u001b[0;32m---> 66\u001b[0;31m         \u001b[0m_error_if_any_worker_fails\u001b[0m\u001b[0;34m(\u001b[0m\u001b[0;34m)\u001b[0m\u001b[0;34m\u001b[0m\u001b[0;34m\u001b[0m\u001b[0m\n\u001b[0m\u001b[1;32m     67\u001b[0m         \u001b[0;32mif\u001b[0m \u001b[0mprevious_handler\u001b[0m \u001b[0;32mis\u001b[0m \u001b[0;32mnot\u001b[0m \u001b[0;32mNone\u001b[0m\u001b[0;34m:\u001b[0m\u001b[0;34m\u001b[0m\u001b[0;34m\u001b[0m\u001b[0m\n",
      "\u001b[0;31mRuntimeError\u001b[0m: DataLoader worker (pid 141637) is killed by signal: Killed. ",
      "\nThe above exception was the direct cause of the following exception:\n",
      "\u001b[0;31mRuntimeError\u001b[0m                              Traceback (most recent call last)",
      "\u001b[0;32m/tmp/ipykernel_140888/1990851253.py\u001b[0m in \u001b[0;36m<module>\u001b[0;34m\u001b[0m\n\u001b[1;32m      8\u001b[0m \u001b[0;32mfor\u001b[0m \u001b[0mepoch\u001b[0m \u001b[0;32min\u001b[0m \u001b[0mtqdm\u001b[0m\u001b[0;34m(\u001b[0m\u001b[0mrange\u001b[0m\u001b[0;34m(\u001b[0m\u001b[0mn_epochs\u001b[0m\u001b[0;34m)\u001b[0m\u001b[0;34m)\u001b[0m\u001b[0;34m:\u001b[0m\u001b[0;34m\u001b[0m\u001b[0;34m\u001b[0m\u001b[0m\n\u001b[1;32m      9\u001b[0m     \u001b[0mprint\u001b[0m\u001b[0;34m(\u001b[0m\u001b[0;34mf'epoch: {epoch}'\u001b[0m\u001b[0;34m)\u001b[0m\u001b[0;34m\u001b[0m\u001b[0;34m\u001b[0m\u001b[0m\n\u001b[0;32m---> 10\u001b[0;31m     loss_rolling_train = training_simCLR.epoch_step(dataloader_train, \n\u001b[0m\u001b[1;32m     11\u001b[0m                                     \u001b[0mmodel\u001b[0m\u001b[0;34m,\u001b[0m\u001b[0;34m\u001b[0m\u001b[0;34m\u001b[0m\u001b[0m\n\u001b[1;32m     12\u001b[0m                                     \u001b[0moptimizer\u001b[0m\u001b[0;34m,\u001b[0m\u001b[0;34m\u001b[0m\u001b[0;34m\u001b[0m\u001b[0m\n",
      "\u001b[0;32m/n/data1/hms/neurobio/sabatini/josh/github_repos/GCaMP_ROI_classifier/new_stuff/training_simCLR.py\u001b[0m in \u001b[0;36mepoch_step\u001b[0;34m(dataloader, model, optimizer, criterion, scheduler, temperature, L2_alpha, mode, loss_rolling_train, loss_rolling_val, device, do_validation, validation_Object, verbose, verbose_update_period, X_val, y_val)\u001b[0m\n\u001b[1;32m    173\u001b[0m         \u001b[0mprint\u001b[0m\u001b[0;34m(\u001b[0m\u001b[0;34mf'Iter: {batch}/{n_batches}, loss_train: {loss_train:.{precis}}, loss_val: {loss_val:.{precis}}, pos_over_neg: {pos_over_neg} lr: {learning_rate:.{precis}}'\u001b[0m\u001b[0;34m)\u001b[0m\u001b[0;34m\u001b[0m\u001b[0;34m\u001b[0m\u001b[0m\n\u001b[1;32m    174\u001b[0m \u001b[0;34m\u001b[0m\u001b[0m\n\u001b[0;32m--> 175\u001b[0;31m     \u001b[0;32mfor\u001b[0m \u001b[0mi_batch\u001b[0m\u001b[0;34m,\u001b[0m \u001b[0;34m(\u001b[0m\u001b[0mX_batch\u001b[0m\u001b[0;34m,\u001b[0m \u001b[0my_batch\u001b[0m\u001b[0;34m,\u001b[0m \u001b[0midx_batch\u001b[0m\u001b[0;34m,\u001b[0m \u001b[0msample_weights\u001b[0m\u001b[0;34m)\u001b[0m \u001b[0;32min\u001b[0m \u001b[0menumerate\u001b[0m\u001b[0;34m(\u001b[0m\u001b[0mdataloader\u001b[0m\u001b[0;34m)\u001b[0m\u001b[0;34m:\u001b[0m\u001b[0;34m\u001b[0m\u001b[0;34m\u001b[0m\u001b[0m\n\u001b[0m\u001b[1;32m    176\u001b[0m         \u001b[0;31m# for param in util.get_trainable_parameters(model):\u001b[0m\u001b[0;34m\u001b[0m\u001b[0;34m\u001b[0m\u001b[0;34m\u001b[0m\u001b[0m\n\u001b[1;32m    177\u001b[0m         \u001b[0;31m#     print(torch.linalg.norm(param))\u001b[0m\u001b[0;34m\u001b[0m\u001b[0;34m\u001b[0m\u001b[0;34m\u001b[0m\u001b[0m\n",
      "\u001b[0;32m~/.conda/envs/jupyter_launcher/lib/python3.8/site-packages/torch/utils/data/dataloader.py\u001b[0m in \u001b[0;36m__next__\u001b[0;34m(self)\u001b[0m\n\u001b[1;32m    519\u001b[0m             \u001b[0;32mif\u001b[0m \u001b[0mself\u001b[0m\u001b[0;34m.\u001b[0m\u001b[0m_sampler_iter\u001b[0m \u001b[0;32mis\u001b[0m \u001b[0;32mNone\u001b[0m\u001b[0;34m:\u001b[0m\u001b[0;34m\u001b[0m\u001b[0;34m\u001b[0m\u001b[0m\n\u001b[1;32m    520\u001b[0m                 \u001b[0mself\u001b[0m\u001b[0;34m.\u001b[0m\u001b[0m_reset\u001b[0m\u001b[0;34m(\u001b[0m\u001b[0;34m)\u001b[0m\u001b[0;34m\u001b[0m\u001b[0;34m\u001b[0m\u001b[0m\n\u001b[0;32m--> 521\u001b[0;31m             \u001b[0mdata\u001b[0m \u001b[0;34m=\u001b[0m \u001b[0mself\u001b[0m\u001b[0;34m.\u001b[0m\u001b[0m_next_data\u001b[0m\u001b[0;34m(\u001b[0m\u001b[0;34m)\u001b[0m\u001b[0;34m\u001b[0m\u001b[0;34m\u001b[0m\u001b[0m\n\u001b[0m\u001b[1;32m    522\u001b[0m             \u001b[0mself\u001b[0m\u001b[0;34m.\u001b[0m\u001b[0m_num_yielded\u001b[0m \u001b[0;34m+=\u001b[0m \u001b[0;36m1\u001b[0m\u001b[0;34m\u001b[0m\u001b[0;34m\u001b[0m\u001b[0m\n\u001b[1;32m    523\u001b[0m             \u001b[0;32mif\u001b[0m \u001b[0mself\u001b[0m\u001b[0;34m.\u001b[0m\u001b[0m_dataset_kind\u001b[0m \u001b[0;34m==\u001b[0m \u001b[0m_DatasetKind\u001b[0m\u001b[0;34m.\u001b[0m\u001b[0mIterable\u001b[0m \u001b[0;32mand\u001b[0m\u001b[0;31m \u001b[0m\u001b[0;31m\\\u001b[0m\u001b[0;34m\u001b[0m\u001b[0;34m\u001b[0m\u001b[0m\n",
      "\u001b[0;32m~/.conda/envs/jupyter_launcher/lib/python3.8/site-packages/torch/utils/data/dataloader.py\u001b[0m in \u001b[0;36m_next_data\u001b[0;34m(self)\u001b[0m\n\u001b[1;32m   1184\u001b[0m \u001b[0;34m\u001b[0m\u001b[0m\n\u001b[1;32m   1185\u001b[0m             \u001b[0;32massert\u001b[0m \u001b[0;32mnot\u001b[0m \u001b[0mself\u001b[0m\u001b[0;34m.\u001b[0m\u001b[0m_shutdown\u001b[0m \u001b[0;32mand\u001b[0m \u001b[0mself\u001b[0m\u001b[0;34m.\u001b[0m\u001b[0m_tasks_outstanding\u001b[0m \u001b[0;34m>\u001b[0m \u001b[0;36m0\u001b[0m\u001b[0;34m\u001b[0m\u001b[0;34m\u001b[0m\u001b[0m\n\u001b[0;32m-> 1186\u001b[0;31m             \u001b[0midx\u001b[0m\u001b[0;34m,\u001b[0m \u001b[0mdata\u001b[0m \u001b[0;34m=\u001b[0m \u001b[0mself\u001b[0m\u001b[0;34m.\u001b[0m\u001b[0m_get_data\u001b[0m\u001b[0;34m(\u001b[0m\u001b[0;34m)\u001b[0m\u001b[0;34m\u001b[0m\u001b[0;34m\u001b[0m\u001b[0m\n\u001b[0m\u001b[1;32m   1187\u001b[0m             \u001b[0mself\u001b[0m\u001b[0;34m.\u001b[0m\u001b[0m_tasks_outstanding\u001b[0m \u001b[0;34m-=\u001b[0m \u001b[0;36m1\u001b[0m\u001b[0;34m\u001b[0m\u001b[0;34m\u001b[0m\u001b[0m\n\u001b[1;32m   1188\u001b[0m             \u001b[0;32mif\u001b[0m \u001b[0mself\u001b[0m\u001b[0;34m.\u001b[0m\u001b[0m_dataset_kind\u001b[0m \u001b[0;34m==\u001b[0m \u001b[0m_DatasetKind\u001b[0m\u001b[0;34m.\u001b[0m\u001b[0mIterable\u001b[0m\u001b[0;34m:\u001b[0m\u001b[0;34m\u001b[0m\u001b[0;34m\u001b[0m\u001b[0m\n",
      "\u001b[0;32m~/.conda/envs/jupyter_launcher/lib/python3.8/site-packages/torch/utils/data/dataloader.py\u001b[0m in \u001b[0;36m_get_data\u001b[0;34m(self)\u001b[0m\n\u001b[1;32m   1140\u001b[0m         \u001b[0;32melif\u001b[0m \u001b[0mself\u001b[0m\u001b[0;34m.\u001b[0m\u001b[0m_pin_memory\u001b[0m\u001b[0;34m:\u001b[0m\u001b[0;34m\u001b[0m\u001b[0;34m\u001b[0m\u001b[0m\n\u001b[1;32m   1141\u001b[0m             \u001b[0;32mwhile\u001b[0m \u001b[0mself\u001b[0m\u001b[0;34m.\u001b[0m\u001b[0m_pin_memory_thread\u001b[0m\u001b[0;34m.\u001b[0m\u001b[0mis_alive\u001b[0m\u001b[0;34m(\u001b[0m\u001b[0;34m)\u001b[0m\u001b[0;34m:\u001b[0m\u001b[0;34m\u001b[0m\u001b[0;34m\u001b[0m\u001b[0m\n\u001b[0;32m-> 1142\u001b[0;31m                 \u001b[0msuccess\u001b[0m\u001b[0;34m,\u001b[0m \u001b[0mdata\u001b[0m \u001b[0;34m=\u001b[0m \u001b[0mself\u001b[0m\u001b[0;34m.\u001b[0m\u001b[0m_try_get_data\u001b[0m\u001b[0;34m(\u001b[0m\u001b[0;34m)\u001b[0m\u001b[0;34m\u001b[0m\u001b[0;34m\u001b[0m\u001b[0m\n\u001b[0m\u001b[1;32m   1143\u001b[0m                 \u001b[0;32mif\u001b[0m \u001b[0msuccess\u001b[0m\u001b[0;34m:\u001b[0m\u001b[0;34m\u001b[0m\u001b[0;34m\u001b[0m\u001b[0m\n\u001b[1;32m   1144\u001b[0m                     \u001b[0;32mreturn\u001b[0m \u001b[0mdata\u001b[0m\u001b[0;34m\u001b[0m\u001b[0;34m\u001b[0m\u001b[0m\n",
      "\u001b[0;32m~/.conda/envs/jupyter_launcher/lib/python3.8/site-packages/torch/utils/data/dataloader.py\u001b[0m in \u001b[0;36m_try_get_data\u001b[0;34m(self, timeout)\u001b[0m\n\u001b[1;32m   1001\u001b[0m             \u001b[0;32mif\u001b[0m \u001b[0mlen\u001b[0m\u001b[0;34m(\u001b[0m\u001b[0mfailed_workers\u001b[0m\u001b[0;34m)\u001b[0m \u001b[0;34m>\u001b[0m \u001b[0;36m0\u001b[0m\u001b[0;34m:\u001b[0m\u001b[0;34m\u001b[0m\u001b[0;34m\u001b[0m\u001b[0m\n\u001b[1;32m   1002\u001b[0m                 \u001b[0mpids_str\u001b[0m \u001b[0;34m=\u001b[0m \u001b[0;34m', '\u001b[0m\u001b[0;34m.\u001b[0m\u001b[0mjoin\u001b[0m\u001b[0;34m(\u001b[0m\u001b[0mstr\u001b[0m\u001b[0;34m(\u001b[0m\u001b[0mw\u001b[0m\u001b[0;34m.\u001b[0m\u001b[0mpid\u001b[0m\u001b[0;34m)\u001b[0m \u001b[0;32mfor\u001b[0m \u001b[0mw\u001b[0m \u001b[0;32min\u001b[0m \u001b[0mfailed_workers\u001b[0m\u001b[0;34m)\u001b[0m\u001b[0;34m\u001b[0m\u001b[0;34m\u001b[0m\u001b[0m\n\u001b[0;32m-> 1003\u001b[0;31m                 \u001b[0;32mraise\u001b[0m \u001b[0mRuntimeError\u001b[0m\u001b[0;34m(\u001b[0m\u001b[0;34m'DataLoader worker (pid(s) {}) exited unexpectedly'\u001b[0m\u001b[0;34m.\u001b[0m\u001b[0mformat\u001b[0m\u001b[0;34m(\u001b[0m\u001b[0mpids_str\u001b[0m\u001b[0;34m)\u001b[0m\u001b[0;34m)\u001b[0m \u001b[0;32mfrom\u001b[0m \u001b[0me\u001b[0m\u001b[0;34m\u001b[0m\u001b[0;34m\u001b[0m\u001b[0m\n\u001b[0m\u001b[1;32m   1004\u001b[0m             \u001b[0;32mif\u001b[0m \u001b[0misinstance\u001b[0m\u001b[0;34m(\u001b[0m\u001b[0me\u001b[0m\u001b[0;34m,\u001b[0m \u001b[0mqueue\u001b[0m\u001b[0;34m.\u001b[0m\u001b[0mEmpty\u001b[0m\u001b[0;34m)\u001b[0m\u001b[0;34m:\u001b[0m\u001b[0;34m\u001b[0m\u001b[0;34m\u001b[0m\u001b[0m\n\u001b[1;32m   1005\u001b[0m                 \u001b[0;32mreturn\u001b[0m \u001b[0;34m(\u001b[0m\u001b[0;32mFalse\u001b[0m\u001b[0;34m,\u001b[0m \u001b[0;32mNone\u001b[0m\u001b[0;34m)\u001b[0m\u001b[0;34m\u001b[0m\u001b[0;34m\u001b[0m\u001b[0m\n",
      "\u001b[0;31mRuntimeError\u001b[0m: DataLoader worker (pid(s) 141637) exited unexpectedly"
     ]
    }
   ],
   "source": [
    "model_file_name = 'ResNet18_simCLR_model_202112078_EOD_transfmod=norm'\n",
    "model.forward = model.forward_latent\n",
    "\n",
    "\n",
    "l2_alpha = 0.000\n",
    "\n",
    "n_epochs=300000\n",
    "for epoch in tqdm(range(n_epochs)):\n",
    "    print(f'epoch: {epoch}')\n",
    "    loss_rolling_train = training_simCLR.epoch_step(dataloader_train, \n",
    "                                    model, \n",
    "                                    optimizer, \n",
    "                                    criterion,\n",
    "                                    scheduler=scheduler,\n",
    "                                    temperature=0.5,\n",
    "                                    # l2_alpha,\n",
    "                                    mode='semi-supervised',\n",
    "                                    loss_rolling_train=losses_train, \n",
    "                                    loss_rolling_val=losses_val,\n",
    "                                    device=DEVICE, \n",
    "                                    verbose=2,\n",
    "                                    verbose_update_period=1,\n",
    "                                   \n",
    "#                                     do_validation=False,\n",
    "#                                     X_val=x_feed_through_val,\n",
    "#                                     y_val=torch.as_tensor(y_val, device=DEVICE)\n",
    "                                   )\n",
    "    \n",
    "    \n",
    "    torch.save(model.state_dict(), f'{base_dir}/github_repos/GCaMP_ROI_classifier/new_stuff/models/{model_file_name}.pth')\n",
    "\n",
    "    losses_train_npy = np.array(losses_train)\n",
    "    losses_val_npy = np.array(losses_val)\n",
    "    val_accs_npy = np.array(val_accs)\n",
    "    acc_npy = np.array(acc)\n",
    "\n",
    "    np.save(f'{base_dir}/github_repos/GCaMP_ROI_classifier/new_stuff/model_performance/{model_file_name}_losses_train.npy', losses_train_npy)\n",
    "    np.save(f'{base_dir}/github_repos/GCaMP_ROI_classifier/new_stuff/model_performance/{model_file_name}_losses_val.npy', losses_val_npy)\n",
    "    np.save(f'{base_dir}/github_repos/GCaMP_ROI_classifier/new_stuff/model_performance/{model_file_name}_val_accs.npy', val_accs_npy)\n",
    "    np.save(f'{base_dir}/github_repos/GCaMP_ROI_classifier/new_stuff/model_performance/{model_file_name}_tr_accs.npy', acc_npy)"
   ]
  },
  {
   "cell_type": "code",
   "execution_count": null,
   "metadata": {},
   "outputs": [],
   "source": [
    "break"
   ]
  },
  {
   "cell_type": "code",
   "execution_count": null,
   "metadata": {
    "colab": {
     "base_uri": "https://localhost:8080/",
     "height": 421
    },
    "id": "af10GlccgaV4",
    "outputId": "2ec75ade-6308-4a67-89e4-4bf3f996f746"
   },
   "outputs": [],
   "source": [
    "# import seaborn as sns\n",
    "# sns.set(style='white', palette='bright', context='poster')\n",
    "plt.rcdefaults()\n",
    "\n",
    "%matplotlib inline\n",
    "plt.figure(figsize=(12,6))\n",
    "plt.plot(losses_train, label='Training Loss')\n",
    "plt.plot(losses_val, label='Validation Loss')\n",
    "plt.title(f'Loss — Balanced Transfer Learning, No Data Augmentation, L2 Lambda = {l2_alpha}')\n",
    "plt.legend()\n",
    "plt.grid()\n",
    "plt.xlabel('Epoch Step')\n",
    "plt.ylabel('Loss')\n",
    "# plt.savefig('./Training-Loss.png')"
   ]
  },
  {
   "cell_type": "raw",
   "metadata": {
    "colab": {
     "base_uri": "https://localhost:8080/",
     "height": 706
    },
    "id": "Cl4TSsfc2MDy",
    "outputId": "ccc80bf3-a191-49ec-e635-dce022144cbe"
   },
   "source": [
    "%matplotlib inline\n",
    "plt.figure(figsize=(12,12))\n",
    "# val_transfer_cm = get_cm(features_val, y_val)\n",
    "# plt.imshow(val_transfer_cm)\n",
    "test_transfer_cm = get_cm(features_test, y_test)\n",
    "plt.imshow(test_transfer_cm)\n",
    "plt.colorbar()\n",
    "\n",
    "for i in range(test_transfer_cm.shape[0]):\n",
    "    for j in range(test_transfer_cm.shape[1]):\n",
    "        plt.annotate(np.round(test_transfer_cm[i,j], 3), (j,i), ha='center')\n",
    "plt.title(f'Test Confusion Matrix — Balanced Transfer Learning, No Augmentation, L2 Lambda = {l2_alpha}')\n",
    "plt.xlabel('True Class')\n",
    "plt.ylabel('Predicted Class')\n",
    "# plt.savefig('./Confusion-Matrix.png')\n"
   ]
  },
  {
   "cell_type": "code",
   "execution_count": null,
   "metadata": {
    "id": "rU8l0eP02TQR"
   },
   "outputs": [],
   "source": [
    "model_file_name = 'ResNet18_simCLR_model_202112078_temp=1.0'\n",
    "\n",
    "# torch.save(model.state_dict(), '/media/rich/Home_Linux_partition/github_repos/GCaMP_ROI_classifier/new_stuff/models/ResNet18_simCLR_model_20211205_3.pth')\n",
    "torch.save(model.state_dict(), f'{base_dir}/github_repos/GCaMP_ROI_classifier/new_stuff/models/{model_file_name}.pth')"
   ]
  },
  {
   "cell_type": "code",
   "execution_count": null,
   "metadata": {},
   "outputs": [],
   "source": [
    "# model.load_state_dict(torch.load('/media/rich/Home_Linux_partition/github_repos/GCaMP_ROI_classifier/new_stuff/models/ResNet18_simCLR_model_20211205_2.pth'))\n",
    "model.load_state_dict(torch.load(f'{base_dir}/github_repos/GCaMP_ROI_classifier/new_stuff/models/{model_file_name}.pth'))"
   ]
  },
  {
   "cell_type": "code",
   "execution_count": null,
   "metadata": {},
   "outputs": [],
   "source": [
    "losses_train_npy = np.array(losses_train)\n",
    "losses_val_npy = np.array(losses_val)\n",
    "val_accs_npy = np.array(val_accs)\n",
    "acc_npy = np.array(acc)\n",
    "\n",
    "np.save(f'{base_dir}/github_repos/GCaMP_ROI_classifier/new_stuff/model_performance/{model_file_name}_losses_train.npy', losses_train_npy)\n",
    "np.save(f'{base_dir}/github_repos/GCaMP_ROI_classifier/new_stuff/model_performance/{model_file_name}_losses_val.npy', losses_val_npy)\n",
    "np.save(f'{base_dir}/github_repos/GCaMP_ROI_classifier/new_stuff/model_performance/{model_file_name}_val_accs.npy', val_accs_npy)\n",
    "np.save(f'{base_dir}/github_repos/GCaMP_ROI_classifier/new_stuff/model_performance/{model_file_name}_tr_accs.npy', acc_npy)"
   ]
  },
  {
   "cell_type": "code",
   "execution_count": null,
   "metadata": {},
   "outputs": [],
   "source": []
  },
  {
   "cell_type": "markdown",
   "metadata": {
    "id": "FEqA0gLPl3-6"
   },
   "source": [
    "## Train classifier using classifier layers of model (or do supervised learning)"
   ]
  },
  {
   "cell_type": "raw",
   "metadata": {
    "id": "fmMkNykeVHbn"
   },
   "source": [
    "test_transfer_cm = get_cm(features_test, y_test)\n",
    "np.save(f'/content/drive/MyDrive/00 - ROI/GCaMP_ROI_classifier/new_stuff/npy-figures/TestingCM-{\"Un\" if not balanced else \"\"}Balanced-Transfer—L2Lambda={l2_alpha}.npy',\n",
    "        test_transfer_cm)\n",
    "torch.save(model.state_dict(), f'/content/drive/MyDrive/00 - ROI/GCaMP_ROI_classifier/new_stuff/npy-figures/TestingCM-{\"Un\" if not balanced else \"\"}Balanced-Transfer—L2Lambda={l2_alpha}.pth')\n",
    "\n",
    "np.save(f'/content/drive/MyDrive/00 - ROI/GCaMP_ROI_classifier/new_stuff/npy-figures/TestingCM-{\"Un\" if not balanced else \"\"}Balanced-SKLearn-Solver={solver}—C={C_reg}.npy',\n",
    "        logistic_pred_test)"
   ]
  },
  {
   "cell_type": "raw",
   "metadata": {
    "id": "zo42G3CeWozY"
   },
   "source": [
    "from sklearn.metrics import confusion_matrix\n",
    "\n",
    "def get_cm(pred_cm, y_cm, plot=False):\n",
    "  ### NOTE — RETURNS A MATRIX WITH PREDICTION NUM ASSOCIATED WITH ROW NUM\n",
    "  ### AND COLUMN NUM ASSOCIATED WITH TRUE VALUE. (TRANSPOSE OF SKLEARN OUTPUT.)\n",
    "\n",
    "  cm = confusion_matrix(y_cm, np.argmax(pred_cm, -1))\n",
    "  cm = cm / np.where(cm.sum(1, keepdims=True)==0, np.ones_like(cm.sum(1, keepdims=True)), cm.sum(1, keepdims=True))\n",
    "  \n",
    "  # cm = classification.confusion_matrix(y_hat, y_labeled_val)\n",
    "  # print(cm)\n",
    "  \n",
    "  if plot:\n",
    "    plt.figure()\n",
    "    plt.imshow(cm)\n",
    "    plt.colorbar()\n",
    "    plt.show()\n",
    "  \n",
    "  return cm.T"
   ]
  },
  {
   "cell_type": "raw",
   "metadata": {
    "colab": {
     "base_uri": "https://localhost:8080/"
    },
    "id": "YWk_NgpNd2Ia",
    "outputId": "2959f230-bd91-46cd-e898-d270aade7e54"
   },
   "source": [
    "num_tr_ex = X_val.shape[0]\n",
    "\n",
    "\n",
    "# solver = 'lbfgs'\n",
    "solver = 'liblinear'\n",
    "# solver = 'newton-cg'\n",
    "C_reg = 0.01\n",
    "# C_reg = 0.0001\n",
    "\n",
    "\n",
    "# logreg = LogisticRegression(solver=solver, C=C_reg)\n",
    "# logreg = LogisticRegression(solver=solver, penalty='none', )\n",
    "# logreg = LogisticRegression(solver=solver, penalty='none', max_iter=4000)\n",
    "# logreg = LogisticRegression(solver=solver)\n",
    "logreg = LogisticRegression(solver=solver, C=C_reg)\n",
    "# logreg = LogisticRegression(solver='lbfgs', penalty='none', max_iter=4000)\n",
    "\n",
    "# base_features_train = base_model_frozen(x_feed_through_tr).detach().cpu()\n",
    "base_features_train = cpu_tr.cpu().detach().numpy()\n",
    "logreg.fit(base_features_train, y_train)\n",
    "\n",
    "# base_features_val = base_model_frozen(x_feed_through_val).detach().cpu()\n",
    "base_features_val = cpu_val.cpu().detach().numpy()\n",
    "\n",
    "base_features_te = cpu_te.cpu().detach().numpy()\n",
    "\n",
    "# base_model_frozen.to('cpu')\n",
    "# X_labeled_train.to('cpu')\n",
    "\n",
    "logistic_pred_train = get_cm(logreg.predict_proba(base_features_train), y_train)\n",
    "logistic_pred_val = get_cm(logreg.predict_proba(base_features_val), y_val)\n",
    "logistic_pred_test = get_cm(logreg.predict_proba(base_features_te), y_test)\n",
    "\n",
    "\n",
    "x_feed_through_tr.to(DEVICE)\n",
    "x_feed_through_val.to(DEVICE)\n",
    "x_feed_through_te.to(DEVICE)\n",
    "\n",
    "print(x_feed_through_tr.shape, x_feed_through_val.shape)"
   ]
  },
  {
   "cell_type": "code",
   "execution_count": null,
   "metadata": {
    "id": "WLH9o3jLl4G_"
   },
   "outputs": [],
   "source": []
  },
  {
   "cell_type": "markdown",
   "metadata": {
    "id": "QjNJk6Qwl4O3"
   },
   "source": [
    "Freeze pre-head layers, unfreeze classification layers"
   ]
  },
  {
   "cell_type": "markdown",
   "metadata": {
    "id": "Zq4toNxdl4jb"
   },
   "source": [
    "Define labeled dataset to use"
   ]
  },
  {
   "cell_type": "raw",
   "metadata": {
    "id": "MGvBSux9l4pn"
   },
   "source": [
    "X_labeled_train, X_labeled_val, y_labeled_train, y_labeled_val"
   ]
  },
  {
   "cell_type": "markdown",
   "metadata": {
    "id": "JS_mTd7cl4vI"
   },
   "source": [
    "Train model"
   ]
  },
  {
   "cell_type": "code",
   "execution_count": null,
   "metadata": {},
   "outputs": [],
   "source": [
    "from torch.nn import CrossEntropyLoss\n",
    "from torch.optim import Adam\n",
    "\n",
    "import numpy as np\n",
    "\n",
    "from sklearn.linear_model import LogisticRegression\n",
    "from sklearn.tree import DecisionTreeClassifier\n",
    "from sklearn.ensemble import RandomForestClassifier\n",
    "from sklearn.svm import SVC\n",
    "\n",
    "criterion = [CrossEntropyLoss()]\n",
    "# criterion = CrossEntropyLoss(reduction='none')\n",
    "\n",
    "# optimizer = Adam(model.parameters(), lr=1e-2, weight_decay=0.0)\n",
    "# optimizer = Adam(model.parameters(), lr=2e-2)\n",
    "optimizer = Adam(model.parameters(), lr=10**(-4.5))\n",
    "scheduler = torch.optim.lr_scheduler.ExponentialLR(optimizer,\n",
    "                                                   gamma=1-0.0000,\n",
    "#                                                    gamma=1,\n",
    "                                                  )\n",
    "criterion = [_.to(DEVICE) for _ in criterion]\n",
    "losses_train, losses_val, val_accs, acc = [], [np.nan], [], []"
   ]
  },
  {
   "cell_type": "code",
   "execution_count": null,
   "metadata": {},
   "outputs": [],
   "source": [
    "def transform_null(var):\n",
    "    return(var)"
   ]
  },
  {
   "cell_type": "code",
   "execution_count": null,
   "metadata": {},
   "outputs": [],
   "source": [
    "model.reinit_classifier()\n",
    "model.train()\n",
    "model.prep_classifier()"
   ]
  },
  {
   "cell_type": "code",
   "execution_count": null,
   "metadata": {},
   "outputs": [],
   "source": [
    "dataset_validation = util.dataset_simCLR(\n",
    "                                    torch.as_tensor(masks_cat, device='cpu', dtype=torch.float32), \n",
    "                                    torch.as_tensor(torch.zeros(masks_cat.shape[0]), device='cpu', dtype=torch.float32),\n",
    "\n",
    "                                    n_transforms=1,\n",
    "                                    class_weights=np.array([1]),\n",
    "                                    # class_weights=np.array([1]*4)[np.random.randint(0,4, X_train.shape[0])],\n",
    "                                    transform=scripted_transforms_validation,\n",
    "                                    # DEVICE='cpu',\n",
    "                                    DEVICE='cpu',\n",
    "                                    dtype_X=torch.float32,\n",
    "                                    dtype_y=torch.int64,\n",
    "                                    \n",
    "                                    temp_uncertainty=16\n",
    "                                    )\n",
    "dataloader_validation = torch.utils.data.DataLoader( dataset_validation,\n",
    "#                                                 batch_size=int(pct_batch_size*X_train.shape[0]),\n",
    "                                                batch_size=1024,\n",
    "                                                shuffle=True,\n",
    "                                                drop_last=True,\n",
    "                                                pin_memory=True,\n",
    "                                                num_workers=32,\n",
    "                                                persistent_workers=True,\n",
    "                                                # prefetch_factor=0\n",
    "                                                )"
   ]
  },
  {
   "cell_type": "code",
   "execution_count": null,
   "metadata": {
    "id": "v4WvU5xxl41A"
   },
   "outputs": [],
   "source": [
    "data_unlabeled = torch.as_tensor(masks_cat, dtype=torch.float32, device='cpu')\n",
    "\n",
    "# model.to(DEVICE)\n",
    "\n",
    "l2_alpha = 0.000\n",
    "\n",
    "n_epochs=300000\n",
    "for epoch in range(n_epochs):\n",
    "    print(f'epoch: {epoch}')\n",
    "    loss_rolling_train = training_simCLR.epoch_step(dataloader_validation, \n",
    "                                    model, \n",
    "                                    optimizer, \n",
    "                                    criterion, \n",
    "\n",
    "                                    # penalized_params, l2_alpha,\n",
    "\n",
    "                                    scheduler=scheduler,\n",
    "                                    L2_alpha=0.04,\n",
    "                                    mode='supervised',\n",
    "                                    loss_rolling_train=losses_train, \n",
    "                                    device=DEVICE, \n",
    "                                    loss_rolling_val=losses_val,\n",
    "                                    verbose=2,\n",
    "                                    verbose_update_period=1,\n",
    "                                   \n",
    "#                                     do_validation=False,\n",
    "#                                     X_val=x_feed_through_val,\n",
    "#                                     y_val=torch.as_tensor(y_val, device=DEVICE)\n",
    "                                   )"
   ]
  },
  {
   "cell_type": "markdown",
   "metadata": {
    "id": "HAcpUsTJl46l"
   },
   "source": [
    "Evalculate model"
   ]
  },
  {
   "cell_type": "code",
   "execution_count": null,
   "metadata": {
    "id": "aHaYL5XjaBfP"
   },
   "outputs": [],
   "source": [
    "%matplotlib notebook\n",
    "\n",
    "plt.figure()\n",
    "plt.plot(loss_rolling_train)\n",
    "\n",
    "data_in = torch.as_tensor(X_labeled_val, dtype=torch.float32, device=DEVICE)\n",
    "# data_in = torch.as_tensor(X_labeled_train, dtype=torch.float32, device=DEVICE)\n",
    "data_in = util.tile_channels(data_in[:,None,...], dim=1)\n",
    "proba = torch.nn.functional.softmax(model.forward_classifier(data_in), dim=1)\n",
    "cm = classification.confusion_matrix(proba.detach().cpu().numpy(), y_labeled_val)\n",
    "# cm = classification.confusion_matrix(proba.detach().cpu().numpy(), y_labeled_train)\n",
    "\n",
    "plt.figure()\n",
    "plt.imshow(cm, aspect='auto')\n",
    "plt.colorbar()"
   ]
  },
  {
   "cell_type": "code",
   "execution_count": null,
   "metadata": {
    "id": "aHaYL5XjaBfP"
   },
   "outputs": [],
   "source": [
    "%matplotlib notebook\n",
    "data_in = torch.as_tensor(X_labeled_train, dtype=torch.float32, device=DEVICE)\n",
    "data_in = util.tile_channels(data_in[:,None,...], dim=1)\n",
    "proba = torch.nn.functional.softmax(model.forward_classifier(data_in), dim=1)\n",
    "cm = classification.confusion_matrix(proba.detach().cpu().numpy(), y_labeled_train)\n",
    "\n",
    "plt.figure()\n",
    "plt.imshow(cm)\n",
    "plt.colorbar()"
   ]
  },
  {
   "cell_type": "code",
   "execution_count": null,
   "metadata": {
    "id": "QNlRDjrVaCD-"
   },
   "outputs": [],
   "source": []
  },
  {
   "cell_type": "code",
   "execution_count": null,
   "metadata": {},
   "outputs": [],
   "source": []
  },
  {
   "cell_type": "code",
   "execution_count": null,
   "metadata": {},
   "outputs": [],
   "source": []
  },
  {
   "cell_type": "code",
   "execution_count": null,
   "metadata": {},
   "outputs": [],
   "source": []
  },
  {
   "cell_type": "markdown",
   "metadata": {},
   "source": [
    "## Use sklearn to train classifier"
   ]
  },
  {
   "cell_type": "code",
   "execution_count": null,
   "metadata": {
    "id": "rU8l0eP02TQR"
   },
   "outputs": [],
   "source": [
    "transforms_validation = torch.nn.Sequential(\n",
    "    augmentation.ScaleDynamicRange(scaler_bounds=(0,1)),\n",
    "    torchvision.transforms.Resize(size=(224,224),\n",
    "                                  interpolation=torchvision.transforms.InterpolationMode.BILINEAR), \n",
    "    augmentation.TileChannels(dim=0, n_channels=3),\n",
    "#     augmentation.Normalize(  means=[0.485, 0.456, 0.406],\n",
    "#                              stds=[0.229, 0.224, 0.225]),\n",
    "#     torchvision.transforms.Normalize(mean=[0.485, 0.456, 0.406],\n",
    "#                                      std=[0.229, 0.224, 0.225],\n",
    "#                                      inplace=False),\n",
    ")\n",
    "scripted_transforms_validation = torch.jit.script(transforms_validation)\n",
    "# scripted_transforms = transforms\n"
   ]
  },
  {
   "cell_type": "code",
   "execution_count": null,
   "metadata": {},
   "outputs": [],
   "source": [
    "dataset_labeled_train = util.dataset_simCLR(\n",
    "                                    torch.as_tensor(X_labeled_train, device='cpu', dtype=torch.float32), \n",
    "                                    # torch.as_tensor(X_labeled_train_SYT, device='cpu', dtype=torch.float32), \n",
    "                                    torch.as_tensor(torch.zeros(X_labeled_train.shape[0]), device='cpu', dtype=torch.float32),\n",
    "                                    # torch.as_tensor(torch.zeros(X_labeled_train_SYT.shape[0]), device='cpu', dtype=torch.float32),\n",
    "\n",
    "                                    n_transforms=1,\n",
    "                                    class_weights=np.array([1]),\n",
    "                                    # class_weights=np.array([1]*4)[np.random.randint(0,4, X_train.shape[0])],\n",
    "                                    transform=scripted_transforms_validation,\n",
    "                                    # DEVICE='cpu',\n",
    "                                    DEVICE='cpu',\n",
    "                                    dtype_X=torch.float32,\n",
    "                                    dtype_y=torch.int64,\n",
    "                                    \n",
    "                                    temp_uncertainty=16\n",
    "                                    )\n",
    "dataset_labeled_val = util.dataset_simCLR(\n",
    "                                    torch.as_tensor(X_labeled_val, device='cpu', dtype=torch.float32), \n",
    "                                    # torch.as_tensor(X_labeled_val_SYT, device='cpu', dtype=torch.float32), \n",
    "                                    torch.as_tensor(torch.zeros(X_labeled_val.shape[0]), device='cpu', dtype=torch.float32),\n",
    "                                    # torch.as_tensor(torch.zeros(X_labeled_val_SYT.shape[0]), device='cpu', dtype=torch.float32),\n",
    "\n",
    "                                    n_transforms=1,\n",
    "                                    class_weights=np.array([1]),\n",
    "                                    # class_weights=np.array([1]*4)[np.random.randint(0,4, X_train.shape[0])],\n",
    "                                    transform=scripted_transforms_validation,\n",
    "                                    # DEVICE='cpu',\n",
    "                                    DEVICE='cpu',\n",
    "                                    dtype_X=torch.float32,\n",
    "                                    dtype_y=torch.int64,\n",
    "                                    \n",
    "                                    temp_uncertainty=16\n",
    "                                    )\n",
    "dataloader_labeled_train = torch.utils.data.DataLoader( dataset_labeled_train,\n",
    "    #                                                 batch_size=int(pct_batch_size*X_train.shape[0]),\n",
    "                                                    batch_size=1024,\n",
    "                                                    shuffle=False,\n",
    "                                                    drop_last=False,\n",
    "                                                    pin_memory=True,\n",
    "                                                    num_workers=32,\n",
    "                                                    persistent_workers=True,\n",
    "                                                    # prefetch_factor=0\n",
    "                                                    )\n",
    "dataloader_labeled_val = torch.utils.data.DataLoader( dataset_labeled_val,\n",
    "    #                                                 batch_size=int(pct_batch_size*X_train.shape[0]),\n",
    "                                                    batch_size=1024,\n",
    "                                                    shuffle=False,\n",
    "                                                    drop_last=False,\n",
    "                                                    pin_memory=True,\n",
    "                                                    num_workers=32,\n",
    "                                                    persistent_workers=True,\n",
    "                                                    # prefetch_factor=0\n",
    "                                                    )\n"
   ]
  },
  {
   "cell_type": "code",
   "execution_count": null,
   "metadata": {},
   "outputs": [],
   "source": [
    "DEVICE = torch_helpers.set_device(use_GPU=True)"
   ]
  },
  {
   "cell_type": "code",
   "execution_count": null,
   "metadata": {},
   "outputs": [],
   "source": [
    "model.eval()\n",
    "model.to(DEVICE)\n",
    "features_train = torch.cat([model.get_head(model.base_model(data[0][0].to(DEVICE))).detach().cpu() for data in dataloader_labeled_train], dim=0)\n",
    "features_val   = torch.cat([model.get_head(model.base_model(data[0][0].to(DEVICE))).detach().cpu() for data in dataloader_labeled_val], dim=0)"
   ]
  },
  {
   "cell_type": "markdown",
   "metadata": {},
   "source": [
    "run a sweep of logistic regressions over C (1/L2) parameter"
   ]
  },
  {
   "cell_type": "code",
   "execution_count": null,
   "metadata": {},
   "outputs": [],
   "source": [
    "acc_train, acc_val = [], []\n",
    "# C_toUse = np.array([1000,100,10,1,0.1,0.01,0.001,0.0001,0.00001])\n",
    "C_toUse = np.array([10,1,0.1,0.01,0.001,0.0001,0.00001])\n",
    "for C in C_toUse:\n",
    "#     print(f'C = {C}')\n",
    "    logreg = sklearn.linear_model.LogisticRegression(solver='liblinear', max_iter=800, C=C)\n",
    "#     tic = time.time()\n",
    "    logreg.fit(features_train, y_labeled_train)\n",
    "#     print(f'time: {time.time() - tic}')\n",
    "    acc = logreg.score(features_train, y_labeled_train)\n",
    "    acc_train.append(acc)\n",
    "#     print(f'acc_train: {acc}')\n",
    "    acc = logreg.score(features_val, y_labeled_val)\n",
    "    acc_val.append(acc)\n",
    "#     print(f'acc_val: {acc}')\n",
    "#     print('')\n",
    "    \n",
    "\n",
    "plt.figure()\n",
    "plt.plot(C_toUse, acc_train)\n",
    "plt.plot(C_toUse, acc_val)\n",
    "plt.xscale('log')\n",
    "plt.xlabel('C')\n",
    "plt.ylabel('acc')\n",
    "plt.legend(['train', 'test']);"
   ]
  },
  {
   "cell_type": "code",
   "execution_count": null,
   "metadata": {},
   "outputs": [],
   "source": [
    "# acc_train, acc_val = [], []\n",
    "# # C_toUse = np.array([1000,100,10,1,0.1,0.01,0.001,0.0001,0.00001])\n",
    "# # C_toUse = np.array([10,1,0.1,0.01,0.001,0.0001,0.00001])\n",
    "# C_toUse = np.array([10000])\n",
    "# for C in tqdm(C_toUse):\n",
    "# #     print(f'C = {C}')\n",
    "#     logreg = sklearn.linear_model.LogisticRegression(solver='liblinear', max_iter=800, C=C)\n",
    "# #     tic = time.time()\n",
    "#     logreg.fit(features_train, y_labeled_train_SYT)\n",
    "# #     print(f'time: {time.time() - tic}')\n",
    "#     acc = logreg.score(features_train, y_labeled_train_SYT)\n",
    "#     acc_train.append(acc)\n",
    "# #     print(f'acc_train: {acc}')\n",
    "#     acc = logreg.score(features_val, y_labeled_val_SYT)\n",
    "#     acc_val.append(acc)\n",
    "# #     print(f'acc_val: {acc}')\n",
    "# #     print('')\n",
    "    \n",
    "\n",
    "# plt.figure()\n",
    "# plt.plot(C_toUse, acc_train)\n",
    "# plt.plot(C_toUse, acc_val)\n",
    "# plt.xscale('log')\n",
    "# plt.xlabel('C')\n",
    "# plt.ylabel('acc')\n",
    "# plt.legend(['train', 'test']);"
   ]
  },
  {
   "cell_type": "markdown",
   "metadata": {},
   "source": [
    "run a sinlg logistic regression with desired parameters and check confusion matrix"
   ]
  },
  {
   "cell_type": "code",
   "execution_count": null,
   "metadata": {},
   "outputs": [],
   "source": [
    "logreg = sklearn.linear_model.LogisticRegression(solver='liblinear', max_iter=800, C=10**(-1)).fit(features_train, y_labeled_train)"
   ]
  },
  {
   "cell_type": "code",
   "execution_count": null,
   "metadata": {},
   "outputs": [],
   "source": [
    "%matplotlib inline\n",
    "proba = logreg.predict_proba(features_train)\n",
    "\n",
    "preds = np.argmax(proba, axis=1)\n",
    "cm = classification.confusion_matrix(preds, y_labeled_train)\n",
    "\n",
    "plt.figure()\n",
    "sns.heatmap(cm, annot=True, annot_kws={\"size\": 16}, vmax=1., cmap=plt.get_cmap('gray'))\n",
    "plt.title('train');\n",
    "\n",
    "proba = logreg.predict_proba(features_val)\n",
    "preds = np.argmax(proba, axis=1)\n",
    "cm = classification.confusion_matrix(preds, y_labeled_val)\n",
    "\n",
    "plt.figure()\n",
    "sns.heatmap(cm, annot=True, annot_kws={\"size\": 16}, vmax=1., cmap=plt.get_cmap('gray'))\n",
    "plt.title('val');\n"
   ]
  },
  {
   "cell_type": "code",
   "execution_count": null,
   "metadata": {},
   "outputs": [],
   "source": [
    "# %matplotlib notebook\n",
    "# proba = logreg.predict_proba(features_train)\n",
    "\n",
    "# preds = np.argmax(proba, axis=1)\n",
    "# cm = classification.confusion_matrix(preds, y_labeled_train_SYT)\n",
    "\n",
    "# plt.figure()\n",
    "# sns.heatmap(cm, annot=True, annot_kws={\"size\": 16}, vmax=1., cmap=plt.get_cmap('gray'))\n",
    "# plt.title('train');\n",
    "\n",
    "# proba = logreg.predict_proba(features_val)\n",
    "# preds = np.argmax(proba, axis=1)\n",
    "# cm = classification.confusion_matrix(preds, y_labeled_val_SYT)\n",
    "\n",
    "# plt.figure()\n",
    "# sns.heatmap(cm, annot=True, annot_kws={\"size\": 16}, vmax=1., cmap=plt.get_cmap('gray'))\n",
    "# plt.title('val');\n"
   ]
  },
  {
   "cell_type": "code",
   "execution_count": null,
   "metadata": {},
   "outputs": [],
   "source": []
  },
  {
   "cell_type": "code",
   "execution_count": null,
   "metadata": {},
   "outputs": [],
   "source": []
  },
  {
   "cell_type": "code",
   "execution_count": null,
   "metadata": {},
   "outputs": [],
   "source": []
  },
  {
   "cell_type": "markdown",
   "metadata": {
    "id": "_CchY4kGDB00"
   },
   "source": [
    "## Check embeddings"
   ]
  },
  {
   "cell_type": "code",
   "execution_count": null,
   "metadata": {},
   "outputs": [],
   "source": [
    "model.eval();\n",
    "# model.to(DEVICE);"
   ]
  },
  {
   "cell_type": "code",
   "execution_count": null,
   "metadata": {
    "id": "JcrdLrYtDB00"
   },
   "outputs": [],
   "source": [
    "torch.cuda.empty_cache()"
   ]
  },
  {
   "cell_type": "code",
   "execution_count": null,
   "metadata": {},
   "outputs": [],
   "source": [
    "dataset_unlabeled_noAug = util.dataset_simCLR(\n",
    "                                    torch.as_tensor(masks_cat[:], device='cpu', dtype=torch.float32), \n",
    "                                    torch.as_tensor(torch.zeros(masks_cat[:].shape[0]), device='cpu', dtype=torch.float32),\n",
    "\n",
    "                                    n_transforms=1,\n",
    "                                    class_weights=np.array([1]),\n",
    "                                    # class_weights=np.array([1]*4)[np.random.randint(0,4, X_train.shape[0])],\n",
    "                                    transform=scripted_transforms_validation,\n",
    "                                    # DEVICE='cpu',\n",
    "                                    DEVICE='cpu',\n",
    "                                    dtype_X=torch.float32,\n",
    "                                    dtype_y=torch.int64,\n",
    "                                    \n",
    "                                    temp_uncertainty=16\n",
    "                                    )\n",
    "dataloader_unlabeled_noAug = torch.utils.data.DataLoader( dataset_unlabeled_noAug,\n",
    "#                                                 batch_size=int(pct_batch_size*X_train.shape[0]),\n",
    "                                                batch_size=1024,\n",
    "                                                shuffle=False,\n",
    "                                                drop_last=False,\n",
    "                                                pin_memory=True,\n",
    "                                                num_workers=32,\n",
    "                                                persistent_workers=True,\n",
    "                                                # prefetch_factor=0\n",
    "                                                )"
   ]
  },
  {
   "cell_type": "code",
   "execution_count": null,
   "metadata": {},
   "outputs": [],
   "source": [
    "dataset_unlabeled_noAug = util.dataset_simCLR(\n",
    "                                    torch.as_tensor(masks_SYT[:], device='cpu', dtype=torch.float32), \n",
    "                                    torch.as_tensor(torch.zeros(masks_SYT[:].shape[0]), device='cpu', dtype=torch.float32),\n",
    "\n",
    "                                    n_transforms=1,\n",
    "                                    class_weights=np.array([1]),\n",
    "                                    # class_weights=np.array([1]*4)[np.random.randint(0,4, X_train.shape[0])],\n",
    "                                    transform=scripted_transforms_validation,\n",
    "                                    # DEVICE='cpu',\n",
    "                                    DEVICE='cpu',\n",
    "                                    dtype_X=torch.float32,\n",
    "                                    dtype_y=torch.int64,\n",
    "                                    \n",
    "                                    temp_uncertainty=16\n",
    "                                    )\n",
    "dataloader_unlabeled_noAug = torch.utils.data.DataLoader( dataset_unlabeled_noAug,\n",
    "#                                                 batch_size=int(pct_batch_size*X_train.shape[0]),\n",
    "                                                batch_size=1024,\n",
    "                                                shuffle=False,\n",
    "                                                drop_last=False,\n",
    "                                                pin_memory=True,\n",
    "                                                num_workers=32,\n",
    "                                                persistent_workers=True,\n",
    "                                                # prefetch_factor=0\n",
    "                                                )"
   ]
  },
  {
   "cell_type": "code",
   "execution_count": null,
   "metadata": {},
   "outputs": [],
   "source": [
    "# optional: run unlabeled data through model\n",
    "features_train = torch.cat([model.get_head(model.base_model(data[0][0].to(DEVICE))).detach().cpu() for data in dataloader_unlabeled_noAug], dim=0)"
   ]
  },
  {
   "cell_type": "code",
   "execution_count": null,
   "metadata": {
    "id": "HPyKFRdq28d3"
   },
   "outputs": [],
   "source": [
    "### REMOVE\n",
    "\n",
    "DEVICE='cuda'\n",
    "# DEVICE='cpu'"
   ]
  },
  {
   "cell_type": "code",
   "execution_count": null,
   "metadata": {
    "id": "7fpQXf0o28d3"
   },
   "outputs": [],
   "source": [
    "# model.to(DEVICE);"
   ]
  },
  {
   "cell_type": "code",
   "execution_count": null,
   "metadata": {
    "id": "7gwucuZXDB00"
   },
   "outputs": [],
   "source": [
    "_, features_embedded, _, evr = decomposition.torch_pca(features_train, device=DEVICE, return_cpu=True)"
   ]
  },
  {
   "cell_type": "code",
   "execution_count": null,
   "metadata": {},
   "outputs": [],
   "source": [
    "tsne = cuml.TSNE( n_components=2,\n",
    "                  perplexity=50.0,\n",
    "                  early_exaggeration=12.0,\n",
    "#                   late_exaggeration=1.0,\n",
    "                  learning_rate=200.0,\n",
    "                  n_iter=1000,\n",
    "                  n_iter_without_progress=300,\n",
    "                  min_grad_norm=1e-07,\n",
    "                  metric='euclidean',\n",
    "                  init='random',\n",
    "                  verbose=False,\n",
    "#                   random_state=None,\n",
    "#                   method='barnes_hut',\n",
    "#                   angle=0.5,\n",
    "#                   learning_rate_method='adaptive',\n",
    "# #                   n_neighbors=90,\n",
    "#                   perplexity_max_iter=100,\n",
    "#                   exaggeration_iter=250,\n",
    "#                   pre_momentum=0.5,\n",
    "#                   post_momentum=0.8,\n",
    "# #                   square_distances=True,\n",
    "#                   handle=None,\n",
    "#                   output_type=None\n",
    "                )\n",
    "features_embedded = tsne.fit_transform(features_train.to(DEVICE)).get()"
   ]
  },
  {
   "cell_type": "code",
   "execution_count": null,
   "metadata": {},
   "outputs": [],
   "source": [
    "umap = cuml.UMAP(n_neighbors=100,\n",
    "                n_components=2,\n",
    "                n_epochs=None,\n",
    "                learning_rate=1.0,\n",
    "                min_dist=0.1,\n",
    "                spread=1.0,\n",
    "                set_op_mix_ratio=1.0, \n",
    "                local_connectivity=1.0,\n",
    "                repulsion_strength=1.0, \n",
    "                negative_sample_rate=5, \n",
    "                transform_queue_size=4.0, \n",
    "                init='spectral', \n",
    "                verbose=False,\n",
    "                a=None, \n",
    "                b=None, \n",
    "                target_n_neighbors=- 1, \n",
    "#                 target_weight=0.5, \n",
    "                target_metric='categorical', \n",
    "                handle=None,                \n",
    "                hash_input=False, \n",
    "                random_state=None, \n",
    "                callback=None, \n",
    "                output_type=None\n",
    "                )\n",
    "features_embedded = umap.fit_transform(features_train.to(DEVICE)).get()"
   ]
  },
  {
   "cell_type": "raw",
   "metadata": {},
   "source": [
    "torch_helpers.delete_all_cuda_tensors(globals())"
   ]
  },
  {
   "cell_type": "raw",
   "metadata": {},
   "source": [
    "torch.cuda.empty_cache()\n",
    "gc.collect()\n",
    "torch.cuda.empty_cache()\n",
    "gc.collect()\n",
    "torch.cuda.empty_cache()\n",
    "gc.collect()\n",
    "torch.cuda.empty_cache()\n",
    "gc.collect()"
   ]
  },
  {
   "cell_type": "raw",
   "metadata": {},
   "source": [
    "torch_helpers.tensor_sizeOnDisk(features_train)"
   ]
  },
  {
   "cell_type": "raw",
   "metadata": {
    "id": "2imvF8ZoDB00"
   },
   "source": [
    "from sklearn import manifold\n",
    "\n",
    "tsne = manifold.TSNE(n_components=2, \n",
    "                     perplexity=120.0, \n",
    "                     early_exaggeration=12.0, \n",
    "                     learning_rate=200, \n",
    "                     n_iter=1000, \n",
    "                     n_iter_without_progress=300, \n",
    "                     min_grad_norm=1e-07, \n",
    "                     metric='euclidean', \n",
    "                     init='pca', \n",
    "                     verbose=0, \n",
    "                     random_state=None, \n",
    "                     method='barnes_hut', \n",
    "                     angle=0.5, \n",
    "                     n_jobs=-1, \n",
    "#                      square_distances='legacy'\n",
    "                    )\n",
    "features_embedded = tsne.fit_transform(features_train.cpu())\n",
    "# features_embedded = tsne.fit_transform(features_embedded[:,:5].cpu())"
   ]
  },
  {
   "cell_type": "code",
   "execution_count": null,
   "metadata": {
    "id": "sgxJ8VXwDB00"
   },
   "outputs": [],
   "source": [
    "import matplotlib as mpl\n",
    "\n",
    "# mpl.rcParams['image.cmap'] = 'Set1'\n",
    "%matplotlib notebook\n",
    "plt.figure()\n",
    "plt.scatter(features_embedded[:,0], features_embedded[:,1], s=10, c=labels_SYT, cmap=plt.get_cmap('tab10'))\n",
    "# plt.scatter(features_embedded[:,0], features_embedded[:,1], s=0.001)\n",
    "# plt.scatter(features_embedded[:,0], features_embedded[:,1], c=labels[labels!=3])\n",
    "# plt.scatter(features_embedded[:,0], features_embedded[:,1], c=y_val)\n",
    "# plt.scatter(features_embedded[:,4], features_embedded[:,5], c=y_train)\n",
    "# plt.scatter(features_embedded[:,11], features[:,43].cpu(), c=y_train)\n"
   ]
  },
  {
   "cell_type": "code",
   "execution_count": null,
   "metadata": {
    "id": "sgxJ8VXwDB00"
   },
   "outputs": [],
   "source": []
  },
  {
   "cell_type": "code",
   "execution_count": null,
   "metadata": {
    "id": "sgxJ8VXwDB00"
   },
   "outputs": [],
   "source": [
    "import matplotlib as mpl\n",
    "\n",
    "# mpl.rcParams['image.cmap'] = 'Set1'\n",
    "%matplotlib notebook\n",
    "plt.figure()\n",
    "# plt.scatter(features_embedded[:,0], features_embedded[:,1], s=30, c=y_labeled_train, cmap=plt.get_cmap('tab10'))\n",
    "plt.scatter(features_embedded[:,0], features_embedded[:,1], s=0.2)\n",
    "# plt.scatter(features_embedded[:,0], features_embedded[:,1], c=labels[labels!=3])\n",
    "# plt.scatter(features_embedded[:,0], features_embedded[:,1], c=y_val)\n",
    "# plt.scatter(features_embedded[:,4], features_embedded[:,5], c=y_train)\n",
    "# plt.scatter(features_embedded[:,11], features[:,43].cpu(), c=y_train)\n"
   ]
  },
  {
   "cell_type": "code",
   "execution_count": null,
   "metadata": {
    "id": "UwFf2BsVDB00"
   },
   "outputs": [],
   "source": [
    "plt.figure()\n",
    "plt.imshow(features_train.cpu().detach(), aspect='auto', interpolation='antialiased')"
   ]
  },
  {
   "cell_type": "code",
   "execution_count": null,
   "metadata": {
    "id": "SARf-u1K28d4"
   },
   "outputs": [],
   "source": [
    "plt.figure()\n",
    "plt.plot(evr)\n",
    "# plt.yscale('log')"
   ]
  },
  {
   "cell_type": "code",
   "execution_count": null,
   "metadata": {
    "id": "SARf-u1K28d4"
   },
   "outputs": [],
   "source": [
    "plt.figure()\n",
    "plt.plot(evr)\n",
    "# plt.yscale('log')"
   ]
  },
  {
   "cell_type": "code",
   "execution_count": null,
   "metadata": {
    "id": "SARf-u1K28d4"
   },
   "outputs": [],
   "source": [
    "plt.figure()\n",
    "plt.plot(evr)\n",
    "# plt.yscale('log')"
   ]
  },
  {
   "cell_type": "code",
   "execution_count": null,
   "metadata": {
    "id": "SARf-u1K28d4"
   },
   "outputs": [],
   "source": [
    "plt.figure()\n",
    "plt.plot(evr)\n",
    "# plt.yscale('log')"
   ]
  },
  {
   "cell_type": "markdown",
   "metadata": {
    "id": "RiHXPapkDB00"
   },
   "source": [
    "## Check filters"
   ]
  },
  {
   "cell_type": "code",
   "execution_count": null,
   "metadata": {
    "id": "2aBVd9FTDB00"
   },
   "outputs": [],
   "source": [
    "list(model.state_dict().keys())"
   ]
  },
  {
   "cell_type": "code",
   "execution_count": null,
   "metadata": {
    "id": "dK_-Xu9EDB01"
   },
   "outputs": [],
   "source": [
    "layer_1 = model.state_dict()['base_model.0.weight'].cpu()\n",
    "layer_2 = model.state_dict()['base_model.4.0.conv1.weight'].cpu()\n",
    "layer_3 = model.state_dict()['base_model.7.0.conv1.weight'].cpu()\n",
    "layer_4 = model.state_dict()['base_model.7.1.conv2.weight'].cpu()\n",
    "\n",
    "plt.figure()\n",
    "for ii in range(layer_1.shape[1]):\n",
    "    for jj in range(layer_1.shape[0]):\n",
    "        plt.subplot2grid((layer_1.shape[1],layer_1.shape[0]),(ii,jj))\n",
    "        fig = plt.imshow(layer_1[jj,ii,:,:] , clim=(-0.2,0.2))\n",
    "        fig.axes.get_xaxis().set_visible(False)\n",
    "        fig.axes.get_yaxis().set_visible(False)\n",
    "\n",
    "plt.figure()\n",
    "for ii in range(16):\n",
    "    for jj in range(16):\n",
    "        plt.subplot2grid((16,16),(ii,jj))\n",
    "        fig = plt.imshow(layer_2[jj,ii,:,:], clim=(-.05,.05))\n",
    "        fig.axes.get_xaxis().set_visible(False)\n",
    "        fig.axes.get_yaxis().set_visible(False)\n",
    "\n",
    "plt.figure()\n",
    "for ii in range(16):\n",
    "    for jj in range(16):\n",
    "        plt.subplot2grid((16,16),(ii,jj))\n",
    "        fig = plt.imshow(layer_3[jj, ii,:,:], clim=(-.1,.1))\n",
    "        fig.axes.get_xaxis().set_visible(False)\n",
    "        fig.axes.get_yaxis().set_visible(False)\n",
    "        \n",
    "plt.figure()\n",
    "for ii in range(16):\n",
    "    for jj in range(16):\n",
    "        plt.subplot2grid((16,16),(ii,jj))\n",
    "        fig = plt.imshow(layer_4[jj, ii,:,:], clim=(-.1,.1))\n",
    "        fig.axes.get_xaxis().set_visible(False)\n",
    "        fig.axes.get_yaxis().set_visible(False)"
   ]
  },
  {
   "cell_type": "code",
   "execution_count": null,
   "metadata": {
    "id": "FGiz2fHFDB01"
   },
   "outputs": [],
   "source": []
  },
  {
   "cell_type": "code",
   "execution_count": null,
   "metadata": {
    "id": "mwJQBUhpDB01"
   },
   "outputs": [],
   "source": [
    "# torch.save(model.state_dict(), '/media/rich/bigSSD/Net_trainedOnAug_20211025_trainingSet_mouse628_20200903and20200815_simCLR.pth')"
   ]
  },
  {
   "cell_type": "code",
   "execution_count": null,
   "metadata": {
    "id": "1grXld0IDB01"
   },
   "outputs": [],
   "source": [
    "# model = Net()\n",
    "# model.load_state_dict(torch.load('test_save.pth'))\n",
    "# model.eval()"
   ]
  },
  {
   "cell_type": "code",
   "execution_count": null,
   "metadata": {
    "id": "quqNFL1jDB01"
   },
   "outputs": [],
   "source": []
  },
  {
   "cell_type": "code",
   "execution_count": null,
   "metadata": {},
   "outputs": [],
   "source": []
  },
  {
   "cell_type": "code",
   "execution_count": null,
   "metadata": {},
   "outputs": [],
   "source": []
  },
  {
   "cell_type": "code",
   "execution_count": null,
   "metadata": {},
   "outputs": [],
   "source": []
  },
  {
   "cell_type": "markdown",
   "metadata": {},
   "source": [
    "# Graveyard"
   ]
  },
  {
   "cell_type": "code",
   "execution_count": null,
   "metadata": {
    "colab": {
     "base_uri": "https://localhost:8080/"
    },
    "id": "rvDiVxDICXEn",
    "outputId": "2c29e3cf-4515-4aae-f0b1-22e30d51fa5f"
   },
   "outputs": [
    {
     "name": "stderr",
     "output_type": "stream",
     "text": [
      "Exception in thread Thread-9:\n",
      "Traceback (most recent call last):\n",
      "  File \"/home/joz608/.conda/envs/jupyter_launcher/lib/python3.8/threading.py\", line 932, in _bootstrap_inner\n",
      "    self.run()\n",
      "  File \"/home/joz608/.conda/envs/jupyter_launcher/lib/python3.8/threading.py\", line 870, in run\n",
      "    self._target(*self._args, **self._kwargs)\n",
      "  File \"/home/joz608/.conda/envs/jupyter_launcher/lib/python3.8/site-packages/torch/utils/data/_utils/pin_memory.py\", line 28, in _pin_memory_loop\n",
      "    r = in_queue.get(timeout=MP_STATUS_CHECK_INTERVAL)\n",
      "  File \"/home/joz608/.conda/envs/jupyter_launcher/lib/python3.8/multiprocessing/queues.py\", line 116, in get\n",
      "    return _ForkingPickler.loads(res)\n",
      "  File \"/home/joz608/.conda/envs/jupyter_launcher/lib/python3.8/site-packages/torch/multiprocessing/reductions.py\", line 289, in rebuild_storage_fd\n",
      "    fd = df.detach()\n",
      "  File \"/home/joz608/.conda/envs/jupyter_launcher/lib/python3.8/multiprocessing/resource_sharer.py\", line 57, in detach\n",
      "    with _resource_sharer.get_connection(self._id) as conn:\n",
      "  File \"/home/joz608/.conda/envs/jupyter_launcher/lib/python3.8/multiprocessing/resource_sharer.py\", line 87, in get_connection\n",
      "    c = Client(address, authkey=process.current_process().authkey)\n",
      "  File \"/home/joz608/.conda/envs/jupyter_launcher/lib/python3.8/multiprocessing/connection.py\", line 502, in Client\n",
      "    c = SocketClient(address)\n",
      "  File \"/home/joz608/.conda/envs/jupyter_launcher/lib/python3.8/multiprocessing/connection.py\", line 630, in SocketClient\n",
      "    s.connect(address)\n",
      "ConnectionRefusedError: [Errno 111] Connection refused\n"
     ]
    }
   ],
   "source": [
    "data_unlabeled = torch.as_tensor(masks_cat, dtype=torch.float32, device='cpu')\n",
    "\n",
    "model.to(DEVICE)\n",
    "\n",
    "# penalized_params = list(model.modules())[-1].parameters()\n",
    "# penalized_params = torch.cat([_.view(-1) for _ in penalized_params], -1)\n",
    "\n",
    "early_stopping = 50\n",
    "prv_best_val = np.inf\n",
    "early_stopping_cnt = 0\n",
    "\n",
    "l2_alpha = 0.1\n",
    "\n",
    "n_epochs=300000\n",
    "for epoch in range(n_epochs):\n",
    "    print(f'epoch: {epoch}')\n",
    "#     loss_rolling_train, loss_rolling_val = training_supervised.epoch_step(dataloader_train, \n",
    "#                                     model, \n",
    "#                                     optimizer, \n",
    "#                                     criterion, \n",
    "\n",
    "#                                     penalized_params, l2_alpha,\n",
    "\n",
    "#                                     scheduler=scheduler,\n",
    "#                                     loss_rolling_train=losses_train, \n",
    "#                                     device=DEVICE, \n",
    "#                                     loss_rolling_val=losses_val,\n",
    "#                                     verbose=2,\n",
    "#                                     verbose_update_period=100,\n",
    "                                   \n",
    "#                                     do_validation=True,\n",
    "#                                     X_val=x_feed_through_val,\n",
    "#                                     y_val=torch.as_tensor(y_val, device=DEVICE)\n",
    "#                                    )\n",
    "    \n",
    "    loss_rolling_train, loss_rolling_val = training_simCLR.epoch_step(dataloader_train, \n",
    "                                    model, \n",
    "                                    optimizer, \n",
    "                                    criterion, \n",
    "\n",
    "                                    # penalized_params, l2_alpha,\n",
    "\n",
    "                                    scheduler=scheduler,\n",
    "                                    loss_rolling_train=losses_train, \n",
    "                                    device=DEVICE, \n",
    "                                    loss_rolling_val=losses_val,\n",
    "                                    verbose=2,\n",
    "                                    verbose_update_period=100,\n",
    "                                   \n",
    "                                    do_validation=True,\n",
    "                                    X_val=x_feed_through_val,\n",
    "                                    y_val=torch.as_tensor(y_val, device=DEVICE)\n",
    "                                   )\n",
    "    \n",
    "    \n",
    "    if early_stopping:\n",
    "      if len(loss_rolling_val) > 0:\n",
    "        if loss_rolling_val[-1] < prv_best_val:\n",
    "          early_stopping_cnt = 0\n",
    "          prv_best_val = loss_rolling_val[-1]\n",
    "          torch.save(model.state_dict(), f'{base_dir}/github_repos/GCaMP_ROI_classifier/new_stuff/models/checkpoints/checkpoint.pth')\n",
    "        else:\n",
    "          early_stopping_cnt += 1\n",
    "    \n",
    "      if early_stopping_cnt >= early_stopping:\n",
    "        model.load_state_dict(torch.load(f'{base_dir}/github_repos/GCaMP_ROI_classifier/new_stuff/models/checkpoints/checkpoint.pth'))\n",
    "        break\n",
    "    \n",
    "    # torch_helpers.show_all_tensors(globals())\n",
    "    \n",
    "    features_train = model(x_feed_through_tr)\n",
    "    features_train = features_train.cpu().detach().numpy()\n",
    "    features_val = model(x_feed_through_val)\n",
    "    features_val = features_val.cpu().detach().numpy()\n",
    "    # y_hat = scipy.special.softmax(features_val, axis=-1) # logreg.predict_proba(features_val)\n",
    "    \n",
    "    print('Training Confusion Matrix')\n",
    "    print(get_cm(features_train, y_train))\n",
    "    print()\n",
    "    print(logistic_pred_train)\n",
    "\n",
    "    print()\n",
    "    print()\n",
    "\n",
    "    print('Val Confusion Matrix')\n",
    "    print(get_cm(features_val, y_val))\n",
    "    print()\n",
    "    print(logistic_pred_val)\n",
    "\n",
    "    # model.to(DEVICE)\n",
    "    print()\n",
    "    print()\n"
   ]
  },
  {
   "cell_type": "raw",
   "metadata": {
    "id": "E5EeUhzUDB0v"
   },
   "source": [
    "%matplotlib notebook\n",
    "\n",
    "logreg = LogisticRegression(solver='liblinear', max_iter=30)\n",
    "# logreg_predict_head = LogisticRegression(solver='liblinear')\n",
    "dataset_train.classification_model = None\n",
    "\n",
    "\n",
    "\n",
    "# scheduler = torch.optim.lr_scheduler.ExponentialLR(optimizer,\n",
    "#                                                    gamma=1-0.001,\n",
    "# #                                                    gamma=1,\n",
    "#                                                   )\n",
    "n_epochs=300000\n",
    "for epoch in range(n_epochs):\n",
    "    print(f'epoch: {epoch}')\n",
    "\n",
    "    model.prep_contrast()\n",
    "    training_simCLR.epoch_step( dataloader_train, \n",
    "                                model, \n",
    "                                optimizer, \n",
    "                                criterion,\n",
    "                                scheduler=scheduler, \n",
    "                                temperature=0.5,\n",
    "                                loss_rolling_train=losses_train, \n",
    "                                device=DEVICE, \n",
    "                                do_validation=False,\n",
    "#                                 validation_Object=val_obj,\n",
    "                                loss_rolling_val=losses_val,\n",
    "                                verbose=2,\n",
    "                                verbose_update_period=100,\n",
    "                               )\n",
    "    \n",
    "\n",
    "    model.prep_classifier()\n",
    "\n",
    "    # print(util.tile_channels(torch.as_tensor(X_labeled_train[:,None,...], device=DEVICE, dtype=torch.float32), dim=1).shape)\n",
    "\n",
    "    features_train = model.get_head(model.base_model(util.tile_channels(torch.as_tensor(X_labeled_train[:,None,...], device=DEVICE, dtype=torch.float32), dim=1))).detach().cpu()\n",
    "    # features_train = model(util.tile_channels(torch.as_tensor(X_labeled_train[:,None,...], device=DEVICE, dtype=torch.float32), dim=1)).detach().cpu()\n",
    "    # features_train = model(torch.as_tensor(X_labeled_train, device=DEVICE, dtype=torch.float32)[:,None,...]).detach().cpu()\n",
    "    # features = model(torch.tensor(X_train[y_train != 3], device=DEVICE, dtype=torch.float32)[:,None,...]).detach().cpu()\n",
    "    \n",
    "    tic = time.time()\n",
    "    logreg.fit(features_train, y_labeled_train)\n",
    "    print(time.time() - tic)\n",
    "    acc.append(logreg.score(features_train, y_labeled_train))\n",
    "    print(f'acc: {acc[-1]}')\n",
    "    \n",
    "    dataset_train.net_model = copy.deepcopy(model).to('cpu')\n",
    "    dataset_train.classification_model = logreg\n",
    "    \n",
    "\n",
    "#     sample_id_num = np.arange(X_labeled_val.shape[0])\n",
    "#     epoch_val = epoch\n",
    "#     batch_val = -1\n",
    "#     p_tmp = logreg.predict_proba(model(torch.as_tensor(util.tile_channels(X_labeled_val), device=DEVICE, dtype=torch.float32)).detach().cpu())\n",
    "#     logits = p_tmp\n",
    "#     # logits = np.log(1/(1/p_tmp - 1))\n",
    "\n",
    "#     col_vals = [sample_id_num, epoch_val, batch_val, y_labeled_val]\n",
    "#     setup = np.empty((len(sample_id_num), len(col_vals)))\n",
    "#     for icv, col_val in enumerate(col_vals):\n",
    "#       setup[:, icv] = col_val\n",
    "#     tmp_tracking_np = np.concatenate([setup, logits], axis=1)\n",
    "\n",
    "#     tmp_tracking_df = pd.DataFrame(tmp_tracking_np, index=sample_id_num, columns=tracking_df_cols + [f'logits_{i}' for i in range(logits.shape[1])])\n",
    "#     tracking_df = tracking_df.append(tmp_tracking_df, ignore_index=True)\n",
    "#     display(tracking_df)\n",
    "\n",
    "\n",
    "    \n",
    "    features_val = model.get_head(model.base_model(util.tile_channels(torch.as_tensor(X_labeled_val[:,None,...], device=DEVICE, dtype=torch.float32), dim=1))).detach().cpu()\n",
    "\n",
    "\n",
    "    # logreg_predict_head.fit(features_train, y_labeled_train)\n",
    "    # y_hat = logreg_predict_head.predict_proba(features_val)\n",
    "\n",
    "    y_hat = logreg.predict_proba(features_val)\n",
    "    \n",
    "    cm = classification.confusion_matrix(y_hat, y_labeled_val)\n",
    "#     plt.figure()\n",
    "#     plt.imshow(cm)\n",
    "#     plt.colorbar()\n",
    "#     plt.show()\n",
    "    print(cm)\n",
    "\n",
    "\n",
    "    # tracking_df = tracking_df.append(pd.DataFrame([np.array([100, 0, 0, 0])], index=tracking_df_cols), ignore_index=True)\n",
    "    \n",
    "    # model predict\n",
    "    # Update model in DS\n",
    "    # get item calls model for each sample\n",
    "    # output\n",
    "    # X sample weights predictions\n",
    "    \n",
    "#     classHead.fit(X_train[:, None, :, :], y_train, solver='liblinear')\n",
    "    \n",
    "#     proba = classHead.predict_proba(X_train[:, None, :, :])\n",
    "#     class_weights = proba.sum(axis=0)\n",
    "#     total_num = class_weights.sum()\n",
    "    \n",
    "#     eps = 1e-4\n",
    "    \n",
    "#     class_weights[class_weights <= 3] = total_num\n",
    "#     weightings = class_weights.sum()/class_weights\n",
    "#     final_weights = weightings / weightings.sum()\n",
    "#     final_weights = np.array([1/proba.shape[1] for _ in range(proba.shape[1])])\n",
    "    \n",
    "#     print(class_weights)\n",
    "\n",
    "#     dataset_train.set_classweights(final_weights)\n",
    "    \n",
    "#     print('dataset_train.final_weights', dataset_train.class_weights)\n"
   ]
  }
 ],
 "metadata": {
  "accelerator": "GPU",
  "colab": {
   "collapsed_sections": [],
   "machine_shape": "hm",
   "name": "ROIClassifier_TRAIN_20211201_JZ_supervised-comparison5.ipynb",
   "provenance": []
  },
  "kernelspec": {
   "display_name": "Python 3",
   "language": "python",
   "name": "python3"
  },
  "language_info": {
   "codemirror_mode": {
    "name": "ipython",
    "version": 3
   },
   "file_extension": ".py",
   "mimetype": "text/x-python",
   "name": "python",
   "nbconvert_exporter": "python",
   "pygments_lexer": "ipython3",
   "version": "3.8.12"
  },
  "varInspector": {
   "cols": {
    "lenName": 16,
    "lenType": 16,
    "lenVar": 40
   },
   "kernels_config": {
    "python": {
     "delete_cmd_postfix": "",
     "delete_cmd_prefix": "del ",
     "library": "var_list.py",
     "varRefreshCmd": "print(var_dic_list())"
    },
    "r": {
     "delete_cmd_postfix": ") ",
     "delete_cmd_prefix": "rm(",
     "library": "var_list.r",
     "varRefreshCmd": "cat(var_dic_list()) "
    }
   },
   "position": {
    "height": "943px",
    "left": "1381px",
    "right": "20px",
    "top": "106px",
    "width": "501px"
   },
   "types_to_exclude": [
    "module",
    "function",
    "builtin_function_or_method",
    "instance",
    "_Feature"
   ],
   "window_display": true
  }
 },
 "nbformat": 4,
 "nbformat_minor": 4
}
