{
 "cells": [
  {
   "cell_type": "code",
   "execution_count": 1,
   "metadata": {
    "colab": {
     "base_uri": "https://localhost:8080/",
     "height": 17
    },
    "id": "S3q3I42jDB0f",
    "outputId": "3ad88a07-0e8b-474f-b0d8-9fb6c2a99f0c"
   },
   "outputs": [
    {
     "data": {
      "text/html": [
       "<style>.container { width:95% !important; }</style>"
      ],
      "text/plain": [
       "<IPython.core.display.HTML object>"
      ]
     },
     "metadata": {},
     "output_type": "display_data"
    }
   ],
   "source": [
    "from IPython.core.display import display, HTML\n",
    "display(HTML(\"<style>.container { width:95% !important; }</style>\"))"
   ]
  },
  {
   "cell_type": "raw",
   "metadata": {
    "id": "PUUWS0VmwD7-"
   },
   "source": [
    "# !source activate jupyter_launcher\n",
    "!pip3 install matplotlib\n",
    "!pip3 install scipy\n",
    "!pip3 install torch\n",
    "!pip3 install torchvision\n",
    "!pip3 install sklearn\n",
    "!pip3 install pycuda"
   ]
  },
  {
   "cell_type": "code",
   "execution_count": 8,
   "metadata": {
    "id": "eTIgCGQsDB0i"
   },
   "outputs": [],
   "source": [
    "import sys\n",
    "import os\n",
    "import copy\n",
    "import pathlib\n",
    "import time\n",
    "\n",
    "import numpy as np\n",
    "import matplotlib.pyplot as plt\n",
    "import scipy\n",
    "\n",
    "import torch\n",
    "import torchvision\n",
    "import torchvision.transforms as transforms\n",
    "\n",
    "# for creating validation set\n",
    "from sklearn.model_selection import train_test_split\n",
    "\n",
    "%matplotlib inline\n",
    "%matplotlib inline\n",
    "# %matplotlib inline\n",
    "# %matplotlib qt"
   ]
  },
  {
   "cell_type": "code",
   "execution_count": null,
   "metadata": {
    "id": "GExNkvATEBtG"
   },
   "outputs": [],
   "source": []
  },
  {
   "cell_type": "code",
   "execution_count": null,
   "metadata": {
    "id": "lE7djprGte0f"
   },
   "outputs": [],
   "source": []
  },
  {
   "cell_type": "code",
   "execution_count": null,
   "metadata": {
    "id": "TUu6ew9IvWQI"
   },
   "outputs": [],
   "source": []
  },
  {
   "cell_type": "code",
   "execution_count": null,
   "metadata": {
    "id": "tyadeqp2vcRl"
   },
   "outputs": [],
   "source": []
  },
  {
   "cell_type": "code",
   "execution_count": null,
   "metadata": {
    "id": "Ia6LET5Hvepb"
   },
   "outputs": [],
   "source": []
  },
  {
   "cell_type": "code",
   "execution_count": null,
   "metadata": {
    "id": "8i4LThZG_9OD"
   },
   "outputs": [],
   "source": []
  },
  {
   "cell_type": "code",
   "execution_count": 11,
   "metadata": {
    "id": "MZ9Hq6SVvves"
   },
   "outputs": [],
   "source": [
    "base_dir = '/n/data1/hms/neurobio/sabatini/josh'"
   ]
  },
  {
   "cell_type": "code",
   "execution_count": null,
   "metadata": {
    "id": "gj4_SYe-2W5O"
   },
   "outputs": [],
   "source": []
  },
  {
   "cell_type": "code",
   "execution_count": 12,
   "metadata": {
    "id": "9w3t_mtdDB0j"
   },
   "outputs": [],
   "source": [
    "import sys\n",
    "\n",
    "# # sys.path.append(r'/media/rich/Home_Linux_partition/github_repos')\n",
    "# # sys.path.append('/Users/Josh/Documents/github_repos/')\n",
    "# sys.path.append(r'/content/drive/MyDrive/00 - ROI')\n",
    "# dir_folders = r'/content/drive/MyDrive/00 - ROI/label_data'\n",
    "\n",
    "sys.path.append(f'{base_dir}/github_repos')\n",
    "# dir_folders = f'{base_dir}/label_data'\n",
    "\n",
    "\n",
    "%load_ext autoreload\n",
    "%autoreload 2\n",
    "from basic_neural_processing_modules import torch_helpers, math_functions, classification #, decomposition\n",
    "from GCaMP_ROI_classifier.new_stuff import util, models, training_simCLR, augmentation, training_classHead, training_supervised"
   ]
  },
  {
   "cell_type": "markdown",
   "metadata": {
    "id": "hTqZzmpJDB0j"
   },
   "source": [
    "## Import training data"
   ]
  },
  {
   "cell_type": "code",
   "execution_count": null,
   "metadata": {},
   "outputs": [],
   "source": []
  },
  {
   "cell_type": "code",
   "execution_count": 13,
   "metadata": {
    "id": "Vw4_KXIkDB0k"
   },
   "outputs": [],
   "source": [
    "import pickle\n",
    "\n",
    "with open(f'{base_dir}/label_data/all_stat_files_20211022.pkl', 'rb') as file:\n",
    "# with open('/Users/Josh/Documents/Harvard/label_data/all_stat_files_20211022.pkl', 'rb') as file:\n",
    "# with open('/media/rich/bigSSD/for_Josh/GCAMP_ROI_Classifier_data/label_data/all_stat_files_20211022.pkl', 'rb') as file:\n",
    "    statFiles_scraped = pickle.load(file)"
   ]
  },
  {
   "cell_type": "code",
   "execution_count": 14,
   "metadata": {
    "id": "dOEaGeBs8vwD"
   },
   "outputs": [],
   "source": [
    "# print(\"File Loaded\")"
   ]
  },
  {
   "cell_type": "code",
   "execution_count": 15,
   "metadata": {
    "id": "4-IssIZIDB0l"
   },
   "outputs": [],
   "source": [
    "keys_toDelete = [\n",
    "    '\\\\\\\\research.files.med.harvard.edu\\\\Neurobio\\\\MICROSCOPE\\\\Rich\\\\data\\\\res2p\\\\scanimage data\\\\for Loic\\\\16x_analysis20200514\\\\Suite2p and MC for denoised movie\\\\suite2p\\\\plane0\\\\stat.npy',\n",
    "    '\\\\\\\\research.files.med.harvard.edu\\\\Neurobio\\\\MICROSCOPE\\\\Rich\\\\data\\\\res2p\\\\scanimage data\\\\round 4 experiments\\\\mouse 6.28\\\\20201102\\\\suite2p_accidentally_run_on_everything\\\\plane0\\\\stat.npy',\n",
    "    '\\\\\\\\research.files.med.harvard.edu\\\\Neurobio\\\\MICROSCOPE\\\\Rich\\\\data\\\\res2p\\\\scanimage data\\\\for Loic\\\\20x\\\\mouse 2.5\\\\20200306\\\\suite2p attemp 2 _tau 1_5\\\\plane0\\\\stat.npy',\n",
    "    '\\\\\\\\research.files.med.harvard.edu\\\\Neurobio\\\\MICROSCOPE\\\\Rich\\\\data\\\\res2p\\\\scanimage data\\\\for Loic\\\\20x\\\\mouse 2.5\\\\20200306\\\\suite2p attempt 1 _tau 2\\\\plane0\\\\stat.npy',\n",
    "    '\\\\\\\\research.files.med.harvard.edu\\\\Neurobio\\\\MICROSCOPE\\\\Rich\\\\data\\\\res2p\\\\scanimage data\\\\for Loic\\\\20x\\\\mouse 2.5\\\\20200306\\\\suite2p attempt 3 _tau 1\\\\plane0\\\\stat.npy',\n",
    "    '\\\\\\\\research.files.med.harvard.edu\\\\Neurobio\\\\MICROSCOPE\\\\Rich\\\\data\\\\res2p\\\\scanimage data\\\\for Loic\\\\AAV\\\\oldBMIrampExp_20191112_mouse1013A\\\\ROI extraction\\\\suite2p\\\\plane0\\\\stat.npy',\n",
    "]\n",
    "for key in keys_toDelete:\n",
    "    del statFiles_scraped[key]"
   ]
  },
  {
   "cell_type": "code",
   "execution_count": 16,
   "metadata": {
    "id": "nEs7nu90GZbA"
   },
   "outputs": [],
   "source": [
    "# keys_toDelete = list(statFiles_scraped.keys())[:len(statFiles_scraped.keys())]\n",
    "# keys_toDelete = list(statFiles_scraped.keys())\n",
    "# for key in keys_toDelete:\n",
    "#     del statFiles_scraped[key]"
   ]
  },
  {
   "cell_type": "code",
   "execution_count": 17,
   "metadata": {
    "id": "a8RtL-lSGyDi"
   },
   "outputs": [
    {
     "data": {
      "text/plain": [
       "117"
      ]
     },
     "execution_count": 17,
     "metadata": {},
     "output_type": "execute_result"
    }
   ],
   "source": [
    "len(statFiles_scraped.keys())"
   ]
  },
  {
   "cell_type": "code",
   "execution_count": 18,
   "metadata": {
    "id": "k9xQuXsMDB0m"
   },
   "outputs": [
    {
     "data": {
      "text/plain": [
       "(217802, 36, 36)"
      ]
     },
     "execution_count": 18,
     "metadata": {},
     "output_type": "execute_result"
    }
   ],
   "source": [
    "sf_list = util.convert_multiple_stat_files(statFiles_dict=statFiles_scraped, out_height_width=[36,36], max_footprint_width=901, plot_pref=False)\n",
    "\n",
    "images_all = np.concatenate(sf_list, axis=0)\n",
    "# images_all = np.concatenate([sf_list[ii][:1000] for ii in range(len(sf_list))], axis=0)\n",
    "\n",
    "images_all.shape"
   ]
  },
  {
   "cell_type": "code",
   "execution_count": 19,
   "metadata": {
    "id": "gEfzGd7jDB0n"
   },
   "outputs": [],
   "source": [
    "#### TODO -- DOUBLE CHECK TO MAKE SURE THIS IS A PER-IMAGE MAX\n",
    "\n",
    "\n",
    "images_all_norm = (images_all / np.max(images_all, axis=(1,2), keepdims=True)) * 1"
   ]
  },
  {
   "cell_type": "code",
   "execution_count": 20,
   "metadata": {
    "id": "1aTd91ZJDB0o"
   },
   "outputs": [
    {
     "data": {
      "text/plain": [
       "(((185131, 36, 36), (185131,)), ((32671, 36, 36), (32671,)))"
      ]
     },
     "execution_count": 20,
     "metadata": {},
     "output_type": "execute_result"
    }
   ],
   "source": [
    "# create validation set\n",
    "# X_train, X_val, y_train, y_val = train_test_split(images[:], labels[:], test_size = 0.15)\n",
    "X_train_all, X_val_all, y_train_all, y_val_all = train_test_split(images_all_norm, np.arange(images_all.shape[0]), test_size = 0.15)\n",
    "(X_train_all.shape, y_train_all.shape), (X_val_all.shape, y_val_all.shape)"
   ]
  },
  {
   "cell_type": "code",
   "execution_count": null,
   "metadata": {},
   "outputs": [],
   "source": []
  },
  {
   "cell_type": "code",
   "execution_count": 21,
   "metadata": {},
   "outputs": [],
   "source": [
    "# !pip3 install tqdm\n",
    "# from tqdm import trange"
   ]
  },
  {
   "cell_type": "code",
   "execution_count": 22,
   "metadata": {},
   "outputs": [
    {
     "data": {
      "text/plain": [
       "[<matplotlib.lines.Line2D at 0x7f6130011b80>]"
      ]
     },
     "execution_count": 22,
     "metadata": {},
     "output_type": "execute_result"
    },
    {
     "data": {
      "image/png": "[encoded data removed]",
      "text/plain": [
       "<Figure size 432x288 with 1 Axes>"
      ]
     },
     "metadata": {
      "needs_background": "light"
     },
     "output_type": "display_data"
    }
   ],
   "source": [
    "ROI_sizeMean, ROI_sizeStd = [], []\n",
    "\n",
    "for ii in range(len(sf_list)):\n",
    "    ROI_npix = np.sum(sf_list[ii]>0, axis=(1,2))\n",
    "    ROI_sizeMean.append(np.mean(ROI_npix))\n",
    "    ROI_sizeStd.append(np.std(ROI_npix))\n",
    "plt.figure()\n",
    "plt.plot(ROI_sizeMean)"
   ]
  },
  {
   "cell_type": "code",
   "execution_count": 23,
   "metadata": {},
   "outputs": [],
   "source": [
    "# plt.plot(ROI_npix)"
   ]
  },
  {
   "cell_type": "code",
   "execution_count": null,
   "metadata": {},
   "outputs": [],
   "source": []
  },
  {
   "cell_type": "code",
   "execution_count": 24,
   "metadata": {
    "colab": {
     "base_uri": "https://localhost:8080/",
     "height": 1000
    },
    "id": "S8AO_lypDB0o",
    "outputId": "4edfd739-a0b7-4789-aea1-4a9f6c2665c8"
   },
   "outputs": [
    {
     "name": "stdout",
     "output_type": "stream",
     "text": [
      "concatenated images shape: (9715, 96, 96)\n"
     ]
    },
    {
     "data": {
      "image/png": "[encoded data removed]",
      "text/plain": [
       "<Figure size 432x288 with 1 Axes>"
      ]
     },
     "metadata": {
      "needs_background": "light"
     },
     "output_type": "display_data"
    },
    {
     "data": {
      "image/png": "[encoded data removed]",
      "text/plain": [
       "<Figure size 432x288 with 1 Axes>"
      ]
     },
     "metadata": {
      "needs_background": "light"
     },
     "output_type": "display_data"
    },
    {
     "data": {
      "image/png": "[encoded data removed]",
      "text/plain": [
       "<Figure size 432x288 with 1 Axes>"
      ]
     },
     "metadata": {
      "needs_background": "light"
     },
     "output_type": "display_data"
    },
    {
     "data": {
      "image/png": "[encoded data removed]",
      "text/plain": [
       "<Figure size 432x288 with 1 Axes>"
      ]
     },
     "metadata": {
      "needs_background": "light"
     },
     "output_type": "display_data"
    }
   ],
   "source": [
    "dir_folders = f'{base_dir}/label_data'\n",
    "# dir_folders = r'/media/rich/bigSSD/for_Josh/GCAMP_ROI_Classifier_data/label_data'\n",
    "# dir_folders = r'/users/Josh/Documents/Harvard/label_data'\n",
    "folders = [r'mouse 6_28 _ day 20200903/',\n",
    "             r'mouse6_28 _ day20200815/']\n",
    "fileNames_statFiles = [r'stat.npy']*len(folders)\n",
    "paths_statFiles = [pathlib.Path(dir_folders) / folders[ii] / fileNames_statFiles[ii] for ii in range(len(folders))]\n",
    "\n",
    "sf_all = util.import_multiple_stat_files(   paths_statFiles=paths_statFiles,\n",
    "                                            fileNames_statFiles=fileNames_statFiles,\n",
    "                                            out_height_width=[32*3,32*3],\n",
    "                                            max_footprint_width=241,\n",
    "                                            plot_pref=True)\n",
    "images_labeled = np.concatenate(sf_all, axis=0)\n",
    "images_labeled = (images_labeled / np.max(images_labeled, axis=(1,2), keepdims=True)) * 1\n",
    "print(f'concatenated images shape: {images_labeled.shape}')\n",
    "\n",
    "fileNames_labelFiles = ['labels_posthoc_filledIn_allCells.npy',\n",
    "             'labels_posthoc_all.npy']\n",
    "paths_labelFiles = [pathlib.Path(dir_folders) / folders[ii] / fileNames_labelFiles[ii] for ii in range(len(folders))]\n",
    "\n",
    "labels_all = util.import_multiple_label_files(paths_labelFiles=paths_labelFiles,\n",
    "                                       plot_pref=True)\n",
    "labels = np.concatenate(labels_all)\n",
    "\n",
    "assert np.alltrue([sf_all[ii].shape[0] == labels_all[ii].shape[0] for ii in range(len(sf_all))]) , 'num images in stat files does not correspond to num labels'"
   ]
  },
  {
   "cell_type": "code",
   "execution_count": 25,
   "metadata": {
    "id": "6oBBoVm8DB0p"
   },
   "outputs": [],
   "source": [
    "# tmpd = pd.DataFrame(labels)\n",
    "# tmpd[1] = tmpd[0]\n",
    "# tmpd.groupby(0).count()"
   ]
  },
  {
   "cell_type": "code",
   "execution_count": 26,
   "metadata": {
    "id": "s028xEPjDB0p"
   },
   "outputs": [],
   "source": [
    "#code doesn't work with multiple open number maybe (?)"
   ]
  },
  {
   "cell_type": "code",
   "execution_count": 27,
   "metadata": {
    "id": "Ip1UMYy6DB0p"
   },
   "outputs": [],
   "source": [
    "labels = classification.squeeze_integers(labels)\n",
    "images_labeled = images_labeled[labels != 2]\n",
    "labels = labels[labels != 2]\n",
    "labels = classification.squeeze_integers(labels)"
   ]
  },
  {
   "cell_type": "code",
   "execution_count": 28,
   "metadata": {
    "id": "2_RP05nJDB0q"
   },
   "outputs": [],
   "source": [
    "# images_labeled = images_labeled[labels!=3]\n",
    "# labels = labels[labels!=3]\n"
   ]
  },
  {
   "cell_type": "markdown",
   "metadata": {
    "id": "UYh_wBqCDB0q"
   },
   "source": [
    "## Balance classes of inputs"
   ]
  },
  {
   "cell_type": "code",
   "execution_count": 29,
   "metadata": {
    "colab": {
     "base_uri": "https://localhost:8080/"
    },
    "id": "qn4Pu2cKDB0q",
    "outputId": "3afafb73-54a7-4e2d-8030-c0af6272cbe6"
   },
   "outputs": [
    {
     "name": "stdout",
     "output_type": "stream",
     "text": [
      "(9714, 96, 96)\n",
      "(9714,)\n",
      "(9714, 96, 96)\n",
      "(9714,)\n",
      "532\n",
      "532\n",
      "620\n",
      "0\n",
      "0\n",
      "(9714, 96, 96)\n",
      "(9714,)\n"
     ]
    }
   ],
   "source": [
    "duplicates = 1\n",
    "balanced = False\n",
    "\n",
    "images_dup = np.tile(images_labeled , (duplicates , 1 , 1))\n",
    "labels_dup = np.tile(labels , (duplicates))\n",
    "\n",
    "print(images_dup.shape)\n",
    "print(labels_dup.shape)\n",
    "\n",
    "if balanced:\n",
    "  numToGetTo = np.sum(labels_dup==0)\n",
    "  print(numToGetTo)\n",
    "  for ii in np.array([1,2,3]):\n",
    "  #     idxToDelete = np.cumsum(labels_dup==ii) <= (np.sum(labels_dup==ii) - numToGetTo)\n",
    "      if ii==3:\n",
    "          numToGetTo = np.sum(labels_dup==0)/2\n",
    "      else:\n",
    "          numToGetTo = np.sum(labels_dup==0)\n",
    "\n",
    "      idxToDelete = (np.cumsum(labels_dup==ii) * (labels_dup==ii)) > numToGetTo\n",
    "      images_dup = images_dup[idxToDelete==0,:,:]\n",
    "      labels_dup = labels_dup[idxToDelete==0]\n",
    "\n",
    "\n",
    "\n",
    "\n",
    "\n",
    "print(images_dup.shape)\n",
    "print(labels_dup.shape)\n",
    "\n",
    "numToGetTo = np.sum(labels_dup==0)\n",
    "print(numToGetTo)\n",
    "\n",
    "print(np.sum(labels_dup==0))\n",
    "print(np.sum(labels_dup==1))\n",
    "print(np.sum(labels_dup==4))\n",
    "print(np.sum(labels_dup==5))\n",
    "print(images_dup.shape)\n",
    "print(labels_dup.shape)"
   ]
  },
  {
   "cell_type": "raw",
   "metadata": {
    "id": "NpMB08CYDB0q"
   },
   "source": [
    "# create validation set\n",
    "# X_train, X_val, y_train, y_val = train_test_split(images[:], labels[:], test_size = 0.15)\n",
    "X_train, X_val, y_train, y_val = train_test_split(images_dup[:], labels_dup[:], test_size = 0.15)\n",
    "(X_train.shape, y_train.shape), (X_val.shape, y_val.shape)"
   ]
  },
  {
   "cell_type": "code",
   "execution_count": 30,
   "metadata": {
    "colab": {
     "base_uri": "https://localhost:8080/"
    },
    "id": "fVA_Aa6rDB0q",
    "outputId": "15b9e55a-4881-40be-f06b-dec658fa55a7"
   },
   "outputs": [
    {
     "data": {
      "text/plain": [
       "(((7771, 96, 96), (7771,)), ((1943, 96, 96), (1943,)))"
      ]
     },
     "execution_count": 30,
     "metadata": {},
     "output_type": "execute_result"
    }
   ],
   "source": [
    "# create validation set\n",
    "\n",
    "###### REMOVE WITH ENOUGH RAM\n",
    "images = images_dup\n",
    "labels = labels_dup\n",
    "\n",
    "# X_train, X_val, y_train, y_val = train_test_split(images[:], labels[:], test_size = 0.15)\n",
    "# X_labeled_train, X_labeled_val, y_labeled_train, y_labeled_val = train_test_split(images_dup, labels_dup, test_size = 0.15)\n",
    "# X_train, X_val, y_train, y_val = X_labeled_train, X_labeled_val, y_labeled_train, y_labeled_val\n",
    "# (X_labeled_train.shape, y_labeled_train.shape), (X_labeled_val.shape, y_labeled_val.shape)\n",
    "\n",
    "# X_labeled_train, X_labeled_val, y_labeled_train, y_labeled_val = train_test_split(images_dup, labels_dup, test_size = 0.3)\n",
    "X_labeled_train, X_labeled_val, y_labeled_train, y_labeled_val = train_test_split(images_dup, labels_dup, test_size = 0.2)\n",
    "# X_train, y_train = X_labeled_train, y_labeled_train\n",
    "\n",
    "# X_labeled_val, X_test, y_labeled_val, y_test = train_test_split(X_labeled_val, y_labeled_val, test_size = 0.5)\n",
    "X_val, X_test, y_val, y_test = train_test_split(X_labeled_val, y_labeled_val, test_size = 0.5)\n",
    "\n",
    "(X_labeled_train.shape, y_labeled_train.shape), (X_labeled_val.shape, y_labeled_val.shape)"
   ]
  },
  {
   "cell_type": "code",
   "execution_count": 31,
   "metadata": {
    "id": "6c9M5xYPDB0r"
   },
   "outputs": [],
   "source": [
    "# # create validation set\n",
    "# # X_train, X_val, y_train, y_val = train_test_split(images[:], labels[:], test_size = 0.15)\n",
    "# X_labeled_train, X_labeled_val, y_labeled_train, y_labeled_val = train_test_split(images_dup[labels!=3], labels_dup[labels!=3], test_size = 0.15)\n",
    "# (X_labeled_train.shape, y_labeled_train.shape), (X_labeled_val.shape, y_labeled_val.shape)"
   ]
  },
  {
   "cell_type": "code",
   "execution_count": 32,
   "metadata": {
    "colab": {
     "base_uri": "https://localhost:8080/",
     "height": 265
    },
    "id": "mdJafJMMDB0r",
    "outputId": "2e8d00f6-32bf-4aeb-d02d-e10dcaaccfe3"
   },
   "outputs": [
    {
     "data": {
      "image/png": "[encoded data removed]",
      "text/plain": [
       "<Figure size 432x288 with 1 Axes>"
      ]
     },
     "metadata": {
      "needs_background": "light"
     },
     "output_type": "display_data"
    }
   ],
   "source": [
    "plt.figure()\n",
    "plt.hist(labels_dup, 20);"
   ]
  },
  {
   "cell_type": "code",
   "execution_count": 33,
   "metadata": {},
   "outputs": [
    {
     "data": {
      "text/plain": [
       "(9714, 96, 96)"
      ]
     },
     "execution_count": 33,
     "metadata": {},
     "output_type": "execute_result"
    }
   ],
   "source": [
    "images.shape"
   ]
  },
  {
   "cell_type": "code",
   "execution_count": 34,
   "metadata": {},
   "outputs": [
    {
     "data": {
      "text/plain": [
       "(((7771, 96, 96), (7771,)), ((1943, 96, 96), (1943,)))"
      ]
     },
     "execution_count": 34,
     "metadata": {},
     "output_type": "execute_result"
    }
   ],
   "source": [
    "\n",
    "# create validation set\n",
    "\n",
    "###### REMOVE WITH ENOUGH RAM\n",
    "images = images_dup\n",
    "labels = labels_dup\n",
    "\n",
    "# X_train, X_val, y_train, y_val = train_test_split(images[:], labels[:], test_size = 0.15)\n",
    "# X_labeled_train, X_labeled_val, y_labeled_train, y_labeled_val = train_test_split(images_dup, labels_dup, test_size = 0.15)\n",
    "# X_train, X_val, y_train, y_val = X_labeled_train, X_labeled_val, y_labeled_train, y_labeled_val\n",
    "# (X_labeled_train.shape, y_labeled_train.shape), (X_labeled_val.shape, y_labeled_val.shape)\n",
    "\n",
    "# X_labeled_train, X_labeled_val, y_labeled_train, y_labeled_val = train_test_split(images_dup, labels_dup, test_size = 0.3)\n",
    "X_labeled_train, X_labeled_val, y_labeled_train, y_labeled_val = train_test_split(images_dup, labels_dup, test_size = 0.2)\n",
    "X_train, y_train = X_labeled_train, y_labeled_train\n",
    "\n",
    "X_val, X_test, y_val, y_test = train_test_split(X_labeled_val, y_labeled_val, test_size = 0.5)\n",
    "\n",
    "(X_labeled_train.shape, y_labeled_train.shape), (X_labeled_val.shape, y_labeled_val.shape)"
   ]
  },
  {
   "cell_type": "code",
   "execution_count": null,
   "metadata": {
    "id": "XNxaCTbcDB0r"
   },
   "outputs": [],
   "source": []
  },
  {
   "cell_type": "raw",
   "metadata": {
    "id": "tz9Q8wYuDB0s"
   },
   "source": [
    "from sklearn.linear_model import LogisticRegression\n",
    "import sklearn.metrics\n",
    "\n",
    "def classification_step(X_train, y_train, X_test, model, model_device, temperature):\n",
    "    logreg = LogisticRegression()\n",
    "    features_train = model(torch.as_tensor(X_train, device=DEVICE, dtype=torch.float32)[:,None,...]).detach().cpu()\n",
    "    # features = model(torch.tensor(X_train[y_train != 3], device=DEVICE, dtype=torch.float32)[:,None,...]).detach().cpu()\n",
    "    logreg.fit(features_train, y_train)\n",
    "    # logreg.fit(features, y_train[y_train != 3])\n",
    "    \n",
    "    features_test = model(torch.as_tensor(X_test, device=DEVICE, dtype=torch.float32)[:,None,...]).detach().cpu()    \n",
    "    y_hat = logreg.predict_proba(features_test)\n",
    "    y_hat = torch.as_tensor(y_hat, dtype=torch.float32, device='cpu')\n",
    "    \n",
    "#     print(y_hat)\n",
    "    print(f'accuracy: {logreg.score(features, y):.5}')\n",
    "\n",
    "#     # cm = sklearn.metrics.confusion_matrix(idx_to_oneHot(y_train), y_hat, normalize='true')\n",
    "#     # cm = sklearn.metrics.confusion_matrix(idx_to_oneHot(y_train[y_train != 3]), y_hat, normalize='true')\n",
    "#     cm = rh_cm(y_hat, y)\n",
    "#     # cm = rh_cm(y_hat, y_train[y_train != 3])\n",
    "    \n",
    "    unc = util.loss_uncertainty(y_hat, temperature=temperature)\n",
    "\n",
    "#     plt.figure()\n",
    "#     plt.imshow(cm)\n",
    "#     return torch.tensor(unc, dtype=torch.float32, device=model_device)\n",
    "    return unc"
   ]
  },
  {
   "cell_type": "code",
   "execution_count": 35,
   "metadata": {},
   "outputs": [],
   "source": [
    "def idx_to_oneHot(arr, n_classes=None):\n",
    "    \"\"\"\n",
    "    Convert an array of class indices to matrix of\n",
    "     one-hot vectors.\n",
    "    RH 2021\n",
    "\n",
    "    Args:\n",
    "        arr (np.ndarray):\n",
    "            1-D array of class indices.\n",
    "        n_classes (int):\n",
    "            Number of classes.\n",
    "    \n",
    "    Returns:\n",
    "        oneHot (np.ndarray):\n",
    "            2-D array of one-hot vectors.\n",
    "    \"\"\"\n",
    "    if n_classes is None:\n",
    "        n_classes = np.max(arr)+1\n",
    "    oneHot = np.zeros((arr.size, n_classes))\n",
    "    oneHot[np.arange(arr.size), arr] = 1\n",
    "    return oneHot\n",
    "\n",
    "def rh_cm(y_hat, y_true):\n",
    "    \"\"\"\n",
    "    Compute the confusion matrix from y_hat and y_true.\n",
    "    y_hat should be either predictions ().\n",
    "    RH 2021\n",
    "\n",
    "    Args:\n",
    "        y_hat (np.ndarray): \n",
    "            numpy array of predictions or probabilities. \n",
    "            Either PREDICTIONS: 2-D array of booleans\n",
    "             ('one hots') or 1-D array of predicted \n",
    "             class indices.\n",
    "            Or PROBABILITIES: 2-D array floats ('one hot\n",
    "             like')\n",
    "        y_true (np.ndarray):\n",
    "            1-D array of true class indices.\n",
    "    \"\"\"\n",
    "    n_classes = np.max(y_true)+1\n",
    "    if y_hat.ndim == 1:\n",
    "        y_hat = idx_to_oneHot(y_hat, n_classes)\n",
    "    cmat = y_hat.T @ idx_to_oneHot(y_true, n_classes)\n",
    "    return cmat / np.sum(cmat, axis=0)[None,:]\n",
    "#     return cmat / torch.sum(cmat, dim=0)[None,:]"
   ]
  },
  {
   "cell_type": "markdown",
   "metadata": {
    "id": "T2ARByXvDB0s"
   },
   "source": [
    "## Define augmentation pipeline"
   ]
  },
  {
   "cell_type": "code",
   "execution_count": null,
   "metadata": {
    "id": "72ZCnDZ4MmK4"
   },
   "outputs": [],
   "source": []
  },
  {
   "cell_type": "code",
   "execution_count": 36,
   "metadata": {
    "colab": {
     "base_uri": "https://localhost:8080/"
    },
    "id": "1Ox59BzP28dw",
    "outputId": "c4cb829b-e1e4-44c2-c213-0dc97eb90295"
   },
   "outputs": [
    {
     "data": {
      "text/plain": [
       "(7771, 96, 96)"
      ]
     },
     "execution_count": 36,
     "metadata": {},
     "output_type": "execute_result"
    }
   ],
   "source": [
    "X_train.shape"
   ]
  },
  {
   "cell_type": "code",
   "execution_count": 37,
   "metadata": {
    "id": "tq77tWZeDB0s"
   },
   "outputs": [],
   "source": [
    "import torchvision.transforms    \n",
    "\n",
    "transforms = torch.nn.Sequential(\n",
    "    \n",
    "# ######     torchvision.transforms.RandomAdjustSharpness(torch.rand(1)*5, p=0.5),\n",
    "    \n",
    "    # # torchvision.transforms.RandomHorizontalFlip(p=0.5),\n",
    "        \n",
    "    # # # torchvision.transforms.GaussianBlur(kernel_size=5,\n",
    "    # # #                                     sigma=(0.0001, 0.1)),\n",
    "    \n",
    "    # # # torchvision.transforms.RandomPerspective(distortion_scale=0.05, \n",
    "    # # #                                          p=0.5, \n",
    "    # # #                                          interpolation=torchvision.transforms.InterpolationMode.BILINEAR, \n",
    "    # # #                                          fill=0),\n",
    "    # # torchvision.transforms.RandomAffine(\n",
    "    # #                                     degrees=(-180,180),\n",
    "    # #                                     translate=(0.05, 0.05),\n",
    "    # #                                     scale=(0.9, 1.1), \n",
    "    # #                                     shear=(-7, 7, -7, 7), \n",
    "    # #                                     interpolation=torchvision.transforms.InterpolationMode.BILINEAR, \n",
    "    # #                                     fill=0, \n",
    "    # #                                     fillcolor=None, \n",
    "    # #                                     resample=None),\n",
    "    \n",
    "    torchvision.transforms.RandomHorizontalFlip(p=0.5),\n",
    "\n",
    "    torchvision.transforms.RandomAffine(\n",
    "                                        degrees=(-180,180),\n",
    "                                        translate=(0.0, 0.0),\n",
    "                                        interpolation=torchvision.transforms.InterpolationMode.BILINEAR, \n",
    "                                        fill=0, \n",
    "                                        # fillcolor=None, \n",
    "                                        resample=None),\n",
    "    \n",
    "    # # augmentation.AddPoissonNoise(   scaler_bounds=(10, 50),\n",
    "    # #                                 prob=1,\n",
    "    # #                                 base=100,\n",
    "    # #                                 scaling='log'),\n",
    "\n",
    "    # # augmentation.AddGaussianNoise(  mean=0, \n",
    "    # #                                 std=0.07,\n",
    "    # #                                 prob=1),\n",
    ")\n",
    "scripted_transforms = torch.jit.script(transforms)\n",
    "# scripted_transforms = transforms\n",
    "\n",
    "\n",
    "\n",
    "# dataset_train = util.dataset_simCLR(\n",
    "#                                     X_train, \n",
    "#                                     y_train, \n",
    "# #                                     torch.tensor(X_train), \n",
    "# #                                     y_train, \n",
    "#                                     n_transforms=2, \n",
    "# #                                     class_weights=[1]*4,\n",
    "# #                                     class_weights=[0.34, 0.33, 0.33, 0.00],\n",
    "# #                                     class_weights=[0.0, 0.0, 0.0, 1.00],\n",
    "# #                                     class_weights=np.array([0.34, 0.33, 0.33, 0.00])[y_train],\n",
    "# #                                     class_weights=np.array([1]*4)[np.random.randint(0,4, X_train.shape[0])],\n",
    "#                                     class_weights=np.array([1]*4)[np.random.randint(0,4, X_train.shape[0])],\n",
    "#                                     transform=scripted_transforms,\n",
    "#                                     DEVICE='cpu',\n",
    "#                                     dtype_X=torch.float32,\n",
    "#                                     dtype_y=torch.int64 )\n",
    "\n",
    "# dataloader_train = torch.utils.data.DataLoader( dataset_train,\n",
    "#                                                 batch_size=2048,\n",
    "#             #                                     sampler=sampler,\n",
    "#                                                 shuffle=True,\n",
    "#                                                 drop_last=True,\n",
    "#                                                 pin_memory=True,\n",
    "#                                                 num_workers=0,\n",
    "# #                                                 num_workers=32,\n",
    "# #                                                 prefetch_factor=0,\n",
    "# #                                                 persistent_workers=True,\n",
    "#                                                 )\n",
    "\n",
    "# # dataset_val = util.dataset_simCLR(torch.tensor(X_val), \n",
    "# #                                     y_val, \n",
    "# #                                     n_transforms=2, \n",
    "# #                                     transform=scripted_transforms,\n",
    "# #                                     DEVICE='cpu',\n",
    "# #                                     dtype_X=torch.float32,\n",
    "# #                                     dtype_y=torch.int64 )\n",
    "\n",
    "# # dataloader_val = torch.utils.data.DataLoader(   dataset_val,\n",
    "# #                                                 batch_size=128,\n",
    "# #             #                                     sampler=sampler,\n",
    "# #                                                 shuffle=True,\n",
    "# #                                                 drop_last=True,\n",
    "# #                                                 pin_memory=True,\n",
    "# #                                                 num_workers=0,\n",
    "# #                                                 )         \n",
    "\n"
   ]
  },
  {
   "cell_type": "code",
   "execution_count": 38,
   "metadata": {
    "id": "BdAwtAn9kyT3"
   },
   "outputs": [],
   "source": [
    "\n",
    "# dataset_simCLR = torch.DataSet()"
   ]
  },
  {
   "cell_type": "code",
   "execution_count": 39,
   "metadata": {
    "id": "bK2x3s_AkuHO"
   },
   "outputs": [],
   "source": [
    "\n",
    "\n",
    "\n",
    "# dataset_train = util.dataset_simCLR(\n",
    "#                                     X_train, \n",
    "#                                     y_train, \n",
    "# #                                     torch.tensor(X_train), \n",
    "# #                                     y_train, \n",
    "#                                     n_transforms=2, \n",
    "# #                                     class_weights=[1]*4,\n",
    "# #                                     class_weights=[0.34, 0.33, 0.33, 0.00],\n",
    "# #                                     class_weights=[0.0, 0.0, 0.0, 1.00],\n",
    "# #                                     class_weights=np.array([0.34, 0.33, 0.33, 0.00])[y_train],\n",
    "# #                                     class_weights=np.array([1]*4)[np.random.randint(0,4, X_train.shape[0])],\n",
    "#                                     class_weights=np.array([1]*4)[np.random.randint(0,4, X_train.shape[0])],\n",
    "#                                     transform=scripted_transforms,\n",
    "#                                     DEVICE='cpu',\n",
    "#                                     dtype_X=torch.float32,\n",
    "#                                     dtype_y=torch.int64 )\n",
    "\n",
    "# dataloader_train = torch.utils.data.DataLoader( dataset_train,\n",
    "#                                                 batch_size=2048,\n",
    "#             #                                     sampler=sampler,\n",
    "#                                                 shuffle=True,\n",
    "#                                                 drop_last=True,\n",
    "#                                                 pin_memory=True,\n",
    "#                                                 num_workers=0,\n",
    "# #                                                 num_workers=32,\n",
    "# #                                                 prefetch_factor=0,\n",
    "# #                                                 persistent_workers=True,\n",
    "#                                                 )\n"
   ]
  },
  {
   "cell_type": "raw",
   "metadata": {},
   "source": [
    "for ii, im in enumerate(images_all_norm):\n",
    "    plt.figure()\n",
    "    plt.imshow(im)\n",
    "    if ii > 1:\n",
    "        break"
   ]
  },
  {
   "cell_type": "raw",
   "metadata": {},
   "source": [
    "import torch\n",
    "from torch.utils.data import Dataset, DataLoader\n",
    "\n",
    "import ctypes\n",
    "import multiprocessing as mp\n",
    "\n",
    "import numpy as np\n",
    "\n",
    "\n",
    "class MyDataset(Dataset):\n",
    "    def __init__(self):\n",
    "        shared_array_base = mp.Array(ctypes.c_float, nb_samples)\n",
    "        shared_array = np.ctypeslib.as_array(shared_array_base.get_obj())\n",
    "        shared_array = shared_array.reshape(nb_samples)\n",
    "        self.shared_array = torch.from_numpy(shared_array)\n",
    "        \n",
    "#         self.shared_array = torch.rand(4)\n",
    "#         self.use_cache = False\n",
    "        \n",
    "#     def set_use_cache(self, use_cache):\n",
    "#         self.use_cache = use_cache\n",
    "    \n",
    "    def __getitem__(self, index):\n",
    "#         if not self.use_cache:\n",
    "#             print('Filling cache for index {}'.format(index))\n",
    "#             # Add your loading logic here\n",
    "#             self.shared_array[index] = torch.randn(1)\n",
    "        x = self.shared_array[index]\n",
    "        return x\n",
    "    \n",
    "    def __len__(self):\n",
    "        return nb_samples\n",
    "\n",
    "\n",
    "nb_samples = 4\n",
    "\n",
    "dataset = MyDataset()\n",
    "loader = DataLoader(\n",
    "                    dataset,\n",
    "                    pin_memory=True,\n",
    "#                     num_workers=0,\n",
    "                    num_workers=32,\n",
    "#                     prefetch_factor=0,\n",
    "                    persistent_workers=True,\n",
    "                    shuffle=False\n",
    ")\n",
    "\n",
    "for epoch in range(4):\n",
    "    for idx, data in enumerate(loader):\n",
    "        print('Epoch {}, idx {}, data.shape {}'.format(epoch, idx, data))\n",
    "        dataset.shared_array = torch.rand(4)+epoch*10\n",
    "        \n",
    "#     if epoch==0:\n",
    "#         loader.dataset.set_use_cache(True)"
   ]
  },
  {
   "cell_type": "code",
   "execution_count": 40,
   "metadata": {
    "id": "LEYyNrzPDB0v"
   },
   "outputs": [],
   "source": [
    "# import time\n",
    "\n",
    "# %matplotlib inline\n",
    "# tic=time.time()\n",
    "# for idx in range(5):\n",
    "# # for ii,idx in enumerate(np.random.randint(0,X_train.shape[0], 5)):\n",
    "# #     for jj in range(im[0])\n",
    "# #     print(time.time() - tic)\n",
    "# #     tic = time.time()\n",
    "# #     print((im[0][0]).shape)\n",
    "#     print(dataset_train[idx][3])\n",
    "#     fig, axs = plt.subplots(2)\n",
    "#     for jj, ax in enumerate(axs):\n",
    "# #         ax.imshow(im[0][j].cpu().squeeze())\n",
    "# #         ax.imshow(dataset_train[idx][0][jj][0].permute(1,2,0).cpu().squeeze()/20)\n",
    "#         im_toShow = dataset_train[idx][0][jj][0].cpu().squeeze()\n",
    "#         ax.imshow(im_toShow)\n",
    "# #     if ii > 5:\n",
    "# #         break"
   ]
  },
  {
   "cell_type": "markdown",
   "metadata": {
    "id": "3aA1-hY4DB0v"
   },
   "source": [
    "## Train"
   ]
  },
  {
   "cell_type": "code",
   "execution_count": 41,
   "metadata": {
    "colab": {
     "base_uri": "https://localhost:8080/"
    },
    "id": "YtkRZSMqDB0v",
    "outputId": "230c559f-f22c-4182-b3ab-024ba2080a50"
   },
   "outputs": [
    {
     "name": "stdout",
     "output_type": "stream",
     "text": [
      "device: 'cuda'\n"
     ]
    }
   ],
   "source": [
    "### REMOVE\n",
    "\n",
    "DEVICE = torch_helpers.set_device(use_GPU=True)\n",
    "# DEVICE = torch_helpers.set_device(use_GPU=False)\n"
   ]
  },
  {
   "cell_type": "code",
   "execution_count": 42,
   "metadata": {
    "id": "geSyoQs928dz"
   },
   "outputs": [],
   "source": [
    "# import torchvision.models\n",
    "\n",
    "# model = torchvision.models.resnet18(pretrained=True)\n",
    "# for param in model.parameters():\n",
    "#     param.requires_grad = False\n",
    "\n",
    "\n",
    "# # for param in model.layer3.parameters():\n",
    "# #     param.requires_grad = True\n",
    "# for param in model.layer4.parameters():\n",
    "#     param.requires_grad = True\n",
    "# for param in model.avgpool.parameters():\n",
    "#     param.requires_grad = True\n",
    "# for param in model.fc.parameters():\n",
    "#     param.requires_grad = True"
   ]
  },
  {
   "cell_type": "code",
   "execution_count": 43,
   "metadata": {
    "id": "NyMr4GEqJLqI"
   },
   "outputs": [],
   "source": [
    "# import torchvision.models\n",
    "\n",
    "# model = torchvision.models.resnet101(pretrained=True)\n",
    "# for param in model.parameters():\n",
    "#     param.requires_grad = False"
   ]
  },
  {
   "cell_type": "code",
   "execution_count": 44,
   "metadata": {
    "id": "gt4xpqbHBjyL"
   },
   "outputs": [],
   "source": [
    "class ModelTackOn(torch.nn.Module):\n",
    "  def __init__(self, base_model, un_modified_model, pre_head_fc_sizes=[100], post_head_fc_sizes=[100], classifier_fc_sizes=None):\n",
    "    super(ModelTackOn, self).__init__()\n",
    "    self.base_model = base_model\n",
    "    final_base_layer = list(un_modified_model.children())[-1]\n",
    "    # final_base_layer = list(list(model.children())[-1].children())[-1]\n",
    "    # print(final_base_layer)\n",
    "\n",
    "    self.pre_head_fc_lst = []\n",
    "    self.post_head_fc_lst = []\n",
    "    self.classifier_fc_lst = []\n",
    "\n",
    "    for i, pre_head_fc in enumerate(pre_head_fc_sizes):\n",
    "      if i == 0:\n",
    "        in_features = final_base_layer.in_features if hasattr(final_base_layer,'in_features') else 512\n",
    "      else:\n",
    "        in_features = pre_head_fc_sizes[i - 1]\n",
    "      fc_layer = torch.nn.Linear(in_features=in_features, out_features=pre_head_fc)\n",
    "      self.add_module(f'PreHead_{i}', fc_layer)\n",
    "      self.pre_head_fc_lst.append(fc_layer)\n",
    "\n",
    "      if i < len(pre_head_fc_sizes) - 1:\n",
    "        non_linearity = torch.nn.ReLU()\n",
    "        self.add_module(f'PreHead_{i}_NonLinearity', non_linearity)\n",
    "        self.pre_head_fc_lst.append(non_linearity)\n",
    "\n",
    "    \n",
    "    for i, post_head_fc in enumerate(post_head_fc_sizes):\n",
    "      if i == 0:\n",
    "        in_features = pre_head_fc_sizes[-1]\n",
    "      else:\n",
    "        in_features = post_head_fc_sizes[i - 1]\n",
    "      fc_layer = torch.nn.Linear(in_features=in_features, out_features=post_head_fc)\n",
    "      self.add_module(f'PostHead_{i}', fc_layer)\n",
    "      self.post_head_fc_lst.append(fc_layer)\n",
    "\n",
    "      if i < len(post_head_fc_sizes) - 1:\n",
    "        non_linearity = torch.nn.ReLU()\n",
    "        self.add_module(f'PostHead_{i}_NonLinearity', non_linearity)\n",
    "        self.pre_head_fc_lst.append(non_linearity)\n",
    "    \n",
    "    if classifier_fc_sizes is not None:\n",
    "      for i, classifier_fc in enumerate(classifier_fc_sizes):\n",
    "        if i == 0:\n",
    "          in_features = pre_head_fc_sizes[-1]\n",
    "        else:\n",
    "          in_features = classifier_fc_sizes[i - 1]\n",
    "        fc_layer = torch.nn.Linear(in_features=in_features, out_features=classifier_fc)\n",
    "        self.add_module(f'Classifier_{i}', fc_layer)\n",
    "        self.classifier_fc_lst.append(fc_layer)\n",
    "    \n",
    "  \n",
    "  def forward(self, X):\n",
    "    interim = self.base_model(X)\n",
    "    interim = self.get_head(interim)\n",
    "    interim = self.get_latent(interim)\n",
    "    return interim\n",
    "  \n",
    "  def forward_class(self, X):\n",
    "    interim = self.base_model(X)\n",
    "    interim = self.get_head(interim)\n",
    "    interim = self.classify(interim)\n",
    "    return interim\n",
    "\n",
    "  def forward_latent(self, X):\n",
    "    interim = self.base_model(X)\n",
    "    interim = self.get_head(interim)\n",
    "    interim = self.get_latent(interim)\n",
    "    return interim\n",
    "  \n",
    "  \n",
    "  def get_head(self, base_out):\n",
    "    # print('base_out', base_out.shape)\n",
    "    head = base_out\n",
    "    for pre_head_layer in self.pre_head_fc_lst:\n",
    "      # print('pre_head_layer', pre_head_layer.in_features)\n",
    "      head = pre_head_layer(head)\n",
    "      # print('head', head.shape)\n",
    "    return head\n",
    "  \n",
    "  def get_latent(self, head):\n",
    "    latent = head\n",
    "    for post_head_layer in self.post_head_fc_lst:\n",
    "      latent = post_head_layer(latent)\n",
    "    return latent\n",
    "  \n",
    "  def classify(self, head):\n",
    "    logit = head\n",
    "    for classifier_layer in self.classifier_fc_lst:\n",
    "      logit = classifier_layer(logit)\n",
    "    return logit\n",
    "  \n",
    "  def set_pre_head_grad(self, requires_grad=True):\n",
    "    for pre_head_layer in self.pre_head_fc_lst:\n",
    "      pre_head_layer.requies_grad = requires_grad\n",
    "  \n",
    "  def set_post_head_grad(self, requires_grad=True):\n",
    "    for post_head_layer in self.post_head_fc_lst:\n",
    "      post_head_layer.requies_grad = requires_grad\n",
    "    \n",
    "  def set_classifier_grad(self, requires_grad=True):\n",
    "    for classifier_layer in self.classifier_fc_lst:\n",
    "      classifier_layer.requies_grad = requires_grad\n",
    "\n",
    "  def prep_contrast(self):\n",
    "    self.set_pre_head_grad(requires_grad=True)\n",
    "    self.set_post_head_grad(requires_grad=True)\n",
    "    self.set_classifier_grad(requires_grad=False)\n",
    "\n",
    "  def prep_classifier(self):\n",
    "    self.set_pre_head_grad(requires_grad=False)\n",
    "    self.set_post_head_grad(requires_grad=False)\n",
    "    self.set_classifier_grad(requires_grad=True)\n",
    "  "
   ]
  },
  {
   "cell_type": "code",
   "execution_count": 45,
   "metadata": {
    "id": "MIix9BdUCkqf"
   },
   "outputs": [],
   "source": [
    "import torchvision.models\n",
    "\n",
    "# base_model = torchvision.models.resnet101(pretrained=True)\n",
    "base_model = torchvision.models.resnet18(pretrained=True)\n",
    "\n",
    "\n",
    "\n",
    "\n",
    "\n",
    "for param in base_model.parameters():\n",
    "    param.requires_grad = False\n",
    "\n",
    "retrain = list(base_model.children())[-1:]\n",
    "for layer in retrain:\n",
    "  params = layer.parameters()\n",
    "  for param in params:\n",
    "    param.requires_grad = True"
   ]
  },
  {
   "cell_type": "code",
   "execution_count": null,
   "metadata": {
    "id": "kytQcdGFcD_C"
   },
   "outputs": [],
   "source": []
  },
  {
   "cell_type": "code",
   "execution_count": 46,
   "metadata": {
    "id": "oyjLftj_cEGW"
   },
   "outputs": [],
   "source": [
    "import torchvision.models\n",
    "\n",
    "# base_model_frozen = torchvision.models.resnet101(pretrained=True)\n",
    "base_model_frozen = torchvision.models.resnet18(pretrained=True)\n",
    "for param in base_model_frozen.parameters():\n",
    "    param.requires_grad = False"
   ]
  },
  {
   "cell_type": "code",
   "execution_count": null,
   "metadata": {
    "id": "K8f5VNacdESj"
   },
   "outputs": [],
   "source": []
  },
  {
   "cell_type": "code",
   "execution_count": null,
   "metadata": {
    "id": "2l2UvDEZF_gn"
   },
   "outputs": [],
   "source": []
  },
  {
   "cell_type": "code",
   "execution_count": 47,
   "metadata": {
    "id": "3UZ41As-cbsr"
   },
   "outputs": [],
   "source": [
    "from sklearn.linear_model import LogisticRegression"
   ]
  },
  {
   "cell_type": "code",
   "execution_count": 48,
   "metadata": {
    "id": "FRfrJ7t0b6i-"
   },
   "outputs": [],
   "source": [
    "# DEVICE='cpu'\n",
    "\n",
    "# # logreg = LogisticRegression(solver='liblinear')\n",
    "# logreg = LogisticRegression(solver='lbfgs')\n",
    "# base_model = base_model.to(DEVICE)\n",
    "# features_train = base_model(util.tile_channels(torch.as_tensor(X_labeled_train[:,None,...], device=DEVICE, dtype=torch.float32), dim=1)).detach().cpu()\n",
    "# logreg.fit(features_train, y_labeled_train)\n",
    "# print(logreg.score(features_train, y_labeled_train))\n",
    "\n",
    "# features_val = base_model(util.tile_channels(torch.as_tensor(X_labeled_val[:,None,...], device=DEVICE, dtype=torch.float32), dim=1)).detach().cpu()\n",
    "# y_hat = logreg.predict_proba(features_val)\n",
    "\n",
    "# cm = classification.confusion_matrix(y_hat, y_labeled_val)\n",
    "# cm"
   ]
  },
  {
   "cell_type": "code",
   "execution_count": 49,
   "metadata": {
    "id": "xM5ibXlIf5WH"
   },
   "outputs": [],
   "source": [
    "# plt.imshow(cm)\n",
    "# plt.colorbar()"
   ]
  },
  {
   "cell_type": "code",
   "execution_count": 50,
   "metadata": {
    "id": "_I3yEMI3gVuB"
   },
   "outputs": [],
   "source": [
    "# logreg.score(features_val, y_labeled_val)"
   ]
  },
  {
   "cell_type": "code",
   "execution_count": 51,
   "metadata": {
    "id": "c1lIk3Gab6Bp"
   },
   "outputs": [],
   "source": [
    "# model"
   ]
  },
  {
   "cell_type": "code",
   "execution_count": null,
   "metadata": {
    "id": "W4iBPPR7i9YW"
   },
   "outputs": [],
   "source": []
  },
  {
   "cell_type": "code",
   "execution_count": null,
   "metadata": {
    "id": "_VE1zznmY1zx"
   },
   "outputs": [],
   "source": []
  },
  {
   "cell_type": "code",
   "execution_count": 52,
   "metadata": {
    "id": "aWnb7WWri9qK"
   },
   "outputs": [],
   "source": [
    "sq = torch.nn.Sequential(*(list(base_model_frozen.children())[:-1] + [torch.nn.Flatten()]))\n"
   ]
  },
  {
   "cell_type": "code",
   "execution_count": null,
   "metadata": {
    "id": "hwqkMWDVZCzC"
   },
   "outputs": [],
   "source": []
  },
  {
   "cell_type": "code",
   "execution_count": null,
   "metadata": {
    "id": "1FMWDmDiYZoe"
   },
   "outputs": [],
   "source": []
  },
  {
   "cell_type": "code",
   "execution_count": null,
   "metadata": {
    "id": "80yQcuSkbIyz"
   },
   "outputs": [],
   "source": []
  },
  {
   "cell_type": "code",
   "execution_count": null,
   "metadata": {
    "id": "YubYHl0gbJK6"
   },
   "outputs": [],
   "source": []
  },
  {
   "cell_type": "code",
   "execution_count": 53,
   "metadata": {
    "colab": {
     "base_uri": "https://localhost:8080/"
    },
    "id": "-kAHU5hTh6Qa",
    "outputId": "02a73279-bc09-4068-b181-a77d59183be9"
   },
   "outputs": [
    {
     "data": {
      "text/plain": [
       "ResNet(\n",
       "  (conv1): Conv2d(3, 64, kernel_size=(7, 7), stride=(2, 2), padding=(3, 3), bias=False)\n",
       "  (bn1): BatchNorm2d(64, eps=1e-05, momentum=0.1, affine=True, track_running_stats=True)\n",
       "  (relu): ReLU(inplace=True)\n",
       "  (maxpool): MaxPool2d(kernel_size=3, stride=2, padding=1, dilation=1, ceil_mode=False)\n",
       "  (layer1): Sequential(\n",
       "    (0): BasicBlock(\n",
       "      (conv1): Conv2d(64, 64, kernel_size=(3, 3), stride=(1, 1), padding=(1, 1), bias=False)\n",
       "      (bn1): BatchNorm2d(64, eps=1e-05, momentum=0.1, affine=True, track_running_stats=True)\n",
       "      (relu): ReLU(inplace=True)\n",
       "      (conv2): Conv2d(64, 64, kernel_size=(3, 3), stride=(1, 1), padding=(1, 1), bias=False)\n",
       "      (bn2): BatchNorm2d(64, eps=1e-05, momentum=0.1, affine=True, track_running_stats=True)\n",
       "    )\n",
       "    (1): BasicBlock(\n",
       "      (conv1): Conv2d(64, 64, kernel_size=(3, 3), stride=(1, 1), padding=(1, 1), bias=False)\n",
       "      (bn1): BatchNorm2d(64, eps=1e-05, momentum=0.1, affine=True, track_running_stats=True)\n",
       "      (relu): ReLU(inplace=True)\n",
       "      (conv2): Conv2d(64, 64, kernel_size=(3, 3), stride=(1, 1), padding=(1, 1), bias=False)\n",
       "      (bn2): BatchNorm2d(64, eps=1e-05, momentum=0.1, affine=True, track_running_stats=True)\n",
       "    )\n",
       "  )\n",
       "  (layer2): Sequential(\n",
       "    (0): BasicBlock(\n",
       "      (conv1): Conv2d(64, 128, kernel_size=(3, 3), stride=(2, 2), padding=(1, 1), bias=False)\n",
       "      (bn1): BatchNorm2d(128, eps=1e-05, momentum=0.1, affine=True, track_running_stats=True)\n",
       "      (relu): ReLU(inplace=True)\n",
       "      (conv2): Conv2d(128, 128, kernel_size=(3, 3), stride=(1, 1), padding=(1, 1), bias=False)\n",
       "      (bn2): BatchNorm2d(128, eps=1e-05, momentum=0.1, affine=True, track_running_stats=True)\n",
       "      (downsample): Sequential(\n",
       "        (0): Conv2d(64, 128, kernel_size=(1, 1), stride=(2, 2), bias=False)\n",
       "        (1): BatchNorm2d(128, eps=1e-05, momentum=0.1, affine=True, track_running_stats=True)\n",
       "      )\n",
       "    )\n",
       "    (1): BasicBlock(\n",
       "      (conv1): Conv2d(128, 128, kernel_size=(3, 3), stride=(1, 1), padding=(1, 1), bias=False)\n",
       "      (bn1): BatchNorm2d(128, eps=1e-05, momentum=0.1, affine=True, track_running_stats=True)\n",
       "      (relu): ReLU(inplace=True)\n",
       "      (conv2): Conv2d(128, 128, kernel_size=(3, 3), stride=(1, 1), padding=(1, 1), bias=False)\n",
       "      (bn2): BatchNorm2d(128, eps=1e-05, momentum=0.1, affine=True, track_running_stats=True)\n",
       "    )\n",
       "  )\n",
       "  (layer3): Sequential(\n",
       "    (0): BasicBlock(\n",
       "      (conv1): Conv2d(128, 256, kernel_size=(3, 3), stride=(2, 2), padding=(1, 1), bias=False)\n",
       "      (bn1): BatchNorm2d(256, eps=1e-05, momentum=0.1, affine=True, track_running_stats=True)\n",
       "      (relu): ReLU(inplace=True)\n",
       "      (conv2): Conv2d(256, 256, kernel_size=(3, 3), stride=(1, 1), padding=(1, 1), bias=False)\n",
       "      (bn2): BatchNorm2d(256, eps=1e-05, momentum=0.1, affine=True, track_running_stats=True)\n",
       "      (downsample): Sequential(\n",
       "        (0): Conv2d(128, 256, kernel_size=(1, 1), stride=(2, 2), bias=False)\n",
       "        (1): BatchNorm2d(256, eps=1e-05, momentum=0.1, affine=True, track_running_stats=True)\n",
       "      )\n",
       "    )\n",
       "    (1): BasicBlock(\n",
       "      (conv1): Conv2d(256, 256, kernel_size=(3, 3), stride=(1, 1), padding=(1, 1), bias=False)\n",
       "      (bn1): BatchNorm2d(256, eps=1e-05, momentum=0.1, affine=True, track_running_stats=True)\n",
       "      (relu): ReLU(inplace=True)\n",
       "      (conv2): Conv2d(256, 256, kernel_size=(3, 3), stride=(1, 1), padding=(1, 1), bias=False)\n",
       "      (bn2): BatchNorm2d(256, eps=1e-05, momentum=0.1, affine=True, track_running_stats=True)\n",
       "    )\n",
       "  )\n",
       "  (layer4): Sequential(\n",
       "    (0): BasicBlock(\n",
       "      (conv1): Conv2d(256, 512, kernel_size=(3, 3), stride=(2, 2), padding=(1, 1), bias=False)\n",
       "      (bn1): BatchNorm2d(512, eps=1e-05, momentum=0.1, affine=True, track_running_stats=True)\n",
       "      (relu): ReLU(inplace=True)\n",
       "      (conv2): Conv2d(512, 512, kernel_size=(3, 3), stride=(1, 1), padding=(1, 1), bias=False)\n",
       "      (bn2): BatchNorm2d(512, eps=1e-05, momentum=0.1, affine=True, track_running_stats=True)\n",
       "      (downsample): Sequential(\n",
       "        (0): Conv2d(256, 512, kernel_size=(1, 1), stride=(2, 2), bias=False)\n",
       "        (1): BatchNorm2d(512, eps=1e-05, momentum=0.1, affine=True, track_running_stats=True)\n",
       "      )\n",
       "    )\n",
       "    (1): BasicBlock(\n",
       "      (conv1): Conv2d(512, 512, kernel_size=(3, 3), stride=(1, 1), padding=(1, 1), bias=False)\n",
       "      (bn1): BatchNorm2d(512, eps=1e-05, momentum=0.1, affine=True, track_running_stats=True)\n",
       "      (relu): ReLU(inplace=True)\n",
       "      (conv2): Conv2d(512, 512, kernel_size=(3, 3), stride=(1, 1), padding=(1, 1), bias=False)\n",
       "      (bn2): BatchNorm2d(512, eps=1e-05, momentum=0.1, affine=True, track_running_stats=True)\n",
       "    )\n",
       "  )\n",
       "  (avgpool): AdaptiveAvgPool2d(output_size=(1, 1))\n",
       "  (fc): Linear(in_features=512, out_features=1000, bias=True)\n",
       ")"
      ]
     },
     "execution_count": 53,
     "metadata": {},
     "output_type": "execute_result"
    }
   ],
   "source": [
    "base_model_frozen"
   ]
  },
  {
   "cell_type": "code",
   "execution_count": null,
   "metadata": {
    "id": "_E18ZEzpClNd"
   },
   "outputs": [],
   "source": []
  },
  {
   "cell_type": "code",
   "execution_count": 54,
   "metadata": {
    "colab": {
     "base_uri": "https://localhost:8080/"
    },
    "id": "n6Qx-1NGJNY3",
    "outputId": "f7cb3ded-3b48-439e-bf57-a526fb48bac7"
   },
   "outputs": [
    {
     "data": {
      "text/plain": [
       "ModelTackOn(\n",
       "  (base_model): Sequential(\n",
       "    (0): Conv2d(3, 64, kernel_size=(7, 7), stride=(2, 2), padding=(3, 3), bias=False)\n",
       "    (1): BatchNorm2d(64, eps=1e-05, momentum=0.1, affine=True, track_running_stats=True)\n",
       "    (2): ReLU(inplace=True)\n",
       "    (3): MaxPool2d(kernel_size=3, stride=2, padding=1, dilation=1, ceil_mode=False)\n",
       "    (4): Sequential(\n",
       "      (0): BasicBlock(\n",
       "        (conv1): Conv2d(64, 64, kernel_size=(3, 3), stride=(1, 1), padding=(1, 1), bias=False)\n",
       "        (bn1): BatchNorm2d(64, eps=1e-05, momentum=0.1, affine=True, track_running_stats=True)\n",
       "        (relu): ReLU(inplace=True)\n",
       "        (conv2): Conv2d(64, 64, kernel_size=(3, 3), stride=(1, 1), padding=(1, 1), bias=False)\n",
       "        (bn2): BatchNorm2d(64, eps=1e-05, momentum=0.1, affine=True, track_running_stats=True)\n",
       "      )\n",
       "      (1): BasicBlock(\n",
       "        (conv1): Conv2d(64, 64, kernel_size=(3, 3), stride=(1, 1), padding=(1, 1), bias=False)\n",
       "        (bn1): BatchNorm2d(64, eps=1e-05, momentum=0.1, affine=True, track_running_stats=True)\n",
       "        (relu): ReLU(inplace=True)\n",
       "        (conv2): Conv2d(64, 64, kernel_size=(3, 3), stride=(1, 1), padding=(1, 1), bias=False)\n",
       "        (bn2): BatchNorm2d(64, eps=1e-05, momentum=0.1, affine=True, track_running_stats=True)\n",
       "      )\n",
       "    )\n",
       "    (5): Sequential(\n",
       "      (0): BasicBlock(\n",
       "        (conv1): Conv2d(64, 128, kernel_size=(3, 3), stride=(2, 2), padding=(1, 1), bias=False)\n",
       "        (bn1): BatchNorm2d(128, eps=1e-05, momentum=0.1, affine=True, track_running_stats=True)\n",
       "        (relu): ReLU(inplace=True)\n",
       "        (conv2): Conv2d(128, 128, kernel_size=(3, 3), stride=(1, 1), padding=(1, 1), bias=False)\n",
       "        (bn2): BatchNorm2d(128, eps=1e-05, momentum=0.1, affine=True, track_running_stats=True)\n",
       "        (downsample): Sequential(\n",
       "          (0): Conv2d(64, 128, kernel_size=(1, 1), stride=(2, 2), bias=False)\n",
       "          (1): BatchNorm2d(128, eps=1e-05, momentum=0.1, affine=True, track_running_stats=True)\n",
       "        )\n",
       "      )\n",
       "      (1): BasicBlock(\n",
       "        (conv1): Conv2d(128, 128, kernel_size=(3, 3), stride=(1, 1), padding=(1, 1), bias=False)\n",
       "        (bn1): BatchNorm2d(128, eps=1e-05, momentum=0.1, affine=True, track_running_stats=True)\n",
       "        (relu): ReLU(inplace=True)\n",
       "        (conv2): Conv2d(128, 128, kernel_size=(3, 3), stride=(1, 1), padding=(1, 1), bias=False)\n",
       "        (bn2): BatchNorm2d(128, eps=1e-05, momentum=0.1, affine=True, track_running_stats=True)\n",
       "      )\n",
       "    )\n",
       "    (6): Sequential(\n",
       "      (0): BasicBlock(\n",
       "        (conv1): Conv2d(128, 256, kernel_size=(3, 3), stride=(2, 2), padding=(1, 1), bias=False)\n",
       "        (bn1): BatchNorm2d(256, eps=1e-05, momentum=0.1, affine=True, track_running_stats=True)\n",
       "        (relu): ReLU(inplace=True)\n",
       "        (conv2): Conv2d(256, 256, kernel_size=(3, 3), stride=(1, 1), padding=(1, 1), bias=False)\n",
       "        (bn2): BatchNorm2d(256, eps=1e-05, momentum=0.1, affine=True, track_running_stats=True)\n",
       "        (downsample): Sequential(\n",
       "          (0): Conv2d(128, 256, kernel_size=(1, 1), stride=(2, 2), bias=False)\n",
       "          (1): BatchNorm2d(256, eps=1e-05, momentum=0.1, affine=True, track_running_stats=True)\n",
       "        )\n",
       "      )\n",
       "      (1): BasicBlock(\n",
       "        (conv1): Conv2d(256, 256, kernel_size=(3, 3), stride=(1, 1), padding=(1, 1), bias=False)\n",
       "        (bn1): BatchNorm2d(256, eps=1e-05, momentum=0.1, affine=True, track_running_stats=True)\n",
       "        (relu): ReLU(inplace=True)\n",
       "        (conv2): Conv2d(256, 256, kernel_size=(3, 3), stride=(1, 1), padding=(1, 1), bias=False)\n",
       "        (bn2): BatchNorm2d(256, eps=1e-05, momentum=0.1, affine=True, track_running_stats=True)\n",
       "      )\n",
       "    )\n",
       "    (7): Sequential(\n",
       "      (0): BasicBlock(\n",
       "        (conv1): Conv2d(256, 512, kernel_size=(3, 3), stride=(2, 2), padding=(1, 1), bias=False)\n",
       "        (bn1): BatchNorm2d(512, eps=1e-05, momentum=0.1, affine=True, track_running_stats=True)\n",
       "        (relu): ReLU(inplace=True)\n",
       "        (conv2): Conv2d(512, 512, kernel_size=(3, 3), stride=(1, 1), padding=(1, 1), bias=False)\n",
       "        (bn2): BatchNorm2d(512, eps=1e-05, momentum=0.1, affine=True, track_running_stats=True)\n",
       "        (downsample): Sequential(\n",
       "          (0): Conv2d(256, 512, kernel_size=(1, 1), stride=(2, 2), bias=False)\n",
       "          (1): BatchNorm2d(512, eps=1e-05, momentum=0.1, affine=True, track_running_stats=True)\n",
       "        )\n",
       "      )\n",
       "      (1): BasicBlock(\n",
       "        (conv1): Conv2d(512, 512, kernel_size=(3, 3), stride=(1, 1), padding=(1, 1), bias=False)\n",
       "        (bn1): BatchNorm2d(512, eps=1e-05, momentum=0.1, affine=True, track_running_stats=True)\n",
       "        (relu): ReLU(inplace=True)\n",
       "        (conv2): Conv2d(512, 512, kernel_size=(3, 3), stride=(1, 1), padding=(1, 1), bias=False)\n",
       "        (bn2): BatchNorm2d(512, eps=1e-05, momentum=0.1, affine=True, track_running_stats=True)\n",
       "      )\n",
       "    )\n",
       "    (8): AdaptiveAvgPool2d(output_size=(1, 1))\n",
       "    (9): Flatten(start_dim=1, end_dim=-1)\n",
       "  )\n",
       "  (PreHead_0): Linear(in_features=512, out_features=256, bias=True)\n",
       "  (PostHead_0): Linear(in_features=256, out_features=128, bias=True)\n",
       "  (Classifier_0): Linear(in_features=256, out_features=4, bias=True)\n",
       ")"
      ]
     },
     "execution_count": 54,
     "metadata": {},
     "output_type": "execute_result"
    }
   ],
   "source": [
    "model = ModelTackOn(sq.to(DEVICE), base_model_frozen, pre_head_fc_sizes=[256], post_head_fc_sizes=[128], classifier_fc_sizes=[len(np.unique(y_train))])\n",
    "# model = ModelTackOn(sq.to(DEVICE), base_model_frozen, pre_head_fc_sizes=[len(np.unique(y_train))], post_head_fc_sizes=[])\n",
    "# model = ModelTackOn(sq.to(DEVICE), base_model_frozen, pre_head_fc_sizes=[len(np.unique(y_train))], post_head_fc_sizes=[])\n",
    "\n",
    "# model = torch.nn.Sequential([sq.to(DEVICE), torch.nn.Linear], pre_head_fc_sizes=[len(np.unique(y_train))], post_head_fc_sizes=[])\n",
    "\n",
    "\n",
    "# model = ModelTackOn(base_model_frozen, pre_head_fc_sizes=[len(np.unique(y_train))], post_head_fc_sizes=[])\n",
    "# model = ModelTackOn(base_model, pre_head_fc_sizes=[len(np.unique(y_train))], post_head_fc_sizes=[])\n",
    "model.train()"
   ]
  },
  {
   "cell_type": "code",
   "execution_count": null,
   "metadata": {
    "id": "OQ27o1ny9Xfi"
   },
   "outputs": [],
   "source": []
  },
  {
   "cell_type": "code",
   "execution_count": 55,
   "metadata": {
    "id": "yDqu-bi8mnJB"
   },
   "outputs": [],
   "source": [
    "from torch.nn import CrossEntropyLoss\n",
    "from torch.optim import Adam\n",
    "\n",
    "import numpy as np\n",
    "\n",
    "from sklearn.linear_model import LogisticRegression\n",
    "from sklearn.tree import DecisionTreeClassifier\n",
    "from sklearn.ensemble import RandomForestClassifier\n",
    "from sklearn.svm import SVC\n",
    "\n",
    "\n",
    "# model = models.LeNet1(dropout_prob=0.3, momentum_val=0, n_output_features=64)\n",
    "\n",
    "\n",
    "criterion = [CrossEntropyLoss()]\n",
    "# criterion = CrossEntropyLoss(reduction='none')\n",
    "\n",
    "# optimizer = Adam(model.parameters(), lr=1e-2, weight_decay=0.0)\n",
    "# optimizer = Adam(model.parameters(), lr=2e-2)\n",
    "optimizer = Adam(model.parameters(), lr=1e-3)\n",
    "scheduler = torch.optim.lr_scheduler.ExponentialLR(optimizer,\n",
    "                                                   gamma=1-0.0002,\n",
    "#                                                    gamma=1,\n",
    "                                                  )\n",
    "model.to(DEVICE)\n",
    "criterion = [_.to(DEVICE) for _ in criterion]\n",
    "losses_train, losses_val, val_accs, acc = [], [np.nan], [], []"
   ]
  },
  {
   "cell_type": "code",
   "execution_count": 56,
   "metadata": {
    "id": "-Y6KAwA6nkY9"
   },
   "outputs": [],
   "source": [
    "from torch.utils.data import Dataset\n"
   ]
  },
  {
   "cell_type": "code",
   "execution_count": null,
   "metadata": {
    "id": "EY65pN-rRy21"
   },
   "outputs": [],
   "source": []
  },
  {
   "cell_type": "code",
   "execution_count": 57,
   "metadata": {
    "id": "PmM4nnV1nCVd"
   },
   "outputs": [],
   "source": [
    "pct_batch_size = 1.0\n",
    "\n",
    "# dataset_train = util.dataset_supervised(\n",
    "#                                     X_train,\n",
    "#                                     y_train,\n",
    "#                                     class_weights=np.array([1]*4)[np.random.randint(0,4, X_train.shape[0])],\n",
    "#                                     transform=scripted_transforms,\n",
    "#                                     DEVICE='cpu',\n",
    "#                                     dtype_X=torch.float32,\n",
    "#                                     dtype_y=torch.int64\n",
    "#                                     )\n",
    "\n",
    "\n",
    "\n",
    "dataset_train = util.dataset_simCLR(\n",
    "                                    torch.as_tensor(X_train_all, device=DEVICE, dtype=torch.float32), \n",
    "                                    torch.as_tensor(y_train_all, device=DEVICE, dtype=torch.float32),\n",
    "\n",
    "                                    n_transforms=2,\n",
    "                                    class_weights=np.array([1]*4),\n",
    "                                    # class_weights=np.array([1]*4)[np.random.randint(0,4, X_train.shape[0])],\n",
    "                                    transform=scripted_transforms,\n",
    "                                    # DEVICE='cpu',\n",
    "                                    DEVICE=DEVICE,\n",
    "                                    dtype_X=torch.float32,\n",
    "                                    dtype_y=torch.int64,\n",
    "                                    \n",
    "                                    temperature=16\n",
    "                                    )\n",
    "\n",
    "\n",
    "\n",
    "\n",
    "dataset_train = util.dataset_simCLR_label_extension(\n",
    "                                    torch.as_tensor(X_train_all, device=DEVICE, dtype=torch.float32), \n",
    "                                    torch.as_tensor(y_train_all, device=DEVICE, dtype=torch.float32),\n",
    "                                    \n",
    "                                    torch.as_tensor(X_train, device=DEVICE, dtype=torch.float32), \n",
    "                                    torch.as_tensor(y_train, device=DEVICE, dtype=torch.float32), \n",
    "\n",
    "                                    n_transforms=2,\n",
    "                                    class_weights=np.array([1]*4),\n",
    "                                    # class_weights=np.array([1]*4)[np.random.randint(0,4, X_train.shape[0])],\n",
    "                                    transform=scripted_transforms,\n",
    "                                    # DEVICE='cpu',\n",
    "                                    DEVICE=DEVICE,\n",
    "                                    dtype_X=torch.float32,\n",
    "                                    dtype_y=torch.int64,\n",
    "                                    \n",
    "                                    temperature=16\n",
    "                                    )\n",
    "\n",
    "dataloader_train = torch.utils.data.DataLoader( dataset_train,\n",
    "                                                batch_size=int(pct_batch_size*X_train.shape[0]),\n",
    "                                                # batch_size=64,\n",
    "                                                shuffle=True,\n",
    "                                                drop_last=True,\n",
    "                                                pin_memory=True,\n",
    "                                                # num_workers=16,\n",
    "                                                # persistent_workers=True,\n",
    "                                                # prefetch_factor=0\n",
    "                                                )\n",
    "\n"
   ]
  },
  {
   "cell_type": "code",
   "execution_count": 58,
   "metadata": {
    "id": "2wTQxJe5SIlW"
   },
   "outputs": [],
   "source": [
    "# model(dataset_train[0])"
   ]
  },
  {
   "cell_type": "code",
   "execution_count": 64,
   "metadata": {
    "colab": {
     "base_uri": "https://localhost:8080/"
    },
    "id": "6uItmxawSLUc",
    "outputId": "5d0f5a08-6701-4647-e5b7-b0aed342f592"
   },
   "outputs": [
    {
     "data": {
      "text/plain": [
       "(0.572940424, 2.258171272)"
      ]
     },
     "execution_count": 64,
     "metadata": {},
     "output_type": "execute_result"
    }
   ],
   "source": [
    "\n",
    "import sys\n",
    "sys.getsizeof(X_labeled_train)/1e9, sys.getsizeof(images_all)/1e9"
   ]
  },
  {
   "cell_type": "code",
   "execution_count": 65,
   "metadata": {
    "id": "ZJFiBslqSunq"
   },
   "outputs": [],
   "source": [
    "# for dl in dataloader_train:\n",
    "#   print(dl[0].shape)\n",
    "#   break"
   ]
  },
  {
   "cell_type": "code",
   "execution_count": 66,
   "metadata": {
    "id": "zo42G3CeWozY"
   },
   "outputs": [],
   "source": [
    "from sklearn.metrics import confusion_matrix\n",
    "\n",
    "def get_cm(pred_cm, y_cm, plot=False):\n",
    "  ### NOTE — RETURNS A MATRIX WITH PREDICTION NUM ASSOCIATED WITH ROW NUM\n",
    "  ### AND COLUMN NUM ASSOCIATED WITH TRUE VALUE. (TRANSPOSE OF SKLEARN OUTPUT.)\n",
    "\n",
    "  cm = confusion_matrix(y_cm, np.argmax(pred_cm, -1))\n",
    "  cm = cm / np.where(cm.sum(1, keepdims=True)==0, np.ones_like(cm.sum(1, keepdims=True)), cm.sum(1, keepdims=True))\n",
    "  \n",
    "  # cm = classification.confusion_matrix(y_hat, y_labeled_val)\n",
    "  # print(cm)\n",
    "  \n",
    "  if plot:\n",
    "    plt.figure()\n",
    "    plt.imshow(cm)\n",
    "    plt.colorbar()\n",
    "    plt.show()\n",
    "  \n",
    "  return cm.T"
   ]
  },
  {
   "cell_type": "code",
   "execution_count": 67,
   "metadata": {
    "colab": {
     "base_uri": "https://localhost:8080/"
    },
    "id": "raBIkDO8cjqq",
    "outputId": "2364ddea-8cfe-4a7b-e98c-94814a44c7e6"
   },
   "outputs": [
    {
     "data": {
      "text/plain": [
       "(torch.Size([7771, 512]),\n",
       " torch.Size([971, 512]),\n",
       " torch.Size([7771, 512]),\n",
       " torch.Size([971, 512]))"
      ]
     },
     "execution_count": 67,
     "metadata": {},
     "output_type": "execute_result"
    }
   ],
   "source": [
    "x_feed_through_tr = util.tile_channels(torch.as_tensor(X_train[:,None,...], device=DEVICE, dtype=torch.float32), dim=1)\n",
    "x_feed_through_val = util.tile_channels(torch.as_tensor(X_val[:,None,...], device=DEVICE, dtype=torch.float32), dim=1)\n",
    "x_feed_through_te = util.tile_channels(torch.as_tensor(X_test[:,None,...], device=DEVICE, dtype=torch.float32), dim=1)\n",
    "\n",
    "cpu_tr = sq(x_feed_through_tr)\n",
    "cpu_val = sq(x_feed_through_val)\n",
    "cpu_te = sq(x_feed_through_te)\n",
    "cpu_tr.shape, cpu_val.shape, cpu_tr.squeeze().shape, cpu_val.squeeze().shape"
   ]
  },
  {
   "cell_type": "code",
   "execution_count": 68,
   "metadata": {
    "colab": {
     "base_uri": "https://localhost:8080/"
    },
    "id": "YWk_NgpNd2Ia",
    "outputId": "2959f230-bd91-46cd-e898-d270aade7e54"
   },
   "outputs": [
    {
     "name": "stdout",
     "output_type": "stream",
     "text": [
      "torch.Size([7771, 3, 96, 96]) torch.Size([971, 3, 96, 96])\n"
     ]
    }
   ],
   "source": [
    "num_tr_ex = X_val.shape[0]\n",
    "\n",
    "\n",
    "# solver = 'lbfgs'\n",
    "solver = 'liblinear'\n",
    "# solver = 'newton-cg'\n",
    "C_reg = 0.01\n",
    "# C_reg = 0.0001\n",
    "\n",
    "\n",
    "# logreg = LogisticRegression(solver=solver, C=C_reg)\n",
    "# logreg = LogisticRegression(solver=solver, penalty='none', )\n",
    "# logreg = LogisticRegression(solver=solver, penalty='none', max_iter=4000)\n",
    "# logreg = LogisticRegression(solver=solver)\n",
    "logreg = LogisticRegression(solver=solver, C=C_reg)\n",
    "# logreg = LogisticRegression(solver='lbfgs', penalty='none', max_iter=4000)\n",
    "\n",
    "# base_features_train = base_model_frozen(x_feed_through_tr).detach().cpu()\n",
    "base_features_train = cpu_tr.cpu().detach().numpy()\n",
    "logreg.fit(base_features_train, y_train)\n",
    "\n",
    "# base_features_val = base_model_frozen(x_feed_through_val).detach().cpu()\n",
    "base_features_val = cpu_val.cpu().detach().numpy()\n",
    "\n",
    "base_features_te = cpu_te.cpu().detach().numpy()\n",
    "\n",
    "# base_model_frozen.to('cpu')\n",
    "# X_labeled_train.to('cpu')\n",
    "\n",
    "logistic_pred_train = get_cm(logreg.predict_proba(base_features_train), y_train)\n",
    "logistic_pred_val = get_cm(logreg.predict_proba(base_features_val), y_val)\n",
    "logistic_pred_test = get_cm(logreg.predict_proba(base_features_te), y_test)\n",
    "\n",
    "\n",
    "x_feed_through_tr.to(DEVICE)\n",
    "x_feed_through_val.to(DEVICE)\n",
    "x_feed_through_te.to(DEVICE)\n",
    "\n",
    "print(x_feed_through_tr.shape, x_feed_through_val.shape)"
   ]
  },
  {
   "cell_type": "code",
   "execution_count": null,
   "metadata": {
    "id": "WPpNvczN3lwB"
   },
   "outputs": [],
   "source": []
  },
  {
   "cell_type": "code",
   "execution_count": 69,
   "metadata": {
    "colab": {
     "base_uri": "https://localhost:8080/"
    },
    "id": "72YFgP8T0P24",
    "outputId": "946fd09c-b709-4a3e-9da5-34cc69345b88"
   },
   "outputs": [
    {
     "data": {
      "text/plain": [
       "(torch.Size([7771, 3, 96, 96]),\n",
       " torch.Size([971, 3, 96, 96]),\n",
       " torch.Size([972, 3, 96, 96]))"
      ]
     },
     "execution_count": 69,
     "metadata": {},
     "output_type": "execute_result"
    }
   ],
   "source": [
    "x_feed_through_tr.shape, x_feed_through_val.shape, x_feed_through_te.shape"
   ]
  },
  {
   "cell_type": "code",
   "execution_count": null,
   "metadata": {
    "id": "A83Uqty13YEe"
   },
   "outputs": [],
   "source": []
  },
  {
   "cell_type": "code",
   "execution_count": 70,
   "metadata": {
    "colab": {
     "base_uri": "https://localhost:8080/"
    },
    "id": "n3Rvm-h93X3t",
    "outputId": "f0300192-e7d3-4eb1-99e3-2376b2e65254"
   },
   "outputs": [
    {
     "data": {
      "text/plain": [
       "array([[8.52534562e-01, 1.28352490e-01, 1.29390018e-02, 1.59387950e-04],\n",
       "       [1.33640553e-01, 6.87739464e-01, 1.29390018e-01, 1.43449155e-03],\n",
       "       [1.38248848e-02, 1.30268199e-01, 5.54528651e-01, 1.19540963e-02],\n",
       "       [0.00000000e+00, 5.36398467e-02, 3.03142329e-01, 9.86452024e-01]])"
      ]
     },
     "execution_count": 70,
     "metadata": {},
     "output_type": "execute_result"
    }
   ],
   "source": [
    "logistic_pred_train"
   ]
  },
  {
   "cell_type": "code",
   "execution_count": 71,
   "metadata": {
    "colab": {
     "base_uri": "https://localhost:8080/"
    },
    "id": "dcFee0BR3ZWD",
    "outputId": "8d6348b0-3c25-4f26-96b9-8f79eb0e392f"
   },
   "outputs": [
    {
     "data": {
      "text/plain": [
       "array([[0.66666667, 0.23076923, 0.01282051, 0.00126103],\n",
       "       [0.3125    , 0.44230769, 0.28205128, 0.00504414],\n",
       "       [0.        , 0.17307692, 0.43589744, 0.01513241],\n",
       "       [0.02083333, 0.15384615, 0.26923077, 0.97856242]])"
      ]
     },
     "execution_count": 71,
     "metadata": {},
     "output_type": "execute_result"
    }
   ],
   "source": [
    "logistic_pred_val"
   ]
  },
  {
   "cell_type": "code",
   "execution_count": 72,
   "metadata": {
    "colab": {
     "base_uri": "https://localhost:8080/"
    },
    "id": "VjlupE4ny8Rb",
    "outputId": "361b4bd7-d977-4b80-c7d5-792c56a723f1"
   },
   "outputs": [
    {
     "data": {
      "text/plain": [
       "array([[0.72      , 0.2826087 , 0.01612903, 0.        ],\n",
       "       [0.2       , 0.52173913, 0.22580645, 0.002457  ],\n",
       "       [0.02      , 0.15217391, 0.38709677, 0.02457002],\n",
       "       [0.06      , 0.04347826, 0.37096774, 0.97297297]])"
      ]
     },
     "execution_count": 72,
     "metadata": {},
     "output_type": "execute_result"
    }
   ],
   "source": [
    "logistic_pred_test\n"
   ]
  },
  {
   "cell_type": "code",
   "execution_count": 73,
   "metadata": {
    "id": "i5Fo1Bkxgyrb"
   },
   "outputs": [],
   "source": [
    "# prm = []\n",
    "\n",
    "# for param in model.parameters():\n",
    "#   if param.requires_grad:\n",
    "#     print(param.shape)\n",
    "#     prm.append(param)\n",
    "# (logreg.coef_ - prm[0].cpu().detach().numpy()), (logreg.intercept_ - prm[1].cpu().detach().numpy())"
   ]
  },
  {
   "cell_type": "code",
   "execution_count": null,
   "metadata": {
    "id": "Wu_nwg6oNZAY"
   },
   "outputs": [],
   "source": []
  },
  {
   "cell_type": "code",
   "execution_count": null,
   "metadata": {
    "id": "v7eGRhmLg1dU"
   },
   "outputs": [],
   "source": []
  },
  {
   "cell_type": "code",
   "execution_count": null,
   "metadata": {
    "id": "lKmEtmYbg1oP"
   },
   "outputs": [],
   "source": []
  },
  {
   "cell_type": "code",
   "execution_count": 74,
   "metadata": {
    "colab": {
     "base_uri": "https://localhost:8080/"
    },
    "id": "YN_mW4cZfNfQ",
    "outputId": "fde6f87f-999f-47e8-da3b-d3ed22fc2009"
   },
   "outputs": [
    {
     "name": "stdout",
     "output_type": "stream",
     "text": [
      "var: x_feed_through_tr,   device:cuda:0,   shape: torch.Size([7771, 3, 96, 96]),   size: 0.859410432 GB,   requires_grad: False\n",
      "var: x_feed_through_val,   device:cuda:0,   shape: torch.Size([971, 3, 96, 96]),   size: 0.107384832 GB,   requires_grad: False\n",
      "var: x_feed_through_te,   device:cuda:0,   shape: torch.Size([972, 3, 96, 96]),   size: 0.107495424 GB,   requires_grad: False\n",
      "var: cpu_tr,   device:cuda:0,   shape: torch.Size([7771, 512]),   size: 0.015915008 GB,   requires_grad: False\n",
      "var: cpu_val,   device:cuda:0,   shape: torch.Size([971, 512]),   size: 0.001988608 GB,   requires_grad: False\n",
      "var: cpu_te,   device:cuda:0,   shape: torch.Size([972, 512]),   size: 0.001990656 GB,   requires_grad: False\n"
     ]
    }
   ],
   "source": [
    "for i in range(1):\n",
    "  torch_helpers.show_all_tensors(globals())"
   ]
  },
  {
   "cell_type": "code",
   "execution_count": 75,
   "metadata": {
    "colab": {
     "base_uri": "https://localhost:8080/"
    },
    "id": "nstWf2PhVwfV",
    "outputId": "968f73ab-75d7-4735-ea1e-49e7fb3821cc"
   },
   "outputs": [
    {
     "data": {
      "text/plain": [
       "0"
      ]
     },
     "execution_count": 75,
     "metadata": {},
     "output_type": "execute_result"
    }
   ],
   "source": [
    "# torch_helpers.delete_all_cuda_tensors(globals())\n",
    "\n",
    "import gc\n",
    "\n",
    "torch.cuda.empty_cache()\n",
    "gc.collect()\n",
    "torch.cuda.empty_cache()\n",
    "gc.collect()\n",
    "torch.cuda.empty_cache()\n",
    "gc.collect()\n",
    "torch.cuda.empty_cache()\n",
    "gc.collect()"
   ]
  },
  {
   "cell_type": "code",
   "execution_count": 76,
   "metadata": {
    "colab": {
     "base_uri": "https://localhost:8080/"
    },
    "id": "nIjthSBN0Qmh",
    "outputId": "23144120-55be-41fe-f36b-404d64158718"
   },
   "outputs": [
    {
     "name": "stdout",
     "output_type": "stream",
     "text": [
      "var: x_feed_through_tr,   device:cuda:0,   shape: torch.Size([7771, 3, 96, 96]),   size: 0.859410432 GB,   requires_grad: False\n",
      "var: x_feed_through_val,   device:cuda:0,   shape: torch.Size([971, 3, 96, 96]),   size: 0.107384832 GB,   requires_grad: False\n",
      "var: x_feed_through_te,   device:cuda:0,   shape: torch.Size([972, 3, 96, 96]),   size: 0.107495424 GB,   requires_grad: False\n",
      "var: cpu_tr,   device:cuda:0,   shape: torch.Size([7771, 512]),   size: 0.015915008 GB,   requires_grad: False\n",
      "var: cpu_val,   device:cuda:0,   shape: torch.Size([971, 512]),   size: 0.001988608 GB,   requires_grad: False\n",
      "var: cpu_te,   device:cuda:0,   shape: torch.Size([972, 512]),   size: 0.001990656 GB,   requires_grad: False\n"
     ]
    }
   ],
   "source": [
    "# figure out what % of the dataset is being used\n",
    "torch_helpers.show_all_tensors(globals())\n"
   ]
  },
  {
   "cell_type": "code",
   "execution_count": null,
   "metadata": {
    "id": "GrPm4kFNN5h_"
   },
   "outputs": [],
   "source": []
  },
  {
   "cell_type": "code",
   "execution_count": null,
   "metadata": {
    "colab": {
     "base_uri": "https://localhost:8080/"
    },
    "id": "rvDiVxDICXEn",
    "outputId": "2c29e3cf-4515-4aae-f0b1-22e30d51fa5f"
   },
   "outputs": [],
   "source": [
    "x_feed_through_tr.to(DEVICE)\n",
    "x_feed_through_val.to(DEVICE)\n",
    "cpu_tr.to(DEVICE)\n",
    "cpu_val.to(DEVICE)\n",
    "model.to(DEVICE)\n",
    "base_model_frozen.to(DEVICE)\n",
    "\n",
    "\n",
    "\n",
    "penalized_params = list(model.modules())[-1].parameters()\n",
    "penalized_params = torch.cat([_.view(-1) for _ in penalized_params], -1)\n",
    "\n",
    "early_stopping = 50\n",
    "prv_best_val = np.inf\n",
    "early_stopping_cnt = 0\n",
    "\n",
    "l2_alpha = 0.1\n",
    "\n",
    "n_epochs=300000\n",
    "for epoch in range(n_epochs):\n",
    "    print(f'epoch: {epoch}')\n",
    "#     loss_rolling_train, loss_rolling_val = training_supervised.epoch_step(dataloader_train, \n",
    "#                                     model, \n",
    "#                                     optimizer, \n",
    "#                                     criterion, \n",
    "\n",
    "#                                     penalized_params, l2_alpha,\n",
    "\n",
    "#                                     scheduler=scheduler,\n",
    "#                                     loss_rolling_train=losses_train, \n",
    "#                                     device=DEVICE, \n",
    "#                                     loss_rolling_val=losses_val,\n",
    "#                                     verbose=2,\n",
    "#                                     verbose_update_period=100,\n",
    "                                   \n",
    "#                                     do_validation=True,\n",
    "#                                     X_val=x_feed_through_val,\n",
    "#                                     y_val=torch.as_tensor(y_val, device=DEVICE)\n",
    "#                                    )\n",
    "    \n",
    "    loss_rolling_train, loss_rolling_val = training_simCLR.epoch_step(dataloader_train, \n",
    "                                    model, \n",
    "                                    optimizer, \n",
    "                                    criterion, \n",
    "\n",
    "                                    # penalized_params, l2_alpha,\n",
    "\n",
    "                                    scheduler=scheduler,\n",
    "                                    loss_rolling_train=losses_train, \n",
    "                                    device=DEVICE, \n",
    "                                    loss_rolling_val=losses_val,\n",
    "                                    verbose=2,\n",
    "                                    verbose_update_period=100,\n",
    "                                   \n",
    "                                    do_validation=True,\n",
    "                                    X_val=x_feed_through_val,\n",
    "                                    y_val=torch.as_tensor(y_val, device=DEVICE)\n",
    "                                   )\n",
    "    \n",
    "    \n",
    "    if early_stopping:\n",
    "      if len(loss_rolling_val) > 0:\n",
    "        if loss_rolling_val[-1] < prv_best_val:\n",
    "          early_stopping_cnt = 0\n",
    "          prv_best_val = loss_rolling_val[-1]\n",
    "          torch.save(model.state_dict(), f'{base_dir}/github_repos/GCaMP_ROI_classifier/new_stuff/models/checkpoints/checkpoint.pth')\n",
    "        else:\n",
    "          early_stopping_cnt += 1\n",
    "    \n",
    "      if early_stopping_cnt >= early_stopping:\n",
    "        model.load_state_dict(torch.load(f'{base_dir}/github_repos/GCaMP_ROI_classifier/new_stuff/models/checkpoints/checkpoint.pth'))\n",
    "        break\n",
    "    \n",
    "    # torch_helpers.show_all_tensors(globals())\n",
    "    \n",
    "    features_train = model(x_feed_through_tr)\n",
    "    features_train = features_train.cpu().detach().numpy()\n",
    "    features_val = model(x_feed_through_val)\n",
    "    features_val = features_val.cpu().detach().numpy()\n",
    "    # y_hat = scipy.special.softmax(features_val, axis=-1) # logreg.predict_proba(features_val)\n",
    "    \n",
    "    print('Training Confusion Matrix')\n",
    "    print(get_cm(features_train, y_train))\n",
    "    print()\n",
    "    print(logistic_pred_train)\n",
    "\n",
    "    print()\n",
    "    print()\n",
    "\n",
    "    print('Val Confusion Matrix')\n",
    "    print(get_cm(features_val, y_val))\n",
    "    print()\n",
    "    print(logistic_pred_val)\n",
    "\n",
    "    # model.to(DEVICE)\n",
    "    print()\n",
    "    print()\n"
   ]
  },
  {
   "cell_type": "code",
   "execution_count": null,
   "metadata": {
    "colab": {
     "base_uri": "https://localhost:8080/"
    },
    "id": "5iMWvYJEsaMs",
    "outputId": "1a632c90-b1fd-4f29-af0e-5dff1f029f0b"
   },
   "outputs": [],
   "source": [
    "\n",
    "features_train = model(x_feed_through_tr)\n",
    "features_train = features_train.cpu().detach().numpy()\n",
    "features_val = model(x_feed_through_val)\n",
    "features_val = features_val.cpu().detach().numpy()\n",
    "features_test = model(x_feed_through_te)\n",
    "features_test = features_test.cpu().detach().numpy()\n",
    "\n",
    "\n",
    "print('Testing Confusion Matrix')\n",
    "print(get_cm(features_test, y_test))\n",
    "print()\n",
    "print(logistic_pred_test)\n"
   ]
  },
  {
   "cell_type": "code",
   "execution_count": null,
   "metadata": {
    "id": "fmMkNykeVHbn"
   },
   "outputs": [],
   "source": [
    "test_transfer_cm = get_cm(features_test, y_test)\n",
    "np.save(f'/content/drive/MyDrive/00 - ROI/GCaMP_ROI_classifier/new_stuff/npy-figures/TestingCM-{\"Un\" if not balanced else \"\"}Balanced-Transfer—L2Lambda={l2_alpha}.npy',\n",
    "        test_transfer_cm)\n",
    "torch.save(model.state_dict(), f'/content/drive/MyDrive/00 - ROI/GCaMP_ROI_classifier/new_stuff/npy-figures/TestingCM-{\"Un\" if not balanced else \"\"}Balanced-Transfer—L2Lambda={l2_alpha}.pth')\n",
    "\n",
    "np.save(f'/content/drive/MyDrive/00 - ROI/GCaMP_ROI_classifier/new_stuff/npy-figures/TestingCM-{\"Un\" if not balanced else \"\"}Balanced-SKLearn-Solver={solver}—C={C_reg}.npy',\n",
    "        logistic_pred_test)"
   ]
  },
  {
   "cell_type": "code",
   "execution_count": null,
   "metadata": {
    "id": "dkBQWlWXq7Bh"
   },
   "outputs": [],
   "source": []
  },
  {
   "cell_type": "code",
   "execution_count": null,
   "metadata": {
    "colab": {
     "base_uri": "https://localhost:8080/",
     "height": 421
    },
    "id": "af10GlccgaV4",
    "outputId": "2ec75ade-6308-4a67-89e4-4bf3f996f746"
   },
   "outputs": [],
   "source": [
    "# import seaborn as sns\n",
    "# sns.set(style='white', palette='bright', context='poster')\n",
    "plt.rcdefaults()\n",
    "\n",
    "%matplotlib inline\n",
    "plt.figure(figsize=(12,6))\n",
    "plt.plot(losses_train, label='Training Loss')\n",
    "plt.plot(losses_val, label='Validation Loss')\n",
    "plt.title(f'Loss — Balanced Transfer Learning, No Data Augmentation, L2 Lambda = {l2_alpha}')\n",
    "plt.legend()\n",
    "plt.grid()\n",
    "plt.xlabel('Epoch Step')\n",
    "plt.ylabel('Loss')\n",
    "# plt.savefig('./Training-Loss.png')"
   ]
  },
  {
   "cell_type": "code",
   "execution_count": null,
   "metadata": {
    "colab": {
     "base_uri": "https://localhost:8080/",
     "height": 706
    },
    "id": "Cl4TSsfc2MDy",
    "outputId": "ccc80bf3-a191-49ec-e635-dce022144cbe"
   },
   "outputs": [],
   "source": [
    "%matplotlib inline\n",
    "plt.figure(figsize=(12,12))\n",
    "# val_transfer_cm = get_cm(features_val, y_val)\n",
    "# plt.imshow(val_transfer_cm)\n",
    "test_transfer_cm = get_cm(features_test, y_test)\n",
    "plt.imshow(test_transfer_cm)\n",
    "plt.colorbar()\n",
    "\n",
    "for i in range(test_transfer_cm.shape[0]):\n",
    "  for j in range(test_transfer_cm.shape[1]):\n",
    "    plt.annotate(np.round(test_transfer_cm[i,j], 3), (j,i), ha='center')\n",
    "plt.title(f'Test Confusion Matrix — Balanced Transfer Learning, No Augmentation, L2 Lambda = {l2_alpha}')\n",
    "plt.xlabel('True Class')\n",
    "plt.ylabel('Predicted Class')\n",
    "# plt.savefig('./Confusion-Matrix.png')\n"
   ]
  },
  {
   "cell_type": "code",
   "execution_count": null,
   "metadata": {
    "id": "rU8l0eP02TQR"
   },
   "outputs": [],
   "source": [
    "torch.save(model.state_dict(), '/content/drive/MyDrive/00 - ROI/GCaMP_ROI_classifier/new_stuff/models/Transfer_Balanced_model_20211115_trainingSet.pth')"
   ]
  },
  {
   "cell_type": "code",
   "execution_count": null,
   "metadata": {
    "colab": {
     "base_uri": "https://localhost:8080/"
    },
    "id": "qDS0Jx2u2TqO",
    "outputId": "db88c7ac-be73-420d-f1c3-092e1148cde8"
   },
   "outputs": [],
   "source": [
    "ls \"/content/drive/MyDrive/00 - ROI/GCaMP_ROI_classifier/new_stuff/models/\""
   ]
  },
  {
   "cell_type": "code",
   "execution_count": null,
   "metadata": {
    "colab": {
     "base_uri": "https://localhost:8080/",
     "height": 131
    },
    "id": "MBgyFcfvM0pj",
    "outputId": "ca3329e7-fac0-4719-c593-8a95492d7bc2"
   },
   "outputs": [],
   "source": [
    "break"
   ]
  },
  {
   "cell_type": "code",
   "execution_count": null,
   "metadata": {
    "id": "rUCrIR3d2KA0"
   },
   "outputs": [],
   "source": [
    "torch.concatenate"
   ]
  },
  {
   "cell_type": "code",
   "execution_count": null,
   "metadata": {
    "id": "wDMbBfAMdG2x"
   },
   "outputs": [],
   "source": []
  },
  {
   "cell_type": "code",
   "execution_count": null,
   "metadata": {
    "id": "jqx__pG3auCY"
   },
   "outputs": [],
   "source": [
    "%matplotlib inline\n",
    "plt.figure(figsize=(10,10))\n",
    "plt.plot(losses_train, label='Training Loss')\n",
    "plt.plot(losses_val, label='Validation Loss')\n",
    "plt.legend()\n",
    "plt.show()"
   ]
  },
  {
   "cell_type": "code",
   "execution_count": null,
   "metadata": {
    "id": "jfqPm5FOaugY"
   },
   "outputs": [],
   "source": []
  },
  {
   "cell_type": "code",
   "execution_count": null,
   "metadata": {
    "id": "6XqCH1-3auqm"
   },
   "outputs": [],
   "source": []
  },
  {
   "cell_type": "code",
   "execution_count": null,
   "metadata": {
    "id": "ByHpU-OmpQaC"
   },
   "outputs": [],
   "source": [
    "\n",
    "# del thing"
   ]
  },
  {
   "cell_type": "code",
   "execution_count": null,
   "metadata": {
    "id": "XlIHIUvoi3U2"
   },
   "outputs": [],
   "source": [
    "# import gc\n",
    "\n",
    "# torch.cuda.empty_cache()\n",
    "# gc.collect()\n",
    "# torch.cuda.empty_cache()\n",
    "# gc.collect()\n",
    "# torch.cuda.empty_cache()\n",
    "# gc.collect()\n",
    "# torch.cuda.empty_cache()\n",
    "# gc.collect()"
   ]
  },
  {
   "cell_type": "code",
   "execution_count": null,
   "metadata": {
    "id": "Cn2IH5Eei3uJ"
   },
   "outputs": [],
   "source": []
  },
  {
   "cell_type": "code",
   "execution_count": null,
   "metadata": {
    "id": "jtH2q-PLwJr-"
   },
   "outputs": [],
   "source": []
  },
  {
   "cell_type": "code",
   "execution_count": null,
   "metadata": {
    "id": "RiZ_A-XOi_7q"
   },
   "outputs": [],
   "source": []
  },
  {
   "cell_type": "code",
   "execution_count": null,
   "metadata": {
    "id": "OoNrkczCjARE"
   },
   "outputs": [],
   "source": []
  },
  {
   "cell_type": "code",
   "execution_count": null,
   "metadata": {
    "id": "qlILhyN3jAW7"
   },
   "outputs": [],
   "source": []
  },
  {
   "cell_type": "code",
   "execution_count": null,
   "metadata": {
    "id": "FEqA0gLPl3-6"
   },
   "outputs": [],
   "source": []
  },
  {
   "cell_type": "code",
   "execution_count": null,
   "metadata": {
    "id": "WLH9o3jLl4G_"
   },
   "outputs": [],
   "source": []
  },
  {
   "cell_type": "code",
   "execution_count": null,
   "metadata": {
    "id": "QjNJk6Qwl4O3"
   },
   "outputs": [],
   "source": []
  },
  {
   "cell_type": "code",
   "execution_count": null,
   "metadata": {
    "id": "H8k-0sqGl4V4"
   },
   "outputs": [],
   "source": []
  },
  {
   "cell_type": "code",
   "execution_count": null,
   "metadata": {
    "id": "Zq4toNxdl4jb"
   },
   "outputs": [],
   "source": []
  },
  {
   "cell_type": "code",
   "execution_count": null,
   "metadata": {
    "id": "MGvBSux9l4pn"
   },
   "outputs": [],
   "source": []
  },
  {
   "cell_type": "code",
   "execution_count": null,
   "metadata": {
    "id": "JS_mTd7cl4vI"
   },
   "outputs": [],
   "source": []
  },
  {
   "cell_type": "code",
   "execution_count": null,
   "metadata": {
    "id": "v4WvU5xxl41A"
   },
   "outputs": [],
   "source": []
  },
  {
   "cell_type": "code",
   "execution_count": null,
   "metadata": {
    "id": "HAcpUsTJl46l"
   },
   "outputs": [],
   "source": []
  },
  {
   "cell_type": "code",
   "execution_count": null,
   "metadata": {
    "id": "dQ8wkiduDB0v"
   },
   "outputs": [],
   "source": [
    "from torch.nn import CrossEntropyLoss\n",
    "from torch.optim import Adam\n",
    "\n",
    "import numpy as np\n",
    "\n",
    "from sklearn.linear_model import LogisticRegression\n",
    "from sklearn.tree import DecisionTreeClassifier\n",
    "from sklearn.ensemble import RandomForestClassifier\n",
    "from sklearn.svm import SVC\n",
    "\n",
    "\n",
    "# model = models.LeNet1(dropout_prob=0.3, momentum_val=0, n_output_features=64)\n",
    "\n",
    "\n",
    "# criterion = CrossEntropyLoss()\n",
    "criterion = CrossEntropyLoss(reduction='none')\n",
    "\n",
    "optimizer = Adam(model.parameters(), lr=2e-1)\n",
    "# optimizer = Adam(model.parameters(), lr=2e-, weight_decay=0.0)\n",
    "scheduler = torch.optim.lr_scheduler.ExponentialLR(optimizer,\n",
    "                                                   gamma=1-0.0002,\n",
    "#                                                    gamma=1,\n",
    "                                                  )\n",
    "# val_obj = training_simCLR.validation_Obj(   X_val,\n",
    "#                                             y_val,\n",
    "#                                             model,\n",
    "#                                             criterion,\n",
    "#                                             DEVICE=DEVICE,\n",
    "#                                             dtype_X=torch.float32,\n",
    "#                                             dtype_y=torch.int64) # Needs to take in weights\n",
    "\n",
    "model.to(DEVICE)\n",
    "criterion = criterion.to(DEVICE)\n",
    "\n",
    "# # classHead = HeadModel(model, RandomForestClassifier)\n",
    "# classHead = training_classHead.HeadModel(model, LogisticRegression)\n",
    "# dataset_train.headmodel = classHead\n",
    "# # dataset_train.headmodel = None\n",
    "\n",
    "losses_train, losses_val, val_accs, acc = [], [np.nan], [], []"
   ]
  },
  {
   "cell_type": "code",
   "execution_count": null,
   "metadata": {
    "id": "wum65GhmIu5h"
   },
   "outputs": [],
   "source": []
  },
  {
   "cell_type": "code",
   "execution_count": null,
   "metadata": {
    "id": "SSATgE7jNYEx"
   },
   "outputs": [],
   "source": [
    "import pandas as pd\n",
    "tracking_df_cols = ['sample_id',\n",
    "                    'epoch',\n",
    "                    'batch_iter',\n",
    "                    'labels'\n",
    "                    ]\n",
    "tracking_df = pd.DataFrame(columns=tracking_df_cols)"
   ]
  },
  {
   "cell_type": "code",
   "execution_count": null,
   "metadata": {
    "id": "T3fsor_JMGXS"
   },
   "outputs": [],
   "source": []
  },
  {
   "cell_type": "code",
   "execution_count": null,
   "metadata": {
    "id": "BKcSCO3528d0"
   },
   "outputs": [],
   "source": [
    "torch.cuda.empty_cache()\n",
    "import gc\n",
    "gc.collect()"
   ]
  },
  {
   "cell_type": "code",
   "execution_count": null,
   "metadata": {
    "id": "E5EeUhzUDB0v",
    "scrolled": true
   },
   "outputs": [],
   "source": [
    "%matplotlib notebook\n",
    "\n",
    "logreg = LogisticRegression(solver='liblinear', max_iter=30)\n",
    "# logreg_predict_head = LogisticRegression(solver='liblinear')\n",
    "dataset_train.classification_model = None\n",
    "\n",
    "\n",
    "\n",
    "# scheduler = torch.optim.lr_scheduler.ExponentialLR(optimizer,\n",
    "#                                                    gamma=1-0.001,\n",
    "# #                                                    gamma=1,\n",
    "#                                                   )\n",
    "n_epochs=300000\n",
    "for epoch in range(n_epochs):\n",
    "    print(f'epoch: {epoch}')\n",
    "\n",
    "    model.prep_contrast()\n",
    "    training_simCLR.epoch_step( dataloader_train, \n",
    "                                model, \n",
    "                                optimizer, \n",
    "                                criterion,\n",
    "                                scheduler=scheduler, \n",
    "                                temperature=0.5,\n",
    "                                loss_rolling_train=losses_train, \n",
    "                                device=DEVICE, \n",
    "                                do_validation=False,\n",
    "#                                 validation_Object=val_obj,\n",
    "                                loss_rolling_val=losses_val,\n",
    "                                verbose=2,\n",
    "                                verbose_update_period=100,\n",
    "                               )\n",
    "    \n",
    "\n",
    "    model.prep_classifier()\n",
    "\n",
    "    # print(util.tile_channels(torch.as_tensor(X_labeled_train[:,None,...], device=DEVICE, dtype=torch.float32), dim=1).shape)\n",
    "\n",
    "    features_train = model.get_head(model.base_model(util.tile_channels(torch.as_tensor(X_labeled_train[:,None,...], device=DEVICE, dtype=torch.float32), dim=1))).detach().cpu()\n",
    "    # features_train = model(util.tile_channels(torch.as_tensor(X_labeled_train[:,None,...], device=DEVICE, dtype=torch.float32), dim=1)).detach().cpu()\n",
    "    # features_train = model(torch.as_tensor(X_labeled_train, device=DEVICE, dtype=torch.float32)[:,None,...]).detach().cpu()\n",
    "    # features = model(torch.tensor(X_train[y_train != 3], device=DEVICE, dtype=torch.float32)[:,None,...]).detach().cpu()\n",
    "    \n",
    "    tic = time.time()\n",
    "    logreg.fit(features_train, y_labeled_train)\n",
    "    print(time.time() - tic)\n",
    "    acc.append(logreg.score(features_train, y_labeled_train))\n",
    "    print(f'acc: {acc[-1]}')\n",
    "    \n",
    "    dataset_train.net_model = copy.deepcopy(model).to('cpu')\n",
    "    dataset_train.classification_model = logreg\n",
    "    \n",
    "\n",
    "#     sample_id_num = np.arange(X_labeled_val.shape[0])\n",
    "#     epoch_val = epoch\n",
    "#     batch_val = -1\n",
    "#     p_tmp = logreg.predict_proba(model(torch.as_tensor(util.tile_channels(X_labeled_val), device=DEVICE, dtype=torch.float32)).detach().cpu())\n",
    "#     logits = p_tmp\n",
    "#     # logits = np.log(1/(1/p_tmp - 1))\n",
    "\n",
    "#     col_vals = [sample_id_num, epoch_val, batch_val, y_labeled_val]\n",
    "#     setup = np.empty((len(sample_id_num), len(col_vals)))\n",
    "#     for icv, col_val in enumerate(col_vals):\n",
    "#       setup[:, icv] = col_val\n",
    "#     tmp_tracking_np = np.concatenate([setup, logits], axis=1)\n",
    "\n",
    "#     tmp_tracking_df = pd.DataFrame(tmp_tracking_np, index=sample_id_num, columns=tracking_df_cols + [f'logits_{i}' for i in range(logits.shape[1])])\n",
    "#     tracking_df = tracking_df.append(tmp_tracking_df, ignore_index=True)\n",
    "#     display(tracking_df)\n",
    "\n",
    "\n",
    "    \n",
    "    features_val = model.get_head(model.base_model(util.tile_channels(torch.as_tensor(X_labeled_val[:,None,...], device=DEVICE, dtype=torch.float32), dim=1))).detach().cpu()\n",
    "\n",
    "\n",
    "    # logreg_predict_head.fit(features_train, y_labeled_train)\n",
    "    # y_hat = logreg_predict_head.predict_proba(features_val)\n",
    "\n",
    "    y_hat = logreg.predict_proba(features_val)\n",
    "    \n",
    "    cm = classification.confusion_matrix(y_hat, y_labeled_val)\n",
    "#     plt.figure()\n",
    "#     plt.imshow(cm)\n",
    "#     plt.colorbar()\n",
    "#     plt.show()\n",
    "    print(cm)\n",
    "\n",
    "\n",
    "    # tracking_df = tracking_df.append(pd.DataFrame([np.array([100, 0, 0, 0])], index=tracking_df_cols), ignore_index=True)\n",
    "    \n",
    "    # model predict\n",
    "    # Update model in DS\n",
    "    # get item calls model for each sample\n",
    "    # output\n",
    "    # X sample weights predictions\n",
    "    \n",
    "#     classHead.fit(X_train[:, None, :, :], y_train, solver='liblinear')\n",
    "    \n",
    "#     proba = classHead.predict_proba(X_train[:, None, :, :])\n",
    "#     class_weights = proba.sum(axis=0)\n",
    "#     total_num = class_weights.sum()\n",
    "    \n",
    "#     eps = 1e-4\n",
    "    \n",
    "#     class_weights[class_weights <= 3] = total_num\n",
    "#     weightings = class_weights.sum()/class_weights\n",
    "#     final_weights = weightings / weightings.sum()\n",
    "#     final_weights = np.array([1/proba.shape[1] for _ in range(proba.shape[1])])\n",
    "    \n",
    "#     print(class_weights)\n",
    "\n",
    "#     dataset_train.set_classweights(final_weights)\n",
    "    \n",
    "#     print('dataset_train.final_weights', dataset_train.class_weights)\n"
   ]
  },
  {
   "cell_type": "code",
   "execution_count": null,
   "metadata": {
    "id": "CYG_UvKlaBDQ"
   },
   "outputs": [],
   "source": []
  },
  {
   "cell_type": "code",
   "execution_count": null,
   "metadata": {
    "id": "aHaYL5XjaBfP"
   },
   "outputs": [],
   "source": []
  },
  {
   "cell_type": "code",
   "execution_count": null,
   "metadata": {
    "id": "siH-aCYqaBpB"
   },
   "outputs": [],
   "source": []
  },
  {
   "cell_type": "code",
   "execution_count": null,
   "metadata": {
    "id": "QNlRDjrVaCD-"
   },
   "outputs": [],
   "source": []
  },
  {
   "cell_type": "code",
   "execution_count": null,
   "metadata": {
    "id": "QIVOw27rVSgs"
   },
   "outputs": [],
   "source": [
    "# # !cd \"/content/drive/MyDrive/00 - ROI/GCaMP_ROI_classifier\" && git add old_stuff\n",
    "# # !cd \"/content/drive/MyDrive/00 - ROI/GCaMP_ROI_classifier\" && git status\n",
    "# # !cd \"/content/drive/MyDrive/00 - ROI/GCaMP_ROI_classifier\" && git commit -m \"Introducing ResNet and validating process\"\n",
    "# !cd \"/content/drive/MyDrive/00 - ROI/GCaMP_ROI_classifier\" && git push"
   ]
  },
  {
   "cell_type": "code",
   "execution_count": null,
   "metadata": {
    "id": "ekxvf-6FVR4m"
   },
   "outputs": [],
   "source": [
    "# !git config --global user.email \"$indianajonesjz@gmail.com\"\n",
    "# !git config --global user.name \"$joshuazimmer\""
   ]
  },
  {
   "cell_type": "code",
   "execution_count": null,
   "metadata": {
    "id": "1BdLjvPkW2Or"
   },
   "outputs": [],
   "source": []
  },
  {
   "cell_type": "code",
   "execution_count": null,
   "metadata": {
    "id": "n3BpmnqLVCdn"
   },
   "outputs": [],
   "source": []
  },
  {
   "cell_type": "code",
   "execution_count": null,
   "metadata": {
    "id": "SN6pdv2ODB0w"
   },
   "outputs": [],
   "source": [
    "plt.figure()\n",
    "plt.plot(losses_train)"
   ]
  },
  {
   "cell_type": "code",
   "execution_count": null,
   "metadata": {
    "id": "dl1OVyVNDB0w"
   },
   "outputs": [],
   "source": [
    "plt.figure()\n",
    "plt.plot(acc)"
   ]
  },
  {
   "cell_type": "code",
   "execution_count": null,
   "metadata": {
    "id": "RqJUaCOq28d1"
   },
   "outputs": [],
   "source": []
  },
  {
   "cell_type": "code",
   "execution_count": null,
   "metadata": {
    "id": "md2MKADR28d1"
   },
   "outputs": [],
   "source": [
    "# DEVICE = 'cpu'"
   ]
  },
  {
   "cell_type": "code",
   "execution_count": null,
   "metadata": {
    "id": "F9ZWyc_zDB0x"
   },
   "outputs": [],
   "source": [
    "from sklearn.linear_model import LogisticRegression\n",
    "\n",
    "model.to(DEVICE)"
   ]
  },
  {
   "cell_type": "code",
   "execution_count": null,
   "metadata": {
    "id": "g4zAfbQq28d1"
   },
   "outputs": [],
   "source": [
    "import gc\n",
    "\n",
    "gc.collect()\n",
    "torch.cuda.empty_cache()"
   ]
  },
  {
   "cell_type": "code",
   "execution_count": null,
   "metadata": {
    "id": "nzWkPn3z28d2"
   },
   "outputs": [],
   "source": [
    "del features_train"
   ]
  },
  {
   "cell_type": "code",
   "execution_count": null,
   "metadata": {
    "id": "Hc_hUY8M28d2"
   },
   "outputs": [],
   "source": [
    "logreg = LogisticRegression(solver='liblinear')\n",
    "features_train = model(util.tile_channels(torch.as_tensor(X_labeled_train[:,None,...], device=DEVICE, dtype=torch.float32), dim=1)).detach().cpu()\n",
    "# features = model(torch.tensor(X_train[y_train != 3], device=DEVICE, dtype=torch.float32)[:,None,...]).detach().cpu()\n",
    "logreg.fit(features_train, y_labeled_train)"
   ]
  },
  {
   "cell_type": "code",
   "execution_count": null,
   "metadata": {
    "id": "ewz8bW1028d2"
   },
   "outputs": [],
   "source": [
    "y_hat = logreg.predict_proba(features_train)\n",
    "\n",
    "cm = classification.confusion_matrix(y_hat, y_labeled_train)\n",
    "\n",
    "print(cm)\n",
    "\n",
    "plt.figure()\n",
    "plt.imshow(cm)\n",
    "plt.colorbar()"
   ]
  },
  {
   "cell_type": "code",
   "execution_count": null,
   "metadata": {
    "id": "Emef8eoJ28d2"
   },
   "outputs": [],
   "source": [
    "logreg = LogisticRegression(solver='liblinear')\n",
    "features_train = model(util.tile_channels(torch.as_tensor(X_labeled_train[:,None,...], device=DEVICE, dtype=torch.float32), dim=1)).detach().cpu()\n",
    "# features = model(torch.tensor(X_train[y_train != 3], device=DEVICE, dtype=torch.float32)[:,None,...]).detach().cpu()\n",
    "logreg.fit(features_train, y_labeled_train)\n",
    "y_hat = logreg.predict_proba(features_train)\n",
    "\n",
    "cm = classification.confusion_matrix(y_hat, y_labeled_train)\n",
    "\n",
    "print(cm)\n",
    "\n",
    "plt.figure()\n",
    "plt.imshow(cm)\n",
    "plt.colorbar()"
   ]
  },
  {
   "cell_type": "code",
   "execution_count": null,
   "metadata": {
    "id": "JS5K_hmaZJ27"
   },
   "outputs": [],
   "source": []
  },
  {
   "cell_type": "code",
   "execution_count": null,
   "metadata": {
    "id": "95J06egRDB0x"
   },
   "outputs": [],
   "source": [
    "logreg.fit(features_embedded[:,:200], y_labeled_train)\n",
    "y_hat = logreg.predict_proba(features_embedded[:,:200])\n",
    "\n",
    "cm = classification.confusion_matrix(y_hat, y_labeled_train)\n",
    "\n",
    "print(cm)\n",
    "\n",
    "plt.figure()\n",
    "plt.imshow(cm)\n",
    "plt.colorbar()"
   ]
  },
  {
   "cell_type": "code",
   "execution_count": null,
   "metadata": {
    "id": "oG_fQihU28d3"
   },
   "outputs": [],
   "source": []
  },
  {
   "cell_type": "code",
   "execution_count": null,
   "metadata": {
    "id": "eb_VueOiDB0z"
   },
   "outputs": [],
   "source": []
  },
  {
   "cell_type": "markdown",
   "metadata": {
    "id": "_CchY4kGDB00"
   },
   "source": [
    "## Check embeddings"
   ]
  },
  {
   "cell_type": "code",
   "execution_count": null,
   "metadata": {
    "id": "JcrdLrYtDB00"
   },
   "outputs": [],
   "source": [
    "torch.cuda.empty_cache()"
   ]
  },
  {
   "cell_type": "code",
   "execution_count": null,
   "metadata": {
    "id": "HPyKFRdq28d3"
   },
   "outputs": [],
   "source": [
    "### REMOVE\n",
    "\n",
    "DEVICE='cuda'\n",
    "# DEVICE='cpu'"
   ]
  },
  {
   "cell_type": "code",
   "execution_count": null,
   "metadata": {
    "id": "7fpQXf0o28d3"
   },
   "outputs": [],
   "source": [
    "model.to(DEVICE)"
   ]
  },
  {
   "cell_type": "code",
   "execution_count": null,
   "metadata": {
    "id": "E1xfzazXDB00"
   },
   "outputs": [],
   "source": [
    "features = model(util.tile_channels(torch.tensor(images_labeled, device=DEVICE, dtype=torch.float32)[:,None,...], dim=1)).detach()\n",
    "# features = model(torch.tensor(images_labeled[labels != 3], device=DEVICE, dtype=torch.float32)[:,None,...]).detach()\n",
    "# features = model(torch.tensor(X_val, device=DEVICE, dtype=torch.float32)[:,None,...]).detach()\n",
    "# features = model(torch.tensor(X_train, device=DEVICE, dtype=torch.float32)[:,None,...]).detach()"
   ]
  },
  {
   "cell_type": "code",
   "execution_count": null,
   "metadata": {
    "id": "7gwucuZXDB00"
   },
   "outputs": [],
   "source": [
    "_, features_embedded, _, evr = decomposition.torch_pca(features, device=DEVICE, return_cpu=True)"
   ]
  },
  {
   "cell_type": "code",
   "execution_count": null,
   "metadata": {
    "id": "2imvF8ZoDB00"
   },
   "outputs": [],
   "source": [
    "from sklearn import manifold\n",
    "\n",
    "tsne = manifold.TSNE(n_components=2, \n",
    "                     perplexity=80.0, \n",
    "                     early_exaggeration=12.0, \n",
    "                     learning_rate=200, \n",
    "                     n_iter=1000, \n",
    "                     n_iter_without_progress=300, \n",
    "                     min_grad_norm=1e-07, \n",
    "                     metric='euclidean', \n",
    "                     init='pca', \n",
    "                     verbose=0, \n",
    "                     random_state=None, \n",
    "                     method='barnes_hut', \n",
    "                     angle=0.5, \n",
    "                     n_jobs=-1, \n",
    "#                      square_distances='legacy'\n",
    "                    )\n",
    "# features_embedded = tsne.fit_transform(features.cpu())\n",
    "features_embedded = tsne.fit_transform(features_embedded[:,:5].cpu())"
   ]
  },
  {
   "cell_type": "code",
   "execution_count": null,
   "metadata": {
    "id": "sgxJ8VXwDB00"
   },
   "outputs": [],
   "source": [
    "import matplotlib as mpl\n",
    "\n",
    "# mpl.rcParams['image.cmap'] = 'Set1'\n",
    "%matplotlib notebook\n",
    "plt.figure()\n",
    "plt.scatter(features_embedded[:,0], features_embedded[:,1], c=labels)\n",
    "# plt.scatter(features_embedded[:,0], features_embedded[:,1], c=labels[labels!=3])\n",
    "# plt.scatter(features_embedded[:,0], features_embedded[:,1], c=y_val)\n",
    "# plt.scatter(features_embedded[:,4], features_embedded[:,5], c=y_train)\n",
    "# plt.scatter(features_embedded[:,11], features[:,43].cpu(), c=y_train)\n",
    "mpl.rcParams['image.cmap'] = 'viridis'\n"
   ]
  },
  {
   "cell_type": "code",
   "execution_count": null,
   "metadata": {
    "id": "UwFf2BsVDB00"
   },
   "outputs": [],
   "source": [
    "plt.figure()\n",
    "plt.imshow(features.cpu().detach(), aspect='auto', interpolation='none')"
   ]
  },
  {
   "cell_type": "code",
   "execution_count": null,
   "metadata": {
    "id": "SARf-u1K28d4"
   },
   "outputs": [],
   "source": [
    "plt.figure()\n",
    "plt.plot(evr)\n",
    "plt.yscale('log')"
   ]
  },
  {
   "cell_type": "markdown",
   "metadata": {
    "id": "RiHXPapkDB00"
   },
   "source": [
    "## Check filters"
   ]
  },
  {
   "cell_type": "code",
   "execution_count": null,
   "metadata": {
    "id": "2aBVd9FTDB00"
   },
   "outputs": [],
   "source": [
    "list(model.state_dict().keys())"
   ]
  },
  {
   "cell_type": "code",
   "execution_count": null,
   "metadata": {
    "id": "dK_-Xu9EDB01"
   },
   "outputs": [],
   "source": [
    "layer_1 = model.state_dict()['cnn_layers.0.weight'].cpu()\n",
    "layer_2 = model.state_dict()['cnn_layers.2.weight'].cpu()\n",
    "layer_3 = model.state_dict()['cnn_layers.5.weight'].cpu()\n",
    "layer_4 = model.state_dict()['cnn_layers.8.weight'].cpu()\n",
    "\n",
    "plt.figure()\n",
    "for ii in range(layer_1.shape[1]):\n",
    "    for jj in range(layer_1.shape[0]):\n",
    "        plt.subplot2grid((layer_1.shape[1],layer_1.shape[0]),(ii,jj))\n",
    "        fig = plt.imshow(layer_1[jj,ii,:,:] , clim=(-0.2,0.2))\n",
    "        fig.axes.get_xaxis().set_visible(False)\n",
    "        fig.axes.get_yaxis().set_visible(False)\n",
    "\n",
    "plt.figure()\n",
    "for ii in range(layer_2.shape[1]):\n",
    "    for jj in range(layer_2.shape[0]):\n",
    "        plt.subplot2grid((layer_2.shape[1],layer_2.shape[0]),(ii,jj))\n",
    "        fig = plt.imshow(layer_2[jj,ii,:,:], clim=(-.05,.05))\n",
    "        fig.axes.get_xaxis().set_visible(False)\n",
    "        fig.axes.get_yaxis().set_visible(False)\n",
    "\n",
    "plt.figure()\n",
    "for ii in range(16):\n",
    "    for jj in range(16):\n",
    "        plt.subplot2grid((16,16),(ii,jj))\n",
    "        fig = plt.imshow(layer_3[jj, ii,:,:])\n",
    "        fig.axes.get_xaxis().set_visible(False)\n",
    "        fig.axes.get_yaxis().set_visible(False)\n",
    "        \n",
    "plt.figure()\n",
    "for ii in range(16):\n",
    "    for jj in range(16):\n",
    "        plt.subplot2grid((16,16),(ii,jj))\n",
    "        fig = plt.imshow(layer_4[jj, ii,:,:])\n",
    "        fig.axes.get_xaxis().set_visible(False)\n",
    "        fig.axes.get_yaxis().set_visible(False)"
   ]
  },
  {
   "cell_type": "code",
   "execution_count": null,
   "metadata": {
    "id": "FGiz2fHFDB01"
   },
   "outputs": [],
   "source": []
  },
  {
   "cell_type": "code",
   "execution_count": null,
   "metadata": {
    "id": "mwJQBUhpDB01"
   },
   "outputs": [],
   "source": [
    "# torch.save(model.state_dict(), '/media/rich/bigSSD/Net_trainedOnAug_20211025_trainingSet_mouse628_20200903and20200815_simCLR.pth')"
   ]
  },
  {
   "cell_type": "code",
   "execution_count": null,
   "metadata": {
    "id": "1grXld0IDB01"
   },
   "outputs": [],
   "source": [
    "# model = Net()\n",
    "# model.load_state_dict(torch.load('test_save.pth'))\n",
    "# model.eval()"
   ]
  },
  {
   "cell_type": "code",
   "execution_count": null,
   "metadata": {
    "id": "quqNFL1jDB01"
   },
   "outputs": [],
   "source": []
  }
 ],
 "metadata": {
  "accelerator": "GPU",
  "colab": {
   "collapsed_sections": [],
   "machine_shape": "hm",
   "name": "ROIClassifier_TRAIN_20211201_JZ_supervised-comparison5.ipynb",
   "provenance": []
  },
  "kernelspec": {
   "display_name": "Python 3",
   "language": "python",
   "name": "python3"
  },
  "language_info": {
   "codemirror_mode": {
    "name": "ipython",
    "version": 3
   },
   "file_extension": ".py",
   "mimetype": "text/x-python",
   "name": "python",
   "nbconvert_exporter": "python",
   "pygments_lexer": "ipython3",
   "version": "3.8.8"
  },
  "varInspector": {
   "cols": {
    "lenName": 16,
    "lenType": 16,
    "lenVar": 40
   },
   "kernels_config": {
    "python": {
     "delete_cmd_postfix": "",
     "delete_cmd_prefix": "del ",
     "library": "var_list.py",
     "varRefreshCmd": "print(var_dic_list())"
    },
    "r": {
     "delete_cmd_postfix": ") ",
     "delete_cmd_prefix": "rm(",
     "library": "var_list.r",
     "varRefreshCmd": "cat(var_dic_list()) "
    }
   },
   "position": {
    "height": "943px",
    "left": "1381px",
    "right": "20px",
    "top": "106px",
    "width": "501px"
   },
   "types_to_exclude": [
    "module",
    "function",
    "builtin_function_or_method",
    "instance",
    "_Feature"
   ],
   "window_display": true
  }
 },
 "nbformat": 4,
 "nbformat_minor": 4
}
