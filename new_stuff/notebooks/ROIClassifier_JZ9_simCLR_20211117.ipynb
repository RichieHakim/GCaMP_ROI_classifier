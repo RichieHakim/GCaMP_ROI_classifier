{
  "nbformat": 4,
  "nbformat_minor": 0,
  "metadata": {
    "kernelspec": {
      "display_name": "Python 3",
      "language": "python",
      "name": "python3"
    },
    "language_info": {
      "codemirror_mode": {
        "name": "ipython",
        "version": 3
      },
      "file_extension": ".py",
      "mimetype": "text/x-python",
      "name": "python",
      "nbconvert_exporter": "python",
      "pygments_lexer": "ipython3",
      "version": "3.8.8"
    },
    "varInspector": {
      "cols": {
        "lenName": 16,
        "lenType": 16,
        "lenVar": 40
      },
      "kernels_config": {
        "python": {
          "delete_cmd_postfix": "",
          "delete_cmd_prefix": "del ",
          "library": "var_list.py",
          "varRefreshCmd": "print(var_dic_list())"
        },
        "r": {
          "delete_cmd_postfix": ") ",
          "delete_cmd_prefix": "rm(",
          "library": "var_list.r",
          "varRefreshCmd": "cat(var_dic_list()) "
        }
      },
      "position": {
        "height": "943px",
        "left": "1381px",
        "right": "20px",
        "top": "106px",
        "width": "501px"
      },
      "types_to_exclude": [
        "module",
        "function",
        "builtin_function_or_method",
        "instance",
        "_Feature"
      ],
      "window_display": true
    },
    "colab": {
      "name": "ROIClassifier_JZ9_simCLR_20211117.ipynb",
      "provenance": [],
      "collapsed_sections": [],
      "machine_shape": "hm"
    },
    "accelerator": "GPU"
  },
  "cells": [
    {
      "cell_type": "code",
      "metadata": {
        "id": "S3q3I42jDB0f",
        "colab": {
          "base_uri": "https://localhost:8080/",
          "height": 17
        },
        "outputId": "7f34a7ef-c22e-4274-c9f9-ef5120d23322"
      },
      "source": [
        "from IPython.core.display import display, HTML\n",
        "display(HTML(\"<style>.container { width:95% !important; }</style>\"))"
      ],
      "execution_count": 1,
      "outputs": [
        {
          "output_type": "display_data",
          "data": {
            "text/html": [
              "<style>.container { width:95% !important; }</style>"
            ],
            "text/plain": [
              "<IPython.core.display.HTML object>"
            ]
          },
          "metadata": {}
        }
      ]
    },
    {
      "cell_type": "code",
      "metadata": {
        "id": "eTIgCGQsDB0i"
      },
      "source": [
        "import sys\n",
        "import os\n",
        "import copy\n",
        "import pathlib\n",
        "import time\n",
        "\n",
        "import numpy as np\n",
        "import matplotlib.pyplot as plt\n",
        "import scipy\n",
        "\n",
        "import torch\n",
        "import torchvision\n",
        "import torchvision.transforms as transforms\n",
        "\n",
        "# for creating validation set\n",
        "from sklearn.model_selection import train_test_split\n",
        "\n",
        "%matplotlib inline\n",
        "%matplotlib inline\n",
        "# %matplotlib inline\n",
        "# %matplotlib qt"
      ],
      "execution_count": 2,
      "outputs": []
    },
    {
      "cell_type": "code",
      "metadata": {
        "id": "l54KwXv4DM09",
        "colab": {
          "base_uri": "https://localhost:8080/"
        },
        "outputId": "9c7ee43e-c3e2-4f03-a1f8-dce1c364a5bd"
      },
      "source": [
        "from google.colab import drive\n",
        "drive.mount('/content/drive')\n",
        "!git clone \"https://github.com/RichieHakim/basic_neural_processing_modules.git\" \"/content/drive/MyDrive/00 - ROI/basic_neural_processing_modules\"\n",
        "!cd \"/content/drive/MyDrive/00 - ROI/basic_neural_processing_modules\" && git pull"
      ],
      "execution_count": 3,
      "outputs": [
        {
          "output_type": "stream",
          "name": "stdout",
          "text": [
            "Drive already mounted at /content/drive; to attempt to forcibly remount, call drive.mount(\"/content/drive\", force_remount=True).\n",
            "fatal: destination path '/content/drive/MyDrive/00 - ROI/basic_neural_processing_modules' already exists and is not an empty directory.\n",
            "Already up to date.\n"
          ]
        }
      ]
    },
    {
      "cell_type": "code",
      "metadata": {
        "id": "GExNkvATEBtG",
        "colab": {
          "base_uri": "https://localhost:8080/"
        },
        "outputId": "4a4c63ea-9be5-4532-ae89-673483114647"
      },
      "source": [
        "!pip install pycuda"
      ],
      "execution_count": 4,
      "outputs": [
        {
          "output_type": "stream",
          "name": "stdout",
          "text": [
            "Requirement already satisfied: pycuda in /usr/local/lib/python3.7/dist-packages (2021.1)\n",
            "Requirement already satisfied: appdirs>=1.4.0 in /usr/local/lib/python3.7/dist-packages (from pycuda) (1.4.4)\n",
            "Requirement already satisfied: pytools>=2011.2 in /usr/local/lib/python3.7/dist-packages (from pycuda) (2021.2.9)\n",
            "Requirement already satisfied: mako in /usr/local/lib/python3.7/dist-packages (from pycuda) (1.1.6)\n",
            "Requirement already satisfied: numpy>=1.6.0 in /usr/local/lib/python3.7/dist-packages (from pytools>=2011.2->pycuda) (1.19.5)\n",
            "Requirement already satisfied: MarkupSafe>=0.9.2 in /usr/local/lib/python3.7/dist-packages (from mako->pycuda) (2.0.1)\n"
          ]
        }
      ]
    },
    {
      "cell_type": "code",
      "metadata": {
        "id": "9w3t_mtdDB0j"
      },
      "source": [
        "import sys\n",
        "\n",
        "# sys.path.append(r'/media/rich/Home_Linux_partition/github_repos')\n",
        "# sys.path.append('/Users/Josh/Documents/github_repos/')\n",
        "sys.path.append(r'/content/drive/MyDrive/00 - ROI')\n",
        "dir_folders = r'/content/drive/MyDrive/00 - ROI/label_data'\n",
        "\n",
        "\n",
        "%load_ext autoreload\n",
        "%autoreload 2\n",
        "from basic_neural_processing_modules import torch_helpers, decomposition, math_functions, classification\n",
        "from GCaMP_ROI_classifier.new_stuff import util, models, training_simCLR, augmentation, training_classHead"
      ],
      "execution_count": 5,
      "outputs": []
    },
    {
      "cell_type": "markdown",
      "metadata": {
        "id": "hTqZzmpJDB0j"
      },
      "source": [
        "## Import training data"
      ]
    },
    {
      "cell_type": "code",
      "metadata": {
        "id": "Vw4_KXIkDB0k"
      },
      "source": [
        "import pickle\n",
        "\n",
        "with open('/content/drive/MyDrive/00 - ROI/label_data/all_stat_files_20211022.pkl', 'rb') as file:\n",
        "# with open('/Users/Josh/Documents/Harvard/label_data/all_stat_files_20211022.pkl', 'rb') as file:\n",
        "# with open('/media/rich/bigSSD/for_Josh/GCAMP_ROI_Classifier_data/label_data/all_stat_files_20211022.pkl', 'rb') as file:\n",
        "    statFiles_scraped = pickle.load(file)"
      ],
      "execution_count": 6,
      "outputs": []
    },
    {
      "cell_type": "code",
      "metadata": {
        "scrolled": false,
        "id": "4-IssIZIDB0l"
      },
      "source": [
        "keys_toDelete = [\n",
        "    '\\\\\\\\research.files.med.harvard.edu\\\\Neurobio\\\\MICROSCOPE\\\\Rich\\\\data\\\\res2p\\\\scanimage data\\\\for Loic\\\\16x_analysis20200514\\\\Suite2p and MC for denoised movie\\\\suite2p\\\\plane0\\\\stat.npy',\n",
        "    '\\\\\\\\research.files.med.harvard.edu\\\\Neurobio\\\\MICROSCOPE\\\\Rich\\\\data\\\\res2p\\\\scanimage data\\\\round 4 experiments\\\\mouse 6.28\\\\20201102\\\\suite2p_accidentally_run_on_everything\\\\plane0\\\\stat.npy',\n",
        "    '\\\\\\\\research.files.med.harvard.edu\\\\Neurobio\\\\MICROSCOPE\\\\Rich\\\\data\\\\res2p\\\\scanimage data\\\\for Loic\\\\20x\\\\mouse 2.5\\\\20200306\\\\suite2p attemp 2 _tau 1_5\\\\plane0\\\\stat.npy',\n",
        "    '\\\\\\\\research.files.med.harvard.edu\\\\Neurobio\\\\MICROSCOPE\\\\Rich\\\\data\\\\res2p\\\\scanimage data\\\\for Loic\\\\20x\\\\mouse 2.5\\\\20200306\\\\suite2p attempt 1 _tau 2\\\\plane0\\\\stat.npy',\n",
        "    '\\\\\\\\research.files.med.harvard.edu\\\\Neurobio\\\\MICROSCOPE\\\\Rich\\\\data\\\\res2p\\\\scanimage data\\\\for Loic\\\\20x\\\\mouse 2.5\\\\20200306\\\\suite2p attempt 3 _tau 1\\\\plane0\\\\stat.npy',\n",
        "    '\\\\\\\\research.files.med.harvard.edu\\\\Neurobio\\\\MICROSCOPE\\\\Rich\\\\data\\\\res2p\\\\scanimage data\\\\for Loic\\\\AAV\\\\oldBMIrampExp_20191112_mouse1013A\\\\ROI extraction\\\\suite2p\\\\plane0\\\\stat.npy',\n",
        "]\n",
        "for key in keys_toDelete:\n",
        "    del statFiles_scraped[key]"
      ],
      "execution_count": 7,
      "outputs": []
    },
    {
      "cell_type": "code",
      "metadata": {
        "id": "nEs7nu90GZbA"
      },
      "source": [
        "# keys_toDelete = list(statFiles_scraped.keys())[:len(statFiles_scraped.keys())]\n",
        "keys_toDelete = list(statFiles_scraped.keys())[2:]\n",
        "for key in keys_toDelete:\n",
        "    del statFiles_scraped[key]"
      ],
      "execution_count": 8,
      "outputs": []
    },
    {
      "cell_type": "code",
      "metadata": {
        "id": "a8RtL-lSGyDi"
      },
      "source": [
        ""
      ],
      "execution_count": 8,
      "outputs": []
    },
    {
      "cell_type": "code",
      "metadata": {
        "id": "k9xQuXsMDB0m",
        "colab": {
          "base_uri": "https://localhost:8080/"
        },
        "outputId": "c09f284f-d043-43fa-f180-ac27bf329630"
      },
      "source": [
        "sf_list = util.convert_multiple_stat_files(statFiles_dict=statFiles_scraped, out_height_width=[36,36], max_footprint_width=901, plot_pref=False)\n",
        "\n",
        "# images_all = np.concatenate(sf_list, axis=0)\n",
        "images_all = np.concatenate([sf_list[ii][:1000] for ii in range(len(sf_list))], axis=0)\n",
        "\n",
        "images_all.shape"
      ],
      "execution_count": 9,
      "outputs": [
        {
          "output_type": "execute_result",
          "data": {
            "text/plain": [
              "(1659, 36, 36)"
            ]
          },
          "metadata": {},
          "execution_count": 9
        }
      ]
    },
    {
      "cell_type": "code",
      "metadata": {
        "id": "gEfzGd7jDB0n"
      },
      "source": [
        "# images_all_norm = (images_all / np.sum(images_all, axis=(1,2), keepdims=True)) * 255\n",
        "images_all_norm = (images_all / np.max(images_all, axis=(1,2), keepdims=True)) * 1\n"
      ],
      "execution_count": 10,
      "outputs": []
    },
    {
      "cell_type": "code",
      "metadata": {
        "id": "1aTd91ZJDB0o",
        "colab": {
          "base_uri": "https://localhost:8080/"
        },
        "outputId": "c7a7e667-649e-4a11-f95a-d9e4529bf0dd"
      },
      "source": [
        "# create validation set\n",
        "# X_train, X_val, y_train, y_val = train_test_split(images[:], labels[:], test_size = 0.15)\n",
        "X_train_all, X_val_all, y_train_all, y_val_all = train_test_split(images_all_norm, np.arange(images_all.shape[0]), test_size = 0.15)\n",
        "(X_train_all.shape, y_train_all.shape), (X_val_all.shape, y_val_all.shape)"
      ],
      "execution_count": 11,
      "outputs": [
        {
          "output_type": "execute_result",
          "data": {
            "text/plain": [
              "(((1410, 36, 36), (1410,)), ((249, 36, 36), (249,)))"
            ]
          },
          "metadata": {},
          "execution_count": 11
        }
      ]
    },
    {
      "cell_type": "code",
      "metadata": {
        "scrolled": false,
        "id": "S8AO_lypDB0o",
        "colab": {
          "base_uri": "https://localhost:8080/",
          "height": 1000
        },
        "outputId": "fa96b5bd-66f6-478d-ebb6-add0ef280d9a"
      },
      "source": [
        "dir_folders = r'/content/drive/MyDrive/00 - ROI/label_data'\n",
        "# dir_folders = r'/media/rich/bigSSD/for_Josh/GCAMP_ROI_Classifier_data/label_data'\n",
        "# dir_folders = r'/users/Josh/Documents/Harvard/label_data'\n",
        "folders = [r'mouse 6_28 _ day 20200903/',\n",
        "             r'mouse6_28 _ day20200815/']\n",
        "fileNames_statFiles = [r'stat.npy']*len(folders)\n",
        "paths_statFiles = [pathlib.Path(dir_folders) / folders[ii] / fileNames_statFiles[ii] for ii in range(len(folders))]\n",
        "\n",
        "# statFile_import_kwargs = {'out_height_width': [36,36],\n",
        "#                           'max_footprint_width': 241,\n",
        "#                           'plot_pref':True}\n",
        "\n",
        "sf_all = util.import_multiple_stat_files(   paths_statFiles=paths_statFiles,\n",
        "                                        fileNames_statFiles=fileNames_statFiles,\n",
        "                                        out_height_width=[36,36],\n",
        "                                        max_footprint_width=241,\n",
        "                                        plot_pref=True)\n",
        "images_labeled = np.concatenate(sf_all, axis=0) *255\n",
        "images_labeled = (images_labeled / np.max(images_labeled, axis=(1,2), keepdims=True)) * 1\n",
        "print(f'concatenated images shape: {images_labeled.shape}')\n",
        "\n",
        "fileNames_labelFiles = ['labels_posthoc_filledIn_allCells.npy',\n",
        "             'labels_posthoc_all.npy']\n",
        "paths_labelFiles = [pathlib.Path(dir_folders) / folders[ii] / fileNames_labelFiles[ii] for ii in range(len(folders))]\n",
        "\n",
        "labels_all = util.import_multiple_label_files(paths_labelFiles=paths_labelFiles,\n",
        "                                       plot_pref=True)\n",
        "labels = np.concatenate(labels_all)\n",
        "\n",
        "assert np.alltrue([sf_all[ii].shape[0] == labels_all[ii].shape[0] for ii in range(len(sf_all))]) , 'num images in stat files does not correspond to num labels'"
      ],
      "execution_count": 12,
      "outputs": [
        {
          "output_type": "stream",
          "name": "stdout",
          "text": [
            "concatenated images shape: (9715, 36, 36)\n"
          ]
        },
        {
          "output_type": "display_data",
          "data": {
            "image/png": "[encoded data removed]",
            "text/plain": [
              "<Figure size 432x288 with 1 Axes>"
            ]
          },
          "metadata": {
            "needs_background": "light"
          }
        },
        {
          "output_type": "display_data",
          "data": {
            "image/png": "[encoded data removed]",
            "text/plain": [
              "<Figure size 432x288 with 1 Axes>"
            ]
          },
          "metadata": {
            "needs_background": "light"
          }
        },
        {
          "output_type": "display_data",
          "data": {
            "image/png": "[encoded data removed]",
            "text/plain": [
              "<Figure size 432x288 with 1 Axes>"
            ]
          },
          "metadata": {
            "needs_background": "light"
          }
        },
        {
          "output_type": "display_data",
          "data": {
            "image/png": "[encoded data removed]",
            "text/plain": [
              "<Figure size 432x288 with 1 Axes>"
            ]
          },
          "metadata": {
            "needs_background": "light"
          }
        }
      ]
    },
    {
      "cell_type": "code",
      "metadata": {
        "id": "6oBBoVm8DB0p"
      },
      "source": [
        "# tmpd = pd.DataFrame(labels)\n",
        "# tmpd[1] = tmpd[0]\n",
        "# tmpd.groupby(0).count()"
      ],
      "execution_count": 13,
      "outputs": []
    },
    {
      "cell_type": "code",
      "metadata": {
        "id": "s028xEPjDB0p"
      },
      "source": [
        "#code doesn't work with multiple open number maybe (?)"
      ],
      "execution_count": 14,
      "outputs": []
    },
    {
      "cell_type": "code",
      "metadata": {
        "id": "Ip1UMYy6DB0p"
      },
      "source": [
        "labels = classification.squeeze_integers(labels)\n",
        "images_labeled = images_labeled[labels != 2]\n",
        "labels = labels[labels != 2]\n",
        "labels = classification.squeeze_integers(labels)"
      ],
      "execution_count": 15,
      "outputs": []
    },
    {
      "cell_type": "raw",
      "metadata": {
        "id": "2_RP05nJDB0q"
      },
      "source": [
        "images_labeled = images_labeled[labels!=3]\n",
        "labels = labels[labels!=3]\n"
      ]
    },
    {
      "cell_type": "markdown",
      "metadata": {
        "id": "UYh_wBqCDB0q"
      },
      "source": [
        "## Balance classes of inputs"
      ]
    },
    {
      "cell_type": "code",
      "metadata": {
        "id": "qn4Pu2cKDB0q",
        "colab": {
          "base_uri": "https://localhost:8080/"
        },
        "outputId": "b0bb0990-d37e-4d97-d3e3-740214b73f28"
      },
      "source": [
        "duplicates = 1\n",
        "balanced = False\n",
        "\n",
        "images_dup = np.tile(images_labeled , (duplicates , 1 , 1))\n",
        "labels_dup = np.tile(labels , (duplicates))\n",
        "\n",
        "if balanced:\n",
        "  numToGetTo = np.sum(labels_dup==0)\n",
        "  print(numToGetTo)\n",
        "  for ii in np.array([1,2,3]):\n",
        "  #     idxToDelete = np.cumsum(labels_dup==ii) <= (np.sum(labels_dup==ii) - numToGetTo)\n",
        "      if ii==3:\n",
        "          numToGetTo = np.sum(labels_dup==0)/2\n",
        "      else:\n",
        "          numToGetTo = np.sum(labels_dup==0)\n",
        "\n",
        "      idxToDelete = (np.cumsum(labels_dup==ii) * (labels_dup==ii)) > numToGetTo\n",
        "      images_dup = images_dup[idxToDelete==0,:,:]\n",
        "      labels_dup = labels_dup[idxToDelete==0]\n",
        "\n",
        "print(images_dup.shape)\n",
        "print(labels_dup.shape)\n",
        "\n",
        "numToGetTo = np.sum(labels_dup==0)\n",
        "print(numToGetTo)\n",
        "\n",
        "print(np.sum(labels_dup==0))\n",
        "print(np.sum(labels_dup==1))\n",
        "print(np.sum(labels_dup==4))\n",
        "print(np.sum(labels_dup==5))\n",
        "print(images_dup.shape)\n",
        "print(labels_dup.shape)"
      ],
      "execution_count": 16,
      "outputs": [
        {
          "output_type": "stream",
          "name": "stdout",
          "text": [
            "(9714, 36, 36)\n",
            "(9714,)\n",
            "532\n",
            "532\n",
            "620\n",
            "0\n",
            "0\n",
            "(9714, 36, 36)\n",
            "(9714,)\n"
          ]
        }
      ]
    },
    {
      "cell_type": "raw",
      "metadata": {
        "id": "NpMB08CYDB0q"
      },
      "source": [
        "# create validation set\n",
        "# X_train, X_val, y_train, y_val = train_test_split(images[:], labels[:], test_size = 0.15)\n",
        "X_train, X_val, y_train, y_val = train_test_split(images_dup[:], labels_dup[:], test_size = 0.15)\n",
        "(X_train.shape, y_train.shape), (X_val.shape, y_val.shape)"
      ]
    },
    {
      "cell_type": "code",
      "metadata": {
        "id": "fVA_Aa6rDB0q",
        "colab": {
          "base_uri": "https://localhost:8080/"
        },
        "outputId": "561854f0-c54c-4a62-e903-6f02a62b87c9"
      },
      "source": [
        "# # create validation set\n",
        "\n",
        "# ###### REMOVE WITH ENOUGH RAM\n",
        "# images = images_dup\n",
        "# labels = labels_dup\n",
        "\n",
        "# # X_train, X_val, y_train, y_val = train_test_split(images[:], labels[:], test_size = 0.15)\n",
        "# X_labeled_train, X_labeled_val, y_labeled_train, y_labeled_val = train_test_split(images_dup, labels_dup, test_size = 0.15)\n",
        "# X_train, X_val, y_train, y_val = X_labeled_train, X_labeled_val, y_labeled_train, y_labeled_val\n",
        "# (X_labeled_train.shape, y_labeled_train.shape), (X_labeled_val.shape, y_labeled_val.shape)\n",
        "\n",
        "\n",
        "\n",
        "\n",
        "\n",
        "# create validation set\n",
        "\n",
        "###### REMOVE WITH ENOUGH RAM\n",
        "images = images_dup\n",
        "labels = labels_dup\n",
        "\n",
        "# X_train, X_val, y_train, y_val = train_test_split(images[:], labels[:], test_size = 0.15)\n",
        "# X_labeled_train, X_labeled_val, y_labeled_train, y_labeled_val = train_test_split(images_dup, labels_dup, test_size = 0.15)\n",
        "# X_train, X_val, y_train, y_val = X_labeled_train, X_labeled_val, y_labeled_train, y_labeled_val\n",
        "# (X_labeled_train.shape, y_labeled_train.shape), (X_labeled_val.shape, y_labeled_val.shape)\n",
        "\n",
        "# X_labeled_train, X_labeled_val, y_labeled_train, y_labeled_val = train_test_split(images_dup, labels_dup, test_size = 0.3)\n",
        "X_labeled_train, X_labeled_val, y_labeled_train, y_labeled_val = train_test_split(images_dup, labels_dup, test_size = 0.2)\n",
        "X_train, y_train = X_labeled_train, y_labeled_train\n",
        "\n",
        "X_val, X_test, y_val, y_test = train_test_split(X_labeled_val, y_labeled_val, test_size = 0.5)\n",
        "\n",
        "(X_labeled_train.shape, y_labeled_train.shape), (X_labeled_val.shape, y_labeled_val.shape)"
      ],
      "execution_count": 17,
      "outputs": [
        {
          "output_type": "execute_result",
          "data": {
            "text/plain": [
              "(((7771, 36, 36), (7771,)), ((1943, 36, 36), (1943,)))"
            ]
          },
          "metadata": {},
          "execution_count": 17
        }
      ]
    },
    {
      "cell_type": "raw",
      "metadata": {
        "id": "6c9M5xYPDB0r"
      },
      "source": [
        "# create validation set\n",
        "# X_train, X_val, y_train, y_val = train_test_split(images[:], labels[:], test_size = 0.15)\n",
        "X_labeled_train, X_labeled_val, y_labeled_train, y_labeled_val = train_test_split(images_dup[labels!=3], labels_dup[labels!=3], test_size = 0.15)\n",
        "(X_labeled_train.shape, y_labeled_train.shape), (X_labeled_val.shape, y_labeled_val.shape)"
      ]
    },
    {
      "cell_type": "code",
      "metadata": {
        "id": "mdJafJMMDB0r",
        "colab": {
          "base_uri": "https://localhost:8080/",
          "height": 265
        },
        "outputId": "d41a75cf-dbb2-488b-f8a2-06be3bab3493"
      },
      "source": [
        "plt.figure()\n",
        "plt.hist(labels_dup, 20);"
      ],
      "execution_count": 18,
      "outputs": [
        {
          "output_type": "display_data",
          "data": {
            "image/png": "[encoded data removed]",
            "text/plain": [
              "<Figure size 432x288 with 1 Axes>"
            ]
          },
          "metadata": {
            "needs_background": "light"
          }
        }
      ]
    },
    {
      "cell_type": "code",
      "metadata": {
        "id": "XNxaCTbcDB0r"
      },
      "source": [
        ""
      ],
      "execution_count": 18,
      "outputs": []
    },
    {
      "cell_type": "code",
      "metadata": {
        "id": "mGcTbi4yDB0r"
      },
      "source": [
        "def idx_to_oneHot(arr, n_classes=None):\n",
        "    \"\"\"\n",
        "    Convert an array of class indices to matrix of\n",
        "     one-hot vectors.\n",
        "    RH 2021\n",
        "\n",
        "    Args:\n",
        "        arr (np.ndarray):\n",
        "            1-D array of class indices.\n",
        "        n_classes (int):\n",
        "            Number of classes.\n",
        "    \n",
        "    Returns:\n",
        "        oneHot (np.ndarray):\n",
        "            2-D array of one-hot vectors.\n",
        "    \"\"\"\n",
        "    if n_classes is None:\n",
        "        n_classes = np.max(arr)+1\n",
        "    oneHot = np.zeros((arr.size, n_classes))\n",
        "    oneHot[np.arange(arr.size), arr] = 1\n",
        "    return oneHot"
      ],
      "execution_count": 19,
      "outputs": []
    },
    {
      "cell_type": "code",
      "metadata": {
        "id": "xPgCmh3DDB0r"
      },
      "source": [
        "def rh_cm(y_hat, y_true):\n",
        "    \"\"\"\n",
        "    Compute the confusion matrix from y_hat and y_true.\n",
        "    y_hat should be either predictions ().\n",
        "    RH 2021\n",
        "\n",
        "    Args:\n",
        "        y_hat (np.ndarray): \n",
        "            numpy array of predictions or probabilities. \n",
        "            Either PREDICTIONS: 2-D array of booleans\n",
        "             ('one hots') or 1-D array of predicted \n",
        "             class indices.\n",
        "            Or PROBABILITIES: 2-D array floats ('one hot\n",
        "             like')\n",
        "        y_true (np.ndarray):\n",
        "            1-D array of true class indices.\n",
        "    \"\"\"\n",
        "    n_classes = np.max(y_true)+1\n",
        "    if y_hat.ndim == 1:\n",
        "        y_hat = idx_to_oneHot(y_hat, n_classes)\n",
        "    cmat = y_hat.T @ idx_to_oneHot(y_true, n_classes)\n",
        "    return cmat / np.sum(cmat, axis=0)[None,:]\n",
        "#     return cmat / torch.sum(cmat, dim=0)[None,:]"
      ],
      "execution_count": 20,
      "outputs": []
    },
    {
      "cell_type": "raw",
      "metadata": {
        "id": "tz9Q8wYuDB0s"
      },
      "source": [
        "from sklearn.linear_model import LogisticRegression\n",
        "import sklearn.metrics\n",
        "\n",
        "def classification_step(X_train, y_train, X_test, model, model_device, temperature):\n",
        "    logreg = LogisticRegression()\n",
        "    features_train = model(torch.as_tensor(X_train, device=DEVICE, dtype=torch.float32)[:,None,...]).detach().cpu()\n",
        "    # features = model(torch.tensor(X_train[y_train != 3], device=DEVICE, dtype=torch.float32)[:,None,...]).detach().cpu()\n",
        "    logreg.fit(features_train, y_train)\n",
        "    # logreg.fit(features, y_train[y_train != 3])\n",
        "    \n",
        "    features_test = model(torch.as_tensor(X_test, device=DEVICE, dtype=torch.float32)[:,None,...]).detach().cpu()    \n",
        "    y_hat = logreg.predict_proba(features_test)\n",
        "    y_hat = torch.as_tensor(y_hat, dtype=torch.float32, device='cpu')\n",
        "    \n",
        "#     print(y_hat)\n",
        "    print(f'accuracy: {logreg.score(features, y):.5}')\n",
        "\n",
        "#     # cm = sklearn.metrics.confusion_matrix(idx_to_oneHot(y_train), y_hat, normalize='true')\n",
        "#     # cm = sklearn.metrics.confusion_matrix(idx_to_oneHot(y_train[y_train != 3]), y_hat, normalize='true')\n",
        "#     cm = rh_cm(y_hat, y)\n",
        "#     # cm = rh_cm(y_hat, y_train[y_train != 3])\n",
        "    \n",
        "    unc = util.loss_uncertainty(y_hat, temperature=temperature)\n",
        "\n",
        "#     plt.figure()\n",
        "#     plt.imshow(cm)\n",
        "#     return torch.tensor(unc, dtype=torch.float32, device=model_device)\n",
        "    return unc"
      ]
    },
    {
      "cell_type": "markdown",
      "metadata": {
        "id": "T2ARByXvDB0s"
      },
      "source": [
        "## Define augmentation pipeline"
      ]
    },
    {
      "cell_type": "code",
      "metadata": {
        "id": "72ZCnDZ4MmK4"
      },
      "source": [
        ""
      ],
      "execution_count": 20,
      "outputs": []
    },
    {
      "cell_type": "code",
      "metadata": {
        "id": "tq77tWZeDB0s"
      },
      "source": [
        "import torchvision.transforms    \n",
        "\n",
        "transforms = torch.nn.Sequential(\n",
        "    \n",
        "# ######     torchvision.transforms.RandomAdjustSharpness(torch.rand(1)*5, p=0.5),\n",
        "    \n",
        "    # # torchvision.transforms.RandomHorizontalFlip(p=0.5),\n",
        "        \n",
        "    # torchvision.transforms.GaussianBlur(kernel_size=5,\n",
        "    #                                     sigma=(0.0001, 0.1)),\n",
        "    \n",
        "    \n",
        "    # # # torchvision.transforms.RandomPerspective(distortion_scale=0.05, \n",
        "    # # #                                          p=0.5, \n",
        "    # # #                                          interpolation=torchvision.transforms.InterpolationMode.BILINEAR, \n",
        "    # # #                                          fill=0),\n",
        "    # # torchvision.transforms.RandomAffine(\n",
        "    # #                                     degrees=(-180,180),\n",
        "    # #                                     translate=(0.05, 0.05),\n",
        "    # #                                     scale=(0.9, 1.1), \n",
        "    # #                                     shear=(-7, 7, -7, 7), \n",
        "    # #                                     interpolation=torchvision.transforms.InterpolationMode.BILINEAR, \n",
        "    # #                                     fill=0, \n",
        "    # #                                     fillcolor=None, \n",
        "    # #                                     resample=None),\n",
        "    \n",
        "    torchvision.transforms.RandomHorizontalFlip(p=0.5),\n",
        "\n",
        "    torchvision.transforms.RandomAffine(\n",
        "                                        degrees=(-180,180),\n",
        "                                        translate=(0.1, 0.1),\n",
        "                                        interpolation=torchvision.transforms.InterpolationMode.BILINEAR, \n",
        "                                        fill=0, \n",
        "                                        # fillcolor=None, \n",
        "                                        resample=None),\n",
        "    \n",
        "    # augmentation.AddPoissonNoise(   scaler_bounds=(10, 50),\n",
        "    #                                 prob=1,\n",
        "    #                                 base=100,\n",
        "    #                                 scaling='log'),\n",
        "\n",
        "    # augmentation.AddGaussianNoise(  mean=0, \n",
        "    #                                 std=0.07,\n",
        "    #                                 prob=1),\n",
        ")\n",
        "scripted_transforms = torch.jit.script(transforms)\n",
        "# scripted_transforms = transforms\n",
        "\n",
        "\n",
        "\n",
        "# dataset_train = util.dataset_simCLR(\n",
        "#                                     X_train, \n",
        "#                                     y_train, \n",
        "# #                                     torch.tensor(X_train), \n",
        "# #                                     y_train, \n",
        "#                                     n_transforms=2, \n",
        "# #                                     class_weights=[1]*4,\n",
        "# #                                     class_weights=[0.34, 0.33, 0.33, 0.00],\n",
        "# #                                     class_weights=[0.0, 0.0, 0.0, 1.00],\n",
        "# #                                     class_weights=np.array([0.34, 0.33, 0.33, 0.00])[y_train],\n",
        "# #                                     class_weights=np.array([1]*4)[np.random.randint(0,4, X_train.shape[0])],\n",
        "#                                     class_weights=np.array([1]*4)[np.random.randint(0,4, X_train.shape[0])],\n",
        "#                                     transform=scripted_transforms,\n",
        "#                                     DEVICE='cpu',\n",
        "#                                     dtype_X=torch.float32,\n",
        "#                                     dtype_y=torch.int64 )\n",
        "\n",
        "# dataloader_train = torch.utils.data.DataLoader( dataset_train,\n",
        "#                                                 batch_size=2048,\n",
        "#             #                                     sampler=sampler,\n",
        "#                                                 shuffle=True,\n",
        "#                                                 drop_last=True,\n",
        "#                                                 pin_memory=True,\n",
        "#                                                 num_workers=0,\n",
        "# #                                                 num_workers=32,\n",
        "# #                                                 prefetch_factor=0,\n",
        "# #                                                 persistent_workers=True,\n",
        "#                                                 )\n",
        "\n",
        "# # dataset_val = util.dataset_simCLR(torch.tensor(X_val), \n",
        "# #                                     y_val, \n",
        "# #                                     n_transforms=2, \n",
        "# #                                     transform=scripted_transforms,\n",
        "# #                                     DEVICE='cpu',\n",
        "# #                                     dtype_X=torch.float32,\n",
        "# #                                     dtype_y=torch.int64 )\n",
        "\n",
        "# # dataloader_val = torch.utils.data.DataLoader(   dataset_val,\n",
        "# #                                                 batch_size=128,\n",
        "# #             #                                     sampler=sampler,\n",
        "# #                                                 shuffle=True,\n",
        "# #                                                 drop_last=True,\n",
        "# #                                                 pin_memory=True,\n",
        "# #                                                 num_workers=0,\n",
        "# #                                                 )         \n",
        "\n"
      ],
      "execution_count": 21,
      "outputs": []
    },
    {
      "cell_type": "raw",
      "metadata": {
        "id": "A32CziiUDB0t"
      },
      "source": [
        "for ii, im in enumerate(images_all_norm):\n",
        "    plt.figure()\n",
        "    plt.imshow(im)\n",
        "    if ii > 1:\n",
        "        break"
      ]
    },
    {
      "cell_type": "raw",
      "metadata": {
        "id": "RAvGT-sXDB0u"
      },
      "source": [
        "import torch\n",
        "from torch.utils.data import Dataset, DataLoader\n",
        "\n",
        "import ctypes\n",
        "import multiprocessing as mp\n",
        "\n",
        "import numpy as np\n",
        "\n",
        "\n",
        "class MyDataset(Dataset):\n",
        "    def __init__(self):\n",
        "        shared_array_base = mp.Array(ctypes.c_float, nb_samples)\n",
        "        shared_array = np.ctypeslib.as_array(shared_array_base.get_obj())\n",
        "        shared_array = shared_array.reshape(nb_samples)\n",
        "        self.shared_array = torch.from_numpy(shared_array)\n",
        "        \n",
        "#         self.shared_array = torch.rand(4)\n",
        "#         self.use_cache = False\n",
        "        \n",
        "#     def set_use_cache(self, use_cache):\n",
        "#         self.use_cache = use_cache\n",
        "    \n",
        "    def __getitem__(self, index):\n",
        "#         if not self.use_cache:\n",
        "#             print('Filling cache for index {}'.format(index))\n",
        "#             # Add your loading logic here\n",
        "#             self.shared_array[index] = torch.randn(1)\n",
        "        x = self.shared_array[index]\n",
        "        return x\n",
        "    \n",
        "    def __len__(self):\n",
        "        return nb_samples\n",
        "\n",
        "\n",
        "nb_samples = 4\n",
        "\n",
        "dataset = MyDataset()\n",
        "loader = DataLoader(\n",
        "                    dataset,\n",
        "                    pin_memory=True,\n",
        "#                     num_workers=0,\n",
        "                    num_workers=32,\n",
        "#                     prefetch_factor=0,\n",
        "                    persistent_workers=True,\n",
        "                    shuffle=False\n",
        ")\n",
        "\n",
        "for epoch in range(4):\n",
        "    for idx, data in enumerate(loader):\n",
        "        print('Epoch {}, idx {}, data.shape {}'.format(epoch, idx, data))\n",
        "        dataset.shared_array = torch.rand(4)+epoch*10\n",
        "        \n",
        "#     if epoch==0:\n",
        "#         loader.dataset.set_use_cache(True)"
      ]
    },
    {
      "cell_type": "code",
      "metadata": {
        "scrolled": false,
        "id": "LEYyNrzPDB0v"
      },
      "source": [
        "# import time\n",
        "\n",
        "# %matplotlib inline\n",
        "# tic=time.time()\n",
        "# # for ii, im in enumerate(dataset_train):\n",
        "# for ii,idx in enumerate(np.random.randint(0,X_train.shape[0], 5)):\n",
        "# #     for jj in range(im[0])\n",
        "# #     print(time.time() - tic)\n",
        "# #     tic = time.time()\n",
        "# #     print((im[0][0]).shape)\n",
        "#     print(dataset_train[idx][3])\n",
        "#     fig, axs = plt.subplots(2)\n",
        "#     for jj, ax in enumerate(axs):\n",
        "# #         ax.imshow(im[0][j].cpu().squeeze())\n",
        "#         ax.imshow(dataset_train[idx][0][jj].cpu().squeeze())\n",
        "# #     if ii > 5:\n",
        "# #         break"
      ],
      "execution_count": 22,
      "outputs": []
    },
    {
      "cell_type": "markdown",
      "metadata": {
        "id": "3aA1-hY4DB0v"
      },
      "source": [
        "## Train"
      ]
    },
    {
      "cell_type": "code",
      "metadata": {
        "id": "YtkRZSMqDB0v",
        "colab": {
          "base_uri": "https://localhost:8080/"
        },
        "outputId": "ce5addeb-41ad-4558-e1cb-98a03b97fcb6"
      },
      "source": [
        "DEVICE = torch_helpers.set_device(use_GPU=True)"
      ],
      "execution_count": 23,
      "outputs": [
        {
          "output_type": "stream",
          "name": "stdout",
          "text": [
            "device: 'cuda'\n"
          ]
        }
      ]
    },
    {
      "cell_type": "code",
      "metadata": {
        "id": "taiMH79eyYdS"
      },
      "source": [
        "class ModelTackOn(torch.nn.Module):\n",
        "  def __init__(self, base_model, un_modified_model, pre_head_fc_sizes=[100], post_head_fc_sizes=[100], classifier_fc_sizes=[]):\n",
        "    super(ModelTackOn, self).__init__()\n",
        "    self.base_model = base_model\n",
        "    final_base_layer = list(un_modified_model.children())[-1]\n",
        "    # final_base_layer = list(list(model.children())[-1].children())[-1]\n",
        "    # print(final_base_layer)\n",
        "\n",
        "    self.pre_head_fc_lst = []\n",
        "    self.post_head_fc_lst = []\n",
        "    self.classifier_fc_lst = []\n",
        "\n",
        "    for i, pre_head_fc in enumerate(pre_head_fc_sizes):\n",
        "      if i == 0:\n",
        "        in_features = final_base_layer.in_features if hasattr(final_base_layer,'in_features') else 512\n",
        "      else:\n",
        "        in_features = pre_head_fc_sizes[i - 1]\n",
        "      fc_layer = torch.nn.Linear(in_features=in_features, out_features=pre_head_fc)\n",
        "      self.add_module(f'PreHead_{i}', fc_layer)\n",
        "      self.pre_head_fc_lst.append(fc_layer)\n",
        "\n",
        "      if i < len(pre_head_fc_sizes) - 1:\n",
        "        non_linearity = torch.nn.ReLU()\n",
        "        self.add_module(f'PreHead_{i}_NonLinearity', non_linearity)\n",
        "        self.pre_head_fc_lst.append(non_linearity)\n",
        "\n",
        "    \n",
        "    for i, post_head_fc in enumerate(post_head_fc_sizes):\n",
        "      if i == 0:\n",
        "        in_features = pre_head_fc_sizes[-1]\n",
        "      else:\n",
        "        in_features = post_head_fc_sizes[i - 1]\n",
        "      fc_layer = torch.nn.Linear(in_features=in_features, out_features=post_head_fc)\n",
        "      self.add_module(f'PostHead_{i}', fc_layer)\n",
        "      self.post_head_fc_lst.append(fc_layer)\n",
        "\n",
        "      if i < len(post_head_fc_sizes) - 1:\n",
        "        non_linearity = torch.nn.ReLU()\n",
        "        self.add_module(f'PostHead_{i}_NonLinearity', non_linearity)\n",
        "        self.pre_head_fc_lst.append(non_linearity)\n",
        "    \n",
        "    if classifier_fc_sizes:\n",
        "      for i, classifier_fc in enumerate(classifier_fc_sizes):\n",
        "        if i == 0:\n",
        "          in_features = pre_head_fc_sizes[-1]\n",
        "        else:\n",
        "          in_features = classifier_fc_sizes[i - 1]\n",
        "        fc_layer = torch.nn.Linear(in_features=in_features, out_features=classifier_fc)\n",
        "        self.add_module(f'Classifier_{i}', fc_layer)\n",
        "        self.classifier_fc_lst.append(fc_layer)\n",
        "    \n",
        "  def forward(self, X):\n",
        "    interim = self.base_model(X)\n",
        "    interim = self.get_head(interim)\n",
        "    interim = self.get_latent(interim)\n",
        "    return interim\n",
        "  \n",
        "  def forward_class(self, X):\n",
        "    interim = self.base_model(X)\n",
        "    interim = self.get_head(interim)\n",
        "    interim = self.classify(interim)\n",
        "    return interim\n",
        "\n",
        "  def forward_latent(self, X):\n",
        "    interim = self.base_model(X)\n",
        "    interim = self.get_head(interim)\n",
        "    interim = self.get_latent(interim)\n",
        "    return interim\n",
        "\n",
        "  def predict_proba(self, X):\n",
        "    logit = self.forward_class(X)\n",
        "    return torch.nn.functional.softmax(logit, dim=-1)\n",
        "  \n",
        "\n",
        "\n",
        "\n",
        "  def get_head(self, base_out):\n",
        "    # print('base_out', base_out.shape)\n",
        "    head = base_out\n",
        "    for pre_head_layer in self.pre_head_fc_lst:\n",
        "      # print('pre_head_layer', pre_head_layer.in_features)\n",
        "      head = pre_head_layer(head)\n",
        "      # print('head', head.shape)\n",
        "    return head\n",
        "  \n",
        "  def get_latent(self, head):\n",
        "    latent = head\n",
        "    for post_head_layer in self.post_head_fc_lst:\n",
        "      latent = post_head_layer(latent)\n",
        "    return latent\n",
        "  \n",
        "  def classify(self, head):\n",
        "    logit = head\n",
        "    for classifier_layer in self.classifier_fc_lst:\n",
        "      logit = classifier_layer(logit)\n",
        "    return logit\n",
        "  \n",
        "\n",
        "  def set_pre_head_grad(self, requires_grad=True):\n",
        "    for pre_head_layer in self.pre_head_fc_lst:\n",
        "      pre_head_layer.requies_grad = requires_grad\n",
        "  \n",
        "  def set_post_head_grad(self, requires_grad=True):\n",
        "    for post_head_layer in self.post_head_fc_lst:\n",
        "      post_head_layer.requies_grad = requires_grad\n",
        "    \n",
        "  def set_classifier_grad(self, requires_grad=True):\n",
        "    for classifier_layer in self.classifier_fc_lst:\n",
        "      classifier_layer.requies_grad = requires_grad\n",
        "\n",
        "  def prep_contrast(self):\n",
        "    self.set_pre_head_grad(requires_grad=True)\n",
        "    self.set_post_head_grad(requires_grad=True)\n",
        "    self.set_classifier_grad(requires_grad=False)\n",
        "\n",
        "  def prep_classifier(self):\n",
        "    self.set_pre_head_grad(requires_grad=False)\n",
        "    self.set_post_head_grad(requires_grad=False)\n",
        "    self.set_classifier_grad(requires_grad=True)\n"
      ],
      "execution_count": 24,
      "outputs": []
    },
    {
      "cell_type": "code",
      "metadata": {
        "id": "NyMr4GEqJLqI"
      },
      "source": [
        "# import torchvision.models\n",
        "\n",
        "# # base_model = torchvision.models.resnet101(pretrained=True)\n",
        "# base_model = torchvision.models.resnet18(pretrained=True)\n",
        "\n",
        "# for param in base_model.parameters():\n",
        "#     param.requires_grad = False\n",
        "\n",
        "# retrain = list(base_model.children())[-1:]\n",
        "# for layer in retrain:\n",
        "#   params = layer.parameters()\n",
        "#   for param in params:\n",
        "#     param.requires_grad = True"
      ],
      "execution_count": 25,
      "outputs": []
    },
    {
      "cell_type": "code",
      "metadata": {
        "id": "-kCduX6wyqII"
      },
      "source": [
        "import torchvision.models\n",
        "\n",
        "# base_model_frozen = torchvision.models.resnet101(pretrained=True)\n",
        "base_model_frozen = torchvision.models.resnet18(pretrained=True)\n",
        "for param in base_model_frozen.parameters():\n",
        "    param.requires_grad = False\n",
        "\n",
        "from sklearn.linear_model import LogisticRegression\n",
        "sq = torch.nn.Sequential(*(list(base_model_frozen.children())[:-1] + [torch.nn.Flatten()]))\n"
      ],
      "execution_count": 26,
      "outputs": []
    },
    {
      "cell_type": "code",
      "metadata": {
        "colab": {
          "base_uri": "https://localhost:8080/"
        },
        "id": "n6Qx-1NGJNY3",
        "outputId": "0ae73f87-9941-4f40-8f6a-def05b1b7e05"
      },
      "source": [
        "model = ModelTackOn(sq.to(DEVICE), base_model_frozen, pre_head_fc_sizes=[256], post_head_fc_sizes=[128], classifier_fc_sizes=[len(np.unique(y_train))]).to(DEVICE)\n",
        "# model = ModelTackOn(sq.to(DEVICE), base_model_frozen, pre_head_fc_sizes=[100], post_head_fc_sizes=[100], classifier_fc_sizes=[len(np.unique(y_train))]).to(DEVICE)\n",
        "# model = ModelTackOn(sq.to(DEVICE), base_model_frozen, pre_head_fc_sizes=[len(np.unique(y_train))], post_head_fc_sizes=[])\n",
        "model.train()"
      ],
      "execution_count": 27,
      "outputs": [
        {
          "output_type": "execute_result",
          "data": {
            "text/plain": [
              "ModelTackOn(\n",
              "  (base_model): Sequential(\n",
              "    (0): Conv2d(3, 64, kernel_size=(7, 7), stride=(2, 2), padding=(3, 3), bias=False)\n",
              "    (1): BatchNorm2d(64, eps=1e-05, momentum=0.1, affine=True, track_running_stats=True)\n",
              "    (2): ReLU(inplace=True)\n",
              "    (3): MaxPool2d(kernel_size=3, stride=2, padding=1, dilation=1, ceil_mode=False)\n",
              "    (4): Sequential(\n",
              "      (0): BasicBlock(\n",
              "        (conv1): Conv2d(64, 64, kernel_size=(3, 3), stride=(1, 1), padding=(1, 1), bias=False)\n",
              "        (bn1): BatchNorm2d(64, eps=1e-05, momentum=0.1, affine=True, track_running_stats=True)\n",
              "        (relu): ReLU(inplace=True)\n",
              "        (conv2): Conv2d(64, 64, kernel_size=(3, 3), stride=(1, 1), padding=(1, 1), bias=False)\n",
              "        (bn2): BatchNorm2d(64, eps=1e-05, momentum=0.1, affine=True, track_running_stats=True)\n",
              "      )\n",
              "      (1): BasicBlock(\n",
              "        (conv1): Conv2d(64, 64, kernel_size=(3, 3), stride=(1, 1), padding=(1, 1), bias=False)\n",
              "        (bn1): BatchNorm2d(64, eps=1e-05, momentum=0.1, affine=True, track_running_stats=True)\n",
              "        (relu): ReLU(inplace=True)\n",
              "        (conv2): Conv2d(64, 64, kernel_size=(3, 3), stride=(1, 1), padding=(1, 1), bias=False)\n",
              "        (bn2): BatchNorm2d(64, eps=1e-05, momentum=0.1, affine=True, track_running_stats=True)\n",
              "      )\n",
              "    )\n",
              "    (5): Sequential(\n",
              "      (0): BasicBlock(\n",
              "        (conv1): Conv2d(64, 128, kernel_size=(3, 3), stride=(2, 2), padding=(1, 1), bias=False)\n",
              "        (bn1): BatchNorm2d(128, eps=1e-05, momentum=0.1, affine=True, track_running_stats=True)\n",
              "        (relu): ReLU(inplace=True)\n",
              "        (conv2): Conv2d(128, 128, kernel_size=(3, 3), stride=(1, 1), padding=(1, 1), bias=False)\n",
              "        (bn2): BatchNorm2d(128, eps=1e-05, momentum=0.1, affine=True, track_running_stats=True)\n",
              "        (downsample): Sequential(\n",
              "          (0): Conv2d(64, 128, kernel_size=(1, 1), stride=(2, 2), bias=False)\n",
              "          (1): BatchNorm2d(128, eps=1e-05, momentum=0.1, affine=True, track_running_stats=True)\n",
              "        )\n",
              "      )\n",
              "      (1): BasicBlock(\n",
              "        (conv1): Conv2d(128, 128, kernel_size=(3, 3), stride=(1, 1), padding=(1, 1), bias=False)\n",
              "        (bn1): BatchNorm2d(128, eps=1e-05, momentum=0.1, affine=True, track_running_stats=True)\n",
              "        (relu): ReLU(inplace=True)\n",
              "        (conv2): Conv2d(128, 128, kernel_size=(3, 3), stride=(1, 1), padding=(1, 1), bias=False)\n",
              "        (bn2): BatchNorm2d(128, eps=1e-05, momentum=0.1, affine=True, track_running_stats=True)\n",
              "      )\n",
              "    )\n",
              "    (6): Sequential(\n",
              "      (0): BasicBlock(\n",
              "        (conv1): Conv2d(128, 256, kernel_size=(3, 3), stride=(2, 2), padding=(1, 1), bias=False)\n",
              "        (bn1): BatchNorm2d(256, eps=1e-05, momentum=0.1, affine=True, track_running_stats=True)\n",
              "        (relu): ReLU(inplace=True)\n",
              "        (conv2): Conv2d(256, 256, kernel_size=(3, 3), stride=(1, 1), padding=(1, 1), bias=False)\n",
              "        (bn2): BatchNorm2d(256, eps=1e-05, momentum=0.1, affine=True, track_running_stats=True)\n",
              "        (downsample): Sequential(\n",
              "          (0): Conv2d(128, 256, kernel_size=(1, 1), stride=(2, 2), bias=False)\n",
              "          (1): BatchNorm2d(256, eps=1e-05, momentum=0.1, affine=True, track_running_stats=True)\n",
              "        )\n",
              "      )\n",
              "      (1): BasicBlock(\n",
              "        (conv1): Conv2d(256, 256, kernel_size=(3, 3), stride=(1, 1), padding=(1, 1), bias=False)\n",
              "        (bn1): BatchNorm2d(256, eps=1e-05, momentum=0.1, affine=True, track_running_stats=True)\n",
              "        (relu): ReLU(inplace=True)\n",
              "        (conv2): Conv2d(256, 256, kernel_size=(3, 3), stride=(1, 1), padding=(1, 1), bias=False)\n",
              "        (bn2): BatchNorm2d(256, eps=1e-05, momentum=0.1, affine=True, track_running_stats=True)\n",
              "      )\n",
              "    )\n",
              "    (7): Sequential(\n",
              "      (0): BasicBlock(\n",
              "        (conv1): Conv2d(256, 512, kernel_size=(3, 3), stride=(2, 2), padding=(1, 1), bias=False)\n",
              "        (bn1): BatchNorm2d(512, eps=1e-05, momentum=0.1, affine=True, track_running_stats=True)\n",
              "        (relu): ReLU(inplace=True)\n",
              "        (conv2): Conv2d(512, 512, kernel_size=(3, 3), stride=(1, 1), padding=(1, 1), bias=False)\n",
              "        (bn2): BatchNorm2d(512, eps=1e-05, momentum=0.1, affine=True, track_running_stats=True)\n",
              "        (downsample): Sequential(\n",
              "          (0): Conv2d(256, 512, kernel_size=(1, 1), stride=(2, 2), bias=False)\n",
              "          (1): BatchNorm2d(512, eps=1e-05, momentum=0.1, affine=True, track_running_stats=True)\n",
              "        )\n",
              "      )\n",
              "      (1): BasicBlock(\n",
              "        (conv1): Conv2d(512, 512, kernel_size=(3, 3), stride=(1, 1), padding=(1, 1), bias=False)\n",
              "        (bn1): BatchNorm2d(512, eps=1e-05, momentum=0.1, affine=True, track_running_stats=True)\n",
              "        (relu): ReLU(inplace=True)\n",
              "        (conv2): Conv2d(512, 512, kernel_size=(3, 3), stride=(1, 1), padding=(1, 1), bias=False)\n",
              "        (bn2): BatchNorm2d(512, eps=1e-05, momentum=0.1, affine=True, track_running_stats=True)\n",
              "      )\n",
              "    )\n",
              "    (8): AdaptiveAvgPool2d(output_size=(1, 1))\n",
              "    (9): Flatten(start_dim=1, end_dim=-1)\n",
              "  )\n",
              "  (PreHead_0): Linear(in_features=512, out_features=256, bias=True)\n",
              "  (PostHead_0): Linear(in_features=256, out_features=128, bias=True)\n",
              "  (Classifier_0): Linear(in_features=256, out_features=4, bias=True)\n",
              ")"
            ]
          },
          "metadata": {},
          "execution_count": 27
        }
      ]
    },
    {
      "cell_type": "code",
      "metadata": {
        "id": "aKfcpbmyWek_"
      },
      "source": [
        ""
      ],
      "execution_count": 27,
      "outputs": []
    },
    {
      "cell_type": "code",
      "metadata": {
        "id": "dQ8wkiduDB0v"
      },
      "source": [
        "from torch.nn import CrossEntropyLoss\n",
        "from torch.optim import Adam\n",
        "\n",
        "import numpy as np\n",
        "\n",
        "from sklearn.linear_model import LogisticRegression\n",
        "from sklearn.tree import DecisionTreeClassifier\n",
        "from sklearn.ensemble import RandomForestClassifier\n",
        "from sklearn.svm import SVC\n",
        "from sklearn.metrics import confusion_matrix\n",
        "\n",
        "\n",
        "# model = models.LeNet1(dropout_prob=0.3, momentum_val=0, n_output_features=64)\n",
        "\n",
        "\n",
        "criterion_class = CrossEntropyLoss()\n",
        "criterion = CrossEntropyLoss(reduction='none')\n",
        "\n",
        "optimizer = Adam(model.parameters(), lr=2e-1, weight_decay=0.0)\n",
        "scheduler = torch.optim.lr_scheduler.ExponentialLR(optimizer,\n",
        "                                                   gamma=1-0.0002,\n",
        "#                                                    gamma=1,\n",
        "                                                  )\n",
        "\n",
        "optimizer_class = Adam(model.parameters(), lr=2e-1)\n",
        "\n",
        "# val_obj = training_simCLR.validation_Obj(   X_val,\n",
        "#                                             y_val,\n",
        "#                                             model,\n",
        "#                                             criterion,\n",
        "#                                             DEVICE=DEVICE,\n",
        "#                                             dtype_X=torch.float32,\n",
        "#                                             dtype_y=torch.int64) # Needs to take in weights\n",
        "\n",
        "model.to(DEVICE)\n",
        "criterion = criterion.to(DEVICE)\n",
        "\n",
        "# # classHead = HeadModel(model, RandomForestClassifier)\n",
        "# classHead = training_classHead.HeadModel(model, LogisticRegression)\n",
        "# dataset_train.headmodel = classHead\n",
        "# # dataset_train.headmodel = None\n",
        "\n",
        "losses_train, losses_val, val_accs, acc = [], [np.nan], [], []"
      ],
      "execution_count": 28,
      "outputs": []
    },
    {
      "cell_type": "code",
      "metadata": {
        "id": "VjNpojU9HbqR"
      },
      "source": [
        ""
      ],
      "execution_count": 28,
      "outputs": []
    },
    {
      "cell_type": "code",
      "metadata": {
        "id": "wum65GhmIu5h"
      },
      "source": [
        ""
      ],
      "execution_count": 28,
      "outputs": []
    },
    {
      "cell_type": "code",
      "metadata": {
        "id": "SSATgE7jNYEx"
      },
      "source": [
        "import pandas as pd\n",
        "tracking_df_cols = ['sample_id',\n",
        "                    'epoch',\n",
        "                    'batch_iter',\n",
        "                    'labels'\n",
        "                    ]\n",
        "tracking_df = pd.DataFrame(columns=tracking_df_cols)"
      ],
      "execution_count": 29,
      "outputs": []
    },
    {
      "cell_type": "code",
      "metadata": {
        "id": "EyDX81p8LFck"
      },
      "source": [
        "from torch.utils.data import Dataset\n"
      ],
      "execution_count": 30,
      "outputs": []
    },
    {
      "cell_type": "code",
      "metadata": {
        "id": "T3fsor_JMGXS"
      },
      "source": [
        "pct_batch_size = 1.0\n",
        "\n",
        "# dataset_train = util.dataset_supervised(\n",
        "#                                     X_train,\n",
        "#                                     y_train,\n",
        "#                                     class_weights=np.array([1]*4)[np.random.randint(0,4, X_train.shape[0])],\n",
        "#                                     transform=scripted_transforms,\n",
        "#                                     DEVICE='cpu',\n",
        "#                                     dtype_X=torch.float32,\n",
        "#                                     dtype_y=torch.int64\n",
        "#                                     )\n",
        "\n",
        "dataset_train = util.dataset_simCLR(\n",
        "                                    # torch.as_tensor(X_train, device=DEVICE, dtype=torch.float32), \n",
        "                                    # torch.as_tensor(y_train, device=DEVICE, dtype=torch.float32),\n",
        "\n",
        "                                    torch.as_tensor(X_train_all, device=DEVICE, dtype=torch.float32), \n",
        "                                    torch.as_tensor(y_train_all, device=DEVICE, dtype=torch.float32),\n",
        "\n",
        "                                    n_transforms=2,\n",
        "                                    class_weights=np.array([1]*4)[np.random.randint(0,4, X_train.shape[0])],\n",
        "                                    transform=scripted_transforms,\n",
        "                                    # DEVICE='cpu',\n",
        "                                    DEVICE=DEVICE,\n",
        "                                    dtype_X=torch.float32,\n",
        "                                    dtype_y=torch.int64\n",
        "                                    )\n",
        "\n",
        "dataloader_train = torch.utils.data.DataLoader( dataset_train,\n",
        "                                                batch_size=int(pct_batch_size*X_train.shape[0]),\n",
        "                                                # batch_size=64,\n",
        "                                                shuffle=True,\n",
        "                                                drop_last=True,\n",
        "                                                # pin_memory=True,\n",
        "                                                # num_workers=16,\n",
        "                                                # persistent_workers=True,\n",
        "                                                # prefetch_factor=0\n",
        "                                                )\n",
        "\n"
      ],
      "execution_count": 31,
      "outputs": []
    },
    {
      "cell_type": "code",
      "metadata": {
        "id": "vwaw05B3zNDN",
        "colab": {
          "base_uri": "https://localhost:8080/"
        },
        "outputId": "740c4e3c-59a0-4623-ee37-c2b32a3fe71a"
      },
      "source": [
        "import sys\n",
        "sys.getsizeof(X_labeled_train)/1e9"
      ],
      "execution_count": 32,
      "outputs": [
        {
          "output_type": "execute_result",
          "data": {
            "text/plain": [
              "0.080569856"
            ]
          },
          "metadata": {},
          "execution_count": 32
        }
      ]
    },
    {
      "cell_type": "code",
      "metadata": {
        "id": "lsCDvvfTzR63"
      },
      "source": [
        "from sklearn.metrics import confusion_matrix\n",
        "\n",
        "def get_cm(pred_cm, y_cm, plot=False):\n",
        "  ### NOTE — RETURNS A MATRIX WITH PREDICTION NUM ASSOCIATED WITH ROW NUM\n",
        "  ### AND COLUMN NUM ASSOCIATED WITH TRUE VALUE. (TRANSPOSE OF SKLEARN OUTPUT.)\n",
        "\n",
        "  cm = confusion_matrix(y_cm, np.argmax(pred_cm, -1))\n",
        "  cm = cm / np.where(cm.sum(1, keepdims=True)==0, np.ones_like(cm.sum(1, keepdims=True)), cm.sum(1, keepdims=True))\n",
        "  \n",
        "  # cm = classification.confusion_matrix(y_hat, y_labeled_val)\n",
        "  # print(cm)\n",
        "  \n",
        "  if plot:\n",
        "    plt.figure()\n",
        "    plt.imshow(cm)\n",
        "    plt.colorbar()\n",
        "    plt.show()\n",
        "  \n",
        "  return cm.T"
      ],
      "execution_count": 33,
      "outputs": []
    },
    {
      "cell_type": "code",
      "metadata": {
        "id": "hQ-nZadlzXwc",
        "colab": {
          "base_uri": "https://localhost:8080/"
        },
        "outputId": "630daf11-f4db-4640-87d3-5e759fd88f3f"
      },
      "source": [
        "x_feed_through_tr = util.tile_channels(torch.as_tensor(X_train[:,None,...], device=DEVICE, dtype=torch.float32), dim=1)\n",
        "x_feed_through_val = util.tile_channels(torch.as_tensor(X_val[:,None,...], device=DEVICE, dtype=torch.float32), dim=1)\n",
        "x_feed_through_te = util.tile_channels(torch.as_tensor(X_test[:,None,...], device=DEVICE, dtype=torch.float32), dim=1)\n",
        "\n",
        "cpu_tr = sq(x_feed_through_tr)\n",
        "cpu_val = sq(x_feed_through_val)\n",
        "cpu_te = sq(x_feed_through_te)\n",
        "cpu_tr.shape, cpu_val.shape, cpu_tr.squeeze().shape, cpu_val.squeeze().shape"
      ],
      "execution_count": 34,
      "outputs": [
        {
          "output_type": "execute_result",
          "data": {
            "text/plain": [
              "(torch.Size([7771, 512]),\n",
              " torch.Size([971, 512]),\n",
              " torch.Size([7771, 512]),\n",
              " torch.Size([971, 512]))"
            ]
          },
          "metadata": {},
          "execution_count": 34
        }
      ]
    },
    {
      "cell_type": "code",
      "metadata": {
        "id": "HZfu42bV6cd6"
      },
      "source": [
        ""
      ],
      "execution_count": 34,
      "outputs": []
    },
    {
      "cell_type": "code",
      "metadata": {
        "id": "h_Zrg7vMzg8h"
      },
      "source": [
        "# num_tr_ex = X_val.shape[0]\n",
        "\n",
        "# solver = 'liblinear'\n",
        "# C_reg = 0.01\n",
        "# logreg = LogisticRegression(solver=solver, C=C_reg)\n",
        "\n",
        "# base_features_train = cpu_tr.cpu().detach().numpy()\n",
        "# logreg.fit(base_features_train, y_train)\n",
        "# base_features_val = cpu_val.cpu().detach().numpy()\n",
        "\n",
        "# base_features_te = cpu_te.cpu().detach().numpy()\n",
        "\n",
        "# logistic_pred_train = get_cm(logreg.predict_proba(base_features_train), y_train)\n",
        "# logistic_pred_val = get_cm(logreg.predict_proba(base_features_val), y_val)\n",
        "# logistic_pred_test = get_cm(logreg.predict_proba(base_features_te), y_test)\n",
        "\n",
        "\n",
        "# x_feed_through_tr.to(DEVICE)\n",
        "# x_feed_through_val.to(DEVICE)\n",
        "# x_feed_through_te.to(DEVICE)\n",
        "\n",
        "# print(x_feed_through_tr.shape, x_feed_through_val.shape)"
      ],
      "execution_count": 35,
      "outputs": []
    },
    {
      "cell_type": "code",
      "metadata": {
        "id": "fVmv4KhVzyE8",
        "colab": {
          "base_uri": "https://localhost:8080/"
        },
        "outputId": "0fb303eb-c65a-4a59-e060-d0d847285446"
      },
      "source": [
        "import gc\n",
        "\n",
        "torch.cuda.empty_cache()\n",
        "gc.collect()\n",
        "torch.cuda.empty_cache()\n",
        "gc.collect()\n",
        "torch.cuda.empty_cache()\n",
        "gc.collect()\n",
        "torch.cuda.empty_cache()\n",
        "gc.collect()"
      ],
      "execution_count": 36,
      "outputs": [
        {
          "output_type": "execute_result",
          "data": {
            "text/plain": [
              "0"
            ]
          },
          "metadata": {},
          "execution_count": 36
        }
      ]
    },
    {
      "cell_type": "code",
      "metadata": {
        "id": "xjFubIA6z0Bn",
        "colab": {
          "base_uri": "https://localhost:8080/"
        },
        "outputId": "678917a1-80a5-425e-9dcb-130ad964c2bc"
      },
      "source": [
        "torch_helpers.show_all_tensors(globals())"
      ],
      "execution_count": 37,
      "outputs": [
        {
          "output_type": "stream",
          "name": "stdout",
          "text": [
            "var: x_feed_through_tr,   device:cuda:0,   shape: torch.Size([7771, 3, 36, 36]),   size: 0.120854592 GB,   requires_grad: False\n",
            "var: x_feed_through_val,   device:cuda:0,   shape: torch.Size([971, 3, 36, 36]),   size: 0.015100992 GB,   requires_grad: False\n",
            "var: x_feed_through_te,   device:cuda:0,   shape: torch.Size([972, 3, 36, 36]),   size: 0.015116544 GB,   requires_grad: False\n",
            "var: cpu_tr,   device:cuda:0,   shape: torch.Size([7771, 512]),   size: 0.015915008 GB,   requires_grad: False\n",
            "var: cpu_val,   device:cuda:0,   shape: torch.Size([971, 512]),   size: 0.001988608 GB,   requires_grad: False\n",
            "var: cpu_te,   device:cuda:0,   shape: torch.Size([972, 512]),   size: 0.001990656 GB,   requires_grad: False\n"
          ]
        }
      ]
    },
    {
      "cell_type": "code",
      "metadata": {
        "id": "KV6KBgrpZ16d"
      },
      "source": [
        ""
      ],
      "execution_count": 37,
      "outputs": []
    },
    {
      "cell_type": "code",
      "metadata": {
        "scrolled": true,
        "id": "E5EeUhzUDB0v",
        "colab": {
          "base_uri": "https://localhost:8080/",
          "height": 1000
        },
        "outputId": "746472f0-b1bf-473b-861b-2cacae8372da"
      },
      "source": [
        "%matplotlib inline\n",
        "\n",
        "\n",
        "x_feed_through_tr.to(DEVICE)\n",
        "x_feed_through_val.to(DEVICE)\n",
        "x_feed_through_te.to(DEVICE)\n",
        "y_train_torch = torch.as_tensor(y_train).to(DEVICE)\n",
        "y_val_torch = torch.as_tensor(y_val).to(DEVICE)\n",
        "y_test_torch = torch.as_tensor(y_test).to(DEVICE)\n",
        "\n",
        "cpu_tr.to(DEVICE)\n",
        "cpu_val.to(DEVICE)\n",
        "model.to(DEVICE)\n",
        "base_model_frozen.to(DEVICE)\n",
        "\n",
        "penalized_params = list(model.modules())[-1].parameters()\n",
        "penalized_params = torch.cat([_.view(-1) for _ in penalized_params], -1)\n",
        "early_stopping = 50\n",
        "prv_best_val = np.inf\n",
        "early_stopping_cnt = 0\n",
        "l2_alpha = 0.1\n",
        "\n",
        "\n",
        "\n",
        "\n",
        "# logreg = LogisticRegression(solver='liblinear')\n",
        "# logreg_predict_head = LogisticRegression(solver='liblinear')\n",
        "dataset_train.classification_model = None\n",
        "\n",
        "# scheduler = torch.optim.lr_scheduler.ExponentialLR(optimizer,\n",
        "#                                                    gamma=1-0.001,\n",
        "# #                                                    gamma=1,\n",
        "#                                                   )\n",
        "n_epochs=300000\n",
        "for epoch in range(n_epochs):\n",
        "    print(f'epoch: {epoch}')\n",
        "    \n",
        "    model.prep_contrast()\n",
        "    training_simCLR.epoch_step( dataloader_train, \n",
        "                                model, \n",
        "                                optimizer, \n",
        "                                criterion, \n",
        "                                scheduler=scheduler, \n",
        "                                temperature=0.5,\n",
        "                                loss_rolling_train=losses_train, \n",
        "                                device=DEVICE, \n",
        "                                do_validation=False,\n",
        "#                                 validation_Object=val_obj,\n",
        "                                loss_rolling_val=losses_val,\n",
        "                                verbose=2,\n",
        "                                verbose_update_period=100,\n",
        "                               )\n",
        "    \n",
        "\n",
        "    model.prep_classifier()\n",
        "    \n",
        "    for epoch_classify in range(101):\n",
        "      if epoch_classify%25 == 0:\n",
        "        print(f'Epoch {epoch_classify} for classification training...')\n",
        "      optimizer_class.zero_grad()\n",
        "      features_train = model.forward_class(torch.as_tensor((x_feed_through_tr), device=DEVICE, dtype=torch.float32))\n",
        "      loss_classification = criterion_class(features_train, y_train_torch)\n",
        "      loss_classification.backward()\n",
        "      optimizer_class.step()\n",
        "\n",
        "    features_train = model.forward_class(torch.as_tensor((x_feed_through_tr), device=DEVICE, dtype=torch.float32))\n",
        "    \n",
        "    # dataset_train.net_model = model #copy.deepcopy(model).to('cpu')\n",
        "    # dataset_train.net_model = model.get_latent\n",
        "    # dataset_train.classification_model = model.classify\n",
        "    \n",
        "    dataset_train.net_model = model\n",
        "    dataset_train.classification_model = model\n",
        "    \n",
        "\n",
        "    sample_id_num = np.arange(x_feed_through_val.shape[0])\n",
        "    epoch_val = epoch\n",
        "    batch_val = -1\n",
        "    features_val = model.forward_class(torch.as_tensor((x_feed_through_val), device=DEVICE, dtype=torch.float32))\n",
        "    # features_val = features_val.detach().cpu()\n",
        "\n",
        "    tr_acc = torch.mean(torch.as_tensor(torch.argmax(features_train, axis=-1) == y_train_torch, dtype=torch.float32))\n",
        "    val_acc = torch.mean(torch.as_tensor(torch.argmax(features_val, axis=-1) == y_val_torch, dtype=torch.float32))\n",
        "    acc.append((tr_acc, val_acc))\n",
        "    print(f'Training Acc: {acc[-1][0]}')\n",
        "    print(f'Validation Acc: {acc[-1][1]}')\n",
        "\n",
        "\n",
        "\n",
        "    # p_tmp = logreg.predict_proba(features_val)\n",
        "    p_tmp = torch.nn.functional.softmax(features_val, dim=-1)\n",
        "    logits = p_tmp\n",
        "    # logits = np.log(1/(1/p_tmp - 1))\n",
        "\n",
        "    # col_vals = [sample_id_num, epoch_val, batch_val, y_val]\n",
        "    # setup = np.empty((len(sample_id_num), len(col_vals)))\n",
        "    # for icv, col_val in enumerate(col_vals):\n",
        "    #   setup[:, icv] = col_val\n",
        "    # tmp_tracking_np = np.concatenate([setup, logits], axis=1)\n",
        "\n",
        "    # tmp_tracking_df = pd.DataFrame(tmp_tracking_np, index=sample_id_num, columns=tracking_df_cols + [f'logits_{i}' for i in range(logits.shape[1])])\n",
        "    # tracking_df = tracking_df.append(tmp_tracking_df, ignore_index=True)\n",
        "    # display(tracking_df)\n",
        "\n",
        "\n",
        "\n",
        "\n",
        "\n",
        "\n",
        "\n",
        "    # features_val = model(torch.as_tensor((x_feed_through_val), device=DEVICE, dtype=torch.float32))\n",
        "    # features_val = features_val.detach().cpu()\n",
        "\n",
        "\n",
        "\n",
        "    # logreg_predict_head.fit(features_train, y_labeled_train)\n",
        "    # y_hat = logreg_predict_head.predict_proba(features_val)\n",
        "\n",
        "    y_hat = p_tmp.detach().cpu().numpy()\n",
        "    # y_hat = logreg.predict_proba(features_val)\n",
        "    \n",
        "    cm = rh_cm(y_hat, y_val)\n",
        "    plt.figure()\n",
        "    plt.imshow(cm)\n",
        "    plt.colorbar()\n",
        "    plt.show()\n",
        "    print(cm)\n",
        "\n",
        "    # tracking_df = tracking_df.append(pd.DataFrame([np.array([100, 0, 0, 0])], index=tracking_df_cols), ignore_index=True)\n",
        "    \n",
        "    # model predict\n",
        "    # Update model in DS\n",
        "    # get item calls model for each sample\n",
        "    # output\n",
        "    # X sample weights predictions\n",
        "    \n",
        "#     classHead.fit(X_train[:, None, :, :], y_train, solver='liblinear')\n",
        "    \n",
        "#     proba = classHead.predict_proba(X_train[:, None, :, :])\n",
        "#     class_weights = proba.sum(axis=0)\n",
        "#     total_num = class_weights.sum()\n",
        "    \n",
        "#     eps = 1e-4\n",
        "    \n",
        "#     class_weights[class_weights <= 3] = total_num\n",
        "#     weightings = class_weights.sum()/class_weights\n",
        "#     final_weights = weightings / weightings.sum()\n",
        "#     final_weights = np.array([1/proba.shape[1] for _ in range(proba.shape[1])])\n",
        "    \n",
        "#     print(class_weights)\n",
        "\n",
        "#     dataset_train.set_classweights(final_weights)\n",
        "    \n",
        "#     print('dataset_train.final_weights', dataset_train.class_weights)\n"
      ],
      "execution_count": null,
      "outputs": [
        {
          "output_type": "stream",
          "name": "stdout",
          "text": [
            "epoch: 0\n",
            "Epoch 0 for classification training...\n",
            "Epoch 25 for classification training...\n",
            "Epoch 50 for classification training...\n",
            "Epoch 75 for classification training...\n",
            "Epoch 100 for classification training...\n",
            "Training Acc: 0.9050315022468567\n",
            "Validation Acc: 0.8908342123031616\n"
          ]
        },
        {
          "output_type": "display_data",
          "data": {
            "image/png": "[encoded data removed]",
            "text/plain": [
              "<Figure size 432x288 with 2 Axes>"
            ]
          },
          "metadata": {
            "needs_background": "light"
          }
        },
        {
          "output_type": "stream",
          "name": "stdout",
          "text": [
            "[[8.12500000e-01 1.63636372e-01 1.49468391e-19 0.00000000e+00]\n",
            " [1.25000000e-01 2.00001136e-01 1.63934426e-02 1.26078695e-31]\n",
            " [4.16666667e-02 5.63635183e-01 7.21311475e-01 4.46021059e-02]\n",
            " [2.08333333e-02 7.27273089e-02 2.62295082e-01 9.55397894e-01]]\n",
            "epoch: 1\n",
            "Epoch 0 for classification training...\n",
            "Epoch 25 for classification training...\n",
            "Epoch 50 for classification training...\n",
            "Epoch 75 for classification training...\n",
            "Epoch 100 for classification training...\n",
            "Training Acc: 0.9216316938400269\n",
            "Validation Acc: 0.8671473264694214\n"
          ]
        },
        {
          "output_type": "display_data",
          "data": {
            "image/png": "[encoded data removed]",
            "text/plain": [
              "<Figure size 432x288 with 2 Axes>"
            ]
          },
          "metadata": {
            "needs_background": "light"
          }
        },
        {
          "output_type": "stream",
          "name": "stdout",
          "text": [
            "[[0.81231355 0.32009687 0.09836066 0.00371747]\n",
            " [0.18768645 0.46172131 0.19672162 0.00249826]\n",
            " [0.         0.16363637 0.48892918 0.06689461]\n",
            " [0.         0.05454545 0.21598854 0.92688966]]\n",
            "epoch: 2\n",
            "Epoch 0 for classification training...\n",
            "Epoch 25 for classification training...\n",
            "Epoch 50 for classification training...\n",
            "Epoch 75 for classification training...\n",
            "Epoch 100 for classification training...\n",
            "Training Acc: 0.9405481219291687\n",
            "Validation Acc: 0.871266782283783\n"
          ]
        },
        {
          "output_type": "display_data",
          "data": {
            "image/png": "[encoded data removed]",
            "text/plain": [
              "<Figure size 432x288 with 2 Axes>"
            ]
          },
          "metadata": {
            "needs_background": "light"
          }
        },
        {
          "output_type": "stream",
          "name": "stdout",
          "text": [
            "[[7.74765651e-01 2.92134118e-01 8.20594180e-02 4.95660793e-03]\n",
            " [2.25234349e-01 4.71502295e-01 2.45660818e-01 2.52892884e-03]\n",
            " [0.00000000e+00 1.98720828e-01 4.56455754e-01 5.71978032e-02]\n",
            " [5.57600013e-45 3.76427589e-02 2.15824010e-01 9.35316660e-01]]\n",
            "epoch: 3\n",
            "Epoch 0 for classification training...\n",
            "Epoch 25 for classification training...\n",
            "Epoch 50 for classification training...\n",
            "Epoch 75 for classification training...\n",
            "Epoch 100 for classification training...\n",
            "Training Acc: 0.9517436027526855\n",
            "Validation Acc: 0.8733264803886414\n"
          ]
        },
        {
          "output_type": "display_data",
          "data": {
            "image/png": "[encoded data removed]",
            "text/plain": [
              "<Figure size 432x288 with 2 Axes>"
            ]
          },
          "metadata": {
            "needs_background": "light"
          }
        },
        {
          "output_type": "stream",
          "name": "stdout",
          "text": [
            "[[0.74999986 0.26135667 0.1147539  0.00630689]\n",
            " [0.24824586 0.46607346 0.24588727 0.015931  ]\n",
            " [0.         0.21802096 0.40985063 0.03476405]\n",
            " [0.00175428 0.05454891 0.2295082  0.94299807]]\n",
            "epoch: 4\n",
            "Epoch 0 for classification training...\n",
            "Epoch 25 for classification training...\n",
            "Epoch 50 for classification training...\n",
            "Epoch 75 for classification training...\n",
            "Epoch 100 for classification training...\n",
            "Training Acc: 0.937845766544342\n",
            "Validation Acc: 0.9001030325889587\n"
          ]
        },
        {
          "output_type": "display_data",
          "data": {
            "image/png": "[encoded data removed]",
            "text/plain": [
              "<Figure size 432x288 with 2 Axes>"
            ]
          },
          "metadata": {
            "needs_background": "light"
          }
        },
        {
          "output_type": "stream",
          "name": "stdout",
          "text": [
            "[[6.76774273e-01 1.63696624e-01 6.55737705e-02 1.23915738e-03]\n",
            " [3.02392394e-01 5.27181095e-01 1.31280254e-01 2.47831836e-03]\n",
            " [2.75476459e-22 1.63667742e-01 3.94480756e-01 1.85873572e-02]\n",
            " [2.08333333e-02 1.45454539e-01 4.08665219e-01 9.77695167e-01]]\n",
            "epoch: 5\n",
            "Epoch 0 for classification training...\n",
            "Epoch 25 for classification training...\n",
            "Epoch 50 for classification training...\n",
            "Epoch 75 for classification training...\n",
            "Epoch 100 for classification training...\n",
            "Training Acc: 0.9372023940086365\n",
            "Validation Acc: 0.8815654516220093\n"
          ]
        },
        {
          "output_type": "display_data",
          "data": {
            "image/png": "[encoded data removed]",
            "text/plain": [
              "<Figure size 432x288 with 2 Axes>"
            ]
          },
          "metadata": {
            "needs_background": "light"
          }
        },
        {
          "output_type": "stream",
          "name": "stdout",
          "text": [
            "[[7.49999916e-01 2.21307213e-01 1.14754098e-01 7.43494437e-03]\n",
            " [2.50000084e-01 5.96678609e-01 3.76985597e-01 1.48690892e-02]\n",
            " [0.00000000e+00 1.09286921e-01 3.11623986e-01 2.63928905e-02]\n",
            " [2.71936088e-14 7.27272574e-02 1.96636318e-01 9.51303076e-01]]\n",
            "epoch: 6\n",
            "Epoch 0 for classification training...\n",
            "Epoch 25 for classification training...\n",
            "Epoch 50 for classification training...\n",
            "Epoch 75 for classification training...\n",
            "Epoch 100 for classification training...\n",
            "Training Acc: 0.92665034532547\n",
            "Validation Acc: 0.8774459958076477\n"
          ]
        },
        {
          "output_type": "display_data",
          "data": {
            "image/png": "[encoded data removed]",
            "text/plain": [
              "<Figure size 432x288 with 2 Axes>"
            ]
          },
          "metadata": {
            "needs_background": "light"
          }
        },
        {
          "output_type": "stream",
          "name": "stdout",
          "text": [
            "[[7.36614692e-01 1.73504952e-01 9.83606555e-02 7.57325250e-03]\n",
            " [2.62975213e-01 4.01012385e-01 1.31147518e-01 2.03881098e-02]\n",
            " [4.10094529e-04 3.34573583e-01 6.22950343e-01 3.42367624e-02]\n",
            " [0.00000000e+00 9.09090797e-02 1.47541483e-01 9.37801875e-01]]\n",
            "epoch: 7\n",
            "Epoch 0 for classification training...\n",
            "Epoch 25 for classification training...\n",
            "Epoch 50 for classification training...\n",
            "Epoch 75 for classification training...\n",
            "Epoch 100 for classification training...\n",
            "Training Acc: 0.941191554069519\n",
            "Validation Acc: 0.8774459958076477\n"
          ]
        },
        {
          "output_type": "display_data",
          "data": {
            "image/png": "[encoded data removed]",
            "text/plain": [
              "<Figure size 432x288 with 2 Axes>"
            ]
          },
          "metadata": {
            "needs_background": "light"
          }
        },
        {
          "output_type": "stream",
          "name": "stdout",
          "text": [
            "[[6.66679906e-01 1.63634606e-01 9.84404517e-02 4.95662949e-03]\n",
            " [3.12486757e-01 5.03198647e-01 1.31249957e-01 4.25820638e-03]\n",
            " [1.35708021e-12 2.30678778e-01 4.59142820e-01 4.44694912e-02]\n",
            " [2.08333371e-02 1.02487968e-01 3.11166771e-01 9.46315673e-01]]\n",
            "epoch: 8\n",
            "Epoch 0 for classification training...\n",
            "Epoch 25 for classification training...\n",
            "Epoch 50 for classification training...\n",
            "Epoch 75 for classification training...\n",
            "Epoch 100 for classification training...\n",
            "Training Acc: 0.9579204320907593\n",
            "Validation Acc: 0.8836251497268677\n"
          ]
        },
        {
          "output_type": "display_data",
          "data": {
            "image/png": "[encoded data removed]",
            "text/plain": [
              "<Figure size 432x288 with 2 Axes>"
            ]
          },
          "metadata": {
            "needs_background": "light"
          }
        },
        {
          "output_type": "stream",
          "name": "stdout",
          "text": [
            "[[7.16983137e-01 2.55348556e-01 1.14754097e-01 8.30986605e-03]\n",
            " [2.64566298e-01 4.35073572e-01 1.56248672e-01 3.98922848e-03]\n",
            " [1.01705719e-07 2.36148095e-01 5.10232563e-01 3.63242049e-02]\n",
            " [1.84504626e-02 7.34297776e-02 2.18764667e-01 9.51376701e-01]]\n",
            "epoch: 9\n",
            "Epoch 0 for classification training...\n",
            "Epoch 25 for classification training...\n",
            "Epoch 50 for classification training...\n",
            "Epoch 75 for classification training...\n",
            "Epoch 100 for classification training...\n",
            "Training Acc: 0.9514862298965454\n",
            "Validation Acc: 0.8805355429649353\n"
          ]
        },
        {
          "output_type": "display_data",
          "data": {
            "image/png": "[encoded data removed]",
            "text/plain": [
              "<Figure size 432x288 with 2 Axes>"
            ]
          },
          "metadata": {
            "needs_background": "light"
          }
        },
        {
          "output_type": "stream",
          "name": "stdout",
          "text": [
            "[[7.08051472e-01 2.00083769e-01 1.14792166e-01 6.19767673e-03]\n",
            " [2.71116498e-01 5.62455319e-01 2.88671502e-01 4.83027820e-03]\n",
            " [5.71960363e-09 1.68516965e-01 4.27483467e-01 4.31850946e-02]\n",
            " [2.08320246e-02 6.89439468e-02 1.69052864e-01 9.45786950e-01]]\n",
            "epoch: 10\n",
            "Epoch 0 for classification training...\n",
            "Epoch 25 for classification training...\n",
            "Epoch 50 for classification training...\n",
            "Epoch 75 for classification training...\n",
            "Epoch 100 for classification training...\n",
            "Training Acc: 0.95110023021698\n",
            "Validation Acc: 0.8692070245742798\n"
          ]
        },
        {
          "output_type": "display_data",
          "data": {
            "image/png": "[encoded data removed]",
            "text/plain": [
              "<Figure size 432x288 with 2 Axes>"
            ]
          },
          "metadata": {
            "needs_background": "light"
          }
        },
        {
          "output_type": "stream",
          "name": "stdout",
          "text": [
            "[[7.49596894e-01 2.72645795e-01 1.33100081e-01 1.19761673e-02]\n",
            " [2.50031021e-01 4.91258622e-01 2.80227949e-01 9.18773881e-03]\n",
            " [7.98333408e-08 1.05587756e-01 2.48473509e-01 2.90308262e-02]\n",
            " [3.72004814e-04 1.30507827e-01 3.38198461e-01 9.49805268e-01]]\n",
            "epoch: 11\n",
            "Epoch 0 for classification training...\n",
            "Epoch 25 for classification training...\n",
            "Epoch 50 for classification training...\n",
            "Epoch 75 for classification training...\n",
            "Epoch 100 for classification training...\n",
            "Training Acc: 0.9580491185188293\n",
            "Validation Acc: 0.8887745141983032\n"
          ]
        },
        {
          "output_type": "display_data",
          "data": {
            "image/png": "[encoded data removed]",
            "text/plain": [
              "<Figure size 432x288 with 2 Axes>"
            ]
          },
          "metadata": {
            "needs_background": "light"
          }
        },
        {
          "output_type": "stream",
          "name": "stdout",
          "text": [
            "[[7.25257752e-01 2.00000015e-01 1.15779501e-01 8.67419255e-03]\n",
            " [2.53943894e-01 5.58706878e-01 2.71199088e-01 2.27166964e-03]\n",
            " [4.60149564e-08 1.15048235e-01 3.16352399e-01 2.57698295e-02]\n",
            " [2.07983081e-02 1.26244872e-01 2.96669011e-01 9.63284308e-01]]\n",
            "epoch: 12\n",
            "Epoch 0 for classification training...\n",
            "Epoch 25 for classification training...\n",
            "Epoch 50 for classification training...\n",
            "Epoch 75 for classification training...\n",
            "Epoch 100 for classification training...\n",
            "Training Acc: 0.937845766544342\n",
            "Validation Acc: 0.8877446055412292\n"
          ]
        },
        {
          "output_type": "display_data",
          "data": {
            "image/png": "[encoded data removed]",
            "text/plain": [
              "<Figure size 432x288 with 2 Axes>"
            ]
          },
          "metadata": {
            "needs_background": "light"
          }
        },
        {
          "output_type": "stream",
          "name": "stdout",
          "text": [
            "[[7.91666864e-01 2.65229159e-01 9.83606555e-02 3.71747212e-03]\n",
            " [1.86203690e-01 4.85931839e-01 2.27983612e-01 2.26772606e-03]\n",
            " [2.52747987e-30 1.03347748e-01 2.88601580e-01 2.87230603e-02]\n",
            " [2.21294462e-02 1.45491254e-01 3.85054152e-01 9.65291742e-01]]\n",
            "epoch: 13\n",
            "Epoch 0 for classification training...\n",
            "Epoch 25 for classification training...\n",
            "Epoch 50 for classification training...\n",
            "Epoch 75 for classification training...\n",
            "Epoch 100 for classification training...\n",
            "Training Acc: 0.9610088467597961\n",
            "Validation Acc: 0.8722966313362122\n"
          ]
        },
        {
          "output_type": "display_data",
          "data": {
            "image/png": "[encoded data removed]",
            "text/plain": [
              "<Figure size 432x288 with 2 Axes>"
            ]
          },
          "metadata": {
            "needs_background": "light"
          }
        },
        {
          "output_type": "stream",
          "name": "stdout",
          "text": [
            "[[7.28556880e-01 2.07263194e-01 1.11382774e-01 8.69668793e-03]\n",
            " [2.70881375e-01 4.76465180e-01 1.65828607e-01 5.49288151e-03]\n",
            " [9.74459508e-05 2.10649562e-01 4.59428816e-01 4.90675155e-02]\n",
            " [4.64298317e-04 1.05622064e-01 2.63359802e-01 9.36742915e-01]]\n",
            "epoch: 14\n",
            "Epoch 0 for classification training...\n",
            "Epoch 25 for classification training...\n",
            "Epoch 50 for classification training...\n",
            "Epoch 75 for classification training...\n",
            "Epoch 100 for classification training...\n",
            "Training Acc: 0.941062867641449\n",
            "Validation Acc: 0.8846550583839417\n"
          ]
        },
        {
          "output_type": "display_data",
          "data": {
            "image/png": "[encoded data removed]",
            "text/plain": [
              "<Figure size 432x288 with 2 Axes>"
            ]
          },
          "metadata": {
            "needs_background": "light"
          }
        },
        {
          "output_type": "stream",
          "name": "stdout",
          "text": [
            "[[6.23703299e-01 1.63535257e-01 9.83606558e-02 7.38549968e-03]\n",
            " [3.55437729e-01 4.76592179e-01 1.23751381e-01 3.19977583e-03]\n",
            " [2.08575036e-02 2.30952375e-01 4.48984913e-01 2.82707797e-02]\n",
            " [1.46819216e-06 1.28920189e-01 3.28903051e-01 9.61143945e-01]]\n",
            "epoch: 15\n",
            "Epoch 0 for classification training...\n",
            "Epoch 25 for classification training...\n",
            "Epoch 50 for classification training...\n",
            "Epoch 75 for classification training...\n",
            "Epoch 100 for classification training...\n",
            "Training Acc: 0.9715608954429626\n",
            "Validation Acc: 0.8805355429649353\n"
          ]
        },
        {
          "output_type": "display_data",
          "data": {
            "image/png": "[encoded data removed]",
            "text/plain": [
              "<Figure size 432x288 with 2 Axes>"
            ]
          },
          "metadata": {
            "needs_background": "light"
          }
        },
        {
          "output_type": "stream",
          "name": "stdout",
          "text": [
            "[[7.29317250e-01 2.36621516e-01 1.15051415e-01 8.68005895e-03]\n",
            " [2.67609070e-01 4.79482374e-01 2.12433038e-01 5.96895314e-03]\n",
            " [1.77168037e-05 1.50900765e-01 3.60353978e-01 2.88966916e-02]\n",
            " [3.05596346e-03 1.32995345e-01 3.12161569e-01 9.56454296e-01]]\n",
            "epoch: 16\n",
            "Epoch 0 for classification training...\n",
            "Epoch 25 for classification training...\n",
            "Epoch 50 for classification training...\n",
            "Epoch 75 for classification training...\n",
            "Epoch 100 for classification training...\n",
            "Training Acc: 0.9670569896697998\n",
            "Validation Acc: 0.8764160871505737\n"
          ]
        },
        {
          "output_type": "display_data",
          "data": {
            "image/png": "[encoded data removed]",
            "text/plain": [
              "<Figure size 432x288 with 2 Axes>"
            ]
          },
          "metadata": {
            "needs_background": "light"
          }
        },
        {
          "output_type": "stream",
          "name": "stdout",
          "text": [
            "[[7.10928428e-01 2.19992039e-01 1.18841306e-01 8.68392217e-03]\n",
            " [2.82773857e-01 5.16380674e-01 2.55416001e-01 5.98982138e-03]\n",
            " [6.29719099e-03 1.25808102e-01 3.20574222e-01 3.24415856e-02]\n",
            " [5.24335937e-07 1.37819185e-01 3.05168471e-01 9.52884671e-01]]\n",
            "epoch: 17\n",
            "Epoch 0 for classification training...\n",
            "Epoch 25 for classification training...\n",
            "Epoch 50 for classification training...\n",
            "Epoch 75 for classification training...\n",
            "Epoch 100 for classification training...\n",
            "Training Acc: 0.965641438961029\n",
            "Validation Acc: 0.8764160871505737\n"
          ]
        },
        {
          "output_type": "display_data",
          "data": {
            "image/png": "[encoded data removed]",
            "text/plain": [
              "<Figure size 432x288 with 2 Axes>"
            ]
          },
          "metadata": {
            "needs_background": "light"
          }
        },
        {
          "output_type": "stream",
          "name": "stdout",
          "text": [
            "[[7.29186982e-01 2.70838425e-01 1.31147541e-01 8.37951883e-03]\n",
            " [2.70790216e-01 4.57758809e-01 2.57164372e-01 5.39442243e-03]\n",
            " [4.57244901e-09 1.57265770e-01 3.32848947e-01 3.09506105e-02]\n",
            " [2.27970061e-05 1.14136996e-01 2.78839139e-01 9.55275448e-01]]\n",
            "epoch: 18\n",
            "Epoch 0 for classification training...\n",
            "Epoch 25 for classification training...\n",
            "Epoch 50 for classification training...\n",
            "Epoch 75 for classification training...\n",
            "Epoch 100 for classification training...\n",
            "Training Acc: 0.9446660280227661\n",
            "Validation Acc: 0.8867147564888\n"
          ]
        },
        {
          "output_type": "display_data",
          "data": {
            "image/png": "[encoded data removed]",
            "text/plain": [
              "<Figure size 432x288 with 2 Axes>"
            ]
          },
          "metadata": {
            "needs_background": "light"
          }
        },
        {
          "output_type": "stream",
          "name": "stdout",
          "text": [
            "[[6.71200171e-01 2.01429374e-01 1.31147541e-01 6.19578686e-03]\n",
            " [3.07966249e-01 4.79013168e-01 1.01408774e-01 2.52950854e-03]\n",
            " [3.03855253e-07 2.46830201e-01 5.83185944e-01 4.07619794e-02]\n",
            " [2.08332762e-02 7.27272572e-02 1.84257741e-01 9.50512725e-01]]\n",
            "epoch: 19\n",
            "Epoch 0 for classification training...\n",
            "Epoch 25 for classification training...\n",
            "Epoch 50 for classification training...\n",
            "Epoch 75 for classification training...\n",
            "Epoch 100 for classification training...\n",
            "Training Acc: 0.9759361147880554\n",
            "Validation Acc: 0.8753862380981445\n"
          ]
        },
        {
          "output_type": "display_data",
          "data": {
            "image/png": "[encoded data removed]",
            "text/plain": [
              "<Figure size 432x288 with 2 Axes>"
            ]
          },
          "metadata": {
            "needs_background": "light"
          }
        },
        {
          "output_type": "stream",
          "name": "stdout",
          "text": [
            "[[7.30055381e-01 2.12864198e-01 1.24811885e-01 8.67758262e-03]\n",
            " [2.69849851e-01 4.81424027e-01 2.14604964e-01 6.62400353e-03]\n",
            " [8.31378752e-05 1.92462518e-01 3.93257655e-01 4.04242385e-02]\n",
            " [1.16295890e-05 1.13249258e-01 2.67325497e-01 9.44274175e-01]]\n",
            "epoch: 20\n",
            "Epoch 0 for classification training...\n",
            "Epoch 25 for classification training...\n",
            "Epoch 50 for classification training...\n",
            "Epoch 75 for classification training...\n",
            "Epoch 100 for classification training...\n",
            "Training Acc: 0.9764508605003357\n",
            "Validation Acc: 0.8774459958076477\n"
          ]
        },
        {
          "output_type": "display_data",
          "data": {
            "image/png": "[encoded data removed]",
            "text/plain": [
              "<Figure size 432x288 with 2 Axes>"
            ]
          },
          "metadata": {
            "needs_background": "light"
          }
        },
        {
          "output_type": "stream",
          "name": "stdout",
          "text": [
            "[[7.29218194e-01 2.18159600e-01 1.47478614e-01 8.67643561e-03]\n",
            " [2.70733646e-01 4.85799205e-01 2.28595534e-01 7.75869073e-03]\n",
            " [4.52352229e-05 1.70885367e-01 3.35554738e-01 3.06756375e-02]\n",
            " [2.92529192e-06 1.25155828e-01 2.88371114e-01 9.52889236e-01]]\n",
            "epoch: 21\n",
            "Epoch 0 for classification training...\n",
            "Epoch 25 for classification training...\n",
            "Epoch 50 for classification training...\n",
            "Epoch 75 for classification training...\n",
            "Epoch 100 for classification training...\n",
            "Training Acc: 0.9764508605003357\n",
            "Validation Acc: 0.8743563890457153\n"
          ]
        },
        {
          "output_type": "display_data",
          "data": {
            "image/png": "[encoded data removed]",
            "text/plain": [
              "<Figure size 432x288 with 2 Axes>"
            ]
          },
          "metadata": {
            "needs_background": "light"
          }
        },
        {
          "output_type": "stream",
          "name": "stdout",
          "text": [
            "[[7.30797371e-01 2.21461764e-01 1.14991322e-01 8.67362340e-03]\n",
            " [2.69187209e-01 4.88096184e-01 2.30107826e-01 7.38875140e-03]\n",
            " [8.41810807e-06 1.55235047e-01 3.36063426e-01 3.64233244e-02]\n",
            " [7.00163359e-06 1.35207004e-01 3.18837427e-01 9.47514301e-01]]\n",
            "epoch: 22\n",
            "Epoch 0 for classification training...\n",
            "Epoch 25 for classification training...\n",
            "Epoch 50 for classification training...\n",
            "Epoch 75 for classification training...\n",
            "Epoch 100 for classification training...\n",
            "Training Acc: 0.964097261428833\n",
            "Validation Acc: 0.8702369332313538\n"
          ]
        },
        {
          "output_type": "display_data",
          "data": {
            "image/png": "[encoded data removed]",
            "text/plain": [
              "<Figure size 432x288 with 2 Axes>"
            ]
          },
          "metadata": {
            "needs_background": "light"
          }
        },
        {
          "output_type": "stream",
          "name": "stdout",
          "text": [
            "[[6.34820027e-01 1.72469732e-01 1.04745224e-01 8.60055605e-03]\n",
            " [3.64179274e-01 5.30893306e-01 2.69066163e-01 7.04154896e-03]\n",
            " [1.00068828e-03 1.71093493e-01 3.30843991e-01 3.29246047e-02]\n",
            " [1.09948812e-08 1.25543469e-01 2.95344622e-01 9.51433290e-01]]\n",
            "epoch: 23\n",
            "Epoch 0 for classification training...\n",
            "Epoch 25 for classification training...\n",
            "Epoch 50 for classification training...\n",
            "Epoch 75 for classification training...\n",
            "Epoch 100 for classification training...\n",
            "Training Acc: 0.973748505115509\n",
            "Validation Acc: 0.8692070245742798\n"
          ]
        },
        {
          "output_type": "display_data",
          "data": {
            "image/png": "[encoded data removed]",
            "text/plain": [
              "<Figure size 432x288 with 2 Axes>"
            ]
          },
          "metadata": {
            "needs_background": "light"
          }
        },
        {
          "output_type": "stream",
          "name": "stdout",
          "text": [
            "[[7.07960624e-01 2.36358934e-01 1.14752771e-01 9.90605559e-03]\n",
            " [2.91811391e-01 4.79410604e-01 2.54130886e-01 7.82982642e-03]\n",
            " [2.27341139e-04 1.76240723e-01 3.74456510e-01 4.14178429e-02]\n",
            " [6.44509688e-07 1.07989739e-01 2.56659833e-01 9.40846275e-01]]\n",
            "epoch: 24\n",
            "Epoch 0 for classification training...\n",
            "Epoch 25 for classification training...\n",
            "Epoch 50 for classification training...\n",
            "Epoch 75 for classification training...\n",
            "Epoch 100 for classification training...\n",
            "Training Acc: 0.9520009756088257\n",
            "Validation Acc: 0.8681771755218506\n"
          ]
        },
        {
          "output_type": "display_data",
          "data": {
            "image/png": "[encoded data removed]",
            "text/plain": [
              "<Figure size 432x288 with 2 Axes>"
            ]
          },
          "metadata": {
            "needs_background": "light"
          }
        },
        {
          "output_type": "stream",
          "name": "stdout",
          "text": [
            "[[7.49991732e-01 2.36731197e-01 1.14753672e-01 7.08335181e-03]\n",
            " [2.29174930e-01 5.01911941e-01 2.45451369e-01 5.46735988e-03]\n",
            " [4.68551117e-09 1.68298631e-01 3.58353038e-01 4.96683235e-02]\n",
            " [2.08333333e-02 9.30582309e-02 2.81441921e-01 9.37780965e-01]]\n",
            "epoch: 25\n",
            "Epoch 0 for classification training...\n",
            "Epoch 25 for classification training...\n",
            "Epoch 50 for classification training...\n",
            "Epoch 75 for classification training...\n",
            "Epoch 100 for classification training...\n",
            "Training Acc: 0.9673143029212952\n",
            "Validation Acc: 0.8753862380981445\n"
          ]
        },
        {
          "output_type": "display_data",
          "data": {
            "image/png": "[encoded data removed]",
            "text/plain": [
              "<Figure size 432x288 with 2 Axes>"
            ]
          },
          "metadata": {
            "needs_background": "light"
          }
        },
        {
          "output_type": "stream",
          "name": "stdout",
          "text": [
            "[[7.23412948e-01 2.05202277e-01 1.14756347e-01 7.45393627e-03]\n",
            " [2.76445991e-01 5.03480198e-01 2.61750178e-01 7.57687217e-03]\n",
            " [1.14794372e-04 1.50337562e-01 2.73885034e-01 2.88558038e-02]\n",
            " [2.62672623e-05 1.40979963e-01 3.49608441e-01 9.56113388e-01]]\n",
            "epoch: 26\n",
            "Epoch 0 for classification training...\n",
            "Epoch 25 for classification training...\n",
            "Epoch 50 for classification training...\n"
          ]
        }
      ]
    },
    {
      "cell_type": "code",
      "metadata": {
        "id": "QA1_oSizgQ-T"
      },
      "source": [
        "torch_helpers.show_all_tensors(globals())\n"
      ],
      "execution_count": null,
      "outputs": []
    },
    {
      "cell_type": "code",
      "metadata": {
        "id": "QcznTun_oIqO"
      },
      "source": [
        ""
      ],
      "execution_count": null,
      "outputs": []
    },
    {
      "cell_type": "code",
      "metadata": {
        "id": "EkT1zBJL0FWT"
      },
      "source": [
        "break"
      ],
      "execution_count": null,
      "outputs": []
    },
    {
      "cell_type": "code",
      "metadata": {
        "id": "2hD4LYLi0F24"
      },
      "source": [
        "b"
      ],
      "execution_count": null,
      "outputs": []
    },
    {
      "cell_type": "code",
      "metadata": {
        "id": "s64U2oP20GSz"
      },
      "source": [
        ""
      ],
      "execution_count": null,
      "outputs": []
    },
    {
      "cell_type": "code",
      "metadata": {
        "id": "idxn-JyX0Gir"
      },
      "source": [
        ""
      ],
      "execution_count": null,
      "outputs": []
    },
    {
      "cell_type": "code",
      "metadata": {
        "id": "QIVOw27rVSgs"
      },
      "source": [
        "# !cd \"/content/drive/MyDrive/00 - ROI/GCaMP_ROI_classifier\" && git add old_stuff\n",
        "# !cd \"/content/drive/MyDrive/00 - ROI/GCaMP_ROI_classifier\" && git status\n",
        "# !cd \"/content/drive/MyDrive/00 - ROI/GCaMP_ROI_classifier\" && git commit -m \"Introducing ResNet and validating process\"\n",
        "!cd \"/content/drive/MyDrive/00 - ROI/GCaMP_ROI_classifier\" && git push"
      ],
      "execution_count": null,
      "outputs": []
    },
    {
      "cell_type": "code",
      "metadata": {
        "id": "ekxvf-6FVR4m"
      },
      "source": [
        "!git config --global user.email \"$indianajonesjz@gmail.com\"\n",
        "!git config --global user.name \"$joshuazimmer\""
      ],
      "execution_count": null,
      "outputs": []
    },
    {
      "cell_type": "code",
      "metadata": {
        "id": "1BdLjvPkW2Or"
      },
      "source": [
        ""
      ],
      "execution_count": null,
      "outputs": []
    },
    {
      "cell_type": "code",
      "metadata": {
        "id": "n3BpmnqLVCdn"
      },
      "source": [
        ""
      ],
      "execution_count": null,
      "outputs": []
    },
    {
      "cell_type": "code",
      "metadata": {
        "id": "SN6pdv2ODB0w"
      },
      "source": [
        "plt.figure()\n",
        "plt.plot(losses_train)"
      ],
      "execution_count": null,
      "outputs": []
    },
    {
      "cell_type": "code",
      "metadata": {
        "id": "ztXE2nLNDB0w"
      },
      "source": [
        "plt.figure()\n",
        "plt.plot(losses_train)"
      ],
      "execution_count": null,
      "outputs": []
    },
    {
      "cell_type": "code",
      "metadata": {
        "id": "nOn7mBtYDB0w"
      },
      "source": [
        "%matplotlib inline\n",
        "plt.figure()\n",
        "plt.plot(losses_train)"
      ],
      "execution_count": null,
      "outputs": []
    },
    {
      "cell_type": "code",
      "metadata": {
        "id": "qk-IFUBdDB0w"
      },
      "source": [
        "%matplotlib inline\n",
        "plt.figure()\n",
        "plt.plot(losses_train)"
      ],
      "execution_count": null,
      "outputs": []
    },
    {
      "cell_type": "code",
      "metadata": {
        "id": "dl1OVyVNDB0w"
      },
      "source": [
        "plt.figure()\n",
        "plt.plot(acc)"
      ],
      "execution_count": null,
      "outputs": []
    },
    {
      "cell_type": "code",
      "metadata": {
        "id": "F9ZWyc_zDB0x"
      },
      "source": [
        "features_train = model(torch.as_tensor(X_labeled_train, device=DEVICE, dtype=torch.float32)[:,None,...]).detach().cpu()\n",
        "# features = model(torch.tensor(X_train[y_train != 3], device=DEVICE, dtype=torch.float32)[:,None,...]).detach().cpu()\n",
        "logreg.fit(features_train, y_labeled_train)\n",
        "y_hat = logreg.predict_proba(features_train)\n",
        "cm = rh_cm(y_hat, y_labeled_train)\n",
        "\n",
        "print(cm)\n",
        "\n",
        "plt.figure()\n",
        "plt.imshow(cm)\n",
        "plt.colorbar()"
      ],
      "execution_count": null,
      "outputs": []
    },
    {
      "cell_type": "code",
      "metadata": {
        "id": "JS5K_hmaZJ27"
      },
      "source": [
        ""
      ],
      "execution_count": null,
      "outputs": []
    },
    {
      "cell_type": "code",
      "metadata": {
        "id": "95J06egRDB0x"
      },
      "source": [
        ""
      ],
      "execution_count": null,
      "outputs": []
    },
    {
      "cell_type": "code",
      "metadata": {
        "id": "a8wmooJ9DB0x"
      },
      "source": [
        "proba = classHead.predict_proba(dataset_train.X)"
      ],
      "execution_count": null,
      "outputs": []
    },
    {
      "cell_type": "code",
      "metadata": {
        "id": "OhQO75kfDB0x"
      },
      "source": [
        "# classHead.fit(X_train[:, None, :, :], y_train)\n",
        "\n",
        "\n",
        "\n",
        "proba = classHead.predict_proba(X_train[:, None, :, :])\n",
        "final_weights = np.array([1/proba.shape[1] for _ in range(proba.shape[1])])\n",
        "\n",
        "dataset_train.set_classweights(final_weights)\n"
      ],
      "execution_count": null,
      "outputs": []
    },
    {
      "cell_type": "code",
      "metadata": {
        "id": "0GjfdopODB0x"
      },
      "source": [
        ""
      ],
      "execution_count": null,
      "outputs": []
    },
    {
      "cell_type": "code",
      "metadata": {
        "id": "Qxfgd3QNDB0y"
      },
      "source": [
        "%load_ext autoreload\n",
        "%autoreload 2\n",
        "\n",
        "from basic_neural_processing_modules import decomposition"
      ],
      "execution_count": null,
      "outputs": []
    },
    {
      "cell_type": "code",
      "metadata": {
        "id": "YeI-MTE7DB0y"
      },
      "source": [
        "logreg = LogisticRegression(solver='liblinear')\n",
        "head = classHead.get_simCLR_head(X_train[:, None, ...])\n",
        "# head = classHead.norm_head(head)\n",
        "# head = head[:, [_ for _ in range(64) if _ not in [7, 15, 20, 21, 36, 54, 57, 60, 61, 62, 63, 64]]]\n",
        "components , scores , decomposition.explained_variance_ratio_ , stds = decomposition.simple_pca(head, n_components=None)\n",
        "\n",
        "# logreg.fit(scores[:, :], y_train)\n",
        "# logreg.predict_proba(scores[:, :])\n",
        "logreg.fit(head, y_train)\n",
        "logreg.predict_proba(head)"
      ],
      "execution_count": null,
      "outputs": []
    },
    {
      "cell_type": "code",
      "metadata": {
        "id": "m893XTQPDB0y"
      },
      "source": [
        "prd = logreg.predict_proba(head)\n",
        "# prd = logreg.predict_proba(scores[:, :2])\n",
        "plt.figure()\n",
        "# plt.plot(logreg.predict_proba(scores[:, :2]))\n",
        "plt.plot(logreg.predict_proba(head))"
      ],
      "execution_count": null,
      "outputs": []
    },
    {
      "cell_type": "code",
      "metadata": {
        "id": "FRcy_ysLDB0y"
      },
      "source": [
        "# cm = confusion_matrix(y_train, np.argmax(logreg.predict_proba(scores[:, :2]), axis=1))\n",
        "cm = confusion_matrix(y_train, np.argmax(logreg.predict_proba(head), axis=1))\n",
        "cm = np.round(cm/cm.sum(axis=0), 2)\n",
        "cm"
      ],
      "execution_count": null,
      "outputs": []
    },
    {
      "cell_type": "code",
      "metadata": {
        "id": "L2HLRtkcDB0y"
      },
      "source": [
        "logreg.predict_proba(classHead.get_simCLR_head(X_val[:, None, :, :]))"
      ],
      "execution_count": null,
      "outputs": []
    },
    {
      "cell_type": "code",
      "metadata": {
        "id": "St0a2bWlDB0z"
      },
      "source": [
        "classHead.fit(X_train[:, None, :, :], y_train)"
      ],
      "execution_count": null,
      "outputs": []
    },
    {
      "cell_type": "code",
      "metadata": {
        "id": "Q2g_YjwaDB0z"
      },
      "source": [
        "classHead.predict_proba(X_train[:, None, :, :])"
      ],
      "execution_count": null,
      "outputs": []
    },
    {
      "cell_type": "code",
      "metadata": {
        "id": "Cq2xvTnFDB0z"
      },
      "source": [
        "idx_sample = 5\n",
        "classHead.predict_proba(X_train[idx_sample:idx_sample+1, None, ...])"
      ],
      "execution_count": null,
      "outputs": []
    },
    {
      "cell_type": "code",
      "metadata": {
        "id": "qdxuxkD7DB0z"
      },
      "source": [
        "sample_weight = util.loss_uncertainty(torch.as_tensor(proba), temperature=1, class_value=dataset_train.class_weights)"
      ],
      "execution_count": null,
      "outputs": []
    },
    {
      "cell_type": "code",
      "metadata": {
        "id": "jDrCaLRfDB0z"
      },
      "source": [
        ""
      ],
      "execution_count": null,
      "outputs": []
    },
    {
      "cell_type": "code",
      "metadata": {
        "id": "vYUlvnb7DB0z"
      },
      "source": [
        ""
      ],
      "execution_count": null,
      "outputs": []
    },
    {
      "cell_type": "code",
      "metadata": {
        "id": "M12oFaU_DB0z"
      },
      "source": [
        ""
      ],
      "execution_count": null,
      "outputs": []
    },
    {
      "cell_type": "code",
      "metadata": {
        "id": "VaeANd9RDB0z"
      },
      "source": [
        ""
      ],
      "execution_count": null,
      "outputs": []
    },
    {
      "cell_type": "code",
      "metadata": {
        "id": "iW3-4jusDB0z"
      },
      "source": [
        ""
      ],
      "execution_count": null,
      "outputs": []
    },
    {
      "cell_type": "code",
      "metadata": {
        "id": "M3RxnrRFDB0z"
      },
      "source": [
        ""
      ],
      "execution_count": null,
      "outputs": []
    },
    {
      "cell_type": "code",
      "metadata": {
        "id": "eb_VueOiDB0z"
      },
      "source": [
        ""
      ],
      "execution_count": null,
      "outputs": []
    },
    {
      "cell_type": "markdown",
      "metadata": {
        "id": "_CchY4kGDB00"
      },
      "source": [
        "## Check embeddings"
      ]
    },
    {
      "cell_type": "code",
      "metadata": {
        "id": "JcrdLrYtDB00"
      },
      "source": [
        "torch.cuda.empty_cache()"
      ],
      "execution_count": null,
      "outputs": []
    },
    {
      "cell_type": "code",
      "metadata": {
        "id": "E1xfzazXDB00"
      },
      "source": [
        "features = model(torch.tensor(images_labeled, device=DEVICE, dtype=torch.float32)[:,None,...]).detach()\n",
        "# features = model(torch.tensor(images_labeled[labels != 3], device=DEVICE, dtype=torch.float32)[:,None,...]).detach()\n",
        "# features = model(torch.tensor(X_val, device=DEVICE, dtype=torch.float32)[:,None,...]).detach()\n",
        "# features = model(torch.tensor(X_train, device=DEVICE, dtype=torch.float32)[:,None,...]).detach()"
      ],
      "execution_count": null,
      "outputs": []
    },
    {
      "cell_type": "code",
      "metadata": {
        "id": "7gwucuZXDB00"
      },
      "source": [
        "_, features_embedded, _, _ = decomposition.torch_pca(features, device=DEVICE, return_cpu=True)"
      ],
      "execution_count": null,
      "outputs": []
    },
    {
      "cell_type": "code",
      "metadata": {
        "id": "2imvF8ZoDB00"
      },
      "source": [
        "from sklearn import manifold\n",
        "\n",
        "tsne = manifold.TSNE(n_components=2, \n",
        "                     perplexity=80.0, \n",
        "                     early_exaggeration=12.0, \n",
        "                     learning_rate=200, \n",
        "                     n_iter=1000, \n",
        "                     n_iter_without_progress=300, \n",
        "                     min_grad_norm=1e-07, \n",
        "                     metric='euclidean', \n",
        "                     init='pca', \n",
        "                     verbose=0, \n",
        "                     random_state=None, \n",
        "                     method='barnes_hut', \n",
        "                     angle=0.5, \n",
        "                     n_jobs=-1, \n",
        "#                      square_distances='legacy'\n",
        "                    )\n",
        "features_embedded = tsne.fit_transform(features.cpu())"
      ],
      "execution_count": null,
      "outputs": []
    },
    {
      "cell_type": "code",
      "metadata": {
        "id": "sgxJ8VXwDB00"
      },
      "source": [
        "import matplotlib as mpl\n",
        "\n",
        "# mpl.rcParams['image.cmap'] = 'Set1'\n",
        "%matplotlib notebook\n",
        "plt.figure()\n",
        "plt.scatter(features_embedded[:,0], features_embedded[:,1], c=labels)\n",
        "# plt.scatter(features_embedded[:,0], features_embedded[:,1], c=labels[labels!=3])\n",
        "# plt.scatter(features_embedded[:,0], features_embedded[:,1], c=y_val)\n",
        "# plt.scatter(features_embedded[:,4], features_embedded[:,5], c=y_train)\n",
        "# plt.scatter(features_embedded[:,11], features[:,43].cpu(), c=y_train)\n",
        "mpl.rcParams['image.cmap'] = 'viridis'\n"
      ],
      "execution_count": null,
      "outputs": []
    },
    {
      "cell_type": "code",
      "metadata": {
        "id": "UwFf2BsVDB00"
      },
      "source": [
        "plt.figure()\n",
        "plt.imshow(features.cpu().detach(), aspect='auto', interpolation='none')"
      ],
      "execution_count": null,
      "outputs": []
    },
    {
      "cell_type": "markdown",
      "metadata": {
        "id": "RiHXPapkDB00"
      },
      "source": [
        "## Check filters"
      ]
    },
    {
      "cell_type": "code",
      "metadata": {
        "id": "2aBVd9FTDB00"
      },
      "source": [
        "list(model.state_dict().keys())"
      ],
      "execution_count": null,
      "outputs": []
    },
    {
      "cell_type": "code",
      "metadata": {
        "scrolled": false,
        "id": "dK_-Xu9EDB01"
      },
      "source": [
        "layer_1 = model.state_dict()['cnn_layers.0.weight'].cpu()\n",
        "layer_2 = model.state_dict()['cnn_layers.2.weight'].cpu()\n",
        "layer_3 = model.state_dict()['cnn_layers.5.weight'].cpu()\n",
        "layer_4 = model.state_dict()['cnn_layers.8.weight'].cpu()\n",
        "\n",
        "plt.figure()\n",
        "for ii in range(layer_1.shape[1]):\n",
        "    for jj in range(layer_1.shape[0]):\n",
        "        plt.subplot2grid((layer_1.shape[1],layer_1.shape[0]),(ii,jj))\n",
        "        fig = plt.imshow(layer_1[jj,ii,:,:] , clim=(-0.2,0.2))\n",
        "        fig.axes.get_xaxis().set_visible(False)\n",
        "        fig.axes.get_yaxis().set_visible(False)\n",
        "\n",
        "plt.figure()\n",
        "for ii in range(layer_2.shape[1]):\n",
        "    for jj in range(layer_2.shape[0]):\n",
        "        plt.subplot2grid((layer_2.shape[1],layer_2.shape[0]),(ii,jj))\n",
        "        fig = plt.imshow(layer_2[jj,ii,:,:], clim=(-.05,.05))\n",
        "        fig.axes.get_xaxis().set_visible(False)\n",
        "        fig.axes.get_yaxis().set_visible(False)\n",
        "\n",
        "plt.figure()\n",
        "for ii in range(16):\n",
        "    for jj in range(16):\n",
        "        plt.subplot2grid((16,16),(ii,jj))\n",
        "        fig = plt.imshow(layer_3[jj, ii,:,:])\n",
        "        fig.axes.get_xaxis().set_visible(False)\n",
        "        fig.axes.get_yaxis().set_visible(False)\n",
        "        \n",
        "plt.figure()\n",
        "for ii in range(16):\n",
        "    for jj in range(16):\n",
        "        plt.subplot2grid((16,16),(ii,jj))\n",
        "        fig = plt.imshow(layer_4[jj, ii,:,:])\n",
        "        fig.axes.get_xaxis().set_visible(False)\n",
        "        fig.axes.get_yaxis().set_visible(False)"
      ],
      "execution_count": null,
      "outputs": []
    },
    {
      "cell_type": "code",
      "metadata": {
        "id": "FGiz2fHFDB01"
      },
      "source": [
        ""
      ],
      "execution_count": null,
      "outputs": []
    },
    {
      "cell_type": "code",
      "metadata": {
        "id": "mwJQBUhpDB01"
      },
      "source": [
        "# torch.save(model.state_dict(), '/media/rich/bigSSD/Net_trainedOnAug_20211025_trainingSet_mouse628_20200903and20200815_simCLR.pth')"
      ],
      "execution_count": null,
      "outputs": []
    },
    {
      "cell_type": "code",
      "metadata": {
        "id": "1grXld0IDB01"
      },
      "source": [
        "# model = Net()\n",
        "# model.load_state_dict(torch.load('test_save.pth'))\n",
        "# model.eval()"
      ],
      "execution_count": null,
      "outputs": []
    },
    {
      "cell_type": "code",
      "metadata": {
        "id": "quqNFL1jDB01"
      },
      "source": [
        ""
      ],
      "execution_count": null,
      "outputs": []
    }
  ]
}