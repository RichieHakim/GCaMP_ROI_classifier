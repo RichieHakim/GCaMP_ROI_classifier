{
 "cells": [
  {
   "cell_type": "code",
   "execution_count": 1,
   "metadata": {
    "colab": {
     "base_uri": "https://localhost:8080/",
     "height": 17
    },
    "id": "S3q3I42jDB0f",
    "outputId": "3ad88a07-0e8b-474f-b0d8-9fb6c2a99f0c"
   },
   "outputs": [
    {
     "data": {
      "text/html": [
       "<style>.container { width:95% !important; }</style>"
      ],
      "text/plain": [
       "<IPython.core.display.HTML object>"
      ]
     },
     "metadata": {},
     "output_type": "display_data"
    }
   ],
   "source": [
    "from IPython.core.display import display, HTML\n",
    "display(HTML(\"<style>.container { width:95% !important; }</style>\"))"
   ]
  },
  {
   "cell_type": "raw",
   "metadata": {
    "id": "PUUWS0VmwD7-"
   },
   "source": [
    "# !source activate jupyter_launcher\n",
    "!pip3 install numba\n",
    "!pip3 install matplotlib\n",
    "!pip3 install scipy\n",
    "!pip3 install torch\n",
    "!pip3 install torchvision\n",
    "!pip3 install sklearn\n",
    "!pip3 install pycuda\n",
    "!pip3 install tqdm\n",
    "!pip3 install seaborn\n",
    "!pip3 install h5py\n",
    "!pip3 install hdfdict\n",
    "!pip3 install ipywidgets\n",
    "!pip3 install numpy==1.20"
   ]
  },
  {
   "cell_type": "code",
   "execution_count": 2,
   "metadata": {},
   "outputs": [
    {
     "data": {
      "text/plain": [
       "'/home/joz608/.conda/envs/jupyter_launcher/bin/python3.8'"
      ]
     },
     "execution_count": 2,
     "metadata": {},
     "output_type": "execute_result"
    }
   ],
   "source": [
    "import sys\n",
    "sys.executable"
   ]
  },
  {
   "cell_type": "code",
   "execution_count": null,
   "metadata": {},
   "outputs": [],
   "source": []
  },
  {
   "cell_type": "code",
   "execution_count": null,
   "metadata": {},
   "outputs": [],
   "source": []
  },
  {
   "cell_type": "code",
   "execution_count": 3,
   "metadata": {
    "id": "eTIgCGQsDB0i"
   },
   "outputs": [],
   "source": [
    "import sys\n",
    "import os\n",
    "import copy\n",
    "import pathlib\n",
    "import time\n",
    "import gc\n",
    "\n",
    "from tqdm import tqdm, trange\n",
    "# from tqdm import trange\n",
    "\n",
    "import numpy as np\n",
    "import pandas as pd\n",
    "import matplotlib.pyplot as plt\n",
    "import seaborn as sns\n",
    "import scipy\n",
    "\n",
    "import torch\n",
    "import torchvision\n",
    "import torchvision.transforms as transforms\n",
    "\n",
    "# import cuml\n",
    "\n",
    "# for creating validation set\n",
    "import sklearn\n",
    "from sklearn.model_selection import train_test_split\n",
    "\n",
    "%matplotlib inline\n",
    "%matplotlib inline\n",
    "# %matplotlib inline\n",
    "# %matplotlib qt"
   ]
  },
  {
   "cell_type": "code",
   "execution_count": null,
   "metadata": {
    "id": "GExNkvATEBtG"
   },
   "outputs": [],
   "source": []
  },
  {
   "cell_type": "code",
   "execution_count": 4,
   "metadata": {
    "id": "MZ9Hq6SVvves"
   },
   "outputs": [],
   "source": [
    "base_dir = '/n/data1/hms/neurobio/sabatini/josh'"
   ]
  },
  {
   "cell_type": "code",
   "execution_count": 5,
   "metadata": {
    "id": "9w3t_mtdDB0j"
   },
   "outputs": [],
   "source": [
    "import sys\n",
    "\n",
    "sys.path.append(f'{base_dir}/github_repos')\n",
    "# sys.path.append(f'/media/rich/Home_Linux_partition/github_repos')\n",
    "dir_folders = f'{base_dir}/label_data'\n",
    "\n",
    "\n",
    "%load_ext autoreload\n",
    "%autoreload 2\n",
    "from basic_neural_processing_modules import torch_helpers, math_functions, classification, h5_handling, plotting_helpers, indexing, misc, decomposition\n",
    "from GCaMP_ROI_classifier.new_stuff import util, models, training_simCLR, augmentation, training_classHead, training_supervised"
   ]
  },
  {
   "cell_type": "markdown",
   "metadata": {
    "id": "hTqZzmpJDB0j"
   },
   "source": [
    "## Import unlabeled training data"
   ]
  },
  {
   "cell_type": "code",
   "execution_count": 6,
   "metadata": {},
   "outputs": [],
   "source": [
    "# data_unlabeled = h5_handling.simple_load(path=r'/media/rich/bigSSD/for_Josh/GCAMP_ROI_Classifier_data/masks_20211202_balanced.h5')\n",
    "data_unlabeled = h5_handling.simple_load(path=f'{base_dir}/label_data/masks_20211202_balanced.h5')\n",
    "\n",
    "masks_cat_raw = torch.as_tensor(np.concatenate((data_unlabeled['SYTmasks'], data_unlabeled['NPmasks'], data_unlabeled['RHmasks']), axis=0), dtype=torch.float32, device='cpu')"
   ]
  },
  {
   "cell_type": "code",
   "execution_count": 7,
   "metadata": {},
   "outputs": [],
   "source": [
    "# data_labeled = h5_handling.simple_load(path=r'/media/rich/bigSSD/for_Josh/GCAMP_ROI_Classifier_data/masks_20211202_unbalanced.h5')\n",
    "\n",
    "data_labeled = h5_handling.simple_load(path=f'{base_dir}/label_data/masks_20211202_unbalanced.h5')\n",
    "\n",
    "masks_SYT = data_labeled['SYTmasks']\n",
    "labels_SYT = classification.squeeze_integers(data_labeled['SYTlabels'])\n",
    "\n",
    "nan_lst = np.concatenate(np.where(np.isnan(masks_SYT).sum(axis=-1).sum(axis=-1)))\n",
    "non_nan = [_ for _ in range(masks_SYT.shape[0]) if _ not in nan_lst]\n",
    "labels_SYT = labels_SYT[non_nan]\n",
    "masks_SYT = masks_SYT[non_nan]\n",
    "\n",
    "X_labeled_train_SYT, X_labeled_val_SYT, y_labeled_train_SYT, y_labeled_val_SYT = train_test_split(masks_SYT, labels_SYT, test_size = 0.2)"
   ]
  },
  {
   "cell_type": "markdown",
   "metadata": {},
   "source": [
    "toss any NaNs"
   ]
  },
  {
   "cell_type": "code",
   "execution_count": 8,
   "metadata": {},
   "outputs": [
    {
     "name": "stdout",
     "output_type": "stream",
     "text": [
      "Number of masks: torch.Size([711808, 36, 36])\n",
      "Number of masks: torch.Size([711807, 36, 36])\n"
     ]
    }
   ],
   "source": [
    "print(f'Number of masks: {masks_cat_raw.shape}')\n",
    "\n",
    "ROIs_without_NaNs = torch.where(~torch.any(torch.any(torch.isnan(masks_cat_raw), dim=1), dim=1))[0]\n",
    "masks_cat = masks_cat_raw[ROIs_without_NaNs]\n",
    "\n",
    "print(f'Number of masks: {masks_cat.shape}')"
   ]
  },
  {
   "cell_type": "markdown",
   "metadata": {
    "id": "hTqZzmpJDB0j"
   },
   "source": [
    "## Import labeled training data"
   ]
  },
  {
   "cell_type": "code",
   "execution_count": 9,
   "metadata": {
    "colab": {
     "base_uri": "https://localhost:8080/",
     "height": 1000
    },
    "id": "S8AO_lypDB0o",
    "outputId": "4edfd739-a0b7-4789-aea1-4a9f6c2665c8"
   },
   "outputs": [
    {
     "name": "stdout",
     "output_type": "stream",
     "text": [
      "concatenated images shape: (9715, 32, 32)\n"
     ]
    },
    {
     "data": {
      "image/png": "[encoded data removed]",
      "text/plain": [
       "<Figure size 432x288 with 1 Axes>"
      ]
     },
     "metadata": {
      "needs_background": "light"
     },
     "output_type": "display_data"
    },
    {
     "data": {
      "image/png": "[encoded data removed]",
      "text/plain": [
       "<Figure size 432x288 with 1 Axes>"
      ]
     },
     "metadata": {
      "needs_background": "light"
     },
     "output_type": "display_data"
    },
    {
     "data": {
      "image/png": "[encoded data removed]",
      "text/plain": [
       "<Figure size 432x288 with 1 Axes>"
      ]
     },
     "metadata": {
      "needs_background": "light"
     },
     "output_type": "display_data"
    },
    {
     "data": {
      "image/png": "[encoded data removed]",
      "text/plain": [
       "<Figure size 432x288 with 1 Axes>"
      ]
     },
     "metadata": {
      "needs_background": "light"
     },
     "output_type": "display_data"
    }
   ],
   "source": [
    "dir_folders = f'{base_dir}/label_data'\n",
    "# dir_folders = r'/media/rich/bigSSD/for_Josh/GCAMP_ROI_Classifier_data/label_data'\n",
    "# dir_folders = r'/users/Josh/Documents/Harvard/label_data'\n",
    "folders = [r'mouse 6_28 _ day 20200903/',\n",
    "             r'mouse6_28 _ day20200815/']\n",
    "fileNames_statFiles = [r'stat.npy']*len(folders)\n",
    "paths_statFiles = [pathlib.Path(dir_folders) / folders[ii] / fileNames_statFiles[ii] for ii in range(len(folders))]\n",
    "\n",
    "sf_all = util.import_multiple_stat_files(   paths_statFiles=paths_statFiles,\n",
    "                                            fileNames_statFiles=fileNames_statFiles,\n",
    "                                            out_height_width=[32,32],\n",
    "                                            max_footprint_width=241,\n",
    "                                            plot_pref=True)\n",
    "images_labeled_raw = np.concatenate(sf_all, axis=0)\n",
    "images_labeled_raw = (images_labeled_raw / np.max(images_labeled_raw, axis=(1,2), keepdims=True)) * 1\n",
    "print(f'concatenated images shape: {images_labeled_raw.shape}')\n",
    "\n",
    "fileNames_labelFiles = ['labels_posthoc_filledIn_allCells.npy',\n",
    "             'labels_posthoc_all.npy']\n",
    "paths_labelFiles = [pathlib.Path(dir_folders) / folders[ii] / fileNames_labelFiles[ii] for ii in range(len(folders))]\n",
    "\n",
    "labels_all = util.import_multiple_label_files(paths_labelFiles=paths_labelFiles,\n",
    "                                       plot_pref=True)\n",
    "labels_raw = np.concatenate(labels_all)\n",
    "\n",
    "assert np.alltrue([sf_all[ii].shape[0] == labels_all[ii].shape[0] for ii in range(len(sf_all))]) , 'num images in stat files does not correspond to num labels'"
   ]
  },
  {
   "cell_type": "code",
   "execution_count": 10,
   "metadata": {},
   "outputs": [
    {
     "data": {
      "image/png": "[encoded data removed]",
      "text/plain": [
       "<Figure size 432x288 with 100 Axes>"
      ]
     },
     "metadata": {
      "needs_background": "light"
     },
     "output_type": "display_data"
    }
   ],
   "source": [
    "%matplotlib inline\n",
    "\n",
    "plotting_helpers.plot_image_grid(images=images_labeled_raw,\n",
    "                                labels=None,\n",
    "                                grid_shape=(10,10), cmap=plt.get_cmap('gray'));"
   ]
  },
  {
   "cell_type": "code",
   "execution_count": 11,
   "metadata": {
    "id": "Ip1UMYy6DB0p"
   },
   "outputs": [],
   "source": [
    "labels = classification.squeeze_integers(labels_raw)\n",
    "images_labeled = images_labeled_raw[labels != 2]\n",
    "labels = labels[labels != 2]\n",
    "labels = classification.squeeze_integers(labels)"
   ]
  },
  {
   "cell_type": "markdown",
   "metadata": {
    "id": "UYh_wBqCDB0q"
   },
   "source": [
    "## Balance classes of inputs"
   ]
  },
  {
   "cell_type": "code",
   "execution_count": 12,
   "metadata": {
    "colab": {
     "base_uri": "https://localhost:8080/"
    },
    "id": "qn4Pu2cKDB0q",
    "outputId": "3afafb73-54a7-4e2d-8030-c0af6272cbe6"
   },
   "outputs": [
    {
     "name": "stdout",
     "output_type": "stream",
     "text": [
      "(9714, 32, 32)\n",
      "(9714,)\n",
      "532\n",
      "(2128, 32, 32)\n",
      "(2128,)\n",
      "532\n",
      "532\n",
      "532\n",
      "0\n",
      "0\n",
      "(2128, 32, 32)\n",
      "(2128,)\n"
     ]
    }
   ],
   "source": [
    "duplicates = 1\n",
    "balanced = True\n",
    "\n",
    "images_dup = np.tile(images_labeled , (duplicates , 1 , 1))\n",
    "labels_dup = np.tile(labels , (duplicates))\n",
    "\n",
    "print(images_dup.shape)\n",
    "print(labels_dup.shape)\n",
    "\n",
    "if balanced:\n",
    "    numToGetTo = np.sum(labels_dup==0)\n",
    "    print(numToGetTo)\n",
    "    for ii in np.array([1,2,3]):\n",
    "  #     idxToDelete = np.cumsum(labels_dup==ii) <= (np.sum(labels_dup==ii) - numToGetTo)\n",
    "        if ii==3:\n",
    "            numToGetTo = np.sum(labels_dup==0)/1\n",
    "        else:\n",
    "            numToGetTo = np.sum(labels_dup==0)\n",
    "\n",
    "        idxToDelete = (np.cumsum(labels_dup==ii) * (labels_dup==ii)) > numToGetTo\n",
    "        images_dup = images_dup[idxToDelete==0,:,:]\n",
    "        labels_dup = labels_dup[idxToDelete==0]\n",
    "\n",
    "\n",
    "\n",
    "\n",
    "\n",
    "print(images_dup.shape)\n",
    "print(labels_dup.shape)\n",
    "\n",
    "numToGetTo = np.sum(labels_dup==0)\n",
    "print(numToGetTo)\n",
    "\n",
    "print(np.sum(labels_dup==0))\n",
    "print(np.sum(labels_dup==1))\n",
    "print(np.sum(labels_dup==4))\n",
    "print(np.sum(labels_dup==5))\n",
    "print(images_dup.shape)\n",
    "print(labels_dup.shape)"
   ]
  },
  {
   "cell_type": "raw",
   "metadata": {
    "id": "NpMB08CYDB0q"
   },
   "source": [
    "# create validation set\n",
    "# X_train, X_val, y_train, y_val = train_test_split(images[:], labels[:], test_size = 0.15)\n",
    "X_train, X_val, y_train, y_val = train_test_split(images_dup[:], labels_dup[:], test_size = 0.15)\n",
    "(X_train.shape, y_train.shape), (X_val.shape, y_val.shape)"
   ]
  },
  {
   "cell_type": "code",
   "execution_count": 13,
   "metadata": {
    "colab": {
     "base_uri": "https://localhost:8080/"
    },
    "id": "fVA_Aa6rDB0q",
    "outputId": "15b9e55a-4881-40be-f06b-dec658fa55a7"
   },
   "outputs": [
    {
     "data": {
      "text/plain": [
       "(((1702, 32, 32), (1702,)), ((426, 32, 32), (426,)))"
      ]
     },
     "execution_count": 13,
     "metadata": {},
     "output_type": "execute_result"
    }
   ],
   "source": [
    "# create validation set\n",
    "\n",
    "###### REMOVE WITH ENOUGH RAM\n",
    "images = images_dup\n",
    "labels = labels_dup\n",
    "\n",
    "# X_labeled_train, X_labeled_val, y_labeled_train, y_labeled_val = train_test_split(images_dup, labels_dup, test_size = 0.3)\n",
    "X_labeled_train, X_labeled_val, y_labeled_train, y_labeled_val = train_test_split(images_dup, labels_dup, test_size = 0.2)\n",
    "# X_train, y_train = X_labeled_train, y_labeled_train\n",
    "\n",
    "# X_labeled_val, X_test, y_labeled_val, y_test = train_test_split(X_labeled_val, y_labeled_val, test_size = 0.5)\n",
    "X_val, X_test, y_val, y_test = train_test_split(X_labeled_val, y_labeled_val, test_size = 0.5)\n",
    "\n",
    "(X_labeled_train.shape, y_labeled_train.shape), (X_labeled_val.shape, y_labeled_val.shape)"
   ]
  },
  {
   "cell_type": "code",
   "execution_count": 14,
   "metadata": {
    "colab": {
     "base_uri": "https://localhost:8080/",
     "height": 265
    },
    "id": "mdJafJMMDB0r",
    "outputId": "2e8d00f6-32bf-4aeb-d02d-e10dcaaccfe3"
   },
   "outputs": [
    {
     "data": {
      "image/png": "[encoded data removed]",
      "text/plain": [
       "<Figure size 432x288 with 1 Axes>"
      ]
     },
     "metadata": {
      "needs_background": "light"
     },
     "output_type": "display_data"
    }
   ],
   "source": [
    "plt.figure()\n",
    "plt.hist(labels_dup, 20);"
   ]
  },
  {
   "cell_type": "code",
   "execution_count": 15,
   "metadata": {},
   "outputs": [
    {
     "data": {
      "text/plain": [
       "(2128, 32, 32)"
      ]
     },
     "execution_count": 15,
     "metadata": {},
     "output_type": "execute_result"
    }
   ],
   "source": [
    "images.shape"
   ]
  },
  {
   "cell_type": "code",
   "execution_count": null,
   "metadata": {
    "id": "XNxaCTbcDB0r"
   },
   "outputs": [],
   "source": []
  },
  {
   "cell_type": "raw",
   "metadata": {
    "id": "tz9Q8wYuDB0s"
   },
   "source": [
    "from sklearn.linear_model import LogisticRegression\n",
    "import sklearn.metrics\n",
    "\n",
    "def classification_step(X_train, y_train, X_test, model, model_device, temperature):\n",
    "    logreg = LogisticRegression()\n",
    "    features_train = model(torch.as_tensor(X_train, device=DEVICE, dtype=torch.float32)[:,None,...]).detach().cpu()\n",
    "    # features = model(torch.tensor(X_train[y_train != 3], device=DEVICE, dtype=torch.float32)[:,None,...]).detach().cpu()\n",
    "    logreg.fit(features_train, y_train)\n",
    "    # logreg.fit(features, y_train[y_train != 3])\n",
    "    \n",
    "    features_test = model(torch.as_tensor(X_test, device=DEVICE, dtype=torch.float32)[:,None,...]).detach().cpu()    \n",
    "    y_hat = logreg.predict_proba(features_test)\n",
    "    y_hat = torch.as_tensor(y_hat, dtype=torch.float32, device='cpu')\n",
    "    \n",
    "#     print(y_hat)\n",
    "    print(f'accuracy: {logreg.score(features, y):.5}')\n",
    "\n",
    "#     # cm = sklearn.metrics.confusion_matrix(idx_to_oneHot(y_train), y_hat, normalize='true')\n",
    "#     # cm = sklearn.metrics.confusion_matrix(idx_to_oneHot(y_train[y_train != 3]), y_hat, normalize='true')\n",
    "#     cm = rh_cm(y_hat, y)\n",
    "#     # cm = rh_cm(y_hat, y_train[y_train != 3])\n",
    "    \n",
    "    unc = util.loss_uncertainty(y_hat, temperature=temperature)\n",
    "\n",
    "#     plt.figure()\n",
    "#     plt.imshow(cm)\n",
    "#     return torch.tensor(unc, dtype=torch.float32, device=model_device)\n",
    "    return unc"
   ]
  },
  {
   "cell_type": "markdown",
   "metadata": {
    "id": "3aA1-hY4DB0v"
   },
   "source": [
    "# Train"
   ]
  },
  {
   "cell_type": "code",
   "execution_count": 16,
   "metadata": {
    "colab": {
     "base_uri": "https://localhost:8080/"
    },
    "id": "YtkRZSMqDB0v",
    "outputId": "230c559f-f22c-4182-b3ab-024ba2080a50"
   },
   "outputs": [
    {
     "name": "stdout",
     "output_type": "stream",
     "text": [
      "device: 'cuda'\n"
     ]
    }
   ],
   "source": [
    "DEVICE = torch_helpers.set_device(use_GPU=True)\n",
    "# DEVICE = torch_helpers.set_device(use_GPU=False)"
   ]
  },
  {
   "cell_type": "markdown",
   "metadata": {},
   "source": [
    "### Define New model = model + pre-head + latent layer OR classification layer"
   ]
  },
  {
   "cell_type": "code",
   "execution_count": 17,
   "metadata": {
    "id": "gt4xpqbHBjyL"
   },
   "outputs": [],
   "source": [
    "class ModelTackOn(torch.nn.Module):\n",
    "    def __init__(self, base_model, un_modified_model, pre_head_fc_sizes=[100], post_head_fc_sizes=[100], classifier_fc_sizes=None):\n",
    "            super(ModelTackOn, self).__init__()\n",
    "            self.base_model = base_model\n",
    "            final_base_layer = list(un_modified_model.children())[-1]\n",
    "            # final_base_layer = list(list(model.children())[-1].children())[-1]\n",
    "            # print(final_base_layer)\n",
    "\n",
    "            self.pre_head_fc_lst = []\n",
    "            self.post_head_fc_lst = []\n",
    "            self.classifier_fc_lst = []\n",
    "\n",
    "            self.init_prehead(final_base_layer, pre_head_fc_sizes)\n",
    "            self.init_posthead(pre_head_fc_sizes[-1], post_head_fc_sizes)\n",
    "            if classifier_fc_sizes is not None:\n",
    "                self.init_classifier(pre_head_fc_sizes[-1], classifier_fc_sizes)\n",
    "    \n",
    "    def init_prehead(self, prv_layer, pre_head_fc_sizes):\n",
    "        for i, pre_head_fc in enumerate(pre_head_fc_sizes):\n",
    "            if i == 0:\n",
    "                in_features = prv_layer.in_features if hasattr(prv_layer,'in_features') else 1280\n",
    "            else:\n",
    "                in_features = pre_head_fc_sizes[i - 1]\n",
    "            fc_layer = torch.nn.Linear(in_features=in_features, out_features=pre_head_fc)\n",
    "            self.add_module(f'PreHead_{i}', fc_layer)\n",
    "            self.pre_head_fc_lst.append(fc_layer)\n",
    "\n",
    "#             if i < len(pre_head_fc_sizes) - 1:\n",
    "            non_linearity = torch.nn.ReLU()\n",
    "            self.add_module(f'PreHead_{i}_NonLinearity', non_linearity)\n",
    "            self.pre_head_fc_lst.append(non_linearity)\n",
    "\n",
    "    def init_posthead(self, prv_size, post_head_fc_sizes):\n",
    "        for i, post_head_fc in enumerate(post_head_fc_sizes):\n",
    "            if i == 0:\n",
    "                in_features = prv_size\n",
    "            else:\n",
    "                in_features = post_head_fc_sizes[i - 1]\n",
    "            fc_layer = torch.nn.Linear(in_features=in_features, out_features=post_head_fc)\n",
    "            self.add_module(f'PostHead_{i}', fc_layer)\n",
    "            self.post_head_fc_lst.append(fc_layer)\n",
    "\n",
    "            if i < len(post_head_fc_sizes) - 1:\n",
    "                non_linearity = torch.nn.ReLU()\n",
    "                self.add_module(f'PostHead_{i}_NonLinearity', non_linearity)\n",
    "                self.pre_head_fc_lst.append(non_linearity)\n",
    "    \n",
    "    def init_classifier(self, prv_size, classifier_fc_sizes):\n",
    "            for i, classifier_fc in enumerate(classifier_fc_sizes):\n",
    "                if i == 0:\n",
    "                    in_features = prv_size\n",
    "                else:\n",
    "                    in_features = classifier_fc_sizes[i - 1]\n",
    "            fc_layer = torch.nn.Linear(in_features=in_features, out_features=classifier_fc)\n",
    "            self.add_module(f'Classifier_{i}', fc_layer)\n",
    "            self.classifier_fc_lst.append(fc_layer)\n",
    "\n",
    "    def reinit_classifier(self):\n",
    "        for i_layer, layer in enumerate(self.classifier_fc_lst):\n",
    "            layer.reset_parameters()\n",
    "    \n",
    "#     def forward(self, X):\n",
    "#         interim = self.base_model(X)\n",
    "#         interim = self.get_head(interim)\n",
    "#         interim = self.get_latent(interim)\n",
    "#         return interim\n",
    "\n",
    "    def forward_classifier(self, X):\n",
    "        interim = self.base_model(X)\n",
    "        interim = self.get_head(interim)\n",
    "        interim = self.classify(interim)\n",
    "        return interim\n",
    "\n",
    "    def forward_latent(self, X):\n",
    "        interim = self.base_model(X)\n",
    "        interim = self.get_head(interim)\n",
    "        interim = self.get_latent(interim)\n",
    "        return interim\n",
    "\n",
    "\n",
    "    def get_head(self, base_out):\n",
    "        # print('base_out', base_out.shape)\n",
    "        head = base_out\n",
    "        for pre_head_layer in self.pre_head_fc_lst:\n",
    "          # print('pre_head_layer', pre_head_layer.in_features)\n",
    "          head = pre_head_layer(head)\n",
    "          # print('head', head.shape)\n",
    "        return head\n",
    "\n",
    "    def get_latent(self, head):\n",
    "        latent = head\n",
    "        for post_head_layer in self.post_head_fc_lst:\n",
    "            latent = post_head_layer(latent)\n",
    "        return latent\n",
    "\n",
    "    def classify(self, head):\n",
    "        logit = head\n",
    "        for classifier_layer in self.classifier_fc_lst:\n",
    "            logit = classifier_layer(logit)\n",
    "        return logit\n",
    "\n",
    "    def set_pre_head_grad(self, requires_grad=True):\n",
    "        for layer in self.pre_head_fc_lst:\n",
    "            for param in layer.parameters():\n",
    "                param.requires_grad = requires_grad\n",
    "                \n",
    "    def set_post_head_grad(self, requires_grad=True):\n",
    "        for layer in self.post_head_fc_lst:\n",
    "            for param in layer.parameters():\n",
    "                param.requires_grad = requires_grad\n",
    "\n",
    "    def set_classifier_grad(self, requires_grad=True):\n",
    "        for layer in self.classifier_fc_lst:\n",
    "            for param in layer.parameters():\n",
    "                param.requires_grad = requires_grad\n",
    "\n",
    "    def prep_contrast(self):\n",
    "        self.set_pre_head_grad(requires_grad=True)\n",
    "        self.set_post_head_grad(requires_grad=True)\n",
    "        self.set_classifier_grad(requires_grad=False)\n",
    "\n",
    "    def prep_classifier(self):\n",
    "        self.set_pre_head_grad(requires_grad=False)\n",
    "        self.set_post_head_grad(requires_grad=False)\n",
    "        self.set_classifier_grad(requires_grad=True)\n"
   ]
  },
  {
   "cell_type": "code",
   "execution_count": 18,
   "metadata": {
    "id": "MIix9BdUCkqf"
   },
   "outputs": [],
   "source": [
    "# import torchvision.models\n",
    "\n",
    "# # base_model = torchvision.models.resnet101(pretrained=True)\n",
    "# base_model = torchvision.models.resnet18(pretrained=True)\n",
    "\n",
    "# for param in base_model.parameters():\n",
    "#     param.requires_grad = False\n",
    "\n",
    "# retrain = list(base_model.children())[-1:]\n",
    "# for layer in retrain:\n",
    "#     params = layer.parameters()\n",
    "#     for param in params:\n",
    "#         param.requires_grad = True"
   ]
  },
  {
   "cell_type": "code",
   "execution_count": 19,
   "metadata": {
    "id": "oyjLftj_cEGW"
   },
   "outputs": [],
   "source": [
    "import torchvision.models\n",
    "\n",
    "# base_model_frozen = torchvision.models.resnet101(pretrained=True)\n",
    "# base_model_frozen = torchvision.models.resnet18(pretrained=True)\n",
    "# base_model_frozen = torchvision.models.wide_resnet50_2(pretrained=True)\n",
    "# base_model_frozen = torchvision.models.resnet50(pretrained=True)\n",
    "\n",
    "base_model_frozen = torchvision.models.efficientnet_b0(pretrained=True)\n",
    "\n",
    "\n",
    "for param in base_model_frozen.parameters():\n",
    "    param.requires_grad = False"
   ]
  },
  {
   "cell_type": "markdown",
   "metadata": {},
   "source": [
    "start with a pretrained resnet model, and chop off the final layer. This will be used as the base on which we add the pre-head layers (for expressivity), latent layers (for simCLR), or classification layers (for post-hoc logistic regression)"
   ]
  },
  {
   "cell_type": "code",
   "execution_count": 20,
   "metadata": {
    "id": "aWnb7WWri9qK"
   },
   "outputs": [],
   "source": [
    "model_chopped = torch.nn.Sequential(*(list(base_model_frozen.children())[:-1] + [torch.nn.Flatten()]))"
   ]
  },
  {
   "cell_type": "markdown",
   "metadata": {
    "id": "_E18ZEzpClNd"
   },
   "source": [
    "### Make combined model\n",
    "'model' has two forward methods. One for generating latents (for simCLR) and one for classifying labels"
   ]
  },
  {
   "cell_type": "code",
   "execution_count": 21,
   "metadata": {
    "colab": {
     "base_uri": "https://localhost:8080/"
    },
    "id": "n6Qx-1NGJNY3",
    "outputId": "f7cb3ded-3b48-439e-bf57-a526fb48bac7"
   },
   "outputs": [],
   "source": [
    "model = ModelTackOn(model_chopped, base_model_frozen, pre_head_fc_sizes=[1024, 512], post_head_fc_sizes=[64], classifier_fc_sizes=[len(np.unique(y_labeled_train))])\n",
    "# model = ModelTackOn(model_chopped.to(DEVICE), base_model_frozen, pre_head_fc_sizes=[len(np.unique(y_train))], post_head_fc_sizes=[])\n",
    "# model = ModelTackOn(model_chopped.to(DEVICE), base_model_frozen, pre_head_fc_sizes=[len(np.unique(y_train))], post_head_fc_sizes=[])\n",
    "\n",
    "# model = torch.nn.Sequential([model_chopped.to(DEVICE), torch.nn.Linear], pre_head_fc_sizes=[len(np.unique(y_train))], post_head_fc_sizes=[])\n",
    "\n",
    "\n",
    "# model = ModelTackOn(base_model_frozen, pre_head_fc_sizes=[len(np.unique(y_train))], post_head_fc_sizes=[])\n",
    "# model = ModelTackOn(base_model, pre_head_fc_sizes=[len(np.unique(y_train))], post_head_fc_sizes=[])\n",
    "model.train();"
   ]
  },
  {
   "cell_type": "code",
   "execution_count": null,
   "metadata": {
    "tags": []
   },
   "outputs": [],
   "source": []
  },
  {
   "cell_type": "code",
   "execution_count": 22,
   "metadata": {},
   "outputs": [
    {
     "name": "stdout",
     "output_type": "stream",
     "text": [
      "base_model.0.7.0.block.0.0.weight\n",
      "base_model.0.7.0.block.0.1.weight\n",
      "base_model.0.7.0.block.0.1.bias\n",
      "base_model.0.7.0.block.1.0.weight\n",
      "base_model.0.7.0.block.1.1.weight\n",
      "base_model.0.7.0.block.1.1.bias\n",
      "base_model.0.7.0.block.2.fc1.weight\n",
      "base_model.0.7.0.block.2.fc1.bias\n",
      "base_model.0.7.0.block.2.fc2.weight\n",
      "base_model.0.7.0.block.2.fc2.bias\n",
      "base_model.0.7.0.block.3.0.weight\n",
      "base_model.0.7.0.block.3.1.weight\n",
      "base_model.0.7.0.block.3.1.bias\n",
      "base_model.0.8.0.weight\n",
      "base_model.0.8.1.weight\n",
      "base_model.0.8.1.bias\n",
      "PreHead_0.weight\n",
      "PreHead_0.bias\n",
      "PreHead_1.weight\n",
      "PreHead_1.bias\n",
      "PostHead_0.weight\n",
      "PostHead_0.bias\n",
      "Classifier_0.weight\n",
      "Classifier_0.bias\n"
     ]
    }
   ],
   "source": [
    "# unfreeze particular blocks in ResNet model\n",
    "\n",
    "for name, param in list(model.named_parameters()):\n",
    "    # print(name)\n",
    "    if name[:10] == 'base_model':\n",
    "        if int(name[13]) < 7:\n",
    "            param.requires_grad = False\n",
    "        elif int(name[13]) >= 7:\n",
    "            param.requires_grad = True\n",
    "\n",
    "for name, param in list(model.named_parameters()):\n",
    "    if param.requires_grad:\n",
    "        print(name)"
   ]
  },
  {
   "cell_type": "markdown",
   "metadata": {
    "id": "T2ARByXvDB0s"
   },
   "source": [
    "## Define augmentation pipeline"
   ]
  },
  {
   "cell_type": "code",
   "execution_count": 23,
   "metadata": {},
   "outputs": [],
   "source": [
    "import torchvision.transforms    \n",
    "\n",
    "transforms = torch.nn.Sequential(\n",
    "    torchvision.transforms.RandomHorizontalFlip(p=0.5),\n",
    "        \n",
    "    torchvision.transforms.RandomAffine(\n",
    "                                        degrees=(-180,180),\n",
    "                                        translate=(0.15, 0.15), #0, .3, .45 (DEFAULT)\n",
    "                                        scale=(0.6, 1.2), # no scale (1,1), (0.4, 1.5)\n",
    "                                        shear=(-15, 15, -15, 15),\n",
    "                                        interpolation=torchvision.transforms.InterpolationMode.BILINEAR, \n",
    "                                        fill=0, \n",
    "                                        fillcolor=None, \n",
    "                                        resample=None),\n",
    "    augmentation.AddPoissonNoise(   #scaler_bounds=(10**(4.5), 10**(6.)),\n",
    "                                    scaler_bounds=(10**(4), 10**(6)),\n",
    "                                    prob=1,\n",
    "                                    base=1000,\n",
    "                                    scaling='log'),\n",
    "    augmentation.AddGaussianNoise(  mean=0, \n",
    "                                    std=0.00015,\n",
    "                                    prob=1),\n",
    "    \n",
    "    augmentation.ScaleDynamicRange(scaler_bounds=(0,1)), # just clamping, both this and clamping = normalizing (DEFAULT)\n",
    "    torchvision.transforms.Resize(size=(224,224), \n",
    "                                  interpolation=torchvision.transforms.InterpolationMode.BILINEAR), # To do or not to do (DEFAULT)\n",
    "    \n",
    "    augmentation.TileChannels(dim=0, n_channels=3),\n",
    ")\n",
    "    \n",
    "scripted_transforms = torch.jit.script(transforms)"
   ]
  },
  {
   "cell_type": "raw",
   "metadata": {
    "id": "tq77tWZeDB0s"
   },
   "source": [
    "import torchvision.transforms    \n",
    "\n",
    "transforms = torch.nn.Sequential(\n",
    "    \n",
    "#     torchvision.transforms.RandomAdjustSharpness(torch.rand(1)*5, p=0.5),\n",
    "#         torchvision.transforms.RandomPerspective(distortion_scale=0.7, \n",
    "#                                              p=0.5, \n",
    "#                                              interpolation=torchvision.transforms.InterpolationMode.BILINEAR, \n",
    "#                                              fill=0),\n",
    "#     torchvision.transforms.GaussianBlur(kernel_size=5,\n",
    "#                                         sigma=(0.0001, 0.1)),\n",
    "        \n",
    "\n",
    "    torchvision.transforms.RandomHorizontalFlip(p=0.5),\n",
    "        \n",
    "    torchvision.transforms.RandomAffine(\n",
    "                                        degrees=(-180,180),\n",
    "                                        translate=(0.2, 0.2), #0.15/.15\n",
    "                                        scale=(0.4, 1.3),  #.6, 1.2\n",
    "                                        shear=(-25, 25, -25, 25), # -15/+15 across board\n",
    "                                        interpolation=torchvision.transforms.InterpolationMode.BILINEAR, \n",
    "                                        fill=0, \n",
    "                                        fillcolor=None, \n",
    "                                        resample=None),\n",
    "    augmentation.AddPoissonNoise(   scaler_bounds=(10**(4.0), 10**(6.)), # 4.5, 6\n",
    "                                    prob=1,\n",
    "                                    base=1000,\n",
    "                                    scaling='log'),\n",
    "    augmentation.AddGaussianNoise(  mean=0, \n",
    "                                    std=0.0002, # 0.00015\n",
    "                                    prob=1),\n",
    "    \n",
    "    augmentation.ScaleDynamicRange(scaler_bounds=(0,1)), # Do vs. don't do -- bounds between 0/1. Either do this OR do this followed by torchvision.transforms.Normalize\n",
    "    \n",
    "    torchvision.transforms.Resize(size=(224,224),\n",
    "                                  interpolation=torchvision.transforms.InterpolationMode.BILINEAR), # Do vs. don't do\n",
    "    \n",
    "    # augmentation.AddPoissonNoise(   scaler_bounds=(10**(1.5), 10**(4.0)),\n",
    "    #                                 prob=1,\n",
    "    #                                 base=1000,\n",
    "    #                                 scaling='log'),\n",
    "    # augmentation.AddGaussianNoise(  mean=0, \n",
    "    #                                 std=0.1,\n",
    "    #                                 prob=1),\n",
    "    \n",
    "    augmentation.TileChannels(dim=0, n_channels=3),\n",
    "    \n",
    "#     augmentation.Normalize(  means=[0.485, 0.456, 0.406],\n",
    "#                              stds=[0.229, 0.224, 0.225]),\n",
    "#     torchvision.transforms.Normalize(mean=[0.485, 0.456, 0.406],\n",
    "#                                      std=[0.229, 0.224, 0.225],\n",
    "#                                      inplace=False),\n",
    "#     torchvision.transforms.RandomHorizontalFlip(p=0.5),\n",
    "\n",
    "#     torchvision.transforms.RandomAffine(\n",
    "#                                         degrees=(-180,180),\n",
    "#                                         translate=(0.0, 0.0),\n",
    "#                                         interpolation=torchvision.transforms.InterpolationMode.BILINEAR, \n",
    "#                                         fill=0, \n",
    "#                                         # fillcolor=None, \n",
    "#                                         resample=None),\n",
    ")\n",
    "scripted_transforms = torch.jit.script(transforms)\n",
    "# scripted_transforms = transforms"
   ]
  },
  {
   "cell_type": "code",
   "execution_count": 24,
   "metadata": {
    "id": "PmM4nnV1nCVd"
   },
   "outputs": [],
   "source": [
    "dataset_train = util.dataset_simCLR(\n",
    "                                    torch.as_tensor(masks_cat, device='cpu', dtype=torch.float32), \n",
    "                                    torch.as_tensor(torch.zeros(masks_cat.shape[0]), device='cpu', dtype=torch.float32),\n",
    "\n",
    "                                    n_transforms=2,\n",
    "                                    class_weights=np.array([1]),\n",
    "                                    # class_weights=np.array([1]*4)[np.random.randint(0,4, X_train.shape[0])],\n",
    "                                    transform=scripted_transforms,\n",
    "                                    # DEVICE='cpu',\n",
    "                                    DEVICE='cpu',\n",
    "                                    dtype_X=torch.float32,\n",
    "                                    dtype_y=torch.int64,\n",
    "                                    \n",
    "                                    temp_uncertainty=16\n",
    "                                    )\n",
    "dataloader_train = torch.utils.data.DataLoader( dataset_train,\n",
    "#                                                 batch_size=int(pct_batch_size*X_train.shape[0]),\n",
    "                                                batch_size=800,\n",
    "                                                shuffle=True,\n",
    "                                                drop_last=True,\n",
    "                                                pin_memory=True,\n",
    "                                                num_workers=16,\n",
    "                                                persistent_workers=True,\n",
    "                                                # prefetch_factor=0\n",
    "                                                )"
   ]
  },
  {
   "cell_type": "code",
   "execution_count": 25,
   "metadata": {},
   "outputs": [
    {
     "data": {
      "image/png": "[encoded data removed]",
      "text/plain": [
       "<Figure size 432x288 with 2 Axes>"
      ]
     },
     "metadata": {
      "needs_background": "light"
     },
     "output_type": "display_data"
    },
    {
     "data": {
      "image/png": "[encoded data removed]",
      "text/plain": [
       "<Figure size 432x288 with 2 Axes>"
      ]
     },
     "metadata": {
      "needs_background": "light"
     },
     "output_type": "display_data"
    },
    {
     "data": {
      "image/png": "[encoded data removed]",
      "text/plain": [
       "<Figure size 432x288 with 2 Axes>"
      ]
     },
     "metadata": {
      "needs_background": "light"
     },
     "output_type": "display_data"
    },
    {
     "data": {
      "image/png": "[encoded data removed]",
      "text/plain": [
       "<Figure size 432x288 with 2 Axes>"
      ]
     },
     "metadata": {
      "needs_background": "light"
     },
     "output_type": "display_data"
    },
    {
     "data": {
      "image/png": "[encoded data removed]",
      "text/plain": [
       "<Figure size 432x288 with 2 Axes>"
      ]
     },
     "metadata": {
      "needs_background": "light"
     },
     "output_type": "display_data"
    },
    {
     "data": {
      "image/png": "[encoded data removed]",
      "text/plain": [
       "<Figure size 432x288 with 2 Axes>"
      ]
     },
     "metadata": {
      "needs_background": "light"
     },
     "output_type": "display_data"
    },
    {
     "data": {
      "image/png": "[encoded data removed]",
      "text/plain": [
       "<Figure size 432x288 with 2 Axes>"
      ]
     },
     "metadata": {
      "needs_background": "light"
     },
     "output_type": "display_data"
    },
    {
     "data": {
      "image/png": "[encoded data removed]",
      "text/plain": [
       "<Figure size 432x288 with 2 Axes>"
      ]
     },
     "metadata": {
      "needs_background": "light"
     },
     "output_type": "display_data"
    },
    {
     "data": {
      "image/png": "[encoded data removed]",
      "text/plain": [
       "<Figure size 432x288 with 2 Axes>"
      ]
     },
     "metadata": {
      "needs_background": "light"
     },
     "output_type": "display_data"
    },
    {
     "data": {
      "image/png": "[encoded data removed]",
      "text/plain": [
       "<Figure size 432x288 with 2 Axes>"
      ]
     },
     "metadata": {
      "needs_background": "light"
     },
     "output_type": "display_data"
    }
   ],
   "source": [
    "idx_rand = np.random.randint(0,masks_cat.shape[0], 10)\n",
    "for ii in idx_rand:\n",
    "    fig, axs = plt.subplots(2)\n",
    "    axs[0].imshow(dataset_train[ii][0][0][0])\n",
    "    axs[1].imshow(dataset_train[ii][0][1][0])"
   ]
  },
  {
   "cell_type": "code",
   "execution_count": 26,
   "metadata": {
    "colab": {
     "base_uri": "https://localhost:8080/"
    },
    "id": "nstWf2PhVwfV",
    "outputId": "968f73ab-75d7-4735-ea1e-49e7fb3821cc"
   },
   "outputs": [
    {
     "data": {
      "text/plain": [
       "0"
      ]
     },
     "execution_count": 26,
     "metadata": {},
     "output_type": "execute_result"
    }
   ],
   "source": [
    "# torch_helpers.delete_all_cuda_tensors(globals())\n",
    "\n",
    "import gc\n",
    "\n",
    "torch.cuda.empty_cache()\n",
    "gc.collect()\n",
    "torch.cuda.empty_cache()\n",
    "gc.collect()\n",
    "torch.cuda.empty_cache()\n",
    "gc.collect()\n",
    "torch.cuda.empty_cache()\n",
    "gc.collect()"
   ]
  },
  {
   "cell_type": "markdown",
   "metadata": {
    "id": "OQ27o1ny9Xfi"
   },
   "source": [
    "## Training"
   ]
  },
  {
   "cell_type": "code",
   "execution_count": 27,
   "metadata": {},
   "outputs": [],
   "source": [
    "model.to(DEVICE)\n",
    "model.prep_contrast()"
   ]
  },
  {
   "cell_type": "code",
   "execution_count": 28,
   "metadata": {
    "id": "yDqu-bi8mnJB"
   },
   "outputs": [],
   "source": [
    "from torch.nn import CrossEntropyLoss\n",
    "from torch.optim import Adam\n",
    "\n",
    "import numpy as np\n",
    "\n",
    "from sklearn.linear_model import LogisticRegression\n",
    "from sklearn.tree import DecisionTreeClassifier\n",
    "from sklearn.ensemble import RandomForestClassifier\n",
    "from sklearn.svm import SVC\n",
    "\n",
    "\n",
    "# model = models.LeNet1(dropout_prob=0.3, momentum_val=0, n_output_features=64)\n",
    "\n",
    "\n",
    "criterion = [CrossEntropyLoss()]\n",
    "# criterion = CrossEntropyLoss(reduction='none')\n",
    "\n",
    "# optimizer = Adam(model.parameters(), lr=1e-2, weight_decay=0.0)\n",
    "# optimizer = Adam(model.parameters(), lr=2e-2)\n",
    "optimizer = Adam(model.parameters(), lr=10**(-3.5))\n",
    "scheduler = torch.optim.lr_scheduler.ExponentialLR(optimizer,\n",
    "                                                   gamma=1-0.0000,\n",
    "#                                                    gamma=1,\n",
    "                                                  )\n",
    "\n",
    "criterion = [_.to(DEVICE) for _ in criterion]\n",
    "losses_train, losses_val, val_accs, acc = [], [np.nan], [], []"
   ]
  },
  {
   "cell_type": "code",
   "execution_count": null,
   "metadata": {},
   "outputs": [],
   "source": []
  },
  {
   "cell_type": "markdown",
   "metadata": {},
   "source": []
  },
  {
   "cell_type": "code",
   "execution_count": 29,
   "metadata": {},
   "outputs": [],
   "source": [
    "def get_ds_dl(data, transforms, expand_dim=False):\n",
    "    setup_ds = util.dataset_simCLR(\n",
    "                                    torch.as_tensor(data, device='cpu', dtype=torch.float32), \n",
    "                                    torch.as_tensor(torch.zeros(data.shape[0]), device='cpu', dtype=torch.float32),\n",
    "\n",
    "\n",
    "                                    n_transforms=1,\n",
    "                                    transform=transforms,\n",
    "                                    class_weights=np.array([1]),\n",
    "                                    DEVICE='cpu',\n",
    "                                    dtype_X=torch.float32,\n",
    "                                    dtype_y=torch.int64,\n",
    "\n",
    "                                    temp_uncertainty=16,\n",
    "                                    expand_dim=expand_dim\n",
    "                                    )\n",
    "    setup_dl = torch.utils.data.DataLoader( setup_ds,\n",
    "                                            batch_size=1024,\n",
    "                                            shuffle=False,\n",
    "                                            drop_last=False,\n",
    "                                            # pin_memory=True,\n",
    "                                            # num_workers=16,\n",
    "                                            # persistent_workers=True,\n",
    "                                            )\n",
    "\n",
    "    return setup_ds, setup_dl"
   ]
  },
  {
   "cell_type": "code",
   "execution_count": 30,
   "metadata": {},
   "outputs": [
    {
     "data": {
      "text/plain": [
       "(1702, 32, 32)"
      ]
     },
     "execution_count": 30,
     "metadata": {},
     "output_type": "execute_result"
    }
   ],
   "source": [
    "X_labeled_train.shape"
   ]
  },
  {
   "cell_type": "code",
   "execution_count": 31,
   "metadata": {},
   "outputs": [],
   "source": [
    "all_transforms = torch.nn.Sequential(\n",
    "    augmentation.ScaleDynamicRange(scaler_bounds=(0,1)),\n",
    "    torchvision.transforms.Resize(size=(224,224),\n",
    "                                  interpolation=torchvision.transforms.InterpolationMode.BILINEAR), \n",
    "    augmentation.TileChannels(dim=0, n_channels=3),\n",
    ")\n",
    "no_transforms = torch.nn.Sequential(\n",
    ")\n",
    "scale_rsz_transforms = torch.nn.Sequential(\n",
    "    augmentation.ScaleDynamicRange(scaler_bounds=(0,1)),\n",
    "    torchvision.transforms.Resize(size=(224,224),\n",
    "                                  interpolation=torchvision.transforms.InterpolationMode.BILINEAR)\n",
    ")\n",
    "tile_transforms = torch.nn.Sequential(\n",
    "    augmentation.TileChannels(dim=0, n_channels=3),\n",
    ")\n",
    "\n",
    "\n",
    "scripted_all_transforms = torch.jit.script(all_transforms)\n",
    "scripted_no_transforms = torch.jit.script(no_transforms)\n",
    "scripted_scale_rsz_transform = torch.jit.script(scale_rsz_transforms)\n",
    "scripted_tile_transform = torch.jit.script(tile_transforms)"
   ]
  },
  {
   "cell_type": "code",
   "execution_count": 32,
   "metadata": {},
   "outputs": [],
   "source": [
    "setup_transform = scripted_scale_rsz_transform\n",
    "run_transform = scripted_tile_transform\n",
    "\n",
    "setup_ds, setup_dl = get_ds_dl(X_labeled_train, setup_transform, expand_dim=True)\n",
    "input_xtr = torch.cat([data[0][0].detach().cpu() for data in setup_dl], dim=0)\n",
    "setup_ds, setup_dl = get_ds_dl(X_labeled_train_SYT, setup_transform, expand_dim=True)\n",
    "input_xtr_SYT = torch.cat([data[0][0].detach().cpu() for data in setup_dl], dim=0)\n",
    "\n",
    "setup_ds, setup_dl = get_ds_dl(X_labeled_val, setup_transform, expand_dim=True)\n",
    "input_xval = torch.cat([data[0][0].detach().cpu() for data in setup_dl], dim=0)\n",
    "setup_ds, setup_dl = get_ds_dl(X_labeled_val_SYT, setup_transform, expand_dim=True)\n",
    "input_xval_SYT = torch.cat([data[0][0].detach().cpu() for data in setup_dl], dim=0)\n",
    "\n",
    "# print(\"Starting!\")\n",
    "# tik = time.time()\n",
    "# ds_run = util.dataset_simCLR(\n",
    "#                             torch.as_tensor(input_x, device='cpu', dtype=torch.float32), \n",
    "#                             torch.as_tensor(torch.zeros(input_x.shape[0]), device='cpu', dtype=torch.float32),\n",
    "\n",
    "#                             n_transforms=1,\n",
    "#                             class_weights=np.array([1]),\n",
    "#                             transform=run_transform,\n",
    "#                             DEVICE='cpu',\n",
    "#                             dtype_X=torch.float32,\n",
    "#                             dtype_y=torch.int64,\n",
    "\n",
    "#                             temp_uncertainty=16,\n",
    "#                             expand_dim=False\n",
    "#                             )\n",
    "# dl_run = torch.utils.data.DataLoader( ds_run,\n",
    "#                                         batch_size=1024,\n",
    "#                                         shuffle=False,\n",
    "#                                         drop_last=False,\n",
    "#                                         # pin_memory=True,\n",
    "#                                         # num_workers=16,\n",
    "#                                         # persistent_workers=True,\n",
    "#                                         )\n",
    "# features_train = torch.cat([model.get_head(model.base_model(data[0][0].to(DEVICE))).detach().cpu() for data in dl_run], dim=0)\n",
    "# tok = time.time()\n",
    "\n",
    "# print(f'Tile Transformation Alone Took: {tok-tik} s to run')"
   ]
  },
  {
   "cell_type": "code",
   "execution_count": 33,
   "metadata": {},
   "outputs": [
    {
     "data": {
      "text/plain": [
       "(torch.Size([1702, 1, 224, 224]),\n",
       " torch.Size([54704, 1, 224, 224]),\n",
       " torch.Size([426, 1, 224, 224]),\n",
       " torch.Size([13677, 1, 224, 224]))"
      ]
     },
     "execution_count": 33,
     "metadata": {},
     "output_type": "execute_result"
    }
   ],
   "source": [
    "input_xtr.shape, input_xtr_SYT.shape, input_xval.shape, input_xval_SYT.shape"
   ]
  },
  {
   "cell_type": "code",
   "execution_count": 34,
   "metadata": {},
   "outputs": [],
   "source": [
    "# scale_rsz_transforms = torch.nn.Sequential(\n",
    "#     augmentation.ScaleDynamicRange(scaler_bounds=(0,1)),\n",
    "#     torchvision.transforms.Resize(size=(224,224),\n",
    "#                                   interpolation=torchvision.transforms.InterpolationMode.BILINEAR))\n",
    "# tile_transforms = torch.nn.Sequential(augmentation.TileChannels(dim=0, n_channels=3),)\n",
    "\n",
    "\n",
    "# scripted_scale_rsz_transform = torch.jit.script(scale_rsz_transforms)\n",
    "# scripted_tile_transform = torch.jit.script(tile_transforms)\n",
    "\n",
    "\n",
    "# setup_transform = scripted_scale_rsz_transform\n",
    "# run_transform = scripted_tile_transform\n",
    "\n",
    "\n",
    "\n",
    "# # setup_ds, setup_dl = get_ds_dl(X_labeled_train_SYT, setup_transform, expand_dim=False)\n",
    "\n",
    "# setup_ds = util.dataset_simCLR(\n",
    "#                                 torch.as_tensor(X_labeled_train_SYT, device='cpu', dtype=torch.float32), \n",
    "#                                 torch.as_tensor(torch.zeros(X_labeled_train_SYT.shape[0]), device='cpu', dtype=torch.float32),\n",
    "#                                 n_transforms=1,\n",
    "#                                 transform=setup_transform,\n",
    "#                                 class_weights=np.array([1]),\n",
    "#                                 DEVICE='cpu',\n",
    "#                                 dtype_X=torch.float32,\n",
    "#                                 dtype_y=torch.int64,\n",
    "\n",
    "#                                 temp_uncertainty=16,\n",
    "#                                 expand_dim=False\n",
    "#                                 )\n",
    "# setup_dl = torch.utils.data.DataLoader( setup_ds,\n",
    "#                                         batch_size=1024,\n",
    "#                                         shuffle=False,\n",
    "#                                         drop_last=False,\n",
    "#                                         # pin_memory=True,\n",
    "#                                         # num_workers=16,\n",
    "#                                         # persistent_workers=True,\n",
    "#                                         )\n",
    "\n",
    "\n",
    "# input_x = torch.cat([data[0][0].detach().cpu() for data in setup_dl], dim=0)\n",
    "# # setup_ds, setup_dl = get_ds_dl(X_labeled_train_SYT, setup_transform, expand_dim=False)\n",
    "# # input_x_SYT = torch.cat([data[0][0].detach().cpu() for data in setup_dl], dim=0)\n",
    "\n"
   ]
  },
  {
   "cell_type": "code",
   "execution_count": null,
   "metadata": {},
   "outputs": [],
   "source": []
  },
  {
   "cell_type": "code",
   "execution_count": null,
   "metadata": {},
   "outputs": [],
   "source": []
  },
  {
   "cell_type": "code",
   "execution_count": null,
   "metadata": {},
   "outputs": [],
   "source": []
  },
  {
   "cell_type": "code",
   "execution_count": 35,
   "metadata": {},
   "outputs": [],
   "source": [
    "# acc_train_lst, acc_val_lst = [], []\n",
    "# acc_train_SYT_lst, acc_val_SYT_lst = [], []\n",
    "\n",
    "# print('A')\n",
    "# ds_run, dl_run = get_ds_dl(input_xtr, run_transform, expand_dim=False)\n",
    "# features_train = torch.cat([model.get_head(model.base_model(data[0][0].to(DEVICE))).detach().cpu() for data in dl_run], dim=0)\n",
    "# ds_run, dl_run = get_ds_dl(input_xval, run_transform, expand_dim=False)\n",
    "# features_val = torch.cat([model.get_head(model.base_model(data[0][0].to(DEVICE))).detach().cpu() for data in dl_run], dim=0)\n",
    "\n",
    "# print('B')\n",
    "# ds_run, dl_run = get_ds_dl(input_xtr_SYT, run_transform, expand_dim=False)\n",
    "# features_train_SYT = torch.cat([model.get_head(model.base_model(data[0][0].to(DEVICE))).detach().cpu() for data in dl_run], dim=0)\n",
    "# ds_run, dl_run = get_ds_dl(input_xval_SYT, run_transform, expand_dim=False)\n",
    "# features_val_SYT = torch.cat([model.get_head(model.base_model(data[0][0].to(DEVICE))).detach().cpu() for data in dl_run], dim=0)\n",
    "\n",
    "\n",
    "# acc_train, acc_val = {}, {}\n",
    "# acc_train_SYT, acc_val_SYT = {}, {}\n",
    "# C_toUse = np.array([1e1,1e0,1e-1,1e-2])\n",
    "# for C in C_toUse:\n",
    "#     print('C1')\n",
    "#     logreg = sklearn.linear_model.LogisticRegression(solver='liblinear', max_iter=800, C=C)\n",
    "#     logreg.fit(features_train, y_labeled_train)\n",
    "#     acc_train_tmp = logreg.score(features_train, y_labeled_train)\n",
    "#     acc_train[C] = acc_train_tmp\n",
    "#     acc_val_tmp = logreg.score(features_val, y_labeled_val)\n",
    "#     acc_val[C] = acc_val_tmp\n",
    "    \n",
    "#     print('C2')\n",
    "#     logreg_SYT = sklearn.linear_model.LogisticRegression(solver='liblinear', max_iter=800, C=C)\n",
    "#     logreg_SYT.fit(features_train_SYT, y_labeled_train_SYT)\n",
    "#     acc_train_tmp = logreg_SYT.score(features_train_SYT, y_labeled_train_SYT)\n",
    "#     acc_train_SYT[C] = acc_train_tmp\n",
    "#     acc_val_tmp = logreg_SYT.score(features_val_SYT, y_labeled_val_SYT)\n",
    "#     acc_val_SYT[C] = acc_val_tmp\n",
    "\n",
    "# acc_train_lst.append(acc_train)\n",
    "# acc_val_lst.append(acc_val)\n",
    "# acc_train_SYT_lst.append(acc_train_SYT)\n",
    "# acc_val_SYT_lst.append(acc_val_SYT)\n",
    "\n",
    "\n",
    "# losses_train_npy = np.array(losses_train)\n",
    "# losses_val_npy = np.array(losses_val)\n",
    "# val_accs_npy = np.array(val_accs)\n",
    "# acc_npy = np.array(acc)"
   ]
  },
  {
   "cell_type": "code",
   "execution_count": 36,
   "metadata": {},
   "outputs": [],
   "source": [
    "# acc_train_df, acc_val_df, acc_train_SYT_df, acc_val_SYT_df = pd.DataFrame(acc_train_lst), pd.DataFrame(acc_val_lst), pd.DataFrame(acc_train_SYT_lst), pd.DataFrame(acc_val_SYT_lst)\n",
    "# display(acc_train_df)\n",
    "# display(acc_val_df)\n",
    "# display(acc_train_SYT_df)\n",
    "# display(acc_val_SYT_df)\n",
    "\n",
    "# acc_train_df.to_csv(f'{base_dir}/github_repos/GCaMP_ROI_classifier/new_stuff/accuracies/{model_file_name}_train.csv')\n",
    "# acc_val_df.to_csv(f'{base_dir}/github_repos/GCaMP_ROI_classifier/new_stuff/accuracies/{model_file_name}_val.csv')\n",
    "# acc_train_SYT_df.to_csv(f'{base_dir}/github_repos/GCaMP_ROI_classifier/new_stuff/accuracies/{model_file_name}_train_SYT.csv')\n",
    "# acc_val_SYT_df.to_csv(f'{base_dir}/github_repos/GCaMP_ROI_classifier/new_stuff/accuracies/{model_file_name}_val_SYT.csv')"
   ]
  },
  {
   "cell_type": "code",
   "execution_count": null,
   "metadata": {},
   "outputs": [],
   "source": []
  },
  {
   "cell_type": "code",
   "execution_count": null,
   "metadata": {},
   "outputs": [],
   "source": []
  },
  {
   "cell_type": "code",
   "execution_count": null,
   "metadata": {},
   "outputs": [],
   "source": []
  },
  {
   "cell_type": "code",
   "execution_count": 37,
   "metadata": {
    "colab": {
     "base_uri": "https://localhost:8080/"
    },
    "id": "rvDiVxDICXEn",
    "outputId": "2c29e3cf-4515-4aae-f0b1-22e30d51fa5f"
   },
   "outputs": [],
   "source": [
    "model_file_name = 'ResNet18_simCLR_model_202112078_EOD_transfmod=efficient2-only7unfrozen'\n",
    "model.forward = model.forward_latent"
   ]
  },
  {
   "cell_type": "code",
   "execution_count": null,
   "metadata": {
    "colab": {
     "base_uri": "https://localhost:8080/"
    },
    "id": "rvDiVxDICXEn",
    "outputId": "2c29e3cf-4515-4aae-f0b1-22e30d51fa5f"
   },
   "outputs": [
    {
     "name": "stderr",
     "output_type": "stream",
     "text": [
      "  0%|          | 0/300000 [00:00<?, ?it/s]"
     ]
    },
    {
     "name": "stdout",
     "output_type": "stream",
     "text": [
      "epoch: 0\n",
      "Iter: 0/889, loss_train: 7.349, loss_val: nan, pos_over_neg: 1.0245325565338135 lr: 0.00031623\n",
      "Iter: 1/889, loss_train: 7.1765, loss_val: nan, pos_over_neg: 1.2428301572799683 lr: 0.00031623\n",
      "Iter: 2/889, loss_train: 6.9988, loss_val: nan, pos_over_neg: 3.1196725368499756 lr: 0.00031623\n",
      "Iter: 3/889, loss_train: 6.9009, loss_val: nan, pos_over_neg: 3.7103147506713867 lr: 0.00031623\n",
      "Iter: 4/889, loss_train: 6.7802, loss_val: nan, pos_over_neg: 4.077817916870117 lr: 0.00031623\n",
      "Iter: 5/889, loss_train: 6.7269, loss_val: nan, pos_over_neg: 5.723012447357178 lr: 0.00031623\n",
      "Iter: 6/889, loss_train: 6.6701, loss_val: nan, pos_over_neg: 9.695016860961914 lr: 0.00031623\n",
      "Iter: 7/889, loss_train: 6.6192, loss_val: nan, pos_over_neg: 13.35693073272705 lr: 0.00031623\n",
      "Iter: 8/889, loss_train: 6.5942, loss_val: nan, pos_over_neg: 12.405990600585938 lr: 0.00031623\n",
      "Iter: 9/889, loss_train: 6.5699, loss_val: nan, pos_over_neg: 13.105032920837402 lr: 0.00031623\n",
      "Iter: 10/889, loss_train: 6.5927, loss_val: nan, pos_over_neg: 11.125567436218262 lr: 0.00031623\n",
      "Iter: 11/889, loss_train: 6.5821, loss_val: nan, pos_over_neg: 12.746593475341797 lr: 0.00031623\n",
      "Iter: 12/889, loss_train: 6.5284, loss_val: nan, pos_over_neg: 14.635932922363281 lr: 0.00031623\n",
      "Iter: 13/889, loss_train: 6.5061, loss_val: nan, pos_over_neg: 17.280933380126953 lr: 0.00031623\n",
      "Iter: 14/889, loss_train: 6.4861, loss_val: nan, pos_over_neg: 24.638734817504883 lr: 0.00031623\n",
      "Iter: 15/889, loss_train: 6.4894, loss_val: nan, pos_over_neg: 35.625423431396484 lr: 0.00031623\n",
      "Iter: 16/889, loss_train: 6.4357, loss_val: nan, pos_over_neg: 36.76000213623047 lr: 0.00031623\n",
      "Iter: 17/889, loss_train: 6.4505, loss_val: nan, pos_over_neg: 29.897552490234375 lr: 0.00031623\n",
      "Iter: 18/889, loss_train: 6.4243, loss_val: nan, pos_over_neg: 40.164772033691406 lr: 0.00031623\n",
      "Iter: 19/889, loss_train: 6.4171, loss_val: nan, pos_over_neg: 31.975082397460938 lr: 0.00031623\n",
      "Iter: 20/889, loss_train: 6.4169, loss_val: nan, pos_over_neg: 38.8293571472168 lr: 0.00031623\n",
      "Iter: 21/889, loss_train: 6.3966, loss_val: nan, pos_over_neg: 43.021766662597656 lr: 0.00031623\n",
      "Iter: 22/889, loss_train: 6.42, loss_val: nan, pos_over_neg: 49.94255447387695 lr: 0.00031623\n",
      "Iter: 23/889, loss_train: 6.4189, loss_val: nan, pos_over_neg: 69.38328552246094 lr: 0.00031623\n",
      "Iter: 24/889, loss_train: 6.3791, loss_val: nan, pos_over_neg: 68.40487670898438 lr: 0.00031623\n",
      "Iter: 25/889, loss_train: 6.3844, loss_val: nan, pos_over_neg: 69.47258758544922 lr: 0.00031623\n",
      "Iter: 26/889, loss_train: 6.3886, loss_val: nan, pos_over_neg: 61.37703323364258 lr: 0.00031623\n",
      "Iter: 27/889, loss_train: 6.3624, loss_val: nan, pos_over_neg: 58.32057189941406 lr: 0.00031623\n",
      "Iter: 28/889, loss_train: 6.3712, loss_val: nan, pos_over_neg: 60.382022857666016 lr: 0.00031623\n",
      "Iter: 29/889, loss_train: 6.3645, loss_val: nan, pos_over_neg: 60.4225959777832 lr: 0.00031623\n",
      "Iter: 30/889, loss_train: 6.3575, loss_val: nan, pos_over_neg: 47.780967712402344 lr: 0.00031623\n",
      "Iter: 31/889, loss_train: 6.3613, loss_val: nan, pos_over_neg: 56.664268493652344 lr: 0.00031623\n",
      "Iter: 32/889, loss_train: 6.3461, loss_val: nan, pos_over_neg: 52.18281555175781 lr: 0.00031623\n",
      "Iter: 33/889, loss_train: 6.332, loss_val: nan, pos_over_neg: 59.72954559326172 lr: 0.00031623\n",
      "Iter: 34/889, loss_train: 6.3467, loss_val: nan, pos_over_neg: 50.57052230834961 lr: 0.00031623\n",
      "Iter: 35/889, loss_train: 6.3539, loss_val: nan, pos_over_neg: 77.18146514892578 lr: 0.00031623\n",
      "Iter: 36/889, loss_train: 6.3158, loss_val: nan, pos_over_neg: 98.26416778564453 lr: 0.00031623\n",
      "Iter: 37/889, loss_train: 6.3426, loss_val: nan, pos_over_neg: 130.63702392578125 lr: 0.00031623\n",
      "Iter: 38/889, loss_train: 6.2716, loss_val: nan, pos_over_neg: 572.305908203125 lr: 0.00031623\n",
      "Iter: 39/889, loss_train: 6.3388, loss_val: nan, pos_over_neg: 134.6428680419922 lr: 0.00031623\n",
      "Iter: 40/889, loss_train: 6.2854, loss_val: nan, pos_over_neg: 126.25874328613281 lr: 0.00031623\n",
      "Iter: 41/889, loss_train: 6.3007, loss_val: nan, pos_over_neg: 60.00991439819336 lr: 0.00031623\n",
      "Iter: 42/889, loss_train: 6.301, loss_val: nan, pos_over_neg: 108.29029846191406 lr: 0.00031623\n",
      "Iter: 43/889, loss_train: 6.2765, loss_val: nan, pos_over_neg: 226.2075653076172 lr: 0.00031623\n",
      "Iter: 44/889, loss_train: 6.2715, loss_val: nan, pos_over_neg: 169.67042541503906 lr: 0.00031623\n",
      "Iter: 45/889, loss_train: 6.2784, loss_val: nan, pos_over_neg: 300.9647216796875 lr: 0.00031623\n",
      "Iter: 46/889, loss_train: 6.262, loss_val: nan, pos_over_neg: 326.22735595703125 lr: 0.00031623\n",
      "Iter: 47/889, loss_train: 6.2809, loss_val: nan, pos_over_neg: 455.69189453125 lr: 0.00031623\n",
      "Iter: 48/889, loss_train: 6.2647, loss_val: nan, pos_over_neg: 136.2460479736328 lr: 0.00031623\n",
      "Iter: 49/889, loss_train: 6.2584, loss_val: nan, pos_over_neg: 135.01808166503906 lr: 0.00031623\n",
      "Iter: 50/889, loss_train: 6.2663, loss_val: nan, pos_over_neg: 89.57090759277344 lr: 0.00031623\n",
      "Iter: 51/889, loss_train: 6.2566, loss_val: nan, pos_over_neg: 87.62063598632812 lr: 0.00031623\n",
      "Iter: 52/889, loss_train: 6.2692, loss_val: nan, pos_over_neg: 73.72130584716797 lr: 0.00031623\n",
      "Iter: 53/889, loss_train: 6.2493, loss_val: nan, pos_over_neg: 130.52716064453125 lr: 0.00031623\n",
      "Iter: 54/889, loss_train: 6.231, loss_val: nan, pos_over_neg: 432.233642578125 lr: 0.00031623\n",
      "Iter: 55/889, loss_train: 6.2642, loss_val: nan, pos_over_neg: 284.3470458984375 lr: 0.00031623\n",
      "Iter: 56/889, loss_train: 6.2761, loss_val: nan, pos_over_neg: 168.20960998535156 lr: 0.00031623\n",
      "Iter: 57/889, loss_train: 6.2332, loss_val: nan, pos_over_neg: 126.30585479736328 lr: 0.00031623\n",
      "Iter: 58/889, loss_train: 6.2279, loss_val: nan, pos_over_neg: 145.0230712890625 lr: 0.00031623\n",
      "Iter: 59/889, loss_train: 6.2489, loss_val: nan, pos_over_neg: 197.8621826171875 lr: 0.00031623\n",
      "Iter: 60/889, loss_train: 6.2318, loss_val: nan, pos_over_neg: 208.46356201171875 lr: 0.00031623\n",
      "Iter: 61/889, loss_train: 6.239, loss_val: nan, pos_over_neg: 204.97372436523438 lr: 0.00031623\n",
      "Iter: 62/889, loss_train: 6.2176, loss_val: nan, pos_over_neg: 263.3623962402344 lr: 0.00031623\n",
      "Iter: 63/889, loss_train: 6.2207, loss_val: nan, pos_over_neg: 150.89712524414062 lr: 0.00031623\n",
      "Iter: 64/889, loss_train: 6.2188, loss_val: nan, pos_over_neg: 172.01687622070312 lr: 0.00031623\n",
      "Iter: 65/889, loss_train: 6.2326, loss_val: nan, pos_over_neg: 220.76437377929688 lr: 0.00031623\n",
      "Iter: 66/889, loss_train: 6.2134, loss_val: nan, pos_over_neg: 548.8804931640625 lr: 0.00031623\n",
      "Iter: 67/889, loss_train: 6.195, loss_val: nan, pos_over_neg: 245.45242309570312 lr: 0.00031623\n",
      "Iter: 68/889, loss_train: 6.2012, loss_val: nan, pos_over_neg: 97.57734680175781 lr: 0.00031623\n",
      "Iter: 69/889, loss_train: 6.2155, loss_val: nan, pos_over_neg: 174.06394958496094 lr: 0.00031623\n",
      "Iter: 70/889, loss_train: 6.2034, loss_val: nan, pos_over_neg: 276.4989929199219 lr: 0.00031623\n",
      "Iter: 71/889, loss_train: 6.2136, loss_val: nan, pos_over_neg: 376.9305419921875 lr: 0.00031623\n",
      "Iter: 72/889, loss_train: 6.2277, loss_val: nan, pos_over_neg: 247.68959045410156 lr: 0.00031623\n",
      "Iter: 73/889, loss_train: 6.1982, loss_val: nan, pos_over_neg: 306.3572082519531 lr: 0.00031623\n",
      "Iter: 74/889, loss_train: 6.1963, loss_val: nan, pos_over_neg: 206.88906860351562 lr: 0.00031623\n",
      "Iter: 75/889, loss_train: 6.1918, loss_val: nan, pos_over_neg: 213.86781311035156 lr: 0.00031623\n",
      "Iter: 76/889, loss_train: 6.1749, loss_val: nan, pos_over_neg: 174.4286651611328 lr: 0.00031623\n",
      "Iter: 77/889, loss_train: 6.1885, loss_val: nan, pos_over_neg: 121.41209411621094 lr: 0.00031623\n",
      "Iter: 78/889, loss_train: 6.1978, loss_val: nan, pos_over_neg: 119.81388854980469 lr: 0.00031623\n",
      "Iter: 79/889, loss_train: 6.1968, loss_val: nan, pos_over_neg: 235.82254028320312 lr: 0.00031623\n",
      "Iter: 80/889, loss_train: 6.1872, loss_val: nan, pos_over_neg: 469.0918884277344 lr: 0.00031623\n",
      "Iter: 81/889, loss_train: 6.1922, loss_val: nan, pos_over_neg: 300.2934875488281 lr: 0.00031623\n",
      "Iter: 82/889, loss_train: 6.1986, loss_val: nan, pos_over_neg: 159.82041931152344 lr: 0.00031623\n",
      "Iter: 83/889, loss_train: 6.1731, loss_val: nan, pos_over_neg: 166.102783203125 lr: 0.00031623\n",
      "Iter: 84/889, loss_train: 6.1749, loss_val: nan, pos_over_neg: 179.78102111816406 lr: 0.00031623\n",
      "Iter: 85/889, loss_train: 6.1772, loss_val: nan, pos_over_neg: 161.08253479003906 lr: 0.00031623\n",
      "Iter: 86/889, loss_train: 6.1752, loss_val: nan, pos_over_neg: 420.5327453613281 lr: 0.00031623\n",
      "Iter: 87/889, loss_train: 6.1623, loss_val: nan, pos_over_neg: -7677.44384765625 lr: 0.00031623\n",
      "Iter: 88/889, loss_train: 6.1704, loss_val: nan, pos_over_neg: 612.3184814453125 lr: 0.00031623\n",
      "Iter: 89/889, loss_train: 6.1709, loss_val: nan, pos_over_neg: 214.66351318359375 lr: 0.00031623\n",
      "Iter: 90/889, loss_train: 6.1523, loss_val: nan, pos_over_neg: 233.5143585205078 lr: 0.00031623\n",
      "Iter: 91/889, loss_train: 6.1648, loss_val: nan, pos_over_neg: 188.58128356933594 lr: 0.00031623\n",
      "Iter: 92/889, loss_train: 6.1787, loss_val: nan, pos_over_neg: 303.2115783691406 lr: 0.00031623\n",
      "Iter: 93/889, loss_train: 6.1423, loss_val: nan, pos_over_neg: 270.2520751953125 lr: 0.00031623\n",
      "Iter: 94/889, loss_train: 6.1651, loss_val: nan, pos_over_neg: 355.49554443359375 lr: 0.00031623\n",
      "Iter: 95/889, loss_train: 6.1658, loss_val: nan, pos_over_neg: 332.09222412109375 lr: 0.00031623\n",
      "Iter: 96/889, loss_train: 6.1508, loss_val: nan, pos_over_neg: 126.70993041992188 lr: 0.00031623\n",
      "Iter: 97/889, loss_train: 6.1531, loss_val: nan, pos_over_neg: 138.2277069091797 lr: 0.00031623\n",
      "Iter: 98/889, loss_train: 6.1428, loss_val: nan, pos_over_neg: 307.4726257324219 lr: 0.00031623\n",
      "Iter: 99/889, loss_train: 6.1719, loss_val: nan, pos_over_neg: 447.552734375 lr: 0.00031623\n",
      "Iter: 100/889, loss_train: 6.1825, loss_val: nan, pos_over_neg: -24877.818359375 lr: 0.00031623\n",
      "Iter: 101/889, loss_train: 6.1671, loss_val: nan, pos_over_neg: 589.2442626953125 lr: 0.00031623\n",
      "Iter: 102/889, loss_train: 6.1436, loss_val: nan, pos_over_neg: 138.76390075683594 lr: 0.00031623\n",
      "Iter: 103/889, loss_train: 6.1445, loss_val: nan, pos_over_neg: 113.7369613647461 lr: 0.00031623\n",
      "Iter: 104/889, loss_train: 6.1394, loss_val: nan, pos_over_neg: 136.47360229492188 lr: 0.00031623\n",
      "Iter: 105/889, loss_train: 6.1615, loss_val: nan, pos_over_neg: 154.4779510498047 lr: 0.00031623\n",
      "Iter: 106/889, loss_train: 6.1373, loss_val: nan, pos_over_neg: 596.7782592773438 lr: 0.00031623\n",
      "Iter: 107/889, loss_train: 6.151, loss_val: nan, pos_over_neg: 2300.799072265625 lr: 0.00031623\n",
      "Iter: 108/889, loss_train: 6.1587, loss_val: nan, pos_over_neg: 381.8980407714844 lr: 0.00031623\n",
      "Iter: 109/889, loss_train: 6.1608, loss_val: nan, pos_over_neg: 292.99908447265625 lr: 0.00031623\n",
      "Iter: 110/889, loss_train: 6.1378, loss_val: nan, pos_over_neg: 401.57568359375 lr: 0.00031623\n",
      "Iter: 111/889, loss_train: 6.1414, loss_val: nan, pos_over_neg: 371.1463623046875 lr: 0.00031623\n",
      "Iter: 112/889, loss_train: 6.1598, loss_val: nan, pos_over_neg: 252.57374572753906 lr: 0.00031623\n",
      "Iter: 113/889, loss_train: 6.1391, loss_val: nan, pos_over_neg: 330.0692443847656 lr: 0.00031623\n",
      "Iter: 114/889, loss_train: 6.1662, loss_val: nan, pos_over_neg: 169.17465209960938 lr: 0.00031623\n",
      "Iter: 115/889, loss_train: 6.1482, loss_val: nan, pos_over_neg: 105.92678833007812 lr: 0.00031623\n",
      "Iter: 116/889, loss_train: 6.1207, loss_val: nan, pos_over_neg: 131.674072265625 lr: 0.00031623\n",
      "Iter: 117/889, loss_train: 6.1526, loss_val: nan, pos_over_neg: 186.0092010498047 lr: 0.00031623\n",
      "Iter: 118/889, loss_train: 6.1384, loss_val: nan, pos_over_neg: 377.05792236328125 lr: 0.00031623\n",
      "Iter: 119/889, loss_train: 6.1486, loss_val: nan, pos_over_neg: 811.4246826171875 lr: 0.00031623\n",
      "Iter: 120/889, loss_train: 6.1249, loss_val: nan, pos_over_neg: 685.2899780273438 lr: 0.00031623\n",
      "Iter: 121/889, loss_train: 6.1409, loss_val: nan, pos_over_neg: 136.18072509765625 lr: 0.00031623\n",
      "Iter: 122/889, loss_train: 6.1477, loss_val: nan, pos_over_neg: 135.57937622070312 lr: 0.00031623\n",
      "Iter: 123/889, loss_train: 6.1245, loss_val: nan, pos_over_neg: 258.084228515625 lr: 0.00031623\n",
      "Iter: 124/889, loss_train: 6.1355, loss_val: nan, pos_over_neg: 563.0515747070312 lr: 0.00031623\n",
      "Iter: 125/889, loss_train: 6.1332, loss_val: nan, pos_over_neg: 508.1483154296875 lr: 0.00031623\n",
      "Iter: 126/889, loss_train: 6.1177, loss_val: nan, pos_over_neg: 997.213134765625 lr: 0.00031623\n",
      "Iter: 127/889, loss_train: 6.1093, loss_val: nan, pos_over_neg: 577.0850830078125 lr: 0.00031623\n",
      "Iter: 128/889, loss_train: 6.1365, loss_val: nan, pos_over_neg: 116.50235748291016 lr: 0.00031623\n",
      "Iter: 129/889, loss_train: 6.0957, loss_val: nan, pos_over_neg: 176.00088500976562 lr: 0.00031623\n",
      "Iter: 130/889, loss_train: 6.1115, loss_val: nan, pos_over_neg: 124.72626495361328 lr: 0.00031623\n",
      "Iter: 131/889, loss_train: 6.1123, loss_val: nan, pos_over_neg: 198.61288452148438 lr: 0.00031623\n",
      "Iter: 132/889, loss_train: 6.1336, loss_val: nan, pos_over_neg: 169.73446655273438 lr: 0.00031623\n",
      "Iter: 133/889, loss_train: 6.1458, loss_val: nan, pos_over_neg: 961.0975341796875 lr: 0.00031623\n",
      "Iter: 134/889, loss_train: 6.1302, loss_val: nan, pos_over_neg: 442.2905578613281 lr: 0.00031623\n",
      "Iter: 135/889, loss_train: 6.1224, loss_val: nan, pos_over_neg: 111.29237365722656 lr: 0.00031623\n",
      "Iter: 136/889, loss_train: 6.1224, loss_val: nan, pos_over_neg: 112.9844970703125 lr: 0.00031623\n",
      "Iter: 137/889, loss_train: 6.1318, loss_val: nan, pos_over_neg: 228.81993103027344 lr: 0.00031623\n",
      "Iter: 138/889, loss_train: 6.1124, loss_val: nan, pos_over_neg: 233.8466796875 lr: 0.00031623\n",
      "Iter: 139/889, loss_train: 6.1161, loss_val: nan, pos_over_neg: 176.25479125976562 lr: 0.00031623\n",
      "Iter: 140/889, loss_train: 6.1206, loss_val: nan, pos_over_neg: 138.77049255371094 lr: 0.00031623\n",
      "Iter: 141/889, loss_train: 6.093, loss_val: nan, pos_over_neg: 170.2907257080078 lr: 0.00031623\n",
      "Iter: 142/889, loss_train: 6.1344, loss_val: nan, pos_over_neg: 127.20215606689453 lr: 0.00031623\n",
      "Iter: 143/889, loss_train: 6.1163, loss_val: nan, pos_over_neg: 240.2181854248047 lr: 0.00031623\n",
      "Iter: 144/889, loss_train: 6.1155, loss_val: nan, pos_over_neg: 140.7607421875 lr: 0.00031623\n",
      "Iter: 145/889, loss_train: 6.1237, loss_val: nan, pos_over_neg: 541.1458740234375 lr: 0.00031623\n",
      "Iter: 146/889, loss_train: 6.0979, loss_val: nan, pos_over_neg: 360.40264892578125 lr: 0.00031623\n",
      "Iter: 147/889, loss_train: 6.1178, loss_val: nan, pos_over_neg: 784.7081298828125 lr: 0.00031623\n",
      "Iter: 148/889, loss_train: 6.1056, loss_val: nan, pos_over_neg: 259.0851135253906 lr: 0.00031623\n",
      "Iter: 149/889, loss_train: 6.0839, loss_val: nan, pos_over_neg: 188.12155151367188 lr: 0.00031623\n",
      "Iter: 150/889, loss_train: 6.1094, loss_val: nan, pos_over_neg: 117.59463500976562 lr: 0.00031623\n",
      "Iter: 151/889, loss_train: 6.0784, loss_val: nan, pos_over_neg: 167.9437713623047 lr: 0.00031623\n",
      "Iter: 152/889, loss_train: 6.1269, loss_val: nan, pos_over_neg: 212.37008666992188 lr: 0.00031623\n",
      "Iter: 153/889, loss_train: 6.0913, loss_val: nan, pos_over_neg: 306.4881896972656 lr: 0.00031623\n",
      "Iter: 154/889, loss_train: 6.1034, loss_val: nan, pos_over_neg: 3306.95361328125 lr: 0.00031623\n",
      "Iter: 155/889, loss_train: 6.1167, loss_val: nan, pos_over_neg: 1292.0618896484375 lr: 0.00031623\n",
      "Iter: 156/889, loss_train: 6.1092, loss_val: nan, pos_over_neg: 547.3026733398438 lr: 0.00031623\n",
      "Iter: 157/889, loss_train: 6.0777, loss_val: nan, pos_over_neg: 234.54412841796875 lr: 0.00031623\n",
      "Iter: 158/889, loss_train: 6.1067, loss_val: nan, pos_over_neg: 341.1305847167969 lr: 0.00031623\n",
      "Iter: 159/889, loss_train: 6.1058, loss_val: nan, pos_over_neg: 326.1900329589844 lr: 0.00031623\n",
      "Iter: 160/889, loss_train: 6.1171, loss_val: nan, pos_over_neg: 478.8206481933594 lr: 0.00031623\n",
      "Iter: 161/889, loss_train: 6.0999, loss_val: nan, pos_over_neg: 931.221435546875 lr: 0.00031623\n",
      "Iter: 162/889, loss_train: 6.0887, loss_val: nan, pos_over_neg: 560.9856567382812 lr: 0.00031623\n",
      "Iter: 163/889, loss_train: 6.099, loss_val: nan, pos_over_neg: 2972.880859375 lr: 0.00031623\n",
      "Iter: 164/889, loss_train: 6.0833, loss_val: nan, pos_over_neg: 1021.8251342773438 lr: 0.00031623\n",
      "Iter: 165/889, loss_train: 6.0966, loss_val: nan, pos_over_neg: 181.4689483642578 lr: 0.00031623\n",
      "Iter: 166/889, loss_train: 6.0894, loss_val: nan, pos_over_neg: 184.38783264160156 lr: 0.00031623\n",
      "Iter: 167/889, loss_train: 6.087, loss_val: nan, pos_over_neg: 191.08847045898438 lr: 0.00031623\n",
      "Iter: 168/889, loss_train: 6.1122, loss_val: nan, pos_over_neg: 251.79798889160156 lr: 0.00031623\n",
      "Iter: 169/889, loss_train: 6.0964, loss_val: nan, pos_over_neg: 287.64434814453125 lr: 0.00031623\n",
      "Iter: 170/889, loss_train: 6.0989, loss_val: nan, pos_over_neg: 278.6950988769531 lr: 0.00031623\n",
      "Iter: 171/889, loss_train: 6.0924, loss_val: nan, pos_over_neg: 323.1756591796875 lr: 0.00031623\n",
      "Iter: 172/889, loss_train: 6.0872, loss_val: nan, pos_over_neg: 425.6821594238281 lr: 0.00031623\n",
      "Iter: 173/889, loss_train: 6.1037, loss_val: nan, pos_over_neg: 112.01836395263672 lr: 0.00031623\n",
      "Iter: 174/889, loss_train: 6.1048, loss_val: nan, pos_over_neg: 179.1822967529297 lr: 0.00031623\n",
      "Iter: 175/889, loss_train: 6.1053, loss_val: nan, pos_over_neg: 158.2784423828125 lr: 0.00031623\n",
      "Iter: 176/889, loss_train: 6.0868, loss_val: nan, pos_over_neg: 194.80972290039062 lr: 0.00031623\n",
      "Iter: 177/889, loss_train: 6.0734, loss_val: nan, pos_over_neg: 774.9964599609375 lr: 0.00031623\n",
      "Iter: 178/889, loss_train: 6.1018, loss_val: nan, pos_over_neg: 685.9425659179688 lr: 0.00031623\n",
      "Iter: 179/889, loss_train: 6.0799, loss_val: nan, pos_over_neg: 379.6163635253906 lr: 0.00031623\n",
      "Iter: 180/889, loss_train: 6.0596, loss_val: nan, pos_over_neg: 477.7045593261719 lr: 0.00031623\n",
      "Iter: 181/889, loss_train: 6.1063, loss_val: nan, pos_over_neg: 603.1556396484375 lr: 0.00031623\n",
      "Iter: 182/889, loss_train: 6.0711, loss_val: nan, pos_over_neg: 242.29188537597656 lr: 0.00031623\n",
      "Iter: 183/889, loss_train: 6.0956, loss_val: nan, pos_over_neg: 407.2132873535156 lr: 0.00031623\n",
      "Iter: 184/889, loss_train: 6.0911, loss_val: nan, pos_over_neg: 309.9689025878906 lr: 0.00031623\n",
      "Iter: 185/889, loss_train: 6.0869, loss_val: nan, pos_over_neg: 526.7890625 lr: 0.00031623\n",
      "Iter: 186/889, loss_train: 6.0658, loss_val: nan, pos_over_neg: 235.78839111328125 lr: 0.00031623\n",
      "Iter: 187/889, loss_train: 6.0771, loss_val: nan, pos_over_neg: 179.64590454101562 lr: 0.00031623\n",
      "Iter: 188/889, loss_train: 6.0818, loss_val: nan, pos_over_neg: 222.45541381835938 lr: 0.00031623\n",
      "Iter: 189/889, loss_train: 6.0803, loss_val: nan, pos_over_neg: 339.2373962402344 lr: 0.00031623\n",
      "Iter: 190/889, loss_train: 6.0691, loss_val: nan, pos_over_neg: 765.577392578125 lr: 0.00031623\n",
      "Iter: 191/889, loss_train: 6.1007, loss_val: nan, pos_over_neg: 504.1806335449219 lr: 0.00031623\n",
      "Iter: 192/889, loss_train: 6.0949, loss_val: nan, pos_over_neg: 383.8205871582031 lr: 0.00031623\n",
      "Iter: 193/889, loss_train: 6.08, loss_val: nan, pos_over_neg: 177.63140869140625 lr: 0.00031623\n",
      "Iter: 194/889, loss_train: 6.089, loss_val: nan, pos_over_neg: 277.6163635253906 lr: 0.00031623\n",
      "Iter: 195/889, loss_train: 6.1073, loss_val: nan, pos_over_neg: 569.2347412109375 lr: 0.00031623\n",
      "Iter: 196/889, loss_train: 6.0773, loss_val: nan, pos_over_neg: 415.7864074707031 lr: 0.00031623\n",
      "Iter: 197/889, loss_train: 6.06, loss_val: nan, pos_over_neg: 485.172119140625 lr: 0.00031623\n",
      "Iter: 198/889, loss_train: 6.1141, loss_val: nan, pos_over_neg: 391.3511047363281 lr: 0.00031623\n",
      "Iter: 199/889, loss_train: 6.0639, loss_val: nan, pos_over_neg: 635.400146484375 lr: 0.00031623\n",
      "Iter: 200/889, loss_train: 6.0695, loss_val: nan, pos_over_neg: 484.0053405761719 lr: 0.00031623\n",
      "Iter: 201/889, loss_train: 6.0605, loss_val: nan, pos_over_neg: 343.4300537109375 lr: 0.00031623\n",
      "Iter: 202/889, loss_train: 6.0831, loss_val: nan, pos_over_neg: 175.85365295410156 lr: 0.00031623\n",
      "Iter: 203/889, loss_train: 6.0685, loss_val: nan, pos_over_neg: 437.9359130859375 lr: 0.00031623\n",
      "Iter: 204/889, loss_train: 6.068, loss_val: nan, pos_over_neg: 551.6668090820312 lr: 0.00031623\n",
      "Iter: 205/889, loss_train: 6.078, loss_val: nan, pos_over_neg: 290.13336181640625 lr: 0.00031623\n",
      "Iter: 206/889, loss_train: 6.0858, loss_val: nan, pos_over_neg: 219.14889526367188 lr: 0.00031623\n",
      "Iter: 207/889, loss_train: 6.07, loss_val: nan, pos_over_neg: 354.9859619140625 lr: 0.00031623\n",
      "Iter: 208/889, loss_train: 6.0863, loss_val: nan, pos_over_neg: 434.8337707519531 lr: 0.00031623\n",
      "Iter: 209/889, loss_train: 6.0774, loss_val: nan, pos_over_neg: 928.058349609375 lr: 0.00031623\n",
      "Iter: 210/889, loss_train: 6.0528, loss_val: nan, pos_over_neg: 440.9391784667969 lr: 0.00031623\n",
      "Iter: 211/889, loss_train: 6.0455, loss_val: nan, pos_over_neg: 481.46856689453125 lr: 0.00031623\n",
      "Iter: 212/889, loss_train: 6.0805, loss_val: nan, pos_over_neg: 228.8953094482422 lr: 0.00031623\n",
      "Iter: 213/889, loss_train: 6.0829, loss_val: nan, pos_over_neg: 142.84400939941406 lr: 0.00031623\n",
      "Iter: 214/889, loss_train: 6.0563, loss_val: nan, pos_over_neg: 275.2860107421875 lr: 0.00031623\n",
      "Iter: 215/889, loss_train: 6.0842, loss_val: nan, pos_over_neg: 1596.584228515625 lr: 0.00031623\n",
      "Iter: 216/889, loss_train: 6.0653, loss_val: nan, pos_over_neg: 919.218017578125 lr: 0.00031623\n",
      "Iter: 217/889, loss_train: 6.0694, loss_val: nan, pos_over_neg: 193.86285400390625 lr: 0.00031623\n",
      "Iter: 218/889, loss_train: 6.0773, loss_val: nan, pos_over_neg: 196.5309600830078 lr: 0.00031623\n",
      "Iter: 219/889, loss_train: 6.0561, loss_val: nan, pos_over_neg: 257.108154296875 lr: 0.00031623\n",
      "Iter: 220/889, loss_train: 6.0743, loss_val: nan, pos_over_neg: 122.29447174072266 lr: 0.00031623\n",
      "Iter: 221/889, loss_train: 6.0569, loss_val: nan, pos_over_neg: 264.14404296875 lr: 0.00031623\n",
      "Iter: 222/889, loss_train: 6.0709, loss_val: nan, pos_over_neg: 477.197265625 lr: 0.00031623\n",
      "Iter: 223/889, loss_train: 6.0836, loss_val: nan, pos_over_neg: 265.72210693359375 lr: 0.00031623\n",
      "Iter: 224/889, loss_train: 6.0769, loss_val: nan, pos_over_neg: 196.02281188964844 lr: 0.00031623\n",
      "Iter: 225/889, loss_train: 6.0784, loss_val: nan, pos_over_neg: 189.0275421142578 lr: 0.00031623\n",
      "Iter: 226/889, loss_train: 6.0748, loss_val: nan, pos_over_neg: 185.75411987304688 lr: 0.00031623\n",
      "Iter: 227/889, loss_train: 6.0757, loss_val: nan, pos_over_neg: 191.92628479003906 lr: 0.00031623\n",
      "Iter: 228/889, loss_train: 6.0383, loss_val: nan, pos_over_neg: 165.88064575195312 lr: 0.00031623\n",
      "Iter: 229/889, loss_train: 6.0737, loss_val: nan, pos_over_neg: 130.7822723388672 lr: 0.00031623\n",
      "Iter: 230/889, loss_train: 6.0447, loss_val: nan, pos_over_neg: 562.9055786132812 lr: 0.00031623\n",
      "Iter: 231/889, loss_train: 6.0731, loss_val: nan, pos_over_neg: 366.1249694824219 lr: 0.00031623\n",
      "Iter: 232/889, loss_train: 6.0734, loss_val: nan, pos_over_neg: 352.9368896484375 lr: 0.00031623\n",
      "Iter: 233/889, loss_train: 6.0704, loss_val: nan, pos_over_neg: 267.0198974609375 lr: 0.00031623\n",
      "Iter: 234/889, loss_train: 6.0673, loss_val: nan, pos_over_neg: 231.6077117919922 lr: 0.00031623\n",
      "Iter: 235/889, loss_train: 6.069, loss_val: nan, pos_over_neg: 109.19654846191406 lr: 0.00031623\n",
      "Iter: 236/889, loss_train: 6.0591, loss_val: nan, pos_over_neg: 82.6478042602539 lr: 0.00031623\n",
      "Iter: 237/889, loss_train: 6.0481, loss_val: nan, pos_over_neg: 289.3094787597656 lr: 0.00031623\n",
      "Iter: 238/889, loss_train: 6.0495, loss_val: nan, pos_over_neg: 783.5059204101562 lr: 0.00031623\n",
      "Iter: 239/889, loss_train: 6.0331, loss_val: nan, pos_over_neg: 1499.990234375 lr: 0.00031623\n",
      "Iter: 240/889, loss_train: 6.0445, loss_val: nan, pos_over_neg: 890.4927368164062 lr: 0.00031623\n",
      "Iter: 241/889, loss_train: 6.0674, loss_val: nan, pos_over_neg: 308.8248596191406 lr: 0.00031623\n",
      "Iter: 242/889, loss_train: 6.0691, loss_val: nan, pos_over_neg: 183.21322631835938 lr: 0.00031623\n",
      "Iter: 243/889, loss_train: 6.0502, loss_val: nan, pos_over_neg: 148.223876953125 lr: 0.00031623\n",
      "Iter: 244/889, loss_train: 6.0517, loss_val: nan, pos_over_neg: 132.1959686279297 lr: 0.00031623\n",
      "Iter: 245/889, loss_train: 6.034, loss_val: nan, pos_over_neg: 265.7971496582031 lr: 0.00031623\n",
      "Iter: 246/889, loss_train: 6.0604, loss_val: nan, pos_over_neg: 402.277099609375 lr: 0.00031623\n",
      "Iter: 247/889, loss_train: 6.0478, loss_val: nan, pos_over_neg: 1323.299560546875 lr: 0.00031623\n",
      "Iter: 248/889, loss_train: 6.0471, loss_val: nan, pos_over_neg: 403.595703125 lr: 0.00031623\n",
      "Iter: 249/889, loss_train: 6.0511, loss_val: nan, pos_over_neg: 417.18902587890625 lr: 0.00031623\n",
      "Iter: 250/889, loss_train: 6.0374, loss_val: nan, pos_over_neg: 149.13075256347656 lr: 0.00031623\n",
      "Iter: 251/889, loss_train: 6.0624, loss_val: nan, pos_over_neg: 154.74053955078125 lr: 0.00031623\n",
      "Iter: 252/889, loss_train: 6.0735, loss_val: nan, pos_over_neg: 159.3502655029297 lr: 0.00031623\n",
      "Iter: 253/889, loss_train: 6.058, loss_val: nan, pos_over_neg: 1003.171630859375 lr: 0.00031623\n",
      "Iter: 254/889, loss_train: 6.0532, loss_val: nan, pos_over_neg: 3285.30126953125 lr: 0.00031623\n",
      "Iter: 255/889, loss_train: 6.0612, loss_val: nan, pos_over_neg: 3656.6171875 lr: 0.00031623\n",
      "Iter: 256/889, loss_train: 6.0401, loss_val: nan, pos_over_neg: 992.57470703125 lr: 0.00031623\n",
      "Iter: 257/889, loss_train: 6.0486, loss_val: nan, pos_over_neg: 144.74978637695312 lr: 0.00031623\n",
      "Iter: 258/889, loss_train: 6.0663, loss_val: nan, pos_over_neg: 148.45652770996094 lr: 0.00031623\n",
      "Iter: 259/889, loss_train: 6.0391, loss_val: nan, pos_over_neg: 220.4055938720703 lr: 0.00031623\n",
      "Iter: 260/889, loss_train: 6.0531, loss_val: nan, pos_over_neg: 278.8292541503906 lr: 0.00031623\n",
      "Iter: 261/889, loss_train: 6.065, loss_val: nan, pos_over_neg: 1070.564208984375 lr: 0.00031623\n",
      "Iter: 262/889, loss_train: 6.0587, loss_val: nan, pos_over_neg: 325.5976867675781 lr: 0.00031623\n",
      "Iter: 263/889, loss_train: 6.054, loss_val: nan, pos_over_neg: 1095.5150146484375 lr: 0.00031623\n",
      "Iter: 264/889, loss_train: 6.0402, loss_val: nan, pos_over_neg: 251.8214569091797 lr: 0.00031623\n",
      "Iter: 265/889, loss_train: 6.0398, loss_val: nan, pos_over_neg: 239.9314422607422 lr: 0.00031623\n",
      "Iter: 266/889, loss_train: 6.0434, loss_val: nan, pos_over_neg: 627.7245483398438 lr: 0.00031623\n",
      "Iter: 267/889, loss_train: 6.0573, loss_val: nan, pos_over_neg: 340.116943359375 lr: 0.00031623\n",
      "Iter: 268/889, loss_train: 6.0205, loss_val: nan, pos_over_neg: 417.4338684082031 lr: 0.00031623\n",
      "Iter: 269/889, loss_train: 6.0402, loss_val: nan, pos_over_neg: 404.34503173828125 lr: 0.00031623\n",
      "Iter: 270/889, loss_train: 6.0459, loss_val: nan, pos_over_neg: 276.26336669921875 lr: 0.00031623\n",
      "Iter: 271/889, loss_train: 6.045, loss_val: nan, pos_over_neg: 294.5837707519531 lr: 0.00031623\n",
      "Iter: 272/889, loss_train: 6.0522, loss_val: nan, pos_over_neg: 454.353271484375 lr: 0.00031623\n",
      "Iter: 273/889, loss_train: 6.0437, loss_val: nan, pos_over_neg: 517.5831298828125 lr: 0.00031623\n",
      "Iter: 274/889, loss_train: 6.0454, loss_val: nan, pos_over_neg: 668.3501586914062 lr: 0.00031623\n",
      "Iter: 275/889, loss_train: 6.0286, loss_val: nan, pos_over_neg: 10620.67578125 lr: 0.00031623\n",
      "Iter: 276/889, loss_train: 6.0426, loss_val: nan, pos_over_neg: 406.9490661621094 lr: 0.00031623\n",
      "Iter: 277/889, loss_train: 6.0364, loss_val: nan, pos_over_neg: 286.02972412109375 lr: 0.00031623\n",
      "Iter: 278/889, loss_train: 6.0378, loss_val: nan, pos_over_neg: 212.52296447753906 lr: 0.00031623\n",
      "Iter: 279/889, loss_train: 6.047, loss_val: nan, pos_over_neg: 218.9250946044922 lr: 0.00031623\n",
      "Iter: 280/889, loss_train: 6.0371, loss_val: nan, pos_over_neg: 3385.96923828125 lr: 0.00031623\n",
      "Iter: 281/889, loss_train: 6.0197, loss_val: nan, pos_over_neg: 2239.483642578125 lr: 0.00031623\n",
      "Iter: 282/889, loss_train: 6.0517, loss_val: nan, pos_over_neg: 2624.38525390625 lr: 0.00031623\n",
      "Iter: 283/889, loss_train: 6.0369, loss_val: nan, pos_over_neg: 572.6892700195312 lr: 0.00031623\n",
      "Iter: 284/889, loss_train: 6.0159, loss_val: nan, pos_over_neg: 343.184814453125 lr: 0.00031623\n",
      "Iter: 285/889, loss_train: 6.0411, loss_val: nan, pos_over_neg: 137.8662567138672 lr: 0.00031623\n",
      "Iter: 286/889, loss_train: 6.0511, loss_val: nan, pos_over_neg: 208.94766235351562 lr: 0.00031623\n",
      "Iter: 287/889, loss_train: 6.0384, loss_val: nan, pos_over_neg: 362.5743713378906 lr: 0.00031623\n",
      "Iter: 288/889, loss_train: 6.0473, loss_val: nan, pos_over_neg: 460.682861328125 lr: 0.00031623\n",
      "Iter: 289/889, loss_train: 6.0332, loss_val: nan, pos_over_neg: -5406.7041015625 lr: 0.00031623\n",
      "Iter: 290/889, loss_train: 6.0382, loss_val: nan, pos_over_neg: 1661.519775390625 lr: 0.00031623\n",
      "Iter: 291/889, loss_train: 6.0477, loss_val: nan, pos_over_neg: 808.9295043945312 lr: 0.00031623\n",
      "Iter: 292/889, loss_train: 6.0359, loss_val: nan, pos_over_neg: 251.299072265625 lr: 0.00031623\n",
      "Iter: 293/889, loss_train: 6.0427, loss_val: nan, pos_over_neg: 314.2055358886719 lr: 0.00031623\n",
      "Iter: 294/889, loss_train: 6.0469, loss_val: nan, pos_over_neg: 238.5451202392578 lr: 0.00031623\n",
      "Iter: 295/889, loss_train: 6.0356, loss_val: nan, pos_over_neg: 298.510009765625 lr: 0.00031623\n",
      "Iter: 296/889, loss_train: 6.0318, loss_val: nan, pos_over_neg: 332.7234191894531 lr: 0.00031623\n",
      "Iter: 297/889, loss_train: 6.0412, loss_val: nan, pos_over_neg: 2256.974853515625 lr: 0.00031623\n",
      "Iter: 298/889, loss_train: 6.0306, loss_val: nan, pos_over_neg: 421.6792907714844 lr: 0.00031623\n",
      "Iter: 299/889, loss_train: 6.0462, loss_val: nan, pos_over_neg: 562.04736328125 lr: 0.00031623\n",
      "Iter: 300/889, loss_train: 6.0493, loss_val: nan, pos_over_neg: 200.7292022705078 lr: 0.00031623\n",
      "Iter: 301/889, loss_train: 6.0159, loss_val: nan, pos_over_neg: 183.5385284423828 lr: 0.00031623\n",
      "Iter: 302/889, loss_train: 6.0512, loss_val: nan, pos_over_neg: 139.75416564941406 lr: 0.00031623\n",
      "Iter: 303/889, loss_train: 6.0267, loss_val: nan, pos_over_neg: 249.395263671875 lr: 0.00031623\n",
      "Iter: 304/889, loss_train: 6.0164, loss_val: nan, pos_over_neg: 750.8545532226562 lr: 0.00031623\n",
      "Iter: 305/889, loss_train: 6.0421, loss_val: nan, pos_over_neg: 348.6832275390625 lr: 0.00031623\n",
      "Iter: 306/889, loss_train: 6.0253, loss_val: nan, pos_over_neg: 1713.6400146484375 lr: 0.00031623\n",
      "Iter: 307/889, loss_train: 6.0403, loss_val: nan, pos_over_neg: 425.55230712890625 lr: 0.00031623\n",
      "Iter: 308/889, loss_train: 6.0484, loss_val: nan, pos_over_neg: 239.84854125976562 lr: 0.00031623\n",
      "Iter: 309/889, loss_train: 6.0451, loss_val: nan, pos_over_neg: 202.922119140625 lr: 0.00031623\n",
      "Iter: 310/889, loss_train: 6.0185, loss_val: nan, pos_over_neg: 1088.005859375 lr: 0.00031623\n",
      "Iter: 311/889, loss_train: 6.0367, loss_val: nan, pos_over_neg: 717.2081909179688 lr: 0.00031623\n",
      "Iter: 312/889, loss_train: 6.02, loss_val: nan, pos_over_neg: 2610.604248046875 lr: 0.00031623\n",
      "Iter: 313/889, loss_train: 5.9974, loss_val: nan, pos_over_neg: 423.4955139160156 lr: 0.00031623\n",
      "Iter: 314/889, loss_train: 6.0349, loss_val: nan, pos_over_neg: 406.9923095703125 lr: 0.00031623\n",
      "Iter: 315/889, loss_train: 6.0422, loss_val: nan, pos_over_neg: 330.0997314453125 lr: 0.00031623\n",
      "Iter: 316/889, loss_train: 6.026, loss_val: nan, pos_over_neg: 255.5793914794922 lr: 0.00031623\n",
      "Iter: 317/889, loss_train: 6.0155, loss_val: nan, pos_over_neg: 266.0823669433594 lr: 0.00031623\n",
      "Iter: 318/889, loss_train: 6.013, loss_val: nan, pos_over_neg: 536.6521606445312 lr: 0.00031623\n",
      "Iter: 319/889, loss_train: 6.0251, loss_val: nan, pos_over_neg: -17510.72265625 lr: 0.00031623\n",
      "Iter: 320/889, loss_train: 6.0414, loss_val: nan, pos_over_neg: 1538.0009765625 lr: 0.00031623\n",
      "Iter: 321/889, loss_train: 6.0099, loss_val: nan, pos_over_neg: 2605.526611328125 lr: 0.00031623\n",
      "Iter: 322/889, loss_train: 6.0343, loss_val: nan, pos_over_neg: 948.7951049804688 lr: 0.00031623\n",
      "Iter: 323/889, loss_train: 6.0277, loss_val: nan, pos_over_neg: 304.4674072265625 lr: 0.00031623\n",
      "Iter: 324/889, loss_train: 6.0295, loss_val: nan, pos_over_neg: 282.7124938964844 lr: 0.00031623\n",
      "Iter: 325/889, loss_train: 6.0125, loss_val: nan, pos_over_neg: 225.94476318359375 lr: 0.00031623\n",
      "Iter: 326/889, loss_train: 6.0041, loss_val: nan, pos_over_neg: 3702.162841796875 lr: 0.00031623\n",
      "Iter: 327/889, loss_train: 6.0303, loss_val: nan, pos_over_neg: 325.5401306152344 lr: 0.00031623\n",
      "Iter: 328/889, loss_train: 6.0305, loss_val: nan, pos_over_neg: 310.80108642578125 lr: 0.00031623\n",
      "Iter: 329/889, loss_train: 6.0444, loss_val: nan, pos_over_neg: 476.4184265136719 lr: 0.00031623\n",
      "Iter: 330/889, loss_train: 6.0144, loss_val: nan, pos_over_neg: 307.77667236328125 lr: 0.00031623\n",
      "Iter: 331/889, loss_train: 6.004, loss_val: nan, pos_over_neg: 263.8039855957031 lr: 0.00031623\n",
      "Iter: 332/889, loss_train: 6.0403, loss_val: nan, pos_over_neg: 262.9934387207031 lr: 0.00031623\n",
      "Iter: 333/889, loss_train: 6.0029, loss_val: nan, pos_over_neg: 463.28497314453125 lr: 0.00031623\n",
      "Iter: 334/889, loss_train: 6.0302, loss_val: nan, pos_over_neg: 401.8743591308594 lr: 0.00031623\n",
      "Iter: 335/889, loss_train: 6.0353, loss_val: nan, pos_over_neg: 234.64244079589844 lr: 0.00031623\n",
      "Iter: 336/889, loss_train: 6.028, loss_val: nan, pos_over_neg: 264.1387023925781 lr: 0.00031623\n",
      "Iter: 337/889, loss_train: 6.0232, loss_val: nan, pos_over_neg: 660.7567749023438 lr: 0.00031623\n",
      "Iter: 338/889, loss_train: 6.0325, loss_val: nan, pos_over_neg: 364.371337890625 lr: 0.00031623\n",
      "Iter: 339/889, loss_train: 6.0016, loss_val: nan, pos_over_neg: 824.596435546875 lr: 0.00031623\n",
      "Iter: 340/889, loss_train: 6.0407, loss_val: nan, pos_over_neg: 175.90689086914062 lr: 0.00031623\n",
      "Iter: 341/889, loss_train: 6.034, loss_val: nan, pos_over_neg: 734.5546264648438 lr: 0.00031623\n",
      "Iter: 342/889, loss_train: 6.0315, loss_val: nan, pos_over_neg: 629.5333251953125 lr: 0.00031623\n",
      "Iter: 343/889, loss_train: 5.9954, loss_val: nan, pos_over_neg: 850.3240966796875 lr: 0.00031623\n",
      "Iter: 344/889, loss_train: 6.0045, loss_val: nan, pos_over_neg: 1383.4215087890625 lr: 0.00031623\n",
      "Iter: 345/889, loss_train: 6.0152, loss_val: nan, pos_over_neg: 543.6287841796875 lr: 0.00031623\n",
      "Iter: 346/889, loss_train: 6.0244, loss_val: nan, pos_over_neg: 292.333984375 lr: 0.00031623\n",
      "Iter: 347/889, loss_train: 6.0074, loss_val: nan, pos_over_neg: 197.77818298339844 lr: 0.00031623\n",
      "Iter: 348/889, loss_train: 6.0271, loss_val: nan, pos_over_neg: 490.3291931152344 lr: 0.00031623\n",
      "Iter: 349/889, loss_train: 6.0062, loss_val: nan, pos_over_neg: 2648.751953125 lr: 0.00031623\n",
      "Iter: 350/889, loss_train: 6.0025, loss_val: nan, pos_over_neg: 550.0111083984375 lr: 0.00031623\n",
      "Iter: 351/889, loss_train: 6.0233, loss_val: nan, pos_over_neg: 668.4303588867188 lr: 0.00031623\n",
      "Iter: 352/889, loss_train: 6.0178, loss_val: nan, pos_over_neg: 1420.9293212890625 lr: 0.00031623\n",
      "Iter: 353/889, loss_train: 6.0189, loss_val: nan, pos_over_neg: 1780.7869873046875 lr: 0.00031623\n",
      "Iter: 354/889, loss_train: 6.0141, loss_val: nan, pos_over_neg: 576.0408935546875 lr: 0.00031623\n",
      "Iter: 355/889, loss_train: 5.9984, loss_val: nan, pos_over_neg: 333.4681701660156 lr: 0.00031623\n",
      "Iter: 356/889, loss_train: 5.989, loss_val: nan, pos_over_neg: 1367.8792724609375 lr: 0.00031623\n",
      "Iter: 357/889, loss_train: 6.0256, loss_val: nan, pos_over_neg: 287.0678405761719 lr: 0.00031623\n",
      "Iter: 358/889, loss_train: 6.0024, loss_val: nan, pos_over_neg: 1098.151611328125 lr: 0.00031623\n",
      "Iter: 359/889, loss_train: 6.0079, loss_val: nan, pos_over_neg: 527.3541870117188 lr: 0.00031623\n",
      "Iter: 360/889, loss_train: 6.0261, loss_val: nan, pos_over_neg: 2296.5322265625 lr: 0.00031623\n",
      "Iter: 361/889, loss_train: 6.0209, loss_val: nan, pos_over_neg: 569.3574829101562 lr: 0.00031623\n",
      "Iter: 362/889, loss_train: 6.021, loss_val: nan, pos_over_neg: 1283.038330078125 lr: 0.00031623\n",
      "Iter: 363/889, loss_train: 6.0161, loss_val: nan, pos_over_neg: 230.01858520507812 lr: 0.00031623\n",
      "Iter: 364/889, loss_train: 6.0049, loss_val: nan, pos_over_neg: 417.79486083984375 lr: 0.00031623\n",
      "Iter: 365/889, loss_train: 6.0383, loss_val: nan, pos_over_neg: 602.71630859375 lr: 0.00031623\n",
      "Iter: 366/889, loss_train: 6.0006, loss_val: nan, pos_over_neg: 1266.50537109375 lr: 0.00031623\n",
      "Iter: 367/889, loss_train: 5.9881, loss_val: nan, pos_over_neg: 677.104248046875 lr: 0.00031623\n",
      "Iter: 368/889, loss_train: 6.0062, loss_val: nan, pos_over_neg: 631.6318969726562 lr: 0.00031623\n",
      "Iter: 369/889, loss_train: 6.0053, loss_val: nan, pos_over_neg: 194.23731994628906 lr: 0.00031623\n",
      "Iter: 370/889, loss_train: 6.0257, loss_val: nan, pos_over_neg: 126.38853454589844 lr: 0.00031623\n",
      "Iter: 371/889, loss_train: 6.0124, loss_val: nan, pos_over_neg: 299.2698059082031 lr: 0.00031623\n",
      "Iter: 372/889, loss_train: 6.0339, loss_val: nan, pos_over_neg: -2675.741943359375 lr: 0.00031623\n",
      "Iter: 373/889, loss_train: 6.0095, loss_val: nan, pos_over_neg: 2942.415771484375 lr: 0.00031623\n",
      "Iter: 374/889, loss_train: 6.0028, loss_val: nan, pos_over_neg: 743.8992919921875 lr: 0.00031623\n",
      "Iter: 375/889, loss_train: 6.0237, loss_val: nan, pos_over_neg: 717.0974731445312 lr: 0.00031623\n",
      "Iter: 376/889, loss_train: 6.0047, loss_val: nan, pos_over_neg: 254.90487670898438 lr: 0.00031623\n",
      "Iter: 377/889, loss_train: 6.0131, loss_val: nan, pos_over_neg: 171.81838989257812 lr: 0.00031623\n",
      "Iter: 378/889, loss_train: 6.0287, loss_val: nan, pos_over_neg: 210.20828247070312 lr: 0.00031623\n",
      "Iter: 379/889, loss_train: 6.0045, loss_val: nan, pos_over_neg: 326.94256591796875 lr: 0.00031623\n",
      "Iter: 380/889, loss_train: 5.9983, loss_val: nan, pos_over_neg: 352.2470703125 lr: 0.00031623\n",
      "Iter: 381/889, loss_train: 5.9939, loss_val: nan, pos_over_neg: 1449.8052978515625 lr: 0.00031623\n",
      "Iter: 382/889, loss_train: 6.0144, loss_val: nan, pos_over_neg: 353.131103515625 lr: 0.00031623\n",
      "Iter: 383/889, loss_train: 6.0276, loss_val: nan, pos_over_neg: 901.6201782226562 lr: 0.00031623\n",
      "Iter: 384/889, loss_train: 6.009, loss_val: nan, pos_over_neg: 505.0825500488281 lr: 0.00031623\n",
      "Iter: 385/889, loss_train: 6.0269, loss_val: nan, pos_over_neg: 119.44227600097656 lr: 0.00031623\n",
      "Iter: 386/889, loss_train: 6.0052, loss_val: nan, pos_over_neg: 154.17788696289062 lr: 0.00031623\n",
      "Iter: 387/889, loss_train: 6.0264, loss_val: nan, pos_over_neg: 249.44752502441406 lr: 0.00031623\n",
      "Iter: 388/889, loss_train: 6.0186, loss_val: nan, pos_over_neg: 809.7978515625 lr: 0.00031623\n",
      "Iter: 389/889, loss_train: 6.0214, loss_val: nan, pos_over_neg: 2051.627685546875 lr: 0.00031623\n",
      "Iter: 390/889, loss_train: 6.0385, loss_val: nan, pos_over_neg: 555.631591796875 lr: 0.00031623\n",
      "Iter: 391/889, loss_train: 6.0129, loss_val: nan, pos_over_neg: 1447.7130126953125 lr: 0.00031623\n",
      "Iter: 392/889, loss_train: 6.0075, loss_val: nan, pos_over_neg: 468.21697998046875 lr: 0.00031623\n",
      "Iter: 393/889, loss_train: 6.011, loss_val: nan, pos_over_neg: 212.7982940673828 lr: 0.00031623\n",
      "Iter: 394/889, loss_train: 6.0308, loss_val: nan, pos_over_neg: 110.22721862792969 lr: 0.00031623\n",
      "Iter: 395/889, loss_train: 6.0076, loss_val: nan, pos_over_neg: 162.865478515625 lr: 0.00031623\n",
      "Iter: 396/889, loss_train: 6.0134, loss_val: nan, pos_over_neg: 348.755615234375 lr: 0.00031623\n",
      "Iter: 397/889, loss_train: 6.0316, loss_val: nan, pos_over_neg: 866.540771484375 lr: 0.00031623\n",
      "Iter: 398/889, loss_train: 6.003, loss_val: nan, pos_over_neg: 492.404296875 lr: 0.00031623\n",
      "Iter: 399/889, loss_train: 6.0032, loss_val: nan, pos_over_neg: 541.9801635742188 lr: 0.00031623\n",
      "Iter: 400/889, loss_train: 6.0177, loss_val: nan, pos_over_neg: 150.16270446777344 lr: 0.00031623\n",
      "Iter: 401/889, loss_train: 5.9985, loss_val: nan, pos_over_neg: 304.7993469238281 lr: 0.00031623\n",
      "Iter: 402/889, loss_train: 6.008, loss_val: nan, pos_over_neg: 202.5272674560547 lr: 0.00031623\n",
      "Iter: 403/889, loss_train: 6.0173, loss_val: nan, pos_over_neg: 288.7264404296875 lr: 0.00031623\n",
      "Iter: 404/889, loss_train: 6.0087, loss_val: nan, pos_over_neg: 783.4584350585938 lr: 0.00031623\n",
      "Iter: 405/889, loss_train: 6.026, loss_val: nan, pos_over_neg: 452.4351806640625 lr: 0.00031623\n",
      "Iter: 406/889, loss_train: 6.0208, loss_val: nan, pos_over_neg: 788.1705932617188 lr: 0.00031623\n",
      "Iter: 407/889, loss_train: 5.9959, loss_val: nan, pos_over_neg: 535.8552856445312 lr: 0.00031623\n",
      "Iter: 408/889, loss_train: 5.9873, loss_val: nan, pos_over_neg: 348.8756408691406 lr: 0.00031623\n",
      "Iter: 409/889, loss_train: 5.9991, loss_val: nan, pos_over_neg: 457.10784912109375 lr: 0.00031623\n",
      "Iter: 410/889, loss_train: 6.0097, loss_val: nan, pos_over_neg: 140.25148010253906 lr: 0.00031623\n",
      "Iter: 411/889, loss_train: 6.0238, loss_val: nan, pos_over_neg: 300.07666015625 lr: 0.00031623\n",
      "Iter: 412/889, loss_train: 5.9834, loss_val: nan, pos_over_neg: 687.7653198242188 lr: 0.00031623\n",
      "Iter: 413/889, loss_train: 6.0084, loss_val: nan, pos_over_neg: 742.4940185546875 lr: 0.00031623\n",
      "Iter: 414/889, loss_train: 5.9698, loss_val: nan, pos_over_neg: 582.76513671875 lr: 0.00031623\n",
      "Iter: 415/889, loss_train: 5.995, loss_val: nan, pos_over_neg: 924.9945068359375 lr: 0.00031623\n",
      "Iter: 416/889, loss_train: 6.0168, loss_val: nan, pos_over_neg: 635.1290283203125 lr: 0.00031623\n",
      "Iter: 417/889, loss_train: 6.0131, loss_val: nan, pos_over_neg: 259.8522644042969 lr: 0.00031623\n",
      "Iter: 418/889, loss_train: 6.0179, loss_val: nan, pos_over_neg: 303.0720520019531 lr: 0.00031623\n",
      "Iter: 419/889, loss_train: 6.0119, loss_val: nan, pos_over_neg: 241.08299255371094 lr: 0.00031623\n",
      "Iter: 420/889, loss_train: 5.9918, loss_val: nan, pos_over_neg: 2609.267822265625 lr: 0.00031623\n",
      "Iter: 421/889, loss_train: 5.9979, loss_val: nan, pos_over_neg: 2458.138671875 lr: 0.00031623\n",
      "Iter: 422/889, loss_train: 5.9881, loss_val: nan, pos_over_neg: 1404.26318359375 lr: 0.00031623\n",
      "Iter: 423/889, loss_train: 5.9844, loss_val: nan, pos_over_neg: 484.1462097167969 lr: 0.00031623\n",
      "Iter: 424/889, loss_train: 5.9817, loss_val: nan, pos_over_neg: 639.3779907226562 lr: 0.00031623\n",
      "Iter: 425/889, loss_train: 5.9844, loss_val: nan, pos_over_neg: 399.2692565917969 lr: 0.00031623\n",
      "Iter: 426/889, loss_train: 5.9951, loss_val: nan, pos_over_neg: 366.7940368652344 lr: 0.00031623\n",
      "Iter: 427/889, loss_train: 5.9964, loss_val: nan, pos_over_neg: 325.4020690917969 lr: 0.00031623\n",
      "Iter: 428/889, loss_train: 5.9768, loss_val: nan, pos_over_neg: 4981.40185546875 lr: 0.00031623\n",
      "Iter: 429/889, loss_train: 5.9969, loss_val: nan, pos_over_neg: 2033.0452880859375 lr: 0.00031623\n",
      "Iter: 430/889, loss_train: 5.9987, loss_val: nan, pos_over_neg: 6055.62646484375 lr: 0.00031623\n",
      "Iter: 431/889, loss_train: 5.9924, loss_val: nan, pos_over_neg: 416.8900146484375 lr: 0.00031623\n",
      "Iter: 432/889, loss_train: 5.9996, loss_val: nan, pos_over_neg: 754.4828491210938 lr: 0.00031623\n",
      "Iter: 433/889, loss_train: 5.9954, loss_val: nan, pos_over_neg: 387.2734069824219 lr: 0.00031623\n",
      "Iter: 434/889, loss_train: 5.9909, loss_val: nan, pos_over_neg: 456.023681640625 lr: 0.00031623\n",
      "Iter: 435/889, loss_train: 5.9952, loss_val: nan, pos_over_neg: 223.94259643554688 lr: 0.00031623\n",
      "Iter: 436/889, loss_train: 6.0089, loss_val: nan, pos_over_neg: 259.28082275390625 lr: 0.00031623\n",
      "Iter: 437/889, loss_train: 5.9988, loss_val: nan, pos_over_neg: 3554.64306640625 lr: 0.00031623\n",
      "Iter: 438/889, loss_train: 5.9857, loss_val: nan, pos_over_neg: 930.5309448242188 lr: 0.00031623\n",
      "Iter: 439/889, loss_train: 5.997, loss_val: nan, pos_over_neg: 1062.7816162109375 lr: 0.00031623\n",
      "Iter: 440/889, loss_train: 5.9846, loss_val: nan, pos_over_neg: 1371.844482421875 lr: 0.00031623\n",
      "Iter: 441/889, loss_train: 6.0202, loss_val: nan, pos_over_neg: 337.51214599609375 lr: 0.00031623\n",
      "Iter: 442/889, loss_train: 5.9983, loss_val: nan, pos_over_neg: 222.5097198486328 lr: 0.00031623\n",
      "Iter: 443/889, loss_train: 5.9983, loss_val: nan, pos_over_neg: 210.78636169433594 lr: 0.00031623\n",
      "Iter: 444/889, loss_train: 6.0119, loss_val: nan, pos_over_neg: 342.0547790527344 lr: 0.00031623\n",
      "Iter: 445/889, loss_train: 5.9928, loss_val: nan, pos_over_neg: 330.0772399902344 lr: 0.00031623\n",
      "Iter: 446/889, loss_train: 5.99, loss_val: nan, pos_over_neg: 1904.2625732421875 lr: 0.00031623\n",
      "Iter: 447/889, loss_train: 5.9894, loss_val: nan, pos_over_neg: 726.1651611328125 lr: 0.00031623\n",
      "Iter: 448/889, loss_train: 5.9863, loss_val: nan, pos_over_neg: 337.3924865722656 lr: 0.00031623\n",
      "Iter: 449/889, loss_train: 5.9661, loss_val: nan, pos_over_neg: 1045.682861328125 lr: 0.00031623\n",
      "Iter: 450/889, loss_train: 6.0032, loss_val: nan, pos_over_neg: 581.6473388671875 lr: 0.00031623\n",
      "Iter: 451/889, loss_train: 5.9964, loss_val: nan, pos_over_neg: 216.3961181640625 lr: 0.00031623\n",
      "Iter: 452/889, loss_train: 5.9924, loss_val: nan, pos_over_neg: 309.2660217285156 lr: 0.00031623\n",
      "Iter: 453/889, loss_train: 5.9708, loss_val: nan, pos_over_neg: 446.2805480957031 lr: 0.00031623\n",
      "Iter: 454/889, loss_train: 5.9785, loss_val: nan, pos_over_neg: 441.1813049316406 lr: 0.00031623\n",
      "Iter: 455/889, loss_train: 6.0125, loss_val: nan, pos_over_neg: 210.8646240234375 lr: 0.00031623\n",
      "Iter: 456/889, loss_train: 5.9825, loss_val: nan, pos_over_neg: 776.7752685546875 lr: 0.00031623\n",
      "Iter: 457/889, loss_train: 6.0143, loss_val: nan, pos_over_neg: 258.15533447265625 lr: 0.00031623\n",
      "Iter: 458/889, loss_train: 6.0081, loss_val: nan, pos_over_neg: 411.97845458984375 lr: 0.00031623\n",
      "Iter: 459/889, loss_train: 5.992, loss_val: nan, pos_over_neg: 205.8431854248047 lr: 0.00031623\n",
      "Iter: 460/889, loss_train: 5.998, loss_val: nan, pos_over_neg: 364.6636047363281 lr: 0.00031623\n",
      "Iter: 461/889, loss_train: 5.9931, loss_val: nan, pos_over_neg: 622.0582885742188 lr: 0.00031623\n",
      "Iter: 462/889, loss_train: 5.9845, loss_val: nan, pos_over_neg: 228.09947204589844 lr: 0.00031623\n",
      "Iter: 463/889, loss_train: 5.9941, loss_val: nan, pos_over_neg: 955.7363891601562 lr: 0.00031623\n",
      "Iter: 464/889, loss_train: 5.9978, loss_val: nan, pos_over_neg: 4910.35791015625 lr: 0.00031623\n",
      "Iter: 465/889, loss_train: 6.0018, loss_val: nan, pos_over_neg: 853.6832885742188 lr: 0.00031623\n",
      "Iter: 466/889, loss_train: 5.9787, loss_val: nan, pos_over_neg: 474.74884033203125 lr: 0.00031623\n",
      "Iter: 467/889, loss_train: 5.9881, loss_val: nan, pos_over_neg: 428.73687744140625 lr: 0.00031623\n",
      "Iter: 468/889, loss_train: 5.9752, loss_val: nan, pos_over_neg: 1508.2191162109375 lr: 0.00031623\n",
      "Iter: 469/889, loss_train: 6.012, loss_val: nan, pos_over_neg: 501.4278259277344 lr: 0.00031623\n",
      "Iter: 470/889, loss_train: 6.0074, loss_val: nan, pos_over_neg: 702.370361328125 lr: 0.00031623\n",
      "Iter: 471/889, loss_train: 5.9905, loss_val: nan, pos_over_neg: 566.3084716796875 lr: 0.00031623\n",
      "Iter: 472/889, loss_train: 5.9749, loss_val: nan, pos_over_neg: 512.3134155273438 lr: 0.00031623\n",
      "Iter: 473/889, loss_train: 5.9884, loss_val: nan, pos_over_neg: 475.42694091796875 lr: 0.00031623\n",
      "Iter: 474/889, loss_train: 5.9791, loss_val: nan, pos_over_neg: 458.7783508300781 lr: 0.00031623\n",
      "Iter: 475/889, loss_train: 5.9946, loss_val: nan, pos_over_neg: 366.9732971191406 lr: 0.00031623\n",
      "Iter: 476/889, loss_train: 6.0085, loss_val: nan, pos_over_neg: 544.922607421875 lr: 0.00031623\n",
      "Iter: 477/889, loss_train: 5.9837, loss_val: nan, pos_over_neg: 329.3006896972656 lr: 0.00031623\n",
      "Iter: 478/889, loss_train: 5.9756, loss_val: nan, pos_over_neg: 343.7438049316406 lr: 0.00031623\n",
      "Iter: 479/889, loss_train: 5.9853, loss_val: nan, pos_over_neg: 261.52691650390625 lr: 0.00031623\n",
      "Iter: 480/889, loss_train: 5.9924, loss_val: nan, pos_over_neg: 332.1285705566406 lr: 0.00031623\n",
      "Iter: 481/889, loss_train: 5.9707, loss_val: nan, pos_over_neg: 399.348388671875 lr: 0.00031623\n",
      "Iter: 482/889, loss_train: 5.9908, loss_val: nan, pos_over_neg: 669.4721069335938 lr: 0.00031623\n",
      "Iter: 483/889, loss_train: 6.0115, loss_val: nan, pos_over_neg: 450.01190185546875 lr: 0.00031623\n",
      "Iter: 484/889, loss_train: 6.0094, loss_val: nan, pos_over_neg: 264.3487854003906 lr: 0.00031623\n",
      "Iter: 485/889, loss_train: 5.9826, loss_val: nan, pos_over_neg: 273.2353820800781 lr: 0.00031623\n",
      "Iter: 486/889, loss_train: 5.9933, loss_val: nan, pos_over_neg: 441.5589904785156 lr: 0.00031623\n",
      "Iter: 487/889, loss_train: 5.9988, loss_val: nan, pos_over_neg: 533.7532958984375 lr: 0.00031623\n",
      "Iter: 488/889, loss_train: 5.9694, loss_val: nan, pos_over_neg: 303.0691223144531 lr: 0.00031623\n",
      "Iter: 489/889, loss_train: 5.9884, loss_val: nan, pos_over_neg: 197.36729431152344 lr: 0.00031623\n",
      "Iter: 490/889, loss_train: 5.9849, loss_val: nan, pos_over_neg: 289.8023986816406 lr: 0.00031623\n",
      "Iter: 491/889, loss_train: 5.9751, loss_val: nan, pos_over_neg: 1893.3836669921875 lr: 0.00031623\n",
      "Iter: 492/889, loss_train: 5.9972, loss_val: nan, pos_over_neg: 537.3340454101562 lr: 0.00031623\n",
      "Iter: 493/889, loss_train: 5.9831, loss_val: nan, pos_over_neg: 292.003662109375 lr: 0.00031623\n",
      "Iter: 494/889, loss_train: 5.9972, loss_val: nan, pos_over_neg: 555.7028198242188 lr: 0.00031623\n",
      "Iter: 495/889, loss_train: 6.013, loss_val: nan, pos_over_neg: 328.61346435546875 lr: 0.00031623\n",
      "Iter: 496/889, loss_train: 6.0029, loss_val: nan, pos_over_neg: 185.38438415527344 lr: 0.00031623\n",
      "Iter: 497/889, loss_train: 5.9826, loss_val: nan, pos_over_neg: 364.0512390136719 lr: 0.00031623\n",
      "Iter: 498/889, loss_train: 5.9638, loss_val: nan, pos_over_neg: 1631.6043701171875 lr: 0.00031623\n",
      "Iter: 499/889, loss_train: 5.9828, loss_val: nan, pos_over_neg: 911.6468505859375 lr: 0.00031623\n",
      "Iter: 500/889, loss_train: 5.9933, loss_val: nan, pos_over_neg: 27287.67578125 lr: 0.00031623\n",
      "Iter: 501/889, loss_train: 5.9894, loss_val: nan, pos_over_neg: 2510.309326171875 lr: 0.00031623\n",
      "Iter: 502/889, loss_train: 5.9841, loss_val: nan, pos_over_neg: -3624.9453125 lr: 0.00031623\n",
      "Iter: 503/889, loss_train: 5.9822, loss_val: nan, pos_over_neg: 335.00103759765625 lr: 0.00031623\n",
      "Iter: 504/889, loss_train: 5.9994, loss_val: nan, pos_over_neg: 180.3646697998047 lr: 0.00031623\n",
      "Iter: 505/889, loss_train: 5.9739, loss_val: nan, pos_over_neg: 610.9769287109375 lr: 0.00031623\n",
      "Iter: 506/889, loss_train: 5.9711, loss_val: nan, pos_over_neg: 433.873291015625 lr: 0.00031623\n",
      "Iter: 507/889, loss_train: 6.0011, loss_val: nan, pos_over_neg: 296.5339660644531 lr: 0.00031623\n",
      "Iter: 508/889, loss_train: 5.9983, loss_val: nan, pos_over_neg: 1824.940673828125 lr: 0.00031623\n",
      "Iter: 509/889, loss_train: 5.9983, loss_val: nan, pos_over_neg: 673.2130126953125 lr: 0.00031623\n",
      "Iter: 510/889, loss_train: 5.9781, loss_val: nan, pos_over_neg: 1658.387451171875 lr: 0.00031623\n",
      "Iter: 511/889, loss_train: 5.9857, loss_val: nan, pos_over_neg: 928.4471435546875 lr: 0.00031623\n",
      "Iter: 512/889, loss_train: 5.9637, loss_val: nan, pos_over_neg: 303.27349853515625 lr: 0.00031623\n",
      "Iter: 513/889, loss_train: 5.9658, loss_val: nan, pos_over_neg: 567.9112548828125 lr: 0.00031623\n",
      "Iter: 514/889, loss_train: 5.9844, loss_val: nan, pos_over_neg: 196.99053955078125 lr: 0.00031623\n",
      "Iter: 515/889, loss_train: 5.9571, loss_val: nan, pos_over_neg: 747.0789794921875 lr: 0.00031623\n",
      "Iter: 516/889, loss_train: 5.9812, loss_val: nan, pos_over_neg: 346.44366455078125 lr: 0.00031623\n",
      "Iter: 517/889, loss_train: 6.0017, loss_val: nan, pos_over_neg: 2954.9150390625 lr: 0.00031623\n",
      "Iter: 518/889, loss_train: 5.9738, loss_val: nan, pos_over_neg: 1188.111083984375 lr: 0.00031623\n",
      "Iter: 519/889, loss_train: 5.9839, loss_val: nan, pos_over_neg: 1311.12890625 lr: 0.00031623\n",
      "Iter: 520/889, loss_train: 5.9921, loss_val: nan, pos_over_neg: 355.8170166015625 lr: 0.00031623\n",
      "Iter: 521/889, loss_train: 5.9832, loss_val: nan, pos_over_neg: 141.0496826171875 lr: 0.00031623\n",
      "Iter: 522/889, loss_train: 5.9853, loss_val: nan, pos_over_neg: 243.82443237304688 lr: 0.00031623\n",
      "Iter: 523/889, loss_train: 5.9922, loss_val: nan, pos_over_neg: 588.7001342773438 lr: 0.00031623\n",
      "Iter: 524/889, loss_train: 5.9766, loss_val: nan, pos_over_neg: 868.017822265625 lr: 0.00031623\n",
      "Iter: 525/889, loss_train: 5.9736, loss_val: nan, pos_over_neg: 2634.92138671875 lr: 0.00031623\n",
      "Iter: 526/889, loss_train: 5.9885, loss_val: nan, pos_over_neg: 324.9642639160156 lr: 0.00031623\n",
      "Iter: 527/889, loss_train: 5.9558, loss_val: nan, pos_over_neg: 785.1195678710938 lr: 0.00031623\n",
      "Iter: 528/889, loss_train: 5.9851, loss_val: nan, pos_over_neg: 209.2281951904297 lr: 0.00031623\n",
      "Iter: 529/889, loss_train: 5.9511, loss_val: nan, pos_over_neg: 228.50389099121094 lr: 0.00031623\n",
      "Iter: 530/889, loss_train: 5.9768, loss_val: nan, pos_over_neg: 372.5640869140625 lr: 0.00031623\n",
      "Iter: 531/889, loss_train: 5.9939, loss_val: nan, pos_over_neg: 513.28515625 lr: 0.00031623\n",
      "Iter: 532/889, loss_train: 5.9736, loss_val: nan, pos_over_neg: 848.488037109375 lr: 0.00031623\n",
      "Iter: 533/889, loss_train: 5.977, loss_val: nan, pos_over_neg: -9711.42578125 lr: 0.00031623\n",
      "Iter: 534/889, loss_train: 5.9718, loss_val: nan, pos_over_neg: 1426.5048828125 lr: 0.00031623\n",
      "Iter: 535/889, loss_train: 5.9881, loss_val: nan, pos_over_neg: 746.3258666992188 lr: 0.00031623\n",
      "Iter: 536/889, loss_train: 5.9592, loss_val: nan, pos_over_neg: 489.2165222167969 lr: 0.00031623\n",
      "Iter: 537/889, loss_train: 5.9866, loss_val: nan, pos_over_neg: 178.40525817871094 lr: 0.00031623\n",
      "Iter: 538/889, loss_train: 5.9723, loss_val: nan, pos_over_neg: 268.8999328613281 lr: 0.00031623\n",
      "Iter: 539/889, loss_train: 5.9815, loss_val: nan, pos_over_neg: 505.87457275390625 lr: 0.00031623\n",
      "Iter: 540/889, loss_train: 5.972, loss_val: nan, pos_over_neg: 1147.2213134765625 lr: 0.00031623\n",
      "Iter: 541/889, loss_train: 5.9661, loss_val: nan, pos_over_neg: 826.0988159179688 lr: 0.00031623\n",
      "Iter: 542/889, loss_train: 5.9686, loss_val: nan, pos_over_neg: 1448.1021728515625 lr: 0.00031623\n",
      "Iter: 543/889, loss_train: 5.9628, loss_val: nan, pos_over_neg: 1361.262939453125 lr: 0.00031623\n",
      "Iter: 544/889, loss_train: 5.9758, loss_val: nan, pos_over_neg: 1960.646728515625 lr: 0.00031623\n",
      "Iter: 545/889, loss_train: 5.9554, loss_val: nan, pos_over_neg: 509.6680908203125 lr: 0.00031623\n",
      "Iter: 546/889, loss_train: 5.9756, loss_val: nan, pos_over_neg: 473.6911926269531 lr: 0.00031623\n",
      "Iter: 547/889, loss_train: 5.9738, loss_val: nan, pos_over_neg: 211.9881591796875 lr: 0.00031623\n",
      "Iter: 548/889, loss_train: 5.9526, loss_val: nan, pos_over_neg: 672.2615966796875 lr: 0.00031623\n",
      "Iter: 549/889, loss_train: 5.9772, loss_val: nan, pos_over_neg: -14315.3359375 lr: 0.00031623\n",
      "Iter: 550/889, loss_train: 6.0019, loss_val: nan, pos_over_neg: 398.5762939453125 lr: 0.00031623\n",
      "Iter: 551/889, loss_train: 5.981, loss_val: nan, pos_over_neg: 370.3598937988281 lr: 0.00031623\n",
      "Iter: 552/889, loss_train: 5.9819, loss_val: nan, pos_over_neg: 306.5924072265625 lr: 0.00031623\n",
      "Iter: 553/889, loss_train: 5.9803, loss_val: nan, pos_over_neg: 420.14599609375 lr: 0.00031623\n",
      "Iter: 554/889, loss_train: 5.9742, loss_val: nan, pos_over_neg: 4016.10888671875 lr: 0.00031623\n",
      "Iter: 555/889, loss_train: 5.976, loss_val: nan, pos_over_neg: 305.87335205078125 lr: 0.00031623\n",
      "Iter: 556/889, loss_train: 5.9725, loss_val: nan, pos_over_neg: 334.7818298339844 lr: 0.00031623\n",
      "Iter: 557/889, loss_train: 5.9788, loss_val: nan, pos_over_neg: 698.751953125 lr: 0.00031623\n",
      "Iter: 558/889, loss_train: 5.9749, loss_val: nan, pos_over_neg: 257.2479553222656 lr: 0.00031623\n",
      "Iter: 559/889, loss_train: 5.9779, loss_val: nan, pos_over_neg: 245.78921508789062 lr: 0.00031623\n",
      "Iter: 560/889, loss_train: 5.973, loss_val: nan, pos_over_neg: 378.21002197265625 lr: 0.00031623\n",
      "Iter: 561/889, loss_train: 5.9984, loss_val: nan, pos_over_neg: 286.1874084472656 lr: 0.00031623\n",
      "Iter: 562/889, loss_train: 5.9756, loss_val: nan, pos_over_neg: 536.7828369140625 lr: 0.00031623\n",
      "Iter: 563/889, loss_train: 5.9758, loss_val: nan, pos_over_neg: 294.1189880371094 lr: 0.00031623\n",
      "Iter: 564/889, loss_train: 5.9633, loss_val: nan, pos_over_neg: 3187.660400390625 lr: 0.00031623\n",
      "Iter: 565/889, loss_train: 5.956, loss_val: nan, pos_over_neg: 958.70849609375 lr: 0.00031623\n",
      "Iter: 566/889, loss_train: 5.9843, loss_val: nan, pos_over_neg: 725.524169921875 lr: 0.00031623\n",
      "Iter: 567/889, loss_train: 5.9847, loss_val: nan, pos_over_neg: 233.95433044433594 lr: 0.00031623\n",
      "Iter: 568/889, loss_train: 5.9769, loss_val: nan, pos_over_neg: 196.53610229492188 lr: 0.00031623\n",
      "Iter: 569/889, loss_train: 5.9869, loss_val: nan, pos_over_neg: 395.5359802246094 lr: 0.00031623\n",
      "Iter: 570/889, loss_train: 5.9772, loss_val: nan, pos_over_neg: 648.5795288085938 lr: 0.00031623\n",
      "Iter: 571/889, loss_train: 5.9899, loss_val: nan, pos_over_neg: 1624.5760498046875 lr: 0.00031623\n",
      "Iter: 572/889, loss_train: 5.969, loss_val: nan, pos_over_neg: 875.0302124023438 lr: 0.00031623\n",
      "Iter: 573/889, loss_train: 5.9799, loss_val: nan, pos_over_neg: -32054.265625 lr: 0.00031623\n",
      "Iter: 574/889, loss_train: 5.9492, loss_val: nan, pos_over_neg: 1028.510498046875 lr: 0.00031623\n",
      "Iter: 575/889, loss_train: 5.9717, loss_val: nan, pos_over_neg: 222.69606018066406 lr: 0.00031623\n",
      "Iter: 576/889, loss_train: 5.9839, loss_val: nan, pos_over_neg: 191.39210510253906 lr: 0.00031623\n",
      "Iter: 577/889, loss_train: 5.9843, loss_val: nan, pos_over_neg: 413.8588562011719 lr: 0.00031623\n",
      "Iter: 578/889, loss_train: 5.9561, loss_val: nan, pos_over_neg: 1313.13134765625 lr: 0.00031623\n",
      "Iter: 579/889, loss_train: 5.9716, loss_val: nan, pos_over_neg: 3854.513671875 lr: 0.00031623\n",
      "Iter: 580/889, loss_train: 5.9577, loss_val: nan, pos_over_neg: 3896.53076171875 lr: 0.00031623\n",
      "Iter: 581/889, loss_train: 5.9877, loss_val: nan, pos_over_neg: 342.9325256347656 lr: 0.00031623\n",
      "Iter: 582/889, loss_train: 5.9803, loss_val: nan, pos_over_neg: 631.974853515625 lr: 0.00031623\n",
      "Iter: 583/889, loss_train: 5.9504, loss_val: nan, pos_over_neg: 543.4007568359375 lr: 0.00031623\n",
      "Iter: 584/889, loss_train: 5.9816, loss_val: nan, pos_over_neg: 248.52639770507812 lr: 0.00031623\n",
      "Iter: 585/889, loss_train: 5.9637, loss_val: nan, pos_over_neg: 408.4450988769531 lr: 0.00031623\n",
      "Iter: 586/889, loss_train: 5.9954, loss_val: nan, pos_over_neg: 449.8481750488281 lr: 0.00031623\n",
      "Iter: 587/889, loss_train: 5.9754, loss_val: nan, pos_over_neg: 1422.9212646484375 lr: 0.00031623\n",
      "Iter: 588/889, loss_train: 5.9878, loss_val: nan, pos_over_neg: 794.1521606445312 lr: 0.00031623\n",
      "Iter: 589/889, loss_train: 5.9624, loss_val: nan, pos_over_neg: 606.2186889648438 lr: 0.00031623\n",
      "Iter: 590/889, loss_train: 5.9358, loss_val: nan, pos_over_neg: 354.6705017089844 lr: 0.00031623\n",
      "Iter: 591/889, loss_train: 5.9624, loss_val: nan, pos_over_neg: 229.8301544189453 lr: 0.00031623\n",
      "Iter: 592/889, loss_train: 5.9695, loss_val: nan, pos_over_neg: 156.2989044189453 lr: 0.00031623\n",
      "Iter: 593/889, loss_train: 5.9707, loss_val: nan, pos_over_neg: 449.3573913574219 lr: 0.00031623\n",
      "Iter: 594/889, loss_train: 5.944, loss_val: nan, pos_over_neg: 3996.75439453125 lr: 0.00031623\n",
      "Iter: 595/889, loss_train: 5.9355, loss_val: nan, pos_over_neg: 678.0845336914062 lr: 0.00031623\n",
      "Iter: 596/889, loss_train: 5.9544, loss_val: nan, pos_over_neg: 1417.15576171875 lr: 0.00031623\n",
      "Iter: 597/889, loss_train: 5.9677, loss_val: nan, pos_over_neg: 222.07052612304688 lr: 0.00031623\n",
      "Iter: 598/889, loss_train: 5.9597, loss_val: nan, pos_over_neg: 603.0778198242188 lr: 0.00031623\n",
      "Iter: 599/889, loss_train: 5.9616, loss_val: nan, pos_over_neg: 265.3634948730469 lr: 0.00031623\n",
      "Iter: 600/889, loss_train: 5.9824, loss_val: nan, pos_over_neg: 347.11431884765625 lr: 0.00031623\n",
      "Iter: 601/889, loss_train: 5.984, loss_val: nan, pos_over_neg: 370.1916809082031 lr: 0.00031623\n",
      "Iter: 602/889, loss_train: 5.9763, loss_val: nan, pos_over_neg: 576.8291015625 lr: 0.00031623\n",
      "Iter: 603/889, loss_train: 5.9403, loss_val: nan, pos_over_neg: -3547.289306640625 lr: 0.00031623\n",
      "Iter: 604/889, loss_train: 5.9751, loss_val: nan, pos_over_neg: 485.4084167480469 lr: 0.00031623\n",
      "Iter: 605/889, loss_train: 5.9615, loss_val: nan, pos_over_neg: 320.4238586425781 lr: 0.00031623\n",
      "Iter: 606/889, loss_train: 5.9596, loss_val: nan, pos_over_neg: 634.4950561523438 lr: 0.00031623\n",
      "Iter: 607/889, loss_train: 5.9431, loss_val: nan, pos_over_neg: 519.5990600585938 lr: 0.00031623\n",
      "Iter: 608/889, loss_train: 5.9455, loss_val: nan, pos_over_neg: 465.63885498046875 lr: 0.00031623\n",
      "Iter: 609/889, loss_train: 5.9646, loss_val: nan, pos_over_neg: 833.5431518554688 lr: 0.00031623\n",
      "Iter: 610/889, loss_train: 5.9486, loss_val: nan, pos_over_neg: 985.4978637695312 lr: 0.00031623\n",
      "Iter: 611/889, loss_train: 5.9747, loss_val: nan, pos_over_neg: 898.3540649414062 lr: 0.00031623\n",
      "Iter: 612/889, loss_train: 5.9773, loss_val: nan, pos_over_neg: 404.51165771484375 lr: 0.00031623\n",
      "Iter: 613/889, loss_train: 5.9398, loss_val: nan, pos_over_neg: 441.4505920410156 lr: 0.00031623\n",
      "Iter: 614/889, loss_train: 5.9564, loss_val: nan, pos_over_neg: 577.0260620117188 lr: 0.00031623\n",
      "Iter: 615/889, loss_train: 5.987, loss_val: nan, pos_over_neg: 254.43324279785156 lr: 0.00031623\n",
      "Iter: 616/889, loss_train: 5.9922, loss_val: nan, pos_over_neg: 182.5548553466797 lr: 0.00031623\n",
      "Iter: 617/889, loss_train: 5.9605, loss_val: nan, pos_over_neg: 320.8453674316406 lr: 0.00031623\n",
      "Iter: 618/889, loss_train: 5.9583, loss_val: nan, pos_over_neg: 630.9618530273438 lr: 0.00031623\n",
      "Iter: 619/889, loss_train: 5.9659, loss_val: nan, pos_over_neg: 316.8423767089844 lr: 0.00031623\n",
      "Iter: 620/889, loss_train: 5.9913, loss_val: nan, pos_over_neg: 2148.609130859375 lr: 0.00031623\n",
      "Iter: 621/889, loss_train: 5.947, loss_val: nan, pos_over_neg: 971.89453125 lr: 0.00031623\n",
      "Iter: 622/889, loss_train: 5.9733, loss_val: nan, pos_over_neg: 424.2788391113281 lr: 0.00031623\n",
      "Iter: 623/889, loss_train: 5.9661, loss_val: nan, pos_over_neg: 708.4546508789062 lr: 0.00031623\n",
      "Iter: 624/889, loss_train: 5.9583, loss_val: nan, pos_over_neg: 615.819091796875 lr: 0.00031623\n",
      "Iter: 625/889, loss_train: 5.9684, loss_val: nan, pos_over_neg: 362.97283935546875 lr: 0.00031623\n",
      "Iter: 626/889, loss_train: 5.9563, loss_val: nan, pos_over_neg: 620.5018310546875 lr: 0.00031623\n",
      "Iter: 627/889, loss_train: 5.9725, loss_val: nan, pos_over_neg: 399.40789794921875 lr: 0.00031623\n",
      "Iter: 628/889, loss_train: 5.9577, loss_val: nan, pos_over_neg: 2310.072998046875 lr: 0.00031623\n",
      "Iter: 629/889, loss_train: 5.974, loss_val: nan, pos_over_neg: 3406.220947265625 lr: 0.00031623\n",
      "Iter: 630/889, loss_train: 5.9452, loss_val: nan, pos_over_neg: 1450.5042724609375 lr: 0.00031623\n",
      "Iter: 631/889, loss_train: 5.9649, loss_val: nan, pos_over_neg: 1022.3977661132812 lr: 0.00031623\n",
      "Iter: 632/889, loss_train: 5.9622, loss_val: nan, pos_over_neg: 313.35498046875 lr: 0.00031623\n",
      "Iter: 633/889, loss_train: 5.9919, loss_val: nan, pos_over_neg: 201.4144287109375 lr: 0.00031623\n",
      "Iter: 634/889, loss_train: 5.9743, loss_val: nan, pos_over_neg: 665.330810546875 lr: 0.00031623\n",
      "Iter: 635/889, loss_train: 5.9551, loss_val: nan, pos_over_neg: 593.214599609375 lr: 0.00031623\n",
      "Iter: 636/889, loss_train: 5.9476, loss_val: nan, pos_over_neg: 637.4708862304688 lr: 0.00031623\n",
      "Iter: 637/889, loss_train: 5.9647, loss_val: nan, pos_over_neg: 1710.826416015625 lr: 0.00031623\n",
      "Iter: 638/889, loss_train: 5.967, loss_val: nan, pos_over_neg: 2650.199462890625 lr: 0.00031623\n",
      "Iter: 639/889, loss_train: 5.9584, loss_val: nan, pos_over_neg: 777.09375 lr: 0.00031623\n",
      "Iter: 640/889, loss_train: 5.9345, loss_val: nan, pos_over_neg: 1241.6331787109375 lr: 0.00031623\n",
      "Iter: 641/889, loss_train: 5.9698, loss_val: nan, pos_over_neg: 760.531005859375 lr: 0.00031623\n",
      "Iter: 642/889, loss_train: 5.9749, loss_val: nan, pos_over_neg: 306.3925476074219 lr: 0.00031623\n",
      "Iter: 643/889, loss_train: 5.971, loss_val: nan, pos_over_neg: 320.2483825683594 lr: 0.00031623\n",
      "Iter: 644/889, loss_train: 5.9354, loss_val: nan, pos_over_neg: 329.2418518066406 lr: 0.00031623\n",
      "Iter: 645/889, loss_train: 5.9413, loss_val: nan, pos_over_neg: 364.5213928222656 lr: 0.00031623\n",
      "Iter: 646/889, loss_train: 5.9581, loss_val: nan, pos_over_neg: 397.1905212402344 lr: 0.00031623\n",
      "Iter: 647/889, loss_train: 5.9494, loss_val: nan, pos_over_neg: 1041.8492431640625 lr: 0.00031623\n",
      "Iter: 648/889, loss_train: 5.9729, loss_val: nan, pos_over_neg: 503.7575378417969 lr: 0.00031623\n",
      "Iter: 649/889, loss_train: 5.9666, loss_val: nan, pos_over_neg: 172.5717315673828 lr: 0.00031623\n",
      "Iter: 650/889, loss_train: 5.9496, loss_val: nan, pos_over_neg: 767.2417602539062 lr: 0.00031623\n",
      "Iter: 651/889, loss_train: 5.9365, loss_val: nan, pos_over_neg: 1145.9832763671875 lr: 0.00031623\n",
      "Iter: 652/889, loss_train: 5.9699, loss_val: nan, pos_over_neg: 350.16802978515625 lr: 0.00031623\n",
      "Iter: 653/889, loss_train: 5.9604, loss_val: nan, pos_over_neg: 466.8750305175781 lr: 0.00031623\n",
      "Iter: 654/889, loss_train: 5.958, loss_val: nan, pos_over_neg: 287.72735595703125 lr: 0.00031623\n",
      "Iter: 655/889, loss_train: 5.9587, loss_val: nan, pos_over_neg: 860.3345947265625 lr: 0.00031623\n",
      "Iter: 656/889, loss_train: 5.9588, loss_val: nan, pos_over_neg: 2023.935546875 lr: 0.00031623\n",
      "Iter: 657/889, loss_train: 5.975, loss_val: nan, pos_over_neg: 472.71099853515625 lr: 0.00031623\n",
      "Iter: 658/889, loss_train: 5.9501, loss_val: nan, pos_over_neg: 457.0325012207031 lr: 0.00031623\n",
      "Iter: 659/889, loss_train: 5.9362, loss_val: nan, pos_over_neg: 508.1440124511719 lr: 0.00031623\n",
      "Iter: 660/889, loss_train: 5.9634, loss_val: nan, pos_over_neg: 255.64297485351562 lr: 0.00031623\n",
      "Iter: 661/889, loss_train: 5.968, loss_val: nan, pos_over_neg: 329.9924011230469 lr: 0.00031623\n",
      "Iter: 662/889, loss_train: 5.9542, loss_val: nan, pos_over_neg: 266.3347473144531 lr: 0.00031623\n",
      "Iter: 663/889, loss_train: 5.9636, loss_val: nan, pos_over_neg: 251.2538299560547 lr: 0.00031623\n",
      "Iter: 664/889, loss_train: 5.9784, loss_val: nan, pos_over_neg: 427.4071044921875 lr: 0.00031623\n",
      "Iter: 665/889, loss_train: 5.9859, loss_val: nan, pos_over_neg: 801.3709716796875 lr: 0.00031623\n",
      "Iter: 666/889, loss_train: 5.9619, loss_val: nan, pos_over_neg: 509.20819091796875 lr: 0.00031623\n",
      "Iter: 667/889, loss_train: 5.9865, loss_val: nan, pos_over_neg: 332.13201904296875 lr: 0.00031623\n",
      "Iter: 668/889, loss_train: 5.9719, loss_val: nan, pos_over_neg: 357.98358154296875 lr: 0.00031623\n",
      "Iter: 669/889, loss_train: 5.9526, loss_val: nan, pos_over_neg: 263.75421142578125 lr: 0.00031623\n",
      "Iter: 670/889, loss_train: 5.965, loss_val: nan, pos_over_neg: 196.659912109375 lr: 0.00031623\n",
      "Iter: 671/889, loss_train: 5.9585, loss_val: nan, pos_over_neg: 571.0667724609375 lr: 0.00031623\n",
      "Iter: 672/889, loss_train: 5.9468, loss_val: nan, pos_over_neg: 722.080322265625 lr: 0.00031623\n",
      "Iter: 673/889, loss_train: 5.9482, loss_val: nan, pos_over_neg: 412.7255554199219 lr: 0.00031623\n",
      "Iter: 674/889, loss_train: 5.9492, loss_val: nan, pos_over_neg: -73472.7265625 lr: 0.00031623\n",
      "Iter: 675/889, loss_train: 5.9608, loss_val: nan, pos_over_neg: 1812.963623046875 lr: 0.00031623\n",
      "Iter: 676/889, loss_train: 5.9417, loss_val: nan, pos_over_neg: 707.7296752929688 lr: 0.00031623\n",
      "Iter: 677/889, loss_train: 5.9547, loss_val: nan, pos_over_neg: 515.2927856445312 lr: 0.00031623\n",
      "Iter: 678/889, loss_train: 5.9543, loss_val: nan, pos_over_neg: 464.07476806640625 lr: 0.00031623\n",
      "Iter: 679/889, loss_train: 5.9492, loss_val: nan, pos_over_neg: 344.91754150390625 lr: 0.00031623\n",
      "Iter: 680/889, loss_train: 5.9594, loss_val: nan, pos_over_neg: 363.43267822265625 lr: 0.00031623\n",
      "Iter: 681/889, loss_train: 5.9707, loss_val: nan, pos_over_neg: 403.4909973144531 lr: 0.00031623\n",
      "Iter: 682/889, loss_train: 5.9435, loss_val: nan, pos_over_neg: 424.0624084472656 lr: 0.00031623\n",
      "Iter: 683/889, loss_train: 5.9624, loss_val: nan, pos_over_neg: 40080.60546875 lr: 0.00031623\n",
      "Iter: 684/889, loss_train: 5.9556, loss_val: nan, pos_over_neg: 2189.838623046875 lr: 0.00031623\n",
      "Iter: 685/889, loss_train: 5.9517, loss_val: nan, pos_over_neg: 1710.2567138671875 lr: 0.00031623\n",
      "Iter: 686/889, loss_train: 5.9503, loss_val: nan, pos_over_neg: 625.9295043945312 lr: 0.00031623\n",
      "Iter: 687/889, loss_train: 5.9515, loss_val: nan, pos_over_neg: 564.5918579101562 lr: 0.00031623\n",
      "Iter: 688/889, loss_train: 5.9475, loss_val: nan, pos_over_neg: 477.0509338378906 lr: 0.00031623\n",
      "Iter: 689/889, loss_train: 5.9501, loss_val: nan, pos_over_neg: 257.14959716796875 lr: 0.00031623\n",
      "Iter: 690/889, loss_train: 5.9669, loss_val: nan, pos_over_neg: 528.7546997070312 lr: 0.00031623\n",
      "Iter: 691/889, loss_train: 5.9806, loss_val: nan, pos_over_neg: 574.2048950195312 lr: 0.00031623\n",
      "Iter: 692/889, loss_train: 5.9459, loss_val: nan, pos_over_neg: 1559.72705078125 lr: 0.00031623\n",
      "Iter: 693/889, loss_train: 5.9449, loss_val: nan, pos_over_neg: 507.4721984863281 lr: 0.00031623\n",
      "Iter: 694/889, loss_train: 5.9592, loss_val: nan, pos_over_neg: 417.0815734863281 lr: 0.00031623\n",
      "Iter: 695/889, loss_train: 5.9379, loss_val: nan, pos_over_neg: 394.46917724609375 lr: 0.00031623\n",
      "Iter: 696/889, loss_train: 5.9469, loss_val: nan, pos_over_neg: 2654.621337890625 lr: 0.00031623\n",
      "Iter: 697/889, loss_train: 5.9477, loss_val: nan, pos_over_neg: 2310.497802734375 lr: 0.00031623\n",
      "Iter: 698/889, loss_train: 5.9361, loss_val: nan, pos_over_neg: 12143.54296875 lr: 0.00031623\n",
      "Iter: 699/889, loss_train: 5.953, loss_val: nan, pos_over_neg: 1002.6043090820312 lr: 0.00031623\n",
      "Iter: 700/889, loss_train: 5.9486, loss_val: nan, pos_over_neg: 4368.833984375 lr: 0.00031623\n",
      "Iter: 701/889, loss_train: 5.9617, loss_val: nan, pos_over_neg: 290.7593994140625 lr: 0.00031623\n",
      "Iter: 702/889, loss_train: 5.9617, loss_val: nan, pos_over_neg: 495.2429504394531 lr: 0.00031623\n",
      "Iter: 703/889, loss_train: 5.9354, loss_val: nan, pos_over_neg: 561.4925537109375 lr: 0.00031623\n",
      "Iter: 704/889, loss_train: 5.9686, loss_val: nan, pos_over_neg: 543.8638305664062 lr: 0.00031623\n",
      "Iter: 705/889, loss_train: 5.9581, loss_val: nan, pos_over_neg: 580.509521484375 lr: 0.00031623\n",
      "Iter: 706/889, loss_train: 5.9644, loss_val: nan, pos_over_neg: 563.949462890625 lr: 0.00031623\n",
      "Iter: 707/889, loss_train: 5.9521, loss_val: nan, pos_over_neg: 3723.449951171875 lr: 0.00031623\n",
      "Iter: 708/889, loss_train: 5.948, loss_val: nan, pos_over_neg: 1515.534912109375 lr: 0.00031623\n",
      "Iter: 709/889, loss_train: 5.9606, loss_val: nan, pos_over_neg: 364.584716796875 lr: 0.00031623\n",
      "Iter: 710/889, loss_train: 5.9597, loss_val: nan, pos_over_neg: 487.6386413574219 lr: 0.00031623\n",
      "Iter: 711/889, loss_train: 5.9733, loss_val: nan, pos_over_neg: 249.94363403320312 lr: 0.00031623\n",
      "Iter: 712/889, loss_train: 5.9314, loss_val: nan, pos_over_neg: 1337.097412109375 lr: 0.00031623\n",
      "Iter: 713/889, loss_train: 5.9382, loss_val: nan, pos_over_neg: 1964.9063720703125 lr: 0.00031623\n",
      "Iter: 714/889, loss_train: 5.9474, loss_val: nan, pos_over_neg: 1135.0655517578125 lr: 0.00031623\n",
      "Iter: 715/889, loss_train: 5.961, loss_val: nan, pos_over_neg: 1501.4339599609375 lr: 0.00031623\n",
      "Iter: 716/889, loss_train: 5.9655, loss_val: nan, pos_over_neg: 880.9076538085938 lr: 0.00031623\n",
      "Iter: 717/889, loss_train: 5.9472, loss_val: nan, pos_over_neg: 339.7194519042969 lr: 0.00031623\n",
      "Iter: 718/889, loss_train: 5.9809, loss_val: nan, pos_over_neg: 318.3359375 lr: 0.00031623\n",
      "Iter: 719/889, loss_train: 5.9441, loss_val: nan, pos_over_neg: 620.979736328125 lr: 0.00031623\n",
      "Iter: 720/889, loss_train: 5.9441, loss_val: nan, pos_over_neg: 1476.41748046875 lr: 0.00031623\n",
      "Iter: 721/889, loss_train: 5.9455, loss_val: nan, pos_over_neg: 8080.62353515625 lr: 0.00031623\n",
      "Iter: 722/889, loss_train: 5.9441, loss_val: nan, pos_over_neg: 1189.607421875 lr: 0.00031623\n",
      "Iter: 723/889, loss_train: 5.9503, loss_val: nan, pos_over_neg: -96353.1796875 lr: 0.00031623\n",
      "Iter: 724/889, loss_train: 5.9626, loss_val: nan, pos_over_neg: 5356.9345703125 lr: 0.00031623\n",
      "Iter: 725/889, loss_train: 5.9851, loss_val: nan, pos_over_neg: 207.588623046875 lr: 0.00031623\n",
      "Iter: 726/889, loss_train: 5.9666, loss_val: nan, pos_over_neg: 185.9300994873047 lr: 0.00031623\n",
      "Iter: 727/889, loss_train: 5.9357, loss_val: nan, pos_over_neg: 548.4971923828125 lr: 0.00031623\n",
      "Iter: 728/889, loss_train: 5.9397, loss_val: nan, pos_over_neg: 628.1309204101562 lr: 0.00031623\n",
      "Iter: 729/889, loss_train: 5.961, loss_val: nan, pos_over_neg: 437.188720703125 lr: 0.00031623\n",
      "Iter: 730/889, loss_train: 5.9511, loss_val: nan, pos_over_neg: 1012.8915405273438 lr: 0.00031623\n",
      "Iter: 731/889, loss_train: 5.9385, loss_val: nan, pos_over_neg: 1508.66943359375 lr: 0.00031623\n",
      "Iter: 732/889, loss_train: 5.9682, loss_val: nan, pos_over_neg: 707.5682373046875 lr: 0.00031623\n",
      "Iter: 733/889, loss_train: 5.9514, loss_val: nan, pos_over_neg: 2308.309814453125 lr: 0.00031623\n",
      "Iter: 734/889, loss_train: 5.9552, loss_val: nan, pos_over_neg: 646.00927734375 lr: 0.00031623\n",
      "Iter: 735/889, loss_train: 5.9484, loss_val: nan, pos_over_neg: 264.76849365234375 lr: 0.00031623\n",
      "Iter: 736/889, loss_train: 5.9734, loss_val: nan, pos_over_neg: 225.53656005859375 lr: 0.00031623\n",
      "Iter: 737/889, loss_train: 5.9534, loss_val: nan, pos_over_neg: 336.7052917480469 lr: 0.00031623\n",
      "Iter: 738/889, loss_train: 5.9545, loss_val: nan, pos_over_neg: 451.4533386230469 lr: 0.00031623\n",
      "Iter: 739/889, loss_train: 5.9529, loss_val: nan, pos_over_neg: 1289.8048095703125 lr: 0.00031623\n",
      "Iter: 740/889, loss_train: 5.9826, loss_val: nan, pos_over_neg: 391.23565673828125 lr: 0.00031623\n",
      "Iter: 741/889, loss_train: 5.9428, loss_val: nan, pos_over_neg: 755.0454711914062 lr: 0.00031623\n",
      "Iter: 742/889, loss_train: 5.9838, loss_val: nan, pos_over_neg: 214.05239868164062 lr: 0.00031623\n",
      "Iter: 743/889, loss_train: 5.9376, loss_val: nan, pos_over_neg: 233.96868896484375 lr: 0.00031623\n",
      "Iter: 744/889, loss_train: 5.9555, loss_val: nan, pos_over_neg: 281.789794921875 lr: 0.00031623\n",
      "Iter: 745/889, loss_train: 5.9342, loss_val: nan, pos_over_neg: 351.9046630859375 lr: 0.00031623\n",
      "Iter: 746/889, loss_train: 5.945, loss_val: nan, pos_over_neg: 444.179931640625 lr: 0.00031623\n",
      "Iter: 747/889, loss_train: 5.9407, loss_val: nan, pos_over_neg: 735.59423828125 lr: 0.00031623\n",
      "Iter: 748/889, loss_train: 5.9547, loss_val: nan, pos_over_neg: 246.84422302246094 lr: 0.00031623\n",
      "Iter: 749/889, loss_train: 5.9492, loss_val: nan, pos_over_neg: 442.0066833496094 lr: 0.00031623\n",
      "Iter: 750/889, loss_train: 5.9337, loss_val: nan, pos_over_neg: 600.1708374023438 lr: 0.00031623\n",
      "Iter: 751/889, loss_train: 5.9505, loss_val: nan, pos_over_neg: 269.0769348144531 lr: 0.00031623\n",
      "Iter: 752/889, loss_train: 5.945, loss_val: nan, pos_over_neg: 387.5591735839844 lr: 0.00031623\n",
      "Iter: 753/889, loss_train: 5.9487, loss_val: nan, pos_over_neg: 639.8821411132812 lr: 0.00031623\n",
      "Iter: 754/889, loss_train: 5.9511, loss_val: nan, pos_over_neg: 557.4862670898438 lr: 0.00031623\n",
      "Iter: 755/889, loss_train: 5.949, loss_val: nan, pos_over_neg: 620.270263671875 lr: 0.00031623\n",
      "Iter: 756/889, loss_train: 5.9595, loss_val: nan, pos_over_neg: -12579.5341796875 lr: 0.00031623\n",
      "Iter: 757/889, loss_train: 5.9239, loss_val: nan, pos_over_neg: 3054.812255859375 lr: 0.00031623\n",
      "Iter: 758/889, loss_train: 5.9499, loss_val: nan, pos_over_neg: 602.6878051757812 lr: 0.00031623\n",
      "Iter: 759/889, loss_train: 5.9285, loss_val: nan, pos_over_neg: 819.5792846679688 lr: 0.00031623\n",
      "Iter: 760/889, loss_train: 5.9297, loss_val: nan, pos_over_neg: 2057.0302734375 lr: 0.00031623\n",
      "Iter: 761/889, loss_train: 5.9458, loss_val: nan, pos_over_neg: 376.9891662597656 lr: 0.00031623\n",
      "Iter: 762/889, loss_train: 5.9383, loss_val: nan, pos_over_neg: 658.758056640625 lr: 0.00031623\n",
      "Iter: 763/889, loss_train: 5.9218, loss_val: nan, pos_over_neg: 292.41094970703125 lr: 0.00031623\n",
      "Iter: 764/889, loss_train: 5.9532, loss_val: nan, pos_over_neg: 402.3589782714844 lr: 0.00031623\n",
      "Iter: 765/889, loss_train: 5.9448, loss_val: nan, pos_over_neg: 536.2177124023438 lr: 0.00031623\n",
      "Iter: 766/889, loss_train: 5.935, loss_val: nan, pos_over_neg: 2286.681640625 lr: 0.00031623\n",
      "Iter: 767/889, loss_train: 5.9174, loss_val: nan, pos_over_neg: 716.9614868164062 lr: 0.00031623\n",
      "Iter: 768/889, loss_train: 5.9403, loss_val: nan, pos_over_neg: 1432.234375 lr: 0.00031623\n",
      "Iter: 769/889, loss_train: 5.9296, loss_val: nan, pos_over_neg: 1960.6727294921875 lr: 0.00031623\n",
      "Iter: 770/889, loss_train: 5.9451, loss_val: nan, pos_over_neg: 421.1434631347656 lr: 0.00031623\n",
      "Iter: 771/889, loss_train: 5.932, loss_val: nan, pos_over_neg: 262.03729248046875 lr: 0.00031623\n",
      "Iter: 772/889, loss_train: 5.9401, loss_val: nan, pos_over_neg: 237.3811492919922 lr: 0.00031623\n",
      "Iter: 773/889, loss_train: 5.9475, loss_val: nan, pos_over_neg: 310.3262634277344 lr: 0.00031623\n",
      "Iter: 774/889, loss_train: 5.9392, loss_val: nan, pos_over_neg: 660.9075317382812 lr: 0.00031623\n",
      "Iter: 775/889, loss_train: 5.9653, loss_val: nan, pos_over_neg: 1733.354248046875 lr: 0.00031623\n",
      "Iter: 776/889, loss_train: 5.9292, loss_val: nan, pos_over_neg: 539.4072875976562 lr: 0.00031623\n",
      "Iter: 777/889, loss_train: 5.9601, loss_val: nan, pos_over_neg: 172.11282348632812 lr: 0.00031623\n",
      "Iter: 778/889, loss_train: 5.9712, loss_val: nan, pos_over_neg: 229.63034057617188 lr: 0.00031623\n",
      "Iter: 779/889, loss_train: 5.9291, loss_val: nan, pos_over_neg: 434.18426513671875 lr: 0.00031623\n",
      "Iter: 780/889, loss_train: 5.9447, loss_val: nan, pos_over_neg: 328.008056640625 lr: 0.00031623\n",
      "Iter: 781/889, loss_train: 5.9444, loss_val: nan, pos_over_neg: 256.05792236328125 lr: 0.00031623\n",
      "Iter: 782/889, loss_train: 5.9517, loss_val: nan, pos_over_neg: 543.5482788085938 lr: 0.00031623\n",
      "Iter: 783/889, loss_train: 5.9348, loss_val: nan, pos_over_neg: 315.7367858886719 lr: 0.00031623\n",
      "Iter: 784/889, loss_train: 5.9644, loss_val: nan, pos_over_neg: 968.1500244140625 lr: 0.00031623\n",
      "Iter: 785/889, loss_train: 5.9645, loss_val: nan, pos_over_neg: 188.84832763671875 lr: 0.00031623\n",
      "Iter: 786/889, loss_train: 5.9715, loss_val: nan, pos_over_neg: 670.6665649414062 lr: 0.00031623\n",
      "Iter: 787/889, loss_train: 5.9315, loss_val: nan, pos_over_neg: 461.7056884765625 lr: 0.00031623\n",
      "Iter: 788/889, loss_train: 5.9479, loss_val: nan, pos_over_neg: 481.9519348144531 lr: 0.00031623\n",
      "Iter: 789/889, loss_train: 5.9402, loss_val: nan, pos_over_neg: 605.6566162109375 lr: 0.00031623\n",
      "Iter: 790/889, loss_train: 5.9369, loss_val: nan, pos_over_neg: 395.59332275390625 lr: 0.00031623\n",
      "Iter: 791/889, loss_train: 5.9447, loss_val: nan, pos_over_neg: 712.3467407226562 lr: 0.00031623\n",
      "Iter: 792/889, loss_train: 5.9525, loss_val: nan, pos_over_neg: 644.8046875 lr: 0.00031623\n",
      "Iter: 793/889, loss_train: 5.9352, loss_val: nan, pos_over_neg: 471.3186340332031 lr: 0.00031623\n",
      "Iter: 794/889, loss_train: 5.9287, loss_val: nan, pos_over_neg: 288.3128967285156 lr: 0.00031623\n",
      "Iter: 795/889, loss_train: 5.9584, loss_val: nan, pos_over_neg: 233.4298095703125 lr: 0.00031623\n",
      "Iter: 796/889, loss_train: 5.9408, loss_val: nan, pos_over_neg: 531.8684692382812 lr: 0.00031623\n",
      "Iter: 797/889, loss_train: 5.9173, loss_val: nan, pos_over_neg: 589.423583984375 lr: 0.00031623\n",
      "Iter: 798/889, loss_train: 5.9565, loss_val: nan, pos_over_neg: 668.7005004882812 lr: 0.00031623\n",
      "Iter: 799/889, loss_train: 5.9328, loss_val: nan, pos_over_neg: 838.3190307617188 lr: 0.00031623\n",
      "Iter: 800/889, loss_train: 5.9445, loss_val: nan, pos_over_neg: 1047.892333984375 lr: 0.00031623\n",
      "Iter: 801/889, loss_train: 5.9623, loss_val: nan, pos_over_neg: 216.04815673828125 lr: 0.00031623\n",
      "Iter: 802/889, loss_train: 5.9393, loss_val: nan, pos_over_neg: 475.6846008300781 lr: 0.00031623\n",
      "Iter: 803/889, loss_train: 5.939, loss_val: nan, pos_over_neg: 439.0572814941406 lr: 0.00031623\n",
      "Iter: 804/889, loss_train: 5.934, loss_val: nan, pos_over_neg: 410.89947509765625 lr: 0.00031623\n",
      "Iter: 805/889, loss_train: 5.9563, loss_val: nan, pos_over_neg: 696.6547241210938 lr: 0.00031623\n",
      "Iter: 806/889, loss_train: 5.9409, loss_val: nan, pos_over_neg: 15494.80078125 lr: 0.00031623\n",
      "Iter: 807/889, loss_train: 5.9281, loss_val: nan, pos_over_neg: 436.80267333984375 lr: 0.00031623\n",
      "Iter: 808/889, loss_train: 5.9311, loss_val: nan, pos_over_neg: 317.0371398925781 lr: 0.00031623\n",
      "Iter: 809/889, loss_train: 5.9312, loss_val: nan, pos_over_neg: 745.5546875 lr: 0.00031623\n",
      "Iter: 810/889, loss_train: 5.919, loss_val: nan, pos_over_neg: 657.3705444335938 lr: 0.00031623\n",
      "Iter: 811/889, loss_train: 5.9394, loss_val: nan, pos_over_neg: 652.5260009765625 lr: 0.00031623\n",
      "Iter: 812/889, loss_train: 5.9518, loss_val: nan, pos_over_neg: 1071.5513916015625 lr: 0.00031623\n",
      "Iter: 813/889, loss_train: 5.9364, loss_val: nan, pos_over_neg: 1638.923583984375 lr: 0.00031623\n",
      "Iter: 814/889, loss_train: 5.9281, loss_val: nan, pos_over_neg: -5159.50927734375 lr: 0.00031623\n",
      "Iter: 815/889, loss_train: 5.9394, loss_val: nan, pos_over_neg: 431.57452392578125 lr: 0.00031623\n",
      "Iter: 816/889, loss_train: 5.9488, loss_val: nan, pos_over_neg: 849.8182373046875 lr: 0.00031623\n",
      "Iter: 817/889, loss_train: 5.9488, loss_val: nan, pos_over_neg: 868.846923828125 lr: 0.00031623\n",
      "Iter: 818/889, loss_train: 5.9343, loss_val: nan, pos_over_neg: 384.78228759765625 lr: 0.00031623\n",
      "Iter: 819/889, loss_train: 5.9603, loss_val: nan, pos_over_neg: 278.7498474121094 lr: 0.00031623\n",
      "Iter: 820/889, loss_train: 5.9353, loss_val: nan, pos_over_neg: 797.469482421875 lr: 0.00031623\n",
      "Iter: 821/889, loss_train: 5.9336, loss_val: nan, pos_over_neg: 1205.3511962890625 lr: 0.00031623\n",
      "Iter: 822/889, loss_train: 5.9493, loss_val: nan, pos_over_neg: 281.2925109863281 lr: 0.00031623\n",
      "Iter: 823/889, loss_train: 5.9475, loss_val: nan, pos_over_neg: 379.2812805175781 lr: 0.00031623\n",
      "Iter: 824/889, loss_train: 5.9428, loss_val: nan, pos_over_neg: 895.4895629882812 lr: 0.00031623\n",
      "Iter: 825/889, loss_train: 5.908, loss_val: nan, pos_over_neg: 482.017822265625 lr: 0.00031623\n",
      "Iter: 826/889, loss_train: 5.9148, loss_val: nan, pos_over_neg: 311.84002685546875 lr: 0.00031623\n",
      "Iter: 827/889, loss_train: 5.9499, loss_val: nan, pos_over_neg: 307.79266357421875 lr: 0.00031623\n",
      "Iter: 828/889, loss_train: 5.955, loss_val: nan, pos_over_neg: 455.188232421875 lr: 0.00031623\n",
      "Iter: 829/889, loss_train: 5.9398, loss_val: nan, pos_over_neg: -369848.3125 lr: 0.00031623\n",
      "Iter: 830/889, loss_train: 5.9383, loss_val: nan, pos_over_neg: 5292.7890625 lr: 0.00031623\n",
      "Iter: 831/889, loss_train: 5.9547, loss_val: nan, pos_over_neg: 1357.6771240234375 lr: 0.00031623\n",
      "Iter: 832/889, loss_train: 5.942, loss_val: nan, pos_over_neg: 2766.57666015625 lr: 0.00031623\n",
      "Iter: 833/889, loss_train: 5.9285, loss_val: nan, pos_over_neg: 816.49609375 lr: 0.00031623\n",
      "Iter: 834/889, loss_train: 5.9273, loss_val: nan, pos_over_neg: 539.4733276367188 lr: 0.00031623\n",
      "Iter: 835/889, loss_train: 5.961, loss_val: nan, pos_over_neg: 163.15707397460938 lr: 0.00031623\n",
      "Iter: 836/889, loss_train: 5.9566, loss_val: nan, pos_over_neg: 232.56114196777344 lr: 0.00031623\n",
      "Iter: 837/889, loss_train: 5.9379, loss_val: nan, pos_over_neg: 1083.809814453125 lr: 0.00031623\n",
      "Iter: 838/889, loss_train: 5.9346, loss_val: nan, pos_over_neg: 2254.384521484375 lr: 0.00031623\n",
      "Iter: 839/889, loss_train: 5.9485, loss_val: nan, pos_over_neg: 973.31494140625 lr: 0.00031623\n",
      "Iter: 840/889, loss_train: 5.9407, loss_val: nan, pos_over_neg: 526.4390869140625 lr: 0.00031623\n",
      "Iter: 841/889, loss_train: 5.9456, loss_val: nan, pos_over_neg: 346.5412902832031 lr: 0.00031623\n",
      "Iter: 842/889, loss_train: 5.9254, loss_val: nan, pos_over_neg: 769.4743041992188 lr: 0.00031623\n",
      "Iter: 843/889, loss_train: 5.9369, loss_val: nan, pos_over_neg: 534.52587890625 lr: 0.00031623\n",
      "Iter: 844/889, loss_train: 5.9297, loss_val: nan, pos_over_neg: -5804.0556640625 lr: 0.00031623\n",
      "Iter: 845/889, loss_train: 5.9439, loss_val: nan, pos_over_neg: 1032.957275390625 lr: 0.00031623\n",
      "Iter: 846/889, loss_train: 5.9405, loss_val: nan, pos_over_neg: 379.6251220703125 lr: 0.00031623\n",
      "Iter: 847/889, loss_train: 5.9467, loss_val: nan, pos_over_neg: 633.7762451171875 lr: 0.00031623\n",
      "Iter: 848/889, loss_train: 5.9513, loss_val: nan, pos_over_neg: 277.4427185058594 lr: 0.00031623\n",
      "Iter: 849/889, loss_train: 5.9253, loss_val: nan, pos_over_neg: 2757.127685546875 lr: 0.00031623\n",
      "Iter: 850/889, loss_train: 5.9451, loss_val: nan, pos_over_neg: 605.3677368164062 lr: 0.00031623\n",
      "Iter: 851/889, loss_train: 5.9527, loss_val: nan, pos_over_neg: 920.5164794921875 lr: 0.00031623\n",
      "Iter: 852/889, loss_train: 5.9413, loss_val: nan, pos_over_neg: 426.78387451171875 lr: 0.00031623\n",
      "Iter: 853/889, loss_train: 5.9188, loss_val: nan, pos_over_neg: 2337.00390625 lr: 0.00031623\n",
      "Iter: 854/889, loss_train: 5.9111, loss_val: nan, pos_over_neg: 578.88525390625 lr: 0.00031623\n",
      "Iter: 855/889, loss_train: 5.9468, loss_val: nan, pos_over_neg: 694.9198608398438 lr: 0.00031623\n",
      "Iter: 856/889, loss_train: 5.9265, loss_val: nan, pos_over_neg: 381.28387451171875 lr: 0.00031623\n",
      "Iter: 857/889, loss_train: 5.934, loss_val: nan, pos_over_neg: 581.3336181640625 lr: 0.00031623\n",
      "Iter: 858/889, loss_train: 5.9285, loss_val: nan, pos_over_neg: 990.1636352539062 lr: 0.00031623\n",
      "Iter: 859/889, loss_train: 5.9248, loss_val: nan, pos_over_neg: 1203.2001953125 lr: 0.00031623\n",
      "Iter: 860/889, loss_train: 5.9257, loss_val: nan, pos_over_neg: 2354.39697265625 lr: 0.00031623\n",
      "Iter: 861/889, loss_train: 5.9057, loss_val: nan, pos_over_neg: -140202.40625 lr: 0.00031623\n",
      "Iter: 862/889, loss_train: 5.9419, loss_val: nan, pos_over_neg: 945.7930297851562 lr: 0.00031623\n",
      "Iter: 863/889, loss_train: 5.9096, loss_val: nan, pos_over_neg: 979.222900390625 lr: 0.00031623\n",
      "Iter: 864/889, loss_train: 5.9227, loss_val: nan, pos_over_neg: 859.8779907226562 lr: 0.00031623\n",
      "Iter: 865/889, loss_train: 5.9319, loss_val: nan, pos_over_neg: 414.7882385253906 lr: 0.00031623\n",
      "Iter: 866/889, loss_train: 5.9219, loss_val: nan, pos_over_neg: 462.45562744140625 lr: 0.00031623\n",
      "Iter: 867/889, loss_train: 5.9446, loss_val: nan, pos_over_neg: 622.695068359375 lr: 0.00031623\n",
      "Iter: 868/889, loss_train: 5.9357, loss_val: nan, pos_over_neg: 683.0396728515625 lr: 0.00031623\n",
      "Iter: 869/889, loss_train: 5.9352, loss_val: nan, pos_over_neg: 34126.95703125 lr: 0.00031623\n",
      "Iter: 870/889, loss_train: 5.9556, loss_val: nan, pos_over_neg: 1697.1766357421875 lr: 0.00031623\n",
      "Iter: 871/889, loss_train: 5.9213, loss_val: nan, pos_over_neg: 2470.022705078125 lr: 0.00031623\n",
      "Iter: 872/889, loss_train: 5.9406, loss_val: nan, pos_over_neg: 1285.5323486328125 lr: 0.00031623\n",
      "Iter: 873/889, loss_train: 5.9456, loss_val: nan, pos_over_neg: 310.6751403808594 lr: 0.00031623\n",
      "Iter: 874/889, loss_train: 5.9431, loss_val: nan, pos_over_neg: 561.8411254882812 lr: 0.00031623\n",
      "Iter: 875/889, loss_train: 5.9383, loss_val: nan, pos_over_neg: 902.3755493164062 lr: 0.00031623\n",
      "Iter: 876/889, loss_train: 5.9328, loss_val: nan, pos_over_neg: 302.3341979980469 lr: 0.00031623\n",
      "Iter: 877/889, loss_train: 5.9469, loss_val: nan, pos_over_neg: 343.3909606933594 lr: 0.00031623\n",
      "Iter: 878/889, loss_train: 5.9444, loss_val: nan, pos_over_neg: 718.5056762695312 lr: 0.00031623\n",
      "Iter: 879/889, loss_train: 5.9246, loss_val: nan, pos_over_neg: 3088.381103515625 lr: 0.00031623\n",
      "Iter: 880/889, loss_train: 5.9355, loss_val: nan, pos_over_neg: 1511.33935546875 lr: 0.00031623\n",
      "Iter: 881/889, loss_train: 5.9353, loss_val: nan, pos_over_neg: 281.54998779296875 lr: 0.00031623\n",
      "Iter: 882/889, loss_train: 5.9407, loss_val: nan, pos_over_neg: 266.06707763671875 lr: 0.00031623\n",
      "Iter: 883/889, loss_train: 5.9283, loss_val: nan, pos_over_neg: 536.0421752929688 lr: 0.00031623\n",
      "Iter: 884/889, loss_train: 5.938, loss_val: nan, pos_over_neg: 309.01861572265625 lr: 0.00031623\n",
      "Iter: 885/889, loss_train: 5.9394, loss_val: nan, pos_over_neg: 546.9005737304688 lr: 0.00031623\n",
      "Iter: 886/889, loss_train: 5.9366, loss_val: nan, pos_over_neg: 422.80517578125 lr: 0.00031623\n",
      "Iter: 887/889, loss_train: 5.9309, loss_val: nan, pos_over_neg: 1195.3099365234375 lr: 0.00031623\n",
      "Iter: 888/889, loss_train: 5.9164, loss_val: nan, pos_over_neg: 1058.77001953125 lr: 0.00031623\n"
     ]
    },
    {
     "name": "stderr",
     "output_type": "stream",
     "text": [
      "  0%|          | 1/300000 [25:06<125525:33:55, 1506.31s/it]"
     ]
    },
    {
     "name": "stdout",
     "output_type": "stream",
     "text": [
      "epoch: 1\n",
      "Iter: 0/889, loss_train: 5.9379, loss_val: nan, pos_over_neg: 836.7720947265625 lr: 0.00031623\n",
      "Iter: 1/889, loss_train: 5.9342, loss_val: nan, pos_over_neg: 302.8044738769531 lr: 0.00031623\n",
      "Iter: 2/889, loss_train: 5.9302, loss_val: nan, pos_over_neg: 2447.04052734375 lr: 0.00031623\n",
      "Iter: 3/889, loss_train: 5.9191, loss_val: nan, pos_over_neg: 1052.4263916015625 lr: 0.00031623\n",
      "Iter: 4/889, loss_train: 5.9281, loss_val: nan, pos_over_neg: 342.2099609375 lr: 0.00031623\n",
      "Iter: 5/889, loss_train: 5.9343, loss_val: nan, pos_over_neg: 391.80157470703125 lr: 0.00031623\n",
      "Iter: 6/889, loss_train: 5.9256, loss_val: nan, pos_over_neg: 349.9445495605469 lr: 0.00031623\n",
      "Iter: 7/889, loss_train: 5.936, loss_val: nan, pos_over_neg: 673.9456176757812 lr: 0.00031623\n",
      "Iter: 8/889, loss_train: 5.9228, loss_val: nan, pos_over_neg: 675.8674926757812 lr: 0.00031623\n",
      "Iter: 9/889, loss_train: 5.9235, loss_val: nan, pos_over_neg: 692.7626953125 lr: 0.00031623\n",
      "Iter: 10/889, loss_train: 5.9405, loss_val: nan, pos_over_neg: 328.53765869140625 lr: 0.00031623\n",
      "Iter: 11/889, loss_train: 5.9349, loss_val: nan, pos_over_neg: 524.168701171875 lr: 0.00031623\n",
      "Iter: 12/889, loss_train: 5.9315, loss_val: nan, pos_over_neg: 642.7512817382812 lr: 0.00031623\n",
      "Iter: 13/889, loss_train: 5.9287, loss_val: nan, pos_over_neg: 391.97607421875 lr: 0.00031623\n",
      "Iter: 14/889, loss_train: 5.9409, loss_val: nan, pos_over_neg: 1047.9857177734375 lr: 0.00031623\n",
      "Iter: 15/889, loss_train: 5.9155, loss_val: nan, pos_over_neg: 716.3146362304688 lr: 0.00031623\n",
      "Iter: 16/889, loss_train: 5.9434, loss_val: nan, pos_over_neg: 585.4293823242188 lr: 0.00031623\n",
      "Iter: 17/889, loss_train: 5.9167, loss_val: nan, pos_over_neg: 804.0676879882812 lr: 0.00031623\n",
      "Iter: 18/889, loss_train: 5.9321, loss_val: nan, pos_over_neg: 439.32403564453125 lr: 0.00031623\n",
      "Iter: 19/889, loss_train: 5.9157, loss_val: nan, pos_over_neg: 1403.9527587890625 lr: 0.00031623\n",
      "Iter: 20/889, loss_train: 5.9283, loss_val: nan, pos_over_neg: 6646.0654296875 lr: 0.00031623\n",
      "Iter: 21/889, loss_train: 5.928, loss_val: nan, pos_over_neg: 1356.577392578125 lr: 0.00031623\n",
      "Iter: 22/889, loss_train: 5.9222, loss_val: nan, pos_over_neg: 867.9805297851562 lr: 0.00031623\n",
      "Iter: 23/889, loss_train: 5.9224, loss_val: nan, pos_over_neg: 382.5021667480469 lr: 0.00031623\n",
      "Iter: 24/889, loss_train: 5.9397, loss_val: nan, pos_over_neg: 643.0014038085938 lr: 0.00031623\n",
      "Iter: 25/889, loss_train: 5.9233, loss_val: nan, pos_over_neg: 852.8610229492188 lr: 0.00031623\n",
      "Iter: 26/889, loss_train: 5.9387, loss_val: nan, pos_over_neg: 708.6339721679688 lr: 0.00031623\n",
      "Iter: 27/889, loss_train: 5.9396, loss_val: nan, pos_over_neg: 519.7952880859375 lr: 0.00031623\n",
      "Iter: 28/889, loss_train: 5.9259, loss_val: nan, pos_over_neg: 657.2423706054688 lr: 0.00031623\n",
      "Iter: 29/889, loss_train: 5.9419, loss_val: nan, pos_over_neg: 15739.5419921875 lr: 0.00031623\n",
      "Iter: 30/889, loss_train: 5.9452, loss_val: nan, pos_over_neg: 434.9681091308594 lr: 0.00031623\n",
      "Iter: 31/889, loss_train: 5.9436, loss_val: nan, pos_over_neg: 896.3618774414062 lr: 0.00031623\n",
      "Iter: 32/889, loss_train: 5.9219, loss_val: nan, pos_over_neg: 514.2257080078125 lr: 0.00031623\n",
      "Iter: 33/889, loss_train: 5.9448, loss_val: nan, pos_over_neg: 276.66357421875 lr: 0.00031623\n",
      "Iter: 34/889, loss_train: 5.9061, loss_val: nan, pos_over_neg: 1417.314697265625 lr: 0.00031623\n",
      "Iter: 35/889, loss_train: 5.9227, loss_val: nan, pos_over_neg: 922.880615234375 lr: 0.00031623\n",
      "Iter: 36/889, loss_train: 5.9381, loss_val: nan, pos_over_neg: 480.6160888671875 lr: 0.00031623\n",
      "Iter: 37/889, loss_train: 5.9145, loss_val: nan, pos_over_neg: 2447.803955078125 lr: 0.00031623\n",
      "Iter: 38/889, loss_train: 5.9382, loss_val: nan, pos_over_neg: 616.6158447265625 lr: 0.00031623\n",
      "Iter: 39/889, loss_train: 5.9363, loss_val: nan, pos_over_neg: 1373.2706298828125 lr: 0.00031623\n",
      "Iter: 40/889, loss_train: 5.9386, loss_val: nan, pos_over_neg: 1007.4410400390625 lr: 0.00031623\n",
      "Iter: 41/889, loss_train: 5.9212, loss_val: nan, pos_over_neg: 1002.2719116210938 lr: 0.00031623\n",
      "Iter: 42/889, loss_train: 5.9197, loss_val: nan, pos_over_neg: 573.6642456054688 lr: 0.00031623\n",
      "Iter: 43/889, loss_train: 5.925, loss_val: nan, pos_over_neg: 350.3515625 lr: 0.00031623\n",
      "Iter: 44/889, loss_train: 5.9302, loss_val: nan, pos_over_neg: 587.5128784179688 lr: 0.00031623\n",
      "Iter: 45/889, loss_train: 5.9318, loss_val: nan, pos_over_neg: 529.5972900390625 lr: 0.00031623\n",
      "Iter: 46/889, loss_train: 5.9286, loss_val: nan, pos_over_neg: 465.07537841796875 lr: 0.00031623\n",
      "Iter: 47/889, loss_train: 5.9252, loss_val: nan, pos_over_neg: 347.78741455078125 lr: 0.00031623\n",
      "Iter: 48/889, loss_train: 5.9471, loss_val: nan, pos_over_neg: 312.86993408203125 lr: 0.00031623\n",
      "Iter: 49/889, loss_train: 5.9228, loss_val: nan, pos_over_neg: 1922.1448974609375 lr: 0.00031623\n",
      "Iter: 50/889, loss_train: 5.9254, loss_val: nan, pos_over_neg: 961.8570556640625 lr: 0.00031623\n",
      "Iter: 51/889, loss_train: 5.9396, loss_val: nan, pos_over_neg: 736.1995239257812 lr: 0.00031623\n",
      "Iter: 52/889, loss_train: 5.9405, loss_val: nan, pos_over_neg: 778.7427978515625 lr: 0.00031623\n",
      "Iter: 53/889, loss_train: 5.9282, loss_val: nan, pos_over_neg: 656.5799560546875 lr: 0.00031623\n",
      "Iter: 54/889, loss_train: 5.9145, loss_val: nan, pos_over_neg: 568.0379638671875 lr: 0.00031623\n",
      "Iter: 55/889, loss_train: 5.906, loss_val: nan, pos_over_neg: 265.7946472167969 lr: 0.00031623\n",
      "Iter: 56/889, loss_train: 5.919, loss_val: nan, pos_over_neg: 851.4569702148438 lr: 0.00031623\n",
      "Iter: 57/889, loss_train: 5.909, loss_val: nan, pos_over_neg: 635.6089477539062 lr: 0.00031623\n",
      "Iter: 58/889, loss_train: 5.9375, loss_val: nan, pos_over_neg: 370.6193542480469 lr: 0.00031623\n",
      "Iter: 59/889, loss_train: 5.9023, loss_val: nan, pos_over_neg: 449.1189270019531 lr: 0.00031623\n",
      "Iter: 60/889, loss_train: 5.9197, loss_val: nan, pos_over_neg: 338.3833923339844 lr: 0.00031623\n",
      "Iter: 61/889, loss_train: 5.9236, loss_val: nan, pos_over_neg: 488.46832275390625 lr: 0.00031623\n",
      "Iter: 62/889, loss_train: 5.9382, loss_val: nan, pos_over_neg: 440.984130859375 lr: 0.00031623\n",
      "Iter: 63/889, loss_train: 5.9106, loss_val: nan, pos_over_neg: 481.4092712402344 lr: 0.00031623\n",
      "Iter: 64/889, loss_train: 5.9325, loss_val: nan, pos_over_neg: 397.1817626953125 lr: 0.00031623\n",
      "Iter: 65/889, loss_train: 5.9469, loss_val: nan, pos_over_neg: 348.9867858886719 lr: 0.00031623\n",
      "Iter: 66/889, loss_train: 5.9235, loss_val: nan, pos_over_neg: 748.935791015625 lr: 0.00031623\n",
      "Iter: 67/889, loss_train: 5.9093, loss_val: nan, pos_over_neg: 602.3949584960938 lr: 0.00031623\n",
      "Iter: 68/889, loss_train: 5.9197, loss_val: nan, pos_over_neg: 503.21563720703125 lr: 0.00031623\n",
      "Iter: 69/889, loss_train: 5.93, loss_val: nan, pos_over_neg: 362.3328857421875 lr: 0.00031623\n",
      "Iter: 70/889, loss_train: 5.9199, loss_val: nan, pos_over_neg: -8576.021484375 lr: 0.00031623\n",
      "Iter: 71/889, loss_train: 5.8955, loss_val: nan, pos_over_neg: 678.69775390625 lr: 0.00031623\n",
      "Iter: 72/889, loss_train: 5.9227, loss_val: nan, pos_over_neg: 628.1722412109375 lr: 0.00031623\n",
      "Iter: 73/889, loss_train: 5.9358, loss_val: nan, pos_over_neg: 434.1410827636719 lr: 0.00031623\n",
      "Iter: 74/889, loss_train: 5.9271, loss_val: nan, pos_over_neg: 534.5394897460938 lr: 0.00031623\n",
      "Iter: 75/889, loss_train: 5.9185, loss_val: nan, pos_over_neg: 625.1991577148438 lr: 0.00031623\n",
      "Iter: 76/889, loss_train: 5.9138, loss_val: nan, pos_over_neg: 678.7293701171875 lr: 0.00031623\n",
      "Iter: 77/889, loss_train: 5.9227, loss_val: nan, pos_over_neg: 369.8231506347656 lr: 0.00031623\n",
      "Iter: 78/889, loss_train: 5.9373, loss_val: nan, pos_over_neg: 990.7454833984375 lr: 0.00031623\n",
      "Iter: 79/889, loss_train: 5.9116, loss_val: nan, pos_over_neg: 1818.6282958984375 lr: 0.00031623\n",
      "Iter: 80/889, loss_train: 5.9305, loss_val: nan, pos_over_neg: 474.88446044921875 lr: 0.00031623\n",
      "Iter: 81/889, loss_train: 5.9144, loss_val: nan, pos_over_neg: 446.0697326660156 lr: 0.00031623\n",
      "Iter: 82/889, loss_train: 5.9399, loss_val: nan, pos_over_neg: 1164.074951171875 lr: 0.00031623\n",
      "Iter: 83/889, loss_train: 5.9292, loss_val: nan, pos_over_neg: 1810.885986328125 lr: 0.00031623\n",
      "Iter: 84/889, loss_train: 5.9262, loss_val: nan, pos_over_neg: 1182.030029296875 lr: 0.00031623\n",
      "Iter: 85/889, loss_train: 5.9118, loss_val: nan, pos_over_neg: 855.3295288085938 lr: 0.00031623\n",
      "Iter: 86/889, loss_train: 5.9185, loss_val: nan, pos_over_neg: 14242.3720703125 lr: 0.00031623\n",
      "Iter: 87/889, loss_train: 5.9106, loss_val: nan, pos_over_neg: 16662.546875 lr: 0.00031623\n",
      "Iter: 88/889, loss_train: 5.9183, loss_val: nan, pos_over_neg: 236.33984375 lr: 0.00031623\n",
      "Iter: 89/889, loss_train: 5.9253, loss_val: nan, pos_over_neg: 507.2308044433594 lr: 0.00031623\n",
      "Iter: 90/889, loss_train: 5.9098, loss_val: nan, pos_over_neg: 528.10888671875 lr: 0.00031623\n",
      "Iter: 91/889, loss_train: 5.9298, loss_val: nan, pos_over_neg: 459.5431213378906 lr: 0.00031623\n",
      "Iter: 92/889, loss_train: 5.9058, loss_val: nan, pos_over_neg: 483.2398681640625 lr: 0.00031623\n",
      "Iter: 93/889, loss_train: 5.9284, loss_val: nan, pos_over_neg: 258.1907043457031 lr: 0.00031623\n",
      "Iter: 94/889, loss_train: 5.9061, loss_val: nan, pos_over_neg: 381.2937316894531 lr: 0.00031623\n",
      "Iter: 95/889, loss_train: 5.9307, loss_val: nan, pos_over_neg: 498.35235595703125 lr: 0.00031623\n",
      "Iter: 96/889, loss_train: 5.9532, loss_val: nan, pos_over_neg: 246.59312438964844 lr: 0.00031623\n",
      "Iter: 97/889, loss_train: 5.9116, loss_val: nan, pos_over_neg: 265.37188720703125 lr: 0.00031623\n",
      "Iter: 98/889, loss_train: 5.9172, loss_val: nan, pos_over_neg: 1099.0328369140625 lr: 0.00031623\n",
      "Iter: 99/889, loss_train: 5.9188, loss_val: nan, pos_over_neg: 430.0424499511719 lr: 0.00031623\n",
      "Iter: 100/889, loss_train: 5.8999, loss_val: nan, pos_over_neg: 454.2769470214844 lr: 0.00031623\n",
      "Iter: 101/889, loss_train: 5.8986, loss_val: nan, pos_over_neg: 750.8400268554688 lr: 0.00031623\n",
      "Iter: 102/889, loss_train: 5.9265, loss_val: nan, pos_over_neg: 242.1654510498047 lr: 0.00031623\n",
      "Iter: 103/889, loss_train: 5.9274, loss_val: nan, pos_over_neg: 573.848388671875 lr: 0.00031623\n",
      "Iter: 104/889, loss_train: 5.936, loss_val: nan, pos_over_neg: 386.7127685546875 lr: 0.00031623\n",
      "Iter: 105/889, loss_train: 5.911, loss_val: nan, pos_over_neg: 276.1266174316406 lr: 0.00031623\n",
      "Iter: 106/889, loss_train: 5.9333, loss_val: nan, pos_over_neg: 570.3038330078125 lr: 0.00031623\n",
      "Iter: 107/889, loss_train: 5.9203, loss_val: nan, pos_over_neg: 234.22250366210938 lr: 0.00031623\n",
      "Iter: 108/889, loss_train: 5.914, loss_val: nan, pos_over_neg: 221.9892120361328 lr: 0.00031623\n",
      "Iter: 109/889, loss_train: 5.9171, loss_val: nan, pos_over_neg: 301.6824951171875 lr: 0.00031623\n",
      "Iter: 110/889, loss_train: 5.9224, loss_val: nan, pos_over_neg: 308.85809326171875 lr: 0.00031623\n",
      "Iter: 111/889, loss_train: 5.9303, loss_val: nan, pos_over_neg: 485.88543701171875 lr: 0.00031623\n",
      "Iter: 112/889, loss_train: 5.9144, loss_val: nan, pos_over_neg: 2584.116455078125 lr: 0.00031623\n",
      "Iter: 113/889, loss_train: 5.8955, loss_val: nan, pos_over_neg: 550.90234375 lr: 0.00031623\n",
      "Iter: 114/889, loss_train: 5.9179, loss_val: nan, pos_over_neg: 488.98443603515625 lr: 0.00031623\n",
      "Iter: 115/889, loss_train: 5.93, loss_val: nan, pos_over_neg: 724.1250610351562 lr: 0.00031623\n",
      "Iter: 116/889, loss_train: 5.936, loss_val: nan, pos_over_neg: 366.17291259765625 lr: 0.00031623\n",
      "Iter: 117/889, loss_train: 5.914, loss_val: nan, pos_over_neg: 732.6065063476562 lr: 0.00031623\n",
      "Iter: 118/889, loss_train: 5.9294, loss_val: nan, pos_over_neg: 305.2129821777344 lr: 0.00031623\n",
      "Iter: 119/889, loss_train: 5.9028, loss_val: nan, pos_over_neg: 846.3099365234375 lr: 0.00031623\n",
      "Iter: 120/889, loss_train: 5.9096, loss_val: nan, pos_over_neg: 464.6542053222656 lr: 0.00031623\n",
      "Iter: 121/889, loss_train: 5.9002, loss_val: nan, pos_over_neg: 2730.417236328125 lr: 0.00031623\n",
      "Iter: 122/889, loss_train: 5.9246, loss_val: nan, pos_over_neg: 348.8503112792969 lr: 0.00031623\n",
      "Iter: 123/889, loss_train: 5.915, loss_val: nan, pos_over_neg: 3450.462158203125 lr: 0.00031623\n",
      "Iter: 124/889, loss_train: 5.9317, loss_val: nan, pos_over_neg: 2321.423583984375 lr: 0.00031623\n",
      "Iter: 125/889, loss_train: 5.9032, loss_val: nan, pos_over_neg: 3584.247802734375 lr: 0.00031623\n",
      "Iter: 126/889, loss_train: 5.9073, loss_val: nan, pos_over_neg: 757.8285522460938 lr: 0.00031623\n",
      "Iter: 127/889, loss_train: 5.9078, loss_val: nan, pos_over_neg: 928.8526611328125 lr: 0.00031623\n",
      "Iter: 128/889, loss_train: 5.9236, loss_val: nan, pos_over_neg: 653.1839599609375 lr: 0.00031623\n",
      "Iter: 129/889, loss_train: 5.9352, loss_val: nan, pos_over_neg: 265.913330078125 lr: 0.00031623\n",
      "Iter: 130/889, loss_train: 5.9022, loss_val: nan, pos_over_neg: 643.4158935546875 lr: 0.00031623\n",
      "Iter: 131/889, loss_train: 5.9231, loss_val: nan, pos_over_neg: 555.0843505859375 lr: 0.00031623\n",
      "Iter: 132/889, loss_train: 5.923, loss_val: nan, pos_over_neg: 909.6328735351562 lr: 0.00031623\n",
      "Iter: 133/889, loss_train: 5.9346, loss_val: nan, pos_over_neg: 257.1886901855469 lr: 0.00031623\n",
      "Iter: 134/889, loss_train: 5.9127, loss_val: nan, pos_over_neg: 3040.913330078125 lr: 0.00031623\n",
      "Iter: 135/889, loss_train: 5.9204, loss_val: nan, pos_over_neg: -36498.01953125 lr: 0.00031623\n",
      "Iter: 136/889, loss_train: 5.916, loss_val: nan, pos_over_neg: 1076.2364501953125 lr: 0.00031623\n",
      "Iter: 137/889, loss_train: 5.9118, loss_val: nan, pos_over_neg: 3265.083251953125 lr: 0.00031623\n",
      "Iter: 138/889, loss_train: 5.913, loss_val: nan, pos_over_neg: 435.6319274902344 lr: 0.00031623\n",
      "Iter: 139/889, loss_train: 5.9216, loss_val: nan, pos_over_neg: 1012.1414794921875 lr: 0.00031623\n",
      "Iter: 140/889, loss_train: 5.8979, loss_val: nan, pos_over_neg: 527.3817749023438 lr: 0.00031623\n",
      "Iter: 141/889, loss_train: 5.916, loss_val: nan, pos_over_neg: 753.5291137695312 lr: 0.00031623\n",
      "Iter: 142/889, loss_train: 5.9325, loss_val: nan, pos_over_neg: 372.06884765625 lr: 0.00031623\n",
      "Iter: 143/889, loss_train: 5.9203, loss_val: nan, pos_over_neg: 6173.318359375 lr: 0.00031623\n",
      "Iter: 144/889, loss_train: 5.9167, loss_val: nan, pos_over_neg: 4062.07958984375 lr: 0.00031623\n",
      "Iter: 145/889, loss_train: 5.9266, loss_val: nan, pos_over_neg: 880.4725341796875 lr: 0.00031623\n",
      "Iter: 146/889, loss_train: 5.915, loss_val: nan, pos_over_neg: 428.5052490234375 lr: 0.00031623\n",
      "Iter: 147/889, loss_train: 5.909, loss_val: nan, pos_over_neg: 3362.160888671875 lr: 0.00031623\n",
      "Iter: 148/889, loss_train: 5.9099, loss_val: nan, pos_over_neg: 341.9124755859375 lr: 0.00031623\n",
      "Iter: 149/889, loss_train: 5.913, loss_val: nan, pos_over_neg: 657.66943359375 lr: 0.00031623\n",
      "Iter: 150/889, loss_train: 5.91, loss_val: nan, pos_over_neg: 587.4418334960938 lr: 0.00031623\n",
      "Iter: 151/889, loss_train: 5.9127, loss_val: nan, pos_over_neg: 464.57061767578125 lr: 0.00031623\n"
     ]
    }
   ],
   "source": [
    "l2_alpha = 0.000\n",
    "n_epochs=300000\n",
    "\n",
    "acc_train_lst, acc_val_lst = [], []\n",
    "acc_train_SYT_lst, acc_val_SYT_lst = [], []\n",
    "\n",
    "for epoch in tqdm(range(n_epochs)):\n",
    "    print(f'epoch: {epoch}')\n",
    "    \n",
    "    ds_run, dl_run = get_ds_dl(input_xtr, run_transform, expand_dim=False)\n",
    "    features_train = torch.cat([model.get_head(model.base_model(data[0][0].to(DEVICE))).detach().cpu() for data in dl_run], dim=0)\n",
    "    ds_run, dl_run = get_ds_dl(input_xval, run_transform, expand_dim=False)\n",
    "    features_val = torch.cat([model.get_head(model.base_model(data[0][0].to(DEVICE))).detach().cpu() for data in dl_run], dim=0)\n",
    "    \n",
    "    ds_run, dl_run = get_ds_dl(input_xtr_SYT, run_transform, expand_dim=False)\n",
    "    features_train_SYT = torch.cat([model.get_head(model.base_model(data[0][0].to(DEVICE))).detach().cpu() for data in dl_run], dim=0)\n",
    "    ds_run, dl_run = get_ds_dl(input_xval_SYT, run_transform, expand_dim=False)\n",
    "    features_val_SYT = torch.cat([model.get_head(model.base_model(data[0][0].to(DEVICE))).detach().cpu() for data in dl_run], dim=0)\n",
    "\n",
    "\n",
    "    acc_train, acc_val = {}, {}\n",
    "    acc_train_SYT, acc_val_SYT = {}, {}\n",
    "    C_toUse = np.array([1e1,1e0,1e-1,1e-2])\n",
    "    for C in C_toUse:\n",
    "        logreg = sklearn.linear_model.LogisticRegression(solver='liblinear', max_iter=800, C=C)\n",
    "        logreg.fit(features_train, y_labeled_train)\n",
    "        acc_train_tmp = logreg.score(features_train, y_labeled_train)\n",
    "        acc_train[C] = acc_train_tmp\n",
    "        acc_val_tmp = logreg.score(features_val, y_labeled_val)\n",
    "        acc_val[C] = acc_val_tmp\n",
    "        \n",
    "        logreg_SYT = sklearn.linear_model.LogisticRegression(solver='liblinear', max_iter=800, C=C)\n",
    "        logreg_SYT.fit(features_train_SYT, y_labeled_train_SYT)\n",
    "        acc_train_tmp = logreg_SYT.score(features_train_SYT, y_labeled_train_SYT)\n",
    "        acc_train_SYT[C] = acc_train_tmp\n",
    "        acc_val_tmp = logreg_SYT.score(features_val_SYT, y_labeled_val_SYT)\n",
    "        acc_val_SYT[C] = acc_val_tmp\n",
    "\n",
    "    acc_train_lst.append(acc_train)\n",
    "    acc_val_lst.append(acc_val)\n",
    "    acc_train_SYT_lst.append(acc_train_SYT)\n",
    "    acc_val_SYT_lst.append(acc_val_SYT)\n",
    "\n",
    "    acc_train_df, acc_val_df, acc_train_SYT_df, acc_val_SYT_df = pd.DataFrame(acc_train_lst), pd.DataFrame(acc_val_lst), pd.DataFrame(acc_train_SYT_lst), pd.DataFrame(acc_val_SYT_lst)\n",
    "    \n",
    "    acc_train_df.to_csv(f'{base_dir}/github_repos/GCaMP_ROI_classifier/new_stuff/accuracies/{model_file_name}_train.csv')\n",
    "    acc_train_SYT_df.to_csv(f'{base_dir}/github_repos/GCaMP_ROI_classifier/new_stuff/accuracies/{model_file_name}_train_SYT.csv')\n",
    "    acc_val_df.to_csv(f'{base_dir}/github_repos/GCaMP_ROI_classifier/new_stuff/accuracies/{model_file_name}_val.csv')\n",
    "    acc_val_SYT_df.to_csv(f'{base_dir}/github_repos/GCaMP_ROI_classifier/new_stuff/accuracies/{model_file_name}_val_SYT.csv')\n",
    "    \n",
    "    \n",
    "    loss_rolling_train = training_simCLR.epoch_step(dataloader_train, \n",
    "                                    model, \n",
    "                                    optimizer, \n",
    "                                    criterion,\n",
    "                                    scheduler=scheduler,\n",
    "                                    temperature=0.5,\n",
    "                                    # l2_alpha,\n",
    "                                    mode='semi-supervised',\n",
    "                                    loss_rolling_train=losses_train, \n",
    "                                    loss_rolling_val=losses_val,\n",
    "                                    device=DEVICE, \n",
    "                                    verbose=2,\n",
    "                                    verbose_update_period=1,\n",
    "                                   \n",
    "#                                     do_validation=False,\n",
    "#                                     X_val=x_feed_through_val,\n",
    "#                                     y_val=torch.as_tensor(y_val, device=DEVICE)\n",
    "                                   )\n",
    "    \n",
    "    \n",
    "    torch.save(model.state_dict(), f'{base_dir}/github_repos/GCaMP_ROI_classifier/new_stuff/models/{model_file_name}.pth')\n",
    "   \n",
    "    \n",
    "    losses_train_npy = np.array(losses_train)\n",
    "    losses_val_npy = np.array(losses_val)\n",
    "    val_accs_npy = np.array(val_accs)\n",
    "    acc_npy = np.array(acc)\n",
    "\n",
    "    np.save(f'{base_dir}/github_repos/GCaMP_ROI_classifier/new_stuff/model_performance/{model_file_name}_losses_train.npy', losses_train_npy)\n",
    "    np.save(f'{base_dir}/github_repos/GCaMP_ROI_classifier/new_stuff/model_performance/{model_file_name}_losses_val.npy', losses_val_npy)\n",
    "    np.save(f'{base_dir}/github_repos/GCaMP_ROI_classifier/new_stuff/model_performance/{model_file_name}_val_accs.npy', val_accs_npy)\n",
    "    np.save(f'{base_dir}/github_repos/GCaMP_ROI_classifier/new_stuff/model_performance/{model_file_name}_tr_accs.npy', acc_npy)"
   ]
  },
  {
   "cell_type": "code",
   "execution_count": null,
   "metadata": {},
   "outputs": [],
   "source": [
    "break"
   ]
  },
  {
   "cell_type": "code",
   "execution_count": null,
   "metadata": {},
   "outputs": [],
   "source": []
  },
  {
   "cell_type": "code",
   "execution_count": null,
   "metadata": {
    "colab": {
     "base_uri": "https://localhost:8080/",
     "height": 421
    },
    "id": "af10GlccgaV4",
    "outputId": "2ec75ade-6308-4a67-89e4-4bf3f996f746"
   },
   "outputs": [],
   "source": [
    "# import seaborn as sns\n",
    "# sns.set(style='white', palette='bright', context='poster')\n",
    "plt.rcdefaults()\n",
    "\n",
    "%matplotlib inline\n",
    "plt.figure(figsize=(12,6))\n",
    "plt.plot(losses_train, label='Training Loss')\n",
    "plt.plot(losses_val, label='Validation Loss')\n",
    "plt.title(f'Loss — Balanced Transfer Learning, No Data Augmentation, L2 Lambda = {l2_alpha}')\n",
    "plt.legend()\n",
    "plt.grid()\n",
    "plt.xlabel('Epoch Step')\n",
    "plt.ylabel('Loss')\n",
    "# plt.savefig('./Training-Loss.png')"
   ]
  },
  {
   "cell_type": "code",
   "execution_count": null,
   "metadata": {},
   "outputs": [],
   "source": [
    "break"
   ]
  },
  {
   "cell_type": "raw",
   "metadata": {
    "colab": {
     "base_uri": "https://localhost:8080/",
     "height": 706
    },
    "id": "Cl4TSsfc2MDy",
    "outputId": "ccc80bf3-a191-49ec-e635-dce022144cbe"
   },
   "source": [
    "%matplotlib inline\n",
    "plt.figure(figsize=(12,12))\n",
    "# val_transfer_cm = get_cm(features_val, y_val)\n",
    "# plt.imshow(val_transfer_cm)\n",
    "test_transfer_cm = get_cm(features_test, y_test)\n",
    "plt.imshow(test_transfer_cm)\n",
    "plt.colorbar()\n",
    "\n",
    "for i in range(test_transfer_cm.shape[0]):\n",
    "    for j in range(test_transfer_cm.shape[1]):\n",
    "        plt.annotate(np.round(test_transfer_cm[i,j], 3), (j,i), ha='center')\n",
    "plt.title(f'Test Confusion Matrix — Balanced Transfer Learning, No Augmentation, L2 Lambda = {l2_alpha}')\n",
    "plt.xlabel('True Class')\n",
    "plt.ylabel('Predicted Class')\n",
    "# plt.savefig('./Confusion-Matrix.png')\n"
   ]
  },
  {
   "cell_type": "code",
   "execution_count": null,
   "metadata": {
    "id": "rU8l0eP02TQR"
   },
   "outputs": [],
   "source": [
    "# model_file_name = 'ResNet18_simCLR_model_202112078_temp=1.0'\n",
    "model_file_name = 'ResNet18_simCLR_model_202112078_EOD_transfmod=efficient'\n",
    "\n",
    "# torch.save(model.state_dict(), '/media/rich/Home_Linux_partition/github_repos/GCaMP_ROI_classifier/new_stuff/models/ResNet18_simCLR_model_20211205_3.pth')\n",
    "torch.save(model.state_dict(), f'{base_dir}/github_repos/GCaMP_ROI_classifier/new_stuff/models/{model_file_name}.pth')"
   ]
  },
  {
   "cell_type": "code",
   "execution_count": null,
   "metadata": {},
   "outputs": [],
   "source": [
    "# model.load_state_dict(torch.load('/media/rich/Home_Linux_partition/github_repos/GCaMP_ROI_classifier/new_stuff/models/ResNet18_simCLR_model_20211205_2.pth'))\n",
    "model.load_state_dict(torch.load(f'{base_dir}/github_repos/GCaMP_ROI_classifier/new_stuff/models/{model_file_name}.pth'))"
   ]
  },
  {
   "cell_type": "code",
   "execution_count": null,
   "metadata": {},
   "outputs": [],
   "source": [
    "losses_train_npy = np.array(losses_train)\n",
    "losses_val_npy = np.array(losses_val)\n",
    "val_accs_npy = np.array(val_accs)\n",
    "acc_npy = np.array(acc)\n",
    "\n",
    "np.save(f'{base_dir}/github_repos/GCaMP_ROI_classifier/new_stuff/model_performance/{model_file_name}_losses_train.npy', losses_train_npy)\n",
    "np.save(f'{base_dir}/github_repos/GCaMP_ROI_classifier/new_stuff/model_performance/{model_file_name}_losses_val.npy', losses_val_npy)\n",
    "np.save(f'{base_dir}/github_repos/GCaMP_ROI_classifier/new_stuff/model_performance/{model_file_name}_val_accs.npy', val_accs_npy)\n",
    "np.save(f'{base_dir}/github_repos/GCaMP_ROI_classifier/new_stuff/model_performance/{model_file_name}_tr_accs.npy', acc_npy)"
   ]
  },
  {
   "cell_type": "code",
   "execution_count": null,
   "metadata": {},
   "outputs": [],
   "source": []
  },
  {
   "cell_type": "markdown",
   "metadata": {
    "id": "FEqA0gLPl3-6"
   },
   "source": [
    "## Train classifier using classifier layers of model (or do supervised learning)"
   ]
  },
  {
   "cell_type": "raw",
   "metadata": {
    "id": "fmMkNykeVHbn"
   },
   "source": [
    "test_transfer_cm = get_cm(features_test, y_test)\n",
    "np.save(f'/content/drive/MyDrive/00 - ROI/GCaMP_ROI_classifier/new_stuff/npy-figures/TestingCM-{\"Un\" if not balanced else \"\"}Balanced-Transfer—L2Lambda={l2_alpha}.npy',\n",
    "        test_transfer_cm)\n",
    "torch.save(model.state_dict(), f'/content/drive/MyDrive/00 - ROI/GCaMP_ROI_classifier/new_stuff/npy-figures/TestingCM-{\"Un\" if not balanced else \"\"}Balanced-Transfer—L2Lambda={l2_alpha}.pth')\n",
    "\n",
    "np.save(f'/content/drive/MyDrive/00 - ROI/GCaMP_ROI_classifier/new_stuff/npy-figures/TestingCM-{\"Un\" if not balanced else \"\"}Balanced-SKLearn-Solver={solver}—C={C_reg}.npy',\n",
    "        logistic_pred_test)"
   ]
  },
  {
   "cell_type": "raw",
   "metadata": {
    "id": "zo42G3CeWozY"
   },
   "source": [
    "from sklearn.metrics import confusion_matrix\n",
    "\n",
    "def get_cm(pred_cm, y_cm, plot=False):\n",
    "  ### NOTE — RETURNS A MATRIX WITH PREDICTION NUM ASSOCIATED WITH ROW NUM\n",
    "  ### AND COLUMN NUM ASSOCIATED WITH TRUE VALUE. (TRANSPOSE OF SKLEARN OUTPUT.)\n",
    "\n",
    "  cm = confusion_matrix(y_cm, np.argmax(pred_cm, -1))\n",
    "  cm = cm / np.where(cm.sum(1, keepdims=True)==0, np.ones_like(cm.sum(1, keepdims=True)), cm.sum(1, keepdims=True))\n",
    "  \n",
    "  # cm = classification.confusion_matrix(y_hat, y_labeled_val)\n",
    "  # print(cm)\n",
    "  \n",
    "  if plot:\n",
    "    plt.figure()\n",
    "    plt.imshow(cm)\n",
    "    plt.colorbar()\n",
    "    plt.show()\n",
    "  \n",
    "  return cm.T"
   ]
  },
  {
   "cell_type": "raw",
   "metadata": {
    "colab": {
     "base_uri": "https://localhost:8080/"
    },
    "id": "YWk_NgpNd2Ia",
    "outputId": "2959f230-bd91-46cd-e898-d270aade7e54"
   },
   "source": [
    "num_tr_ex = X_val.shape[0]\n",
    "\n",
    "\n",
    "# solver = 'lbfgs'\n",
    "solver = 'liblinear'\n",
    "# solver = 'newton-cg'\n",
    "C_reg = 0.01\n",
    "# C_reg = 0.0001\n",
    "\n",
    "\n",
    "# logreg = LogisticRegression(solver=solver, C=C_reg)\n",
    "# logreg = LogisticRegression(solver=solver, penalty='none', )\n",
    "# logreg = LogisticRegression(solver=solver, penalty='none', max_iter=4000)\n",
    "# logreg = LogisticRegression(solver=solver)\n",
    "logreg = LogisticRegression(solver=solver, C=C_reg)\n",
    "# logreg = LogisticRegression(solver='lbfgs', penalty='none', max_iter=4000)\n",
    "\n",
    "# base_features_train = base_model_frozen(x_feed_through_tr).detach().cpu()\n",
    "base_features_train = cpu_tr.cpu().detach().numpy()\n",
    "logreg.fit(base_features_train, y_train)\n",
    "\n",
    "# base_features_val = base_model_frozen(x_feed_through_val).detach().cpu()\n",
    "base_features_val = cpu_val.cpu().detach().numpy()\n",
    "\n",
    "base_features_te = cpu_te.cpu().detach().numpy()\n",
    "\n",
    "# base_model_frozen.to('cpu')\n",
    "# X_labeled_train.to('cpu')\n",
    "\n",
    "logistic_pred_train = get_cm(logreg.predict_proba(base_features_train), y_train)\n",
    "logistic_pred_val = get_cm(logreg.predict_proba(base_features_val), y_val)\n",
    "logistic_pred_test = get_cm(logreg.predict_proba(base_features_te), y_test)\n",
    "\n",
    "\n",
    "x_feed_through_tr.to(DEVICE)\n",
    "x_feed_through_val.to(DEVICE)\n",
    "x_feed_through_te.to(DEVICE)\n",
    "\n",
    "print(x_feed_through_tr.shape, x_feed_through_val.shape)"
   ]
  },
  {
   "cell_type": "code",
   "execution_count": null,
   "metadata": {
    "id": "WLH9o3jLl4G_"
   },
   "outputs": [],
   "source": []
  },
  {
   "cell_type": "markdown",
   "metadata": {
    "id": "QjNJk6Qwl4O3"
   },
   "source": [
    "Freeze pre-head layers, unfreeze classification layers"
   ]
  },
  {
   "cell_type": "markdown",
   "metadata": {
    "id": "Zq4toNxdl4jb"
   },
   "source": [
    "Define labeled dataset to use"
   ]
  },
  {
   "cell_type": "raw",
   "metadata": {
    "id": "MGvBSux9l4pn"
   },
   "source": [
    "X_labeled_train, X_labeled_val, y_labeled_train, y_labeled_val"
   ]
  },
  {
   "cell_type": "markdown",
   "metadata": {
    "id": "JS_mTd7cl4vI"
   },
   "source": [
    "Train model"
   ]
  },
  {
   "cell_type": "code",
   "execution_count": null,
   "metadata": {},
   "outputs": [],
   "source": [
    "from torch.nn import CrossEntropyLoss\n",
    "from torch.optim import Adam\n",
    "\n",
    "import numpy as np\n",
    "\n",
    "from sklearn.linear_model import LogisticRegression\n",
    "from sklearn.tree import DecisionTreeClassifier\n",
    "from sklearn.ensemble import RandomForestClassifier\n",
    "from sklearn.svm import SVC\n",
    "\n",
    "criterion = [CrossEntropyLoss()]\n",
    "# criterion = CrossEntropyLoss(reduction='none')\n",
    "\n",
    "# optimizer = Adam(model.parameters(), lr=1e-2, weight_decay=0.0)\n",
    "# optimizer = Adam(model.parameters(), lr=2e-2)\n",
    "optimizer = Adam(model.parameters(), lr=10**(-4.5))\n",
    "scheduler = torch.optim.lr_scheduler.ExponentialLR(optimizer,\n",
    "                                                   gamma=1-0.0000,\n",
    "#                                                    gamma=1,\n",
    "                                                  )\n",
    "criterion = [_.to(DEVICE) for _ in criterion]\n",
    "losses_train, losses_val, val_accs, acc = [], [np.nan], [], []"
   ]
  },
  {
   "cell_type": "code",
   "execution_count": null,
   "metadata": {},
   "outputs": [],
   "source": [
    "def transform_null(var):\n",
    "    return(var)"
   ]
  },
  {
   "cell_type": "code",
   "execution_count": null,
   "metadata": {},
   "outputs": [],
   "source": [
    "model.reinit_classifier()\n",
    "model.train()\n",
    "model.prep_classifier()"
   ]
  },
  {
   "cell_type": "code",
   "execution_count": null,
   "metadata": {},
   "outputs": [],
   "source": [
    "dataset_validation = util.dataset_simCLR(\n",
    "                                    torch.as_tensor(masks_cat, device='cpu', dtype=torch.float32), \n",
    "                                    torch.as_tensor(torch.zeros(masks_cat.shape[0]), device='cpu', dtype=torch.float32),\n",
    "\n",
    "                                    n_transforms=1,\n",
    "                                    class_weights=np.array([1]),\n",
    "                                    # class_weights=np.array([1]*4)[np.random.randint(0,4, X_train.shape[0])],\n",
    "                                    transform=scripted_transforms_validation,\n",
    "                                    # DEVICE='cpu',\n",
    "                                    DEVICE='cpu',\n",
    "                                    dtype_X=torch.float32,\n",
    "                                    dtype_y=torch.int64,\n",
    "                                    \n",
    "                                    temp_uncertainty=16\n",
    "                                    )\n",
    "dataloader_validation = torch.utils.data.DataLoader( dataset_validation,\n",
    "#                                                 batch_size=int(pct_batch_size*X_train.shape[0]),\n",
    "                                                batch_size=1024,\n",
    "                                                shuffle=True,\n",
    "                                                drop_last=True,\n",
    "                                                pin_memory=True,\n",
    "                                                num_workers=32,\n",
    "                                                persistent_workers=True,\n",
    "                                                # prefetch_factor=0\n",
    "                                                )"
   ]
  },
  {
   "cell_type": "code",
   "execution_count": null,
   "metadata": {
    "id": "v4WvU5xxl41A"
   },
   "outputs": [],
   "source": [
    "data_unlabeled = torch.as_tensor(masks_cat, dtype=torch.float32, device='cpu')\n",
    "\n",
    "# model.to(DEVICE)\n",
    "\n",
    "l2_alpha = 0.000\n",
    "\n",
    "n_epochs=300000\n",
    "for epoch in range(n_epochs):\n",
    "    print(f'epoch: {epoch}')\n",
    "    loss_rolling_train = training_simCLR.epoch_step(dataloader_validation, \n",
    "                                    model, \n",
    "                                    optimizer, \n",
    "                                    criterion, \n",
    "\n",
    "                                    # penalized_params, l2_alpha,\n",
    "\n",
    "                                    scheduler=scheduler,\n",
    "                                    L2_alpha=0.04,\n",
    "                                    mode='supervised',\n",
    "                                    loss_rolling_train=losses_train, \n",
    "                                    device=DEVICE, \n",
    "                                    loss_rolling_val=losses_val,\n",
    "                                    verbose=2,\n",
    "                                    verbose_update_period=1,\n",
    "                                   \n",
    "#                                     do_validation=False,\n",
    "#                                     X_val=x_feed_through_val,\n",
    "#                                     y_val=torch.as_tensor(y_val, device=DEVICE)\n",
    "                                   )"
   ]
  },
  {
   "cell_type": "markdown",
   "metadata": {
    "id": "HAcpUsTJl46l"
   },
   "source": [
    "Evalculate model"
   ]
  },
  {
   "cell_type": "code",
   "execution_count": null,
   "metadata": {
    "id": "aHaYL5XjaBfP"
   },
   "outputs": [],
   "source": [
    "%matplotlib notebook\n",
    "\n",
    "plt.figure()\n",
    "plt.plot(loss_rolling_train)\n",
    "\n",
    "data_in = torch.as_tensor(X_labeled_val, dtype=torch.float32, device=DEVICE)\n",
    "# data_in = torch.as_tensor(X_labeled_train, dtype=torch.float32, device=DEVICE)\n",
    "data_in = util.tile_channels(data_in[:,None,...], dim=1)\n",
    "proba = torch.nn.functional.softmax(model.forward_classifier(data_in), dim=1)\n",
    "cm = classification.confusion_matrix(proba.detach().cpu().numpy(), y_labeled_val)\n",
    "# cm = classification.confusion_matrix(proba.detach().cpu().numpy(), y_labeled_train)\n",
    "\n",
    "plt.figure()\n",
    "plt.imshow(cm, aspect='auto')\n",
    "plt.colorbar()"
   ]
  },
  {
   "cell_type": "code",
   "execution_count": null,
   "metadata": {
    "id": "aHaYL5XjaBfP"
   },
   "outputs": [],
   "source": [
    "%matplotlib notebook\n",
    "data_in = torch.as_tensor(X_labeled_train, dtype=torch.float32, device=DEVICE)\n",
    "data_in = util.tile_channels(data_in[:,None,...], dim=1)\n",
    "proba = torch.nn.functional.softmax(model.forward_classifier(data_in), dim=1)\n",
    "cm = classification.confusion_matrix(proba.detach().cpu().numpy(), y_labeled_train)\n",
    "\n",
    "plt.figure()\n",
    "plt.imshow(cm)\n",
    "plt.colorbar()"
   ]
  },
  {
   "cell_type": "code",
   "execution_count": null,
   "metadata": {
    "id": "QNlRDjrVaCD-"
   },
   "outputs": [],
   "source": []
  },
  {
   "cell_type": "code",
   "execution_count": null,
   "metadata": {},
   "outputs": [],
   "source": [
    "misc.estimate_size_of_float_array(input_shape=(80000,3,224,224), bitsize=32)/1000000000"
   ]
  },
  {
   "cell_type": "code",
   "execution_count": null,
   "metadata": {},
   "outputs": [],
   "source": []
  },
  {
   "cell_type": "markdown",
   "metadata": {},
   "source": [
    "## Use sklearn to train classifier"
   ]
  },
  {
   "cell_type": "code",
   "execution_count": null,
   "metadata": {
    "id": "rU8l0eP02TQR"
   },
   "outputs": [],
   "source": [
    "transforms_validation = torch.nn.Sequential(\n",
    "    augmentation.ScaleDynamicRange(scaler_bounds=(0,1)),\n",
    "    torchvision.transforms.Resize(size=(224,224),\n",
    "                                  interpolation=torchvision.transforms.InterpolationMode.BILINEAR), \n",
    "    augmentation.TileChannels(dim=0, n_channels=3),\n",
    "#     augmentation.Normalize(  means=[0.485, 0.456, 0.406],\n",
    "#                              stds=[0.229, 0.224, 0.225]),\n",
    "#     torchvision.transforms.Normalize(mean=[0.485, 0.456, 0.406],\n",
    "#                                      std=[0.229, 0.224, 0.225],\n",
    "#                                      inplace=False),\n",
    ")\n",
    "scripted_transforms_validation = torch.jit.script(transforms_validation)\n",
    "# scripted_transforms = transforms\n"
   ]
  },
  {
   "cell_type": "code",
   "execution_count": null,
   "metadata": {},
   "outputs": [],
   "source": [
    "dataset_labeled_train = util.dataset_simCLR(\n",
    "                                    # torch.as_tensor(X_labeled_train, device='cpu', dtype=torch.float32), \n",
    "                                    torch.as_tensor(X_labeled_train_SYT, device='cpu', dtype=torch.float32), \n",
    "                                    # torch.as_tensor(torch.zeros(X_labeled_train.shape[0]), device='cpu', dtype=torch.float32),\n",
    "                                    torch.as_tensor(torch.zeros(X_labeled_train_SYT.shape[0]), device='cpu', dtype=torch.float32),\n",
    "\n",
    "                                    n_transforms=1,\n",
    "                                    class_weights=np.array([1]),\n",
    "                                    # class_weights=np.array([1]*4)[np.random.randint(0,4, X_train.shape[0])],\n",
    "                                    transform=scripted_transforms_validation,\n",
    "                                    # DEVICE='cpu',\n",
    "                                    DEVICE='cpu',\n",
    "                                    dtype_X=torch.float32,\n",
    "                                    dtype_y=torch.int64,\n",
    "                                    \n",
    "                                    temp_uncertainty=16\n",
    "                                    )\n",
    "dataset_labeled_val = util.dataset_simCLR(\n",
    "                                    # torch.as_tensor(X_labeled_val, device='cpu', dtype=torch.float32), \n",
    "                                    torch.as_tensor(X_labeled_val_SYT, device='cpu', dtype=torch.float32), \n",
    "                                    # torch.as_tensor(torch.zeros(X_labeled_val.shape[0]), device='cpu', dtype=torch.float32),\n",
    "                                    torch.as_tensor(torch.zeros(X_labeled_val_SYT.shape[0]), device='cpu', dtype=torch.float32),\n",
    "\n",
    "                                    n_transforms=1,\n",
    "                                    class_weights=np.array([1]),\n",
    "                                    # class_weights=np.array([1]*4)[np.random.randint(0,4, X_train.shape[0])],\n",
    "                                    transform=scripted_transforms_validation,\n",
    "                                    # DEVICE='cpu',\n",
    "                                    DEVICE='cpu',\n",
    "                                    dtype_X=torch.float32,\n",
    "                                    dtype_y=torch.int64,\n",
    "                                    \n",
    "                                    temp_uncertainty=16\n",
    "                                    )\n",
    "dataloader_labeled_train = torch.utils.data.DataLoader( dataset_labeled_train,\n",
    "    #                                                 batch_size=int(pct_batch_size*X_train.shape[0]),\n",
    "                                                    batch_size=1024,\n",
    "                                                    shuffle=False,\n",
    "                                                    drop_last=False,\n",
    "                                                    pin_memory=True,\n",
    "                                                    num_workers=16,\n",
    "                                                    persistent_workers=True,\n",
    "                                                    # prefetch_factor=0\n",
    "                                                    )\n",
    "dataloader_labeled_val = torch.utils.data.DataLoader( dataset_labeled_val,\n",
    "    #                                                 batch_size=int(pct_batch_size*X_train.shape[0]),\n",
    "                                                    batch_size=1024,\n",
    "                                                    shuffle=False,\n",
    "                                                    drop_last=False,\n",
    "                                                    pin_memory=True,\n",
    "                                                    num_workers=16,\n",
    "                                                    persistent_workers=True,\n",
    "                                                    # prefetch_factor=0\n",
    "                                                    )\n"
   ]
  },
  {
   "cell_type": "code",
   "execution_count": null,
   "metadata": {},
   "outputs": [],
   "source": [
    "DEVICE = torch_helpers.set_device(use_GPU=True)"
   ]
  },
  {
   "cell_type": "code",
   "execution_count": null,
   "metadata": {},
   "outputs": [],
   "source": [
    "model.eval()\n",
    "model.to(DEVICE)\n",
    "features_train = torch.cat([model.get_head(model.base_model(data[0][0].to(DEVICE))).detach().cpu() for data in dataloader_labeled_train], dim=0)\n",
    "features_val   = torch.cat([model.get_head(model.base_model(data[0][0].to(DEVICE))).detach().cpu() for data in dataloader_labeled_val], dim=0)"
   ]
  },
  {
   "cell_type": "code",
   "execution_count": null,
   "metadata": {},
   "outputs": [],
   "source": [
    "features_train.shape, features_val.shape"
   ]
  },
  {
   "cell_type": "markdown",
   "metadata": {},
   "source": [
    "run a sweep of logistic regressions over C (1/L2) parameter"
   ]
  },
  {
   "cell_type": "code",
   "execution_count": null,
   "metadata": {},
   "outputs": [],
   "source": [
    "acc_train, acc_val = [], []\n",
    "# C_toUse = np.array([1000,100,10,1,0.1,0.01,0.001,0.0001,0.00001])\n",
    "C_toUse = np.array([10,1,0.1,0.01,0.001,0.0001,0.00001])\n",
    "for C in C_toUse:\n",
    "#     print(f'C = {C}')\n",
    "    logreg = sklearn.linear_model.LogisticRegression(solver='liblinear', max_iter=800, C=C)\n",
    "#     tic = time.time()\n",
    "    logreg.fit(features_train, y_labeled_train_SYT)\n",
    "    # logreg.fit(features_train, y_labeled_train)\n",
    "#     print(f'time: {time.time() - tic}')\n",
    "    acc = logreg.score(features_train, y_labeled_train_SYT)\n",
    "    # acc = logreg.score(features_train, y_labeled_train)\n",
    "    acc_train.append(acc)\n",
    "#     print(f'acc_train: {acc}')\n",
    "    acc = logreg.score(features_val, y_labeled_val_SYT)\n",
    "    # acc = logreg.score(features_val, y_labeled_val)\n",
    "    acc_val.append(acc)\n",
    "#     print(f'acc_val: {acc}')\n",
    "#     print('')\n",
    "    \n",
    "\n",
    "plt.figure()\n",
    "plt.plot(C_toUse, acc_train)\n",
    "plt.plot(C_toUse, acc_val)\n",
    "plt.xscale('log')\n",
    "plt.xlabel('C')\n",
    "plt.ylabel('acc')\n",
    "plt.legend(['train', 'test']);"
   ]
  },
  {
   "cell_type": "code",
   "execution_count": null,
   "metadata": {},
   "outputs": [],
   "source": [
    "# acc_train, acc_val = [], []\n",
    "# # C_toUse = np.array([1000,100,10,1,0.1,0.01,0.001,0.0001,0.00001])\n",
    "# # C_toUse = np.array([10,1,0.1,0.01,0.001,0.0001,0.00001])\n",
    "# C_toUse = np.array([10000])\n",
    "# for C in tqdm(C_toUse):\n",
    "# #     print(f'C = {C}')\n",
    "#     logreg = sklearn.linear_model.LogisticRegression(solver='liblinear', max_iter=800, C=C)\n",
    "# #     tic = time.time()\n",
    "#     logreg.fit(features_train, y_labeled_train_SYT)\n",
    "# #     print(f'time: {time.time() - tic}')\n",
    "#     acc = logreg.score(features_train, y_labeled_train_SYT)\n",
    "#     acc_train.append(acc)\n",
    "# #     print(f'acc_train: {acc}')\n",
    "#     acc = logreg.score(features_val, y_labeled_val_SYT)\n",
    "#     acc_val.append(acc)\n",
    "# #     print(f'acc_val: {acc}')\n",
    "# #     print('')\n",
    "    \n",
    "\n",
    "# plt.figure()\n",
    "# plt.plot(C_toUse, acc_train)\n",
    "# plt.plot(C_toUse, acc_val)\n",
    "# plt.xscale('log')\n",
    "# plt.xlabel('C')\n",
    "# plt.ylabel('acc')\n",
    "# plt.legend(['train', 'test']);"
   ]
  },
  {
   "cell_type": "markdown",
   "metadata": {},
   "source": [
    "run a sinlg logistic regression with desired parameters and check confusion matrix"
   ]
  },
  {
   "cell_type": "code",
   "execution_count": null,
   "metadata": {},
   "outputs": [],
   "source": [
    "logreg = sklearn.linear_model.LogisticRegression(solver='liblinear', max_iter=800, C=10**(1)).fit(features_train, y_labeled_train_SYT)"
   ]
  },
  {
   "cell_type": "code",
   "execution_count": null,
   "metadata": {},
   "outputs": [],
   "source": [
    "%matplotlib inline\n",
    "proba = logreg.predict_proba(features_train)\n",
    "\n",
    "preds = np.argmax(proba, axis=1)\n",
    "# cm = classification.confusion_matrix(preds, y_labeled_train)\n",
    "cm = classification.confusion_matrix(preds, y_labeled_train_SYT)\n",
    "\n",
    "plt.figure()\n",
    "sns.heatmap(cm, annot=True, annot_kws={\"size\": 16}, vmax=1., cmap=plt.get_cmap('gray'))\n",
    "plt.title('train');\n",
    "\n",
    "proba = logreg.predict_proba(features_val)\n",
    "preds = np.argmax(proba, axis=1)\n",
    "# cm = classification.confusion_matrix(preds, y_labeled_val)\n",
    "cm = classification.confusion_matrix(preds, y_labeled_val_SYT)\n",
    "\n",
    "plt.figure()\n",
    "sns.heatmap(cm, annot=True, annot_kws={\"size\": 16}, vmax=1., cmap=plt.get_cmap('gray'))\n",
    "plt.title('val');\n"
   ]
  },
  {
   "cell_type": "code",
   "execution_count": null,
   "metadata": {},
   "outputs": [],
   "source": [
    "# %matplotlib notebook\n",
    "# proba = logreg.predict_proba(features_train)\n",
    "\n",
    "# preds = np.argmax(proba, axis=1)\n",
    "# cm = classification.confusion_matrix(preds, y_labeled_train_SYT)\n",
    "\n",
    "# plt.figure()\n",
    "# sns.heatmap(cm, annot=True, annot_kws={\"size\": 16}, vmax=1., cmap=plt.get_cmap('gray'))\n",
    "# plt.title('train');\n",
    "\n",
    "# proba = logreg.predict_proba(features_val)\n",
    "# preds = np.argmax(proba, axis=1)\n",
    "# cm = classification.confusion_matrix(preds, y_labeled_val_SYT)\n",
    "\n",
    "# plt.figure()\n",
    "# sns.heatmap(cm, annot=True, annot_kws={\"size\": 16}, vmax=1., cmap=plt.get_cmap('gray'))\n",
    "# plt.title('val');\n"
   ]
  },
  {
   "cell_type": "code",
   "execution_count": null,
   "metadata": {},
   "outputs": [],
   "source": []
  },
  {
   "cell_type": "code",
   "execution_count": null,
   "metadata": {},
   "outputs": [],
   "source": []
  },
  {
   "cell_type": "code",
   "execution_count": null,
   "metadata": {},
   "outputs": [],
   "source": []
  },
  {
   "cell_type": "markdown",
   "metadata": {
    "id": "_CchY4kGDB00"
   },
   "source": [
    "## Check embeddings"
   ]
  },
  {
   "cell_type": "code",
   "execution_count": null,
   "metadata": {},
   "outputs": [],
   "source": [
    "model.eval();\n",
    "# model.to(DEVICE);"
   ]
  },
  {
   "cell_type": "code",
   "execution_count": null,
   "metadata": {
    "id": "JcrdLrYtDB00"
   },
   "outputs": [],
   "source": [
    "torch.cuda.empty_cache()"
   ]
  },
  {
   "cell_type": "code",
   "execution_count": null,
   "metadata": {
    "tags": []
   },
   "outputs": [],
   "source": [
    "# dataset_unlabeled_noAug = util.dataset_simCLR(\n",
    "#                                     torch.as_tensor(masks_cat[:], device='cpu', dtype=torch.float32), \n",
    "#                                     torch.as_tensor(torch.zeros(masks_cat[:].shape[0]), device='cpu', dtype=torch.float32),\n",
    "\n",
    "#                                     n_transforms=1,\n",
    "#                                     class_weights=np.array([1]),\n",
    "#                                     # class_weights=np.array([1]*4)[np.random.randint(0,4, X_train.shape[0])],\n",
    "#                                     transform=scripted_transforms_validation,\n",
    "#                                     # DEVICE='cpu',\n",
    "#                                     DEVICE='cpu',\n",
    "#                                     dtype_X=torch.float32,\n",
    "#                                     dtype_y=torch.int64,\n",
    "                                    \n",
    "#                                     temp_uncertainty=16\n",
    "#                                     )\n",
    "# dataloader_unlabeled_noAug = torch.utils.data.DataLoader( dataset_unlabeled_noAug,\n",
    "# #                                                 batch_size=int(pct_batch_size*X_train.shape[0]),\n",
    "#                                                 batch_size=1024,\n",
    "#                                                 shuffle=False,\n",
    "#                                                 drop_last=False,\n",
    "#                                                 pin_memory=True,\n",
    "#                                                 num_workers=32,\n",
    "#                                                 persistent_workers=True,\n",
    "#                                                 # prefetch_factor=0\n",
    "#                                                 )"
   ]
  },
  {
   "cell_type": "code",
   "execution_count": null,
   "metadata": {},
   "outputs": [],
   "source": [
    "masks_labe"
   ]
  },
  {
   "cell_type": "code",
   "execution_count": null,
   "metadata": {},
   "outputs": [],
   "source": [
    "dataset_unlabeled_noAug = util.dataset_simCLR(\n",
    "                                    torch.as_tensor(images_dup[:], device='cpu', dtype=torch.float32), \n",
    "                                    torch.as_tensor(torch.zeros(images_dup[:].shape[0]), device='cpu', dtype=torch.float32),\n",
    "\n",
    "                                    n_transforms=1,\n",
    "                                    class_weights=np.array([1]),\n",
    "                                    # class_weights=np.array([1]*4)[np.random.randint(0,4, X_train.shape[0])],\n",
    "                                    transform=scripted_transforms_validation,\n",
    "                                    # DEVICE='cpu',\n",
    "                                    DEVICE='cpu',\n",
    "                                    dtype_X=torch.float32,\n",
    "                                    dtype_y=torch.int64,\n",
    "                                    \n",
    "                                    temp_uncertainty=16\n",
    "                                    )\n",
    "dataloader_unlabeled_noAug = torch.utils.data.DataLoader( dataset_unlabeled_noAug,\n",
    "#                                                 batch_size=int(pct_batch_size*X_train.shape[0]),\n",
    "                                                batch_size=1024,\n",
    "                                                shuffle=False,\n",
    "                                                drop_last=False,\n",
    "                                                pin_memory=True,\n",
    "                                                num_workers=16,\n",
    "                                                persistent_workers=True,\n",
    "                                                # prefetch_factor=0\n",
    "                                                )"
   ]
  },
  {
   "cell_type": "code",
   "execution_count": null,
   "metadata": {},
   "outputs": [],
   "source": [
    "# dataset_unlabeled_noAug = util.dataset_simCLR(\n",
    "#                                     torch.as_tensor(masks_SYT[:], device='cpu', dtype=torch.float32), \n",
    "#                                     torch.as_tensor(torch.zeros(masks_SYT[:].shape[0]), device='cpu', dtype=torch.float32),\n",
    "\n",
    "#                                     n_transforms=1,\n",
    "#                                     class_weights=np.array([1]),\n",
    "#                                     # class_weights=np.array([1]*4)[np.random.randint(0,4, X_train.shape[0])],\n",
    "#                                     transform=scripted_transforms_validation,\n",
    "#                                     # DEVICE='cpu',\n",
    "#                                     DEVICE='cpu',\n",
    "#                                     dtype_X=torch.float32,\n",
    "#                                     dtype_y=torch.int64,\n",
    "                                    \n",
    "#                                     temp_uncertainty=16\n",
    "#                                     )\n",
    "# dataloader_unlabeled_noAug = torch.utils.data.DataLoader( dataset_unlabeled_noAug,\n",
    "# #                                                 batch_size=int(pct_batch_size*X_train.shape[0]),\n",
    "#                                                 batch_size=1024,\n",
    "#                                                 shuffle=False,\n",
    "#                                                 drop_last=False,\n",
    "#                                                 pin_memory=True,\n",
    "#                                                 num_workers=32,\n",
    "#                                                 persistent_workers=True,\n",
    "#                                                 # prefetch_factor=0\n",
    "#                                                 )"
   ]
  },
  {
   "cell_type": "code",
   "execution_count": null,
   "metadata": {},
   "outputs": [],
   "source": [
    "# optional: run unlabeled data through model\n",
    "features_train = torch.cat([model.get_head(model.base_model(data[0][0].to(DEVICE))).detach().cpu() for data in dataloader_unlabeled_noAug], dim=0)"
   ]
  },
  {
   "cell_type": "code",
   "execution_count": null,
   "metadata": {
    "id": "HPyKFRdq28d3"
   },
   "outputs": [],
   "source": [
    "### REMOVE\n",
    "\n",
    "DEVICE='cuda'\n",
    "# DEVICE='cpu'"
   ]
  },
  {
   "cell_type": "code",
   "execution_count": null,
   "metadata": {
    "id": "7fpQXf0o28d3"
   },
   "outputs": [],
   "source": [
    "# model.to(DEVICE);"
   ]
  },
  {
   "cell_type": "code",
   "execution_count": null,
   "metadata": {
    "id": "7gwucuZXDB00"
   },
   "outputs": [],
   "source": [
    "_, features_embedded, _, evr = decomposition.torch_pca(features_train, device=DEVICE, return_cpu=True)"
   ]
  },
  {
   "cell_type": "code",
   "execution_count": null,
   "metadata": {},
   "outputs": [],
   "source": [
    "images_dup.shape"
   ]
  },
  {
   "cell_type": "code",
   "execution_count": null,
   "metadata": {},
   "outputs": [],
   "source": [
    "tsne = cuml.TSNE( n_components=2,\n",
    "                  perplexity=50.0,\n",
    "                  early_exaggeration=12.0,\n",
    "#                   late_exaggeration=1.0,\n",
    "                  learning_rate=200.0,\n",
    "                  n_iter=1000,\n",
    "                  n_iter_without_progress=300,\n",
    "                  min_grad_norm=1e-07,\n",
    "                  metric='euclidean',\n",
    "                  init='random',\n",
    "                  verbose=False,\n",
    "#                   random_state=None,\n",
    "#                   method='barnes_hut',\n",
    "#                   angle=0.5,\n",
    "#                   learning_rate_method='adaptive',\n",
    "# #                   n_neighbors=90,\n",
    "#                   perplexity_max_iter=100,\n",
    "#                   exaggeration_iter=250,\n",
    "#                   pre_momentum=0.5,\n",
    "#                   post_momentum=0.8,\n",
    "# #                   square_distances=True,\n",
    "#                   handle=None,\n",
    "#                   output_type=None\n",
    "                )\n",
    "features_embedded = tsne.fit_transform(features_train.to(DEVICE)).get()"
   ]
  },
  {
   "cell_type": "code",
   "execution_count": null,
   "metadata": {},
   "outputs": [],
   "source": [
    "umap = cuml.UMAP(n_neighbors=100,\n",
    "                n_components=2,\n",
    "                n_epochs=None,\n",
    "                learning_rate=1.0,\n",
    "                min_dist=0.1,\n",
    "                spread=1.0,\n",
    "                set_op_mix_ratio=1.0, \n",
    "                local_connectivity=1.0,\n",
    "                repulsion_strength=1.0, \n",
    "                negative_sample_rate=5, \n",
    "                transform_queue_size=4.0, \n",
    "                init='spectral', \n",
    "                verbose=False,\n",
    "                a=None, \n",
    "                b=None, \n",
    "                target_n_neighbors=- 1, \n",
    "#                 target_weight=0.5, \n",
    "                target_metric='categorical', \n",
    "                handle=None,                \n",
    "                hash_input=False, \n",
    "                random_state=None, \n",
    "                callback=None, \n",
    "                output_type=None\n",
    "                )\n",
    "features_embedded = umap.fit_transform(features_train.to(DEVICE)).get()"
   ]
  },
  {
   "cell_type": "raw",
   "metadata": {},
   "source": [
    "torch_helpers.delete_all_cuda_tensors(globals())"
   ]
  },
  {
   "cell_type": "raw",
   "metadata": {},
   "source": [
    "torch.cuda.empty_cache()\n",
    "gc.collect()\n",
    "torch.cuda.empty_cache()\n",
    "gc.collect()\n",
    "torch.cuda.empty_cache()\n",
    "gc.collect()\n",
    "torch.cuda.empty_cache()\n",
    "gc.collect()"
   ]
  },
  {
   "cell_type": "raw",
   "metadata": {},
   "source": [
    "torch_helpers.tensor_sizeOnDisk(features_train)"
   ]
  },
  {
   "cell_type": "raw",
   "metadata": {
    "id": "2imvF8ZoDB00"
   },
   "source": [
    "from sklearn import manifold\n",
    "\n",
    "tsne = manifold.TSNE(n_components=2, \n",
    "                     perplexity=120.0, \n",
    "                     early_exaggeration=12.0, \n",
    "                     learning_rate=200, \n",
    "                     n_iter=1000, \n",
    "                     n_iter_without_progress=300, \n",
    "                     min_grad_norm=1e-07, \n",
    "                     metric='euclidean', \n",
    "                     init='pca', \n",
    "                     verbose=0, \n",
    "                     random_state=None, \n",
    "                     method='barnes_hut', \n",
    "                     angle=0.5, \n",
    "                     n_jobs=-1, \n",
    "#                      square_distances='legacy'\n",
    "                    )\n",
    "features_embedded = tsne.fit_transform(features_train.cpu())\n",
    "# features_embedded = tsne.fit_transform(features_embedded[:,:5].cpu())"
   ]
  },
  {
   "cell_type": "code",
   "execution_count": null,
   "metadata": {},
   "outputs": [],
   "source": [
    "features_embedded.shape, labels_dup.shape"
   ]
  },
  {
   "cell_type": "code",
   "execution_count": null,
   "metadata": {},
   "outputs": [],
   "source": []
  },
  {
   "cell_type": "code",
   "execution_count": null,
   "metadata": {
    "id": "sgxJ8VXwDB00"
   },
   "outputs": [],
   "source": [
    "import matplotlib as mpl\n",
    "\n",
    "# mpl.rcParams['image.cmap'] = 'Set1'\n",
    "%matplotlib inline\n",
    "plt.figure()\n",
    "plt.scatter(features_embedded[:,0], features_embedded[:,1], s=10, c=labels_dup, cmap=plt.get_cmap('tab10'))\n",
    "# plt.scatter(features_embedded[:,0], features_embedded[:,1], s=0.001)\n",
    "# plt.scatter(features_embedded[:,0], features_embedded[:,1], c=labels[labels!=3])\n",
    "# plt.scatter(features_embedded[:,0], features_embedded[:,1], c=y_val)\n",
    "# plt.scatter(features_embedded[:,4], features_embedded[:,5], c=y_train)\n",
    "# plt.scatter(features_embedded[:,11], features[:,43].cpu(), c=y_train)\n"
   ]
  },
  {
   "cell_type": "code",
   "execution_count": null,
   "metadata": {},
   "outputs": [],
   "source": [
    "%matplotlib inline\n",
    "plt.figure()\n",
    "plt.plot(evr[:20])"
   ]
  },
  {
   "cell_type": "code",
   "execution_count": null,
   "metadata": {},
   "outputs": [],
   "source": []
  },
  {
   "cell_type": "code",
   "execution_count": null,
   "metadata": {
    "id": "sgxJ8VXwDB00"
   },
   "outputs": [],
   "source": [
    "# import matplotlib as mpl\n",
    "\n",
    "# # mpl.rcParams['image.cmap'] = 'Set1'\n",
    "# %matplotlib notebook\n",
    "# plt.figure()\n",
    "# plt.scatter(features_embedded[:,0], features_embedded[:,1], s=10, c=labels_SYT, cmap=plt.get_cmap('tab10'))\n",
    "# # plt.scatter(features_embedded[:,0], features_embedded[:,1], s=0.001)\n",
    "# # plt.scatter(features_embedded[:,0], features_embedded[:,1], c=labels[labels!=3])\n",
    "# # plt.scatter(features_embedded[:,0], features_embedded[:,1], c=y_val)\n",
    "# # plt.scatter(features_embedded[:,4], features_embedded[:,5], c=y_train)\n",
    "# # plt.scatter(features_embedded[:,11], features[:,43].cpu(), c=y_train)\n"
   ]
  },
  {
   "cell_type": "code",
   "execution_count": null,
   "metadata": {
    "id": "sgxJ8VXwDB00"
   },
   "outputs": [],
   "source": []
  },
  {
   "cell_type": "code",
   "execution_count": null,
   "metadata": {
    "id": "sgxJ8VXwDB00"
   },
   "outputs": [],
   "source": [
    "import matplotlib as mpl\n",
    "\n",
    "# mpl.rcParams['image.cmap'] = 'Set1'\n",
    "%matplotlib notebook\n",
    "plt.figure()\n",
    "# plt.scatter(features_embedded[:,0], features_embedded[:,1], s=30, c=y_labeled_train, cmap=plt.get_cmap('tab10'))\n",
    "plt.scatter(features_embedded[:,0], features_embedded[:,1], s=0.2)\n",
    "# plt.scatter(features_embedded[:,0], features_embedded[:,1], c=labels[labels!=3])\n",
    "# plt.scatter(features_embedded[:,0], features_embedded[:,1], c=y_val)\n",
    "# plt.scatter(features_embedded[:,4], features_embedded[:,5], c=y_train)\n",
    "# plt.scatter(features_embedded[:,11], features[:,43].cpu(), c=y_train)\n"
   ]
  },
  {
   "cell_type": "code",
   "execution_count": null,
   "metadata": {
    "id": "UwFf2BsVDB00"
   },
   "outputs": [],
   "source": [
    "plt.figure()\n",
    "plt.imshow(features_train.cpu().detach(), aspect='auto', interpolation='antialiased')"
   ]
  },
  {
   "cell_type": "code",
   "execution_count": null,
   "metadata": {
    "id": "SARf-u1K28d4"
   },
   "outputs": [],
   "source": [
    "plt.figure()\n",
    "plt.plot(evr)\n",
    "# plt.yscale('log')"
   ]
  },
  {
   "cell_type": "code",
   "execution_count": null,
   "metadata": {
    "id": "SARf-u1K28d4"
   },
   "outputs": [],
   "source": [
    "plt.figure()\n",
    "plt.plot(evr)\n",
    "# plt.yscale('log')"
   ]
  },
  {
   "cell_type": "code",
   "execution_count": null,
   "metadata": {
    "id": "SARf-u1K28d4"
   },
   "outputs": [],
   "source": [
    "plt.figure()\n",
    "plt.plot(evr)\n",
    "# plt.yscale('log')"
   ]
  },
  {
   "cell_type": "code",
   "execution_count": null,
   "metadata": {
    "id": "SARf-u1K28d4"
   },
   "outputs": [],
   "source": [
    "plt.figure()\n",
    "plt.plot(evr)\n",
    "# plt.yscale('log')"
   ]
  },
  {
   "cell_type": "markdown",
   "metadata": {
    "id": "RiHXPapkDB00"
   },
   "source": [
    "## Check filters"
   ]
  },
  {
   "cell_type": "code",
   "execution_count": null,
   "metadata": {
    "id": "2aBVd9FTDB00"
   },
   "outputs": [],
   "source": [
    "list(model.state_dict().keys())"
   ]
  },
  {
   "cell_type": "code",
   "execution_count": null,
   "metadata": {
    "id": "dK_-Xu9EDB01"
   },
   "outputs": [],
   "source": [
    "layer_1 = model.state_dict()['base_model.0.weight'].cpu()\n",
    "layer_2 = model.state_dict()['base_model.4.0.conv1.weight'].cpu()\n",
    "layer_3 = model.state_dict()['base_model.7.0.conv1.weight'].cpu()\n",
    "layer_4 = model.state_dict()['base_model.7.1.conv2.weight'].cpu()\n",
    "\n",
    "plt.figure()\n",
    "for ii in range(layer_1.shape[1]):\n",
    "    for jj in range(layer_1.shape[0]):\n",
    "        plt.subplot2grid((layer_1.shape[1],layer_1.shape[0]),(ii,jj))\n",
    "        fig = plt.imshow(layer_1[jj,ii,:,:] , clim=(-0.2,0.2))\n",
    "        fig.axes.get_xaxis().set_visible(False)\n",
    "        fig.axes.get_yaxis().set_visible(False)\n",
    "\n",
    "plt.figure()\n",
    "for ii in range(16):\n",
    "    for jj in range(16):\n",
    "        plt.subplot2grid((16,16),(ii,jj))\n",
    "        fig = plt.imshow(layer_2[jj,ii,:,:], clim=(-.05,.05))\n",
    "        fig.axes.get_xaxis().set_visible(False)\n",
    "        fig.axes.get_yaxis().set_visible(False)\n",
    "\n",
    "plt.figure()\n",
    "for ii in range(16):\n",
    "    for jj in range(16):\n",
    "        plt.subplot2grid((16,16),(ii,jj))\n",
    "        fig = plt.imshow(layer_3[jj, ii,:,:], clim=(-.1,.1))\n",
    "        fig.axes.get_xaxis().set_visible(False)\n",
    "        fig.axes.get_yaxis().set_visible(False)\n",
    "        \n",
    "plt.figure()\n",
    "for ii in range(16):\n",
    "    for jj in range(16):\n",
    "        plt.subplot2grid((16,16),(ii,jj))\n",
    "        fig = plt.imshow(layer_4[jj, ii,:,:], clim=(-.1,.1))\n",
    "        fig.axes.get_xaxis().set_visible(False)\n",
    "        fig.axes.get_yaxis().set_visible(False)"
   ]
  },
  {
   "cell_type": "code",
   "execution_count": null,
   "metadata": {
    "id": "FGiz2fHFDB01"
   },
   "outputs": [],
   "source": []
  },
  {
   "cell_type": "code",
   "execution_count": null,
   "metadata": {
    "id": "mwJQBUhpDB01"
   },
   "outputs": [],
   "source": [
    "# torch.save(model.state_dict(), '/media/rich/bigSSD/Net_trainedOnAug_20211025_trainingSet_mouse628_20200903and20200815_simCLR.pth')"
   ]
  },
  {
   "cell_type": "code",
   "execution_count": null,
   "metadata": {
    "id": "1grXld0IDB01"
   },
   "outputs": [],
   "source": [
    "# model = Net()\n",
    "# model.load_state_dict(torch.load('test_save.pth'))\n",
    "# model.eval()"
   ]
  },
  {
   "cell_type": "code",
   "execution_count": null,
   "metadata": {
    "id": "quqNFL1jDB01"
   },
   "outputs": [],
   "source": []
  },
  {
   "cell_type": "code",
   "execution_count": null,
   "metadata": {},
   "outputs": [],
   "source": []
  },
  {
   "cell_type": "code",
   "execution_count": null,
   "metadata": {},
   "outputs": [],
   "source": []
  },
  {
   "cell_type": "code",
   "execution_count": null,
   "metadata": {},
   "outputs": [],
   "source": []
  },
  {
   "cell_type": "markdown",
   "metadata": {},
   "source": [
    "# Graveyard"
   ]
  },
  {
   "cell_type": "code",
   "execution_count": null,
   "metadata": {
    "colab": {
     "base_uri": "https://localhost:8080/"
    },
    "id": "rvDiVxDICXEn",
    "outputId": "2c29e3cf-4515-4aae-f0b1-22e30d51fa5f"
   },
   "outputs": [],
   "source": [
    "data_unlabeled = torch.as_tensor(masks_cat, dtype=torch.float32, device='cpu')\n",
    "\n",
    "model.to(DEVICE)\n",
    "\n",
    "# penalized_params = list(model.modules())[-1].parameters()\n",
    "# penalized_params = torch.cat([_.view(-1) for _ in penalized_params], -1)\n",
    "\n",
    "early_stopping = 50\n",
    "prv_best_val = np.inf\n",
    "early_stopping_cnt = 0\n",
    "\n",
    "l2_alpha = 0.1\n",
    "\n",
    "n_epochs=300000\n",
    "for epoch in range(n_epochs):\n",
    "    print(f'epoch: {epoch}')\n",
    "#     loss_rolling_train, loss_rolling_val = training_supervised.epoch_step(dataloader_train, \n",
    "#                                     model, \n",
    "#                                     optimizer, \n",
    "#                                     criterion, \n",
    "\n",
    "#                                     penalized_params, l2_alpha,\n",
    "\n",
    "#                                     scheduler=scheduler,\n",
    "#                                     loss_rolling_train=losses_train, \n",
    "#                                     device=DEVICE, \n",
    "#                                     loss_rolling_val=losses_val,\n",
    "#                                     verbose=2,\n",
    "#                                     verbose_update_period=100,\n",
    "                                   \n",
    "#                                     do_validation=True,\n",
    "#                                     X_val=x_feed_through_val,\n",
    "#                                     y_val=torch.as_tensor(y_val, device=DEVICE)\n",
    "#                                    )\n",
    "    \n",
    "    loss_rolling_train, loss_rolling_val = training_simCLR.epoch_step(dataloader_train, \n",
    "                                    model, \n",
    "                                    optimizer, \n",
    "                                    criterion, \n",
    "\n",
    "                                    # penalized_params, l2_alpha,\n",
    "\n",
    "                                    scheduler=scheduler,\n",
    "                                    loss_rolling_train=losses_train, \n",
    "                                    device=DEVICE, \n",
    "                                    loss_rolling_val=losses_val,\n",
    "                                    verbose=2,\n",
    "                                    verbose_update_period=100,\n",
    "                                   \n",
    "                                    do_validation=True,\n",
    "                                    X_val=x_feed_through_val,\n",
    "                                    y_val=torch.as_tensor(y_val, device=DEVICE)\n",
    "                                   )\n",
    "    \n",
    "    \n",
    "    if early_stopping:\n",
    "      if len(loss_rolling_val) > 0:\n",
    "        if loss_rolling_val[-1] < prv_best_val:\n",
    "          early_stopping_cnt = 0\n",
    "          prv_best_val = loss_rolling_val[-1]\n",
    "          torch.save(model.state_dict(), f'{base_dir}/github_repos/GCaMP_ROI_classifier/new_stuff/models/checkpoints/checkpoint.pth')\n",
    "        else:\n",
    "          early_stopping_cnt += 1\n",
    "    \n",
    "      if early_stopping_cnt >= early_stopping:\n",
    "        model.load_state_dict(torch.load(f'{base_dir}/github_repos/GCaMP_ROI_classifier/new_stuff/models/checkpoints/checkpoint.pth'))\n",
    "        break\n",
    "    \n",
    "    # torch_helpers.show_all_tensors(globals())\n",
    "    \n",
    "    features_train = model(x_feed_through_tr)\n",
    "    features_train = features_train.cpu().detach().numpy()\n",
    "    features_val = model(x_feed_through_val)\n",
    "    features_val = features_val.cpu().detach().numpy()\n",
    "    # y_hat = scipy.special.softmax(features_val, axis=-1) # logreg.predict_proba(features_val)\n",
    "    \n",
    "    print('Training Confusion Matrix')\n",
    "    print(get_cm(features_train, y_train))\n",
    "    print()\n",
    "    print(logistic_pred_train)\n",
    "\n",
    "    print()\n",
    "    print()\n",
    "\n",
    "    print('Val Confusion Matrix')\n",
    "    print(get_cm(features_val, y_val))\n",
    "    print()\n",
    "    print(logistic_pred_val)\n",
    "\n",
    "    # model.to(DEVICE)\n",
    "    print()\n",
    "    print()\n"
   ]
  },
  {
   "cell_type": "raw",
   "metadata": {
    "id": "E5EeUhzUDB0v"
   },
   "source": [
    "%matplotlib notebook\n",
    "\n",
    "logreg = LogisticRegression(solver='liblinear', max_iter=30)\n",
    "# logreg_predict_head = LogisticRegression(solver='liblinear')\n",
    "dataset_train.classification_model = None\n",
    "\n",
    "\n",
    "\n",
    "# scheduler = torch.optim.lr_scheduler.ExponentialLR(optimizer,\n",
    "#                                                    gamma=1-0.001,\n",
    "# #                                                    gamma=1,\n",
    "#                                                   )\n",
    "n_epochs=300000\n",
    "for epoch in range(n_epochs):\n",
    "    print(f'epoch: {epoch}')\n",
    "\n",
    "    model.prep_contrast()\n",
    "    training_simCLR.epoch_step( dataloader_train, \n",
    "                                model, \n",
    "                                optimizer, \n",
    "                                criterion,\n",
    "                                scheduler=scheduler, \n",
    "                                temperature=0.5,\n",
    "                                loss_rolling_train=losses_train, \n",
    "                                device=DEVICE, \n",
    "                                do_validation=False,\n",
    "#                                 validation_Object=val_obj,\n",
    "                                loss_rolling_val=losses_val,\n",
    "                                verbose=2,\n",
    "                                verbose_update_period=100,\n",
    "                               )\n",
    "    \n",
    "\n",
    "    model.prep_classifier()\n",
    "\n",
    "    # print(util.tile_channels(torch.as_tensor(X_labeled_train[:,None,...], device=DEVICE, dtype=torch.float32), dim=1).shape)\n",
    "\n",
    "    features_train = model.get_head(model.base_model(util.tile_channels(torch.as_tensor(X_labeled_train[:,None,...], device=DEVICE, dtype=torch.float32), dim=1))).detach().cpu()\n",
    "    # features_train = model(util.tile_channels(torch.as_tensor(X_labeled_train[:,None,...], device=DEVICE, dtype=torch.float32), dim=1)).detach().cpu()\n",
    "    # features_train = model(torch.as_tensor(X_labeled_train, device=DEVICE, dtype=torch.float32)[:,None,...]).detach().cpu()\n",
    "    # features = model(torch.tensor(X_train[y_train != 3], device=DEVICE, dtype=torch.float32)[:,None,...]).detach().cpu()\n",
    "    \n",
    "    tic = time.time()\n",
    "    logreg.fit(features_train, y_labeled_train)\n",
    "    print(time.time() - tic)\n",
    "    acc.append(logreg.score(features_train, y_labeled_train))\n",
    "    print(f'acc: {acc[-1]}')\n",
    "    \n",
    "    dataset_train.net_model = copy.deepcopy(model).to('cpu')\n",
    "    dataset_train.classification_model = logreg\n",
    "    \n",
    "\n",
    "#     sample_id_num = np.arange(X_labeled_val.shape[0])\n",
    "#     epoch_val = epoch\n",
    "#     batch_val = -1\n",
    "#     p_tmp = logreg.predict_proba(model(torch.as_tensor(util.tile_channels(X_labeled_val), device=DEVICE, dtype=torch.float32)).detach().cpu())\n",
    "#     logits = p_tmp\n",
    "#     # logits = np.log(1/(1/p_tmp - 1))\n",
    "\n",
    "#     col_vals = [sample_id_num, epoch_val, batch_val, y_labeled_val]\n",
    "#     setup = np.empty((len(sample_id_num), len(col_vals)))\n",
    "#     for icv, col_val in enumerate(col_vals):\n",
    "#       setup[:, icv] = col_val\n",
    "#     tmp_tracking_np = np.concatenate([setup, logits], axis=1)\n",
    "\n",
    "#     tmp_tracking_df = pd.DataFrame(tmp_tracking_np, index=sample_id_num, columns=tracking_df_cols + [f'logits_{i}' for i in range(logits.shape[1])])\n",
    "#     tracking_df = tracking_df.append(tmp_tracking_df, ignore_index=True)\n",
    "#     display(tracking_df)\n",
    "\n",
    "\n",
    "    \n",
    "    features_val = model.get_head(model.base_model(util.tile_channels(torch.as_tensor(X_labeled_val[:,None,...], device=DEVICE, dtype=torch.float32), dim=1))).detach().cpu()\n",
    "\n",
    "\n",
    "    # logreg_predict_head.fit(features_train, y_labeled_train)\n",
    "    # y_hat = logreg_predict_head.predict_proba(features_val)\n",
    "\n",
    "    y_hat = logreg.predict_proba(features_val)\n",
    "    \n",
    "    cm = classification.confusion_matrix(y_hat, y_labeled_val)\n",
    "#     plt.figure()\n",
    "#     plt.imshow(cm)\n",
    "#     plt.colorbar()\n",
    "#     plt.show()\n",
    "    print(cm)\n",
    "\n",
    "\n",
    "    # tracking_df = tracking_df.append(pd.DataFrame([np.array([100, 0, 0, 0])], index=tracking_df_cols), ignore_index=True)\n",
    "    \n",
    "    # model predict\n",
    "    # Update model in DS\n",
    "    # get item calls model for each sample\n",
    "    # output\n",
    "    # X sample weights predictions\n",
    "    \n",
    "#     classHead.fit(X_train[:, None, :, :], y_train, solver='liblinear')\n",
    "    \n",
    "#     proba = classHead.predict_proba(X_train[:, None, :, :])\n",
    "#     class_weights = proba.sum(axis=0)\n",
    "#     total_num = class_weights.sum()\n",
    "    \n",
    "#     eps = 1e-4\n",
    "    \n",
    "#     class_weights[class_weights <= 3] = total_num\n",
    "#     weightings = class_weights.sum()/class_weights\n",
    "#     final_weights = weightings / weightings.sum()\n",
    "#     final_weights = np.array([1/proba.shape[1] for _ in range(proba.shape[1])])\n",
    "    \n",
    "#     print(class_weights)\n",
    "\n",
    "#     dataset_train.set_classweights(final_weights)\n",
    "    \n",
    "#     print('dataset_train.final_weights', dataset_train.class_weights)\n"
   ]
  },
  {
   "cell_type": "code",
   "execution_count": null,
   "metadata": {},
   "outputs": [],
   "source": []
  },
  {
   "cell_type": "markdown",
   "metadata": {},
   "source": [
    "# Timing Precomputation"
   ]
  },
  {
   "cell_type": "code",
   "execution_count": null,
   "metadata": {},
   "outputs": [],
   "source": [
    "model.eval()\n",
    "model.to(DEVICE);"
   ]
  },
  {
   "cell_type": "code",
   "execution_count": null,
   "metadata": {},
   "outputs": [],
   "source": [
    "all_transforms = torch.nn.Sequential(\n",
    "    augmentation.ScaleDynamicRange(scaler_bounds=(0,1)),\n",
    "    torchvision.transforms.Resize(size=(224,224),\n",
    "                                  interpolation=torchvision.transforms.InterpolationMode.BILINEAR), \n",
    "    augmentation.TileChannels(dim=0, n_channels=3),)\n",
    "no_transforms = torch.nn.Sequential()\n",
    "scale_rsz_transforms = torch.nn.Sequential(\n",
    "    augmentation.ScaleDynamicRange(scaler_bounds=(0,1)),\n",
    "    torchvision.transforms.Resize(size=(224,224),\n",
    "                                  interpolation=torchvision.transforms.InterpolationMode.BILINEAR))\n",
    "tile_transforms = torch.nn.Sequential(augmentation.TileChannels(dim=0, n_channels=3),)\n",
    "\n",
    "\n",
    "scripted_all_transforms = torch.jit.script(all_transforms)\n",
    "scripted_no_transforms = torch.jit.script(no_transforms)\n",
    "scripted_scale_rsz_transform = torch.jit.script(scale_rsz_transforms)\n",
    "scripted_tile_transform = torch.jit.script(tile_transforms)\n",
    "\n"
   ]
  },
  {
   "cell_type": "code",
   "execution_count": null,
   "metadata": {},
   "outputs": [],
   "source": []
  },
  {
   "cell_type": "code",
   "execution_count": null,
   "metadata": {},
   "outputs": [],
   "source": [
    "setup_transform = scripted_no_transforms\n",
    "run_transform = scripted_all_transforms\n",
    "\n",
    "setup_ds = util.dataset_simCLR(\n",
    "                                torch.as_tensor(X_labeled_train_SYT, device='cpu', dtype=torch.float32), \n",
    "                                torch.as_tensor(torch.zeros(X_labeled_train_SYT.shape[0]), device='cpu', dtype=torch.float32),\n",
    "\n",
    "                                \n",
    "                                n_transforms=1,\n",
    "                                transform=setup_transform,\n",
    "                                class_weights=np.array([1]),\n",
    "                                DEVICE='cpu',\n",
    "                                dtype_X=torch.float32,\n",
    "                                dtype_y=torch.int64,\n",
    "\n",
    "                                temp_uncertainty=16,\n",
    "                                expand_dim=False\n",
    "                                )\n",
    "setup_dl = torch.utils.data.DataLoader( setup_ds,\n",
    "                                        batch_size=1024,\n",
    "                                        shuffle=False,\n",
    "                                        drop_last=False,\n",
    "                                        # pin_memory=True,\n",
    "                                        # num_workers=16,\n",
    "                                        # persistent_workers=True,\n",
    "                                        )\n",
    "input_x = torch.cat([data[0][0].detach().cpu() for data in setup_dl], dim=0)\n",
    "\n",
    "print(\"Starting!\")\n",
    "tik = time.time()\n",
    "ds_run = util.dataset_simCLR(\n",
    "                            torch.as_tensor(input_x, device='cpu', dtype=torch.float32), \n",
    "                            torch.as_tensor(torch.zeros(input_x.shape[0]), device='cpu', dtype=torch.float32),\n",
    "\n",
    "                            n_transforms=1,\n",
    "                            class_weights=np.array([1]),\n",
    "                            transform=run_transform,\n",
    "                            DEVICE='cpu',\n",
    "                            dtype_X=torch.float32,\n",
    "                            dtype_y=torch.int64,\n",
    "\n",
    "                            temp_uncertainty=16\n",
    "                            )\n",
    "dl_run = torch.utils.data.DataLoader( ds_run,\n",
    "                                        batch_size=1024,\n",
    "                                        shuffle=False,\n",
    "                                        drop_last=False,\n",
    "                                        # pin_memory=True,\n",
    "                                        # num_workers=16,\n",
    "                                        # persistent_workers=True,\n",
    "                                        )\n",
    "features_train = torch.cat([model.get_head(model.base_model(data[0][0].to(DEVICE))).detach().cpu() for data in dl_run], dim=0)\n",
    "tok = time.time()\n",
    "\n",
    "print(f'All Transformations Took: {tok-tik} s to run')"
   ]
  },
  {
   "cell_type": "code",
   "execution_count": null,
   "metadata": {},
   "outputs": [],
   "source": [
    "setup_transform = scripted_all_transforms\n",
    "run_transform = scripted_no_transforms\n",
    "\n",
    "setup_ds = util.dataset_simCLR(\n",
    "                                torch.as_tensor(X_labeled_train_SYT, device='cpu', dtype=torch.float32), \n",
    "                                torch.as_tensor(torch.zeros(X_labeled_train_SYT.shape[0]), device='cpu', dtype=torch.float32),\n",
    "\n",
    "                                \n",
    "                                n_transforms=1,\n",
    "                                transform=setup_transform,\n",
    "                                class_weights=np.array([1]),\n",
    "                                DEVICE='cpu',\n",
    "                                dtype_X=torch.float32,\n",
    "                                dtype_y=torch.int64,\n",
    "\n",
    "                                temp_uncertainty=16\n",
    "                                )\n",
    "setup_dl = torch.utils.data.DataLoader( setup_ds,\n",
    "                                        batch_size=1024,\n",
    "                                        shuffle=False,\n",
    "                                        drop_last=False,\n",
    "                                        # pin_memory=True,\n",
    "                                        # num_workers=16,\n",
    "                                        # persistent_workers=True,\n",
    "                                        )\n",
    "\n",
    "input_x = torch.cat([data[0][0].detach().cpu() for data in setup_dl], dim=0)\n",
    "\n",
    "print(\"Starting!\")\n",
    "tik = time.time()\n",
    "ds_run = util.dataset_simCLR(\n",
    "                            torch.as_tensor(input_x, device='cpu', dtype=torch.float32), \n",
    "                            torch.as_tensor(torch.zeros(input_x.shape[0]), device='cpu', dtype=torch.float32),\n",
    "\n",
    "                            n_transforms=1,\n",
    "                            class_weights=np.array([1]),\n",
    "                            transform=run_transform,\n",
    "                            DEVICE='cpu',\n",
    "                            dtype_X=torch.float32,\n",
    "                            dtype_y=torch.int64,\n",
    "\n",
    "                            temp_uncertainty=16,\n",
    "                                expand_dim=False\n",
    "                            )\n",
    "dl_run = torch.utils.data.DataLoader( ds_run,\n",
    "                                        batch_size=1024,\n",
    "                                        shuffle=False,\n",
    "                                        drop_last=False,\n",
    "                                        # pin_memory=True,\n",
    "                                        # num_workers=16,\n",
    "                                        # persistent_workers=True,\n",
    "                                        )\n",
    "features_train = torch.cat([model.get_head(model.base_model(data[0][0].to(DEVICE))).detach().cpu() for data in dl_run], dim=0)\n",
    "tok = time.time()\n",
    "\n",
    "print(f'No Transformations Took: {tok-tik} s to run')"
   ]
  },
  {
   "cell_type": "code",
   "execution_count": null,
   "metadata": {
    "tags": []
   },
   "outputs": [],
   "source": [
    "setup_transform = scripted_scale_rsz_transform\n",
    "run_transform = scripted_tile_transform\n",
    "\n",
    "setup_ds = util.dataset_simCLR(\n",
    "                                torch.as_tensor(X_labeled_train_SYT, device='cpu', dtype=torch.float32), \n",
    "                                torch.as_tensor(torch.zeros(X_labeled_train_SYT.shape[0]), device='cpu', dtype=torch.float32),\n",
    "\n",
    "                                \n",
    "                                n_transforms=1,\n",
    "                                transform=setup_transform,\n",
    "                                class_weights=np.array([1]),\n",
    "                                DEVICE='cpu',\n",
    "                                dtype_X=torch.float32,\n",
    "                                dtype_y=torch.int64,\n",
    "\n",
    "                                temp_uncertainty=16\n",
    "                                )\n",
    "setup_dl = torch.utils.data.DataLoader( setup_ds,\n",
    "                                        batch_size=1024,\n",
    "                                        shuffle=False,\n",
    "                                        drop_last=False,\n",
    "                                        # pin_memory=True,\n",
    "                                        # num_workers=16,\n",
    "                                        # persistent_workers=True,\n",
    "                                        )\n",
    "\n",
    "input_x = torch.cat([data[0][0].detach().cpu() for data in setup_dl], dim=0)\n",
    "\n",
    "print(\"Starting!\")\n",
    "tik = time.time()\n",
    "ds_run = util.dataset_simCLR(\n",
    "                            torch.as_tensor(input_x, device='cpu', dtype=torch.float32), \n",
    "                            torch.as_tensor(torch.zeros(input_x.shape[0]), device='cpu', dtype=torch.float32),\n",
    "\n",
    "                            n_transforms=1,\n",
    "                            class_weights=np.array([1]),\n",
    "                            transform=run_transform,\n",
    "                            DEVICE='cpu',\n",
    "                            dtype_X=torch.float32,\n",
    "                            dtype_y=torch.int64,\n",
    "\n",
    "                            temp_uncertainty=16,\n",
    "                            expand_dim=False\n",
    "                            )\n",
    "dl_run = torch.utils.data.DataLoader( ds_run,\n",
    "                                        batch_size=1024,\n",
    "                                        shuffle=False,\n",
    "                                        drop_last=False,\n",
    "                                        # pin_memory=True,\n",
    "                                        # num_workers=16,\n",
    "                                        # persistent_workers=True,\n",
    "                                        )\n",
    "features_train = torch.cat([model.get_head(model.base_model(data[0][0].to(DEVICE))).detach().cpu() for data in dl_run], dim=0)\n",
    "tok = time.time()\n",
    "\n",
    "print(f'Tile Transformation Alone Took: {tok-tik} s to run')"
   ]
  },
  {
   "cell_type": "code",
   "execution_count": null,
   "metadata": {},
   "outputs": [],
   "source": []
  },
  {
   "cell_type": "code",
   "execution_count": null,
   "metadata": {},
   "outputs": [],
   "source": []
  },
  {
   "cell_type": "code",
   "execution_count": null,
   "metadata": {},
   "outputs": [],
   "source": []
  },
  {
   "cell_type": "code",
   "execution_count": null,
   "metadata": {},
   "outputs": [],
   "source": []
  }
 ],
 "metadata": {
  "accelerator": "GPU",
  "colab": {
   "collapsed_sections": [],
   "machine_shape": "hm",
   "name": "ROIClassifier_TRAIN_20211201_JZ_supervised-comparison5.ipynb",
   "provenance": []
  },
  "kernelspec": {
   "display_name": "Python 3",
   "language": "python",
   "name": "python3"
  },
  "language_info": {
   "codemirror_mode": {
    "name": "ipython",
    "version": 3
   },
   "file_extension": ".py",
   "mimetype": "text/x-python",
   "name": "python",
   "nbconvert_exporter": "python",
   "pygments_lexer": "ipython3",
   "version": "3.8.12"
  },
  "varInspector": {
   "cols": {
    "lenName": 16,
    "lenType": 16,
    "lenVar": 40
   },
   "kernels_config": {
    "python": {
     "delete_cmd_postfix": "",
     "delete_cmd_prefix": "del ",
     "library": "var_list.py",
     "varRefreshCmd": "print(var_dic_list())"
    },
    "r": {
     "delete_cmd_postfix": ") ",
     "delete_cmd_prefix": "rm(",
     "library": "var_list.r",
     "varRefreshCmd": "cat(var_dic_list()) "
    }
   },
   "position": {
    "height": "943px",
    "left": "1381px",
    "right": "20px",
    "top": "106px",
    "width": "501px"
   },
   "types_to_exclude": [
    "module",
    "function",
    "builtin_function_or_method",
    "instance",
    "_Feature"
   ],
   "window_display": true
  }
 },
 "nbformat": 4,
 "nbformat_minor": 4
}
