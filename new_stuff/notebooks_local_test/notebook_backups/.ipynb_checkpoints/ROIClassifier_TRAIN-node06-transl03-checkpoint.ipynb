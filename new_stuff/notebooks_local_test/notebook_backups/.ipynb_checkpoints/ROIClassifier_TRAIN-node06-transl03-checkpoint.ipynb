{
 "cells": [
  {
   "cell_type": "code",
   "execution_count": 1,
   "metadata": {
    "colab": {
     "base_uri": "https://localhost:8080/",
     "height": 17
    },
    "id": "S3q3I42jDB0f",
    "outputId": "3ad88a07-0e8b-474f-b0d8-9fb6c2a99f0c"
   },
   "outputs": [
    {
     "data": {
      "text/html": [
       "<style>.container { width:95% !important; }</style>"
      ],
      "text/plain": [
       "<IPython.core.display.HTML object>"
      ]
     },
     "metadata": {},
     "output_type": "display_data"
    }
   ],
   "source": [
    "from IPython.core.display import display, HTML\n",
    "display(HTML(\"<style>.container { width:95% !important; }</style>\"))"
   ]
  },
  {
   "cell_type": "raw",
   "metadata": {
    "id": "PUUWS0VmwD7-"
   },
   "source": [
    "# !source activate jupyter_launcher\n",
    "!pip3 install numba\n",
    "!pip3 install matplotlib\n",
    "!pip3 install scipy\n",
    "!pip3 install torch\n",
    "!pip3 install torchvision\n",
    "!pip3 install sklearn\n",
    "!pip3 install pycuda\n",
    "!pip3 install tqdm\n",
    "!pip3 install seaborn\n",
    "!pip3 install h5py\n",
    "!pip3 install hdfdict\n",
    "!pip3 install ipywidgets\n",
    "!pip3 install numpy==1.20"
   ]
  },
  {
   "cell_type": "code",
   "execution_count": 2,
   "metadata": {},
   "outputs": [
    {
     "data": {
      "text/plain": [
       "'/home/joz608/.conda/envs/jupyter_launcher/bin/python3.8'"
      ]
     },
     "execution_count": 2,
     "metadata": {},
     "output_type": "execute_result"
    }
   ],
   "source": [
    "import sys\n",
    "sys.executable"
   ]
  },
  {
   "cell_type": "code",
   "execution_count": null,
   "metadata": {},
   "outputs": [],
   "source": []
  },
  {
   "cell_type": "code",
   "execution_count": null,
   "metadata": {},
   "outputs": [],
   "source": []
  },
  {
   "cell_type": "code",
   "execution_count": 3,
   "metadata": {
    "id": "eTIgCGQsDB0i"
   },
   "outputs": [],
   "source": [
    "import sys\n",
    "import os\n",
    "import copy\n",
    "import pathlib\n",
    "import time\n",
    "import gc\n",
    "\n",
    "from tqdm import tqdm, trange\n",
    "# from tqdm import trange\n",
    "\n",
    "import numpy as np\n",
    "import matplotlib.pyplot as plt\n",
    "import seaborn as sns\n",
    "import scipy\n",
    "\n",
    "import torch\n",
    "import torchvision\n",
    "import torchvision.transforms as transforms\n",
    "\n",
    "# import cuml\n",
    "\n",
    "# for creating validation set\n",
    "import sklearn\n",
    "from sklearn.model_selection import train_test_split\n",
    "\n",
    "%matplotlib inline\n",
    "%matplotlib inline\n",
    "# %matplotlib inline\n",
    "# %matplotlib qt"
   ]
  },
  {
   "cell_type": "code",
   "execution_count": null,
   "metadata": {
    "id": "GExNkvATEBtG"
   },
   "outputs": [],
   "source": []
  },
  {
   "cell_type": "code",
   "execution_count": 4,
   "metadata": {
    "id": "MZ9Hq6SVvves"
   },
   "outputs": [],
   "source": [
    "base_dir = '/n/data1/hms/neurobio/sabatini/josh'"
   ]
  },
  {
   "cell_type": "code",
   "execution_count": 5,
   "metadata": {
    "id": "9w3t_mtdDB0j"
   },
   "outputs": [],
   "source": [
    "import sys\n",
    "\n",
    "sys.path.append(f'{base_dir}/github_repos')\n",
    "# sys.path.append(f'/media/rich/Home_Linux_partition/github_repos')\n",
    "dir_folders = f'{base_dir}/label_data'\n",
    "\n",
    "\n",
    "%load_ext autoreload\n",
    "%autoreload 2\n",
    "from basic_neural_processing_modules import torch_helpers, math_functions, classification, h5_handling, plotting_helpers, indexing, misc #, decomposition\n",
    "from GCaMP_ROI_classifier.new_stuff import util, models, training_simCLR, augmentation, training_classHead, training_supervised"
   ]
  },
  {
   "cell_type": "markdown",
   "metadata": {
    "id": "hTqZzmpJDB0j"
   },
   "source": [
    "## Import unlabeled training data"
   ]
  },
  {
   "cell_type": "code",
   "execution_count": 6,
   "metadata": {},
   "outputs": [],
   "source": [
    "# data_unlabeled = h5_handling.simple_load(path=r'/media/rich/bigSSD/for_Josh/GCAMP_ROI_Classifier_data/masks_20211202_balanced.h5')\n",
    "data_unlabeled = h5_handling.simple_load(path=f'{base_dir}/label_data/masks_20211202_balanced.h5')\n",
    "\n",
    "masks_cat_raw = torch.as_tensor(np.concatenate((data_unlabeled['SYTmasks'], data_unlabeled['NPmasks'], data_unlabeled['RHmasks']), axis=0), dtype=torch.float32, device='cpu')"
   ]
  },
  {
   "cell_type": "code",
   "execution_count": 7,
   "metadata": {},
   "outputs": [],
   "source": [
    "# data_labeled = h5_handling.simple_load(path=r'/media/rich/bigSSD/for_Josh/GCAMP_ROI_Classifier_data/masks_20211202_unbalanced.h5')"
   ]
  },
  {
   "cell_type": "code",
   "execution_count": 8,
   "metadata": {},
   "outputs": [],
   "source": [
    "# masks_SYT = data_labeled['SYTmasks']\n",
    "# labels_SYT = classification.squeeze_integers(data_labeled['SYTlabels'])"
   ]
  },
  {
   "cell_type": "code",
   "execution_count": 9,
   "metadata": {},
   "outputs": [],
   "source": [
    "# nan_lst = np.concatenate(np.where(np.isnan(masks_SYT).sum(axis=-1).sum(axis=-1)))\n",
    "# non_nan = [_ for _ in range(masks_SYT.shape[0]) if _ not in nan_lst]\n",
    "# labels_SYT = labels_SYT[non_nan]\n",
    "# masks_SYT = masks_SYT[non_nan]"
   ]
  },
  {
   "cell_type": "code",
   "execution_count": 10,
   "metadata": {},
   "outputs": [],
   "source": [
    "# X_labeled_train_SYT, X_labeled_val_SYT, y_labeled_train_SYT, y_labeled_val_SYT = train_test_split(masks_SYT, labels_SYT, test_size = 0.2)"
   ]
  },
  {
   "cell_type": "markdown",
   "metadata": {},
   "source": [
    "toss any NaNs"
   ]
  },
  {
   "cell_type": "code",
   "execution_count": 11,
   "metadata": {},
   "outputs": [
    {
     "name": "stdout",
     "output_type": "stream",
     "text": [
      "Number of masks: torch.Size([711808, 36, 36])\n",
      "Number of masks: torch.Size([711807, 36, 36])\n"
     ]
    }
   ],
   "source": [
    "print(f'Number of masks: {masks_cat_raw.shape}')\n",
    "\n",
    "ROIs_without_NaNs = torch.where(~torch.any(torch.any(torch.isnan(masks_cat_raw), dim=1), dim=1))[0]\n",
    "masks_cat = masks_cat_raw[ROIs_without_NaNs]\n",
    "\n",
    "print(f'Number of masks: {masks_cat.shape}')"
   ]
  },
  {
   "cell_type": "markdown",
   "metadata": {
    "id": "hTqZzmpJDB0j"
   },
   "source": [
    "## Import labeled training data"
   ]
  },
  {
   "cell_type": "code",
   "execution_count": 12,
   "metadata": {
    "colab": {
     "base_uri": "https://localhost:8080/",
     "height": 1000
    },
    "id": "S8AO_lypDB0o",
    "outputId": "4edfd739-a0b7-4789-aea1-4a9f6c2665c8"
   },
   "outputs": [
    {
     "name": "stdout",
     "output_type": "stream",
     "text": [
      "concatenated images shape: (9715, 32, 32)\n"
     ]
    },
    {
     "data": {
      "image/png": "[encoded data removed]",
      "text/plain": [
       "<Figure size 432x288 with 1 Axes>"
      ]
     },
     "metadata": {
      "needs_background": "light"
     },
     "output_type": "display_data"
    },
    {
     "data": {
      "image/png": "[encoded data removed]",
      "text/plain": [
       "<Figure size 432x288 with 1 Axes>"
      ]
     },
     "metadata": {
      "needs_background": "light"
     },
     "output_type": "display_data"
    },
    {
     "data": {
      "image/png": "[encoded data removed]",
      "text/plain": [
       "<Figure size 432x288 with 1 Axes>"
      ]
     },
     "metadata": {
      "needs_background": "light"
     },
     "output_type": "display_data"
    },
    {
     "data": {
      "image/png": "[encoded data removed]",
      "text/plain": [
       "<Figure size 432x288 with 1 Axes>"
      ]
     },
     "metadata": {
      "needs_background": "light"
     },
     "output_type": "display_data"
    }
   ],
   "source": [
    "dir_folders = f'{base_dir}/label_data'\n",
    "# dir_folders = r'/media/rich/bigSSD/for_Josh/GCAMP_ROI_Classifier_data/label_data'\n",
    "# dir_folders = r'/users/Josh/Documents/Harvard/label_data'\n",
    "folders = [r'mouse 6_28 _ day 20200903/',\n",
    "             r'mouse6_28 _ day20200815/']\n",
    "fileNames_statFiles = [r'stat.npy']*len(folders)\n",
    "paths_statFiles = [pathlib.Path(dir_folders) / folders[ii] / fileNames_statFiles[ii] for ii in range(len(folders))]\n",
    "\n",
    "sf_all = util.import_multiple_stat_files(   paths_statFiles=paths_statFiles,\n",
    "                                            fileNames_statFiles=fileNames_statFiles,\n",
    "                                            out_height_width=[32,32],\n",
    "                                            max_footprint_width=241,\n",
    "                                            plot_pref=True)\n",
    "images_labeled_raw = np.concatenate(sf_all, axis=0)\n",
    "images_labeled_raw = (images_labeled_raw / np.max(images_labeled_raw, axis=(1,2), keepdims=True)) * 1\n",
    "print(f'concatenated images shape: {images_labeled_raw.shape}')\n",
    "\n",
    "fileNames_labelFiles = ['labels_posthoc_filledIn_allCells.npy',\n",
    "             'labels_posthoc_all.npy']\n",
    "paths_labelFiles = [pathlib.Path(dir_folders) / folders[ii] / fileNames_labelFiles[ii] for ii in range(len(folders))]\n",
    "\n",
    "labels_all = util.import_multiple_label_files(paths_labelFiles=paths_labelFiles,\n",
    "                                       plot_pref=True)\n",
    "labels_raw = np.concatenate(labels_all)\n",
    "\n",
    "assert np.alltrue([sf_all[ii].shape[0] == labels_all[ii].shape[0] for ii in range(len(sf_all))]) , 'num images in stat files does not correspond to num labels'"
   ]
  },
  {
   "cell_type": "code",
   "execution_count": 13,
   "metadata": {},
   "outputs": [
    {
     "data": {
      "image/png": "[encoded data removed]",
      "text/plain": [
       "<Figure size 432x288 with 100 Axes>"
      ]
     },
     "metadata": {
      "needs_background": "light"
     },
     "output_type": "display_data"
    }
   ],
   "source": [
    "%matplotlib inline\n",
    "\n",
    "plotting_helpers.plot_image_grid(images=images_labeled_raw,\n",
    "                                labels=None,\n",
    "                                grid_shape=(10,10), cmap=plt.get_cmap('gray'));"
   ]
  },
  {
   "cell_type": "code",
   "execution_count": 14,
   "metadata": {
    "id": "Ip1UMYy6DB0p"
   },
   "outputs": [],
   "source": [
    "labels = classification.squeeze_integers(labels_raw)\n",
    "images_labeled = images_labeled_raw[labels != 2]\n",
    "labels = labels[labels != 2]\n",
    "labels = classification.squeeze_integers(labels)"
   ]
  },
  {
   "cell_type": "markdown",
   "metadata": {
    "id": "UYh_wBqCDB0q"
   },
   "source": [
    "## Balance classes of inputs"
   ]
  },
  {
   "cell_type": "code",
   "execution_count": 15,
   "metadata": {
    "colab": {
     "base_uri": "https://localhost:8080/"
    },
    "id": "qn4Pu2cKDB0q",
    "outputId": "3afafb73-54a7-4e2d-8030-c0af6272cbe6"
   },
   "outputs": [
    {
     "name": "stdout",
     "output_type": "stream",
     "text": [
      "(9714, 32, 32)\n",
      "(9714,)\n",
      "532\n",
      "(2128, 32, 32)\n",
      "(2128,)\n",
      "532\n",
      "532\n",
      "532\n",
      "0\n",
      "0\n",
      "(2128, 32, 32)\n",
      "(2128,)\n"
     ]
    }
   ],
   "source": [
    "duplicates = 1\n",
    "balanced = True\n",
    "\n",
    "images_dup = np.tile(images_labeled , (duplicates , 1 , 1))\n",
    "labels_dup = np.tile(labels , (duplicates))\n",
    "\n",
    "print(images_dup.shape)\n",
    "print(labels_dup.shape)\n",
    "\n",
    "if balanced:\n",
    "    numToGetTo = np.sum(labels_dup==0)\n",
    "    print(numToGetTo)\n",
    "    for ii in np.array([1,2,3]):\n",
    "  #     idxToDelete = np.cumsum(labels_dup==ii) <= (np.sum(labels_dup==ii) - numToGetTo)\n",
    "        if ii==3:\n",
    "            numToGetTo = np.sum(labels_dup==0)/1\n",
    "        else:\n",
    "            numToGetTo = np.sum(labels_dup==0)\n",
    "\n",
    "        idxToDelete = (np.cumsum(labels_dup==ii) * (labels_dup==ii)) > numToGetTo\n",
    "        images_dup = images_dup[idxToDelete==0,:,:]\n",
    "        labels_dup = labels_dup[idxToDelete==0]\n",
    "\n",
    "\n",
    "\n",
    "\n",
    "\n",
    "print(images_dup.shape)\n",
    "print(labels_dup.shape)\n",
    "\n",
    "numToGetTo = np.sum(labels_dup==0)\n",
    "print(numToGetTo)\n",
    "\n",
    "print(np.sum(labels_dup==0))\n",
    "print(np.sum(labels_dup==1))\n",
    "print(np.sum(labels_dup==4))\n",
    "print(np.sum(labels_dup==5))\n",
    "print(images_dup.shape)\n",
    "print(labels_dup.shape)"
   ]
  },
  {
   "cell_type": "raw",
   "metadata": {
    "id": "NpMB08CYDB0q"
   },
   "source": [
    "# create validation set\n",
    "# X_train, X_val, y_train, y_val = train_test_split(images[:], labels[:], test_size = 0.15)\n",
    "X_train, X_val, y_train, y_val = train_test_split(images_dup[:], labels_dup[:], test_size = 0.15)\n",
    "(X_train.shape, y_train.shape), (X_val.shape, y_val.shape)"
   ]
  },
  {
   "cell_type": "code",
   "execution_count": 16,
   "metadata": {
    "colab": {
     "base_uri": "https://localhost:8080/"
    },
    "id": "fVA_Aa6rDB0q",
    "outputId": "15b9e55a-4881-40be-f06b-dec658fa55a7"
   },
   "outputs": [
    {
     "data": {
      "text/plain": [
       "(((1702, 32, 32), (1702,)), ((426, 32, 32), (426,)))"
      ]
     },
     "execution_count": 16,
     "metadata": {},
     "output_type": "execute_result"
    }
   ],
   "source": [
    "# create validation set\n",
    "\n",
    "###### REMOVE WITH ENOUGH RAM\n",
    "images = images_dup\n",
    "labels = labels_dup\n",
    "\n",
    "# X_labeled_train, X_labeled_val, y_labeled_train, y_labeled_val = train_test_split(images_dup, labels_dup, test_size = 0.3)\n",
    "X_labeled_train, X_labeled_val, y_labeled_train, y_labeled_val = train_test_split(images_dup, labels_dup, test_size = 0.2)\n",
    "# X_train, y_train = X_labeled_train, y_labeled_train\n",
    "\n",
    "# X_labeled_val, X_test, y_labeled_val, y_test = train_test_split(X_labeled_val, y_labeled_val, test_size = 0.5)\n",
    "X_val, X_test, y_val, y_test = train_test_split(X_labeled_val, y_labeled_val, test_size = 0.5)\n",
    "\n",
    "(X_labeled_train.shape, y_labeled_train.shape), (X_labeled_val.shape, y_labeled_val.shape)"
   ]
  },
  {
   "cell_type": "code",
   "execution_count": 17,
   "metadata": {
    "colab": {
     "base_uri": "https://localhost:8080/",
     "height": 265
    },
    "id": "mdJafJMMDB0r",
    "outputId": "2e8d00f6-32bf-4aeb-d02d-e10dcaaccfe3"
   },
   "outputs": [
    {
     "data": {
      "image/png": "[encoded data removed]",
      "text/plain": [
       "<Figure size 432x288 with 1 Axes>"
      ]
     },
     "metadata": {
      "needs_background": "light"
     },
     "output_type": "display_data"
    }
   ],
   "source": [
    "plt.figure()\n",
    "plt.hist(labels_dup, 20);"
   ]
  },
  {
   "cell_type": "code",
   "execution_count": 18,
   "metadata": {},
   "outputs": [
    {
     "data": {
      "text/plain": [
       "(2128, 32, 32)"
      ]
     },
     "execution_count": 18,
     "metadata": {},
     "output_type": "execute_result"
    }
   ],
   "source": [
    "images.shape"
   ]
  },
  {
   "cell_type": "code",
   "execution_count": null,
   "metadata": {
    "id": "XNxaCTbcDB0r"
   },
   "outputs": [],
   "source": []
  },
  {
   "cell_type": "raw",
   "metadata": {
    "id": "tz9Q8wYuDB0s"
   },
   "source": [
    "from sklearn.linear_model import LogisticRegression\n",
    "import sklearn.metrics\n",
    "\n",
    "def classification_step(X_train, y_train, X_test, model, model_device, temperature):\n",
    "    logreg = LogisticRegression()\n",
    "    features_train = model(torch.as_tensor(X_train, device=DEVICE, dtype=torch.float32)[:,None,...]).detach().cpu()\n",
    "    # features = model(torch.tensor(X_train[y_train != 3], device=DEVICE, dtype=torch.float32)[:,None,...]).detach().cpu()\n",
    "    logreg.fit(features_train, y_train)\n",
    "    # logreg.fit(features, y_train[y_train != 3])\n",
    "    \n",
    "    features_test = model(torch.as_tensor(X_test, device=DEVICE, dtype=torch.float32)[:,None,...]).detach().cpu()    \n",
    "    y_hat = logreg.predict_proba(features_test)\n",
    "    y_hat = torch.as_tensor(y_hat, dtype=torch.float32, device='cpu')\n",
    "    \n",
    "#     print(y_hat)\n",
    "    print(f'accuracy: {logreg.score(features, y):.5}')\n",
    "\n",
    "#     # cm = sklearn.metrics.confusion_matrix(idx_to_oneHot(y_train), y_hat, normalize='true')\n",
    "#     # cm = sklearn.metrics.confusion_matrix(idx_to_oneHot(y_train[y_train != 3]), y_hat, normalize='true')\n",
    "#     cm = rh_cm(y_hat, y)\n",
    "#     # cm = rh_cm(y_hat, y_train[y_train != 3])\n",
    "    \n",
    "    unc = util.loss_uncertainty(y_hat, temperature=temperature)\n",
    "\n",
    "#     plt.figure()\n",
    "#     plt.imshow(cm)\n",
    "#     return torch.tensor(unc, dtype=torch.float32, device=model_device)\n",
    "    return unc"
   ]
  },
  {
   "cell_type": "markdown",
   "metadata": {
    "id": "3aA1-hY4DB0v"
   },
   "source": [
    "# Train"
   ]
  },
  {
   "cell_type": "code",
   "execution_count": 19,
   "metadata": {
    "colab": {
     "base_uri": "https://localhost:8080/"
    },
    "id": "YtkRZSMqDB0v",
    "outputId": "230c559f-f22c-4182-b3ab-024ba2080a50"
   },
   "outputs": [
    {
     "name": "stdout",
     "output_type": "stream",
     "text": [
      "device: 'cuda'\n"
     ]
    }
   ],
   "source": [
    "DEVICE = torch_helpers.set_device(use_GPU=True)\n",
    "# DEVICE = torch_helpers.set_device(use_GPU=False)"
   ]
  },
  {
   "cell_type": "markdown",
   "metadata": {},
   "source": [
    "### Define New model = model + pre-head + latent layer OR classification layer"
   ]
  },
  {
   "cell_type": "code",
   "execution_count": 20,
   "metadata": {
    "id": "gt4xpqbHBjyL"
   },
   "outputs": [],
   "source": [
    "class ModelTackOn(torch.nn.Module):\n",
    "    def __init__(self, base_model, un_modified_model, pre_head_fc_sizes=[100], post_head_fc_sizes=[100], classifier_fc_sizes=None):\n",
    "            super(ModelTackOn, self).__init__()\n",
    "            self.base_model = base_model\n",
    "            final_base_layer = list(un_modified_model.children())[-1]\n",
    "            # final_base_layer = list(list(model.children())[-1].children())[-1]\n",
    "            # print(final_base_layer)\n",
    "\n",
    "            self.pre_head_fc_lst = []\n",
    "            self.post_head_fc_lst = []\n",
    "            self.classifier_fc_lst = []\n",
    "\n",
    "            self.init_prehead(final_base_layer, pre_head_fc_sizes)\n",
    "            self.init_posthead(pre_head_fc_sizes[-1], post_head_fc_sizes)\n",
    "            if classifier_fc_sizes is not None:\n",
    "                self.init_classifier(pre_head_fc_sizes[-1], classifier_fc_sizes)\n",
    "    \n",
    "    def init_prehead(self, prv_layer, pre_head_fc_sizes):\n",
    "        for i, pre_head_fc in enumerate(pre_head_fc_sizes):\n",
    "            if i == 0:\n",
    "                in_features = prv_layer.in_features if hasattr(prv_layer,'in_features') else 512\n",
    "            else:\n",
    "                in_features = pre_head_fc_sizes[i - 1]\n",
    "            fc_layer = torch.nn.Linear(in_features=in_features, out_features=pre_head_fc)\n",
    "            self.add_module(f'PreHead_{i}', fc_layer)\n",
    "            self.pre_head_fc_lst.append(fc_layer)\n",
    "\n",
    "#             if i < len(pre_head_fc_sizes) - 1:\n",
    "            non_linearity = torch.nn.ReLU()\n",
    "            self.add_module(f'PreHead_{i}_NonLinearity', non_linearity)\n",
    "            self.pre_head_fc_lst.append(non_linearity)\n",
    "\n",
    "    def init_posthead(self, prv_size, post_head_fc_sizes):\n",
    "        for i, post_head_fc in enumerate(post_head_fc_sizes):\n",
    "            if i == 0:\n",
    "                in_features = prv_size\n",
    "            else:\n",
    "                in_features = post_head_fc_sizes[i - 1]\n",
    "            fc_layer = torch.nn.Linear(in_features=in_features, out_features=post_head_fc)\n",
    "            self.add_module(f'PostHead_{i}', fc_layer)\n",
    "            self.post_head_fc_lst.append(fc_layer)\n",
    "\n",
    "            if i < len(post_head_fc_sizes) - 1:\n",
    "                non_linearity = torch.nn.ReLU()\n",
    "                self.add_module(f'PostHead_{i}_NonLinearity', non_linearity)\n",
    "                self.pre_head_fc_lst.append(non_linearity)\n",
    "    \n",
    "    def init_classifier(self, prv_size, classifier_fc_sizes):\n",
    "            for i, classifier_fc in enumerate(classifier_fc_sizes):\n",
    "                if i == 0:\n",
    "                    in_features = prv_size\n",
    "                else:\n",
    "                    in_features = classifier_fc_sizes[i - 1]\n",
    "            fc_layer = torch.nn.Linear(in_features=in_features, out_features=classifier_fc)\n",
    "            self.add_module(f'Classifier_{i}', fc_layer)\n",
    "            self.classifier_fc_lst.append(fc_layer)\n",
    "\n",
    "    def reinit_classifier(self):\n",
    "        for i_layer, layer in enumerate(self.classifier_fc_lst):\n",
    "            layer.reset_parameters()\n",
    "    \n",
    "#     def forward(self, X):\n",
    "#         interim = self.base_model(X)\n",
    "#         interim = self.get_head(interim)\n",
    "#         interim = self.get_latent(interim)\n",
    "#         return interim\n",
    "\n",
    "    def forward_classifier(self, X):\n",
    "        interim = self.base_model(X)\n",
    "        interim = self.get_head(interim)\n",
    "        interim = self.classify(interim)\n",
    "        return interim\n",
    "\n",
    "    def forward_latent(self, X):\n",
    "        interim = self.base_model(X)\n",
    "        interim = self.get_head(interim)\n",
    "        interim = self.get_latent(interim)\n",
    "        return interim\n",
    "\n",
    "\n",
    "    def get_head(self, base_out):\n",
    "        # print('base_out', base_out.shape)\n",
    "        head = base_out\n",
    "        for pre_head_layer in self.pre_head_fc_lst:\n",
    "          # print('pre_head_layer', pre_head_layer.in_features)\n",
    "          head = pre_head_layer(head)\n",
    "          # print('head', head.shape)\n",
    "        return head\n",
    "\n",
    "    def get_latent(self, head):\n",
    "        latent = head\n",
    "        for post_head_layer in self.post_head_fc_lst:\n",
    "            latent = post_head_layer(latent)\n",
    "        return latent\n",
    "\n",
    "    def classify(self, head):\n",
    "        logit = head\n",
    "        for classifier_layer in self.classifier_fc_lst:\n",
    "            logit = classifier_layer(logit)\n",
    "        return logit\n",
    "\n",
    "    def set_pre_head_grad(self, requires_grad=True):\n",
    "        for layer in self.pre_head_fc_lst:\n",
    "            for param in layer.parameters():\n",
    "                param.requires_grad = requires_grad\n",
    "                \n",
    "    def set_post_head_grad(self, requires_grad=True):\n",
    "        for layer in self.post_head_fc_lst:\n",
    "            for param in layer.parameters():\n",
    "                param.requires_grad = requires_grad\n",
    "\n",
    "    def set_classifier_grad(self, requires_grad=True):\n",
    "        for layer in self.classifier_fc_lst:\n",
    "            for param in layer.parameters():\n",
    "                param.requires_grad = requires_grad\n",
    "\n",
    "    def prep_contrast(self):\n",
    "        self.set_pre_head_grad(requires_grad=True)\n",
    "        self.set_post_head_grad(requires_grad=True)\n",
    "        self.set_classifier_grad(requires_grad=False)\n",
    "\n",
    "    def prep_classifier(self):\n",
    "        self.set_pre_head_grad(requires_grad=False)\n",
    "        self.set_post_head_grad(requires_grad=False)\n",
    "        self.set_classifier_grad(requires_grad=True)\n"
   ]
  },
  {
   "cell_type": "code",
   "execution_count": 21,
   "metadata": {
    "id": "MIix9BdUCkqf"
   },
   "outputs": [],
   "source": [
    "# import torchvision.models\n",
    "\n",
    "# # base_model = torchvision.models.resnet101(pretrained=True)\n",
    "# base_model = torchvision.models.resnet18(pretrained=True)\n",
    "\n",
    "# for param in base_model.parameters():\n",
    "#     param.requires_grad = False\n",
    "\n",
    "# retrain = list(base_model.children())[-1:]\n",
    "# for layer in retrain:\n",
    "#     params = layer.parameters()\n",
    "#     for param in params:\n",
    "#         param.requires_grad = True"
   ]
  },
  {
   "cell_type": "code",
   "execution_count": 22,
   "metadata": {
    "id": "oyjLftj_cEGW"
   },
   "outputs": [],
   "source": [
    "import torchvision.models\n",
    "\n",
    "# base_model_frozen = torchvision.models.resnet101(pretrained=True)\n",
    "base_model_frozen = torchvision.models.resnet18(pretrained=True)\n",
    "# base_model_frozen = torchvision.models.wide_resnet50_2(pretrained=True)\n",
    "# base_model_frozen = torchvision.models.resnet50(pretrained=True)\n",
    "for param in base_model_frozen.parameters():\n",
    "    param.requires_grad = False"
   ]
  },
  {
   "cell_type": "markdown",
   "metadata": {},
   "source": [
    "start with a pretrained resnet model, and chop off the final layer. This will be used as the base on which we add the pre-head layers (for expressivity), latent layers (for simCLR), or classification layers (for post-hoc logistic regression)"
   ]
  },
  {
   "cell_type": "code",
   "execution_count": 23,
   "metadata": {
    "id": "aWnb7WWri9qK"
   },
   "outputs": [],
   "source": [
    "model_chopped = torch.nn.Sequential(*(list(base_model_frozen.children())[:-1] + [torch.nn.Flatten()]))"
   ]
  },
  {
   "cell_type": "markdown",
   "metadata": {
    "id": "_E18ZEzpClNd"
   },
   "source": [
    "### Make combined model\n",
    "'model' has two forward methods. One for generating latents (for simCLR) and one for classifying labels"
   ]
  },
  {
   "cell_type": "code",
   "execution_count": 24,
   "metadata": {
    "colab": {
     "base_uri": "https://localhost:8080/"
    },
    "id": "n6Qx-1NGJNY3",
    "outputId": "f7cb3ded-3b48-439e-bf57-a526fb48bac7"
   },
   "outputs": [],
   "source": [
    "model = ModelTackOn(model_chopped, base_model_frozen, pre_head_fc_sizes=[1024, 512], post_head_fc_sizes=[64], classifier_fc_sizes=[len(np.unique(y_labeled_train))])\n",
    "# model = ModelTackOn(model_chopped.to(DEVICE), base_model_frozen, pre_head_fc_sizes=[len(np.unique(y_train))], post_head_fc_sizes=[])\n",
    "# model = ModelTackOn(model_chopped.to(DEVICE), base_model_frozen, pre_head_fc_sizes=[len(np.unique(y_train))], post_head_fc_sizes=[])\n",
    "\n",
    "# model = torch.nn.Sequential([model_chopped.to(DEVICE), torch.nn.Linear], pre_head_fc_sizes=[len(np.unique(y_train))], post_head_fc_sizes=[])\n",
    "\n",
    "\n",
    "# model = ModelTackOn(base_model_frozen, pre_head_fc_sizes=[len(np.unique(y_train))], post_head_fc_sizes=[])\n",
    "# model = ModelTackOn(base_model, pre_head_fc_sizes=[len(np.unique(y_train))], post_head_fc_sizes=[])\n",
    "model.train();"
   ]
  },
  {
   "cell_type": "code",
   "execution_count": 25,
   "metadata": {},
   "outputs": [
    {
     "name": "stdout",
     "output_type": "stream",
     "text": [
      "base_model.6.0.conv1.weight\n",
      "base_model.6.0.bn1.weight\n",
      "base_model.6.0.bn1.bias\n",
      "base_model.6.0.conv2.weight\n",
      "base_model.6.0.bn2.weight\n",
      "base_model.6.0.bn2.bias\n",
      "base_model.6.0.downsample.0.weight\n",
      "base_model.6.0.downsample.1.weight\n",
      "base_model.6.0.downsample.1.bias\n",
      "base_model.6.1.conv1.weight\n",
      "base_model.6.1.bn1.weight\n",
      "base_model.6.1.bn1.bias\n",
      "base_model.6.1.conv2.weight\n",
      "base_model.6.1.bn2.weight\n",
      "base_model.6.1.bn2.bias\n",
      "base_model.7.0.conv1.weight\n",
      "base_model.7.0.bn1.weight\n",
      "base_model.7.0.bn1.bias\n",
      "base_model.7.0.conv2.weight\n",
      "base_model.7.0.bn2.weight\n",
      "base_model.7.0.bn2.bias\n",
      "base_model.7.0.downsample.0.weight\n",
      "base_model.7.0.downsample.1.weight\n",
      "base_model.7.0.downsample.1.bias\n",
      "base_model.7.1.conv1.weight\n",
      "base_model.7.1.bn1.weight\n",
      "base_model.7.1.bn1.bias\n",
      "base_model.7.1.conv2.weight\n",
      "base_model.7.1.bn2.weight\n",
      "base_model.7.1.bn2.bias\n",
      "PreHead_0.weight\n",
      "PreHead_0.bias\n",
      "PreHead_1.weight\n",
      "PreHead_1.bias\n",
      "PostHead_0.weight\n",
      "PostHead_0.bias\n",
      "Classifier_0.weight\n",
      "Classifier_0.bias\n"
     ]
    }
   ],
   "source": [
    "# unfreeze particular blocks in ResNet model\n",
    "\n",
    "for name, param in list(model.named_parameters()):\n",
    "    if name[:10] == 'base_model':\n",
    "        if int(name[11]) < 6:\n",
    "            param.requires_grad = False\n",
    "        elif int(name[11]) >= 6:\n",
    "            param.requires_grad = True\n",
    "\n",
    "for name, param in list(model.named_parameters()):\n",
    "    if param.requires_grad:\n",
    "        print(name)"
   ]
  },
  {
   "cell_type": "markdown",
   "metadata": {
    "id": "T2ARByXvDB0s"
   },
   "source": [
    "## Define augmentation pipeline"
   ]
  },
  {
   "cell_type": "code",
   "execution_count": 26,
   "metadata": {},
   "outputs": [],
   "source": [
    "import torchvision.transforms    \n",
    "\n",
    "transforms = torch.nn.Sequential(\n",
    "    torchvision.transforms.RandomHorizontalFlip(p=0.5),\n",
    "        \n",
    "    torchvision.transforms.RandomAffine(\n",
    "                                        degrees=(-180,180),\n",
    "                                        translate=(0.3, 0.3), #0, .3, .45 (DEFAULT)\n",
    "                                        scale=(0.6, 1.2), # no scale (1,1), (0.4, 1.5)\n",
    "                                        shear=(-15, 15, -15, 15),\n",
    "                                        interpolation=torchvision.transforms.InterpolationMode.BILINEAR, \n",
    "                                        fill=0, \n",
    "                                        fillcolor=None, \n",
    "                                        resample=None),\n",
    "    augmentation.AddPoissonNoise(   scaler_bounds=(10**(4.5), 10**(6.)),\n",
    "                                    prob=1,\n",
    "                                    base=1000,\n",
    "                                    scaling='log'),\n",
    "    augmentation.AddGaussianNoise(  mean=0, \n",
    "                                    std=0.00015,\n",
    "                                    prob=1),\n",
    "    \n",
    "    augmentation.ScaleDynamicRange(scaler_bounds=(0,1)), # just clamping, both this and clamping = normalizing (DEFAULT)\n",
    "    \n",
    "    torchvision.transforms.Resize(size=(224,224), \n",
    "                                  interpolation=torchvision.transforms.InterpolationMode.BILINEAR), # To do or not to do (DEFAULT)\n",
    "    \n",
    "    augmentation.TileChannels(dim=0, n_channels=3),\n",
    ")\n",
    "scripted_transforms = torch.jit.script(transforms)"
   ]
  },
  {
   "cell_type": "raw",
   "metadata": {
    "id": "tq77tWZeDB0s"
   },
   "source": [
    "import torchvision.transforms    \n",
    "\n",
    "transforms = torch.nn.Sequential(\n",
    "    \n",
    "#     torchvision.transforms.RandomAdjustSharpness(torch.rand(1)*5, p=0.5),\n",
    "#         torchvision.transforms.RandomPerspective(distortion_scale=0.7, \n",
    "#                                              p=0.5, \n",
    "#                                              interpolation=torchvision.transforms.InterpolationMode.BILINEAR, \n",
    "#                                              fill=0),\n",
    "#     torchvision.transforms.GaussianBlur(kernel_size=5,\n",
    "#                                         sigma=(0.0001, 0.1)),\n",
    "        \n",
    "\n",
    "    torchvision.transforms.RandomHorizontalFlip(p=0.5),\n",
    "        \n",
    "    torchvision.transforms.RandomAffine(\n",
    "                                        degrees=(-180,180),\n",
    "                                        translate=(0.2, 0.2), #0.15/.15\n",
    "                                        scale=(0.4, 1.3),  #.6, 1.2\n",
    "                                        shear=(-25, 25, -25, 25), # -15/+15 across board\n",
    "                                        interpolation=torchvision.transforms.InterpolationMode.BILINEAR, \n",
    "                                        fill=0, \n",
    "                                        fillcolor=None, \n",
    "                                        resample=None),\n",
    "    augmentation.AddPoissonNoise(   scaler_bounds=(10**(4.0), 10**(6.)), # 4.5, 6\n",
    "                                    prob=1,\n",
    "                                    base=1000,\n",
    "                                    scaling='log'),\n",
    "    augmentation.AddGaussianNoise(  mean=0, \n",
    "                                    std=0.0002, # 0.00015\n",
    "                                    prob=1),\n",
    "    \n",
    "    augmentation.ScaleDynamicRange(scaler_bounds=(0,1)), # Do vs. don't do -- bounds between 0/1. Either do this OR do this followed by torchvision.transforms.Normalize\n",
    "    \n",
    "    torchvision.transforms.Resize(size=(224,224),\n",
    "                                  interpolation=torchvision.transforms.InterpolationMode.BILINEAR), # Do vs. don't do\n",
    "    \n",
    "    # augmentation.AddPoissonNoise(   scaler_bounds=(10**(1.5), 10**(4.0)),\n",
    "    #                                 prob=1,\n",
    "    #                                 base=1000,\n",
    "    #                                 scaling='log'),\n",
    "    # augmentation.AddGaussianNoise(  mean=0, \n",
    "    #                                 std=0.1,\n",
    "    #                                 prob=1),\n",
    "    \n",
    "    augmentation.TileChannels(dim=0, n_channels=3),\n",
    "    \n",
    "#     augmentation.Normalize(  means=[0.485, 0.456, 0.406],\n",
    "#                              stds=[0.229, 0.224, 0.225]),\n",
    "#     torchvision.transforms.Normalize(mean=[0.485, 0.456, 0.406],\n",
    "#                                      std=[0.229, 0.224, 0.225],\n",
    "#                                      inplace=False),\n",
    "#     torchvision.transforms.RandomHorizontalFlip(p=0.5),\n",
    "\n",
    "#     torchvision.transforms.RandomAffine(\n",
    "#                                         degrees=(-180,180),\n",
    "#                                         translate=(0.0, 0.0),\n",
    "#                                         interpolation=torchvision.transforms.InterpolationMode.BILINEAR, \n",
    "#                                         fill=0, \n",
    "#                                         # fillcolor=None, \n",
    "#                                         resample=None),\n",
    ")\n",
    "scripted_transforms = torch.jit.script(transforms)\n",
    "# scripted_transforms = transforms"
   ]
  },
  {
   "cell_type": "code",
   "execution_count": 27,
   "metadata": {
    "id": "PmM4nnV1nCVd"
   },
   "outputs": [],
   "source": [
    "dataset_train = util.dataset_simCLR(\n",
    "                                    torch.as_tensor(masks_cat, device='cpu', dtype=torch.float32), \n",
    "                                    torch.as_tensor(torch.zeros(masks_cat.shape[0]), device='cpu', dtype=torch.float32),\n",
    "\n",
    "                                    n_transforms=2,\n",
    "                                    class_weights=np.array([1]),\n",
    "                                    # class_weights=np.array([1]*4)[np.random.randint(0,4, X_train.shape[0])],\n",
    "                                    transform=scripted_transforms,\n",
    "                                    # DEVICE='cpu',\n",
    "                                    DEVICE='cpu',\n",
    "                                    dtype_X=torch.float32,\n",
    "                                    dtype_y=torch.int64,\n",
    "                                    \n",
    "                                    temp_uncertainty=16\n",
    "                                    )\n",
    "dataloader_train = torch.utils.data.DataLoader( dataset_train,\n",
    "#                                                 batch_size=int(pct_batch_size*X_train.shape[0]),\n",
    "                                                batch_size=1024,\n",
    "                                                shuffle=True,\n",
    "                                                drop_last=True,\n",
    "                                                pin_memory=True,\n",
    "                                                num_workers=16,\n",
    "                                                persistent_workers=True,\n",
    "                                                # prefetch_factor=0\n",
    "                                                )"
   ]
  },
  {
   "cell_type": "code",
   "execution_count": 28,
   "metadata": {},
   "outputs": [
    {
     "data": {
      "image/png": "[encoded data removed]",
      "text/plain": [
       "<Figure size 432x288 with 2 Axes>"
      ]
     },
     "metadata": {
      "needs_background": "light"
     },
     "output_type": "display_data"
    },
    {
     "data": {
      "image/png": "[encoded data removed]",
      "text/plain": [
       "<Figure size 432x288 with 2 Axes>"
      ]
     },
     "metadata": {
      "needs_background": "light"
     },
     "output_type": "display_data"
    },
    {
     "data": {
      "image/png": "[encoded data removed]",
      "text/plain": [
       "<Figure size 432x288 with 2 Axes>"
      ]
     },
     "metadata": {
      "needs_background": "light"
     },
     "output_type": "display_data"
    },
    {
     "data": {
      "image/png": "[encoded data removed]",
      "text/plain": [
       "<Figure size 432x288 with 2 Axes>"
      ]
     },
     "metadata": {
      "needs_background": "light"
     },
     "output_type": "display_data"
    },
    {
     "data": {
      "image/png": "[encoded data removed]",
      "text/plain": [
       "<Figure size 432x288 with 2 Axes>"
      ]
     },
     "metadata": {
      "needs_background": "light"
     },
     "output_type": "display_data"
    },
    {
     "data": {
      "image/png": "[encoded data removed]",
      "text/plain": [
       "<Figure size 432x288 with 2 Axes>"
      ]
     },
     "metadata": {
      "needs_background": "light"
     },
     "output_type": "display_data"
    },
    {
     "data": {
      "image/png": "[encoded data removed]",
      "text/plain": [
       "<Figure size 432x288 with 2 Axes>"
      ]
     },
     "metadata": {
      "needs_background": "light"
     },
     "output_type": "display_data"
    },
    {
     "data": {
      "image/png": "[encoded data removed]",
      "text/plain": [
       "<Figure size 432x288 with 2 Axes>"
      ]
     },
     "metadata": {
      "needs_background": "light"
     },
     "output_type": "display_data"
    },
    {
     "data": {
      "image/png": "[encoded data removed]",
      "text/plain": [
       "<Figure size 432x288 with 2 Axes>"
      ]
     },
     "metadata": {
      "needs_background": "light"
     },
     "output_type": "display_data"
    },
    {
     "data": {
      "image/png": "[encoded data removed]",
      "text/plain": [
       "<Figure size 432x288 with 2 Axes>"
      ]
     },
     "metadata": {
      "needs_background": "light"
     },
     "output_type": "display_data"
    }
   ],
   "source": [
    "idx_rand = np.random.randint(0,masks_cat.shape[0], 10)\n",
    "for ii in idx_rand:\n",
    "    fig, axs = plt.subplots(2)\n",
    "    axs[0].imshow(dataset_train[ii][0][0][0])\n",
    "    axs[1].imshow(dataset_train[ii][0][1][0])"
   ]
  },
  {
   "cell_type": "code",
   "execution_count": 29,
   "metadata": {
    "colab": {
     "base_uri": "https://localhost:8080/"
    },
    "id": "nstWf2PhVwfV",
    "outputId": "968f73ab-75d7-4735-ea1e-49e7fb3821cc"
   },
   "outputs": [
    {
     "data": {
      "text/plain": [
       "0"
      ]
     },
     "execution_count": 29,
     "metadata": {},
     "output_type": "execute_result"
    }
   ],
   "source": [
    "# torch_helpers.delete_all_cuda_tensors(globals())\n",
    "\n",
    "import gc\n",
    "\n",
    "torch.cuda.empty_cache()\n",
    "gc.collect()\n",
    "torch.cuda.empty_cache()\n",
    "gc.collect()\n",
    "torch.cuda.empty_cache()\n",
    "gc.collect()\n",
    "torch.cuda.empty_cache()\n",
    "gc.collect()"
   ]
  },
  {
   "cell_type": "markdown",
   "metadata": {
    "id": "OQ27o1ny9Xfi"
   },
   "source": [
    "## Training"
   ]
  },
  {
   "cell_type": "code",
   "execution_count": 30,
   "metadata": {},
   "outputs": [],
   "source": [
    "model.to(DEVICE)\n",
    "model.prep_contrast()"
   ]
  },
  {
   "cell_type": "code",
   "execution_count": 31,
   "metadata": {
    "id": "yDqu-bi8mnJB"
   },
   "outputs": [],
   "source": [
    "from torch.nn import CrossEntropyLoss\n",
    "from torch.optim import Adam\n",
    "\n",
    "import numpy as np\n",
    "\n",
    "from sklearn.linear_model import LogisticRegression\n",
    "from sklearn.tree import DecisionTreeClassifier\n",
    "from sklearn.ensemble import RandomForestClassifier\n",
    "from sklearn.svm import SVC\n",
    "\n",
    "\n",
    "# model = models.LeNet1(dropout_prob=0.3, momentum_val=0, n_output_features=64)\n",
    "\n",
    "\n",
    "criterion = [CrossEntropyLoss()]\n",
    "# criterion = CrossEntropyLoss(reduction='none')\n",
    "\n",
    "# optimizer = Adam(model.parameters(), lr=1e-2, weight_decay=0.0)\n",
    "# optimizer = Adam(model.parameters(), lr=2e-2)\n",
    "optimizer = Adam(model.parameters(), lr=10**(-3.5))\n",
    "scheduler = torch.optim.lr_scheduler.ExponentialLR(optimizer,\n",
    "                                                   gamma=1-0.0000,\n",
    "#                                                    gamma=1,\n",
    "                                                  )\n",
    "\n",
    "criterion = [_.to(DEVICE) for _ in criterion]\n",
    "losses_train, losses_val, val_accs, acc = [], [np.nan], [], []"
   ]
  },
  {
   "cell_type": "code",
   "execution_count": 32,
   "metadata": {
    "colab": {
     "base_uri": "https://localhost:8080/"
    },
    "id": "rvDiVxDICXEn",
    "outputId": "2c29e3cf-4515-4aae-f0b1-22e30d51fa5f"
   },
   "outputs": [
    {
     "name": "stderr",
     "output_type": "stream",
     "text": [
      "  0%|          | 0/300000 [00:00<?, ?it/s]"
     ]
    },
    {
     "name": "stdout",
     "output_type": "stream",
     "text": [
      "epoch: 0\n",
      "Iter: 0/695, loss_train: 7.5832, loss_val: nan, pos_over_neg: 1.0569493770599365 lr: 0.00031623\n",
      "Iter: 1/695, loss_train: 7.2845, loss_val: nan, pos_over_neg: 3.541454792022705 lr: 0.00031623\n",
      "Iter: 2/695, loss_train: 7.1175, loss_val: nan, pos_over_neg: 7.269373893737793 lr: 0.00031623\n",
      "Iter: 3/695, loss_train: 7.0327, loss_val: nan, pos_over_neg: 18.804399490356445 lr: 0.00031623\n",
      "Iter: 4/695, loss_train: 6.978, loss_val: nan, pos_over_neg: 35.43347930908203 lr: 0.00031623\n",
      "Iter: 5/695, loss_train: 6.9448, loss_val: nan, pos_over_neg: 50.850582122802734 lr: 0.00031623\n",
      "Iter: 6/695, loss_train: 6.9274, loss_val: nan, pos_over_neg: 62.46113586425781 lr: 0.00031623\n",
      "Iter: 7/695, loss_train: 6.9084, loss_val: nan, pos_over_neg: 94.5813217163086 lr: 0.00031623\n",
      "Iter: 8/695, loss_train: 6.8985, loss_val: nan, pos_over_neg: 68.879150390625 lr: 0.00031623\n",
      "Iter: 9/695, loss_train: 6.8933, loss_val: nan, pos_over_neg: 77.05245971679688 lr: 0.00031623\n",
      "Iter: 10/695, loss_train: 6.8832, loss_val: nan, pos_over_neg: 133.63507080078125 lr: 0.00031623\n",
      "Iter: 11/695, loss_train: 6.8781, loss_val: nan, pos_over_neg: 162.3138885498047 lr: 0.00031623\n",
      "Iter: 12/695, loss_train: 6.8681, loss_val: nan, pos_over_neg: 248.45773315429688 lr: 0.00031623\n",
      "Iter: 13/695, loss_train: 6.8722, loss_val: nan, pos_over_neg: 233.9105682373047 lr: 0.00031623\n",
      "Iter: 14/695, loss_train: 6.8601, loss_val: nan, pos_over_neg: 294.66326904296875 lr: 0.00031623\n",
      "Iter: 15/695, loss_train: 6.8561, loss_val: nan, pos_over_neg: 330.11962890625 lr: 0.00031623\n",
      "Iter: 16/695, loss_train: 6.8559, loss_val: nan, pos_over_neg: 563.56640625 lr: 0.00031623\n",
      "Iter: 17/695, loss_train: 6.8466, loss_val: nan, pos_over_neg: 675.2884521484375 lr: 0.00031623\n",
      "Iter: 18/695, loss_train: 6.8448, loss_val: nan, pos_over_neg: 450.6845703125 lr: 0.00031623\n",
      "Iter: 19/695, loss_train: 6.8464, loss_val: nan, pos_over_neg: 380.9163818359375 lr: 0.00031623\n",
      "Iter: 20/695, loss_train: 6.8395, loss_val: nan, pos_over_neg: 568.0707397460938 lr: 0.00031623\n",
      "Iter: 21/695, loss_train: 6.8343, loss_val: nan, pos_over_neg: 619.0250244140625 lr: 0.00031623\n",
      "Iter: 22/695, loss_train: 6.8291, loss_val: nan, pos_over_neg: 425.2103576660156 lr: 0.00031623\n",
      "Iter: 23/695, loss_train: 6.8276, loss_val: nan, pos_over_neg: 803.4747314453125 lr: 0.00031623\n",
      "Iter: 24/695, loss_train: 6.8235, loss_val: nan, pos_over_neg: 3784.26708984375 lr: 0.00031623\n",
      "Iter: 25/695, loss_train: 6.8212, loss_val: nan, pos_over_neg: 1683.145751953125 lr: 0.00031623\n",
      "Iter: 26/695, loss_train: 6.8163, loss_val: nan, pos_over_neg: 1173.841552734375 lr: 0.00031623\n",
      "Iter: 27/695, loss_train: 6.8177, loss_val: nan, pos_over_neg: 1167.36376953125 lr: 0.00031623\n",
      "Iter: 28/695, loss_train: 6.8169, loss_val: nan, pos_over_neg: 435.8772277832031 lr: 0.00031623\n",
      "Iter: 29/695, loss_train: 6.8093, loss_val: nan, pos_over_neg: 762.5505981445312 lr: 0.00031623\n",
      "Iter: 30/695, loss_train: 6.8013, loss_val: nan, pos_over_neg: 925.2776489257812 lr: 0.00031623\n",
      "Iter: 31/695, loss_train: 6.8061, loss_val: nan, pos_over_neg: 1027.3536376953125 lr: 0.00031623\n",
      "Iter: 32/695, loss_train: 6.8003, loss_val: nan, pos_over_neg: 1069.7755126953125 lr: 0.00031623\n",
      "Iter: 33/695, loss_train: 6.8027, loss_val: nan, pos_over_neg: 2397.353515625 lr: 0.00031623\n",
      "Iter: 34/695, loss_train: 6.7971, loss_val: nan, pos_over_neg: 569.6990966796875 lr: 0.00031623\n",
      "Iter: 35/695, loss_train: 6.8027, loss_val: nan, pos_over_neg: 787.9638061523438 lr: 0.00031623\n",
      "Iter: 36/695, loss_train: 6.7937, loss_val: nan, pos_over_neg: 1120.2091064453125 lr: 0.00031623\n",
      "Iter: 37/695, loss_train: 6.795, loss_val: nan, pos_over_neg: 609.2157592773438 lr: 0.00031623\n",
      "Iter: 38/695, loss_train: 6.7873, loss_val: nan, pos_over_neg: 843.56396484375 lr: 0.00031623\n",
      "Iter: 39/695, loss_train: 6.7889, loss_val: nan, pos_over_neg: 4992.986328125 lr: 0.00031623\n",
      "Iter: 40/695, loss_train: 6.7832, loss_val: nan, pos_over_neg: 2289.801513671875 lr: 0.00031623\n",
      "Iter: 41/695, loss_train: 6.7822, loss_val: nan, pos_over_neg: 1219.9583740234375 lr: 0.00031623\n",
      "Iter: 42/695, loss_train: 6.7869, loss_val: nan, pos_over_neg: 5748.2470703125 lr: 0.00031623\n",
      "Iter: 43/695, loss_train: 6.7819, loss_val: nan, pos_over_neg: 1073.8758544921875 lr: 0.00031623\n",
      "Iter: 44/695, loss_train: 6.7785, loss_val: nan, pos_over_neg: 5148.2734375 lr: 0.00031623\n",
      "Iter: 45/695, loss_train: 6.7766, loss_val: nan, pos_over_neg: -7136.31298828125 lr: 0.00031623\n",
      "Iter: 46/695, loss_train: 6.7773, loss_val: nan, pos_over_neg: -5695.42236328125 lr: 0.00031623\n",
      "Iter: 47/695, loss_train: 6.7748, loss_val: nan, pos_over_neg: 1309.3651123046875 lr: 0.00031623\n",
      "Iter: 48/695, loss_train: 6.7763, loss_val: nan, pos_over_neg: 739.198486328125 lr: 0.00031623\n",
      "Iter: 49/695, loss_train: 6.7739, loss_val: nan, pos_over_neg: 2837.198974609375 lr: 0.00031623\n",
      "Iter: 50/695, loss_train: 6.7722, loss_val: nan, pos_over_neg: 4078.427734375 lr: 0.00031623\n",
      "Iter: 51/695, loss_train: 6.7723, loss_val: nan, pos_over_neg: -7771.7421875 lr: 0.00031623\n",
      "Iter: 52/695, loss_train: 6.7673, loss_val: nan, pos_over_neg: 2726.4267578125 lr: 0.00031623\n",
      "Iter: 53/695, loss_train: 6.7691, loss_val: nan, pos_over_neg: 2589.113525390625 lr: 0.00031623\n",
      "Iter: 54/695, loss_train: 6.7701, loss_val: nan, pos_over_neg: 1350.857177734375 lr: 0.00031623\n",
      "Iter: 55/695, loss_train: 6.7656, loss_val: nan, pos_over_neg: 594.5803833007812 lr: 0.00031623\n",
      "Iter: 56/695, loss_train: 6.7672, loss_val: nan, pos_over_neg: 739.0445556640625 lr: 0.00031623\n",
      "Iter: 57/695, loss_train: 6.7628, loss_val: nan, pos_over_neg: 575.0462036132812 lr: 0.00031623\n",
      "Iter: 58/695, loss_train: 6.7618, loss_val: nan, pos_over_neg: 2303.790283203125 lr: 0.00031623\n",
      "Iter: 59/695, loss_train: 6.7626, loss_val: nan, pos_over_neg: 537.4932250976562 lr: 0.00031623\n",
      "Iter: 60/695, loss_train: 6.7638, loss_val: nan, pos_over_neg: 1027.9595947265625 lr: 0.00031623\n",
      "Iter: 61/695, loss_train: 6.7605, loss_val: nan, pos_over_neg: 5876.2529296875 lr: 0.00031623\n",
      "Iter: 62/695, loss_train: 6.7637, loss_val: nan, pos_over_neg: 1647.6566162109375 lr: 0.00031623\n",
      "Iter: 63/695, loss_train: 6.7607, loss_val: nan, pos_over_neg: 1579.425537109375 lr: 0.00031623\n",
      "Iter: 64/695, loss_train: 6.7628, loss_val: nan, pos_over_neg: 486.2980041503906 lr: 0.00031623\n",
      "Iter: 65/695, loss_train: 6.7611, loss_val: nan, pos_over_neg: 558.9041137695312 lr: 0.00031623\n",
      "Iter: 66/695, loss_train: 6.766, loss_val: nan, pos_over_neg: 661.4822387695312 lr: 0.00031623\n",
      "Iter: 67/695, loss_train: 6.7592, loss_val: nan, pos_over_neg: 974.5372314453125 lr: 0.00031623\n",
      "Iter: 68/695, loss_train: 6.7566, loss_val: nan, pos_over_neg: 1849.577392578125 lr: 0.00031623\n",
      "Iter: 69/695, loss_train: 6.756, loss_val: nan, pos_over_neg: 218.7998504638672 lr: 0.00031623\n",
      "Iter: 70/695, loss_train: 6.7569, loss_val: nan, pos_over_neg: 747.2655639648438 lr: 0.00031623\n",
      "Iter: 71/695, loss_train: 6.7603, loss_val: nan, pos_over_neg: -16984.0859375 lr: 0.00031623\n",
      "Iter: 72/695, loss_train: 6.7618, loss_val: nan, pos_over_neg: 365.1042785644531 lr: 0.00031623\n",
      "Iter: 73/695, loss_train: 6.7532, loss_val: nan, pos_over_neg: 3311.312744140625 lr: 0.00031623\n",
      "Iter: 74/695, loss_train: 6.7547, loss_val: nan, pos_over_neg: 390.4112243652344 lr: 0.00031623\n",
      "Iter: 75/695, loss_train: 6.7567, loss_val: nan, pos_over_neg: 583.9180297851562 lr: 0.00031623\n",
      "Iter: 76/695, loss_train: 6.7579, loss_val: nan, pos_over_neg: 2562.64306640625 lr: 0.00031623\n",
      "Iter: 77/695, loss_train: 6.7532, loss_val: nan, pos_over_neg: 807.1012573242188 lr: 0.00031623\n",
      "Iter: 78/695, loss_train: 6.7536, loss_val: nan, pos_over_neg: 5303.705078125 lr: 0.00031623\n",
      "Iter: 79/695, loss_train: 6.7578, loss_val: nan, pos_over_neg: 1341.975830078125 lr: 0.00031623\n",
      "Iter: 80/695, loss_train: 6.7558, loss_val: nan, pos_over_neg: 473.8273010253906 lr: 0.00031623\n",
      "Iter: 81/695, loss_train: 6.7523, loss_val: nan, pos_over_neg: 874.1676025390625 lr: 0.00031623\n",
      "Iter: 82/695, loss_train: 6.7482, loss_val: nan, pos_over_neg: 1442.4462890625 lr: 0.00031623\n",
      "Iter: 83/695, loss_train: 6.7548, loss_val: nan, pos_over_neg: 471.82952880859375 lr: 0.00031623\n",
      "Iter: 84/695, loss_train: 6.7511, loss_val: nan, pos_over_neg: 826.5292358398438 lr: 0.00031623\n",
      "Iter: 85/695, loss_train: 6.7509, loss_val: nan, pos_over_neg: 892.7083740234375 lr: 0.00031623\n",
      "Iter: 86/695, loss_train: 6.7542, loss_val: nan, pos_over_neg: 217.16989135742188 lr: 0.00031623\n",
      "Iter: 87/695, loss_train: 6.7542, loss_val: nan, pos_over_neg: 353.44537353515625 lr: 0.00031623\n",
      "Iter: 88/695, loss_train: 6.7481, loss_val: nan, pos_over_neg: 764.458251953125 lr: 0.00031623\n",
      "Iter: 89/695, loss_train: 6.7458, loss_val: nan, pos_over_neg: 442.328857421875 lr: 0.00031623\n",
      "Iter: 90/695, loss_train: 6.7483, loss_val: nan, pos_over_neg: 670.6494750976562 lr: 0.00031623\n",
      "Iter: 91/695, loss_train: 6.7495, loss_val: nan, pos_over_neg: 1034.9490966796875 lr: 0.00031623\n",
      "Iter: 92/695, loss_train: 6.751, loss_val: nan, pos_over_neg: 731.2799682617188 lr: 0.00031623\n",
      "Iter: 93/695, loss_train: 6.751, loss_val: nan, pos_over_neg: 852.822509765625 lr: 0.00031623\n",
      "Iter: 94/695, loss_train: 6.7502, loss_val: nan, pos_over_neg: 1450.275634765625 lr: 0.00031623\n",
      "Iter: 95/695, loss_train: 6.7503, loss_val: nan, pos_over_neg: 311.62872314453125 lr: 0.00031623\n",
      "Iter: 96/695, loss_train: 6.7468, loss_val: nan, pos_over_neg: 1775.5299072265625 lr: 0.00031623\n",
      "Iter: 97/695, loss_train: 6.7466, loss_val: nan, pos_over_neg: 1374.8074951171875 lr: 0.00031623\n",
      "Iter: 98/695, loss_train: 6.7482, loss_val: nan, pos_over_neg: 285.8096618652344 lr: 0.00031623\n",
      "Iter: 99/695, loss_train: 6.7469, loss_val: nan, pos_over_neg: 4823.36328125 lr: 0.00031623\n",
      "Iter: 100/695, loss_train: 6.7491, loss_val: nan, pos_over_neg: 375.3905029296875 lr: 0.00031623\n",
      "Iter: 101/695, loss_train: 6.7498, loss_val: nan, pos_over_neg: 691.0742797851562 lr: 0.00031623\n",
      "Iter: 102/695, loss_train: 6.7397, loss_val: nan, pos_over_neg: 621.0194091796875 lr: 0.00031623\n",
      "Iter: 103/695, loss_train: 6.746, loss_val: nan, pos_over_neg: 606.765625 lr: 0.00031623\n",
      "Iter: 104/695, loss_train: 6.7461, loss_val: nan, pos_over_neg: 4583.9423828125 lr: 0.00031623\n",
      "Iter: 105/695, loss_train: 6.7475, loss_val: nan, pos_over_neg: -9357.224609375 lr: 0.00031623\n",
      "Iter: 106/695, loss_train: 6.7468, loss_val: nan, pos_over_neg: 3953.541015625 lr: 0.00031623\n",
      "Iter: 107/695, loss_train: 6.7438, loss_val: nan, pos_over_neg: 1050.4876708984375 lr: 0.00031623\n",
      "Iter: 108/695, loss_train: 6.7421, loss_val: nan, pos_over_neg: 6622.3173828125 lr: 0.00031623\n",
      "Iter: 109/695, loss_train: 6.742, loss_val: nan, pos_over_neg: 1160.616455078125 lr: 0.00031623\n",
      "Iter: 110/695, loss_train: 6.7447, loss_val: nan, pos_over_neg: 1198.90185546875 lr: 0.00031623\n",
      "Iter: 111/695, loss_train: 6.7382, loss_val: nan, pos_over_neg: 3001.378173828125 lr: 0.00031623\n",
      "Iter: 112/695, loss_train: 6.7372, loss_val: nan, pos_over_neg: 491.7304382324219 lr: 0.00031623\n",
      "Iter: 113/695, loss_train: 6.7449, loss_val: nan, pos_over_neg: 2656.657958984375 lr: 0.00031623\n",
      "Iter: 114/695, loss_train: 6.7407, loss_val: nan, pos_over_neg: 1250.6705322265625 lr: 0.00031623\n",
      "Iter: 115/695, loss_train: 6.7439, loss_val: nan, pos_over_neg: 602.2718505859375 lr: 0.00031623\n",
      "Iter: 116/695, loss_train: 6.7397, loss_val: nan, pos_over_neg: -26295.275390625 lr: 0.00031623\n",
      "Iter: 117/695, loss_train: 6.7441, loss_val: nan, pos_over_neg: 650.566650390625 lr: 0.00031623\n",
      "Iter: 118/695, loss_train: 6.7395, loss_val: nan, pos_over_neg: 1620.04833984375 lr: 0.00031623\n",
      "Iter: 119/695, loss_train: 6.7394, loss_val: nan, pos_over_neg: 26589.25390625 lr: 0.00031623\n",
      "Iter: 120/695, loss_train: 6.7408, loss_val: nan, pos_over_neg: 1148.4892578125 lr: 0.00031623\n",
      "Iter: 121/695, loss_train: 6.7392, loss_val: nan, pos_over_neg: 755.8079223632812 lr: 0.00031623\n",
      "Iter: 122/695, loss_train: 6.7371, loss_val: nan, pos_over_neg: 782.5192260742188 lr: 0.00031623\n",
      "Iter: 123/695, loss_train: 6.7439, loss_val: nan, pos_over_neg: 1309.6805419921875 lr: 0.00031623\n",
      "Iter: 124/695, loss_train: 6.7391, loss_val: nan, pos_over_neg: 564.7410888671875 lr: 0.00031623\n",
      "Iter: 125/695, loss_train: 6.7364, loss_val: nan, pos_over_neg: 884.2597045898438 lr: 0.00031623\n",
      "Iter: 126/695, loss_train: 6.7362, loss_val: nan, pos_over_neg: 1989.49853515625 lr: 0.00031623\n",
      "Iter: 127/695, loss_train: 6.7393, loss_val: nan, pos_over_neg: 512.1414184570312 lr: 0.00031623\n",
      "Iter: 128/695, loss_train: 6.7373, loss_val: nan, pos_over_neg: 1031.8125 lr: 0.00031623\n",
      "Iter: 129/695, loss_train: 6.7371, loss_val: nan, pos_over_neg: 745.652099609375 lr: 0.00031623\n",
      "Iter: 130/695, loss_train: 6.7411, loss_val: nan, pos_over_neg: 2098.90478515625 lr: 0.00031623\n",
      "Iter: 131/695, loss_train: 6.739, loss_val: nan, pos_over_neg: 374.75775146484375 lr: 0.00031623\n",
      "Iter: 132/695, loss_train: 6.7374, loss_val: nan, pos_over_neg: -733463.75 lr: 0.00031623\n",
      "Iter: 133/695, loss_train: 6.7399, loss_val: nan, pos_over_neg: 316.6797180175781 lr: 0.00031623\n",
      "Iter: 134/695, loss_train: 6.7372, loss_val: nan, pos_over_neg: 766.8878784179688 lr: 0.00031623\n",
      "Iter: 135/695, loss_train: 6.7374, loss_val: nan, pos_over_neg: 1102.626220703125 lr: 0.00031623\n",
      "Iter: 136/695, loss_train: 6.7384, loss_val: nan, pos_over_neg: 465.56524658203125 lr: 0.00031623\n",
      "Iter: 137/695, loss_train: 6.7381, loss_val: nan, pos_over_neg: 599.4454956054688 lr: 0.00031623\n",
      "Iter: 138/695, loss_train: 6.7372, loss_val: nan, pos_over_neg: 580.7398071289062 lr: 0.00031623\n",
      "Iter: 139/695, loss_train: 6.7391, loss_val: nan, pos_over_neg: 312.34979248046875 lr: 0.00031623\n",
      "Iter: 140/695, loss_train: 6.7373, loss_val: nan, pos_over_neg: 869.6159057617188 lr: 0.00031623\n",
      "Iter: 141/695, loss_train: 6.7366, loss_val: nan, pos_over_neg: 526.4202880859375 lr: 0.00031623\n",
      "Iter: 142/695, loss_train: 6.7394, loss_val: nan, pos_over_neg: 239.47254943847656 lr: 0.00031623\n",
      "Iter: 143/695, loss_train: 6.7373, loss_val: nan, pos_over_neg: 946.1471557617188 lr: 0.00031623\n",
      "Iter: 144/695, loss_train: 6.7335, loss_val: nan, pos_over_neg: 581.400634765625 lr: 0.00031623\n",
      "Iter: 145/695, loss_train: 6.7361, loss_val: nan, pos_over_neg: 1449.602294921875 lr: 0.00031623\n",
      "Iter: 146/695, loss_train: 6.7384, loss_val: nan, pos_over_neg: 1210.254638671875 lr: 0.00031623\n",
      "Iter: 147/695, loss_train: 6.7347, loss_val: nan, pos_over_neg: 584.4779052734375 lr: 0.00031623\n",
      "Iter: 148/695, loss_train: 6.7332, loss_val: nan, pos_over_neg: 898.4734497070312 lr: 0.00031623\n",
      "Iter: 149/695, loss_train: 6.7371, loss_val: nan, pos_over_neg: 449.0015869140625 lr: 0.00031623\n",
      "Iter: 150/695, loss_train: 6.7362, loss_val: nan, pos_over_neg: 1727.1551513671875 lr: 0.00031623\n",
      "Iter: 151/695, loss_train: 6.7357, loss_val: nan, pos_over_neg: -17792.923828125 lr: 0.00031623\n",
      "Iter: 152/695, loss_train: 6.7311, loss_val: nan, pos_over_neg: 686.4534301757812 lr: 0.00031623\n",
      "Iter: 153/695, loss_train: 6.7342, loss_val: nan, pos_over_neg: 1174.02294921875 lr: 0.00031623\n",
      "Iter: 154/695, loss_train: 6.7325, loss_val: nan, pos_over_neg: 2074.14599609375 lr: 0.00031623\n",
      "Iter: 155/695, loss_train: 6.7326, loss_val: nan, pos_over_neg: 509.2557373046875 lr: 0.00031623\n",
      "Iter: 156/695, loss_train: 6.7309, loss_val: nan, pos_over_neg: -177719.109375 lr: 0.00031623\n",
      "Iter: 157/695, loss_train: 6.7301, loss_val: nan, pos_over_neg: 848.2717895507812 lr: 0.00031623\n",
      "Iter: 158/695, loss_train: 6.7348, loss_val: nan, pos_over_neg: 627.2355346679688 lr: 0.00031623\n",
      "Iter: 159/695, loss_train: 6.7331, loss_val: nan, pos_over_neg: 1248.8790283203125 lr: 0.00031623\n",
      "Iter: 160/695, loss_train: 6.7331, loss_val: nan, pos_over_neg: 381.2990417480469 lr: 0.00031623\n",
      "Iter: 161/695, loss_train: 6.7325, loss_val: nan, pos_over_neg: 34566.91796875 lr: 0.00031623\n",
      "Iter: 162/695, loss_train: 6.7329, loss_val: nan, pos_over_neg: 705.4713134765625 lr: 0.00031623\n",
      "Iter: 163/695, loss_train: 6.7362, loss_val: nan, pos_over_neg: 439.5119323730469 lr: 0.00031623\n",
      "Iter: 164/695, loss_train: 6.7324, loss_val: nan, pos_over_neg: 2277.851318359375 lr: 0.00031623\n",
      "Iter: 165/695, loss_train: 6.7323, loss_val: nan, pos_over_neg: 520.2899780273438 lr: 0.00031623\n",
      "Iter: 166/695, loss_train: 6.7338, loss_val: nan, pos_over_neg: 313.394775390625 lr: 0.00031623\n",
      "Iter: 167/695, loss_train: 6.7319, loss_val: nan, pos_over_neg: -85944.5703125 lr: 0.00031623\n",
      "Iter: 168/695, loss_train: 6.734, loss_val: nan, pos_over_neg: 1064.67236328125 lr: 0.00031623\n",
      "Iter: 169/695, loss_train: 6.7321, loss_val: nan, pos_over_neg: 424.10968017578125 lr: 0.00031623\n",
      "Iter: 170/695, loss_train: 6.7332, loss_val: nan, pos_over_neg: 1365.3692626953125 lr: 0.00031623\n",
      "Iter: 171/695, loss_train: 6.7304, loss_val: nan, pos_over_neg: 432.226318359375 lr: 0.00031623\n",
      "Iter: 172/695, loss_train: 6.7305, loss_val: nan, pos_over_neg: 562.3070068359375 lr: 0.00031623\n",
      "Iter: 173/695, loss_train: 6.7305, loss_val: nan, pos_over_neg: 1487.806640625 lr: 0.00031623\n",
      "Iter: 174/695, loss_train: 6.7339, loss_val: nan, pos_over_neg: 604.2745361328125 lr: 0.00031623\n",
      "Iter: 175/695, loss_train: 6.7358, loss_val: nan, pos_over_neg: 691.3107299804688 lr: 0.00031623\n",
      "Iter: 176/695, loss_train: 6.7297, loss_val: nan, pos_over_neg: 724.2891845703125 lr: 0.00031623\n",
      "Iter: 177/695, loss_train: 6.7331, loss_val: nan, pos_over_neg: 1269.945068359375 lr: 0.00031623\n",
      "Iter: 178/695, loss_train: 6.7271, loss_val: nan, pos_over_neg: 826.0684204101562 lr: 0.00031623\n",
      "Iter: 179/695, loss_train: 6.7311, loss_val: nan, pos_over_neg: 37303.49609375 lr: 0.00031623\n",
      "Iter: 180/695, loss_train: 6.7318, loss_val: nan, pos_over_neg: 4917.19140625 lr: 0.00031623\n",
      "Iter: 181/695, loss_train: 6.7332, loss_val: nan, pos_over_neg: 728.21533203125 lr: 0.00031623\n",
      "Iter: 182/695, loss_train: 6.7275, loss_val: nan, pos_over_neg: 763.0711059570312 lr: 0.00031623\n",
      "Iter: 183/695, loss_train: 6.7308, loss_val: nan, pos_over_neg: 564.7901611328125 lr: 0.00031623\n",
      "Iter: 184/695, loss_train: 6.73, loss_val: nan, pos_over_neg: 1057.0919189453125 lr: 0.00031623\n",
      "Iter: 185/695, loss_train: 6.7314, loss_val: nan, pos_over_neg: 586.1708374023438 lr: 0.00031623\n",
      "Iter: 186/695, loss_train: 6.7337, loss_val: nan, pos_over_neg: 660.6708984375 lr: 0.00031623\n",
      "Iter: 187/695, loss_train: 6.734, loss_val: nan, pos_over_neg: 623.4721069335938 lr: 0.00031623\n",
      "Iter: 188/695, loss_train: 6.7262, loss_val: nan, pos_over_neg: 673.7680053710938 lr: 0.00031623\n",
      "Iter: 189/695, loss_train: 6.7292, loss_val: nan, pos_over_neg: 944.2003173828125 lr: 0.00031623\n",
      "Iter: 190/695, loss_train: 6.7277, loss_val: nan, pos_over_neg: 902.8872680664062 lr: 0.00031623\n",
      "Iter: 191/695, loss_train: 6.7306, loss_val: nan, pos_over_neg: 1395.2493896484375 lr: 0.00031623\n",
      "Iter: 192/695, loss_train: 6.7278, loss_val: nan, pos_over_neg: 1357.6341552734375 lr: 0.00031623\n",
      "Iter: 193/695, loss_train: 6.7333, loss_val: nan, pos_over_neg: 348.8345031738281 lr: 0.00031623\n",
      "Iter: 194/695, loss_train: 6.7322, loss_val: nan, pos_over_neg: 3163.84375 lr: 0.00031623\n",
      "Iter: 195/695, loss_train: 6.7275, loss_val: nan, pos_over_neg: 14108.970703125 lr: 0.00031623\n",
      "Iter: 196/695, loss_train: 6.7262, loss_val: nan, pos_over_neg: 1463.2412109375 lr: 0.00031623\n",
      "Iter: 197/695, loss_train: 6.7272, loss_val: nan, pos_over_neg: 1378.776611328125 lr: 0.00031623\n",
      "Iter: 198/695, loss_train: 6.7286, loss_val: nan, pos_over_neg: 1611.91943359375 lr: 0.00031623\n",
      "Iter: 199/695, loss_train: 6.7311, loss_val: nan, pos_over_neg: 7433.57568359375 lr: 0.00031623\n",
      "Iter: 200/695, loss_train: 6.7297, loss_val: nan, pos_over_neg: 1091.8536376953125 lr: 0.00031623\n",
      "Iter: 201/695, loss_train: 6.7299, loss_val: nan, pos_over_neg: 841.1533813476562 lr: 0.00031623\n",
      "Iter: 202/695, loss_train: 6.7261, loss_val: nan, pos_over_neg: -4712.81689453125 lr: 0.00031623\n",
      "Iter: 203/695, loss_train: 6.7263, loss_val: nan, pos_over_neg: 772.710205078125 lr: 0.00031623\n",
      "Iter: 204/695, loss_train: 6.7292, loss_val: nan, pos_over_neg: 604.7405395507812 lr: 0.00031623\n",
      "Iter: 205/695, loss_train: 6.7225, loss_val: nan, pos_over_neg: 2571.6806640625 lr: 0.00031623\n",
      "Iter: 206/695, loss_train: 6.7251, loss_val: nan, pos_over_neg: 840.4949340820312 lr: 0.00031623\n",
      "Iter: 207/695, loss_train: 6.7272, loss_val: nan, pos_over_neg: 823.3527221679688 lr: 0.00031623\n",
      "Iter: 208/695, loss_train: 6.7263, loss_val: nan, pos_over_neg: 497.32611083984375 lr: 0.00031623\n",
      "Iter: 209/695, loss_train: 6.7229, loss_val: nan, pos_over_neg: 1486.780517578125 lr: 0.00031623\n",
      "Iter: 210/695, loss_train: 6.7217, loss_val: nan, pos_over_neg: 1348.953125 lr: 0.00031623\n",
      "Iter: 211/695, loss_train: 6.7264, loss_val: nan, pos_over_neg: 1607.193359375 lr: 0.00031623\n",
      "Iter: 212/695, loss_train: 6.7283, loss_val: nan, pos_over_neg: 3238.388427734375 lr: 0.00031623\n",
      "Iter: 213/695, loss_train: 6.722, loss_val: nan, pos_over_neg: 1005.8533935546875 lr: 0.00031623\n",
      "Iter: 214/695, loss_train: 6.7267, loss_val: nan, pos_over_neg: 896.8511962890625 lr: 0.00031623\n",
      "Iter: 215/695, loss_train: 6.7274, loss_val: nan, pos_over_neg: 385.8545837402344 lr: 0.00031623\n",
      "Iter: 216/695, loss_train: 6.726, loss_val: nan, pos_over_neg: 1171.194580078125 lr: 0.00031623\n",
      "Iter: 217/695, loss_train: 6.7269, loss_val: nan, pos_over_neg: 1128.045166015625 lr: 0.00031623\n",
      "Iter: 218/695, loss_train: 6.7299, loss_val: nan, pos_over_neg: 1071.2774658203125 lr: 0.00031623\n",
      "Iter: 219/695, loss_train: 6.7263, loss_val: nan, pos_over_neg: 946.2738647460938 lr: 0.00031623\n",
      "Iter: 220/695, loss_train: 6.723, loss_val: nan, pos_over_neg: 887.9334716796875 lr: 0.00031623\n",
      "Iter: 221/695, loss_train: 6.7294, loss_val: nan, pos_over_neg: 408.76739501953125 lr: 0.00031623\n",
      "Iter: 222/695, loss_train: 6.731, loss_val: nan, pos_over_neg: 1020.4487915039062 lr: 0.00031623\n",
      "Iter: 223/695, loss_train: 6.7253, loss_val: nan, pos_over_neg: 1215.7186279296875 lr: 0.00031623\n",
      "Iter: 224/695, loss_train: 6.7293, loss_val: nan, pos_over_neg: 461.3578186035156 lr: 0.00031623\n",
      "Iter: 225/695, loss_train: 6.723, loss_val: nan, pos_over_neg: 911.4175415039062 lr: 0.00031623\n",
      "Iter: 226/695, loss_train: 6.7239, loss_val: nan, pos_over_neg: 936.7457275390625 lr: 0.00031623\n",
      "Iter: 227/695, loss_train: 6.726, loss_val: nan, pos_over_neg: 551.2953491210938 lr: 0.00031623\n",
      "Iter: 228/695, loss_train: 6.7279, loss_val: nan, pos_over_neg: 393.96063232421875 lr: 0.00031623\n",
      "Iter: 229/695, loss_train: 6.7264, loss_val: nan, pos_over_neg: 3088.2705078125 lr: 0.00031623\n",
      "Iter: 230/695, loss_train: 6.7228, loss_val: nan, pos_over_neg: 537.8892211914062 lr: 0.00031623\n",
      "Iter: 231/695, loss_train: 6.7284, loss_val: nan, pos_over_neg: 440.38916015625 lr: 0.00031623\n",
      "Iter: 232/695, loss_train: 6.7233, loss_val: nan, pos_over_neg: 559.4103393554688 lr: 0.00031623\n",
      "Iter: 233/695, loss_train: 6.7251, loss_val: nan, pos_over_neg: 750.5598754882812 lr: 0.00031623\n",
      "Iter: 234/695, loss_train: 6.7241, loss_val: nan, pos_over_neg: 1003.7595825195312 lr: 0.00031623\n",
      "Iter: 235/695, loss_train: 6.7266, loss_val: nan, pos_over_neg: 673.515869140625 lr: 0.00031623\n",
      "Iter: 236/695, loss_train: 6.724, loss_val: nan, pos_over_neg: 870.3447265625 lr: 0.00031623\n",
      "Iter: 237/695, loss_train: 6.7258, loss_val: nan, pos_over_neg: 1101.21435546875 lr: 0.00031623\n",
      "Iter: 238/695, loss_train: 6.7235, loss_val: nan, pos_over_neg: 406.7455749511719 lr: 0.00031623\n",
      "Iter: 239/695, loss_train: 6.7224, loss_val: nan, pos_over_neg: 559.8280029296875 lr: 0.00031623\n",
      "Iter: 240/695, loss_train: 6.7264, loss_val: nan, pos_over_neg: 249.60382080078125 lr: 0.00031623\n",
      "Iter: 241/695, loss_train: 6.723, loss_val: nan, pos_over_neg: 795.449951171875 lr: 0.00031623\n",
      "Iter: 242/695, loss_train: 6.7259, loss_val: nan, pos_over_neg: 674.1113891601562 lr: 0.00031623\n",
      "Iter: 243/695, loss_train: 6.7234, loss_val: nan, pos_over_neg: 826.8038940429688 lr: 0.00031623\n",
      "Iter: 244/695, loss_train: 6.7267, loss_val: nan, pos_over_neg: 537.7545166015625 lr: 0.00031623\n",
      "Iter: 245/695, loss_train: 6.7193, loss_val: nan, pos_over_neg: 3641.96337890625 lr: 0.00031623\n",
      "Iter: 246/695, loss_train: 6.7217, loss_val: nan, pos_over_neg: 704.492919921875 lr: 0.00031623\n",
      "Iter: 247/695, loss_train: 6.7241, loss_val: nan, pos_over_neg: 1501.200439453125 lr: 0.00031623\n",
      "Iter: 248/695, loss_train: 6.7215, loss_val: nan, pos_over_neg: 598.2954711914062 lr: 0.00031623\n",
      "Iter: 249/695, loss_train: 6.72, loss_val: nan, pos_over_neg: 1045.44677734375 lr: 0.00031623\n",
      "Iter: 250/695, loss_train: 6.7193, loss_val: nan, pos_over_neg: 1163.046142578125 lr: 0.00031623\n",
      "Iter: 251/695, loss_train: 6.723, loss_val: nan, pos_over_neg: 1271.0377197265625 lr: 0.00031623\n",
      "Iter: 252/695, loss_train: 6.7188, loss_val: nan, pos_over_neg: 2874.078857421875 lr: 0.00031623\n",
      "Iter: 253/695, loss_train: 6.7227, loss_val: nan, pos_over_neg: 503.35711669921875 lr: 0.00031623\n",
      "Iter: 254/695, loss_train: 6.7284, loss_val: nan, pos_over_neg: 1966.2237548828125 lr: 0.00031623\n",
      "Iter: 255/695, loss_train: 6.7232, loss_val: nan, pos_over_neg: 1819.9747314453125 lr: 0.00031623\n",
      "Iter: 256/695, loss_train: 6.7185, loss_val: nan, pos_over_neg: 823.7705688476562 lr: 0.00031623\n",
      "Iter: 257/695, loss_train: 6.7239, loss_val: nan, pos_over_neg: 775.22265625 lr: 0.00031623\n",
      "Iter: 258/695, loss_train: 6.7186, loss_val: nan, pos_over_neg: 1137.232666015625 lr: 0.00031623\n",
      "Iter: 259/695, loss_train: 6.722, loss_val: nan, pos_over_neg: 3161.3134765625 lr: 0.00031623\n",
      "Iter: 260/695, loss_train: 6.7201, loss_val: nan, pos_over_neg: 643.4483642578125 lr: 0.00031623\n",
      "Iter: 261/695, loss_train: 6.7184, loss_val: nan, pos_over_neg: 1823.002197265625 lr: 0.00031623\n",
      "Iter: 262/695, loss_train: 6.7221, loss_val: nan, pos_over_neg: 597.7371215820312 lr: 0.00031623\n",
      "Iter: 263/695, loss_train: 6.7191, loss_val: nan, pos_over_neg: 873.64404296875 lr: 0.00031623\n",
      "Iter: 264/695, loss_train: 6.7213, loss_val: nan, pos_over_neg: 398.5220642089844 lr: 0.00031623\n",
      "Iter: 265/695, loss_train: 6.7237, loss_val: nan, pos_over_neg: 1213.669677734375 lr: 0.00031623\n",
      "Iter: 266/695, loss_train: 6.7192, loss_val: nan, pos_over_neg: 1851.1475830078125 lr: 0.00031623\n",
      "Iter: 267/695, loss_train: 6.7212, loss_val: nan, pos_over_neg: 348.2544250488281 lr: 0.00031623\n",
      "Iter: 268/695, loss_train: 6.7213, loss_val: nan, pos_over_neg: 1154.2244873046875 lr: 0.00031623\n",
      "Iter: 269/695, loss_train: 6.7212, loss_val: nan, pos_over_neg: 989.4091796875 lr: 0.00031623\n",
      "Iter: 270/695, loss_train: 6.7209, loss_val: nan, pos_over_neg: 645.3436889648438 lr: 0.00031623\n",
      "Iter: 271/695, loss_train: 6.7173, loss_val: nan, pos_over_neg: 2484.2587890625 lr: 0.00031623\n",
      "Iter: 272/695, loss_train: 6.7183, loss_val: nan, pos_over_neg: 1416.57421875 lr: 0.00031623\n",
      "Iter: 273/695, loss_train: 6.7218, loss_val: nan, pos_over_neg: 414.6479797363281 lr: 0.00031623\n",
      "Iter: 274/695, loss_train: 6.7219, loss_val: nan, pos_over_neg: 840.7349853515625 lr: 0.00031623\n",
      "Iter: 275/695, loss_train: 6.7203, loss_val: nan, pos_over_neg: 495.7944030761719 lr: 0.00031623\n",
      "Iter: 276/695, loss_train: 6.7183, loss_val: nan, pos_over_neg: 1323.5279541015625 lr: 0.00031623\n",
      "Iter: 277/695, loss_train: 6.7187, loss_val: nan, pos_over_neg: 886.7868041992188 lr: 0.00031623\n",
      "Iter: 278/695, loss_train: 6.7243, loss_val: nan, pos_over_neg: 402.2742614746094 lr: 0.00031623\n",
      "Iter: 279/695, loss_train: 6.7209, loss_val: nan, pos_over_neg: 586.1365966796875 lr: 0.00031623\n",
      "Iter: 280/695, loss_train: 6.7218, loss_val: nan, pos_over_neg: 599.5036010742188 lr: 0.00031623\n",
      "Iter: 281/695, loss_train: 6.7193, loss_val: nan, pos_over_neg: 457.6880798339844 lr: 0.00031623\n",
      "Iter: 282/695, loss_train: 6.7233, loss_val: nan, pos_over_neg: 634.903076171875 lr: 0.00031623\n",
      "Iter: 283/695, loss_train: 6.7199, loss_val: nan, pos_over_neg: 981.3067626953125 lr: 0.00031623\n",
      "Iter: 284/695, loss_train: 6.7176, loss_val: nan, pos_over_neg: 1009.8048095703125 lr: 0.00031623\n",
      "Iter: 285/695, loss_train: 6.7182, loss_val: nan, pos_over_neg: 1057.476806640625 lr: 0.00031623\n",
      "Iter: 286/695, loss_train: 6.717, loss_val: nan, pos_over_neg: 701.63525390625 lr: 0.00031623\n",
      "Iter: 287/695, loss_train: 6.7213, loss_val: nan, pos_over_neg: 863.0479736328125 lr: 0.00031623\n",
      "Iter: 288/695, loss_train: 6.7193, loss_val: nan, pos_over_neg: 368.4119873046875 lr: 0.00031623\n",
      "Iter: 289/695, loss_train: 6.7175, loss_val: nan, pos_over_neg: 892.2929077148438 lr: 0.00031623\n",
      "Iter: 290/695, loss_train: 6.7235, loss_val: nan, pos_over_neg: 709.9863891601562 lr: 0.00031623\n",
      "Iter: 291/695, loss_train: 6.7183, loss_val: nan, pos_over_neg: 859.199951171875 lr: 0.00031623\n",
      "Iter: 292/695, loss_train: 6.7176, loss_val: nan, pos_over_neg: 3899.425537109375 lr: 0.00031623\n",
      "Iter: 293/695, loss_train: 6.7183, loss_val: nan, pos_over_neg: 754.6295166015625 lr: 0.00031623\n",
      "Iter: 294/695, loss_train: 6.7177, loss_val: nan, pos_over_neg: 1349.1925048828125 lr: 0.00031623\n",
      "Iter: 295/695, loss_train: 6.7186, loss_val: nan, pos_over_neg: 1407.8236083984375 lr: 0.00031623\n",
      "Iter: 296/695, loss_train: 6.7166, loss_val: nan, pos_over_neg: 1143.4464111328125 lr: 0.00031623\n",
      "Iter: 297/695, loss_train: 6.7197, loss_val: nan, pos_over_neg: 614.803955078125 lr: 0.00031623\n",
      "Iter: 298/695, loss_train: 6.7162, loss_val: nan, pos_over_neg: 2733.577392578125 lr: 0.00031623\n",
      "Iter: 299/695, loss_train: 6.7173, loss_val: nan, pos_over_neg: 677.5795288085938 lr: 0.00031623\n",
      "Iter: 300/695, loss_train: 6.7182, loss_val: nan, pos_over_neg: 929.5150756835938 lr: 0.00031623\n",
      "Iter: 301/695, loss_train: 6.7248, loss_val: nan, pos_over_neg: 1109.7099609375 lr: 0.00031623\n",
      "Iter: 302/695, loss_train: 6.7182, loss_val: nan, pos_over_neg: 382.9048767089844 lr: 0.00031623\n",
      "Iter: 303/695, loss_train: 6.7194, loss_val: nan, pos_over_neg: 839.4515380859375 lr: 0.00031623\n",
      "Iter: 304/695, loss_train: 6.7166, loss_val: nan, pos_over_neg: 715.0079956054688 lr: 0.00031623\n",
      "Iter: 305/695, loss_train: 6.7211, loss_val: nan, pos_over_neg: 1110.2568359375 lr: 0.00031623\n",
      "Iter: 306/695, loss_train: 6.7173, loss_val: nan, pos_over_neg: 1316.13232421875 lr: 0.00031623\n",
      "Iter: 307/695, loss_train: 6.7181, loss_val: nan, pos_over_neg: 440.6796569824219 lr: 0.00031623\n",
      "Iter: 308/695, loss_train: 6.7164, loss_val: nan, pos_over_neg: 629.1903076171875 lr: 0.00031623\n",
      "Iter: 309/695, loss_train: 6.7227, loss_val: nan, pos_over_neg: 316.5287780761719 lr: 0.00031623\n",
      "Iter: 310/695, loss_train: 6.7211, loss_val: nan, pos_over_neg: 437.2746276855469 lr: 0.00031623\n",
      "Iter: 311/695, loss_train: 6.7169, loss_val: nan, pos_over_neg: 762.31982421875 lr: 0.00031623\n",
      "Iter: 312/695, loss_train: 6.7207, loss_val: nan, pos_over_neg: 271.760986328125 lr: 0.00031623\n",
      "Iter: 313/695, loss_train: 6.7188, loss_val: nan, pos_over_neg: 719.0228881835938 lr: 0.00031623\n",
      "Iter: 314/695, loss_train: 6.7181, loss_val: nan, pos_over_neg: 360.57958984375 lr: 0.00031623\n",
      "Iter: 315/695, loss_train: 6.7141, loss_val: nan, pos_over_neg: 1321.3558349609375 lr: 0.00031623\n",
      "Iter: 316/695, loss_train: 6.7183, loss_val: nan, pos_over_neg: 501.6671142578125 lr: 0.00031623\n",
      "Iter: 317/695, loss_train: 6.7189, loss_val: nan, pos_over_neg: 439.9974365234375 lr: 0.00031623\n",
      "Iter: 318/695, loss_train: 6.722, loss_val: nan, pos_over_neg: 452.7805480957031 lr: 0.00031623\n",
      "Iter: 319/695, loss_train: 6.7188, loss_val: nan, pos_over_neg: 721.3019409179688 lr: 0.00031623\n",
      "Iter: 320/695, loss_train: 6.7199, loss_val: nan, pos_over_neg: 881.7059326171875 lr: 0.00031623\n",
      "Iter: 321/695, loss_train: 6.7194, loss_val: nan, pos_over_neg: 402.7281188964844 lr: 0.00031623\n",
      "Iter: 322/695, loss_train: 6.7147, loss_val: nan, pos_over_neg: 1658.87109375 lr: 0.00031623\n",
      "Iter: 323/695, loss_train: 6.7182, loss_val: nan, pos_over_neg: 526.119384765625 lr: 0.00031623\n",
      "Iter: 324/695, loss_train: 6.7182, loss_val: nan, pos_over_neg: 419.23126220703125 lr: 0.00031623\n",
      "Iter: 325/695, loss_train: 6.7189, loss_val: nan, pos_over_neg: 505.3017272949219 lr: 0.00031623\n",
      "Iter: 326/695, loss_train: 6.7159, loss_val: nan, pos_over_neg: 793.8506469726562 lr: 0.00031623\n",
      "Iter: 327/695, loss_train: 6.7167, loss_val: nan, pos_over_neg: 1399.88037109375 lr: 0.00031623\n",
      "Iter: 328/695, loss_train: 6.7188, loss_val: nan, pos_over_neg: 610.6972045898438 lr: 0.00031623\n",
      "Iter: 329/695, loss_train: 6.7212, loss_val: nan, pos_over_neg: 645.0574340820312 lr: 0.00031623\n",
      "Iter: 330/695, loss_train: 6.7169, loss_val: nan, pos_over_neg: 1905.5406494140625 lr: 0.00031623\n",
      "Iter: 331/695, loss_train: 6.717, loss_val: nan, pos_over_neg: 342.8865661621094 lr: 0.00031623\n",
      "Iter: 332/695, loss_train: 6.7176, loss_val: nan, pos_over_neg: 809.7595825195312 lr: 0.00031623\n",
      "Iter: 333/695, loss_train: 6.723, loss_val: nan, pos_over_neg: 529.5478515625 lr: 0.00031623\n",
      "Iter: 334/695, loss_train: 6.7166, loss_val: nan, pos_over_neg: 915.0321655273438 lr: 0.00031623\n",
      "Iter: 335/695, loss_train: 6.7177, loss_val: nan, pos_over_neg: 901.8583374023438 lr: 0.00031623\n",
      "Iter: 336/695, loss_train: 6.7139, loss_val: nan, pos_over_neg: -2288.502685546875 lr: 0.00031623\n",
      "Iter: 337/695, loss_train: 6.7175, loss_val: nan, pos_over_neg: 1798.2291259765625 lr: 0.00031623\n",
      "Iter: 338/695, loss_train: 6.7168, loss_val: nan, pos_over_neg: 715.7363891601562 lr: 0.00031623\n",
      "Iter: 339/695, loss_train: 6.7167, loss_val: nan, pos_over_neg: -9811.0556640625 lr: 0.00031623\n",
      "Iter: 340/695, loss_train: 6.7169, loss_val: nan, pos_over_neg: 996.417236328125 lr: 0.00031623\n",
      "Iter: 341/695, loss_train: 6.7141, loss_val: nan, pos_over_neg: 717.8534545898438 lr: 0.00031623\n",
      "Iter: 342/695, loss_train: 6.714, loss_val: nan, pos_over_neg: 6530.53125 lr: 0.00031623\n",
      "Iter: 343/695, loss_train: 6.715, loss_val: nan, pos_over_neg: 671.1362915039062 lr: 0.00031623\n",
      "Iter: 344/695, loss_train: 6.7127, loss_val: nan, pos_over_neg: 1396.0335693359375 lr: 0.00031623\n",
      "Iter: 345/695, loss_train: 6.7167, loss_val: nan, pos_over_neg: 2283.748779296875 lr: 0.00031623\n",
      "Iter: 346/695, loss_train: 6.7175, loss_val: nan, pos_over_neg: 965.2571411132812 lr: 0.00031623\n",
      "Iter: 347/695, loss_train: 6.7163, loss_val: nan, pos_over_neg: 574.244873046875 lr: 0.00031623\n",
      "Iter: 348/695, loss_train: 6.7197, loss_val: nan, pos_over_neg: 1870.7080078125 lr: 0.00031623\n",
      "Iter: 349/695, loss_train: 6.7133, loss_val: nan, pos_over_neg: 2288.696533203125 lr: 0.00031623\n",
      "Iter: 350/695, loss_train: 6.7159, loss_val: nan, pos_over_neg: 408.1934814453125 lr: 0.00031623\n",
      "Iter: 351/695, loss_train: 6.7193, loss_val: nan, pos_over_neg: 483.8715515136719 lr: 0.00031623\n",
      "Iter: 352/695, loss_train: 6.7156, loss_val: nan, pos_over_neg: 2168.045654296875 lr: 0.00031623\n",
      "Iter: 353/695, loss_train: 6.7161, loss_val: nan, pos_over_neg: 615.8681030273438 lr: 0.00031623\n",
      "Iter: 354/695, loss_train: 6.7175, loss_val: nan, pos_over_neg: 479.23089599609375 lr: 0.00031623\n",
      "Iter: 355/695, loss_train: 6.715, loss_val: nan, pos_over_neg: 760.639892578125 lr: 0.00031623\n",
      "Iter: 356/695, loss_train: 6.7171, loss_val: nan, pos_over_neg: 580.804931640625 lr: 0.00031623\n",
      "Iter: 357/695, loss_train: 6.7176, loss_val: nan, pos_over_neg: 1136.7149658203125 lr: 0.00031623\n",
      "Iter: 358/695, loss_train: 6.7148, loss_val: nan, pos_over_neg: 957.73095703125 lr: 0.00031623\n",
      "Iter: 359/695, loss_train: 6.715, loss_val: nan, pos_over_neg: 538.0764770507812 lr: 0.00031623\n",
      "Iter: 360/695, loss_train: 6.7152, loss_val: nan, pos_over_neg: 498.5542907714844 lr: 0.00031623\n",
      "Iter: 361/695, loss_train: 6.7169, loss_val: nan, pos_over_neg: 924.6050415039062 lr: 0.00031623\n",
      "Iter: 362/695, loss_train: 6.7152, loss_val: nan, pos_over_neg: 584.3541870117188 lr: 0.00031623\n",
      "Iter: 363/695, loss_train: 6.717, loss_val: nan, pos_over_neg: 500.7492370605469 lr: 0.00031623\n",
      "Iter: 364/695, loss_train: 6.7145, loss_val: nan, pos_over_neg: 1226.5362548828125 lr: 0.00031623\n",
      "Iter: 365/695, loss_train: 6.7151, loss_val: nan, pos_over_neg: 520.991455078125 lr: 0.00031623\n",
      "Iter: 366/695, loss_train: 6.7161, loss_val: nan, pos_over_neg: 320.41064453125 lr: 0.00031623\n",
      "Iter: 367/695, loss_train: 6.7132, loss_val: nan, pos_over_neg: 935.75 lr: 0.00031623\n",
      "Iter: 368/695, loss_train: 6.7113, loss_val: nan, pos_over_neg: 363.0618591308594 lr: 0.00031623\n",
      "Iter: 369/695, loss_train: 6.7122, loss_val: nan, pos_over_neg: 603.4785766601562 lr: 0.00031623\n",
      "Iter: 370/695, loss_train: 6.7143, loss_val: nan, pos_over_neg: 789.8783569335938 lr: 0.00031623\n",
      "Iter: 371/695, loss_train: 6.7124, loss_val: nan, pos_over_neg: 1250.2052001953125 lr: 0.00031623\n",
      "Iter: 372/695, loss_train: 6.715, loss_val: nan, pos_over_neg: 2575.887451171875 lr: 0.00031623\n",
      "Iter: 373/695, loss_train: 6.7148, loss_val: nan, pos_over_neg: 463.7596740722656 lr: 0.00031623\n",
      "Iter: 374/695, loss_train: 6.7133, loss_val: nan, pos_over_neg: 482.65020751953125 lr: 0.00031623\n",
      "Iter: 375/695, loss_train: 6.7169, loss_val: nan, pos_over_neg: 1088.2662353515625 lr: 0.00031623\n",
      "Iter: 376/695, loss_train: 6.7163, loss_val: nan, pos_over_neg: 2587.944091796875 lr: 0.00031623\n",
      "Iter: 377/695, loss_train: 6.7144, loss_val: nan, pos_over_neg: 578.0192260742188 lr: 0.00031623\n",
      "Iter: 378/695, loss_train: 6.7178, loss_val: nan, pos_over_neg: 456.0987854003906 lr: 0.00031623\n",
      "Iter: 379/695, loss_train: 6.7149, loss_val: nan, pos_over_neg: 780.9904174804688 lr: 0.00031623\n",
      "Iter: 380/695, loss_train: 6.718, loss_val: nan, pos_over_neg: 467.5343017578125 lr: 0.00031623\n",
      "Iter: 381/695, loss_train: 6.715, loss_val: nan, pos_over_neg: 1110.861328125 lr: 0.00031623\n",
      "Iter: 382/695, loss_train: 6.7169, loss_val: nan, pos_over_neg: 1297.66259765625 lr: 0.00031623\n",
      "Iter: 383/695, loss_train: 6.7157, loss_val: nan, pos_over_neg: 858.8888549804688 lr: 0.00031623\n",
      "Iter: 384/695, loss_train: 6.7117, loss_val: nan, pos_over_neg: 6577.16162109375 lr: 0.00031623\n",
      "Iter: 385/695, loss_train: 6.7109, loss_val: nan, pos_over_neg: 1833.64404296875 lr: 0.00031623\n",
      "Iter: 386/695, loss_train: 6.7122, loss_val: nan, pos_over_neg: 1015.8638305664062 lr: 0.00031623\n",
      "Iter: 387/695, loss_train: 6.7162, loss_val: nan, pos_over_neg: 424.9872741699219 lr: 0.00031623\n",
      "Iter: 388/695, loss_train: 6.7176, loss_val: nan, pos_over_neg: 436.5694274902344 lr: 0.00031623\n",
      "Iter: 389/695, loss_train: 6.7169, loss_val: nan, pos_over_neg: 727.9911499023438 lr: 0.00031623\n",
      "Iter: 390/695, loss_train: 6.7156, loss_val: nan, pos_over_neg: 815.3657836914062 lr: 0.00031623\n",
      "Iter: 391/695, loss_train: 6.7131, loss_val: nan, pos_over_neg: 813.3314819335938 lr: 0.00031623\n",
      "Iter: 392/695, loss_train: 6.7198, loss_val: nan, pos_over_neg: 491.0050964355469 lr: 0.00031623\n",
      "Iter: 393/695, loss_train: 6.7121, loss_val: nan, pos_over_neg: 864.2627563476562 lr: 0.00031623\n",
      "Iter: 394/695, loss_train: 6.7134, loss_val: nan, pos_over_neg: 713.741943359375 lr: 0.00031623\n",
      "Iter: 395/695, loss_train: 6.7162, loss_val: nan, pos_over_neg: 775.68359375 lr: 0.00031623\n",
      "Iter: 396/695, loss_train: 6.7149, loss_val: nan, pos_over_neg: 430.19573974609375 lr: 0.00031623\n",
      "Iter: 397/695, loss_train: 6.7164, loss_val: nan, pos_over_neg: 1267.591552734375 lr: 0.00031623\n",
      "Iter: 398/695, loss_train: 6.7139, loss_val: nan, pos_over_neg: 958.7946166992188 lr: 0.00031623\n",
      "Iter: 399/695, loss_train: 6.7152, loss_val: nan, pos_over_neg: 838.9749145507812 lr: 0.00031623\n",
      "Iter: 400/695, loss_train: 6.7153, loss_val: nan, pos_over_neg: 1031.2515869140625 lr: 0.00031623\n",
      "Iter: 401/695, loss_train: 6.7129, loss_val: nan, pos_over_neg: 1850.5615234375 lr: 0.00031623\n",
      "Iter: 402/695, loss_train: 6.7144, loss_val: nan, pos_over_neg: 806.5979614257812 lr: 0.00031623\n",
      "Iter: 403/695, loss_train: 6.7112, loss_val: nan, pos_over_neg: 1518.90478515625 lr: 0.00031623\n",
      "Iter: 404/695, loss_train: 6.7147, loss_val: nan, pos_over_neg: 1714.4476318359375 lr: 0.00031623\n",
      "Iter: 405/695, loss_train: 6.7141, loss_val: nan, pos_over_neg: 372.4867248535156 lr: 0.00031623\n",
      "Iter: 406/695, loss_train: 6.7145, loss_val: nan, pos_over_neg: 356.8782958984375 lr: 0.00031623\n",
      "Iter: 407/695, loss_train: 6.7124, loss_val: nan, pos_over_neg: 831.6386108398438 lr: 0.00031623\n",
      "Iter: 408/695, loss_train: 6.715, loss_val: nan, pos_over_neg: 566.2186279296875 lr: 0.00031623\n",
      "Iter: 409/695, loss_train: 6.7151, loss_val: nan, pos_over_neg: 383.47430419921875 lr: 0.00031623\n",
      "Iter: 410/695, loss_train: 6.7156, loss_val: nan, pos_over_neg: 410.4305114746094 lr: 0.00031623\n",
      "Iter: 411/695, loss_train: 6.712, loss_val: nan, pos_over_neg: 610.6065673828125 lr: 0.00031623\n",
      "Iter: 412/695, loss_train: 6.7117, loss_val: nan, pos_over_neg: 509.8059997558594 lr: 0.00031623\n",
      "Iter: 413/695, loss_train: 6.7134, loss_val: nan, pos_over_neg: 365.9098815917969 lr: 0.00031623\n",
      "Iter: 414/695, loss_train: 6.7134, loss_val: nan, pos_over_neg: 1188.294189453125 lr: 0.00031623\n",
      "Iter: 415/695, loss_train: 6.7116, loss_val: nan, pos_over_neg: 892.7556762695312 lr: 0.00031623\n",
      "Iter: 416/695, loss_train: 6.7156, loss_val: nan, pos_over_neg: 396.0981750488281 lr: 0.00031623\n",
      "Iter: 417/695, loss_train: 6.7125, loss_val: nan, pos_over_neg: 465.6051330566406 lr: 0.00031623\n",
      "Iter: 418/695, loss_train: 6.712, loss_val: nan, pos_over_neg: 842.7838134765625 lr: 0.00031623\n",
      "Iter: 419/695, loss_train: 6.7161, loss_val: nan, pos_over_neg: 355.42578125 lr: 0.00031623\n",
      "Iter: 420/695, loss_train: 6.7162, loss_val: nan, pos_over_neg: 598.8536376953125 lr: 0.00031623\n",
      "Iter: 421/695, loss_train: 6.7108, loss_val: nan, pos_over_neg: 1222.7252197265625 lr: 0.00031623\n",
      "Iter: 422/695, loss_train: 6.7202, loss_val: nan, pos_over_neg: 836.806396484375 lr: 0.00031623\n",
      "Iter: 423/695, loss_train: 6.7102, loss_val: nan, pos_over_neg: 1218.7275390625 lr: 0.00031623\n",
      "Iter: 424/695, loss_train: 6.7142, loss_val: nan, pos_over_neg: 343.9468994140625 lr: 0.00031623\n",
      "Iter: 425/695, loss_train: 6.7151, loss_val: nan, pos_over_neg: 625.0816650390625 lr: 0.00031623\n",
      "Iter: 426/695, loss_train: 6.712, loss_val: nan, pos_over_neg: 1602.6038818359375 lr: 0.00031623\n",
      "Iter: 427/695, loss_train: 6.7127, loss_val: nan, pos_over_neg: 283.2664489746094 lr: 0.00031623\n",
      "Iter: 428/695, loss_train: 6.7114, loss_val: nan, pos_over_neg: 824.9373779296875 lr: 0.00031623\n",
      "Iter: 429/695, loss_train: 6.7134, loss_val: nan, pos_over_neg: 4521.873046875 lr: 0.00031623\n",
      "Iter: 430/695, loss_train: 6.7108, loss_val: nan, pos_over_neg: 2986.484375 lr: 0.00031623\n",
      "Iter: 431/695, loss_train: 6.7098, loss_val: nan, pos_over_neg: 841.8779907226562 lr: 0.00031623\n",
      "Iter: 432/695, loss_train: 6.7107, loss_val: nan, pos_over_neg: 3842.74072265625 lr: 0.00031623\n",
      "Iter: 433/695, loss_train: 6.7121, loss_val: nan, pos_over_neg: 1023.7822265625 lr: 0.00031623\n",
      "Iter: 434/695, loss_train: 6.7112, loss_val: nan, pos_over_neg: 725.5964965820312 lr: 0.00031623\n",
      "Iter: 435/695, loss_train: 6.7116, loss_val: nan, pos_over_neg: 2932.431396484375 lr: 0.00031623\n",
      "Iter: 436/695, loss_train: 6.7108, loss_val: nan, pos_over_neg: 1279.4664306640625 lr: 0.00031623\n",
      "Iter: 437/695, loss_train: 6.7113, loss_val: nan, pos_over_neg: 687.0017700195312 lr: 0.00031623\n",
      "Iter: 438/695, loss_train: 6.7096, loss_val: nan, pos_over_neg: 1434.5916748046875 lr: 0.00031623\n",
      "Iter: 439/695, loss_train: 6.7109, loss_val: nan, pos_over_neg: 600.5133056640625 lr: 0.00031623\n",
      "Iter: 440/695, loss_train: 6.7106, loss_val: nan, pos_over_neg: 965.0072021484375 lr: 0.00031623\n",
      "Iter: 441/695, loss_train: 6.7124, loss_val: nan, pos_over_neg: 911.689453125 lr: 0.00031623\n",
      "Iter: 442/695, loss_train: 6.711, loss_val: nan, pos_over_neg: 589.3365478515625 lr: 0.00031623\n",
      "Iter: 443/695, loss_train: 6.7154, loss_val: nan, pos_over_neg: 347.10723876953125 lr: 0.00031623\n",
      "Iter: 444/695, loss_train: 6.7108, loss_val: nan, pos_over_neg: 902.9451293945312 lr: 0.00031623\n",
      "Iter: 445/695, loss_train: 6.7156, loss_val: nan, pos_over_neg: 327.46466064453125 lr: 0.00031623\n",
      "Iter: 446/695, loss_train: 6.7085, loss_val: nan, pos_over_neg: 2969.574462890625 lr: 0.00031623\n",
      "Iter: 447/695, loss_train: 6.7129, loss_val: nan, pos_over_neg: 1652.2596435546875 lr: 0.00031623\n",
      "Iter: 448/695, loss_train: 6.7132, loss_val: nan, pos_over_neg: 991.54443359375 lr: 0.00031623\n",
      "Iter: 449/695, loss_train: 6.7113, loss_val: nan, pos_over_neg: 2849.844970703125 lr: 0.00031623\n",
      "Iter: 450/695, loss_train: 6.7104, loss_val: nan, pos_over_neg: 4374.958984375 lr: 0.00031623\n",
      "Iter: 451/695, loss_train: 6.7132, loss_val: nan, pos_over_neg: 4701.3291015625 lr: 0.00031623\n",
      "Iter: 452/695, loss_train: 6.7147, loss_val: nan, pos_over_neg: 431.3908996582031 lr: 0.00031623\n",
      "Iter: 453/695, loss_train: 6.711, loss_val: nan, pos_over_neg: 1468.244140625 lr: 0.00031623\n",
      "Iter: 454/695, loss_train: 6.7125, loss_val: nan, pos_over_neg: 2178.065185546875 lr: 0.00031623\n",
      "Iter: 455/695, loss_train: 6.7128, loss_val: nan, pos_over_neg: 789.2847290039062 lr: 0.00031623\n",
      "Iter: 456/695, loss_train: 6.7089, loss_val: nan, pos_over_neg: 765.0455322265625 lr: 0.00031623\n",
      "Iter: 457/695, loss_train: 6.7109, loss_val: nan, pos_over_neg: 688.6377563476562 lr: 0.00031623\n",
      "Iter: 458/695, loss_train: 6.7112, loss_val: nan, pos_over_neg: 938.8222045898438 lr: 0.00031623\n",
      "Iter: 459/695, loss_train: 6.709, loss_val: nan, pos_over_neg: 1263.24951171875 lr: 0.00031623\n",
      "Iter: 460/695, loss_train: 6.7137, loss_val: nan, pos_over_neg: 1929.9327392578125 lr: 0.00031623\n",
      "Iter: 461/695, loss_train: 6.7118, loss_val: nan, pos_over_neg: 2811.39794921875 lr: 0.00031623\n",
      "Iter: 462/695, loss_train: 6.7156, loss_val: nan, pos_over_neg: -4489.74365234375 lr: 0.00031623\n",
      "Iter: 463/695, loss_train: 6.709, loss_val: nan, pos_over_neg: -4901.51611328125 lr: 0.00031623\n",
      "Iter: 464/695, loss_train: 6.714, loss_val: nan, pos_over_neg: 777.3163452148438 lr: 0.00031623\n",
      "Iter: 465/695, loss_train: 6.7075, loss_val: nan, pos_over_neg: 4482.392578125 lr: 0.00031623\n",
      "Iter: 466/695, loss_train: 6.7102, loss_val: nan, pos_over_neg: 2341.00146484375 lr: 0.00031623\n",
      "Iter: 467/695, loss_train: 6.7112, loss_val: nan, pos_over_neg: -5867.08203125 lr: 0.00031623\n",
      "Iter: 468/695, loss_train: 6.7116, loss_val: nan, pos_over_neg: 738.4013061523438 lr: 0.00031623\n",
      "Iter: 469/695, loss_train: 6.7087, loss_val: nan, pos_over_neg: 2715.243408203125 lr: 0.00031623\n",
      "Iter: 470/695, loss_train: 6.7077, loss_val: nan, pos_over_neg: -44673.0078125 lr: 0.00031623\n",
      "Iter: 471/695, loss_train: 6.7086, loss_val: nan, pos_over_neg: 3301.672119140625 lr: 0.00031623\n",
      "Iter: 472/695, loss_train: 6.7153, loss_val: nan, pos_over_neg: 658.8477783203125 lr: 0.00031623\n",
      "Iter: 473/695, loss_train: 6.7111, loss_val: nan, pos_over_neg: 1112.31494140625 lr: 0.00031623\n",
      "Iter: 474/695, loss_train: 6.7121, loss_val: nan, pos_over_neg: 1800.8602294921875 lr: 0.00031623\n",
      "Iter: 475/695, loss_train: 6.7128, loss_val: nan, pos_over_neg: 788.2015380859375 lr: 0.00031623\n",
      "Iter: 476/695, loss_train: 6.7119, loss_val: nan, pos_over_neg: 1457.0133056640625 lr: 0.00031623\n",
      "Iter: 477/695, loss_train: 6.7124, loss_val: nan, pos_over_neg: 549.3906860351562 lr: 0.00031623\n",
      "Iter: 478/695, loss_train: 6.7072, loss_val: nan, pos_over_neg: 1673.7232666015625 lr: 0.00031623\n",
      "Iter: 479/695, loss_train: 6.7112, loss_val: nan, pos_over_neg: 574.1629638671875 lr: 0.00031623\n",
      "Iter: 480/695, loss_train: 6.7129, loss_val: nan, pos_over_neg: 1111.4681396484375 lr: 0.00031623\n",
      "Iter: 481/695, loss_train: 6.7104, loss_val: nan, pos_over_neg: 1782.8092041015625 lr: 0.00031623\n",
      "Iter: 482/695, loss_train: 6.7068, loss_val: nan, pos_over_neg: 6412.23828125 lr: 0.00031623\n",
      "Iter: 483/695, loss_train: 6.7101, loss_val: nan, pos_over_neg: 984.1165161132812 lr: 0.00031623\n",
      "Iter: 484/695, loss_train: 6.7114, loss_val: nan, pos_over_neg: 411.8764953613281 lr: 0.00031623\n",
      "Iter: 485/695, loss_train: 6.7088, loss_val: nan, pos_over_neg: 816.8543090820312 lr: 0.00031623\n",
      "Iter: 486/695, loss_train: 6.7111, loss_val: nan, pos_over_neg: 1376.7110595703125 lr: 0.00031623\n",
      "Iter: 487/695, loss_train: 6.7121, loss_val: nan, pos_over_neg: 517.4166870117188 lr: 0.00031623\n",
      "Iter: 488/695, loss_train: 6.7129, loss_val: nan, pos_over_neg: 481.206787109375 lr: 0.00031623\n",
      "Iter: 489/695, loss_train: 6.7088, loss_val: nan, pos_over_neg: 1060.206787109375 lr: 0.00031623\n",
      "Iter: 490/695, loss_train: 6.7102, loss_val: nan, pos_over_neg: 992.7001342773438 lr: 0.00031623\n",
      "Iter: 491/695, loss_train: 6.7086, loss_val: nan, pos_over_neg: 1722.5064697265625 lr: 0.00031623\n",
      "Iter: 492/695, loss_train: 6.7098, loss_val: nan, pos_over_neg: 1264.26416015625 lr: 0.00031623\n",
      "Iter: 493/695, loss_train: 6.7102, loss_val: nan, pos_over_neg: 1403.20263671875 lr: 0.00031623\n",
      "Iter: 494/695, loss_train: 6.7071, loss_val: nan, pos_over_neg: 1489.602783203125 lr: 0.00031623\n",
      "Iter: 495/695, loss_train: 6.7127, loss_val: nan, pos_over_neg: 1092.0645751953125 lr: 0.00031623\n",
      "Iter: 496/695, loss_train: 6.7106, loss_val: nan, pos_over_neg: 964.7800903320312 lr: 0.00031623\n",
      "Iter: 497/695, loss_train: 6.7166, loss_val: nan, pos_over_neg: 1474.5767822265625 lr: 0.00031623\n",
      "Iter: 498/695, loss_train: 6.7129, loss_val: nan, pos_over_neg: 1000.1015625 lr: 0.00031623\n",
      "Iter: 499/695, loss_train: 6.7081, loss_val: nan, pos_over_neg: 1415.327392578125 lr: 0.00031623\n",
      "Iter: 500/695, loss_train: 6.7084, loss_val: nan, pos_over_neg: 2186.036376953125 lr: 0.00031623\n",
      "Iter: 501/695, loss_train: 6.7098, loss_val: nan, pos_over_neg: 1383.145751953125 lr: 0.00031623\n",
      "Iter: 502/695, loss_train: 6.707, loss_val: nan, pos_over_neg: 1282.219482421875 lr: 0.00031623\n",
      "Iter: 503/695, loss_train: 6.7123, loss_val: nan, pos_over_neg: 618.0003051757812 lr: 0.00031623\n",
      "Iter: 504/695, loss_train: 6.7106, loss_val: nan, pos_over_neg: 3005.886474609375 lr: 0.00031623\n",
      "Iter: 505/695, loss_train: 6.7099, loss_val: nan, pos_over_neg: 2863.638671875 lr: 0.00031623\n",
      "Iter: 506/695, loss_train: 6.7073, loss_val: nan, pos_over_neg: 739.7477416992188 lr: 0.00031623\n",
      "Iter: 507/695, loss_train: 6.7096, loss_val: nan, pos_over_neg: 688.87109375 lr: 0.00031623\n",
      "Iter: 508/695, loss_train: 6.7109, loss_val: nan, pos_over_neg: 954.2291870117188 lr: 0.00031623\n",
      "Iter: 509/695, loss_train: 6.7121, loss_val: nan, pos_over_neg: 833.4945068359375 lr: 0.00031623\n",
      "Iter: 510/695, loss_train: 6.7102, loss_val: nan, pos_over_neg: 452.66546630859375 lr: 0.00031623\n",
      "Iter: 511/695, loss_train: 6.7139, loss_val: nan, pos_over_neg: 4261.44189453125 lr: 0.00031623\n",
      "Iter: 512/695, loss_train: 6.7108, loss_val: nan, pos_over_neg: 789.8167114257812 lr: 0.00031623\n",
      "Iter: 513/695, loss_train: 6.7107, loss_val: nan, pos_over_neg: 1535.975341796875 lr: 0.00031623\n",
      "Iter: 514/695, loss_train: 6.7081, loss_val: nan, pos_over_neg: 844.9014282226562 lr: 0.00031623\n",
      "Iter: 515/695, loss_train: 6.7118, loss_val: nan, pos_over_neg: 979.1286010742188 lr: 0.00031623\n",
      "Iter: 516/695, loss_train: 6.7091, loss_val: nan, pos_over_neg: 1447.3392333984375 lr: 0.00031623\n",
      "Iter: 517/695, loss_train: 6.71, loss_val: nan, pos_over_neg: 2367.564208984375 lr: 0.00031623\n",
      "Iter: 518/695, loss_train: 6.7119, loss_val: nan, pos_over_neg: 712.97265625 lr: 0.00031623\n",
      "Iter: 519/695, loss_train: 6.7092, loss_val: nan, pos_over_neg: 1236.8917236328125 lr: 0.00031623\n",
      "Iter: 520/695, loss_train: 6.7166, loss_val: nan, pos_over_neg: 853.0429077148438 lr: 0.00031623\n",
      "Iter: 521/695, loss_train: 6.7092, loss_val: nan, pos_over_neg: 1864.465576171875 lr: 0.00031623\n",
      "Iter: 522/695, loss_train: 6.7099, loss_val: nan, pos_over_neg: 1445.4356689453125 lr: 0.00031623\n",
      "Iter: 523/695, loss_train: 6.7088, loss_val: nan, pos_over_neg: 1798.309814453125 lr: 0.00031623\n",
      "Iter: 524/695, loss_train: 6.7093, loss_val: nan, pos_over_neg: 1039.482421875 lr: 0.00031623\n",
      "Iter: 525/695, loss_train: 6.7137, loss_val: nan, pos_over_neg: 485.0968933105469 lr: 0.00031623\n",
      "Iter: 526/695, loss_train: 6.7068, loss_val: nan, pos_over_neg: 1169.4305419921875 lr: 0.00031623\n",
      "Iter: 527/695, loss_train: 6.7111, loss_val: nan, pos_over_neg: 587.77978515625 lr: 0.00031623\n",
      "Iter: 528/695, loss_train: 6.7101, loss_val: nan, pos_over_neg: 846.8406982421875 lr: 0.00031623\n",
      "Iter: 529/695, loss_train: 6.7086, loss_val: nan, pos_over_neg: 509.610595703125 lr: 0.00031623\n",
      "Iter: 530/695, loss_train: 6.7084, loss_val: nan, pos_over_neg: 4986.56396484375 lr: 0.00031623\n",
      "Iter: 531/695, loss_train: 6.7044, loss_val: nan, pos_over_neg: 2365.80859375 lr: 0.00031623\n",
      "Iter: 532/695, loss_train: 6.7093, loss_val: nan, pos_over_neg: 455.54327392578125 lr: 0.00031623\n",
      "Iter: 533/695, loss_train: 6.7074, loss_val: nan, pos_over_neg: 512.6468505859375 lr: 0.00031623\n",
      "Iter: 534/695, loss_train: 6.7104, loss_val: nan, pos_over_neg: 720.5543823242188 lr: 0.00031623\n",
      "Iter: 535/695, loss_train: 6.7049, loss_val: nan, pos_over_neg: -11165.63671875 lr: 0.00031623\n",
      "Iter: 536/695, loss_train: 6.7072, loss_val: nan, pos_over_neg: 1080.4488525390625 lr: 0.00031623\n",
      "Iter: 537/695, loss_train: 6.7104, loss_val: nan, pos_over_neg: 1569.2813720703125 lr: 0.00031623\n",
      "Iter: 538/695, loss_train: 6.7101, loss_val: nan, pos_over_neg: -22117.337890625 lr: 0.00031623\n",
      "Iter: 539/695, loss_train: 6.7077, loss_val: nan, pos_over_neg: 822.6836547851562 lr: 0.00031623\n",
      "Iter: 540/695, loss_train: 6.7099, loss_val: nan, pos_over_neg: 1083.9136962890625 lr: 0.00031623\n",
      "Iter: 541/695, loss_train: 6.7058, loss_val: nan, pos_over_neg: 9761.0859375 lr: 0.00031623\n",
      "Iter: 542/695, loss_train: 6.7082, loss_val: nan, pos_over_neg: 898.7870483398438 lr: 0.00031623\n",
      "Iter: 543/695, loss_train: 6.7094, loss_val: nan, pos_over_neg: 593.487548828125 lr: 0.00031623\n",
      "Iter: 544/695, loss_train: 6.7047, loss_val: nan, pos_over_neg: 3024.881103515625 lr: 0.00031623\n",
      "Iter: 545/695, loss_train: 6.7115, loss_val: nan, pos_over_neg: 2681.409423828125 lr: 0.00031623\n",
      "Iter: 546/695, loss_train: 6.7118, loss_val: nan, pos_over_neg: 580.6564331054688 lr: 0.00031623\n",
      "Iter: 547/695, loss_train: 6.7083, loss_val: nan, pos_over_neg: 984.2019653320312 lr: 0.00031623\n",
      "Iter: 548/695, loss_train: 6.7077, loss_val: nan, pos_over_neg: 4730.634765625 lr: 0.00031623\n",
      "Iter: 549/695, loss_train: 6.7054, loss_val: nan, pos_over_neg: 3671.508056640625 lr: 0.00031623\n",
      "Iter: 550/695, loss_train: 6.7077, loss_val: nan, pos_over_neg: 1552.1385498046875 lr: 0.00031623\n",
      "Iter: 551/695, loss_train: 6.7072, loss_val: nan, pos_over_neg: -25014.005859375 lr: 0.00031623\n",
      "Iter: 552/695, loss_train: 6.7054, loss_val: nan, pos_over_neg: 1326.4638671875 lr: 0.00031623\n",
      "Iter: 553/695, loss_train: 6.7082, loss_val: nan, pos_over_neg: 939.8495483398438 lr: 0.00031623\n",
      "Iter: 554/695, loss_train: 6.711, loss_val: nan, pos_over_neg: 1314.175537109375 lr: 0.00031623\n",
      "Iter: 555/695, loss_train: 6.7067, loss_val: nan, pos_over_neg: 2199.227783203125 lr: 0.00031623\n",
      "Iter: 556/695, loss_train: 6.7055, loss_val: nan, pos_over_neg: 1507.203857421875 lr: 0.00031623\n",
      "Iter: 557/695, loss_train: 6.707, loss_val: nan, pos_over_neg: 3584.116455078125 lr: 0.00031623\n",
      "Iter: 558/695, loss_train: 6.707, loss_val: nan, pos_over_neg: 1227.7840576171875 lr: 0.00031623\n",
      "Iter: 559/695, loss_train: 6.7122, loss_val: nan, pos_over_neg: 1283.0118408203125 lr: 0.00031623\n",
      "Iter: 560/695, loss_train: 6.7072, loss_val: nan, pos_over_neg: -3629.738525390625 lr: 0.00031623\n",
      "Iter: 561/695, loss_train: 6.711, loss_val: nan, pos_over_neg: 1013.6224975585938 lr: 0.00031623\n",
      "Iter: 562/695, loss_train: 6.7058, loss_val: nan, pos_over_neg: 1489.2603759765625 lr: 0.00031623\n",
      "Iter: 563/695, loss_train: 6.7069, loss_val: nan, pos_over_neg: 11997.8505859375 lr: 0.00031623\n",
      "Iter: 564/695, loss_train: 6.708, loss_val: nan, pos_over_neg: 1187.1177978515625 lr: 0.00031623\n",
      "Iter: 565/695, loss_train: 6.7074, loss_val: nan, pos_over_neg: 1885.960205078125 lr: 0.00031623\n",
      "Iter: 566/695, loss_train: 6.7057, loss_val: nan, pos_over_neg: 1327.951171875 lr: 0.00031623\n",
      "Iter: 567/695, loss_train: 6.7062, loss_val: nan, pos_over_neg: 2478.00439453125 lr: 0.00031623\n",
      "Iter: 568/695, loss_train: 6.7048, loss_val: nan, pos_over_neg: 4181.7919921875 lr: 0.00031623\n",
      "Iter: 569/695, loss_train: 6.7084, loss_val: nan, pos_over_neg: 671.376708984375 lr: 0.00031623\n",
      "Iter: 570/695, loss_train: 6.7056, loss_val: nan, pos_over_neg: 1810.299072265625 lr: 0.00031623\n",
      "Iter: 571/695, loss_train: 6.7071, loss_val: nan, pos_over_neg: 2311.173828125 lr: 0.00031623\n",
      "Iter: 572/695, loss_train: 6.7095, loss_val: nan, pos_over_neg: 1353.01708984375 lr: 0.00031623\n",
      "Iter: 573/695, loss_train: 6.7052, loss_val: nan, pos_over_neg: 5208.212890625 lr: 0.00031623\n",
      "Iter: 574/695, loss_train: 6.7071, loss_val: nan, pos_over_neg: 5981.41748046875 lr: 0.00031623\n",
      "Iter: 575/695, loss_train: 6.7058, loss_val: nan, pos_over_neg: 2252.346435546875 lr: 0.00031623\n",
      "Iter: 576/695, loss_train: 6.7079, loss_val: nan, pos_over_neg: 2112.446044921875 lr: 0.00031623\n",
      "Iter: 577/695, loss_train: 6.7053, loss_val: nan, pos_over_neg: 486.1234130859375 lr: 0.00031623\n",
      "Iter: 578/695, loss_train: 6.7052, loss_val: nan, pos_over_neg: 958.5953979492188 lr: 0.00031623\n",
      "Iter: 579/695, loss_train: 6.7066, loss_val: nan, pos_over_neg: 1103.5745849609375 lr: 0.00031623\n",
      "Iter: 580/695, loss_train: 6.7087, loss_val: nan, pos_over_neg: 563.1092529296875 lr: 0.00031623\n",
      "Iter: 581/695, loss_train: 6.7071, loss_val: nan, pos_over_neg: 520.4802856445312 lr: 0.00031623\n",
      "Iter: 582/695, loss_train: 6.7071, loss_val: nan, pos_over_neg: 14925.0546875 lr: 0.00031623\n",
      "Iter: 583/695, loss_train: 6.7081, loss_val: nan, pos_over_neg: 2727.9072265625 lr: 0.00031623\n",
      "Iter: 584/695, loss_train: 6.7031, loss_val: nan, pos_over_neg: 8774.474609375 lr: 0.00031623\n",
      "Iter: 585/695, loss_train: 6.7063, loss_val: nan, pos_over_neg: 3454.902587890625 lr: 0.00031623\n",
      "Iter: 586/695, loss_train: 6.7062, loss_val: nan, pos_over_neg: 1128.37451171875 lr: 0.00031623\n",
      "Iter: 587/695, loss_train: 6.7053, loss_val: nan, pos_over_neg: 2473.923828125 lr: 0.00031623\n",
      "Iter: 588/695, loss_train: 6.7059, loss_val: nan, pos_over_neg: -4352.01806640625 lr: 0.00031623\n",
      "Iter: 589/695, loss_train: 6.7065, loss_val: nan, pos_over_neg: 3254.5498046875 lr: 0.00031623\n",
      "Iter: 590/695, loss_train: 6.7052, loss_val: nan, pos_over_neg: -7710.50341796875 lr: 0.00031623\n",
      "Iter: 591/695, loss_train: 6.7034, loss_val: nan, pos_over_neg: 3079.53857421875 lr: 0.00031623\n",
      "Iter: 592/695, loss_train: 6.7073, loss_val: nan, pos_over_neg: 635.2052612304688 lr: 0.00031623\n",
      "Iter: 593/695, loss_train: 6.7048, loss_val: nan, pos_over_neg: 862.5165405273438 lr: 0.00031623\n",
      "Iter: 594/695, loss_train: 6.7036, loss_val: nan, pos_over_neg: 4208.833984375 lr: 0.00031623\n",
      "Iter: 595/695, loss_train: 6.7095, loss_val: nan, pos_over_neg: 1285.3958740234375 lr: 0.00031623\n",
      "Iter: 596/695, loss_train: 6.7079, loss_val: nan, pos_over_neg: 508.4102783203125 lr: 0.00031623\n",
      "Iter: 597/695, loss_train: 6.7046, loss_val: nan, pos_over_neg: -24037.255859375 lr: 0.00031623\n",
      "Iter: 598/695, loss_train: 6.7081, loss_val: nan, pos_over_neg: 618.8424682617188 lr: 0.00031623\n",
      "Iter: 599/695, loss_train: 6.7078, loss_val: nan, pos_over_neg: 732.35693359375 lr: 0.00031623\n",
      "Iter: 600/695, loss_train: 6.7067, loss_val: nan, pos_over_neg: 702.35693359375 lr: 0.00031623\n",
      "Iter: 601/695, loss_train: 6.7059, loss_val: nan, pos_over_neg: 1172.4754638671875 lr: 0.00031623\n",
      "Iter: 602/695, loss_train: 6.7119, loss_val: nan, pos_over_neg: 595.4823608398438 lr: 0.00031623\n",
      "Iter: 603/695, loss_train: 6.7098, loss_val: nan, pos_over_neg: 409.219970703125 lr: 0.00031623\n",
      "Iter: 604/695, loss_train: 6.7047, loss_val: nan, pos_over_neg: 989.864990234375 lr: 0.00031623\n",
      "Iter: 605/695, loss_train: 6.7079, loss_val: nan, pos_over_neg: 733.7175903320312 lr: 0.00031623\n",
      "Iter: 606/695, loss_train: 6.7056, loss_val: nan, pos_over_neg: 895.0933837890625 lr: 0.00031623\n",
      "Iter: 607/695, loss_train: 6.707, loss_val: nan, pos_over_neg: 955.0847778320312 lr: 0.00031623\n",
      "Iter: 608/695, loss_train: 6.7044, loss_val: nan, pos_over_neg: 2560.9462890625 lr: 0.00031623\n",
      "Iter: 609/695, loss_train: 6.7046, loss_val: nan, pos_over_neg: 1223.9534912109375 lr: 0.00031623\n",
      "Iter: 610/695, loss_train: 6.7104, loss_val: nan, pos_over_neg: 411.27191162109375 lr: 0.00031623\n",
      "Iter: 611/695, loss_train: 6.7062, loss_val: nan, pos_over_neg: 503.5407409667969 lr: 0.00031623\n",
      "Iter: 612/695, loss_train: 6.7056, loss_val: nan, pos_over_neg: 3149.486572265625 lr: 0.00031623\n",
      "Iter: 613/695, loss_train: 6.7042, loss_val: nan, pos_over_neg: 579.5300903320312 lr: 0.00031623\n",
      "Iter: 614/695, loss_train: 6.7066, loss_val: nan, pos_over_neg: 417.5562744140625 lr: 0.00031623\n",
      "Iter: 615/695, loss_train: 6.7072, loss_val: nan, pos_over_neg: 1140.0091552734375 lr: 0.00031623\n",
      "Iter: 616/695, loss_train: 6.704, loss_val: nan, pos_over_neg: 1887.5997314453125 lr: 0.00031623\n",
      "Iter: 617/695, loss_train: 6.7096, loss_val: nan, pos_over_neg: 439.1590881347656 lr: 0.00031623\n",
      "Iter: 618/695, loss_train: 6.7068, loss_val: nan, pos_over_neg: 592.0326538085938 lr: 0.00031623\n",
      "Iter: 619/695, loss_train: 6.7118, loss_val: nan, pos_over_neg: 529.858642578125 lr: 0.00031623\n",
      "Iter: 620/695, loss_train: 6.7036, loss_val: nan, pos_over_neg: 695.6580200195312 lr: 0.00031623\n",
      "Iter: 621/695, loss_train: 6.7076, loss_val: nan, pos_over_neg: 732.343505859375 lr: 0.00031623\n",
      "Iter: 622/695, loss_train: 6.7081, loss_val: nan, pos_over_neg: 797.3321533203125 lr: 0.00031623\n",
      "Iter: 623/695, loss_train: 6.7054, loss_val: nan, pos_over_neg: 728.927734375 lr: 0.00031623\n",
      "Iter: 624/695, loss_train: 6.7086, loss_val: nan, pos_over_neg: 686.900634765625 lr: 0.00031623\n",
      "Iter: 625/695, loss_train: 6.7037, loss_val: nan, pos_over_neg: 887.9908447265625 lr: 0.00031623\n",
      "Iter: 626/695, loss_train: 6.7049, loss_val: nan, pos_over_neg: 638.9583129882812 lr: 0.00031623\n",
      "Iter: 627/695, loss_train: 6.7054, loss_val: nan, pos_over_neg: 839.0055541992188 lr: 0.00031623\n",
      "Iter: 628/695, loss_train: 6.7088, loss_val: nan, pos_over_neg: 1108.233642578125 lr: 0.00031623\n",
      "Iter: 629/695, loss_train: 6.7033, loss_val: nan, pos_over_neg: 1367.8887939453125 lr: 0.00031623\n",
      "Iter: 630/695, loss_train: 6.7077, loss_val: nan, pos_over_neg: 815.3488159179688 lr: 0.00031623\n",
      "Iter: 631/695, loss_train: 6.705, loss_val: nan, pos_over_neg: 907.8543090820312 lr: 0.00031623\n",
      "Iter: 632/695, loss_train: 6.712, loss_val: nan, pos_over_neg: 1127.3984375 lr: 0.00031623\n",
      "Iter: 633/695, loss_train: 6.7061, loss_val: nan, pos_over_neg: 1364.19970703125 lr: 0.00031623\n",
      "Iter: 634/695, loss_train: 6.7088, loss_val: nan, pos_over_neg: 1737.994140625 lr: 0.00031623\n",
      "Iter: 635/695, loss_train: 6.7055, loss_val: nan, pos_over_neg: 575.2492065429688 lr: 0.00031623\n",
      "Iter: 636/695, loss_train: 6.7063, loss_val: nan, pos_over_neg: 570.6767578125 lr: 0.00031623\n",
      "Iter: 637/695, loss_train: 6.7061, loss_val: nan, pos_over_neg: 539.6469116210938 lr: 0.00031623\n",
      "Iter: 638/695, loss_train: 6.7088, loss_val: nan, pos_over_neg: 468.1965637207031 lr: 0.00031623\n",
      "Iter: 639/695, loss_train: 6.7084, loss_val: nan, pos_over_neg: 677.468017578125 lr: 0.00031623\n",
      "Iter: 640/695, loss_train: 6.7029, loss_val: nan, pos_over_neg: 976.3137817382812 lr: 0.00031623\n",
      "Iter: 641/695, loss_train: 6.7041, loss_val: nan, pos_over_neg: 1668.3204345703125 lr: 0.00031623\n",
      "Iter: 642/695, loss_train: 6.7064, loss_val: nan, pos_over_neg: 959.0035400390625 lr: 0.00031623\n",
      "Iter: 643/695, loss_train: 6.7059, loss_val: nan, pos_over_neg: 3101.649658203125 lr: 0.00031623\n",
      "Iter: 644/695, loss_train: 6.7075, loss_val: nan, pos_over_neg: 1293.7333984375 lr: 0.00031623\n",
      "Iter: 645/695, loss_train: 6.7084, loss_val: nan, pos_over_neg: 3798.00927734375 lr: 0.00031623\n",
      "Iter: 646/695, loss_train: 6.7061, loss_val: nan, pos_over_neg: 791.1697998046875 lr: 0.00031623\n",
      "Iter: 647/695, loss_train: 6.7043, loss_val: nan, pos_over_neg: 839.6788940429688 lr: 0.00031623\n",
      "Iter: 648/695, loss_train: 6.7073, loss_val: nan, pos_over_neg: 919.7408447265625 lr: 0.00031623\n",
      "Iter: 649/695, loss_train: 6.7091, loss_val: nan, pos_over_neg: 386.8775939941406 lr: 0.00031623\n",
      "Iter: 650/695, loss_train: 6.706, loss_val: nan, pos_over_neg: 579.7442626953125 lr: 0.00031623\n",
      "Iter: 651/695, loss_train: 6.7035, loss_val: nan, pos_over_neg: 727.1884155273438 lr: 0.00031623\n",
      "Iter: 652/695, loss_train: 6.7061, loss_val: nan, pos_over_neg: 1617.5465087890625 lr: 0.00031623\n",
      "Iter: 653/695, loss_train: 6.7038, loss_val: nan, pos_over_neg: 547.0816040039062 lr: 0.00031623\n",
      "Iter: 654/695, loss_train: 6.705, loss_val: nan, pos_over_neg: 649.8428955078125 lr: 0.00031623\n",
      "Iter: 655/695, loss_train: 6.7036, loss_val: nan, pos_over_neg: 1275.8643798828125 lr: 0.00031623\n",
      "Iter: 656/695, loss_train: 6.705, loss_val: nan, pos_over_neg: 793.2239990234375 lr: 0.00031623\n",
      "Iter: 657/695, loss_train: 6.7057, loss_val: nan, pos_over_neg: 578.7108764648438 lr: 0.00031623\n",
      "Iter: 658/695, loss_train: 6.7068, loss_val: nan, pos_over_neg: 880.435791015625 lr: 0.00031623\n",
      "Iter: 659/695, loss_train: 6.7021, loss_val: nan, pos_over_neg: 1420.4195556640625 lr: 0.00031623\n",
      "Iter: 660/695, loss_train: 6.7061, loss_val: nan, pos_over_neg: 590.6052856445312 lr: 0.00031623\n",
      "Iter: 661/695, loss_train: 6.7045, loss_val: nan, pos_over_neg: 907.0989990234375 lr: 0.00031623\n",
      "Iter: 662/695, loss_train: 6.7102, loss_val: nan, pos_over_neg: 405.0812683105469 lr: 0.00031623\n",
      "Iter: 663/695, loss_train: 6.7041, loss_val: nan, pos_over_neg: 1144.6607666015625 lr: 0.00031623\n",
      "Iter: 664/695, loss_train: 6.7027, loss_val: nan, pos_over_neg: 5404.80126953125 lr: 0.00031623\n",
      "Iter: 665/695, loss_train: 6.7027, loss_val: nan, pos_over_neg: 565.0010375976562 lr: 0.00031623\n",
      "Iter: 666/695, loss_train: 6.7054, loss_val: nan, pos_over_neg: 702.628662109375 lr: 0.00031623\n",
      "Iter: 667/695, loss_train: 6.7092, loss_val: nan, pos_over_neg: 749.8765258789062 lr: 0.00031623\n",
      "Iter: 668/695, loss_train: 6.7054, loss_val: nan, pos_over_neg: 1426.922119140625 lr: 0.00031623\n",
      "Iter: 669/695, loss_train: 6.7058, loss_val: nan, pos_over_neg: 362.743896484375 lr: 0.00031623\n",
      "Iter: 670/695, loss_train: 6.707, loss_val: nan, pos_over_neg: 755.7275390625 lr: 0.00031623\n",
      "Iter: 671/695, loss_train: 6.706, loss_val: nan, pos_over_neg: 3391.693115234375 lr: 0.00031623\n",
      "Iter: 672/695, loss_train: 6.705, loss_val: nan, pos_over_neg: 2091.64990234375 lr: 0.00031623\n",
      "Iter: 673/695, loss_train: 6.7078, loss_val: nan, pos_over_neg: 480.3117980957031 lr: 0.00031623\n",
      "Iter: 674/695, loss_train: 6.7014, loss_val: nan, pos_over_neg: 927.7523803710938 lr: 0.00031623\n",
      "Iter: 675/695, loss_train: 6.704, loss_val: nan, pos_over_neg: -18905.021484375 lr: 0.00031623\n",
      "Iter: 676/695, loss_train: 6.7109, loss_val: nan, pos_over_neg: 701.8006591796875 lr: 0.00031623\n",
      "Iter: 677/695, loss_train: 6.7068, loss_val: nan, pos_over_neg: 1026.67822265625 lr: 0.00031623\n",
      "Iter: 678/695, loss_train: 6.7026, loss_val: nan, pos_over_neg: 2502.88232421875 lr: 0.00031623\n",
      "Iter: 679/695, loss_train: 6.7056, loss_val: nan, pos_over_neg: 3692.110107421875 lr: 0.00031623\n",
      "Iter: 680/695, loss_train: 6.704, loss_val: nan, pos_over_neg: 899.5928955078125 lr: 0.00031623\n",
      "Iter: 681/695, loss_train: 6.704, loss_val: nan, pos_over_neg: 786.7242431640625 lr: 0.00031623\n",
      "Iter: 682/695, loss_train: 6.7058, loss_val: nan, pos_over_neg: 861.4212036132812 lr: 0.00031623\n",
      "Iter: 683/695, loss_train: 6.7068, loss_val: nan, pos_over_neg: 1036.8505859375 lr: 0.00031623\n",
      "Iter: 684/695, loss_train: 6.7048, loss_val: nan, pos_over_neg: 2055.123291015625 lr: 0.00031623\n",
      "Iter: 685/695, loss_train: 6.7068, loss_val: nan, pos_over_neg: 495.4272155761719 lr: 0.00031623\n",
      "Iter: 686/695, loss_train: 6.7026, loss_val: nan, pos_over_neg: 903.3235473632812 lr: 0.00031623\n",
      "Iter: 687/695, loss_train: 6.7052, loss_val: nan, pos_over_neg: 1384.15283203125 lr: 0.00031623\n",
      "Iter: 688/695, loss_train: 6.707, loss_val: nan, pos_over_neg: 601.8745727539062 lr: 0.00031623\n",
      "Iter: 689/695, loss_train: 6.707, loss_val: nan, pos_over_neg: 584.429443359375 lr: 0.00031623\n",
      "Iter: 690/695, loss_train: 6.7043, loss_val: nan, pos_over_neg: 2295.692626953125 lr: 0.00031623\n",
      "Iter: 691/695, loss_train: 6.7052, loss_val: nan, pos_over_neg: 671.6868896484375 lr: 0.00031623\n",
      "Iter: 692/695, loss_train: 6.7072, loss_val: nan, pos_over_neg: 564.7774047851562 lr: 0.00031623\n",
      "Iter: 693/695, loss_train: 6.709, loss_val: nan, pos_over_neg: 744.220458984375 lr: 0.00031623\n",
      "Iter: 694/695, loss_train: 6.7097, loss_val: nan, pos_over_neg: 2146.627685546875 lr: 0.00031623\n"
     ]
    },
    {
     "name": "stderr",
     "output_type": "stream",
     "text": [
      "  0%|          | 1/300000 [20:11<100916:32:14, 1211.00s/it]"
     ]
    },
    {
     "name": "stdout",
     "output_type": "stream",
     "text": [
      "epoch: 1\n"
     ]
    },
    {
     "name": "stderr",
     "output_type": "stream",
     "text": [
      "  0%|          | 1/300000 [20:19<101650:44:13, 1219.81s/it]\n"
     ]
    },
    {
     "ename": "RuntimeError",
     "evalue": "DataLoader worker (pid(s) 274519) exited unexpectedly",
     "output_type": "error",
     "traceback": [
      "\u001b[0;31m---------------------------------------------------------------------------\u001b[0m",
      "\u001b[0;31mRuntimeError\u001b[0m                              Traceback (most recent call last)",
      "\u001b[0;32m~/.conda/envs/jupyter_launcher/lib/python3.8/site-packages/torch/utils/data/dataloader.py\u001b[0m in \u001b[0;36m_try_get_data\u001b[0;34m(self, timeout)\u001b[0m\n\u001b[1;32m    989\u001b[0m         \u001b[0;32mtry\u001b[0m\u001b[0;34m:\u001b[0m\u001b[0;34m\u001b[0m\u001b[0;34m\u001b[0m\u001b[0m\n\u001b[0;32m--> 990\u001b[0;31m             \u001b[0mdata\u001b[0m \u001b[0;34m=\u001b[0m \u001b[0mself\u001b[0m\u001b[0;34m.\u001b[0m\u001b[0m_data_queue\u001b[0m\u001b[0;34m.\u001b[0m\u001b[0mget\u001b[0m\u001b[0;34m(\u001b[0m\u001b[0mtimeout\u001b[0m\u001b[0;34m=\u001b[0m\u001b[0mtimeout\u001b[0m\u001b[0;34m)\u001b[0m\u001b[0;34m\u001b[0m\u001b[0;34m\u001b[0m\u001b[0m\n\u001b[0m\u001b[1;32m    991\u001b[0m             \u001b[0;32mreturn\u001b[0m \u001b[0;34m(\u001b[0m\u001b[0;32mTrue\u001b[0m\u001b[0;34m,\u001b[0m \u001b[0mdata\u001b[0m\u001b[0;34m)\u001b[0m\u001b[0;34m\u001b[0m\u001b[0;34m\u001b[0m\u001b[0m\n",
      "\u001b[0;32m~/.conda/envs/jupyter_launcher/lib/python3.8/queue.py\u001b[0m in \u001b[0;36mget\u001b[0;34m(self, block, timeout)\u001b[0m\n\u001b[1;32m    178\u001b[0m                         \u001b[0;32mraise\u001b[0m \u001b[0mEmpty\u001b[0m\u001b[0;34m\u001b[0m\u001b[0;34m\u001b[0m\u001b[0m\n\u001b[0;32m--> 179\u001b[0;31m                     \u001b[0mself\u001b[0m\u001b[0;34m.\u001b[0m\u001b[0mnot_empty\u001b[0m\u001b[0;34m.\u001b[0m\u001b[0mwait\u001b[0m\u001b[0;34m(\u001b[0m\u001b[0mremaining\u001b[0m\u001b[0;34m)\u001b[0m\u001b[0;34m\u001b[0m\u001b[0;34m\u001b[0m\u001b[0m\n\u001b[0m\u001b[1;32m    180\u001b[0m             \u001b[0mitem\u001b[0m \u001b[0;34m=\u001b[0m \u001b[0mself\u001b[0m\u001b[0;34m.\u001b[0m\u001b[0m_get\u001b[0m\u001b[0;34m(\u001b[0m\u001b[0;34m)\u001b[0m\u001b[0;34m\u001b[0m\u001b[0;34m\u001b[0m\u001b[0m\n",
      "\u001b[0;32m~/.conda/envs/jupyter_launcher/lib/python3.8/threading.py\u001b[0m in \u001b[0;36mwait\u001b[0;34m(self, timeout)\u001b[0m\n\u001b[1;32m    305\u001b[0m                 \u001b[0;32mif\u001b[0m \u001b[0mtimeout\u001b[0m \u001b[0;34m>\u001b[0m \u001b[0;36m0\u001b[0m\u001b[0;34m:\u001b[0m\u001b[0;34m\u001b[0m\u001b[0;34m\u001b[0m\u001b[0m\n\u001b[0;32m--> 306\u001b[0;31m                     \u001b[0mgotit\u001b[0m \u001b[0;34m=\u001b[0m \u001b[0mwaiter\u001b[0m\u001b[0;34m.\u001b[0m\u001b[0macquire\u001b[0m\u001b[0;34m(\u001b[0m\u001b[0;32mTrue\u001b[0m\u001b[0;34m,\u001b[0m \u001b[0mtimeout\u001b[0m\u001b[0;34m)\u001b[0m\u001b[0;34m\u001b[0m\u001b[0;34m\u001b[0m\u001b[0m\n\u001b[0m\u001b[1;32m    307\u001b[0m                 \u001b[0;32melse\u001b[0m\u001b[0;34m:\u001b[0m\u001b[0;34m\u001b[0m\u001b[0;34m\u001b[0m\u001b[0m\n",
      "\u001b[0;32m~/.conda/envs/jupyter_launcher/lib/python3.8/site-packages/torch/utils/data/_utils/signal_handling.py\u001b[0m in \u001b[0;36mhandler\u001b[0;34m(signum, frame)\u001b[0m\n\u001b[1;32m     65\u001b[0m         \u001b[0;31m# Python can still get and update the process status successfully.\u001b[0m\u001b[0;34m\u001b[0m\u001b[0;34m\u001b[0m\u001b[0;34m\u001b[0m\u001b[0m\n\u001b[0;32m---> 66\u001b[0;31m         \u001b[0m_error_if_any_worker_fails\u001b[0m\u001b[0;34m(\u001b[0m\u001b[0;34m)\u001b[0m\u001b[0;34m\u001b[0m\u001b[0;34m\u001b[0m\u001b[0m\n\u001b[0m\u001b[1;32m     67\u001b[0m         \u001b[0;32mif\u001b[0m \u001b[0mprevious_handler\u001b[0m \u001b[0;32mis\u001b[0m \u001b[0;32mnot\u001b[0m \u001b[0;32mNone\u001b[0m\u001b[0;34m:\u001b[0m\u001b[0;34m\u001b[0m\u001b[0;34m\u001b[0m\u001b[0m\n",
      "\u001b[0;31mRuntimeError\u001b[0m: DataLoader worker (pid 274519) is killed by signal: Killed. ",
      "\nThe above exception was the direct cause of the following exception:\n",
      "\u001b[0;31mRuntimeError\u001b[0m                              Traceback (most recent call last)",
      "\u001b[0;32m/tmp/ipykernel_274051/3890607876.py\u001b[0m in \u001b[0;36m<module>\u001b[0;34m\u001b[0m\n\u001b[1;32m      7\u001b[0m \u001b[0;32mfor\u001b[0m \u001b[0mepoch\u001b[0m \u001b[0;32min\u001b[0m \u001b[0mtqdm\u001b[0m\u001b[0;34m(\u001b[0m\u001b[0mrange\u001b[0m\u001b[0;34m(\u001b[0m\u001b[0mn_epochs\u001b[0m\u001b[0;34m)\u001b[0m\u001b[0;34m)\u001b[0m\u001b[0;34m:\u001b[0m\u001b[0;34m\u001b[0m\u001b[0;34m\u001b[0m\u001b[0m\n\u001b[1;32m      8\u001b[0m     \u001b[0mprint\u001b[0m\u001b[0;34m(\u001b[0m\u001b[0;34mf'epoch: {epoch}'\u001b[0m\u001b[0;34m)\u001b[0m\u001b[0;34m\u001b[0m\u001b[0;34m\u001b[0m\u001b[0m\n\u001b[0;32m----> 9\u001b[0;31m     loss_rolling_train = training_simCLR.epoch_step(dataloader_train, \n\u001b[0m\u001b[1;32m     10\u001b[0m                                     \u001b[0mmodel\u001b[0m\u001b[0;34m,\u001b[0m\u001b[0;34m\u001b[0m\u001b[0;34m\u001b[0m\u001b[0m\n\u001b[1;32m     11\u001b[0m                                     \u001b[0moptimizer\u001b[0m\u001b[0;34m,\u001b[0m\u001b[0;34m\u001b[0m\u001b[0;34m\u001b[0m\u001b[0m\n",
      "\u001b[0;32m/n/data1/hms/neurobio/sabatini/josh/github_repos/GCaMP_ROI_classifier/new_stuff/training_simCLR.py\u001b[0m in \u001b[0;36mepoch_step\u001b[0;34m(dataloader, model, optimizer, criterion, scheduler, temperature, L2_alpha, mode, loss_rolling_train, loss_rolling_val, device, do_validation, validation_Object, verbose, verbose_update_period, X_val, y_val)\u001b[0m\n\u001b[1;32m    173\u001b[0m         \u001b[0mprint\u001b[0m\u001b[0;34m(\u001b[0m\u001b[0;34mf'Iter: {batch}/{n_batches}, loss_train: {loss_train:.{precis}}, loss_val: {loss_val:.{precis}}, pos_over_neg: {pos_over_neg} lr: {learning_rate:.{precis}}'\u001b[0m\u001b[0;34m)\u001b[0m\u001b[0;34m\u001b[0m\u001b[0;34m\u001b[0m\u001b[0m\n\u001b[1;32m    174\u001b[0m \u001b[0;34m\u001b[0m\u001b[0m\n\u001b[0;32m--> 175\u001b[0;31m     \u001b[0;32mfor\u001b[0m \u001b[0mi_batch\u001b[0m\u001b[0;34m,\u001b[0m \u001b[0;34m(\u001b[0m\u001b[0mX_batch\u001b[0m\u001b[0;34m,\u001b[0m \u001b[0my_batch\u001b[0m\u001b[0;34m,\u001b[0m \u001b[0midx_batch\u001b[0m\u001b[0;34m,\u001b[0m \u001b[0msample_weights\u001b[0m\u001b[0;34m)\u001b[0m \u001b[0;32min\u001b[0m \u001b[0menumerate\u001b[0m\u001b[0;34m(\u001b[0m\u001b[0mdataloader\u001b[0m\u001b[0;34m)\u001b[0m\u001b[0;34m:\u001b[0m\u001b[0;34m\u001b[0m\u001b[0;34m\u001b[0m\u001b[0m\n\u001b[0m\u001b[1;32m    176\u001b[0m         \u001b[0;31m# for param in util.get_trainable_parameters(model):\u001b[0m\u001b[0;34m\u001b[0m\u001b[0;34m\u001b[0m\u001b[0;34m\u001b[0m\u001b[0m\n\u001b[1;32m    177\u001b[0m         \u001b[0;31m#     print(torch.linalg.norm(param))\u001b[0m\u001b[0;34m\u001b[0m\u001b[0;34m\u001b[0m\u001b[0;34m\u001b[0m\u001b[0m\n",
      "\u001b[0;32m~/.conda/envs/jupyter_launcher/lib/python3.8/site-packages/torch/utils/data/dataloader.py\u001b[0m in \u001b[0;36m__next__\u001b[0;34m(self)\u001b[0m\n\u001b[1;32m    519\u001b[0m             \u001b[0;32mif\u001b[0m \u001b[0mself\u001b[0m\u001b[0;34m.\u001b[0m\u001b[0m_sampler_iter\u001b[0m \u001b[0;32mis\u001b[0m \u001b[0;32mNone\u001b[0m\u001b[0;34m:\u001b[0m\u001b[0;34m\u001b[0m\u001b[0;34m\u001b[0m\u001b[0m\n\u001b[1;32m    520\u001b[0m                 \u001b[0mself\u001b[0m\u001b[0;34m.\u001b[0m\u001b[0m_reset\u001b[0m\u001b[0;34m(\u001b[0m\u001b[0;34m)\u001b[0m\u001b[0;34m\u001b[0m\u001b[0;34m\u001b[0m\u001b[0m\n\u001b[0;32m--> 521\u001b[0;31m             \u001b[0mdata\u001b[0m \u001b[0;34m=\u001b[0m \u001b[0mself\u001b[0m\u001b[0;34m.\u001b[0m\u001b[0m_next_data\u001b[0m\u001b[0;34m(\u001b[0m\u001b[0;34m)\u001b[0m\u001b[0;34m\u001b[0m\u001b[0;34m\u001b[0m\u001b[0m\n\u001b[0m\u001b[1;32m    522\u001b[0m             \u001b[0mself\u001b[0m\u001b[0;34m.\u001b[0m\u001b[0m_num_yielded\u001b[0m \u001b[0;34m+=\u001b[0m \u001b[0;36m1\u001b[0m\u001b[0;34m\u001b[0m\u001b[0;34m\u001b[0m\u001b[0m\n\u001b[1;32m    523\u001b[0m             \u001b[0;32mif\u001b[0m \u001b[0mself\u001b[0m\u001b[0;34m.\u001b[0m\u001b[0m_dataset_kind\u001b[0m \u001b[0;34m==\u001b[0m \u001b[0m_DatasetKind\u001b[0m\u001b[0;34m.\u001b[0m\u001b[0mIterable\u001b[0m \u001b[0;32mand\u001b[0m\u001b[0;31m \u001b[0m\u001b[0;31m\\\u001b[0m\u001b[0;34m\u001b[0m\u001b[0;34m\u001b[0m\u001b[0m\n",
      "\u001b[0;32m~/.conda/envs/jupyter_launcher/lib/python3.8/site-packages/torch/utils/data/dataloader.py\u001b[0m in \u001b[0;36m_next_data\u001b[0;34m(self)\u001b[0m\n\u001b[1;32m   1184\u001b[0m \u001b[0;34m\u001b[0m\u001b[0m\n\u001b[1;32m   1185\u001b[0m             \u001b[0;32massert\u001b[0m \u001b[0;32mnot\u001b[0m \u001b[0mself\u001b[0m\u001b[0;34m.\u001b[0m\u001b[0m_shutdown\u001b[0m \u001b[0;32mand\u001b[0m \u001b[0mself\u001b[0m\u001b[0;34m.\u001b[0m\u001b[0m_tasks_outstanding\u001b[0m \u001b[0;34m>\u001b[0m \u001b[0;36m0\u001b[0m\u001b[0;34m\u001b[0m\u001b[0;34m\u001b[0m\u001b[0m\n\u001b[0;32m-> 1186\u001b[0;31m             \u001b[0midx\u001b[0m\u001b[0;34m,\u001b[0m \u001b[0mdata\u001b[0m \u001b[0;34m=\u001b[0m \u001b[0mself\u001b[0m\u001b[0;34m.\u001b[0m\u001b[0m_get_data\u001b[0m\u001b[0;34m(\u001b[0m\u001b[0;34m)\u001b[0m\u001b[0;34m\u001b[0m\u001b[0;34m\u001b[0m\u001b[0m\n\u001b[0m\u001b[1;32m   1187\u001b[0m             \u001b[0mself\u001b[0m\u001b[0;34m.\u001b[0m\u001b[0m_tasks_outstanding\u001b[0m \u001b[0;34m-=\u001b[0m \u001b[0;36m1\u001b[0m\u001b[0;34m\u001b[0m\u001b[0;34m\u001b[0m\u001b[0m\n\u001b[1;32m   1188\u001b[0m             \u001b[0;32mif\u001b[0m \u001b[0mself\u001b[0m\u001b[0;34m.\u001b[0m\u001b[0m_dataset_kind\u001b[0m \u001b[0;34m==\u001b[0m \u001b[0m_DatasetKind\u001b[0m\u001b[0;34m.\u001b[0m\u001b[0mIterable\u001b[0m\u001b[0;34m:\u001b[0m\u001b[0;34m\u001b[0m\u001b[0;34m\u001b[0m\u001b[0m\n",
      "\u001b[0;32m~/.conda/envs/jupyter_launcher/lib/python3.8/site-packages/torch/utils/data/dataloader.py\u001b[0m in \u001b[0;36m_get_data\u001b[0;34m(self)\u001b[0m\n\u001b[1;32m   1140\u001b[0m         \u001b[0;32melif\u001b[0m \u001b[0mself\u001b[0m\u001b[0;34m.\u001b[0m\u001b[0m_pin_memory\u001b[0m\u001b[0;34m:\u001b[0m\u001b[0;34m\u001b[0m\u001b[0;34m\u001b[0m\u001b[0m\n\u001b[1;32m   1141\u001b[0m             \u001b[0;32mwhile\u001b[0m \u001b[0mself\u001b[0m\u001b[0;34m.\u001b[0m\u001b[0m_pin_memory_thread\u001b[0m\u001b[0;34m.\u001b[0m\u001b[0mis_alive\u001b[0m\u001b[0;34m(\u001b[0m\u001b[0;34m)\u001b[0m\u001b[0;34m:\u001b[0m\u001b[0;34m\u001b[0m\u001b[0;34m\u001b[0m\u001b[0m\n\u001b[0;32m-> 1142\u001b[0;31m                 \u001b[0msuccess\u001b[0m\u001b[0;34m,\u001b[0m \u001b[0mdata\u001b[0m \u001b[0;34m=\u001b[0m \u001b[0mself\u001b[0m\u001b[0;34m.\u001b[0m\u001b[0m_try_get_data\u001b[0m\u001b[0;34m(\u001b[0m\u001b[0;34m)\u001b[0m\u001b[0;34m\u001b[0m\u001b[0;34m\u001b[0m\u001b[0m\n\u001b[0m\u001b[1;32m   1143\u001b[0m                 \u001b[0;32mif\u001b[0m \u001b[0msuccess\u001b[0m\u001b[0;34m:\u001b[0m\u001b[0;34m\u001b[0m\u001b[0;34m\u001b[0m\u001b[0m\n\u001b[1;32m   1144\u001b[0m                     \u001b[0;32mreturn\u001b[0m \u001b[0mdata\u001b[0m\u001b[0;34m\u001b[0m\u001b[0;34m\u001b[0m\u001b[0m\n",
      "\u001b[0;32m~/.conda/envs/jupyter_launcher/lib/python3.8/site-packages/torch/utils/data/dataloader.py\u001b[0m in \u001b[0;36m_try_get_data\u001b[0;34m(self, timeout)\u001b[0m\n\u001b[1;32m   1001\u001b[0m             \u001b[0;32mif\u001b[0m \u001b[0mlen\u001b[0m\u001b[0;34m(\u001b[0m\u001b[0mfailed_workers\u001b[0m\u001b[0;34m)\u001b[0m \u001b[0;34m>\u001b[0m \u001b[0;36m0\u001b[0m\u001b[0;34m:\u001b[0m\u001b[0;34m\u001b[0m\u001b[0;34m\u001b[0m\u001b[0m\n\u001b[1;32m   1002\u001b[0m                 \u001b[0mpids_str\u001b[0m \u001b[0;34m=\u001b[0m \u001b[0;34m', '\u001b[0m\u001b[0;34m.\u001b[0m\u001b[0mjoin\u001b[0m\u001b[0;34m(\u001b[0m\u001b[0mstr\u001b[0m\u001b[0;34m(\u001b[0m\u001b[0mw\u001b[0m\u001b[0;34m.\u001b[0m\u001b[0mpid\u001b[0m\u001b[0;34m)\u001b[0m \u001b[0;32mfor\u001b[0m \u001b[0mw\u001b[0m \u001b[0;32min\u001b[0m \u001b[0mfailed_workers\u001b[0m\u001b[0;34m)\u001b[0m\u001b[0;34m\u001b[0m\u001b[0;34m\u001b[0m\u001b[0m\n\u001b[0;32m-> 1003\u001b[0;31m                 \u001b[0;32mraise\u001b[0m \u001b[0mRuntimeError\u001b[0m\u001b[0;34m(\u001b[0m\u001b[0;34m'DataLoader worker (pid(s) {}) exited unexpectedly'\u001b[0m\u001b[0;34m.\u001b[0m\u001b[0mformat\u001b[0m\u001b[0;34m(\u001b[0m\u001b[0mpids_str\u001b[0m\u001b[0;34m)\u001b[0m\u001b[0;34m)\u001b[0m \u001b[0;32mfrom\u001b[0m \u001b[0me\u001b[0m\u001b[0;34m\u001b[0m\u001b[0;34m\u001b[0m\u001b[0m\n\u001b[0m\u001b[1;32m   1004\u001b[0m             \u001b[0;32mif\u001b[0m \u001b[0misinstance\u001b[0m\u001b[0;34m(\u001b[0m\u001b[0me\u001b[0m\u001b[0;34m,\u001b[0m \u001b[0mqueue\u001b[0m\u001b[0;34m.\u001b[0m\u001b[0mEmpty\u001b[0m\u001b[0;34m)\u001b[0m\u001b[0;34m:\u001b[0m\u001b[0;34m\u001b[0m\u001b[0;34m\u001b[0m\u001b[0m\n\u001b[1;32m   1005\u001b[0m                 \u001b[0;32mreturn\u001b[0m \u001b[0;34m(\u001b[0m\u001b[0;32mFalse\u001b[0m\u001b[0;34m,\u001b[0m \u001b[0;32mNone\u001b[0m\u001b[0;34m)\u001b[0m\u001b[0;34m\u001b[0m\u001b[0;34m\u001b[0m\u001b[0m\n",
      "\u001b[0;31mRuntimeError\u001b[0m: DataLoader worker (pid(s) 274519) exited unexpectedly"
     ]
    }
   ],
   "source": [
    "model_file_name = 'ResNet18_simCLR_model_202112078_EOD_transfmod=transl03'\n",
    "model.forward = model.forward_latent\n",
    "\n",
    "l2_alpha = 0.000\n",
    "\n",
    "n_epochs=300000\n",
    "for epoch in tqdm(range(n_epochs)):\n",
    "    print(f'epoch: {epoch}')\n",
    "    loss_rolling_train = training_simCLR.epoch_step(dataloader_train, \n",
    "                                    model, \n",
    "                                    optimizer, \n",
    "                                    criterion,\n",
    "                                    scheduler=scheduler,\n",
    "                                    temperature=0.5,\n",
    "                                    # l2_alpha,\n",
    "                                    mode='semi-supervised',\n",
    "                                    loss_rolling_train=losses_train, \n",
    "                                    loss_rolling_val=losses_val,\n",
    "                                    device=DEVICE, \n",
    "                                    verbose=2,\n",
    "                                    verbose_update_period=1,\n",
    "                                   \n",
    "#                                     do_validation=False,\n",
    "#                                     X_val=x_feed_through_val,\n",
    "#                                     y_val=torch.as_tensor(y_val, device=DEVICE)\n",
    "                                   )\n",
    "    \n",
    "    \n",
    "    torch.save(model.state_dict(), f'{base_dir}/github_repos/GCaMP_ROI_classifier/new_stuff/models/{model_file_name}.pth')\n",
    "\n",
    "    losses_train_npy = np.array(losses_train)\n",
    "    losses_val_npy = np.array(losses_val)\n",
    "    val_accs_npy = np.array(val_accs)\n",
    "    acc_npy = np.array(acc)\n",
    "\n",
    "    np.save(f'{base_dir}/github_repos/GCaMP_ROI_classifier/new_stuff/model_performance/{model_file_name}_losses_train.npy', losses_train_npy)\n",
    "    np.save(f'{base_dir}/github_repos/GCaMP_ROI_classifier/new_stuff/model_performance/{model_file_name}_losses_val.npy', losses_val_npy)\n",
    "    np.save(f'{base_dir}/github_repos/GCaMP_ROI_classifier/new_stuff/model_performance/{model_file_name}_val_accs.npy', val_accs_npy)\n",
    "    np.save(f'{base_dir}/github_repos/GCaMP_ROI_classifier/new_stuff/model_performance/{model_file_name}_tr_accs.npy', acc_npy)"
   ]
  },
  {
   "cell_type": "code",
   "execution_count": null,
   "metadata": {},
   "outputs": [],
   "source": [
    "break"
   ]
  },
  {
   "cell_type": "code",
   "execution_count": null,
   "metadata": {
    "colab": {
     "base_uri": "https://localhost:8080/",
     "height": 421
    },
    "id": "af10GlccgaV4",
    "outputId": "2ec75ade-6308-4a67-89e4-4bf3f996f746"
   },
   "outputs": [],
   "source": [
    "# import seaborn as sns\n",
    "# sns.set(style='white', palette='bright', context='poster')\n",
    "plt.rcdefaults()\n",
    "\n",
    "%matplotlib inline\n",
    "plt.figure(figsize=(12,6))\n",
    "plt.plot(losses_train, label='Training Loss')\n",
    "plt.plot(losses_val, label='Validation Loss')\n",
    "plt.title(f'Loss — Balanced Transfer Learning, No Data Augmentation, L2 Lambda = {l2_alpha}')\n",
    "plt.legend()\n",
    "plt.grid()\n",
    "plt.xlabel('Epoch Step')\n",
    "plt.ylabel('Loss')\n",
    "# plt.savefig('./Training-Loss.png')"
   ]
  },
  {
   "cell_type": "raw",
   "metadata": {
    "colab": {
     "base_uri": "https://localhost:8080/",
     "height": 706
    },
    "id": "Cl4TSsfc2MDy",
    "outputId": "ccc80bf3-a191-49ec-e635-dce022144cbe"
   },
   "source": [
    "%matplotlib inline\n",
    "plt.figure(figsize=(12,12))\n",
    "# val_transfer_cm = get_cm(features_val, y_val)\n",
    "# plt.imshow(val_transfer_cm)\n",
    "test_transfer_cm = get_cm(features_test, y_test)\n",
    "plt.imshow(test_transfer_cm)\n",
    "plt.colorbar()\n",
    "\n",
    "for i in range(test_transfer_cm.shape[0]):\n",
    "    for j in range(test_transfer_cm.shape[1]):\n",
    "        plt.annotate(np.round(test_transfer_cm[i,j], 3), (j,i), ha='center')\n",
    "plt.title(f'Test Confusion Matrix — Balanced Transfer Learning, No Augmentation, L2 Lambda = {l2_alpha}')\n",
    "plt.xlabel('True Class')\n",
    "plt.ylabel('Predicted Class')\n",
    "# plt.savefig('./Confusion-Matrix.png')\n"
   ]
  },
  {
   "cell_type": "code",
   "execution_count": null,
   "metadata": {
    "id": "rU8l0eP02TQR"
   },
   "outputs": [],
   "source": [
    "model_file_name = 'ResNet18_simCLR_model_202112078_temp=1.0'\n",
    "\n",
    "# torch.save(model.state_dict(), '/media/rich/Home_Linux_partition/github_repos/GCaMP_ROI_classifier/new_stuff/models/ResNet18_simCLR_model_20211205_3.pth')\n",
    "torch.save(model.state_dict(), f'{base_dir}/github_repos/GCaMP_ROI_classifier/new_stuff/models/{model_file_name}.pth')"
   ]
  },
  {
   "cell_type": "code",
   "execution_count": null,
   "metadata": {},
   "outputs": [],
   "source": [
    "# model.load_state_dict(torch.load('/media/rich/Home_Linux_partition/github_repos/GCaMP_ROI_classifier/new_stuff/models/ResNet18_simCLR_model_20211205_2.pth'))\n",
    "model.load_state_dict(torch.load(f'{base_dir}/github_repos/GCaMP_ROI_classifier/new_stuff/models/{model_file_name}.pth'))"
   ]
  },
  {
   "cell_type": "code",
   "execution_count": null,
   "metadata": {},
   "outputs": [],
   "source": [
    "losses_train_npy = np.array(losses_train)\n",
    "losses_val_npy = np.array(losses_val)\n",
    "val_accs_npy = np.array(val_accs)\n",
    "acc_npy = np.array(acc)\n",
    "\n",
    "np.save(f'{base_dir}/github_repos/GCaMP_ROI_classifier/new_stuff/model_performance/{model_file_name}_losses_train.npy', losses_train_npy)\n",
    "np.save(f'{base_dir}/github_repos/GCaMP_ROI_classifier/new_stuff/model_performance/{model_file_name}_losses_val.npy', losses_val_npy)\n",
    "np.save(f'{base_dir}/github_repos/GCaMP_ROI_classifier/new_stuff/model_performance/{model_file_name}_val_accs.npy', val_accs_npy)\n",
    "np.save(f'{base_dir}/github_repos/GCaMP_ROI_classifier/new_stuff/model_performance/{model_file_name}_tr_accs.npy', acc_npy)"
   ]
  },
  {
   "cell_type": "code",
   "execution_count": null,
   "metadata": {},
   "outputs": [],
   "source": []
  },
  {
   "cell_type": "markdown",
   "metadata": {
    "id": "FEqA0gLPl3-6"
   },
   "source": [
    "## Train classifier using classifier layers of model (or do supervised learning)"
   ]
  },
  {
   "cell_type": "raw",
   "metadata": {
    "id": "fmMkNykeVHbn"
   },
   "source": [
    "test_transfer_cm = get_cm(features_test, y_test)\n",
    "np.save(f'/content/drive/MyDrive/00 - ROI/GCaMP_ROI_classifier/new_stuff/npy-figures/TestingCM-{\"Un\" if not balanced else \"\"}Balanced-Transfer—L2Lambda={l2_alpha}.npy',\n",
    "        test_transfer_cm)\n",
    "torch.save(model.state_dict(), f'/content/drive/MyDrive/00 - ROI/GCaMP_ROI_classifier/new_stuff/npy-figures/TestingCM-{\"Un\" if not balanced else \"\"}Balanced-Transfer—L2Lambda={l2_alpha}.pth')\n",
    "\n",
    "np.save(f'/content/drive/MyDrive/00 - ROI/GCaMP_ROI_classifier/new_stuff/npy-figures/TestingCM-{\"Un\" if not balanced else \"\"}Balanced-SKLearn-Solver={solver}—C={C_reg}.npy',\n",
    "        logistic_pred_test)"
   ]
  },
  {
   "cell_type": "raw",
   "metadata": {
    "id": "zo42G3CeWozY"
   },
   "source": [
    "from sklearn.metrics import confusion_matrix\n",
    "\n",
    "def get_cm(pred_cm, y_cm, plot=False):\n",
    "  ### NOTE — RETURNS A MATRIX WITH PREDICTION NUM ASSOCIATED WITH ROW NUM\n",
    "  ### AND COLUMN NUM ASSOCIATED WITH TRUE VALUE. (TRANSPOSE OF SKLEARN OUTPUT.)\n",
    "\n",
    "  cm = confusion_matrix(y_cm, np.argmax(pred_cm, -1))\n",
    "  cm = cm / np.where(cm.sum(1, keepdims=True)==0, np.ones_like(cm.sum(1, keepdims=True)), cm.sum(1, keepdims=True))\n",
    "  \n",
    "  # cm = classification.confusion_matrix(y_hat, y_labeled_val)\n",
    "  # print(cm)\n",
    "  \n",
    "  if plot:\n",
    "    plt.figure()\n",
    "    plt.imshow(cm)\n",
    "    plt.colorbar()\n",
    "    plt.show()\n",
    "  \n",
    "  return cm.T"
   ]
  },
  {
   "cell_type": "raw",
   "metadata": {
    "colab": {
     "base_uri": "https://localhost:8080/"
    },
    "id": "YWk_NgpNd2Ia",
    "outputId": "2959f230-bd91-46cd-e898-d270aade7e54"
   },
   "source": [
    "num_tr_ex = X_val.shape[0]\n",
    "\n",
    "\n",
    "# solver = 'lbfgs'\n",
    "solver = 'liblinear'\n",
    "# solver = 'newton-cg'\n",
    "C_reg = 0.01\n",
    "# C_reg = 0.0001\n",
    "\n",
    "\n",
    "# logreg = LogisticRegression(solver=solver, C=C_reg)\n",
    "# logreg = LogisticRegression(solver=solver, penalty='none', )\n",
    "# logreg = LogisticRegression(solver=solver, penalty='none', max_iter=4000)\n",
    "# logreg = LogisticRegression(solver=solver)\n",
    "logreg = LogisticRegression(solver=solver, C=C_reg)\n",
    "# logreg = LogisticRegression(solver='lbfgs', penalty='none', max_iter=4000)\n",
    "\n",
    "# base_features_train = base_model_frozen(x_feed_through_tr).detach().cpu()\n",
    "base_features_train = cpu_tr.cpu().detach().numpy()\n",
    "logreg.fit(base_features_train, y_train)\n",
    "\n",
    "# base_features_val = base_model_frozen(x_feed_through_val).detach().cpu()\n",
    "base_features_val = cpu_val.cpu().detach().numpy()\n",
    "\n",
    "base_features_te = cpu_te.cpu().detach().numpy()\n",
    "\n",
    "# base_model_frozen.to('cpu')\n",
    "# X_labeled_train.to('cpu')\n",
    "\n",
    "logistic_pred_train = get_cm(logreg.predict_proba(base_features_train), y_train)\n",
    "logistic_pred_val = get_cm(logreg.predict_proba(base_features_val), y_val)\n",
    "logistic_pred_test = get_cm(logreg.predict_proba(base_features_te), y_test)\n",
    "\n",
    "\n",
    "x_feed_through_tr.to(DEVICE)\n",
    "x_feed_through_val.to(DEVICE)\n",
    "x_feed_through_te.to(DEVICE)\n",
    "\n",
    "print(x_feed_through_tr.shape, x_feed_through_val.shape)"
   ]
  },
  {
   "cell_type": "code",
   "execution_count": null,
   "metadata": {
    "id": "WLH9o3jLl4G_"
   },
   "outputs": [],
   "source": []
  },
  {
   "cell_type": "markdown",
   "metadata": {
    "id": "QjNJk6Qwl4O3"
   },
   "source": [
    "Freeze pre-head layers, unfreeze classification layers"
   ]
  },
  {
   "cell_type": "markdown",
   "metadata": {
    "id": "Zq4toNxdl4jb"
   },
   "source": [
    "Define labeled dataset to use"
   ]
  },
  {
   "cell_type": "raw",
   "metadata": {
    "id": "MGvBSux9l4pn"
   },
   "source": [
    "X_labeled_train, X_labeled_val, y_labeled_train, y_labeled_val"
   ]
  },
  {
   "cell_type": "markdown",
   "metadata": {
    "id": "JS_mTd7cl4vI"
   },
   "source": [
    "Train model"
   ]
  },
  {
   "cell_type": "code",
   "execution_count": null,
   "metadata": {},
   "outputs": [],
   "source": [
    "from torch.nn import CrossEntropyLoss\n",
    "from torch.optim import Adam\n",
    "\n",
    "import numpy as np\n",
    "\n",
    "from sklearn.linear_model import LogisticRegression\n",
    "from sklearn.tree import DecisionTreeClassifier\n",
    "from sklearn.ensemble import RandomForestClassifier\n",
    "from sklearn.svm import SVC\n",
    "\n",
    "criterion = [CrossEntropyLoss()]\n",
    "# criterion = CrossEntropyLoss(reduction='none')\n",
    "\n",
    "# optimizer = Adam(model.parameters(), lr=1e-2, weight_decay=0.0)\n",
    "# optimizer = Adam(model.parameters(), lr=2e-2)\n",
    "optimizer = Adam(model.parameters(), lr=10**(-4.5))\n",
    "scheduler = torch.optim.lr_scheduler.ExponentialLR(optimizer,\n",
    "                                                   gamma=1-0.0000,\n",
    "#                                                    gamma=1,\n",
    "                                                  )\n",
    "criterion = [_.to(DEVICE) for _ in criterion]\n",
    "losses_train, losses_val, val_accs, acc = [], [np.nan], [], []"
   ]
  },
  {
   "cell_type": "code",
   "execution_count": null,
   "metadata": {},
   "outputs": [],
   "source": [
    "def transform_null(var):\n",
    "    return(var)"
   ]
  },
  {
   "cell_type": "code",
   "execution_count": null,
   "metadata": {},
   "outputs": [],
   "source": [
    "model.reinit_classifier()\n",
    "model.train()\n",
    "model.prep_classifier()"
   ]
  },
  {
   "cell_type": "code",
   "execution_count": null,
   "metadata": {},
   "outputs": [],
   "source": [
    "dataset_validation = util.dataset_simCLR(\n",
    "                                    torch.as_tensor(masks_cat, device='cpu', dtype=torch.float32), \n",
    "                                    torch.as_tensor(torch.zeros(masks_cat.shape[0]), device='cpu', dtype=torch.float32),\n",
    "\n",
    "                                    n_transforms=1,\n",
    "                                    class_weights=np.array([1]),\n",
    "                                    # class_weights=np.array([1]*4)[np.random.randint(0,4, X_train.shape[0])],\n",
    "                                    transform=scripted_transforms_validation,\n",
    "                                    # DEVICE='cpu',\n",
    "                                    DEVICE='cpu',\n",
    "                                    dtype_X=torch.float32,\n",
    "                                    dtype_y=torch.int64,\n",
    "                                    \n",
    "                                    temp_uncertainty=16\n",
    "                                    )\n",
    "dataloader_validation = torch.utils.data.DataLoader( dataset_validation,\n",
    "#                                                 batch_size=int(pct_batch_size*X_train.shape[0]),\n",
    "                                                batch_size=1024,\n",
    "                                                shuffle=True,\n",
    "                                                drop_last=True,\n",
    "                                                pin_memory=True,\n",
    "                                                num_workers=32,\n",
    "                                                persistent_workers=True,\n",
    "                                                # prefetch_factor=0\n",
    "                                                )"
   ]
  },
  {
   "cell_type": "code",
   "execution_count": null,
   "metadata": {
    "id": "v4WvU5xxl41A"
   },
   "outputs": [],
   "source": [
    "data_unlabeled = torch.as_tensor(masks_cat, dtype=torch.float32, device='cpu')\n",
    "\n",
    "# model.to(DEVICE)\n",
    "\n",
    "l2_alpha = 0.000\n",
    "\n",
    "n_epochs=300000\n",
    "for epoch in range(n_epochs):\n",
    "    print(f'epoch: {epoch}')\n",
    "    loss_rolling_train = training_simCLR.epoch_step(dataloader_validation, \n",
    "                                    model, \n",
    "                                    optimizer, \n",
    "                                    criterion, \n",
    "\n",
    "                                    # penalized_params, l2_alpha,\n",
    "\n",
    "                                    scheduler=scheduler,\n",
    "                                    L2_alpha=0.04,\n",
    "                                    mode='supervised',\n",
    "                                    loss_rolling_train=losses_train, \n",
    "                                    device=DEVICE, \n",
    "                                    loss_rolling_val=losses_val,\n",
    "                                    verbose=2,\n",
    "                                    verbose_update_period=1,\n",
    "                                   \n",
    "#                                     do_validation=False,\n",
    "#                                     X_val=x_feed_through_val,\n",
    "#                                     y_val=torch.as_tensor(y_val, device=DEVICE)\n",
    "                                   )"
   ]
  },
  {
   "cell_type": "markdown",
   "metadata": {
    "id": "HAcpUsTJl46l"
   },
   "source": [
    "Evalculate model"
   ]
  },
  {
   "cell_type": "code",
   "execution_count": null,
   "metadata": {
    "id": "aHaYL5XjaBfP"
   },
   "outputs": [],
   "source": [
    "%matplotlib notebook\n",
    "\n",
    "plt.figure()\n",
    "plt.plot(loss_rolling_train)\n",
    "\n",
    "data_in = torch.as_tensor(X_labeled_val, dtype=torch.float32, device=DEVICE)\n",
    "# data_in = torch.as_tensor(X_labeled_train, dtype=torch.float32, device=DEVICE)\n",
    "data_in = util.tile_channels(data_in[:,None,...], dim=1)\n",
    "proba = torch.nn.functional.softmax(model.forward_classifier(data_in), dim=1)\n",
    "cm = classification.confusion_matrix(proba.detach().cpu().numpy(), y_labeled_val)\n",
    "# cm = classification.confusion_matrix(proba.detach().cpu().numpy(), y_labeled_train)\n",
    "\n",
    "plt.figure()\n",
    "plt.imshow(cm, aspect='auto')\n",
    "plt.colorbar()"
   ]
  },
  {
   "cell_type": "code",
   "execution_count": null,
   "metadata": {
    "id": "aHaYL5XjaBfP"
   },
   "outputs": [],
   "source": [
    "%matplotlib notebook\n",
    "data_in = torch.as_tensor(X_labeled_train, dtype=torch.float32, device=DEVICE)\n",
    "data_in = util.tile_channels(data_in[:,None,...], dim=1)\n",
    "proba = torch.nn.functional.softmax(model.forward_classifier(data_in), dim=1)\n",
    "cm = classification.confusion_matrix(proba.detach().cpu().numpy(), y_labeled_train)\n",
    "\n",
    "plt.figure()\n",
    "plt.imshow(cm)\n",
    "plt.colorbar()"
   ]
  },
  {
   "cell_type": "code",
   "execution_count": null,
   "metadata": {
    "id": "QNlRDjrVaCD-"
   },
   "outputs": [],
   "source": []
  },
  {
   "cell_type": "code",
   "execution_count": null,
   "metadata": {},
   "outputs": [],
   "source": []
  },
  {
   "cell_type": "code",
   "execution_count": null,
   "metadata": {},
   "outputs": [],
   "source": []
  },
  {
   "cell_type": "code",
   "execution_count": null,
   "metadata": {},
   "outputs": [],
   "source": []
  },
  {
   "cell_type": "markdown",
   "metadata": {},
   "source": [
    "## Use sklearn to train classifier"
   ]
  },
  {
   "cell_type": "code",
   "execution_count": null,
   "metadata": {
    "id": "rU8l0eP02TQR"
   },
   "outputs": [],
   "source": [
    "transforms_validation = torch.nn.Sequential(\n",
    "    augmentation.ScaleDynamicRange(scaler_bounds=(0,1)),\n",
    "    torchvision.transforms.Resize(size=(224,224),\n",
    "                                  interpolation=torchvision.transforms.InterpolationMode.BILINEAR), \n",
    "    augmentation.TileChannels(dim=0, n_channels=3),\n",
    "#     augmentation.Normalize(  means=[0.485, 0.456, 0.406],\n",
    "#                              stds=[0.229, 0.224, 0.225]),\n",
    "#     torchvision.transforms.Normalize(mean=[0.485, 0.456, 0.406],\n",
    "#                                      std=[0.229, 0.224, 0.225],\n",
    "#                                      inplace=False),\n",
    ")\n",
    "scripted_transforms_validation = torch.jit.script(transforms_validation)\n",
    "# scripted_transforms = transforms\n"
   ]
  },
  {
   "cell_type": "code",
   "execution_count": null,
   "metadata": {},
   "outputs": [],
   "source": [
    "dataset_labeled_train = util.dataset_simCLR(\n",
    "                                    torch.as_tensor(X_labeled_train, device='cpu', dtype=torch.float32), \n",
    "                                    # torch.as_tensor(X_labeled_train_SYT, device='cpu', dtype=torch.float32), \n",
    "                                    torch.as_tensor(torch.zeros(X_labeled_train.shape[0]), device='cpu', dtype=torch.float32),\n",
    "                                    # torch.as_tensor(torch.zeros(X_labeled_train_SYT.shape[0]), device='cpu', dtype=torch.float32),\n",
    "\n",
    "                                    n_transforms=1,\n",
    "                                    class_weights=np.array([1]),\n",
    "                                    # class_weights=np.array([1]*4)[np.random.randint(0,4, X_train.shape[0])],\n",
    "                                    transform=scripted_transforms_validation,\n",
    "                                    # DEVICE='cpu',\n",
    "                                    DEVICE='cpu',\n",
    "                                    dtype_X=torch.float32,\n",
    "                                    dtype_y=torch.int64,\n",
    "                                    \n",
    "                                    temp_uncertainty=16\n",
    "                                    )\n",
    "dataset_labeled_val = util.dataset_simCLR(\n",
    "                                    torch.as_tensor(X_labeled_val, device='cpu', dtype=torch.float32), \n",
    "                                    # torch.as_tensor(X_labeled_val_SYT, device='cpu', dtype=torch.float32), \n",
    "                                    torch.as_tensor(torch.zeros(X_labeled_val.shape[0]), device='cpu', dtype=torch.float32),\n",
    "                                    # torch.as_tensor(torch.zeros(X_labeled_val_SYT.shape[0]), device='cpu', dtype=torch.float32),\n",
    "\n",
    "                                    n_transforms=1,\n",
    "                                    class_weights=np.array([1]),\n",
    "                                    # class_weights=np.array([1]*4)[np.random.randint(0,4, X_train.shape[0])],\n",
    "                                    transform=scripted_transforms_validation,\n",
    "                                    # DEVICE='cpu',\n",
    "                                    DEVICE='cpu',\n",
    "                                    dtype_X=torch.float32,\n",
    "                                    dtype_y=torch.int64,\n",
    "                                    \n",
    "                                    temp_uncertainty=16\n",
    "                                    )\n",
    "dataloader_labeled_train = torch.utils.data.DataLoader( dataset_labeled_train,\n",
    "    #                                                 batch_size=int(pct_batch_size*X_train.shape[0]),\n",
    "                                                    batch_size=1024,\n",
    "                                                    shuffle=False,\n",
    "                                                    drop_last=False,\n",
    "                                                    pin_memory=True,\n",
    "                                                    num_workers=32,\n",
    "                                                    persistent_workers=True,\n",
    "                                                    # prefetch_factor=0\n",
    "                                                    )\n",
    "dataloader_labeled_val = torch.utils.data.DataLoader( dataset_labeled_val,\n",
    "    #                                                 batch_size=int(pct_batch_size*X_train.shape[0]),\n",
    "                                                    batch_size=1024,\n",
    "                                                    shuffle=False,\n",
    "                                                    drop_last=False,\n",
    "                                                    pin_memory=True,\n",
    "                                                    num_workers=32,\n",
    "                                                    persistent_workers=True,\n",
    "                                                    # prefetch_factor=0\n",
    "                                                    )\n"
   ]
  },
  {
   "cell_type": "code",
   "execution_count": null,
   "metadata": {},
   "outputs": [],
   "source": [
    "DEVICE = torch_helpers.set_device(use_GPU=True)"
   ]
  },
  {
   "cell_type": "code",
   "execution_count": null,
   "metadata": {},
   "outputs": [],
   "source": [
    "model.eval()\n",
    "model.to(DEVICE)\n",
    "features_train = torch.cat([model.get_head(model.base_model(data[0][0].to(DEVICE))).detach().cpu() for data in dataloader_labeled_train], dim=0)\n",
    "features_val   = torch.cat([model.get_head(model.base_model(data[0][0].to(DEVICE))).detach().cpu() for data in dataloader_labeled_val], dim=0)"
   ]
  },
  {
   "cell_type": "markdown",
   "metadata": {},
   "source": [
    "run a sweep of logistic regressions over C (1/L2) parameter"
   ]
  },
  {
   "cell_type": "code",
   "execution_count": null,
   "metadata": {},
   "outputs": [],
   "source": [
    "acc_train, acc_val = [], []\n",
    "# C_toUse = np.array([1000,100,10,1,0.1,0.01,0.001,0.0001,0.00001])\n",
    "C_toUse = np.array([10,1,0.1,0.01,0.001,0.0001,0.00001])\n",
    "for C in C_toUse:\n",
    "#     print(f'C = {C}')\n",
    "    logreg = sklearn.linear_model.LogisticRegression(solver='liblinear', max_iter=800, C=C)\n",
    "#     tic = time.time()\n",
    "    logreg.fit(features_train, y_labeled_train)\n",
    "#     print(f'time: {time.time() - tic}')\n",
    "    acc = logreg.score(features_train, y_labeled_train)\n",
    "    acc_train.append(acc)\n",
    "#     print(f'acc_train: {acc}')\n",
    "    acc = logreg.score(features_val, y_labeled_val)\n",
    "    acc_val.append(acc)\n",
    "#     print(f'acc_val: {acc}')\n",
    "#     print('')\n",
    "    \n",
    "\n",
    "plt.figure()\n",
    "plt.plot(C_toUse, acc_train)\n",
    "plt.plot(C_toUse, acc_val)\n",
    "plt.xscale('log')\n",
    "plt.xlabel('C')\n",
    "plt.ylabel('acc')\n",
    "plt.legend(['train', 'test']);"
   ]
  },
  {
   "cell_type": "code",
   "execution_count": null,
   "metadata": {},
   "outputs": [],
   "source": [
    "# acc_train, acc_val = [], []\n",
    "# # C_toUse = np.array([1000,100,10,1,0.1,0.01,0.001,0.0001,0.00001])\n",
    "# # C_toUse = np.array([10,1,0.1,0.01,0.001,0.0001,0.00001])\n",
    "# C_toUse = np.array([10000])\n",
    "# for C in tqdm(C_toUse):\n",
    "# #     print(f'C = {C}')\n",
    "#     logreg = sklearn.linear_model.LogisticRegression(solver='liblinear', max_iter=800, C=C)\n",
    "# #     tic = time.time()\n",
    "#     logreg.fit(features_train, y_labeled_train_SYT)\n",
    "# #     print(f'time: {time.time() - tic}')\n",
    "#     acc = logreg.score(features_train, y_labeled_train_SYT)\n",
    "#     acc_train.append(acc)\n",
    "# #     print(f'acc_train: {acc}')\n",
    "#     acc = logreg.score(features_val, y_labeled_val_SYT)\n",
    "#     acc_val.append(acc)\n",
    "# #     print(f'acc_val: {acc}')\n",
    "# #     print('')\n",
    "    \n",
    "\n",
    "# plt.figure()\n",
    "# plt.plot(C_toUse, acc_train)\n",
    "# plt.plot(C_toUse, acc_val)\n",
    "# plt.xscale('log')\n",
    "# plt.xlabel('C')\n",
    "# plt.ylabel('acc')\n",
    "# plt.legend(['train', 'test']);"
   ]
  },
  {
   "cell_type": "markdown",
   "metadata": {},
   "source": [
    "run a sinlg logistic regression with desired parameters and check confusion matrix"
   ]
  },
  {
   "cell_type": "code",
   "execution_count": null,
   "metadata": {},
   "outputs": [],
   "source": [
    "logreg = sklearn.linear_model.LogisticRegression(solver='liblinear', max_iter=800, C=10**(-1)).fit(features_train, y_labeled_train)"
   ]
  },
  {
   "cell_type": "code",
   "execution_count": null,
   "metadata": {},
   "outputs": [],
   "source": [
    "%matplotlib inline\n",
    "proba = logreg.predict_proba(features_train)\n",
    "\n",
    "preds = np.argmax(proba, axis=1)\n",
    "cm = classification.confusion_matrix(preds, y_labeled_train)\n",
    "\n",
    "plt.figure()\n",
    "sns.heatmap(cm, annot=True, annot_kws={\"size\": 16}, vmax=1., cmap=plt.get_cmap('gray'))\n",
    "plt.title('train');\n",
    "\n",
    "proba = logreg.predict_proba(features_val)\n",
    "preds = np.argmax(proba, axis=1)\n",
    "cm = classification.confusion_matrix(preds, y_labeled_val)\n",
    "\n",
    "plt.figure()\n",
    "sns.heatmap(cm, annot=True, annot_kws={\"size\": 16}, vmax=1., cmap=plt.get_cmap('gray'))\n",
    "plt.title('val');\n"
   ]
  },
  {
   "cell_type": "code",
   "execution_count": null,
   "metadata": {},
   "outputs": [],
   "source": [
    "# %matplotlib notebook\n",
    "# proba = logreg.predict_proba(features_train)\n",
    "\n",
    "# preds = np.argmax(proba, axis=1)\n",
    "# cm = classification.confusion_matrix(preds, y_labeled_train_SYT)\n",
    "\n",
    "# plt.figure()\n",
    "# sns.heatmap(cm, annot=True, annot_kws={\"size\": 16}, vmax=1., cmap=plt.get_cmap('gray'))\n",
    "# plt.title('train');\n",
    "\n",
    "# proba = logreg.predict_proba(features_val)\n",
    "# preds = np.argmax(proba, axis=1)\n",
    "# cm = classification.confusion_matrix(preds, y_labeled_val_SYT)\n",
    "\n",
    "# plt.figure()\n",
    "# sns.heatmap(cm, annot=True, annot_kws={\"size\": 16}, vmax=1., cmap=plt.get_cmap('gray'))\n",
    "# plt.title('val');\n"
   ]
  },
  {
   "cell_type": "code",
   "execution_count": null,
   "metadata": {},
   "outputs": [],
   "source": []
  },
  {
   "cell_type": "code",
   "execution_count": null,
   "metadata": {},
   "outputs": [],
   "source": []
  },
  {
   "cell_type": "code",
   "execution_count": null,
   "metadata": {},
   "outputs": [],
   "source": []
  },
  {
   "cell_type": "markdown",
   "metadata": {
    "id": "_CchY4kGDB00"
   },
   "source": [
    "## Check embeddings"
   ]
  },
  {
   "cell_type": "code",
   "execution_count": null,
   "metadata": {},
   "outputs": [],
   "source": [
    "model.eval();\n",
    "# model.to(DEVICE);"
   ]
  },
  {
   "cell_type": "code",
   "execution_count": null,
   "metadata": {
    "id": "JcrdLrYtDB00"
   },
   "outputs": [],
   "source": [
    "torch.cuda.empty_cache()"
   ]
  },
  {
   "cell_type": "code",
   "execution_count": null,
   "metadata": {},
   "outputs": [],
   "source": [
    "dataset_unlabeled_noAug = util.dataset_simCLR(\n",
    "                                    torch.as_tensor(masks_cat[:], device='cpu', dtype=torch.float32), \n",
    "                                    torch.as_tensor(torch.zeros(masks_cat[:].shape[0]), device='cpu', dtype=torch.float32),\n",
    "\n",
    "                                    n_transforms=1,\n",
    "                                    class_weights=np.array([1]),\n",
    "                                    # class_weights=np.array([1]*4)[np.random.randint(0,4, X_train.shape[0])],\n",
    "                                    transform=scripted_transforms_validation,\n",
    "                                    # DEVICE='cpu',\n",
    "                                    DEVICE='cpu',\n",
    "                                    dtype_X=torch.float32,\n",
    "                                    dtype_y=torch.int64,\n",
    "                                    \n",
    "                                    temp_uncertainty=16\n",
    "                                    )\n",
    "dataloader_unlabeled_noAug = torch.utils.data.DataLoader( dataset_unlabeled_noAug,\n",
    "#                                                 batch_size=int(pct_batch_size*X_train.shape[0]),\n",
    "                                                batch_size=1024,\n",
    "                                                shuffle=False,\n",
    "                                                drop_last=False,\n",
    "                                                pin_memory=True,\n",
    "                                                num_workers=32,\n",
    "                                                persistent_workers=True,\n",
    "                                                # prefetch_factor=0\n",
    "                                                )"
   ]
  },
  {
   "cell_type": "code",
   "execution_count": null,
   "metadata": {},
   "outputs": [],
   "source": [
    "dataset_unlabeled_noAug = util.dataset_simCLR(\n",
    "                                    torch.as_tensor(masks_SYT[:], device='cpu', dtype=torch.float32), \n",
    "                                    torch.as_tensor(torch.zeros(masks_SYT[:].shape[0]), device='cpu', dtype=torch.float32),\n",
    "\n",
    "                                    n_transforms=1,\n",
    "                                    class_weights=np.array([1]),\n",
    "                                    # class_weights=np.array([1]*4)[np.random.randint(0,4, X_train.shape[0])],\n",
    "                                    transform=scripted_transforms_validation,\n",
    "                                    # DEVICE='cpu',\n",
    "                                    DEVICE='cpu',\n",
    "                                    dtype_X=torch.float32,\n",
    "                                    dtype_y=torch.int64,\n",
    "                                    \n",
    "                                    temp_uncertainty=16\n",
    "                                    )\n",
    "dataloader_unlabeled_noAug = torch.utils.data.DataLoader( dataset_unlabeled_noAug,\n",
    "#                                                 batch_size=int(pct_batch_size*X_train.shape[0]),\n",
    "                                                batch_size=1024,\n",
    "                                                shuffle=False,\n",
    "                                                drop_last=False,\n",
    "                                                pin_memory=True,\n",
    "                                                num_workers=32,\n",
    "                                                persistent_workers=True,\n",
    "                                                # prefetch_factor=0\n",
    "                                                )"
   ]
  },
  {
   "cell_type": "code",
   "execution_count": null,
   "metadata": {},
   "outputs": [],
   "source": [
    "# optional: run unlabeled data through model\n",
    "features_train = torch.cat([model.get_head(model.base_model(data[0][0].to(DEVICE))).detach().cpu() for data in dataloader_unlabeled_noAug], dim=0)"
   ]
  },
  {
   "cell_type": "code",
   "execution_count": null,
   "metadata": {
    "id": "HPyKFRdq28d3"
   },
   "outputs": [],
   "source": [
    "### REMOVE\n",
    "\n",
    "DEVICE='cuda'\n",
    "# DEVICE='cpu'"
   ]
  },
  {
   "cell_type": "code",
   "execution_count": null,
   "metadata": {
    "id": "7fpQXf0o28d3"
   },
   "outputs": [],
   "source": [
    "# model.to(DEVICE);"
   ]
  },
  {
   "cell_type": "code",
   "execution_count": null,
   "metadata": {
    "id": "7gwucuZXDB00"
   },
   "outputs": [],
   "source": [
    "_, features_embedded, _, evr = decomposition.torch_pca(features_train, device=DEVICE, return_cpu=True)"
   ]
  },
  {
   "cell_type": "code",
   "execution_count": null,
   "metadata": {},
   "outputs": [],
   "source": [
    "tsne = cuml.TSNE( n_components=2,\n",
    "                  perplexity=50.0,\n",
    "                  early_exaggeration=12.0,\n",
    "#                   late_exaggeration=1.0,\n",
    "                  learning_rate=200.0,\n",
    "                  n_iter=1000,\n",
    "                  n_iter_without_progress=300,\n",
    "                  min_grad_norm=1e-07,\n",
    "                  metric='euclidean',\n",
    "                  init='random',\n",
    "                  verbose=False,\n",
    "#                   random_state=None,\n",
    "#                   method='barnes_hut',\n",
    "#                   angle=0.5,\n",
    "#                   learning_rate_method='adaptive',\n",
    "# #                   n_neighbors=90,\n",
    "#                   perplexity_max_iter=100,\n",
    "#                   exaggeration_iter=250,\n",
    "#                   pre_momentum=0.5,\n",
    "#                   post_momentum=0.8,\n",
    "# #                   square_distances=True,\n",
    "#                   handle=None,\n",
    "#                   output_type=None\n",
    "                )\n",
    "features_embedded = tsne.fit_transform(features_train.to(DEVICE)).get()"
   ]
  },
  {
   "cell_type": "code",
   "execution_count": null,
   "metadata": {},
   "outputs": [],
   "source": [
    "umap = cuml.UMAP(n_neighbors=100,\n",
    "                n_components=2,\n",
    "                n_epochs=None,\n",
    "                learning_rate=1.0,\n",
    "                min_dist=0.1,\n",
    "                spread=1.0,\n",
    "                set_op_mix_ratio=1.0, \n",
    "                local_connectivity=1.0,\n",
    "                repulsion_strength=1.0, \n",
    "                negative_sample_rate=5, \n",
    "                transform_queue_size=4.0, \n",
    "                init='spectral', \n",
    "                verbose=False,\n",
    "                a=None, \n",
    "                b=None, \n",
    "                target_n_neighbors=- 1, \n",
    "#                 target_weight=0.5, \n",
    "                target_metric='categorical', \n",
    "                handle=None,                \n",
    "                hash_input=False, \n",
    "                random_state=None, \n",
    "                callback=None, \n",
    "                output_type=None\n",
    "                )\n",
    "features_embedded = umap.fit_transform(features_train.to(DEVICE)).get()"
   ]
  },
  {
   "cell_type": "raw",
   "metadata": {},
   "source": [
    "torch_helpers.delete_all_cuda_tensors(globals())"
   ]
  },
  {
   "cell_type": "raw",
   "metadata": {},
   "source": [
    "torch.cuda.empty_cache()\n",
    "gc.collect()\n",
    "torch.cuda.empty_cache()\n",
    "gc.collect()\n",
    "torch.cuda.empty_cache()\n",
    "gc.collect()\n",
    "torch.cuda.empty_cache()\n",
    "gc.collect()"
   ]
  },
  {
   "cell_type": "raw",
   "metadata": {},
   "source": [
    "torch_helpers.tensor_sizeOnDisk(features_train)"
   ]
  },
  {
   "cell_type": "raw",
   "metadata": {
    "id": "2imvF8ZoDB00"
   },
   "source": [
    "from sklearn import manifold\n",
    "\n",
    "tsne = manifold.TSNE(n_components=2, \n",
    "                     perplexity=120.0, \n",
    "                     early_exaggeration=12.0, \n",
    "                     learning_rate=200, \n",
    "                     n_iter=1000, \n",
    "                     n_iter_without_progress=300, \n",
    "                     min_grad_norm=1e-07, \n",
    "                     metric='euclidean', \n",
    "                     init='pca', \n",
    "                     verbose=0, \n",
    "                     random_state=None, \n",
    "                     method='barnes_hut', \n",
    "                     angle=0.5, \n",
    "                     n_jobs=-1, \n",
    "#                      square_distances='legacy'\n",
    "                    )\n",
    "features_embedded = tsne.fit_transform(features_train.cpu())\n",
    "# features_embedded = tsne.fit_transform(features_embedded[:,:5].cpu())"
   ]
  },
  {
   "cell_type": "code",
   "execution_count": null,
   "metadata": {
    "id": "sgxJ8VXwDB00"
   },
   "outputs": [],
   "source": [
    "import matplotlib as mpl\n",
    "\n",
    "# mpl.rcParams['image.cmap'] = 'Set1'\n",
    "%matplotlib notebook\n",
    "plt.figure()\n",
    "plt.scatter(features_embedded[:,0], features_embedded[:,1], s=10, c=labels_SYT, cmap=plt.get_cmap('tab10'))\n",
    "# plt.scatter(features_embedded[:,0], features_embedded[:,1], s=0.001)\n",
    "# plt.scatter(features_embedded[:,0], features_embedded[:,1], c=labels[labels!=3])\n",
    "# plt.scatter(features_embedded[:,0], features_embedded[:,1], c=y_val)\n",
    "# plt.scatter(features_embedded[:,4], features_embedded[:,5], c=y_train)\n",
    "# plt.scatter(features_embedded[:,11], features[:,43].cpu(), c=y_train)\n"
   ]
  },
  {
   "cell_type": "code",
   "execution_count": null,
   "metadata": {
    "id": "sgxJ8VXwDB00"
   },
   "outputs": [],
   "source": []
  },
  {
   "cell_type": "code",
   "execution_count": null,
   "metadata": {
    "id": "sgxJ8VXwDB00"
   },
   "outputs": [],
   "source": [
    "import matplotlib as mpl\n",
    "\n",
    "# mpl.rcParams['image.cmap'] = 'Set1'\n",
    "%matplotlib notebook\n",
    "plt.figure()\n",
    "# plt.scatter(features_embedded[:,0], features_embedded[:,1], s=30, c=y_labeled_train, cmap=plt.get_cmap('tab10'))\n",
    "plt.scatter(features_embedded[:,0], features_embedded[:,1], s=0.2)\n",
    "# plt.scatter(features_embedded[:,0], features_embedded[:,1], c=labels[labels!=3])\n",
    "# plt.scatter(features_embedded[:,0], features_embedded[:,1], c=y_val)\n",
    "# plt.scatter(features_embedded[:,4], features_embedded[:,5], c=y_train)\n",
    "# plt.scatter(features_embedded[:,11], features[:,43].cpu(), c=y_train)\n"
   ]
  },
  {
   "cell_type": "code",
   "execution_count": null,
   "metadata": {
    "id": "UwFf2BsVDB00"
   },
   "outputs": [],
   "source": [
    "plt.figure()\n",
    "plt.imshow(features_train.cpu().detach(), aspect='auto', interpolation='antialiased')"
   ]
  },
  {
   "cell_type": "code",
   "execution_count": null,
   "metadata": {
    "id": "SARf-u1K28d4"
   },
   "outputs": [],
   "source": [
    "plt.figure()\n",
    "plt.plot(evr)\n",
    "# plt.yscale('log')"
   ]
  },
  {
   "cell_type": "code",
   "execution_count": null,
   "metadata": {
    "id": "SARf-u1K28d4"
   },
   "outputs": [],
   "source": [
    "plt.figure()\n",
    "plt.plot(evr)\n",
    "# plt.yscale('log')"
   ]
  },
  {
   "cell_type": "code",
   "execution_count": null,
   "metadata": {
    "id": "SARf-u1K28d4"
   },
   "outputs": [],
   "source": [
    "plt.figure()\n",
    "plt.plot(evr)\n",
    "# plt.yscale('log')"
   ]
  },
  {
   "cell_type": "code",
   "execution_count": null,
   "metadata": {
    "id": "SARf-u1K28d4"
   },
   "outputs": [],
   "source": [
    "plt.figure()\n",
    "plt.plot(evr)\n",
    "# plt.yscale('log')"
   ]
  },
  {
   "cell_type": "markdown",
   "metadata": {
    "id": "RiHXPapkDB00"
   },
   "source": [
    "## Check filters"
   ]
  },
  {
   "cell_type": "code",
   "execution_count": null,
   "metadata": {
    "id": "2aBVd9FTDB00"
   },
   "outputs": [],
   "source": [
    "list(model.state_dict().keys())"
   ]
  },
  {
   "cell_type": "code",
   "execution_count": null,
   "metadata": {
    "id": "dK_-Xu9EDB01"
   },
   "outputs": [],
   "source": [
    "layer_1 = model.state_dict()['base_model.0.weight'].cpu()\n",
    "layer_2 = model.state_dict()['base_model.4.0.conv1.weight'].cpu()\n",
    "layer_3 = model.state_dict()['base_model.7.0.conv1.weight'].cpu()\n",
    "layer_4 = model.state_dict()['base_model.7.1.conv2.weight'].cpu()\n",
    "\n",
    "plt.figure()\n",
    "for ii in range(layer_1.shape[1]):\n",
    "    for jj in range(layer_1.shape[0]):\n",
    "        plt.subplot2grid((layer_1.shape[1],layer_1.shape[0]),(ii,jj))\n",
    "        fig = plt.imshow(layer_1[jj,ii,:,:] , clim=(-0.2,0.2))\n",
    "        fig.axes.get_xaxis().set_visible(False)\n",
    "        fig.axes.get_yaxis().set_visible(False)\n",
    "\n",
    "plt.figure()\n",
    "for ii in range(16):\n",
    "    for jj in range(16):\n",
    "        plt.subplot2grid((16,16),(ii,jj))\n",
    "        fig = plt.imshow(layer_2[jj,ii,:,:], clim=(-.05,.05))\n",
    "        fig.axes.get_xaxis().set_visible(False)\n",
    "        fig.axes.get_yaxis().set_visible(False)\n",
    "\n",
    "plt.figure()\n",
    "for ii in range(16):\n",
    "    for jj in range(16):\n",
    "        plt.subplot2grid((16,16),(ii,jj))\n",
    "        fig = plt.imshow(layer_3[jj, ii,:,:], clim=(-.1,.1))\n",
    "        fig.axes.get_xaxis().set_visible(False)\n",
    "        fig.axes.get_yaxis().set_visible(False)\n",
    "        \n",
    "plt.figure()\n",
    "for ii in range(16):\n",
    "    for jj in range(16):\n",
    "        plt.subplot2grid((16,16),(ii,jj))\n",
    "        fig = plt.imshow(layer_4[jj, ii,:,:], clim=(-.1,.1))\n",
    "        fig.axes.get_xaxis().set_visible(False)\n",
    "        fig.axes.get_yaxis().set_visible(False)"
   ]
  },
  {
   "cell_type": "code",
   "execution_count": null,
   "metadata": {
    "id": "FGiz2fHFDB01"
   },
   "outputs": [],
   "source": []
  },
  {
   "cell_type": "code",
   "execution_count": null,
   "metadata": {
    "id": "mwJQBUhpDB01"
   },
   "outputs": [],
   "source": [
    "# torch.save(model.state_dict(), '/media/rich/bigSSD/Net_trainedOnAug_20211025_trainingSet_mouse628_20200903and20200815_simCLR.pth')"
   ]
  },
  {
   "cell_type": "code",
   "execution_count": null,
   "metadata": {
    "id": "1grXld0IDB01"
   },
   "outputs": [],
   "source": [
    "# model = Net()\n",
    "# model.load_state_dict(torch.load('test_save.pth'))\n",
    "# model.eval()"
   ]
  },
  {
   "cell_type": "code",
   "execution_count": null,
   "metadata": {
    "id": "quqNFL1jDB01"
   },
   "outputs": [],
   "source": []
  },
  {
   "cell_type": "code",
   "execution_count": null,
   "metadata": {},
   "outputs": [],
   "source": []
  },
  {
   "cell_type": "code",
   "execution_count": null,
   "metadata": {},
   "outputs": [],
   "source": []
  },
  {
   "cell_type": "code",
   "execution_count": null,
   "metadata": {},
   "outputs": [],
   "source": []
  },
  {
   "cell_type": "markdown",
   "metadata": {},
   "source": [
    "# Graveyard"
   ]
  },
  {
   "cell_type": "code",
   "execution_count": null,
   "metadata": {
    "colab": {
     "base_uri": "https://localhost:8080/"
    },
    "id": "rvDiVxDICXEn",
    "outputId": "2c29e3cf-4515-4aae-f0b1-22e30d51fa5f"
   },
   "outputs": [],
   "source": [
    "data_unlabeled = torch.as_tensor(masks_cat, dtype=torch.float32, device='cpu')\n",
    "\n",
    "model.to(DEVICE)\n",
    "\n",
    "# penalized_params = list(model.modules())[-1].parameters()\n",
    "# penalized_params = torch.cat([_.view(-1) for _ in penalized_params], -1)\n",
    "\n",
    "early_stopping = 50\n",
    "prv_best_val = np.inf\n",
    "early_stopping_cnt = 0\n",
    "\n",
    "l2_alpha = 0.1\n",
    "\n",
    "n_epochs=300000\n",
    "for epoch in range(n_epochs):\n",
    "    print(f'epoch: {epoch}')\n",
    "#     loss_rolling_train, loss_rolling_val = training_supervised.epoch_step(dataloader_train, \n",
    "#                                     model, \n",
    "#                                     optimizer, \n",
    "#                                     criterion, \n",
    "\n",
    "#                                     penalized_params, l2_alpha,\n",
    "\n",
    "#                                     scheduler=scheduler,\n",
    "#                                     loss_rolling_train=losses_train, \n",
    "#                                     device=DEVICE, \n",
    "#                                     loss_rolling_val=losses_val,\n",
    "#                                     verbose=2,\n",
    "#                                     verbose_update_period=100,\n",
    "                                   \n",
    "#                                     do_validation=True,\n",
    "#                                     X_val=x_feed_through_val,\n",
    "#                                     y_val=torch.as_tensor(y_val, device=DEVICE)\n",
    "#                                    )\n",
    "    \n",
    "    loss_rolling_train, loss_rolling_val = training_simCLR.epoch_step(dataloader_train, \n",
    "                                    model, \n",
    "                                    optimizer, \n",
    "                                    criterion, \n",
    "\n",
    "                                    # penalized_params, l2_alpha,\n",
    "\n",
    "                                    scheduler=scheduler,\n",
    "                                    loss_rolling_train=losses_train, \n",
    "                                    device=DEVICE, \n",
    "                                    loss_rolling_val=losses_val,\n",
    "                                    verbose=2,\n",
    "                                    verbose_update_period=100,\n",
    "                                   \n",
    "                                    do_validation=True,\n",
    "                                    X_val=x_feed_through_val,\n",
    "                                    y_val=torch.as_tensor(y_val, device=DEVICE)\n",
    "                                   )\n",
    "    \n",
    "    \n",
    "    if early_stopping:\n",
    "      if len(loss_rolling_val) > 0:\n",
    "        if loss_rolling_val[-1] < prv_best_val:\n",
    "          early_stopping_cnt = 0\n",
    "          prv_best_val = loss_rolling_val[-1]\n",
    "          torch.save(model.state_dict(), f'{base_dir}/github_repos/GCaMP_ROI_classifier/new_stuff/models/checkpoints/checkpoint.pth')\n",
    "        else:\n",
    "          early_stopping_cnt += 1\n",
    "    \n",
    "      if early_stopping_cnt >= early_stopping:\n",
    "        model.load_state_dict(torch.load(f'{base_dir}/github_repos/GCaMP_ROI_classifier/new_stuff/models/checkpoints/checkpoint.pth'))\n",
    "        break\n",
    "    \n",
    "    # torch_helpers.show_all_tensors(globals())\n",
    "    \n",
    "    features_train = model(x_feed_through_tr)\n",
    "    features_train = features_train.cpu().detach().numpy()\n",
    "    features_val = model(x_feed_through_val)\n",
    "    features_val = features_val.cpu().detach().numpy()\n",
    "    # y_hat = scipy.special.softmax(features_val, axis=-1) # logreg.predict_proba(features_val)\n",
    "    \n",
    "    print('Training Confusion Matrix')\n",
    "    print(get_cm(features_train, y_train))\n",
    "    print()\n",
    "    print(logistic_pred_train)\n",
    "\n",
    "    print()\n",
    "    print()\n",
    "\n",
    "    print('Val Confusion Matrix')\n",
    "    print(get_cm(features_val, y_val))\n",
    "    print()\n",
    "    print(logistic_pred_val)\n",
    "\n",
    "    # model.to(DEVICE)\n",
    "    print()\n",
    "    print()\n"
   ]
  },
  {
   "cell_type": "raw",
   "metadata": {
    "id": "E5EeUhzUDB0v"
   },
   "source": [
    "%matplotlib notebook\n",
    "\n",
    "logreg = LogisticRegression(solver='liblinear', max_iter=30)\n",
    "# logreg_predict_head = LogisticRegression(solver='liblinear')\n",
    "dataset_train.classification_model = None\n",
    "\n",
    "\n",
    "\n",
    "# scheduler = torch.optim.lr_scheduler.ExponentialLR(optimizer,\n",
    "#                                                    gamma=1-0.001,\n",
    "# #                                                    gamma=1,\n",
    "#                                                   )\n",
    "n_epochs=300000\n",
    "for epoch in range(n_epochs):\n",
    "    print(f'epoch: {epoch}')\n",
    "\n",
    "    model.prep_contrast()\n",
    "    training_simCLR.epoch_step( dataloader_train, \n",
    "                                model, \n",
    "                                optimizer, \n",
    "                                criterion,\n",
    "                                scheduler=scheduler, \n",
    "                                temperature=0.5,\n",
    "                                loss_rolling_train=losses_train, \n",
    "                                device=DEVICE, \n",
    "                                do_validation=False,\n",
    "#                                 validation_Object=val_obj,\n",
    "                                loss_rolling_val=losses_val,\n",
    "                                verbose=2,\n",
    "                                verbose_update_period=100,\n",
    "                               )\n",
    "    \n",
    "\n",
    "    model.prep_classifier()\n",
    "\n",
    "    # print(util.tile_channels(torch.as_tensor(X_labeled_train[:,None,...], device=DEVICE, dtype=torch.float32), dim=1).shape)\n",
    "\n",
    "    features_train = model.get_head(model.base_model(util.tile_channels(torch.as_tensor(X_labeled_train[:,None,...], device=DEVICE, dtype=torch.float32), dim=1))).detach().cpu()\n",
    "    # features_train = model(util.tile_channels(torch.as_tensor(X_labeled_train[:,None,...], device=DEVICE, dtype=torch.float32), dim=1)).detach().cpu()\n",
    "    # features_train = model(torch.as_tensor(X_labeled_train, device=DEVICE, dtype=torch.float32)[:,None,...]).detach().cpu()\n",
    "    # features = model(torch.tensor(X_train[y_train != 3], device=DEVICE, dtype=torch.float32)[:,None,...]).detach().cpu()\n",
    "    \n",
    "    tic = time.time()\n",
    "    logreg.fit(features_train, y_labeled_train)\n",
    "    print(time.time() - tic)\n",
    "    acc.append(logreg.score(features_train, y_labeled_train))\n",
    "    print(f'acc: {acc[-1]}')\n",
    "    \n",
    "    dataset_train.net_model = copy.deepcopy(model).to('cpu')\n",
    "    dataset_train.classification_model = logreg\n",
    "    \n",
    "\n",
    "#     sample_id_num = np.arange(X_labeled_val.shape[0])\n",
    "#     epoch_val = epoch\n",
    "#     batch_val = -1\n",
    "#     p_tmp = logreg.predict_proba(model(torch.as_tensor(util.tile_channels(X_labeled_val), device=DEVICE, dtype=torch.float32)).detach().cpu())\n",
    "#     logits = p_tmp\n",
    "#     # logits = np.log(1/(1/p_tmp - 1))\n",
    "\n",
    "#     col_vals = [sample_id_num, epoch_val, batch_val, y_labeled_val]\n",
    "#     setup = np.empty((len(sample_id_num), len(col_vals)))\n",
    "#     for icv, col_val in enumerate(col_vals):\n",
    "#       setup[:, icv] = col_val\n",
    "#     tmp_tracking_np = np.concatenate([setup, logits], axis=1)\n",
    "\n",
    "#     tmp_tracking_df = pd.DataFrame(tmp_tracking_np, index=sample_id_num, columns=tracking_df_cols + [f'logits_{i}' for i in range(logits.shape[1])])\n",
    "#     tracking_df = tracking_df.append(tmp_tracking_df, ignore_index=True)\n",
    "#     display(tracking_df)\n",
    "\n",
    "\n",
    "    \n",
    "    features_val = model.get_head(model.base_model(util.tile_channels(torch.as_tensor(X_labeled_val[:,None,...], device=DEVICE, dtype=torch.float32), dim=1))).detach().cpu()\n",
    "\n",
    "\n",
    "    # logreg_predict_head.fit(features_train, y_labeled_train)\n",
    "    # y_hat = logreg_predict_head.predict_proba(features_val)\n",
    "\n",
    "    y_hat = logreg.predict_proba(features_val)\n",
    "    \n",
    "    cm = classification.confusion_matrix(y_hat, y_labeled_val)\n",
    "#     plt.figure()\n",
    "#     plt.imshow(cm)\n",
    "#     plt.colorbar()\n",
    "#     plt.show()\n",
    "    print(cm)\n",
    "\n",
    "\n",
    "    # tracking_df = tracking_df.append(pd.DataFrame([np.array([100, 0, 0, 0])], index=tracking_df_cols), ignore_index=True)\n",
    "    \n",
    "    # model predict\n",
    "    # Update model in DS\n",
    "    # get item calls model for each sample\n",
    "    # output\n",
    "    # X sample weights predictions\n",
    "    \n",
    "#     classHead.fit(X_train[:, None, :, :], y_train, solver='liblinear')\n",
    "    \n",
    "#     proba = classHead.predict_proba(X_train[:, None, :, :])\n",
    "#     class_weights = proba.sum(axis=0)\n",
    "#     total_num = class_weights.sum()\n",
    "    \n",
    "#     eps = 1e-4\n",
    "    \n",
    "#     class_weights[class_weights <= 3] = total_num\n",
    "#     weightings = class_weights.sum()/class_weights\n",
    "#     final_weights = weightings / weightings.sum()\n",
    "#     final_weights = np.array([1/proba.shape[1] for _ in range(proba.shape[1])])\n",
    "    \n",
    "#     print(class_weights)\n",
    "\n",
    "#     dataset_train.set_classweights(final_weights)\n",
    "    \n",
    "#     print('dataset_train.final_weights', dataset_train.class_weights)\n"
   ]
  }
 ],
 "metadata": {
  "accelerator": "GPU",
  "colab": {
   "collapsed_sections": [],
   "machine_shape": "hm",
   "name": "ROIClassifier_TRAIN_20211201_JZ_supervised-comparison5.ipynb",
   "provenance": []
  },
  "kernelspec": {
   "display_name": "Python 3",
   "language": "python",
   "name": "python3"
  },
  "language_info": {
   "codemirror_mode": {
    "name": "ipython",
    "version": 3
   },
   "file_extension": ".py",
   "mimetype": "text/x-python",
   "name": "python",
   "nbconvert_exporter": "python",
   "pygments_lexer": "ipython3",
   "version": "3.8.12"
  },
  "varInspector": {
   "cols": {
    "lenName": 16,
    "lenType": 16,
    "lenVar": 40
   },
   "kernels_config": {
    "python": {
     "delete_cmd_postfix": "",
     "delete_cmd_prefix": "del ",
     "library": "var_list.py",
     "varRefreshCmd": "print(var_dic_list())"
    },
    "r": {
     "delete_cmd_postfix": ") ",
     "delete_cmd_prefix": "rm(",
     "library": "var_list.r",
     "varRefreshCmd": "cat(var_dic_list()) "
    }
   },
   "position": {
    "height": "943px",
    "left": "1381px",
    "right": "20px",
    "top": "106px",
    "width": "501px"
   },
   "types_to_exclude": [
    "module",
    "function",
    "builtin_function_or_method",
    "instance",
    "_Feature"
   ],
   "window_display": true
  }
 },
 "nbformat": 4,
 "nbformat_minor": 4
}
