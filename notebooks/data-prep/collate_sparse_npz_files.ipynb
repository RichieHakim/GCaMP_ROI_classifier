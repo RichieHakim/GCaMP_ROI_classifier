{
 "cells": [
  {
   "cell_type": "code",
   "execution_count": 1,
   "id": "8147396a",
   "metadata": {},
   "outputs": [
    {
     "data": {
      "text/html": [
       "<style>.container {width:95% !important; }</style>"
      ],
      "text/plain": [
       "<IPython.core.display.HTML object>"
      ]
     },
     "metadata": {},
     "output_type": "display_data"
    },
    {
     "name": "stdout",
     "output_type": "stream",
     "text": [
      "Conda Environment: rapids-21.12\n"
     ]
    }
   ],
   "source": [
    "# widen jupyter notebook window\n",
    "from IPython.display import display, HTML\n",
    "display(HTML(\"<style>.container {width:95% !important; }</style>\"))\n",
    "\n",
    "# check environment\n",
    "import os\n",
    "print(f'Conda Environment: ' + os.environ['CONDA_DEFAULT_ENV'])"
   ]
  },
  {
   "cell_type": "code",
   "execution_count": 2,
   "id": "6f3ee09d",
   "metadata": {},
   "outputs": [],
   "source": [
    "import sys\n",
    "\n",
    "dir_github = r'/media/rich/Home_Linux_partition/github_repos/'\n",
    "# sys.path.append('/n/data1/hms/neurobio/sabatini/rich/github_repos/')\n",
    "sys.path.append(dir_github)\n",
    "\n",
    "%load_ext autoreload\n",
    "%autoreload 2\n",
    "from basic_neural_processing_modules import *"
   ]
  },
  {
   "cell_type": "code",
   "execution_count": 26,
   "id": "66e689f4",
   "metadata": {},
   "outputs": [],
   "source": [
    "from pathlib import Path\n",
    "import scipy.sparse\n",
    "import numpy as np\n",
    "from tqdm.notebook import tqdm\n",
    "import matplotlib.pyplot as plt"
   ]
  },
  {
   "cell_type": "raw",
   "id": "127111ee",
   "metadata": {},
   "source": [
    "import scipy.io\n",
    "import numpy as np\n",
    "import matplotlib.pyplot as plt\n",
    "import copy\n",
    "from tqdm.notebook import tqdm\n",
    "from functools import partial"
   ]
  },
  {
   "cell_type": "code",
   "execution_count": 4,
   "id": "6a7f4439",
   "metadata": {},
   "outputs": [],
   "source": [
    "dir_search = Path('/media/rich/bigSSD/other lab data').resolve()"
   ]
  },
  {
   "cell_type": "code",
   "execution_count": 5,
   "id": "f2d90838",
   "metadata": {},
   "outputs": [],
   "source": [
    "paths_sf_npz = list(dir_search.glob('**/*sf*.npz'))"
   ]
  },
  {
   "cell_type": "code",
   "execution_count": 7,
   "id": "d0e34b9c",
   "metadata": {},
   "outputs": [
    {
     "data": {
      "text/plain": [
       "[PosixPath('/media/rich/bigSSD/other lab data/Andermann_lab/Nghia_ROIs/sf_concat_rs_sparse.npz'),\n",
       " PosixPath('/media/rich/bigSSD/other lab data/Andermann_lab/Oren_ROIs/sf_concat_rs_sparse.npz'),\n",
       " PosixPath('/media/rich/bigSSD/other lab data/Harnett_lab/ROI_Tracking/sf_concat_rs_sparse.npz'),\n",
       " PosixPath('/media/rich/bigSSD/other lab data/Harvey_lab_ROIs/Noah_statFiles/sf_concat_rs_sparse.npz'),\n",
       " PosixPath('/media/rich/bigSSD/other lab data/Harvey_lab_ROIs/ShihYi labeled_cells_for_Rich/sf_concat_rs_sparse.npz'),\n",
       " PosixPath('/media/rich/bigSSD/other lab data/Ian_ROIs/sf_concat_rs_sparse.npz'),\n",
       " PosixPath('/media/rich/bigSSD/other lab data/my_ROI_stuff/sf_concat_rs_sparse.npz'),\n",
       " PosixPath('/media/rich/bigSSD/other lab data/Packer_lab/sf_concat_rs_sparse.npz'),\n",
       " PosixPath('/media/rich/bigSSD/other lab data/Priya/ROIs/sf_concat_rs_sparse.npz'),\n",
       " PosixPath('/media/rich/bigSSD/other lab data/SW_lab/sf_concat_rs_sparse.npz'),\n",
       " PosixPath('/media/rich/bigSSD/other lab data/Takesian_lab/sf_concat_all_sparse.npz')]"
      ]
     },
     "execution_count": 7,
     "metadata": {},
     "output_type": "execute_result"
    }
   ],
   "source": [
    "paths_sf_npz"
   ]
  },
  {
   "cell_type": "code",
   "execution_count": 10,
   "id": "c893b45e",
   "metadata": {},
   "outputs": [
    {
     "data": {
      "application/vnd.jupyter.widget-view+json": {
       "model_id": "dc78bf60827e4eedbeb2eee4369c21b7",
       "version_major": 2,
       "version_minor": 0
      },
      "text/plain": [
       "  0%|          | 0/11 [00:00<?, ?it/s]"
      ]
     },
     "metadata": {},
     "output_type": "display_data"
    }
   ],
   "source": [
    "sfs_sparse = [scipy.sparse.load_npz(path) for path in tqdm(paths_sf_npz)]"
   ]
  },
  {
   "cell_type": "code",
   "execution_count": 11,
   "id": "5464a249",
   "metadata": {},
   "outputs": [],
   "source": [
    "sfs_sparse_cat = scipy.sparse.vstack(sfs_sparse)"
   ]
  },
  {
   "cell_type": "code",
   "execution_count": 12,
   "id": "f30ec3e8",
   "metadata": {},
   "outputs": [
    {
     "data": {
      "text/plain": [
       "<3094029x1296 sparse matrix of type '<class 'numpy.float32'>'\n",
       "\twith 434997705 stored elements in Compressed Sparse Row format>"
      ]
     },
     "execution_count": 12,
     "metadata": {},
     "output_type": "execute_result"
    }
   ],
   "source": [
    "sfs_sparse_cat"
   ]
  },
  {
   "cell_type": "code",
   "execution_count": 13,
   "id": "723e9200",
   "metadata": {},
   "outputs": [],
   "source": [
    "scipy.sparse.save_npz(r'/media/rich/bigSSD/analysis_data/ROIs_for_training/sf_sparse_36x36_20220503.npz', sfs_sparse_cat)"
   ]
  },
  {
   "cell_type": "code",
   "execution_count": null,
   "id": "ffcbd20d",
   "metadata": {},
   "outputs": [],
   "source": []
  },
  {
   "cell_type": "code",
   "execution_count": null,
   "id": "5bb94019",
   "metadata": {},
   "outputs": [],
   "source": []
  },
  {
   "cell_type": "code",
   "execution_count": null,
   "id": "6bc5276c",
   "metadata": {},
   "outputs": [],
   "source": []
  },
  {
   "cell_type": "code",
   "execution_count": null,
   "id": "bbe69278",
   "metadata": {},
   "outputs": [],
   "source": []
  }
 ],
 "metadata": {
  "kernelspec": {
   "display_name": "Python 3 (ipykernel)",
   "language": "python",
   "name": "python3"
  },
  "language_info": {
   "codemirror_mode": {
    "name": "ipython",
    "version": 3
   },
   "file_extension": ".py",
   "mimetype": "text/x-python",
   "name": "python",
   "nbconvert_exporter": "python",
   "pygments_lexer": "ipython3",
   "version": "3.8.12"
  }
 },
 "nbformat": 4,
 "nbformat_minor": 5
}
