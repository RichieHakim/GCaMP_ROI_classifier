{
 "cells": [
  {
   "cell_type": "code",
   "execution_count": 5,
   "id": "21b068c5",
   "metadata": {},
   "outputs": [],
   "source": [
    "with open('/media/rich/bigSSD/test.txt', mode='a') as test:\n",
    "    for ii in range(4):\n",
    "        test.write('ugh \\n')"
   ]
  },
  {
   "cell_type": "code",
   "execution_count": null,
   "id": "7239310f",
   "metadata": {},
   "outputs": [],
   "source": []
  }
 ],
 "metadata": {
  "kernelspec": {
   "display_name": "Python 3 (ipykernel)",
   "language": "python",
   "name": "python3"
  },
  "language_info": {
   "codemirror_mode": {
    "name": "ipython",
    "version": 3
   },
   "file_extension": ".py",
   "mimetype": "text/x-python",
   "name": "python",
   "nbconvert_exporter": "python",
   "pygments_lexer": "ipython3",
   "version": "3.8.12"
  }
 },
 "nbformat": 4,
 "nbformat_minor": 5
}
