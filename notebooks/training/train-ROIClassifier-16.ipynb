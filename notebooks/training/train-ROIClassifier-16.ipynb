{
 "cells": [
  {
   "cell_type": "code",
   "execution_count": 1,
   "metadata": {
    "colab": {
     "base_uri": "https://localhost:8080/",
     "height": 17
    },
    "id": "S3q3I42jDB0f",
    "outputId": "3ad88a07-0e8b-474f-b0d8-9fb6c2a99f0c"
   },
   "outputs": [
    {
     "name": "stderr",
     "output_type": "stream",
     "text": [
      "/tmp/ipykernel_13211/1226147920.py:1: DeprecationWarning: Importing display from IPython.core.display is deprecated since IPython 7.14, please import from IPython display\n",
      "  from IPython.core.display import display, HTML\n"
     ]
    },
    {
     "data": {
      "text/html": [
       "<style>.container { width:95% !important; }</style>"
      ],
      "text/plain": [
       "<IPython.core.display.HTML object>"
      ]
     },
     "metadata": {},
     "output_type": "display_data"
    }
   ],
   "source": [
    "from IPython.core.display import display, HTML\n",
    "display(HTML(\"<style>.container { width:95% !important; }</style>\"))"
   ]
  },
  {
   "cell_type": "raw",
   "metadata": {
    "id": "PUUWS0VmwD7-"
   },
   "source": [
    "# !source activate jupyter_launcher\n",
    "!pip3 install numba\n",
    "!pip3 install matplotlib\n",
    "!pip3 install scipy\n",
    "!pip3 install torch\n",
    "!pip3 install torchvision\n",
    "!pip3 install sklearn\n",
    "!pip3 install pycuda\n",
    "!pip3 install tqdm\n",
    "!pip3 install seaborn\n",
    "!pip3 install h5py\n",
    "!pip3 install hdfdict\n",
    "!pip3 install ipywidgets\n",
    "!pip3 install numpy==1.20"
   ]
  },
  {
   "cell_type": "code",
   "execution_count": 2,
   "metadata": {},
   "outputs": [
    {
     "data": {
      "text/plain": [
       "'/home/joz608/.conda/envs/grc/bin/python3.8'"
      ]
     },
     "execution_count": 2,
     "metadata": {},
     "output_type": "execute_result"
    }
   ],
   "source": [
    "import sys\n",
    "sys.executable"
   ]
  },
  {
   "cell_type": "code",
   "execution_count": null,
   "metadata": {},
   "outputs": [],
   "source": []
  },
  {
   "cell_type": "code",
   "execution_count": null,
   "metadata": {},
   "outputs": [],
   "source": []
  },
  {
   "cell_type": "code",
   "execution_count": 3,
   "metadata": {
    "id": "eTIgCGQsDB0i"
   },
   "outputs": [],
   "source": [
    "import sys\n",
    "import os\n",
    "import copy\n",
    "import pathlib\n",
    "import time\n",
    "import gc\n",
    "\n",
    "from tqdm import tqdm, trange\n",
    "# from tqdm import trange\n",
    "\n",
    "import numpy as np\n",
    "import pandas as pd\n",
    "import matplotlib.pyplot as plt\n",
    "import seaborn as sns\n",
    "import scipy\n",
    "\n",
    "import torch\n",
    "import torchvision\n",
    "import torchvision.transforms as transforms\n",
    "\n",
    "# import cuml\n",
    "\n",
    "# for creating validation set\n",
    "import sklearn\n",
    "from sklearn.model_selection import train_test_split\n",
    "\n",
    "%matplotlib inline\n",
    "# %matplotlib inline\n",
    "# %matplotlib inline\n",
    "# %matplotlib qt"
   ]
  },
  {
   "cell_type": "code",
   "execution_count": 4,
   "metadata": {
    "id": "MZ9Hq6SVvves"
   },
   "outputs": [],
   "source": [
    "# base_dir = '/n/data1/hms/neurobio/sabatini/josh'"
   ]
  },
  {
   "cell_type": "code",
   "execution_count": 5,
   "metadata": {
    "id": "9w3t_mtdDB0j"
   },
   "outputs": [],
   "source": [
    "import sys\n",
    "\n",
    "# base_dir = '/Users/josh/Documents'\n",
    "base_dir = '../../../..'\n",
    "sys.path.append(f'{base_dir}/github_repos')\n",
    "# data_folder = f'../../data/final'\n",
    "data_folder = f'../../data/training'\n",
    "simclr_model_folder = f'../../models/simclr-modelsn'\n",
    "model_performance_folder = f'../../reports/model-performance'\n",
    "# sys.path.append(f'/media/rich/Home_Linux_partition/github_repos')\n",
    "# dir_folders = r'/media/rich/bigSSD/for_Josh/GCAMP_ROI_Classifier_data/label_data'\n",
    "# dir_folders = r'/users/Josh/Documents/Harvard/label_data'\n",
    "\n",
    "%load_ext autoreload\n",
    "%autoreload 2\n",
    "from basic_neural_processing_modules import torch_helpers, math_functions, classification, h5_handling, plotting_helpers, indexing, misc, decomposition\n",
    "\n",
    "# Must \"pip install -e . in root project directory for this to work\"\n",
    "from GCaMP_ROI_classifier import util, dataset, models, training, augmentation"
   ]
  },
  {
   "cell_type": "code",
   "execution_count": 6,
   "metadata": {},
   "outputs": [],
   "source": [
    "# !pip install numba\n",
    "# !pip install copy\n",
    "# !pip install scipy\n"
   ]
  },
  {
   "cell_type": "markdown",
   "metadata": {
    "id": "hTqZzmpJDB0j"
   },
   "source": [
    "## Import unlabeled training data"
   ]
  },
  {
   "cell_type": "code",
   "execution_count": 7,
   "metadata": {},
   "outputs": [],
   "source": [
    "# data_unlabeled = h5_handling.simple_load(path=r'/media/rich/bigSSD/for_Josh/GCAMP_ROI_Classifier_data/masks_20211202_balanced.h5')\n",
    "data_unlabeled = h5_handling.simple_load(path=f'{data_folder}/masks_20211202_balanced.h5')\n",
    "\n",
    "masks_cat_raw = torch.as_tensor(np.concatenate((data_unlabeled['SYTmasks'], data_unlabeled['NPmasks'], data_unlabeled['RHmasks']), axis=0), dtype=torch.float32, device='cpu')"
   ]
  },
  {
   "cell_type": "code",
   "execution_count": 8,
   "metadata": {},
   "outputs": [],
   "source": [
    "# data_labeled = h5_handling.simple_load(path=r'/media/rich/bigSSD/for_Josh/GCAMP_ROI_Classifier_data/masks_20211202_unbalanced.h5')\n",
    "\n",
    "data_labeled = h5_handling.simple_load(path=f'{data_folder}/masks_20211202_unbalanced.h5')\n",
    "\n",
    "masks_SYT = data_labeled['SYTmasks']\n",
    "labels_SYT = classification.squeeze_integers(data_labeled['SYTlabels'])\n",
    "\n",
    "nan_lst = np.concatenate(np.where(np.isnan(masks_SYT).sum(axis=-1).sum(axis=-1)))\n",
    "non_nan = [_ for _ in range(masks_SYT.shape[0]) if _ not in nan_lst]\n",
    "labels_SYT = labels_SYT[non_nan]\n",
    "masks_SYT = masks_SYT[non_nan]\n",
    "\n",
    "X_labeled_train_SYT, X_labeled_val_SYT, y_labeled_train_SYT, y_labeled_val_SYT = train_test_split(masks_SYT, labels_SYT, test_size = 0.2)"
   ]
  },
  {
   "cell_type": "markdown",
   "metadata": {},
   "source": [
    "toss any NaNs"
   ]
  },
  {
   "cell_type": "code",
   "execution_count": 9,
   "metadata": {},
   "outputs": [
    {
     "name": "stdout",
     "output_type": "stream",
     "text": [
      "Number of masks: torch.Size([711808, 36, 36])\n",
      "Number of masks: torch.Size([711807, 36, 36])\n"
     ]
    }
   ],
   "source": [
    "print(f'Number of masks: {masks_cat_raw.shape}')\n",
    "\n",
    "ROIs_without_NaNs = torch.where(~torch.any(torch.any(torch.isnan(masks_cat_raw), dim=1), dim=1))[0]\n",
    "masks_cat = masks_cat_raw[ROIs_without_NaNs]\n",
    "\n",
    "print(f'Number of masks: {masks_cat.shape}')"
   ]
  },
  {
   "cell_type": "markdown",
   "metadata": {
    "id": "hTqZzmpJDB0j"
   },
   "source": [
    "## Import labeled training data"
   ]
  },
  {
   "cell_type": "code",
   "execution_count": 10,
   "metadata": {
    "colab": {
     "base_uri": "https://localhost:8080/",
     "height": 1000
    },
    "id": "S8AO_lypDB0o",
    "outputId": "4edfd739-a0b7-4789-aea1-4a9f6c2665c8"
   },
   "outputs": [
    {
     "name": "stdout",
     "output_type": "stream",
     "text": [
      "concatenated images shape: (9715, 32, 32)\n"
     ]
    },
    {
     "data": {
      "image/png": "[encoded data removed]",
      "text/plain": [
       "<Figure size 432x288 with 1 Axes>"
      ]
     },
     "metadata": {
      "needs_background": "light"
     },
     "output_type": "display_data"
    },
    {
     "data": {
      "image/png": "[encoded data removed]",
      "text/plain": [
       "<Figure size 432x288 with 1 Axes>"
      ]
     },
     "metadata": {
      "needs_background": "light"
     },
     "output_type": "display_data"
    },
    {
     "data": {
      "image/png": "[encoded data removed]",
      "text/plain": [
       "<Figure size 432x288 with 1 Axes>"
      ]
     },
     "metadata": {
      "needs_background": "light"
     },
     "output_type": "display_data"
    },
    {
     "data": {
      "image/png": "[encoded data removed]",
      "text/plain": [
       "<Figure size 432x288 with 1 Axes>"
      ]
     },
     "metadata": {
      "needs_background": "light"
     },
     "output_type": "display_data"
    }
   ],
   "source": [
    "folders = [r'mouse 6_28 _ day 20200903/',\n",
    "             r'mouse6_28 _ day20200815/']\n",
    "fileNames_statFiles = [r'stat.npy']*len(folders)\n",
    "paths_statFiles = [pathlib.Path(data_folder) / folders[ii] / fileNames_statFiles[ii] for ii in range(len(folders))]\n",
    "\n",
    "sf_all = util.import_multiple_stat_files(   paths_statFiles=paths_statFiles,\n",
    "                                            fileNames_statFiles=fileNames_statFiles,\n",
    "                                            out_height_width=[32,32],\n",
    "                                            max_footprint_width=241,\n",
    "                                            plot_pref=True)\n",
    "images_labeled_raw = np.concatenate(sf_all, axis=0)\n",
    "images_labeled_raw = (images_labeled_raw / np.max(images_labeled_raw, axis=(1,2), keepdims=True)) * 1\n",
    "print(f'concatenated images shape: {images_labeled_raw.shape}')\n",
    "\n",
    "fileNames_labelFiles = ['labels_posthoc_filledIn_allCells.npy',\n",
    "             'labels_posthoc_all.npy']\n",
    "paths_labelFiles = [pathlib.Path(data_folder) / folders[ii] / fileNames_labelFiles[ii] for ii in range(len(folders))]\n",
    "\n",
    "labels_all = util.import_multiple_label_files(paths_labelFiles=paths_labelFiles,\n",
    "                                       plot_pref=True)\n",
    "labels_raw = np.concatenate(labels_all)\n",
    "\n",
    "assert np.alltrue([sf_all[ii].shape[0] == labels_all[ii].shape[0] for ii in range(len(sf_all))]) , 'num images in stat files does not correspond to num labels'"
   ]
  },
  {
   "cell_type": "code",
   "execution_count": 11,
   "metadata": {},
   "outputs": [
    {
     "data": {
      "image/png": "[encoded data removed]",
      "text/plain": [
       "<Figure size 432x288 with 100 Axes>"
      ]
     },
     "metadata": {
      "needs_background": "light"
     },
     "output_type": "display_data"
    }
   ],
   "source": [
    "%matplotlib inline\n",
    "\n",
    "plotting_helpers.plot_image_grid(images=images_labeled_raw,\n",
    "                                labels=None,\n",
    "                                grid_shape=(10,10), cmap=plt.get_cmap('gray'));"
   ]
  },
  {
   "cell_type": "code",
   "execution_count": 12,
   "metadata": {
    "id": "Ip1UMYy6DB0p"
   },
   "outputs": [],
   "source": [
    "labels = classification.squeeze_integers(labels_raw)\n",
    "images_labeled = images_labeled_raw[labels != 2]\n",
    "labels = labels[labels != 2]\n",
    "labels = classification.squeeze_integers(labels)"
   ]
  },
  {
   "cell_type": "markdown",
   "metadata": {
    "id": "UYh_wBqCDB0q"
   },
   "source": [
    "## Balance classes of inputs"
   ]
  },
  {
   "cell_type": "code",
   "execution_count": 13,
   "metadata": {
    "colab": {
     "base_uri": "https://localhost:8080/"
    },
    "id": "qn4Pu2cKDB0q",
    "outputId": "3afafb73-54a7-4e2d-8030-c0af6272cbe6"
   },
   "outputs": [
    {
     "name": "stdout",
     "output_type": "stream",
     "text": [
      "(9714, 32, 32)\n",
      "(9714,)\n",
      "532\n",
      "(2128, 32, 32)\n",
      "(2128,)\n",
      "532\n",
      "532\n",
      "532\n",
      "0\n",
      "0\n",
      "(2128, 32, 32)\n",
      "(2128,)\n"
     ]
    }
   ],
   "source": [
    "duplicates = 1\n",
    "balanced = True\n",
    "\n",
    "images_dup = np.tile(images_labeled , (duplicates , 1 , 1))\n",
    "labels_dup = np.tile(labels , (duplicates))\n",
    "\n",
    "print(images_dup.shape)\n",
    "print(labels_dup.shape)\n",
    "\n",
    "if balanced:\n",
    "    numToGetTo = np.sum(labels_dup==0)\n",
    "    print(numToGetTo)\n",
    "    for ii in np.array([1,2,3]):\n",
    "  #     idxToDelete = np.cumsum(labels_dup==ii) <= (np.sum(labels_dup==ii) - numToGetTo)\n",
    "        if ii==3:\n",
    "            numToGetTo = np.sum(labels_dup==0)/1\n",
    "        else:\n",
    "            numToGetTo = np.sum(labels_dup==0)\n",
    "\n",
    "        idxToDelete = (np.cumsum(labels_dup==ii) * (labels_dup==ii)) > numToGetTo\n",
    "        images_dup = images_dup[idxToDelete==0,:,:]\n",
    "        labels_dup = labels_dup[idxToDelete==0]\n",
    "\n",
    "\n",
    "\n",
    "\n",
    "\n",
    "print(images_dup.shape)\n",
    "print(labels_dup.shape)\n",
    "\n",
    "numToGetTo = np.sum(labels_dup==0)\n",
    "print(numToGetTo)\n",
    "\n",
    "print(np.sum(labels_dup==0))\n",
    "print(np.sum(labels_dup==1))\n",
    "print(np.sum(labels_dup==4))\n",
    "print(np.sum(labels_dup==5))\n",
    "print(images_dup.shape)\n",
    "print(labels_dup.shape)"
   ]
  },
  {
   "cell_type": "raw",
   "metadata": {
    "id": "NpMB08CYDB0q"
   },
   "source": [
    "# create validation set\n",
    "# X_train, X_val, y_train, y_val = train_test_split(images[:], labels[:], test_size = 0.15)\n",
    "X_train, X_val, y_train, y_val = train_test_split(images_dup[:], labels_dup[:], test_size = 0.15)\n",
    "(X_train.shape, y_train.shape), (X_val.shape, y_val.shape)"
   ]
  },
  {
   "cell_type": "code",
   "execution_count": 14,
   "metadata": {
    "colab": {
     "base_uri": "https://localhost:8080/"
    },
    "id": "fVA_Aa6rDB0q",
    "outputId": "15b9e55a-4881-40be-f06b-dec658fa55a7"
   },
   "outputs": [
    {
     "data": {
      "text/plain": [
       "(((1702, 32, 32), (1702,)), ((426, 32, 32), (426,)))"
      ]
     },
     "execution_count": 14,
     "metadata": {},
     "output_type": "execute_result"
    }
   ],
   "source": [
    "# create validation set\n",
    "\n",
    "###### REMOVE WITH ENOUGH RAM\n",
    "images = images_dup\n",
    "labels = labels_dup\n",
    "\n",
    "# X_labeled_train, X_labeled_val, y_labeled_train, y_labeled_val = train_test_split(images_dup, labels_dup, test_size = 0.3)\n",
    "X_labeled_train, X_labeled_val, y_labeled_train, y_labeled_val = train_test_split(images_dup, labels_dup, test_size = 0.2)\n",
    "# X_train, y_train = X_labeled_train, y_labeled_train\n",
    "\n",
    "# X_labeled_val, X_test, y_labeled_val, y_test = train_test_split(X_labeled_val, y_labeled_val, test_size = 0.5)\n",
    "X_val, X_test, y_val, y_test = train_test_split(X_labeled_val, y_labeled_val, test_size = 0.5)\n",
    "\n",
    "(X_labeled_train.shape, y_labeled_train.shape), (X_labeled_val.shape, y_labeled_val.shape)"
   ]
  },
  {
   "cell_type": "code",
   "execution_count": 15,
   "metadata": {
    "colab": {
     "base_uri": "https://localhost:8080/",
     "height": 265
    },
    "id": "mdJafJMMDB0r",
    "outputId": "2e8d00f6-32bf-4aeb-d02d-e10dcaaccfe3"
   },
   "outputs": [
    {
     "data": {
      "image/png": "[encoded data removed]",
      "text/plain": [
       "<Figure size 432x288 with 1 Axes>"
      ]
     },
     "metadata": {
      "needs_background": "light"
     },
     "output_type": "display_data"
    }
   ],
   "source": [
    "plt.figure()\n",
    "plt.hist(labels_dup, 20);"
   ]
  },
  {
   "cell_type": "code",
   "execution_count": 16,
   "metadata": {},
   "outputs": [
    {
     "data": {
      "text/plain": [
       "(2128, 32, 32)"
      ]
     },
     "execution_count": 16,
     "metadata": {},
     "output_type": "execute_result"
    }
   ],
   "source": [
    "images.shape"
   ]
  },
  {
   "cell_type": "code",
   "execution_count": null,
   "metadata": {
    "id": "XNxaCTbcDB0r"
   },
   "outputs": [],
   "source": []
  },
  {
   "cell_type": "raw",
   "metadata": {
    "id": "tz9Q8wYuDB0s"
   },
   "source": [
    "from sklearn.linear_model import LogisticRegression\n",
    "import sklearn.metrics\n",
    "\n",
    "def classification_step(X_train, y_train, X_test, model, model_device, temperature):\n",
    "    logreg = LogisticRegression()\n",
    "    features_train = model(torch.as_tensor(X_train, device=DEVICE, dtype=torch.float32)[:,None,...]).detach().cpu()\n",
    "    # features = model(torch.tensor(X_train[y_train != 3], device=DEVICE, dtype=torch.float32)[:,None,...]).detach().cpu()\n",
    "    logreg.fit(features_train, y_train)\n",
    "    # logreg.fit(features, y_train[y_train != 3])\n",
    "    \n",
    "    features_test = model(torch.as_tensor(X_test, device=DEVICE, dtype=torch.float32)[:,None,...]).detach().cpu()    \n",
    "    y_hat = logreg.predict_proba(features_test)\n",
    "    y_hat = torch.as_tensor(y_hat, dtype=torch.float32, device='cpu')\n",
    "    \n",
    "#     print(y_hat)\n",
    "    print(f'accuracy: {logreg.score(features, y):.5}')\n",
    "\n",
    "#     # cm = sklearn.metrics.confusion_matrix(idx_to_oneHot(y_train), y_hat, normalize='true')\n",
    "#     # cm = sklearn.metrics.confusion_matrix(idx_to_oneHot(y_train[y_train != 3]), y_hat, normalize='true')\n",
    "#     cm = rh_cm(y_hat, y)\n",
    "#     # cm = rh_cm(y_hat, y_train[y_train != 3])\n",
    "    \n",
    "    unc = util.loss_uncertainty(y_hat, temperature=temperature)\n",
    "\n",
    "#     plt.figure()\n",
    "#     plt.imshow(cm)\n",
    "#     return torch.tensor(unc, dtype=torch.float32, device=model_device)\n",
    "    return unc"
   ]
  },
  {
   "cell_type": "markdown",
   "metadata": {
    "id": "3aA1-hY4DB0v"
   },
   "source": [
    "# Train"
   ]
  },
  {
   "cell_type": "code",
   "execution_count": 17,
   "metadata": {
    "colab": {
     "base_uri": "https://localhost:8080/"
    },
    "id": "YtkRZSMqDB0v",
    "outputId": "230c559f-f22c-4182-b3ab-024ba2080a50"
   },
   "outputs": [
    {
     "name": "stdout",
     "output_type": "stream",
     "text": [
      "device: 'cuda'\n"
     ]
    }
   ],
   "source": [
    "DEVICE = torch_helpers.set_device(use_GPU=True)\n",
    "# DEVICE = torch_helpers.set_device(use_GPU=False)"
   ]
  },
  {
   "cell_type": "markdown",
   "metadata": {},
   "source": [
    "### Define New model = model + pre-head + latent layer OR classification layer"
   ]
  },
  {
   "cell_type": "code",
   "execution_count": 18,
   "metadata": {
    "id": "gt4xpqbHBjyL"
   },
   "outputs": [],
   "source": [
    "# class ModelTackOn(torch.nn.Module):\n",
    "#     def __init__(self, base_model, un_modified_model, pre_head_fc_sizes=[100], post_head_fc_sizes=[100], classifier_fc_sizes=None):\n",
    "#             super(ModelTackOn, self).__init__()\n",
    "#             self.base_model = base_model\n",
    "#             final_base_layer = list(un_modified_model.children())[-1]\n",
    "#             # final_base_layer = list(list(model.children())[-1].children())[-1]\n",
    "#             # print(final_base_layer)\n",
    "\n",
    "#             self.pre_head_fc_lst = []\n",
    "#             self.post_head_fc_lst = []\n",
    "#             self.classifier_fc_lst = []\n",
    "\n",
    "#             self.init_prehead(final_base_layer, pre_head_fc_sizes)\n",
    "#             self.init_posthead(pre_head_fc_sizes[-1], post_head_fc_sizes)\n",
    "#             if classifier_fc_sizes is not None:\n",
    "#                 self.init_classifier(pre_head_fc_sizes[-1], classifier_fc_sizes)\n",
    "    \n",
    "#     def init_prehead(self, prv_layer, pre_head_fc_sizes):\n",
    "#         for i, pre_head_fc in enumerate(pre_head_fc_sizes):\n",
    "#             if i == 0:\n",
    "#                 in_features = prv_layer.in_features if hasattr(prv_layer,'in_features') else 1280\n",
    "#             else:\n",
    "#                 in_features = pre_head_fc_sizes[i - 1]\n",
    "#             fc_layer = torch.nn.Linear(in_features=in_features, out_features=pre_head_fc)\n",
    "#             self.add_module(f'PreHead_{i}', fc_layer)\n",
    "#             self.pre_head_fc_lst.append(fc_layer)\n",
    "\n",
    "# #             if i < len(pre_head_fc_sizes) - 1:\n",
    "#             non_linearity = torch.nn.ReLU()\n",
    "#             self.add_module(f'PreHead_{i}_NonLinearity', non_linearity)\n",
    "#             self.pre_head_fc_lst.append(non_linearity)\n",
    "\n",
    "#     def init_posthead(self, prv_size, post_head_fc_sizes):\n",
    "#         for i, post_head_fc in enumerate(post_head_fc_sizes):\n",
    "#             if i == 0:\n",
    "#                 in_features = prv_size\n",
    "#             else:\n",
    "#                 in_features = post_head_fc_sizes[i - 1]\n",
    "#             fc_layer = torch.nn.Linear(in_features=in_features, out_features=post_head_fc)\n",
    "#             self.add_module(f'PostHead_{i}', fc_layer)\n",
    "#             self.post_head_fc_lst.append(fc_layer)\n",
    "\n",
    "#             if i < len(post_head_fc_sizes) - 1:\n",
    "#                 non_linearity = torch.nn.ReLU()\n",
    "#                 self.add_module(f'PostHead_{i}_NonLinearity', non_linearity)\n",
    "#                 self.pre_head_fc_lst.append(non_linearity)\n",
    "    \n",
    "#     def init_classifier(self, prv_size, classifier_fc_sizes):\n",
    "#             for i, classifier_fc in enumerate(classifier_fc_sizes):\n",
    "#                 if i == 0:\n",
    "#                     in_features = prv_size\n",
    "#                 else:\n",
    "#                     in_features = classifier_fc_sizes[i - 1]\n",
    "#             fc_layer = torch.nn.Linear(in_features=in_features, out_features=classifier_fc)\n",
    "#             self.add_module(f'Classifier_{i}', fc_layer)\n",
    "#             self.classifier_fc_lst.append(fc_layer)\n",
    "\n",
    "#     def reinit_classifier(self):\n",
    "#         for i_layer, layer in enumerate(self.classifier_fc_lst):\n",
    "#             layer.reset_parameters()\n",
    "    \n",
    "# #     def forward(self, X):\n",
    "# #         interim = self.base_model(X)\n",
    "# #         interim = self.get_head(interim)\n",
    "# #         interim = self.get_latent(interim)\n",
    "# #         return interim\n",
    "\n",
    "#     def forward_classifier(self, X):\n",
    "#         interim = self.base_model(X)\n",
    "#         interim = self.get_head(interim)\n",
    "#         interim = self.classify(interim)\n",
    "#         return interim\n",
    "\n",
    "#     def forward_latent(self, X):\n",
    "#         interim = self.base_model(X)\n",
    "#         interim = self.get_head(interim)\n",
    "#         interim = self.get_latent(interim)\n",
    "#         return interim\n",
    "\n",
    "\n",
    "#     def get_head(self, base_out):\n",
    "#         # print('base_out', base_out.shape)\n",
    "#         head = base_out\n",
    "#         for pre_head_layer in self.pre_head_fc_lst:\n",
    "#           # print('pre_head_layer', pre_head_layer.in_features)\n",
    "#           head = pre_head_layer(head)\n",
    "#           # print('head', head.shape)\n",
    "#         return head\n",
    "\n",
    "#     def get_latent(self, head):\n",
    "#         latent = head\n",
    "#         for post_head_layer in self.post_head_fc_lst:\n",
    "#             latent = post_head_layer(latent)\n",
    "#         return latent\n",
    "\n",
    "#     def classify(self, head):\n",
    "#         logit = head\n",
    "#         for classifier_layer in self.classifier_fc_lst:\n",
    "#             logit = classifier_layer(logit)\n",
    "#         return logit\n",
    "\n",
    "#     def set_pre_head_grad(self, requires_grad=True):\n",
    "#         for layer in self.pre_head_fc_lst:\n",
    "#             for param in layer.parameters():\n",
    "#                 param.requires_grad = requires_grad\n",
    "                \n",
    "#     def set_post_head_grad(self, requires_grad=True):\n",
    "#         for layer in self.post_head_fc_lst:\n",
    "#             for param in layer.parameters():\n",
    "#                 param.requires_grad = requires_grad\n",
    "\n",
    "#     def set_classifier_grad(self, requires_grad=True):\n",
    "#         for layer in self.classifier_fc_lst:\n",
    "#             for param in layer.parameters():\n",
    "#                 param.requires_grad = requires_grad\n",
    "\n",
    "#     def prep_contrast(self):\n",
    "#         self.set_pre_head_grad(requires_grad=True)\n",
    "#         self.set_post_head_grad(requires_grad=True)\n",
    "#         self.set_classifier_grad(requires_grad=False)\n",
    "\n",
    "#     def prep_classifier(self):\n",
    "#         self.set_pre_head_grad(requires_grad=False)\n",
    "#         self.set_post_head_grad(requires_grad=False)\n",
    "#         self.set_classifier_grad(requires_grad=True)\n"
   ]
  },
  {
   "cell_type": "code",
   "execution_count": 19,
   "metadata": {},
   "outputs": [],
   "source": [
    "from GCaMP_ROI_classifier.vicreg import main_vicreg as mvr\n",
    "from GCaMP_ROI_classifier.vicreg.main_vicreg import *\n",
    "from GCaMP_ROI_classifier.vicreg import augmentations as vraug"
   ]
  },
  {
   "cell_type": "code",
   "execution_count": 20,
   "metadata": {},
   "outputs": [],
   "source": [
    "from pathlib import Path\n",
    "import argparse\n",
    "import json\n",
    "import math\n",
    "import os\n",
    "import sys\n",
    "import time\n",
    "\n",
    "import torch\n",
    "import torch.nn.functional as F\n",
    "from torch import nn, optim\n",
    "import torch.distributed as dist\n",
    "import torchvision.datasets as datasets\n",
    "\n",
    "import GCaMP_ROI_classifier.vicreg.augmentations as aug\n",
    "from GCaMP_ROI_classifier.vicreg.distributed import init_distributed_mode\n",
    "\n",
    "import GCaMP_ROI_classifier.vicreg.resnet\n",
    "\n",
    "parser = argparse.ArgumentParser('VICReg training script', parents=[mvr.get_arguments()])\n",
    "args = parser.parse_args(['--device', 'cuda',\n",
    "                          '--data-dir', '../../data',\n",
    "                          '--exp-dir', '../../models/vicreg-models/latent-16',\n",
    "                          '--batch-size', '800',\n",
    "                          '--arch', 'resnet18',\n",
    "                          '--mlp', '512-512-512',\n",
    "                          '--out-features', '16'\n",
    "                         ])\n",
    "args.rank = args.local_rank\n"
   ]
  },
  {
   "cell_type": "code",
   "execution_count": 21,
   "metadata": {},
   "outputs": [
    {
     "data": {
      "text/plain": [
       "800"
      ]
     },
     "execution_count": 21,
     "metadata": {},
     "output_type": "execute_result"
    }
   ],
   "source": [
    "args.batch_size"
   ]
  },
  {
   "cell_type": "code",
   "execution_count": 22,
   "metadata": {},
   "outputs": [],
   "source": [
    "from GCaMP_ROI_classifier.dataset import dataset_vicreg"
   ]
  },
  {
   "cell_type": "code",
   "execution_count": 23,
   "metadata": {},
   "outputs": [],
   "source": [
    "# import torchvision.transforms    \n",
    "\n",
    "# transforms = torch.nn.Sequential(\n",
    "#     # torchvision.transforms.RandomHorizontalFlip(p=0.5),    \n",
    "#     augmentation.ScaleDynamicRange(scaler_bounds=(0,1)), # just clamping, both this and clamping = normalizing (DEFAULT)\n",
    "#     augmentation.WarpPoints(r=[0, 1],\n",
    "#                             cx=[-0.5, 0.5],\n",
    "#                             cy=[-0.5, 0.5], \n",
    "#                             dx=[-0.3, 0.0], \n",
    "#                             dy=[-0.3, 0.0], \n",
    "#                             n_warps=5,\n",
    "#                             prob=1.0,\n",
    "#                             img_size_in=[36, 36],\n",
    "#                             img_size_out=[224, 224]),\n",
    "\n",
    "    \n",
    "#     augmentation.TileChannels(dim=0, n_channels=3),\n",
    "# #     torchvision.transforms.Resize(size=(224,224), \n",
    "# #                                   interpolation=torchvision.transforms.InterpolationMode.BILINEAR), # To do or not to do (DEFAULT)\n",
    "    \n",
    "# )\n",
    "    \n",
    "\n",
    "# scripted_transforms = torch.jit.script(transforms)\n",
    "\n",
    "\n",
    "import torchvision.transforms    \n",
    "\n",
    "transforms = torch.nn.Sequential(\n",
    "#     augmentation.Horizontal_stripe_scale(alpha_min_max=(0.5,1), im_size=(36,36), p=0.25),\n",
    "#     augmentation.Horizontal_stripe_shift(alpha_min_max=(0,6), im_size=(36,36), p=0.25),\n",
    "    \n",
    "    torchvision.transforms.RandomHorizontalFlip(p=0.5),    \n",
    "    torchvision.transforms.RandomAffine(\n",
    "                                        degrees=(-180,180),\n",
    "                                        translate=(0.15, 0.15), #0, .3, .45 (DEFAULT)\n",
    "                                        scale=(0.6, 1.2), # no scale (1,1), (0.4, 1.5)\n",
    "                                        shear=(-15, 15, -15, 15),\n",
    "                                        interpolation=torchvision.transforms.InterpolationMode.BILINEAR, \n",
    "                                        fill=0, \n",
    "                                        fillcolor=None, \n",
    "                                        resample=None),\n",
    "    augmentation.AddPoissonNoise(   #scaler_bounds=(10**(4.5), 10**(6.)),\n",
    "                                    scaler_bounds=(10**(4), 10**(6)),\n",
    "                                    prob=1,\n",
    "                                    base=1000,\n",
    "                                    scaling='log'),\n",
    "    augmentation.AddGaussianNoise(  mean=0, \n",
    "                                    std=0.00015,\n",
    "                                    prob=1),\n",
    "    \n",
    "    augmentation.ScaleDynamicRange(scaler_bounds=(0,1)),\n",
    "#     augmentation.WarpPoints(r=[0, 1],\n",
    "#                             cx=[-0.5, 0.5], \n",
    "#                             cy=[-0.5, 0.5], \n",
    "#                             dx=[-0.3, 0.0], \n",
    "#                             dy=[-0.3, 0.0], \n",
    "#                             n_warps=2,\n",
    "#                             prob=1.0,\n",
    "#                             img_size_in=[36, 36],\n",
    "#                             img_size_out=[224, 224]),\n",
    "    \n",
    "#     vraug.Solarize(p=0),\n",
    "#     augmentation.Horizontal_stripe_scale(alpha_min_max=(0.5,1), im_size=(36,36), p=0.25),\n",
    "#     augmentation.Horizontal_stripe_shift(alpha_min_max=(0,6), im_size=(36,36), p=0.25),\n",
    "    \n",
    "    augmentation.TileChannels(dim=0, n_channels=3),\n",
    "    \n",
    ")\n",
    "    \n",
    "\n",
    "scripted_transforms = torch.jit.script(transforms)"
   ]
  },
  {
   "cell_type": "code",
   "execution_count": null,
   "metadata": {},
   "outputs": [],
   "source": []
  },
  {
   "cell_type": "code",
   "execution_count": null,
   "metadata": {},
   "outputs": [],
   "source": []
  },
  {
   "cell_type": "code",
   "execution_count": 24,
   "metadata": {},
   "outputs": [],
   "source": [
    "# args.rank, args.world_size"
   ]
  },
  {
   "cell_type": "code",
   "execution_count": 25,
   "metadata": {},
   "outputs": [],
   "source": [
    "# import os\n",
    "# import sys\n",
    "# import tempfile\n",
    "# import torch\n",
    "# import torch.distributed as dist\n",
    "# import torch.nn as nn\n",
    "# import torch.optim as optim\n",
    "# import torch.multiprocessing as mp\n",
    "\n",
    "# from torch.nn.parallel import DistributedDataParallel as DDP\n",
    "\n",
    "# def setup(rank, world_size):\n",
    "#     os.environ['MASTER_ADDR'] = 'localhost'\n",
    "#     os.environ['MASTER_PORT'] = '12355'\n",
    "\n",
    "#     # initialize the process group\n",
    "#     dist.init_process_group(\"gloo\", rank=rank, world_size=world_size)\n",
    "\n",
    "# def cleanup():\n",
    "#     dist.destroy_process_group()\n",
    "\n",
    "# setup(args.rank, args.world_size)"
   ]
  },
  {
   "cell_type": "code",
   "execution_count": 26,
   "metadata": {},
   "outputs": [],
   "source": [
    "# args.rank = args.local_rank\n",
    "args.rank = 0"
   ]
  },
  {
   "cell_type": "code",
   "execution_count": null,
   "metadata": {},
   "outputs": [],
   "source": []
  },
  {
   "cell_type": "code",
   "execution_count": 27,
   "metadata": {},
   "outputs": [
    {
     "data": {
      "text/plain": [
       "890"
      ]
     },
     "execution_count": 27,
     "metadata": {},
     "output_type": "execute_result"
    }
   ],
   "source": [
    "masks_cat.shape[0]//args.batch_size+1"
   ]
  },
  {
   "cell_type": "code",
   "execution_count": 28,
   "metadata": {},
   "outputs": [
    {
     "name": "stdout",
     "output_type": "stream",
     "text": [
      "Namespace(arch='resnet18', base_lr=0.2, batch_size=800, cov_coeff=1.0, data_dir=PosixPath('../../data'), device='cuda', dist_url='env://', epochs=100, exp_dir=PosixPath('../../models/vicreg-models/latent-16'), local_rank=-1, log_freq_time=60, mlp='512-512-512', num_workers=10, out_features='16', rank=0, sim_coeff=25.0, std_coeff=25.0, wd=1e-06, world_size=1)\n",
      "/home/joz608/.conda/envs/grc/lib/python3.8/site-packages/ipykernel_launcher.py -f /home/joz608/.local/share/jupyter/runtime/kernel-304b47ef-8e86-4222-b480-aeabea157453.json\n",
      "0.weight\n",
      "1.weight\n",
      "1.bias\n",
      "4.0.conv1.weight\n",
      "4.0.bn1.weight\n",
      "4.0.bn1.bias\n",
      "4.0.conv2.weight\n",
      "4.0.bn2.weight\n",
      "4.0.bn2.bias\n",
      "4.1.conv1.weight\n",
      "4.1.bn1.weight\n",
      "4.1.bn1.bias\n",
      "4.1.conv2.weight\n",
      "4.1.bn2.weight\n",
      "4.1.bn2.bias\n",
      "5.0.conv1.weight\n",
      "5.0.bn1.weight\n",
      "5.0.bn1.bias\n",
      "5.0.conv2.weight\n",
      "5.0.bn2.weight\n",
      "5.0.bn2.bias\n",
      "5.0.downsample.0.weight\n",
      "5.0.downsample.1.weight\n",
      "5.0.downsample.1.bias\n",
      "5.1.conv1.weight\n",
      "5.1.bn1.weight\n",
      "5.1.bn1.bias\n",
      "5.1.conv2.weight\n",
      "5.1.bn2.weight\n",
      "5.1.bn2.bias\n",
      "6.0.conv1.weight\n",
      "6.0.bn1.weight\n",
      "6.0.bn1.bias\n",
      "6.0.conv2.weight\n",
      "6.0.bn2.weight\n",
      "6.0.bn2.bias\n",
      "6.0.downsample.0.weight\n",
      "6.0.downsample.1.weight\n",
      "6.0.downsample.1.bias\n",
      "6.1.conv1.weight\n",
      "6.1.bn1.weight\n",
      "6.1.bn1.bias\n",
      "6.1.conv2.weight\n",
      "6.1.bn2.weight\n",
      "6.1.bn2.bias\n",
      "7.0.conv1.weight\n",
      "7.0.bn1.weight\n",
      "7.0.bn1.bias\n",
      "7.0.conv2.weight\n",
      "7.0.bn2.weight\n",
      "7.0.bn2.bias\n",
      "7.0.downsample.0.weight\n",
      "7.0.downsample.1.weight\n",
      "7.0.downsample.1.bias\n",
      "7.1.conv1.weight\n",
      "7.1.bn1.weight\n",
      "7.1.bn1.bias\n",
      "7.1.conv2.weight\n",
      "7.1.bn2.weight\n",
      "7.1.bn2.bias\n"
     ]
    }
   ],
   "source": [
    "from tqdm.notebook import tqdm, trange\n",
    "\n",
    "torch.backends.cudnn.benchmark = True\n",
    "# mvr.init_distributed_mode(args)\n",
    "print(args)\n",
    "gpu = torch.device(args.device)\n",
    "\n",
    "if args.rank == 0:\n",
    "    args.exp_dir.mkdir(parents=True, exist_ok=True)\n",
    "    stats_file = open(args.exp_dir / \"stats.txt\", \"a\", buffering=1)\n",
    "    print(\" \".join(sys.argv))\n",
    "    print(\" \".join(sys.argv), file=stats_file)\n",
    "\n",
    "# transforms = aug.TrainTransform()\n",
    "\n",
    "dataset = dataset_vicreg(\n",
    "                                torch.as_tensor(masks_cat, device='cpu', dtype=torch.float32), \n",
    "                                torch.as_tensor(torch.zeros(masks_cat.shape[0]), device='cpu', dtype=torch.float32),\n",
    "                                transforms=[scripted_transforms, scripted_transforms],\n",
    "                                DEVICE='cpu',\n",
    "                                dtype_X=torch.float32,\n",
    "                                dtype_y=torch.int64)\n",
    "# dataset = datasets.ImageFolder(args.data_dir / \"training\", transforms)\n",
    "# sampler = torch.utils.data.distributed.DistributedSampler(dataset, shuffle=True)\n",
    "sampler = torch.utils.data.RandomSampler(dataset)\n",
    "assert args.batch_size % args.world_size == 0\n",
    "per_device_batch_size = args.batch_size // args.world_size\n",
    "# loader = torch.utils.data.DataLoader(\n",
    "#     dataset,\n",
    "#     batch_size=per_device_batch_size,\n",
    "# #     num_workers=args.num_workers,\n",
    "# #     pin_memory=True,\n",
    "#     sampler=sampler,\n",
    "# )\n",
    "\n",
    "loader = torch.utils.data.DataLoader( dataset,\n",
    "#                                                 batch_size=int(pct_batch_size*X_train.shape[0]),\n",
    "                                                batch_size=800,\n",
    "                                                # shuffle=True,\n",
    "                                                shuffle=True,\n",
    "                                                drop_last=False,\n",
    "                                                pin_memory=True,\n",
    "                                                num_workers=15,\n",
    "                                                persistent_workers=True,\n",
    "                                                prefetch_factor=3\n",
    "                                                )\n",
    "\n",
    "model = mvr.VICReg(args).to(DEVICE)#cuda(gpu)\n",
    "# model = nn.SyncBatchNorm.convert_sync_batchnorm(model)\n",
    "# model = torch.nn.parallel.DistributedDataParallel(model, device_ids=[gpu])"
   ]
  },
  {
   "cell_type": "code",
   "execution_count": 29,
   "metadata": {},
   "outputs": [
    {
     "data": {
      "text/plain": [
       "torch.Size([3, 36, 36])"
      ]
     },
     "execution_count": 29,
     "metadata": {},
     "output_type": "execute_result"
    }
   ],
   "source": [
    "dataset[ii][0].shape"
   ]
  },
  {
   "cell_type": "code",
   "execution_count": 30,
   "metadata": {},
   "outputs": [
    {
     "data": {
      "image/png": "[encoded data removed]",
      "text/plain": [
       "<Figure size 432x288 with 2 Axes>"
      ]
     },
     "metadata": {
      "needs_background": "light"
     },
     "output_type": "display_data"
    },
    {
     "data": {
      "image/png": "[encoded data removed]",
      "text/plain": [
       "<Figure size 432x288 with 2 Axes>"
      ]
     },
     "metadata": {
      "needs_background": "light"
     },
     "output_type": "display_data"
    },
    {
     "data": {
      "image/png": "[encoded data removed]",
      "text/plain": [
       "<Figure size 432x288 with 2 Axes>"
      ]
     },
     "metadata": {
      "needs_background": "light"
     },
     "output_type": "display_data"
    },
    {
     "data": {
      "image/png": "[encoded data removed]",
      "text/plain": [
       "<Figure size 432x288 with 2 Axes>"
      ]
     },
     "metadata": {
      "needs_background": "light"
     },
     "output_type": "display_data"
    },
    {
     "data": {
      "image/png": "[encoded data removed]",
      "text/plain": [
       "<Figure size 432x288 with 2 Axes>"
      ]
     },
     "metadata": {
      "needs_background": "light"
     },
     "output_type": "display_data"
    },
    {
     "data": {
      "image/png": "[encoded data removed]",
      "text/plain": [
       "<Figure size 432x288 with 2 Axes>"
      ]
     },
     "metadata": {
      "needs_background": "light"
     },
     "output_type": "display_data"
    },
    {
     "data": {
      "image/png": "[encoded data removed]",
      "text/plain": [
       "<Figure size 432x288 with 2 Axes>"
      ]
     },
     "metadata": {
      "needs_background": "light"
     },
     "output_type": "display_data"
    },
    {
     "data": {
      "image/png": "[encoded data removed]",
      "text/plain": [
       "<Figure size 432x288 with 2 Axes>"
      ]
     },
     "metadata": {
      "needs_background": "light"
     },
     "output_type": "display_data"
    },
    {
     "data": {
      "image/png": "[encoded data removed]",
      "text/plain": [
       "<Figure size 432x288 with 2 Axes>"
      ]
     },
     "metadata": {
      "needs_background": "light"
     },
     "output_type": "display_data"
    },
    {
     "data": {
      "image/png": "[encoded data removed]",
      "text/plain": [
       "<Figure size 432x288 with 2 Axes>"
      ]
     },
     "metadata": {
      "needs_background": "light"
     },
     "output_type": "display_data"
    }
   ],
   "source": [
    "idx_rand = np.random.randint(0,len(dataset), 10)\n",
    "for ii in idx_rand:\n",
    "    fig, axs = plt.subplots(1,2)\n",
    "    # print(dataset_train[ii][0][0][0].shape)\n",
    "    axs[0].imshow(np.transpose(dataset[ii][0], [1,2,0]))\n",
    "    axs[1].imshow(np.transpose(dataset[ii][1], [1,2,0]))"
   ]
  },
  {
   "cell_type": "code",
   "execution_count": 31,
   "metadata": {},
   "outputs": [
    {
     "name": "stdout",
     "output_type": "stream",
     "text": [
      "resuming from checkpoint\n"
     ]
    }
   ],
   "source": [
    "optimizer = mvr.LARS(\n",
    "    model.parameters(),\n",
    "    lr=0,\n",
    "    weight_decay=args.wd,\n",
    "    weight_decay_filter=exclude_bias_and_norm,\n",
    "    lars_adaptation_filter=exclude_bias_and_norm,\n",
    ")\n",
    "\n",
    "if (args.exp_dir / \"model.pth\").is_file():\n",
    "    if args.rank == 0:\n",
    "        print(\"resuming from checkpoint\")\n",
    "    ckpt = torch.load(args.exp_dir / \"model.pth\", map_location=\"cpu\")\n",
    "    start_epoch = ckpt[\"epoch\"]\n",
    "    model.load_state_dict(ckpt[\"model\"])\n",
    "    optimizer.load_state_dict(ckpt[\"optimizer\"])\n",
    "else:\n",
    "    start_epoch = 0"
   ]
  },
  {
   "cell_type": "code",
   "execution_count": 32,
   "metadata": {
    "scrolled": false
   },
   "outputs": [
    {
     "data": {
      "application/vnd.jupyter.widget-view+json": {
       "model_id": "1f6bacd4d7ad427f92d534c9d9b1cdc7",
       "version_major": 2,
       "version_minor": 0
      },
      "text/plain": [
       "  0%|          | 0/98 [00:00<?, ?it/s]"
      ]
     },
     "metadata": {},
     "output_type": "display_data"
    },
    {
     "data": {
      "application/vnd.jupyter.widget-view+json": {
       "model_id": "f2d4fd32360248feb2c363e49eb238ce",
       "version_major": 2,
       "version_minor": 0
      },
      "text/plain": [
       "  0%|          | 0/891 [00:00<?, ?it/s]"
      ]
     },
     "metadata": {},
     "output_type": "display_data"
    },
    {
     "name": "stdout",
     "output_type": "stream",
     "text": [
      "{\"epoch\": 2, \"step\": 2179, \"loss\": 13.755374908447266, \"time\": 60, \"lr\": 0.1530196629213483}\n",
      "{\"epoch\": 2, \"step\": 2632, \"loss\": 13.169602394104004, \"time\": 120, \"lr\": 0.18483146067415732}\n"
     ]
    },
    {
     "data": {
      "application/vnd.jupyter.widget-view+json": {
       "model_id": "e6eb4a553a8046d9b4459905916c5aad",
       "version_major": 2,
       "version_minor": 0
      },
      "text/plain": [
       "  0%|          | 0/891 [00:00<?, ?it/s]"
      ]
     },
     "metadata": {},
     "output_type": "display_data"
    },
    {
     "name": "stdout",
     "output_type": "stream",
     "text": [
      "{\"epoch\": 3, \"step\": 3067, \"loss\": 12.592954635620117, \"time\": 180, \"lr\": 0.21537921348314606}\n",
      "{\"epoch\": 3, \"step\": 3520, \"loss\": 12.04804801940918, \"time\": 240, \"lr\": 0.24719101123595505}\n"
     ]
    },
    {
     "data": {
      "application/vnd.jupyter.widget-view+json": {
       "model_id": "7e18dc0e864146ae8a764a8c6d077ee9",
       "version_major": 2,
       "version_minor": 0
      },
      "text/plain": [
       "  0%|          | 0/891 [00:00<?, ?it/s]"
      ]
     },
     "metadata": {},
     "output_type": "display_data"
    },
    {
     "name": "stdout",
     "output_type": "stream",
     "text": [
      "{\"epoch\": 4, \"step\": 3964, \"loss\": 11.819694519042969, \"time\": 300, \"lr\": 0.27837078651685393}\n",
      "{\"epoch\": 4, \"step\": 4419, \"loss\": 12.084668159484863, \"time\": 360, \"lr\": 0.3103230337078652}\n"
     ]
    },
    {
     "data": {
      "application/vnd.jupyter.widget-view+json": {
       "model_id": "3ba057b0c98245bb9a484e53e058fd58",
       "version_major": 2,
       "version_minor": 0
      },
      "text/plain": [
       "  0%|          | 0/891 [00:00<?, ?it/s]"
      ]
     },
     "metadata": {},
     "output_type": "display_data"
    },
    {
     "name": "stdout",
     "output_type": "stream",
     "text": [
      "{\"epoch\": 5, \"step\": 4859, \"loss\": 11.215771675109863, \"time\": 420, \"lr\": 0.3412219101123595}\n",
      "{\"epoch\": 5, \"step\": 5314, \"loss\": 11.258649826049805, \"time\": 480, \"lr\": 0.3731741573033708}\n"
     ]
    },
    {
     "data": {
      "application/vnd.jupyter.widget-view+json": {
       "model_id": "92e3fecaeebd424d8d884007d14a9dc7",
       "version_major": 2,
       "version_minor": 0
      },
      "text/plain": [
       "  0%|          | 0/891 [00:00<?, ?it/s]"
      ]
     },
     "metadata": {},
     "output_type": "display_data"
    },
    {
     "name": "stdout",
     "output_type": "stream",
     "text": [
      "{\"epoch\": 6, \"step\": 5758, \"loss\": 10.603548049926758, \"time\": 540, \"lr\": 0.40435393258426966}\n",
      "{\"epoch\": 6, \"step\": 6212, \"loss\": 10.322221755981445, \"time\": 600, \"lr\": 0.4362359550561798}\n"
     ]
    },
    {
     "data": {
      "application/vnd.jupyter.widget-view+json": {
       "model_id": "78de7703ac5e4587bd7fc873ce466799",
       "version_major": 2,
       "version_minor": 0
      },
      "text/plain": [
       "  0%|          | 0/891 [00:00<?, ?it/s]"
      ]
     },
     "metadata": {},
     "output_type": "display_data"
    },
    {
     "name": "stdout",
     "output_type": "stream",
     "text": [
      "{\"epoch\": 7, \"step\": 6652, \"loss\": 10.233237266540527, \"time\": 660, \"lr\": 0.46713483146067414}\n",
      "{\"epoch\": 7, \"step\": 7107, \"loss\": 10.024616241455078, \"time\": 720, \"lr\": 0.4990870786516854}\n"
     ]
    },
    {
     "data": {
      "application/vnd.jupyter.widget-view+json": {
       "model_id": "2b6486ac9f8a450490b52664ec1d4f2f",
       "version_major": 2,
       "version_minor": 0
      },
      "text/plain": [
       "  0%|          | 0/891 [00:00<?, ?it/s]"
      ]
     },
     "metadata": {},
     "output_type": "display_data"
    },
    {
     "name": "stdout",
     "output_type": "stream",
     "text": [
      "{\"epoch\": 8, \"step\": 7547, \"loss\": 9.94681167602539, \"time\": 780, \"lr\": 0.5299859550561797}\n",
      "{\"epoch\": 8, \"step\": 8003, \"loss\": 10.064737319946289, \"time\": 840, \"lr\": 0.5620084269662922}\n"
     ]
    },
    {
     "data": {
      "application/vnd.jupyter.widget-view+json": {
       "model_id": "c9f0d4027f44430499c173d700f965ca",
       "version_major": 2,
       "version_minor": 0
      },
      "text/plain": [
       "  0%|          | 0/891 [00:00<?, ?it/s]"
      ]
     },
     "metadata": {},
     "output_type": "display_data"
    },
    {
     "name": "stdout",
     "output_type": "stream",
     "text": [
      "{\"epoch\": 9, \"step\": 8445, \"loss\": 9.720128059387207, \"time\": 900, \"lr\": 0.5930477528089888}\n"
     ]
    },
    {
     "data": {
      "application/vnd.jupyter.widget-view+json": {
       "model_id": "a732b821ab894110bfc953bd24aeec21",
       "version_major": 2,
       "version_minor": 0
      },
      "text/plain": [
       "  0%|          | 0/891 [00:00<?, ?it/s]"
      ]
     },
     "metadata": {},
     "output_type": "display_data"
    },
    {
     "name": "stdout",
     "output_type": "stream",
     "text": [
      "{\"epoch\": 10, \"step\": 8900, \"loss\": 9.521378517150879, \"time\": 962, \"lr\": 0.625}\n",
      "{\"epoch\": 10, \"step\": 9354, \"loss\": 9.206963539123535, \"time\": 1022, \"lr\": 0.6249505096576303}\n"
     ]
    },
    {
     "data": {
      "application/vnd.jupyter.widget-view+json": {
       "model_id": "3872aedb30ad43028ccb6a40d635cb4e",
       "version_major": 2,
       "version_minor": 0
      },
      "text/plain": [
       "  0%|          | 0/891 [00:00<?, ?it/s]"
      ]
     },
     "metadata": {},
     "output_type": "display_data"
    },
    {
     "name": "stdout",
     "output_type": "stream",
     "text": [
      "{\"epoch\": 11, \"step\": 9794, \"loss\": 9.113825798034668, \"time\": 1082, \"lr\": 0.6248081106952038}\n",
      "{\"epoch\": 11, \"step\": 10249, \"loss\": 9.247488975524902, \"time\": 1142, \"lr\": 0.624563139466041}\n"
     ]
    },
    {
     "data": {
      "application/vnd.jupyter.widget-view+json": {
       "model_id": "3dcb240c45eb4acdbc6bc0cf5760e6ba",
       "version_major": 2,
       "version_minor": 0
      },
      "text/plain": [
       "  0%|          | 0/891 [00:00<?, ?it/s]"
      ]
     },
     "metadata": {},
     "output_type": "display_data"
    },
    {
     "name": "stdout",
     "output_type": "stream",
     "text": [
      "{\"epoch\": 12, \"step\": 10693, \"loss\": 9.04664421081543, \"time\": 1202, \"lr\": 0.6242283829388117}\n",
      "{\"epoch\": 12, \"step\": 11148, \"loss\": 8.55079460144043, \"time\": 1262, \"lr\": 0.6237873611335986}\n"
     ]
    },
    {
     "data": {
      "application/vnd.jupyter.widget-view+json": {
       "model_id": "fd493eb96a2e49b68dcfbb00b02144f5",
       "version_major": 2,
       "version_minor": 0
      },
      "text/plain": [
       "  0%|          | 0/891 [00:00<?, ?it/s]"
      ]
     },
     "metadata": {},
     "output_type": "display_data"
    },
    {
     "name": "stdout",
     "output_type": "stream",
     "text": [
      "{\"epoch\": 13, \"step\": 11589, \"loss\": 8.701074600219727, \"time\": 1322, \"lr\": 0.6232654003876223}\n",
      "{\"epoch\": 13, \"step\": 12045, \"loss\": 8.375473976135254, \"time\": 1382, \"lr\": 0.6226280212015743}\n"
     ]
    },
    {
     "data": {
      "application/vnd.jupyter.widget-view+json": {
       "model_id": "8caab88e8fde4db89e851a0796d53ca3",
       "version_major": 2,
       "version_minor": 0
      },
      "text/plain": [
       "  0%|          | 0/891 [00:00<?, ?it/s]"
      ]
     },
     "metadata": {},
     "output_type": "display_data"
    },
    {
     "name": "stdout",
     "output_type": "stream",
     "text": [
      "{\"epoch\": 14, \"step\": 12485, \"loss\": 8.546262741088867, \"time\": 1443, \"lr\": 0.6219190622828292}\n",
      "{\"epoch\": 14, \"step\": 12939, \"loss\": 8.303617477416992, \"time\": 1503, \"lr\": 0.6210910552192908}\n"
     ]
    },
    {
     "data": {
      "application/vnd.jupyter.widget-view+json": {
       "model_id": "a70cace779854b1e85a408aeeab81817",
       "version_major": 2,
       "version_minor": 0
      },
      "text/plain": [
       "  0%|          | 0/891 [00:00<?, ?it/s]"
      ]
     },
     "metadata": {},
     "output_type": "display_data"
    },
    {
     "name": "stdout",
     "output_type": "stream",
     "text": [
      "{\"epoch\": 15, \"step\": 13378, \"loss\": 8.269315719604492, \"time\": 1563, \"lr\": 0.6201974515543176}\n",
      "{\"epoch\": 15, \"step\": 13831, \"loss\": 7.876937389373779, \"time\": 1623, \"lr\": 0.6191798234874459}\n"
     ]
    },
    {
     "data": {
      "application/vnd.jupyter.widget-view+json": {
       "model_id": "08af2d4dec44448781899692a1ca6c7f",
       "version_major": 2,
       "version_minor": 0
      },
      "text/plain": [
       "  0%|          | 0/891 [00:00<?, ?it/s]"
      ]
     },
     "metadata": {},
     "output_type": "display_data"
    },
    {
     "name": "stdout",
     "output_type": "stream",
     "text": [
      "{\"epoch\": 16, \"step\": 14271, \"loss\": 7.775805473327637, \"time\": 1683, \"lr\": 0.6180988108874422}\n",
      "{\"epoch\": 16, \"step\": 14724, \"loss\": 7.804630756378174, \"time\": 1743, \"lr\": 0.6168908786981676}\n"
     ]
    },
    {
     "data": {
      "application/vnd.jupyter.widget-view+json": {
       "model_id": "d3ed23a3bbb64c0cb5281957575e4e4b",
       "version_major": 2,
       "version_minor": 0
      },
      "text/plain": [
       "  0%|          | 0/891 [00:00<?, ?it/s]"
      ]
     },
     "metadata": {},
     "output_type": "display_data"
    },
    {
     "name": "stdout",
     "output_type": "stream",
     "text": [
      "{\"epoch\": 17, \"step\": 15166, \"loss\": 7.419445037841797, \"time\": 1803, \"lr\": 0.6156197574915735}\n",
      "{\"epoch\": 17, \"step\": 15620, \"loss\": 7.771352767944336, \"time\": 1863, \"lr\": 0.6142193920509964}\n"
     ]
    },
    {
     "data": {
      "application/vnd.jupyter.widget-view+json": {
       "model_id": "e7ee51818e2141cc8195803e770ff88a",
       "version_major": 2,
       "version_minor": 0
      },
      "text/plain": [
       "  0%|          | 0/891 [00:00<?, ?it/s]"
      ]
     },
     "metadata": {},
     "output_type": "display_data"
    },
    {
     "name": "stdout",
     "output_type": "stream",
     "text": [
      "{\"epoch\": 18, \"step\": 16061, \"loss\": 8.020231246948242, \"time\": 1923, \"lr\": 0.6127676236658475}\n",
      "{\"epoch\": 18, \"step\": 16515, \"loss\": 7.403439998626709, \"time\": 1983, \"lr\": 0.6111793231663009}\n"
     ]
    },
    {
     "data": {
      "application/vnd.jupyter.widget-view+json": {
       "model_id": "115ab55459384fda9d0a09d680d5ca26",
       "version_major": 2,
       "version_minor": 0
      },
      "text/plain": [
       "  0%|          | 0/891 [00:00<?, ?it/s]"
      ]
     },
     "metadata": {},
     "output_type": "display_data"
    },
    {
     "name": "stdout",
     "output_type": "stream",
     "text": [
      "{\"epoch\": 19, \"step\": 16956, \"loss\": 7.605320930480957, \"time\": 2043, \"lr\": 0.6095459234453058}\n",
      "{\"epoch\": 19, \"step\": 17410, \"loss\": 7.365485191345215, \"time\": 2103, \"lr\": 0.6077716447878165}\n"
     ]
    },
    {
     "data": {
      "application/vnd.jupyter.widget-view+json": {
       "model_id": "9932987baf7849e5a4c3b6ec1c1d0539",
       "version_major": 2,
       "version_minor": 0
      },
      "text/plain": [
       "  0%|          | 0/891 [00:00<?, ?it/s]"
      ]
     },
     "metadata": {},
     "output_type": "display_data"
    },
    {
     "name": "stdout",
     "output_type": "stream",
     "text": [
      "{\"epoch\": 20, \"step\": 17852, \"loss\": 7.493724346160889, \"time\": 2163, \"lr\": 0.6059544151790002}\n",
      "{\"epoch\": 20, \"step\": 18305, \"loss\": 7.492184638977051, \"time\": 2223, \"lr\": 0.6040005554216321}\n"
     ]
    },
    {
     "data": {
      "application/vnd.jupyter.widget-view+json": {
       "model_id": "3475a7b7b0ca45dd90f026a5b53e7711",
       "version_major": 2,
       "version_minor": 0
      },
      "text/plain": [
       "  0%|          | 0/891 [00:00<?, ?it/s]"
      ]
     },
     "metadata": {},
     "output_type": "display_data"
    },
    {
     "name": "stdout",
     "output_type": "stream",
     "text": [
      "{\"epoch\": 21, \"step\": 18746, \"loss\": 7.477596282958984, \"time\": 2283, \"lr\": 0.6020101517319587}\n",
      "{\"epoch\": 21, \"step\": 19200, \"loss\": 7.138823986053467, \"time\": 2343, \"lr\": 0.5998707013224425}\n"
     ]
    },
    {
     "data": {
      "application/vnd.jupyter.widget-view+json": {
       "model_id": "3a899eefdcec4fa1a2930d42962a9c65",
       "version_major": 2,
       "version_minor": 0
      },
      "text/plain": [
       "  0%|          | 0/891 [00:00<?, ?it/s]"
      ]
     },
     "metadata": {},
     "output_type": "display_data"
    },
    {
     "name": "stdout",
     "output_type": "stream",
     "text": [
      "{\"epoch\": 22, \"step\": 19641, \"loss\": 7.2428507804870605, \"time\": 2403, \"lr\": 0.5977053648546324}\n",
      "{\"epoch\": 22, \"step\": 20096, \"loss\": 7.453543663024902, \"time\": 2463, \"lr\": 0.5953819654528987}\n"
     ]
    },
    {
     "data": {
      "application/vnd.jupyter.widget-view+json": {
       "model_id": "75f622ea7928442bb8e7c964ba4cb446",
       "version_major": 2,
       "version_minor": 0
      },
      "text/plain": [
       "  0%|          | 0/891 [00:00<?, ?it/s]"
      ]
     },
     "metadata": {},
     "output_type": "display_data"
    },
    {
     "name": "stdout",
     "output_type": "stream",
     "text": [
      "{\"epoch\": 23, \"step\": 20538, \"loss\": 6.666008949279785, \"time\": 2524, \"lr\": 0.5930387765044152}\n",
      "{\"epoch\": 23, \"step\": 20993, \"loss\": 7.070002555847168, \"time\": 2584, \"lr\": 0.59053871332425}\n"
     ]
    },
    {
     "data": {
      "application/vnd.jupyter.widget-view+json": {
       "model_id": "ab02a5c0170d4de8ae4f436752da14cd",
       "version_major": 2,
       "version_minor": 0
      },
      "text/plain": [
       "  0%|          | 0/891 [00:00<?, ?it/s]"
      ]
     },
     "metadata": {},
     "output_type": "display_data"
    },
    {
     "name": "stdout",
     "output_type": "stream",
     "text": [
      "{\"epoch\": 24, \"step\": 21430, \"loss\": 7.24241828918457, \"time\": 2644, \"lr\": 0.5880542797745093}\n",
      "{\"epoch\": 24, \"step\": 21885, \"loss\": 7.244990825653076, \"time\": 2704, \"lr\": 0.5853816053834147}\n"
     ]
    },
    {
     "data": {
      "application/vnd.jupyter.widget-view+json": {
       "model_id": "6180f76b894b4c41b74284db7a294048",
       "version_major": 2,
       "version_minor": 0
      },
      "text/plain": [
       "  0%|          | 0/891 [00:00<?, ?it/s]"
      ]
     },
     "metadata": {},
     "output_type": "display_data"
    },
    {
     "name": "stdout",
     "output_type": "stream",
     "text": [
      "{\"epoch\": 25, \"step\": 22325, \"loss\": 6.753641128540039, \"time\": 2764, \"lr\": 0.5827144766179275}\n",
      "{\"epoch\": 25, \"step\": 22778, \"loss\": 6.783078670501709, \"time\": 2824, \"lr\": 0.579884579747289}\n"
     ]
    },
    {
     "data": {
      "application/vnd.jupyter.widget-view+json": {
       "model_id": "be6d4e947c524363b6a25e092706e11b",
       "version_major": 2,
       "version_minor": 0
      },
      "text/plain": [
       "  0%|          | 0/891 [00:00<?, ?it/s]"
      ]
     },
     "metadata": {},
     "output_type": "display_data"
    },
    {
     "name": "stdout",
     "output_type": "stream",
     "text": [
      "{\"epoch\": 26, \"step\": 23217, \"loss\": 6.776686668395996, \"time\": 2884, \"lr\": 0.5770616959554319}\n",
      "{\"epoch\": 26, \"step\": 23673, \"loss\": 7.224994659423828, \"time\": 2944, \"lr\": 0.5740465634185166}\n"
     ]
    },
    {
     "data": {
      "application/vnd.jupyter.widget-view+json": {
       "model_id": "75fb15a1c40c40c2aab3f151a237bea1",
       "version_major": 2,
       "version_minor": 0
      },
      "text/plain": [
       "  0%|          | 0/891 [00:00<?, ?it/s]"
      ]
     },
     "metadata": {},
     "output_type": "display_data"
    },
    {
     "name": "stdout",
     "output_type": "stream",
     "text": [
      "{\"epoch\": 27, \"step\": 24116, \"loss\": 6.577033996582031, \"time\": 3004, \"lr\": 0.5710373618943777}\n",
      "{\"epoch\": 27, \"step\": 24570, \"loss\": 6.5074872970581055, \"time\": 3064, \"lr\": 0.5678725679314055}\n"
     ]
    },
    {
     "data": {
      "application/vnd.jupyter.widget-view+json": {
       "model_id": "52409b84b45842e2b58b217f34c2021f",
       "version_major": 2,
       "version_minor": 0
      },
      "text/plain": [
       "  0%|          | 0/891 [00:00<?, ?it/s]"
      ]
     },
     "metadata": {},
     "output_type": "display_data"
    },
    {
     "name": "stdout",
     "output_type": "stream",
     "text": [
      "{\"epoch\": 28, \"step\": 25011, \"loss\": 6.581419944763184, \"time\": 3124, \"lr\": 0.5647209586028765}\n",
      "{\"epoch\": 28, \"step\": 25466, \"loss\": 6.880072593688965, \"time\": 3184, \"lr\": 0.5613903217538673}\n"
     ]
    },
    {
     "data": {
      "application/vnd.jupyter.widget-view+json": {
       "model_id": "6b0dab6c971548938b4b37ac4736cea2",
       "version_major": 2,
       "version_minor": 0
      },
      "text/plain": [
       "  0%|          | 0/891 [00:00<?, ?it/s]"
      ]
     },
     "metadata": {},
     "output_type": "display_data"
    },
    {
     "name": "stdout",
     "output_type": "stream",
     "text": [
      "{\"epoch\": 29, \"step\": 25907, \"loss\": 6.384661674499512, \"time\": 3244, \"lr\": 0.5580866110920655}\n",
      "{\"epoch\": 29, \"step\": 26361, \"loss\": 6.444520950317383, \"time\": 3304, \"lr\": 0.5546088702742102}\n"
     ]
    },
    {
     "data": {
      "application/vnd.jupyter.widget-view+json": {
       "model_id": "de92923a334249cea371e7e8fb8c8862",
       "version_major": 2,
       "version_minor": 0
      },
      "text/plain": [
       "  0%|          | 0/891 [00:00<?, ?it/s]"
      ]
     },
     "metadata": {},
     "output_type": "display_data"
    },
    {
     "name": "stdout",
     "output_type": "stream",
     "text": [
      "{\"epoch\": 30, \"step\": 26804, \"loss\": 6.535930156707764, \"time\": 3364, \"lr\": 0.5511414840668646}\n",
      "{\"epoch\": 30, \"step\": 27259, \"loss\": 6.958308696746826, \"time\": 3424, \"lr\": 0.5475052872112307}\n"
     ]
    },
    {
     "data": {
      "application/vnd.jupyter.widget-view+json": {
       "model_id": "bc0980aa8e504c64bb8f3695a701695f",
       "version_major": 2,
       "version_minor": 0
      },
      "text/plain": [
       "  0%|          | 0/891 [00:00<?, ?it/s]"
      ]
     },
     "metadata": {},
     "output_type": "display_data"
    },
    {
     "name": "stdout",
     "output_type": "stream",
     "text": [
      "{\"epoch\": 31, \"step\": 27700, \"loss\": 6.707093238830566, \"time\": 3485, \"lr\": 0.5439096371972482}\n",
      "{\"epoch\": 31, \"step\": 28154, \"loss\": 6.822639465332031, \"time\": 3545, \"lr\": 0.5401357825284325}\n"
     ]
    },
    {
     "data": {
      "application/vnd.jupyter.widget-view+json": {
       "model_id": "290fc663d96b4e09b59552e27271758b",
       "version_major": 2,
       "version_minor": 0
      },
      "text/plain": [
       "  0%|          | 0/891 [00:00<?, ?it/s]"
      ]
     },
     "metadata": {},
     "output_type": "display_data"
    },
    {
     "name": "stdout",
     "output_type": "stream",
     "text": [
      "{\"epoch\": 32, \"step\": 28594, \"loss\": 6.59050178527832, \"time\": 3605, \"lr\": 0.5364095158432213}\n",
      "{\"epoch\": 32, \"step\": 29049, \"loss\": 6.3072123527526855, \"time\": 3665, \"lr\": 0.5324861991293417}\n"
     ]
    },
    {
     "data": {
      "application/vnd.jupyter.widget-view+json": {
       "model_id": "0cf8945fa04b4c668ae120e422f72f76",
       "version_major": 2,
       "version_minor": 0
      },
      "text/plain": [
       "  0%|          | 0/891 [00:00<?, ?it/s]"
      ]
     },
     "metadata": {},
     "output_type": "display_data"
    },
    {
     "name": "stdout",
     "output_type": "stream",
     "text": [
      "{\"epoch\": 33, \"step\": 29490, \"loss\": 6.461007118225098, \"time\": 3725, \"lr\": 0.5286168272267777}\n",
      "{\"epoch\": 33, \"step\": 29946, \"loss\": 6.171257019042969, \"time\": 3785, \"lr\": 0.524547967149382}\n"
     ]
    },
    {
     "data": {
      "application/vnd.jupyter.widget-view+json": {
       "model_id": "59ed5985738e48518e3214eca053565f",
       "version_major": 2,
       "version_minor": 0
      },
      "text/plain": [
       "  0%|          | 0/891 [00:00<?, ?it/s]"
      ]
     },
     "metadata": {},
     "output_type": "display_data"
    },
    {
     "name": "stdout",
     "output_type": "stream",
     "text": [
      "{\"epoch\": 34, \"step\": 30387, \"loss\": 5.926836013793945, \"time\": 3845, \"lr\": 0.5205485178467886}\n",
      "{\"epoch\": 34, \"step\": 30841, \"loss\": 6.354310989379883, \"time\": 3905, \"lr\": 0.5163662624651149}\n"
     ]
    },
    {
     "data": {
      "application/vnd.jupyter.widget-view+json": {
       "model_id": "17eaf541453444baa9667ef6f510e586",
       "version_major": 2,
       "version_minor": 0
      },
      "text/plain": [
       "  0%|          | 0/891 [00:00<?, ?it/s]"
      ]
     },
     "metadata": {},
     "output_type": "display_data"
    },
    {
     "name": "stdout",
     "output_type": "stream",
     "text": [
      "{\"epoch\": 35, \"step\": 31283, \"loss\": 6.458440780639648, \"time\": 3965, \"lr\": 0.5122325383599124}\n",
      "{\"epoch\": 35, \"step\": 31739, \"loss\": 6.188987731933594, \"time\": 4025, \"lr\": 0.5079050893264152}\n"
     ]
    },
    {
     "data": {
      "application/vnd.jupyter.widget-view+json": {
       "model_id": "79d6edec2ba44d659b2bad73dec42490",
       "version_major": 2,
       "version_minor": 0
      },
      "text/plain": [
       "  0%|          | 0/891 [00:00<?, ?it/s]"
      ]
     },
     "metadata": {},
     "output_type": "display_data"
    },
    {
     "name": "stdout",
     "output_type": "stream",
     "text": [
      "{\"epoch\": 36, \"step\": 32183, \"loss\": 6.457777500152588, \"time\": 4085, \"lr\": 0.5036315490463084}\n",
      "{\"epoch\": 36, \"step\": 32640, \"loss\": 6.202951431274414, \"time\": 4145, \"lr\": 0.4991724653936035}\n"
     ]
    },
    {
     "data": {
      "application/vnd.jupyter.widget-view+json": {
       "model_id": "8a2f153183e448879a90b76cf3dda3c1",
       "version_major": 2,
       "version_minor": 0
      },
      "text/plain": [
       "  0%|          | 0/891 [00:00<?, ?it/s]"
      ]
     },
     "metadata": {},
     "output_type": "display_data"
    },
    {
     "name": "stdout",
     "output_type": "stream",
     "text": [
      "{\"epoch\": 37, \"step\": 33082, \"loss\": 6.290653705596924, \"time\": 4205, \"lr\": 0.4948027716500826}\n",
      "{\"epoch\": 37, \"step\": 33539, \"loss\": 6.2918596267700195, \"time\": 4265, \"lr\": 0.49022729427251627}\n"
     ]
    },
    {
     "data": {
      "application/vnd.jupyter.widget-view+json": {
       "model_id": "2b24dcf03bd14182a7822257d6e25324",
       "version_major": 2,
       "version_minor": 0
      },
      "text/plain": [
       "  0%|          | 0/891 [00:00<?, ?it/s]"
      ]
     },
     "metadata": {},
     "output_type": "display_data"
    },
    {
     "name": "stdout",
     "output_type": "stream",
     "text": [
      "{\"epoch\": 38, \"step\": 33977, \"loss\": 6.068689346313477, \"time\": 4326, \"lr\": 0.4857885344044161}\n",
      "{\"epoch\": 38, \"step\": 34431, \"loss\": 5.994080066680908, \"time\": 4386, \"lr\": 0.48113376837732075}\n"
     ]
    },
    {
     "data": {
      "application/vnd.jupyter.widget-view+json": {
       "model_id": "900e5e09354a4674a08681aa43ed8e77",
       "version_major": 2,
       "version_minor": 0
      },
      "text/plain": [
       "  0%|          | 0/891 [00:00<?, ?it/s]"
      ]
     },
     "metadata": {},
     "output_type": "display_data"
    },
    {
     "name": "stdout",
     "output_type": "stream",
     "text": [
      "{\"epoch\": 39, \"step\": 34870, \"loss\": 6.009289741516113, \"time\": 4446, \"lr\": 0.47658202716806397}\n",
      "{\"epoch\": 39, \"step\": 35325, \"loss\": 6.233225345611572, \"time\": 4506, \"lr\": 0.471813172411721}\n"
     ]
    },
    {
     "data": {
      "application/vnd.jupyter.widget-view+json": {
       "model_id": "0b95677d270e4fdbb6d376f8bfc00c4d",
       "version_major": 2,
       "version_minor": 0
      },
      "text/plain": [
       "  0%|          | 0/891 [00:00<?, ?it/s]"
      ]
     },
     "metadata": {},
     "output_type": "display_data"
    },
    {
     "name": "stdout",
     "output_type": "stream",
     "text": [
      "{\"epoch\": 40, \"step\": 35769, \"loss\": 5.692772388458252, \"time\": 4566, \"lr\": 0.46711078383466426}\n",
      "{\"epoch\": 40, \"step\": 36224, \"loss\": 6.0860185623168945, \"time\": 4626, \"lr\": 0.4622433640260604}\n"
     ]
    },
    {
     "data": {
      "application/vnd.jupyter.widget-view+json": {
       "model_id": "1e169a34131e4fbd90fcba0c0224c027",
       "version_major": 2,
       "version_minor": 0
      },
      "text/plain": [
       "  0%|          | 0/891 [00:00<?, ?it/s]"
      ]
     },
     "metadata": {},
     "output_type": "display_data"
    },
    {
     "name": "stdout",
     "output_type": "stream",
     "text": [
      "{\"epoch\": 41, \"step\": 36666, \"loss\": 6.33640718460083, \"time\": 4686, \"lr\": 0.45746943234922044}\n",
      "{\"epoch\": 41, \"step\": 37121, \"loss\": 5.683868408203125, \"time\": 4746, \"lr\": 0.4525096972343253}\n"
     ]
    },
    {
     "data": {
      "application/vnd.jupyter.widget-view+json": {
       "model_id": "18c35ff8711b4add94c41786e4c6741e",
       "version_major": 2,
       "version_minor": 0
      },
      "text/plain": [
       "  0%|          | 0/891 [00:00<?, ?it/s]"
      ]
     },
     "metadata": {},
     "output_type": "display_data"
    },
    {
     "name": "stdout",
     "output_type": "stream",
     "text": [
      "{\"epoch\": 42, \"step\": 37567, \"loss\": 6.125827789306641, \"time\": 4806, \"lr\": 0.4476048807809995}\n",
      "{\"epoch\": 42, \"step\": 38023, \"loss\": 5.89216947555542, \"time\": 4866, \"lr\": 0.44254746124217614}\n"
     ]
    },
    {
     "data": {
      "application/vnd.jupyter.widget-view+json": {
       "model_id": "1852ed4bf6b54b5193de6304ef028a10",
       "version_major": 2,
       "version_minor": 0
      },
      "text/plain": [
       "  0%|          | 0/891 [00:00<?, ?it/s]"
      ]
     },
     "metadata": {},
     "output_type": "display_data"
    },
    {
     "name": "stdout",
     "output_type": "stream",
     "text": [
      "{\"epoch\": 43, \"step\": 38464, \"loss\": 5.761366367340088, \"time\": 4926, \"lr\": 0.4376169159338929}\n",
      "{\"epoch\": 43, \"step\": 38920, \"loss\": 5.965749263763428, \"time\": 4986, \"lr\": 0.43247941990370403}\n"
     ]
    },
    {
     "data": {
      "application/vnd.jupyter.widget-view+json": {
       "model_id": "23c0d593545a486385726d7240287ca0",
       "version_major": 2,
       "version_minor": 0
      },
      "text/plain": [
       "  0%|          | 0/891 [00:00<?, ?it/s]"
      ]
     },
     "metadata": {},
     "output_type": "display_data"
    },
    {
     "name": "stdout",
     "output_type": "stream",
     "text": [
      "{\"epoch\": 44, \"step\": 39363, \"loss\": 6.264535427093506, \"time\": 5046, \"lr\": 0.4274517177537212}\n",
      "{\"epoch\": 44, \"step\": 39818, \"loss\": 5.960968017578125, \"time\": 5106, \"lr\": 0.42225181347572216}\n"
     ]
    },
    {
     "data": {
      "application/vnd.jupyter.widget-view+json": {
       "model_id": "2a5873a9b99143f790f0939514795b49",
       "version_major": 2,
       "version_minor": 0
      },
      "text/plain": [
       "  0%|          | 0/891 [00:00<?, ?it/s]"
      ]
     },
     "metadata": {},
     "output_type": "display_data"
    },
    {
     "name": "stdout",
     "output_type": "stream",
     "text": [
      "{\"epoch\": 45, \"step\": 40258, \"loss\": 5.646816253662109, \"time\": 5166, \"lr\": 0.41719017036948475}\n",
      "{\"epoch\": 45, \"step\": 40712, \"loss\": 5.750655651092529, \"time\": 5227, \"lr\": 0.4119349085314905}\n"
     ]
    },
    {
     "data": {
      "application/vnd.jupyter.widget-view+json": {
       "model_id": "ae51fe8bb6ce48c7898b8b6d1cd49c18",
       "version_major": 2,
       "version_minor": 0
      },
      "text/plain": [
       "  0%|          | 0/891 [00:00<?, ?it/s]"
      ]
     },
     "metadata": {},
     "output_type": "display_data"
    },
    {
     "name": "stdout",
     "output_type": "stream",
     "text": [
      "{\"epoch\": 46, \"step\": 41152, \"loss\": 5.787010192871094, \"time\": 5287, \"lr\": 0.40681169827237057}\n",
      "{\"epoch\": 46, \"step\": 41607, \"loss\": 5.594985008239746, \"time\": 5347, \"lr\": 0.40148441043114214}\n"
     ]
    },
    {
     "data": {
      "application/vnd.jupyter.widget-view+json": {
       "model_id": "5f263b194b2c4dfeb36fff532f007b73",
       "version_major": 2,
       "version_minor": 0
      },
      "text/plain": [
       "  0%|          | 0/891 [00:00<?, ?it/s]"
      ]
     },
     "metadata": {},
     "output_type": "display_data"
    },
    {
     "name": "stdout",
     "output_type": "stream",
     "text": [
      "{\"epoch\": 47, \"step\": 42046, \"loss\": 5.609798908233643, \"time\": 5407, \"lr\": 0.39631767099890963}\n",
      "{\"epoch\": 47, \"step\": 42500, \"loss\": 5.843646049499512, \"time\": 5467, \"lr\": 0.39094837148940004}\n"
     ]
    },
    {
     "data": {
      "application/vnd.jupyter.widget-view+json": {
       "model_id": "39e29347d0504416a16dd73f522f4150",
       "version_major": 2,
       "version_minor": 0
      },
      "text/plain": [
       "  0%|          | 0/891 [00:00<?, ?it/s]"
      ]
     },
     "metadata": {},
     "output_type": "display_data"
    },
    {
     "name": "stdout",
     "output_type": "stream",
     "text": [
      "{\"epoch\": 48, \"step\": 42941, \"loss\": 5.811058521270752, \"time\": 5527, \"lr\": 0.38570908334111886}\n",
      "{\"epoch\": 48, \"step\": 43394, \"loss\": 5.526108741760254, \"time\": 5587, \"lr\": 0.38030453857954893}\n"
     ]
    },
    {
     "data": {
      "application/vnd.jupyter.widget-view+json": {
       "model_id": "b57f6969507c4bc09e60bf5037ad5fd7",
       "version_major": 2,
       "version_minor": 0
      },
      "text/plain": [
       "  0%|          | 0/891 [00:00<?, ?it/s]"
      ]
     },
     "metadata": {},
     "output_type": "display_data"
    },
    {
     "name": "stdout",
     "output_type": "stream",
     "text": [
      "{\"epoch\": 49, \"step\": 43836, \"loss\": 5.625335693359375, \"time\": 5647, \"lr\": 0.37501068182327296}\n",
      "{\"epoch\": 49, \"step\": 44291, \"loss\": 5.692573547363281, \"time\": 5707, \"lr\": 0.3695416154383767}\n"
     ]
    },
    {
     "data": {
      "application/vnd.jupyter.widget-view+json": {
       "model_id": "825dd779b3a44242987f18837d9350bd",
       "version_major": 2,
       "version_minor": 0
      },
      "text/plain": [
       "  0%|          | 0/891 [00:00<?, ?it/s]"
      ]
     },
     "metadata": {},
     "output_type": "display_data"
    },
    {
     "name": "stdout",
     "output_type": "stream",
     "text": [
      "{\"epoch\": 50, \"step\": 44731, \"loss\": 5.874494552612305, \"time\": 5767, \"lr\": 0.3642356476493831}\n",
      "{\"epoch\": 50, \"step\": 45186, \"loss\": 5.554622173309326, \"time\": 5827, \"lr\": 0.35873270754646125}\n"
     ]
    },
    {
     "data": {
      "application/vnd.jupyter.widget-view+json": {
       "model_id": "6c9923ad6ccc499c863ca5fbabe1f33b",
       "version_major": 2,
       "version_minor": 0
      },
      "text/plain": [
       "  0%|          | 0/891 [00:00<?, ?it/s]"
      ]
     },
     "metadata": {},
     "output_type": "display_data"
    },
    {
     "name": "stdout",
     "output_type": "stream",
     "text": [
      "{\"epoch\": 51, \"step\": 45629, \"loss\": 5.6461896896362305, \"time\": 5888, \"lr\": 0.353360835072931}\n",
      "{\"epoch\": 51, \"step\": 46084, \"loss\": 5.388542175292969, \"time\": 5948, \"lr\": 0.3478307218961901}\n"
     ]
    },
    {
     "data": {
      "application/vnd.jupyter.widget-view+json": {
       "model_id": "40edddffc9614460987773ba4d2aafa6",
       "version_major": 2,
       "version_minor": 0
      },
      "text/plain": [
       "  0%|          | 0/891 [00:00<?, ?it/s]"
      ]
     },
     "metadata": {},
     "output_type": "display_data"
    },
    {
     "name": "stdout",
     "output_type": "stream",
     "text": [
      "{\"epoch\": 52, \"step\": 46529, \"loss\": 5.541588306427002, \"time\": 6008, \"lr\": 0.3424113504396839}\n",
      "{\"epoch\": 52, \"step\": 46982, \"loss\": 5.532383918762207, \"time\": 6068, \"lr\": 0.3368853015703232}\n"
     ]
    },
    {
     "data": {
      "application/vnd.jupyter.widget-view+json": {
       "model_id": "1171ce6428564c29aab3884f50516c05",
       "version_major": 2,
       "version_minor": 0
      },
      "text/plain": [
       "  0%|          | 0/891 [00:00<?, ?it/s]"
      ]
     },
     "metadata": {},
     "output_type": "display_data"
    },
    {
     "name": "stdout",
     "output_type": "stream",
     "text": [
      "{\"epoch\": 53, \"step\": 47424, \"loss\": 5.5816121101379395, \"time\": 6128, \"lr\": 0.3314861014095338}\n",
      "{\"epoch\": 53, \"step\": 47877, \"loss\": 5.676212310791016, \"time\": 6188, \"lr\": 0.3259467230408979}\n"
     ]
    },
    {
     "data": {
      "application/vnd.jupyter.widget-view+json": {
       "model_id": "328fc22a99fc495ca6808bf9d2587163",
       "version_major": 2,
       "version_minor": 0
      },
      "text/plain": [
       "  0%|          | 0/891 [00:00<?, ?it/s]"
      ]
     },
     "metadata": {},
     "output_type": "display_data"
    },
    {
     "name": "stdout",
     "output_type": "stream",
     "text": [
      "{\"epoch\": 54, \"step\": 48321, \"loss\": 5.622535705566406, \"time\": 6248, \"lr\": 0.3205133640896435}\n",
      "{\"epoch\": 54, \"step\": 48777, \"loss\": 5.796357154846191, \"time\": 6308, \"lr\": 0.31493074230407364}\n"
     ]
    },
    {
     "data": {
      "application/vnd.jupyter.widget-view+json": {
       "model_id": "3fe92e4769ed4b7e9a5457a064763180",
       "version_major": 2,
       "version_minor": 0
      },
      "text/plain": [
       "  0%|          | 0/891 [00:00<?, ?it/s]"
      ]
     },
     "metadata": {},
     "output_type": "display_data"
    },
    {
     "name": "stdout",
     "output_type": "stream",
     "text": [
      "{\"epoch\": 55, \"step\": 49220, \"loss\": 5.573363304138184, \"time\": 6368, \"lr\": 0.3095066091256462}\n",
      "{\"epoch\": 55, \"step\": 49675, \"loss\": 5.6997199058532715, \"time\": 6428, \"lr\": 0.30393660111249454}\n"
     ]
    },
    {
     "data": {
      "application/vnd.jupyter.widget-view+json": {
       "model_id": "ceac89799b3e420f84a88acabb85de22",
       "version_major": 2,
       "version_minor": 0
      },
      "text/plain": [
       "  0%|          | 0/891 [00:00<?, ?it/s]"
      ]
     },
     "metadata": {},
     "output_type": "display_data"
    },
    {
     "name": "stdout",
     "output_type": "stream",
     "text": [
      "{\"epoch\": 56, \"step\": 50119, \"loss\": 5.606219291687012, \"time\": 6488, \"lr\": 0.29850396374331867}\n",
      "{\"epoch\": 56, \"step\": 50573, \"loss\": 5.61414098739624, \"time\": 6548, \"lr\": 0.2929534690975077}\n"
     ]
    },
    {
     "data": {
      "application/vnd.jupyter.widget-view+json": {
       "model_id": "b2b4c81a3f9140d485cd241ea2c5264f",
       "version_major": 2,
       "version_minor": 0
      },
      "text/plain": [
       "  0%|          | 0/891 [00:00<?, ?it/s]"
      ]
     },
     "metadata": {},
     "output_type": "display_data"
    },
    {
     "name": "stdout",
     "output_type": "stream",
     "text": [
      "{\"epoch\": 57, \"step\": 51016, \"loss\": 5.205959320068359, \"time\": 6608, \"lr\": 0.28754351353634033}\n",
      "{\"epoch\": 57, \"step\": 51471, \"loss\": 5.263490676879883, \"time\": 6668, \"lr\": 0.2819949691317279}\n"
     ]
    },
    {
     "data": {
      "application/vnd.jupyter.widget-view+json": {
       "model_id": "ffa373cc5f26471eadd9ce86f5e1157c",
       "version_major": 2,
       "version_minor": 0
      },
      "text/plain": [
       "  0%|          | 0/891 [00:00<?, ?it/s]"
      ]
     },
     "metadata": {},
     "output_type": "display_data"
    },
    {
     "name": "stdout",
     "output_type": "stream",
     "text": [
      "{\"epoch\": 58, \"step\": 51914, \"loss\": 5.560117721557617, \"time\": 6728, \"lr\": 0.27660217417703886}\n",
      "{\"epoch\": 58, \"step\": 52368, \"loss\": 5.35495138168335, \"time\": 6789, \"lr\": 0.2710868279146794}\n"
     ]
    },
    {
     "data": {
      "application/vnd.jupyter.widget-view+json": {
       "model_id": "d4c9ba5c93c54987ab69bf23e28a2519",
       "version_major": 2,
       "version_minor": 0
      },
      "text/plain": [
       "  0%|          | 0/891 [00:00<?, ?it/s]"
      ]
     },
     "metadata": {},
     "output_type": "display_data"
    },
    {
     "name": "stdout",
     "output_type": "stream",
     "text": [
      "{\"epoch\": 59, \"step\": 52811, \"loss\": 5.501776695251465, \"time\": 6849, \"lr\": 0.2657178522240931}\n",
      "{\"epoch\": 59, \"step\": 53266, \"loss\": 5.263855934143066, \"time\": 6909, \"lr\": 0.26021825643643887}\n"
     ]
    },
    {
     "data": {
      "application/vnd.jupyter.widget-view+json": {
       "model_id": "508481055892434e9fbe54bdf2b8c2b1",
       "version_major": 2,
       "version_minor": 0
      },
      "text/plain": [
       "  0%|          | 0/891 [00:00<?, ?it/s]"
      ]
     },
     "metadata": {},
     "output_type": "display_data"
    },
    {
     "name": "stdout",
     "output_type": "stream",
     "text": [
      "{\"epoch\": 60, \"step\": 53710, \"loss\": 5.293889045715332, \"time\": 6969, \"lr\": 0.25486775067289597}\n",
      "{\"epoch\": 60, \"step\": 54164, \"loss\": 5.2082319259643555, \"time\": 7029, \"lr\": 0.2494149199639663}\n"
     ]
    },
    {
     "data": {
      "application/vnd.jupyter.widget-view+json": {
       "model_id": "5c66dfc929e2450c87fd644f7d648e7e",
       "version_major": 2,
       "version_minor": 0
      },
      "text/plain": [
       "  0%|          | 0/891 [00:00<?, ?it/s]"
      ]
     },
     "metadata": {},
     "output_type": "display_data"
    },
    {
     "name": "stdout",
     "output_type": "stream",
     "text": [
      "{\"epoch\": 61, \"step\": 54607, \"loss\": 5.1948652267456055, \"time\": 7089, \"lr\": 0.24411356878475216}\n",
      "{\"epoch\": 61, \"step\": 55063, \"loss\": 5.25407600402832, \"time\": 7149, \"lr\": 0.23867832427462535}\n"
     ]
    },
    {
     "data": {
      "application/vnd.jupyter.widget-view+json": {
       "model_id": "043ae82a0d924a5a96052e8e5ddb6a23",
       "version_major": 2,
       "version_minor": 0
      },
      "text/plain": [
       "  0%|          | 0/891 [00:00<?, ?it/s]"
      ]
     },
     "metadata": {},
     "output_type": "display_data"
    },
    {
     "name": "stdout",
     "output_type": "stream",
     "text": [
      "{\"epoch\": 62, \"step\": 55506, \"loss\": 5.239318370819092, \"time\": 7209, \"lr\": 0.233420723938168}\n",
      "{\"epoch\": 62, \"step\": 55962, \"loss\": 5.259840965270996, \"time\": 7269, \"lr\": 0.2280338854232564}\n"
     ]
    },
    {
     "data": {
      "application/vnd.jupyter.widget-view+json": {
       "model_id": "8c25cca02eca4c09a5f4db0c5c17462c",
       "version_major": 2,
       "version_minor": 0
      },
      "text/plain": [
       "  0%|          | 0/891 [00:00<?, ?it/s]"
      ]
     },
     "metadata": {},
     "output_type": "display_data"
    },
    {
     "name": "stdout",
     "output_type": "stream",
     "text": [
      "{\"epoch\": 63, \"step\": 56407, \"loss\": 5.105934143066406, \"time\": 7329, \"lr\": 0.22280312279822953}\n",
      "{\"epoch\": 63, \"step\": 56863, \"loss\": 5.384852409362793, \"time\": 7389, \"lr\": 0.21747151670621723}\n"
     ]
    },
    {
     "data": {
      "application/vnd.jupyter.widget-view+json": {
       "model_id": "8bca9ed9100541088f9adefe674a99ee",
       "version_major": 2,
       "version_minor": 0
      },
      "text/plain": [
       "  0%|          | 0/891 [00:00<?, ?it/s]"
      ]
     },
     "metadata": {},
     "output_type": "display_data"
    },
    {
     "name": "stdout",
     "output_type": "stream",
     "text": [
      "{\"epoch\": 64, \"step\": 57306, \"loss\": 5.033037185668945, \"time\": 7449, \"lr\": 0.21232109628838708}\n",
      "{\"epoch\": 64, \"step\": 57761, \"loss\": 5.152608871459961, \"time\": 7509, \"lr\": 0.2070627555234231}\n"
     ]
    },
    {
     "data": {
      "application/vnd.jupyter.widget-view+json": {
       "model_id": "62b8906e63fb473695872c789185ed42",
       "version_major": 2,
       "version_minor": 0
      },
      "text/plain": [
       "  0%|          | 0/891 [00:00<?, ?it/s]"
      ]
     },
     "metadata": {},
     "output_type": "display_data"
    },
    {
     "name": "stdout",
     "output_type": "stream",
     "text": [
      "{\"epoch\": 65, \"step\": 58205, \"loss\": 5.141822814941406, \"time\": 7569, \"lr\": 0.20196399151563593}\n",
      "{\"epoch\": 65, \"step\": 58660, \"loss\": 5.275664329528809, \"time\": 7629, \"lr\": 0.1967737933911023}\n"
     ]
    },
    {
     "data": {
      "application/vnd.jupyter.widget-view+json": {
       "model_id": "ab745ee5b3064946bf3ef1c84592750d",
       "version_major": 2,
       "version_minor": 0
      },
      "text/plain": [
       "  0%|          | 0/891 [00:00<?, ?it/s]"
      ]
     },
     "metadata": {},
     "output_type": "display_data"
    },
    {
     "name": "stdout",
     "output_type": "stream",
     "text": [
      "{\"epoch\": 66, \"step\": 59104, \"loss\": 5.464588165283203, \"time\": 7689, \"lr\": 0.19174468348690843}\n",
      "{\"epoch\": 66, \"step\": 59561, \"loss\": 5.111567497253418, \"time\": 7749, \"lr\": 0.1866066813288102}\n"
     ]
    },
    {
     "data": {
      "application/vnd.jupyter.widget-view+json": {
       "model_id": "ba5aa123c2634a3c99fe39ea321a14cf",
       "version_major": 2,
       "version_minor": 0
      },
      "text/plain": [
       "  0%|          | 0/891 [00:00<?, ?it/s]"
      ]
     },
     "metadata": {},
     "output_type": "display_data"
    },
    {
     "name": "stdout",
     "output_type": "stream",
     "text": [
      "{\"epoch\": 67, \"step\": 60004, \"loss\": 5.125502109527588, \"time\": 7809, \"lr\": 0.18166476436877071}\n",
      "{\"epoch\": 67, \"step\": 60459, \"loss\": 5.23567008972168, \"time\": 7870, \"lr\": 0.17663020828996312}\n"
     ]
    },
    {
     "data": {
      "application/vnd.jupyter.widget-view+json": {
       "model_id": "41f3b8491c9049d2ae74841a20bdca4d",
       "version_major": 2,
       "version_minor": 0
      },
      "text/plain": [
       "  0%|          | 0/891 [00:00<?, ?it/s]"
      ]
     },
     "metadata": {},
     "output_type": "display_data"
    },
    {
     "name": "stdout",
     "output_type": "stream",
     "text": [
      "{\"epoch\": 68, \"step\": 60904, \"loss\": 5.376784801483154, \"time\": 7930, \"lr\": 0.1717482389981946}\n",
      "{\"epoch\": 68, \"step\": 61359, \"loss\": 5.15764045715332, \"time\": 7990, \"lr\": 0.16680100277424936}\n"
     ]
    },
    {
     "data": {
      "application/vnd.jupyter.widget-view+json": {
       "model_id": "6fb40ea1eb96478382d7a10639f63e25",
       "version_major": 2,
       "version_minor": 0
      },
      "text/plain": [
       "  0%|          | 0/891 [00:00<?, ?it/s]"
      ]
     },
     "metadata": {},
     "output_type": "display_data"
    },
    {
     "name": "stdout",
     "output_type": "stream",
     "text": [
      "{\"epoch\": 69, \"step\": 61804, \"loss\": 5.130082130432129, \"time\": 8050, \"lr\": 0.1620074621309468}\n",
      "{\"epoch\": 69, \"step\": 62259, \"loss\": 5.0035319328308105, \"time\": 8110, \"lr\": 0.15715370940214973}\n"
     ]
    },
    {
     "data": {
      "application/vnd.jupyter.widget-view+json": {
       "model_id": "760c5ad8842f42ee861813d2569f8258",
       "version_major": 2,
       "version_minor": 0
      },
      "text/plain": [
       "  0%|          | 0/891 [00:00<?, ?it/s]"
      ]
     },
     "metadata": {},
     "output_type": "display_data"
    },
    {
     "name": "stdout",
     "output_type": "stream",
     "text": [
      "{\"epoch\": 70, \"step\": 62701, \"loss\": 5.3567280769348145, \"time\": 8170, \"lr\": 0.1524860872151035}\n",
      "{\"epoch\": 70, \"step\": 63156, \"loss\": 5.10996150970459, \"time\": 8230, \"lr\": 0.147731523474062}\n"
     ]
    },
    {
     "data": {
      "application/vnd.jupyter.widget-view+json": {
       "model_id": "dd6c119b4cf64f5dacfd2a267fc2d018",
       "version_major": 2,
       "version_minor": 0
      },
      "text/plain": [
       "  0%|          | 0/891 [00:00<?, ?it/s]"
      ]
     },
     "metadata": {},
     "output_type": "display_data"
    },
    {
     "name": "stdout",
     "output_type": "stream",
     "text": [
      "{\"epoch\": 71, \"step\": 63601, \"loss\": 5.151145935058594, \"time\": 8290, \"lr\": 0.14313229520679785}\n",
      "{\"epoch\": 71, \"step\": 64056, \"loss\": 5.105125904083252, \"time\": 8350, \"lr\": 0.1384831657713607}\n"
     ]
    },
    {
     "data": {
      "application/vnd.jupyter.widget-view+json": {
       "model_id": "31cafd8bec484fe8bfb70537c9ddc427",
       "version_major": 2,
       "version_minor": 0
      },
      "text/plain": [
       "  0%|          | 0/891 [00:00<?, ?it/s]"
      ]
     },
     "metadata": {},
     "output_type": "display_data"
    },
    {
     "name": "stdout",
     "output_type": "stream",
     "text": [
      "{\"epoch\": 72, \"step\": 64501, \"loss\": 5.0325117111206055, \"time\": 8410, \"lr\": 0.13398990360441412}\n",
      "{\"epoch\": 72, \"step\": 64956, \"loss\": 4.97258186340332, \"time\": 8470, \"lr\": 0.12945200071092994}\n"
     ]
    },
    {
     "data": {
      "application/vnd.jupyter.widget-view+json": {
       "model_id": "eaad5ac0981c4175926dd505535114f8",
       "version_major": 2,
       "version_minor": 0
      },
      "text/plain": [
       "  0%|          | 0/891 [00:00<?, ?it/s]"
      ]
     },
     "metadata": {},
     "output_type": "display_data"
    },
    {
     "name": "stdout",
     "output_type": "stream",
     "text": [
      "{\"epoch\": 73, \"step\": 65398, \"loss\": 4.976225852966309, \"time\": 8530, \"lr\": 0.12509965224732242}\n",
      "{\"epoch\": 73, \"step\": 65854, \"loss\": 5.165590763092041, \"time\": 8590, \"lr\": 0.12066858018753376}\n"
     ]
    },
    {
     "data": {
      "application/vnd.jupyter.widget-view+json": {
       "model_id": "71b1377544324ba3bad482e83a1f7e13",
       "version_major": 2,
       "version_minor": 0
      },
      "text/plain": [
       "  0%|          | 0/891 [00:00<?, ?it/s]"
      ]
     },
     "metadata": {},
     "output_type": "display_data"
    },
    {
     "name": "stdout",
     "output_type": "stream",
     "text": [
      "{\"epoch\": 74, \"step\": 66297, \"loss\": 5.269434928894043, \"time\": 8650, \"lr\": 0.11642267476327675}\n"
     ]
    },
    {
     "data": {
      "application/vnd.jupyter.widget-view+json": {
       "model_id": "39902863d940414b8137acdb7252ea99",
       "version_major": 2,
       "version_minor": 0
      },
      "text/plain": [
       "  0%|          | 0/891 [00:00<?, ?it/s]"
      ]
     },
     "metadata": {},
     "output_type": "display_data"
    },
    {
     "name": "stdout",
     "output_type": "stream",
     "text": [
      "{\"epoch\": 75, \"step\": 66750, \"loss\": 4.979923248291016, \"time\": 8712, \"lr\": 0.1121422431009835}\n",
      "{\"epoch\": 75, \"step\": 67204, \"loss\": 5.010767459869385, \"time\": 8772, \"lr\": 0.10791591684380751}\n"
     ]
    },
    {
     "data": {
      "application/vnd.jupyter.widget-view+json": {
       "model_id": "6bc75ffcb1534b7094285e231b9c5a12",
       "version_major": 2,
       "version_minor": 0
      },
      "text/plain": [
       "  0%|          | 0/891 [00:00<?, ?it/s]"
      ]
     },
     "metadata": {},
     "output_type": "display_data"
    },
    {
     "name": "stdout",
     "output_type": "stream",
     "text": [
      "{\"epoch\": 76, \"step\": 67648, \"loss\": 5.135192394256592, \"time\": 8832, \"lr\": 0.10384550498942291}\n",
      "{\"epoch\": 76, \"step\": 68105, \"loss\": 4.920801162719727, \"time\": 8892, \"lr\": 0.09972210465881165}\n"
     ]
    },
    {
     "data": {
      "application/vnd.jupyter.widget-view+json": {
       "model_id": "f61c2421907f4ccb819ae5c4240112d4",
       "version_major": 2,
       "version_minor": 0
      },
      "text/plain": [
       "  0%|          | 0/891 [00:00<?, ?it/s]"
      ]
     },
     "metadata": {},
     "output_type": "display_data"
    },
    {
     "name": "stdout",
     "output_type": "stream",
     "text": [
      "{\"epoch\": 77, \"step\": 68549, \"loss\": 5.129103660583496, \"time\": 8952, \"lr\": 0.09578155219000468}\n",
      "{\"epoch\": 77, \"step\": 69004, \"loss\": 5.1249847412109375, \"time\": 9012, \"lr\": 0.09181166242752968}\n"
     ]
    },
    {
     "data": {
      "application/vnd.jupyter.widget-view+json": {
       "model_id": "eb1c420f08054aed8a55cdec967ad4f8",
       "version_major": 2,
       "version_minor": 0
      },
      "text/plain": [
       "  0%|          | 0/891 [00:00<?, ?it/s]"
      ]
     },
     "metadata": {},
     "output_type": "display_data"
    },
    {
     "name": "stdout",
     "output_type": "stream",
     "text": [
      "{\"epoch\": 78, \"step\": 69447, \"loss\": 5.21253776550293, \"time\": 9072, \"lr\": 0.08801408127202136}\n",
      "{\"epoch\": 78, \"step\": 69902, \"loss\": 4.822004318237305, \"time\": 9132, \"lr\": 0.08418428564936821}\n"
     ]
    },
    {
     "data": {
      "application/vnd.jupyter.widget-view+json": {
       "model_id": "fef86ed65c95418b96fb00b094ad112c",
       "version_major": 2,
       "version_minor": 0
      },
      "text/plain": [
       "  0%|          | 0/891 [00:00<?, ?it/s]"
      ]
     },
     "metadata": {},
     "output_type": "display_data"
    },
    {
     "name": "stdout",
     "output_type": "stream",
     "text": [
      "{\"epoch\": 79, \"step\": 70345, \"loss\": 4.871492385864258, \"time\": 9192, \"lr\": 0.08052543794330903}\n",
      "{\"epoch\": 79, \"step\": 70800, \"loss\": 5.055168151855469, \"time\": 9252, \"lr\": 0.0768404867282372}\n"
     ]
    },
    {
     "data": {
      "application/vnd.jupyter.widget-view+json": {
       "model_id": "a9994a91a8b249c4bc287b7b4fa778b3",
       "version_major": 2,
       "version_minor": 0
      },
      "text/plain": [
       "  0%|          | 0/891 [00:00<?, ?it/s]"
      ]
     },
     "metadata": {},
     "output_type": "display_data"
    },
    {
     "name": "stdout",
     "output_type": "stream",
     "text": [
      "{\"epoch\": 80, \"step\": 71244, \"loss\": 5.009817123413086, \"time\": 9312, \"lr\": 0.073317056254671}\n",
      "{\"epoch\": 80, \"step\": 71700, \"loss\": 4.810598373413086, \"time\": 9372, \"lr\": 0.0697740037129469}\n"
     ]
    },
    {
     "data": {
      "application/vnd.jupyter.widget-view+json": {
       "model_id": "e2c0778428df4217850f3b298918ea92",
       "version_major": 2,
       "version_minor": 0
      },
      "text/plain": [
       "  0%|          | 0/891 [00:00<?, ?it/s]"
      ]
     },
     "metadata": {},
     "output_type": "display_data"
    },
    {
     "name": "stdout",
     "output_type": "stream",
     "text": [
      "{\"epoch\": 81, \"step\": 72143, \"loss\": 5.221271991729736, \"time\": 9432, \"lr\": 0.06640639343305121}\n",
      "{\"epoch\": 81, \"step\": 72600, \"loss\": 4.819989204406738, \"time\": 9493, \"lr\": 0.06301031639991511}\n"
     ]
    },
    {
     "data": {
      "application/vnd.jupyter.widget-view+json": {
       "model_id": "0fa6ea4f97c74067b4d909914df67058",
       "version_major": 2,
       "version_minor": 0
      },
      "text/plain": [
       "  0%|          | 0/891 [00:00<?, ?it/s]"
      ]
     },
     "metadata": {},
     "output_type": "display_data"
    },
    {
     "name": "stdout",
     "output_type": "stream",
     "text": [
      "{\"epoch\": 82, \"step\": 73044, \"loss\": 5.207296848297119, \"time\": 9553, \"lr\": 0.059787695178612724}\n",
      "{\"epoch\": 82, \"step\": 73500, \"loss\": 4.990496635437012, \"time\": 9613, \"lr\": 0.056557851501292916}\n"
     ]
    },
    {
     "data": {
      "application/vnd.jupyter.widget-view+json": {
       "model_id": "6c7d172d84604f5f8391d5b5b1c49336",
       "version_major": 2,
       "version_minor": 0
      },
      "text/plain": [
       "  0%|          | 0/891 [00:00<?, ?it/s]"
      ]
     },
     "metadata": {},
     "output_type": "display_data"
    },
    {
     "name": "stdout",
     "output_type": "stream",
     "text": [
      "{\"epoch\": 83, \"step\": 73945, \"loss\": 5.174034595489502, \"time\": 9673, \"lr\": 0.053484935167125325}\n",
      "{\"epoch\": 83, \"step\": 74401, \"loss\": 4.8547468185424805, \"time\": 9733, \"lr\": 0.05041801375097719}\n"
     ]
    },
    {
     "data": {
      "application/vnd.jupyter.widget-view+json": {
       "model_id": "969ff57eaa034d6e8f38292ec4a8f9be",
       "version_major": 2,
       "version_minor": 0
      },
      "text/plain": [
       "  0%|          | 0/891 [00:00<?, ?it/s]"
      ]
     },
     "metadata": {},
     "output_type": "display_data"
    },
    {
     "name": "stdout",
     "output_type": "stream",
     "text": [
      "{\"epoch\": 84, \"step\": 74844, \"loss\": 4.841592311859131, \"time\": 9793, \"lr\": 0.047518890952640246}\n",
      "{\"epoch\": 84, \"step\": 75299, \"loss\": 4.642416000366211, \"time\": 9853, \"lr\": 0.04462461438020593}\n"
     ]
    },
    {
     "data": {
      "application/vnd.jupyter.widget-view+json": {
       "model_id": "fb70820610ff4a869e0f92fe7d443bf4",
       "version_major": 2,
       "version_minor": 0
      },
      "text/plain": [
       "  0%|          | 0/891 [00:00<?, ?it/s]"
      ]
     },
     "metadata": {},
     "output_type": "display_data"
    },
    {
     "name": "stdout",
     "output_type": "stream",
     "text": [
      "{\"epoch\": 85, \"step\": 75742, \"loss\": 4.892824649810791, \"time\": 9913, \"lr\": 0.04188871915293142}\n",
      "{\"epoch\": 85, \"step\": 76198, \"loss\": 4.9473724365234375, \"time\": 9973, \"lr\": 0.039157967466366135}\n"
     ]
    },
    {
     "data": {
      "application/vnd.jupyter.widget-view+json": {
       "model_id": "c52fbfd6a9b04bf2ab867ed6d83b0a32",
       "version_major": 2,
       "version_minor": 0
      },
      "text/plain": [
       "  0%|          | 0/891 [00:00<?, ?it/s]"
      ]
     },
     "metadata": {},
     "output_type": "display_data"
    },
    {
     "name": "stdout",
     "output_type": "stream",
     "text": [
      "{\"epoch\": 86, \"step\": 76643, \"loss\": 4.751227378845215, \"time\": 10033, \"lr\": 0.036577470545235996}\n",
      "{\"epoch\": 86, \"step\": 77098, \"loss\": 4.803164482116699, \"time\": 10093, \"lr\": 0.034025992289223934}\n"
     ]
    },
    {
     "data": {
      "application/vnd.jupyter.widget-view+json": {
       "model_id": "5a5133aa3c8f4d3b8e2c170700e14f60",
       "version_major": 2,
       "version_minor": 0
      },
      "text/plain": [
       "  0%|          | 0/891 [00:00<?, ?it/s]"
      ]
     },
     "metadata": {},
     "output_type": "display_data"
    },
    {
     "name": "stdout",
     "output_type": "stream",
     "text": [
      "{\"epoch\": 87, \"step\": 77542, \"loss\": 5.025123596191406, \"time\": 10153, \"lr\": 0.031621778934645677}\n",
      "{\"epoch\": 87, \"step\": 77998, \"loss\": 4.707204341888428, \"time\": 10214, \"lr\": 0.029241350385090386}\n"
     ]
    },
    {
     "data": {
      "application/vnd.jupyter.widget-view+json": {
       "model_id": "7b38bdd3163140ceb0a8d95a2157fba8",
       "version_major": 2,
       "version_minor": 0
      },
      "text/plain": [
       "  0%|          | 0/891 [00:00<?, ?it/s]"
      ]
     },
     "metadata": {},
     "output_type": "display_data"
    },
    {
     "name": "stdout",
     "output_type": "stream",
     "text": [
      "{\"epoch\": 88, \"step\": 78441, \"loss\": 4.935288429260254, \"time\": 10274, \"lr\": 0.02701563795258672}\n",
      "{\"epoch\": 88, \"step\": 78896, \"loss\": 4.940202713012695, \"time\": 10334, \"lr\": 0.024819454425925844}\n"
     ]
    },
    {
     "data": {
      "application/vnd.jupyter.widget-view+json": {
       "model_id": "139ab67258b44a35a6f2f57b4452824b",
       "version_major": 2,
       "version_minor": 0
      },
      "text/plain": [
       "  0%|          | 0/891 [00:00<?, ?it/s]"
      ]
     },
     "metadata": {},
     "output_type": "display_data"
    },
    {
     "name": "stdout",
     "output_type": "stream",
     "text": [
      "{\"epoch\": 89, \"step\": 79339, \"loss\": 4.863804817199707, \"time\": 10394, \"lr\": 0.02276930259647482}\n",
      "{\"epoch\": 89, \"step\": 79795, \"loss\": 4.728198051452637, \"time\": 10454, \"lr\": 0.02075044384832915}\n"
     ]
    },
    {
     "data": {
      "application/vnd.jupyter.widget-view+json": {
       "model_id": "b9a4ff351acf402e949995c4ee3bd2fb",
       "version_major": 2,
       "version_minor": 0
      },
      "text/plain": [
       "  0%|          | 0/891 [00:00<?, ?it/s]"
      ]
     },
     "metadata": {},
     "output_type": "display_data"
    },
    {
     "name": "stdout",
     "output_type": "stream",
     "text": [
      "{\"epoch\": 90, \"step\": 80239, \"loss\": 4.956202030181885, \"time\": 10514, \"lr\": 0.018874469962185638}\n",
      "{\"epoch\": 90, \"step\": 80694, \"loss\": 4.941599369049072, \"time\": 10574, \"lr\": 0.017044498150367134}\n"
     ]
    },
    {
     "data": {
      "application/vnd.jupyter.widget-view+json": {
       "model_id": "075c017a75814807aa41a0c3822fc6ff",
       "version_major": 2,
       "version_minor": 0
      },
      "text/plain": [
       "  0%|          | 0/891 [00:00<?, ?it/s]"
      ]
     },
     "metadata": {},
     "output_type": "display_data"
    },
    {
     "name": "stdout",
     "output_type": "stream",
     "text": [
      "{\"epoch\": 91, \"step\": 81137, \"loss\": 4.911435127258301, \"time\": 10634, \"lr\": 0.015353279567600166}\n",
      "{\"epoch\": 91, \"step\": 81592, \"loss\": 4.59151554107666, \"time\": 10694, \"lr\": 0.013709731703892765}\n"
     ]
    },
    {
     "data": {
      "application/vnd.jupyter.widget-view+json": {
       "model_id": "087d7887cab6482bb825eb7ba616d140",
       "version_major": 2,
       "version_minor": 0
      },
      "text/plain": [
       "  0%|          | 0/891 [00:00<?, ?it/s]"
      ]
     },
     "metadata": {},
     "output_type": "display_data"
    },
    {
     "name": "stdout",
     "output_type": "stream",
     "text": [
      "{\"epoch\": 92, \"step\": 82036, \"loss\": 4.733535289764404, \"time\": 10754, \"lr\": 0.012197738090094086}\n",
      "{\"epoch\": 92, \"step\": 82491, \"loss\": 4.996529579162598, \"time\": 10814, \"lr\": 0.01074286365962993}\n"
     ]
    },
    {
     "data": {
      "application/vnd.jupyter.widget-view+json": {
       "model_id": "c9e274ad06c04a7ba4edba3f63154361",
       "version_major": 2,
       "version_minor": 0
      },
      "text/plain": [
       "  0%|          | 0/891 [00:00<?, ?it/s]"
      ]
     },
     "metadata": {},
     "output_type": "display_data"
    },
    {
     "name": "stdout",
     "output_type": "stream",
     "text": [
      "{\"epoch\": 93, \"step\": 82935, \"loss\": 5.067117691040039, \"time\": 10874, \"lr\": 0.009415893435062515}\n",
      "{\"epoch\": 93, \"step\": 83391, \"loss\": 4.974620819091797, \"time\": 10934, \"lr\": 0.008148828828681799}\n"
     ]
    },
    {
     "data": {
      "application/vnd.jupyter.widget-view+json": {
       "model_id": "3c5b5991d1294278a24030a25af33904",
       "version_major": 2,
       "version_minor": 0
      },
      "text/plain": [
       "  0%|          | 0/891 [00:00<?, ?it/s]"
      ]
     },
     "metadata": {},
     "output_type": "display_data"
    },
    {
     "name": "stdout",
     "output_type": "stream",
     "text": [
      "{\"epoch\": 94, \"step\": 83837, \"loss\": 4.823732852935791, \"time\": 10994, \"lr\": 0.0070038140530960585}\n",
      "{\"epoch\": 94, \"step\": 84293, \"loss\": 4.967558860778809, \"time\": 11054, \"lr\": 0.005929870791334107}\n"
     ]
    },
    {
     "data": {
      "application/vnd.jupyter.widget-view+json": {
       "model_id": "3c9674d418f94ebab71de7d30a0a8125",
       "version_major": 2,
       "version_minor": 0
      },
      "text/plain": [
       "  0%|          | 0/891 [00:00<?, ?it/s]"
      ]
     },
     "metadata": {},
     "output_type": "display_data"
    },
    {
     "name": "stdout",
     "output_type": "stream",
     "text": [
      "{\"epoch\": 95, \"step\": 84736, \"loss\": 4.925562381744385, \"time\": 11114, \"lr\": 0.004980541638183112}\n",
      "{\"epoch\": 95, \"step\": 85192, \"loss\": 4.9036359786987305, \"time\": 11175, \"lr\": 0.004100414933414932}\n"
     ]
    },
    {
     "data": {
      "application/vnd.jupyter.widget-view+json": {
       "model_id": "8d35c2bc8d6c416cb3237f827d5973c3",
       "version_major": 2,
       "version_minor": 0
      },
      "text/plain": [
       "  0%|          | 0/891 [00:00<?, ?it/s]"
      ]
     },
     "metadata": {},
     "output_type": "display_data"
    },
    {
     "name": "stdout",
     "output_type": "stream",
     "text": [
      "{\"epoch\": 96, \"step\": 85637, \"loss\": 4.606628894805908, \"time\": 11235, \"lr\": 0.0033367161769466925}\n",
      "{\"epoch\": 96, \"step\": 86091, \"loss\": 5.027503967285156, \"time\": 11295, \"lr\": 0.002654721750741293}\n"
     ]
    },
    {
     "data": {
      "application/vnd.jupyter.widget-view+json": {
       "model_id": "a58dc24783c549ccabae1c1b08b8d97b",
       "version_major": 2,
       "version_minor": 0
      },
      "text/plain": [
       "  0%|          | 0/891 [00:00<?, ?it/s]"
      ]
     },
     "metadata": {},
     "output_type": "display_data"
    },
    {
     "name": "stdout",
     "output_type": "stream",
     "text": [
      "{\"epoch\": 97, \"step\": 86535, \"loss\": 4.9801435470581055, \"time\": 11355, \"lr\": 0.0020828598382542423}\n",
      "{\"epoch\": 97, \"step\": 86990, \"loss\": 4.7705535888671875, \"time\": 11415, \"lr\": 0.0015945883970697084}\n"
     ]
    },
    {
     "data": {
      "application/vnd.jupyter.widget-view+json": {
       "model_id": "417ea3a2eeac43419d1124a4a646b9ee",
       "version_major": 2,
       "version_minor": 0
      },
      "text/plain": [
       "  0%|          | 0/891 [00:00<?, ?it/s]"
      ]
     },
     "metadata": {},
     "output_type": "display_data"
    },
    {
     "name": "stdout",
     "output_type": "stream",
     "text": [
      "{\"epoch\": 98, \"step\": 87434, \"loss\": 4.767825126647949, \"time\": 11475, \"lr\": 0.0012136636388970468}\n",
      "{\"epoch\": 98, \"step\": 87889, \"loss\": 4.616196632385254, \"time\": 11535, \"lr\": 0.0009213327333832814}\n"
     ]
    },
    {
     "data": {
      "application/vnd.jupyter.widget-view+json": {
       "model_id": "efc2995d09a145478a2040a7418bb174",
       "version_major": 2,
       "version_minor": 0
      },
      "text/plain": [
       "  0%|          | 0/891 [00:00<?, ?it/s]"
      ]
     },
     "metadata": {},
     "output_type": "display_data"
    },
    {
     "name": "stdout",
     "output_type": "stream",
     "text": [
      "{\"epoch\": 99, \"step\": 88331, \"loss\": 4.90744161605835, \"time\": 11595, \"lr\": 0.0007324601756674734}\n",
      "{\"epoch\": 99, \"step\": 88786, \"loss\": 4.686566352844238, \"time\": 11655, \"lr\": 0.0006359962656886504}\n"
     ]
    },
    {
     "ename": "AttributeError",
     "evalue": "'VICReg' object has no attribute 'module'",
     "output_type": "error",
     "traceback": [
      "\u001b[0;31m---------------------------------------------------------------------------\u001b[0m",
      "\u001b[0;31mAttributeError\u001b[0m                            Traceback (most recent call last)",
      "Input \u001b[0;32mIn [32]\u001b[0m, in \u001b[0;36m<cell line: 40>\u001b[0;34m()\u001b[0m\n\u001b[1;32m     39\u001b[0m         torch\u001b[38;5;241m.\u001b[39msave(state, args\u001b[38;5;241m.\u001b[39mexp_dir \u001b[38;5;241m/\u001b[39m \u001b[38;5;124m\"\u001b[39m\u001b[38;5;124mmodel.pth\u001b[39m\u001b[38;5;124m\"\u001b[39m)\n\u001b[1;32m     40\u001b[0m \u001b[38;5;28;01mif\u001b[39;00m args\u001b[38;5;241m.\u001b[39mrank \u001b[38;5;241m==\u001b[39m \u001b[38;5;241m0\u001b[39m:\n\u001b[0;32m---> 41\u001b[0m     torch\u001b[38;5;241m.\u001b[39msave(\u001b[43mmodel\u001b[49m\u001b[38;5;241;43m.\u001b[39;49m\u001b[43mmodule\u001b[49m\u001b[38;5;241m.\u001b[39mbackbone\u001b[38;5;241m.\u001b[39mstate_dict(), args\u001b[38;5;241m.\u001b[39mexp_dir \u001b[38;5;241m/\u001b[39m \u001b[38;5;124m\"\u001b[39m\u001b[38;5;124mresnet18.pth\u001b[39m\u001b[38;5;124m\"\u001b[39m)\n",
      "File \u001b[0;32m~/.conda/envs/grc/lib/python3.8/site-packages/torch/nn/modules/module.py:1185\u001b[0m, in \u001b[0;36mModule.__getattr__\u001b[0;34m(self, name)\u001b[0m\n\u001b[1;32m   1183\u001b[0m     \u001b[38;5;28;01mif\u001b[39;00m name \u001b[38;5;129;01min\u001b[39;00m modules:\n\u001b[1;32m   1184\u001b[0m         \u001b[38;5;28;01mreturn\u001b[39;00m modules[name]\n\u001b[0;32m-> 1185\u001b[0m \u001b[38;5;28;01mraise\u001b[39;00m \u001b[38;5;167;01mAttributeError\u001b[39;00m(\u001b[38;5;124m\"\u001b[39m\u001b[38;5;124m'\u001b[39m\u001b[38;5;132;01m{}\u001b[39;00m\u001b[38;5;124m'\u001b[39m\u001b[38;5;124m object has no attribute \u001b[39m\u001b[38;5;124m'\u001b[39m\u001b[38;5;132;01m{}\u001b[39;00m\u001b[38;5;124m'\u001b[39m\u001b[38;5;124m\"\u001b[39m\u001b[38;5;241m.\u001b[39mformat(\n\u001b[1;32m   1186\u001b[0m     \u001b[38;5;28mtype\u001b[39m(\u001b[38;5;28mself\u001b[39m)\u001b[38;5;241m.\u001b[39m\u001b[38;5;18m__name__\u001b[39m, name))\n",
      "\u001b[0;31mAttributeError\u001b[0m: 'VICReg' object has no attribute 'module'"
     ]
    }
   ],
   "source": [
    "start_time = last_logging = time.time()\n",
    "scaler = torch.cuda.amp.GradScaler()\n",
    "for epoch in trange(start_epoch, args.epochs):\n",
    "#     sampler.set_epoch(epoch)\n",
    "#     for step, ((x, y), _) in enumerate(loader, start=epoch * len(loader)):\n",
    "    for step, (x, y, _) in tqdm(enumerate(loader, start=epoch * len(loader)), total=len(loader)+1):\n",
    "        x = x.cuda(gpu, non_blocking=True)\n",
    "        y = y.cuda(gpu, non_blocking=True)\n",
    "#         x = x.to(DEVICE)\n",
    "#         y = y.to(DEVICE)\n",
    "\n",
    "        lr = mvr.adjust_learning_rate(args, optimizer, loader, step)\n",
    "\n",
    "        optimizer.zero_grad()\n",
    "#         with torch.cuda.amp.autocast():\n",
    "        loss = model.forward(x, y)\n",
    "        scaler.scale(loss).backward()\n",
    "        scaler.step(optimizer)\n",
    "        scaler.update()\n",
    "\n",
    "        current_time = time.time()\n",
    "        if args.rank == 0 and current_time - last_logging > args.log_freq_time:\n",
    "            stats = dict(\n",
    "                epoch=epoch,\n",
    "                step=step,\n",
    "                loss=loss.item(),\n",
    "                time=int(current_time - start_time),\n",
    "                lr=lr,\n",
    "            )\n",
    "            print(json.dumps(stats))\n",
    "            print(json.dumps(stats), file=stats_file)\n",
    "            last_logging = current_time\n",
    "    if args.rank == 0:\n",
    "        state = dict(\n",
    "            epoch=epoch + 1,\n",
    "            model=model.state_dict(),\n",
    "            optimizer=optimizer.state_dict(),\n",
    "        )\n",
    "        torch.save(state, args.exp_dir / \"model.pth\")\n",
    "if args.rank == 0:\n",
    "    torch.save(model.module.backbone.state_dict(), args.exp_dir / \"resnet18.pth\")\n",
    "    "
   ]
  },
  {
   "cell_type": "code",
   "execution_count": null,
   "metadata": {},
   "outputs": [],
   "source": [
    "X_data = X_labeled_train_SYT.copy()\n",
    "\n",
    "transforms_validation = torch.nn.Sequential(\n",
    "    augmentation.ScaleDynamicRange(scaler_bounds=(0,1)),\n",
    "    torchvision.transforms.Resize(size=(224,224),\n",
    "                                  interpolation=torchvision.transforms.InterpolationMode.BILINEAR), \n",
    "    augmentation.TileChannels(dim=0, n_channels=3),\n",
    ")\n",
    "\n",
    "scripted_transforms_validation = torch.jit.script(transforms_validation)\n",
    "\n",
    "dataset_labeled_train = dataset_vicreg(\n",
    "                                torch.as_tensor(X_data, device='cpu', dtype=torch.float32), \n",
    "                                torch.as_tensor(torch.zeros(X_data.shape[0]), device='cpu', dtype=torch.float32),\n",
    "                                transforms=[scripted_transforms_validation, scripted_transforms_validation],\n",
    "                                DEVICE='cpu',\n",
    "                                dtype_X=torch.float32,\n",
    "                                dtype_y=torch.int64)\n",
    "dataloader_labeled_train = torch.utils.data.DataLoader(dataset_labeled_train,\n",
    "                                                batch_size=100,\n",
    "                                                shuffle=False,\n",
    "                                                drop_last=False,\n",
    "                                                pin_memory=False,\n",
    "                                                num_workers=0,\n",
    "                                                persistent_workers=False,\n",
    "                                                )\n",
    "\n",
    "latents = torch.cat([model.projector(model.backbone(data[0].to(DEVICE))).detach().cpu() for data in tqdm(dataloader_labeled_train)], dim=0)"
   ]
  },
  {
   "cell_type": "code",
   "execution_count": null,
   "metadata": {},
   "outputs": [],
   "source": [
    "latents.shape"
   ]
  },
  {
   "cell_type": "code",
   "execution_count": null,
   "metadata": {},
   "outputs": [],
   "source": []
  },
  {
   "cell_type": "code",
   "execution_count": null,
   "metadata": {},
   "outputs": [],
   "source": [
    "%matplotlib notebook\n",
    "\n",
    "from basic_neural_processing_modules import similarity, decomposition\n",
    "\n",
    "pairs = similarity.pairwise_similarity(latents.numpy())\n",
    "\n",
    "plt.figure()\n",
    "plt.imshow(pairs)"
   ]
  },
  {
   "cell_type": "code",
   "execution_count": null,
   "metadata": {},
   "outputs": [],
   "source": [
    "# dtp = decomposition.torch_pca(latents)[0]\n",
    "\n",
    "# plt.figure()\n",
    "# plt.plot(dtp)\n"
   ]
  },
  {
   "cell_type": "code",
   "execution_count": null,
   "metadata": {},
   "outputs": [],
   "source": [
    "from sklearn.decomposition import PCA\n",
    "\n",
    "pca = PCA()\n",
    "pca.fit(latents)"
   ]
  },
  {
   "cell_type": "code",
   "execution_count": null,
   "metadata": {},
   "outputs": [],
   "source": [
    "plt.figure()\n",
    "plt.plot(pca.explained_variance_ratio_)\n",
    "plt.yscale('linear')"
   ]
  },
  {
   "cell_type": "code",
   "execution_count": null,
   "metadata": {},
   "outputs": [],
   "source": [
    "plt.figure()\n",
    "plt.plot(pca.explained_variance_ratio_)\n",
    "plt.yscale('log')"
   ]
  },
  {
   "cell_type": "code",
   "execution_count": null,
   "metadata": {},
   "outputs": [],
   "source": [
    "import umap\n",
    "# import sns\n",
    "# sns.set(style='white', context='poster', rc={'figure.figsize':(14,10)})\n",
    "fit = umap.UMAP()\n",
    "%time u = fit.fit_transform(latents)"
   ]
  },
  {
   "cell_type": "code",
   "execution_count": null,
   "metadata": {},
   "outputs": [],
   "source": []
  },
  {
   "cell_type": "code",
   "execution_count": null,
   "metadata": {},
   "outputs": [],
   "source": []
  },
  {
   "cell_type": "code",
   "execution_count": null,
   "metadata": {},
   "outputs": [],
   "source": [
    "import pandas as pd\n",
    "xy_df = pd.DataFrame(u, columns=['x', 'y'])\n",
    "xy_df['x_min'] = xy_df['x'].min()\n",
    "xy_df['x_max'] = xy_df['x'].max()\n",
    "xy_df['y_min'] = xy_df['y'].min()\n",
    "xy_df['y_max'] = xy_df['y'].max()\n",
    "\n",
    "xy_df['x_mm'] = (xy_df['x'] - xy_df['x_min']) / (xy_df['x_max'] - xy_df['x_min'])\n",
    "xy_df['y_mm'] = (xy_df['y'] - xy_df['y_min']) / (xy_df['y_max'] - xy_df['y_min'])\n",
    "\n",
    "xy_df['x_mmf'] = np.floor(xy_df['x_mm']*20)\n",
    "xy_df['y_mmf'] = np.floor(xy_df['y_mm']*20)\n",
    "\n",
    "xy_df['mmf'] = xy_df['x_mmf'].astype(str) + '_' + xy_df['y_mmf'].astype(str)\n",
    "smpl_imgs = xy_df.groupby('mmf').sample(1)"
   ]
  },
  {
   "cell_type": "code",
   "execution_count": null,
   "metadata": {},
   "outputs": [],
   "source": [
    "import matplotlib.pyplot as plt\n",
    "from matplotlib.offsetbox import OffsetImage, AnnotationBbox\n",
    "\n",
    "def scl_to_bnd(x, bound_high):\n",
    "    mx = x.max(axis=0, keepdims=True)\n",
    "    mn = x.min(axis=0, keepdims=True)\n",
    "    scl = (x - mn)*(bound_high-1)/(mx - mn)\n",
    "    return scl, mn, mx\n",
    "\n",
    "bound_high = 1000\n",
    "bounded_features = scl_to_bnd(u, bound_high)\n",
    "inx_lst = list(smpl_imgs.index)\n",
    "img_lst = X_data[inx_lst]\n",
    "x = bounded_features[0][inx_lst, 0]\n",
    "y = bounded_features[0][inx_lst, 1]"
   ]
  },
  {
   "cell_type": "code",
   "execution_count": null,
   "metadata": {},
   "outputs": [],
   "source": [
    "def getImage(img):\n",
    "    return OffsetImage(img, cmap='gray')"
   ]
  },
  {
   "cell_type": "code",
   "execution_count": null,
   "metadata": {
    "scrolled": false
   },
   "outputs": [],
   "source": [
    "%matplotlib notebook\n",
    "# plt.figure()\n",
    "# plt.scatter(u[:,0], u[:,1])\n",
    "# plt.title('UMAP');\n",
    "\n",
    "fig, ax = plt.subplots(figsize=(20,20))\n",
    "\n",
    "ax.scatter(bounded_features[0][:,0], bounded_features[0][:,1], cmap=plt.get_cmap('tab10'))\n",
    "ax.scatter(x, y)\n",
    "\n",
    "for x0, y0, path in zip(x, y, img_lst):\n",
    "    ab = AnnotationBbox(getImage(path), (x0, y0), frameon=False)\n",
    "    ax.add_artist(ab)\n"
   ]
  },
  {
   "cell_type": "code",
   "execution_count": null,
   "metadata": {},
   "outputs": [],
   "source": []
  },
  {
   "cell_type": "code",
   "execution_count": null,
   "metadata": {},
   "outputs": [],
   "source": [
    "transforms_validation = torch.nn.Sequential(\n",
    "    augmentation.ScaleDynamicRange(scaler_bounds=(0,1)),\n",
    "    torchvision.transforms.Resize(size=(224,224),\n",
    "                                  interpolation=torchvision.transforms.InterpolationMode.BILINEAR), \n",
    "    augmentation.TileChannels(dim=0, n_channels=3),\n",
    "#     augmentation.Normalize(  means=[0.485, 0.456, 0.406],\n",
    "#                              stds=[0.229, 0.224, 0.225]),\n",
    "#     torchvision.transforms.Normalize(mean=[0.485, 0.456, 0.406],\n",
    "#                                      std=[0.229, 0.224, 0.225],\n",
    "#                                      inplace=False),\n",
    ")\n",
    "scripted_transforms_validation = torch.jit.script(transforms_validation)\n",
    "# scripted_transforms = transforms\n"
   ]
  },
  {
   "cell_type": "code",
   "execution_count": null,
   "metadata": {},
   "outputs": [],
   "source": [
    "dataset_labeled_train = dataset_vicreg(\n",
    "                                torch.as_tensor(X_labeled_train, device='cpu', dtype=torch.float32), \n",
    "                                torch.as_tensor(torch.zeros(X_labeled_train.shape[0]), device='cpu', dtype=torch.float32),\n",
    "                                transforms=[scripted_transforms_validation, scripted_transforms_validation],\n",
    "                                DEVICE='cpu',\n",
    "                                dtype_X=torch.float32,\n",
    "                                dtype_y=torch.int64)\n",
    "dataset_labeled_val = dataset_vicreg(\n",
    "                                torch.as_tensor(X_labeled_val, device='cpu', dtype=torch.float32), \n",
    "                                torch.as_tensor(torch.zeros(X_labeled_val.shape[0]), device='cpu', dtype=torch.float32),\n",
    "                                transforms=[scripted_transforms_validation, scripted_transforms_validation],\n",
    "                                DEVICE='cpu',\n",
    "                                dtype_X=torch.float32,\n",
    "                                dtype_y=torch.int64\n",
    "                                    )\n",
    "dataloader_labeled_train = torch.utils.data.DataLoader( dataset_labeled_train,\n",
    "                                                    batch_size=800,\n",
    "                                                    shuffle=False,\n",
    "                                                    drop_last=False\n",
    "                                                    )\n",
    "dataloader_labeled_val = torch.utils.data.DataLoader( dataset_labeled_val,\n",
    "                                                    batch_size=800,\n",
    "                                                    shuffle=False,\n",
    "                                                    drop_last=False,\n",
    "                                                    )\n"
   ]
  },
  {
   "cell_type": "code",
   "execution_count": null,
   "metadata": {},
   "outputs": [],
   "source": [
    "model.eval()\n",
    "model.to(DEVICE)\n",
    "features_train = torch.cat([model.projector(model.backbone(data[0].to(DEVICE))).detach().cpu() for data in tqdm(dataloader_labeled_train)], dim=0)\n",
    "features_val   = torch.cat([model.projector(model.backbone(data[0].to(DEVICE))).detach().cpu() for data in tqdm(dataloader_labeled_val)], dim=0)\n"
   ]
  },
  {
   "cell_type": "code",
   "execution_count": null,
   "metadata": {},
   "outputs": [],
   "source": [
    "acc_train, acc_val = [], []\n",
    "# C_toUse = np.array([1000,100,10,1,0.1,0.01,0.001,0.0001,0.00001])\n",
    "C_toUse = np.array([10,1,0.1,0.01,0.001,0.0001,0.00001])\n",
    "for C in C_toUse:\n",
    "#     print(f'C = {C}')\n",
    "    logreg = sklearn.linear_model.LogisticRegression(solver='liblinear', max_iter=800, C=C)\n",
    "#     tic = time.time()\n",
    "#     logreg.fit(features_train, y_labeled_train_SYT)\n",
    "    logreg.fit(features_train, y_labeled_train)\n",
    "#     print(f'time: {time.time() - tic}')\n",
    "#     acc = logreg.score(features_train, y_labeled_train_SYT)\n",
    "    acc = logreg.score(features_train, y_labeled_train)\n",
    "    acc_train.append(acc)\n",
    "#     print(f'acc_train: {acc}')\n",
    "#     acc = logreg.score(features_val, y_labeled_val_SYT)\n",
    "    acc = logreg.score(features_val, y_labeled_val)\n",
    "    acc_val.append(acc)\n",
    "#     print(f'acc_val: {acc}')\n",
    "#     print('')\n",
    "    \n",
    "\n",
    "plt.figure()\n",
    "plt.plot(C_toUse, acc_train)\n",
    "plt.plot(C_toUse, acc_val)\n",
    "plt.xscale('log')\n",
    "plt.xlabel('C')\n",
    "plt.ylabel('acc')\n",
    "plt.legend(['train', 'test']);"
   ]
  },
  {
   "cell_type": "code",
   "execution_count": null,
   "metadata": {},
   "outputs": [],
   "source": [
    "from sklearn.model_selection import ShuffleSplit\n",
    "splitter = ShuffleSplit(n_splits=50)\n",
    "all_split_inx = list(splitter.split(features_train))\n",
    "\n",
    "train_X = [features_train[_[0]] for _ in all_split_inx]\n",
    "train_y = [y_labeled_train[_[0]] for _ in all_split_inx]\n",
    "# train_y = [y_labeled_train_SYT[_[0]] for _ in all_split_inx]\n",
    "test_X = [features_train[_[1]] for _ in all_split_inx]\n",
    "test_y = [y_labeled_train[_[1]] for _ in all_split_inx]\n",
    "# test_y = [y_labeled_train_SYT[_[1]] for _ in all_split_inx]\n",
    "\n",
    "%matplotlib inline\n",
    "\n",
    "c_lst = [1e1, 1e0, 1e-1, 1e-2, 1e-3]\n",
    "\n",
    "fig, ax = plt.subplots(len(c_lst), 2, figsize=(10,10))\n",
    "# plt.suptitle(f'{model_file_name}')\n",
    "\n",
    "for ic, c in enumerate(c_lst):\n",
    "    train_cms = []\n",
    "    test_cms = []\n",
    "    for inx_split in trange(len(train_X)):\n",
    "        tmp_train_X = train_X[inx_split]\n",
    "        tmp_train_y = train_y[inx_split]\n",
    "        \n",
    "        tmp_test_X = test_X[inx_split]\n",
    "        tmp_test_y = test_y[inx_split]\n",
    "        \n",
    "        logreg = sklearn.linear_model.LogisticRegression(solver='liblinear', max_iter=800, C=c).fit(tmp_train_X, tmp_train_y)\n",
    "        \n",
    "        \n",
    "        \n",
    "        \n",
    "        \n",
    "        proba = logreg.predict_proba(tmp_train_X)\n",
    "\n",
    "        preds = np.argmax(proba, axis=1)\n",
    "        cm = classification.confusion_matrix(preds, tmp_train_y)\n",
    "        train_cms.append(cm)\n",
    "\n",
    "#         plt.figure()\n",
    "#         sns.heatmap(cm, annot=True, annot_kws={\"size\": 16}, vmax=1., cmap=plt.get_cmap('gray'))\n",
    "#         plt.title('train');\n",
    "        \n",
    "        proba = logreg.predict_proba(tmp_test_X)\n",
    "        preds = np.argmax(proba, axis=1)\n",
    "        cm = classification.confusion_matrix(preds, tmp_test_y)\n",
    "        test_cms.append(cm)\n",
    "        \n",
    "#         plt.figure()\n",
    "#         sns.heatmap(cm, annot=True, annot_kws={\"size\": 16}, vmax=1., cmap=plt.get_cmap('gray'))\n",
    "#         plt.title('val');\n",
    "\n",
    "    sns.heatmap(np.mean(train_cms,axis=0), annot=True, annot_kws={\"size\": 16}, vmax=1., cmap=plt.get_cmap('gray'), ax=ax[ic, 0])\n",
    "    ax[ic, 0].set_title(f'train — C:{c}');\n",
    "\n",
    "    sns.heatmap(np.mean(test_cms,axis=0), annot=True, annot_kws={\"size\": 16}, vmax=1., cmap=plt.get_cmap('gray'), ax=ax[ic, 1])\n",
    "    ax[ic, 1].set_title(f'val — C:{c}');\n",
    "\n",
    "plt.tight_layout()\n"
   ]
  },
  {
   "cell_type": "code",
   "execution_count": null,
   "metadata": {},
   "outputs": [],
   "source": []
  },
  {
   "cell_type": "code",
   "execution_count": null,
   "metadata": {},
   "outputs": [],
   "source": []
  },
  {
   "cell_type": "code",
   "execution_count": null,
   "metadata": {},
   "outputs": [],
   "source": []
  },
  {
   "cell_type": "code",
   "execution_count": null,
   "metadata": {},
   "outputs": [],
   "source": []
  },
  {
   "cell_type": "code",
   "execution_count": null,
   "metadata": {},
   "outputs": [],
   "source": [
    "break"
   ]
  },
  {
   "cell_type": "raw",
   "metadata": {
    "id": "MIix9BdUCkqf"
   },
   "source": [
    "# import torchvision.models\n",
    "\n",
    "# # base_model = torchvision.models.resnet101(pretrained=True)\n",
    "# base_model = torchvision.models.resnet18(pretrained=True)\n",
    "\n",
    "# for param in base_model.parameters():\n",
    "#     param.requires_grad = False\n",
    "\n",
    "# retrain = list(base_model.children())[-1:]\n",
    "# for layer in retrain:\n",
    "#     params = layer.parameters()\n",
    "#     for param in params:\n",
    "#         param.requires_grad = True"
   ]
  },
  {
   "cell_type": "code",
   "execution_count": null,
   "metadata": {
    "id": "oyjLftj_cEGW"
   },
   "outputs": [],
   "source": [
    "import torchvision.models\n",
    "\n",
    "# base_model_frozen = torchvision.models.resnet101(pretrained=True)\n",
    "# base_model_frozen = torchvision.models.resnet18(pretrained=True)\n",
    "# base_model_frozen = torchvision.models.wide_resnet50_2(pretrained=True)\n",
    "# base_model_frozen = torchvision.models.resnet50(pretrained=True)\n",
    "\n",
    "# base_model_frozen = torchvision.models.efficientnet_b0(pretrained=True)\n",
    "base_model_frozen = torchvision.models.resnet18(pretrained=True)\n",
    "\n",
    "\n",
    "for param in base_model_frozen.parameters():\n",
    "    param.requires_grad = False"
   ]
  },
  {
   "cell_type": "markdown",
   "metadata": {},
   "source": [
    "start with a pretrained resnet model, and chop off the final layer. This will be used as the base on which we add the pre-head layers (for expressivity), latent layers (for simCLR), or classification layers (for post-hoc logistic regression)"
   ]
  },
  {
   "cell_type": "code",
   "execution_count": null,
   "metadata": {
    "id": "aWnb7WWri9qK"
   },
   "outputs": [],
   "source": [
    "model_chopped = torch.nn.Sequential(*(list(base_model_frozen.children())[:-1] + [torch.nn.Flatten()]))"
   ]
  },
  {
   "cell_type": "markdown",
   "metadata": {
    "id": "_E18ZEzpClNd"
   },
   "source": [
    "### Make combined model\n",
    "'model' has two forward methods. One for generating latents (for simCLR) and one for classifying labels"
   ]
  },
  {
   "cell_type": "code",
   "execution_count": null,
   "metadata": {
    "colab": {
     "base_uri": "https://localhost:8080/"
    },
    "id": "n6Qx-1NGJNY3",
    "outputId": "f7cb3ded-3b48-439e-bf57-a526fb48bac7"
   },
   "outputs": [],
   "source": [
    "model = ModelTackOn(model_chopped, base_model_frozen, pre_head_fc_sizes=[1024, 512], post_head_fc_sizes=[64], classifier_fc_sizes=[len(np.unique(y_labeled_train))])\n",
    "# model = ModelTackOn(model_chopped.to(DEVICE), base_model_frozen, pre_head_fc_sizes=[len(np.unique(y_train))], post_head_fc_sizes=[])\n",
    "# model = ModelTackOn(model_chopped.to(DEVICE), base_model_frozen, pre_head_fc_sizes=[len(np.unique(y_train))], post_head_fc_sizes=[])\n",
    "\n",
    "# model = torch.nn.Sequential([model_chopped.to(DEVICE), torch.nn.Linear], pre_head_fc_sizes=[len(np.unique(y_train))], post_head_fc_sizes=[])\n",
    "\n",
    "\n",
    "# model = ModelTackOn(base_model_frozen, pre_head_fc_sizes=[len(np.unique(y_train))], post_head_fc_sizes=[])\n",
    "# model = ModelTackOn(base_model, pre_head_fc_sizes=[len(np.unique(y_train))], post_head_fc_sizes=[])\n",
    "model.train();"
   ]
  },
  {
   "cell_type": "code",
   "execution_count": null,
   "metadata": {
    "tags": []
   },
   "outputs": [],
   "source": [
    "base_model_frozen"
   ]
  },
  {
   "cell_type": "code",
   "execution_count": null,
   "metadata": {},
   "outputs": [],
   "source": [
    "# unfreeze particular blocks in ResNet model\n",
    "\n",
    "# #efficient net \n",
    "# for name, param in list(model.named_parameters()):\n",
    "#     print(name)\n",
    "#     print(name)\n",
    "#     if name[:10] == 'base_model':\n",
    "#         if int(name[13]) < 7:\n",
    "#             param.requires_grad = False\n",
    "#         elif int(name[13]) >= 7:\n",
    "#             param.requires_grad = True\n",
    "\n",
    "# for name, param in list(model.named_parameters()):\n",
    "#     if param.requires_grad:\n",
    "#         print(name)\n",
    "\n",
    "\n",
    "#ResNet18\n",
    "for name, param in list(model.named_parameters()):\n",
    "    if name[:10] == 'base_model':\n",
    "        if int(name[11]) < 7:\n",
    "            param.requires_grad = False\n",
    "        elif int(name[11]) >= 7:\n",
    "            param.requires_grad = True\n",
    "\n",
    "for name, param in list(model.named_parameters()):\n",
    "    if param.requires_grad:\n",
    "        print(name)"
   ]
  },
  {
   "cell_type": "markdown",
   "metadata": {
    "id": "T2ARByXvDB0s"
   },
   "source": [
    "## Define augmentation pipeline"
   ]
  },
  {
   "cell_type": "code",
   "execution_count": null,
   "metadata": {},
   "outputs": [],
   "source": [
    "# import torchvision.transforms    \n",
    "\n",
    "# transforms = torch.nn.Sequential(\n",
    "#     torchvision.transforms.RandomHorizontalFlip(p=0.5),\n",
    "        \n",
    "#     torchvision.transforms.RandomAffine(\n",
    "#                                         degrees=(-180,180),\n",
    "#                                         translate=(0.15, 0.15), #0, .3, .45 (DEFAULT)\n",
    "#                                         scale=(0.6, 1.2), # no scale (1,1), (0.4, 1.5)\n",
    "#                                         shear=(-15, 15, -15, 15),\n",
    "#                                         interpolation=torchvision.transforms.InterpolationMode.BILINEAR, \n",
    "#                                         fill=0, \n",
    "#                                         fillcolor=None, \n",
    "#                                         resample=None),\n",
    "#     augmentation.AddPoissonNoise(   #scaler_bounds=(10**(4.5), 10**(6.)),\n",
    "#                                     scaler_bounds=(10**(4), 10**(6)),\n",
    "#                                     prob=1,\n",
    "#                                     base=1000,\n",
    "#                                     scaling='log'),\n",
    "#     augmentation.AddGaussianNoise(  mean=0, \n",
    "#                                     std=0.00015,\n",
    "#                                     prob=1),\n",
    "    \n",
    "#     augmentation.ScaleDynamicRange(scaler_bounds=(0,1)), # just clamping, both this and clamping = normalizing (DEFAULT)\n",
    "#     # torchvision.transforms.Resize(size=(224,224), \n",
    "#     #                               interpolation=torchvision.transforms.InterpolationMode.BILINEAR), # To do or not to do (DEFAULT)\n",
    "    \n",
    "#     augmentation.TileChannels(dim=0, n_channels=3),\n",
    "# )\n",
    "\n",
    "import torchvision.transforms    \n",
    "\n",
    "transforms = torch.nn.Sequential(\n",
    "    # torchvision.transforms.RandomHorizontalFlip(p=0.5),    \n",
    "    augmentation.ScaleDynamicRange(scaler_bounds=(0,1)), # just clamping, both this and clamping = normalizing (DEFAULT)\n",
    "    augmentation.WarpPoints(r=[0, 1],\n",
    "                            cx=[-0.5, 0.5],\n",
    "                            cy=[-0.5, 0.5], \n",
    "                            dx=[-0.3, 0.0], \n",
    "                            dy=[-0.3, 0.0], \n",
    "                            n_warps=5,\n",
    "                            prob=1.0,\n",
    "                            img_size_in=[36, 36],\n",
    "                            img_size_out=[224, 224]),\n",
    "\n",
    "    \n",
    "    augmentation.TileChannels(dim=0, n_channels=3),\n",
    "#     torchvision.transforms.Resize(size=(224,224), \n",
    "#                                   interpolation=torchvision.transforms.InterpolationMode.BILINEAR), # To do or not to do (DEFAULT)\n",
    "    \n",
    ")\n",
    "    \n",
    "\n",
    "scripted_transforms = torch.jit.script(transforms)\n"
   ]
  },
  {
   "cell_type": "raw",
   "metadata": {
    "id": "tq77tWZeDB0s",
    "jupyter": {
     "source_hidden": true
    },
    "tags": []
   },
   "source": [
    "import torchvision.transforms    \n",
    "\n",
    "transforms = torch.nn.Sequential(\n",
    "    \n",
    "#     torchvision.transforms.RandomAdjustSharpness(torch.rand(1)*5, p=0.5),\n",
    "#         torchvision.transforms.RandomPerspective(distortion_scale=0.7, \n",
    "#                                              p=0.5, \n",
    "#                                              interpolation=torchvision.transforms.InterpolationMode.BILINEAR, \n",
    "#                                              fill=0),\n",
    "#     torchvision.transforms.GaussianBlur(kernel_size=5,\n",
    "#                                         sigma=(0.0001, 0.1)),\n",
    "        \n",
    "\n",
    "    torchvision.transforms.RandomHorizontalFlip(p=0.5),\n",
    "        \n",
    "    torchvision.transforms.RandomAffine(\n",
    "                                        degrees=(-180,180),\n",
    "                                        translate=(0.2, 0.2), #0.15/.15\n",
    "                                        scale=(0.4, 1.3),  #.6, 1.2\n",
    "                                        shear=(-25, 25, -25, 25), # -15/+15 across board\n",
    "                                        interpolation=torchvision.transforms.InterpolationMode.BILINEAR, \n",
    "                                        fill=0, \n",
    "                                        fillcolor=None, \n",
    "                                        resample=None),\n",
    "    augmentation.AddPoissonNoise(   scaler_bounds=(10**(4.0), 10**(6.)), # 4.5, 6\n",
    "                                    prob=1,\n",
    "                                    base=1000,\n",
    "                                    scaling='log'),\n",
    "    augmentation.AddGaussianNoise(  mean=0, \n",
    "                                    std=0.0002, # 0.00015\n",
    "                                    prob=1),\n",
    "    \n",
    "    augmentation.ScaleDynamicRange(scaler_bounds=(0,1)), # Do vs. don't do -- bounds between 0/1. Either do this OR do this followed by torchvision.transforms.Normalize\n",
    "    \n",
    "    torchvision.transforms.Resize(size=(224,224),\n",
    "                                  interpolation=torchvision.transforms.InterpolationMode.BILINEAR), # Do vs. don't do\n",
    "    \n",
    "    # augmentation.AddPoissonNoise(   scaler_bounds=(10**(1.5), 10**(4.0)),\n",
    "    #                                 prob=1,\n",
    "    #                                 base=1000,\n",
    "    #                                 scaling='log'),\n",
    "    # augmentation.AddGaussianNoise(  mean=0, \n",
    "    #                                 std=0.1,\n",
    "    #                                 prob=1),\n",
    "    \n",
    "    augmentation.TileChannels(dim=0, n_channels=3),\n",
    "    \n",
    "#     augmentation.Normalize(  means=[0.485, 0.456, 0.406],\n",
    "#                              stds=[0.229, 0.224, 0.225]),\n",
    "#     torchvision.transforms.Normalize(mean=[0.485, 0.456, 0.406],\n",
    "#                                      std=[0.229, 0.224, 0.225],\n",
    "#                                      inplace=False),\n",
    "#     torchvision.transforms.RandomHorizontalFlip(p=0.5),\n",
    "\n",
    "#     torchvision.transforms.RandomAffine(\n",
    "#                                         degrees=(-180,180),\n",
    "#                                         translate=(0.0, 0.0),\n",
    "#                                         interpolation=torchvision.transforms.InterpolationMode.BILINEAR, \n",
    "#                                         fill=0, \n",
    "#                                         # fillcolor=None, \n",
    "#                                         resample=None),\n",
    ")\n",
    "scripted_transforms = torch.jit.script(transforms)\n",
    "# scripted_transforms = transforms"
   ]
  },
  {
   "cell_type": "code",
   "execution_count": null,
   "metadata": {
    "id": "PmM4nnV1nCVd"
   },
   "outputs": [],
   "source": [
    "dataset_train = dataset.dataset_simCLR(\n",
    "                                    torch.as_tensor(masks_cat, device='cpu', dtype=torch.float32), \n",
    "                                    torch.as_tensor(torch.zeros(masks_cat.shape[0]), device='cpu', dtype=torch.float32),\n",
    "\n",
    "                                    n_transforms=2,\n",
    "                                    class_weights=np.array([1]),\n",
    "                                    # class_weights=np.array([1]*4)[np.random.randint(0,4, X_train.shape[0])],\n",
    "                                    transform=scripted_transforms,\n",
    "                                    # DEVICE='cpu',\n",
    "                                    DEVICE='cpu',\n",
    "                                    dtype_X=torch.float32,\n",
    "                                    dtype_y=torch.int64,\n",
    "                                    \n",
    "                                    temp_uncertainty=16\n",
    "                                    )\n",
    "dataloader_train = torch.utils.data.DataLoader( dataset_train,\n",
    "#                                                 batch_size=int(pct_batch_size*X_train.shape[0]),\n",
    "                                                batch_size=800,\n",
    "                                                # shuffle=True,\n",
    "                                                shuffle=True,\n",
    "                                                drop_last=True,\n",
    "                                                pin_memory=True,\n",
    "                                                num_workers=16,\n",
    "                                                persistent_workers=True,\n",
    "                                                # prefetch_factor=0\n",
    "                                                )"
   ]
  },
  {
   "cell_type": "code",
   "execution_count": null,
   "metadata": {},
   "outputs": [],
   "source": [
    "idx_rand = np.random.randint(0,masks_cat.shape[0], 10)\n",
    "for ii in idx_rand:\n",
    "    fig, axs = plt.subplots(1,2)\n",
    "    # print(dataset_train[ii][0][0][0].shape)\n",
    "    axs[0].imshow(dataset_train[ii][0][0][0])\n",
    "    axs[1].imshow(dataset_train[ii][0][1][0])"
   ]
  },
  {
   "cell_type": "code",
   "execution_count": null,
   "metadata": {
    "colab": {
     "base_uri": "https://localhost:8080/"
    },
    "id": "nstWf2PhVwfV",
    "outputId": "968f73ab-75d7-4735-ea1e-49e7fb3821cc"
   },
   "outputs": [],
   "source": [
    "# torch_helpers.delete_all_cuda_tensors(globals())\n",
    "\n",
    "import gc\n",
    "\n",
    "torch.cuda.empty_cache()\n",
    "gc.collect()\n",
    "torch.cuda.empty_cache()\n",
    "gc.collect()\n",
    "torch.cuda.empty_cache()\n",
    "gc.collect()\n",
    "torch.cuda.empty_cache()\n",
    "gc.collect()"
   ]
  },
  {
   "cell_type": "markdown",
   "metadata": {
    "id": "OQ27o1ny9Xfi"
   },
   "source": [
    "## Training"
   ]
  },
  {
   "cell_type": "code",
   "execution_count": null,
   "metadata": {},
   "outputs": [],
   "source": [
    "model.to(DEVICE)\n",
    "model.prep_contrast()"
   ]
  },
  {
   "cell_type": "code",
   "execution_count": null,
   "metadata": {
    "id": "yDqu-bi8mnJB"
   },
   "outputs": [],
   "source": [
    "from torch.nn import CrossEntropyLoss\n",
    "from torch.optim import Adam\n",
    "\n",
    "import numpy as np\n",
    "\n",
    "from sklearn.linear_model import LogisticRegression\n",
    "from sklearn.tree import DecisionTreeClassifier\n",
    "from sklearn.ensemble import RandomForestClassifier\n",
    "from sklearn.svm import SVC\n",
    "\n",
    "\n",
    "# model = models.LeNet1(dropout_prob=0.3, momentum_val=0, n_output_features=64)\n",
    "\n",
    "\n",
    "criterion = [CrossEntropyLoss()]\n",
    "# criterion = CrossEntropyLoss(reduction='none')\n",
    "\n",
    "# optimizer = Adam(model.parameters(), lr=1e-2, weight_decay=0.0)\n",
    "# optimizer = Adam(model.parameters(), lr=2e-2)\n",
    "optimizer = Adam(model.parameters(), lr=10**(-3.5))\n",
    "scheduler = torch.optim.lr_scheduler.ExponentialLR(optimizer,\n",
    "                                                   gamma=1-0.0000,\n",
    "#                                                    gamma=1,\n",
    "                                                  )\n",
    "\n",
    "criterion = [_.to(DEVICE) for _ in criterion]\n",
    "losses_train, losses_val, val_accs, acc = [], [np.nan], [], []"
   ]
  },
  {
   "cell_type": "code",
   "execution_count": null,
   "metadata": {},
   "outputs": [],
   "source": []
  },
  {
   "cell_type": "markdown",
   "metadata": {},
   "source": []
  },
  {
   "cell_type": "code",
   "execution_count": null,
   "metadata": {},
   "outputs": [],
   "source": [
    "def get_ds_dl(data, transforms, expand_dim=False):\n",
    "    setup_ds = dataset.dataset_simCLR(\n",
    "                                    torch.as_tensor(data, device='cpu', dtype=torch.float32), \n",
    "                                    torch.as_tensor(torch.zeros(data.shape[0]), device='cpu', dtype=torch.float32),\n",
    "\n",
    "\n",
    "                                    n_transforms=1,\n",
    "                                    transform=transforms,\n",
    "                                    class_weights=np.array([1]),\n",
    "                                    DEVICE='cpu',\n",
    "                                    dtype_X=torch.float32,\n",
    "                                    dtype_y=torch.int64,\n",
    "\n",
    "                                    temp_uncertainty=16,\n",
    "                                    expand_dim=expand_dim\n",
    "                                    )\n",
    "    setup_dl = torch.utils.data.DataLoader( setup_ds,\n",
    "                                            batch_size=1024,\n",
    "                                            shuffle=False,\n",
    "                                            drop_last=False,\n",
    "                                            # pin_memory=True,\n",
    "                                            # num_workers=16,\n",
    "                                            # persistent_workers=True,\n",
    "                                            )\n",
    "\n",
    "    return setup_ds, setup_dl"
   ]
  },
  {
   "cell_type": "code",
   "execution_count": null,
   "metadata": {},
   "outputs": [],
   "source": [
    "X_labeled_train.shape"
   ]
  },
  {
   "cell_type": "code",
   "execution_count": null,
   "metadata": {},
   "outputs": [],
   "source": [
    "all_transforms = torch.nn.Sequential(\n",
    "    augmentation.ScaleDynamicRange(scaler_bounds=(0,1)),\n",
    "    torchvision.transforms.Resize(size=(224,224),\n",
    "                                  interpolation=torchvision.transforms.InterpolationMode.BILINEAR), \n",
    "    augmentation.TileChannels(dim=0, n_channels=3),\n",
    ")\n",
    "no_transforms = torch.nn.Sequential(\n",
    ")\n",
    "scale_rsz_transforms = torch.nn.Sequential(\n",
    "    augmentation.ScaleDynamicRange(scaler_bounds=(0,1)),\n",
    "    torchvision.transforms.Resize(size=(224,224),\n",
    "                                  interpolation=torchvision.transforms.InterpolationMode.BILINEAR)\n",
    ")\n",
    "tile_transforms = torch.nn.Sequential(\n",
    "    augmentation.TileChannels(dim=0, n_channels=3),\n",
    ")\n",
    "\n",
    "\n",
    "scripted_all_transforms = torch.jit.script(all_transforms)\n",
    "scripted_no_transforms = torch.jit.script(no_transforms)\n",
    "scripted_scale_rsz_transform = torch.jit.script(scale_rsz_transforms)\n",
    "scripted_tile_transform = torch.jit.script(tile_transforms)"
   ]
  },
  {
   "cell_type": "code",
   "execution_count": null,
   "metadata": {},
   "outputs": [],
   "source": [
    "setup_transform = scripted_scale_rsz_transform\n",
    "run_transform = scripted_tile_transform\n",
    "\n",
    "setup_ds, setup_dl = get_ds_dl(X_labeled_train, setup_transform, expand_dim=True)\n",
    "input_xtr = torch.cat([data[0][0].detach().cpu() for data in setup_dl], dim=0)\n",
    "setup_ds, setup_dl = get_ds_dl(X_labeled_train_SYT, setup_transform, expand_dim=True)\n",
    "input_xtr_SYT = torch.cat([data[0][0].detach().cpu() for data in setup_dl], dim=0)\n",
    "\n",
    "setup_ds, setup_dl = get_ds_dl(X_labeled_val, setup_transform, expand_dim=True)\n",
    "input_xval = torch.cat([data[0][0].detach().cpu() for data in setup_dl], dim=0)\n",
    "setup_ds, setup_dl = get_ds_dl(X_labeled_val_SYT, setup_transform, expand_dim=True)\n",
    "input_xval_SYT = torch.cat([data[0][0].detach().cpu() for data in setup_dl], dim=0)\n",
    "\n",
    "# print(\"Starting!\")\n",
    "# tik = time.time()\n",
    "# ds_run = util.dataset_simCLR(\n",
    "#                             torch.as_tensor(input_x, device='cpu', dtype=torch.float32), \n",
    "#                             torch.as_tensor(torch.zeros(input_x.shape[0]), device='cpu', dtype=torch.float32),\n",
    "\n",
    "#                             n_transforms=1,\n",
    "#                             class_weights=np.array([1]),\n",
    "#                             transform=run_transform,\n",
    "#                             DEVICE='cpu',\n",
    "#                             dtype_X=torch.float32,\n",
    "#                             dtype_y=torch.int64,\n",
    "\n",
    "#                             temp_uncertainty=16,\n",
    "#                             expand_dim=False\n",
    "#                             )\n",
    "# dl_run = torch.utils.data.DataLoader( ds_run,\n",
    "#                                         batch_size=1024,\n",
    "#                                         shuffle=False,\n",
    "#                                         drop_last=False,\n",
    "#                                         # pin_memory=True,\n",
    "#                                         # num_workers=16,\n",
    "#                                         # persistent_workers=True,\n",
    "#                                         )\n",
    "# features_train = torch.cat([model.get_head(model.base_model(data[0][0].to(DEVICE))).detach().cpu() for data in dl_run], dim=0)\n",
    "# tok = time.time()\n",
    "\n",
    "# print(f'Tile Transformation Alone Took: {tok-tik} s to run')"
   ]
  },
  {
   "cell_type": "code",
   "execution_count": null,
   "metadata": {},
   "outputs": [],
   "source": [
    "input_xtr.shape, input_xtr_SYT.shape, input_xval.shape, input_xval_SYT.shape"
   ]
  },
  {
   "cell_type": "code",
   "execution_count": null,
   "metadata": {},
   "outputs": [],
   "source": [
    "# scale_rsz_transforms = torch.nn.Sequential(\n",
    "#     augmentation.ScaleDynamicRange(scaler_bounds=(0,1)),\n",
    "#     torchvision.transforms.Resize(size=(224,224),\n",
    "#                                   interpolation=torchvision.transforms.InterpolationMode.BILINEAR))\n",
    "# tile_transforms = torch.nn.Sequential(augmentation.TileChannels(dim=0, n_channels=3),)\n",
    "\n",
    "\n",
    "# scripted_scale_rsz_transform = torch.jit.script(scale_rsz_transforms)\n",
    "# scripted_tile_transform = torch.jit.script(tile_transforms)\n",
    "\n",
    "\n",
    "# setup_transform = scripted_scale_rsz_transform\n",
    "# run_transform = scripted_tile_transform\n",
    "\n",
    "\n",
    "\n",
    "# # setup_ds, setup_dl = get_ds_dl(X_labeled_train_SYT, setup_transform, expand_dim=False)\n",
    "\n",
    "# setup_ds = util.dataset_simCLR(\n",
    "#                                 torch.as_tensor(X_labeled_train_SYT, device='cpu', dtype=torch.float32), \n",
    "#                                 torch.as_tensor(torch.zeros(X_labeled_train_SYT.shape[0]), device='cpu', dtype=torch.float32),\n",
    "#                                 n_transforms=1,\n",
    "#                                 transform=setup_transform,\n",
    "#                                 class_weights=np.array([1]),\n",
    "#                                 DEVICE='cpu',\n",
    "#                                 dtype_X=torch.float32,\n",
    "#                                 dtype_y=torch.int64,\n",
    "\n",
    "#                                 temp_uncertainty=16,\n",
    "#                                 expand_dim=False\n",
    "#                                 )\n",
    "# setup_dl = torch.utils.data.DataLoader( setup_ds,\n",
    "#                                         batch_size=1024,\n",
    "#                                         shuffle=False,\n",
    "#                                         drop_last=False,\n",
    "#                                         # pin_memory=True,\n",
    "#                                         # num_workers=16,\n",
    "#                                         # persistent_workers=True,\n",
    "#                                         )\n",
    "\n",
    "\n",
    "# input_x = torch.cat([data[0][0].detach().cpu() for data in setup_dl], dim=0)\n",
    "# # setup_ds, setup_dl = get_ds_dl(X_labeled_train_SYT, setup_transform, expand_dim=False)\n",
    "# # input_x_SYT = torch.cat([data[0][0].detach().cpu() for data in setup_dl], dim=0)\n",
    "\n"
   ]
  },
  {
   "cell_type": "code",
   "execution_count": null,
   "metadata": {},
   "outputs": [],
   "source": []
  },
  {
   "cell_type": "code",
   "execution_count": null,
   "metadata": {},
   "outputs": [],
   "source": []
  },
  {
   "cell_type": "code",
   "execution_count": null,
   "metadata": {},
   "outputs": [],
   "source": []
  },
  {
   "cell_type": "code",
   "execution_count": null,
   "metadata": {},
   "outputs": [],
   "source": [
    "# acc_train_lst, acc_val_lst = [], []\n",
    "# acc_train_SYT_lst, acc_val_SYT_lst = [], []\n",
    "\n",
    "# print('A')\n",
    "# ds_run, dl_run = get_ds_dl(input_xtr, run_transform, expand_dim=False)\n",
    "# features_train = torch.cat([model.get_head(model.base_model(data[0][0].to(DEVICE))).detach().cpu() for data in dl_run], dim=0)\n",
    "# ds_run, dl_run = get_ds_dl(input_xval, run_transform, expand_dim=False)\n",
    "# features_val = torch.cat([model.get_head(model.base_model(data[0][0].to(DEVICE))).detach().cpu() for data in dl_run], dim=0)\n",
    "\n",
    "# print('B')\n",
    "# ds_run, dl_run = get_ds_dl(input_xtr_SYT, run_transform, expand_dim=False)\n",
    "# features_train_SYT = torch.cat([model.get_head(model.base_model(data[0][0].to(DEVICE))).detach().cpu() for data in dl_run], dim=0)\n",
    "# ds_run, dl_run = get_ds_dl(input_xval_SYT, run_transform, expand_dim=False)\n",
    "# features_val_SYT = torch.cat([model.get_head(model.base_model(data[0][0].to(DEVICE))).detach().cpu() for data in dl_run], dim=0)\n",
    "\n",
    "\n",
    "# acc_train, acc_val = {}, {}\n",
    "# acc_train_SYT, acc_val_SYT = {}, {}\n",
    "# C_toUse = np.array([1e1,1e0,1e-1,1e-2])\n",
    "# for C in C_toUse:\n",
    "#     print('C1')\n",
    "#     logreg = sklearn.linear_model.LogisticRegression(solver='liblinear', max_iter=800, C=C)\n",
    "#     logreg.fit(features_train, y_labeled_train)\n",
    "#     acc_train_tmp = logreg.score(features_train, y_labeled_train)\n",
    "#     acc_train[C] = acc_train_tmp\n",
    "#     acc_val_tmp = logreg.score(features_val, y_labeled_val)\n",
    "#     acc_val[C] = acc_val_tmp\n",
    "    \n",
    "#     print('C2')\n",
    "#     logreg_SYT = sklearn.linear_model.LogisticRegression(solver='liblinear', max_iter=800, C=C)\n",
    "#     logreg_SYT.fit(features_train_SYT, y_labeled_train_SYT)\n",
    "#     acc_train_tmp = logreg_SYT.score(features_train_SYT, y_labeled_train_SYT)\n",
    "#     acc_train_SYT[C] = acc_train_tmp\n",
    "#     acc_val_tmp = logreg_SYT.score(features_val_SYT, y_labeled_val_SYT)\n",
    "#     acc_val_SYT[C] = acc_val_tmp\n",
    "\n",
    "# acc_train_lst.append(acc_train)\n",
    "# acc_val_lst.append(acc_val)\n",
    "# acc_train_SYT_lst.append(acc_train_SYT)\n",
    "# acc_val_SYT_lst.append(acc_val_SYT)\n",
    "\n",
    "\n",
    "# losses_train_npy = np.array(losses_train)\n",
    "# losses_val_npy = np.array(losses_val)\n",
    "# val_accs_npy = np.array(val_accs)\n",
    "# acc_npy = np.array(acc)"
   ]
  },
  {
   "cell_type": "code",
   "execution_count": null,
   "metadata": {},
   "outputs": [],
   "source": [
    "# acc_train_df, acc_val_df, acc_train_SYT_df, acc_val_SYT_df = pd.DataFrame(acc_train_lst), pd.DataFrame(acc_val_lst), pd.DataFrame(acc_train_SYT_lst), pd.DataFrame(acc_val_SYT_lst)\n",
    "# display(acc_train_df)\n",
    "# display(acc_val_df)\n",
    "# display(acc_train_SYT_df)\n",
    "# display(acc_val_SYT_df)\n",
    "\n",
    "# acc_train_df.to_csv(f'{base_dir}/github_repos/GCaMP_ROI_classifier/new_stuff/accuracies/{model_file_name}_train.csv')\n",
    "# acc_val_df.to_csv(f'{base_dir}/github_repos/GCaMP_ROI_classifier/new_stuff/accuracies/{model_file_name}_val.csv')\n",
    "# acc_train_SYT_df.to_csv(f'{base_dir}/github_repos/GCaMP_ROI_classifier/new_stuff/accuracies/{model_file_name}_train_SYT.csv')\n",
    "# acc_val_SYT_df.to_csv(f'{base_dir}/github_repos/GCaMP_ROI_classifier/new_stuff/accuracies/{model_file_name}_val_SYT.csv')"
   ]
  },
  {
   "cell_type": "code",
   "execution_count": null,
   "metadata": {},
   "outputs": [],
   "source": []
  },
  {
   "cell_type": "code",
   "execution_count": null,
   "metadata": {},
   "outputs": [],
   "source": []
  },
  {
   "cell_type": "code",
   "execution_count": null,
   "metadata": {},
   "outputs": [],
   "source": []
  },
  {
   "cell_type": "code",
   "execution_count": null,
   "metadata": {
    "colab": {
     "base_uri": "https://localhost:8080/"
    },
    "id": "rvDiVxDICXEn",
    "outputId": "2c29e3cf-4515-4aae-f0b1-22e30d51fa5f"
   },
   "outputs": [],
   "source": [
    "# model_file_name = 'ResNet18_simCLR_model_202112078_EOD_transfmod=efficient2-only7unfrozen'\n",
    "model_file_name = 'ResNet18_simCLR_model_202112078_EOD_transfmod=cpu-reorg-test'\n",
    "model.forward = model.forward_latent"
   ]
  },
  {
   "cell_type": "code",
   "execution_count": null,
   "metadata": {
    "colab": {
     "base_uri": "https://localhost:8080/"
    },
    "id": "rvDiVxDICXEn",
    "outputId": "2c29e3cf-4515-4aae-f0b1-22e30d51fa5f"
   },
   "outputs": [],
   "source": [
    "l2_alpha = 0.000\n",
    "n_epochs=300000\n",
    "\n",
    "acc_train_lst, acc_val_lst = [], []\n",
    "acc_train_SYT_lst, acc_val_SYT_lst = [], []\n",
    "\n",
    "for epoch in tqdm(range(n_epochs)):\n",
    "    print(f'epoch: {epoch}')\n",
    "    \n",
    "    ds_run, dl_run = get_ds_dl(input_xtr, run_transform, expand_dim=False)\n",
    "    features_train = torch.cat([model.get_head(model.base_model(data[0][0].to(DEVICE))).detach().cpu() for data in dl_run], dim=0)\n",
    "    ds_run, dl_run = get_ds_dl(input_xval, run_transform, expand_dim=False)\n",
    "    features_val = torch.cat([model.get_head(model.base_model(data[0][0].to(DEVICE))).detach().cpu() for data in dl_run], dim=0)\n",
    "    \n",
    "    ds_run, dl_run = get_ds_dl(input_xtr_SYT, run_transform, expand_dim=False)\n",
    "    features_train_SYT = torch.cat([model.get_head(model.base_model(data[0][0].to(DEVICE))).detach().cpu() for data in dl_run], dim=0)\n",
    "    ds_run, dl_run = get_ds_dl(input_xval_SYT, run_transform, expand_dim=False)\n",
    "    features_val_SYT = torch.cat([model.get_head(model.base_model(data[0][0].to(DEVICE))).detach().cpu() for data in dl_run], dim=0)\n",
    "\n",
    "\n",
    "### Add back in for continuous evaluation of classification performance\n",
    "\n",
    "#     acc_train, acc_val = {}, {}\n",
    "#     acc_train_SYT, acc_val_SYT = {}, {}\n",
    "#     C_toUse = np.array([1e1,1e0,1e-1,1e-2])\n",
    "#     for C in C_toUse:\n",
    "#         logreg = sklearn.linear_model.LogisticRegression(solver='liblinear', max_iter=800, C=C)\n",
    "#         logreg.fit(features_train, y_labeled_train)\n",
    "#         acc_train_tmp = logreg.score(features_train, y_labeled_train)\n",
    "#         acc_train[C] = acc_train_tmp\n",
    "#         acc_val_tmp = logreg.score(features_val, y_labeled_val)\n",
    "#         acc_val[C] = acc_val_tmp\n",
    "        \n",
    "#         logreg_SYT = sklearn.linear_model.LogisticRegression(solver='liblinear', max_iter=800, C=C)\n",
    "#         logreg_SYT.fit(features_train_SYT, y_labeled_train_SYT)\n",
    "#         acc_train_tmp = logreg_SYT.score(features_train_SYT, y_labeled_train_SYT)\n",
    "#         acc_train_SYT[C] = acc_train_tmp\n",
    "#         acc_val_tmp = logreg_SYT.score(features_val_SYT, y_labeled_val_SYT)\n",
    "#         acc_val_SYT[C] = acc_val_tmp\n",
    "\n",
    "#     acc_train_lst.append(acc_train)\n",
    "#     acc_val_lst.append(acc_val)\n",
    "#     acc_train_SYT_lst.append(acc_train_SYT)\n",
    "#     acc_val_SYT_lst.append(acc_val_SYT)\n",
    "\n",
    "#     acc_train_df, acc_val_df, acc_train_SYT_df, acc_val_SYT_df = pd.DataFrame(acc_train_lst), pd.DataFrame(acc_val_lst), pd.DataFrame(acc_train_SYT_lst), pd.DataFrame(acc_val_SYT_lst)\n",
    "    \n",
    "#     acc_train_df.to_csv(f'{base_dir}/accuracies/{model_file_name}_train.csv')\n",
    "#     acc_train_SYT_df.to_csv(f'{base_dir}/accuracies/{model_file_name}_train_SYT.csv')\n",
    "#     acc_val_df.to_csv(f'{base_dir}/accuracies/{model_file_name}_val.csv')\n",
    "#     acc_val_SYT_df.to_csv(f'{base_dir}/accuracies/{model_file_name}_val_SYT.csv')\n",
    "    \n",
    "    \n",
    "    loss_rolling_train = training_simCLR.epoch_step(dataloader_train, \n",
    "                                    model, \n",
    "                                    optimizer, \n",
    "                                    criterion,\n",
    "                                    scheduler=scheduler,\n",
    "                                    temperature=0.5,\n",
    "                                    # l2_alpha,\n",
    "                                    mode='semi-supervised',\n",
    "                                    loss_rolling_train=losses_train, \n",
    "                                    loss_rolling_val=losses_val,\n",
    "                                    device=DEVICE, \n",
    "                                    verbose=2,\n",
    "                                    verbose_update_period=1,\n",
    "                                   \n",
    "#                                     do_validation=False,\n",
    "#                                     X_val=x_feed_through_val,\n",
    "#                                     y_val=torch.as_tensor(y_val, device=DEVICE)\n",
    "                                   )\n",
    "    \n",
    "    \n",
    "    torch.save(model.state_dict(), f'{simclr_model_folder}/{model_file_name}.pth')\n",
    "   \n",
    "    # Add back in for continuous evaluation of classification performance\n",
    "\n",
    "#     losses_train_npy = np.array(losses_train)\n",
    "#     losses_val_npy = np.array(losses_val)\n",
    "#     val_accs_npy = np.array(val_accs)\n",
    "#     acc_npy = np.array(acc)\n",
    "    \n",
    "#     np.save(f'{model_performance_folder}/{model_file_name}_losses_train.npy', losses_train_npy)\n",
    "#     np.save(f'{model_performance_folder}/{model_file_name}_losses_val.npy', losses_val_npy)\n",
    "#     np.save(f'{model_performance_folder}/{model_file_name}_val_accs.npy', val_accs_npy)\n",
    "#     np.save(f'{model_performance_folder}/{model_file_name}_tr_accs.npy', acc_npy)\n",
    "    "
   ]
  },
  {
   "cell_type": "code",
   "execution_count": null,
   "metadata": {
    "colab": {
     "base_uri": "https://localhost:8080/",
     "height": 421
    },
    "id": "af10GlccgaV4",
    "outputId": "2ec75ade-6308-4a67-89e4-4bf3f996f746"
   },
   "outputs": [],
   "source": [
    "# import seaborn as sns\n",
    "# sns.set(style='white', palette='bright', context='poster')\n",
    "plt.rcdefaults()\n",
    "\n",
    "%matplotlib inline\n",
    "plt.figure(figsize=(12,6))\n",
    "plt.plot(losses_train, label='Training Loss')\n",
    "plt.plot(losses_val, label='Validation Loss')\n",
    "plt.title(f'Loss — Balanced Transfer Learning, No Data Augmentation, L2 Lambda = {l2_alpha}')\n",
    "plt.legend()\n",
    "plt.grid()\n",
    "plt.xlabel('Epoch Step')\n",
    "plt.ylabel('Loss')\n",
    "# plt.savefig('./Training-Loss.png')"
   ]
  },
  {
   "cell_type": "code",
   "execution_count": null,
   "metadata": {
    "id": "rU8l0eP02TQR"
   },
   "outputs": [],
   "source": [
    "torch.save(model.state_dict(), f'{simclr_model_folder}/{model_file_name}.pth')"
   ]
  }
 ],
 "metadata": {
  "accelerator": "GPU",
  "colab": {
   "collapsed_sections": [],
   "machine_shape": "hm",
   "name": "ROIClassifier_TRAIN_20211201_JZ_supervised-comparison5.ipynb",
   "provenance": []
  },
  "kernelspec": {
   "display_name": "grca",
   "language": "python",
   "name": "grca"
  },
  "language_info": {
   "codemirror_mode": {
    "name": "ipython",
    "version": 3
   },
   "file_extension": ".py",
   "mimetype": "text/x-python",
   "name": "python",
   "nbconvert_exporter": "python",
   "pygments_lexer": "ipython3",
   "version": "3.8.13"
  },
  "varInspector": {
   "cols": {
    "lenName": 16,
    "lenType": 16,
    "lenVar": 40
   },
   "kernels_config": {
    "python": {
     "delete_cmd_postfix": "",
     "delete_cmd_prefix": "del ",
     "library": "var_list.py",
     "varRefreshCmd": "print(var_dic_list())"
    },
    "r": {
     "delete_cmd_postfix": ") ",
     "delete_cmd_prefix": "rm(",
     "library": "var_list.r",
     "varRefreshCmd": "cat(var_dic_list()) "
    }
   },
   "oldHeight": 920.998472,
   "position": {
    "height": "40px",
    "left": "1403px",
    "right": "20px",
    "top": "108.998px",
    "width": "500.99px"
   },
   "types_to_exclude": [
    "module",
    "function",
    "builtin_function_or_method",
    "instance",
    "_Feature"
   ],
   "varInspector_section_display": "none",
   "window_display": true
  }
 },
 "nbformat": 4,
 "nbformat_minor": 4
}
