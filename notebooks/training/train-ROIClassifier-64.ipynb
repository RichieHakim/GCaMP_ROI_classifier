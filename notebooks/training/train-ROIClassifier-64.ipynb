{
 "cells": [
  {
   "cell_type": "code",
   "execution_count": 1,
   "metadata": {
    "colab": {
     "base_uri": "https://localhost:8080/",
     "height": 17
    },
    "id": "S3q3I42jDB0f",
    "outputId": "3ad88a07-0e8b-474f-b0d8-9fb6c2a99f0c"
   },
   "outputs": [
    {
     "name": "stderr",
     "output_type": "stream",
     "text": [
      "/tmp/ipykernel_156802/1226147920.py:1: DeprecationWarning: Importing display from IPython.core.display is deprecated since IPython 7.14, please import from IPython display\n",
      "  from IPython.core.display import display, HTML\n"
     ]
    },
    {
     "data": {
      "text/html": [
       "<style>.container { width:95% !important; }</style>"
      ],
      "text/plain": [
       "<IPython.core.display.HTML object>"
      ]
     },
     "metadata": {},
     "output_type": "display_data"
    }
   ],
   "source": [
    "from IPython.core.display import display, HTML\n",
    "display(HTML(\"<style>.container { width:95% !important; }</style>\"))"
   ]
  },
  {
   "cell_type": "raw",
   "metadata": {
    "id": "PUUWS0VmwD7-"
   },
   "source": [
    "# !source activate jupyter_launcher\n",
    "!pip3 install numba\n",
    "!pip3 install matplotlib\n",
    "!pip3 install scipy\n",
    "!pip3 install torch\n",
    "!pip3 install torchvision\n",
    "!pip3 install sklearn\n",
    "!pip3 install pycuda\n",
    "!pip3 install tqdm\n",
    "!pip3 install seaborn\n",
    "!pip3 install h5py\n",
    "!pip3 install hdfdict\n",
    "!pip3 install ipywidgets\n",
    "!pip3 install numpy==1.20"
   ]
  },
  {
   "cell_type": "code",
   "execution_count": 2,
   "metadata": {},
   "outputs": [
    {
     "data": {
      "text/plain": [
       "'/home/joz608/.conda/envs/grc/bin/python3.8'"
      ]
     },
     "execution_count": 2,
     "metadata": {},
     "output_type": "execute_result"
    }
   ],
   "source": [
    "import sys\n",
    "sys.executable"
   ]
  },
  {
   "cell_type": "code",
   "execution_count": null,
   "metadata": {},
   "outputs": [],
   "source": []
  },
  {
   "cell_type": "code",
   "execution_count": null,
   "metadata": {},
   "outputs": [],
   "source": []
  },
  {
   "cell_type": "code",
   "execution_count": 3,
   "metadata": {
    "id": "eTIgCGQsDB0i"
   },
   "outputs": [],
   "source": [
    "import sys\n",
    "import os\n",
    "import copy\n",
    "import pathlib\n",
    "import time\n",
    "import gc\n",
    "\n",
    "from tqdm import tqdm, trange\n",
    "# from tqdm import trange\n",
    "\n",
    "import numpy as np\n",
    "import pandas as pd\n",
    "import matplotlib.pyplot as plt\n",
    "import seaborn as sns\n",
    "import scipy\n",
    "\n",
    "import torch\n",
    "import torchvision\n",
    "import torchvision.transforms as transforms\n",
    "\n",
    "# import cuml\n",
    "\n",
    "# for creating validation set\n",
    "import sklearn\n",
    "from sklearn.model_selection import train_test_split\n",
    "\n",
    "%matplotlib inline\n",
    "# %matplotlib inline\n",
    "# %matplotlib inline\n",
    "# %matplotlib qt"
   ]
  },
  {
   "cell_type": "code",
   "execution_count": 4,
   "metadata": {
    "id": "MZ9Hq6SVvves"
   },
   "outputs": [],
   "source": [
    "# base_dir = '/n/data1/hms/neurobio/sabatini/josh'"
   ]
  },
  {
   "cell_type": "code",
   "execution_count": 5,
   "metadata": {
    "id": "9w3t_mtdDB0j"
   },
   "outputs": [],
   "source": [
    "import sys\n",
    "\n",
    "# base_dir = '/Users/josh/Documents'\n",
    "base_dir = '../../../..'\n",
    "sys.path.append(f'{base_dir}/github_repos')\n",
    "# data_folder = f'../../data/final'\n",
    "data_folder = f'../../data/training'\n",
    "simclr_model_folder = f'../../models/simclr-modelsn'\n",
    "model_performance_folder = f'../../reports/model-performance'\n",
    "# sys.path.append(f'/media/rich/Home_Linux_partition/github_repos')\n",
    "# dir_folders = r'/media/rich/bigSSD/for_Josh/GCAMP_ROI_Classifier_data/label_data'\n",
    "# dir_folders = r'/users/Josh/Documents/Harvard/label_data'\n",
    "\n",
    "%load_ext autoreload\n",
    "%autoreload 2\n",
    "from basic_neural_processing_modules import torch_helpers, math_functions, classification, h5_handling, plotting_helpers, indexing, misc, decomposition\n",
    "\n",
    "# Must \"pip install -e . in root project directory for this to work\"\n",
    "from GCaMP_ROI_classifier import util, dataset, models, training, augmentation"
   ]
  },
  {
   "cell_type": "code",
   "execution_count": 6,
   "metadata": {},
   "outputs": [],
   "source": [
    "# !pip install numba\n",
    "# !pip install copy\n",
    "# !pip install scipy\n"
   ]
  },
  {
   "cell_type": "markdown",
   "metadata": {
    "id": "hTqZzmpJDB0j"
   },
   "source": [
    "## Import unlabeled training data"
   ]
  },
  {
   "cell_type": "code",
   "execution_count": 7,
   "metadata": {},
   "outputs": [],
   "source": [
    "# data_unlabeled = h5_handling.simple_load(path=r'/media/rich/bigSSD/for_Josh/GCAMP_ROI_Classifier_data/masks_20211202_balanced.h5')\n",
    "data_unlabeled = h5_handling.simple_load(path=f'{data_folder}/masks_20211202_balanced.h5')\n",
    "\n",
    "masks_cat_raw = torch.as_tensor(np.concatenate((data_unlabeled['SYTmasks'], data_unlabeled['NPmasks'], data_unlabeled['RHmasks']), axis=0), dtype=torch.float32, device='cpu')"
   ]
  },
  {
   "cell_type": "code",
   "execution_count": 8,
   "metadata": {},
   "outputs": [],
   "source": [
    "# data_labeled = h5_handling.simple_load(path=r'/media/rich/bigSSD/for_Josh/GCAMP_ROI_Classifier_data/masks_20211202_unbalanced.h5')\n",
    "\n",
    "data_labeled = h5_handling.simple_load(path=f'{data_folder}/masks_20211202_unbalanced.h5')\n",
    "\n",
    "masks_SYT = data_labeled['SYTmasks']\n",
    "labels_SYT = classification.squeeze_integers(data_labeled['SYTlabels'])\n",
    "\n",
    "nan_lst = np.concatenate(np.where(np.isnan(masks_SYT).sum(axis=-1).sum(axis=-1)))\n",
    "non_nan = [_ for _ in range(masks_SYT.shape[0]) if _ not in nan_lst]\n",
    "labels_SYT = labels_SYT[non_nan]\n",
    "masks_SYT = masks_SYT[non_nan]\n",
    "\n",
    "X_labeled_train_SYT, X_labeled_val_SYT, y_labeled_train_SYT, y_labeled_val_SYT = train_test_split(masks_SYT, labels_SYT, test_size = 0.2)"
   ]
  },
  {
   "cell_type": "markdown",
   "metadata": {},
   "source": [
    "toss any NaNs"
   ]
  },
  {
   "cell_type": "code",
   "execution_count": 9,
   "metadata": {},
   "outputs": [
    {
     "name": "stdout",
     "output_type": "stream",
     "text": [
      "Number of masks: torch.Size([711808, 36, 36])\n",
      "Number of masks: torch.Size([711807, 36, 36])\n"
     ]
    }
   ],
   "source": [
    "print(f'Number of masks: {masks_cat_raw.shape}')\n",
    "\n",
    "ROIs_without_NaNs = torch.where(~torch.any(torch.any(torch.isnan(masks_cat_raw), dim=1), dim=1))[0]\n",
    "masks_cat = masks_cat_raw[ROIs_without_NaNs]\n",
    "\n",
    "print(f'Number of masks: {masks_cat.shape}')"
   ]
  },
  {
   "cell_type": "markdown",
   "metadata": {
    "id": "hTqZzmpJDB0j"
   },
   "source": [
    "## Import labeled training data"
   ]
  },
  {
   "cell_type": "code",
   "execution_count": 10,
   "metadata": {
    "colab": {
     "base_uri": "https://localhost:8080/",
     "height": 1000
    },
    "id": "S8AO_lypDB0o",
    "outputId": "4edfd739-a0b7-4789-aea1-4a9f6c2665c8"
   },
   "outputs": [
    {
     "name": "stdout",
     "output_type": "stream",
     "text": [
      "concatenated images shape: (9715, 32, 32)\n"
     ]
    },
    {
     "data": {
      "image/png": "[encoded data removed]",
      "text/plain": [
       "<Figure size 432x288 with 1 Axes>"
      ]
     },
     "metadata": {
      "needs_background": "light"
     },
     "output_type": "display_data"
    },
    {
     "data": {
      "image/png": "[encoded data removed]",
      "text/plain": [
       "<Figure size 432x288 with 1 Axes>"
      ]
     },
     "metadata": {
      "needs_background": "light"
     },
     "output_type": "display_data"
    },
    {
     "data": {
      "image/png": "[encoded data removed]",
      "text/plain": [
       "<Figure size 432x288 with 1 Axes>"
      ]
     },
     "metadata": {
      "needs_background": "light"
     },
     "output_type": "display_data"
    },
    {
     "data": {
      "image/png": "[encoded data removed]",
      "text/plain": [
       "<Figure size 432x288 with 1 Axes>"
      ]
     },
     "metadata": {
      "needs_background": "light"
     },
     "output_type": "display_data"
    }
   ],
   "source": [
    "folders = [r'mouse 6_28 _ day 20200903/',\n",
    "             r'mouse6_28 _ day20200815/']\n",
    "fileNames_statFiles = [r'stat.npy']*len(folders)\n",
    "paths_statFiles = [pathlib.Path(data_folder) / folders[ii] / fileNames_statFiles[ii] for ii in range(len(folders))]\n",
    "\n",
    "sf_all = util.import_multiple_stat_files(   paths_statFiles=paths_statFiles,\n",
    "                                            fileNames_statFiles=fileNames_statFiles,\n",
    "                                            out_height_width=[32,32],\n",
    "                                            max_footprint_width=241,\n",
    "                                            plot_pref=True)\n",
    "images_labeled_raw = np.concatenate(sf_all, axis=0)\n",
    "images_labeled_raw = (images_labeled_raw / np.max(images_labeled_raw, axis=(1,2), keepdims=True)) * 1\n",
    "print(f'concatenated images shape: {images_labeled_raw.shape}')\n",
    "\n",
    "fileNames_labelFiles = ['labels_posthoc_filledIn_allCells.npy',\n",
    "             'labels_posthoc_all.npy']\n",
    "paths_labelFiles = [pathlib.Path(data_folder) / folders[ii] / fileNames_labelFiles[ii] for ii in range(len(folders))]\n",
    "\n",
    "labels_all = util.import_multiple_label_files(paths_labelFiles=paths_labelFiles,\n",
    "                                       plot_pref=True)\n",
    "labels_raw = np.concatenate(labels_all)\n",
    "\n",
    "assert np.alltrue([sf_all[ii].shape[0] == labels_all[ii].shape[0] for ii in range(len(sf_all))]) , 'num images in stat files does not correspond to num labels'"
   ]
  },
  {
   "cell_type": "code",
   "execution_count": 11,
   "metadata": {},
   "outputs": [
    {
     "data": {
      "image/png": "[encoded data removed]",
      "text/plain": [
       "<Figure size 432x288 with 100 Axes>"
      ]
     },
     "metadata": {
      "needs_background": "light"
     },
     "output_type": "display_data"
    }
   ],
   "source": [
    "%matplotlib inline\n",
    "\n",
    "plotting_helpers.plot_image_grid(images=images_labeled_raw,\n",
    "                                labels=None,\n",
    "                                grid_shape=(10,10), cmap=plt.get_cmap('gray'));"
   ]
  },
  {
   "cell_type": "code",
   "execution_count": 12,
   "metadata": {
    "id": "Ip1UMYy6DB0p"
   },
   "outputs": [],
   "source": [
    "labels = classification.squeeze_integers(labels_raw)\n",
    "images_labeled = images_labeled_raw[labels != 2]\n",
    "labels = labels[labels != 2]\n",
    "labels = classification.squeeze_integers(labels)"
   ]
  },
  {
   "cell_type": "markdown",
   "metadata": {
    "id": "UYh_wBqCDB0q"
   },
   "source": [
    "## Balance classes of inputs"
   ]
  },
  {
   "cell_type": "code",
   "execution_count": 13,
   "metadata": {
    "colab": {
     "base_uri": "https://localhost:8080/"
    },
    "id": "qn4Pu2cKDB0q",
    "outputId": "3afafb73-54a7-4e2d-8030-c0af6272cbe6"
   },
   "outputs": [
    {
     "name": "stdout",
     "output_type": "stream",
     "text": [
      "(9714, 32, 32)\n",
      "(9714,)\n",
      "532\n",
      "(2128, 32, 32)\n",
      "(2128,)\n",
      "532\n",
      "532\n",
      "532\n",
      "0\n",
      "0\n",
      "(2128, 32, 32)\n",
      "(2128,)\n"
     ]
    }
   ],
   "source": [
    "duplicates = 1\n",
    "balanced = True\n",
    "\n",
    "images_dup = np.tile(images_labeled , (duplicates , 1 , 1))\n",
    "labels_dup = np.tile(labels , (duplicates))\n",
    "\n",
    "print(images_dup.shape)\n",
    "print(labels_dup.shape)\n",
    "\n",
    "if balanced:\n",
    "    numToGetTo = np.sum(labels_dup==0)\n",
    "    print(numToGetTo)\n",
    "    for ii in np.array([1,2,3]):\n",
    "  #     idxToDelete = np.cumsum(labels_dup==ii) <= (np.sum(labels_dup==ii) - numToGetTo)\n",
    "        if ii==3:\n",
    "            numToGetTo = np.sum(labels_dup==0)/1\n",
    "        else:\n",
    "            numToGetTo = np.sum(labels_dup==0)\n",
    "\n",
    "        idxToDelete = (np.cumsum(labels_dup==ii) * (labels_dup==ii)) > numToGetTo\n",
    "        images_dup = images_dup[idxToDelete==0,:,:]\n",
    "        labels_dup = labels_dup[idxToDelete==0]\n",
    "\n",
    "\n",
    "\n",
    "\n",
    "\n",
    "print(images_dup.shape)\n",
    "print(labels_dup.shape)\n",
    "\n",
    "numToGetTo = np.sum(labels_dup==0)\n",
    "print(numToGetTo)\n",
    "\n",
    "print(np.sum(labels_dup==0))\n",
    "print(np.sum(labels_dup==1))\n",
    "print(np.sum(labels_dup==4))\n",
    "print(np.sum(labels_dup==5))\n",
    "print(images_dup.shape)\n",
    "print(labels_dup.shape)"
   ]
  },
  {
   "cell_type": "raw",
   "metadata": {
    "id": "NpMB08CYDB0q"
   },
   "source": [
    "# create validation set\n",
    "# X_train, X_val, y_train, y_val = train_test_split(images[:], labels[:], test_size = 0.15)\n",
    "X_train, X_val, y_train, y_val = train_test_split(images_dup[:], labels_dup[:], test_size = 0.15)\n",
    "(X_train.shape, y_train.shape), (X_val.shape, y_val.shape)"
   ]
  },
  {
   "cell_type": "code",
   "execution_count": 14,
   "metadata": {
    "colab": {
     "base_uri": "https://localhost:8080/"
    },
    "id": "fVA_Aa6rDB0q",
    "outputId": "15b9e55a-4881-40be-f06b-dec658fa55a7"
   },
   "outputs": [
    {
     "data": {
      "text/plain": [
       "(((1702, 32, 32), (1702,)), ((426, 32, 32), (426,)))"
      ]
     },
     "execution_count": 14,
     "metadata": {},
     "output_type": "execute_result"
    }
   ],
   "source": [
    "# create validation set\n",
    "\n",
    "###### REMOVE WITH ENOUGH RAM\n",
    "images = images_dup\n",
    "labels = labels_dup\n",
    "\n",
    "# X_labeled_train, X_labeled_val, y_labeled_train, y_labeled_val = train_test_split(images_dup, labels_dup, test_size = 0.3)\n",
    "X_labeled_train, X_labeled_val, y_labeled_train, y_labeled_val = train_test_split(images_dup, labels_dup, test_size = 0.2)\n",
    "# X_train, y_train = X_labeled_train, y_labeled_train\n",
    "\n",
    "# X_labeled_val, X_test, y_labeled_val, y_test = train_test_split(X_labeled_val, y_labeled_val, test_size = 0.5)\n",
    "X_val, X_test, y_val, y_test = train_test_split(X_labeled_val, y_labeled_val, test_size = 0.5)\n",
    "\n",
    "(X_labeled_train.shape, y_labeled_train.shape), (X_labeled_val.shape, y_labeled_val.shape)"
   ]
  },
  {
   "cell_type": "code",
   "execution_count": 15,
   "metadata": {
    "colab": {
     "base_uri": "https://localhost:8080/",
     "height": 265
    },
    "id": "mdJafJMMDB0r",
    "outputId": "2e8d00f6-32bf-4aeb-d02d-e10dcaaccfe3"
   },
   "outputs": [
    {
     "data": {
      "image/png": "[encoded data removed]",
      "text/plain": [
       "<Figure size 432x288 with 1 Axes>"
      ]
     },
     "metadata": {
      "needs_background": "light"
     },
     "output_type": "display_data"
    }
   ],
   "source": [
    "plt.figure()\n",
    "plt.hist(labels_dup, 20);"
   ]
  },
  {
   "cell_type": "code",
   "execution_count": 16,
   "metadata": {},
   "outputs": [
    {
     "data": {
      "text/plain": [
       "(2128, 32, 32)"
      ]
     },
     "execution_count": 16,
     "metadata": {},
     "output_type": "execute_result"
    }
   ],
   "source": [
    "images.shape"
   ]
  },
  {
   "cell_type": "code",
   "execution_count": null,
   "metadata": {
    "id": "XNxaCTbcDB0r"
   },
   "outputs": [],
   "source": []
  },
  {
   "cell_type": "raw",
   "metadata": {
    "id": "tz9Q8wYuDB0s"
   },
   "source": [
    "from sklearn.linear_model import LogisticRegression\n",
    "import sklearn.metrics\n",
    "\n",
    "def classification_step(X_train, y_train, X_test, model, model_device, temperature):\n",
    "    logreg = LogisticRegression()\n",
    "    features_train = model(torch.as_tensor(X_train, device=DEVICE, dtype=torch.float32)[:,None,...]).detach().cpu()\n",
    "    # features = model(torch.tensor(X_train[y_train != 3], device=DEVICE, dtype=torch.float32)[:,None,...]).detach().cpu()\n",
    "    logreg.fit(features_train, y_train)\n",
    "    # logreg.fit(features, y_train[y_train != 3])\n",
    "    \n",
    "    features_test = model(torch.as_tensor(X_test, device=DEVICE, dtype=torch.float32)[:,None,...]).detach().cpu()    \n",
    "    y_hat = logreg.predict_proba(features_test)\n",
    "    y_hat = torch.as_tensor(y_hat, dtype=torch.float32, device='cpu')\n",
    "    \n",
    "#     print(y_hat)\n",
    "    print(f'accuracy: {logreg.score(features, y):.5}')\n",
    "\n",
    "#     # cm = sklearn.metrics.confusion_matrix(idx_to_oneHot(y_train), y_hat, normalize='true')\n",
    "#     # cm = sklearn.metrics.confusion_matrix(idx_to_oneHot(y_train[y_train != 3]), y_hat, normalize='true')\n",
    "#     cm = rh_cm(y_hat, y)\n",
    "#     # cm = rh_cm(y_hat, y_train[y_train != 3])\n",
    "    \n",
    "    unc = util.loss_uncertainty(y_hat, temperature=temperature)\n",
    "\n",
    "#     plt.figure()\n",
    "#     plt.imshow(cm)\n",
    "#     return torch.tensor(unc, dtype=torch.float32, device=model_device)\n",
    "    return unc"
   ]
  },
  {
   "cell_type": "markdown",
   "metadata": {
    "id": "3aA1-hY4DB0v"
   },
   "source": [
    "# Train"
   ]
  },
  {
   "cell_type": "code",
   "execution_count": 17,
   "metadata": {
    "colab": {
     "base_uri": "https://localhost:8080/"
    },
    "id": "YtkRZSMqDB0v",
    "outputId": "230c559f-f22c-4182-b3ab-024ba2080a50"
   },
   "outputs": [
    {
     "name": "stdout",
     "output_type": "stream",
     "text": [
      "device: 'cuda'\n"
     ]
    }
   ],
   "source": [
    "DEVICE = torch_helpers.set_device(use_GPU=True)\n",
    "# DEVICE = torch_helpers.set_device(use_GPU=False)"
   ]
  },
  {
   "cell_type": "markdown",
   "metadata": {},
   "source": [
    "### Define New model = model + pre-head + latent layer OR classification layer"
   ]
  },
  {
   "cell_type": "code",
   "execution_count": 18,
   "metadata": {
    "id": "gt4xpqbHBjyL"
   },
   "outputs": [],
   "source": [
    "# class ModelTackOn(torch.nn.Module):\n",
    "#     def __init__(self, base_model, un_modified_model, pre_head_fc_sizes=[100], post_head_fc_sizes=[100], classifier_fc_sizes=None):\n",
    "#             super(ModelTackOn, self).__init__()\n",
    "#             self.base_model = base_model\n",
    "#             final_base_layer = list(un_modified_model.children())[-1]\n",
    "#             # final_base_layer = list(list(model.children())[-1].children())[-1]\n",
    "#             # print(final_base_layer)\n",
    "\n",
    "#             self.pre_head_fc_lst = []\n",
    "#             self.post_head_fc_lst = []\n",
    "#             self.classifier_fc_lst = []\n",
    "\n",
    "#             self.init_prehead(final_base_layer, pre_head_fc_sizes)\n",
    "#             self.init_posthead(pre_head_fc_sizes[-1], post_head_fc_sizes)\n",
    "#             if classifier_fc_sizes is not None:\n",
    "#                 self.init_classifier(pre_head_fc_sizes[-1], classifier_fc_sizes)\n",
    "    \n",
    "#     def init_prehead(self, prv_layer, pre_head_fc_sizes):\n",
    "#         for i, pre_head_fc in enumerate(pre_head_fc_sizes):\n",
    "#             if i == 0:\n",
    "#                 in_features = prv_layer.in_features if hasattr(prv_layer,'in_features') else 1280\n",
    "#             else:\n",
    "#                 in_features = pre_head_fc_sizes[i - 1]\n",
    "#             fc_layer = torch.nn.Linear(in_features=in_features, out_features=pre_head_fc)\n",
    "#             self.add_module(f'PreHead_{i}', fc_layer)\n",
    "#             self.pre_head_fc_lst.append(fc_layer)\n",
    "\n",
    "# #             if i < len(pre_head_fc_sizes) - 1:\n",
    "#             non_linearity = torch.nn.ReLU()\n",
    "#             self.add_module(f'PreHead_{i}_NonLinearity', non_linearity)\n",
    "#             self.pre_head_fc_lst.append(non_linearity)\n",
    "\n",
    "#     def init_posthead(self, prv_size, post_head_fc_sizes):\n",
    "#         for i, post_head_fc in enumerate(post_head_fc_sizes):\n",
    "#             if i == 0:\n",
    "#                 in_features = prv_size\n",
    "#             else:\n",
    "#                 in_features = post_head_fc_sizes[i - 1]\n",
    "#             fc_layer = torch.nn.Linear(in_features=in_features, out_features=post_head_fc)\n",
    "#             self.add_module(f'PostHead_{i}', fc_layer)\n",
    "#             self.post_head_fc_lst.append(fc_layer)\n",
    "\n",
    "#             if i < len(post_head_fc_sizes) - 1:\n",
    "#                 non_linearity = torch.nn.ReLU()\n",
    "#                 self.add_module(f'PostHead_{i}_NonLinearity', non_linearity)\n",
    "#                 self.pre_head_fc_lst.append(non_linearity)\n",
    "    \n",
    "#     def init_classifier(self, prv_size, classifier_fc_sizes):\n",
    "#             for i, classifier_fc in enumerate(classifier_fc_sizes):\n",
    "#                 if i == 0:\n",
    "#                     in_features = prv_size\n",
    "#                 else:\n",
    "#                     in_features = classifier_fc_sizes[i - 1]\n",
    "#             fc_layer = torch.nn.Linear(in_features=in_features, out_features=classifier_fc)\n",
    "#             self.add_module(f'Classifier_{i}', fc_layer)\n",
    "#             self.classifier_fc_lst.append(fc_layer)\n",
    "\n",
    "#     def reinit_classifier(self):\n",
    "#         for i_layer, layer in enumerate(self.classifier_fc_lst):\n",
    "#             layer.reset_parameters()\n",
    "    \n",
    "# #     def forward(self, X):\n",
    "# #         interim = self.base_model(X)\n",
    "# #         interim = self.get_head(interim)\n",
    "# #         interim = self.get_latent(interim)\n",
    "# #         return interim\n",
    "\n",
    "#     def forward_classifier(self, X):\n",
    "#         interim = self.base_model(X)\n",
    "#         interim = self.get_head(interim)\n",
    "#         interim = self.classify(interim)\n",
    "#         return interim\n",
    "\n",
    "#     def forward_latent(self, X):\n",
    "#         interim = self.base_model(X)\n",
    "#         interim = self.get_head(interim)\n",
    "#         interim = self.get_latent(interim)\n",
    "#         return interim\n",
    "\n",
    "\n",
    "#     def get_head(self, base_out):\n",
    "#         # print('base_out', base_out.shape)\n",
    "#         head = base_out\n",
    "#         for pre_head_layer in self.pre_head_fc_lst:\n",
    "#           # print('pre_head_layer', pre_head_layer.in_features)\n",
    "#           head = pre_head_layer(head)\n",
    "#           # print('head', head.shape)\n",
    "#         return head\n",
    "\n",
    "#     def get_latent(self, head):\n",
    "#         latent = head\n",
    "#         for post_head_layer in self.post_head_fc_lst:\n",
    "#             latent = post_head_layer(latent)\n",
    "#         return latent\n",
    "\n",
    "#     def classify(self, head):\n",
    "#         logit = head\n",
    "#         for classifier_layer in self.classifier_fc_lst:\n",
    "#             logit = classifier_layer(logit)\n",
    "#         return logit\n",
    "\n",
    "#     def set_pre_head_grad(self, requires_grad=True):\n",
    "#         for layer in self.pre_head_fc_lst:\n",
    "#             for param in layer.parameters():\n",
    "#                 param.requires_grad = requires_grad\n",
    "                \n",
    "#     def set_post_head_grad(self, requires_grad=True):\n",
    "#         for layer in self.post_head_fc_lst:\n",
    "#             for param in layer.parameters():\n",
    "#                 param.requires_grad = requires_grad\n",
    "\n",
    "#     def set_classifier_grad(self, requires_grad=True):\n",
    "#         for layer in self.classifier_fc_lst:\n",
    "#             for param in layer.parameters():\n",
    "#                 param.requires_grad = requires_grad\n",
    "\n",
    "#     def prep_contrast(self):\n",
    "#         self.set_pre_head_grad(requires_grad=True)\n",
    "#         self.set_post_head_grad(requires_grad=True)\n",
    "#         self.set_classifier_grad(requires_grad=False)\n",
    "\n",
    "#     def prep_classifier(self):\n",
    "#         self.set_pre_head_grad(requires_grad=False)\n",
    "#         self.set_post_head_grad(requires_grad=False)\n",
    "#         self.set_classifier_grad(requires_grad=True)\n"
   ]
  },
  {
   "cell_type": "code",
   "execution_count": 19,
   "metadata": {},
   "outputs": [],
   "source": [
    "from GCaMP_ROI_classifier.vicreg import main_vicreg as mvr\n",
    "from GCaMP_ROI_classifier.vicreg.main_vicreg import *\n",
    "from GCaMP_ROI_classifier.vicreg import augmentations as vraug"
   ]
  },
  {
   "cell_type": "code",
   "execution_count": 20,
   "metadata": {},
   "outputs": [],
   "source": [
    "from pathlib import Path\n",
    "import argparse\n",
    "import json\n",
    "import math\n",
    "import os\n",
    "import sys\n",
    "import time\n",
    "\n",
    "import torch\n",
    "import torch.nn.functional as F\n",
    "from torch import nn, optim\n",
    "import torch.distributed as dist\n",
    "import torchvision.datasets as datasets\n",
    "\n",
    "import GCaMP_ROI_classifier.vicreg.augmentations as aug\n",
    "from GCaMP_ROI_classifier.vicreg.distributed import init_distributed_mode\n",
    "\n",
    "import GCaMP_ROI_classifier.vicreg.resnet\n",
    "\n",
    "parser = argparse.ArgumentParser('VICReg training script', parents=[mvr.get_arguments()])\n",
    "args = parser.parse_args(['--device', 'cuda',\n",
    "                          '--data-dir', '../../data',\n",
    "                          '--exp-dir', '../../models/vicreg-models/latent-64',\n",
    "                          '--batch-size', '800',\n",
    "                          '--arch', 'resnet18',\n",
    "                          '--mlp', '512-512-512',\n",
    "                          '--out-features', '64'\n",
    "                         ])\n",
    "args.rank = args.local_rank\n"
   ]
  },
  {
   "cell_type": "code",
   "execution_count": 21,
   "metadata": {},
   "outputs": [
    {
     "data": {
      "text/plain": [
       "800"
      ]
     },
     "execution_count": 21,
     "metadata": {},
     "output_type": "execute_result"
    }
   ],
   "source": [
    "args.batch_size"
   ]
  },
  {
   "cell_type": "code",
   "execution_count": 22,
   "metadata": {},
   "outputs": [],
   "source": [
    "from GCaMP_ROI_classifier.dataset import dataset_vicreg"
   ]
  },
  {
   "cell_type": "code",
   "execution_count": 23,
   "metadata": {},
   "outputs": [],
   "source": [
    "# import torchvision.transforms    \n",
    "\n",
    "# transforms = torch.nn.Sequential(\n",
    "#     # torchvision.transforms.RandomHorizontalFlip(p=0.5),    \n",
    "#     augmentation.ScaleDynamicRange(scaler_bounds=(0,1)), # just clamping, both this and clamping = normalizing (DEFAULT)\n",
    "#     augmentation.WarpPoints(r=[0, 1],\n",
    "#                             cx=[-0.5, 0.5],\n",
    "#                             cy=[-0.5, 0.5], \n",
    "#                             dx=[-0.3, 0.0], \n",
    "#                             dy=[-0.3, 0.0], \n",
    "#                             n_warps=5,\n",
    "#                             prob=1.0,\n",
    "#                             img_size_in=[36, 36],\n",
    "#                             img_size_out=[224, 224]),\n",
    "\n",
    "    \n",
    "#     augmentation.TileChannels(dim=0, n_channels=3),\n",
    "# #     torchvision.transforms.Resize(size=(224,224), \n",
    "# #                                   interpolation=torchvision.transforms.InterpolationMode.BILINEAR), # To do or not to do (DEFAULT)\n",
    "    \n",
    "# )\n",
    "    \n",
    "\n",
    "# scripted_transforms = torch.jit.script(transforms)\n",
    "\n",
    "\n",
    "import torchvision.transforms    \n",
    "\n",
    "transforms = torch.nn.Sequential(\n",
    "#     augmentation.Horizontal_stripe_scale(alpha_min_max=(0.5,1), im_size=(36,36), p=0.25),\n",
    "#     augmentation.Horizontal_stripe_shift(alpha_min_max=(0,6), im_size=(36,36), p=0.25),\n",
    "    \n",
    "    torchvision.transforms.RandomHorizontalFlip(p=0.5),    \n",
    "    torchvision.transforms.RandomAffine(\n",
    "                                        degrees=(-180,180),\n",
    "                                        translate=(0.15, 0.15), #0, .3, .45 (DEFAULT)\n",
    "                                        scale=(0.6, 1.2), # no scale (1,1), (0.4, 1.5)\n",
    "                                        shear=(-15, 15, -15, 15),\n",
    "                                        interpolation=torchvision.transforms.InterpolationMode.BILINEAR, \n",
    "                                        fill=0, \n",
    "                                        fillcolor=None, \n",
    "                                        resample=None),\n",
    "    augmentation.AddPoissonNoise(   #scaler_bounds=(10**(4.5), 10**(6.)),\n",
    "                                    scaler_bounds=(10**(4), 10**(6)),\n",
    "                                    prob=1,\n",
    "                                    base=1000,\n",
    "                                    scaling='log'),\n",
    "    augmentation.AddGaussianNoise(  mean=0, \n",
    "                                    std=0.00015,\n",
    "                                    prob=1),\n",
    "    \n",
    "    augmentation.ScaleDynamicRange(scaler_bounds=(0,1)),\n",
    "#     augmentation.WarpPoints(r=[0, 1],\n",
    "#                             cx=[-0.5, 0.5], \n",
    "#                             cy=[-0.5, 0.5], \n",
    "#                             dx=[-0.3, 0.0], \n",
    "#                             dy=[-0.3, 0.0], \n",
    "#                             n_warps=2,\n",
    "#                             prob=1.0,\n",
    "#                             img_size_in=[36, 36],\n",
    "#                             img_size_out=[224, 224]),\n",
    "    \n",
    "#     vraug.Solarize(p=0),\n",
    "#     augmentation.Horizontal_stripe_scale(alpha_min_max=(0.5,1), im_size=(36,36), p=0.25),\n",
    "#     augmentation.Horizontal_stripe_shift(alpha_min_max=(0,6), im_size=(36,36), p=0.25),\n",
    "    \n",
    "    augmentation.TileChannels(dim=0, n_channels=3),\n",
    "    \n",
    ")\n",
    "    \n",
    "\n",
    "scripted_transforms = torch.jit.script(transforms)"
   ]
  },
  {
   "cell_type": "code",
   "execution_count": null,
   "metadata": {},
   "outputs": [],
   "source": []
  },
  {
   "cell_type": "code",
   "execution_count": null,
   "metadata": {},
   "outputs": [],
   "source": []
  },
  {
   "cell_type": "code",
   "execution_count": 24,
   "metadata": {},
   "outputs": [],
   "source": [
    "# args.rank, args.world_size"
   ]
  },
  {
   "cell_type": "code",
   "execution_count": 25,
   "metadata": {},
   "outputs": [],
   "source": [
    "# import os\n",
    "# import sys\n",
    "# import tempfile\n",
    "# import torch\n",
    "# import torch.distributed as dist\n",
    "# import torch.nn as nn\n",
    "# import torch.optim as optim\n",
    "# import torch.multiprocessing as mp\n",
    "\n",
    "# from torch.nn.parallel import DistributedDataParallel as DDP\n",
    "\n",
    "# def setup(rank, world_size):\n",
    "#     os.environ['MASTER_ADDR'] = 'localhost'\n",
    "#     os.environ['MASTER_PORT'] = '12355'\n",
    "\n",
    "#     # initialize the process group\n",
    "#     dist.init_process_group(\"gloo\", rank=rank, world_size=world_size)\n",
    "\n",
    "# def cleanup():\n",
    "#     dist.destroy_process_group()\n",
    "\n",
    "# setup(args.rank, args.world_size)"
   ]
  },
  {
   "cell_type": "code",
   "execution_count": 26,
   "metadata": {},
   "outputs": [],
   "source": [
    "# args.rank = args.local_rank\n",
    "args.rank = 0"
   ]
  },
  {
   "cell_type": "code",
   "execution_count": null,
   "metadata": {},
   "outputs": [],
   "source": []
  },
  {
   "cell_type": "code",
   "execution_count": 27,
   "metadata": {},
   "outputs": [
    {
     "data": {
      "text/plain": [
       "890"
      ]
     },
     "execution_count": 27,
     "metadata": {},
     "output_type": "execute_result"
    }
   ],
   "source": [
    "masks_cat.shape[0]//args.batch_size+1"
   ]
  },
  {
   "cell_type": "code",
   "execution_count": 28,
   "metadata": {},
   "outputs": [
    {
     "name": "stdout",
     "output_type": "stream",
     "text": [
      "Namespace(arch='resnet18', base_lr=0.2, batch_size=800, cov_coeff=1.0, data_dir=PosixPath('../../data'), device='cuda', dist_url='env://', epochs=100, exp_dir=PosixPath('../../models/vicreg-models/latent-64'), local_rank=-1, log_freq_time=60, mlp='512-512-512', num_workers=10, out_features='64', rank=0, sim_coeff=25.0, std_coeff=25.0, wd=1e-06, world_size=1)\n",
      "/home/joz608/.conda/envs/grc/lib/python3.8/site-packages/ipykernel_launcher.py -f /home/joz608/.local/share/jupyter/runtime/kernel-0de5fee9-4b4c-47dc-a6e3-2632e5a32cf4.json\n",
      "0.weight\n",
      "1.weight\n",
      "1.bias\n",
      "4.0.conv1.weight\n",
      "4.0.bn1.weight\n",
      "4.0.bn1.bias\n",
      "4.0.conv2.weight\n",
      "4.0.bn2.weight\n",
      "4.0.bn2.bias\n",
      "4.1.conv1.weight\n",
      "4.1.bn1.weight\n",
      "4.1.bn1.bias\n",
      "4.1.conv2.weight\n",
      "4.1.bn2.weight\n",
      "4.1.bn2.bias\n",
      "5.0.conv1.weight\n",
      "5.0.bn1.weight\n",
      "5.0.bn1.bias\n",
      "5.0.conv2.weight\n",
      "5.0.bn2.weight\n",
      "5.0.bn2.bias\n",
      "5.0.downsample.0.weight\n",
      "5.0.downsample.1.weight\n",
      "5.0.downsample.1.bias\n",
      "5.1.conv1.weight\n",
      "5.1.bn1.weight\n",
      "5.1.bn1.bias\n",
      "5.1.conv2.weight\n",
      "5.1.bn2.weight\n",
      "5.1.bn2.bias\n",
      "6.0.conv1.weight\n",
      "6.0.bn1.weight\n",
      "6.0.bn1.bias\n",
      "6.0.conv2.weight\n",
      "6.0.bn2.weight\n",
      "6.0.bn2.bias\n",
      "6.0.downsample.0.weight\n",
      "6.0.downsample.1.weight\n",
      "6.0.downsample.1.bias\n",
      "6.1.conv1.weight\n",
      "6.1.bn1.weight\n",
      "6.1.bn1.bias\n",
      "6.1.conv2.weight\n",
      "6.1.bn2.weight\n",
      "6.1.bn2.bias\n",
      "7.0.conv1.weight\n",
      "7.0.bn1.weight\n",
      "7.0.bn1.bias\n",
      "7.0.conv2.weight\n",
      "7.0.bn2.weight\n",
      "7.0.bn2.bias\n",
      "7.0.downsample.0.weight\n",
      "7.0.downsample.1.weight\n",
      "7.0.downsample.1.bias\n",
      "7.1.conv1.weight\n",
      "7.1.bn1.weight\n",
      "7.1.bn1.bias\n",
      "7.1.conv2.weight\n",
      "7.1.bn2.weight\n",
      "7.1.bn2.bias\n"
     ]
    }
   ],
   "source": [
    "from tqdm.notebook import tqdm, trange\n",
    "\n",
    "torch.backends.cudnn.benchmark = True\n",
    "# mvr.init_distributed_mode(args)\n",
    "print(args)\n",
    "gpu = torch.device(args.device)\n",
    "\n",
    "if args.rank == 0:\n",
    "    args.exp_dir.mkdir(parents=True, exist_ok=True)\n",
    "    stats_file = open(args.exp_dir / \"stats.txt\", \"a\", buffering=1)\n",
    "    print(\" \".join(sys.argv))\n",
    "    print(\" \".join(sys.argv), file=stats_file)\n",
    "\n",
    "# transforms = aug.TrainTransform()\n",
    "\n",
    "dataset = dataset_vicreg(\n",
    "                                torch.as_tensor(masks_cat, device='cpu', dtype=torch.float32), \n",
    "                                torch.as_tensor(torch.zeros(masks_cat.shape[0]), device='cpu', dtype=torch.float32),\n",
    "                                transforms=[scripted_transforms, scripted_transforms],\n",
    "                                DEVICE='cpu',\n",
    "                                dtype_X=torch.float32,\n",
    "                                dtype_y=torch.int64)\n",
    "# dataset = datasets.ImageFolder(args.data_dir / \"training\", transforms)\n",
    "# sampler = torch.utils.data.distributed.DistributedSampler(dataset, shuffle=True)\n",
    "sampler = torch.utils.data.RandomSampler(dataset)\n",
    "assert args.batch_size % args.world_size == 0\n",
    "per_device_batch_size = args.batch_size // args.world_size\n",
    "# loader = torch.utils.data.DataLoader(\n",
    "#     dataset,\n",
    "#     batch_size=per_device_batch_size,\n",
    "# #     num_workers=args.num_workers,\n",
    "# #     pin_memory=True,\n",
    "#     sampler=sampler,\n",
    "# )\n",
    "\n",
    "loader = torch.utils.data.DataLoader( dataset,\n",
    "#                                                 batch_size=int(pct_batch_size*X_train.shape[0]),\n",
    "                                                batch_size=800,\n",
    "                                                # shuffle=True,\n",
    "                                                shuffle=True,\n",
    "                                                drop_last=False,\n",
    "                                                pin_memory=True,\n",
    "                                                num_workers=15,\n",
    "                                                persistent_workers=True,\n",
    "                                                prefetch_factor=3\n",
    "                                                )\n",
    "\n",
    "model = mvr.VICReg(args).to(DEVICE)#cuda(gpu)\n",
    "# model = nn.SyncBatchNorm.convert_sync_batchnorm(model)\n",
    "# model = torch.nn.parallel.DistributedDataParallel(model, device_ids=[gpu])"
   ]
  },
  {
   "cell_type": "code",
   "execution_count": 29,
   "metadata": {},
   "outputs": [
    {
     "data": {
      "text/plain": [
       "torch.Size([3, 36, 36])"
      ]
     },
     "execution_count": 29,
     "metadata": {},
     "output_type": "execute_result"
    }
   ],
   "source": [
    "dataset[ii][0].shape"
   ]
  },
  {
   "cell_type": "code",
   "execution_count": 30,
   "metadata": {},
   "outputs": [
    {
     "data": {
      "image/png": "[encoded data removed]",
      "text/plain": [
       "<Figure size 432x288 with 2 Axes>"
      ]
     },
     "metadata": {
      "needs_background": "light"
     },
     "output_type": "display_data"
    },
    {
     "data": {
      "image/png": "[encoded data removed]",
      "text/plain": [
       "<Figure size 432x288 with 2 Axes>"
      ]
     },
     "metadata": {
      "needs_background": "light"
     },
     "output_type": "display_data"
    },
    {
     "data": {
      "image/png": "[encoded data removed]",
      "text/plain": [
       "<Figure size 432x288 with 2 Axes>"
      ]
     },
     "metadata": {
      "needs_background": "light"
     },
     "output_type": "display_data"
    },
    {
     "data": {
      "image/png": "[encoded data removed]",
      "text/plain": [
       "<Figure size 432x288 with 2 Axes>"
      ]
     },
     "metadata": {
      "needs_background": "light"
     },
     "output_type": "display_data"
    },
    {
     "data": {
      "image/png": "[encoded data removed]",
      "text/plain": [
       "<Figure size 432x288 with 2 Axes>"
      ]
     },
     "metadata": {
      "needs_background": "light"
     },
     "output_type": "display_data"
    },
    {
     "data": {
      "image/png": "[encoded data removed]",
      "text/plain": [
       "<Figure size 432x288 with 2 Axes>"
      ]
     },
     "metadata": {
      "needs_background": "light"
     },
     "output_type": "display_data"
    },
    {
     "data": {
      "image/png": "[encoded data removed]",
      "text/plain": [
       "<Figure size 432x288 with 2 Axes>"
      ]
     },
     "metadata": {
      "needs_background": "light"
     },
     "output_type": "display_data"
    },
    {
     "data": {
      "image/png": "[encoded data removed]",
      "text/plain": [
       "<Figure size 432x288 with 2 Axes>"
      ]
     },
     "metadata": {
      "needs_background": "light"
     },
     "output_type": "display_data"
    },
    {
     "data": {
      "image/png": "[encoded data removed]",
      "text/plain": [
       "<Figure size 432x288 with 2 Axes>"
      ]
     },
     "metadata": {
      "needs_background": "light"
     },
     "output_type": "display_data"
    },
    {
     "data": {
      "image/png": "[encoded data removed]",
      "text/plain": [
       "<Figure size 432x288 with 2 Axes>"
      ]
     },
     "metadata": {
      "needs_background": "light"
     },
     "output_type": "display_data"
    }
   ],
   "source": [
    "idx_rand = np.random.randint(0,len(dataset), 10)\n",
    "for ii in idx_rand:\n",
    "    fig, axs = plt.subplots(1,2)\n",
    "    # print(dataset_train[ii][0][0][0].shape)\n",
    "    axs[0].imshow(np.transpose(dataset[ii][0], [1,2,0]))\n",
    "    axs[1].imshow(np.transpose(dataset[ii][1], [1,2,0]))"
   ]
  },
  {
   "cell_type": "code",
   "execution_count": 31,
   "metadata": {},
   "outputs": [],
   "source": [
    "optimizer = mvr.LARS(\n",
    "    model.parameters(),\n",
    "    lr=0,\n",
    "    weight_decay=args.wd,\n",
    "    weight_decay_filter=exclude_bias_and_norm,\n",
    "    lars_adaptation_filter=exclude_bias_and_norm,\n",
    ")\n",
    "\n",
    "if (args.exp_dir / \"model.pth\").is_file():\n",
    "    if args.rank == 0:\n",
    "        print(\"resuming from checkpoint\")\n",
    "    ckpt = torch.load(args.exp_dir / \"model.pth\", map_location=\"cpu\")\n",
    "    start_epoch = ckpt[\"epoch\"]\n",
    "    model.load_state_dict(ckpt[\"model\"])\n",
    "    optimizer.load_state_dict(ckpt[\"optimizer\"])\n",
    "else:\n",
    "    start_epoch = 0"
   ]
  },
  {
   "cell_type": "code",
   "execution_count": 32,
   "metadata": {
    "scrolled": false
   },
   "outputs": [
    {
     "data": {
      "application/vnd.jupyter.widget-view+json": {
       "model_id": "d0b9e83479ce49649c00d76939545866",
       "version_major": 2,
       "version_minor": 0
      },
      "text/plain": [
       "  0%|          | 0/100 [00:00<?, ?it/s]"
      ]
     },
     "metadata": {},
     "output_type": "display_data"
    },
    {
     "data": {
      "application/vnd.jupyter.widget-view+json": {
       "model_id": "f81781405e9c413c8db444e6564dd9ec",
       "version_major": 2,
       "version_minor": 0
      },
      "text/plain": [
       "  0%|          | 0/891 [00:00<?, ?it/s]"
      ]
     },
     "metadata": {},
     "output_type": "display_data"
    },
    {
     "name": "stdout",
     "output_type": "stream",
     "text": [
      "{\"epoch\": 0, \"step\": 397, \"loss\": 17.069461822509766, \"time\": 60, \"lr\": 0.027879213483146068}\n",
      "{\"epoch\": 0, \"step\": 853, \"loss\": 15.425493240356445, \"time\": 120, \"lr\": 0.05990168539325843}\n"
     ]
    },
    {
     "data": {
      "application/vnd.jupyter.widget-view+json": {
       "model_id": "b63af723c34b45d5ace133e90c7404c1",
       "version_major": 2,
       "version_minor": 0
      },
      "text/plain": [
       "  0%|          | 0/891 [00:00<?, ?it/s]"
      ]
     },
     "metadata": {},
     "output_type": "display_data"
    },
    {
     "name": "stdout",
     "output_type": "stream",
     "text": [
      "{\"epoch\": 1, \"step\": 1289, \"loss\": 15.084896087646484, \"time\": 180, \"lr\": 0.09051966292134832}\n",
      "{\"epoch\": 1, \"step\": 1747, \"loss\": 14.052735328674316, \"time\": 240, \"lr\": 0.12268258426966293}\n"
     ]
    },
    {
     "data": {
      "application/vnd.jupyter.widget-view+json": {
       "model_id": "3a303dcf338a49ebacf5a01a2bb0f89e",
       "version_major": 2,
       "version_minor": 0
      },
      "text/plain": [
       "  0%|          | 0/891 [00:00<?, ?it/s]"
      ]
     },
     "metadata": {},
     "output_type": "display_data"
    },
    {
     "name": "stdout",
     "output_type": "stream",
     "text": [
      "{\"epoch\": 2, \"step\": 2191, \"loss\": 13.596025466918945, \"time\": 300, \"lr\": 0.1538623595505618}\n",
      "{\"epoch\": 2, \"step\": 2647, \"loss\": 13.149876594543457, \"time\": 360, \"lr\": 0.18588483146067417}\n"
     ]
    },
    {
     "data": {
      "application/vnd.jupyter.widget-view+json": {
       "model_id": "c627411ddf194d0abf2806f560fcb09e",
       "version_major": 2,
       "version_minor": 0
      },
      "text/plain": [
       "  0%|          | 0/891 [00:00<?, ?it/s]"
      ]
     },
     "metadata": {},
     "output_type": "display_data"
    },
    {
     "name": "stdout",
     "output_type": "stream",
     "text": [
      "{\"epoch\": 3, \"step\": 3091, \"loss\": 12.607381820678711, \"time\": 420, \"lr\": 0.21706460674157305}\n",
      "{\"epoch\": 3, \"step\": 3547, \"loss\": 12.219039916992188, \"time\": 480, \"lr\": 0.2490870786516854}\n"
     ]
    },
    {
     "data": {
      "application/vnd.jupyter.widget-view+json": {
       "model_id": "9435f0e38ade4e6f92791e146f832bea",
       "version_major": 2,
       "version_minor": 0
      },
      "text/plain": [
       "  0%|          | 0/891 [00:00<?, ?it/s]"
      ]
     },
     "metadata": {},
     "output_type": "display_data"
    },
    {
     "name": "stdout",
     "output_type": "stream",
     "text": [
      "{\"epoch\": 4, \"step\": 3990, \"loss\": 11.989116668701172, \"time\": 540, \"lr\": 0.28019662921348315}\n",
      "{\"epoch\": 4, \"step\": 4446, \"loss\": 11.674752235412598, \"time\": 600, \"lr\": 0.3122191011235955}\n"
     ]
    },
    {
     "data": {
      "application/vnd.jupyter.widget-view+json": {
       "model_id": "01c18e59f2d047c28a2a1f3c0cfc1cc2",
       "version_major": 2,
       "version_minor": 0
      },
      "text/plain": [
       "  0%|          | 0/891 [00:00<?, ?it/s]"
      ]
     },
     "metadata": {},
     "output_type": "display_data"
    },
    {
     "name": "stdout",
     "output_type": "stream",
     "text": [
      "{\"epoch\": 5, \"step\": 4889, \"loss\": 11.650431632995605, \"time\": 660, \"lr\": 0.3433286516853933}\n"
     ]
    },
    {
     "data": {
      "application/vnd.jupyter.widget-view+json": {
       "model_id": "12cd1555293d4bde8b60f05badffbacc",
       "version_major": 2,
       "version_minor": 0
      },
      "text/plain": [
       "  0%|          | 0/891 [00:00<?, ?it/s]"
      ]
     },
     "metadata": {},
     "output_type": "display_data"
    },
    {
     "name": "stdout",
     "output_type": "stream",
     "text": [
      "{\"epoch\": 6, \"step\": 5340, \"loss\": 10.954889297485352, \"time\": 721, \"lr\": 0.375}\n",
      "{\"epoch\": 6, \"step\": 5796, \"loss\": 10.701746940612793, \"time\": 781, \"lr\": 0.40702247191011237}\n"
     ]
    },
    {
     "data": {
      "application/vnd.jupyter.widget-view+json": {
       "model_id": "82cd4464f8184094ac1b90c13db7c710",
       "version_major": 2,
       "version_minor": 0
      },
      "text/plain": [
       "  0%|          | 0/891 [00:00<?, ?it/s]"
      ]
     },
     "metadata": {},
     "output_type": "display_data"
    },
    {
     "name": "stdout",
     "output_type": "stream",
     "text": [
      "{\"epoch\": 7, \"step\": 6240, \"loss\": 10.248880386352539, \"time\": 841, \"lr\": 0.43820224719101125}\n",
      "{\"epoch\": 7, \"step\": 6696, \"loss\": 10.234598159790039, \"time\": 901, \"lr\": 0.4702247191011236}\n"
     ]
    },
    {
     "data": {
      "application/vnd.jupyter.widget-view+json": {
       "model_id": "e3d287c24ac44ea2a05ed5594f451b57",
       "version_major": 2,
       "version_minor": 0
      },
      "text/plain": [
       "  0%|          | 0/891 [00:00<?, ?it/s]"
      ]
     },
     "metadata": {},
     "output_type": "display_data"
    },
    {
     "name": "stdout",
     "output_type": "stream",
     "text": [
      "{\"epoch\": 8, \"step\": 7139, \"loss\": 10.653777122497559, \"time\": 961, \"lr\": 0.5013342696629214}\n",
      "{\"epoch\": 8, \"step\": 7595, \"loss\": 10.039530754089355, \"time\": 1021, \"lr\": 0.5333567415730337}\n"
     ]
    },
    {
     "data": {
      "application/vnd.jupyter.widget-view+json": {
       "model_id": "7ce6b446207e41b4a63c39007d00e547",
       "version_major": 2,
       "version_minor": 0
      },
      "text/plain": [
       "  0%|          | 0/891 [00:00<?, ?it/s]"
      ]
     },
     "metadata": {},
     "output_type": "display_data"
    },
    {
     "name": "stdout",
     "output_type": "stream",
     "text": [
      "{\"epoch\": 9, \"step\": 8038, \"loss\": 9.965441703796387, \"time\": 1081, \"lr\": 0.5644662921348315}\n",
      "{\"epoch\": 9, \"step\": 8494, \"loss\": 9.769198417663574, \"time\": 1142, \"lr\": 0.5964887640449438}\n"
     ]
    },
    {
     "data": {
      "application/vnd.jupyter.widget-view+json": {
       "model_id": "fb776ce52ec5437bbcf4b0a98ac85285",
       "version_major": 2,
       "version_minor": 0
      },
      "text/plain": [
       "  0%|          | 0/891 [00:00<?, ?it/s]"
      ]
     },
     "metadata": {},
     "output_type": "display_data"
    },
    {
     "name": "stdout",
     "output_type": "stream",
     "text": [
      "{\"epoch\": 10, \"step\": 8935, \"loss\": 9.77884292602539, \"time\": 1202, \"lr\": 0.6249997058585371}\n",
      "{\"epoch\": 10, \"step\": 9390, \"loss\": 9.203155517578125, \"time\": 1262, \"lr\": 0.6249423500386325}\n"
     ]
    },
    {
     "data": {
      "application/vnd.jupyter.widget-view+json": {
       "model_id": "2ea9b9a64fb14ff3b5773deb0e4fee88",
       "version_major": 2,
       "version_minor": 0
      },
      "text/plain": [
       "  0%|          | 0/891 [00:00<?, ?it/s]"
      ]
     },
     "metadata": {},
     "output_type": "display_data"
    },
    {
     "name": "stdout",
     "output_type": "stream",
     "text": [
      "{\"epoch\": 11, \"step\": 9835, \"loss\": 9.623900413513184, \"time\": 1322, \"lr\": 0.6247901085350702}\n",
      "{\"epoch\": 11, \"step\": 10290, \"loss\": 8.942951202392578, \"time\": 1382, \"lr\": 0.6245361877004947}\n"
     ]
    },
    {
     "data": {
      "application/vnd.jupyter.widget-view+json": {
       "model_id": "2ae42352863c4fbe9169e17637c5e4d4",
       "version_major": 2,
       "version_minor": 0
      },
      "text/plain": [
       "  0%|          | 0/891 [00:00<?, ?it/s]"
      ]
     },
     "metadata": {},
     "output_type": "display_data"
    },
    {
     "name": "stdout",
     "output_type": "stream",
     "text": [
      "{\"epoch\": 12, \"step\": 10731, \"loss\": 8.533668518066406, \"time\": 1442, \"lr\": 0.6241953439817242}\n",
      "{\"epoch\": 12, \"step\": 11186, \"loss\": 8.3966064453125, \"time\": 1502, \"lr\": 0.6237460456425794}\n"
     ]
    },
    {
     "data": {
      "application/vnd.jupyter.widget-view+json": {
       "model_id": "910db899403a4c05a8c5692a36f97c16",
       "version_major": 2,
       "version_minor": 0
      },
      "text/plain": [
       "  0%|          | 0/891 [00:00<?, ?it/s]"
      ]
     },
     "metadata": {},
     "output_type": "display_data"
    },
    {
     "name": "stdout",
     "output_type": "stream",
     "text": [
      "{\"epoch\": 13, \"step\": 11628, \"loss\": 8.95880126953125, \"time\": 1562, \"lr\": 0.6232147682221528}\n",
      "{\"epoch\": 13, \"step\": 12083, \"loss\": 8.349038124084473, \"time\": 1622, \"lr\": 0.6225704301476855}\n"
     ]
    },
    {
     "data": {
      "application/vnd.jupyter.widget-view+json": {
       "model_id": "e5e4719353f74c23a578b77e4810721c",
       "version_major": 2,
       "version_minor": 0
      },
      "text/plain": [
       "  0%|          | 0/891 [00:00<?, ?it/s]"
      ]
     },
     "metadata": {},
     "output_type": "display_data"
    },
    {
     "name": "stdout",
     "output_type": "stream",
     "text": [
      "{\"epoch\": 14, \"step\": 12526, \"loss\": 8.409162521362305, \"time\": 1682, \"lr\": 0.6218483082607308}\n",
      "{\"epoch\": 14, \"step\": 12982, \"loss\": 8.541162490844727, \"time\": 1742, \"lr\": 0.6210075601592295}\n"
     ]
    },
    {
     "data": {
      "application/vnd.jupyter.widget-view+json": {
       "model_id": "54db36fe04c143d69a74e183bab76217",
       "version_major": 2,
       "version_minor": 0
      },
      "text/plain": [
       "  0%|          | 0/891 [00:00<?, ?it/s]"
      ]
     },
     "metadata": {},
     "output_type": "display_data"
    },
    {
     "name": "stdout",
     "output_type": "stream",
     "text": [
      "{\"epoch\": 15, \"step\": 13423, \"loss\": 8.777632713317871, \"time\": 1803, \"lr\": 0.6201006982340209}\n",
      "{\"epoch\": 15, \"step\": 13878, \"loss\": 8.019397735595703, \"time\": 1863, \"lr\": 0.6190686986269246}\n"
     ]
    },
    {
     "data": {
      "application/vnd.jupyter.widget-view+json": {
       "model_id": "379e5e86881f4af5bd70aa7b542f72d2",
       "version_major": 2,
       "version_minor": 0
      },
      "text/plain": [
       "  0%|          | 0/891 [00:00<?, ?it/s]"
      ]
     },
     "metadata": {},
     "output_type": "display_data"
    },
    {
     "name": "stdout",
     "output_type": "stream",
     "text": [
      "{\"epoch\": 16, \"step\": 14320, \"loss\": 7.963502407073975, \"time\": 1923, \"lr\": 0.6179727931459631}\n",
      "{\"epoch\": 16, \"step\": 14776, \"loss\": 7.7897515296936035, \"time\": 1983, \"lr\": 0.6167460708266198}\n"
     ]
    },
    {
     "data": {
      "application/vnd.jupyter.widget-view+json": {
       "model_id": "8be3134b750d447a8215d26a318692eb",
       "version_major": 2,
       "version_minor": 0
      },
      "text/plain": [
       "  0%|          | 0/891 [00:00<?, ?it/s]"
      ]
     },
     "metadata": {},
     "output_type": "display_data"
    },
    {
     "name": "stdout",
     "output_type": "stream",
     "text": [
      "{\"epoch\": 17, \"step\": 15220, \"loss\": 7.893893718719482, \"time\": 2043, \"lr\": 0.6154582163279606}\n",
      "{\"epoch\": 17, \"step\": 15676, \"loss\": 7.607343673706055, \"time\": 2103, \"lr\": 0.6140400297241103}\n"
     ]
    },
    {
     "data": {
      "application/vnd.jupyter.widget-view+json": {
       "model_id": "9456173a60e3447bbc356f4e751e9420",
       "version_major": 2,
       "version_minor": 0
      },
      "text/plain": [
       "  0%|          | 0/891 [00:00<?, ?it/s]"
      ]
     },
     "metadata": {},
     "output_type": "display_data"
    },
    {
     "name": "stdout",
     "output_type": "stream",
     "text": [
      "{\"epoch\": 18, \"step\": 16119, \"loss\": 7.566317558288574, \"time\": 2163, \"lr\": 0.6125700015181599}\n",
      "{\"epoch\": 18, \"step\": 16575, \"loss\": 7.548416614532471, \"time\": 2223, \"lr\": 0.6109623272204829}\n"
     ]
    },
    {
     "data": {
      "application/vnd.jupyter.widget-view+json": {
       "model_id": "e0ceeb45fab1457499f03fb9e5d070a0",
       "version_major": 2,
       "version_minor": 0
      },
      "text/plain": [
       "  0%|          | 0/891 [00:00<?, ?it/s]"
      ]
     },
     "metadata": {},
     "output_type": "display_data"
    },
    {
     "name": "stdout",
     "output_type": "stream",
     "text": [
      "{\"epoch\": 19, \"step\": 17019, \"loss\": 7.410993576049805, \"time\": 2283, \"lr\": 0.6093053223460295}\n",
      "{\"epoch\": 19, \"step\": 17475, \"loss\": 7.512389659881592, \"time\": 2343, \"lr\": 0.6075099515149435}\n"
     ]
    },
    {
     "data": {
      "application/vnd.jupyter.widget-view+json": {
       "model_id": "d55c2a7e5ca843ce9be6658f7721ede9",
       "version_major": 2,
       "version_minor": 0
      },
      "text/plain": [
       "  0%|          | 0/891 [00:00<?, ?it/s]"
      ]
     },
     "metadata": {},
     "output_type": "display_data"
    },
    {
     "name": "stdout",
     "output_type": "stream",
     "text": [
      "{\"epoch\": 20, \"step\": 17920, \"loss\": 7.491192817687988, \"time\": 2403, \"lr\": 0.6056670083705175}\n",
      "{\"epoch\": 20, \"step\": 18376, \"loss\": 7.504488945007324, \"time\": 2463, \"lr\": 0.6036859730781968}\n"
     ]
    },
    {
     "data": {
      "application/vnd.jupyter.widget-view+json": {
       "model_id": "5a328a84d21d4197a7c3ae7c645a035c",
       "version_major": 2,
       "version_minor": 0
      },
      "text/plain": [
       "  0%|          | 0/891 [00:00<?, ?it/s]"
      ]
     },
     "metadata": {},
     "output_type": "display_data"
    },
    {
     "name": "stdout",
     "output_type": "stream",
     "text": [
      "{\"epoch\": 21, \"step\": 18820, \"loss\": 7.382005214691162, \"time\": 2523, \"lr\": 0.6016676678087628}\n",
      "{\"epoch\": 21, \"step\": 19277, \"loss\": 7.571690559387207, \"time\": 2583, \"lr\": 0.5994987968353287}\n"
     ]
    },
    {
     "data": {
      "application/vnd.jupyter.widget-view+json": {
       "model_id": "a03b90c7959b4974838528f85c67ad77",
       "version_major": 2,
       "version_minor": 0
      },
      "text/plain": [
       "  0%|          | 0/891 [00:00<?, ?it/s]"
      ]
     },
     "metadata": {},
     "output_type": "display_data"
    },
    {
     "name": "stdout",
     "output_type": "stream",
     "text": [
      "{\"epoch\": 22, \"step\": 19720, \"loss\": 7.108612060546875, \"time\": 2643, \"lr\": 0.5973084496773067}\n",
      "{\"epoch\": 22, \"step\": 20176, \"loss\": 7.206052303314209, \"time\": 2704, \"lr\": 0.59496413251529}\n"
     ]
    },
    {
     "data": {
      "application/vnd.jupyter.widget-view+json": {
       "model_id": "602c2ce07bd9483797d90b4c1b4aeb6e",
       "version_major": 2,
       "version_minor": 0
      },
      "text/plain": [
       "  0%|          | 0/891 [00:00<?, ?it/s]"
      ]
     },
     "metadata": {},
     "output_type": "display_data"
    },
    {
     "name": "stdout",
     "output_type": "stream",
     "text": [
      "{\"epoch\": 23, \"step\": 20620, \"loss\": 7.2639360427856445, \"time\": 2764, \"lr\": 0.5925947850191138}\n",
      "{\"epoch\": 23, \"step\": 21077, \"loss\": 6.908233642578125, \"time\": 2824, \"lr\": 0.5900674679279472}\n"
     ]
    },
    {
     "data": {
      "application/vnd.jupyter.widget-view+json": {
       "model_id": "0b48238de729413fb33a8c65aeae4ea3",
       "version_major": 2,
       "version_minor": 0
      },
      "text/plain": [
       "  0%|          | 0/891 [00:00<?, ?it/s]"
      ]
     },
     "metadata": {},
     "output_type": "display_data"
    },
    {
     "name": "stdout",
     "output_type": "stream",
     "text": [
      "{\"epoch\": 24, \"step\": 21520, \"loss\": 6.917396068572998, \"time\": 2884, \"lr\": 0.5875325464733843}\n",
      "{\"epoch\": 24, \"step\": 21976, \"loss\": 7.223127365112305, \"time\": 2944, \"lr\": 0.5848366267118501}\n"
     ]
    },
    {
     "data": {
      "application/vnd.jupyter.widget-view+json": {
       "model_id": "3edc18a4ff2041b8a5e40e622fffba0d",
       "version_major": 2,
       "version_minor": 0
      },
      "text/plain": [
       "  0%|          | 0/891 [00:00<?, ?it/s]"
      ]
     },
     "metadata": {},
     "output_type": "display_data"
    },
    {
     "name": "stdout",
     "output_type": "stream",
     "text": [
      "{\"epoch\": 25, \"step\": 22418, \"loss\": 7.05793571472168, \"time\": 3004, \"lr\": 0.5821404255296798}\n",
      "{\"epoch\": 25, \"step\": 22874, \"loss\": 6.6506524085998535, \"time\": 3064, \"lr\": 0.5792740099372955}\n"
     ]
    },
    {
     "data": {
      "application/vnd.jupyter.widget-view+json": {
       "model_id": "420654f347b04efd98335bd1714ffff2",
       "version_major": 2,
       "version_minor": 0
      },
      "text/plain": [
       "  0%|          | 0/891 [00:00<?, ?it/s]"
      ]
     },
     "metadata": {},
     "output_type": "display_data"
    },
    {
     "name": "stdout",
     "output_type": "stream",
     "text": [
      "{\"epoch\": 26, \"step\": 23317, \"loss\": 6.700994968414307, \"time\": 3124, \"lr\": 0.576407684847402}\n",
      "{\"epoch\": 26, \"step\": 23773, \"loss\": 6.538032054901123, \"time\": 3184, \"lr\": 0.5733741449250085}\n"
     ]
    },
    {
     "data": {
      "application/vnd.jupyter.widget-view+json": {
       "model_id": "a64e12fb08254d7494a7696947b95c58",
       "version_major": 2,
       "version_minor": 0
      },
      "text/plain": [
       "  0%|          | 0/891 [00:00<?, ?it/s]"
      ]
     },
     "metadata": {},
     "output_type": "display_data"
    },
    {
     "name": "stdout",
     "output_type": "stream",
     "text": [
      "{\"epoch\": 27, \"step\": 24213, \"loss\": 6.590890884399414, \"time\": 3244, \"lr\": 0.5703680272507428}\n",
      "{\"epoch\": 27, \"step\": 24669, \"loss\": 6.65926456451416, \"time\": 3304, \"lr\": 0.5671716726377725}\n"
     ]
    },
    {
     "data": {
      "application/vnd.jupyter.widget-view+json": {
       "model_id": "c9a6170d90974a5d9ef90b8d1dc5eaee",
       "version_major": 2,
       "version_minor": 0
      },
      "text/plain": [
       "  0%|          | 0/891 [00:00<?, ?it/s]"
      ]
     },
     "metadata": {},
     "output_type": "display_data"
    },
    {
     "name": "stdout",
     "output_type": "stream",
     "text": [
      "{\"epoch\": 28, \"step\": 25114, \"loss\": 6.56318473815918, \"time\": 3364, \"lr\": 0.5639739772044245}\n",
      "{\"epoch\": 28, \"step\": 25570, \"loss\": 6.766201972961426, \"time\": 3424, \"lr\": 0.5606178797508139}\n"
     ]
    },
    {
     "data": {
      "application/vnd.jupyter.widget-view+json": {
       "model_id": "5a9fecc9f60541a08303e8b753868bb1",
       "version_major": 2,
       "version_minor": 0
      },
      "text/plain": [
       "  0%|          | 0/891 [00:00<?, ?it/s]"
      ]
     },
     "metadata": {},
     "output_type": "display_data"
    },
    {
     "name": "stdout",
     "output_type": "stream",
     "text": [
      "{\"epoch\": 29, \"step\": 26011, \"loss\": 6.715466499328613, \"time\": 3484, \"lr\": 0.5572967751735689}\n",
      "{\"epoch\": 29, \"step\": 26466, \"loss\": 6.025933742523193, \"time\": 3544, \"lr\": 0.5537935907186379}\n"
     ]
    },
    {
     "data": {
      "application/vnd.jupyter.widget-view+json": {
       "model_id": "d603197dd78944e797867923209b64fa",
       "version_major": 2,
       "version_minor": 0
      },
      "text/plain": [
       "  0%|          | 0/891 [00:00<?, ?it/s]"
      ]
     },
     "metadata": {},
     "output_type": "display_data"
    },
    {
     "name": "stdout",
     "output_type": "stream",
     "text": [
      "{\"epoch\": 30, \"step\": 26906, \"loss\": 6.5130205154418945, \"time\": 3604, \"lr\": 0.55033289594304}\n",
      "{\"epoch\": 30, \"step\": 27361, \"loss\": 6.6522536277771, \"time\": 3664, \"lr\": 0.546679842923446}\n"
     ]
    },
    {
     "data": {
      "application/vnd.jupyter.widget-view+json": {
       "model_id": "d0ae9afe89d245d98a944264ed069777",
       "version_major": 2,
       "version_minor": 0
      },
      "text/plain": [
       "  0%|          | 0/891 [00:00<?, ?it/s]"
      ]
     },
     "metadata": {},
     "output_type": "display_data"
    },
    {
     "name": "stdout",
     "output_type": "stream",
     "text": [
      "{\"epoch\": 31, \"step\": 27805, \"loss\": 6.659879207611084, \"time\": 3725, \"lr\": 0.5430432994388598}\n",
      "{\"epoch\": 31, \"step\": 28261, \"loss\": 6.353327751159668, \"time\": 3785, \"lr\": 0.5392358099215016}\n"
     ]
    },
    {
     "data": {
      "application/vnd.jupyter.widget-view+json": {
       "model_id": "c1585780c7984dc9a73d2613a1a951af",
       "version_major": 2,
       "version_minor": 0
      },
      "text/plain": [
       "  0%|          | 0/891 [00:00<?, ?it/s]"
      ]
     },
     "metadata": {},
     "output_type": "display_data"
    },
    {
     "name": "stdout",
     "output_type": "stream",
     "text": [
      "{\"epoch\": 32, \"step\": 28704, \"loss\": 6.526193618774414, \"time\": 3845, \"lr\": 0.5354675010274963}\n",
      "{\"epoch\": 32, \"step\": 29159, \"loss\": 6.111200332641602, \"time\": 3905, \"lr\": 0.5315271565442761}\n"
     ]
    },
    {
     "data": {
      "application/vnd.jupyter.widget-view+json": {
       "model_id": "d9c775a6291f450c90d6a6c11565abfe",
       "version_major": 2,
       "version_minor": 0
      },
      "text/plain": [
       "  0%|          | 0/891 [00:00<?, ?it/s]"
      ]
     },
     "metadata": {},
     "output_type": "display_data"
    },
    {
     "name": "stdout",
     "output_type": "stream",
     "text": [
      "{\"epoch\": 33, \"step\": 29600, \"loss\": 6.334839344024658, \"time\": 3965, \"lr\": 0.5276415722105071}\n",
      "{\"epoch\": 33, \"step\": 30056, \"loss\": 6.161919593811035, \"time\": 4025, \"lr\": 0.5235562551256081}\n"
     ]
    },
    {
     "data": {
      "application/vnd.jupyter.widget-view+json": {
       "model_id": "7f617f4a0dd64ae4a06cece90fbfb056",
       "version_major": 2,
       "version_minor": 0
      },
      "text/plain": [
       "  0%|          | 0/891 [00:00<?, ?it/s]"
      ]
     },
     "metadata": {},
     "output_type": "display_data"
    },
    {
     "name": "stdout",
     "output_type": "stream",
     "text": [
      "{\"epoch\": 34, \"step\": 30497, \"loss\": 6.150712013244629, \"time\": 4085, \"lr\": 0.5195411918342514}\n",
      "{\"epoch\": 34, \"step\": 30953, \"loss\": 6.219964027404785, \"time\": 4145, \"lr\": 0.5153245405362917}\n"
     ]
    },
    {
     "data": {
      "application/vnd.jupyter.widget-view+json": {
       "model_id": "44d4cec0cd2b408abe22973d8f2c5ff1",
       "version_major": 2,
       "version_minor": 0
      },
      "text/plain": [
       "  0%|          | 0/891 [00:00<?, ?it/s]"
      ]
     },
     "metadata": {},
     "output_type": "display_data"
    },
    {
     "name": "stdout",
     "output_type": "stream",
     "text": [
      "{\"epoch\": 35, \"step\": 31394, \"loss\": 6.112369060516357, \"time\": 4205, \"lr\": 0.5111849672667926}\n",
      "{\"epoch\": 35, \"step\": 31849, \"loss\": 6.17961311340332, \"time\": 4265, \"lr\": 0.5068517922411422}\n"
     ]
    },
    {
     "data": {
      "application/vnd.jupyter.widget-view+json": {
       "model_id": "6ec8c63c43594b618d726d34b98e317c",
       "version_major": 2,
       "version_minor": 0
      },
      "text/plain": [
       "  0%|          | 0/891 [00:00<?, ?it/s]"
      ]
     },
     "metadata": {},
     "output_type": "display_data"
    },
    {
     "name": "stdout",
     "output_type": "stream",
     "text": [
      "{\"epoch\": 36, \"step\": 32290, \"loss\": 6.6970062255859375, \"time\": 4325, \"lr\": 0.5025929622524168}\n",
      "{\"epoch\": 36, \"step\": 32745, \"loss\": 6.314876556396484, \"time\": 4385, \"lr\": 0.4981394390326384}\n"
     ]
    },
    {
     "data": {
      "application/vnd.jupyter.widget-view+json": {
       "model_id": "ac70df94d5ff4b8cbd4d66cd78c2b742",
       "version_major": 2,
       "version_minor": 0
      },
      "text/plain": [
       "  0%|          | 0/891 [00:00<?, ?it/s]"
      ]
     },
     "metadata": {},
     "output_type": "display_data"
    },
    {
     "name": "stdout",
     "output_type": "stream",
     "text": [
      "{\"epoch\": 37, \"step\": 33183, \"loss\": 6.114714622497559, \"time\": 4445, \"lr\": 0.4937965427385848}\n",
      "{\"epoch\": 37, \"step\": 33638, \"loss\": 6.164380073547363, \"time\": 4505, \"lr\": 0.48922854585795067}\n"
     ]
    },
    {
     "data": {
      "application/vnd.jupyter.widget-view+json": {
       "model_id": "030bb9ffda6c460291f52b16580f73e0",
       "version_major": 2,
       "version_minor": 0
      },
      "text/plain": [
       "  0%|          | 0/891 [00:00<?, ?it/s]"
      ]
     },
     "metadata": {},
     "output_type": "display_data"
    },
    {
     "name": "stdout",
     "output_type": "stream",
     "text": [
      "{\"epoch\": 38, \"step\": 34077, \"loss\": 6.260353088378906, \"time\": 4565, \"lr\": 0.4847679138438909}\n",
      "{\"epoch\": 38, \"step\": 34532, \"loss\": 6.4622721672058105, \"time\": 4625, \"lr\": 0.4800909275575055}\n"
     ]
    },
    {
     "data": {
      "application/vnd.jupyter.widget-view+json": {
       "model_id": "7f028ee2177f43018edb74a6ae5b7034",
       "version_major": 2,
       "version_minor": 0
      },
      "text/plain": [
       "  0%|          | 0/891 [00:00<?, ?it/s]"
      ]
     },
     "metadata": {},
     "output_type": "display_data"
    },
    {
     "name": "stdout",
     "output_type": "stream",
     "text": [
      "{\"epoch\": 39, \"step\": 34975, \"loss\": 6.507816314697266, \"time\": 4685, \"lr\": 0.475486096151138}\n",
      "{\"epoch\": 39, \"step\": 35431, \"loss\": 6.128798484802246, \"time\": 4745, \"lr\": 0.47069485825114643}\n"
     ]
    },
    {
     "data": {
      "application/vnd.jupyter.widget-view+json": {
       "model_id": "3a05461bfe914e17bba03661691e3d6b",
       "version_major": 2,
       "version_minor": 0
      },
      "text/plain": [
       "  0%|          | 0/891 [00:00<?, ?it/s]"
      ]
     },
     "metadata": {},
     "output_type": "display_data"
    },
    {
     "name": "stdout",
     "output_type": "stream",
     "text": [
      "{\"epoch\": 40, \"step\": 35874, \"loss\": 5.883710861206055, \"time\": 4806, \"lr\": 0.4659918381723048}\n",
      "{\"epoch\": 40, \"step\": 36331, \"loss\": 5.800509452819824, \"time\": 4866, \"lr\": 0.46109174913685963}\n"
     ]
    },
    {
     "data": {
      "application/vnd.jupyter.widget-view+json": {
       "model_id": "ae3ccea2ed504ea1815a5ba8a7d3aa8e",
       "version_major": 2,
       "version_minor": 0
      },
      "text/plain": [
       "  0%|          | 0/891 [00:00<?, ?it/s]"
      ]
     },
     "metadata": {},
     "output_type": "display_data"
    },
    {
     "name": "stdout",
     "output_type": "stream",
     "text": [
      "{\"epoch\": 41, \"step\": 36774, \"loss\": 5.846487522125244, \"time\": 4926, \"lr\": 0.45629628733249983}\n",
      "{\"epoch\": 41, \"step\": 37229, \"loss\": 6.180095195770264, \"time\": 4986, \"lr\": 0.4513258491584719}\n"
     ]
    },
    {
     "data": {
      "application/vnd.jupyter.widget-view+json": {
       "model_id": "941210db74de4e1da4517ac49c129836",
       "version_major": 2,
       "version_minor": 0
      },
      "text/plain": [
       "  0%|          | 0/891 [00:00<?, ?it/s]"
      ]
     },
     "metadata": {},
     "output_type": "display_data"
    },
    {
     "name": "stdout",
     "output_type": "stream",
     "text": [
      "{\"epoch\": 42, \"step\": 37672, \"loss\": 6.069432258605957, \"time\": 5046, \"lr\": 0.44644410562157577}\n",
      "{\"epoch\": 42, \"step\": 38128, \"loss\": 6.057090759277344, \"time\": 5106, \"lr\": 0.44137698715565055}\n"
     ]
    },
    {
     "data": {
      "application/vnd.jupyter.widget-view+json": {
       "model_id": "ae28b36a762a4d0da91901e5fbd3090b",
       "version_major": 2,
       "version_minor": 0
      },
      "text/plain": [
       "  0%|          | 0/891 [00:00<?, ?it/s]"
      ]
     },
     "metadata": {},
     "output_type": "display_data"
    },
    {
     "name": "stdout",
     "output_type": "stream",
     "text": [
      "{\"epoch\": 43, \"step\": 38572, \"loss\": 6.057249069213867, \"time\": 5166, \"lr\": 0.4364036872015896}\n",
      "{\"epoch\": 43, \"step\": 39029, \"loss\": 5.758491039276123, \"time\": 5226, \"lr\": 0.4312456479415867}\n"
     ]
    },
    {
     "data": {
      "application/vnd.jupyter.widget-view+json": {
       "model_id": "45c36c919ec745b09d72a95ac6379f85",
       "version_major": 2,
       "version_minor": 0
      },
      "text/plain": [
       "  0%|          | 0/891 [00:00<?, ?it/s]"
      ]
     },
     "metadata": {},
     "output_type": "display_data"
    },
    {
     "name": "stdout",
     "output_type": "stream",
     "text": [
      "{\"epoch\": 44, \"step\": 39471, \"loss\": 5.770535469055176, \"time\": 5286, \"lr\": 0.42622069743054086}\n",
      "{\"epoch\": 44, \"step\": 39927, \"loss\": 5.780050754547119, \"time\": 5346, \"lr\": 0.421000885017134}\n"
     ]
    },
    {
     "data": {
      "application/vnd.jupyter.widget-view+json": {
       "model_id": "2ade3f4fc0654ee983bb37c2e2126cb6",
       "version_major": 2,
       "version_minor": 0
      },
      "text/plain": [
       "  0%|          | 0/891 [00:00<?, ?it/s]"
      ]
     },
     "metadata": {},
     "output_type": "display_data"
    },
    {
     "name": "stdout",
     "output_type": "stream",
     "text": [
      "{\"epoch\": 45, \"step\": 40368, \"loss\": 6.121110439300537, \"time\": 5406, \"lr\": 0.41591984362943674}\n",
      "{\"epoch\": 45, \"step\": 40824, \"loss\": 5.93803596496582, \"time\": 5466, \"lr\": 0.4106335589052298}\n"
     ]
    },
    {
     "data": {
      "application/vnd.jupyter.widget-view+json": {
       "model_id": "f7ea72a1855e4cc2bef547b1488fd500",
       "version_major": 2,
       "version_minor": 0
      },
      "text/plain": [
       "  0%|          | 0/891 [00:00<?, ?it/s]"
      ]
     },
     "metadata": {},
     "output_type": "display_data"
    },
    {
     "name": "stdout",
     "output_type": "stream",
     "text": [
      "{\"epoch\": 46, \"step\": 41267, \"loss\": 5.880648136138916, \"time\": 5526, \"lr\": 0.4054680009607242}\n",
      "{\"epoch\": 46, \"step\": 41723, \"loss\": 5.869619369506836, \"time\": 5586, \"lr\": 0.40012165989204823}\n"
     ]
    },
    {
     "data": {
      "application/vnd.jupyter.widget-view+json": {
       "model_id": "69c21b21d6d94e7696eca9ee1ba163d3",
       "version_major": 2,
       "version_minor": 0
      },
      "text/plain": [
       "  0%|          | 0/891 [00:00<?, ?it/s]"
      ]
     },
     "metadata": {},
     "output_type": "display_data"
    },
    {
     "name": "stdout",
     "output_type": "stream",
     "text": [
      "{\"epoch\": 47, \"step\": 42168, \"loss\": 5.8784990310668945, \"time\": 5646, \"lr\": 0.3948773503815856}\n",
      "{\"epoch\": 47, \"step\": 42624, \"loss\": 5.967746734619141, \"time\": 5707, \"lr\": 0.38947748769012286}\n"
     ]
    },
    {
     "data": {
      "application/vnd.jupyter.widget-view+json": {
       "model_id": "1930201e166b4ca0b2de626cc9be444f",
       "version_major": 2,
       "version_minor": 0
      },
      "text/plain": [
       "  0%|          | 0/891 [00:00<?, ?it/s]"
      ]
     },
     "metadata": {},
     "output_type": "display_data"
    },
    {
     "name": "stdout",
     "output_type": "stream",
     "text": [
      "{\"epoch\": 48, \"step\": 43065, \"loss\": 6.16773796081543, \"time\": 5767, \"lr\": 0.3842319090071653}\n",
      "{\"epoch\": 48, \"step\": 43520, \"loss\": 5.781081676483154, \"time\": 5827, \"lr\": 0.37879742758592344}\n"
     ]
    },
    {
     "data": {
      "application/vnd.jupyter.widget-view+json": {
       "model_id": "c9a07dca0df542f9975bb1e6a3e0f2d4",
       "version_major": 2,
       "version_minor": 0
      },
      "text/plain": [
       "  0%|          | 0/891 [00:00<?, ?it/s]"
      ]
     },
     "metadata": {},
     "output_type": "display_data"
    },
    {
     "name": "stdout",
     "output_type": "stream",
     "text": [
      "{\"epoch\": 49, \"step\": 43960, \"loss\": 5.630882740020752, \"time\": 5887, \"lr\": 0.37352210131533004}\n",
      "{\"epoch\": 49, \"step\": 44415, \"loss\": 5.8542022705078125, \"time\": 5947, \"lr\": 0.36804793866482066}\n"
     ]
    },
    {
     "data": {
      "application/vnd.jupyter.widget-view+json": {
       "model_id": "b8258c7d29c84174811e7da4f25865f5",
       "version_major": 2,
       "version_minor": 0
      },
      "text/plain": [
       "  0%|          | 0/891 [00:00<?, ?it/s]"
      ]
     },
     "metadata": {},
     "output_type": "display_data"
    },
    {
     "name": "stdout",
     "output_type": "stream",
     "text": [
      "{\"epoch\": 50, \"step\": 44856, \"loss\": 5.876656532287598, \"time\": 6007, \"lr\": 0.3627254082825447}\n",
      "{\"epoch\": 50, \"step\": 45312, \"loss\": 5.526381015777588, \"time\": 6067, \"lr\": 0.3572061561494451}\n"
     ]
    },
    {
     "data": {
      "application/vnd.jupyter.widget-view+json": {
       "model_id": "64f81e11904946e2ab8058ad9543142e",
       "version_major": 2,
       "version_minor": 0
      },
      "text/plain": [
       "  0%|          | 0/891 [00:00<?, ?it/s]"
      ]
     },
     "metadata": {},
     "output_type": "display_data"
    },
    {
     "name": "stdout",
     "output_type": "stream",
     "text": [
      "{\"epoch\": 51, \"step\": 45757, \"loss\": 5.69272518157959, \"time\": 6127, \"lr\": 0.35180634030265967}\n",
      "{\"epoch\": 51, \"step\": 46213, \"loss\": 5.767982482910156, \"time\": 6187, \"lr\": 0.34626073799858026}\n"
     ]
    },
    {
     "data": {
      "application/vnd.jupyter.widget-view+json": {
       "model_id": "46afaf6c28ee4b978a3a4debd5aae281",
       "version_major": 2,
       "version_minor": 0
      },
      "text/plain": [
       "  0%|          | 0/891 [00:00<?, ?it/s]"
      ]
     },
     "metadata": {},
     "output_type": "display_data"
    },
    {
     "name": "stdout",
     "output_type": "stream",
     "text": [
      "{\"epoch\": 52, \"step\": 46656, \"loss\": 5.620283603668213, \"time\": 6247, \"lr\": 0.34086297241880065}\n",
      "{\"epoch\": 52, \"step\": 47112, \"loss\": 5.746151924133301, \"time\": 6307, \"lr\": 0.33529797986670423}\n"
     ]
    },
    {
     "data": {
      "application/vnd.jupyter.widget-view+json": {
       "model_id": "8b180f7bba6c48d097a0287aa0891ac0",
       "version_major": 2,
       "version_minor": 0
      },
      "text/plain": [
       "  0%|          | 0/891 [00:00<?, ?it/s]"
      ]
     },
     "metadata": {},
     "output_type": "display_data"
    },
    {
     "name": "stdout",
     "output_type": "stream",
     "text": [
      "{\"epoch\": 53, \"step\": 47555, \"loss\": 5.52363395690918, \"time\": 6367, \"lr\": 0.32988473474895635}\n",
      "{\"epoch\": 53, \"step\": 48010, \"loss\": 5.583304405212402, \"time\": 6427, \"lr\": 0.32431950579700664}\n"
     ]
    },
    {
     "data": {
      "application/vnd.jupyter.widget-view+json": {
       "model_id": "e634d28ccf2c43379569088aa839ff42",
       "version_major": 2,
       "version_minor": 0
      },
      "text/plain": [
       "  0%|          | 0/891 [00:00<?, ?it/s]"
      ]
     },
     "metadata": {},
     "output_type": "display_data"
    },
    {
     "name": "stdout",
     "output_type": "stream",
     "text": [
      "{\"epoch\": 54, \"step\": 48454, \"loss\": 5.616586685180664, \"time\": 6487, \"lr\": 0.3188852744357604}\n",
      "{\"epoch\": 54, \"step\": 48910, \"loss\": 5.837831497192383, \"time\": 6547, \"lr\": 0.3133022705639078}\n"
     ]
    },
    {
     "data": {
      "application/vnd.jupyter.widget-view+json": {
       "model_id": "4f8da57be3154c379bbbde7c49d50e70",
       "version_major": 2,
       "version_minor": 0
      },
      "text/plain": [
       "  0%|          | 0/891 [00:00<?, ?it/s]"
      ]
     },
     "metadata": {},
     "output_type": "display_data"
    },
    {
     "name": "stdout",
     "output_type": "stream",
     "text": [
      "{\"epoch\": 55, \"step\": 49350, \"loss\": 5.426105499267578, \"time\": 6608, \"lr\": 0.30791499325694616}\n",
      "{\"epoch\": 55, \"step\": 49805, \"loss\": 5.63930082321167, \"time\": 6668, \"lr\": 0.30234561186255277}\n"
     ]
    },
    {
     "data": {
      "application/vnd.jupyter.widget-view+json": {
       "model_id": "3e56fa9cef1b4c02b43eba58f7e80a2f",
       "version_major": 2,
       "version_minor": 0
      },
      "text/plain": [
       "  0%|          | 0/891 [00:00<?, ?it/s]"
      ]
     },
     "metadata": {},
     "output_type": "display_data"
    },
    {
     "name": "stdout",
     "output_type": "stream",
     "text": [
      "{\"epoch\": 56, \"step\": 50248, \"loss\": 5.484206199645996, \"time\": 6728, \"lr\": 0.2969263027900689}\n",
      "{\"epoch\": 56, \"step\": 50702, \"loss\": 5.54344367980957, \"time\": 6788, \"lr\": 0.2913774183114505}\n"
     ]
    },
    {
     "data": {
      "application/vnd.jupyter.widget-view+json": {
       "model_id": "5c5ac9391f894e4fbcaedffdcbc1ee05",
       "version_major": 2,
       "version_minor": 0
      },
      "text/plain": [
       "  0%|          | 0/891 [00:00<?, ?it/s]"
      ]
     },
     "metadata": {},
     "output_type": "display_data"
    },
    {
     "name": "stdout",
     "output_type": "stream",
     "text": [
      "{\"epoch\": 57, \"step\": 51144, \"loss\": 5.367206573486328, \"time\": 6848, \"lr\": 0.28598171453444715}\n",
      "{\"epoch\": 57, \"step\": 51598, \"loss\": 5.398113250732422, \"time\": 6908, \"lr\": 0.2804479307503823}\n"
     ]
    },
    {
     "data": {
      "application/vnd.jupyter.widget-view+json": {
       "model_id": "20a1b0376eb24e239412213cd5e640e6",
       "version_major": 2,
       "version_minor": 0
      },
      "text/plain": [
       "  0%|          | 0/891 [00:00<?, ?it/s]"
      ]
     },
     "metadata": {},
     "output_type": "display_data"
    },
    {
     "name": "stdout",
     "output_type": "stream",
     "text": [
      "{\"epoch\": 58, \"step\": 52041, \"loss\": 5.33323335647583, \"time\": 6968, \"lr\": 0.275058103220641}\n",
      "{\"epoch\": 58, \"step\": 52496, \"loss\": 5.3159942626953125, \"time\": 7028, \"lr\": 0.26953415560764304}\n"
     ]
    },
    {
     "data": {
      "application/vnd.jupyter.widget-view+json": {
       "model_id": "cb39357b89fc476c913c3c8df4709d1d",
       "version_major": 2,
       "version_minor": 0
      },
      "text/plain": [
       "  0%|          | 0/891 [00:00<?, ?it/s]"
      ]
     },
     "metadata": {},
     "output_type": "display_data"
    },
    {
     "name": "stdout",
     "output_type": "stream",
     "text": [
      "{\"epoch\": 59, \"step\": 52940, \"loss\": 5.1575188636779785, \"time\": 7088, \"lr\": 0.26415702671405505}\n",
      "{\"epoch\": 59, \"step\": 53395, \"loss\": 5.327603340148926, \"time\": 7148, \"lr\": 0.25866200183240784}\n"
     ]
    },
    {
     "data": {
      "application/vnd.jupyter.widget-view+json": {
       "model_id": "7d9c67948a1246d98a3d2874945ab26e",
       "version_major": 2,
       "version_minor": 0
      },
      "text/plain": [
       "  0%|          | 0/891 [00:00<?, ?it/s]"
      ]
     },
     "metadata": {},
     "output_type": "display_data"
    },
    {
     "name": "stdout",
     "output_type": "stream",
     "text": [
      "{\"epoch\": 60, \"step\": 53838, \"loss\": 5.458664894104004, \"time\": 7208, \"lr\": 0.25332845415169186}\n"
     ]
    },
    {
     "data": {
      "application/vnd.jupyter.widget-view+json": {
       "model_id": "bf462497a1764e808ca07c1da5602066",
       "version_major": 2,
       "version_minor": 0
      },
      "text/plain": [
       "  0%|          | 0/891 [00:00<?, ?it/s]"
      ]
     },
     "metadata": {},
     "output_type": "display_data"
    },
    {
     "name": "stdout",
     "output_type": "stream",
     "text": [
      "{\"epoch\": 61, \"step\": 54290, \"loss\": 5.421217441558838, \"time\": 7269, \"lr\": 0.2479050690228308}\n",
      "{\"epoch\": 61, \"step\": 54747, \"loss\": 5.454709053039551, \"time\": 7330, \"lr\": 0.2424424351138075}\n"
     ]
    },
    {
     "data": {
      "application/vnd.jupyter.widget-view+json": {
       "model_id": "572d4acf917c4195992b1afb8b63c08c",
       "version_major": 2,
       "version_minor": 0
      },
      "text/plain": [
       "  0%|          | 0/891 [00:00<?, ?it/s]"
      ]
     },
     "metadata": {},
     "output_type": "display_data"
    },
    {
     "name": "stdout",
     "output_type": "stream",
     "text": [
      "{\"epoch\": 62, \"step\": 55191, \"loss\": 5.008630275726318, \"time\": 7390, \"lr\": 0.23715682906833843}\n",
      "{\"epoch\": 62, \"step\": 55647, \"loss\": 5.448921203613281, \"time\": 7450, \"lr\": 0.23175226424135}\n"
     ]
    },
    {
     "data": {
      "application/vnd.jupyter.widget-view+json": {
       "model_id": "10f94317048a487688671c45c322e01a",
       "version_major": 2,
       "version_minor": 0
      },
      "text/plain": [
       "  0%|          | 0/891 [00:00<?, ?it/s]"
      ]
     },
     "metadata": {},
     "output_type": "display_data"
    },
    {
     "name": "stdout",
     "output_type": "stream",
     "text": [
      "{\"epoch\": 63, \"step\": 56088, \"loss\": 5.455934524536133, \"time\": 7510, \"lr\": 0.22655012539815217}\n",
      "{\"epoch\": 63, \"step\": 56543, \"loss\": 5.33108377456665, \"time\": 7570, \"lr\": 0.22120990445869707}\n"
     ]
    },
    {
     "data": {
      "application/vnd.jupyter.widget-view+json": {
       "model_id": "c82304f00a494d8ea7cd5a9cc88fc0b4",
       "version_major": 2,
       "version_minor": 0
      },
      "text/plain": [
       "  0%|          | 0/891 [00:00<?, ?it/s]"
      ]
     },
     "metadata": {},
     "output_type": "display_data"
    },
    {
     "name": "stdout",
     "output_type": "stream",
     "text": [
      "{\"epoch\": 64, \"step\": 56986, \"loss\": 5.361574172973633, \"time\": 7630, \"lr\": 0.2160385374897994}\n",
      "{\"epoch\": 64, \"step\": 57442, \"loss\": 5.289963722229004, \"time\": 7690, \"lr\": 0.21074594314666836}\n"
     ]
    },
    {
     "data": {
      "application/vnd.jupyter.widget-view+json": {
       "model_id": "429f480f29424056b375c99745fdbb36",
       "version_major": 2,
       "version_minor": 0
      },
      "text/plain": [
       "  0%|          | 0/891 [00:00<?, ?it/s]"
      ]
     },
     "metadata": {},
     "output_type": "display_data"
    },
    {
     "name": "stdout",
     "output_type": "stream",
     "text": [
      "{\"epoch\": 65, \"step\": 57885, \"loss\": 5.615115165710449, \"time\": 7750, \"lr\": 0.2056354825074216}\n",
      "{\"epoch\": 65, \"step\": 58341, \"loss\": 5.351373672485352, \"time\": 7810, \"lr\": 0.20040886165828747}\n"
     ]
    },
    {
     "data": {
      "application/vnd.jupyter.widget-view+json": {
       "model_id": "596290a7fa43402d94736d39a5a39fde",
       "version_major": 2,
       "version_minor": 0
      },
      "text/plain": [
       "  0%|          | 0/891 [00:00<?, ?it/s]"
      ]
     },
     "metadata": {},
     "output_type": "display_data"
    },
    {
     "name": "stdout",
     "output_type": "stream",
     "text": [
      "{\"epoch\": 66, \"step\": 58783, \"loss\": 5.114297389984131, \"time\": 7870, \"lr\": 0.1953770050532846}\n",
      "{\"epoch\": 66, \"step\": 59239, \"loss\": 5.077884674072266, \"time\": 7930, \"lr\": 0.19022277076633226}\n"
     ]
    },
    {
     "data": {
      "application/vnd.jupyter.widget-view+json": {
       "model_id": "c3769c6f7d284cbfa67d2cc1f10509b4",
       "version_major": 2,
       "version_minor": 0
      },
      "text/plain": [
       "  0%|          | 0/891 [00:00<?, ?it/s]"
      ]
     },
     "metadata": {},
     "output_type": "display_data"
    },
    {
     "name": "stdout",
     "output_type": "stream",
     "text": [
      "{\"epoch\": 67, \"step\": 59682, \"loss\": 5.372003555297852, \"time\": 7990, \"lr\": 0.18525301251104737}\n",
      "{\"epoch\": 67, \"step\": 60138, \"loss\": 4.80601692199707, \"time\": 8051, \"lr\": 0.18017764907066383}\n"
     ]
    },
    {
     "data": {
      "application/vnd.jupyter.widget-view+json": {
       "model_id": "01fae31aa46e443c9bded7361aa7cc98",
       "version_major": 2,
       "version_minor": 0
      },
      "text/plain": [
       "  0%|          | 0/891 [00:00<?, ?it/s]"
      ]
     },
     "metadata": {},
     "output_type": "display_data"
    },
    {
     "name": "stdout",
     "output_type": "stream",
     "text": [
      "{\"epoch\": 68, \"step\": 60579, \"loss\": 5.193916320800781, \"time\": 8111, \"lr\": 0.17530957510514633}\n",
      "{\"epoch\": 68, \"step\": 61036, \"loss\": 5.0905256271362305, \"time\": 8171, \"lr\": 0.17030830100294594}\n"
     ]
    },
    {
     "data": {
      "application/vnd.jupyter.widget-view+json": {
       "model_id": "eb5e37c26152436ca064327f4214a4a6",
       "version_major": 2,
       "version_minor": 0
      },
      "text/plain": [
       "  0%|          | 0/891 [00:00<?, ?it/s]"
      ]
     },
     "metadata": {},
     "output_type": "display_data"
    },
    {
     "name": "stdout",
     "output_type": "stream",
     "text": [
      "{\"epoch\": 69, \"step\": 61479, \"loss\": 5.133700370788574, \"time\": 8231, \"lr\": 0.165503921789892}\n",
      "{\"epoch\": 69, \"step\": 61935, \"loss\": 5.2440948486328125, \"time\": 8291, \"lr\": 0.16060501678470276}\n"
     ]
    },
    {
     "data": {
      "application/vnd.jupyter.widget-view+json": {
       "model_id": "a9ead93d088f42399a9d84bde293c4d0",
       "version_major": 2,
       "version_minor": 0
      },
      "text/plain": [
       "  0%|          | 0/891 [00:00<?, ?it/s]"
      ]
     },
     "metadata": {},
     "output_type": "display_data"
    },
    {
     "name": "stdout",
     "output_type": "stream",
     "text": [
      "{\"epoch\": 70, \"step\": 62376, \"loss\": 5.121904373168945, \"time\": 8351, \"lr\": 0.15591355219021968}\n",
      "{\"epoch\": 70, \"step\": 62831, \"loss\": 5.503816604614258, \"time\": 8411, \"lr\": 0.15112236406132246}\n"
     ]
    },
    {
     "data": {
      "application/vnd.jupyter.widget-view+json": {
       "model_id": "ac181524ab304003b231930545b2527c",
       "version_major": 2,
       "version_minor": 0
      },
      "text/plain": [
       "  0%|          | 0/891 [00:00<?, ?it/s]"
      ]
     },
     "metadata": {},
     "output_type": "display_data"
    },
    {
     "name": "stdout",
     "output_type": "stream",
     "text": [
      "{\"epoch\": 71, \"step\": 63269, \"loss\": 4.916079044342041, \"time\": 8471, \"lr\": 0.14655881052523767}\n",
      "{\"epoch\": 71, \"step\": 63726, \"loss\": 5.08296537399292, \"time\": 8531, \"lr\": 0.14184961555696565}\n"
     ]
    },
    {
     "data": {
      "application/vnd.jupyter.widget-view+json": {
       "model_id": "588a88a015e24ce9b23dab7480dab254",
       "version_major": 2,
       "version_minor": 0
      },
      "text/plain": [
       "  0%|          | 0/891 [00:00<?, ?it/s]"
      ]
     },
     "metadata": {},
     "output_type": "display_data"
    },
    {
     "name": "stdout",
     "output_type": "stream",
     "text": [
      "{\"epoch\": 72, \"step\": 64167, \"loss\": 5.226611137390137, \"time\": 8591, \"lr\": 0.13735735001089835}\n",
      "{\"epoch\": 72, \"step\": 64623, \"loss\": 5.067629814147949, \"time\": 8651, \"lr\": 0.13276749943044042}\n"
     ]
    },
    {
     "data": {
      "application/vnd.jupyter.widget-view+json": {
       "model_id": "713a8f07a8fe4c5bb2abc372285fd8e3",
       "version_major": 2,
       "version_minor": 0
      },
      "text/plain": [
       "  0%|          | 0/891 [00:00<?, ?it/s]"
      ]
     },
     "metadata": {},
     "output_type": "display_data"
    },
    {
     "name": "stdout",
     "output_type": "stream",
     "text": [
      "{\"epoch\": 73, \"step\": 65068, \"loss\": 5.0888671875, \"time\": 8711, \"lr\": 0.12834387887556933}\n",
      "{\"epoch\": 73, \"step\": 65526, \"loss\": 5.025094032287598, \"time\": 8771, \"lr\": 0.12384971973262741}\n"
     ]
    },
    {
     "data": {
      "application/vnd.jupyter.widget-view+json": {
       "model_id": "744bd57e8e6f4684bc85be450e319e3a",
       "version_major": 2,
       "version_minor": 0
      },
      "text/plain": [
       "  0%|          | 0/891 [00:00<?, ?it/s]"
      ]
     },
     "metadata": {},
     "output_type": "display_data"
    },
    {
     "name": "stdout",
     "output_type": "stream",
     "text": [
      "{\"epoch\": 74, \"step\": 65976, \"loss\": 4.932488441467285, \"time\": 8831, \"lr\": 0.11949343680283687}\n",
      "{\"epoch\": 74, \"step\": 66437, \"loss\": 5.29660701751709, \"time\": 8892, \"lr\": 0.11509312183044484}\n"
     ]
    },
    {
     "data": {
      "application/vnd.jupyter.widget-view+json": {
       "model_id": "7bac3d1766164416927289bd8944abac",
       "version_major": 2,
       "version_minor": 0
      },
      "text/plain": [
       "  0%|          | 0/891 [00:00<?, ?it/s]"
      ]
     },
     "metadata": {},
     "output_type": "display_data"
    },
    {
     "name": "stdout",
     "output_type": "stream",
     "text": [
      "{\"epoch\": 75, \"step\": 66886, \"loss\": 5.269274711608887, \"time\": 8952, \"lr\": 0.1108694708890715}\n",
      "{\"epoch\": 75, \"step\": 67348, \"loss\": 5.083260536193848, \"time\": 9012, \"lr\": 0.10658891529716559}\n"
     ]
    },
    {
     "data": {
      "application/vnd.jupyter.widget-view+json": {
       "model_id": "124ff7d889b841feafd1f24e2efb2bbc",
       "version_major": 2,
       "version_minor": 0
      },
      "text/plain": [
       "  0%|          | 0/891 [00:00<?, ?it/s]"
      ]
     },
     "metadata": {},
     "output_type": "display_data"
    },
    {
     "name": "stdout",
     "output_type": "stream",
     "text": [
      "{\"epoch\": 76, \"step\": 67798, \"loss\": 5.058652400970459, \"time\": 9072, \"lr\": 0.10248462504032471}\n",
      "{\"epoch\": 76, \"step\": 68257, \"loss\": 4.95264196395874, \"time\": 9132, \"lr\": 0.09836575191438948}\n"
     ]
    },
    {
     "data": {
      "application/vnd.jupyter.widget-view+json": {
       "model_id": "7c56b83df5f8474a811e5f4cef2d3b63",
       "version_major": 2,
       "version_minor": 0
      },
      "text/plain": [
       "  0%|          | 0/891 [00:00<?, ?it/s]"
      ]
     },
     "metadata": {},
     "output_type": "display_data"
    },
    {
     "name": "stdout",
     "output_type": "stream",
     "text": [
      "{\"epoch\": 77, \"step\": 68705, \"loss\": 5.022556304931641, \"time\": 9192, \"lr\": 0.09441259698272923}\n",
      "{\"epoch\": 77, \"step\": 69165, \"loss\": 5.115505218505859, \"time\": 9252, \"lr\": 0.09042372517912363}\n"
     ]
    },
    {
     "data": {
      "application/vnd.jupyter.widget-view+json": {
       "model_id": "f2cf0ec607854c11a695645767311138",
       "version_major": 2,
       "version_minor": 0
      },
      "text/plain": [
       "  0%|          | 0/891 [00:00<?, ?it/s]"
      ]
     },
     "metadata": {},
     "output_type": "display_data"
    },
    {
     "name": "stdout",
     "output_type": "stream",
     "text": [
      "{\"epoch\": 78, \"step\": 69615, \"loss\": 5.05401611328125, \"time\": 9312, \"lr\": 0.08659160118703016}\n",
      "{\"epoch\": 78, \"step\": 70076, \"loss\": 5.4572672843933105, \"time\": 9372, \"lr\": 0.08273888406945684}\n"
     ]
    },
    {
     "data": {
      "application/vnd.jupyter.widget-view+json": {
       "model_id": "9017c6f68fdb48459a25c8622f9f2eb3",
       "version_major": 2,
       "version_minor": 0
      },
      "text/plain": [
       "  0%|          | 0/891 [00:00<?, ?it/s]"
      ]
     },
     "metadata": {},
     "output_type": "display_data"
    },
    {
     "name": "stdout",
     "output_type": "stream",
     "text": [
      "{\"epoch\": 79, \"step\": 70525, \"loss\": 5.1337995529174805, \"time\": 9432, \"lr\": 0.07905874576753649}\n",
      "{\"epoch\": 79, \"step\": 70987, \"loss\": 4.97124719619751, \"time\": 9492, \"lr\": 0.07534773493581608}\n"
     ]
    },
    {
     "data": {
      "application/vnd.jupyter.widget-view+json": {
       "model_id": "26d2b97a33d446138990f7d67cd443a2",
       "version_major": 2,
       "version_minor": 0
      },
      "text/plain": [
       "  0%|          | 0/891 [00:00<?, ?it/s]"
      ]
     },
     "metadata": {},
     "output_type": "display_data"
    },
    {
     "name": "stdout",
     "output_type": "stream",
     "text": [
      "{\"epoch\": 80, \"step\": 71438, \"loss\": 4.922936916351318, \"time\": 9552, \"lr\": 0.0718002760442532}\n",
      "{\"epoch\": 80, \"step\": 71898, \"loss\": 4.947758674621582, \"time\": 9612, \"lr\": 0.0682597126766157}\n"
     ]
    },
    {
     "data": {
      "application/vnd.jupyter.widget-view+json": {
       "model_id": "2b76e360e4bf4fdab1972a03140f9977",
       "version_major": 2,
       "version_minor": 0
      },
      "text/plain": [
       "  0%|          | 0/891 [00:00<?, ?it/s]"
      ]
     },
     "metadata": {},
     "output_type": "display_data"
    },
    {
     "name": "stdout",
     "output_type": "stream",
     "text": [
      "{\"epoch\": 81, \"step\": 72348, \"loss\": 4.992486953735352, \"time\": 9673, \"lr\": 0.06487313296021169}\n",
      "{\"epoch\": 81, \"step\": 72809, \"loss\": 4.8074846267700195, \"time\": 9733, \"lr\": 0.06148386524485566}\n"
     ]
    },
    {
     "data": {
      "application/vnd.jupyter.widget-view+json": {
       "model_id": "a3cb56a22433481bb2e4fbb7bf0e86dc",
       "version_major": 2,
       "version_minor": 0
      },
      "text/plain": [
       "  0%|          | 0/891 [00:00<?, ?it/s]"
      ]
     },
     "metadata": {},
     "output_type": "display_data"
    },
    {
     "name": "stdout",
     "output_type": "stream",
     "text": [
      "{\"epoch\": 82, \"step\": 73257, \"loss\": 5.005218029022217, \"time\": 9793, \"lr\": 0.05826888209958817}\n",
      "{\"epoch\": 82, \"step\": 73718, \"loss\": 4.926605701446533, \"time\": 9853, \"lr\": 0.055042655909365905}\n"
     ]
    },
    {
     "data": {
      "application/vnd.jupyter.widget-view+json": {
       "model_id": "74e07fbfdbd44bcaa63775f270a4c3e2",
       "version_major": 2,
       "version_minor": 0
      },
      "text/plain": [
       "  0%|          | 0/891 [00:00<?, ?it/s]"
      ]
     },
     "metadata": {},
     "output_type": "display_data"
    },
    {
     "name": "stdout",
     "output_type": "stream",
     "text": [
      "{\"epoch\": 83, \"step\": 74166, \"loss\": 4.661272048950195, \"time\": 9913, \"lr\": 0.05198813452089274}\n",
      "{\"epoch\": 83, \"step\": 74627, \"loss\": 5.063789367675781, \"time\": 9973, \"lr\": 0.0489290501148066}\n"
     ]
    },
    {
     "data": {
      "application/vnd.jupyter.widget-view+json": {
       "model_id": "50cdb4e92cf148d6aa158c803aecdce8",
       "version_major": 2,
       "version_minor": 0
      },
      "text/plain": [
       "  0%|          | 0/891 [00:00<?, ?it/s]"
      ]
     },
     "metadata": {},
     "output_type": "display_data"
    },
    {
     "name": "stdout",
     "output_type": "stream",
     "text": [
      "{\"epoch\": 84, \"step\": 75075, \"loss\": 4.904915809631348, \"time\": 10033, \"lr\": 0.04603887251993557}\n",
      "{\"epoch\": 84, \"step\": 75535, \"loss\": 4.916555404663086, \"time\": 10093, \"lr\": 0.04315698742633285}\n"
     ]
    },
    {
     "data": {
      "application/vnd.jupyter.widget-view+json": {
       "model_id": "77c45c70e9434bb6be648820e57c90d5",
       "version_major": 2,
       "version_minor": 0
      },
      "text/plain": [
       "  0%|          | 0/891 [00:00<?, ?it/s]"
      ]
     },
     "metadata": {},
     "output_type": "display_data"
    },
    {
     "name": "stdout",
     "output_type": "stream",
     "text": [
      "{\"epoch\": 85, \"step\": 75982, \"loss\": 5.001668453216553, \"time\": 10153, \"lr\": 0.040440623351009126}\n",
      "{\"epoch\": 85, \"step\": 76443, \"loss\": 4.786473751068115, \"time\": 10213, \"lr\": 0.037726880410942}\n"
     ]
    },
    {
     "data": {
      "application/vnd.jupyter.widget-view+json": {
       "model_id": "6356e8d6ba0049f0ad0b658bf4e8b8c3",
       "version_major": 2,
       "version_minor": 0
      },
      "text/plain": [
       "  0%|          | 0/891 [00:00<?, ?it/s]"
      ]
     },
     "metadata": {},
     "output_type": "display_data"
    },
    {
     "name": "stdout",
     "output_type": "stream",
     "text": [
      "{\"epoch\": 86, \"step\": 76888, \"loss\": 4.84321928024292, \"time\": 10273, \"lr\": 0.03519261427066553}\n",
      "{\"epoch\": 86, \"step\": 77348, \"loss\": 5.079689979553223, \"time\": 10333, \"lr\": 0.03266182185924952}\n"
     ]
    },
    {
     "data": {
      "application/vnd.jupyter.widget-view+json": {
       "model_id": "57627db1613a4b6b88a86581bf167310",
       "version_major": 2,
       "version_minor": 0
      },
      "text/plain": [
       "  0%|          | 0/891 [00:00<?, ?it/s]"
      ]
     },
     "metadata": {},
     "output_type": "display_data"
    },
    {
     "name": "stdout",
     "output_type": "stream",
     "text": [
      "{\"epoch\": 87, \"step\": 77796, \"loss\": 4.807305335998535, \"time\": 10393, \"lr\": 0.030284692723584385}\n",
      "{\"epoch\": 87, \"step\": 78257, \"loss\": 4.7277421951293945, \"time\": 10453, \"lr\": 0.027929649902097904}\n"
     ]
    },
    {
     "data": {
      "application/vnd.jupyter.widget-view+json": {
       "model_id": "4229f9a0dc3e4c4cbea77fb7f566222d",
       "version_major": 2,
       "version_minor": 0
      },
      "text/plain": [
       "  0%|          | 0/891 [00:00<?, ?it/s]"
      ]
     },
     "metadata": {},
     "output_type": "display_data"
    },
    {
     "name": "stdout",
     "output_type": "stream",
     "text": [
      "{\"epoch\": 88, \"step\": 78707, \"loss\": 4.894556522369385, \"time\": 10513, \"lr\": 0.025720618950957983}\n",
      "{\"epoch\": 88, \"step\": 79167, \"loss\": 4.93531608581543, \"time\": 10573, \"lr\": 0.023554933663577356}\n"
     ]
    },
    {
     "data": {
      "application/vnd.jupyter.widget-view+json": {
       "model_id": "a0cf9d2aecaa43a28b3ae1a68bdc94e8",
       "version_major": 2,
       "version_minor": 0
      },
      "text/plain": [
       "  0%|          | 0/891 [00:00<?, ?it/s]"
      ]
     },
     "metadata": {},
     "output_type": "display_data"
    },
    {
     "name": "stdout",
     "output_type": "stream",
     "text": [
      "{\"epoch\": 89, \"step\": 79618, \"loss\": 4.824038505554199, \"time\": 10633, \"lr\": 0.021523021714571}\n",
      "{\"epoch\": 89, \"step\": 80078, \"loss\": 4.633277893066406, \"time\": 10693, \"lr\": 0.019544450451141976}\n"
     ]
    },
    {
     "data": {
      "application/vnd.jupyter.widget-view+json": {
       "model_id": "cbcf6121307c4b20be8f6b1ca34f2b9a",
       "version_major": 2,
       "version_minor": 0
      },
      "text/plain": [
       "  0%|          | 0/891 [00:00<?, ?it/s]"
      ]
     },
     "metadata": {},
     "output_type": "display_data"
    },
    {
     "name": "stdout",
     "output_type": "stream",
     "text": [
      "{\"epoch\": 90, \"step\": 80527, \"loss\": 4.6216936111450195, \"time\": 10753, \"lr\": 0.017705247426841465}\n",
      "{\"epoch\": 90, \"step\": 80988, \"loss\": 4.8267669677734375, \"time\": 10813, \"lr\": 0.015912112107036483}\n"
     ]
    },
    {
     "data": {
      "application/vnd.jupyter.widget-view+json": {
       "model_id": "e262029d9bb44b9fbe443a1f1feba239",
       "version_major": 2,
       "version_minor": 0
      },
      "text/plain": [
       "  0%|          | 0/891 [00:00<?, ?it/s]"
      ]
     },
     "metadata": {},
     "output_type": "display_data"
    },
    {
     "name": "stdout",
     "output_type": "stream",
     "text": [
      "{\"epoch\": 91, \"step\": 81439, \"loss\": 4.727388858795166, \"time\": 10874, \"lr\": 0.0142517931604831}\n"
     ]
    },
    {
     "data": {
      "application/vnd.jupyter.widget-view+json": {
       "model_id": "0eb6d405c25947c381985c80fdb5c529",
       "version_major": 2,
       "version_minor": 0
      },
      "text/plain": [
       "  0%|          | 0/891 [00:00<?, ?it/s]"
      ]
     },
     "metadata": {},
     "output_type": "display_data"
    },
    {
     "name": "stdout",
     "output_type": "stream",
     "text": [
      "{\"epoch\": 92, \"step\": 81887, \"loss\": 4.696456432342529, \"time\": 10934, \"lr\": 0.012695000763681682}\n",
      "{\"epoch\": 92, \"step\": 82346, \"loss\": 4.983341693878174, \"time\": 10994, \"lr\": 0.011196083344820942}\n"
     ]
    },
    {
     "data": {
      "application/vnd.jupyter.widget-view+json": {
       "model_id": "bfbc5e13bcd34bc187e6bb76dcd7ce27",
       "version_major": 2,
       "version_minor": 0
      },
      "text/plain": [
       "  0%|          | 0/891 [00:00<?, ?it/s]"
      ]
     },
     "metadata": {},
     "output_type": "display_data"
    },
    {
     "name": "stdout",
     "output_type": "stream",
     "text": [
      "{\"epoch\": 93, \"step\": 82792, \"loss\": 4.951456069946289, \"time\": 11054, \"lr\": 0.00983324827558478}\n",
      "{\"epoch\": 93, \"step\": 83251, \"loss\": 4.973710536956787, \"time\": 11114, \"lr\": 0.008527491641755565}\n"
     ]
    },
    {
     "data": {
      "application/vnd.jupyter.widget-view+json": {
       "model_id": "a750338ab1bf4ade8404e2a1c3c216fa",
       "version_major": 2,
       "version_minor": 0
      },
      "text/plain": [
       "  0%|          | 0/891 [00:00<?, ?it/s]"
      ]
     },
     "metadata": {},
     "output_type": "display_data"
    },
    {
     "name": "stdout",
     "output_type": "stream",
     "text": [
      "{\"epoch\": 94, \"step\": 83700, \"loss\": 5.094832897186279, \"time\": 11174, \"lr\": 0.007345592659251053}\n",
      "{\"epoch\": 94, \"step\": 84159, \"loss\": 4.92940092086792, \"time\": 11234, \"lr\": 0.006235289972863411}\n"
     ]
    },
    {
     "data": {
      "application/vnd.jupyter.widget-view+json": {
       "model_id": "baf288ce2f16447aa8ff1f771f51740a",
       "version_major": 2,
       "version_minor": 0
      },
      "text/plain": [
       "  0%|          | 0/891 [00:00<?, ?it/s]"
      ]
     },
     "metadata": {},
     "output_type": "display_data"
    },
    {
     "name": "stdout",
     "output_type": "stream",
     "text": [
      "{\"epoch\": 95, \"step\": 84608, \"loss\": 4.819794654846191, \"time\": 11294, \"lr\": 0.005245305878463389}\n",
      "{\"epoch\": 95, \"step\": 85068, \"loss\": 4.964973449707031, \"time\": 11354, \"lr\": 0.004329984107178424}\n"
     ]
    },
    {
     "data": {
      "application/vnd.jupyter.widget-view+json": {
       "model_id": "4da8563205c94b108f17f4ec87e5f3a8",
       "version_major": 2,
       "version_minor": 0
      },
      "text/plain": [
       "  0%|          | 0/891 [00:00<?, ?it/s]"
      ]
     },
     "metadata": {},
     "output_type": "display_data"
    },
    {
     "name": "stdout",
     "output_type": "stream",
     "text": [
      "{\"epoch\": 96, \"step\": 85514, \"loss\": 4.9246721267700195, \"time\": 11414, \"lr\": 0.00353838814740686}\n",
      "{\"epoch\": 96, \"step\": 85974, \"loss\": 4.821247577667236, \"time\": 11474, \"lr\": 0.002821080437990498}\n"
     ]
    },
    {
     "data": {
      "application/vnd.jupyter.widget-view+json": {
       "model_id": "2c58cceae0f142b8ad67584031c66395",
       "version_major": 2,
       "version_minor": 0
      },
      "text/plain": [
       "  0%|          | 0/891 [00:00<?, ?it/s]"
      ]
     },
     "metadata": {},
     "output_type": "display_data"
    },
    {
     "name": "stdout",
     "output_type": "stream",
     "text": [
      "{\"epoch\": 97, \"step\": 86424, \"loss\": 4.707734107971191, \"time\": 11534, \"lr\": 0.0022169978822146486}\n",
      "{\"epoch\": 97, \"step\": 86885, \"loss\": 4.865149021148682, \"time\": 11594, \"lr\": 0.001698474970344233}\n"
     ]
    },
    {
     "data": {
      "application/vnd.jupyter.widget-view+json": {
       "model_id": "c4b913f59a3343b38e448d41c5c9acf2",
       "version_major": 2,
       "version_minor": 0
      },
      "text/plain": [
       "  0%|          | 0/891 [00:00<?, ?it/s]"
      ]
     },
     "metadata": {},
     "output_type": "display_data"
    },
    {
     "name": "stdout",
     "output_type": "stream",
     "text": [
      "{\"epoch\": 98, \"step\": 87336, \"loss\": 4.932632923126221, \"time\": 11654, \"lr\": 0.0012896189432781637}\n",
      "{\"epoch\": 98, \"step\": 87797, \"loss\": 4.934990882873535, \"time\": 11714, \"lr\": 0.0009724328760593463}\n"
     ]
    },
    {
     "data": {
      "application/vnd.jupyter.widget-view+json": {
       "model_id": "6f5c33b809224883919c1f5632ab594c",
       "version_major": 2,
       "version_minor": 0
      },
      "text/plain": [
       "  0%|          | 0/891 [00:00<?, ?it/s]"
      ]
     },
     "metadata": {},
     "output_type": "display_data"
    },
    {
     "name": "stdout",
     "output_type": "stream",
     "text": [
      "{\"epoch\": 99, \"step\": 88246, \"loss\": 4.701284408569336, \"time\": 11774, \"lr\": 0.0007614995653517857}\n",
      "{\"epoch\": 99, \"step\": 88707, \"loss\": 4.567670822143555, \"time\": 11834, \"lr\": 0.0006456134502173459}\n"
     ]
    },
    {
     "ename": "AttributeError",
     "evalue": "'VICReg' object has no attribute 'module'",
     "output_type": "error",
     "traceback": [
      "\u001b[0;31m---------------------------------------------------------------------------\u001b[0m",
      "\u001b[0;31mAttributeError\u001b[0m                            Traceback (most recent call last)",
      "Input \u001b[0;32mIn [32]\u001b[0m, in \u001b[0;36m<cell line: 40>\u001b[0;34m()\u001b[0m\n\u001b[1;32m     39\u001b[0m         torch\u001b[38;5;241m.\u001b[39msave(state, args\u001b[38;5;241m.\u001b[39mexp_dir \u001b[38;5;241m/\u001b[39m \u001b[38;5;124m\"\u001b[39m\u001b[38;5;124mmodel.pth\u001b[39m\u001b[38;5;124m\"\u001b[39m)\n\u001b[1;32m     40\u001b[0m \u001b[38;5;28;01mif\u001b[39;00m args\u001b[38;5;241m.\u001b[39mrank \u001b[38;5;241m==\u001b[39m \u001b[38;5;241m0\u001b[39m:\n\u001b[0;32m---> 41\u001b[0m     torch\u001b[38;5;241m.\u001b[39msave(\u001b[43mmodel\u001b[49m\u001b[38;5;241;43m.\u001b[39;49m\u001b[43mmodule\u001b[49m\u001b[38;5;241m.\u001b[39mbackbone\u001b[38;5;241m.\u001b[39mstate_dict(), args\u001b[38;5;241m.\u001b[39mexp_dir \u001b[38;5;241m/\u001b[39m \u001b[38;5;124m\"\u001b[39m\u001b[38;5;124mresnet18.pth\u001b[39m\u001b[38;5;124m\"\u001b[39m)\n",
      "File \u001b[0;32m~/.conda/envs/grc/lib/python3.8/site-packages/torch/nn/modules/module.py:1185\u001b[0m, in \u001b[0;36mModule.__getattr__\u001b[0;34m(self, name)\u001b[0m\n\u001b[1;32m   1183\u001b[0m     \u001b[38;5;28;01mif\u001b[39;00m name \u001b[38;5;129;01min\u001b[39;00m modules:\n\u001b[1;32m   1184\u001b[0m         \u001b[38;5;28;01mreturn\u001b[39;00m modules[name]\n\u001b[0;32m-> 1185\u001b[0m \u001b[38;5;28;01mraise\u001b[39;00m \u001b[38;5;167;01mAttributeError\u001b[39;00m(\u001b[38;5;124m\"\u001b[39m\u001b[38;5;124m'\u001b[39m\u001b[38;5;132;01m{}\u001b[39;00m\u001b[38;5;124m'\u001b[39m\u001b[38;5;124m object has no attribute \u001b[39m\u001b[38;5;124m'\u001b[39m\u001b[38;5;132;01m{}\u001b[39;00m\u001b[38;5;124m'\u001b[39m\u001b[38;5;124m\"\u001b[39m\u001b[38;5;241m.\u001b[39mformat(\n\u001b[1;32m   1186\u001b[0m     \u001b[38;5;28mtype\u001b[39m(\u001b[38;5;28mself\u001b[39m)\u001b[38;5;241m.\u001b[39m\u001b[38;5;18m__name__\u001b[39m, name))\n",
      "\u001b[0;31mAttributeError\u001b[0m: 'VICReg' object has no attribute 'module'"
     ]
    }
   ],
   "source": [
    "start_time = last_logging = time.time()\n",
    "scaler = torch.cuda.amp.GradScaler()\n",
    "for epoch in trange(start_epoch, args.epochs):\n",
    "#     sampler.set_epoch(epoch)\n",
    "#     for step, ((x, y), _) in enumerate(loader, start=epoch * len(loader)):\n",
    "    for step, (x, y, _) in tqdm(enumerate(loader, start=epoch * len(loader)), total=len(loader)+1):\n",
    "        x = x.cuda(gpu, non_blocking=True)\n",
    "        y = y.cuda(gpu, non_blocking=True)\n",
    "#         x = x.to(DEVICE)\n",
    "#         y = y.to(DEVICE)\n",
    "\n",
    "        lr = mvr.adjust_learning_rate(args, optimizer, loader, step)\n",
    "\n",
    "        optimizer.zero_grad()\n",
    "#         with torch.cuda.amp.autocast():\n",
    "        loss = model.forward(x, y)\n",
    "        scaler.scale(loss).backward()\n",
    "        scaler.step(optimizer)\n",
    "        scaler.update()\n",
    "\n",
    "        current_time = time.time()\n",
    "        if args.rank == 0 and current_time - last_logging > args.log_freq_time:\n",
    "            stats = dict(\n",
    "                epoch=epoch,\n",
    "                step=step,\n",
    "                loss=loss.item(),\n",
    "                time=int(current_time - start_time),\n",
    "                lr=lr,\n",
    "            )\n",
    "            print(json.dumps(stats))\n",
    "            print(json.dumps(stats), file=stats_file)\n",
    "            last_logging = current_time\n",
    "    if args.rank == 0:\n",
    "        state = dict(\n",
    "            epoch=epoch + 1,\n",
    "            model=model.state_dict(),\n",
    "            optimizer=optimizer.state_dict(),\n",
    "        )\n",
    "        torch.save(state, args.exp_dir / \"model.pth\")\n",
    "if args.rank == 0:\n",
    "    torch.save(model.module.backbone.state_dict(), args.exp_dir / \"resnet18.pth\")"
   ]
  },
  {
   "cell_type": "code",
   "execution_count": null,
   "metadata": {},
   "outputs": [],
   "source": [
    "X_data = X_labeled_train_SYT.copy()\n",
    "\n",
    "transforms_validation = torch.nn.Sequential(\n",
    "    augmentation.ScaleDynamicRange(scaler_bounds=(0,1)),\n",
    "    torchvision.transforms.Resize(size=(224,224),\n",
    "                                  interpolation=torchvision.transforms.InterpolationMode.BILINEAR), \n",
    "    augmentation.TileChannels(dim=0, n_channels=3),\n",
    ")\n",
    "\n",
    "scripted_transforms_validation = torch.jit.script(transforms_validation)\n",
    "\n",
    "dataset_labeled_train = dataset_vicreg(\n",
    "                                torch.as_tensor(X_data, device='cpu', dtype=torch.float32), \n",
    "                                torch.as_tensor(torch.zeros(X_data.shape[0]), device='cpu', dtype=torch.float32),\n",
    "                                transforms=[scripted_transforms_validation, scripted_transforms_validation],\n",
    "                                DEVICE='cpu',\n",
    "                                dtype_X=torch.float32,\n",
    "                                dtype_y=torch.int64)\n",
    "dataloader_labeled_train = torch.utils.data.DataLoader(dataset_labeled_train,\n",
    "                                                batch_size=100,\n",
    "                                                shuffle=False,\n",
    "                                                drop_last=False,\n",
    "                                                pin_memory=False,\n",
    "                                                num_workers=0,\n",
    "                                                persistent_workers=False,\n",
    "                                                )\n",
    "\n",
    "latents = torch.cat([model.projector(model.backbone(data[0].to(DEVICE))).detach().cpu() for data in tqdm(dataloader_labeled_train)], dim=0)"
   ]
  },
  {
   "cell_type": "code",
   "execution_count": null,
   "metadata": {},
   "outputs": [],
   "source": [
    "latents.shape"
   ]
  },
  {
   "cell_type": "code",
   "execution_count": null,
   "metadata": {},
   "outputs": [],
   "source": []
  },
  {
   "cell_type": "code",
   "execution_count": null,
   "metadata": {},
   "outputs": [],
   "source": [
    "%matplotlib notebook\n",
    "\n",
    "from basic_neural_processing_modules import similarity, decomposition\n",
    "\n",
    "pairs = similarity.pairwise_similarity(latents.numpy())\n",
    "\n",
    "plt.figure()\n",
    "plt.imshow(pairs)"
   ]
  },
  {
   "cell_type": "code",
   "execution_count": null,
   "metadata": {},
   "outputs": [],
   "source": [
    "# dtp = decomposition.torch_pca(latents)[0]\n",
    "\n",
    "# plt.figure()\n",
    "# plt.plot(dtp)\n"
   ]
  },
  {
   "cell_type": "code",
   "execution_count": null,
   "metadata": {},
   "outputs": [],
   "source": [
    "from sklearn.decomposition import PCA\n",
    "\n",
    "pca = PCA()\n",
    "pca.fit(latents)"
   ]
  },
  {
   "cell_type": "code",
   "execution_count": null,
   "metadata": {},
   "outputs": [],
   "source": [
    "plt.figure()\n",
    "plt.plot(pca.explained_variance_ratio_)\n",
    "plt.yscale('linear')"
   ]
  },
  {
   "cell_type": "code",
   "execution_count": null,
   "metadata": {},
   "outputs": [],
   "source": [
    "plt.figure()\n",
    "plt.plot(pca.explained_variance_ratio_)\n",
    "plt.yscale('log')"
   ]
  },
  {
   "cell_type": "code",
   "execution_count": null,
   "metadata": {},
   "outputs": [],
   "source": [
    "import umap\n",
    "# import sns\n",
    "# sns.set(style='white', context='poster', rc={'figure.figsize':(14,10)})\n",
    "fit = umap.UMAP()\n",
    "%time u = fit.fit_transform(latents)"
   ]
  },
  {
   "cell_type": "code",
   "execution_count": null,
   "metadata": {},
   "outputs": [],
   "source": []
  },
  {
   "cell_type": "code",
   "execution_count": null,
   "metadata": {},
   "outputs": [],
   "source": []
  },
  {
   "cell_type": "code",
   "execution_count": null,
   "metadata": {},
   "outputs": [],
   "source": [
    "import pandas as pd\n",
    "xy_df = pd.DataFrame(u, columns=['x', 'y'])\n",
    "xy_df['x_min'] = xy_df['x'].min()\n",
    "xy_df['x_max'] = xy_df['x'].max()\n",
    "xy_df['y_min'] = xy_df['y'].min()\n",
    "xy_df['y_max'] = xy_df['y'].max()\n",
    "\n",
    "xy_df['x_mm'] = (xy_df['x'] - xy_df['x_min']) / (xy_df['x_max'] - xy_df['x_min'])\n",
    "xy_df['y_mm'] = (xy_df['y'] - xy_df['y_min']) / (xy_df['y_max'] - xy_df['y_min'])\n",
    "\n",
    "xy_df['x_mmf'] = np.floor(xy_df['x_mm']*20)\n",
    "xy_df['y_mmf'] = np.floor(xy_df['y_mm']*20)\n",
    "\n",
    "xy_df['mmf'] = xy_df['x_mmf'].astype(str) + '_' + xy_df['y_mmf'].astype(str)\n",
    "smpl_imgs = xy_df.groupby('mmf').sample(1)"
   ]
  },
  {
   "cell_type": "code",
   "execution_count": null,
   "metadata": {},
   "outputs": [],
   "source": [
    "import matplotlib.pyplot as plt\n",
    "from matplotlib.offsetbox import OffsetImage, AnnotationBbox\n",
    "\n",
    "def scl_to_bnd(x, bound_high):\n",
    "    mx = x.max(axis=0, keepdims=True)\n",
    "    mn = x.min(axis=0, keepdims=True)\n",
    "    scl = (x - mn)*(bound_high-1)/(mx - mn)\n",
    "    return scl, mn, mx\n",
    "\n",
    "bound_high = 1000\n",
    "bounded_features = scl_to_bnd(u, bound_high)\n",
    "inx_lst = list(smpl_imgs.index)\n",
    "img_lst = X_data[inx_lst]\n",
    "x = bounded_features[0][inx_lst, 0]\n",
    "y = bounded_features[0][inx_lst, 1]"
   ]
  },
  {
   "cell_type": "code",
   "execution_count": null,
   "metadata": {},
   "outputs": [],
   "source": [
    "def getImage(img):\n",
    "    return OffsetImage(img, cmap='gray')"
   ]
  },
  {
   "cell_type": "code",
   "execution_count": null,
   "metadata": {
    "scrolled": false
   },
   "outputs": [],
   "source": [
    "%matplotlib notebook\n",
    "# plt.figure()\n",
    "# plt.scatter(u[:,0], u[:,1])\n",
    "# plt.title('UMAP');\n",
    "\n",
    "fig, ax = plt.subplots(figsize=(20,20))\n",
    "\n",
    "ax.scatter(bounded_features[0][:,0], bounded_features[0][:,1], cmap=plt.get_cmap('tab10'))\n",
    "ax.scatter(x, y)\n",
    "\n",
    "for x0, y0, path in zip(x, y, img_lst):\n",
    "    ab = AnnotationBbox(getImage(path), (x0, y0), frameon=False)\n",
    "    ax.add_artist(ab)\n"
   ]
  },
  {
   "cell_type": "code",
   "execution_count": null,
   "metadata": {},
   "outputs": [],
   "source": []
  },
  {
   "cell_type": "code",
   "execution_count": null,
   "metadata": {},
   "outputs": [],
   "source": [
    "transforms_validation = torch.nn.Sequential(\n",
    "    augmentation.ScaleDynamicRange(scaler_bounds=(0,1)),\n",
    "    torchvision.transforms.Resize(size=(224,224),\n",
    "                                  interpolation=torchvision.transforms.InterpolationMode.BILINEAR), \n",
    "    augmentation.TileChannels(dim=0, n_channels=3),\n",
    "#     augmentation.Normalize(  means=[0.485, 0.456, 0.406],\n",
    "#                              stds=[0.229, 0.224, 0.225]),\n",
    "#     torchvision.transforms.Normalize(mean=[0.485, 0.456, 0.406],\n",
    "#                                      std=[0.229, 0.224, 0.225],\n",
    "#                                      inplace=False),\n",
    ")\n",
    "scripted_transforms_validation = torch.jit.script(transforms_validation)\n",
    "# scripted_transforms = transforms\n"
   ]
  },
  {
   "cell_type": "code",
   "execution_count": null,
   "metadata": {},
   "outputs": [],
   "source": [
    "dataset_labeled_train = dataset_vicreg(\n",
    "                                torch.as_tensor(X_labeled_train, device='cpu', dtype=torch.float32), \n",
    "                                torch.as_tensor(torch.zeros(X_labeled_train.shape[0]), device='cpu', dtype=torch.float32),\n",
    "                                transforms=[scripted_transforms_validation, scripted_transforms_validation],\n",
    "                                DEVICE='cpu',\n",
    "                                dtype_X=torch.float32,\n",
    "                                dtype_y=torch.int64)\n",
    "dataset_labeled_val = dataset_vicreg(\n",
    "                                torch.as_tensor(X_labeled_val, device='cpu', dtype=torch.float32), \n",
    "                                torch.as_tensor(torch.zeros(X_labeled_val.shape[0]), device='cpu', dtype=torch.float32),\n",
    "                                transforms=[scripted_transforms_validation, scripted_transforms_validation],\n",
    "                                DEVICE='cpu',\n",
    "                                dtype_X=torch.float32,\n",
    "                                dtype_y=torch.int64\n",
    "                                    )\n",
    "dataloader_labeled_train = torch.utils.data.DataLoader( dataset_labeled_train,\n",
    "                                                    batch_size=800,\n",
    "                                                    shuffle=False,\n",
    "                                                    drop_last=False\n",
    "                                                    )\n",
    "dataloader_labeled_val = torch.utils.data.DataLoader( dataset_labeled_val,\n",
    "                                                    batch_size=800,\n",
    "                                                    shuffle=False,\n",
    "                                                    drop_last=False,\n",
    "                                                    )\n"
   ]
  },
  {
   "cell_type": "code",
   "execution_count": null,
   "metadata": {},
   "outputs": [],
   "source": [
    "model.eval()\n",
    "model.to(DEVICE)\n",
    "features_train = torch.cat([model.projector(model.backbone(data[0].to(DEVICE))).detach().cpu() for data in tqdm(dataloader_labeled_train)], dim=0)\n",
    "features_val   = torch.cat([model.projector(model.backbone(data[0].to(DEVICE))).detach().cpu() for data in tqdm(dataloader_labeled_val)], dim=0)\n"
   ]
  },
  {
   "cell_type": "code",
   "execution_count": null,
   "metadata": {},
   "outputs": [],
   "source": [
    "acc_train, acc_val = [], []\n",
    "# C_toUse = np.array([1000,100,10,1,0.1,0.01,0.001,0.0001,0.00001])\n",
    "C_toUse = np.array([10,1,0.1,0.01,0.001,0.0001,0.00001])\n",
    "for C in C_toUse:\n",
    "#     print(f'C = {C}')\n",
    "    logreg = sklearn.linear_model.LogisticRegression(solver='liblinear', max_iter=800, C=C)\n",
    "#     tic = time.time()\n",
    "#     logreg.fit(features_train, y_labeled_train_SYT)\n",
    "    logreg.fit(features_train, y_labeled_train)\n",
    "#     print(f'time: {time.time() - tic}')\n",
    "#     acc = logreg.score(features_train, y_labeled_train_SYT)\n",
    "    acc = logreg.score(features_train, y_labeled_train)\n",
    "    acc_train.append(acc)\n",
    "#     print(f'acc_train: {acc}')\n",
    "#     acc = logreg.score(features_val, y_labeled_val_SYT)\n",
    "    acc = logreg.score(features_val, y_labeled_val)\n",
    "    acc_val.append(acc)\n",
    "#     print(f'acc_val: {acc}')\n",
    "#     print('')\n",
    "    \n",
    "\n",
    "plt.figure()\n",
    "plt.plot(C_toUse, acc_train)\n",
    "plt.plot(C_toUse, acc_val)\n",
    "plt.xscale('log')\n",
    "plt.xlabel('C')\n",
    "plt.ylabel('acc')\n",
    "plt.legend(['train', 'test']);"
   ]
  },
  {
   "cell_type": "code",
   "execution_count": null,
   "metadata": {},
   "outputs": [],
   "source": [
    "from sklearn.model_selection import ShuffleSplit\n",
    "splitter = ShuffleSplit(n_splits=50)\n",
    "all_split_inx = list(splitter.split(features_train))\n",
    "\n",
    "train_X = [features_train[_[0]] for _ in all_split_inx]\n",
    "train_y = [y_labeled_train[_[0]] for _ in all_split_inx]\n",
    "# train_y = [y_labeled_train_SYT[_[0]] for _ in all_split_inx]\n",
    "test_X = [features_train[_[1]] for _ in all_split_inx]\n",
    "test_y = [y_labeled_train[_[1]] for _ in all_split_inx]\n",
    "# test_y = [y_labeled_train_SYT[_[1]] for _ in all_split_inx]\n",
    "\n",
    "%matplotlib inline\n",
    "\n",
    "c_lst = [1e1, 1e0, 1e-1, 1e-2, 1e-3]\n",
    "\n",
    "fig, ax = plt.subplots(len(c_lst), 2, figsize=(10,10))\n",
    "# plt.suptitle(f'{model_file_name}')\n",
    "\n",
    "for ic, c in enumerate(c_lst):\n",
    "    train_cms = []\n",
    "    test_cms = []\n",
    "    for inx_split in trange(len(train_X)):\n",
    "        tmp_train_X = train_X[inx_split]\n",
    "        tmp_train_y = train_y[inx_split]\n",
    "        \n",
    "        tmp_test_X = test_X[inx_split]\n",
    "        tmp_test_y = test_y[inx_split]\n",
    "        \n",
    "        logreg = sklearn.linear_model.LogisticRegression(solver='liblinear', max_iter=800, C=c).fit(tmp_train_X, tmp_train_y)\n",
    "        \n",
    "        \n",
    "        \n",
    "        \n",
    "        \n",
    "        proba = logreg.predict_proba(tmp_train_X)\n",
    "\n",
    "        preds = np.argmax(proba, axis=1)\n",
    "        cm = classification.confusion_matrix(preds, tmp_train_y)\n",
    "        train_cms.append(cm)\n",
    "\n",
    "#         plt.figure()\n",
    "#         sns.heatmap(cm, annot=True, annot_kws={\"size\": 16}, vmax=1., cmap=plt.get_cmap('gray'))\n",
    "#         plt.title('train');\n",
    "        \n",
    "        proba = logreg.predict_proba(tmp_test_X)\n",
    "        preds = np.argmax(proba, axis=1)\n",
    "        cm = classification.confusion_matrix(preds, tmp_test_y)\n",
    "        test_cms.append(cm)\n",
    "        \n",
    "#         plt.figure()\n",
    "#         sns.heatmap(cm, annot=True, annot_kws={\"size\": 16}, vmax=1., cmap=plt.get_cmap('gray'))\n",
    "#         plt.title('val');\n",
    "\n",
    "    sns.heatmap(np.mean(train_cms,axis=0), annot=True, annot_kws={\"size\": 16}, vmax=1., cmap=plt.get_cmap('gray'), ax=ax[ic, 0])\n",
    "    ax[ic, 0].set_title(f'train — C:{c}');\n",
    "\n",
    "    sns.heatmap(np.mean(test_cms,axis=0), annot=True, annot_kws={\"size\": 16}, vmax=1., cmap=plt.get_cmap('gray'), ax=ax[ic, 1])\n",
    "    ax[ic, 1].set_title(f'val — C:{c}');\n",
    "\n",
    "plt.tight_layout()\n"
   ]
  },
  {
   "cell_type": "code",
   "execution_count": null,
   "metadata": {},
   "outputs": [],
   "source": []
  },
  {
   "cell_type": "code",
   "execution_count": null,
   "metadata": {},
   "outputs": [],
   "source": []
  },
  {
   "cell_type": "code",
   "execution_count": null,
   "metadata": {},
   "outputs": [],
   "source": []
  },
  {
   "cell_type": "code",
   "execution_count": null,
   "metadata": {},
   "outputs": [],
   "source": []
  },
  {
   "cell_type": "code",
   "execution_count": null,
   "metadata": {},
   "outputs": [],
   "source": [
    "break"
   ]
  },
  {
   "cell_type": "raw",
   "metadata": {
    "id": "MIix9BdUCkqf"
   },
   "source": [
    "# import torchvision.models\n",
    "\n",
    "# # base_model = torchvision.models.resnet101(pretrained=True)\n",
    "# base_model = torchvision.models.resnet18(pretrained=True)\n",
    "\n",
    "# for param in base_model.parameters():\n",
    "#     param.requires_grad = False\n",
    "\n",
    "# retrain = list(base_model.children())[-1:]\n",
    "# for layer in retrain:\n",
    "#     params = layer.parameters()\n",
    "#     for param in params:\n",
    "#         param.requires_grad = True"
   ]
  },
  {
   "cell_type": "code",
   "execution_count": null,
   "metadata": {
    "id": "oyjLftj_cEGW"
   },
   "outputs": [],
   "source": [
    "import torchvision.models\n",
    "\n",
    "# base_model_frozen = torchvision.models.resnet101(pretrained=True)\n",
    "# base_model_frozen = torchvision.models.resnet18(pretrained=True)\n",
    "# base_model_frozen = torchvision.models.wide_resnet50_2(pretrained=True)\n",
    "# base_model_frozen = torchvision.models.resnet50(pretrained=True)\n",
    "\n",
    "# base_model_frozen = torchvision.models.efficientnet_b0(pretrained=True)\n",
    "base_model_frozen = torchvision.models.resnet18(pretrained=True)\n",
    "\n",
    "\n",
    "for param in base_model_frozen.parameters():\n",
    "    param.requires_grad = False"
   ]
  },
  {
   "cell_type": "markdown",
   "metadata": {},
   "source": [
    "start with a pretrained resnet model, and chop off the final layer. This will be used as the base on which we add the pre-head layers (for expressivity), latent layers (for simCLR), or classification layers (for post-hoc logistic regression)"
   ]
  },
  {
   "cell_type": "code",
   "execution_count": null,
   "metadata": {
    "id": "aWnb7WWri9qK"
   },
   "outputs": [],
   "source": [
    "model_chopped = torch.nn.Sequential(*(list(base_model_frozen.children())[:-1] + [torch.nn.Flatten()]))"
   ]
  },
  {
   "cell_type": "markdown",
   "metadata": {
    "id": "_E18ZEzpClNd"
   },
   "source": [
    "### Make combined model\n",
    "'model' has two forward methods. One for generating latents (for simCLR) and one for classifying labels"
   ]
  },
  {
   "cell_type": "code",
   "execution_count": null,
   "metadata": {
    "colab": {
     "base_uri": "https://localhost:8080/"
    },
    "id": "n6Qx-1NGJNY3",
    "outputId": "f7cb3ded-3b48-439e-bf57-a526fb48bac7"
   },
   "outputs": [],
   "source": [
    "model = ModelTackOn(model_chopped, base_model_frozen, pre_head_fc_sizes=[1024, 512], post_head_fc_sizes=[64], classifier_fc_sizes=[len(np.unique(y_labeled_train))])\n",
    "# model = ModelTackOn(model_chopped.to(DEVICE), base_model_frozen, pre_head_fc_sizes=[len(np.unique(y_train))], post_head_fc_sizes=[])\n",
    "# model = ModelTackOn(model_chopped.to(DEVICE), base_model_frozen, pre_head_fc_sizes=[len(np.unique(y_train))], post_head_fc_sizes=[])\n",
    "\n",
    "# model = torch.nn.Sequential([model_chopped.to(DEVICE), torch.nn.Linear], pre_head_fc_sizes=[len(np.unique(y_train))], post_head_fc_sizes=[])\n",
    "\n",
    "\n",
    "# model = ModelTackOn(base_model_frozen, pre_head_fc_sizes=[len(np.unique(y_train))], post_head_fc_sizes=[])\n",
    "# model = ModelTackOn(base_model, pre_head_fc_sizes=[len(np.unique(y_train))], post_head_fc_sizes=[])\n",
    "model.train();"
   ]
  },
  {
   "cell_type": "code",
   "execution_count": null,
   "metadata": {
    "tags": []
   },
   "outputs": [],
   "source": [
    "base_model_frozen"
   ]
  },
  {
   "cell_type": "code",
   "execution_count": null,
   "metadata": {},
   "outputs": [],
   "source": [
    "# unfreeze particular blocks in ResNet model\n",
    "\n",
    "# #efficient net \n",
    "# for name, param in list(model.named_parameters()):\n",
    "#     print(name)\n",
    "#     print(name)\n",
    "#     if name[:10] == 'base_model':\n",
    "#         if int(name[13]) < 7:\n",
    "#             param.requires_grad = False\n",
    "#         elif int(name[13]) >= 7:\n",
    "#             param.requires_grad = True\n",
    "\n",
    "# for name, param in list(model.named_parameters()):\n",
    "#     if param.requires_grad:\n",
    "#         print(name)\n",
    "\n",
    "\n",
    "#ResNet18\n",
    "for name, param in list(model.named_parameters()):\n",
    "    if name[:10] == 'base_model':\n",
    "        if int(name[11]) < 7:\n",
    "            param.requires_grad = False\n",
    "        elif int(name[11]) >= 7:\n",
    "            param.requires_grad = True\n",
    "\n",
    "for name, param in list(model.named_parameters()):\n",
    "    if param.requires_grad:\n",
    "        print(name)"
   ]
  },
  {
   "cell_type": "markdown",
   "metadata": {
    "id": "T2ARByXvDB0s"
   },
   "source": [
    "## Define augmentation pipeline"
   ]
  },
  {
   "cell_type": "code",
   "execution_count": null,
   "metadata": {},
   "outputs": [],
   "source": [
    "# import torchvision.transforms    \n",
    "\n",
    "# transforms = torch.nn.Sequential(\n",
    "#     torchvision.transforms.RandomHorizontalFlip(p=0.5),\n",
    "        \n",
    "#     torchvision.transforms.RandomAffine(\n",
    "#                                         degrees=(-180,180),\n",
    "#                                         translate=(0.15, 0.15), #0, .3, .45 (DEFAULT)\n",
    "#                                         scale=(0.6, 1.2), # no scale (1,1), (0.4, 1.5)\n",
    "#                                         shear=(-15, 15, -15, 15),\n",
    "#                                         interpolation=torchvision.transforms.InterpolationMode.BILINEAR, \n",
    "#                                         fill=0, \n",
    "#                                         fillcolor=None, \n",
    "#                                         resample=None),\n",
    "#     augmentation.AddPoissonNoise(   #scaler_bounds=(10**(4.5), 10**(6.)),\n",
    "#                                     scaler_bounds=(10**(4), 10**(6)),\n",
    "#                                     prob=1,\n",
    "#                                     base=1000,\n",
    "#                                     scaling='log'),\n",
    "#     augmentation.AddGaussianNoise(  mean=0, \n",
    "#                                     std=0.00015,\n",
    "#                                     prob=1),\n",
    "    \n",
    "#     augmentation.ScaleDynamicRange(scaler_bounds=(0,1)), # just clamping, both this and clamping = normalizing (DEFAULT)\n",
    "#     # torchvision.transforms.Resize(size=(224,224), \n",
    "#     #                               interpolation=torchvision.transforms.InterpolationMode.BILINEAR), # To do or not to do (DEFAULT)\n",
    "    \n",
    "#     augmentation.TileChannels(dim=0, n_channels=3),\n",
    "# )\n",
    "\n",
    "import torchvision.transforms    \n",
    "\n",
    "transforms = torch.nn.Sequential(\n",
    "    # torchvision.transforms.RandomHorizontalFlip(p=0.5),    \n",
    "    augmentation.ScaleDynamicRange(scaler_bounds=(0,1)), # just clamping, both this and clamping = normalizing (DEFAULT)\n",
    "    augmentation.WarpPoints(r=[0, 1],\n",
    "                            cx=[-0.5, 0.5],\n",
    "                            cy=[-0.5, 0.5], \n",
    "                            dx=[-0.3, 0.0], \n",
    "                            dy=[-0.3, 0.0], \n",
    "                            n_warps=5,\n",
    "                            prob=1.0,\n",
    "                            img_size_in=[36, 36],\n",
    "                            img_size_out=[224, 224]),\n",
    "\n",
    "    \n",
    "    augmentation.TileChannels(dim=0, n_channels=3),\n",
    "#     torchvision.transforms.Resize(size=(224,224), \n",
    "#                                   interpolation=torchvision.transforms.InterpolationMode.BILINEAR), # To do or not to do (DEFAULT)\n",
    "    \n",
    ")\n",
    "    \n",
    "\n",
    "scripted_transforms = torch.jit.script(transforms)\n"
   ]
  },
  {
   "cell_type": "raw",
   "metadata": {
    "id": "tq77tWZeDB0s",
    "jupyter": {
     "source_hidden": true
    },
    "tags": []
   },
   "source": [
    "import torchvision.transforms    \n",
    "\n",
    "transforms = torch.nn.Sequential(\n",
    "    \n",
    "#     torchvision.transforms.RandomAdjustSharpness(torch.rand(1)*5, p=0.5),\n",
    "#         torchvision.transforms.RandomPerspective(distortion_scale=0.7, \n",
    "#                                              p=0.5, \n",
    "#                                              interpolation=torchvision.transforms.InterpolationMode.BILINEAR, \n",
    "#                                              fill=0),\n",
    "#     torchvision.transforms.GaussianBlur(kernel_size=5,\n",
    "#                                         sigma=(0.0001, 0.1)),\n",
    "        \n",
    "\n",
    "    torchvision.transforms.RandomHorizontalFlip(p=0.5),\n",
    "        \n",
    "    torchvision.transforms.RandomAffine(\n",
    "                                        degrees=(-180,180),\n",
    "                                        translate=(0.2, 0.2), #0.15/.15\n",
    "                                        scale=(0.4, 1.3),  #.6, 1.2\n",
    "                                        shear=(-25, 25, -25, 25), # -15/+15 across board\n",
    "                                        interpolation=torchvision.transforms.InterpolationMode.BILINEAR, \n",
    "                                        fill=0, \n",
    "                                        fillcolor=None, \n",
    "                                        resample=None),\n",
    "    augmentation.AddPoissonNoise(   scaler_bounds=(10**(4.0), 10**(6.)), # 4.5, 6\n",
    "                                    prob=1,\n",
    "                                    base=1000,\n",
    "                                    scaling='log'),\n",
    "    augmentation.AddGaussianNoise(  mean=0, \n",
    "                                    std=0.0002, # 0.00015\n",
    "                                    prob=1),\n",
    "    \n",
    "    augmentation.ScaleDynamicRange(scaler_bounds=(0,1)), # Do vs. don't do -- bounds between 0/1. Either do this OR do this followed by torchvision.transforms.Normalize\n",
    "    \n",
    "    torchvision.transforms.Resize(size=(224,224),\n",
    "                                  interpolation=torchvision.transforms.InterpolationMode.BILINEAR), # Do vs. don't do\n",
    "    \n",
    "    # augmentation.AddPoissonNoise(   scaler_bounds=(10**(1.5), 10**(4.0)),\n",
    "    #                                 prob=1,\n",
    "    #                                 base=1000,\n",
    "    #                                 scaling='log'),\n",
    "    # augmentation.AddGaussianNoise(  mean=0, \n",
    "    #                                 std=0.1,\n",
    "    #                                 prob=1),\n",
    "    \n",
    "    augmentation.TileChannels(dim=0, n_channels=3),\n",
    "    \n",
    "#     augmentation.Normalize(  means=[0.485, 0.456, 0.406],\n",
    "#                              stds=[0.229, 0.224, 0.225]),\n",
    "#     torchvision.transforms.Normalize(mean=[0.485, 0.456, 0.406],\n",
    "#                                      std=[0.229, 0.224, 0.225],\n",
    "#                                      inplace=False),\n",
    "#     torchvision.transforms.RandomHorizontalFlip(p=0.5),\n",
    "\n",
    "#     torchvision.transforms.RandomAffine(\n",
    "#                                         degrees=(-180,180),\n",
    "#                                         translate=(0.0, 0.0),\n",
    "#                                         interpolation=torchvision.transforms.InterpolationMode.BILINEAR, \n",
    "#                                         fill=0, \n",
    "#                                         # fillcolor=None, \n",
    "#                                         resample=None),\n",
    ")\n",
    "scripted_transforms = torch.jit.script(transforms)\n",
    "# scripted_transforms = transforms"
   ]
  },
  {
   "cell_type": "code",
   "execution_count": null,
   "metadata": {
    "id": "PmM4nnV1nCVd"
   },
   "outputs": [],
   "source": [
    "dataset_train = dataset.dataset_simCLR(\n",
    "                                    torch.as_tensor(masks_cat, device='cpu', dtype=torch.float32), \n",
    "                                    torch.as_tensor(torch.zeros(masks_cat.shape[0]), device='cpu', dtype=torch.float32),\n",
    "\n",
    "                                    n_transforms=2,\n",
    "                                    class_weights=np.array([1]),\n",
    "                                    # class_weights=np.array([1]*4)[np.random.randint(0,4, X_train.shape[0])],\n",
    "                                    transform=scripted_transforms,\n",
    "                                    # DEVICE='cpu',\n",
    "                                    DEVICE='cpu',\n",
    "                                    dtype_X=torch.float32,\n",
    "                                    dtype_y=torch.int64,\n",
    "                                    \n",
    "                                    temp_uncertainty=16\n",
    "                                    )\n",
    "dataloader_train = torch.utils.data.DataLoader( dataset_train,\n",
    "#                                                 batch_size=int(pct_batch_size*X_train.shape[0]),\n",
    "                                                batch_size=800,\n",
    "                                                # shuffle=True,\n",
    "                                                shuffle=True,\n",
    "                                                drop_last=True,\n",
    "                                                pin_memory=True,\n",
    "                                                num_workers=16,\n",
    "                                                persistent_workers=True,\n",
    "                                                # prefetch_factor=0\n",
    "                                                )"
   ]
  },
  {
   "cell_type": "code",
   "execution_count": null,
   "metadata": {},
   "outputs": [],
   "source": [
    "idx_rand = np.random.randint(0,masks_cat.shape[0], 10)\n",
    "for ii in idx_rand:\n",
    "    fig, axs = plt.subplots(1,2)\n",
    "    # print(dataset_train[ii][0][0][0].shape)\n",
    "    axs[0].imshow(dataset_train[ii][0][0][0])\n",
    "    axs[1].imshow(dataset_train[ii][0][1][0])"
   ]
  },
  {
   "cell_type": "code",
   "execution_count": null,
   "metadata": {
    "colab": {
     "base_uri": "https://localhost:8080/"
    },
    "id": "nstWf2PhVwfV",
    "outputId": "968f73ab-75d7-4735-ea1e-49e7fb3821cc"
   },
   "outputs": [],
   "source": [
    "# torch_helpers.delete_all_cuda_tensors(globals())\n",
    "\n",
    "import gc\n",
    "\n",
    "torch.cuda.empty_cache()\n",
    "gc.collect()\n",
    "torch.cuda.empty_cache()\n",
    "gc.collect()\n",
    "torch.cuda.empty_cache()\n",
    "gc.collect()\n",
    "torch.cuda.empty_cache()\n",
    "gc.collect()"
   ]
  },
  {
   "cell_type": "markdown",
   "metadata": {
    "id": "OQ27o1ny9Xfi"
   },
   "source": [
    "## Training"
   ]
  },
  {
   "cell_type": "code",
   "execution_count": null,
   "metadata": {},
   "outputs": [],
   "source": [
    "model.to(DEVICE)\n",
    "model.prep_contrast()"
   ]
  },
  {
   "cell_type": "code",
   "execution_count": null,
   "metadata": {
    "id": "yDqu-bi8mnJB"
   },
   "outputs": [],
   "source": [
    "from torch.nn import CrossEntropyLoss\n",
    "from torch.optim import Adam\n",
    "\n",
    "import numpy as np\n",
    "\n",
    "from sklearn.linear_model import LogisticRegression\n",
    "from sklearn.tree import DecisionTreeClassifier\n",
    "from sklearn.ensemble import RandomForestClassifier\n",
    "from sklearn.svm import SVC\n",
    "\n",
    "\n",
    "# model = models.LeNet1(dropout_prob=0.3, momentum_val=0, n_output_features=64)\n",
    "\n",
    "\n",
    "criterion = [CrossEntropyLoss()]\n",
    "# criterion = CrossEntropyLoss(reduction='none')\n",
    "\n",
    "# optimizer = Adam(model.parameters(), lr=1e-2, weight_decay=0.0)\n",
    "# optimizer = Adam(model.parameters(), lr=2e-2)\n",
    "optimizer = Adam(model.parameters(), lr=10**(-3.5))\n",
    "scheduler = torch.optim.lr_scheduler.ExponentialLR(optimizer,\n",
    "                                                   gamma=1-0.0000,\n",
    "#                                                    gamma=1,\n",
    "                                                  )\n",
    "\n",
    "criterion = [_.to(DEVICE) for _ in criterion]\n",
    "losses_train, losses_val, val_accs, acc = [], [np.nan], [], []"
   ]
  },
  {
   "cell_type": "code",
   "execution_count": null,
   "metadata": {},
   "outputs": [],
   "source": []
  },
  {
   "cell_type": "markdown",
   "metadata": {},
   "source": []
  },
  {
   "cell_type": "code",
   "execution_count": null,
   "metadata": {},
   "outputs": [],
   "source": [
    "def get_ds_dl(data, transforms, expand_dim=False):\n",
    "    setup_ds = dataset.dataset_simCLR(\n",
    "                                    torch.as_tensor(data, device='cpu', dtype=torch.float32), \n",
    "                                    torch.as_tensor(torch.zeros(data.shape[0]), device='cpu', dtype=torch.float32),\n",
    "\n",
    "\n",
    "                                    n_transforms=1,\n",
    "                                    transform=transforms,\n",
    "                                    class_weights=np.array([1]),\n",
    "                                    DEVICE='cpu',\n",
    "                                    dtype_X=torch.float32,\n",
    "                                    dtype_y=torch.int64,\n",
    "\n",
    "                                    temp_uncertainty=16,\n",
    "                                    expand_dim=expand_dim\n",
    "                                    )\n",
    "    setup_dl = torch.utils.data.DataLoader( setup_ds,\n",
    "                                            batch_size=1024,\n",
    "                                            shuffle=False,\n",
    "                                            drop_last=False,\n",
    "                                            # pin_memory=True,\n",
    "                                            # num_workers=16,\n",
    "                                            # persistent_workers=True,\n",
    "                                            )\n",
    "\n",
    "    return setup_ds, setup_dl"
   ]
  },
  {
   "cell_type": "code",
   "execution_count": null,
   "metadata": {},
   "outputs": [],
   "source": [
    "X_labeled_train.shape"
   ]
  },
  {
   "cell_type": "code",
   "execution_count": null,
   "metadata": {},
   "outputs": [],
   "source": [
    "all_transforms = torch.nn.Sequential(\n",
    "    augmentation.ScaleDynamicRange(scaler_bounds=(0,1)),\n",
    "    torchvision.transforms.Resize(size=(224,224),\n",
    "                                  interpolation=torchvision.transforms.InterpolationMode.BILINEAR), \n",
    "    augmentation.TileChannels(dim=0, n_channels=3),\n",
    ")\n",
    "no_transforms = torch.nn.Sequential(\n",
    ")\n",
    "scale_rsz_transforms = torch.nn.Sequential(\n",
    "    augmentation.ScaleDynamicRange(scaler_bounds=(0,1)),\n",
    "    torchvision.transforms.Resize(size=(224,224),\n",
    "                                  interpolation=torchvision.transforms.InterpolationMode.BILINEAR)\n",
    ")\n",
    "tile_transforms = torch.nn.Sequential(\n",
    "    augmentation.TileChannels(dim=0, n_channels=3),\n",
    ")\n",
    "\n",
    "\n",
    "scripted_all_transforms = torch.jit.script(all_transforms)\n",
    "scripted_no_transforms = torch.jit.script(no_transforms)\n",
    "scripted_scale_rsz_transform = torch.jit.script(scale_rsz_transforms)\n",
    "scripted_tile_transform = torch.jit.script(tile_transforms)"
   ]
  },
  {
   "cell_type": "code",
   "execution_count": null,
   "metadata": {},
   "outputs": [],
   "source": [
    "setup_transform = scripted_scale_rsz_transform\n",
    "run_transform = scripted_tile_transform\n",
    "\n",
    "setup_ds, setup_dl = get_ds_dl(X_labeled_train, setup_transform, expand_dim=True)\n",
    "input_xtr = torch.cat([data[0][0].detach().cpu() for data in setup_dl], dim=0)\n",
    "setup_ds, setup_dl = get_ds_dl(X_labeled_train_SYT, setup_transform, expand_dim=True)\n",
    "input_xtr_SYT = torch.cat([data[0][0].detach().cpu() for data in setup_dl], dim=0)\n",
    "\n",
    "setup_ds, setup_dl = get_ds_dl(X_labeled_val, setup_transform, expand_dim=True)\n",
    "input_xval = torch.cat([data[0][0].detach().cpu() for data in setup_dl], dim=0)\n",
    "setup_ds, setup_dl = get_ds_dl(X_labeled_val_SYT, setup_transform, expand_dim=True)\n",
    "input_xval_SYT = torch.cat([data[0][0].detach().cpu() for data in setup_dl], dim=0)\n",
    "\n",
    "# print(\"Starting!\")\n",
    "# tik = time.time()\n",
    "# ds_run = util.dataset_simCLR(\n",
    "#                             torch.as_tensor(input_x, device='cpu', dtype=torch.float32), \n",
    "#                             torch.as_tensor(torch.zeros(input_x.shape[0]), device='cpu', dtype=torch.float32),\n",
    "\n",
    "#                             n_transforms=1,\n",
    "#                             class_weights=np.array([1]),\n",
    "#                             transform=run_transform,\n",
    "#                             DEVICE='cpu',\n",
    "#                             dtype_X=torch.float32,\n",
    "#                             dtype_y=torch.int64,\n",
    "\n",
    "#                             temp_uncertainty=16,\n",
    "#                             expand_dim=False\n",
    "#                             )\n",
    "# dl_run = torch.utils.data.DataLoader( ds_run,\n",
    "#                                         batch_size=1024,\n",
    "#                                         shuffle=False,\n",
    "#                                         drop_last=False,\n",
    "#                                         # pin_memory=True,\n",
    "#                                         # num_workers=16,\n",
    "#                                         # persistent_workers=True,\n",
    "#                                         )\n",
    "# features_train = torch.cat([model.get_head(model.base_model(data[0][0].to(DEVICE))).detach().cpu() for data in dl_run], dim=0)\n",
    "# tok = time.time()\n",
    "\n",
    "# print(f'Tile Transformation Alone Took: {tok-tik} s to run')"
   ]
  },
  {
   "cell_type": "code",
   "execution_count": null,
   "metadata": {},
   "outputs": [],
   "source": [
    "input_xtr.shape, input_xtr_SYT.shape, input_xval.shape, input_xval_SYT.shape"
   ]
  },
  {
   "cell_type": "code",
   "execution_count": null,
   "metadata": {},
   "outputs": [],
   "source": [
    "# scale_rsz_transforms = torch.nn.Sequential(\n",
    "#     augmentation.ScaleDynamicRange(scaler_bounds=(0,1)),\n",
    "#     torchvision.transforms.Resize(size=(224,224),\n",
    "#                                   interpolation=torchvision.transforms.InterpolationMode.BILINEAR))\n",
    "# tile_transforms = torch.nn.Sequential(augmentation.TileChannels(dim=0, n_channels=3),)\n",
    "\n",
    "\n",
    "# scripted_scale_rsz_transform = torch.jit.script(scale_rsz_transforms)\n",
    "# scripted_tile_transform = torch.jit.script(tile_transforms)\n",
    "\n",
    "\n",
    "# setup_transform = scripted_scale_rsz_transform\n",
    "# run_transform = scripted_tile_transform\n",
    "\n",
    "\n",
    "\n",
    "# # setup_ds, setup_dl = get_ds_dl(X_labeled_train_SYT, setup_transform, expand_dim=False)\n",
    "\n",
    "# setup_ds = util.dataset_simCLR(\n",
    "#                                 torch.as_tensor(X_labeled_train_SYT, device='cpu', dtype=torch.float32), \n",
    "#                                 torch.as_tensor(torch.zeros(X_labeled_train_SYT.shape[0]), device='cpu', dtype=torch.float32),\n",
    "#                                 n_transforms=1,\n",
    "#                                 transform=setup_transform,\n",
    "#                                 class_weights=np.array([1]),\n",
    "#                                 DEVICE='cpu',\n",
    "#                                 dtype_X=torch.float32,\n",
    "#                                 dtype_y=torch.int64,\n",
    "\n",
    "#                                 temp_uncertainty=16,\n",
    "#                                 expand_dim=False\n",
    "#                                 )\n",
    "# setup_dl = torch.utils.data.DataLoader( setup_ds,\n",
    "#                                         batch_size=1024,\n",
    "#                                         shuffle=False,\n",
    "#                                         drop_last=False,\n",
    "#                                         # pin_memory=True,\n",
    "#                                         # num_workers=16,\n",
    "#                                         # persistent_workers=True,\n",
    "#                                         )\n",
    "\n",
    "\n",
    "# input_x = torch.cat([data[0][0].detach().cpu() for data in setup_dl], dim=0)\n",
    "# # setup_ds, setup_dl = get_ds_dl(X_labeled_train_SYT, setup_transform, expand_dim=False)\n",
    "# # input_x_SYT = torch.cat([data[0][0].detach().cpu() for data in setup_dl], dim=0)\n",
    "\n"
   ]
  },
  {
   "cell_type": "code",
   "execution_count": null,
   "metadata": {},
   "outputs": [],
   "source": []
  },
  {
   "cell_type": "code",
   "execution_count": null,
   "metadata": {},
   "outputs": [],
   "source": []
  },
  {
   "cell_type": "code",
   "execution_count": null,
   "metadata": {},
   "outputs": [],
   "source": []
  },
  {
   "cell_type": "code",
   "execution_count": null,
   "metadata": {},
   "outputs": [],
   "source": [
    "# acc_train_lst, acc_val_lst = [], []\n",
    "# acc_train_SYT_lst, acc_val_SYT_lst = [], []\n",
    "\n",
    "# print('A')\n",
    "# ds_run, dl_run = get_ds_dl(input_xtr, run_transform, expand_dim=False)\n",
    "# features_train = torch.cat([model.get_head(model.base_model(data[0][0].to(DEVICE))).detach().cpu() for data in dl_run], dim=0)\n",
    "# ds_run, dl_run = get_ds_dl(input_xval, run_transform, expand_dim=False)\n",
    "# features_val = torch.cat([model.get_head(model.base_model(data[0][0].to(DEVICE))).detach().cpu() for data in dl_run], dim=0)\n",
    "\n",
    "# print('B')\n",
    "# ds_run, dl_run = get_ds_dl(input_xtr_SYT, run_transform, expand_dim=False)\n",
    "# features_train_SYT = torch.cat([model.get_head(model.base_model(data[0][0].to(DEVICE))).detach().cpu() for data in dl_run], dim=0)\n",
    "# ds_run, dl_run = get_ds_dl(input_xval_SYT, run_transform, expand_dim=False)\n",
    "# features_val_SYT = torch.cat([model.get_head(model.base_model(data[0][0].to(DEVICE))).detach().cpu() for data in dl_run], dim=0)\n",
    "\n",
    "\n",
    "# acc_train, acc_val = {}, {}\n",
    "# acc_train_SYT, acc_val_SYT = {}, {}\n",
    "# C_toUse = np.array([1e1,1e0,1e-1,1e-2])\n",
    "# for C in C_toUse:\n",
    "#     print('C1')\n",
    "#     logreg = sklearn.linear_model.LogisticRegression(solver='liblinear', max_iter=800, C=C)\n",
    "#     logreg.fit(features_train, y_labeled_train)\n",
    "#     acc_train_tmp = logreg.score(features_train, y_labeled_train)\n",
    "#     acc_train[C] = acc_train_tmp\n",
    "#     acc_val_tmp = logreg.score(features_val, y_labeled_val)\n",
    "#     acc_val[C] = acc_val_tmp\n",
    "    \n",
    "#     print('C2')\n",
    "#     logreg_SYT = sklearn.linear_model.LogisticRegression(solver='liblinear', max_iter=800, C=C)\n",
    "#     logreg_SYT.fit(features_train_SYT, y_labeled_train_SYT)\n",
    "#     acc_train_tmp = logreg_SYT.score(features_train_SYT, y_labeled_train_SYT)\n",
    "#     acc_train_SYT[C] = acc_train_tmp\n",
    "#     acc_val_tmp = logreg_SYT.score(features_val_SYT, y_labeled_val_SYT)\n",
    "#     acc_val_SYT[C] = acc_val_tmp\n",
    "\n",
    "# acc_train_lst.append(acc_train)\n",
    "# acc_val_lst.append(acc_val)\n",
    "# acc_train_SYT_lst.append(acc_train_SYT)\n",
    "# acc_val_SYT_lst.append(acc_val_SYT)\n",
    "\n",
    "\n",
    "# losses_train_npy = np.array(losses_train)\n",
    "# losses_val_npy = np.array(losses_val)\n",
    "# val_accs_npy = np.array(val_accs)\n",
    "# acc_npy = np.array(acc)"
   ]
  },
  {
   "cell_type": "code",
   "execution_count": null,
   "metadata": {},
   "outputs": [],
   "source": [
    "# acc_train_df, acc_val_df, acc_train_SYT_df, acc_val_SYT_df = pd.DataFrame(acc_train_lst), pd.DataFrame(acc_val_lst), pd.DataFrame(acc_train_SYT_lst), pd.DataFrame(acc_val_SYT_lst)\n",
    "# display(acc_train_df)\n",
    "# display(acc_val_df)\n",
    "# display(acc_train_SYT_df)\n",
    "# display(acc_val_SYT_df)\n",
    "\n",
    "# acc_train_df.to_csv(f'{base_dir}/github_repos/GCaMP_ROI_classifier/new_stuff/accuracies/{model_file_name}_train.csv')\n",
    "# acc_val_df.to_csv(f'{base_dir}/github_repos/GCaMP_ROI_classifier/new_stuff/accuracies/{model_file_name}_val.csv')\n",
    "# acc_train_SYT_df.to_csv(f'{base_dir}/github_repos/GCaMP_ROI_classifier/new_stuff/accuracies/{model_file_name}_train_SYT.csv')\n",
    "# acc_val_SYT_df.to_csv(f'{base_dir}/github_repos/GCaMP_ROI_classifier/new_stuff/accuracies/{model_file_name}_val_SYT.csv')"
   ]
  },
  {
   "cell_type": "code",
   "execution_count": null,
   "metadata": {},
   "outputs": [],
   "source": []
  },
  {
   "cell_type": "code",
   "execution_count": null,
   "metadata": {},
   "outputs": [],
   "source": []
  },
  {
   "cell_type": "code",
   "execution_count": null,
   "metadata": {},
   "outputs": [],
   "source": []
  },
  {
   "cell_type": "code",
   "execution_count": null,
   "metadata": {
    "colab": {
     "base_uri": "https://localhost:8080/"
    },
    "id": "rvDiVxDICXEn",
    "outputId": "2c29e3cf-4515-4aae-f0b1-22e30d51fa5f"
   },
   "outputs": [],
   "source": [
    "# model_file_name = 'ResNet18_simCLR_model_202112078_EOD_transfmod=efficient2-only7unfrozen'\n",
    "model_file_name = 'ResNet18_simCLR_model_202112078_EOD_transfmod=cpu-reorg-test'\n",
    "model.forward = model.forward_latent"
   ]
  },
  {
   "cell_type": "code",
   "execution_count": null,
   "metadata": {
    "colab": {
     "base_uri": "https://localhost:8080/"
    },
    "id": "rvDiVxDICXEn",
    "outputId": "2c29e3cf-4515-4aae-f0b1-22e30d51fa5f"
   },
   "outputs": [],
   "source": [
    "l2_alpha = 0.000\n",
    "n_epochs=300000\n",
    "\n",
    "acc_train_lst, acc_val_lst = [], []\n",
    "acc_train_SYT_lst, acc_val_SYT_lst = [], []\n",
    "\n",
    "for epoch in tqdm(range(n_epochs)):\n",
    "    print(f'epoch: {epoch}')\n",
    "    \n",
    "    ds_run, dl_run = get_ds_dl(input_xtr, run_transform, expand_dim=False)\n",
    "    features_train = torch.cat([model.get_head(model.base_model(data[0][0].to(DEVICE))).detach().cpu() for data in dl_run], dim=0)\n",
    "    ds_run, dl_run = get_ds_dl(input_xval, run_transform, expand_dim=False)\n",
    "    features_val = torch.cat([model.get_head(model.base_model(data[0][0].to(DEVICE))).detach().cpu() for data in dl_run], dim=0)\n",
    "    \n",
    "    ds_run, dl_run = get_ds_dl(input_xtr_SYT, run_transform, expand_dim=False)\n",
    "    features_train_SYT = torch.cat([model.get_head(model.base_model(data[0][0].to(DEVICE))).detach().cpu() for data in dl_run], dim=0)\n",
    "    ds_run, dl_run = get_ds_dl(input_xval_SYT, run_transform, expand_dim=False)\n",
    "    features_val_SYT = torch.cat([model.get_head(model.base_model(data[0][0].to(DEVICE))).detach().cpu() for data in dl_run], dim=0)\n",
    "\n",
    "\n",
    "### Add back in for continuous evaluation of classification performance\n",
    "\n",
    "#     acc_train, acc_val = {}, {}\n",
    "#     acc_train_SYT, acc_val_SYT = {}, {}\n",
    "#     C_toUse = np.array([1e1,1e0,1e-1,1e-2])\n",
    "#     for C in C_toUse:\n",
    "#         logreg = sklearn.linear_model.LogisticRegression(solver='liblinear', max_iter=800, C=C)\n",
    "#         logreg.fit(features_train, y_labeled_train)\n",
    "#         acc_train_tmp = logreg.score(features_train, y_labeled_train)\n",
    "#         acc_train[C] = acc_train_tmp\n",
    "#         acc_val_tmp = logreg.score(features_val, y_labeled_val)\n",
    "#         acc_val[C] = acc_val_tmp\n",
    "        \n",
    "#         logreg_SYT = sklearn.linear_model.LogisticRegression(solver='liblinear', max_iter=800, C=C)\n",
    "#         logreg_SYT.fit(features_train_SYT, y_labeled_train_SYT)\n",
    "#         acc_train_tmp = logreg_SYT.score(features_train_SYT, y_labeled_train_SYT)\n",
    "#         acc_train_SYT[C] = acc_train_tmp\n",
    "#         acc_val_tmp = logreg_SYT.score(features_val_SYT, y_labeled_val_SYT)\n",
    "#         acc_val_SYT[C] = acc_val_tmp\n",
    "\n",
    "#     acc_train_lst.append(acc_train)\n",
    "#     acc_val_lst.append(acc_val)\n",
    "#     acc_train_SYT_lst.append(acc_train_SYT)\n",
    "#     acc_val_SYT_lst.append(acc_val_SYT)\n",
    "\n",
    "#     acc_train_df, acc_val_df, acc_train_SYT_df, acc_val_SYT_df = pd.DataFrame(acc_train_lst), pd.DataFrame(acc_val_lst), pd.DataFrame(acc_train_SYT_lst), pd.DataFrame(acc_val_SYT_lst)\n",
    "    \n",
    "#     acc_train_df.to_csv(f'{base_dir}/accuracies/{model_file_name}_train.csv')\n",
    "#     acc_train_SYT_df.to_csv(f'{base_dir}/accuracies/{model_file_name}_train_SYT.csv')\n",
    "#     acc_val_df.to_csv(f'{base_dir}/accuracies/{model_file_name}_val.csv')\n",
    "#     acc_val_SYT_df.to_csv(f'{base_dir}/accuracies/{model_file_name}_val_SYT.csv')\n",
    "    \n",
    "    \n",
    "    loss_rolling_train = training_simCLR.epoch_step(dataloader_train, \n",
    "                                    model, \n",
    "                                    optimizer, \n",
    "                                    criterion,\n",
    "                                    scheduler=scheduler,\n",
    "                                    temperature=0.5,\n",
    "                                    # l2_alpha,\n",
    "                                    mode='semi-supervised',\n",
    "                                    loss_rolling_train=losses_train, \n",
    "                                    loss_rolling_val=losses_val,\n",
    "                                    device=DEVICE, \n",
    "                                    verbose=2,\n",
    "                                    verbose_update_period=1,\n",
    "                                   \n",
    "#                                     do_validation=False,\n",
    "#                                     X_val=x_feed_through_val,\n",
    "#                                     y_val=torch.as_tensor(y_val, device=DEVICE)\n",
    "                                   )\n",
    "    \n",
    "    \n",
    "    torch.save(model.state_dict(), f'{simclr_model_folder}/{model_file_name}.pth')\n",
    "   \n",
    "    # Add back in for continuous evaluation of classification performance\n",
    "\n",
    "#     losses_train_npy = np.array(losses_train)\n",
    "#     losses_val_npy = np.array(losses_val)\n",
    "#     val_accs_npy = np.array(val_accs)\n",
    "#     acc_npy = np.array(acc)\n",
    "    \n",
    "#     np.save(f'{model_performance_folder}/{model_file_name}_losses_train.npy', losses_train_npy)\n",
    "#     np.save(f'{model_performance_folder}/{model_file_name}_losses_val.npy', losses_val_npy)\n",
    "#     np.save(f'{model_performance_folder}/{model_file_name}_val_accs.npy', val_accs_npy)\n",
    "#     np.save(f'{model_performance_folder}/{model_file_name}_tr_accs.npy', acc_npy)\n",
    "    "
   ]
  },
  {
   "cell_type": "code",
   "execution_count": null,
   "metadata": {
    "colab": {
     "base_uri": "https://localhost:8080/",
     "height": 421
    },
    "id": "af10GlccgaV4",
    "outputId": "2ec75ade-6308-4a67-89e4-4bf3f996f746"
   },
   "outputs": [],
   "source": [
    "# import seaborn as sns\n",
    "# sns.set(style='white', palette='bright', context='poster')\n",
    "plt.rcdefaults()\n",
    "\n",
    "%matplotlib inline\n",
    "plt.figure(figsize=(12,6))\n",
    "plt.plot(losses_train, label='Training Loss')\n",
    "plt.plot(losses_val, label='Validation Loss')\n",
    "plt.title(f'Loss — Balanced Transfer Learning, No Data Augmentation, L2 Lambda = {l2_alpha}')\n",
    "plt.legend()\n",
    "plt.grid()\n",
    "plt.xlabel('Epoch Step')\n",
    "plt.ylabel('Loss')\n",
    "# plt.savefig('./Training-Loss.png')"
   ]
  },
  {
   "cell_type": "code",
   "execution_count": null,
   "metadata": {
    "id": "rU8l0eP02TQR"
   },
   "outputs": [],
   "source": [
    "torch.save(model.state_dict(), f'{simclr_model_folder}/{model_file_name}.pth')"
   ]
  }
 ],
 "metadata": {
  "accelerator": "GPU",
  "colab": {
   "collapsed_sections": [],
   "machine_shape": "hm",
   "name": "ROIClassifier_TRAIN_20211201_JZ_supervised-comparison5.ipynb",
   "provenance": []
  },
  "kernelspec": {
   "display_name": "grca",
   "language": "python",
   "name": "grca"
  },
  "language_info": {
   "codemirror_mode": {
    "name": "ipython",
    "version": 3
   },
   "file_extension": ".py",
   "mimetype": "text/x-python",
   "name": "python",
   "nbconvert_exporter": "python",
   "pygments_lexer": "ipython3",
   "version": "3.8.13"
  },
  "varInspector": {
   "cols": {
    "lenName": 16,
    "lenType": 16,
    "lenVar": 40
   },
   "kernels_config": {
    "python": {
     "delete_cmd_postfix": "",
     "delete_cmd_prefix": "del ",
     "library": "var_list.py",
     "varRefreshCmd": "print(var_dic_list())"
    },
    "r": {
     "delete_cmd_postfix": ") ",
     "delete_cmd_prefix": "rm(",
     "library": "var_list.r",
     "varRefreshCmd": "cat(var_dic_list()) "
    }
   },
   "oldHeight": 920.998472,
   "position": {
    "height": "40px",
    "left": "1403px",
    "right": "20px",
    "top": "108.998px",
    "width": "500.99px"
   },
   "types_to_exclude": [
    "module",
    "function",
    "builtin_function_or_method",
    "instance",
    "_Feature"
   ],
   "varInspector_section_display": "none",
   "window_display": true
  }
 },
 "nbformat": 4,
 "nbformat_minor": 4
}
