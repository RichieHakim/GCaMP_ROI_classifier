{
 "cells": [
  {
   "cell_type": "code",
   "execution_count": 1,
   "metadata": {
    "colab": {
     "base_uri": "https://localhost:8080/",
     "height": 17
    },
    "id": "S3q3I42jDB0f",
    "outputId": "3ad88a07-0e8b-474f-b0d8-9fb6c2a99f0c"
   },
   "outputs": [
    {
     "name": "stderr",
     "output_type": "stream",
     "text": [
      "/var/folders/gb/td_6747j3_z81x0r_38hyw180000gn/T/ipykernel_17287/1226147920.py:1: DeprecationWarning: Importing display from IPython.core.display is deprecated since IPython 7.14, please import from IPython display\n",
      "  from IPython.core.display import display, HTML\n"
     ]
    },
    {
     "data": {
      "text/html": [
       "<style>.container { width:95% !important; }</style>"
      ],
      "text/plain": [
       "<IPython.core.display.HTML object>"
      ]
     },
     "metadata": {},
     "output_type": "display_data"
    }
   ],
   "source": [
    "from IPython.core.display import display, HTML\n",
    "display(HTML(\"<style>.container { width:95% !important; }</style>\"))"
   ]
  },
  {
   "cell_type": "raw",
   "metadata": {
    "id": "PUUWS0VmwD7-"
   },
   "source": [
    "# !source activate jupyter_launcher\n",
    "!pip3 install numba\n",
    "!pip3 install matplotlib\n",
    "!pip3 install scipy\n",
    "!pip3 install torch\n",
    "!pip3 install torchvision\n",
    "!pip3 install sklearn\n",
    "!pip3 install pycuda\n",
    "!pip3 install tqdm\n",
    "!pip3 install seaborn\n",
    "!pip3 install h5py\n",
    "!pip3 install hdfdict\n",
    "!pip3 install ipywidgets\n",
    "!pip3 install numpy==1.20"
   ]
  },
  {
   "cell_type": "code",
   "execution_count": 2,
   "metadata": {},
   "outputs": [
    {
     "data": {
      "text/plain": [
       "'/Users/josh/opt/anaconda3/envs/grc/bin/python'"
      ]
     },
     "execution_count": 2,
     "metadata": {},
     "output_type": "execute_result"
    }
   ],
   "source": [
    "import sys\n",
    "sys.executable"
   ]
  },
  {
   "cell_type": "code",
   "execution_count": null,
   "metadata": {},
   "outputs": [],
   "source": []
  },
  {
   "cell_type": "code",
   "execution_count": null,
   "metadata": {},
   "outputs": [],
   "source": []
  },
  {
   "cell_type": "code",
   "execution_count": 3,
   "metadata": {
    "id": "eTIgCGQsDB0i"
   },
   "outputs": [],
   "source": [
    "import sys\n",
    "import os\n",
    "import copy\n",
    "import pathlib\n",
    "import time\n",
    "import gc\n",
    "\n",
    "from tqdm import tqdm, trange\n",
    "# from tqdm import trange\n",
    "\n",
    "import numpy as np\n",
    "import pandas as pd\n",
    "import matplotlib.pyplot as plt\n",
    "import seaborn as sns\n",
    "import scipy\n",
    "\n",
    "import torch\n",
    "import torchvision\n",
    "import torchvision.transforms as transforms\n",
    "\n",
    "# import cuml\n",
    "\n",
    "# for creating validation set\n",
    "import sklearn\n",
    "from sklearn.model_selection import train_test_split\n",
    "\n",
    "%matplotlib inline\n",
    "# %matplotlib inline\n",
    "# %matplotlib inline\n",
    "# %matplotlib qt"
   ]
  },
  {
   "cell_type": "code",
   "execution_count": 4,
   "metadata": {
    "id": "MZ9Hq6SVvves"
   },
   "outputs": [],
   "source": [
    "# base_dir = '/n/data1/hms/neurobio/sabatini/josh'"
   ]
  },
  {
   "cell_type": "code",
   "execution_count": 5,
   "metadata": {
    "id": "9w3t_mtdDB0j"
   },
   "outputs": [],
   "source": [
    "import sys\n",
    "\n",
    "base_dir = '/Users/josh/Documents'\n",
    "sys.path.append(f'{base_dir}/github_repos')\n",
    "# data_folder = f'../../data/final'\n",
    "data_folder = f'../../data/training'\n",
    "simclr_model_folder = f'../../models/simclr-modelsn'\n",
    "model_performance_folder = f'../../reports/model-performance'\n",
    "# sys.path.append(f'/media/rich/Home_Linux_partition/github_repos')\n",
    "# dir_folders = r'/media/rich/bigSSD/for_Josh/GCAMP_ROI_Classifier_data/label_data'\n",
    "# dir_folders = r'/users/Josh/Documents/Harvard/label_data'\n",
    "\n",
    "%load_ext autoreload\n",
    "%autoreload 2\n",
    "from basic_neural_processing_modules import torch_helpers, math_functions, classification, h5_handling, plotting_helpers, indexing, misc, decomposition\n",
    "\n",
    "# Must \"pip install -e . in root project directory for this to work\"\n",
    "from GCaMP_ROI_classifier import util, dataset, models, training, augmentation"
   ]
  },
  {
   "cell_type": "code",
   "execution_count": 6,
   "metadata": {},
   "outputs": [],
   "source": [
    "# !pip install numba\n",
    "# !pip install copy\n",
    "# !pip install scipy\n"
   ]
  },
  {
   "cell_type": "markdown",
   "metadata": {
    "id": "hTqZzmpJDB0j"
   },
   "source": [
    "## Import unlabeled training data"
   ]
  },
  {
   "cell_type": "code",
   "execution_count": 7,
   "metadata": {},
   "outputs": [],
   "source": [
    "# data_unlabeled = h5_handling.simple_load(path=r'/media/rich/bigSSD/for_Josh/GCAMP_ROI_Classifier_data/masks_20211202_balanced.h5')\n",
    "data_unlabeled = h5_handling.simple_load(path=f'{data_folder}/masks_20211202_balanced.h5')\n",
    "\n",
    "masks_cat_raw = torch.as_tensor(np.concatenate((data_unlabeled['SYTmasks'], data_unlabeled['NPmasks'], data_unlabeled['RHmasks']), axis=0), dtype=torch.float32, device='cpu')"
   ]
  },
  {
   "cell_type": "code",
   "execution_count": 8,
   "metadata": {},
   "outputs": [],
   "source": [
    "# data_labeled = h5_handling.simple_load(path=r'/media/rich/bigSSD/for_Josh/GCAMP_ROI_Classifier_data/masks_20211202_unbalanced.h5')\n",
    "\n",
    "data_labeled = h5_handling.simple_load(path=f'{data_folder}/masks_20211202_unbalanced.h5')\n",
    "\n",
    "masks_SYT = data_labeled['SYTmasks']\n",
    "labels_SYT = classification.squeeze_integers(data_labeled['SYTlabels'])\n",
    "\n",
    "nan_lst = np.concatenate(np.where(np.isnan(masks_SYT).sum(axis=-1).sum(axis=-1)))\n",
    "non_nan = [_ for _ in range(masks_SYT.shape[0]) if _ not in nan_lst]\n",
    "labels_SYT = labels_SYT[non_nan]\n",
    "masks_SYT = masks_SYT[non_nan]\n",
    "\n",
    "X_labeled_train_SYT, X_labeled_val_SYT, y_labeled_train_SYT, y_labeled_val_SYT = train_test_split(masks_SYT, labels_SYT, test_size = 0.2)"
   ]
  },
  {
   "cell_type": "markdown",
   "metadata": {},
   "source": [
    "toss any NaNs"
   ]
  },
  {
   "cell_type": "code",
   "execution_count": 9,
   "metadata": {},
   "outputs": [
    {
     "name": "stdout",
     "output_type": "stream",
     "text": [
      "Number of masks: torch.Size([711808, 36, 36])\n",
      "Number of masks: torch.Size([711807, 36, 36])\n"
     ]
    }
   ],
   "source": [
    "print(f'Number of masks: {masks_cat_raw.shape}')\n",
    "\n",
    "ROIs_without_NaNs = torch.where(~torch.any(torch.any(torch.isnan(masks_cat_raw), dim=1), dim=1))[0]\n",
    "masks_cat = masks_cat_raw[ROIs_without_NaNs]\n",
    "\n",
    "print(f'Number of masks: {masks_cat.shape}')"
   ]
  },
  {
   "cell_type": "markdown",
   "metadata": {
    "id": "hTqZzmpJDB0j"
   },
   "source": [
    "## Import labeled training data"
   ]
  },
  {
   "cell_type": "code",
   "execution_count": 10,
   "metadata": {
    "colab": {
     "base_uri": "https://localhost:8080/",
     "height": 1000
    },
    "id": "S8AO_lypDB0o",
    "outputId": "4edfd739-a0b7-4789-aea1-4a9f6c2665c8"
   },
   "outputs": [
    {
     "name": "stdout",
     "output_type": "stream",
     "text": [
      "concatenated images shape: (9715, 32, 32)\n"
     ]
    },
    {
     "data": {
      "image/png": "[encoded data removed]",
      "text/plain": [
       "<Figure size 432x288 with 1 Axes>"
      ]
     },
     "metadata": {
      "needs_background": "light"
     },
     "output_type": "display_data"
    },
    {
     "data": {
      "image/png": "[encoded data removed]",
      "text/plain": [
       "<Figure size 432x288 with 1 Axes>"
      ]
     },
     "metadata": {
      "needs_background": "light"
     },
     "output_type": "display_data"
    },
    {
     "data": {
      "image/png": "[encoded data removed]",
      "text/plain": [
       "<Figure size 432x288 with 1 Axes>"
      ]
     },
     "metadata": {
      "needs_background": "light"
     },
     "output_type": "display_data"
    },
    {
     "data": {
      "image/png": "[encoded data removed]",
      "text/plain": [
       "<Figure size 432x288 with 1 Axes>"
      ]
     },
     "metadata": {
      "needs_background": "light"
     },
     "output_type": "display_data"
    }
   ],
   "source": [
    "folders = [r'mouse 6_28 _ day 20200903/',\n",
    "             r'mouse6_28 _ day20200815/']\n",
    "fileNames_statFiles = [r'stat.npy']*len(folders)\n",
    "paths_statFiles = [pathlib.Path(data_folder) / folders[ii] / fileNames_statFiles[ii] for ii in range(len(folders))]\n",
    "\n",
    "sf_all = util.import_multiple_stat_files(   paths_statFiles=paths_statFiles,\n",
    "                                            fileNames_statFiles=fileNames_statFiles,\n",
    "                                            out_height_width=[32,32],\n",
    "                                            max_footprint_width=241,\n",
    "                                            plot_pref=True)\n",
    "images_labeled_raw = np.concatenate(sf_all, axis=0)\n",
    "images_labeled_raw = (images_labeled_raw / np.max(images_labeled_raw, axis=(1,2), keepdims=True)) * 1\n",
    "print(f'concatenated images shape: {images_labeled_raw.shape}')\n",
    "\n",
    "fileNames_labelFiles = ['labels_posthoc_filledIn_allCells.npy',\n",
    "             'labels_posthoc_all.npy']\n",
    "paths_labelFiles = [pathlib.Path(data_folder) / folders[ii] / fileNames_labelFiles[ii] for ii in range(len(folders))]\n",
    "\n",
    "labels_all = util.import_multiple_label_files(paths_labelFiles=paths_labelFiles,\n",
    "                                       plot_pref=True)\n",
    "labels_raw = np.concatenate(labels_all)\n",
    "\n",
    "assert np.alltrue([sf_all[ii].shape[0] == labels_all[ii].shape[0] for ii in range(len(sf_all))]) , 'num images in stat files does not correspond to num labels'"
   ]
  },
  {
   "cell_type": "code",
   "execution_count": 11,
   "metadata": {},
   "outputs": [
    {
     "data": {
      "image/png": "[encoded data removed]",
      "text/plain": [
       "<Figure size 432x288 with 100 Axes>"
      ]
     },
     "metadata": {
      "needs_background": "light"
     },
     "output_type": "display_data"
    }
   ],
   "source": [
    "%matplotlib inline\n",
    "\n",
    "plotting_helpers.plot_image_grid(images=images_labeled_raw,\n",
    "                                labels=None,\n",
    "                                grid_shape=(10,10), cmap=plt.get_cmap('gray'));"
   ]
  },
  {
   "cell_type": "code",
   "execution_count": 12,
   "metadata": {
    "id": "Ip1UMYy6DB0p"
   },
   "outputs": [],
   "source": [
    "labels = classification.squeeze_integers(labels_raw)\n",
    "images_labeled = images_labeled_raw[labels != 2]\n",
    "labels = labels[labels != 2]\n",
    "labels = classification.squeeze_integers(labels)"
   ]
  },
  {
   "cell_type": "markdown",
   "metadata": {
    "id": "UYh_wBqCDB0q"
   },
   "source": [
    "## Balance classes of inputs"
   ]
  },
  {
   "cell_type": "code",
   "execution_count": 13,
   "metadata": {
    "colab": {
     "base_uri": "https://localhost:8080/"
    },
    "id": "qn4Pu2cKDB0q",
    "outputId": "3afafb73-54a7-4e2d-8030-c0af6272cbe6"
   },
   "outputs": [
    {
     "name": "stdout",
     "output_type": "stream",
     "text": [
      "(9714, 32, 32)\n",
      "(9714,)\n",
      "532\n",
      "(2128, 32, 32)\n",
      "(2128,)\n",
      "532\n",
      "532\n",
      "532\n",
      "0\n",
      "0\n",
      "(2128, 32, 32)\n",
      "(2128,)\n"
     ]
    }
   ],
   "source": [
    "duplicates = 1\n",
    "balanced = True\n",
    "\n",
    "images_dup = np.tile(images_labeled , (duplicates , 1 , 1))\n",
    "labels_dup = np.tile(labels , (duplicates))\n",
    "\n",
    "print(images_dup.shape)\n",
    "print(labels_dup.shape)\n",
    "\n",
    "if balanced:\n",
    "    numToGetTo = np.sum(labels_dup==0)\n",
    "    print(numToGetTo)\n",
    "    for ii in np.array([1,2,3]):\n",
    "  #     idxToDelete = np.cumsum(labels_dup==ii) <= (np.sum(labels_dup==ii) - numToGetTo)\n",
    "        if ii==3:\n",
    "            numToGetTo = np.sum(labels_dup==0)/1\n",
    "        else:\n",
    "            numToGetTo = np.sum(labels_dup==0)\n",
    "\n",
    "        idxToDelete = (np.cumsum(labels_dup==ii) * (labels_dup==ii)) > numToGetTo\n",
    "        images_dup = images_dup[idxToDelete==0,:,:]\n",
    "        labels_dup = labels_dup[idxToDelete==0]\n",
    "\n",
    "\n",
    "\n",
    "\n",
    "\n",
    "print(images_dup.shape)\n",
    "print(labels_dup.shape)\n",
    "\n",
    "numToGetTo = np.sum(labels_dup==0)\n",
    "print(numToGetTo)\n",
    "\n",
    "print(np.sum(labels_dup==0))\n",
    "print(np.sum(labels_dup==1))\n",
    "print(np.sum(labels_dup==4))\n",
    "print(np.sum(labels_dup==5))\n",
    "print(images_dup.shape)\n",
    "print(labels_dup.shape)"
   ]
  },
  {
   "cell_type": "raw",
   "metadata": {
    "id": "NpMB08CYDB0q"
   },
   "source": [
    "# create validation set\n",
    "# X_train, X_val, y_train, y_val = train_test_split(images[:], labels[:], test_size = 0.15)\n",
    "X_train, X_val, y_train, y_val = train_test_split(images_dup[:], labels_dup[:], test_size = 0.15)\n",
    "(X_train.shape, y_train.shape), (X_val.shape, y_val.shape)"
   ]
  },
  {
   "cell_type": "code",
   "execution_count": 14,
   "metadata": {
    "colab": {
     "base_uri": "https://localhost:8080/"
    },
    "id": "fVA_Aa6rDB0q",
    "outputId": "15b9e55a-4881-40be-f06b-dec658fa55a7"
   },
   "outputs": [
    {
     "data": {
      "text/plain": [
       "(((1702, 32, 32), (1702,)), ((426, 32, 32), (426,)))"
      ]
     },
     "execution_count": 14,
     "metadata": {},
     "output_type": "execute_result"
    }
   ],
   "source": [
    "# create validation set\n",
    "\n",
    "###### REMOVE WITH ENOUGH RAM\n",
    "images = images_dup\n",
    "labels = labels_dup\n",
    "\n",
    "# X_labeled_train, X_labeled_val, y_labeled_train, y_labeled_val = train_test_split(images_dup, labels_dup, test_size = 0.3)\n",
    "X_labeled_train, X_labeled_val, y_labeled_train, y_labeled_val = train_test_split(images_dup, labels_dup, test_size = 0.2)\n",
    "# X_train, y_train = X_labeled_train, y_labeled_train\n",
    "\n",
    "# X_labeled_val, X_test, y_labeled_val, y_test = train_test_split(X_labeled_val, y_labeled_val, test_size = 0.5)\n",
    "X_val, X_test, y_val, y_test = train_test_split(X_labeled_val, y_labeled_val, test_size = 0.5)\n",
    "\n",
    "(X_labeled_train.shape, y_labeled_train.shape), (X_labeled_val.shape, y_labeled_val.shape)"
   ]
  },
  {
   "cell_type": "code",
   "execution_count": 15,
   "metadata": {
    "colab": {
     "base_uri": "https://localhost:8080/",
     "height": 265
    },
    "id": "mdJafJMMDB0r",
    "outputId": "2e8d00f6-32bf-4aeb-d02d-e10dcaaccfe3"
   },
   "outputs": [
    {
     "data": {
      "image/png": "[encoded data removed]",
      "text/plain": [
       "<Figure size 432x288 with 1 Axes>"
      ]
     },
     "metadata": {
      "needs_background": "light"
     },
     "output_type": "display_data"
    }
   ],
   "source": [
    "plt.figure()\n",
    "plt.hist(labels_dup, 20);"
   ]
  },
  {
   "cell_type": "code",
   "execution_count": 16,
   "metadata": {},
   "outputs": [
    {
     "data": {
      "text/plain": [
       "(2128, 32, 32)"
      ]
     },
     "execution_count": 16,
     "metadata": {},
     "output_type": "execute_result"
    }
   ],
   "source": [
    "images.shape"
   ]
  },
  {
   "cell_type": "code",
   "execution_count": null,
   "metadata": {
    "id": "XNxaCTbcDB0r"
   },
   "outputs": [],
   "source": []
  },
  {
   "cell_type": "raw",
   "metadata": {
    "id": "tz9Q8wYuDB0s"
   },
   "source": [
    "from sklearn.linear_model import LogisticRegression\n",
    "import sklearn.metrics\n",
    "\n",
    "def classification_step(X_train, y_train, X_test, model, model_device, temperature):\n",
    "    logreg = LogisticRegression()\n",
    "    features_train = model(torch.as_tensor(X_train, device=DEVICE, dtype=torch.float32)[:,None,...]).detach().cpu()\n",
    "    # features = model(torch.tensor(X_train[y_train != 3], device=DEVICE, dtype=torch.float32)[:,None,...]).detach().cpu()\n",
    "    logreg.fit(features_train, y_train)\n",
    "    # logreg.fit(features, y_train[y_train != 3])\n",
    "    \n",
    "    features_test = model(torch.as_tensor(X_test, device=DEVICE, dtype=torch.float32)[:,None,...]).detach().cpu()    \n",
    "    y_hat = logreg.predict_proba(features_test)\n",
    "    y_hat = torch.as_tensor(y_hat, dtype=torch.float32, device='cpu')\n",
    "    \n",
    "#     print(y_hat)\n",
    "    print(f'accuracy: {logreg.score(features, y):.5}')\n",
    "\n",
    "#     # cm = sklearn.metrics.confusion_matrix(idx_to_oneHot(y_train), y_hat, normalize='true')\n",
    "#     # cm = sklearn.metrics.confusion_matrix(idx_to_oneHot(y_train[y_train != 3]), y_hat, normalize='true')\n",
    "#     cm = rh_cm(y_hat, y)\n",
    "#     # cm = rh_cm(y_hat, y_train[y_train != 3])\n",
    "    \n",
    "    unc = util.loss_uncertainty(y_hat, temperature=temperature)\n",
    "\n",
    "#     plt.figure()\n",
    "#     plt.imshow(cm)\n",
    "#     return torch.tensor(unc, dtype=torch.float32, device=model_device)\n",
    "    return unc"
   ]
  },
  {
   "cell_type": "markdown",
   "metadata": {
    "id": "3aA1-hY4DB0v"
   },
   "source": [
    "# Train"
   ]
  },
  {
   "cell_type": "code",
   "execution_count": 17,
   "metadata": {
    "colab": {
     "base_uri": "https://localhost:8080/"
    },
    "id": "YtkRZSMqDB0v",
    "outputId": "230c559f-f22c-4182-b3ab-024ba2080a50"
   },
   "outputs": [
    {
     "name": "stdout",
     "output_type": "stream",
     "text": [
      "no GPU available. Using CPU.\n"
     ]
    }
   ],
   "source": [
    "DEVICE = torch_helpers.set_device(use_GPU=True)\n",
    "# DEVICE = torch_helpers.set_device(use_GPU=False)"
   ]
  },
  {
   "cell_type": "markdown",
   "metadata": {},
   "source": [
    "### Define New model = model + pre-head + latent layer OR classification layer"
   ]
  },
  {
   "cell_type": "code",
   "execution_count": 18,
   "metadata": {
    "id": "gt4xpqbHBjyL"
   },
   "outputs": [],
   "source": [
    "# class ModelTackOn(torch.nn.Module):\n",
    "#     def __init__(self, base_model, un_modified_model, pre_head_fc_sizes=[100], post_head_fc_sizes=[100], classifier_fc_sizes=None):\n",
    "#             super(ModelTackOn, self).__init__()\n",
    "#             self.base_model = base_model\n",
    "#             final_base_layer = list(un_modified_model.children())[-1]\n",
    "#             # final_base_layer = list(list(model.children())[-1].children())[-1]\n",
    "#             # print(final_base_layer)\n",
    "\n",
    "#             self.pre_head_fc_lst = []\n",
    "#             self.post_head_fc_lst = []\n",
    "#             self.classifier_fc_lst = []\n",
    "\n",
    "#             self.init_prehead(final_base_layer, pre_head_fc_sizes)\n",
    "#             self.init_posthead(pre_head_fc_sizes[-1], post_head_fc_sizes)\n",
    "#             if classifier_fc_sizes is not None:\n",
    "#                 self.init_classifier(pre_head_fc_sizes[-1], classifier_fc_sizes)\n",
    "    \n",
    "#     def init_prehead(self, prv_layer, pre_head_fc_sizes):\n",
    "#         for i, pre_head_fc in enumerate(pre_head_fc_sizes):\n",
    "#             if i == 0:\n",
    "#                 in_features = prv_layer.in_features if hasattr(prv_layer,'in_features') else 1280\n",
    "#             else:\n",
    "#                 in_features = pre_head_fc_sizes[i - 1]\n",
    "#             fc_layer = torch.nn.Linear(in_features=in_features, out_features=pre_head_fc)\n",
    "#             self.add_module(f'PreHead_{i}', fc_layer)\n",
    "#             self.pre_head_fc_lst.append(fc_layer)\n",
    "\n",
    "# #             if i < len(pre_head_fc_sizes) - 1:\n",
    "#             non_linearity = torch.nn.ReLU()\n",
    "#             self.add_module(f'PreHead_{i}_NonLinearity', non_linearity)\n",
    "#             self.pre_head_fc_lst.append(non_linearity)\n",
    "\n",
    "#     def init_posthead(self, prv_size, post_head_fc_sizes):\n",
    "#         for i, post_head_fc in enumerate(post_head_fc_sizes):\n",
    "#             if i == 0:\n",
    "#                 in_features = prv_size\n",
    "#             else:\n",
    "#                 in_features = post_head_fc_sizes[i - 1]\n",
    "#             fc_layer = torch.nn.Linear(in_features=in_features, out_features=post_head_fc)\n",
    "#             self.add_module(f'PostHead_{i}', fc_layer)\n",
    "#             self.post_head_fc_lst.append(fc_layer)\n",
    "\n",
    "#             if i < len(post_head_fc_sizes) - 1:\n",
    "#                 non_linearity = torch.nn.ReLU()\n",
    "#                 self.add_module(f'PostHead_{i}_NonLinearity', non_linearity)\n",
    "#                 self.pre_head_fc_lst.append(non_linearity)\n",
    "    \n",
    "#     def init_classifier(self, prv_size, classifier_fc_sizes):\n",
    "#             for i, classifier_fc in enumerate(classifier_fc_sizes):\n",
    "#                 if i == 0:\n",
    "#                     in_features = prv_size\n",
    "#                 else:\n",
    "#                     in_features = classifier_fc_sizes[i - 1]\n",
    "#             fc_layer = torch.nn.Linear(in_features=in_features, out_features=classifier_fc)\n",
    "#             self.add_module(f'Classifier_{i}', fc_layer)\n",
    "#             self.classifier_fc_lst.append(fc_layer)\n",
    "\n",
    "#     def reinit_classifier(self):\n",
    "#         for i_layer, layer in enumerate(self.classifier_fc_lst):\n",
    "#             layer.reset_parameters()\n",
    "    \n",
    "# #     def forward(self, X):\n",
    "# #         interim = self.base_model(X)\n",
    "# #         interim = self.get_head(interim)\n",
    "# #         interim = self.get_latent(interim)\n",
    "# #         return interim\n",
    "\n",
    "#     def forward_classifier(self, X):\n",
    "#         interim = self.base_model(X)\n",
    "#         interim = self.get_head(interim)\n",
    "#         interim = self.classify(interim)\n",
    "#         return interim\n",
    "\n",
    "#     def forward_latent(self, X):\n",
    "#         interim = self.base_model(X)\n",
    "#         interim = self.get_head(interim)\n",
    "#         interim = self.get_latent(interim)\n",
    "#         return interim\n",
    "\n",
    "\n",
    "#     def get_head(self, base_out):\n",
    "#         # print('base_out', base_out.shape)\n",
    "#         head = base_out\n",
    "#         for pre_head_layer in self.pre_head_fc_lst:\n",
    "#           # print('pre_head_layer', pre_head_layer.in_features)\n",
    "#           head = pre_head_layer(head)\n",
    "#           # print('head', head.shape)\n",
    "#         return head\n",
    "\n",
    "#     def get_latent(self, head):\n",
    "#         latent = head\n",
    "#         for post_head_layer in self.post_head_fc_lst:\n",
    "#             latent = post_head_layer(latent)\n",
    "#         return latent\n",
    "\n",
    "#     def classify(self, head):\n",
    "#         logit = head\n",
    "#         for classifier_layer in self.classifier_fc_lst:\n",
    "#             logit = classifier_layer(logit)\n",
    "#         return logit\n",
    "\n",
    "#     def set_pre_head_grad(self, requires_grad=True):\n",
    "#         for layer in self.pre_head_fc_lst:\n",
    "#             for param in layer.parameters():\n",
    "#                 param.requires_grad = requires_grad\n",
    "                \n",
    "#     def set_post_head_grad(self, requires_grad=True):\n",
    "#         for layer in self.post_head_fc_lst:\n",
    "#             for param in layer.parameters():\n",
    "#                 param.requires_grad = requires_grad\n",
    "\n",
    "#     def set_classifier_grad(self, requires_grad=True):\n",
    "#         for layer in self.classifier_fc_lst:\n",
    "#             for param in layer.parameters():\n",
    "#                 param.requires_grad = requires_grad\n",
    "\n",
    "#     def prep_contrast(self):\n",
    "#         self.set_pre_head_grad(requires_grad=True)\n",
    "#         self.set_post_head_grad(requires_grad=True)\n",
    "#         self.set_classifier_grad(requires_grad=False)\n",
    "\n",
    "#     def prep_classifier(self):\n",
    "#         self.set_pre_head_grad(requires_grad=False)\n",
    "#         self.set_post_head_grad(requires_grad=False)\n",
    "#         self.set_classifier_grad(requires_grad=True)\n"
   ]
  },
  {
   "cell_type": "code",
   "execution_count": 19,
   "metadata": {},
   "outputs": [],
   "source": [
    "from GCaMP_ROI_classifier.vicreg import main_vicreg as mvr\n",
    "from GCaMP_ROI_classifier.vicreg.main_vicreg import *"
   ]
  },
  {
   "cell_type": "code",
   "execution_count": 21,
   "metadata": {},
   "outputs": [],
   "source": [
    "from pathlib import Path\n",
    "import argparse\n",
    "import json\n",
    "import math\n",
    "import os\n",
    "import sys\n",
    "import time\n",
    "\n",
    "import torch\n",
    "import torch.nn.functional as F\n",
    "from torch import nn, optim\n",
    "import torch.distributed as dist\n",
    "import torchvision.datasets as datasets\n",
    "\n",
    "import GCaMP_ROI_classifier.vicreg.augmentations as aug\n",
    "from GCaMP_ROI_classifier.vicreg.distributed import init_distributed_mode\n",
    "\n",
    "import GCaMP_ROI_classifier.vicreg.resnet\n",
    "\n",
    "parser = argparse.ArgumentParser('VICReg training script', parents=[mvr.get_arguments()])\n",
    "args = parser.parse_args(['--device', 'cpu', '--data-dir', '../../data', '--batch-size', '10'])\n",
    "args.rank = args.local_rank\n"
   ]
  },
  {
   "cell_type": "code",
   "execution_count": 22,
   "metadata": {},
   "outputs": [],
   "source": [
    "from GCaMP_ROI_classifier.dataset import dataset_vicreg"
   ]
  },
  {
   "cell_type": "code",
   "execution_count": 23,
   "metadata": {},
   "outputs": [
    {
     "name": "stdout",
     "output_type": "stream",
     "text": [
      "Warp Initialization took: 0.002962827682495117 s\n"
     ]
    },
    {
     "name": "stderr",
     "output_type": "stream",
     "text": [
      "/Users/josh/opt/anaconda3/envs/grc/lib/python3.8/site-packages/torch/functional.py:568: UserWarning: torch.meshgrid: in an upcoming release, it will be required to pass the indexing argument. (Triggered internally at  /Users/distiller/project/pytorch/aten/src/ATen/native/TensorShape.cpp:2228.)\n",
      "  return _VF.meshgrid(tensors, **kwargs)  # type: ignore[attr-defined]\n"
     ]
    }
   ],
   "source": [
    "import torchvision.transforms    \n",
    "\n",
    "transforms = torch.nn.Sequential(\n",
    "    # torchvision.transforms.RandomHorizontalFlip(p=0.5),    \n",
    "    augmentation.ScaleDynamicRange(scaler_bounds=(0,1)), # just clamping, both this and clamping = normalizing (DEFAULT)\n",
    "    augmentation.WarpPoints(r=[0, 1],\n",
    "                            cx=[-0.5, 0.5],\n",
    "                            cy=[-0.5, 0.5], \n",
    "                            dx=[-0.3, 0.0], \n",
    "                            dy=[-0.3, 0.0], \n",
    "                            n_warps=5,\n",
    "                            prob=1.0,\n",
    "                            img_size_in=[36, 36],\n",
    "                            img_size_out=[224, 224]),\n",
    "\n",
    "    \n",
    "    augmentation.TileChannels(dim=0, n_channels=3),\n",
    "#     torchvision.transforms.Resize(size=(224,224), \n",
    "#                                   interpolation=torchvision.transforms.InterpolationMode.BILINEAR), # To do or not to do (DEFAULT)\n",
    "    \n",
    ")\n",
    "    \n",
    "\n",
    "scripted_transforms = torch.jit.script(transforms)\n"
   ]
  },
  {
   "cell_type": "code",
   "execution_count": 24,
   "metadata": {},
   "outputs": [],
   "source": [
    "# args.rank, args.world_size"
   ]
  },
  {
   "cell_type": "code",
   "execution_count": 25,
   "metadata": {},
   "outputs": [],
   "source": [
    "# import os\n",
    "# import sys\n",
    "# import tempfile\n",
    "# import torch\n",
    "# import torch.distributed as dist\n",
    "# import torch.nn as nn\n",
    "# import torch.optim as optim\n",
    "# import torch.multiprocessing as mp\n",
    "\n",
    "# from torch.nn.parallel import DistributedDataParallel as DDP\n",
    "\n",
    "# def setup(rank, world_size):\n",
    "#     os.environ['MASTER_ADDR'] = 'localhost'\n",
    "#     os.environ['MASTER_PORT'] = '12355'\n",
    "\n",
    "#     # initialize the process group\n",
    "#     dist.init_process_group(\"gloo\", rank=rank, world_size=world_size)\n",
    "\n",
    "# def cleanup():\n",
    "#     dist.destroy_process_group()\n",
    "\n",
    "# setup(args.rank, args.world_size)"
   ]
  },
  {
   "cell_type": "code",
   "execution_count": null,
   "metadata": {},
   "outputs": [],
   "source": []
  },
  {
   "cell_type": "code",
   "execution_count": null,
   "metadata": {
    "scrolled": false
   },
   "outputs": [
    {
     "name": "stdout",
     "output_type": "stream",
     "text": [
      "Not using distributed mode\n",
      "Namespace(arch='resnet50', base_lr=0.2, batch_size=10, cov_coeff=1.0, data_dir=PosixPath('../../data'), device='cpu', dist_url='env://', epochs=100, exp_dir=PosixPath('exp'), local_rank=-1, log_freq_time=60, mlp='8192-8192-8192', num_workers=10, rank=-1, sim_coeff=25.0, std_coeff=25.0, wd=1e-06, world_size=1)\n"
     ]
    },
    {
     "data": {
      "application/vnd.jupyter.widget-view+json": {
       "model_id": "90e3f84984894b00879e2291da90cdf5",
       "version_major": 2,
       "version_minor": 0
      },
      "text/plain": [
       "  0%|          | 0/100 [00:00<?, ?it/s]"
      ]
     },
     "metadata": {},
     "output_type": "display_data"
    },
    {
     "data": {
      "application/vnd.jupyter.widget-view+json": {
       "model_id": "d8913a10afd04d709161e08d045d7ef3",
       "version_major": 2,
       "version_minor": 0
      },
      "text/plain": [
       "0it [00:00, ?it/s]"
      ]
     },
     "metadata": {},
     "output_type": "display_data"
    }
   ],
   "source": [
    "from tqdm.notebook import tqdm, trange\n",
    "\n",
    "torch.backends.cudnn.benchmark = True\n",
    "mvr.init_distributed_mode(args)\n",
    "print(args)\n",
    "gpu = torch.device(args.device)\n",
    "\n",
    "if args.rank == 0:\n",
    "    args.exp_dir.mkdir(parents=True, exist_ok=True)\n",
    "    stats_file = open(args.exp_dir / \"stats.txt\", \"a\", buffering=1)\n",
    "    print(\" \".join(sys.argv))\n",
    "    print(\" \".join(sys.argv), file=stats_file)\n",
    "\n",
    "transforms = aug.TrainTransform()\n",
    "\n",
    "dataset = dataset_vicreg(\n",
    "                                torch.as_tensor(masks_cat, device='cpu', dtype=torch.float32), \n",
    "                                torch.as_tensor(torch.zeros(masks_cat.shape[0]), device='cpu', dtype=torch.float32),\n",
    "                                transforms=[scripted_transforms, scripted_transforms],\n",
    "                                DEVICE='cpu',\n",
    "                                dtype_X=torch.float32,\n",
    "                                dtype_y=torch.int64)\n",
    "# dataset = datasets.ImageFolder(args.data_dir / \"training\", transforms)\n",
    "# sampler = torch.utils.data.distributed.DistributedSampler(dataset, shuffle=True)\n",
    "sampler = torch.utils.data.RandomSampler(dataset)\n",
    "assert args.batch_size % args.world_size == 0\n",
    "per_device_batch_size = args.batch_size // args.world_size\n",
    "loader = torch.utils.data.DataLoader(\n",
    "    dataset,\n",
    "    batch_size=per_device_batch_size,\n",
    "#     num_workers=args.num_workers,\n",
    "#     pin_memory=True,\n",
    "    sampler=sampler,\n",
    ")\n",
    "\n",
    "model = mvr.VICReg(args).to(DEVICE)#cuda(gpu)\n",
    "# model = nn.SyncBatchNorm.convert_sync_batchnorm(model)\n",
    "# model = torch.nn.parallel.DistributedDataParallel(model, device_ids=[gpu])\n",
    "optimizer = mvr.LARS(\n",
    "    model.parameters(),\n",
    "    lr=0,\n",
    "    weight_decay=args.wd,\n",
    "    weight_decay_filter=exclude_bias_and_norm,\n",
    "    lars_adaptation_filter=exclude_bias_and_norm,\n",
    ")\n",
    "\n",
    "if (args.exp_dir / \"model.pth\").is_file():\n",
    "    if args.rank == 0:\n",
    "        print(\"resuming from checkpoint\")\n",
    "    ckpt = torch.load(args.exp_dir / \"model.pth\", map_location=\"cpu\")\n",
    "    start_epoch = ckpt[\"epoch\"]\n",
    "    model.load_state_dict(ckpt[\"model\"])\n",
    "    optimizer.load_state_dict(ckpt[\"optimizer\"])\n",
    "else:\n",
    "    start_epoch = 0\n",
    "\n",
    "start_time = last_logging = time.time()\n",
    "scaler = torch.cuda.amp.GradScaler()\n",
    "for epoch in trange(start_epoch, args.epochs):\n",
    "#     sampler.set_epoch(epoch)\n",
    "#     for step, ((x, y), _) in enumerate(loader, start=epoch * len(loader)):\n",
    "    for step, (x, y, _) in tqdm(enumerate(loader, start=epoch * len(loader))):\n",
    "#         x = x.cuda(gpu, non_blocking=True)\n",
    "#         y = y.cuda(gpu, non_blocking=True)\n",
    "        x = x.to(DEVICE)\n",
    "        y = y.to(DEVICE)\n",
    "\n",
    "        lr = mvr.adjust_learning_rate(args, optimizer, loader, step)\n",
    "\n",
    "        optimizer.zero_grad()\n",
    "#         with torch.cuda.amp.autocast():\n",
    "        loss = model.forward(x, y)\n",
    "        scaler.scale(loss).backward()\n",
    "        scaler.step(optimizer)\n",
    "        scaler.update()\n",
    "\n",
    "        current_time = time.time()\n",
    "        if args.rank == 0 and current_time - last_logging > args.log_freq_time:\n",
    "            stats = dict(\n",
    "                epoch=epoch,\n",
    "                step=step,\n",
    "                loss=loss.item(),\n",
    "                time=int(current_time - start_time),\n",
    "                lr=lr,\n",
    "            )\n",
    "            print(json.dumps(stats))\n",
    "            print(json.dumps(stats), file=stats_file)\n",
    "            last_logging = current_time\n",
    "    if args.rank == 0:\n",
    "        state = dict(\n",
    "            epoch=epoch + 1,\n",
    "            model=model.state_dict(),\n",
    "            optimizer=optimizer.state_dict(),\n",
    "        )\n",
    "        torch.save(state, args.exp_dir / \"model.pth\")\n",
    "if args.rank == 0:\n",
    "    torch.save(model.module.backbone.state_dict(), args.exp_dir / \"resnet50.pth\")\n",
    "\n"
   ]
  },
  {
   "cell_type": "code",
   "execution_count": null,
   "metadata": {},
   "outputs": [],
   "source": [
    "break"
   ]
  },
  {
   "cell_type": "raw",
   "metadata": {
    "id": "MIix9BdUCkqf"
   },
   "source": [
    "# import torchvision.models\n",
    "\n",
    "# # base_model = torchvision.models.resnet101(pretrained=True)\n",
    "# base_model = torchvision.models.resnet18(pretrained=True)\n",
    "\n",
    "# for param in base_model.parameters():\n",
    "#     param.requires_grad = False\n",
    "\n",
    "# retrain = list(base_model.children())[-1:]\n",
    "# for layer in retrain:\n",
    "#     params = layer.parameters()\n",
    "#     for param in params:\n",
    "#         param.requires_grad = True"
   ]
  },
  {
   "cell_type": "code",
   "execution_count": null,
   "metadata": {
    "id": "oyjLftj_cEGW"
   },
   "outputs": [],
   "source": [
    "import torchvision.models\n",
    "\n",
    "# base_model_frozen = torchvision.models.resnet101(pretrained=True)\n",
    "# base_model_frozen = torchvision.models.resnet18(pretrained=True)\n",
    "# base_model_frozen = torchvision.models.wide_resnet50_2(pretrained=True)\n",
    "# base_model_frozen = torchvision.models.resnet50(pretrained=True)\n",
    "\n",
    "# base_model_frozen = torchvision.models.efficientnet_b0(pretrained=True)\n",
    "base_model_frozen = torchvision.models.resnet18(pretrained=True)\n",
    "\n",
    "\n",
    "for param in base_model_frozen.parameters():\n",
    "    param.requires_grad = False"
   ]
  },
  {
   "cell_type": "markdown",
   "metadata": {},
   "source": [
    "start with a pretrained resnet model, and chop off the final layer. This will be used as the base on which we add the pre-head layers (for expressivity), latent layers (for simCLR), or classification layers (for post-hoc logistic regression)"
   ]
  },
  {
   "cell_type": "code",
   "execution_count": null,
   "metadata": {
    "id": "aWnb7WWri9qK"
   },
   "outputs": [],
   "source": [
    "model_chopped = torch.nn.Sequential(*(list(base_model_frozen.children())[:-1] + [torch.nn.Flatten()]))"
   ]
  },
  {
   "cell_type": "markdown",
   "metadata": {
    "id": "_E18ZEzpClNd"
   },
   "source": [
    "### Make combined model\n",
    "'model' has two forward methods. One for generating latents (for simCLR) and one for classifying labels"
   ]
  },
  {
   "cell_type": "code",
   "execution_count": null,
   "metadata": {
    "colab": {
     "base_uri": "https://localhost:8080/"
    },
    "id": "n6Qx-1NGJNY3",
    "outputId": "f7cb3ded-3b48-439e-bf57-a526fb48bac7"
   },
   "outputs": [],
   "source": [
    "model = ModelTackOn(model_chopped, base_model_frozen, pre_head_fc_sizes=[1024, 512], post_head_fc_sizes=[64], classifier_fc_sizes=[len(np.unique(y_labeled_train))])\n",
    "# model = ModelTackOn(model_chopped.to(DEVICE), base_model_frozen, pre_head_fc_sizes=[len(np.unique(y_train))], post_head_fc_sizes=[])\n",
    "# model = ModelTackOn(model_chopped.to(DEVICE), base_model_frozen, pre_head_fc_sizes=[len(np.unique(y_train))], post_head_fc_sizes=[])\n",
    "\n",
    "# model = torch.nn.Sequential([model_chopped.to(DEVICE), torch.nn.Linear], pre_head_fc_sizes=[len(np.unique(y_train))], post_head_fc_sizes=[])\n",
    "\n",
    "\n",
    "# model = ModelTackOn(base_model_frozen, pre_head_fc_sizes=[len(np.unique(y_train))], post_head_fc_sizes=[])\n",
    "# model = ModelTackOn(base_model, pre_head_fc_sizes=[len(np.unique(y_train))], post_head_fc_sizes=[])\n",
    "model.train();"
   ]
  },
  {
   "cell_type": "code",
   "execution_count": null,
   "metadata": {
    "tags": []
   },
   "outputs": [],
   "source": [
    "base_model_frozen"
   ]
  },
  {
   "cell_type": "code",
   "execution_count": null,
   "metadata": {},
   "outputs": [],
   "source": [
    "# unfreeze particular blocks in ResNet model\n",
    "\n",
    "# #efficient net \n",
    "# for name, param in list(model.named_parameters()):\n",
    "#     print(name)\n",
    "#     print(name)\n",
    "#     if name[:10] == 'base_model':\n",
    "#         if int(name[13]) < 7:\n",
    "#             param.requires_grad = False\n",
    "#         elif int(name[13]) >= 7:\n",
    "#             param.requires_grad = True\n",
    "\n",
    "# for name, param in list(model.named_parameters()):\n",
    "#     if param.requires_grad:\n",
    "#         print(name)\n",
    "\n",
    "\n",
    "#ResNet18\n",
    "for name, param in list(model.named_parameters()):\n",
    "    if name[:10] == 'base_model':\n",
    "        if int(name[11]) < 7:\n",
    "            param.requires_grad = False\n",
    "        elif int(name[11]) >= 7:\n",
    "            param.requires_grad = True\n",
    "\n",
    "for name, param in list(model.named_parameters()):\n",
    "    if param.requires_grad:\n",
    "        print(name)"
   ]
  },
  {
   "cell_type": "markdown",
   "metadata": {
    "id": "T2ARByXvDB0s"
   },
   "source": [
    "## Define augmentation pipeline"
   ]
  },
  {
   "cell_type": "code",
   "execution_count": null,
   "metadata": {},
   "outputs": [],
   "source": [
    "# import torchvision.transforms    \n",
    "\n",
    "# transforms = torch.nn.Sequential(\n",
    "#     torchvision.transforms.RandomHorizontalFlip(p=0.5),\n",
    "        \n",
    "#     torchvision.transforms.RandomAffine(\n",
    "#                                         degrees=(-180,180),\n",
    "#                                         translate=(0.15, 0.15), #0, .3, .45 (DEFAULT)\n",
    "#                                         scale=(0.6, 1.2), # no scale (1,1), (0.4, 1.5)\n",
    "#                                         shear=(-15, 15, -15, 15),\n",
    "#                                         interpolation=torchvision.transforms.InterpolationMode.BILINEAR, \n",
    "#                                         fill=0, \n",
    "#                                         fillcolor=None, \n",
    "#                                         resample=None),\n",
    "#     augmentation.AddPoissonNoise(   #scaler_bounds=(10**(4.5), 10**(6.)),\n",
    "#                                     scaler_bounds=(10**(4), 10**(6)),\n",
    "#                                     prob=1,\n",
    "#                                     base=1000,\n",
    "#                                     scaling='log'),\n",
    "#     augmentation.AddGaussianNoise(  mean=0, \n",
    "#                                     std=0.00015,\n",
    "#                                     prob=1),\n",
    "    \n",
    "#     augmentation.ScaleDynamicRange(scaler_bounds=(0,1)), # just clamping, both this and clamping = normalizing (DEFAULT)\n",
    "#     # torchvision.transforms.Resize(size=(224,224), \n",
    "#     #                               interpolation=torchvision.transforms.InterpolationMode.BILINEAR), # To do or not to do (DEFAULT)\n",
    "    \n",
    "#     augmentation.TileChannels(dim=0, n_channels=3),\n",
    "# )\n",
    "\n",
    "import torchvision.transforms    \n",
    "\n",
    "transforms = torch.nn.Sequential(\n",
    "    # torchvision.transforms.RandomHorizontalFlip(p=0.5),    \n",
    "    augmentation.ScaleDynamicRange(scaler_bounds=(0,1)), # just clamping, both this and clamping = normalizing (DEFAULT)\n",
    "    augmentation.WarpPoints(r=[0, 1],\n",
    "                            cx=[-0.5, 0.5],\n",
    "                            cy=[-0.5, 0.5], \n",
    "                            dx=[-0.3, 0.0], \n",
    "                            dy=[-0.3, 0.0], \n",
    "                            n_warps=5,\n",
    "                            prob=1.0,\n",
    "                            img_size_in=[36, 36],\n",
    "                            img_size_out=[224, 224]),\n",
    "\n",
    "    \n",
    "    augmentation.TileChannels(dim=0, n_channels=3),\n",
    "#     torchvision.transforms.Resize(size=(224,224), \n",
    "#                                   interpolation=torchvision.transforms.InterpolationMode.BILINEAR), # To do or not to do (DEFAULT)\n",
    "    \n",
    ")\n",
    "    \n",
    "\n",
    "scripted_transforms = torch.jit.script(transforms)\n"
   ]
  },
  {
   "cell_type": "raw",
   "metadata": {
    "id": "tq77tWZeDB0s",
    "jupyter": {
     "source_hidden": true
    },
    "tags": []
   },
   "source": [
    "import torchvision.transforms    \n",
    "\n",
    "transforms = torch.nn.Sequential(\n",
    "    \n",
    "#     torchvision.transforms.RandomAdjustSharpness(torch.rand(1)*5, p=0.5),\n",
    "#         torchvision.transforms.RandomPerspective(distortion_scale=0.7, \n",
    "#                                              p=0.5, \n",
    "#                                              interpolation=torchvision.transforms.InterpolationMode.BILINEAR, \n",
    "#                                              fill=0),\n",
    "#     torchvision.transforms.GaussianBlur(kernel_size=5,\n",
    "#                                         sigma=(0.0001, 0.1)),\n",
    "        \n",
    "\n",
    "    torchvision.transforms.RandomHorizontalFlip(p=0.5),\n",
    "        \n",
    "    torchvision.transforms.RandomAffine(\n",
    "                                        degrees=(-180,180),\n",
    "                                        translate=(0.2, 0.2), #0.15/.15\n",
    "                                        scale=(0.4, 1.3),  #.6, 1.2\n",
    "                                        shear=(-25, 25, -25, 25), # -15/+15 across board\n",
    "                                        interpolation=torchvision.transforms.InterpolationMode.BILINEAR, \n",
    "                                        fill=0, \n",
    "                                        fillcolor=None, \n",
    "                                        resample=None),\n",
    "    augmentation.AddPoissonNoise(   scaler_bounds=(10**(4.0), 10**(6.)), # 4.5, 6\n",
    "                                    prob=1,\n",
    "                                    base=1000,\n",
    "                                    scaling='log'),\n",
    "    augmentation.AddGaussianNoise(  mean=0, \n",
    "                                    std=0.0002, # 0.00015\n",
    "                                    prob=1),\n",
    "    \n",
    "    augmentation.ScaleDynamicRange(scaler_bounds=(0,1)), # Do vs. don't do -- bounds between 0/1. Either do this OR do this followed by torchvision.transforms.Normalize\n",
    "    \n",
    "    torchvision.transforms.Resize(size=(224,224),\n",
    "                                  interpolation=torchvision.transforms.InterpolationMode.BILINEAR), # Do vs. don't do\n",
    "    \n",
    "    # augmentation.AddPoissonNoise(   scaler_bounds=(10**(1.5), 10**(4.0)),\n",
    "    #                                 prob=1,\n",
    "    #                                 base=1000,\n",
    "    #                                 scaling='log'),\n",
    "    # augmentation.AddGaussianNoise(  mean=0, \n",
    "    #                                 std=0.1,\n",
    "    #                                 prob=1),\n",
    "    \n",
    "    augmentation.TileChannels(dim=0, n_channels=3),\n",
    "    \n",
    "#     augmentation.Normalize(  means=[0.485, 0.456, 0.406],\n",
    "#                              stds=[0.229, 0.224, 0.225]),\n",
    "#     torchvision.transforms.Normalize(mean=[0.485, 0.456, 0.406],\n",
    "#                                      std=[0.229, 0.224, 0.225],\n",
    "#                                      inplace=False),\n",
    "#     torchvision.transforms.RandomHorizontalFlip(p=0.5),\n",
    "\n",
    "#     torchvision.transforms.RandomAffine(\n",
    "#                                         degrees=(-180,180),\n",
    "#                                         translate=(0.0, 0.0),\n",
    "#                                         interpolation=torchvision.transforms.InterpolationMode.BILINEAR, \n",
    "#                                         fill=0, \n",
    "#                                         # fillcolor=None, \n",
    "#                                         resample=None),\n",
    ")\n",
    "scripted_transforms = torch.jit.script(transforms)\n",
    "# scripted_transforms = transforms"
   ]
  },
  {
   "cell_type": "code",
   "execution_count": null,
   "metadata": {
    "id": "PmM4nnV1nCVd"
   },
   "outputs": [],
   "source": [
    "dataset_train = dataset.dataset_simCLR(\n",
    "                                    torch.as_tensor(masks_cat, device='cpu', dtype=torch.float32), \n",
    "                                    torch.as_tensor(torch.zeros(masks_cat.shape[0]), device='cpu', dtype=torch.float32),\n",
    "\n",
    "                                    n_transforms=2,\n",
    "                                    class_weights=np.array([1]),\n",
    "                                    # class_weights=np.array([1]*4)[np.random.randint(0,4, X_train.shape[0])],\n",
    "                                    transform=scripted_transforms,\n",
    "                                    # DEVICE='cpu',\n",
    "                                    DEVICE='cpu',\n",
    "                                    dtype_X=torch.float32,\n",
    "                                    dtype_y=torch.int64,\n",
    "                                    \n",
    "                                    temp_uncertainty=16\n",
    "                                    )\n",
    "dataloader_train = torch.utils.data.DataLoader( dataset_train,\n",
    "#                                                 batch_size=int(pct_batch_size*X_train.shape[0]),\n",
    "                                                batch_size=800,\n",
    "                                                # shuffle=True,\n",
    "                                                shuffle=True,\n",
    "                                                drop_last=True,\n",
    "                                                pin_memory=True,\n",
    "                                                num_workers=16,\n",
    "                                                persistent_workers=True,\n",
    "                                                # prefetch_factor=0\n",
    "                                                )"
   ]
  },
  {
   "cell_type": "code",
   "execution_count": null,
   "metadata": {},
   "outputs": [],
   "source": [
    "idx_rand = np.random.randint(0,masks_cat.shape[0], 10)\n",
    "for ii in idx_rand:\n",
    "    fig, axs = plt.subplots(1,2)\n",
    "    # print(dataset_train[ii][0][0][0].shape)\n",
    "    axs[0].imshow(dataset_train[ii][0][0][0])\n",
    "    axs[1].imshow(dataset_train[ii][0][1][0])"
   ]
  },
  {
   "cell_type": "code",
   "execution_count": null,
   "metadata": {
    "colab": {
     "base_uri": "https://localhost:8080/"
    },
    "id": "nstWf2PhVwfV",
    "outputId": "968f73ab-75d7-4735-ea1e-49e7fb3821cc"
   },
   "outputs": [],
   "source": [
    "# torch_helpers.delete_all_cuda_tensors(globals())\n",
    "\n",
    "import gc\n",
    "\n",
    "torch.cuda.empty_cache()\n",
    "gc.collect()\n",
    "torch.cuda.empty_cache()\n",
    "gc.collect()\n",
    "torch.cuda.empty_cache()\n",
    "gc.collect()\n",
    "torch.cuda.empty_cache()\n",
    "gc.collect()"
   ]
  },
  {
   "cell_type": "markdown",
   "metadata": {
    "id": "OQ27o1ny9Xfi"
   },
   "source": [
    "## Training"
   ]
  },
  {
   "cell_type": "code",
   "execution_count": null,
   "metadata": {},
   "outputs": [],
   "source": [
    "model.to(DEVICE)\n",
    "model.prep_contrast()"
   ]
  },
  {
   "cell_type": "code",
   "execution_count": null,
   "metadata": {
    "id": "yDqu-bi8mnJB"
   },
   "outputs": [],
   "source": [
    "from torch.nn import CrossEntropyLoss\n",
    "from torch.optim import Adam\n",
    "\n",
    "import numpy as np\n",
    "\n",
    "from sklearn.linear_model import LogisticRegression\n",
    "from sklearn.tree import DecisionTreeClassifier\n",
    "from sklearn.ensemble import RandomForestClassifier\n",
    "from sklearn.svm import SVC\n",
    "\n",
    "\n",
    "# model = models.LeNet1(dropout_prob=0.3, momentum_val=0, n_output_features=64)\n",
    "\n",
    "\n",
    "criterion = [CrossEntropyLoss()]\n",
    "# criterion = CrossEntropyLoss(reduction='none')\n",
    "\n",
    "# optimizer = Adam(model.parameters(), lr=1e-2, weight_decay=0.0)\n",
    "# optimizer = Adam(model.parameters(), lr=2e-2)\n",
    "optimizer = Adam(model.parameters(), lr=10**(-3.5))\n",
    "scheduler = torch.optim.lr_scheduler.ExponentialLR(optimizer,\n",
    "                                                   gamma=1-0.0000,\n",
    "#                                                    gamma=1,\n",
    "                                                  )\n",
    "\n",
    "criterion = [_.to(DEVICE) for _ in criterion]\n",
    "losses_train, losses_val, val_accs, acc = [], [np.nan], [], []"
   ]
  },
  {
   "cell_type": "code",
   "execution_count": null,
   "metadata": {},
   "outputs": [],
   "source": []
  },
  {
   "cell_type": "markdown",
   "metadata": {},
   "source": []
  },
  {
   "cell_type": "code",
   "execution_count": null,
   "metadata": {},
   "outputs": [],
   "source": [
    "def get_ds_dl(data, transforms, expand_dim=False):\n",
    "    setup_ds = dataset.dataset_simCLR(\n",
    "                                    torch.as_tensor(data, device='cpu', dtype=torch.float32), \n",
    "                                    torch.as_tensor(torch.zeros(data.shape[0]), device='cpu', dtype=torch.float32),\n",
    "\n",
    "\n",
    "                                    n_transforms=1,\n",
    "                                    transform=transforms,\n",
    "                                    class_weights=np.array([1]),\n",
    "                                    DEVICE='cpu',\n",
    "                                    dtype_X=torch.float32,\n",
    "                                    dtype_y=torch.int64,\n",
    "\n",
    "                                    temp_uncertainty=16,\n",
    "                                    expand_dim=expand_dim\n",
    "                                    )\n",
    "    setup_dl = torch.utils.data.DataLoader( setup_ds,\n",
    "                                            batch_size=1024,\n",
    "                                            shuffle=False,\n",
    "                                            drop_last=False,\n",
    "                                            # pin_memory=True,\n",
    "                                            # num_workers=16,\n",
    "                                            # persistent_workers=True,\n",
    "                                            )\n",
    "\n",
    "    return setup_ds, setup_dl"
   ]
  },
  {
   "cell_type": "code",
   "execution_count": null,
   "metadata": {},
   "outputs": [],
   "source": [
    "X_labeled_train.shape"
   ]
  },
  {
   "cell_type": "code",
   "execution_count": null,
   "metadata": {},
   "outputs": [],
   "source": [
    "all_transforms = torch.nn.Sequential(\n",
    "    augmentation.ScaleDynamicRange(scaler_bounds=(0,1)),\n",
    "    torchvision.transforms.Resize(size=(224,224),\n",
    "                                  interpolation=torchvision.transforms.InterpolationMode.BILINEAR), \n",
    "    augmentation.TileChannels(dim=0, n_channels=3),\n",
    ")\n",
    "no_transforms = torch.nn.Sequential(\n",
    ")\n",
    "scale_rsz_transforms = torch.nn.Sequential(\n",
    "    augmentation.ScaleDynamicRange(scaler_bounds=(0,1)),\n",
    "    torchvision.transforms.Resize(size=(224,224),\n",
    "                                  interpolation=torchvision.transforms.InterpolationMode.BILINEAR)\n",
    ")\n",
    "tile_transforms = torch.nn.Sequential(\n",
    "    augmentation.TileChannels(dim=0, n_channels=3),\n",
    ")\n",
    "\n",
    "\n",
    "scripted_all_transforms = torch.jit.script(all_transforms)\n",
    "scripted_no_transforms = torch.jit.script(no_transforms)\n",
    "scripted_scale_rsz_transform = torch.jit.script(scale_rsz_transforms)\n",
    "scripted_tile_transform = torch.jit.script(tile_transforms)"
   ]
  },
  {
   "cell_type": "code",
   "execution_count": null,
   "metadata": {},
   "outputs": [],
   "source": [
    "setup_transform = scripted_scale_rsz_transform\n",
    "run_transform = scripted_tile_transform\n",
    "\n",
    "setup_ds, setup_dl = get_ds_dl(X_labeled_train, setup_transform, expand_dim=True)\n",
    "input_xtr = torch.cat([data[0][0].detach().cpu() for data in setup_dl], dim=0)\n",
    "setup_ds, setup_dl = get_ds_dl(X_labeled_train_SYT, setup_transform, expand_dim=True)\n",
    "input_xtr_SYT = torch.cat([data[0][0].detach().cpu() for data in setup_dl], dim=0)\n",
    "\n",
    "setup_ds, setup_dl = get_ds_dl(X_labeled_val, setup_transform, expand_dim=True)\n",
    "input_xval = torch.cat([data[0][0].detach().cpu() for data in setup_dl], dim=0)\n",
    "setup_ds, setup_dl = get_ds_dl(X_labeled_val_SYT, setup_transform, expand_dim=True)\n",
    "input_xval_SYT = torch.cat([data[0][0].detach().cpu() for data in setup_dl], dim=0)\n",
    "\n",
    "# print(\"Starting!\")\n",
    "# tik = time.time()\n",
    "# ds_run = util.dataset_simCLR(\n",
    "#                             torch.as_tensor(input_x, device='cpu', dtype=torch.float32), \n",
    "#                             torch.as_tensor(torch.zeros(input_x.shape[0]), device='cpu', dtype=torch.float32),\n",
    "\n",
    "#                             n_transforms=1,\n",
    "#                             class_weights=np.array([1]),\n",
    "#                             transform=run_transform,\n",
    "#                             DEVICE='cpu',\n",
    "#                             dtype_X=torch.float32,\n",
    "#                             dtype_y=torch.int64,\n",
    "\n",
    "#                             temp_uncertainty=16,\n",
    "#                             expand_dim=False\n",
    "#                             )\n",
    "# dl_run = torch.utils.data.DataLoader( ds_run,\n",
    "#                                         batch_size=1024,\n",
    "#                                         shuffle=False,\n",
    "#                                         drop_last=False,\n",
    "#                                         # pin_memory=True,\n",
    "#                                         # num_workers=16,\n",
    "#                                         # persistent_workers=True,\n",
    "#                                         )\n",
    "# features_train = torch.cat([model.get_head(model.base_model(data[0][0].to(DEVICE))).detach().cpu() for data in dl_run], dim=0)\n",
    "# tok = time.time()\n",
    "\n",
    "# print(f'Tile Transformation Alone Took: {tok-tik} s to run')"
   ]
  },
  {
   "cell_type": "code",
   "execution_count": null,
   "metadata": {},
   "outputs": [],
   "source": [
    "input_xtr.shape, input_xtr_SYT.shape, input_xval.shape, input_xval_SYT.shape"
   ]
  },
  {
   "cell_type": "code",
   "execution_count": null,
   "metadata": {},
   "outputs": [],
   "source": [
    "# scale_rsz_transforms = torch.nn.Sequential(\n",
    "#     augmentation.ScaleDynamicRange(scaler_bounds=(0,1)),\n",
    "#     torchvision.transforms.Resize(size=(224,224),\n",
    "#                                   interpolation=torchvision.transforms.InterpolationMode.BILINEAR))\n",
    "# tile_transforms = torch.nn.Sequential(augmentation.TileChannels(dim=0, n_channels=3),)\n",
    "\n",
    "\n",
    "# scripted_scale_rsz_transform = torch.jit.script(scale_rsz_transforms)\n",
    "# scripted_tile_transform = torch.jit.script(tile_transforms)\n",
    "\n",
    "\n",
    "# setup_transform = scripted_scale_rsz_transform\n",
    "# run_transform = scripted_tile_transform\n",
    "\n",
    "\n",
    "\n",
    "# # setup_ds, setup_dl = get_ds_dl(X_labeled_train_SYT, setup_transform, expand_dim=False)\n",
    "\n",
    "# setup_ds = util.dataset_simCLR(\n",
    "#                                 torch.as_tensor(X_labeled_train_SYT, device='cpu', dtype=torch.float32), \n",
    "#                                 torch.as_tensor(torch.zeros(X_labeled_train_SYT.shape[0]), device='cpu', dtype=torch.float32),\n",
    "#                                 n_transforms=1,\n",
    "#                                 transform=setup_transform,\n",
    "#                                 class_weights=np.array([1]),\n",
    "#                                 DEVICE='cpu',\n",
    "#                                 dtype_X=torch.float32,\n",
    "#                                 dtype_y=torch.int64,\n",
    "\n",
    "#                                 temp_uncertainty=16,\n",
    "#                                 expand_dim=False\n",
    "#                                 )\n",
    "# setup_dl = torch.utils.data.DataLoader( setup_ds,\n",
    "#                                         batch_size=1024,\n",
    "#                                         shuffle=False,\n",
    "#                                         drop_last=False,\n",
    "#                                         # pin_memory=True,\n",
    "#                                         # num_workers=16,\n",
    "#                                         # persistent_workers=True,\n",
    "#                                         )\n",
    "\n",
    "\n",
    "# input_x = torch.cat([data[0][0].detach().cpu() for data in setup_dl], dim=0)\n",
    "# # setup_ds, setup_dl = get_ds_dl(X_labeled_train_SYT, setup_transform, expand_dim=False)\n",
    "# # input_x_SYT = torch.cat([data[0][0].detach().cpu() for data in setup_dl], dim=0)\n",
    "\n"
   ]
  },
  {
   "cell_type": "code",
   "execution_count": null,
   "metadata": {},
   "outputs": [],
   "source": []
  },
  {
   "cell_type": "code",
   "execution_count": null,
   "metadata": {},
   "outputs": [],
   "source": []
  },
  {
   "cell_type": "code",
   "execution_count": null,
   "metadata": {},
   "outputs": [],
   "source": []
  },
  {
   "cell_type": "code",
   "execution_count": null,
   "metadata": {},
   "outputs": [],
   "source": [
    "# acc_train_lst, acc_val_lst = [], []\n",
    "# acc_train_SYT_lst, acc_val_SYT_lst = [], []\n",
    "\n",
    "# print('A')\n",
    "# ds_run, dl_run = get_ds_dl(input_xtr, run_transform, expand_dim=False)\n",
    "# features_train = torch.cat([model.get_head(model.base_model(data[0][0].to(DEVICE))).detach().cpu() for data in dl_run], dim=0)\n",
    "# ds_run, dl_run = get_ds_dl(input_xval, run_transform, expand_dim=False)\n",
    "# features_val = torch.cat([model.get_head(model.base_model(data[0][0].to(DEVICE))).detach().cpu() for data in dl_run], dim=0)\n",
    "\n",
    "# print('B')\n",
    "# ds_run, dl_run = get_ds_dl(input_xtr_SYT, run_transform, expand_dim=False)\n",
    "# features_train_SYT = torch.cat([model.get_head(model.base_model(data[0][0].to(DEVICE))).detach().cpu() for data in dl_run], dim=0)\n",
    "# ds_run, dl_run = get_ds_dl(input_xval_SYT, run_transform, expand_dim=False)\n",
    "# features_val_SYT = torch.cat([model.get_head(model.base_model(data[0][0].to(DEVICE))).detach().cpu() for data in dl_run], dim=0)\n",
    "\n",
    "\n",
    "# acc_train, acc_val = {}, {}\n",
    "# acc_train_SYT, acc_val_SYT = {}, {}\n",
    "# C_toUse = np.array([1e1,1e0,1e-1,1e-2])\n",
    "# for C in C_toUse:\n",
    "#     print('C1')\n",
    "#     logreg = sklearn.linear_model.LogisticRegression(solver='liblinear', max_iter=800, C=C)\n",
    "#     logreg.fit(features_train, y_labeled_train)\n",
    "#     acc_train_tmp = logreg.score(features_train, y_labeled_train)\n",
    "#     acc_train[C] = acc_train_tmp\n",
    "#     acc_val_tmp = logreg.score(features_val, y_labeled_val)\n",
    "#     acc_val[C] = acc_val_tmp\n",
    "    \n",
    "#     print('C2')\n",
    "#     logreg_SYT = sklearn.linear_model.LogisticRegression(solver='liblinear', max_iter=800, C=C)\n",
    "#     logreg_SYT.fit(features_train_SYT, y_labeled_train_SYT)\n",
    "#     acc_train_tmp = logreg_SYT.score(features_train_SYT, y_labeled_train_SYT)\n",
    "#     acc_train_SYT[C] = acc_train_tmp\n",
    "#     acc_val_tmp = logreg_SYT.score(features_val_SYT, y_labeled_val_SYT)\n",
    "#     acc_val_SYT[C] = acc_val_tmp\n",
    "\n",
    "# acc_train_lst.append(acc_train)\n",
    "# acc_val_lst.append(acc_val)\n",
    "# acc_train_SYT_lst.append(acc_train_SYT)\n",
    "# acc_val_SYT_lst.append(acc_val_SYT)\n",
    "\n",
    "\n",
    "# losses_train_npy = np.array(losses_train)\n",
    "# losses_val_npy = np.array(losses_val)\n",
    "# val_accs_npy = np.array(val_accs)\n",
    "# acc_npy = np.array(acc)"
   ]
  },
  {
   "cell_type": "code",
   "execution_count": null,
   "metadata": {},
   "outputs": [],
   "source": [
    "# acc_train_df, acc_val_df, acc_train_SYT_df, acc_val_SYT_df = pd.DataFrame(acc_train_lst), pd.DataFrame(acc_val_lst), pd.DataFrame(acc_train_SYT_lst), pd.DataFrame(acc_val_SYT_lst)\n",
    "# display(acc_train_df)\n",
    "# display(acc_val_df)\n",
    "# display(acc_train_SYT_df)\n",
    "# display(acc_val_SYT_df)\n",
    "\n",
    "# acc_train_df.to_csv(f'{base_dir}/github_repos/GCaMP_ROI_classifier/new_stuff/accuracies/{model_file_name}_train.csv')\n",
    "# acc_val_df.to_csv(f'{base_dir}/github_repos/GCaMP_ROI_classifier/new_stuff/accuracies/{model_file_name}_val.csv')\n",
    "# acc_train_SYT_df.to_csv(f'{base_dir}/github_repos/GCaMP_ROI_classifier/new_stuff/accuracies/{model_file_name}_train_SYT.csv')\n",
    "# acc_val_SYT_df.to_csv(f'{base_dir}/github_repos/GCaMP_ROI_classifier/new_stuff/accuracies/{model_file_name}_val_SYT.csv')"
   ]
  },
  {
   "cell_type": "code",
   "execution_count": null,
   "metadata": {},
   "outputs": [],
   "source": []
  },
  {
   "cell_type": "code",
   "execution_count": null,
   "metadata": {},
   "outputs": [],
   "source": []
  },
  {
   "cell_type": "code",
   "execution_count": null,
   "metadata": {},
   "outputs": [],
   "source": []
  },
  {
   "cell_type": "code",
   "execution_count": null,
   "metadata": {
    "colab": {
     "base_uri": "https://localhost:8080/"
    },
    "id": "rvDiVxDICXEn",
    "outputId": "2c29e3cf-4515-4aae-f0b1-22e30d51fa5f"
   },
   "outputs": [],
   "source": [
    "# model_file_name = 'ResNet18_simCLR_model_202112078_EOD_transfmod=efficient2-only7unfrozen'\n",
    "model_file_name = 'ResNet18_simCLR_model_202112078_EOD_transfmod=cpu-reorg-test'\n",
    "model.forward = model.forward_latent"
   ]
  },
  {
   "cell_type": "code",
   "execution_count": null,
   "metadata": {
    "colab": {
     "base_uri": "https://localhost:8080/"
    },
    "id": "rvDiVxDICXEn",
    "outputId": "2c29e3cf-4515-4aae-f0b1-22e30d51fa5f"
   },
   "outputs": [],
   "source": [
    "l2_alpha = 0.000\n",
    "n_epochs=300000\n",
    "\n",
    "acc_train_lst, acc_val_lst = [], []\n",
    "acc_train_SYT_lst, acc_val_SYT_lst = [], []\n",
    "\n",
    "for epoch in tqdm(range(n_epochs)):\n",
    "    print(f'epoch: {epoch}')\n",
    "    \n",
    "    ds_run, dl_run = get_ds_dl(input_xtr, run_transform, expand_dim=False)\n",
    "    features_train = torch.cat([model.get_head(model.base_model(data[0][0].to(DEVICE))).detach().cpu() for data in dl_run], dim=0)\n",
    "    ds_run, dl_run = get_ds_dl(input_xval, run_transform, expand_dim=False)\n",
    "    features_val = torch.cat([model.get_head(model.base_model(data[0][0].to(DEVICE))).detach().cpu() for data in dl_run], dim=0)\n",
    "    \n",
    "    ds_run, dl_run = get_ds_dl(input_xtr_SYT, run_transform, expand_dim=False)\n",
    "    features_train_SYT = torch.cat([model.get_head(model.base_model(data[0][0].to(DEVICE))).detach().cpu() for data in dl_run], dim=0)\n",
    "    ds_run, dl_run = get_ds_dl(input_xval_SYT, run_transform, expand_dim=False)\n",
    "    features_val_SYT = torch.cat([model.get_head(model.base_model(data[0][0].to(DEVICE))).detach().cpu() for data in dl_run], dim=0)\n",
    "\n",
    "\n",
    "### Add back in for continuous evaluation of classification performance\n",
    "\n",
    "#     acc_train, acc_val = {}, {}\n",
    "#     acc_train_SYT, acc_val_SYT = {}, {}\n",
    "#     C_toUse = np.array([1e1,1e0,1e-1,1e-2])\n",
    "#     for C in C_toUse:\n",
    "#         logreg = sklearn.linear_model.LogisticRegression(solver='liblinear', max_iter=800, C=C)\n",
    "#         logreg.fit(features_train, y_labeled_train)\n",
    "#         acc_train_tmp = logreg.score(features_train, y_labeled_train)\n",
    "#         acc_train[C] = acc_train_tmp\n",
    "#         acc_val_tmp = logreg.score(features_val, y_labeled_val)\n",
    "#         acc_val[C] = acc_val_tmp\n",
    "        \n",
    "#         logreg_SYT = sklearn.linear_model.LogisticRegression(solver='liblinear', max_iter=800, C=C)\n",
    "#         logreg_SYT.fit(features_train_SYT, y_labeled_train_SYT)\n",
    "#         acc_train_tmp = logreg_SYT.score(features_train_SYT, y_labeled_train_SYT)\n",
    "#         acc_train_SYT[C] = acc_train_tmp\n",
    "#         acc_val_tmp = logreg_SYT.score(features_val_SYT, y_labeled_val_SYT)\n",
    "#         acc_val_SYT[C] = acc_val_tmp\n",
    "\n",
    "#     acc_train_lst.append(acc_train)\n",
    "#     acc_val_lst.append(acc_val)\n",
    "#     acc_train_SYT_lst.append(acc_train_SYT)\n",
    "#     acc_val_SYT_lst.append(acc_val_SYT)\n",
    "\n",
    "#     acc_train_df, acc_val_df, acc_train_SYT_df, acc_val_SYT_df = pd.DataFrame(acc_train_lst), pd.DataFrame(acc_val_lst), pd.DataFrame(acc_train_SYT_lst), pd.DataFrame(acc_val_SYT_lst)\n",
    "    \n",
    "#     acc_train_df.to_csv(f'{base_dir}/accuracies/{model_file_name}_train.csv')\n",
    "#     acc_train_SYT_df.to_csv(f'{base_dir}/accuracies/{model_file_name}_train_SYT.csv')\n",
    "#     acc_val_df.to_csv(f'{base_dir}/accuracies/{model_file_name}_val.csv')\n",
    "#     acc_val_SYT_df.to_csv(f'{base_dir}/accuracies/{model_file_name}_val_SYT.csv')\n",
    "    \n",
    "    \n",
    "    loss_rolling_train = training_simCLR.epoch_step(dataloader_train, \n",
    "                                    model, \n",
    "                                    optimizer, \n",
    "                                    criterion,\n",
    "                                    scheduler=scheduler,\n",
    "                                    temperature=0.5,\n",
    "                                    # l2_alpha,\n",
    "                                    mode='semi-supervised',\n",
    "                                    loss_rolling_train=losses_train, \n",
    "                                    loss_rolling_val=losses_val,\n",
    "                                    device=DEVICE, \n",
    "                                    verbose=2,\n",
    "                                    verbose_update_period=1,\n",
    "                                   \n",
    "#                                     do_validation=False,\n",
    "#                                     X_val=x_feed_through_val,\n",
    "#                                     y_val=torch.as_tensor(y_val, device=DEVICE)\n",
    "                                   )\n",
    "    \n",
    "    \n",
    "    torch.save(model.state_dict(), f'{simclr_model_folder}/{model_file_name}.pth')\n",
    "   \n",
    "    # Add back in for continuous evaluation of classification performance\n",
    "\n",
    "#     losses_train_npy = np.array(losses_train)\n",
    "#     losses_val_npy = np.array(losses_val)\n",
    "#     val_accs_npy = np.array(val_accs)\n",
    "#     acc_npy = np.array(acc)\n",
    "    \n",
    "#     np.save(f'{model_performance_folder}/{model_file_name}_losses_train.npy', losses_train_npy)\n",
    "#     np.save(f'{model_performance_folder}/{model_file_name}_losses_val.npy', losses_val_npy)\n",
    "#     np.save(f'{model_performance_folder}/{model_file_name}_val_accs.npy', val_accs_npy)\n",
    "#     np.save(f'{model_performance_folder}/{model_file_name}_tr_accs.npy', acc_npy)\n",
    "    "
   ]
  },
  {
   "cell_type": "code",
   "execution_count": null,
   "metadata": {
    "colab": {
     "base_uri": "https://localhost:8080/",
     "height": 421
    },
    "id": "af10GlccgaV4",
    "outputId": "2ec75ade-6308-4a67-89e4-4bf3f996f746"
   },
   "outputs": [],
   "source": [
    "# import seaborn as sns\n",
    "# sns.set(style='white', palette='bright', context='poster')\n",
    "plt.rcdefaults()\n",
    "\n",
    "%matplotlib inline\n",
    "plt.figure(figsize=(12,6))\n",
    "plt.plot(losses_train, label='Training Loss')\n",
    "plt.plot(losses_val, label='Validation Loss')\n",
    "plt.title(f'Loss — Balanced Transfer Learning, No Data Augmentation, L2 Lambda = {l2_alpha}')\n",
    "plt.legend()\n",
    "plt.grid()\n",
    "plt.xlabel('Epoch Step')\n",
    "plt.ylabel('Loss')\n",
    "# plt.savefig('./Training-Loss.png')"
   ]
  },
  {
   "cell_type": "code",
   "execution_count": null,
   "metadata": {
    "id": "rU8l0eP02TQR"
   },
   "outputs": [],
   "source": [
    "torch.save(model.state_dict(), f'{simclr_model_folder}/{model_file_name}.pth')"
   ]
  }
 ],
 "metadata": {
  "accelerator": "GPU",
  "colab": {
   "collapsed_sections": [],
   "machine_shape": "hm",
   "name": "ROIClassifier_TRAIN_20211201_JZ_supervised-comparison5.ipynb",
   "provenance": []
  },
  "kernelspec": {
   "display_name": "Python 3 (ipykernel)",
   "language": "python",
   "name": "python3"
  },
  "language_info": {
   "codemirror_mode": {
    "name": "ipython",
    "version": 3
   },
   "file_extension": ".py",
   "mimetype": "text/x-python",
   "name": "python",
   "nbconvert_exporter": "python",
   "pygments_lexer": "ipython3",
   "version": "3.8.13"
  },
  "varInspector": {
   "cols": {
    "lenName": 16,
    "lenType": 16,
    "lenVar": 40
   },
   "kernels_config": {
    "python": {
     "delete_cmd_postfix": "",
     "delete_cmd_prefix": "del ",
     "library": "var_list.py",
     "varRefreshCmd": "print(var_dic_list())"
    },
    "r": {
     "delete_cmd_postfix": ") ",
     "delete_cmd_prefix": "rm(",
     "library": "var_list.r",
     "varRefreshCmd": "cat(var_dic_list()) "
    }
   },
   "position": {
    "height": "943px",
    "left": "1381px",
    "right": "20px",
    "top": "106px",
    "width": "501px"
   },
   "types_to_exclude": [
    "module",
    "function",
    "builtin_function_or_method",
    "instance",
    "_Feature"
   ],
   "window_display": true
  }
 },
 "nbformat": 4,
 "nbformat_minor": 4
}
