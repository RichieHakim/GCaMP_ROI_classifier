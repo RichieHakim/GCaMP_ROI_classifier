{
 "cells": [
  {
   "cell_type": "markdown",
   "metadata": {},
   "source": [
    "# Example Usage for predict_keras Module\n",
    "\n",
    "Contact Josh (Joshua_Zimmer@hms.harvard.edu) for assistance."
   ]
  },
  {
   "cell_type": "code",
   "execution_count": 1,
   "metadata": {},
   "outputs": [],
   "source": [
    "import numpy as np\n",
    "import predict_keras as pk"
   ]
  },
  {
   "cell_type": "code",
   "execution_count": 2,
   "metadata": {},
   "outputs": [],
   "source": [
    "valX = np.load('example_data_x.npy')\n",
    "valY = np.load('example_data_y.npy')"
   ]
  },
  {
   "cell_type": "code",
   "execution_count": 3,
   "metadata": {},
   "outputs": [
    {
     "name": "stdout",
     "output_type": "stream",
     "text": [
      "Example X shape: (1458, 1, 36, 36)\n",
      "Example Y shape: (1458,)\n"
     ]
    }
   ],
   "source": [
    "print('Example X shape:',valX.shape)\n",
    "print('Example Y shape:',valY.shape)"
   ]
  },
  {
   "cell_type": "code",
   "execution_count": 4,
   "metadata": {},
   "outputs": [
    {
     "name": "stdout",
     "output_type": "stream",
     "text": [
      "Example prediction shape: (1458, 6)\n",
      "\n",
      "3 Example Outputs:\n",
      " [[3.7286732e-13 4.2516420e-12 5.2544349e-12 5.2658974e-14 3.9161652e-10\n",
      "  1.0000000e+00]\n",
      " [1.1396562e-01 3.0074838e-01 5.7013979e-04 1.7200664e-03 5.3336859e-01\n",
      "  4.9627118e-02]\n",
      " [1.8223908e-11 1.6077805e-09 9.9727008e-13 1.2990732e-13 3.9365240e-08\n",
      "  1.0000000e+00]]\n"
     ]
    }
   ],
   "source": [
    "# Get class predictions of valX (Assumes Batch Size x 1 x 36 x 36 dimensions)\n",
    "\n",
    "pred = pk.predict(valX)\n",
    "\n",
    "print('Example prediction shape:',pred.shape)\n",
    "print()\n",
    "print('3 Example Outputs:\\n', pred[:3, :])"
   ]
  },
  {
   "cell_type": "code",
   "execution_count": 5,
   "metadata": {},
   "outputs": [
    {
     "name": "stdout",
     "output_type": "stream",
     "text": [
      "Example prediction shape: (1458, 6)\n",
      "\n",
      "3 Example Outputs:\n",
      " [[3.7286732e-13 4.2516420e-12 5.2544349e-12 5.2658974e-14 3.9161652e-10\n",
      "  1.0000000e+00]\n",
      " [1.1396562e-01 3.0074838e-01 5.7013979e-04 1.7200664e-03 5.3336859e-01\n",
      "  4.9627118e-02]\n",
      " [1.8223908e-11 1.6077805e-09 9.9727008e-13 1.2990732e-13 3.9365240e-08\n",
      "  1.0000000e+00]]\n"
     ]
    }
   ],
   "source": [
    "# To use a specific Keras model name, specify parameter model_name='___insert model name here___'\n",
    "\n",
    "pred = pk.predict(valX, model_name='resnet_1f')\n",
    "\n",
    "print('Example prediction shape:',pred.shape)\n",
    "print()\n",
    "print('3 Example Outputs:\\n', pred[:3, :])"
   ]
  },
  {
   "cell_type": "code",
   "execution_count": 6,
   "metadata": {},
   "outputs": [
    {
     "data": {
      "text/plain": [
       "0.90397805"
      ]
     },
     "execution_count": 6,
     "metadata": {},
     "output_type": "execute_result"
    }
   ],
   "source": [
    "# Return the accuracy of the model that generated predicted values (pred) vs. true values (valY)\n",
    "pk.get_accuracy(valY, pred)"
   ]
  },
  {
   "cell_type": "code",
   "execution_count": 7,
   "metadata": {},
   "outputs": [
    {
     "data": {
      "text/plain": [
       "0.21847937"
      ]
     },
     "execution_count": 7,
     "metadata": {},
     "output_type": "execute_result"
    }
   ],
   "source": [
    "# Return the Cross Entropy of the model that generated predicted values (pred) vs. true values (valY)\n",
    "pk.get_crossentropy(valY, pred)"
   ]
  }
 ],
 "metadata": {
  "kernelspec": {
   "display_name": "Python 3",
   "language": "python",
   "name": "python3"
  },
  "language_info": {
   "codemirror_mode": {
    "name": "ipython",
    "version": 3
   },
   "file_extension": ".py",
   "mimetype": "text/x-python",
   "name": "python",
   "nbconvert_exporter": "python",
   "pygments_lexer": "ipython3",
   "version": "3.8.5"
  }
 },
 "nbformat": 4,
 "nbformat_minor": 4
}
