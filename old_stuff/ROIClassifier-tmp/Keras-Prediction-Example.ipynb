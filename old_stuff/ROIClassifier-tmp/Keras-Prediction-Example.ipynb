{
 "cells": [
  {
   "cell_type": "markdown",
   "metadata": {},
   "source": [
    "# Example Usage for predict_keras Module\n",
    "\n",
    "Contact Josh (Joshua_Zimmer@hms.harvard.edu) for assistance."
   ]
  },
  {
   "cell_type": "code",
   "execution_count": 1,
   "metadata": {},
   "outputs": [],
   "source": [
    "import numpy as np"
   ]
  },
  {
   "cell_type": "code",
   "execution_count": 2,
   "metadata": {},
   "outputs": [],
   "source": [
    "%load_ext autoreload\n",
    "%autoreload 2\n",
    "import predict_keras as pk"
   ]
  },
  {
   "cell_type": "code",
   "execution_count": 3,
   "metadata": {},
   "outputs": [],
   "source": [
    "valX = np.load('example_data_x.npy')\n",
    "valY = np.load('example_data_y.npy')"
   ]
  },
  {
   "cell_type": "code",
   "execution_count": 4,
   "metadata": {},
   "outputs": [
    {
     "name": "stdout",
     "output_type": "stream",
     "text": [
      "Example X shape: (1458, 1, 36, 36)\n",
      "Example Y shape: (1458,)\n"
     ]
    }
   ],
   "source": [
    "print('Example X shape:',valX.shape)\n",
    "print('Example Y shape:',valY.shape)"
   ]
  },
  {
   "cell_type": "code",
   "execution_count": 6,
   "metadata": {},
   "outputs": [
    {
     "name": "stdout",
     "output_type": "stream",
     "text": [
      "WARNING:tensorflow:SavedModel saved prior to TF 2.5 detected when loading Keras model. Please ensure that you are saving the model with model.save() or tf.keras.models.save_model(), *NOT* tf.saved_model.save(). To confirm, there should be a file named \"keras_metadata.pb\" in the SavedModel directory.\n",
      "Example prediction shape: (1458, 6)\n",
      "\n",
      "3 Example Outputs:\n",
      " [[3.72867346e-13 4.25165025e-12 5.25441496e-12 5.26589745e-14\n",
      "  3.91617266e-10 1.00000000e+00]\n",
      " [1.13965645e-01 3.00748408e-01 5.70139673e-04 1.72006700e-03\n",
      "  5.33368707e-01 4.96271066e-02]\n",
      " [1.82239068e-11 1.60777747e-09 9.97270083e-13 1.29907071e-13\n",
      "  3.93651689e-08 1.00000000e+00]]\n"
     ]
    }
   ],
   "source": [
    "# Get class predictions of valX (Assumes Batch Size x 1 x 36 x 36 dimensions)\n",
    "\n",
    "pred = pk.predict(valX)\n",
    "\n",
    "print('Example prediction shape:',pred.shape)\n",
    "print()\n",
    "print('3 Example Outputs:\\n', pred[:3, :])"
   ]
  },
  {
   "cell_type": "code",
   "execution_count": 7,
   "metadata": {},
   "outputs": [
    {
     "name": "stdout",
     "output_type": "stream",
     "text": [
      "WARNING:tensorflow:SavedModel saved prior to TF 2.5 detected when loading Keras model. Please ensure that you are saving the model with model.save() or tf.keras.models.save_model(), *NOT* tf.saved_model.save(). To confirm, there should be a file named \"keras_metadata.pb\" in the SavedModel directory.\n",
      "Example prediction shape: (1458, 6)\n",
      "\n",
      "3 Example Outputs:\n",
      " [[3.72867346e-13 4.25165025e-12 5.25441496e-12 5.26589745e-14\n",
      "  3.91617266e-10 1.00000000e+00]\n",
      " [1.13965645e-01 3.00748408e-01 5.70139673e-04 1.72006700e-03\n",
      "  5.33368707e-01 4.96271066e-02]\n",
      " [1.82239068e-11 1.60777747e-09 9.97270083e-13 1.29907071e-13\n",
      "  3.93651689e-08 1.00000000e+00]]\n"
     ]
    }
   ],
   "source": [
    "# To use a specific Keras model name, specify parameter model_name='___insert model name here___'\n",
    "\n",
    "pred = pk.predict(valX, model_name='resnet_1f')\n",
    "\n",
    "print('Example prediction shape:',pred.shape)\n",
    "print()\n",
    "print('3 Example Outputs:\\n', pred[:3, :])"
   ]
  },
  {
   "cell_type": "code",
   "execution_count": 6,
   "metadata": {},
   "outputs": [
    {
     "data": {
      "text/plain": [
       "0.90397805"
      ]
     },
     "execution_count": 6,
     "metadata": {},
     "output_type": "execute_result"
    }
   ],
   "source": [
    "# Return the accuracy of the model that generated predicted values (pred) vs. true values (valY)\n",
    "pk.get_accuracy(valY, pred)"
   ]
  },
  {
   "cell_type": "code",
   "execution_count": 7,
   "metadata": {},
   "outputs": [
    {
     "data": {
      "text/plain": [
       "0.21847937"
      ]
     },
     "execution_count": 7,
     "metadata": {},
     "output_type": "execute_result"
    }
   ],
   "source": [
    "# Return the Cross Entropy of the model that generated predicted values (pred) vs. true values (valY)\n",
    "pk.get_crossentropy(valY, pred)"
   ]
  },
  {
   "cell_type": "code",
   "execution_count": 8,
   "metadata": {},
   "outputs": [
    {
     "data": {
      "text/plain": [
       "(1458, 6)"
      ]
     },
     "execution_count": 8,
     "metadata": {},
     "output_type": "execute_result"
    }
   ],
   "source": [
    "pred.shape"
   ]
  }
 ],
 "metadata": {
  "kernelspec": {
   "display_name": "Python 3",
   "language": "python",
   "name": "python3"
  },
  "language_info": {
   "codemirror_mode": {
    "name": "ipython",
    "version": 3
   },
   "file_extension": ".py",
   "mimetype": "text/x-python",
   "name": "python",
   "nbconvert_exporter": "python",
   "pygments_lexer": "ipython3",
   "version": "3.9.5"
  }
 },
 "nbformat": 4,
 "nbformat_minor": 4
}
