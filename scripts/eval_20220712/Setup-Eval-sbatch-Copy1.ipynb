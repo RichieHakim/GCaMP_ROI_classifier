{
 "cells": [
  {
   "cell_type": "code",
   "execution_count": 1,
   "id": "790374a7",
   "metadata": {},
   "outputs": [
    {
     "data": {
      "text/html": [
       "<style>.container { width:95% !important; }</style>"
      ],
      "text/plain": [
       "<IPython.core.display.HTML object>"
      ]
     },
     "metadata": {},
     "output_type": "display_data"
    }
   ],
   "source": [
    "from IPython.display import display, HTML\n",
    "display(HTML(\"<style>.container { width:95% !important; }</style>\"))"
   ]
  },
  {
   "cell_type": "code",
   "execution_count": null,
   "id": "86bed698",
   "metadata": {},
   "outputs": [],
   "source": []
  },
  {
   "cell_type": "code",
   "execution_count": 2,
   "id": "0556db26",
   "metadata": {},
   "outputs": [
    {
     "name": "stdout",
     "output_type": "stream",
     "text": [
      "Submitted batch job 60239073\n"
     ]
    },
    {
     "name": "stderr",
     "output_type": "stream",
     "text": [
      "sbatch: Setting QOS to gpuquad_qos\n"
     ]
    },
    {
     "data": {
      "text/plain": [
       "0"
      ]
     },
     "execution_count": 2,
     "metadata": {},
     "output_type": "execute_result"
    }
   ],
   "source": [
    "import os\n",
    "import stat\n",
    "import glob\n",
    "from time import sleep\n",
    "from pathlib import Path\n",
    "\n",
    "dispatch_dir = '/n/data1/hms/neurobio/sabatini/josh/github_repos/GCaMP_ROI_classifier/scripts/eval_20220712/dispatcher.py'\n",
    "save_dir = '/n/data1/hms/neurobio/sabatini/josh/analysis/gce2'\n",
    "eval_param_py = '/n/data1/hms/neurobio/sabatini/josh/github_repos/GCaMP_ROI_classifier/scripts/eval_20220712/eval-params-sweep.py'\n",
    "mouse_stat_dir = '/n/data1/hms/neurobio/sabatini/josh/github_repos/GCaMP_ROI_classifier/data/training/mouse2_6__20210409'\n",
    "# param_sweep_dir = '/n/data1/hms/neurobio/sabatini/rich/analysis/ROI_net_training/20220511_SimCLR_penaltyOrth'\n",
    "\n",
    "python_params = []\n",
    "# sweep_folders = glob.glob('/n/data1/hms/neurobio/sabatini/josh/analysis/ROI_net_training/20220630*')\n",
    "# sweep_folders = glob.glob('/n/data1/hms/neurobio/sabatini/josh/analysis/ROI_net_training/20220713*')\n",
    "sweep_folders = glob.glob('/n/data1/hms/neurobio/sabatini/josh/analysis/ROI_net_training/20220713_SimCLR_revisedBaseline')\n",
    "\n",
    "\n",
    "for param_sweep_dir in sweep_folders:\n",
    "    slurm_name = param_sweep_dir.split('/')[-1]\n",
    "#     eval_dir = str(Path(save_dir) / slurm_name)\n",
    "#     print(eval_dir)\n",
    "#     print(\"....>\", dispatch_dir, save_dir, eval_param_py, eval_dir, \"job_name\", mouse_stat_dir, param_sweep_dir)\n",
    "#     run dispatch_dir, save_dir, eval_param_py, eval_dir, \"job_name\", mouse_stat_dir, param_sweep_dir\n",
    "#     !python3 $dispatch_dir $save_dir $eval_param_py $eval_dir \"job_name\" $mouse_stat_dir $param_sweep_dir\n",
    "#     os.system(exec_string)\n",
    "#     print(exec_string)\n",
    "#     print()\n",
    "    python_params.append(f\"python3 {dispatch_dir} {save_dir} {eval_param_py} {slurm_name} job_name {mouse_stat_dir} {param_sweep_dir}\")\n",
    "\n",
    "\n",
    "log_fn = 'eval.log'\n",
    "\n",
    "pp_str = '\\n'.join(python_params)\n",
    "exec_file = \\\n",
    "f\"\"\"#!/usr/bin/bash\n",
    "#SBATCH --job-name=eval_start\n",
    "#SBATCH --gres=gpu:rtx8000:1\n",
    "#SBATCH --partition=gpu_quad\n",
    "#SBATCH -c 1\n",
    "#SBATCH -n 1\n",
    "#SBATCH --mem=100GB\n",
    "#SBATCH --time=0-00:45:00\n",
    "unset XDG_RUNTIME_DIR\n",
    "cd /n/data1/hms/neurobio/sabatini/josh/analysis/gce2/\n",
    "date\n",
    "echo \"loading modules\"\n",
    "source /etc/profile.d/modules.sh\n",
    "echo \"activating environment\"\n",
    "source activate ROI_env\n",
    "echo \"starting job\"\n",
    "{pp_str}\n",
    "\"\"\"\n",
    "#module load gcc/9.2.0\n",
    "\n",
    "# print(exec_file)\n",
    "\n",
    "# exec_fn = str(Path(save_dir) / 'eval.sh')\n",
    "# with open(exec_fn, 'w') as sb:\n",
    "#     sb.write(exec_file)\n",
    "#     st = os.stat(exec_fn)\n",
    "#     os.chmod(exec_fn, st.st_mode | stat.S_IEXEC)\n",
    "\n",
    "\n",
    "# os.system(f'srun {exec_fn}')\n",
    "\n",
    "\n",
    "exec_fn = str(Path(save_dir) / 'eval.sh')\n",
    "with open(exec_fn, 'w') as sb:\n",
    "    sb.write(exec_file)\n",
    "    st = os.stat(exec_fn)\n",
    "    os.chmod(exec_fn, st.st_mode | stat.S_IEXEC)\n",
    "\n",
    "# os.system(f'srun -t 1 -p priority {exec_fn}')\n",
    "os.system(f'sbatch {exec_fn}')"
   ]
  },
  {
   "cell_type": "code",
   "execution_count": null,
   "id": "e46ebe6f",
   "metadata": {},
   "outputs": [],
   "source": []
  },
  {
   "cell_type": "code",
   "execution_count": null,
   "id": "26691885",
   "metadata": {},
   "outputs": [],
   "source": []
  },
  {
   "cell_type": "code",
   "execution_count": 3,
   "id": "1667ab8d",
   "metadata": {
    "scrolled": true
   },
   "outputs": [],
   "source": [
    "import glob\n",
    "sleep(1)\n",
    "for log in sorted(glob.glob('/n/data1/hms/neurobio/sabatini/josh/analysis/gce2/*/job_name*/*.log')):\n",
    "    print('log:', log)\n",
    "    print('----------')\n",
    "    with open(log, 'r') as logf:\n",
    "        log_str = logf.read()\n",
    "    if 'Incorrect' in log_str:\n",
    "        print(log_str)\n",
    "    print('==========')\n"
   ]
  },
  {
   "cell_type": "code",
   "execution_count": 4,
   "id": "5d041893",
   "metadata": {},
   "outputs": [],
   "source": [
    "import glob\n",
    "import shutil\n",
    "\n",
    "sleep(1)\n",
    "for report in sorted(glob.glob('/n/data1/hms/neurobio/sabatini/josh/analysis/gce2/*/job_name*/*.png')):\n",
    "    print('report:', report)\n",
    "    \n",
    "    output_setup = report.replace('/job_name0/', '/').replace('report_out_jobnum=', '').split('/gce2/')\n",
    "    output_name = output_setup[-1].replace('/', '-')\n",
    "    output_file = str(Path(output_setup[0]) / 'gce2' / 'final_reports' / output_name)\n",
    "#     print(output_file)\n",
    "    shutil.copyfile(report, output_file)"
   ]
  },
  {
   "cell_type": "code",
   "execution_count": 5,
   "id": "50e40fbb",
   "metadata": {},
   "outputs": [],
   "source": [
    "# import json\n",
    "\n",
    "# path_params = \n",
    "\n",
    "# with open(path_params, 'r') as f:\n",
    "#     params_eval = json.load(f)\n",
    "\n",
    "# input_dir = params_eval['input_dir']"
   ]
  },
  {
   "cell_type": "code",
   "execution_count": 6,
   "id": "de6509fc",
   "metadata": {},
   "outputs": [],
   "source": [
    "# sorted(glob.glob(str(Path(input_dir) / 'jobNum_*')))"
   ]
  },
  {
   "cell_type": "code",
   "execution_count": null,
   "id": "6605e4f0",
   "metadata": {},
   "outputs": [],
   "source": []
  },
  {
   "cell_type": "code",
   "execution_count": null,
   "id": "c8aca4dc",
   "metadata": {},
   "outputs": [],
   "source": []
  },
  {
   "cell_type": "code",
   "execution_count": null,
   "id": "acdbd980",
   "metadata": {},
   "outputs": [],
   "source": []
  },
  {
   "cell_type": "code",
   "execution_count": null,
   "id": "28e2e1b3",
   "metadata": {},
   "outputs": [],
   "source": []
  },
  {
   "cell_type": "code",
   "execution_count": null,
   "id": "54ac0a11",
   "metadata": {},
   "outputs": [],
   "source": []
  }
 ],
 "metadata": {
  "kernelspec": {
   "display_name": "Python 3",
   "language": "python",
   "name": "python3"
  },
  "language_info": {
   "codemirror_mode": {
    "name": "ipython",
    "version": 3
   },
   "file_extension": ".py",
   "mimetype": "text/x-python",
   "name": "python",
   "nbconvert_exporter": "python",
   "pygments_lexer": "ipython3",
   "version": "3.8.12"
  },
  "varInspector": {
   "cols": {
    "lenName": 16,
    "lenType": 16,
    "lenVar": 40
   },
   "kernels_config": {
    "python": {
     "delete_cmd_postfix": "",
     "delete_cmd_prefix": "del ",
     "library": "var_list.py",
     "varRefreshCmd": "print(var_dic_list())"
    },
    "r": {
     "delete_cmd_postfix": ") ",
     "delete_cmd_prefix": "rm(",
     "library": "var_list.r",
     "varRefreshCmd": "cat(var_dic_list()) "
    }
   },
   "types_to_exclude": [
    "module",
    "function",
    "builtin_function_or_method",
    "instance",
    "_Feature"
   ],
   "window_display": false
  }
 },
 "nbformat": 4,
 "nbformat_minor": 5
}
